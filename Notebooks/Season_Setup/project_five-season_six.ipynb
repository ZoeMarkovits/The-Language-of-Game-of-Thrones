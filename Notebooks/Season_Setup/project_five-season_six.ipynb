{
 "cells": [
  {
   "cell_type": "markdown",
   "metadata": {},
   "source": [
    "# Project Five \n",
    "# Game of Thrones - Season Six"
   ]
  },
  {
   "cell_type": "markdown",
   "metadata": {},
   "source": [
    "## Importing and Cleaning"
   ]
  },
  {
   "cell_type": "code",
   "execution_count": 1,
   "metadata": {},
   "outputs": [
    {
     "name": "stderr",
     "output_type": "stream",
     "text": [
      "Using Theano backend.\n"
     ]
    }
   ],
   "source": [
    "import numpy as np\n",
    "import pandas as pd\n",
    "import nltk\n",
    "from nltk.tag import pos_tag\n",
    "from nltk.tokenize import word_tokenize\n",
    "from nltk.tokenize import sent_tokenize\n",
    "from textblob import TextBlob\n",
    "from nltk.corpus import stopwords\n",
    "from sklearn.feature_extraction.text import TfidfVectorizer, CountVectorizer\n",
    "from sklearn.decomposition import NMF, LatentDirichletAllocation\n",
    "import gensim\n",
    "from nltk.tag import pos_tag\n",
    "import re"
   ]
  },
  {
   "cell_type": "code",
   "execution_count": 2,
   "metadata": {
    "collapsed": true
   },
   "outputs": [],
   "source": [
    "pd.set_option('display.max_columns', 135)\n",
    "pd.set_option('display.max_rows', 135)"
   ]
  },
  {
   "cell_type": "code",
   "execution_count": 3,
   "metadata": {
    "collapsed": true
   },
   "outputs": [],
   "source": [
    "df_s6 = pd.read_json('/Users/zoemarkovits/Metis/project_five_got/scrape/season_six.json')"
   ]
  },
  {
   "cell_type": "code",
   "execution_count": 4,
   "metadata": {
    "scrolled": false
   },
   "outputs": [
    {
     "data": {
      "text/html": [
       "<div>\n",
       "<table border=\"1\" class=\"dataframe\">\n",
       "  <thead>\n",
       "    <tr style=\"text-align: right;\">\n",
       "      <th></th>\n",
       "      <th>title</th>\n",
       "      <th>script_text</th>\n",
       "    </tr>\n",
       "  </thead>\n",
       "  <tbody>\n",
       "    <tr>\n",
       "      <th>0</th>\n",
       "      <td>[The Red Woman (Script)]</td>\n",
       "      <td>[\\n, \\n, CUT TO: CASTLE BLACK - DAVOS’ CHAMBER...</td>\n",
       "    </tr>\n",
       "    <tr>\n",
       "      <th>1</th>\n",
       "      <td>[Home (Script)]</td>\n",
       "      <td>[INT. GREAT WEIRWOOD TREE - CAVE, \\n, \\n, \\n, ...</td>\n",
       "    </tr>\n",
       "    <tr>\n",
       "      <th>2</th>\n",
       "      <td>[Oathbreaker (Script)]</td>\n",
       "      <td>[\\n, \\nDAVOS: Easy, easy,  Easy, \\n, \\n, \\n, \\...</td>\n",
       "    </tr>\n",
       "    <tr>\n",
       "      <th>3</th>\n",
       "      <td>[Book of the Stranger (Script)]</td>\n",
       "      <td>[INT. CASTLE BLACK - JON SNOW’S ROOM, \\n, \\n, ...</td>\n",
       "    </tr>\n",
       "    <tr>\n",
       "      <th>4</th>\n",
       "      <td>[The Door (Script)]</td>\n",
       "      <td>[INT. CASTLE BLACK - SANSA’S ROOM, \\n, \\n, \\n,...</td>\n",
       "    </tr>\n",
       "    <tr>\n",
       "      <th>5</th>\n",
       "      <td>[Blood of My Blood (Script)]</td>\n",
       "      <td>[\\n, \\nBRAN: Meera. They found us., \\n, \\n, \\n...</td>\n",
       "    </tr>\n",
       "    <tr>\n",
       "      <th>6</th>\n",
       "      <td>[The Broken Man (Script)]</td>\n",
       "      <td>[\\n, \\nMAN: That’s it. Get it to the top., \\n,...</td>\n",
       "    </tr>\n",
       "    <tr>\n",
       "      <th>7</th>\n",
       "      <td>[No One (Script)]</td>\n",
       "      <td>[ The Bloody Hand. , \\n, \\nLADY CRANE: My son....</td>\n",
       "    </tr>\n",
       "    <tr>\n",
       "      <th>8</th>\n",
       "      <td>[Battle of the Bastards (Script)]</td>\n",
       "      <td>[\\n, \\nTYRION: Despite appearances, I think yo...</td>\n",
       "    </tr>\n",
       "    <tr>\n",
       "      <th>9</th>\n",
       "      <td>[The Winds of Winter (Script)]</td>\n",
       "      <td>[\\n, \\n, CUT TO: RED KEEP - TOMMEN’S CHAMBER, ...</td>\n",
       "    </tr>\n",
       "  </tbody>\n",
       "</table>\n",
       "</div>"
      ],
      "text/plain": [
       "                               title  \\\n",
       "0           [The Red Woman (Script)]   \n",
       "1                    [Home (Script)]   \n",
       "2             [Oathbreaker (Script)]   \n",
       "3    [Book of the Stranger (Script)]   \n",
       "4                [The Door (Script)]   \n",
       "5       [Blood of My Blood (Script)]   \n",
       "6          [The Broken Man (Script)]   \n",
       "7                  [No One (Script)]   \n",
       "8  [Battle of the Bastards (Script)]   \n",
       "9     [The Winds of Winter (Script)]   \n",
       "\n",
       "                                         script_text  \n",
       "0  [\\n, \\n, CUT TO: CASTLE BLACK - DAVOS’ CHAMBER...  \n",
       "1  [INT. GREAT WEIRWOOD TREE - CAVE, \\n, \\n, \\n, ...  \n",
       "2  [\\n, \\nDAVOS: Easy, easy,  Easy, \\n, \\n, \\n, \\...  \n",
       "3  [INT. CASTLE BLACK - JON SNOW’S ROOM, \\n, \\n, ...  \n",
       "4  [INT. CASTLE BLACK - SANSA’S ROOM, \\n, \\n, \\n,...  \n",
       "5  [\\n, \\nBRAN: Meera. They found us., \\n, \\n, \\n...  \n",
       "6  [\\n, \\nMAN: That’s it. Get it to the top., \\n,...  \n",
       "7  [ The Bloody Hand. , \\n, \\nLADY CRANE: My son....  \n",
       "8  [\\n, \\nTYRION: Despite appearances, I think yo...  \n",
       "9  [\\n, \\n, CUT TO: RED KEEP - TOMMEN’S CHAMBER, ...  "
      ]
     },
     "execution_count": 4,
     "metadata": {},
     "output_type": "execute_result"
    }
   ],
   "source": [
    "df_s6[['title','script_text']]"
   ]
  },
  {
   "cell_type": "code",
   "execution_count": 5,
   "metadata": {
    "collapsed": true
   },
   "outputs": [],
   "source": [
    "df_s6['title'] = df_s6['title'].map(lambda x: str(x)[3:-11])"
   ]
  },
  {
   "cell_type": "code",
   "execution_count": 6,
   "metadata": {
    "scrolled": true
   },
   "outputs": [
    {
     "data": {
      "text/plain": [
       "0             The Red Woman\n",
       "1                      Home\n",
       "2               Oathbreaker\n",
       "3      Book of the Stranger\n",
       "4                  The Door\n",
       "5         Blood of My Blood\n",
       "6            The Broken Man\n",
       "7                    No One\n",
       "8    Battle of the Bastards\n",
       "9       The Winds of Winter\n",
       "Name: title, dtype: object"
      ]
     },
     "execution_count": 6,
     "metadata": {},
     "output_type": "execute_result"
    }
   ],
   "source": [
    "df_s6.title"
   ]
  },
  {
   "cell_type": "code",
   "execution_count": 7,
   "metadata": {
    "collapsed": true
   },
   "outputs": [],
   "source": [
    "names6_01 = ['NIGHT’S WATCHMAN','DAVOS','DOLOROUS EDD','MELISANDRE','MALE VOICE #1','MALE VOICE #2','ALLISER THORNE',\n",
    "             'NIGHT’S WATCHMEN #1','NIGHT’S WATCHMEN #2','RAMSAY','MAESTER WOLKAN','ROOSE','THEON','SANSA',\n",
    "             'BOLTON OFFICER','BRIENNE','PODRICK','HANDMAIDEN','CERSEI','JAIME','SEPTA UNELLA','MARGAERY',\n",
    "             'HIGH SPARROW','DORAN','ELLARIA','MAESTER','TRYSTANE','OBARA','NYMERIA','TYRION','VARYS','RED PRIEST',\n",
    "             'DAARIO','JORAH','BLOODRIDER #1','BLOODRIDER #2','WIFE #1','WIFE #2','KHAL MORO','BLOODRIDER #3',\n",
    "             'BLOODRIDER #4','DAENERYS','ARYA','WAIF','NIGHT’S WATCHMAN #1','NIGHT’S WATCHMAN #2']\n",
    "\n",
    "names6_02 = ['YOUNG RODRICK','BRAN','YOUNG NED','THREE-EYED RAVEN','YOUNG BENJEN','YOUNG LYANNA','YOUNG HODOR','NAN',\n",
    "             'HODOR','MEERA','CHILD OF THE FOREST','ALLISER THORNE','DAVOS','DOLOROUS EDD','TORMUND','STORYTELLER',\n",
    "             'CERSEI','KING’S SOLDIER','TOMMEN','JAIME','HIGH SPARROW','TYRION','VARYS','GREY WORM','MISSANDEI',\n",
    "             'WAIF','ARYA','JAQEN','LORD KARSTARK','ROOSE','RAMSAY','MAESTER WOLKAN','LADY WALDA','RAMSEY','BRIENNE',\n",
    "             'SANSA','THEON','YARA','BALON','HOODED FIGURE','EURON','AERON','ALL','MELISANDRE']\n",
    "\n",
    "names6_03 = ['DAVOS','JON SNOW','MELISANDRE','TORMUND','DOLOROUS EDD','GILLY','SAMWELL','BRAN','THREE-EYED RAVEN',\n",
    "             'ARTHUR','NED','BLOODRIDER','DAENERYS','KHAL MORO','DOTHRAKI WOMAN','DOTHRAKI MATRON','VARYS','WOMAN',\n",
    "             'VALA','TYRION','GREY WORM','MISSANDEI','QYBURN','ARTHUR','LITTLE BIRD','CERSEI','JAIME',\n",
    "             'MAESTER PYCELLE','KEVAN','MACE TYRELL','LADY OLENNA','HIGH SPARROW','TOMMEN','WAIF','ARYA','JAQEN',\n",
    "             'RAMSAY','LORD KARSTARK','SMALLJON','BOWEN MARSH','OTHELL YARWICK','ALLISER THRONE']\n",
    "\n",
    "names6_04 = ['DOLOROUS EDD','JON SNOW','MAN','MAN #2','SANSA','DAVOS','MELISANDRE','BRIENNE','LITTLEFINGER','ROBIN',\n",
    "             'YOHN ROYCE','TYRION','GREY WORM','MISSANDEI','YEZZAN','RAZDAL','BELICHO','MAN #1','MAN #2','DAARIO',\n",
    "             'JORAH','DOTHRAKI #1','LEADER','LHAZAREEN WOMAN','DAENERYS','HIGH SPARROW','MARGAERY','LORAS',\n",
    "             'MAESTER PYCELLE','CERSEI','TOMMEN','LADY OLENNA','JAIME','KEVAN','YARA','THEON','RAMSAY','OSHA','MAN',\n",
    "             'TORMUND','KHAL MORO','KHAL #1','KHAL #2','KHAL #3','KHAL #4']\n",
    "\n",
    "names6_05 = ['SANSA','MAN','LITTLEFINGER','BRIENNE','WAIF','ARYA','JAQEN','IZEMBARO','CLARENZO','LADYC RANE',\n",
    "             'CAMELLO','BOBONO','LADY CRANE','BIANCA','BRAN','LEAF','AERON','YARA','MAN #1','ALL','MAN #2','THEON',\n",
    "             'EURON','AERSON','DAENERYS','JORAH','VARYS','GREY WORM','TYRION','MISSANDEI','KINVARA',\n",
    "             'THREE-EYED RAVEN','MEERA','HODOR','DAVOS','JON SNOW','DOLOROUS EDD','RICKARD','YOUNG NED','NAN',\n",
    "             'YOUNG HODOR']\n",
    "\n",
    "names6_06 = ['BRAN','MEERA','RIDER','GILLY','SAM','MELESSA','TALLA','TOMMEN','HIGH SPARROW','MARGAERY','DICKON',\n",
    "             'RANDYLL','CLARENZO','ALL','BOBONO','LADY CRANE','IZEMBARO','CAMELLO','ARYA','BIANCA','WAIF','JAQEN',\n",
    "             'MACE','JAIME','CAPTAIN','WOMAN','OLENNA','WALDER','BLACK WALDER','LOTHAR','CERSEI','BENJEN','DAARIO',\n",
    "             'DAENERYS']\n",
    "\n",
    "names6_07 = ['MAN','MAN #2','RAY','SANDOR','HIGH SPARROW','MARGAERY','OLENNA','DIM DALBA','TORMUND','JON SNOW',\n",
    "             'WUN WUN','CERSEI','BRONN','JAIME','LOTHAR','BLACK WALDER','BRYNDEN','LYANNA','SANSA','DAVOS','ROBETT',\n",
    "             'THEON','YARA','LEM','ARYA','WOMAN']\n",
    "\n",
    "names6_08 = ['LADY CRANE','ARYA','MAN','GATINS','YOUNG MAN','YOUNG MAN #2','SANDOR','RED PRIESTESS','TYRION','VARYS',\n",
    "             'QYBURN','CERSEI','LANCEL','PODRICK','BRIENNE','BRONN','JAIME','BRYNDEN','KEVAN','TOMMEN','CROWD',\n",
    "             'MISSANDEI','GREY WORM','EDMURE','GUARD CAPTAIN','GUARD','BLACK WALDER','BERIC','THOROS','SANDOR',\n",
    "             'LEM','WAIF','JAQEN']\n",
    "\n",
    "names6_09 = ['TYRION','DAENERYS','RAZDAL','YEZZAN','GREY WORM','MISSANDEI','BELICHO','JON SNOW','SANSA','RAMSAY',\n",
    "             'DAVOS','TORMUND','MELISANDRE','THEON','YARA','KARSTARK','SMALLJON','ALL','MAN','MAN #2']\n",
    "\n",
    "names6_10 = ['ATTENDANT','MISTRESS','PYCELLE','GIRL','HIGH SPARROW','LORAS','MACE','MARGAERY','TOMMEN','LANCEL',\n",
    "             'QYBURN','CERSEI','SEPTA UNELLA','WALDER','MEN','BRONN','JAIME','SAM','MAESTER','JON SNOW','MELISANDRE',\n",
    "             'DAVOS','SANSA','OLENNA','ELLARIA','OBARA','NYMERIA','VARYS','DAARIO','DAENERYS','TYRION','HANDMAIDEN',\n",
    "             'ARYA','PETYR','BENJEN','MEERA','BRAN','LYANNA','NED','VALE KNIGHT','TORMUND','MAN','MANDERLY','GLOVER',\n",
    "             'ALL']"
   ]
  },
  {
   "cell_type": "markdown",
   "metadata": {},
   "source": [
    "### Episode One"
   ]
  },
  {
   "cell_type": "code",
   "execution_count": 8,
   "metadata": {
    "scrolled": true
   },
   "outputs": [],
   "source": [
    "#df_s6.script_text[0]"
   ]
  },
  {
   "cell_type": "code",
   "execution_count": 9,
   "metadata": {},
   "outputs": [
    {
     "name": "stdout",
     "output_type": "stream",
     "text": [
      "<type 'list'>\n"
     ]
    }
   ],
   "source": [
    "script_text6_01 = df_s6.script_text[0]\n",
    "print type(script_text6_01)\n",
    "\n",
    "#script_text6_01"
   ]
  },
  {
   "cell_type": "code",
   "execution_count": 10,
   "metadata": {
    "scrolled": true
   },
   "outputs": [],
   "source": [
    "script_split = [i.split('\\n') for i in script_text6_01]\n",
    "#script_split"
   ]
  },
  {
   "cell_type": "code",
   "execution_count": 11,
   "metadata": {
    "collapsed": true
   },
   "outputs": [],
   "source": [
    "string_script_text = ' '\n",
    "\n",
    "for i in script_split:\n",
    "    for e in i:\n",
    "        string_script_text = string_script_text + ' ' + e"
   ]
  },
  {
   "cell_type": "code",
   "execution_count": 12,
   "metadata": {},
   "outputs": [],
   "source": [
    "#string_script_text"
   ]
  },
  {
   "cell_type": "code",
   "execution_count": 13,
   "metadata": {},
   "outputs": [],
   "source": [
    "words = word_tokenize(string_script_text)\n",
    "#words"
   ]
  },
  {
   "cell_type": "code",
   "execution_count": 14,
   "metadata": {
    "scrolled": true
   },
   "outputs": [],
   "source": [
    "sentences = sent_tokenize(string_script_text)\n",
    "#sentences"
   ]
  },
  {
   "cell_type": "code",
   "execution_count": 15,
   "metadata": {},
   "outputs": [
    {
     "name": "stderr",
     "output_type": "stream",
     "text": [
      "/Users/zoemarkovits/anaconda/lib/python2.7/site-packages/ipykernel_launcher.py:4: UnicodeWarning: Unicode equal comparison failed to convert both arguments to Unicode - interpreting them as being unequal\n",
      "  after removing the cwd from sys.path.\n"
     ]
    }
   ],
   "source": [
    "dialogue = []\n",
    "\n",
    "for sentence in sentences:\n",
    "    if sentence.split(':')[0] in (names6_01):\n",
    "        dialogue.append(sentence)"
   ]
  },
  {
   "cell_type": "code",
   "execution_count": 16,
   "metadata": {
    "scrolled": true
   },
   "outputs": [],
   "source": [
    "#dialogue"
   ]
  },
  {
   "cell_type": "code",
   "execution_count": 17,
   "metadata": {
    "collapsed": true
   },
   "outputs": [],
   "source": [
    "import pickle\n",
    "with open('/Users/zoemarkovits/Metis/project_five_got/Dialogue_PKLs/s601.pkl', 'wb') as f:\n",
    "    pickle.dump(dialogue, f)"
   ]
  },
  {
   "cell_type": "code",
   "execution_count": 18,
   "metadata": {
    "scrolled": true
   },
   "outputs": [],
   "source": [
    "from collections import defaultdict\n",
    "\n",
    "speakers = defaultdict(list)\n",
    "for sentence in dialogue:\n",
    "    speakers[sentence.split(':')[0]].append(sentence.split(':')[1])\n",
    "\n",
    "#speakers"
   ]
  },
  {
   "cell_type": "code",
   "execution_count": 19,
   "metadata": {},
   "outputs": [
    {
     "data": {
      "text/plain": [
       "[u' Help me get him inside         CUT TO',\n",
       " u' We need all the help we can get        MELISANDRE (O.S.',\n",
       " u' You\\u2019re not the only ones who owe your lives to Jon Snow        DOLOROUS EDD',\n",
       " u' I\\u2019m not much of a hunter  I\\u2019ll need some food if I\\u2019m gonna make it south without starving    ALLISER THORNE',\n",
       " u' You haven\\u2019t seen her do what I\\u2019ve seen her do     CUT TO']"
      ]
     },
     "execution_count": 19,
     "metadata": {},
     "output_type": "execute_result"
    }
   ],
   "source": [
    "speakers['DAVOS']"
   ]
  },
  {
   "cell_type": "code",
   "execution_count": 20,
   "metadata": {
    "scrolled": true
   },
   "outputs": [
    {
     "name": "stdout",
     "output_type": "stream",
     "text": [
      "(24, 6)\n"
     ]
    }
   ],
   "source": [
    "episode_one = pd.DataFrame.from_dict(speakers, orient=\"index\")\n",
    "print episode_one.shape"
   ]
  },
  {
   "cell_type": "code",
   "execution_count": 21,
   "metadata": {
    "collapsed": true
   },
   "outputs": [],
   "source": [
    "#from numpy import nan\n",
    "#episode_one.fillna(value=str(0), inplace=True)"
   ]
  },
  {
   "cell_type": "code",
   "execution_count": 30,
   "metadata": {
    "scrolled": true
   },
   "outputs": [],
   "source": [
    "#episode_one.info()"
   ]
  },
  {
   "cell_type": "code",
   "execution_count": 31,
   "metadata": {},
   "outputs": [],
   "source": [
    "#episode_one.head()"
   ]
  },
  {
   "cell_type": "code",
   "execution_count": 24,
   "metadata": {
    "collapsed": true
   },
   "outputs": [],
   "source": [
    "def remove_stops(sentence):\n",
    "    characters = ['?','!','.',',',':',';']\n",
    "    stoplist = stopwords.words('english') + characters\n",
    "    try: \n",
    "        new_sentence = re.sub(r'[^a-zA-Z ]','', sentence)\n",
    "        new_sentence = new_sentence.lower()\n",
    "        new_sentence = new_sentence.split()\n",
    "        new_sentence = [word for word in new_sentence if word not in stoplist]\n",
    "        new_sentence = ' '.join(new_sentence)\n",
    "        return new_sentence\n",
    "    except:\n",
    "        return sentence   "
   ]
  },
  {
   "cell_type": "code",
   "execution_count": 25,
   "metadata": {
    "scrolled": true
   },
   "outputs": [],
   "source": [
    "test = episode_one[0].apply(remove_stops)\n",
    "#test"
   ]
  },
  {
   "cell_type": "code",
   "execution_count": 26,
   "metadata": {
    "collapsed": true,
    "scrolled": false
   },
   "outputs": [],
   "source": [
    "for column in episode_one.columns:\n",
    "    for x in range(len(episode_one[column])):\n",
    "        episode_one[column][x] = remove_stops(episode_one[column][x])"
   ]
  },
  {
   "cell_type": "code",
   "execution_count": 27,
   "metadata": {
    "scrolled": false
   },
   "outputs": [],
   "source": [
    "#episode_one.info()"
   ]
  },
  {
   "cell_type": "code",
   "execution_count": 28,
   "metadata": {
    "collapsed": true
   },
   "outputs": [],
   "source": [
    "episode_one.index = episode_one.index.str.title()"
   ]
  },
  {
   "cell_type": "code",
   "execution_count": 29,
   "metadata": {
    "scrolled": false
   },
   "outputs": [
    {
     "data": {
      "text/html": [
       "<div>\n",
       "<table border=\"1\" class=\"dataframe\">\n",
       "  <thead>\n",
       "    <tr style=\"text-align: right;\">\n",
       "      <th></th>\n",
       "      <th>0</th>\n",
       "      <th>1</th>\n",
       "      <th>2</th>\n",
       "      <th>3</th>\n",
       "      <th>4</th>\n",
       "      <th>5</th>\n",
       "    </tr>\n",
       "  </thead>\n",
       "  <tbody>\n",
       "    <tr>\n",
       "      <th>Davos</th>\n",
       "      <td>help get inside cut</td>\n",
       "      <td>need help get melisandre os</td>\n",
       "      <td>youre ones owe lives jon snow dolorous edd</td>\n",
       "      <td>im much hunter ill need food im gonna make sou...</td>\n",
       "      <td>havent seen ive seen cut</td>\n",
       "      <td>None</td>\n",
       "    </tr>\n",
       "    <tr>\n",
       "      <th>Male Voice #2</th>\n",
       "      <td>never</td>\n",
       "      <td>None</td>\n",
       "      <td>None</td>\n",
       "      <td>None</td>\n",
       "      <td>None</td>\n",
       "      <td>None</td>\n",
       "    </tr>\n",
       "    <tr>\n",
       "      <th>Jaime</th>\n",
       "      <td>mother cersei</td>\n",
       "      <td>None</td>\n",
       "      <td>None</td>\n",
       "      <td>None</td>\n",
       "      <td>None</td>\n",
       "      <td>None</td>\n",
       "    </tr>\n",
       "    <tr>\n",
       "      <th>Tyrion</th>\n",
       "      <td>never going fix whats wrong city top foot pyra...</td>\n",
       "      <td>hard know queen popular meereen used varys</td>\n",
       "      <td>possibly daenerys targaryen took away valuable...</td>\n",
       "      <td>problem tyrion</td>\n",
       "      <td>None</td>\n",
       "      <td>None</td>\n",
       "    </tr>\n",
       "    <tr>\n",
       "      <th>Wife #1</th>\n",
       "      <td>told witch cut head khal moro</td>\n",
       "      <td>None</td>\n",
       "      <td>None</td>\n",
       "      <td>None</td>\n",
       "      <td>None</td>\n",
       "      <td>None</td>\n",
       "    </tr>\n",
       "  </tbody>\n",
       "</table>\n",
       "</div>"
      ],
      "text/plain": [
       "                                                               0  \\\n",
       "Davos                                        help get inside cut   \n",
       "Male Voice #2                                              never   \n",
       "Jaime                                              mother cersei   \n",
       "Tyrion         never going fix whats wrong city top foot pyra...   \n",
       "Wife #1                            told witch cut head khal moro   \n",
       "\n",
       "                                                        1  \\\n",
       "Davos                         need help get melisandre os   \n",
       "Male Voice #2                                        None   \n",
       "Jaime                                                None   \n",
       "Tyrion         hard know queen popular meereen used varys   \n",
       "Wife #1                                              None   \n",
       "\n",
       "                                                               2  \\\n",
       "Davos                 youre ones owe lives jon snow dolorous edd   \n",
       "Male Voice #2                                               None   \n",
       "Jaime                                                       None   \n",
       "Tyrion         possibly daenerys targaryen took away valuable...   \n",
       "Wife #1                                                     None   \n",
       "\n",
       "                                                               3  \\\n",
       "Davos          im much hunter ill need food im gonna make sou...   \n",
       "Male Voice #2                                               None   \n",
       "Jaime                                                       None   \n",
       "Tyrion                                            problem tyrion   \n",
       "Wife #1                                                     None   \n",
       "\n",
       "                                      4     5  \n",
       "Davos          havent seen ive seen cut  None  \n",
       "Male Voice #2                      None  None  \n",
       "Jaime                              None  None  \n",
       "Tyrion                             None  None  \n",
       "Wife #1                            None  None  "
      ]
     },
     "execution_count": 29,
     "metadata": {},
     "output_type": "execute_result"
    }
   ],
   "source": [
    "episode_one.head()"
   ]
  },
  {
   "cell_type": "markdown",
   "metadata": {},
   "source": [
    "### Episode Two"
   ]
  },
  {
   "cell_type": "code",
   "execution_count": 32,
   "metadata": {
    "scrolled": true
   },
   "outputs": [],
   "source": [
    "#df_s6.script_text[1]"
   ]
  },
  {
   "cell_type": "code",
   "execution_count": 33,
   "metadata": {},
   "outputs": [
    {
     "name": "stdout",
     "output_type": "stream",
     "text": [
      "<type 'list'>\n"
     ]
    }
   ],
   "source": [
    "script_text6_02 = df_s6.script_text[1]\n",
    "print type(script_text6_02)\n",
    "\n",
    "#script_text6_02"
   ]
  },
  {
   "cell_type": "code",
   "execution_count": 34,
   "metadata": {
    "scrolled": true
   },
   "outputs": [],
   "source": [
    "script_split2 = [i.split('\\n') for i in script_text6_02]\n",
    "#script_split2"
   ]
  },
  {
   "cell_type": "code",
   "execution_count": 35,
   "metadata": {
    "collapsed": true
   },
   "outputs": [],
   "source": [
    "string_script_text2 = ' '\n",
    "\n",
    "for i in script_split2:\n",
    "    for e in i:\n",
    "        string_script_text2 = string_script_text2 + ' ' + e"
   ]
  },
  {
   "cell_type": "code",
   "execution_count": 36,
   "metadata": {},
   "outputs": [],
   "source": [
    "#string_script_text2"
   ]
  },
  {
   "cell_type": "code",
   "execution_count": 37,
   "metadata": {},
   "outputs": [],
   "source": [
    "words2 = word_tokenize(string_script_text2)\n",
    "#words2"
   ]
  },
  {
   "cell_type": "code",
   "execution_count": 38,
   "metadata": {},
   "outputs": [],
   "source": [
    "sentences2 = sent_tokenize(string_script_text2)\n",
    "#sentences2"
   ]
  },
  {
   "cell_type": "code",
   "execution_count": 39,
   "metadata": {
    "scrolled": false
   },
   "outputs": [
    {
     "name": "stderr",
     "output_type": "stream",
     "text": [
      "/Users/zoemarkovits/anaconda/lib/python2.7/site-packages/ipykernel_launcher.py:6: UnicodeWarning: Unicode equal comparison failed to convert both arguments to Unicode - interpreting them as being unequal\n",
      "  \n"
     ]
    }
   ],
   "source": [
    "dialogue2 = []\n",
    "\n",
    "for sentence in sentences2:\n",
    "    words=sentence.split(':')[0]\n",
    "    if len(words.split())<=2:\n",
    "        if words in (names6_02):\n",
    "            dialogue2.append(sentence)"
   ]
  },
  {
   "cell_type": "code",
   "execution_count": 40,
   "metadata": {
    "scrolled": true
   },
   "outputs": [],
   "source": [
    "#dialogue2"
   ]
  },
  {
   "cell_type": "code",
   "execution_count": 41,
   "metadata": {
    "collapsed": true
   },
   "outputs": [],
   "source": [
    "import pickle\n",
    "with open('/Users/zoemarkovits/Metis/project_five_got/Dialogue_PKLs/s602.pkl', 'wb') as f:\n",
    "    pickle.dump(dialogue2, f)"
   ]
  },
  {
   "cell_type": "code",
   "execution_count": 42,
   "metadata": {
    "scrolled": true
   },
   "outputs": [],
   "source": [
    "from collections import defaultdict\n",
    "\n",
    "speakers2 = defaultdict(list)\n",
    "for sentence in dialogue2:\n",
    "    speakers2[sentence.split(':')[0]].append(sentence.split(':')[1])\n",
    "\n",
    "#speakers2"
   ]
  },
  {
   "cell_type": "code",
   "execution_count": 43,
   "metadata": {
    "scrolled": true
   },
   "outputs": [
    {
     "data": {
      "text/plain": [
       "[u' Dragons do not do well in captivity    MISSANDEI',\n",
       " u' That\\u2019s what I do  I drink and I know things        TYRION',\n",
       " u' They will  It\\u2019s time they had their supper     CUT TO']"
      ]
     },
     "execution_count": 43,
     "metadata": {},
     "output_type": "execute_result"
    }
   ],
   "source": [
    "speakers2['TYRION']"
   ]
  },
  {
   "cell_type": "code",
   "execution_count": 44,
   "metadata": {
    "scrolled": true
   },
   "outputs": [
    {
     "name": "stdout",
     "output_type": "stream",
     "text": [
      "(19, 4)\n"
     ]
    }
   ],
   "source": [
    "episode_two = pd.DataFrame.from_dict(speakers2, orient=\"index\")\n",
    "print episode_two.shape"
   ]
  },
  {
   "cell_type": "code",
   "execution_count": 45,
   "metadata": {
    "collapsed": true
   },
   "outputs": [],
   "source": [
    "#from numpy import nan\n",
    "#episode_two.fillna(value=str(0), inplace=True)"
   ]
  },
  {
   "cell_type": "code",
   "execution_count": 46,
   "metadata": {
    "scrolled": true
   },
   "outputs": [],
   "source": [
    "#episode_two.info()"
   ]
  },
  {
   "cell_type": "code",
   "execution_count": 47,
   "metadata": {},
   "outputs": [],
   "source": [
    "#episode_two.head()"
   ]
  },
  {
   "cell_type": "code",
   "execution_count": 48,
   "metadata": {
    "scrolled": true
   },
   "outputs": [],
   "source": [
    "test2 = episode_two[0].apply(remove_stops)\n",
    "#test2"
   ]
  },
  {
   "cell_type": "code",
   "execution_count": 49,
   "metadata": {
    "collapsed": true,
    "scrolled": false
   },
   "outputs": [],
   "source": [
    "for column in episode_two.columns:\n",
    "    for x in range(len(episode_two[column])):\n",
    "        episode_two[column][x] = remove_stops(episode_two[column][x])"
   ]
  },
  {
   "cell_type": "code",
   "execution_count": 50,
   "metadata": {
    "scrolled": false
   },
   "outputs": [],
   "source": [
    "#episode_two.info()"
   ]
  },
  {
   "cell_type": "code",
   "execution_count": 51,
   "metadata": {
    "collapsed": true
   },
   "outputs": [],
   "source": [
    "episode_two.index = episode_two.index.str.title()"
   ]
  },
  {
   "cell_type": "code",
   "execution_count": 52,
   "metadata": {
    "scrolled": true
   },
   "outputs": [
    {
     "data": {
      "text/html": [
       "<div>\n",
       "<table border=\"1\" class=\"dataframe\">\n",
       "  <thead>\n",
       "    <tr style=\"text-align: right;\">\n",
       "      <th></th>\n",
       "      <th>0</th>\n",
       "      <th>1</th>\n",
       "      <th>2</th>\n",
       "      <th>3</th>\n",
       "    </tr>\n",
       "  </thead>\n",
       "  <tbody>\n",
       "    <tr>\n",
       "      <th>Young Benjen</th>\n",
       "      <td>dont know young lyanna</td>\n",
       "      <td>hes got giants blood young ned</td>\n",
       "      <td>None</td>\n",
       "      <td>None</td>\n",
       "    </tr>\n",
       "    <tr>\n",
       "      <th>Theon</th>\n",
       "      <td>would taken way wall would died get theon</td>\n",
       "      <td>home ext</td>\n",
       "      <td>None</td>\n",
       "      <td>None</td>\n",
       "    </tr>\n",
       "    <tr>\n",
       "      <th>Jaime</th>\n",
       "      <td>fail sometimes tommen</td>\n",
       "      <td>go see mother ask forgive high sparrow</td>\n",
       "      <td>broke sacred oath stabbed king back killed cou...</td>\n",
       "      <td>oh gods wont mind theyve spilled blood rest us...</td>\n",
       "    </tr>\n",
       "    <tr>\n",
       "      <th>Roose</th>\n",
       "      <td>jon snow bastard stark ramsay</td>\n",
       "      <td>None</td>\n",
       "      <td>None</td>\n",
       "      <td>None</td>\n",
       "    </tr>\n",
       "    <tr>\n",
       "      <th>Tommen</th>\n",
       "      <td>course jaime</td>\n",
       "      <td>faith militant seized margaery</td>\n",
       "      <td>gold cersei</td>\n",
       "      <td>None</td>\n",
       "    </tr>\n",
       "  </tbody>\n",
       "</table>\n",
       "</div>"
      ],
      "text/plain": [
       "                                                      0  \\\n",
       "Young Benjen                     dont know young lyanna   \n",
       "Theon         would taken way wall would died get theon   \n",
       "Jaime                             fail sometimes tommen   \n",
       "Roose                     jon snow bastard stark ramsay   \n",
       "Tommen                                     course jaime   \n",
       "\n",
       "                                                   1  \\\n",
       "Young Benjen          hes got giants blood young ned   \n",
       "Theon                                       home ext   \n",
       "Jaime         go see mother ask forgive high sparrow   \n",
       "Roose                                           None   \n",
       "Tommen                faith militant seized margaery   \n",
       "\n",
       "                                                              2  \\\n",
       "Young Benjen                                               None   \n",
       "Theon                                                      None   \n",
       "Jaime         broke sacred oath stabbed king back killed cou...   \n",
       "Roose                                                      None   \n",
       "Tommen                                              gold cersei   \n",
       "\n",
       "                                                              3  \n",
       "Young Benjen                                               None  \n",
       "Theon                                                      None  \n",
       "Jaime         oh gods wont mind theyve spilled blood rest us...  \n",
       "Roose                                                      None  \n",
       "Tommen                                                     None  "
      ]
     },
     "execution_count": 52,
     "metadata": {},
     "output_type": "execute_result"
    }
   ],
   "source": [
    "episode_two.head()"
   ]
  },
  {
   "cell_type": "markdown",
   "metadata": {},
   "source": [
    "### Episode Three"
   ]
  },
  {
   "cell_type": "code",
   "execution_count": 53,
   "metadata": {
    "scrolled": true
   },
   "outputs": [],
   "source": [
    "#df_s6.script_text[2]"
   ]
  },
  {
   "cell_type": "code",
   "execution_count": 54,
   "metadata": {},
   "outputs": [
    {
     "name": "stdout",
     "output_type": "stream",
     "text": [
      "<type 'list'>\n"
     ]
    }
   ],
   "source": [
    "script_text6_03 = df_s6.script_text[2]\n",
    "print type(script_text6_03)\n",
    "\n",
    "#script_text6_03"
   ]
  },
  {
   "cell_type": "code",
   "execution_count": 55,
   "metadata": {
    "scrolled": true
   },
   "outputs": [],
   "source": [
    "script_split3 = [i.split('\\n') for i in script_text6_03]\n",
    "#script_split3"
   ]
  },
  {
   "cell_type": "code",
   "execution_count": 56,
   "metadata": {
    "collapsed": true
   },
   "outputs": [],
   "source": [
    "string_script_text3 = ' '\n",
    "\n",
    "for i in script_split3:\n",
    "    for e in i:\n",
    "        string_script_text3 = string_script_text3 + ' ' + e"
   ]
  },
  {
   "cell_type": "code",
   "execution_count": 57,
   "metadata": {},
   "outputs": [],
   "source": [
    "#string_script_text3"
   ]
  },
  {
   "cell_type": "code",
   "execution_count": 58,
   "metadata": {},
   "outputs": [],
   "source": [
    "words3 = word_tokenize(string_script_text3)\n",
    "#words3"
   ]
  },
  {
   "cell_type": "code",
   "execution_count": 59,
   "metadata": {
    "scrolled": true
   },
   "outputs": [],
   "source": [
    "sentences3 = sent_tokenize(string_script_text3)\n",
    "#sentences3"
   ]
  },
  {
   "cell_type": "code",
   "execution_count": 60,
   "metadata": {
    "collapsed": true,
    "scrolled": false
   },
   "outputs": [],
   "source": [
    "dialogue3 = []\n",
    "\n",
    "for sentence in sentences3:\n",
    "    words=sentence.split(':')[0]\n",
    "    if len(words.split())<=2:\n",
    "        if words in (names6_03):\n",
    "            dialogue3.append(sentence)"
   ]
  },
  {
   "cell_type": "code",
   "execution_count": 61,
   "metadata": {
    "scrolled": true
   },
   "outputs": [],
   "source": [
    "#dialogue3"
   ]
  },
  {
   "cell_type": "code",
   "execution_count": 62,
   "metadata": {
    "collapsed": true
   },
   "outputs": [],
   "source": [
    "import pickle\n",
    "with open('/Users/zoemarkovits/Metis/project_five_got/Dialogue_PKLs/s603.pkl', 'wb') as f:\n",
    "    pickle.dump(dialogue3, f)"
   ]
  },
  {
   "cell_type": "code",
   "execution_count": 63,
   "metadata": {
    "scrolled": true
   },
   "outputs": [],
   "source": [
    "from collections import defaultdict\n",
    "\n",
    "speakers3 = defaultdict(list)\n",
    "for sentence in dialogue3:\n",
    "    speakers3[sentence.split(':')[0]].append(sentence.split(':')[1])\n",
    "\n",
    "#speakers3"
   ]
  },
  {
   "cell_type": "code",
   "execution_count": 64,
   "metadata": {
    "scrolled": false
   },
   "outputs": [
    {
     "data": {
      "text/plain": [
       "[u' They stabbed me  Olly...he put a knife in my heart  I shouldn\\u2019t be here    DAVOS',\n",
       " u' I think so  Hold off on burning my body for now        DOLOROUS EDD',\n",
       " u' Wear it  Burn it  Whatever you want  You have Castle Black                 CREDITS']"
      ]
     },
     "execution_count": 64,
     "metadata": {},
     "output_type": "execute_result"
    }
   ],
   "source": [
    "speakers3['JON SNOW']"
   ]
  },
  {
   "cell_type": "code",
   "execution_count": 65,
   "metadata": {
    "scrolled": true
   },
   "outputs": [
    {
     "name": "stdout",
     "output_type": "stream",
     "text": [
      "(22, 4)\n"
     ]
    }
   ],
   "source": [
    "episode_three = pd.DataFrame.from_dict(speakers3, orient=\"index\")\n",
    "print episode_three.shape"
   ]
  },
  {
   "cell_type": "code",
   "execution_count": 66,
   "metadata": {
    "collapsed": true
   },
   "outputs": [],
   "source": [
    "#from numpy import nan\n",
    "#episode_three.fillna(value=str(0), inplace=True)"
   ]
  },
  {
   "cell_type": "code",
   "execution_count": 67,
   "metadata": {
    "scrolled": true
   },
   "outputs": [],
   "source": [
    "#episode_three.info()"
   ]
  },
  {
   "cell_type": "code",
   "execution_count": 68,
   "metadata": {},
   "outputs": [],
   "source": [
    "#episode_three.head()"
   ]
  },
  {
   "cell_type": "code",
   "execution_count": 69,
   "metadata": {
    "scrolled": true
   },
   "outputs": [],
   "source": [
    "test3 = episode_three[0].apply(remove_stops)\n",
    "#test3"
   ]
  },
  {
   "cell_type": "code",
   "execution_count": 70,
   "metadata": {
    "collapsed": true,
    "scrolled": false
   },
   "outputs": [],
   "source": [
    "for column in episode_three.columns:\n",
    "    for x in range(len(episode_three[column])):\n",
    "        episode_three[column][x] = remove_stops(episode_three[column][x])"
   ]
  },
  {
   "cell_type": "code",
   "execution_count": 71,
   "metadata": {
    "scrolled": false
   },
   "outputs": [
    {
     "name": "stdout",
     "output_type": "stream",
     "text": [
      "<class 'pandas.core.frame.DataFrame'>\n",
      "Index: 22 entries, DAVOS to MAESTER PYCELLE\n",
      "Data columns (total 4 columns):\n",
      "0    22 non-null object\n",
      "1    13 non-null object\n",
      "2    9 non-null object\n",
      "3    4 non-null object\n",
      "dtypes: object(4)\n",
      "memory usage: 880.0+ bytes\n"
     ]
    }
   ],
   "source": [
    "episode_three.info()"
   ]
  },
  {
   "cell_type": "code",
   "execution_count": 72,
   "metadata": {
    "collapsed": true
   },
   "outputs": [],
   "source": [
    "episode_three.index = episode_three.index.str.title()"
   ]
  },
  {
   "cell_type": "code",
   "execution_count": 73,
   "metadata": {
    "scrolled": true
   },
   "outputs": [
    {
     "data": {
      "text/html": [
       "<div>\n",
       "<table border=\"1\" class=\"dataframe\">\n",
       "  <thead>\n",
       "    <tr style=\"text-align: right;\">\n",
       "      <th></th>\n",
       "      <th>0</th>\n",
       "      <th>1</th>\n",
       "      <th>2</th>\n",
       "      <th>3</th>\n",
       "    </tr>\n",
       "  </thead>\n",
       "  <tbody>\n",
       "    <tr>\n",
       "      <th>Davos</th>\n",
       "      <td>dead youre thats completely fucking mad seems ...</td>\n",
       "      <td>dont know maybe well never know matter</td>\n",
       "      <td>None</td>\n",
       "      <td>None</td>\n",
       "    </tr>\n",
       "    <tr>\n",
       "      <th>Melisandre</th>\n",
       "      <td>lord let come back reason stannis prince promi...</td>\n",
       "      <td>None</td>\n",
       "      <td>None</td>\n",
       "      <td>None</td>\n",
       "    </tr>\n",
       "    <tr>\n",
       "      <th>Smalljon</th>\n",
       "      <td>bastard jon snow led army wildlings past wall ...</td>\n",
       "      <td>need help colder gets farther south goat fucke...</td>\n",
       "      <td>father honored tradition knelt robb stark call...</td>\n",
       "      <td>rickon stark ramsay</td>\n",
       "    </tr>\n",
       "    <tr>\n",
       "      <th>Gilly</th>\n",
       "      <td>wont long well south soon im excited see oldto...</td>\n",
       "      <td>going oldtown taking</td>\n",
       "      <td>None</td>\n",
       "      <td>None</td>\n",
       "    </tr>\n",
       "    <tr>\n",
       "      <th>Jaime</th>\n",
       "      <td>women murdered myrcella overthrown house marte...</td>\n",
       "      <td>None</td>\n",
       "      <td>None</td>\n",
       "      <td>None</td>\n",
       "    </tr>\n",
       "  </tbody>\n",
       "</table>\n",
       "</div>"
      ],
      "text/plain": [
       "                                                            0  \\\n",
       "Davos       dead youre thats completely fucking mad seems ...   \n",
       "Melisandre  lord let come back reason stannis prince promi...   \n",
       "Smalljon    bastard jon snow led army wildlings past wall ...   \n",
       "Gilly       wont long well south soon im excited see oldto...   \n",
       "Jaime       women murdered myrcella overthrown house marte...   \n",
       "\n",
       "                                                            1  \\\n",
       "Davos                  dont know maybe well never know matter   \n",
       "Melisandre                                               None   \n",
       "Smalljon    need help colder gets farther south goat fucke...   \n",
       "Gilly                                    going oldtown taking   \n",
       "Jaime                                                    None   \n",
       "\n",
       "                                                            2  \\\n",
       "Davos                                                    None   \n",
       "Melisandre                                               None   \n",
       "Smalljon    father honored tradition knelt robb stark call...   \n",
       "Gilly                                                    None   \n",
       "Jaime                                                    None   \n",
       "\n",
       "                              3  \n",
       "Davos                      None  \n",
       "Melisandre                 None  \n",
       "Smalljon    rickon stark ramsay  \n",
       "Gilly                      None  \n",
       "Jaime                      None  "
      ]
     },
     "execution_count": 73,
     "metadata": {},
     "output_type": "execute_result"
    }
   ],
   "source": [
    "episode_three.head()"
   ]
  },
  {
   "cell_type": "markdown",
   "metadata": {},
   "source": [
    "### Episode Four"
   ]
  },
  {
   "cell_type": "code",
   "execution_count": 74,
   "metadata": {
    "scrolled": true
   },
   "outputs": [],
   "source": [
    "#df_s6.script_text[3]"
   ]
  },
  {
   "cell_type": "code",
   "execution_count": 75,
   "metadata": {},
   "outputs": [
    {
     "name": "stdout",
     "output_type": "stream",
     "text": [
      "<type 'list'>\n"
     ]
    }
   ],
   "source": [
    "script_text6_04 = df_s6.script_text[3]\n",
    "print type(script_text6_04)\n",
    "\n",
    "#script_text6_04"
   ]
  },
  {
   "cell_type": "code",
   "execution_count": 76,
   "metadata": {
    "scrolled": true
   },
   "outputs": [],
   "source": [
    "script_split4 = [i.split('\\n') for i in script_text6_04]\n",
    "#script_split4"
   ]
  },
  {
   "cell_type": "code",
   "execution_count": 77,
   "metadata": {
    "collapsed": true
   },
   "outputs": [],
   "source": [
    "string_script_text4 = ' '\n",
    "\n",
    "for i in script_split4:\n",
    "    for e in i:\n",
    "        string_script_text4 = string_script_text4 + ' ' + e"
   ]
  },
  {
   "cell_type": "code",
   "execution_count": 78,
   "metadata": {},
   "outputs": [],
   "source": [
    "#string_script_text4"
   ]
  },
  {
   "cell_type": "code",
   "execution_count": 79,
   "metadata": {},
   "outputs": [],
   "source": [
    "words4 = word_tokenize(string_script_text4)\n",
    "#words4"
   ]
  },
  {
   "cell_type": "code",
   "execution_count": 80,
   "metadata": {
    "scrolled": true
   },
   "outputs": [],
   "source": [
    "sentences4 = sent_tokenize(string_script_text4)\n",
    "#sentences4"
   ]
  },
  {
   "cell_type": "code",
   "execution_count": 81,
   "metadata": {
    "collapsed": true,
    "scrolled": false
   },
   "outputs": [],
   "source": [
    "dialogue4 = []\n",
    "\n",
    "for sentence in sentences4:\n",
    "    words=sentence.split(':')[0]\n",
    "    if len(words.split())<=2:\n",
    "        if words in (names6_04):\n",
    "            dialogue4.append(sentence)"
   ]
  },
  {
   "cell_type": "code",
   "execution_count": 82,
   "metadata": {
    "scrolled": true
   },
   "outputs": [],
   "source": [
    "#dialogue4"
   ]
  },
  {
   "cell_type": "code",
   "execution_count": 83,
   "metadata": {
    "collapsed": true
   },
   "outputs": [],
   "source": [
    "import pickle\n",
    "with open('/Users/zoemarkovits/Metis/project_five_got/Dialogue_PKLs/s604.pkl', 'wb') as f:\n",
    "    pickle.dump(dialogue4, f)"
   ]
  },
  {
   "cell_type": "code",
   "execution_count": 84,
   "metadata": {
    "scrolled": true
   },
   "outputs": [],
   "source": [
    "from collections import defaultdict\n",
    "\n",
    "speakers4 = defaultdict(list)\n",
    "for sentence in dialogue4:\n",
    "    speakers4[sentence.split(':')[0]].append(sentence.split(':')[1])\n",
    "\n",
    "#speakers4"
   ]
  },
  {
   "cell_type": "code",
   "execution_count": 85,
   "metadata": {
    "scrolled": true
   },
   "outputs": [
    {
     "data": {
      "text/plain": [
       "[u' South    DOLOROUS EDD',\n",
       " u' Get warm        DOLOROUS EDD',\n",
       " u' I did everything I could  You know that    DOLOROUS EDD',\n",
       " u' With the peas and onions?',\n",
       " u' There\\u2019s nothing to forgive    SANSA',\n",
       " u' Where will we go?',\n",
       " u' I can\\u2019t stay here, not after what happened    SANSA',\n",
       " u' They didn\\u2019t come here to serve me    SANSA',\n",
       " u' Sansa    SANSA',\n",
       " u' I\\u2019m not Lord Commander anymore.',\n",
       " u\" It's just more of the same.\",\n",
       " u' Lord of Winterfell and Warden of the North.',\n",
       " u' We don\\u2019t know that.']"
      ]
     },
     "execution_count": 85,
     "metadata": {},
     "output_type": "execute_result"
    }
   ],
   "source": [
    "speakers4['JON SNOW']"
   ]
  },
  {
   "cell_type": "code",
   "execution_count": 86,
   "metadata": {
    "scrolled": true
   },
   "outputs": [
    {
     "name": "stdout",
     "output_type": "stream",
     "text": [
      "(33, 13)\n"
     ]
    }
   ],
   "source": [
    "episode_four = pd.DataFrame.from_dict(speakers4, orient=\"index\")\n",
    "print episode_four.shape"
   ]
  },
  {
   "cell_type": "code",
   "execution_count": 87,
   "metadata": {
    "collapsed": true
   },
   "outputs": [],
   "source": [
    "#from numpy import nan\n",
    "#episode_four.fillna(value=str(0), inplace=True)"
   ]
  },
  {
   "cell_type": "code",
   "execution_count": 88,
   "metadata": {
    "scrolled": true
   },
   "outputs": [],
   "source": [
    "#episode_four.info()"
   ]
  },
  {
   "cell_type": "code",
   "execution_count": 89,
   "metadata": {},
   "outputs": [],
   "source": [
    "#episode_four.head()"
   ]
  },
  {
   "cell_type": "code",
   "execution_count": 90,
   "metadata": {
    "scrolled": true
   },
   "outputs": [],
   "source": [
    "test4 = episode_four[0].apply(remove_stops)\n",
    "#test4"
   ]
  },
  {
   "cell_type": "code",
   "execution_count": 91,
   "metadata": {
    "collapsed": true,
    "scrolled": false
   },
   "outputs": [],
   "source": [
    "for column in episode_four.columns:\n",
    "    for x in range(len(episode_four[column])):\n",
    "        episode_four[column][x] = remove_stops(episode_four[column][x])"
   ]
  },
  {
   "cell_type": "code",
   "execution_count": 92,
   "metadata": {
    "collapsed": true
   },
   "outputs": [],
   "source": [
    "episode_four.index = episode_four.index.str.title()"
   ]
  },
  {
   "cell_type": "code",
   "execution_count": 93,
   "metadata": {
    "scrolled": true
   },
   "outputs": [
    {
     "data": {
      "text/html": [
       "<div>\n",
       "<table border=\"1\" class=\"dataframe\">\n",
       "  <thead>\n",
       "    <tr style=\"text-align: right;\">\n",
       "      <th></th>\n",
       "      <th>0</th>\n",
       "      <th>1</th>\n",
       "      <th>2</th>\n",
       "      <th>3</th>\n",
       "      <th>4</th>\n",
       "      <th>5</th>\n",
       "      <th>6</th>\n",
       "      <th>7</th>\n",
       "      <th>8</th>\n",
       "      <th>9</th>\n",
       "      <th>10</th>\n",
       "      <th>11</th>\n",
       "      <th>12</th>\n",
       "    </tr>\n",
       "  </thead>\n",
       "  <tbody>\n",
       "    <tr>\n",
       "      <th>Kevan</th>\n",
       "      <td>king ordered take action high sparrow faith mi...</td>\n",
       "      <td>king call jaime</td>\n",
       "      <td>course want back</td>\n",
       "      <td>doesnt go planned sparrows many friends city</td>\n",
       "      <td>None</td>\n",
       "      <td>None</td>\n",
       "      <td>None</td>\n",
       "      <td>None</td>\n",
       "      <td>None</td>\n",
       "      <td>None</td>\n",
       "      <td>None</td>\n",
       "      <td>None</td>\n",
       "      <td>None</td>\n",
       "    </tr>\n",
       "    <tr>\n",
       "      <th>Melisandre</th>\n",
       "      <td>jon snow commands davos</td>\n",
       "      <td>hes prince promised davos</td>\n",
       "      <td>battle stannis defeated davos</td>\n",
       "      <td>None</td>\n",
       "      <td>None</td>\n",
       "      <td>None</td>\n",
       "      <td>None</td>\n",
       "      <td>None</td>\n",
       "      <td>None</td>\n",
       "      <td>None</td>\n",
       "      <td>None</td>\n",
       "      <td>None</td>\n",
       "      <td>None</td>\n",
       "    </tr>\n",
       "    <tr>\n",
       "      <th>Jaime</th>\n",
       "      <td>cersei mother king</td>\n",
       "      <td>youll take action</td>\n",
       "      <td>None</td>\n",
       "      <td>None</td>\n",
       "      <td>None</td>\n",
       "      <td>None</td>\n",
       "      <td>None</td>\n",
       "      <td>None</td>\n",
       "      <td>None</td>\n",
       "      <td>None</td>\n",
       "      <td>None</td>\n",
       "      <td>None</td>\n",
       "      <td>None</td>\n",
       "    </tr>\n",
       "    <tr>\n",
       "      <th>Tyrion</th>\n",
       "      <td>grey worm</td>\n",
       "      <td>long enough know missandei</td>\n",
       "      <td>instead abolishing slavery overnight give seve...</td>\n",
       "      <td>queen chose advisor returns travels man</td>\n",
       "      <td>soon word man</td>\n",
       "      <td>offered terms man speaking valyrian</td>\n",
       "      <td>None</td>\n",
       "      <td>None</td>\n",
       "      <td>None</td>\n",
       "      <td>None</td>\n",
       "      <td>None</td>\n",
       "      <td>None</td>\n",
       "      <td>None</td>\n",
       "    </tr>\n",
       "    <tr>\n",
       "      <th>Littlefinger</th>\n",
       "      <td>lord come see littlefinger</td>\n",
       "      <td>indeed yohn royce</td>\n",
       "      <td>tell lord royce many people knew travel plans ...</td>\n",
       "      <td>lord royce served vale well hes enjoyed distin...</td>\n",
       "      <td>None</td>\n",
       "      <td>None</td>\n",
       "      <td>None</td>\n",
       "      <td>None</td>\n",
       "      <td>None</td>\n",
       "      <td>None</td>\n",
       "      <td>None</td>\n",
       "      <td>None</td>\n",
       "      <td>None</td>\n",
       "    </tr>\n",
       "  </tbody>\n",
       "</table>\n",
       "</div>"
      ],
      "text/plain": [
       "                                                             0   \\\n",
       "Kevan         king ordered take action high sparrow faith mi...   \n",
       "Melisandre                              jon snow commands davos   \n",
       "Jaime                                        cersei mother king   \n",
       "Tyrion                                                grey worm   \n",
       "Littlefinger                         lord come see littlefinger   \n",
       "\n",
       "                                      1   \\\n",
       "Kevan                    king call jaime   \n",
       "Melisandre     hes prince promised davos   \n",
       "Jaime                  youll take action   \n",
       "Tyrion        long enough know missandei   \n",
       "Littlefinger           indeed yohn royce   \n",
       "\n",
       "                                                             2   \\\n",
       "Kevan                                          course want back   \n",
       "Melisandre                        battle stannis defeated davos   \n",
       "Jaime                                                      None   \n",
       "Tyrion        instead abolishing slavery overnight give seve...   \n",
       "Littlefinger  tell lord royce many people knew travel plans ...   \n",
       "\n",
       "                                                             3   \\\n",
       "Kevan              doesnt go planned sparrows many friends city   \n",
       "Melisandre                                                 None   \n",
       "Jaime                                                      None   \n",
       "Tyrion                  queen chose advisor returns travels man   \n",
       "Littlefinger  lord royce served vale well hes enjoyed distin...   \n",
       "\n",
       "                         4                                    5     6     7   \\\n",
       "Kevan                  None                                 None  None  None   \n",
       "Melisandre             None                                 None  None  None   \n",
       "Jaime                  None                                 None  None  None   \n",
       "Tyrion        soon word man  offered terms man speaking valyrian  None  None   \n",
       "Littlefinger           None                                 None  None  None   \n",
       "\n",
       "                8     9     10    11    12  \n",
       "Kevan         None  None  None  None  None  \n",
       "Melisandre    None  None  None  None  None  \n",
       "Jaime         None  None  None  None  None  \n",
       "Tyrion        None  None  None  None  None  \n",
       "Littlefinger  None  None  None  None  None  "
      ]
     },
     "execution_count": 93,
     "metadata": {},
     "output_type": "execute_result"
    }
   ],
   "source": [
    "episode_four.head()"
   ]
  },
  {
   "cell_type": "markdown",
   "metadata": {},
   "source": [
    "### Episode Five"
   ]
  },
  {
   "cell_type": "code",
   "execution_count": 94,
   "metadata": {
    "scrolled": true
   },
   "outputs": [],
   "source": [
    "#df_s6.script_text[4]"
   ]
  },
  {
   "cell_type": "code",
   "execution_count": 95,
   "metadata": {},
   "outputs": [
    {
     "name": "stdout",
     "output_type": "stream",
     "text": [
      "<type 'list'>\n"
     ]
    }
   ],
   "source": [
    "script_text6_05 = df_s6.script_text[4]\n",
    "print type(script_text6_05)\n",
    "\n",
    "#script_text6_05"
   ]
  },
  {
   "cell_type": "code",
   "execution_count": 96,
   "metadata": {
    "scrolled": true
   },
   "outputs": [],
   "source": [
    "script_split5 = [i.split('\\n') for i in script_text6_05]\n",
    "#script_split5"
   ]
  },
  {
   "cell_type": "code",
   "execution_count": 97,
   "metadata": {
    "collapsed": true
   },
   "outputs": [],
   "source": [
    "string_script_text5 = ' '\n",
    "\n",
    "for i in script_split5:\n",
    "    for e in i:\n",
    "        string_script_text5 = string_script_text5 + ' ' + e"
   ]
  },
  {
   "cell_type": "code",
   "execution_count": 98,
   "metadata": {},
   "outputs": [],
   "source": [
    "#string_script_text5"
   ]
  },
  {
   "cell_type": "code",
   "execution_count": 99,
   "metadata": {},
   "outputs": [],
   "source": [
    "words5 = word_tokenize(string_script_text5)\n",
    "#words5"
   ]
  },
  {
   "cell_type": "code",
   "execution_count": 100,
   "metadata": {
    "scrolled": true
   },
   "outputs": [],
   "source": [
    "sentences5 = sent_tokenize(string_script_text5)\n",
    "#sentences5"
   ]
  },
  {
   "cell_type": "code",
   "execution_count": 101,
   "metadata": {
    "collapsed": true,
    "scrolled": false
   },
   "outputs": [],
   "source": [
    "dialogue5 = []\n",
    "\n",
    "for sentence in sentences5:\n",
    "    words=sentence.split(':')[0]\n",
    "    if len(words.split())<=2:\n",
    "        if words in (names6_05):\n",
    "            dialogue5.append(sentence)"
   ]
  },
  {
   "cell_type": "code",
   "execution_count": 102,
   "metadata": {
    "scrolled": true
   },
   "outputs": [],
   "source": [
    "#dialogue5"
   ]
  },
  {
   "cell_type": "code",
   "execution_count": 103,
   "metadata": {
    "collapsed": true
   },
   "outputs": [],
   "source": [
    "import pickle\n",
    "with open('/Users/zoemarkovits/Metis/project_five_got/Dialogue_PKLs/s605.pkl', 'wb') as f:\n",
    "    pickle.dump(dialogue5, f)"
   ]
  },
  {
   "cell_type": "code",
   "execution_count": 105,
   "metadata": {
    "scrolled": true
   },
   "outputs": [],
   "source": [
    "from collections import defaultdict\n",
    "\n",
    "speakers5 = defaultdict(list)\n",
    "for sentence in dialogue5:\n",
    "    speakers5[sentence.split(':')[0]].append(sentence.split(':')[1])\n",
    "\n",
    "#speakers5"
   ]
  },
  {
   "cell_type": "code",
   "execution_count": 106,
   "metadata": {
    "scrolled": false
   },
   "outputs": [
    {
     "data": {
      "text/plain": [
       "[u' We speak in the presence of the Drowned God.',\n",
       " u' Let the fish eat the scales off his eyes.',\n",
       " u' What is dead may never die, but rises again harder and stronger.',\n",
       " u' What is dead may never die.',\n",
       " u' They stole our best ships.']"
      ]
     },
     "execution_count": 106,
     "metadata": {},
     "output_type": "execute_result"
    }
   ],
   "source": [
    "speakers5['AERON']"
   ]
  },
  {
   "cell_type": "code",
   "execution_count": 107,
   "metadata": {
    "scrolled": true
   },
   "outputs": [
    {
     "name": "stdout",
     "output_type": "stream",
     "text": [
      "(41, 30)\n"
     ]
    }
   ],
   "source": [
    "episode_five = pd.DataFrame.from_dict(speakers5, orient=\"index\")\n",
    "print episode_five.shape"
   ]
  },
  {
   "cell_type": "code",
   "execution_count": 108,
   "metadata": {
    "collapsed": true
   },
   "outputs": [],
   "source": [
    "#from numpy import nan\n",
    "#episode_five.fillna(value=str(0), inplace=True)"
   ]
  },
  {
   "cell_type": "code",
   "execution_count": 109,
   "metadata": {
    "scrolled": true
   },
   "outputs": [],
   "source": [
    "#episode_five.info()"
   ]
  },
  {
   "cell_type": "code",
   "execution_count": 110,
   "metadata": {},
   "outputs": [],
   "source": [
    "#episode_five.head()"
   ]
  },
  {
   "cell_type": "code",
   "execution_count": 111,
   "metadata": {
    "scrolled": true
   },
   "outputs": [],
   "source": [
    "test5 = episode_five[0].apply(remove_stops)\n",
    "#test5"
   ]
  },
  {
   "cell_type": "code",
   "execution_count": 112,
   "metadata": {
    "collapsed": true,
    "scrolled": false
   },
   "outputs": [],
   "source": [
    "for column in episode_five.columns:\n",
    "    for x in range(len(episode_five[column])):\n",
    "        episode_five[column][x] = remove_stops(episode_five[column][x])"
   ]
  },
  {
   "cell_type": "code",
   "execution_count": 113,
   "metadata": {
    "collapsed": true
   },
   "outputs": [],
   "source": [
    "episode_five.index = episode_five.index.str.title()"
   ]
  },
  {
   "cell_type": "code",
   "execution_count": 114,
   "metadata": {
    "scrolled": true
   },
   "outputs": [
    {
     "data": {
      "text/html": [
       "<div>\n",
       "<table border=\"1\" class=\"dataframe\">\n",
       "  <thead>\n",
       "    <tr style=\"text-align: right;\">\n",
       "      <th></th>\n",
       "      <th>0</th>\n",
       "      <th>1</th>\n",
       "      <th>2</th>\n",
       "      <th>3</th>\n",
       "      <th>4</th>\n",
       "      <th>5</th>\n",
       "      <th>6</th>\n",
       "      <th>7</th>\n",
       "      <th>8</th>\n",
       "      <th>9</th>\n",
       "      <th>10</th>\n",
       "      <th>11</th>\n",
       "      <th>12</th>\n",
       "      <th>13</th>\n",
       "      <th>14</th>\n",
       "      <th>15</th>\n",
       "      <th>16</th>\n",
       "      <th>17</th>\n",
       "      <th>18</th>\n",
       "      <th>19</th>\n",
       "      <th>20</th>\n",
       "      <th>21</th>\n",
       "      <th>22</th>\n",
       "      <th>23</th>\n",
       "      <th>24</th>\n",
       "      <th>25</th>\n",
       "      <th>26</th>\n",
       "      <th>27</th>\n",
       "      <th>28</th>\n",
       "      <th>29</th>\n",
       "    </tr>\n",
       "  </thead>\n",
       "  <tbody>\n",
       "    <tr>\n",
       "      <th>Davos</th>\n",
       "      <td>aside starks boltons powerful houses north umb...</td>\n",
       "      <td>umbers karstarks already declared boltons well</td>\n",
       "      <td>beg pardon lady know stark beheaded father</td>\n",
       "      <td>precious little lady</td>\n",
       "      <td>may well loyal many rose boltons betrayed family</td>\n",
       "      <td>dont doubt</td>\n",
       "      <td>didnt know tullys still army</td>\n",
       "      <td>thats good</td>\n",
       "      <td>None</td>\n",
       "      <td>None</td>\n",
       "      <td>None</td>\n",
       "      <td>None</td>\n",
       "      <td>None</td>\n",
       "      <td>None</td>\n",
       "      <td>None</td>\n",
       "      <td>None</td>\n",
       "      <td>None</td>\n",
       "      <td>None</td>\n",
       "      <td>None</td>\n",
       "      <td>None</td>\n",
       "      <td>None</td>\n",
       "      <td>None</td>\n",
       "      <td>None</td>\n",
       "      <td>None</td>\n",
       "      <td>None</td>\n",
       "      <td>None</td>\n",
       "      <td>None</td>\n",
       "      <td>None</td>\n",
       "      <td>None</td>\n",
       "      <td>None</td>\n",
       "    </tr>\n",
       "    <tr>\n",
       "      <th>Kinvara</th>\n",
       "      <td>daenerys stormborn one promised</td>\n",
       "      <td>freed slaves chains crucified masters sins</td>\n",
       "      <td>dragons fire made flesh gift lord light</td>\n",
       "      <td>want queen worshipped obeyed</td>\n",
       "      <td>summon eloquent priests</td>\n",
       "      <td>everything lords</td>\n",
       "      <td>everyone reason</td>\n",
       "      <td>tell name one spoke</td>\n",
       "      <td>serve queen</td>\n",
       "      <td>None</td>\n",
       "      <td>None</td>\n",
       "      <td>None</td>\n",
       "      <td>None</td>\n",
       "      <td>None</td>\n",
       "      <td>None</td>\n",
       "      <td>None</td>\n",
       "      <td>None</td>\n",
       "      <td>None</td>\n",
       "      <td>None</td>\n",
       "      <td>None</td>\n",
       "      <td>None</td>\n",
       "      <td>None</td>\n",
       "      <td>None</td>\n",
       "      <td>None</td>\n",
       "      <td>None</td>\n",
       "      <td>None</td>\n",
       "      <td>None</td>\n",
       "      <td>None</td>\n",
       "      <td>None</td>\n",
       "      <td>None</td>\n",
       "    </tr>\n",
       "    <tr>\n",
       "      <th>Nan</th>\n",
       "      <td>wylis</td>\n",
       "      <td>None</td>\n",
       "      <td>None</td>\n",
       "      <td>None</td>\n",
       "      <td>None</td>\n",
       "      <td>None</td>\n",
       "      <td>None</td>\n",
       "      <td>None</td>\n",
       "      <td>None</td>\n",
       "      <td>None</td>\n",
       "      <td>None</td>\n",
       "      <td>None</td>\n",
       "      <td>None</td>\n",
       "      <td>None</td>\n",
       "      <td>None</td>\n",
       "      <td>None</td>\n",
       "      <td>None</td>\n",
       "      <td>None</td>\n",
       "      <td>None</td>\n",
       "      <td>None</td>\n",
       "      <td>None</td>\n",
       "      <td>None</td>\n",
       "      <td>None</td>\n",
       "      <td>None</td>\n",
       "      <td>None</td>\n",
       "      <td>None</td>\n",
       "      <td>None</td>\n",
       "      <td>None</td>\n",
       "      <td>None</td>\n",
       "      <td>None</td>\n",
       "    </tr>\n",
       "    <tr>\n",
       "      <th>Three-Eyed Raven</th>\n",
       "      <td>touched</td>\n",
       "      <td>knows</td>\n",
       "      <td></td>\n",
       "      <td>time come</td>\n",
       "      <td>become</td>\n",
       "      <td></td>\n",
       "      <td>listen friend brandon</td>\n",
       "      <td>None</td>\n",
       "      <td>None</td>\n",
       "      <td>None</td>\n",
       "      <td>None</td>\n",
       "      <td>None</td>\n",
       "      <td>None</td>\n",
       "      <td>None</td>\n",
       "      <td>None</td>\n",
       "      <td>None</td>\n",
       "      <td>None</td>\n",
       "      <td>None</td>\n",
       "      <td>None</td>\n",
       "      <td>None</td>\n",
       "      <td>None</td>\n",
       "      <td>None</td>\n",
       "      <td>None</td>\n",
       "      <td>None</td>\n",
       "      <td>None</td>\n",
       "      <td>None</td>\n",
       "      <td>None</td>\n",
       "      <td>None</td>\n",
       "      <td>None</td>\n",
       "      <td>None</td>\n",
       "    </tr>\n",
       "    <tr>\n",
       "      <th>Tyrion</th>\n",
       "      <td>enough</td>\n",
       "      <td>enough meereen peace</td>\n",
       "      <td>yes know brought security</td>\n",
       "      <td>said anything</td>\n",
       "      <td>thats extent valyrian</td>\n",
       "      <td>thank travelling way</td>\n",
       "      <td>truth need help</td>\n",
       "      <td>yes</td>\n",
       "      <td>indeed</td>\n",
       "      <td>ideally wed avoid purifying many nonbelievers</td>\n",
       "      <td>id settle obeyed</td>\n",
       "      <td>sounds excellent varys</td>\n",
       "      <td>wed grateful support could provide queen</td>\n",
       "      <td>friend healthy skepticism religion loyal suppo...</td>\n",
       "      <td>None</td>\n",
       "      <td>None</td>\n",
       "      <td>None</td>\n",
       "      <td>None</td>\n",
       "      <td>None</td>\n",
       "      <td>None</td>\n",
       "      <td>None</td>\n",
       "      <td>None</td>\n",
       "      <td>None</td>\n",
       "      <td>None</td>\n",
       "      <td>None</td>\n",
       "      <td>None</td>\n",
       "      <td>None</td>\n",
       "      <td>None</td>\n",
       "      <td>None</td>\n",
       "      <td>None</td>\n",
       "    </tr>\n",
       "  </tbody>\n",
       "</table>\n",
       "</div>"
      ],
      "text/plain": [
       "                                                                 0   \\\n",
       "Davos             aside starks boltons powerful houses north umb...   \n",
       "Kinvara                             daenerys stormborn one promised   \n",
       "Nan                                                           wylis   \n",
       "Three-Eyed Raven                                            touched   \n",
       "Tyrion                                                       enough   \n",
       "\n",
       "                                                              1   \\\n",
       "Davos             umbers karstarks already declared boltons well   \n",
       "Kinvara               freed slaves chains crucified masters sins   \n",
       "Nan                                                         None   \n",
       "Three-Eyed Raven                                           knows   \n",
       "Tyrion                                      enough meereen peace   \n",
       "\n",
       "                                                          2   \\\n",
       "Davos             beg pardon lady know stark beheaded father   \n",
       "Kinvara              dragons fire made flesh gift lord light   \n",
       "Nan                                                     None   \n",
       "Three-Eyed Raven                                               \n",
       "Tyrion                             yes know brought security   \n",
       "\n",
       "                                            3   \\\n",
       "Davos                     precious little lady   \n",
       "Kinvara           want queen worshipped obeyed   \n",
       "Nan                                       None   \n",
       "Three-Eyed Raven                     time come   \n",
       "Tyrion                           said anything   \n",
       "\n",
       "                                                                4   \\\n",
       "Davos             may well loyal many rose boltons betrayed family   \n",
       "Kinvara                                    summon eloquent priests   \n",
       "Nan                                                           None   \n",
       "Three-Eyed Raven                                            become   \n",
       "Tyrion                                       thats extent valyrian   \n",
       "\n",
       "                                    5                             6   \\\n",
       "Davos                       dont doubt  didnt know tullys still army   \n",
       "Kinvara               everything lords               everyone reason   \n",
       "Nan                               None                          None   \n",
       "Three-Eyed Raven                               listen friend brandon   \n",
       "Tyrion            thank travelling way               truth need help   \n",
       "\n",
       "                                   7            8   \\\n",
       "Davos                      thats good         None   \n",
       "Kinvara           tell name one spoke  serve queen   \n",
       "Nan                              None         None   \n",
       "Three-Eyed Raven                 None         None   \n",
       "Tyrion                            yes       indeed   \n",
       "\n",
       "                                                             9   \\\n",
       "Davos                                                      None   \n",
       "Kinvara                                                    None   \n",
       "Nan                                                        None   \n",
       "Three-Eyed Raven                                           None   \n",
       "Tyrion            ideally wed avoid purifying many nonbelievers   \n",
       "\n",
       "                                10                      11  \\\n",
       "Davos                         None                    None   \n",
       "Kinvara                       None                    None   \n",
       "Nan                           None                    None   \n",
       "Three-Eyed Raven              None                    None   \n",
       "Tyrion            id settle obeyed  sounds excellent varys   \n",
       "\n",
       "                                                        12  \\\n",
       "Davos                                                 None   \n",
       "Kinvara                                               None   \n",
       "Nan                                                   None   \n",
       "Three-Eyed Raven                                      None   \n",
       "Tyrion            wed grateful support could provide queen   \n",
       "\n",
       "                                                                 13    14  \\\n",
       "Davos                                                          None  None   \n",
       "Kinvara                                                        None  None   \n",
       "Nan                                                            None  None   \n",
       "Three-Eyed Raven                                               None  None   \n",
       "Tyrion            friend healthy skepticism religion loyal suppo...  None   \n",
       "\n",
       "                    15    16    17    18    19    20    21    22    23    24  \\\n",
       "Davos             None  None  None  None  None  None  None  None  None  None   \n",
       "Kinvara           None  None  None  None  None  None  None  None  None  None   \n",
       "Nan               None  None  None  None  None  None  None  None  None  None   \n",
       "Three-Eyed Raven  None  None  None  None  None  None  None  None  None  None   \n",
       "Tyrion            None  None  None  None  None  None  None  None  None  None   \n",
       "\n",
       "                    25    26    27    28    29  \n",
       "Davos             None  None  None  None  None  \n",
       "Kinvara           None  None  None  None  None  \n",
       "Nan               None  None  None  None  None  \n",
       "Three-Eyed Raven  None  None  None  None  None  \n",
       "Tyrion            None  None  None  None  None  "
      ]
     },
     "execution_count": 114,
     "metadata": {},
     "output_type": "execute_result"
    }
   ],
   "source": [
    "episode_five.head()"
   ]
  },
  {
   "cell_type": "markdown",
   "metadata": {},
   "source": [
    "### Episode Six"
   ]
  },
  {
   "cell_type": "code",
   "execution_count": 115,
   "metadata": {
    "scrolled": true
   },
   "outputs": [],
   "source": [
    "#df_s6.script_text[5]"
   ]
  },
  {
   "cell_type": "code",
   "execution_count": 116,
   "metadata": {},
   "outputs": [
    {
     "name": "stdout",
     "output_type": "stream",
     "text": [
      "<type 'list'>\n"
     ]
    }
   ],
   "source": [
    "script_text6_06 = df_s6.script_text[5]\n",
    "print type(script_text6_06)\n",
    "\n",
    "#script_text6_06"
   ]
  },
  {
   "cell_type": "code",
   "execution_count": 117,
   "metadata": {
    "scrolled": true
   },
   "outputs": [],
   "source": [
    "script_split6 = [i.split('\\n') for i in script_text6_06]\n",
    "#script_split6"
   ]
  },
  {
   "cell_type": "code",
   "execution_count": 118,
   "metadata": {
    "collapsed": true
   },
   "outputs": [],
   "source": [
    "string_script_text6 = ' '\n",
    "\n",
    "for i in script_split6:\n",
    "    for e in i:\n",
    "        string_script_text6 = string_script_text6 + ' ' + e"
   ]
  },
  {
   "cell_type": "code",
   "execution_count": 119,
   "metadata": {},
   "outputs": [],
   "source": [
    "#string_script_text6"
   ]
  },
  {
   "cell_type": "code",
   "execution_count": 120,
   "metadata": {},
   "outputs": [],
   "source": [
    "words6 = word_tokenize(string_script_text6)\n",
    "#words6"
   ]
  },
  {
   "cell_type": "code",
   "execution_count": 121,
   "metadata": {
    "scrolled": true
   },
   "outputs": [],
   "source": [
    "sentences6 = sent_tokenize(string_script_text6)\n",
    "#sentences6"
   ]
  },
  {
   "cell_type": "code",
   "execution_count": 122,
   "metadata": {
    "collapsed": true,
    "scrolled": false
   },
   "outputs": [],
   "source": [
    "dialogue6 = []\n",
    "\n",
    "for sentence in sentences6:\n",
    "    words=sentence.split(':')[0]\n",
    "    if len(words.split())<=2:\n",
    "        if words in (names6_06):\n",
    "            dialogue6.append(sentence)"
   ]
  },
  {
   "cell_type": "code",
   "execution_count": 123,
   "metadata": {
    "scrolled": true
   },
   "outputs": [],
   "source": [
    "#dialogue6"
   ]
  },
  {
   "cell_type": "code",
   "execution_count": 124,
   "metadata": {
    "collapsed": true
   },
   "outputs": [],
   "source": [
    "import pickle\n",
    "with open('/Users/zoemarkovits/Metis/project_five_got/Dialogue_PKLs/s606.pkl', 'wb') as f:\n",
    "    pickle.dump(dialogue6, f)"
   ]
  },
  {
   "cell_type": "code",
   "execution_count": 125,
   "metadata": {
    "scrolled": true
   },
   "outputs": [],
   "source": [
    "from collections import defaultdict\n",
    "\n",
    "speakers6 = defaultdict(list)\n",
    "for sentence in dialogue6:\n",
    "    speakers6[sentence.split(':')[0]].append(sentence.split(':')[1])\n",
    "\n",
    "#speakers6"
   ]
  },
  {
   "cell_type": "code",
   "execution_count": 126,
   "metadata": {
    "scrolled": false
   },
   "outputs": [
    {
     "data": {
      "text/plain": [
       "[u' Nothing.',\n",
       " u' Three times.',\n",
       " u' No.',\n",
       " u' You\\u2019re very good.',\n",
       " u' So change it.',\n",
       " u' The queen loves her son more than anything.',\n",
       " u' Mercy.',\n",
       " u' I have to go.',\n",
       " u' Careful of that one.']"
      ]
     },
     "execution_count": 126,
     "metadata": {},
     "output_type": "execute_result"
    }
   ],
   "source": [
    "speakers6['ARYA']"
   ]
  },
  {
   "cell_type": "code",
   "execution_count": 127,
   "metadata": {
    "scrolled": true
   },
   "outputs": [
    {
     "name": "stdout",
     "output_type": "stream",
     "text": [
      "(34, 32)\n"
     ]
    }
   ],
   "source": [
    "episode_six = pd.DataFrame.from_dict(speakers6, orient=\"index\")\n",
    "print episode_six.shape"
   ]
  },
  {
   "cell_type": "code",
   "execution_count": 128,
   "metadata": {
    "collapsed": true
   },
   "outputs": [],
   "source": [
    "#from numpy import nan\n",
    "#episode_six.fillna(value=str(0), inplace=True)"
   ]
  },
  {
   "cell_type": "code",
   "execution_count": 129,
   "metadata": {
    "scrolled": true
   },
   "outputs": [],
   "source": [
    "#episode_six.info()"
   ]
  },
  {
   "cell_type": "code",
   "execution_count": 130,
   "metadata": {},
   "outputs": [],
   "source": [
    "#episode_six.head()"
   ]
  },
  {
   "cell_type": "code",
   "execution_count": 131,
   "metadata": {
    "scrolled": true
   },
   "outputs": [],
   "source": [
    "test6 = episode_six[0].apply(remove_stops)\n",
    "#test6"
   ]
  },
  {
   "cell_type": "code",
   "execution_count": 132,
   "metadata": {
    "collapsed": true,
    "scrolled": false
   },
   "outputs": [],
   "source": [
    "for column in episode_six.columns:\n",
    "    for x in range(len(episode_six[column])):\n",
    "        episode_six[column][x] = remove_stops(episode_six[column][x])"
   ]
  },
  {
   "cell_type": "code",
   "execution_count": 133,
   "metadata": {
    "collapsed": true
   },
   "outputs": [],
   "source": [
    "episode_six.index = episode_six.index.str.title()"
   ]
  },
  {
   "cell_type": "code",
   "execution_count": 134,
   "metadata": {
    "scrolled": false
   },
   "outputs": [
    {
     "data": {
      "text/html": [
       "<div>\n",
       "<table border=\"1\" class=\"dataframe\">\n",
       "  <thead>\n",
       "    <tr style=\"text-align: right;\">\n",
       "      <th></th>\n",
       "      <th>0</th>\n",
       "      <th>1</th>\n",
       "      <th>2</th>\n",
       "      <th>3</th>\n",
       "      <th>4</th>\n",
       "      <th>5</th>\n",
       "      <th>6</th>\n",
       "      <th>7</th>\n",
       "      <th>8</th>\n",
       "      <th>9</th>\n",
       "      <th>10</th>\n",
       "      <th>11</th>\n",
       "      <th>12</th>\n",
       "      <th>13</th>\n",
       "      <th>14</th>\n",
       "      <th>15</th>\n",
       "      <th>16</th>\n",
       "      <th>17</th>\n",
       "      <th>18</th>\n",
       "      <th>19</th>\n",
       "      <th>20</th>\n",
       "      <th>21</th>\n",
       "      <th>22</th>\n",
       "      <th>23</th>\n",
       "      <th>24</th>\n",
       "      <th>25</th>\n",
       "      <th>26</th>\n",
       "      <th>27</th>\n",
       "      <th>28</th>\n",
       "      <th>29</th>\n",
       "      <th>30</th>\n",
       "      <th>31</th>\n",
       "    </tr>\n",
       "  </thead>\n",
       "  <tbody>\n",
       "    <tr>\n",
       "      <th>Dickon</th>\n",
       "      <td>well</td>\n",
       "      <td>brought yards</td>\n",
       "      <td>much hunting wall</td>\n",
       "      <td>mmhmmm</td>\n",
       "      <td>theres thing</td>\n",
       "      <td>None</td>\n",
       "      <td>None</td>\n",
       "      <td>None</td>\n",
       "      <td>None</td>\n",
       "      <td>None</td>\n",
       "      <td>None</td>\n",
       "      <td>None</td>\n",
       "      <td>None</td>\n",
       "      <td>None</td>\n",
       "      <td>None</td>\n",
       "      <td>None</td>\n",
       "      <td>None</td>\n",
       "      <td>None</td>\n",
       "      <td>None</td>\n",
       "      <td>None</td>\n",
       "      <td>None</td>\n",
       "      <td>None</td>\n",
       "      <td>None</td>\n",
       "      <td>None</td>\n",
       "      <td>None</td>\n",
       "      <td>None</td>\n",
       "      <td>None</td>\n",
       "      <td>None</td>\n",
       "      <td>None</td>\n",
       "      <td>None</td>\n",
       "      <td>None</td>\n",
       "      <td>None</td>\n",
       "    </tr>\n",
       "    <tr>\n",
       "      <th>Gilly</th>\n",
       "      <td>green</td>\n",
       "      <td>youre nervous</td>\n",
       "      <td>thats better nervous mute</td>\n",
       "      <td>little sam baby</td>\n",
       "      <td>tell family</td>\n",
       "      <td>tell far north</td>\n",
       "      <td>didnt tell im really</td>\n",
       "      <td>think</td>\n",
       "      <td>happy know lady tarly</td>\n",
       "      <td>yes course</td>\n",
       "      <td>hard walk</td>\n",
       "      <td>wield sword</td>\n",
       "      <td>saw eyes way castle black</td>\n",
       "      <td>nights watch came keep</td>\n",
       "      <td>north wall</td>\n",
       "      <td>im angry</td>\n",
       "      <td>youre thinks sam</td>\n",
       "      <td>sam</td>\n",
       "      <td></td>\n",
       "      <td>dont things</td>\n",
       "      <td></td>\n",
       "      <td>sisters dress</td>\n",
       "      <td>sam</td>\n",
       "      <td>sam</td>\n",
       "      <td>None</td>\n",
       "      <td>None</td>\n",
       "      <td>None</td>\n",
       "      <td>None</td>\n",
       "      <td>None</td>\n",
       "      <td>None</td>\n",
       "      <td>None</td>\n",
       "      <td>None</td>\n",
       "    </tr>\n",
       "    <tr>\n",
       "      <th>Jaime</th>\n",
       "      <td>lord</td>\n",
       "      <td>sorry interrupt</td>\n",
       "      <td>speak king tommen house baratheon first name</td>\n",
       "      <td>already insulted one great house</td>\n",
       "      <td>ive member kingsguard since born</td>\n",
       "      <td>youre sitting chair</td>\n",
       "      <td>walking naked streets</td>\n",
       "      <td>im sent deal blackfish</td>\n",
       "      <td>im going riverlands</td>\n",
       "      <td>im going give bronn largest bag gold anyones e...</td>\n",
       "      <td>son</td>\n",
       "      <td>youll stand trial soon</td>\n",
       "      <td>None</td>\n",
       "      <td>None</td>\n",
       "      <td>None</td>\n",
       "      <td>None</td>\n",
       "      <td>None</td>\n",
       "      <td>None</td>\n",
       "      <td>None</td>\n",
       "      <td>None</td>\n",
       "      <td>None</td>\n",
       "      <td>None</td>\n",
       "      <td>None</td>\n",
       "      <td>None</td>\n",
       "      <td>None</td>\n",
       "      <td>None</td>\n",
       "      <td>None</td>\n",
       "      <td>None</td>\n",
       "      <td>None</td>\n",
       "      <td>None</td>\n",
       "      <td>None</td>\n",
       "      <td>None</td>\n",
       "    </tr>\n",
       "    <tr>\n",
       "      <th>Woman</th>\n",
       "      <td>long live king tommen bless queen margaery</td>\n",
       "      <td>None</td>\n",
       "      <td>None</td>\n",
       "      <td>None</td>\n",
       "      <td>None</td>\n",
       "      <td>None</td>\n",
       "      <td>None</td>\n",
       "      <td>None</td>\n",
       "      <td>None</td>\n",
       "      <td>None</td>\n",
       "      <td>None</td>\n",
       "      <td>None</td>\n",
       "      <td>None</td>\n",
       "      <td>None</td>\n",
       "      <td>None</td>\n",
       "      <td>None</td>\n",
       "      <td>None</td>\n",
       "      <td>None</td>\n",
       "      <td>None</td>\n",
       "      <td>None</td>\n",
       "      <td>None</td>\n",
       "      <td>None</td>\n",
       "      <td>None</td>\n",
       "      <td>None</td>\n",
       "      <td>None</td>\n",
       "      <td>None</td>\n",
       "      <td>None</td>\n",
       "      <td>None</td>\n",
       "      <td>None</td>\n",
       "      <td>None</td>\n",
       "      <td>None</td>\n",
       "      <td>None</td>\n",
       "    </tr>\n",
       "    <tr>\n",
       "      <th>Sam</th>\n",
       "      <td>oh yes</td>\n",
       "      <td>didnt think id ever come back father made reno...</td>\n",
       "      <td>certainly didnt expect introducing family</td>\n",
       "      <td>yes thats important</td>\n",
       "      <td>told met north</td>\n",
       "      <td>well wasnt large piece parchment</td>\n",
       "      <td>thing ismy father doesnt like wildlings</td>\n",
       "      <td>oh hello mother</td>\n",
       "      <td>oh</td>\n",
       "      <td>talla</td>\n",
       "      <td>oh um mother gilly</td>\n",
       "      <td>oh son samwell</td>\n",
       "      <td>father</td>\n",
       "      <td>beautiful</td>\n",
       "      <td>oh course</td>\n",
       "      <td>oh thats fair distance</td>\n",
       "      <td>oh yes</td>\n",
       "      <td>rabbits</td>\n",
       "      <td>oh yes</td>\n",
       "      <td>travelled south orders lord commander</td>\n",
       "      <td>yes</td>\n",
       "      <td>gilly</td>\n",
       "      <td>first light</td>\n",
       "      <td>say goodbye</td>\n",
       "      <td>goodbye gilly</td>\n",
       "      <td>leaving</td>\n",
       "      <td>get things</td>\n",
       "      <td>belong together</td>\n",
       "      <td>oh theyll understand</td>\n",
       "      <td>wont mind</td>\n",
       "      <td>familys sword</td>\n",
       "      <td>bloody well try</td>\n",
       "    </tr>\n",
       "  </tbody>\n",
       "</table>\n",
       "</div>"
      ],
      "text/plain": [
       "                                                0   \\\n",
       "Dickon                                        well   \n",
       "Gilly                                        green   \n",
       "Jaime                                         lord   \n",
       "Woman   long live king tommen bless queen margaery   \n",
       "Sam                                         oh yes   \n",
       "\n",
       "                                                       1   \\\n",
       "Dickon                                      brought yards   \n",
       "Gilly                                       youre nervous   \n",
       "Jaime                                     sorry interrupt   \n",
       "Woman                                                None   \n",
       "Sam     didnt think id ever come back father made reno...   \n",
       "\n",
       "                                                  2   \\\n",
       "Dickon                             much hunting wall   \n",
       "Gilly                      thats better nervous mute   \n",
       "Jaime   speak king tommen house baratheon first name   \n",
       "Woman                                           None   \n",
       "Sam        certainly didnt expect introducing family   \n",
       "\n",
       "                                      3                                 4   \\\n",
       "Dickon                            mmhmmm                      theres thing   \n",
       "Gilly                    little sam baby                       tell family   \n",
       "Jaime   already insulted one great house  ive member kingsguard since born   \n",
       "Woman                               None                              None   \n",
       "Sam                  yes thats important                    told met north   \n",
       "\n",
       "                                      5   \\\n",
       "Dickon                              None   \n",
       "Gilly                     tell far north   \n",
       "Jaime                youre sitting chair   \n",
       "Woman                               None   \n",
       "Sam     well wasnt large piece parchment   \n",
       "\n",
       "                                             6                       7   \\\n",
       "Dickon                                     None                    None   \n",
       "Gilly                      didnt tell im really                   think   \n",
       "Jaime                     walking naked streets  im sent deal blackfish   \n",
       "Woman                                      None                    None   \n",
       "Sam     thing ismy father doesnt like wildlings         oh hello mother   \n",
       "\n",
       "                           8   \\\n",
       "Dickon                   None   \n",
       "Gilly   happy know lady tarly   \n",
       "Jaime     im going riverlands   \n",
       "Woman                    None   \n",
       "Sam                        oh   \n",
       "\n",
       "                                                       9                   10  \\\n",
       "Dickon                                               None                None   \n",
       "Gilly                                          yes course           hard walk   \n",
       "Jaime   im going give bronn largest bag gold anyones e...                 son   \n",
       "Woman                                                None                None   \n",
       "Sam                                                 talla  oh um mother gilly   \n",
       "\n",
       "                            11                         12  \\\n",
       "Dickon                    None                       None   \n",
       "Gilly              wield sword  saw eyes way castle black   \n",
       "Jaime   youll stand trial soon                       None   \n",
       "Woman                     None                       None   \n",
       "Sam             oh son samwell                     father   \n",
       "\n",
       "                            13          14                      15  \\\n",
       "Dickon                    None        None                    None   \n",
       "Gilly   nights watch came keep  north wall                im angry   \n",
       "Jaime                     None        None                    None   \n",
       "Woman                     None        None                    None   \n",
       "Sam                  beautiful   oh course  oh thats fair distance   \n",
       "\n",
       "                      16       17      18  \\\n",
       "Dickon              None     None    None   \n",
       "Gilly   youre thinks sam      sam           \n",
       "Jaime               None     None    None   \n",
       "Woman               None     None    None   \n",
       "Sam               oh yes  rabbits  oh yes   \n",
       "\n",
       "                                           19    20             21  \\\n",
       "Dickon                                   None  None           None   \n",
       "Gilly                             dont things        sisters dress   \n",
       "Jaime                                    None  None           None   \n",
       "Woman                                    None  None           None   \n",
       "Sam     travelled south orders lord commander   yes          gilly   \n",
       "\n",
       "                 22           23             24       25          26  \\\n",
       "Dickon         None         None           None     None        None   \n",
       "Gilly           sam          sam           None     None        None   \n",
       "Jaime          None         None           None     None        None   \n",
       "Woman          None         None           None     None        None   \n",
       "Sam     first light  say goodbye  goodbye gilly  leaving  get things   \n",
       "\n",
       "                     27                    28         29             30  \\\n",
       "Dickon             None                  None       None           None   \n",
       "Gilly              None                  None       None           None   \n",
       "Jaime              None                  None       None           None   \n",
       "Woman              None                  None       None           None   \n",
       "Sam     belong together  oh theyll understand  wont mind  familys sword   \n",
       "\n",
       "                     31  \n",
       "Dickon             None  \n",
       "Gilly              None  \n",
       "Jaime              None  \n",
       "Woman              None  \n",
       "Sam     bloody well try  "
      ]
     },
     "execution_count": 134,
     "metadata": {},
     "output_type": "execute_result"
    }
   ],
   "source": [
    "episode_six.head()"
   ]
  },
  {
   "cell_type": "markdown",
   "metadata": {},
   "source": [
    "### Episode Seven"
   ]
  },
  {
   "cell_type": "code",
   "execution_count": 135,
   "metadata": {
    "scrolled": true
   },
   "outputs": [],
   "source": [
    "#df_s6.script_text[6]"
   ]
  },
  {
   "cell_type": "code",
   "execution_count": 136,
   "metadata": {},
   "outputs": [
    {
     "name": "stdout",
     "output_type": "stream",
     "text": [
      "<type 'list'>\n"
     ]
    }
   ],
   "source": [
    "script_text6_07 = df_s6.script_text[6]\n",
    "print type(script_text6_07)\n",
    "\n",
    "#script_text6_07"
   ]
  },
  {
   "cell_type": "code",
   "execution_count": 137,
   "metadata": {
    "scrolled": true
   },
   "outputs": [],
   "source": [
    "script_split7 = [i.split('\\n') for i in script_text6_07]\n",
    "#script_split7"
   ]
  },
  {
   "cell_type": "code",
   "execution_count": 138,
   "metadata": {
    "collapsed": true
   },
   "outputs": [],
   "source": [
    "string_script_text7 = ' '\n",
    "\n",
    "for i in script_split7:\n",
    "    for e in i:\n",
    "        string_script_text7 = string_script_text7 + ' ' + e"
   ]
  },
  {
   "cell_type": "code",
   "execution_count": 139,
   "metadata": {},
   "outputs": [],
   "source": [
    "#string_script_text7"
   ]
  },
  {
   "cell_type": "code",
   "execution_count": 140,
   "metadata": {},
   "outputs": [],
   "source": [
    "words7 = word_tokenize(string_script_text7)\n",
    "#words7"
   ]
  },
  {
   "cell_type": "code",
   "execution_count": 141,
   "metadata": {
    "scrolled": true
   },
   "outputs": [],
   "source": [
    "sentences7 = sent_tokenize(string_script_text7)\n",
    "#sentences7"
   ]
  },
  {
   "cell_type": "code",
   "execution_count": 142,
   "metadata": {
    "collapsed": true,
    "scrolled": false
   },
   "outputs": [],
   "source": [
    "dialogue7 = []\n",
    "\n",
    "for sentence in sentences7:\n",
    "    words=sentence.split(':')[0]\n",
    "    if len(words.split())<=2:\n",
    "        if words in (names6_07):\n",
    "            dialogue7.append(sentence)"
   ]
  },
  {
   "cell_type": "code",
   "execution_count": 143,
   "metadata": {
    "scrolled": true
   },
   "outputs": [],
   "source": [
    "#dialogue7"
   ]
  },
  {
   "cell_type": "code",
   "execution_count": 144,
   "metadata": {
    "collapsed": true
   },
   "outputs": [],
   "source": [
    "import pickle\n",
    "with open('/Users/zoemarkovits/Metis/project_five_got/Dialogue_PKLs/s607.pkl', 'wb') as f:\n",
    "    pickle.dump(dialogue7, f)"
   ]
  },
  {
   "cell_type": "code",
   "execution_count": 145,
   "metadata": {
    "scrolled": true
   },
   "outputs": [],
   "source": [
    "from collections import defaultdict\n",
    "\n",
    "speakers7 = defaultdict(list)\n",
    "for sentence in dialogue7:\n",
    "    speakers7[sentence.split(':')[0]].append(sentence.split(':')[1])\n",
    "\n",
    "#speakers7"
   ]
  },
  {
   "cell_type": "code",
   "execution_count": 146,
   "metadata": {
    "scrolled": false
   },
   "outputs": [
    {
     "data": {
      "text/plain": [
       "[u' Now, that is a sorry attempt at a siege.',\n",
       " u' Oh, no.',\n",
       " u' Aye, knights don\\u2019t get paid.',\n",
       " u' That\\u2019s like saying I have a bigger cock than anyone in the Unsullied army.',\n",
       " u' You promised me a lordship and a castle and a highborn beauty for a wife.',\n",
       " u' Good thing we\\u2019re friends or we\\u2019d be fucking you in the ass right now.',\n",
       " u' Have your lads start digging perimeter trenches.',\n",
       " u' A parley or a fight?',\n",
       " u' You\\u2019ve got one hand.']"
      ]
     },
     "execution_count": 146,
     "metadata": {},
     "output_type": "execute_result"
    }
   ],
   "source": [
    "speakers7['BRONN']"
   ]
  },
  {
   "cell_type": "code",
   "execution_count": 147,
   "metadata": {
    "scrolled": true
   },
   "outputs": [
    {
     "name": "stdout",
     "output_type": "stream",
     "text": [
      "(26, 31)\n"
     ]
    }
   ],
   "source": [
    "episode_seven = pd.DataFrame.from_dict(speakers7, orient=\"index\")\n",
    "print episode_seven.shape"
   ]
  },
  {
   "cell_type": "code",
   "execution_count": 148,
   "metadata": {
    "collapsed": true
   },
   "outputs": [],
   "source": [
    "#from numpy import nan\n",
    "#episode_seven.fillna(value=str(0), inplace=True)"
   ]
  },
  {
   "cell_type": "code",
   "execution_count": 149,
   "metadata": {
    "scrolled": true
   },
   "outputs": [],
   "source": [
    "#episode_seven.info()"
   ]
  },
  {
   "cell_type": "code",
   "execution_count": 150,
   "metadata": {
    "scrolled": true
   },
   "outputs": [],
   "source": [
    "#episode_seven.head()"
   ]
  },
  {
   "cell_type": "code",
   "execution_count": 151,
   "metadata": {
    "scrolled": true
   },
   "outputs": [],
   "source": [
    "test7 = episode_seven[0].apply(remove_stops)\n",
    "#test7"
   ]
  },
  {
   "cell_type": "code",
   "execution_count": 152,
   "metadata": {
    "collapsed": true,
    "scrolled": false
   },
   "outputs": [],
   "source": [
    "for column in episode_seven.columns:\n",
    "    for x in range(len(episode_seven[column])):\n",
    "        episode_seven[column][x] = remove_stops(episode_seven[column][x])"
   ]
  },
  {
   "cell_type": "code",
   "execution_count": 153,
   "metadata": {
    "collapsed": true
   },
   "outputs": [],
   "source": [
    "episode_seven.index = episode_seven.index.str.title()"
   ]
  },
  {
   "cell_type": "code",
   "execution_count": 154,
   "metadata": {
    "scrolled": false
   },
   "outputs": [
    {
     "data": {
      "text/html": [
       "<div>\n",
       "<table border=\"1\" class=\"dataframe\">\n",
       "  <thead>\n",
       "    <tr style=\"text-align: right;\">\n",
       "      <th></th>\n",
       "      <th>0</th>\n",
       "      <th>1</th>\n",
       "      <th>2</th>\n",
       "      <th>3</th>\n",
       "      <th>4</th>\n",
       "      <th>5</th>\n",
       "      <th>6</th>\n",
       "      <th>7</th>\n",
       "      <th>8</th>\n",
       "      <th>9</th>\n",
       "      <th>10</th>\n",
       "      <th>11</th>\n",
       "      <th>12</th>\n",
       "      <th>13</th>\n",
       "      <th>14</th>\n",
       "      <th>15</th>\n",
       "      <th>16</th>\n",
       "      <th>17</th>\n",
       "      <th>18</th>\n",
       "      <th>19</th>\n",
       "      <th>20</th>\n",
       "      <th>21</th>\n",
       "      <th>22</th>\n",
       "      <th>23</th>\n",
       "      <th>24</th>\n",
       "      <th>25</th>\n",
       "      <th>26</th>\n",
       "      <th>27</th>\n",
       "      <th>28</th>\n",
       "      <th>29</th>\n",
       "      <th>30</th>\n",
       "    </tr>\n",
       "  </thead>\n",
       "  <tbody>\n",
       "    <tr>\n",
       "      <th>Davos</th>\n",
       "      <td>please lady understand feel</td>\n",
       "      <td>davos lady house seaworth</td>\n",
       "      <td>never thought youd find position</td>\n",
       "      <td>uncle lord commander mormont made man steward</td>\n",
       "      <td>long boltons hold winterfell north divided</td>\n",
       "      <td>theyre half ferocious lady boltons doomed</td>\n",
       "      <td>stannis camped way winterfell</td>\n",
       "      <td>experienced commander westeros</td>\n",
       "      <td>wildlings</td>\n",
       "      <td>wed hoped</td>\n",
       "      <td>fucks sake</td>\n",
       "      <td>friends worth fighting</td>\n",
       "      <td>thisll</td>\n",
       "      <td>hold</td>\n",
       "      <td>None</td>\n",
       "      <td>None</td>\n",
       "      <td>None</td>\n",
       "      <td>None</td>\n",
       "      <td>None</td>\n",
       "      <td>None</td>\n",
       "      <td>None</td>\n",
       "      <td>None</td>\n",
       "      <td>None</td>\n",
       "      <td>None</td>\n",
       "      <td>None</td>\n",
       "      <td>None</td>\n",
       "      <td>None</td>\n",
       "      <td>None</td>\n",
       "      <td>None</td>\n",
       "      <td>None</td>\n",
       "      <td>None</td>\n",
       "    </tr>\n",
       "    <tr>\n",
       "      <th>Bronn</th>\n",
       "      <td>sorry attempt siege</td>\n",
       "      <td>oh</td>\n",
       "      <td>aye knights dont get paid</td>\n",
       "      <td>thats like saying bigger cock anyone unsullied...</td>\n",
       "      <td>promised lordship castle highborn beauty wife</td>\n",
       "      <td>good thing friends wed fucking ass right</td>\n",
       "      <td>lads start digging perimeter trenches</td>\n",
       "      <td>parley fight</td>\n",
       "      <td>youve got one hand</td>\n",
       "      <td>None</td>\n",
       "      <td>None</td>\n",
       "      <td>None</td>\n",
       "      <td>None</td>\n",
       "      <td>None</td>\n",
       "      <td>None</td>\n",
       "      <td>None</td>\n",
       "      <td>None</td>\n",
       "      <td>None</td>\n",
       "      <td>None</td>\n",
       "      <td>None</td>\n",
       "      <td>None</td>\n",
       "      <td>None</td>\n",
       "      <td>None</td>\n",
       "      <td>None</td>\n",
       "      <td>None</td>\n",
       "      <td>None</td>\n",
       "      <td>None</td>\n",
       "      <td>None</td>\n",
       "      <td>None</td>\n",
       "      <td>None</td>\n",
       "      <td>None</td>\n",
       "    </tr>\n",
       "    <tr>\n",
       "      <th>Jaime</th>\n",
       "      <td>someone certainly</td>\n",
       "      <td>youre anointed knight</td>\n",
       "      <td>better instincts officer lannister army</td>\n",
       "      <td>expect command lannister forces long</td>\n",
       "      <td>youll get three</td>\n",
       "      <td>lothar</td>\n",
       "      <td>cause didnt set proper perimeter</td>\n",
       "      <td>lord edmure bathed fed</td>\n",
       "      <td>fool makes threats hes prepared carry</td>\n",
       "      <td>siege command</td>\n",
       "      <td>get word blackfish</td>\n",
       "      <td>hes old man</td>\n",
       "      <td>blackfish</td>\n",
       "      <td>dont</td>\n",
       "      <td>know im</td>\n",
       "      <td>wont stop edmure</td>\n",
       "      <td>well breach kill every last one</td>\n",
       "      <td>war ser</td>\n",
       "      <td>clearly intention saving mens lives</td>\n",
       "      <td>well</td>\n",
       "      <td>None</td>\n",
       "      <td>None</td>\n",
       "      <td>None</td>\n",
       "      <td>None</td>\n",
       "      <td>None</td>\n",
       "      <td>None</td>\n",
       "      <td>None</td>\n",
       "      <td>None</td>\n",
       "      <td>None</td>\n",
       "      <td>None</td>\n",
       "      <td>None</td>\n",
       "    </tr>\n",
       "    <tr>\n",
       "      <th>Brynden</th>\n",
       "      <td>go</td>\n",
       "      <td>kingslayer</td>\n",
       "      <td>assume youre fulfill vow gave niece</td>\n",
       "      <td>pity</td>\n",
       "      <td></td>\n",
       "      <td>nephews marked death matter</td>\n",
       "      <td>hundreds mine</td>\n",
       "      <td>honor</td>\n",
       "      <td>long im standing war</td>\n",
       "      <td>sieges dull</td>\n",
       "      <td>aye</td>\n",
       "      <td>None</td>\n",
       "      <td>None</td>\n",
       "      <td>None</td>\n",
       "      <td>None</td>\n",
       "      <td>None</td>\n",
       "      <td>None</td>\n",
       "      <td>None</td>\n",
       "      <td>None</td>\n",
       "      <td>None</td>\n",
       "      <td>None</td>\n",
       "      <td>None</td>\n",
       "      <td>None</td>\n",
       "      <td>None</td>\n",
       "      <td>None</td>\n",
       "      <td>None</td>\n",
       "      <td>None</td>\n",
       "      <td>None</td>\n",
       "      <td>None</td>\n",
       "      <td>None</td>\n",
       "      <td>None</td>\n",
       "    </tr>\n",
       "    <tr>\n",
       "      <th>Yara</th>\n",
       "      <td>us still like</td>\n",
       "      <td>dont go far love</td>\n",
       "      <td>ill find bit</td>\n",
       "      <td>nothing iron islands ass like</td>\n",
       "      <td>im sorry</td>\n",
       "      <td>course</td>\n",
       "      <td>great big world fast ships</td>\n",
       "      <td>dont care want</td>\n",
       "      <td>drink</td>\n",
       "      <td>youre ironborn theon</td>\n",
       "      <td>im tired watching cower like beat dog</td>\n",
       "      <td>listen</td>\n",
       "      <td>escaped hear</td>\n",
       "      <td>fuck justice</td>\n",
       "      <td>listen</td>\n",
       "      <td></td>\n",
       "      <td>since last night ashore long im gonna go fuck ...</td>\n",
       "      <td>None</td>\n",
       "      <td>None</td>\n",
       "      <td>None</td>\n",
       "      <td>None</td>\n",
       "      <td>None</td>\n",
       "      <td>None</td>\n",
       "      <td>None</td>\n",
       "      <td>None</td>\n",
       "      <td>None</td>\n",
       "      <td>None</td>\n",
       "      <td>None</td>\n",
       "      <td>None</td>\n",
       "      <td>None</td>\n",
       "      <td>None</td>\n",
       "    </tr>\n",
       "  </tbody>\n",
       "</table>\n",
       "</div>"
      ],
      "text/plain": [
       "                                  0                          1   \\\n",
       "Davos    please lady understand feel  davos lady house seaworth   \n",
       "Bronn            sorry attempt siege                         oh   \n",
       "Jaime              someone certainly      youre anointed knight   \n",
       "Brynden                           go                 kingslayer   \n",
       "Yara                   us still like           dont go far love   \n",
       "\n",
       "                                              2   \\\n",
       "Davos           never thought youd find position   \n",
       "Bronn                  aye knights dont get paid   \n",
       "Jaime    better instincts officer lannister army   \n",
       "Brynden      assume youre fulfill vow gave niece   \n",
       "Yara                                ill find bit   \n",
       "\n",
       "                                                        3   \\\n",
       "Davos        uncle lord commander mormont made man steward   \n",
       "Bronn    thats like saying bigger cock anyone unsullied...   \n",
       "Jaime                 expect command lannister forces long   \n",
       "Brynden                                               pity   \n",
       "Yara                         nothing iron islands ass like   \n",
       "\n",
       "                                                    4   \\\n",
       "Davos       long boltons hold winterfell north divided   \n",
       "Bronn    promised lordship castle highborn beauty wife   \n",
       "Jaime                                  youll get three   \n",
       "Brynden                                                  \n",
       "Yara                                          im sorry   \n",
       "\n",
       "                                                5   \\\n",
       "Davos    theyre half ferocious lady boltons doomed   \n",
       "Bronn     good thing friends wed fucking ass right   \n",
       "Jaime                                       lothar   \n",
       "Brynden                nephews marked death matter   \n",
       "Yara                                        course   \n",
       "\n",
       "                                            6   \\\n",
       "Davos            stannis camped way winterfell   \n",
       "Bronn    lads start digging perimeter trenches   \n",
       "Jaime         cause didnt set proper perimeter   \n",
       "Brynden                          hundreds mine   \n",
       "Yara                great big world fast ships   \n",
       "\n",
       "                                     7   \\\n",
       "Davos    experienced commander westeros   \n",
       "Bronn                      parley fight   \n",
       "Jaime            lord edmure bathed fed   \n",
       "Brynden                           honor   \n",
       "Yara                     dont care want   \n",
       "\n",
       "                                            8                     9   \\\n",
       "Davos                                wildlings             wed hoped   \n",
       "Bronn                       youve got one hand                  None   \n",
       "Jaime    fool makes threats hes prepared carry         siege command   \n",
       "Brynden                   long im standing war           sieges dull   \n",
       "Yara                                     drink  youre ironborn theon   \n",
       "\n",
       "                                            10                      11  \\\n",
       "Davos                               fucks sake  friends worth fighting   \n",
       "Bronn                                     None                    None   \n",
       "Jaime                       get word blackfish             hes old man   \n",
       "Brynden                                    aye                    None   \n",
       "Yara     im tired watching cower like beat dog                  listen   \n",
       "\n",
       "                   12            13       14                15  \\\n",
       "Davos          thisll          hold     None              None   \n",
       "Bronn            None          None     None              None   \n",
       "Jaime       blackfish          dont  know im  wont stop edmure   \n",
       "Brynden          None          None     None              None   \n",
       "Yara     escaped hear  fuck justice   listen                     \n",
       "\n",
       "                                                        16       17  \\\n",
       "Davos                                                 None     None   \n",
       "Bronn                                                 None     None   \n",
       "Jaime                      well breach kill every last one  war ser   \n",
       "Brynden                                               None     None   \n",
       "Yara     since last night ashore long im gonna go fuck ...     None   \n",
       "\n",
       "                                          18    19    20    21    22    23  \\\n",
       "Davos                                   None  None  None  None  None  None   \n",
       "Bronn                                   None  None  None  None  None  None   \n",
       "Jaime    clearly intention saving mens lives  well  None  None  None  None   \n",
       "Brynden                                 None  None  None  None  None  None   \n",
       "Yara                                    None  None  None  None  None  None   \n",
       "\n",
       "           24    25    26    27    28    29    30  \n",
       "Davos    None  None  None  None  None  None  None  \n",
       "Bronn    None  None  None  None  None  None  None  \n",
       "Jaime    None  None  None  None  None  None  None  \n",
       "Brynden  None  None  None  None  None  None  None  \n",
       "Yara     None  None  None  None  None  None  None  "
      ]
     },
     "execution_count": 154,
     "metadata": {},
     "output_type": "execute_result"
    }
   ],
   "source": [
    "episode_seven.head()"
   ]
  },
  {
   "cell_type": "markdown",
   "metadata": {},
   "source": [
    "### Episode Eight"
   ]
  },
  {
   "cell_type": "code",
   "execution_count": 155,
   "metadata": {
    "scrolled": true
   },
   "outputs": [],
   "source": [
    "#df_s6.script_text[7]"
   ]
  },
  {
   "cell_type": "code",
   "execution_count": 156,
   "metadata": {},
   "outputs": [
    {
     "name": "stdout",
     "output_type": "stream",
     "text": [
      "<type 'list'>\n"
     ]
    }
   ],
   "source": [
    "script_text6_08 = df_s6.script_text[7]\n",
    "print type(script_text6_08)\n",
    "\n",
    "#script_text6_08"
   ]
  },
  {
   "cell_type": "code",
   "execution_count": 157,
   "metadata": {
    "scrolled": true
   },
   "outputs": [],
   "source": [
    "script_split8 = [i.split('\\n') for i in script_text6_08]\n",
    "#script_split8"
   ]
  },
  {
   "cell_type": "code",
   "execution_count": 158,
   "metadata": {
    "collapsed": true
   },
   "outputs": [],
   "source": [
    "string_script_text8 = ' '\n",
    "\n",
    "for i in script_split8:\n",
    "    for e in i:\n",
    "        string_script_text8 = string_script_text8 + ' ' + e"
   ]
  },
  {
   "cell_type": "code",
   "execution_count": 159,
   "metadata": {},
   "outputs": [],
   "source": [
    "#string_script_text8"
   ]
  },
  {
   "cell_type": "code",
   "execution_count": 160,
   "metadata": {},
   "outputs": [],
   "source": [
    "words8 = word_tokenize(string_script_text8)\n",
    "#words8"
   ]
  },
  {
   "cell_type": "code",
   "execution_count": 161,
   "metadata": {
    "scrolled": true
   },
   "outputs": [],
   "source": [
    "sentences8 = sent_tokenize(string_script_text8)\n",
    "#sentences8"
   ]
  },
  {
   "cell_type": "code",
   "execution_count": 162,
   "metadata": {
    "collapsed": true,
    "scrolled": false
   },
   "outputs": [],
   "source": [
    "dialogue8 = []\n",
    "\n",
    "for sentence in sentences8:\n",
    "    words=sentence.split(':')[0]\n",
    "    if len(words.split())<=2:\n",
    "        if words in (names6_08):\n",
    "            dialogue8.append(sentence)"
   ]
  },
  {
   "cell_type": "code",
   "execution_count": 163,
   "metadata": {
    "scrolled": true
   },
   "outputs": [],
   "source": [
    "#dialogue8"
   ]
  },
  {
   "cell_type": "code",
   "execution_count": 164,
   "metadata": {
    "collapsed": true
   },
   "outputs": [],
   "source": [
    "import pickle\n",
    "with open('/Users/zoemarkovits/Metis/project_five_got/Dialogue_PKLs/s608.pkl', 'wb') as f:\n",
    "    pickle.dump(dialogue8, f)"
   ]
  },
  {
   "cell_type": "code",
   "execution_count": 165,
   "metadata": {
    "scrolled": true
   },
   "outputs": [],
   "source": [
    "from collections import defaultdict\n",
    "\n",
    "speakers8 = defaultdict(list)\n",
    "for sentence in dialogue8:\n",
    "    speakers8[sentence.split(':')[0]].append(sentence.split(':')[1])\n",
    "\n",
    "#speakers8"
   ]
  },
  {
   "cell_type": "code",
   "execution_count": 166,
   "metadata": {
    "scrolled": true
   },
   "outputs": [
    {
     "data": {
      "text/plain": [
       "[u' And good at putting holes in them.',\n",
       " u' What happened to the actress?',\n",
       " u' Mmm.',\n",
       " u' I can\\u2019t.',\n",
       " u' I don\\u2019t think I could remember all of the lines.',\n",
       " u' You wouldn\\u2019t be safe.',\n",
       " u' She doesn\\u2019t have a name.',\n",
       " u' What\\u2019s that?',\n",
       " u' I don\\u2019t want any.',\n",
       " u' Lady Crane?',\n",
       " u' Lady Crane?',\n",
       " u' A girl is Arya Stark of Winterfell and I\\u2019m going home.']"
      ]
     },
     "execution_count": 166,
     "metadata": {},
     "output_type": "execute_result"
    }
   ],
   "source": [
    "speakers8['ARYA']"
   ]
  },
  {
   "cell_type": "code",
   "execution_count": 167,
   "metadata": {
    "scrolled": true
   },
   "outputs": [
    {
     "name": "stdout",
     "output_type": "stream",
     "text": [
      "(29, 36)\n"
     ]
    }
   ],
   "source": [
    "episode_eight = pd.DataFrame.from_dict(speakers8, orient=\"index\")\n",
    "print episode_eight.shape"
   ]
  },
  {
   "cell_type": "code",
   "execution_count": 168,
   "metadata": {
    "collapsed": true
   },
   "outputs": [],
   "source": [
    "#from numpy import nan\n",
    "#episode_eight.fillna(value=str(0), inplace=True)"
   ]
  },
  {
   "cell_type": "code",
   "execution_count": 169,
   "metadata": {
    "scrolled": true
   },
   "outputs": [],
   "source": [
    "#episode_eight.info()"
   ]
  },
  {
   "cell_type": "code",
   "execution_count": 170,
   "metadata": {},
   "outputs": [],
   "source": [
    "#episode_eight.head()"
   ]
  },
  {
   "cell_type": "code",
   "execution_count": 171,
   "metadata": {
    "scrolled": true
   },
   "outputs": [],
   "source": [
    "test8 = episode_eight[0].apply(remove_stops)\n",
    "#test8"
   ]
  },
  {
   "cell_type": "code",
   "execution_count": 172,
   "metadata": {
    "collapsed": true,
    "scrolled": false
   },
   "outputs": [],
   "source": [
    "for column in episode_eight.columns:\n",
    "    for x in range(len(episode_eight[column])):\n",
    "        episode_eight[column][x] = remove_stops(episode_eight[column][x])"
   ]
  },
  {
   "cell_type": "code",
   "execution_count": 173,
   "metadata": {
    "collapsed": true
   },
   "outputs": [],
   "source": [
    "episode_eight.index = episode_eight.index.str.title()"
   ]
  },
  {
   "cell_type": "code",
   "execution_count": 174,
   "metadata": {
    "scrolled": true
   },
   "outputs": [
    {
     "data": {
      "text/html": [
       "<div>\n",
       "<table border=\"1\" class=\"dataframe\">\n",
       "  <thead>\n",
       "    <tr style=\"text-align: right;\">\n",
       "      <th></th>\n",
       "      <th>0</th>\n",
       "      <th>1</th>\n",
       "      <th>2</th>\n",
       "      <th>3</th>\n",
       "      <th>4</th>\n",
       "      <th>5</th>\n",
       "      <th>6</th>\n",
       "      <th>7</th>\n",
       "      <th>8</th>\n",
       "      <th>9</th>\n",
       "      <th>10</th>\n",
       "      <th>11</th>\n",
       "      <th>12</th>\n",
       "      <th>13</th>\n",
       "      <th>14</th>\n",
       "      <th>15</th>\n",
       "      <th>16</th>\n",
       "      <th>17</th>\n",
       "      <th>18</th>\n",
       "      <th>19</th>\n",
       "      <th>20</th>\n",
       "      <th>21</th>\n",
       "      <th>22</th>\n",
       "      <th>23</th>\n",
       "      <th>24</th>\n",
       "      <th>25</th>\n",
       "      <th>26</th>\n",
       "      <th>27</th>\n",
       "      <th>28</th>\n",
       "      <th>29</th>\n",
       "      <th>30</th>\n",
       "      <th>31</th>\n",
       "      <th>32</th>\n",
       "      <th>33</th>\n",
       "      <th>34</th>\n",
       "      <th>35</th>\n",
       "    </tr>\n",
       "  </thead>\n",
       "  <tbody>\n",
       "    <tr>\n",
       "      <th>Kevan</th>\n",
       "      <td></td>\n",
       "      <td>royal announcement throne room moment</td>\n",
       "      <td>going</td>\n",
       "      <td>place gallery ladies court</td>\n",
       "      <td>None</td>\n",
       "      <td>None</td>\n",
       "      <td>None</td>\n",
       "      <td>None</td>\n",
       "      <td>None</td>\n",
       "      <td>None</td>\n",
       "      <td>None</td>\n",
       "      <td>None</td>\n",
       "      <td>None</td>\n",
       "      <td>None</td>\n",
       "      <td>None</td>\n",
       "      <td>None</td>\n",
       "      <td>None</td>\n",
       "      <td>None</td>\n",
       "      <td>None</td>\n",
       "      <td>None</td>\n",
       "      <td>None</td>\n",
       "      <td>None</td>\n",
       "      <td>None</td>\n",
       "      <td>None</td>\n",
       "      <td>None</td>\n",
       "      <td>None</td>\n",
       "      <td>None</td>\n",
       "      <td>None</td>\n",
       "      <td>None</td>\n",
       "      <td>None</td>\n",
       "      <td>None</td>\n",
       "      <td>None</td>\n",
       "      <td>None</td>\n",
       "      <td>None</td>\n",
       "      <td>None</td>\n",
       "      <td>None</td>\n",
       "    </tr>\n",
       "    <tr>\n",
       "      <th>Bronn</th>\n",
       "      <td>podrick fucking payne</td>\n",
       "      <td></td>\n",
       "      <td>think theyre fucking</td>\n",
       "      <td></td>\n",
       "      <td>oh</td>\n",
       "      <td>must shown</td>\n",
       "      <td></td>\n",
       "      <td>come old cunt like still sneak murder</td>\n",
       "      <td>thats truth isnt</td>\n",
       "      <td>right lets start footwork</td>\n",
       "      <td>show stance</td>\n",
       "      <td>listen pod</td>\n",
       "      <td>lesson number one assume everyone wants hit</td>\n",
       "      <td>None</td>\n",
       "      <td>None</td>\n",
       "      <td>None</td>\n",
       "      <td>None</td>\n",
       "      <td>None</td>\n",
       "      <td>None</td>\n",
       "      <td>None</td>\n",
       "      <td>None</td>\n",
       "      <td>None</td>\n",
       "      <td>None</td>\n",
       "      <td>None</td>\n",
       "      <td>None</td>\n",
       "      <td>None</td>\n",
       "      <td>None</td>\n",
       "      <td>None</td>\n",
       "      <td>None</td>\n",
       "      <td>None</td>\n",
       "      <td>None</td>\n",
       "      <td>None</td>\n",
       "      <td>None</td>\n",
       "      <td>None</td>\n",
       "      <td>None</td>\n",
       "      <td>None</td>\n",
       "    </tr>\n",
       "    <tr>\n",
       "      <th>Jaime</th>\n",
       "      <td>experience girls like dont live long</td>\n",
       "      <td>well im proud</td>\n",
       "      <td>youre welcome</td>\n",
       "      <td>army plan taking winterfell</td>\n",
       "      <td>theyre bit occupied moment</td>\n",
       "      <td>riverrun granted freys royal decree</td>\n",
       "      <td>exactly</td>\n",
       "      <td>shouldnt argue politics</td>\n",
       "      <td>im lannister</td>\n",
       "      <td>propose</td>\n",
       "      <td>would abandon ancestral home</td>\n",
       "      <td>ever met blackfish</td>\n",
       "      <td>hes even stubborn</td>\n",
       "      <td>right</td>\n",
       "      <td>word</td>\n",
       "      <td></td>\n",
       "      <td>yes lady brienne</td>\n",
       "      <td>course</td>\n",
       "      <td>lets hope doesnt come</td>\n",
       "      <td>lord edmure</td>\n",
       "      <td>apologize way freys treated</td>\n",
       "      <td>blackfish old man</td>\n",
       "      <td></td>\n",
       "      <td>ill remind houses war</td>\n",
       "      <td>give impression negotiation</td>\n",
       "      <td>ill leave judgments gods</td>\n",
       "      <td>sisters prisoner</td>\n",
       "      <td>perhaps didnt</td>\n",
       "      <td>dont im telling anyway youre prisoner</td>\n",
       "      <td>im trade insults</td>\n",
       "      <td>ill talk whomever want</td>\n",
       "      <td>loved children</td>\n",
       "      <td>theyd anything protect babies</td>\n",
       "      <td>thats exactly came</td>\n",
       "      <td>ill launch riverrun catapult</td>\n",
       "      <td>good</td>\n",
       "    </tr>\n",
       "    <tr>\n",
       "      <th>Tyrion</th>\n",
       "      <td>id call successful gambit</td>\n",
       "      <td>look around</td>\n",
       "      <td>worked</td>\n",
       "      <td>spoken like man never shave</td>\n",
       "      <td>im going miss</td>\n",
       "      <td>hope youre right expedition</td>\n",
       "      <td>need queen</td>\n",
       "      <td>varys</td>\n",
       "      <td>famous dwarf world</td>\n",
       "      <td>happy</td>\n",
       "      <td>like man reborn</td>\n",
       "      <td>dont drink</td>\n",
       "      <td></td>\n",
       "      <td>made rules</td>\n",
       "      <td>miserable old shits didnt want human</td>\n",
       "      <td>thats know working</td>\n",
       "      <td>heres queen</td>\n",
       "      <td>daenerys stormborn mother dragons breaker chai...</td>\n",
       "      <td>like</td>\n",
       "      <td>yes yes</td>\n",
       "      <td>tell joke missandei naath</td>\n",
       "      <td>grey worm</td>\n",
       "      <td>right</td>\n",
       "      <td>yes</td>\n",
       "      <td>story thats supposed make laugh ideally</td>\n",
       "      <td>missandei like wine</td>\n",
       "      <td>tell joke</td>\n",
       "      <td>lied us</td>\n",
       "      <td>cut</td>\n",
       "      <td>unsullied could mount defense beachhead</td>\n",
       "      <td>acknowledged</td>\n",
       "      <td>right army</td>\n",
       "      <td></td>\n",
       "      <td>None</td>\n",
       "      <td>None</td>\n",
       "      <td>None</td>\n",
       "    </tr>\n",
       "    <tr>\n",
       "      <th>Missandei</th>\n",
       "      <td>seem happy</td>\n",
       "      <td>happy queen returns</td>\n",
       "      <td>tried wine</td>\n",
       "      <td>know jokes</td>\n",
       "      <td>joke like story torgo nudho</td>\n",
       "      <td></td>\n",
       "      <td>two translators sinking ship</td>\n",
       "      <td>first says know swim second says shout help la...</td>\n",
       "      <td>dont even know joke</td>\n",
       "      <td>jokes</td>\n",
       "      <td>changes nothing</td>\n",
       "      <td>None</td>\n",
       "      <td>None</td>\n",
       "      <td>None</td>\n",
       "      <td>None</td>\n",
       "      <td>None</td>\n",
       "      <td>None</td>\n",
       "      <td>None</td>\n",
       "      <td>None</td>\n",
       "      <td>None</td>\n",
       "      <td>None</td>\n",
       "      <td>None</td>\n",
       "      <td>None</td>\n",
       "      <td>None</td>\n",
       "      <td>None</td>\n",
       "      <td>None</td>\n",
       "      <td>None</td>\n",
       "      <td>None</td>\n",
       "      <td>None</td>\n",
       "      <td>None</td>\n",
       "      <td>None</td>\n",
       "      <td>None</td>\n",
       "      <td>None</td>\n",
       "      <td>None</td>\n",
       "      <td>None</td>\n",
       "      <td>None</td>\n",
       "    </tr>\n",
       "  </tbody>\n",
       "</table>\n",
       "</div>"
      ],
      "text/plain": [
       "                                             0   \\\n",
       "Kevan                                             \n",
       "Bronn                     podrick fucking payne   \n",
       "Jaime      experience girls like dont live long   \n",
       "Tyrion                id call successful gambit   \n",
       "Missandei                            seem happy   \n",
       "\n",
       "                                              1                     2   \\\n",
       "Kevan      royal announcement throne room moment                 going   \n",
       "Bronn                                             think theyre fucking   \n",
       "Jaime                              well im proud         youre welcome   \n",
       "Tyrion                               look around                worked   \n",
       "Missandei                    happy queen returns            tried wine   \n",
       "\n",
       "                                    3                            4   \\\n",
       "Kevan       place gallery ladies court                         None   \n",
       "Bronn                                                            oh   \n",
       "Jaime      army plan taking winterfell   theyre bit occupied moment   \n",
       "Tyrion     spoken like man never shave                im going miss   \n",
       "Missandei                   know jokes  joke like story torgo nudho   \n",
       "\n",
       "                                            5                             6   \\\n",
       "Kevan                                     None                          None   \n",
       "Bronn                               must shown                                 \n",
       "Jaime      riverrun granted freys royal decree                       exactly   \n",
       "Tyrion             hope youre right expedition                    need queen   \n",
       "Missandei                                       two translators sinking ship   \n",
       "\n",
       "                                                          7   \\\n",
       "Kevan                                                   None   \n",
       "Bronn                  come old cunt like still sneak murder   \n",
       "Jaime                                shouldnt argue politics   \n",
       "Tyrion                                                 varys   \n",
       "Missandei  first says know swim second says shout help la...   \n",
       "\n",
       "                            8                          9   \\\n",
       "Kevan                     None                       None   \n",
       "Bronn         thats truth isnt  right lets start footwork   \n",
       "Jaime             im lannister                    propose   \n",
       "Tyrion      famous dwarf world                      happy   \n",
       "Missandei  dont even know joke                      jokes   \n",
       "\n",
       "                                     10                  11  \\\n",
       "Kevan                              None                None   \n",
       "Bronn                       show stance          listen pod   \n",
       "Jaime      would abandon ancestral home  ever met blackfish   \n",
       "Tyrion                  like man reborn          dont drink   \n",
       "Missandei               changes nothing                None   \n",
       "\n",
       "                                                    12          13  \\\n",
       "Kevan                                             None        None   \n",
       "Bronn      lesson number one assume everyone wants hit        None   \n",
       "Jaime                                hes even stubborn       right   \n",
       "Tyrion                                                  made rules   \n",
       "Missandei                                         None        None   \n",
       "\n",
       "                                             14                  15  \\\n",
       "Kevan                                      None                None   \n",
       "Bronn                                      None                None   \n",
       "Jaime                                      word                       \n",
       "Tyrion     miserable old shits didnt want human  thats know working   \n",
       "Missandei                                  None                None   \n",
       "\n",
       "                         16  \\\n",
       "Kevan                  None   \n",
       "Bronn                  None   \n",
       "Jaime      yes lady brienne   \n",
       "Tyrion          heres queen   \n",
       "Missandei              None   \n",
       "\n",
       "                                                          17  \\\n",
       "Kevan                                                   None   \n",
       "Bronn                                                   None   \n",
       "Jaime                                                 course   \n",
       "Tyrion     daenerys stormborn mother dragons breaker chai...   \n",
       "Missandei                                               None   \n",
       "\n",
       "                              18           19                           20  \\\n",
       "Kevan                       None         None                         None   \n",
       "Bronn                       None         None                         None   \n",
       "Jaime      lets hope doesnt come  lord edmure  apologize way freys treated   \n",
       "Tyrion                      like      yes yes    tell joke missandei naath   \n",
       "Missandei                   None         None                         None   \n",
       "\n",
       "                          21     22                     23  \\\n",
       "Kevan                   None   None                   None   \n",
       "Bronn                   None   None                   None   \n",
       "Jaime      blackfish old man         ill remind houses war   \n",
       "Tyrion             grey worm  right                    yes   \n",
       "Missandei               None   None                   None   \n",
       "\n",
       "                                                24                        25  \\\n",
       "Kevan                                         None                      None   \n",
       "Bronn                                         None                      None   \n",
       "Jaime                  give impression negotiation  ill leave judgments gods   \n",
       "Tyrion     story thats supposed make laugh ideally       missandei like wine   \n",
       "Missandei                                     None                      None   \n",
       "\n",
       "                         26             27  \\\n",
       "Kevan                  None           None   \n",
       "Bronn                  None           None   \n",
       "Jaime      sisters prisoner  perhaps didnt   \n",
       "Tyrion            tell joke        lied us   \n",
       "Missandei              None           None   \n",
       "\n",
       "                                              28  \\\n",
       "Kevan                                       None   \n",
       "Bronn                                       None   \n",
       "Jaime      dont im telling anyway youre prisoner   \n",
       "Tyrion                                       cut   \n",
       "Missandei                                   None   \n",
       "\n",
       "                                                29                      30  \\\n",
       "Kevan                                         None                    None   \n",
       "Bronn                                         None                    None   \n",
       "Jaime                             im trade insults  ill talk whomever want   \n",
       "Tyrion     unsullied could mount defense beachhead            acknowledged   \n",
       "Missandei                                     None                    None   \n",
       "\n",
       "                       31                             32                  33  \\\n",
       "Kevan                None                           None                None   \n",
       "Bronn                None                           None                None   \n",
       "Jaime      loved children  theyd anything protect babies  thats exactly came   \n",
       "Tyrion         right army                                               None   \n",
       "Missandei            None                           None                None   \n",
       "\n",
       "                                     34    35  \n",
       "Kevan                              None  None  \n",
       "Bronn                              None  None  \n",
       "Jaime      ill launch riverrun catapult  good  \n",
       "Tyrion                             None  None  \n",
       "Missandei                          None  None  "
      ]
     },
     "execution_count": 174,
     "metadata": {},
     "output_type": "execute_result"
    }
   ],
   "source": [
    "episode_eight.head()"
   ]
  },
  {
   "cell_type": "markdown",
   "metadata": {},
   "source": [
    "### Episode Nine"
   ]
  },
  {
   "cell_type": "code",
   "execution_count": 175,
   "metadata": {
    "scrolled": true
   },
   "outputs": [],
   "source": [
    "#df_s6.script_text[8]"
   ]
  },
  {
   "cell_type": "code",
   "execution_count": 176,
   "metadata": {},
   "outputs": [
    {
     "name": "stdout",
     "output_type": "stream",
     "text": [
      "<type 'list'>\n"
     ]
    }
   ],
   "source": [
    "script_text6_09 = df_s6.script_text[8]\n",
    "print type(script_text6_09)\n",
    "\n",
    "#script_text6_09"
   ]
  },
  {
   "cell_type": "code",
   "execution_count": 177,
   "metadata": {
    "scrolled": true
   },
   "outputs": [],
   "source": [
    "script_split9 = [i.split('\\n') for i in script_text6_09]\n",
    "#script_split9"
   ]
  },
  {
   "cell_type": "code",
   "execution_count": 178,
   "metadata": {
    "collapsed": true
   },
   "outputs": [],
   "source": [
    "string_script_text9 = ' '\n",
    "\n",
    "for i in script_split9:\n",
    "    for e in i:\n",
    "        string_script_text9 = string_script_text9 + ' ' + e"
   ]
  },
  {
   "cell_type": "code",
   "execution_count": 179,
   "metadata": {},
   "outputs": [],
   "source": [
    "#string_script_text9"
   ]
  },
  {
   "cell_type": "code",
   "execution_count": 180,
   "metadata": {},
   "outputs": [],
   "source": [
    "words9 = word_tokenize(string_script_text9)\n",
    "#words9"
   ]
  },
  {
   "cell_type": "code",
   "execution_count": 181,
   "metadata": {
    "scrolled": true
   },
   "outputs": [],
   "source": [
    "sentences9 = sent_tokenize(string_script_text9)\n",
    "#sentences9"
   ]
  },
  {
   "cell_type": "code",
   "execution_count": 182,
   "metadata": {
    "collapsed": true,
    "scrolled": false
   },
   "outputs": [],
   "source": [
    "dialogue9 = []\n",
    "\n",
    "for sentence in sentences9:\n",
    "    words=sentence.split(':')[0]\n",
    "    if len(words.split())<=2:\n",
    "        if words in (names6_09):\n",
    "            dialogue9.append(sentence)"
   ]
  },
  {
   "cell_type": "code",
   "execution_count": 183,
   "metadata": {
    "scrolled": true
   },
   "outputs": [],
   "source": [
    "#dialogue9"
   ]
  },
  {
   "cell_type": "code",
   "execution_count": 184,
   "metadata": {
    "collapsed": true
   },
   "outputs": [],
   "source": [
    "import pickle\n",
    "with open('/Users/zoemarkovits/Metis/project_five_got/Dialogue_PKLs/s609.pkl', 'wb') as f:\n",
    "    pickle.dump(dialogue9, f)"
   ]
  },
  {
   "cell_type": "code",
   "execution_count": 185,
   "metadata": {
    "scrolled": true
   },
   "outputs": [],
   "source": [
    "from collections import defaultdict\n",
    "\n",
    "speakers9 = defaultdict(list)\n",
    "for sentence in dialogue9:\n",
    "    speakers9[sentence.split(':')[0]].append(sentence.split(':')[1])\n",
    "\n",
    "#speakers9"
   ]
  },
  {
   "cell_type": "code",
   "execution_count": 186,
   "metadata": {
    "scrolled": true
   },
   "outputs": [
    {
     "data": {
      "text/plain": [
       "[u' That\\u2019s not his way.',\n",
       " u' It\\u2019s crucial that we let them charge at us.',\n",
       " u' We should all get some sleep.',\n",
       " u' It wasn\\u2019t the Boltons defeated Stannis.',\n",
       " u' What?',\n",
       " u' No, it\\u2019s a manner of speaking.',\n",
       " u' Maybe that was our mistake, believing in kings.',\n",
       " u' No, he\\u2019s not.',\n",
       " u' No, thanks.',\n",
       " u' I walk.',\n",
       " u' Prepare to charge!',\n",
       " u' Go!',\n",
       " u' We\\u2019ll just kill our own men.',\n",
       " u' Follow!',\n",
       " u' With me, lads!']"
      ]
     },
     "execution_count": 186,
     "metadata": {},
     "output_type": "execute_result"
    }
   ],
   "source": [
    "speakers9['DAVOS']"
   ]
  },
  {
   "cell_type": "code",
   "execution_count": 187,
   "metadata": {
    "scrolled": true
   },
   "outputs": [
    {
     "name": "stdout",
     "output_type": "stream",
     "text": [
      "(19, 28)\n"
     ]
    }
   ],
   "source": [
    "episode_nine = pd.DataFrame.from_dict(speakers9, orient=\"index\")\n",
    "print episode_nine.shape"
   ]
  },
  {
   "cell_type": "code",
   "execution_count": 188,
   "metadata": {
    "collapsed": true
   },
   "outputs": [],
   "source": [
    "#from numpy import nan\n",
    "#episode_nine.fillna(value=str(0), inplace=True)"
   ]
  },
  {
   "cell_type": "code",
   "execution_count": 189,
   "metadata": {
    "scrolled": true
   },
   "outputs": [],
   "source": [
    "#episode_nine.info()"
   ]
  },
  {
   "cell_type": "code",
   "execution_count": 190,
   "metadata": {},
   "outputs": [],
   "source": [
    "#episode_nine.head()"
   ]
  },
  {
   "cell_type": "code",
   "execution_count": 191,
   "metadata": {
    "scrolled": true
   },
   "outputs": [],
   "source": [
    "test9 = episode_nine[0].apply(remove_stops)\n",
    "#test9"
   ]
  },
  {
   "cell_type": "code",
   "execution_count": 192,
   "metadata": {
    "collapsed": true,
    "scrolled": false
   },
   "outputs": [],
   "source": [
    "for column in episode_nine.columns:\n",
    "    for x in range(len(episode_nine[column])):\n",
    "        episode_nine[column][x] = remove_stops(episode_nine[column][x])"
   ]
  },
  {
   "cell_type": "code",
   "execution_count": 193,
   "metadata": {
    "collapsed": true
   },
   "outputs": [],
   "source": [
    "episode_nine.index = episode_nine.index.str.title()"
   ]
  },
  {
   "cell_type": "code",
   "execution_count": 194,
   "metadata": {
    "scrolled": true
   },
   "outputs": [
    {
     "data": {
      "text/html": [
       "<div>\n",
       "<table border=\"1\" class=\"dataframe\">\n",
       "  <thead>\n",
       "    <tr style=\"text-align: right;\">\n",
       "      <th></th>\n",
       "      <th>0</th>\n",
       "      <th>1</th>\n",
       "      <th>2</th>\n",
       "      <th>3</th>\n",
       "      <th>4</th>\n",
       "      <th>5</th>\n",
       "      <th>6</th>\n",
       "      <th>7</th>\n",
       "      <th>8</th>\n",
       "      <th>9</th>\n",
       "      <th>10</th>\n",
       "      <th>11</th>\n",
       "      <th>12</th>\n",
       "      <th>13</th>\n",
       "      <th>14</th>\n",
       "      <th>15</th>\n",
       "      <th>16</th>\n",
       "      <th>17</th>\n",
       "      <th>18</th>\n",
       "      <th>19</th>\n",
       "      <th>20</th>\n",
       "      <th>21</th>\n",
       "      <th>22</th>\n",
       "      <th>23</th>\n",
       "      <th>24</th>\n",
       "      <th>25</th>\n",
       "      <th>26</th>\n",
       "      <th>27</th>\n",
       "    </tr>\n",
       "  </thead>\n",
       "  <tbody>\n",
       "    <tr>\n",
       "      <th>Yara</th>\n",
       "      <td>paid</td>\n",
       "      <td>westeros</td>\n",
       "      <td>common</td>\n",
       "      <td>never demand im anything really</td>\n",
       "      <td>wed like help us murder uncle two dont think w...</td>\n",
       "      <td>thats way life</td>\n",
       "      <td></td>\n",
       "      <td>None</td>\n",
       "      <td>None</td>\n",
       "      <td>None</td>\n",
       "      <td>None</td>\n",
       "      <td>None</td>\n",
       "      <td>None</td>\n",
       "      <td>None</td>\n",
       "      <td>None</td>\n",
       "      <td>None</td>\n",
       "      <td>None</td>\n",
       "      <td>None</td>\n",
       "      <td>None</td>\n",
       "      <td>None</td>\n",
       "      <td>None</td>\n",
       "      <td>None</td>\n",
       "      <td>None</td>\n",
       "      <td>None</td>\n",
       "      <td>None</td>\n",
       "      <td>None</td>\n",
       "      <td>None</td>\n",
       "      <td>None</td>\n",
       "    </tr>\n",
       "    <tr>\n",
       "      <th>Davos</th>\n",
       "      <td>thats way</td>\n",
       "      <td>crucial let charge us</td>\n",
       "      <td>get sleep</td>\n",
       "      <td>wasnt boltons defeated stannis</td>\n",
       "      <td></td>\n",
       "      <td>manner speaking</td>\n",
       "      <td>maybe mistake believing kings</td>\n",
       "      <td>hes</td>\n",
       "      <td>thanks</td>\n",
       "      <td>walk</td>\n",
       "      <td>prepare charge</td>\n",
       "      <td>go</td>\n",
       "      <td>well kill men</td>\n",
       "      <td>follow</td>\n",
       "      <td>lads</td>\n",
       "      <td>None</td>\n",
       "      <td>None</td>\n",
       "      <td>None</td>\n",
       "      <td>None</td>\n",
       "      <td>None</td>\n",
       "      <td>None</td>\n",
       "      <td>None</td>\n",
       "      <td>None</td>\n",
       "      <td>None</td>\n",
       "      <td>None</td>\n",
       "      <td>None</td>\n",
       "      <td>None</td>\n",
       "      <td>None</td>\n",
       "    </tr>\n",
       "    <tr>\n",
       "      <th>Karstark</th>\n",
       "      <td>cavalry charge</td>\n",
       "      <td>None</td>\n",
       "      <td>None</td>\n",
       "      <td>None</td>\n",
       "      <td>None</td>\n",
       "      <td>None</td>\n",
       "      <td>None</td>\n",
       "      <td>None</td>\n",
       "      <td>None</td>\n",
       "      <td>None</td>\n",
       "      <td>None</td>\n",
       "      <td>None</td>\n",
       "      <td>None</td>\n",
       "      <td>None</td>\n",
       "      <td>None</td>\n",
       "      <td>None</td>\n",
       "      <td>None</td>\n",
       "      <td>None</td>\n",
       "      <td>None</td>\n",
       "      <td>None</td>\n",
       "      <td>None</td>\n",
       "      <td>None</td>\n",
       "      <td>None</td>\n",
       "      <td>None</td>\n",
       "      <td>None</td>\n",
       "      <td>None</td>\n",
       "      <td>None</td>\n",
       "      <td>None</td>\n",
       "    </tr>\n",
       "    <tr>\n",
       "      <th>Sansa</th>\n",
       "      <td>yes</td>\n",
       "      <td>know</td>\n",
       "      <td>youve met enemy drawn battle plans</td>\n",
       "      <td>youve known space single conversation trusted ...</td>\n",
       "      <td>think hes going fall trap</td>\n",
       "      <td>plays people</td>\n",
       "      <td>dont know</td>\n",
       "      <td>well never get back</td>\n",
       "      <td>listen please</td>\n",
       "      <td>dont know</td>\n",
       "      <td>think thats obvious</td>\n",
       "      <td>asked advice earlier would told attack winterf...</td>\n",
       "      <td>enough</td>\n",
       "      <td>ramsay wins im going back alive</td>\n",
       "      <td>one protect</td>\n",
       "      <td>jon</td>\n",
       "      <td></td>\n",
       "      <td>words disappear</td>\n",
       "      <td>havent fed seven days</td>\n",
       "      <td></td>\n",
       "      <td>None</td>\n",
       "      <td>None</td>\n",
       "      <td>None</td>\n",
       "      <td>None</td>\n",
       "      <td>None</td>\n",
       "      <td>None</td>\n",
       "      <td>None</td>\n",
       "      <td>None</td>\n",
       "    </tr>\n",
       "    <tr>\n",
       "      <th>Man #2</th>\n",
       "      <td>get back</td>\n",
       "      <td>None</td>\n",
       "      <td>None</td>\n",
       "      <td>None</td>\n",
       "      <td>None</td>\n",
       "      <td>None</td>\n",
       "      <td>None</td>\n",
       "      <td>None</td>\n",
       "      <td>None</td>\n",
       "      <td>None</td>\n",
       "      <td>None</td>\n",
       "      <td>None</td>\n",
       "      <td>None</td>\n",
       "      <td>None</td>\n",
       "      <td>None</td>\n",
       "      <td>None</td>\n",
       "      <td>None</td>\n",
       "      <td>None</td>\n",
       "      <td>None</td>\n",
       "      <td>None</td>\n",
       "      <td>None</td>\n",
       "      <td>None</td>\n",
       "      <td>None</td>\n",
       "      <td>None</td>\n",
       "      <td>None</td>\n",
       "      <td>None</td>\n",
       "      <td>None</td>\n",
       "      <td>None</td>\n",
       "    </tr>\n",
       "  </tbody>\n",
       "</table>\n",
       "</div>"
      ],
      "text/plain": [
       "                      0                      1   \\\n",
       "Yara                paid               westeros   \n",
       "Davos          thats way  crucial let charge us   \n",
       "Karstark  cavalry charge                   None   \n",
       "Sansa                yes                   know   \n",
       "Man #2          get back                   None   \n",
       "\n",
       "                                          2   \\\n",
       "Yara                                  common   \n",
       "Davos                              get sleep   \n",
       "Karstark                                None   \n",
       "Sansa     youve met enemy drawn battle plans   \n",
       "Man #2                                  None   \n",
       "\n",
       "                                                         3   \\\n",
       "Yara                        never demand im anything really   \n",
       "Davos                        wasnt boltons defeated stannis   \n",
       "Karstark                                               None   \n",
       "Sansa     youve known space single conversation trusted ...   \n",
       "Man #2                                                 None   \n",
       "\n",
       "                                                         4                5   \\\n",
       "Yara      wed like help us murder uncle two dont think w...   thats way life   \n",
       "Davos                                                        manner speaking   \n",
       "Karstark                                               None             None   \n",
       "Sansa                             think hes going fall trap     plays people   \n",
       "Man #2                                                 None             None   \n",
       "\n",
       "                                     6                    7              8   \\\n",
       "Yara                                                    None           None   \n",
       "Davos     maybe mistake believing kings                  hes         thanks   \n",
       "Karstark                           None                 None           None   \n",
       "Sansa                         dont know  well never get back  listen please   \n",
       "Man #2                             None                 None           None   \n",
       "\n",
       "                 9                    10  \\\n",
       "Yara           None                 None   \n",
       "Davos          walk       prepare charge   \n",
       "Karstark       None                 None   \n",
       "Sansa     dont know  think thats obvious   \n",
       "Man #2         None                 None   \n",
       "\n",
       "                                                         11             12  \\\n",
       "Yara                                                   None           None   \n",
       "Davos                                                    go  well kill men   \n",
       "Karstark                                               None           None   \n",
       "Sansa     asked advice earlier would told attack winterf...         enough   \n",
       "Man #2                                                 None           None   \n",
       "\n",
       "                                       13           14    15    16  \\\n",
       "Yara                                 None         None  None  None   \n",
       "Davos                              follow         lads  None  None   \n",
       "Karstark                             None         None  None  None   \n",
       "Sansa     ramsay wins im going back alive  one protect   jon         \n",
       "Man #2                               None         None  None  None   \n",
       "\n",
       "                       17                     18    19    20    21    22  \\\n",
       "Yara                 None                   None  None  None  None  None   \n",
       "Davos                None                   None  None  None  None  None   \n",
       "Karstark             None                   None  None  None  None  None   \n",
       "Sansa     words disappear  havent fed seven days        None  None  None   \n",
       "Man #2               None                   None  None  None  None  None   \n",
       "\n",
       "            23    24    25    26    27  \n",
       "Yara      None  None  None  None  None  \n",
       "Davos     None  None  None  None  None  \n",
       "Karstark  None  None  None  None  None  \n",
       "Sansa     None  None  None  None  None  \n",
       "Man #2    None  None  None  None  None  "
      ]
     },
     "execution_count": 194,
     "metadata": {},
     "output_type": "execute_result"
    }
   ],
   "source": [
    "episode_nine.head()"
   ]
  },
  {
   "cell_type": "code",
   "execution_count": null,
   "metadata": {
    "collapsed": true
   },
   "outputs": [],
   "source": []
  },
  {
   "cell_type": "markdown",
   "metadata": {},
   "source": [
    "### Episode Ten"
   ]
  },
  {
   "cell_type": "code",
   "execution_count": 195,
   "metadata": {
    "scrolled": true
   },
   "outputs": [],
   "source": [
    "#df_s6.script_text[9]"
   ]
  },
  {
   "cell_type": "code",
   "execution_count": 196,
   "metadata": {},
   "outputs": [
    {
     "name": "stdout",
     "output_type": "stream",
     "text": [
      "<type 'list'>\n"
     ]
    }
   ],
   "source": [
    "script_text6_10 = df_s6.script_text[9]\n",
    "print type(script_text6_10)\n",
    "\n",
    "#script_text6_10"
   ]
  },
  {
   "cell_type": "code",
   "execution_count": 197,
   "metadata": {
    "scrolled": true
   },
   "outputs": [],
   "source": [
    "script_split10 = [i.split('\\n') for i in script_text6_10]\n",
    "#script_split10"
   ]
  },
  {
   "cell_type": "code",
   "execution_count": 198,
   "metadata": {
    "collapsed": true
   },
   "outputs": [],
   "source": [
    "string_script_text10 = ' '\n",
    "\n",
    "for i in script_split10:\n",
    "    for e in i:\n",
    "        string_script_text10 = string_script_text10 + ' ' + e"
   ]
  },
  {
   "cell_type": "code",
   "execution_count": 199,
   "metadata": {},
   "outputs": [],
   "source": [
    "#string_script_text10"
   ]
  },
  {
   "cell_type": "code",
   "execution_count": 200,
   "metadata": {},
   "outputs": [],
   "source": [
    "words10 = word_tokenize(string_script_text10)\n",
    "#words10"
   ]
  },
  {
   "cell_type": "code",
   "execution_count": 201,
   "metadata": {
    "scrolled": true
   },
   "outputs": [],
   "source": [
    "sentences10 = sent_tokenize(string_script_text10)\n",
    "#sentences10"
   ]
  },
  {
   "cell_type": "code",
   "execution_count": 202,
   "metadata": {
    "collapsed": true,
    "scrolled": false
   },
   "outputs": [],
   "source": [
    "dialogue10 = []\n",
    "\n",
    "for sentence in sentences10:\n",
    "    words=sentence.split(':')[0]\n",
    "    if len(words.split())<=2:\n",
    "        if words in (names6_10):\n",
    "            dialogue10.append(sentence)"
   ]
  },
  {
   "cell_type": "code",
   "execution_count": 203,
   "metadata": {
    "scrolled": true
   },
   "outputs": [],
   "source": [
    "#dialogue10"
   ]
  },
  {
   "cell_type": "code",
   "execution_count": 204,
   "metadata": {
    "collapsed": true
   },
   "outputs": [],
   "source": [
    "import pickle\n",
    "with open('/Users/zoemarkovits/Metis/project_five_got/Dialogue_PKLs/s610.pkl', 'wb') as f:\n",
    "    pickle.dump(dialogue10, f)"
   ]
  },
  {
   "cell_type": "code",
   "execution_count": 205,
   "metadata": {
    "scrolled": true
   },
   "outputs": [],
   "source": [
    "from collections import defaultdict\n",
    "\n",
    "speakers10 = defaultdict(list)\n",
    "for sentence in dialogue10:\n",
    "    speakers10[sentence.split(':')[0]].append(sentence.split(':')[1])\n",
    "\n",
    "#speakers10"
   ]
  },
  {
   "cell_type": "code",
   "execution_count": 206,
   "metadata": {
    "scrolled": false
   },
   "outputs": [
    {
     "data": {
      "text/plain": [
       "[u' Confess.',\n",
       " u' Confess.',\n",
       " u' You\\u2019ve always been quiet.',\n",
       " u' I said my face would be the last thing you saw before you died.',\n",
       " u' What?',\n",
       " u' This is Ser Gregor Clegane.',\n",
       " u' Your gods have forsaken you.',\n",
       " u' Shame.',\n",
       " u' Shame.',\n",
       " u' Shame.',\n",
       " u' He should be with his grandfather, his brother, his sister.']"
      ]
     },
     "execution_count": 206,
     "metadata": {},
     "output_type": "execute_result"
    }
   ],
   "source": [
    "speakers10['CERSEI']"
   ]
  },
  {
   "cell_type": "code",
   "execution_count": 207,
   "metadata": {
    "scrolled": true
   },
   "outputs": [
    {
     "name": "stdout",
     "output_type": "stream",
     "text": [
      "(42, 20)\n"
     ]
    }
   ],
   "source": [
    "episode_ten = pd.DataFrame.from_dict(speakers10, orient=\"index\")\n",
    "print episode_ten.shape"
   ]
  },
  {
   "cell_type": "code",
   "execution_count": 208,
   "metadata": {
    "collapsed": true
   },
   "outputs": [],
   "source": [
    "#from numpy import nan\n",
    "#episode_ten.fillna(value=str(0), inplace=True)"
   ]
  },
  {
   "cell_type": "code",
   "execution_count": 209,
   "metadata": {
    "scrolled": true
   },
   "outputs": [],
   "source": [
    "#episode_ten.info()"
   ]
  },
  {
   "cell_type": "code",
   "execution_count": 210,
   "metadata": {},
   "outputs": [],
   "source": [
    "#episode_ten.head()"
   ]
  },
  {
   "cell_type": "code",
   "execution_count": 211,
   "metadata": {
    "scrolled": true
   },
   "outputs": [],
   "source": [
    "test10 = episode_ten[0].apply(remove_stops)\n",
    "#test10"
   ]
  },
  {
   "cell_type": "code",
   "execution_count": 212,
   "metadata": {
    "collapsed": true,
    "scrolled": false
   },
   "outputs": [],
   "source": [
    "for column in episode_ten.columns:\n",
    "    for x in range(len(episode_ten[column])):\n",
    "        episode_ten[column][x] = remove_stops(episode_ten[column][x])"
   ]
  },
  {
   "cell_type": "code",
   "execution_count": 213,
   "metadata": {
    "collapsed": true
   },
   "outputs": [],
   "source": [
    "episode_ten.index = episode_ten.index.str.title()"
   ]
  },
  {
   "cell_type": "code",
   "execution_count": 214,
   "metadata": {
    "scrolled": true
   },
   "outputs": [
    {
     "data": {
      "text/html": [
       "<div>\n",
       "<table border=\"1\" class=\"dataframe\">\n",
       "  <thead>\n",
       "    <tr style=\"text-align: right;\">\n",
       "      <th></th>\n",
       "      <th>0</th>\n",
       "      <th>1</th>\n",
       "      <th>2</th>\n",
       "      <th>3</th>\n",
       "      <th>4</th>\n",
       "      <th>5</th>\n",
       "      <th>6</th>\n",
       "      <th>7</th>\n",
       "      <th>8</th>\n",
       "      <th>9</th>\n",
       "      <th>10</th>\n",
       "      <th>11</th>\n",
       "      <th>12</th>\n",
       "      <th>13</th>\n",
       "      <th>14</th>\n",
       "      <th>15</th>\n",
       "      <th>16</th>\n",
       "      <th>17</th>\n",
       "      <th>18</th>\n",
       "      <th>19</th>\n",
       "    </tr>\n",
       "  </thead>\n",
       "  <tbody>\n",
       "    <tr>\n",
       "      <th>Davos</th>\n",
       "      <td>tell</td>\n",
       "      <td>tell</td>\n",
       "      <td></td>\n",
       "      <td>burned little girl alive</td>\n",
       "      <td>commands burn children lord evil</td>\n",
       "      <td>loved girl like</td>\n",
       "      <td>way</td>\n",
       "      <td>aye wrong</td>\n",
       "      <td>ever come back way execute</td>\n",
       "      <td>None</td>\n",
       "      <td>None</td>\n",
       "      <td>None</td>\n",
       "      <td>None</td>\n",
       "      <td>None</td>\n",
       "      <td>None</td>\n",
       "      <td>None</td>\n",
       "      <td>None</td>\n",
       "      <td>None</td>\n",
       "      <td>None</td>\n",
       "      <td>None</td>\n",
       "    </tr>\n",
       "    <tr>\n",
       "      <th>Septa Unella</th>\n",
       "      <td></td>\n",
       "      <td>good</td>\n",
       "      <td></td>\n",
       "      <td>None</td>\n",
       "      <td>None</td>\n",
       "      <td>None</td>\n",
       "      <td>None</td>\n",
       "      <td>None</td>\n",
       "      <td>None</td>\n",
       "      <td>None</td>\n",
       "      <td>None</td>\n",
       "      <td>None</td>\n",
       "      <td>None</td>\n",
       "      <td>None</td>\n",
       "      <td>None</td>\n",
       "      <td>None</td>\n",
       "      <td>None</td>\n",
       "      <td>None</td>\n",
       "      <td>None</td>\n",
       "      <td>None</td>\n",
       "    </tr>\n",
       "    <tr>\n",
       "      <th>Pycelle</th>\n",
       "      <td>later</td>\n",
       "      <td>whats meaning</td>\n",
       "      <td>None</td>\n",
       "      <td>None</td>\n",
       "      <td>None</td>\n",
       "      <td>None</td>\n",
       "      <td>None</td>\n",
       "      <td>None</td>\n",
       "      <td>None</td>\n",
       "      <td>None</td>\n",
       "      <td>None</td>\n",
       "      <td>None</td>\n",
       "      <td>None</td>\n",
       "      <td>None</td>\n",
       "      <td>None</td>\n",
       "      <td>None</td>\n",
       "      <td>None</td>\n",
       "      <td>None</td>\n",
       "      <td>None</td>\n",
       "      <td>None</td>\n",
       "    </tr>\n",
       "    <tr>\n",
       "      <th>Ned</th>\n",
       "      <td>lyanna</td>\n",
       "      <td>im dream</td>\n",
       "      <td>ive missed</td>\n",
       "      <td>shh</td>\n",
       "      <td>youre going die</td>\n",
       "      <td>get water</td>\n",
       "      <td>maester</td>\n",
       "      <td>None</td>\n",
       "      <td>None</td>\n",
       "      <td>None</td>\n",
       "      <td>None</td>\n",
       "      <td>None</td>\n",
       "      <td>None</td>\n",
       "      <td>None</td>\n",
       "      <td>None</td>\n",
       "      <td>None</td>\n",
       "      <td>None</td>\n",
       "      <td>None</td>\n",
       "      <td>None</td>\n",
       "      <td>None</td>\n",
       "    </tr>\n",
       "    <tr>\n",
       "      <th>Melisandre</th>\n",
       "      <td>could worse jon snow</td>\n",
       "      <td>princess shireen</td>\n",
       "      <td>burned stake</td>\n",
       "      <td>army trapped</td>\n",
       "      <td>lord commands</td>\n",
       "      <td>standing</td>\n",
       "      <td>father</td>\n",
       "      <td>didnt lie</td>\n",
       "      <td>ive ready die many years</td>\n",
       "      <td>None</td>\n",
       "      <td>None</td>\n",
       "      <td>None</td>\n",
       "      <td>None</td>\n",
       "      <td>None</td>\n",
       "      <td>None</td>\n",
       "      <td>None</td>\n",
       "      <td>None</td>\n",
       "      <td>None</td>\n",
       "      <td>None</td>\n",
       "      <td>None</td>\n",
       "    </tr>\n",
       "  </tbody>\n",
       "</table>\n",
       "</div>"
      ],
      "text/plain": [
       "                                0                 1             2   \\\n",
       "Davos                         tell              tell                 \n",
       "Septa Unella                                    good                 \n",
       "Pycelle                      later     whats meaning          None   \n",
       "Ned                         lyanna          im dream    ive missed   \n",
       "Melisandre    could worse jon snow  princess shireen  burned stake   \n",
       "\n",
       "                                    3                                 4   \\\n",
       "Davos         burned little girl alive  commands burn children lord evil   \n",
       "Septa Unella                      None                              None   \n",
       "Pycelle                           None                              None   \n",
       "Ned                                shh                   youre going die   \n",
       "Melisandre                army trapped                     lord commands   \n",
       "\n",
       "                           5        6          7                           8   \\\n",
       "Davos         loved girl like      way  aye wrong  ever come back way execute   \n",
       "Septa Unella             None     None       None                        None   \n",
       "Pycelle                  None     None       None                        None   \n",
       "Ned                 get water  maester       None                        None   \n",
       "Melisandre           standing   father  didnt lie    ive ready die many years   \n",
       "\n",
       "                9     10    11    12    13    14    15    16    17    18    19  \n",
       "Davos         None  None  None  None  None  None  None  None  None  None  None  \n",
       "Septa Unella  None  None  None  None  None  None  None  None  None  None  None  \n",
       "Pycelle       None  None  None  None  None  None  None  None  None  None  None  \n",
       "Ned           None  None  None  None  None  None  None  None  None  None  None  \n",
       "Melisandre    None  None  None  None  None  None  None  None  None  None  None  "
      ]
     },
     "execution_count": 214,
     "metadata": {},
     "output_type": "execute_result"
    }
   ],
   "source": [
    "episode_ten.head()"
   ]
  },
  {
   "cell_type": "code",
   "execution_count": null,
   "metadata": {
    "collapsed": true
   },
   "outputs": [],
   "source": []
  },
  {
   "cell_type": "code",
   "execution_count": null,
   "metadata": {
    "collapsed": true
   },
   "outputs": [],
   "source": []
  },
  {
   "cell_type": "markdown",
   "metadata": {},
   "source": [
    "## Season Six"
   ]
  },
  {
   "cell_type": "code",
   "execution_count": 215,
   "metadata": {},
   "outputs": [
    {
     "data": {
      "text/plain": [
       "Index([u'Davos', u'Male Voice #2', u'Jaime', u'Tyrion', u'Wife #1',\n",
       "       u'Dolorous Edd', u'Red Priest', u'Maester Wolkan', u'Daenerys',\n",
       "       u'Doran', u'Roose', u'Maester', u'Theon', u'Cersei', u'Varys',\n",
       "       u'Trystane', u'Margaery', u'Ramsay', u'Nymeria', u'Obara',\n",
       "       u'Alliser Thorne', u'Jorah', u'High Sparrow', u'Bloodrider #2'],\n",
       "      dtype='object')"
      ]
     },
     "execution_count": 215,
     "metadata": {},
     "output_type": "execute_result"
    }
   ],
   "source": [
    "episode_one.index"
   ]
  },
  {
   "cell_type": "code",
   "execution_count": 216,
   "metadata": {},
   "outputs": [
    {
     "data": {
      "text/plain": [
       "Index([u'Young Benjen', u'Theon', u'Jaime', u'Roose', u'Tommen', u'Sansa',\n",
       "       u'Nan', u'Waif', u'Bran', u'Hodor', u'Melisandre', u'Hooded Figure',\n",
       "       u'Tyrion', u'High Sparrow', u'Balon', u'Arya', u'Missandei',\n",
       "       u'Alliser Thorne', u'Ramsay'],\n",
       "      dtype='object')"
      ]
     },
     "execution_count": 216,
     "metadata": {},
     "output_type": "execute_result"
    }
   ],
   "source": [
    "episode_two.index"
   ]
  },
  {
   "cell_type": "code",
   "execution_count": 217,
   "metadata": {},
   "outputs": [
    {
     "name": "stdout",
     "output_type": "stream",
     "text": [
      "(24, 6)\n",
      "(19, 4)\n"
     ]
    }
   ],
   "source": [
    "print episode_one.shape\n",
    "print episode_two.shape"
   ]
  },
  {
   "cell_type": "code",
   "execution_count": 218,
   "metadata": {},
   "outputs": [
    {
     "name": "stdout",
     "output_type": "stream",
     "text": [
      "(36, 10)\n"
     ]
    }
   ],
   "source": [
    "season_six = episode_one.join(episode_two, rsuffix=\"_two\", how='outer')\n",
    "print season_six.shape"
   ]
  },
  {
   "cell_type": "code",
   "execution_count": 219,
   "metadata": {},
   "outputs": [
    {
     "data": {
      "text/plain": [
       "Index([u'Alliser Thorne', u'Arya', u'Balon', u'Bloodrider #2', u'Bran',\n",
       "       u'Cersei', u'Daenerys', u'Davos', u'Dolorous Edd', u'Doran',\n",
       "       u'High Sparrow', u'Hodor', u'Hooded Figure', u'Jaime', u'Jorah',\n",
       "       u'Maester', u'Maester Wolkan', u'Male Voice #2', u'Margaery',\n",
       "       u'Melisandre', u'Missandei', u'Nan', u'Nymeria', u'Obara', u'Ramsay',\n",
       "       u'Red Priest', u'Roose', u'Sansa', u'Theon', u'Tommen', u'Trystane',\n",
       "       u'Tyrion', u'Varys', u'Waif', u'Wife #1', u'Young Benjen'],\n",
       "      dtype='object')"
      ]
     },
     "execution_count": 219,
     "metadata": {},
     "output_type": "execute_result"
    }
   ],
   "source": [
    "season_six.index"
   ]
  },
  {
   "cell_type": "code",
   "execution_count": 220,
   "metadata": {},
   "outputs": [
    {
     "data": {
      "text/plain": [
       "Index([u'Davos', u'Melisandre', u'Smalljon', u'Gilly', u'Jaime',\n",
       "       u'Three-Eyed Raven', u'Tyrion', u'Missandei', u'Dolorous Edd',\n",
       "       u'Samwell', u'Arthur', u'Grey Worm', u'Cersei', u'Varys', u'Qyburn',\n",
       "       u'Jon Snow', u'Ramsay', u'Little Bird', u'Bran', u'High Sparrow',\n",
       "       u'Arya', u'Maester Pycelle'],\n",
       "      dtype='object')"
      ]
     },
     "execution_count": 220,
     "metadata": {},
     "output_type": "execute_result"
    }
   ],
   "source": [
    "episode_three.index"
   ]
  },
  {
   "cell_type": "code",
   "execution_count": 221,
   "metadata": {},
   "outputs": [
    {
     "data": {
      "text/plain": [
       "(22, 4)"
      ]
     },
     "execution_count": 221,
     "metadata": {},
     "output_type": "execute_result"
    }
   ],
   "source": [
    "episode_three.shape"
   ]
  },
  {
   "cell_type": "code",
   "execution_count": 222,
   "metadata": {},
   "outputs": [
    {
     "name": "stdout",
     "output_type": "stream",
     "text": [
      "(46, 14)\n"
     ]
    }
   ],
   "source": [
    "season_six = season_six.join(episode_three, rsuffix=\"_three\", how='outer')\n",
    "print season_six.shape"
   ]
  },
  {
   "cell_type": "code",
   "execution_count": 223,
   "metadata": {},
   "outputs": [],
   "source": [
    "#season_six.index"
   ]
  },
  {
   "cell_type": "code",
   "execution_count": 224,
   "metadata": {},
   "outputs": [
    {
     "data": {
      "text/plain": [
       "Index([u'Kevan', u'Melisandre', u'Jaime', u'Tyrion', u'Littlefinger', u'Robin',\n",
       "       u'Yara', u'Maester Pycelle', u'Yohn Royce', u'Khal #3', u'Daenerys',\n",
       "       u'Lady Olenna', u'Theon', u'Tommen', u'Cersei', u'Osha', u'Margaery',\n",
       "       u'Jon Snow', u'Ramsay', u'Khal #4', u'Lhazareen Woman', u'Khal #1',\n",
       "       u'Khal #2', u'Sansa', u'Brienne', u'Khal Moro', u'Jorah',\n",
       "       u'Dothraki #1', u'Daario', u'Tormund', u'High Sparrow', u'Loras',\n",
       "       u'Man'],\n",
       "      dtype='object')"
      ]
     },
     "execution_count": 224,
     "metadata": {},
     "output_type": "execute_result"
    }
   ],
   "source": [
    "episode_four.index"
   ]
  },
  {
   "cell_type": "code",
   "execution_count": 225,
   "metadata": {},
   "outputs": [
    {
     "data": {
      "text/plain": [
       "(33, 13)"
      ]
     },
     "execution_count": 225,
     "metadata": {},
     "output_type": "execute_result"
    }
   ],
   "source": [
    "episode_four.shape"
   ]
  },
  {
   "cell_type": "code",
   "execution_count": 226,
   "metadata": {},
   "outputs": [
    {
     "name": "stdout",
     "output_type": "stream",
     "text": [
      "(65, 27)\n"
     ]
    }
   ],
   "source": [
    "season_six = season_six.join(episode_four, rsuffix=\"_four\", how='outer')\n",
    "print season_six.shape"
   ]
  },
  {
   "cell_type": "code",
   "execution_count": 227,
   "metadata": {},
   "outputs": [],
   "source": [
    "#season_six.index"
   ]
  },
  {
   "cell_type": "code",
   "execution_count": 228,
   "metadata": {},
   "outputs": [
    {
     "data": {
      "text/plain": [
       "Index([u'Davos', u'Kinvara', u'Nan', u'Three-Eyed Raven', u'Tyrion', u'Euron',\n",
       "       u'Littlefinger', u'Missandei', u'Dolorous Edd', u'Yara', u'Young Hodor',\n",
       "       u'Aerson', u'Theon', u'Lady Crane', u'Rickard', u'Hodor', u'Meera',\n",
       "       u'Daenerys', u'Clarenzo', u'Ladyc Rane', u'Grey Worm', u'Waif',\n",
       "       u'Varys', u'Bobono', u'Bianca', u'Izembaro', u'Jon Snow', u'All',\n",
       "       u'Leaf', u'Aeron', u'Sansa', u'Brienne', u'Man #2', u'Man #1', u'Jorah',\n",
       "       u'Jaqen', u'Camello', u'Young Ned', u'Arya', u'Bran', u'Man'],\n",
       "      dtype='object')"
      ]
     },
     "execution_count": 228,
     "metadata": {},
     "output_type": "execute_result"
    }
   ],
   "source": [
    "episode_five.index"
   ]
  },
  {
   "cell_type": "code",
   "execution_count": 229,
   "metadata": {
    "collapsed": true
   },
   "outputs": [],
   "source": [
    "episode_five = episode_five.reset_index()"
   ]
  },
  {
   "cell_type": "code",
   "execution_count": 230,
   "metadata": {
    "collapsed": true
   },
   "outputs": [],
   "source": [
    "episode_five_dict = {'Davos':'Davos', \n",
    "                     'Kinvara':'Kinvara', \n",
    "                     'Nan':'Nan', \n",
    "                     'Three-Eyed Raven':'Three-Eyed Raven', \n",
    "                     'Tyrion':'Tyrion', \n",
    "                     'Euron':'Euron',\n",
    "                     'Littlefinger':'Littlefinger', \n",
    "                     'Missandei':'Missandei', \n",
    "                     'Dolorous Edd':'Dolorous Edd', \n",
    "                     'Yara':'Yara', \n",
    "                     'Young Hodor':'Young Hodor',\n",
    "                     'Aerson':'Aeron', \n",
    "                     'Theon':'Theon', \n",
    "                     'Lady Crane':'Lady Crane', \n",
    "                     'Rickard':'Rickard', \n",
    "                     'Hodor':'Hodor', \n",
    "                     'Meera':'Meera',\n",
    "                     'Daenerys':'Daenerys', \n",
    "                     'Clarenzo':'Clarenzo', \n",
    "                     'Ladyc Rane':'Lady Crane', \n",
    "                     'Grey Worm':'Grey Worm', \n",
    "                     'Waif':'Waif',\n",
    "                     'Varys':'Varys', \n",
    "                     'Bobono':'Bobono', \n",
    "                     'Bianca':'Bianca', \n",
    "                     'Izembaro':'Izembaro', \n",
    "                     'Jon Snow':'Jon Snow', \n",
    "                     'All':'All',\n",
    "                     'Leaf':'Leaf', \n",
    "                     'Aeron':'Aeron', \n",
    "                     'Sansa':'Sansa', \n",
    "                     'Brienne':'Brienne', \n",
    "                     'Man #2':'Man #2', \n",
    "                     'Man #1':'Man #1', \n",
    "                     'Jorah':'Jorah',\n",
    "                     'Jaqen':'Jaqen', \n",
    "                     'Camello':'Camello', \n",
    "                     'Young Ned':'Young Ned', \n",
    "                     'Arya':'Arya', \n",
    "                     'Bran':'Bran', \n",
    "                     'Man':'Man'}\n",
    "\n",
    "episode_five['index'] = episode_five['index'].replace(episode_five_dict)"
   ]
  },
  {
   "cell_type": "code",
   "execution_count": 231,
   "metadata": {
    "collapsed": true
   },
   "outputs": [],
   "source": [
    "episode_five = episode_five.set_index('index')"
   ]
  },
  {
   "cell_type": "code",
   "execution_count": 232,
   "metadata": {},
   "outputs": [
    {
     "data": {
      "text/plain": [
       "(41, 30)"
      ]
     },
     "execution_count": 232,
     "metadata": {},
     "output_type": "execute_result"
    }
   ],
   "source": [
    "episode_five.shape"
   ]
  },
  {
   "cell_type": "code",
   "execution_count": 233,
   "metadata": {},
   "outputs": [
    {
     "name": "stdout",
     "output_type": "stream",
     "text": [
      "(85, 57)\n"
     ]
    }
   ],
   "source": [
    "season_six = season_six.join(episode_five, rsuffix=\"_five\", how='outer')\n",
    "print season_six.shape    "
   ]
  },
  {
   "cell_type": "code",
   "execution_count": 234,
   "metadata": {},
   "outputs": [],
   "source": [
    "#season_six.index"
   ]
  },
  {
   "cell_type": "code",
   "execution_count": 235,
   "metadata": {},
   "outputs": [
    {
     "data": {
      "text/plain": [
       "Index([u'Dickon', u'Gilly', u'Jaime', u'Woman', u'Sam', u'Olenna',\n",
       "       u'Lady Crane', u'Talla', u'Meera', u'Lothar', u'Daenerys', u'Benjen',\n",
       "       u'Cersei', u'Clarenzo', u'Tommen', u'Waif', u'Bobono', u'Bianca',\n",
       "       u'Mace', u'Izembaro', u'Melessa', u'Margaery', u'Walder', u'Rider',\n",
       "       u'Randyll', u'All', u'Captain', u'Jaqen', u'Daario', u'Camello',\n",
       "       u'High Sparrow', u'Black Walder', u'Arya', u'Bran'],\n",
       "      dtype='object')"
      ]
     },
     "execution_count": 235,
     "metadata": {},
     "output_type": "execute_result"
    }
   ],
   "source": [
    "episode_six.index"
   ]
  },
  {
   "cell_type": "code",
   "execution_count": 236,
   "metadata": {},
   "outputs": [
    {
     "data": {
      "text/plain": [
       "(34, 32)"
      ]
     },
     "execution_count": 236,
     "metadata": {},
     "output_type": "execute_result"
    }
   ],
   "source": [
    "episode_six.shape"
   ]
  },
  {
   "cell_type": "code",
   "execution_count": 237,
   "metadata": {},
   "outputs": [
    {
     "name": "stdout",
     "output_type": "stream",
     "text": [
      "(99, 89)\n"
     ]
    }
   ],
   "source": [
    "season_six = season_six.join(episode_six, rsuffix=\"_six\", how='outer')\n",
    "print season_six.shape    "
   ]
  },
  {
   "cell_type": "code",
   "execution_count": 238,
   "metadata": {},
   "outputs": [],
   "source": [
    "#season_six.index"
   ]
  },
  {
   "cell_type": "code",
   "execution_count": 239,
   "metadata": {
    "scrolled": true
   },
   "outputs": [
    {
     "data": {
      "text/plain": [
       "Index([u'Davos', u'Bronn', u'Jaime', u'Brynden', u'Yara', u'Woman', u'Olenna',\n",
       "       u'Lothar', u'Ray', u'Theon', u'Cersei', u'Dim Dalba', u'Sandor',\n",
       "       u'Robett', u'Lyanna', u'Margaery', u'Jon Snow', u'Sansa', u'Man #2',\n",
       "       u'Lem', u'Wun Wun', u'Tormund', u'High Sparrow', u'Black Walder',\n",
       "       u'Arya', u'Man'],\n",
       "      dtype='object')"
      ]
     },
     "execution_count": 239,
     "metadata": {},
     "output_type": "execute_result"
    }
   ],
   "source": [
    "episode_seven.index"
   ]
  },
  {
   "cell_type": "code",
   "execution_count": 240,
   "metadata": {},
   "outputs": [
    {
     "data": {
      "text/plain": [
       "(26, 31)"
      ]
     },
     "execution_count": 240,
     "metadata": {},
     "output_type": "execute_result"
    }
   ],
   "source": [
    "episode_seven.shape"
   ]
  },
  {
   "cell_type": "code",
   "execution_count": 241,
   "metadata": {},
   "outputs": [
    {
     "name": "stdout",
     "output_type": "stream",
     "text": [
      "(108, 120)\n"
     ]
    }
   ],
   "source": [
    "season_six = season_six.join(episode_seven, rsuffix=\"_seven\", how='outer')\n",
    "print season_six.shape"
   ]
  },
  {
   "cell_type": "code",
   "execution_count": 242,
   "metadata": {},
   "outputs": [
    {
     "data": {
      "text/plain": [
       "Index([u'Kevan', u'Bronn', u'Jaime', u'Tyrion', u'Missandei', u'Crowd',\n",
       "       u'Lady Crane', u'Guard', u'Guard Captain', u'Thoros', u'Gatins',\n",
       "       u'Tommen', u'Grey Worm', u'Young Man', u'Varys', u'Cersei', u'Sandor',\n",
       "       u'Beric', u'Brynden', u'Qyburn', u'Edmure', u'Podrick', u'Lancel',\n",
       "       u'Brienne', u'Lem', u'Jaqen', u'Waif', u'Arya', u'Man'],\n",
       "      dtype='object')"
      ]
     },
     "execution_count": 242,
     "metadata": {},
     "output_type": "execute_result"
    }
   ],
   "source": [
    "episode_eight.index"
   ]
  },
  {
   "cell_type": "code",
   "execution_count": 243,
   "metadata": {},
   "outputs": [
    {
     "data": {
      "text/plain": [
       "(29, 36)"
      ]
     },
     "execution_count": 243,
     "metadata": {},
     "output_type": "execute_result"
    }
   ],
   "source": [
    "episode_eight.shape"
   ]
  },
  {
   "cell_type": "code",
   "execution_count": 244,
   "metadata": {},
   "outputs": [
    {
     "name": "stdout",
     "output_type": "stream",
     "text": [
      "(118, 156)\n"
     ]
    }
   ],
   "source": [
    "season_six = season_six.join(episode_eight, rsuffix=\"_eight\", how='outer')\n",
    "print season_six.shape"
   ]
  },
  {
   "cell_type": "code",
   "execution_count": 245,
   "metadata": {},
   "outputs": [
    {
     "data": {
      "text/plain": [
       "Index([u'Yara', u'Davos', u'Karstark', u'Sansa', u'Man #2', u'Tyrion',\n",
       "       u'Melisandre', u'All', u'Smalljon', u'Tormund', u'Razdal', u'Yezzan',\n",
       "       u'Daenerys', u'Belicho', u'Theon', u'Man', u'Missandei', u'Jon Snow',\n",
       "       u'Ramsay'],\n",
       "      dtype='object')"
      ]
     },
     "execution_count": 245,
     "metadata": {},
     "output_type": "execute_result"
    }
   ],
   "source": [
    "episode_nine.index"
   ]
  },
  {
   "cell_type": "code",
   "execution_count": 246,
   "metadata": {},
   "outputs": [
    {
     "data": {
      "text/plain": [
       "(19, 28)"
      ]
     },
     "execution_count": 246,
     "metadata": {},
     "output_type": "execute_result"
    }
   ],
   "source": [
    "episode_nine.shape"
   ]
  },
  {
   "cell_type": "code",
   "execution_count": 247,
   "metadata": {},
   "outputs": [
    {
     "name": "stdout",
     "output_type": "stream",
     "text": [
      "(122, 184)\n"
     ]
    }
   ],
   "source": [
    "season_six = season_six.join(episode_nine, rsuffix=\"_nine\", how='outer')\n",
    "print season_six.shape"
   ]
  },
  {
   "cell_type": "code",
   "execution_count": 248,
   "metadata": {},
   "outputs": [
    {
     "data": {
      "text/plain": [
       "Index([u'Davos', u'Septa Unella', u'Pycelle', u'Ned', u'Melisandre', u'Bronn',\n",
       "       u'Jaime', u'Tyrion', u'Girl', u'Maester', u'Ellaria', u'Sam', u'Olenna',\n",
       "       u'Meera', u'Daenerys', u'Benjen', u'Vale Knight', u'Tommen', u'Cersei',\n",
       "       u'Varys', u'Walder', u'Handmaiden', u'Mace', u'Lyanna', u'Margaery',\n",
       "       u'Qyburn', u'Jon Snow', u'Nymeria', u'All', u'Lancel', u'Obara',\n",
       "       u'Sansa', u'Men', u'Manderly', u'Daario', u'Tormund', u'Glover',\n",
       "       u'High Sparrow', u'Man', u'Bran', u'Loras', u'Petyr'],\n",
       "      dtype='object')"
      ]
     },
     "execution_count": 248,
     "metadata": {},
     "output_type": "execute_result"
    }
   ],
   "source": [
    "episode_ten.index"
   ]
  },
  {
   "cell_type": "code",
   "execution_count": 249,
   "metadata": {},
   "outputs": [
    {
     "data": {
      "text/plain": [
       "(42, 20)"
      ]
     },
     "execution_count": 249,
     "metadata": {},
     "output_type": "execute_result"
    }
   ],
   "source": [
    "episode_ten.shape"
   ]
  },
  {
   "cell_type": "code",
   "execution_count": 250,
   "metadata": {},
   "outputs": [
    {
     "name": "stdout",
     "output_type": "stream",
     "text": [
      "(133, 204)\n"
     ]
    }
   ],
   "source": [
    "season_six = season_six.join(episode_ten, rsuffix=\"_ten\", how='outer')\n",
    "print season_six.shape"
   ]
  },
  {
   "cell_type": "code",
   "execution_count": 251,
   "metadata": {},
   "outputs": [],
   "source": [
    "#season_six.index"
   ]
  },
  {
   "cell_type": "code",
   "execution_count": 252,
   "metadata": {
    "collapsed": true
   },
   "outputs": [],
   "source": [
    "from numpy import nan\n",
    "season_six.fillna(value=str(0), inplace=True)"
   ]
  },
  {
   "cell_type": "code",
   "execution_count": 253,
   "metadata": {},
   "outputs": [],
   "source": [
    "#season_six.head(135)"
   ]
  },
  {
   "cell_type": "code",
   "execution_count": 254,
   "metadata": {
    "scrolled": true
   },
   "outputs": [
    {
     "name": "stdout",
     "output_type": "stream",
     "text": [
      "<class 'pandas.core.frame.DataFrame'>\n",
      "Index: 133 entries, Aeron to Young Ned\n",
      "Columns: 204 entries, 0 to 19_ten\n",
      "dtypes: object(204)\n",
      "memory usage: 213.0+ KB\n"
     ]
    }
   ],
   "source": [
    "season_six.info()"
   ]
  },
  {
   "cell_type": "code",
   "execution_count": 255,
   "metadata": {
    "collapsed": true
   },
   "outputs": [],
   "source": [
    "season_six.to_pickle('/Users/zoemarkovits/Metis/project_five_got/PKLs/season_six.pkl')"
   ]
  },
  {
   "cell_type": "markdown",
   "metadata": {
    "collapsed": true
   },
   "source": [
    "## Character Breakdown"
   ]
  },
  {
   "cell_type": "markdown",
   "metadata": {
    "collapsed": true
   },
   "source": [
    "### Arya Stark"
   ]
  },
  {
   "cell_type": "code",
   "execution_count": 256,
   "metadata": {},
   "outputs": [],
   "source": [
    "Arya = season_six.loc['Arya']\n",
    "#print Arya"
   ]
  },
  {
   "cell_type": "code",
   "execution_count": 257,
   "metadata": {},
   "outputs": [],
   "source": [
    "Arya_Text = Arya.values.tolist()\n",
    "#Arya_Text"
   ]
  },
  {
   "cell_type": "code",
   "execution_count": 258,
   "metadata": {
    "scrolled": true
   },
   "outputs": [],
   "source": [
    "Arya_Words = []\n",
    "\n",
    "for word in Arya_Text:\n",
    "    if len(word)>=1:\n",
    "        if word != '0':\n",
    "            Arya_Words.append(word)\n",
    "        \n",
    "#Arya_Words "
   ]
  },
  {
   "cell_type": "code",
   "execution_count": 259,
   "metadata": {},
   "outputs": [],
   "source": [
    "Arya_Words_String = ' '.join(Arya_Words)\n",
    "#Arya_Words_String"
   ]
  },
  {
   "cell_type": "code",
   "execution_count": 260,
   "metadata": {},
   "outputs": [
    {
     "data": {
      "text/plain": [
       "487"
      ]
     },
     "execution_count": 260,
     "metadata": {},
     "output_type": "execute_result"
    }
   ],
   "source": [
    "Arya_String_Length = len(Arya_Words_String)\n",
    "Arya_String_Length"
   ]
  },
  {
   "cell_type": "code",
   "execution_count": 261,
   "metadata": {},
   "outputs": [
    {
     "data": {
      "text/plain": [
       "Sentiment(polarity=0.3018518518518518, subjectivity=0.5444444444444445)"
      ]
     },
     "execution_count": 261,
     "metadata": {},
     "output_type": "execute_result"
    }
   ],
   "source": [
    "Arya_Sentiment = TextBlob(Arya_Words_String).sentiment\n",
    "Arya_Sentiment"
   ]
  },
  {
   "cell_type": "markdown",
   "metadata": {
    "collapsed": true
   },
   "source": [
    "### Brienne of Tarth"
   ]
  },
  {
   "cell_type": "code",
   "execution_count": 262,
   "metadata": {},
   "outputs": [],
   "source": [
    "Brienne = season_six.loc['Brienne']\n",
    "#print Brienne"
   ]
  },
  {
   "cell_type": "code",
   "execution_count": 263,
   "metadata": {},
   "outputs": [],
   "source": [
    "Brienne_Text = Brienne.values.tolist()\n",
    "#Brienne_Text"
   ]
  },
  {
   "cell_type": "code",
   "execution_count": 264,
   "metadata": {},
   "outputs": [],
   "source": [
    "Brienne_Words = []\n",
    "\n",
    "for word in Brienne_Text:\n",
    "    if len(word)>=1:\n",
    "        if word != '0':\n",
    "            Brienne_Words.append(word)\n",
    "        \n",
    "#Brienne_Words "
   ]
  },
  {
   "cell_type": "code",
   "execution_count": 265,
   "metadata": {},
   "outputs": [],
   "source": [
    "Brienne_Words_String = ' '.join(Brienne_Words)\n",
    "#Brienne_Words_String"
   ]
  },
  {
   "cell_type": "code",
   "execution_count": 266,
   "metadata": {},
   "outputs": [
    {
     "data": {
      "text/plain": [
       "909"
      ]
     },
     "execution_count": 266,
     "metadata": {},
     "output_type": "execute_result"
    }
   ],
   "source": [
    "Brienne_String_Length = len(Brienne_Words_String)\n",
    "Brienne_String_Length"
   ]
  },
  {
   "cell_type": "code",
   "execution_count": 267,
   "metadata": {},
   "outputs": [
    {
     "data": {
      "text/plain": [
       "Sentiment(polarity=-0.049090909090909095, subjectivity=0.3733333333333333)"
      ]
     },
     "execution_count": 267,
     "metadata": {},
     "output_type": "execute_result"
    }
   ],
   "source": [
    "Brienne_Sentiment = TextBlob(Brienne_Words_String).sentiment\n",
    "Brienne_Sentiment"
   ]
  },
  {
   "cell_type": "markdown",
   "metadata": {
    "collapsed": true
   },
   "source": [
    "### Cersei Lannister"
   ]
  },
  {
   "cell_type": "code",
   "execution_count": 268,
   "metadata": {},
   "outputs": [],
   "source": [
    "Cersei = season_six.loc['Cersei']\n",
    "#print Cersei"
   ]
  },
  {
   "cell_type": "code",
   "execution_count": 269,
   "metadata": {},
   "outputs": [],
   "source": [
    "Cersei_Text = Cersei.values.tolist()\n",
    "#Cersei_Text"
   ]
  },
  {
   "cell_type": "code",
   "execution_count": 270,
   "metadata": {
    "scrolled": true
   },
   "outputs": [],
   "source": [
    "Cersei_Words = []\n",
    "\n",
    "for word in Cersei_Text:\n",
    "    if len(word)>=1:\n",
    "        if word != '0':\n",
    "            Cersei_Words.append(word)\n",
    "        \n",
    "#Cersei_Words "
   ]
  },
  {
   "cell_type": "code",
   "execution_count": 271,
   "metadata": {},
   "outputs": [],
   "source": [
    "Cersei_Words_String = ' '.join(Cersei_Words)\n",
    "#Cersei_Words_String"
   ]
  },
  {
   "cell_type": "code",
   "execution_count": 272,
   "metadata": {},
   "outputs": [
    {
     "data": {
      "text/plain": [
       "1061"
      ]
     },
     "execution_count": 272,
     "metadata": {},
     "output_type": "execute_result"
    }
   ],
   "source": [
    "Cersei_String_Length = len(Cersei_Words_String)\n",
    "Cersei_String_Length"
   ]
  },
  {
   "cell_type": "code",
   "execution_count": 273,
   "metadata": {},
   "outputs": [
    {
     "data": {
      "text/plain": [
       "Sentiment(polarity=0.10739047619047618, subjectivity=0.44899047619047616)"
      ]
     },
     "execution_count": 273,
     "metadata": {},
     "output_type": "execute_result"
    }
   ],
   "source": [
    "Cersei_Sentiment = TextBlob(Cersei_Words_String).sentiment\n",
    "Cersei_Sentiment"
   ]
  },
  {
   "cell_type": "markdown",
   "metadata": {
    "collapsed": true
   },
   "source": [
    "### Daenerys Targaryen"
   ]
  },
  {
   "cell_type": "code",
   "execution_count": 274,
   "metadata": {},
   "outputs": [],
   "source": [
    "Daenerys = season_six.loc['Daenerys']\n",
    "#print Daenerys"
   ]
  },
  {
   "cell_type": "code",
   "execution_count": 275,
   "metadata": {},
   "outputs": [],
   "source": [
    "Dany_Text = Daenerys.values.tolist()\n",
    "#Dany_Text"
   ]
  },
  {
   "cell_type": "code",
   "execution_count": 276,
   "metadata": {
    "scrolled": true
   },
   "outputs": [],
   "source": [
    "Dany_Words = []\n",
    "\n",
    "for word in Dany_Text:\n",
    "    if len(word)>=1:\n",
    "        if word != '0':\n",
    "            Dany_Words.append(word)\n",
    "        \n",
    "#Dany_Words "
   ]
  },
  {
   "cell_type": "code",
   "execution_count": 277,
   "metadata": {},
   "outputs": [],
   "source": [
    "Dany_Words_String = ' '.join(Dany_Words)\n",
    "#Dany_Words_String"
   ]
  },
  {
   "cell_type": "code",
   "execution_count": 278,
   "metadata": {},
   "outputs": [
    {
     "data": {
      "text/plain": [
       "1272"
      ]
     },
     "execution_count": 278,
     "metadata": {},
     "output_type": "execute_result"
    }
   ],
   "source": [
    "Dany_String_Length = len(Dany_Words_String)\n",
    "Dany_String_Length"
   ]
  },
  {
   "cell_type": "code",
   "execution_count": 279,
   "metadata": {},
   "outputs": [
    {
     "data": {
      "text/plain": [
       "Sentiment(polarity=0.15000000000000002, subjectivity=0.6253968253968254)"
      ]
     },
     "execution_count": 279,
     "metadata": {},
     "output_type": "execute_result"
    }
   ],
   "source": [
    "Dany_Sentiment = TextBlob(Dany_Words_String).sentiment\n",
    "Dany_Sentiment"
   ]
  },
  {
   "cell_type": "markdown",
   "metadata": {
    "collapsed": true
   },
   "source": [
    "### Davos"
   ]
  },
  {
   "cell_type": "code",
   "execution_count": 280,
   "metadata": {},
   "outputs": [],
   "source": [
    "Davos = season_six.loc['Davos']\n",
    "#print Davos"
   ]
  },
  {
   "cell_type": "code",
   "execution_count": 281,
   "metadata": {},
   "outputs": [],
   "source": [
    "Davos_Text = Davos.values.tolist()\n",
    "#Davos_Text"
   ]
  },
  {
   "cell_type": "code",
   "execution_count": 282,
   "metadata": {
    "scrolled": true
   },
   "outputs": [],
   "source": [
    "Davos_Words = []\n",
    "\n",
    "for word in Davos_Text:\n",
    "    if len(word)>=1:\n",
    "        if word != '0':\n",
    "            Davos_Words.append(word)\n",
    "        \n",
    "#Davos_Words "
   ]
  },
  {
   "cell_type": "code",
   "execution_count": 283,
   "metadata": {},
   "outputs": [],
   "source": [
    "Davos_Words_String = ' '.join(Davos_Words)\n",
    "#Davos_Words_String"
   ]
  },
  {
   "cell_type": "code",
   "execution_count": 284,
   "metadata": {},
   "outputs": [
    {
     "data": {
      "text/plain": [
       "1234"
      ]
     },
     "execution_count": 284,
     "metadata": {},
     "output_type": "execute_result"
    }
   ],
   "source": [
    "Davos_String_Length = len(Davos_Words_String)\n",
    "Davos_String_Length"
   ]
  },
  {
   "cell_type": "code",
   "execution_count": 285,
   "metadata": {},
   "outputs": [
    {
     "data": {
      "text/plain": [
       "Sentiment(polarity=0.0673611111111111, subjectivity=0.6229166666666667)"
      ]
     },
     "execution_count": 285,
     "metadata": {},
     "output_type": "execute_result"
    }
   ],
   "source": [
    "Davos_Sentiment = TextBlob(Davos_Words_String).sentiment\n",
    "Davos_Sentiment"
   ]
  },
  {
   "cell_type": "markdown",
   "metadata": {
    "collapsed": true
   },
   "source": [
    "### Gilly"
   ]
  },
  {
   "cell_type": "code",
   "execution_count": 286,
   "metadata": {},
   "outputs": [],
   "source": [
    "Gilly = season_six.loc['Gilly']\n",
    "#print Gilly"
   ]
  },
  {
   "cell_type": "code",
   "execution_count": 287,
   "metadata": {},
   "outputs": [],
   "source": [
    "Gilly_Text = Gilly.values.tolist()\n",
    "#Gilly_Text"
   ]
  },
  {
   "cell_type": "code",
   "execution_count": 288,
   "metadata": {},
   "outputs": [],
   "source": [
    "Gilly_Words = []\n",
    "\n",
    "for word in Gilly_Text:\n",
    "    if len(word)>=1:\n",
    "        if word != '0':\n",
    "            Gilly_Words.append(word)\n",
    "        \n",
    "#Gilly_Words "
   ]
  },
  {
   "cell_type": "code",
   "execution_count": 289,
   "metadata": {},
   "outputs": [],
   "source": [
    "Gilly_Words_String = ' '.join(Gilly_Words)\n",
    "#Gilly_Words_String"
   ]
  },
  {
   "cell_type": "code",
   "execution_count": 290,
   "metadata": {},
   "outputs": [
    {
     "data": {
      "text/plain": [
       "413"
      ]
     },
     "execution_count": 290,
     "metadata": {},
     "output_type": "execute_result"
    }
   ],
   "source": [
    "Gilly_String_Length = len(Gilly_Words_String)\n",
    "Gilly_String_Length"
   ]
  },
  {
   "cell_type": "code",
   "execution_count": 291,
   "metadata": {},
   "outputs": [
    {
     "data": {
      "text/plain": [
       "Sentiment(polarity=0.11909722222222224, subjectivity=0.6354166666666666)"
      ]
     },
     "execution_count": 291,
     "metadata": {},
     "output_type": "execute_result"
    }
   ],
   "source": [
    "Gilly_Sentiment = TextBlob(Gilly_Words_String).sentiment\n",
    "Gilly_Sentiment"
   ]
  },
  {
   "cell_type": "markdown",
   "metadata": {
    "collapsed": true
   },
   "source": [
    "### Jaime Lannister"
   ]
  },
  {
   "cell_type": "code",
   "execution_count": 292,
   "metadata": {},
   "outputs": [],
   "source": [
    "Jaime = season_six.loc['Jaime']\n",
    "#print Jaime"
   ]
  },
  {
   "cell_type": "code",
   "execution_count": 293,
   "metadata": {},
   "outputs": [],
   "source": [
    "Jaime_Text = Jaime.values.tolist()\n",
    "#Jaime_Text"
   ]
  },
  {
   "cell_type": "code",
   "execution_count": 294,
   "metadata": {
    "scrolled": true
   },
   "outputs": [],
   "source": [
    "Jaime_Words = []\n",
    "\n",
    "for word in Jaime_Text:\n",
    "    if len(word)>=1:\n",
    "        if word != '0':\n",
    "            Jaime_Words.append(word)\n",
    "        \n",
    "#Jaime_Words "
   ]
  },
  {
   "cell_type": "code",
   "execution_count": 295,
   "metadata": {},
   "outputs": [],
   "source": [
    "Jaime_Words_String = ' '.join(Jaime_Words)\n",
    "#Jaime_Words_String"
   ]
  },
  {
   "cell_type": "code",
   "execution_count": 296,
   "metadata": {},
   "outputs": [
    {
     "data": {
      "text/plain": [
       "1999"
      ]
     },
     "execution_count": 296,
     "metadata": {},
     "output_type": "execute_result"
    }
   ],
   "source": [
    "Jaime_String_Length = len(Jaime_Words_String)\n",
    "Jaime_String_Length"
   ]
  },
  {
   "cell_type": "code",
   "execution_count": 297,
   "metadata": {},
   "outputs": [
    {
     "data": {
      "text/plain": [
       "Sentiment(polarity=0.15543062200956936, subjectivity=0.5173517126148706)"
      ]
     },
     "execution_count": 297,
     "metadata": {},
     "output_type": "execute_result"
    }
   ],
   "source": [
    "Jaime_Sentiment = TextBlob(Jaime_Words_String).sentiment\n",
    "Jaime_Sentiment"
   ]
  },
  {
   "cell_type": "markdown",
   "metadata": {
    "collapsed": true
   },
   "source": [
    "### Jon Snow"
   ]
  },
  {
   "cell_type": "code",
   "execution_count": 298,
   "metadata": {},
   "outputs": [],
   "source": [
    "Jon = season_six.loc['Jon Snow']\n",
    "#print Jon"
   ]
  },
  {
   "cell_type": "code",
   "execution_count": 299,
   "metadata": {},
   "outputs": [],
   "source": [
    "Jon_Text = Jon.values.tolist()\n",
    "#Jon_Text"
   ]
  },
  {
   "cell_type": "code",
   "execution_count": 300,
   "metadata": {
    "scrolled": true
   },
   "outputs": [],
   "source": [
    "Jon_Words = []\n",
    "\n",
    "for word in Jon_Text:\n",
    "    if len(word)>=1:\n",
    "        if word != '0':\n",
    "            Jon_Words.append(word)\n",
    "        \n",
    "#Jon_Words "
   ]
  },
  {
   "cell_type": "code",
   "execution_count": 301,
   "metadata": {},
   "outputs": [],
   "source": [
    "Jon_Words_String = ' '.join(Jon_Words)\n",
    "#Jon_Words_String"
   ]
  },
  {
   "cell_type": "code",
   "execution_count": 302,
   "metadata": {},
   "outputs": [
    {
     "data": {
      "text/plain": [
       "1603"
      ]
     },
     "execution_count": 302,
     "metadata": {},
     "output_type": "execute_result"
    }
   ],
   "source": [
    "Jon_String_Length = len(Jon_Words_String)\n",
    "Jon_String_Length"
   ]
  },
  {
   "cell_type": "code",
   "execution_count": 303,
   "metadata": {},
   "outputs": [
    {
     "data": {
      "text/plain": [
       "Sentiment(polarity=0.18095238095238095, subjectivity=0.4542162698412699)"
      ]
     },
     "execution_count": 303,
     "metadata": {},
     "output_type": "execute_result"
    }
   ],
   "source": [
    "Jon_Sentiment = TextBlob(Jon_Words_String).sentiment\n",
    "Jon_Sentiment"
   ]
  },
  {
   "cell_type": "markdown",
   "metadata": {
    "collapsed": true
   },
   "source": [
    "### Jorah Mormont"
   ]
  },
  {
   "cell_type": "code",
   "execution_count": 304,
   "metadata": {},
   "outputs": [],
   "source": [
    "Jorah = season_six.loc['Jorah']\n",
    "#print Jorah"
   ]
  },
  {
   "cell_type": "code",
   "execution_count": 305,
   "metadata": {},
   "outputs": [],
   "source": [
    "Jorah_Text = Jorah.values.tolist()\n",
    "#Jorah_Text"
   ]
  },
  {
   "cell_type": "code",
   "execution_count": 306,
   "metadata": {},
   "outputs": [],
   "source": [
    "Jorah_Words = []\n",
    "\n",
    "for word in Jorah_Text:\n",
    "    if len(word)>=1:\n",
    "        if word != '0':\n",
    "            Jorah_Words.append(word)\n",
    "        \n",
    "#Jorah_Words "
   ]
  },
  {
   "cell_type": "code",
   "execution_count": 307,
   "metadata": {},
   "outputs": [],
   "source": [
    "Jorah_Words_String = ' '.join(Jorah_Words)\n",
    "#Jorah_Words_String"
   ]
  },
  {
   "cell_type": "code",
   "execution_count": 308,
   "metadata": {},
   "outputs": [
    {
     "data": {
      "text/plain": [
       "423"
      ]
     },
     "execution_count": 308,
     "metadata": {},
     "output_type": "execute_result"
    }
   ],
   "source": [
    "Jorah_String_Length = len(Jorah_Words_String)\n",
    "Jorah_String_Length"
   ]
  },
  {
   "cell_type": "code",
   "execution_count": 309,
   "metadata": {},
   "outputs": [
    {
     "data": {
      "text/plain": [
       "Sentiment(polarity=0.029166666666666674, subjectivity=0.475)"
      ]
     },
     "execution_count": 309,
     "metadata": {},
     "output_type": "execute_result"
    }
   ],
   "source": [
    "Jorah_Sentiment = TextBlob(Jorah_Words_String).sentiment\n",
    "Jorah_Sentiment"
   ]
  },
  {
   "cell_type": "markdown",
   "metadata": {
    "collapsed": true
   },
   "source": [
    "### Petyr Baelish/Littlefinger"
   ]
  },
  {
   "cell_type": "code",
   "execution_count": 314,
   "metadata": {
    "collapsed": true
   },
   "outputs": [],
   "source": [
    "Littlefinger = season_six.loc['Littlefinger']\n",
    "Petyr = season_six.loc['Petyr']"
   ]
  },
  {
   "cell_type": "code",
   "execution_count": 315,
   "metadata": {
    "collapsed": true
   },
   "outputs": [],
   "source": [
    "Littlefinger_Text = Littlefinger.values.tolist()\n",
    "Petyr_Text = Petyr.values.tolist()"
   ]
  },
  {
   "cell_type": "code",
   "execution_count": 318,
   "metadata": {},
   "outputs": [],
   "source": [
    "Littlefinger_Words = []\n",
    "\n",
    "for word in Littlefinger_Text:\n",
    "    if len(word)>=1:\n",
    "        if word != '0':\n",
    "            Littlefinger_Words.append(word)\n",
    "\n",
    "for word in Petyr_Text:\n",
    "    if len(word)>=1:\n",
    "        if word != '0':\n",
    "            Littlefinger_Words.append(word)            \n",
    "            \n",
    "#Littlefinger_Words"
   ]
  },
  {
   "cell_type": "code",
   "execution_count": 319,
   "metadata": {},
   "outputs": [],
   "source": [
    "Littlefinger_Words_String = ' '.join(Littlefinger_Words)\n",
    "#Littlefinger_Words_String"
   ]
  },
  {
   "cell_type": "code",
   "execution_count": 320,
   "metadata": {},
   "outputs": [
    {
     "data": {
      "text/plain": [
       "549"
      ]
     },
     "execution_count": 320,
     "metadata": {},
     "output_type": "execute_result"
    }
   ],
   "source": [
    "Littlefinger_String_Length = len(Littlefinger_Words_String)\n",
    "Littlefinger_String_Length"
   ]
  },
  {
   "cell_type": "code",
   "execution_count": 321,
   "metadata": {},
   "outputs": [
    {
     "data": {
      "text/plain": [
       "Sentiment(polarity=0.03484848484848485, subjectivity=0.5954545454545456)"
      ]
     },
     "execution_count": 321,
     "metadata": {},
     "output_type": "execute_result"
    }
   ],
   "source": [
    "Littlefinger_Sentiment = TextBlob(Littlefinger_Words_String).sentiment\n",
    "Littlefinger_Sentiment"
   ]
  },
  {
   "cell_type": "markdown",
   "metadata": {
    "collapsed": true
   },
   "source": [
    "### Margaery Tyrell"
   ]
  },
  {
   "cell_type": "code",
   "execution_count": 322,
   "metadata": {},
   "outputs": [],
   "source": [
    "Margaery = season_six.loc['Margaery']\n",
    "#print Margaery"
   ]
  },
  {
   "cell_type": "code",
   "execution_count": 323,
   "metadata": {},
   "outputs": [],
   "source": [
    "Margaery_Text = Margaery.values.tolist()\n",
    "#Margaery_Text"
   ]
  },
  {
   "cell_type": "code",
   "execution_count": 324,
   "metadata": {
    "scrolled": true
   },
   "outputs": [],
   "source": [
    "Margaery_Words = []\n",
    "\n",
    "for word in Margaery_Text:\n",
    "    if len(word)>=1:\n",
    "        if word != '0':\n",
    "            Margaery_Words.append(word)\n",
    "        \n",
    "#Margaery_Words "
   ]
  },
  {
   "cell_type": "code",
   "execution_count": 325,
   "metadata": {},
   "outputs": [],
   "source": [
    "Margaery_Words_String = ' '.join(Margaery_Words)\n",
    "#Margaery_Words_String"
   ]
  },
  {
   "cell_type": "code",
   "execution_count": 326,
   "metadata": {},
   "outputs": [
    {
     "data": {
      "text/plain": [
       "662"
      ]
     },
     "execution_count": 326,
     "metadata": {},
     "output_type": "execute_result"
    }
   ],
   "source": [
    "Margaery_String_Length = len(Margaery_Words_String)\n",
    "Margaery_String_Length"
   ]
  },
  {
   "cell_type": "code",
   "execution_count": 327,
   "metadata": {},
   "outputs": [
    {
     "data": {
      "text/plain": [
       "Sentiment(polarity=0.21913284632034633, subjectivity=0.6314781746031745)"
      ]
     },
     "execution_count": 327,
     "metadata": {},
     "output_type": "execute_result"
    }
   ],
   "source": [
    "Margaery_Sentiment = TextBlob(Margaery_Words_String).sentiment\n",
    "Margaery_Sentiment"
   ]
  },
  {
   "cell_type": "markdown",
   "metadata": {
    "collapsed": true
   },
   "source": [
    "### Melisandre"
   ]
  },
  {
   "cell_type": "code",
   "execution_count": 328,
   "metadata": {},
   "outputs": [],
   "source": [
    "Melisandre = season_six.loc['Melisandre']\n",
    "#print Melisandre"
   ]
  },
  {
   "cell_type": "code",
   "execution_count": 329,
   "metadata": {},
   "outputs": [],
   "source": [
    "Melisandre_Text = Melisandre.values.tolist()\n",
    "#Melisandre_Text"
   ]
  },
  {
   "cell_type": "code",
   "execution_count": 330,
   "metadata": {},
   "outputs": [],
   "source": [
    "Melisandre_Words = []\n",
    "\n",
    "for word in Melisandre_Text:\n",
    "    if len(word)>=1:\n",
    "        if word != '0':\n",
    "            Melisandre_Words.append(word)\n",
    "        \n",
    "#Melisandre_Words "
   ]
  },
  {
   "cell_type": "code",
   "execution_count": 331,
   "metadata": {},
   "outputs": [],
   "source": [
    "Melisandre_Words_String = ' '.join(Melisandre_Words)\n",
    "#Melisandre_Words_String"
   ]
  },
  {
   "cell_type": "code",
   "execution_count": 332,
   "metadata": {},
   "outputs": [
    {
     "data": {
      "text/plain": [
       "425"
      ]
     },
     "execution_count": 332,
     "metadata": {},
     "output_type": "execute_result"
    }
   ],
   "source": [
    "Melisandre_String_Length = len(Melisandre_Words_String)\n",
    "Melisandre_String_Length"
   ]
  },
  {
   "cell_type": "code",
   "execution_count": 333,
   "metadata": {},
   "outputs": [
    {
     "data": {
      "text/plain": [
       "Sentiment(polarity=7.93016446160826e-18, subjectivity=0.4714285714285714)"
      ]
     },
     "execution_count": 333,
     "metadata": {},
     "output_type": "execute_result"
    }
   ],
   "source": [
    "Melisandre_Sentiment = TextBlob(Melisandre_Words_String).sentiment\n",
    "Melisandre_Sentiment"
   ]
  },
  {
   "cell_type": "markdown",
   "metadata": {
    "collapsed": true
   },
   "source": [
    "### Missandei"
   ]
  },
  {
   "cell_type": "code",
   "execution_count": 334,
   "metadata": {},
   "outputs": [],
   "source": [
    "Missandei = season_six.loc['Missandei']\n",
    "#print Missandei"
   ]
  },
  {
   "cell_type": "code",
   "execution_count": 326,
   "metadata": {},
   "outputs": [
    {
     "data": {
      "text/plain": [
       "pandas.core.series.Series"
      ]
     },
     "execution_count": 326,
     "metadata": {},
     "output_type": "execute_result"
    }
   ],
   "source": [
    "type(Missandei)"
   ]
  },
  {
   "cell_type": "code",
   "execution_count": 335,
   "metadata": {},
   "outputs": [],
   "source": [
    "Missandei_Text = Missandei.values.tolist()\n",
    "#Missandei_Text"
   ]
  },
  {
   "cell_type": "code",
   "execution_count": 336,
   "metadata": {},
   "outputs": [],
   "source": [
    "Missandei_Words = []\n",
    "\n",
    "for word in Missandei_Text:\n",
    "    if len(word)>=1:\n",
    "        if word != '0':\n",
    "            Missandei_Words.append(word)\n",
    "        \n",
    "#Missandei_Words "
   ]
  },
  {
   "cell_type": "code",
   "execution_count": 337,
   "metadata": {},
   "outputs": [],
   "source": [
    "Missandei_Words_String = ' '.join(Missandei_Words)\n",
    "#Missandei_Words_String"
   ]
  },
  {
   "cell_type": "code",
   "execution_count": 338,
   "metadata": {},
   "outputs": [
    {
     "data": {
      "text/plain": [
       "457"
      ]
     },
     "execution_count": 338,
     "metadata": {},
     "output_type": "execute_result"
    }
   ],
   "source": [
    "Missandei_String_Length = len(Missandei_Words_String)\n",
    "Missandei_String_Length"
   ]
  },
  {
   "cell_type": "code",
   "execution_count": 339,
   "metadata": {},
   "outputs": [
    {
     "data": {
      "text/plain": [
       "Sentiment(polarity=0.3722222222222222, subjectivity=0.43333333333333335)"
      ]
     },
     "execution_count": 339,
     "metadata": {},
     "output_type": "execute_result"
    }
   ],
   "source": [
    "Missandei_Sentiment = TextBlob(Missandei_Words_String).sentiment\n",
    "Missandei_Sentiment"
   ]
  },
  {
   "cell_type": "markdown",
   "metadata": {
    "collapsed": true
   },
   "source": [
    "### Olenna Tyrell"
   ]
  },
  {
   "cell_type": "code",
   "execution_count": 340,
   "metadata": {
    "collapsed": true,
    "scrolled": true
   },
   "outputs": [],
   "source": [
    "Olenna1 = season_six.loc['Lady Olenna']\n",
    "Olenna2 = season_six.loc['Olenna']"
   ]
  },
  {
   "cell_type": "code",
   "execution_count": 341,
   "metadata": {
    "collapsed": true
   },
   "outputs": [],
   "source": [
    "Olenna_Text1 = Olenna1.values.tolist()\n",
    "Olenna_Text2 = Olenna2.values.tolist()"
   ]
  },
  {
   "cell_type": "code",
   "execution_count": 342,
   "metadata": {
    "scrolled": true
   },
   "outputs": [],
   "source": [
    "Olenna_Words = []\n",
    "\n",
    "for word in Olenna_Text1:\n",
    "    if len(word)>=1:\n",
    "        if word != '0':\n",
    "            Olenna_Words.append(word)\n",
    "\n",
    "for word in Olenna_Text2:\n",
    "    if len(word)>=1:\n",
    "        if word != '0':\n",
    "            Olenna_Words.append(word)            \n",
    "            \n",
    "#Olenna_Words "
   ]
  },
  {
   "cell_type": "code",
   "execution_count": 343,
   "metadata": {},
   "outputs": [],
   "source": [
    "Olenna_Words_String = ' '.join(Olenna_Words)\n",
    "#Olenna_Words_String"
   ]
  },
  {
   "cell_type": "code",
   "execution_count": 344,
   "metadata": {},
   "outputs": [
    {
     "data": {
      "text/plain": [
       "554"
      ]
     },
     "execution_count": 344,
     "metadata": {},
     "output_type": "execute_result"
    }
   ],
   "source": [
    "Olenna_String_Length = len(Olenna_Words_String)\n",
    "Olenna_String_Length"
   ]
  },
  {
   "cell_type": "code",
   "execution_count": 345,
   "metadata": {},
   "outputs": [
    {
     "data": {
      "text/plain": [
       "Sentiment(polarity=-0.0361111111111111, subjectivity=0.4694444444444444)"
      ]
     },
     "execution_count": 345,
     "metadata": {},
     "output_type": "execute_result"
    }
   ],
   "source": [
    "Olenna_Sentiment = TextBlob(Olenna_Words_String).sentiment\n",
    "Olenna_Sentiment"
   ]
  },
  {
   "cell_type": "markdown",
   "metadata": {
    "collapsed": true
   },
   "source": [
    "### Ramsay Bolton"
   ]
  },
  {
   "cell_type": "code",
   "execution_count": 346,
   "metadata": {},
   "outputs": [],
   "source": [
    "Ramsay = season_six.loc['Ramsay']\n",
    "#print Ramsay"
   ]
  },
  {
   "cell_type": "code",
   "execution_count": 347,
   "metadata": {},
   "outputs": [],
   "source": [
    "Ramsay_Text = Ramsay.values.tolist()\n",
    "#Ramsay_Text"
   ]
  },
  {
   "cell_type": "code",
   "execution_count": 348,
   "metadata": {},
   "outputs": [],
   "source": [
    "Ramsay_Words = []\n",
    "\n",
    "for word in Ramsay_Text:\n",
    "    if len(word)>=1:\n",
    "        if word != '0':\n",
    "            Ramsay_Words.append(word)\n",
    "        \n",
    "#Ramsay_Words "
   ]
  },
  {
   "cell_type": "code",
   "execution_count": 349,
   "metadata": {},
   "outputs": [],
   "source": [
    "Ramsay_Words_String = ' '.join(Ramsay_Words)\n",
    "#Ramsay_Words_String"
   ]
  },
  {
   "cell_type": "code",
   "execution_count": 350,
   "metadata": {},
   "outputs": [
    {
     "data": {
      "text/plain": [
       "634"
      ]
     },
     "execution_count": 350,
     "metadata": {},
     "output_type": "execute_result"
    }
   ],
   "source": [
    "Ramsay_String_Length = len(Ramsay_Words_String)\n",
    "Ramsay_String_Length"
   ]
  },
  {
   "cell_type": "code",
   "execution_count": 351,
   "metadata": {},
   "outputs": [
    {
     "data": {
      "text/plain": [
       "Sentiment(polarity=0.308482905982906, subjectivity=0.6155413105413107)"
      ]
     },
     "execution_count": 351,
     "metadata": {},
     "output_type": "execute_result"
    }
   ],
   "source": [
    "Ramsay_Sentiment = TextBlob(Ramsay_Words_String).sentiment\n",
    "Ramsay_Sentiment"
   ]
  },
  {
   "cell_type": "markdown",
   "metadata": {
    "collapsed": true
   },
   "source": [
    "### Samwell Tarly"
   ]
  },
  {
   "cell_type": "code",
   "execution_count": 352,
   "metadata": {
    "collapsed": true,
    "scrolled": true
   },
   "outputs": [],
   "source": [
    "Sam1 = season_six.loc['Sam']\n",
    "Sam2 = season_six.loc['Samwell']"
   ]
  },
  {
   "cell_type": "code",
   "execution_count": 353,
   "metadata": {
    "collapsed": true
   },
   "outputs": [],
   "source": [
    "Sam_Text1 = Sam1.values.tolist()\n",
    "Sam_Text2 = Sam2.values.tolist()"
   ]
  },
  {
   "cell_type": "code",
   "execution_count": 355,
   "metadata": {
    "scrolled": true
   },
   "outputs": [],
   "source": [
    "Sam_Words = []\n",
    "\n",
    "for word in Sam_Text1:\n",
    "    if len(word)>=1:\n",
    "        if word != '0':\n",
    "            Sam_Words.append(word)\n",
    "\n",
    "for word in Sam_Text2:\n",
    "    if len(word)>=1:\n",
    "        if word != '0':\n",
    "            Sam_Words.append(word)            \n",
    "            \n",
    "#Sam_Words "
   ]
  },
  {
   "cell_type": "code",
   "execution_count": 356,
   "metadata": {},
   "outputs": [],
   "source": [
    "Sam_Words_String = ' '.join(Sam_Words)\n",
    "#Sam_Words_String"
   ]
  },
  {
   "cell_type": "code",
   "execution_count": 357,
   "metadata": {},
   "outputs": [
    {
     "data": {
      "text/plain": [
       "885"
      ]
     },
     "execution_count": 357,
     "metadata": {},
     "output_type": "execute_result"
    }
   ],
   "source": [
    "Sam_String_Length = len(Sam_Words_String)\n",
    "Sam_String_Length"
   ]
  },
  {
   "cell_type": "code",
   "execution_count": 358,
   "metadata": {},
   "outputs": [
    {
     "data": {
      "text/plain": [
       "Sentiment(polarity=0.1780844155844156, subjectivity=0.6277183600713013)"
      ]
     },
     "execution_count": 358,
     "metadata": {},
     "output_type": "execute_result"
    }
   ],
   "source": [
    "Sam_Sentiment = TextBlob(Sam_Words_String).sentiment\n",
    "Sam_Sentiment"
   ]
  },
  {
   "cell_type": "markdown",
   "metadata": {
    "collapsed": true
   },
   "source": [
    "### Sansa Stark"
   ]
  },
  {
   "cell_type": "code",
   "execution_count": 359,
   "metadata": {},
   "outputs": [],
   "source": [
    "Sansa = season_six.loc['Sansa']\n",
    "#print Sansa"
   ]
  },
  {
   "cell_type": "code",
   "execution_count": 360,
   "metadata": {},
   "outputs": [],
   "source": [
    "Sansa_Text = Sansa.values.tolist()\n",
    "#Sansa_Text"
   ]
  },
  {
   "cell_type": "code",
   "execution_count": 361,
   "metadata": {
    "scrolled": true
   },
   "outputs": [],
   "source": [
    "Sansa_Words = []\n",
    "\n",
    "for word in Sansa_Text:\n",
    "    if len(word)>=1:\n",
    "        if word != '0':\n",
    "            Sansa_Words.append(word)\n",
    "        \n",
    "#Sansa_Words "
   ]
  },
  {
   "cell_type": "code",
   "execution_count": 362,
   "metadata": {},
   "outputs": [],
   "source": [
    "Sansa_Words_String = ' '.join(Sansa_Words)\n",
    "#Sansa_Words_String"
   ]
  },
  {
   "cell_type": "code",
   "execution_count": 363,
   "metadata": {},
   "outputs": [
    {
     "data": {
      "text/plain": [
       "1706"
      ]
     },
     "execution_count": 363,
     "metadata": {},
     "output_type": "execute_result"
    }
   ],
   "source": [
    "Sansa_String_Length = len(Sansa_Words_String)\n",
    "Sansa_String_Length"
   ]
  },
  {
   "cell_type": "code",
   "execution_count": 364,
   "metadata": {},
   "outputs": [
    {
     "data": {
      "text/plain": [
       "Sentiment(polarity=0.07939560439560439, subjectivity=0.49807692307692303)"
      ]
     },
     "execution_count": 364,
     "metadata": {},
     "output_type": "execute_result"
    }
   ],
   "source": [
    "Sansa_Sentiment = TextBlob(Sansa_Words_String).sentiment\n",
    "Sansa_Sentiment"
   ]
  },
  {
   "cell_type": "markdown",
   "metadata": {
    "collapsed": true
   },
   "source": [
    "### Theon Greyjoy"
   ]
  },
  {
   "cell_type": "code",
   "execution_count": 365,
   "metadata": {},
   "outputs": [],
   "source": [
    "Theon = season_six.loc['Theon']\n",
    "#print Theon"
   ]
  },
  {
   "cell_type": "code",
   "execution_count": 366,
   "metadata": {},
   "outputs": [],
   "source": [
    "Theon_Text = Theon.values.tolist()\n",
    "#Theon_Text"
   ]
  },
  {
   "cell_type": "code",
   "execution_count": 367,
   "metadata": {
    "scrolled": true
   },
   "outputs": [],
   "source": [
    "Theon_Words = []\n",
    "\n",
    "for word in Theon_Text:\n",
    "    if len(word)>=1:\n",
    "        if word != '0':\n",
    "            Theon_Words.append(word)\n",
    "        \n",
    "#Theon_Words "
   ]
  },
  {
   "cell_type": "code",
   "execution_count": 368,
   "metadata": {},
   "outputs": [],
   "source": [
    "Theon_Words_String = ' '.join(Theon_Words)\n",
    "#Theon_Words_String"
   ]
  },
  {
   "cell_type": "code",
   "execution_count": 369,
   "metadata": {},
   "outputs": [
    {
     "data": {
      "text/plain": [
       "647"
      ]
     },
     "execution_count": 369,
     "metadata": {},
     "output_type": "execute_result"
    }
   ],
   "source": [
    "Theon_String_Length = len(Theon_Words_String)\n",
    "Theon_String_Length"
   ]
  },
  {
   "cell_type": "code",
   "execution_count": 370,
   "metadata": {},
   "outputs": [
    {
     "data": {
      "text/plain": [
       "Sentiment(polarity=-0.11041666666666665, subjectivity=0.49083333333333334)"
      ]
     },
     "execution_count": 370,
     "metadata": {},
     "output_type": "execute_result"
    }
   ],
   "source": [
    "Theon_Sentiment = TextBlob(Theon_Words_String).sentiment\n",
    "Theon_Sentiment"
   ]
  },
  {
   "cell_type": "markdown",
   "metadata": {
    "collapsed": true
   },
   "source": [
    "### Tyrion Lannister"
   ]
  },
  {
   "cell_type": "code",
   "execution_count": 371,
   "metadata": {},
   "outputs": [],
   "source": [
    "Tyrion = season_six.loc['Tyrion']\n",
    "#print Tyrion"
   ]
  },
  {
   "cell_type": "code",
   "execution_count": 372,
   "metadata": {},
   "outputs": [],
   "source": [
    "Tyrion_Text = Tyrion.values.tolist()\n",
    "#Tyrion_Text"
   ]
  },
  {
   "cell_type": "code",
   "execution_count": 373,
   "metadata": {
    "scrolled": true
   },
   "outputs": [],
   "source": [
    "Tyrion_Words = []\n",
    "\n",
    "for word in Tyrion_Text:\n",
    "    if len(word)>=1:\n",
    "        if word != '0':\n",
    "            Tyrion_Words.append(word)\n",
    "        \n",
    "#Tyrion_Words "
   ]
  },
  {
   "cell_type": "code",
   "execution_count": 374,
   "metadata": {
    "scrolled": true
   },
   "outputs": [],
   "source": [
    "Tyrion_Words_String = ' '.join(Tyrion_Words)\n",
    "#Tyrion_Words_String"
   ]
  },
  {
   "cell_type": "code",
   "execution_count": 375,
   "metadata": {},
   "outputs": [
    {
     "data": {
      "text/plain": [
       "1979"
      ]
     },
     "execution_count": 375,
     "metadata": {},
     "output_type": "execute_result"
    }
   ],
   "source": [
    "Tyrion_String_Length = len(Tyrion_Words_String)\n",
    "Tyrion_String_Length"
   ]
  },
  {
   "cell_type": "code",
   "execution_count": 376,
   "metadata": {},
   "outputs": [
    {
     "data": {
      "text/plain": [
       "Sentiment(polarity=0.15876393110435663, subjectivity=0.54209726443769)"
      ]
     },
     "execution_count": 376,
     "metadata": {},
     "output_type": "execute_result"
    }
   ],
   "source": [
    "Tyrion_Sentiment = TextBlob(Tyrion_Words_String).sentiment\n",
    "Tyrion_Sentiment"
   ]
  },
  {
   "cell_type": "markdown",
   "metadata": {
    "collapsed": true
   },
   "source": [
    "### Varys"
   ]
  },
  {
   "cell_type": "code",
   "execution_count": 377,
   "metadata": {},
   "outputs": [],
   "source": [
    "Varys = season_six.loc['Varys']\n",
    "#print Varys"
   ]
  },
  {
   "cell_type": "code",
   "execution_count": 378,
   "metadata": {},
   "outputs": [],
   "source": [
    "Varys_Text = Varys.values.tolist()\n",
    "#Varys_Text"
   ]
  },
  {
   "cell_type": "code",
   "execution_count": 379,
   "metadata": {},
   "outputs": [],
   "source": [
    "Varys_Words = []\n",
    "\n",
    "for word in Varys_Text:\n",
    "    if len(word)>=1:\n",
    "        if word != '0':\n",
    "            Varys_Words.append(word)\n",
    "        \n",
    "#Varys_Words "
   ]
  },
  {
   "cell_type": "code",
   "execution_count": 380,
   "metadata": {},
   "outputs": [],
   "source": [
    "Varys_Words_String = ' '.join(Varys_Words)\n",
    "#Varys_Words_String"
   ]
  },
  {
   "cell_type": "code",
   "execution_count": 381,
   "metadata": {},
   "outputs": [
    {
     "data": {
      "text/plain": [
       "800"
      ]
     },
     "execution_count": 381,
     "metadata": {},
     "output_type": "execute_result"
    }
   ],
   "source": [
    "Varys_String_Length = len(Varys_Words_String)\n",
    "Varys_String_Length"
   ]
  },
  {
   "cell_type": "code",
   "execution_count": 382,
   "metadata": {},
   "outputs": [
    {
     "data": {
      "text/plain": [
       "Sentiment(polarity=0.20034461152882202, subjectivity=0.5567042606516291)"
      ]
     },
     "execution_count": 382,
     "metadata": {},
     "output_type": "execute_result"
    }
   ],
   "source": [
    "Varys_Sentiment = TextBlob(Varys_Words_String).sentiment\n",
    "Varys_Sentiment"
   ]
  },
  {
   "cell_type": "markdown",
   "metadata": {
    "collapsed": true
   },
   "source": [
    "### Yara Greyjoy"
   ]
  },
  {
   "cell_type": "code",
   "execution_count": 383,
   "metadata": {},
   "outputs": [],
   "source": [
    "Yara = season_six.loc['Yara']\n",
    "#print Yara"
   ]
  },
  {
   "cell_type": "code",
   "execution_count": 384,
   "metadata": {},
   "outputs": [],
   "source": [
    "Yara_Text = Yara.values.tolist()\n",
    "#Yara_Text"
   ]
  },
  {
   "cell_type": "code",
   "execution_count": 385,
   "metadata": {
    "scrolled": true
   },
   "outputs": [],
   "source": [
    "Yara_Words = []\n",
    "\n",
    "for word in Yara_Text:\n",
    "    if len(word)>=1:\n",
    "        if word != '0':\n",
    "            Yara_Words.append(word)\n",
    "        \n",
    "#Yara_Words "
   ]
  },
  {
   "cell_type": "code",
   "execution_count": 386,
   "metadata": {},
   "outputs": [],
   "source": [
    "Yara_Words_String = ' '.join(Yara_Words)\n",
    "#Yara_Words_String"
   ]
  },
  {
   "cell_type": "code",
   "execution_count": 387,
   "metadata": {},
   "outputs": [
    {
     "data": {
      "text/plain": [
       "822"
      ]
     },
     "execution_count": 387,
     "metadata": {},
     "output_type": "execute_result"
    }
   ],
   "source": [
    "Yara_String_Length = len(Yara_Words_String)\n",
    "Yara_String_Length"
   ]
  },
  {
   "cell_type": "code",
   "execution_count": 388,
   "metadata": {},
   "outputs": [
    {
     "data": {
      "text/plain": [
       "Sentiment(polarity=0.04678571428571429, subjectivity=0.5526190476190476)"
      ]
     },
     "execution_count": 388,
     "metadata": {},
     "output_type": "execute_result"
    }
   ],
   "source": [
    "Yara_Sentiment = TextBlob(Yara_Words_String).sentiment\n",
    "Yara_Sentiment"
   ]
  },
  {
   "cell_type": "code",
   "execution_count": null,
   "metadata": {
    "collapsed": true
   },
   "outputs": [],
   "source": []
  }
 ],
 "metadata": {
  "kernelspec": {
   "display_name": "Python 2",
   "language": "python",
   "name": "python2"
  },
  "language_info": {
   "codemirror_mode": {
    "name": "ipython",
    "version": 2
   },
   "file_extension": ".py",
   "mimetype": "text/x-python",
   "name": "python",
   "nbconvert_exporter": "python",
   "pygments_lexer": "ipython2",
   "version": "2.7.13"
  }
 },
 "nbformat": 4,
 "nbformat_minor": 2
}
