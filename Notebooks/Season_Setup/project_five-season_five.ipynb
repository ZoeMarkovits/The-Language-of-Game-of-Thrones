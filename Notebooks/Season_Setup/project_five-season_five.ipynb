{
 "cells": [
  {
   "cell_type": "markdown",
   "metadata": {},
   "source": [
    "# Project Five \n",
    "# Game of Thrones - Season Five"
   ]
  },
  {
   "cell_type": "markdown",
   "metadata": {},
   "source": [
    "## Importing and Cleaning"
   ]
  },
  {
   "cell_type": "code",
   "execution_count": 1,
   "metadata": {},
   "outputs": [
    {
     "name": "stderr",
     "output_type": "stream",
     "text": [
      "Using Theano backend.\n"
     ]
    }
   ],
   "source": [
    "import numpy as np\n",
    "import pandas as pd\n",
    "import nltk\n",
    "from nltk.tag import pos_tag\n",
    "from nltk.tokenize import word_tokenize\n",
    "from nltk.tokenize import sent_tokenize\n",
    "from textblob import TextBlob\n",
    "from nltk.corpus import stopwords\n",
    "from sklearn.feature_extraction.text import TfidfVectorizer, CountVectorizer\n",
    "from sklearn.decomposition import NMF, LatentDirichletAllocation\n",
    "import gensim\n",
    "from nltk.tag import pos_tag\n",
    "import re"
   ]
  },
  {
   "cell_type": "code",
   "execution_count": 2,
   "metadata": {
    "collapsed": true
   },
   "outputs": [],
   "source": [
    "pd.set_option('display.max_columns', 125)\n",
    "pd.set_option('display.max_rows', 125)"
   ]
  },
  {
   "cell_type": "code",
   "execution_count": 3,
   "metadata": {
    "collapsed": true
   },
   "outputs": [],
   "source": [
    "df_s5 = pd.read_json('/Users/zoemarkovits/Metis/project_five_got/scrape/season_five.json')"
   ]
  },
  {
   "cell_type": "code",
   "execution_count": 4,
   "metadata": {
    "scrolled": false
   },
   "outputs": [
    {
     "data": {
      "text/html": [
       "<div>\n",
       "<table border=\"1\" class=\"dataframe\">\n",
       "  <thead>\n",
       "    <tr style=\"text-align: right;\">\n",
       "      <th></th>\n",
       "      <th>title</th>\n",
       "      <th>script_text</th>\n",
       "    </tr>\n",
       "  </thead>\n",
       "  <tbody>\n",
       "    <tr>\n",
       "      <th>0</th>\n",
       "      <td>[The Wars to Come Script]</td>\n",
       "      <td>[\\n, \\n, EXT. WOODS, \\n, \\n, \\n, \\nMELARA: We ...</td>\n",
       "    </tr>\n",
       "    <tr>\n",
       "      <th>1</th>\n",
       "      <td>[The House of Black and White]</td>\n",
       "      <td>[\\n, \\nBRAAVOSI MAN: In the old times, wheneve...</td>\n",
       "    </tr>\n",
       "    <tr>\n",
       "      <th>2</th>\n",
       "      <td>[High Sparrow Script]</td>\n",
       "      <td>[TITLE SEQUENCE, \\n, \\n, CUT TO: BRAAVOS, \\n, ...</td>\n",
       "    </tr>\n",
       "    <tr>\n",
       "      <th>3</th>\n",
       "      <td>[Sons of the Harpy Script]</td>\n",
       "      <td>[TITLE SEQUENCE, \\n, \\n, EXT. BEACH, \\n, \\n, \\...</td>\n",
       "    </tr>\n",
       "    <tr>\n",
       "      <th>4</th>\n",
       "      <td>[Kill the Boy Script]</td>\n",
       "      <td>[TITLE SEQUENCE, \\n, \\n, INT. ROOM, \\n, \\n, \\n...</td>\n",
       "    </tr>\n",
       "    <tr>\n",
       "      <th>5</th>\n",
       "      <td>[Unbowed, Unbent, Unbroken Script]</td>\n",
       "      <td>[INT. HOUSE OF BLACK AND WHITE - CHAMBER, \\n, ...</td>\n",
       "    </tr>\n",
       "    <tr>\n",
       "      <th>6</th>\n",
       "      <td>[The Gift Script]</td>\n",
       "      <td>[EXT. CASTLE BLACK, \\n, \\n, \\n, \\nJON: First R...</td>\n",
       "    </tr>\n",
       "    <tr>\n",
       "      <th>7</th>\n",
       "      <td>[Hardhome Script]</td>\n",
       "      <td>[INT. MEEREEN - PYRAMID, \\n, \\nJORAH: Your Gra...</td>\n",
       "    </tr>\n",
       "    <tr>\n",
       "      <th>8</th>\n",
       "      <td>[The Dance of Dragons (Script)]</td>\n",
       "      <td>[EXT. STANNIS’ CAMP - NIGHT, \\n, \\n, \\n, \\n, I...</td>\n",
       "    </tr>\n",
       "    <tr>\n",
       "      <th>9</th>\n",
       "      <td>[Mother's Mercy Script]</td>\n",
       "      <td>[INT. STANNIS’S CAMP - MELISANDRE’S TENT, \\n, ...</td>\n",
       "    </tr>\n",
       "  </tbody>\n",
       "</table>\n",
       "</div>"
      ],
      "text/plain": [
       "                                title  \\\n",
       "0           [The Wars to Come Script]   \n",
       "1      [The House of Black and White]   \n",
       "2               [High Sparrow Script]   \n",
       "3          [Sons of the Harpy Script]   \n",
       "4               [Kill the Boy Script]   \n",
       "5  [Unbowed, Unbent, Unbroken Script]   \n",
       "6                   [The Gift Script]   \n",
       "7                   [Hardhome Script]   \n",
       "8     [The Dance of Dragons (Script)]   \n",
       "9             [Mother's Mercy Script]   \n",
       "\n",
       "                                         script_text  \n",
       "0  [\\n, \\n, EXT. WOODS, \\n, \\n, \\n, \\nMELARA: We ...  \n",
       "1  [\\n, \\nBRAAVOSI MAN: In the old times, wheneve...  \n",
       "2  [TITLE SEQUENCE, \\n, \\n, CUT TO: BRAAVOS, \\n, ...  \n",
       "3  [TITLE SEQUENCE, \\n, \\n, EXT. BEACH, \\n, \\n, \\...  \n",
       "4  [TITLE SEQUENCE, \\n, \\n, INT. ROOM, \\n, \\n, \\n...  \n",
       "5  [INT. HOUSE OF BLACK AND WHITE - CHAMBER, \\n, ...  \n",
       "6  [EXT. CASTLE BLACK, \\n, \\n, \\n, \\nJON: First R...  \n",
       "7  [INT. MEEREEN - PYRAMID, \\n, \\nJORAH: Your Gra...  \n",
       "8  [EXT. STANNIS’ CAMP - NIGHT, \\n, \\n, \\n, \\n, I...  \n",
       "9  [INT. STANNIS’S CAMP - MELISANDRE’S TENT, \\n, ...  "
      ]
     },
     "execution_count": 4,
     "metadata": {},
     "output_type": "execute_result"
    }
   ],
   "source": [
    "df_s5[['title','script_text']]"
   ]
  },
  {
   "cell_type": "code",
   "execution_count": 5,
   "metadata": {
    "collapsed": true
   },
   "outputs": [],
   "source": [
    "df_s5['title'] = df_s5['title'].map(lambda x: str(x)[3:-2])"
   ]
  },
  {
   "cell_type": "code",
   "execution_count": 6,
   "metadata": {
    "scrolled": true
   },
   "outputs": [
    {
     "data": {
      "text/plain": [
       "0             The Wars to Come Script\n",
       "1        The House of Black and White\n",
       "2                 High Sparrow Script\n",
       "3            Sons of the Harpy Script\n",
       "4                 Kill the Boy Script\n",
       "5    Unbowed, Unbent, Unbroken Script\n",
       "6                     The Gift Script\n",
       "7                     Hardhome Script\n",
       "8       The Dance of Dragons (Script)\n",
       "9               Mother's Mercy Script\n",
       "Name: title, dtype: object"
      ]
     },
     "execution_count": 6,
     "metadata": {},
     "output_type": "execute_result"
    }
   ],
   "source": [
    "df_s5.title"
   ]
  },
  {
   "cell_type": "code",
   "execution_count": 7,
   "metadata": {
    "collapsed": true
   },
   "outputs": [],
   "source": [
    "names5_01 = ['MELARA','CERSEI','MAGGY','PRIEST','JAIME','VARYS','TYRION','PROSTITUTE','WHITE RAT','DAENERYS',\n",
    "             'BARRISTAN','MOSSADOR','GREY WORM','MISSANDEI','JON','OLLY','GILLY','SAM','ALLISER','MELISANDRE',\n",
    "             'STANNIS','DAVOS','MASTER OF ARMS','YOHN ROYCE','BAELISH','ROYCE','SQUIRE','SANSA','PODRICK','BRIENNE',\n",
    "             'LORAS','GRAND MAESTER PYRCELLE','LANCEL LANNISTER','LANCEL','KEVAN LANNISTER','KEVAN','OLYVAR',\n",
    "             'MARGAERY','DAARIO NAHARIS','HIZDAHR ZO LORAQ','HIZDAHR','DAARIO','MANCE']\n",
    "\n",
    "names5_02 = ['BRAAVOSI MAN','ARYA','MAN','OLD MAN','PODRICK','WAITRESS','SANSA','BAELISH','BRIENNE','GUARD','KNIGHT 1',\n",
    "             'KNIGHT','JAIME','CERSEI','LOLLYS STOKEWORTH','BRONN','LOLLYS','TRYSTANE (O.S.)','AREO','ELLARIA',\n",
    "             'DORAN','DAARIO (O.S.)','DAARIO','GREY WORM','MOSSADOR','DAENERYS','BARRISTAN','HIZDAHR','MOSSADOR',\n",
    "             'TYRION','VARYS','MERYN','HUNTERS','QYBURN','KEVAN','MACE TYRELL','PYCELLE','MACE','SHIREEN','GILLY',\n",
    "             'SAM','SELYSE (to Sam and Gilly):','SAM','SELYSE','STANNIS','JON','DAVOS','ALLISER','AEMON','JANOS',\n",
    "             'MEN','SHADOW TOWER BROTHER','BROTHER','BROTHERS','JAQEN','HARPY (Valyrian)']\n",
    "\n",
    "names5_03 = ['MAN','JAQEN','ARYA','MARGAERY & TOMMEN','TOMMEN','MARGAERY','CERSEI','ROOSE','RAMSAY','SANSA','BAELISH',\n",
    "             'PODRICK','BRIENNE','STANNIS','JON','DAVOS','OLLY','WAIF','ROOSE','RAMSAY','WOMAN','SAM','JANOS',\n",
    "             'OLYVAR','HIGH SEPTON','LANCEL','CROWD','MAN 1','MAN 2','QYBURN','MACE','PYCELLE','MERYN','MAN 3',\n",
    "             'WOMAN','WOMAN 2','TYRION','VARYS','PRIESTESS','JORAH']\n",
    "\n",
    "names5_04 = ['JAIME','CAPTAIN','BRONN','CERSEI','MACE','PYCELLE','HIGH SPARROW','MERCHANT','OLYVAR','MILITANT',\n",
    "             'LORAS','LANCEL','TOMMEN','MARGAERY','KINGSGUARD','MAN 1','MAN 2','MAN 3','WOMAN','MAN 4','SELYSE','JON',\n",
    "             'STANNIS','MELISANDRE','SAM','SHIREEN','SANSA','BAELISH','RIDER','TYENE','ELARIA','OBARA','NYMERIA',\n",
    "             'TYRION','JORAH','DAENERYS','BARRISTAN','DARIO','HIZDAHR','MISSANDEI','WOMAN']\n",
    "\n",
    "names5_05 = ['HIZDAHR','DAENERYS','DAARIO','MAN','SAM','AEMON','JON','TORMUND','STANNIS','DAVOS','ALLISTER','EDD',\n",
    "             'OLLY','PODRICK','BRIENNE','RAMSAY','MYRANDA','WOMAN','SANSA','THEON','ROOSE','WALDA','GILLY','SHIREEN',\n",
    "             'MISSANDEI','GREY WORM','TYRION','JORAH']\n",
    "\n",
    "names5_06 = ['ARYA','WAIF','JAQEN','TYRION','JORAH','MAN','GIRL','MALKO','SLAVER','LANCEL','BAELISH','CERSEI',\n",
    "             'TRYSTANE','MYRCELLA','DORAN,','AREO','JAIME','BRONN','ELLARIA','SAND SNAKES','OBARA','RIDER','OLENNA',\n",
    "             'MARGAERY','HIGH SPARROW','LORAS','SPARROW','OLYVAR','MYRANDA','SANSA','THEON','ROOSE','RAMSAY']\n",
    "\n",
    "names5_07 = ['JON','ALLISER','SAM','AEMON','SANSA','THEON','RAMSAY','AEMON','GILLY','BROTHERS','DAVOS','STANNIS',\n",
    "             'MELISANDRE','DERRYK','BRAND','MALKO','SLAVE BUYER','TYRION','BUYER','DAARIO','DAENERYS','OLENNA',\n",
    "             'HIGH SPARROW','SPARROW','SQUIRE','CERSEI','TOMMEN','AREO','MYRCELLA','JAIME','BRONN','TYENE','OBARA',\n",
    "             'BAELISH','OLENNA','SLAVE OWNER','OWNER','MEN','HIZDAHR','JORAH','MARGAERY','HIGH SPARROW','SPARROW']\n",
    "\n",
    "names5_08 = ['JORAH','DAENERYS','TYRION','SEPTA','CERSEI','ARYA','JAQEN','THIN MAN','MAN','WAIF','QYBURN','SANSA',\n",
    "             'THEON','BOLTON BANNERMAN','ROOSE','RAMSAY','MASTER','GILLY','SAM','OLLY','TORMUND','JON',\n",
    "             'LORD OF BONES','KARSI','LOBODA','WILDLING ELDER','GIANT','DAUGHTER','WUN WUN','NIGHT’S WATCH BROTHER',\n",
    "             'BROTHER','EDD']\n",
    "\n",
    "names5_09 = ['DAVOS','STANNIS','ALLISER','SAM','JON','SHIREEN','JAIME','DORAN','MYRCELLA','TRYSTANE','ELLARIA',\n",
    "             'TYENE','NYMERIA','BRONN','AREO','ARYA','MAN','THIN MAN','BANKER','MACE','MERYN','BROTHEL KEEPER',\n",
    "             'PROSTITUTE','JOHN','HEAD PROSTITUTE','HEAD','JAQEN','MELISANDRE','SELYSE','DAENERYS','HIZDAHR',\n",
    "             'ANNOUNCER','QUICK','STRONG','DAARIO','TYRION','JORAH']\n",
    "\n",
    "names5_10 = ['MELISANDRE','STANNIS','SOLDIER','SOLDIER 2','JON','SAM','PODRICK','BRIENNE','RAMSAY','SURVIVOR',\n",
    "             'MYRANDA','THEON','SANSA','MAN','MERYN','ARYA','JAQEN','WAIF','DORAN','JAIME','ELLARIA','BRONN','TYENE',\n",
    "             'MYRCELLA','TYRION','JORAH','DAARIO','GREY WORM','MISSANDEI','VARYS','DAENERYS','SEPTA','CERSEI',\n",
    "             'HIGH SPARROW','SPARROW','CROWD','WOMAN','MAN','QYBURN','DAVOS','OLLY','ALLISER','BROTHER']"
   ]
  },
  {
   "cell_type": "markdown",
   "metadata": {},
   "source": [
    "### Episode One"
   ]
  },
  {
   "cell_type": "code",
   "execution_count": 8,
   "metadata": {
    "scrolled": true
   },
   "outputs": [],
   "source": [
    "#df_s5.script_text[0]"
   ]
  },
  {
   "cell_type": "code",
   "execution_count": 9,
   "metadata": {},
   "outputs": [
    {
     "name": "stdout",
     "output_type": "stream",
     "text": [
      "<type 'list'>\n"
     ]
    }
   ],
   "source": [
    "script_text5_01 = df_s5.script_text[0]\n",
    "print type(script_text5_01)\n",
    "\n",
    "#script_text5_01"
   ]
  },
  {
   "cell_type": "code",
   "execution_count": 10,
   "metadata": {
    "scrolled": true
   },
   "outputs": [],
   "source": [
    "script_split = [i.split('\\n') for i in script_text5_01]\n",
    "#script_split"
   ]
  },
  {
   "cell_type": "code",
   "execution_count": 11,
   "metadata": {
    "collapsed": true
   },
   "outputs": [],
   "source": [
    "string_script_text = ' '\n",
    "\n",
    "for i in script_split:\n",
    "    for e in i:\n",
    "        string_script_text = string_script_text + ' ' + e"
   ]
  },
  {
   "cell_type": "code",
   "execution_count": 12,
   "metadata": {},
   "outputs": [],
   "source": [
    "#string_script_text"
   ]
  },
  {
   "cell_type": "code",
   "execution_count": 13,
   "metadata": {},
   "outputs": [],
   "source": [
    "words = word_tokenize(string_script_text)\n",
    "#words"
   ]
  },
  {
   "cell_type": "code",
   "execution_count": 14,
   "metadata": {
    "scrolled": true
   },
   "outputs": [],
   "source": [
    "sentences = sent_tokenize(string_script_text)\n",
    "#sentences"
   ]
  },
  {
   "cell_type": "code",
   "execution_count": 15,
   "metadata": {
    "collapsed": true
   },
   "outputs": [],
   "source": [
    "dialogue = []\n",
    "\n",
    "for sentence in sentences:\n",
    "    if sentence.split(':')[0] in (names5_01):\n",
    "        dialogue.append(sentence)"
   ]
  },
  {
   "cell_type": "code",
   "execution_count": 16,
   "metadata": {
    "scrolled": true
   },
   "outputs": [],
   "source": [
    "#dialogue"
   ]
  },
  {
   "cell_type": "code",
   "execution_count": 17,
   "metadata": {
    "collapsed": true
   },
   "outputs": [],
   "source": [
    "import pickle\n",
    "with open('/Users/zoemarkovits/Metis/project_five_got/Dialogue_PKLs/s501.pkl', 'wb') as f:\n",
    "    pickle.dump(dialogue, f)"
   ]
  },
  {
   "cell_type": "code",
   "execution_count": 18,
   "metadata": {
    "scrolled": true
   },
   "outputs": [],
   "source": [
    "from collections import defaultdict\n",
    "\n",
    "speakers = defaultdict(list)\n",
    "for sentence in dialogue:\n",
    "    speakers[sentence.split(':')[0]].append(sentence.split(':')[1])\n",
    "\n",
    "#speakers"
   ]
  },
  {
   "cell_type": "code",
   "execution_count": 19,
   "metadata": {},
   "outputs": [
    {
     "data": {
      "text/plain": [
       "[u' Why not?',\n",
       " u' You don\\u2019t need to be afraid of my father.',\n",
       " u' Yes.',\n",
       " u' Of course we should.',\n",
       " u' They said that you were terrifying.',\n",
       " u' I know you\\u2019re a witch and you can see the future.',\n",
       " u'   Tell me my future or I\\u2019ll have your two boring eyes gouged out of your head.',\n",
       " u' But I will be queen?',\n",
       " u' They will keep waiting.',\n",
       " u' They?',\n",
       " u' They had nothing to do with it.',\n",
       " u' ...and now our father is dead.',\n",
       " u' Tyrion may be a monster but at least he killed our father on purpose.',\n",
       " u' Cousin Lancel.',\n",
       " u' Uncle, it\\u2019s quite alright.',\n",
       " u' I\\u2019m sure he\\u2019ll grow out of it.',\n",
       " u' Your wounds from the Blackwater seem to have healed.',\n",
       " u' What can I do for you?',\n",
       " u' What could you possibly have done to warrant my forgiveness?',\n",
       " u' I doubt you\\u2019ve ever led anyone anywhere.',\n",
       " u' I don\\u2019t know what you\\u2019re talking about.',\n",
       " u' The day Tywin Lannister\\u2019s soul needs your help\\u2026         CUT TO']"
      ]
     },
     "execution_count": 19,
     "metadata": {},
     "output_type": "execute_result"
    }
   ],
   "source": [
    "speakers['CERSEI']"
   ]
  },
  {
   "cell_type": "code",
   "execution_count": 20,
   "metadata": {
    "scrolled": true
   },
   "outputs": [
    {
     "name": "stdout",
     "output_type": "stream",
     "text": [
      "(39, 22)\n"
     ]
    }
   ],
   "source": [
    "episode_one = pd.DataFrame.from_dict(speakers, orient=\"index\")\n",
    "print episode_one.shape"
   ]
  },
  {
   "cell_type": "code",
   "execution_count": 21,
   "metadata": {
    "collapsed": true
   },
   "outputs": [],
   "source": [
    "#from numpy import nan\n",
    "#episode_one.fillna(value=str(0), inplace=True)"
   ]
  },
  {
   "cell_type": "code",
   "execution_count": 22,
   "metadata": {
    "scrolled": true
   },
   "outputs": [],
   "source": [
    "#episode_one.info()"
   ]
  },
  {
   "cell_type": "code",
   "execution_count": 23,
   "metadata": {},
   "outputs": [],
   "source": [
    "#episode_one.head()"
   ]
  },
  {
   "cell_type": "code",
   "execution_count": 24,
   "metadata": {
    "collapsed": true
   },
   "outputs": [],
   "source": [
    "def remove_stops(sentence):\n",
    "    characters = ['?','!','.',',',':',';']\n",
    "    stoplist = stopwords.words('english') + characters\n",
    "    try: \n",
    "        new_sentence = re.sub(r'[^a-zA-Z ]','', sentence)\n",
    "        new_sentence = new_sentence.lower()\n",
    "        new_sentence = new_sentence.split()\n",
    "        new_sentence = [word for word in new_sentence if word not in stoplist]\n",
    "        new_sentence = ' '.join(new_sentence)\n",
    "        return new_sentence\n",
    "    except:\n",
    "        return sentence   "
   ]
  },
  {
   "cell_type": "code",
   "execution_count": 25,
   "metadata": {
    "scrolled": true
   },
   "outputs": [],
   "source": [
    "test = episode_one[0].apply(remove_stops)\n",
    "#test"
   ]
  },
  {
   "cell_type": "code",
   "execution_count": 26,
   "metadata": {
    "collapsed": true,
    "scrolled": false
   },
   "outputs": [],
   "source": [
    "for column in episode_one.columns:\n",
    "    for x in range(len(episode_one[column])):\n",
    "        episode_one[column][x] = remove_stops(episode_one[column][x])"
   ]
  },
  {
   "cell_type": "code",
   "execution_count": 27,
   "metadata": {
    "scrolled": true
   },
   "outputs": [],
   "source": [
    "#episode_one.info()"
   ]
  },
  {
   "cell_type": "code",
   "execution_count": 28,
   "metadata": {},
   "outputs": [
    {
     "data": {
      "text/plain": [
       "(39, 22)"
      ]
     },
     "execution_count": 28,
     "metadata": {},
     "output_type": "execute_result"
    }
   ],
   "source": [
    "episode_one.index = episode_one.index.str.title()\n",
    "\n",
    "episode_one.shape"
   ]
  },
  {
   "cell_type": "code",
   "execution_count": 29,
   "metadata": {
    "scrolled": false
   },
   "outputs": [
    {
     "data": {
      "text/html": [
       "<div>\n",
       "<table border=\"1\" class=\"dataframe\">\n",
       "  <thead>\n",
       "    <tr style=\"text-align: right;\">\n",
       "      <th></th>\n",
       "      <th>0</th>\n",
       "      <th>1</th>\n",
       "      <th>2</th>\n",
       "      <th>3</th>\n",
       "      <th>4</th>\n",
       "      <th>5</th>\n",
       "      <th>6</th>\n",
       "      <th>7</th>\n",
       "      <th>8</th>\n",
       "      <th>9</th>\n",
       "      <th>10</th>\n",
       "      <th>11</th>\n",
       "      <th>12</th>\n",
       "      <th>13</th>\n",
       "      <th>14</th>\n",
       "      <th>15</th>\n",
       "      <th>16</th>\n",
       "      <th>17</th>\n",
       "      <th>18</th>\n",
       "      <th>19</th>\n",
       "      <th>20</th>\n",
       "      <th>21</th>\n",
       "    </tr>\n",
       "  </thead>\n",
       "  <tbody>\n",
       "    <tr>\n",
       "      <th>Stannis</th>\n",
       "      <td>know rules winterfell</td>\n",
       "      <td>traitor plunged dagger robb starks heart</td>\n",
       "      <td>matter</td>\n",
       "      <td>swear follow ill pardon</td>\n",
       "      <td>ill offer lives freedom mance kneels swears lo...</td>\n",
       "      <td>admire dont</td>\n",
       "      <td>likes</td>\n",
       "      <td>nightfall</td>\n",
       "      <td>kneel live</td>\n",
       "      <td>None</td>\n",
       "      <td>None</td>\n",
       "      <td>None</td>\n",
       "      <td>None</td>\n",
       "      <td>None</td>\n",
       "      <td>None</td>\n",
       "      <td>None</td>\n",
       "      <td>None</td>\n",
       "      <td>None</td>\n",
       "      <td>None</td>\n",
       "      <td>None</td>\n",
       "      <td>None</td>\n",
       "      <td>None</td>\n",
       "    </tr>\n",
       "    <tr>\n",
       "      <th>Davos</th>\n",
       "      <td>ive talking sworn brothers</td>\n",
       "      <td>many dont</td>\n",
       "      <td>nights watch feel much affection wildlings</td>\n",
       "      <td>fair offer</td>\n",
       "      <td>None</td>\n",
       "      <td>None</td>\n",
       "      <td>None</td>\n",
       "      <td>None</td>\n",
       "      <td>None</td>\n",
       "      <td>None</td>\n",
       "      <td>None</td>\n",
       "      <td>None</td>\n",
       "      <td>None</td>\n",
       "      <td>None</td>\n",
       "      <td>None</td>\n",
       "      <td>None</td>\n",
       "      <td>None</td>\n",
       "      <td>None</td>\n",
       "      <td>None</td>\n",
       "      <td>None</td>\n",
       "      <td>None</td>\n",
       "      <td>None</td>\n",
       "    </tr>\n",
       "    <tr>\n",
       "      <th>Kevan</th>\n",
       "      <td>call sparrows</td>\n",
       "      <td>course</td>\n",
       "      <td>None</td>\n",
       "      <td>None</td>\n",
       "      <td>None</td>\n",
       "      <td>None</td>\n",
       "      <td>None</td>\n",
       "      <td>None</td>\n",
       "      <td>None</td>\n",
       "      <td>None</td>\n",
       "      <td>None</td>\n",
       "      <td>None</td>\n",
       "      <td>None</td>\n",
       "      <td>None</td>\n",
       "      <td>None</td>\n",
       "      <td>None</td>\n",
       "      <td>None</td>\n",
       "      <td>None</td>\n",
       "      <td>None</td>\n",
       "      <td>None</td>\n",
       "      <td>None</td>\n",
       "      <td>None</td>\n",
       "    </tr>\n",
       "    <tr>\n",
       "      <th>Melisandre</th>\n",
       "      <td>king wants word</td>\n",
       "      <td>never</td>\n",
       "      <td>feel</td>\n",
       "      <td>man woman young old lord peasant choices</td>\n",
       "      <td>free folk one true king name stannis</td>\n",
       "      <td>None</td>\n",
       "      <td>None</td>\n",
       "      <td>None</td>\n",
       "      <td>None</td>\n",
       "      <td>None</td>\n",
       "      <td>None</td>\n",
       "      <td>None</td>\n",
       "      <td>None</td>\n",
       "      <td>None</td>\n",
       "      <td>None</td>\n",
       "      <td>None</td>\n",
       "      <td>None</td>\n",
       "      <td>None</td>\n",
       "      <td>None</td>\n",
       "      <td>None</td>\n",
       "      <td>None</td>\n",
       "      <td>None</td>\n",
       "    </tr>\n",
       "    <tr>\n",
       "      <th>Olly</th>\n",
       "      <td>heavy</td>\n",
       "      <td>None</td>\n",
       "      <td>None</td>\n",
       "      <td>None</td>\n",
       "      <td>None</td>\n",
       "      <td>None</td>\n",
       "      <td>None</td>\n",
       "      <td>None</td>\n",
       "      <td>None</td>\n",
       "      <td>None</td>\n",
       "      <td>None</td>\n",
       "      <td>None</td>\n",
       "      <td>None</td>\n",
       "      <td>None</td>\n",
       "      <td>None</td>\n",
       "      <td>None</td>\n",
       "      <td>None</td>\n",
       "      <td>None</td>\n",
       "      <td>None</td>\n",
       "      <td>None</td>\n",
       "      <td>None</td>\n",
       "      <td>None</td>\n",
       "    </tr>\n",
       "  </tbody>\n",
       "</table>\n",
       "</div>"
      ],
      "text/plain": [
       "                                    0   \\\n",
       "Stannis          know rules winterfell   \n",
       "Davos       ive talking sworn brothers   \n",
       "Kevan                    call sparrows   \n",
       "Melisandre             king wants word   \n",
       "Olly                             heavy   \n",
       "\n",
       "                                                  1   \\\n",
       "Stannis     traitor plunged dagger robb starks heart   \n",
       "Davos                                      many dont   \n",
       "Kevan                                         course   \n",
       "Melisandre                                     never   \n",
       "Olly                                            None   \n",
       "\n",
       "                                                    2   \\\n",
       "Stannis                                         matter   \n",
       "Davos       nights watch feel much affection wildlings   \n",
       "Kevan                                             None   \n",
       "Melisandre                                        feel   \n",
       "Olly                                              None   \n",
       "\n",
       "                                                  3   \\\n",
       "Stannis                      swear follow ill pardon   \n",
       "Davos                                     fair offer   \n",
       "Kevan                                           None   \n",
       "Melisandre  man woman young old lord peasant choices   \n",
       "Olly                                            None   \n",
       "\n",
       "                                                           4            5   \\\n",
       "Stannis     ill offer lives freedom mance kneels swears lo...  admire dont   \n",
       "Davos                                                    None         None   \n",
       "Kevan                                                    None         None   \n",
       "Melisandre               free folk one true king name stannis         None   \n",
       "Olly                                                     None         None   \n",
       "\n",
       "               6          7           8     9     10    11    12    13    14  \\\n",
       "Stannis     likes  nightfall  kneel live  None  None  None  None  None  None   \n",
       "Davos        None       None        None  None  None  None  None  None  None   \n",
       "Kevan        None       None        None  None  None  None  None  None  None   \n",
       "Melisandre   None       None        None  None  None  None  None  None  None   \n",
       "Olly         None       None        None  None  None  None  None  None  None   \n",
       "\n",
       "              15    16    17    18    19    20    21  \n",
       "Stannis     None  None  None  None  None  None  None  \n",
       "Davos       None  None  None  None  None  None  None  \n",
       "Kevan       None  None  None  None  None  None  None  \n",
       "Melisandre  None  None  None  None  None  None  None  \n",
       "Olly        None  None  None  None  None  None  None  "
      ]
     },
     "execution_count": 29,
     "metadata": {},
     "output_type": "execute_result"
    }
   ],
   "source": [
    "episode_one.head()"
   ]
  },
  {
   "cell_type": "markdown",
   "metadata": {},
   "source": [
    "### Episode Two"
   ]
  },
  {
   "cell_type": "code",
   "execution_count": 30,
   "metadata": {
    "scrolled": true
   },
   "outputs": [],
   "source": [
    "#df_s5.script_text[1]"
   ]
  },
  {
   "cell_type": "code",
   "execution_count": 31,
   "metadata": {},
   "outputs": [
    {
     "name": "stdout",
     "output_type": "stream",
     "text": [
      "<type 'list'>\n"
     ]
    }
   ],
   "source": [
    "script_text5_02 = df_s5.script_text[1]\n",
    "print type(script_text5_02)\n",
    "\n",
    "#script_text5_02"
   ]
  },
  {
   "cell_type": "code",
   "execution_count": 32,
   "metadata": {
    "scrolled": true
   },
   "outputs": [],
   "source": [
    "script_split2 = [i.split('\\n') for i in script_text5_02]\n",
    "#script_split2"
   ]
  },
  {
   "cell_type": "code",
   "execution_count": 33,
   "metadata": {
    "collapsed": true
   },
   "outputs": [],
   "source": [
    "string_script_text2 = ' '\n",
    "\n",
    "for i in script_split2:\n",
    "    for e in i:\n",
    "        string_script_text2 = string_script_text2 + ' ' + e"
   ]
  },
  {
   "cell_type": "code",
   "execution_count": 34,
   "metadata": {},
   "outputs": [],
   "source": [
    "#string_script_text2"
   ]
  },
  {
   "cell_type": "code",
   "execution_count": 35,
   "metadata": {},
   "outputs": [],
   "source": [
    "words2 = word_tokenize(string_script_text2)\n",
    "#words2"
   ]
  },
  {
   "cell_type": "code",
   "execution_count": 36,
   "metadata": {},
   "outputs": [],
   "source": [
    "sentences2 = sent_tokenize(string_script_text2)\n",
    "#sentences2"
   ]
  },
  {
   "cell_type": "code",
   "execution_count": 37,
   "metadata": {
    "collapsed": true,
    "scrolled": false
   },
   "outputs": [],
   "source": [
    "dialogue2 = []\n",
    "\n",
    "for sentence in sentences2:\n",
    "    words=sentence.split(':')[0]\n",
    "    if len(words.split())<=2:\n",
    "        if words in (names5_02):\n",
    "            dialogue2.append(sentence)"
   ]
  },
  {
   "cell_type": "code",
   "execution_count": 38,
   "metadata": {
    "scrolled": true
   },
   "outputs": [],
   "source": [
    "#dialogue2"
   ]
  },
  {
   "cell_type": "code",
   "execution_count": 39,
   "metadata": {
    "collapsed": true
   },
   "outputs": [],
   "source": [
    "import pickle\n",
    "with open('/Users/zoemarkovits/Metis/project_five_got/Dialogue_PKLs/s502.pkl', 'wb') as f:\n",
    "    pickle.dump(dialogue2, f)"
   ]
  },
  {
   "cell_type": "code",
   "execution_count": 40,
   "metadata": {
    "scrolled": true
   },
   "outputs": [],
   "source": [
    "from collections import defaultdict\n",
    "\n",
    "speakers2 = defaultdict(list)\n",
    "for sentence in dialogue2:\n",
    "    speakers2[sentence.split(':')[0]].append(sentence.split(':')[1])\n",
    "\n",
    "#speakers2"
   ]
  },
  {
   "cell_type": "code",
   "execution_count": 41,
   "metadata": {
    "scrolled": true
   },
   "outputs": [
    {
     "data": {
      "text/plain": [
       "[u\" He's just a statue.\",\n",
       " u' Thank you for bringing me.',\n",
       " u' Valar dohaeris.',\n",
       " u' Hello.',\n",
       " u' Jaqen H\\u2019ghar gave me this.',\n",
       " u' Please.',\n",
       " u' But wait!',\n",
       " u\" You said there was no Jaqen H'ghar here.\",\n",
       " u' Well who are you then?']"
      ]
     },
     "execution_count": 41,
     "metadata": {},
     "output_type": "execute_result"
    }
   ],
   "source": [
    "speakers2['ARYA']"
   ]
  },
  {
   "cell_type": "code",
   "execution_count": 42,
   "metadata": {
    "scrolled": true
   },
   "outputs": [
    {
     "name": "stdout",
     "output_type": "stream",
     "text": [
      "(47, 23)\n"
     ]
    }
   ],
   "source": [
    "episode_two = pd.DataFrame.from_dict(speakers2, orient=\"index\")\n",
    "print episode_two.shape"
   ]
  },
  {
   "cell_type": "code",
   "execution_count": 43,
   "metadata": {
    "collapsed": true
   },
   "outputs": [],
   "source": [
    "#from numpy import nan\n",
    "#episode_two.fillna(value=str(0), inplace=True)"
   ]
  },
  {
   "cell_type": "code",
   "execution_count": 44,
   "metadata": {
    "scrolled": true
   },
   "outputs": [],
   "source": [
    "#episode_two.info()"
   ]
  },
  {
   "cell_type": "code",
   "execution_count": 45,
   "metadata": {},
   "outputs": [],
   "source": [
    "#episode_two.head()"
   ]
  },
  {
   "cell_type": "code",
   "execution_count": 46,
   "metadata": {
    "scrolled": true
   },
   "outputs": [],
   "source": [
    "test2 = episode_two[0].apply(remove_stops)\n",
    "#test2"
   ]
  },
  {
   "cell_type": "code",
   "execution_count": 47,
   "metadata": {
    "collapsed": true,
    "scrolled": false
   },
   "outputs": [],
   "source": [
    "for column in episode_two.columns:\n",
    "    for x in range(len(episode_two[column])):\n",
    "        episode_two[column][x] = remove_stops(episode_two[column][x])"
   ]
  },
  {
   "cell_type": "code",
   "execution_count": 48,
   "metadata": {
    "scrolled": true
   },
   "outputs": [],
   "source": [
    "#episode_two.info()"
   ]
  },
  {
   "cell_type": "code",
   "execution_count": 49,
   "metadata": {},
   "outputs": [
    {
     "data": {
      "text/plain": [
       "(47, 23)"
      ]
     },
     "execution_count": 49,
     "metadata": {},
     "output_type": "execute_result"
    }
   ],
   "source": [
    "episode_two.index = episode_two.index.str.title()\n",
    "\n",
    "episode_two.shape"
   ]
  },
  {
   "cell_type": "code",
   "execution_count": 50,
   "metadata": {
    "scrolled": true
   },
   "outputs": [
    {
     "data": {
      "text/html": [
       "<div>\n",
       "<table border=\"1\" class=\"dataframe\">\n",
       "  <thead>\n",
       "    <tr style=\"text-align: right;\">\n",
       "      <th></th>\n",
       "      <th>0</th>\n",
       "      <th>1</th>\n",
       "      <th>2</th>\n",
       "      <th>3</th>\n",
       "      <th>4</th>\n",
       "      <th>5</th>\n",
       "      <th>6</th>\n",
       "      <th>7</th>\n",
       "      <th>8</th>\n",
       "      <th>9</th>\n",
       "      <th>10</th>\n",
       "      <th>11</th>\n",
       "      <th>12</th>\n",
       "      <th>13</th>\n",
       "      <th>14</th>\n",
       "      <th>15</th>\n",
       "      <th>16</th>\n",
       "      <th>17</th>\n",
       "      <th>18</th>\n",
       "      <th>19</th>\n",
       "      <th>20</th>\n",
       "      <th>21</th>\n",
       "      <th>22</th>\n",
       "    </tr>\n",
       "  </thead>\n",
       "  <tbody>\n",
       "    <tr>\n",
       "      <th>Stannis</th>\n",
       "      <td></td>\n",
       "      <td>jon</td>\n",
       "      <td>lady bear island child</td>\n",
       "      <td>know</td>\n",
       "      <td>bravery made look weak</td>\n",
       "      <td>give north</td>\n",
       "      <td>kneel</td>\n",
       "      <td>None</td>\n",
       "      <td>None</td>\n",
       "      <td>None</td>\n",
       "      <td>None</td>\n",
       "      <td>None</td>\n",
       "      <td>None</td>\n",
       "      <td>None</td>\n",
       "      <td>None</td>\n",
       "      <td>None</td>\n",
       "      <td>None</td>\n",
       "      <td>None</td>\n",
       "      <td>None</td>\n",
       "      <td>None</td>\n",
       "      <td>None</td>\n",
       "      <td>None</td>\n",
       "      <td>None</td>\n",
       "    </tr>\n",
       "    <tr>\n",
       "      <th>Davos</th>\n",
       "      <td>tonight nights watch elect new lord commander</td>\n",
       "      <td>unpleasant man</td>\n",
       "      <td>None</td>\n",
       "      <td>None</td>\n",
       "      <td>None</td>\n",
       "      <td>None</td>\n",
       "      <td>None</td>\n",
       "      <td>None</td>\n",
       "      <td>None</td>\n",
       "      <td>None</td>\n",
       "      <td>None</td>\n",
       "      <td>None</td>\n",
       "      <td>None</td>\n",
       "      <td>None</td>\n",
       "      <td>None</td>\n",
       "      <td>None</td>\n",
       "      <td>None</td>\n",
       "      <td>None</td>\n",
       "      <td>None</td>\n",
       "      <td>None</td>\n",
       "      <td>None</td>\n",
       "      <td>None</td>\n",
       "      <td>None</td>\n",
       "    </tr>\n",
       "    <tr>\n",
       "      <th>Shireen</th>\n",
       "      <td>right good</td>\n",
       "      <td>youll learn promise</td>\n",
       "      <td>three</td>\n",
       "      <td>lot time practice</td>\n",
       "      <td>greyscale</td>\n",
       "      <td>dont remember</td>\n",
       "      <td>mother</td>\n",
       "      <td></td>\n",
       "      <td>names gilly</td>\n",
       "      <td>gilly wouldnt</td>\n",
       "      <td>None</td>\n",
       "      <td>None</td>\n",
       "      <td>None</td>\n",
       "      <td>None</td>\n",
       "      <td>None</td>\n",
       "      <td>None</td>\n",
       "      <td>None</td>\n",
       "      <td>None</td>\n",
       "      <td>None</td>\n",
       "      <td>None</td>\n",
       "      <td>None</td>\n",
       "      <td>None</td>\n",
       "      <td>None</td>\n",
       "    </tr>\n",
       "    <tr>\n",
       "      <th>Meryn</th>\n",
       "      <td>trying deceive queen</td>\n",
       "      <td>None</td>\n",
       "      <td>None</td>\n",
       "      <td>None</td>\n",
       "      <td>None</td>\n",
       "      <td>None</td>\n",
       "      <td>None</td>\n",
       "      <td>None</td>\n",
       "      <td>None</td>\n",
       "      <td>None</td>\n",
       "      <td>None</td>\n",
       "      <td>None</td>\n",
       "      <td>None</td>\n",
       "      <td>None</td>\n",
       "      <td>None</td>\n",
       "      <td>None</td>\n",
       "      <td>None</td>\n",
       "      <td>None</td>\n",
       "      <td>None</td>\n",
       "      <td>None</td>\n",
       "      <td>None</td>\n",
       "      <td>None</td>\n",
       "      <td>None</td>\n",
       "    </tr>\n",
       "    <tr>\n",
       "      <th>Pycelle</th>\n",
       "      <td>grace past several occasions grand maester ser...</td>\n",
       "      <td>grace</td>\n",
       "      <td>must say cannot see cersei cutting</td>\n",
       "      <td>None</td>\n",
       "      <td>None</td>\n",
       "      <td>None</td>\n",
       "      <td>None</td>\n",
       "      <td>None</td>\n",
       "      <td>None</td>\n",
       "      <td>None</td>\n",
       "      <td>None</td>\n",
       "      <td>None</td>\n",
       "      <td>None</td>\n",
       "      <td>None</td>\n",
       "      <td>None</td>\n",
       "      <td>None</td>\n",
       "      <td>None</td>\n",
       "      <td>None</td>\n",
       "      <td>None</td>\n",
       "      <td>None</td>\n",
       "      <td>None</td>\n",
       "      <td>None</td>\n",
       "      <td>None</td>\n",
       "    </tr>\n",
       "  </tbody>\n",
       "</table>\n",
       "</div>"
      ],
      "text/plain": [
       "                                                        0   \\\n",
       "Stannis                                                      \n",
       "Davos        tonight nights watch elect new lord commander   \n",
       "Shireen                                         right good   \n",
       "Meryn                                 trying deceive queen   \n",
       "Pycelle  grace past several occasions grand maester ser...   \n",
       "\n",
       "                          1                                   2   \\\n",
       "Stannis                  jon              lady bear island child   \n",
       "Davos         unpleasant man                                None   \n",
       "Shireen  youll learn promise                               three   \n",
       "Meryn                   None                                None   \n",
       "Pycelle                grace  must say cannot see cersei cutting   \n",
       "\n",
       "                        3                       4              5       6   \\\n",
       "Stannis               know  bravery made look weak     give north   kneel   \n",
       "Davos                 None                    None           None    None   \n",
       "Shireen  lot time practice               greyscale  dont remember  mother   \n",
       "Meryn                 None                    None           None    None   \n",
       "Pycelle               None                    None           None    None   \n",
       "\n",
       "           7            8              9     10    11    12    13    14    15  \\\n",
       "Stannis  None         None           None  None  None  None  None  None  None   \n",
       "Davos    None         None           None  None  None  None  None  None  None   \n",
       "Shireen        names gilly  gilly wouldnt  None  None  None  None  None  None   \n",
       "Meryn    None         None           None  None  None  None  None  None  None   \n",
       "Pycelle  None         None           None  None  None  None  None  None  None   \n",
       "\n",
       "           16    17    18    19    20    21    22  \n",
       "Stannis  None  None  None  None  None  None  None  \n",
       "Davos    None  None  None  None  None  None  None  \n",
       "Shireen  None  None  None  None  None  None  None  \n",
       "Meryn    None  None  None  None  None  None  None  \n",
       "Pycelle  None  None  None  None  None  None  None  "
      ]
     },
     "execution_count": 50,
     "metadata": {},
     "output_type": "execute_result"
    }
   ],
   "source": [
    "episode_two.head()"
   ]
  },
  {
   "cell_type": "markdown",
   "metadata": {},
   "source": [
    "### Episode Three"
   ]
  },
  {
   "cell_type": "code",
   "execution_count": 51,
   "metadata": {
    "scrolled": true
   },
   "outputs": [],
   "source": [
    "#df_s5.script_text[2]"
   ]
  },
  {
   "cell_type": "code",
   "execution_count": 52,
   "metadata": {},
   "outputs": [
    {
     "name": "stdout",
     "output_type": "stream",
     "text": [
      "<type 'list'>\n"
     ]
    }
   ],
   "source": [
    "script_text5_03 = df_s5.script_text[2]\n",
    "print type(script_text5_03)\n",
    "\n",
    "#script_text5_03"
   ]
  },
  {
   "cell_type": "code",
   "execution_count": 53,
   "metadata": {
    "scrolled": true
   },
   "outputs": [],
   "source": [
    "script_split3 = [i.split('\\n') for i in script_text5_03]\n",
    "#script_split3"
   ]
  },
  {
   "cell_type": "code",
   "execution_count": 54,
   "metadata": {
    "collapsed": true
   },
   "outputs": [],
   "source": [
    "string_script_text3 = ' '\n",
    "\n",
    "for i in script_split3:\n",
    "    for e in i:\n",
    "        string_script_text3 = string_script_text3 + ' ' + e"
   ]
  },
  {
   "cell_type": "code",
   "execution_count": 55,
   "metadata": {},
   "outputs": [],
   "source": [
    "#string_script_text3"
   ]
  },
  {
   "cell_type": "code",
   "execution_count": 56,
   "metadata": {},
   "outputs": [],
   "source": [
    "words3 = word_tokenize(string_script_text3)\n",
    "#words3"
   ]
  },
  {
   "cell_type": "code",
   "execution_count": 57,
   "metadata": {
    "scrolled": true
   },
   "outputs": [],
   "source": [
    "sentences3 = sent_tokenize(string_script_text3)\n",
    "#sentences3"
   ]
  },
  {
   "cell_type": "code",
   "execution_count": 58,
   "metadata": {
    "collapsed": true,
    "scrolled": false
   },
   "outputs": [],
   "source": [
    "dialogue3 = []\n",
    "\n",
    "for sentence in sentences3:\n",
    "    words=sentence.split(':')[0]\n",
    "    if len(words.split())<=2:\n",
    "        if words in (names5_03):\n",
    "            dialogue3.append(sentence)"
   ]
  },
  {
   "cell_type": "code",
   "execution_count": 59,
   "metadata": {
    "scrolled": true
   },
   "outputs": [],
   "source": [
    "#dialogue3"
   ]
  },
  {
   "cell_type": "code",
   "execution_count": 60,
   "metadata": {
    "collapsed": true
   },
   "outputs": [],
   "source": [
    "import pickle\n",
    "with open('/Users/zoemarkovits/Metis/project_five_got/Dialogue_PKLs/s503.pkl', 'wb') as f:\n",
    "    pickle.dump(dialogue3, f)"
   ]
  },
  {
   "cell_type": "code",
   "execution_count": 61,
   "metadata": {
    "scrolled": true
   },
   "outputs": [],
   "source": [
    "from collections import defaultdict\n",
    "\n",
    "speakers3 = defaultdict(list)\n",
    "for sentence in dialogue3:\n",
    "    speakers3[sentence.split(':')[0]].append(sentence.split(':')[1])\n",
    "\n",
    "#speakers3"
   ]
  },
  {
   "cell_type": "code",
   "execution_count": 62,
   "metadata": {
    "scrolled": false
   },
   "outputs": [
    {
     "data": {
      "text/plain": [
       "[u\" I've been sweeping this floor for days.\",\n",
       " u\" I didn't come here to sweep floors.\",\n",
       " u' You said that I could be your apprentice.',\n",
       " u' I want to serve.',\n",
       " u' Which one is the Many-Faced God?',\n",
       " u' Where are they taking him?',\n",
       " u' What?',\n",
       " u' (After a moment, perks up).',\n",
       " u' Ow!',\n",
       " u\" I told you, I'm no - (Gets hit again).\",\n",
       " u\" You're about to find out.\",\n",
       " u' (Stands up).']"
      ]
     },
     "execution_count": 62,
     "metadata": {},
     "output_type": "execute_result"
    }
   ],
   "source": [
    "speakers3['ARYA']"
   ]
  },
  {
   "cell_type": "code",
   "execution_count": 63,
   "metadata": {
    "scrolled": true
   },
   "outputs": [
    {
     "name": "stdout",
     "output_type": "stream",
     "text": [
      "(34, 24)\n"
     ]
    }
   ],
   "source": [
    "episode_three = pd.DataFrame.from_dict(speakers3, orient=\"index\")\n",
    "print episode_three.shape"
   ]
  },
  {
   "cell_type": "code",
   "execution_count": 64,
   "metadata": {
    "collapsed": true
   },
   "outputs": [],
   "source": [
    "#from numpy import nan\n",
    "#episode_three.fillna(value=str(0), inplace=True)"
   ]
  },
  {
   "cell_type": "code",
   "execution_count": 65,
   "metadata": {
    "scrolled": true
   },
   "outputs": [],
   "source": [
    "#episode_three.info()"
   ]
  },
  {
   "cell_type": "code",
   "execution_count": 66,
   "metadata": {},
   "outputs": [],
   "source": [
    "#episode_three.head()"
   ]
  },
  {
   "cell_type": "code",
   "execution_count": 67,
   "metadata": {
    "scrolled": true
   },
   "outputs": [],
   "source": [
    "test3 = episode_three[0].apply(remove_stops)\n",
    "#test3"
   ]
  },
  {
   "cell_type": "code",
   "execution_count": 68,
   "metadata": {
    "collapsed": true,
    "scrolled": false
   },
   "outputs": [],
   "source": [
    "for column in episode_three.columns:\n",
    "    for x in range(len(episode_three[column])):\n",
    "        episode_three[column][x] = remove_stops(episode_three[column][x])"
   ]
  },
  {
   "cell_type": "code",
   "execution_count": 69,
   "metadata": {
    "scrolled": true
   },
   "outputs": [],
   "source": [
    "#episode_three.info()"
   ]
  },
  {
   "cell_type": "code",
   "execution_count": 70,
   "metadata": {},
   "outputs": [
    {
     "data": {
      "text/plain": [
       "(34, 24)"
      ]
     },
     "execution_count": 70,
     "metadata": {},
     "output_type": "execute_result"
    }
   ],
   "source": [
    "episode_three.index = episode_three.index.str.title()\n",
    "\n",
    "episode_three.shape"
   ]
  },
  {
   "cell_type": "code",
   "execution_count": 71,
   "metadata": {
    "scrolled": true
   },
   "outputs": [
    {
     "data": {
      "text/html": [
       "<div>\n",
       "<table border=\"1\" class=\"dataframe\">\n",
       "  <thead>\n",
       "    <tr style=\"text-align: right;\">\n",
       "      <th></th>\n",
       "      <th>0</th>\n",
       "      <th>1</th>\n",
       "      <th>2</th>\n",
       "      <th>3</th>\n",
       "      <th>4</th>\n",
       "      <th>5</th>\n",
       "      <th>6</th>\n",
       "      <th>7</th>\n",
       "      <th>8</th>\n",
       "      <th>9</th>\n",
       "      <th>10</th>\n",
       "      <th>11</th>\n",
       "      <th>12</th>\n",
       "      <th>13</th>\n",
       "      <th>14</th>\n",
       "      <th>15</th>\n",
       "      <th>16</th>\n",
       "      <th>17</th>\n",
       "      <th>18</th>\n",
       "      <th>19</th>\n",
       "      <th>20</th>\n",
       "      <th>21</th>\n",
       "      <th>22</th>\n",
       "      <th>23</th>\n",
       "    </tr>\n",
       "  </thead>\n",
       "  <tbody>\n",
       "    <tr>\n",
       "      <th>Stannis</th>\n",
       "      <td>olly closes door</td>\n",
       "      <td>well</td>\n",
       "      <td>say word</td>\n",
       "      <td>im giving chance avenge family</td>\n",
       "      <td>bored us already</td>\n",
       "      <td>know</td>\n",
       "      <td>theyd rather burn fight</td>\n",
       "      <td>youre lord commander</td>\n",
       "      <td>many enemies castle black</td>\n",
       "      <td>whoever said didnt many enemies</td>\n",
       "      <td>None</td>\n",
       "      <td>None</td>\n",
       "      <td>None</td>\n",
       "      <td>None</td>\n",
       "      <td>None</td>\n",
       "      <td>None</td>\n",
       "      <td>None</td>\n",
       "      <td>None</td>\n",
       "      <td>None</td>\n",
       "      <td>None</td>\n",
       "      <td>None</td>\n",
       "      <td>None</td>\n",
       "      <td>None</td>\n",
       "      <td>None</td>\n",
       "    </tr>\n",
       "    <tr>\n",
       "      <th>Davos</th>\n",
       "      <td>sees something</td>\n",
       "      <td>king complicated man</td>\n",
       "      <td>hes one true king</td>\n",
       "      <td></td>\n",
       "      <td>long boltons rule north stands north suffer</td>\n",
       "      <td>None</td>\n",
       "      <td>None</td>\n",
       "      <td>None</td>\n",
       "      <td>None</td>\n",
       "      <td>None</td>\n",
       "      <td>None</td>\n",
       "      <td>None</td>\n",
       "      <td>None</td>\n",
       "      <td>None</td>\n",
       "      <td>None</td>\n",
       "      <td>None</td>\n",
       "      <td>None</td>\n",
       "      <td>None</td>\n",
       "      <td>None</td>\n",
       "      <td>None</td>\n",
       "      <td>None</td>\n",
       "      <td>None</td>\n",
       "      <td>None</td>\n",
       "      <td>None</td>\n",
       "    </tr>\n",
       "    <tr>\n",
       "      <th>Meryn</th>\n",
       "      <td>dont think good idea grace</td>\n",
       "      <td>None</td>\n",
       "      <td>None</td>\n",
       "      <td>None</td>\n",
       "      <td>None</td>\n",
       "      <td>None</td>\n",
       "      <td>None</td>\n",
       "      <td>None</td>\n",
       "      <td>None</td>\n",
       "      <td>None</td>\n",
       "      <td>None</td>\n",
       "      <td>None</td>\n",
       "      <td>None</td>\n",
       "      <td>None</td>\n",
       "      <td>None</td>\n",
       "      <td>None</td>\n",
       "      <td>None</td>\n",
       "      <td>None</td>\n",
       "      <td>None</td>\n",
       "      <td>None</td>\n",
       "      <td>None</td>\n",
       "      <td>None</td>\n",
       "      <td>None</td>\n",
       "      <td>None</td>\n",
       "    </tr>\n",
       "    <tr>\n",
       "      <th>Pycelle</th>\n",
       "      <td>mans private affairs ought stay private</td>\n",
       "      <td>None</td>\n",
       "      <td>None</td>\n",
       "      <td>None</td>\n",
       "      <td>None</td>\n",
       "      <td>None</td>\n",
       "      <td>None</td>\n",
       "      <td>None</td>\n",
       "      <td>None</td>\n",
       "      <td>None</td>\n",
       "      <td>None</td>\n",
       "      <td>None</td>\n",
       "      <td>None</td>\n",
       "      <td>None</td>\n",
       "      <td>None</td>\n",
       "      <td>None</td>\n",
       "      <td>None</td>\n",
       "      <td>None</td>\n",
       "      <td>None</td>\n",
       "      <td>None</td>\n",
       "      <td>None</td>\n",
       "      <td>None</td>\n",
       "      <td>None</td>\n",
       "      <td>None</td>\n",
       "    </tr>\n",
       "    <tr>\n",
       "      <th>Priestess</th>\n",
       "      <td>valyrian night dark full terrors</td>\n",
       "      <td>valyrian</td>\n",
       "      <td>valyrian bought sold varys approaches tyrion s...</td>\n",
       "      <td>valyrian sent saviour</td>\n",
       "      <td>None</td>\n",
       "      <td>None</td>\n",
       "      <td>None</td>\n",
       "      <td>None</td>\n",
       "      <td>None</td>\n",
       "      <td>None</td>\n",
       "      <td>None</td>\n",
       "      <td>None</td>\n",
       "      <td>None</td>\n",
       "      <td>None</td>\n",
       "      <td>None</td>\n",
       "      <td>None</td>\n",
       "      <td>None</td>\n",
       "      <td>None</td>\n",
       "      <td>None</td>\n",
       "      <td>None</td>\n",
       "      <td>None</td>\n",
       "      <td>None</td>\n",
       "      <td>None</td>\n",
       "      <td>None</td>\n",
       "    </tr>\n",
       "  </tbody>\n",
       "</table>\n",
       "</div>"
      ],
      "text/plain": [
       "                                                0                     1   \\\n",
       "Stannis                           olly closes door                  well   \n",
       "Davos                               sees something  king complicated man   \n",
       "Meryn                   dont think good idea grace                  None   \n",
       "Pycelle    mans private affairs ought stay private                  None   \n",
       "Priestess         valyrian night dark full terrors              valyrian   \n",
       "\n",
       "                                                          2   \\\n",
       "Stannis                                             say word   \n",
       "Davos                                      hes one true king   \n",
       "Meryn                                                   None   \n",
       "Pycelle                                                 None   \n",
       "Priestess  valyrian bought sold varys approaches tyrion s...   \n",
       "\n",
       "                                       3   \\\n",
       "Stannis    im giving chance avenge family   \n",
       "Davos                                       \n",
       "Meryn                                None   \n",
       "Pycelle                              None   \n",
       "Priestess           valyrian sent saviour   \n",
       "\n",
       "                                                    4     5   \\\n",
       "Stannis                               bored us already  know   \n",
       "Davos      long boltons rule north stands north suffer  None   \n",
       "Meryn                                             None  None   \n",
       "Pycelle                                           None  None   \n",
       "Priestess                                         None  None   \n",
       "\n",
       "                                6                     7   \\\n",
       "Stannis    theyd rather burn fight  youre lord commander   \n",
       "Davos                         None                  None   \n",
       "Meryn                         None                  None   \n",
       "Pycelle                       None                  None   \n",
       "Priestess                     None                  None   \n",
       "\n",
       "                                  8                                9     10  \\\n",
       "Stannis    many enemies castle black  whoever said didnt many enemies  None   \n",
       "Davos                           None                             None  None   \n",
       "Meryn                           None                             None  None   \n",
       "Pycelle                         None                             None  None   \n",
       "Priestess                       None                             None  None   \n",
       "\n",
       "             11    12    13    14    15    16    17    18    19    20    21  \\\n",
       "Stannis    None  None  None  None  None  None  None  None  None  None  None   \n",
       "Davos      None  None  None  None  None  None  None  None  None  None  None   \n",
       "Meryn      None  None  None  None  None  None  None  None  None  None  None   \n",
       "Pycelle    None  None  None  None  None  None  None  None  None  None  None   \n",
       "Priestess  None  None  None  None  None  None  None  None  None  None  None   \n",
       "\n",
       "             22    23  \n",
       "Stannis    None  None  \n",
       "Davos      None  None  \n",
       "Meryn      None  None  \n",
       "Pycelle    None  None  \n",
       "Priestess  None  None  "
      ]
     },
     "execution_count": 71,
     "metadata": {},
     "output_type": "execute_result"
    }
   ],
   "source": [
    "episode_three.head()"
   ]
  },
  {
   "cell_type": "markdown",
   "metadata": {},
   "source": [
    "### Episode Four"
   ]
  },
  {
   "cell_type": "code",
   "execution_count": 72,
   "metadata": {
    "scrolled": true
   },
   "outputs": [],
   "source": [
    "#df_s5.script_text[3]"
   ]
  },
  {
   "cell_type": "code",
   "execution_count": 73,
   "metadata": {},
   "outputs": [
    {
     "name": "stdout",
     "output_type": "stream",
     "text": [
      "<type 'list'>\n"
     ]
    }
   ],
   "source": [
    "script_text5_04 = df_s5.script_text[3]\n",
    "print type(script_text5_04)\n",
    "\n",
    "#script_text5_04"
   ]
  },
  {
   "cell_type": "code",
   "execution_count": 74,
   "metadata": {
    "scrolled": true
   },
   "outputs": [],
   "source": [
    "script_split4 = [i.split('\\n') for i in script_text5_04]\n",
    "#script_split4"
   ]
  },
  {
   "cell_type": "code",
   "execution_count": 75,
   "metadata": {
    "collapsed": true
   },
   "outputs": [],
   "source": [
    "string_script_text4 = ' '\n",
    "\n",
    "for i in script_split4:\n",
    "    for e in i:\n",
    "        string_script_text4 = string_script_text4 + ' ' + e"
   ]
  },
  {
   "cell_type": "code",
   "execution_count": 76,
   "metadata": {},
   "outputs": [],
   "source": [
    "#string_script_text4"
   ]
  },
  {
   "cell_type": "code",
   "execution_count": 77,
   "metadata": {},
   "outputs": [],
   "source": [
    "words4 = word_tokenize(string_script_text4)\n",
    "#words4"
   ]
  },
  {
   "cell_type": "code",
   "execution_count": 78,
   "metadata": {
    "scrolled": true
   },
   "outputs": [],
   "source": [
    "sentences4 = sent_tokenize(string_script_text4)\n",
    "#sentences4"
   ]
  },
  {
   "cell_type": "code",
   "execution_count": 79,
   "metadata": {
    "collapsed": true,
    "scrolled": false
   },
   "outputs": [],
   "source": [
    "dialogue4 = []\n",
    "\n",
    "for sentence in sentences4:\n",
    "    words=sentence.split(':')[0]\n",
    "    if len(words.split())<=2:\n",
    "        if words in (names5_04):\n",
    "            dialogue4.append(sentence)"
   ]
  },
  {
   "cell_type": "code",
   "execution_count": 80,
   "metadata": {
    "scrolled": true
   },
   "outputs": [],
   "source": [
    "#dialogue4"
   ]
  },
  {
   "cell_type": "code",
   "execution_count": 81,
   "metadata": {
    "collapsed": true
   },
   "outputs": [],
   "source": [
    "import pickle\n",
    "with open('/Users/zoemarkovits/Metis/project_five_got/Dialogue_PKLs/s504.pkl', 'wb') as f:\n",
    "    pickle.dump(dialogue4, f)"
   ]
  },
  {
   "cell_type": "code",
   "execution_count": 82,
   "metadata": {
    "scrolled": true
   },
   "outputs": [],
   "source": [
    "from collections import defaultdict\n",
    "\n",
    "speakers4 = defaultdict(list)\n",
    "for sentence in dialogue4:\n",
    "    speakers4[sentence.split(':')[0]].append(sentence.split(':')[1])\n",
    "\n",
    "#speakers4"
   ]
  },
  {
   "cell_type": "code",
   "execution_count": 83,
   "metadata": {
    "scrolled": true
   },
   "outputs": [
    {
     "data": {
      "text/plain": [
       "[u' (To some of the men sparring).',\n",
       " u' Never even heard of these people.',\n",
       " u' And how many men does this Lord Maison have to send us?',\n",
       " u' Not him.',\n",
       " u' He murdered my brother.',\n",
       " u' How can I help you?',\n",
       " u' Castle Black is my home now.',\n",
       " u\" You're gonna show me some vision in the fire.\",\n",
       " u\" I don't think Stannis would like that very much.\",\n",
       " u\" I can't.\"]"
      ]
     },
     "execution_count": 83,
     "metadata": {},
     "output_type": "execute_result"
    }
   ],
   "source": [
    "speakers4['JON']"
   ]
  },
  {
   "cell_type": "code",
   "execution_count": 84,
   "metadata": {
    "scrolled": true
   },
   "outputs": [
    {
     "name": "stdout",
     "output_type": "stream",
     "text": [
      "(36, 29)\n"
     ]
    }
   ],
   "source": [
    "episode_four = pd.DataFrame.from_dict(speakers4, orient=\"index\")\n",
    "print episode_four.shape"
   ]
  },
  {
   "cell_type": "code",
   "execution_count": 85,
   "metadata": {
    "collapsed": true
   },
   "outputs": [],
   "source": [
    "#from numpy import nan\n",
    "#episode_four.fillna(value=str(0), inplace=True)"
   ]
  },
  {
   "cell_type": "code",
   "execution_count": 86,
   "metadata": {
    "scrolled": true
   },
   "outputs": [],
   "source": [
    "#episode_four.info()"
   ]
  },
  {
   "cell_type": "code",
   "execution_count": 87,
   "metadata": {},
   "outputs": [],
   "source": [
    "#episode_four.head()"
   ]
  },
  {
   "cell_type": "code",
   "execution_count": 88,
   "metadata": {
    "scrolled": true
   },
   "outputs": [],
   "source": [
    "test4 = episode_four[0].apply(remove_stops)\n",
    "#test4"
   ]
  },
  {
   "cell_type": "code",
   "execution_count": 89,
   "metadata": {
    "collapsed": true,
    "scrolled": false
   },
   "outputs": [],
   "source": [
    "for column in episode_four.columns:\n",
    "    for x in range(len(episode_four[column])):\n",
    "        episode_four[column][x] = remove_stops(episode_four[column][x])"
   ]
  },
  {
   "cell_type": "code",
   "execution_count": 90,
   "metadata": {},
   "outputs": [
    {
     "data": {
      "text/plain": [
       "(36, 29)"
      ]
     },
     "execution_count": 90,
     "metadata": {},
     "output_type": "execute_result"
    }
   ],
   "source": [
    "episode_four.index = episode_four.index.str.title()\n",
    "\n",
    "episode_four.shape"
   ]
  },
  {
   "cell_type": "code",
   "execution_count": 91,
   "metadata": {
    "scrolled": true
   },
   "outputs": [
    {
     "data": {
      "text/html": [
       "<div>\n",
       "<table border=\"1\" class=\"dataframe\">\n",
       "  <thead>\n",
       "    <tr style=\"text-align: right;\">\n",
       "      <th></th>\n",
       "      <th>0</th>\n",
       "      <th>1</th>\n",
       "      <th>2</th>\n",
       "      <th>3</th>\n",
       "      <th>4</th>\n",
       "      <th>5</th>\n",
       "      <th>6</th>\n",
       "      <th>7</th>\n",
       "      <th>8</th>\n",
       "      <th>9</th>\n",
       "      <th>10</th>\n",
       "      <th>11</th>\n",
       "      <th>12</th>\n",
       "      <th>13</th>\n",
       "      <th>14</th>\n",
       "      <th>15</th>\n",
       "      <th>16</th>\n",
       "      <th>17</th>\n",
       "      <th>18</th>\n",
       "      <th>19</th>\n",
       "      <th>20</th>\n",
       "      <th>21</th>\n",
       "      <th>22</th>\n",
       "      <th>23</th>\n",
       "      <th>24</th>\n",
       "      <th>25</th>\n",
       "      <th>26</th>\n",
       "      <th>27</th>\n",
       "      <th>28</th>\n",
       "    </tr>\n",
       "  </thead>\n",
       "  <tbody>\n",
       "    <tr>\n",
       "      <th>Stannis</th>\n",
       "      <td>lord commander nights watch</td>\n",
       "      <td>fault</td>\n",
       "      <td>must</td>\n",
       "      <td>wont</td>\n",
       "      <td>walking away</td>\n",
       "      <td>father used tell boredom indicates lack inner ...</td>\n",
       "      <td>know castle black place child shireen</td>\n",
       "      <td>say</td>\n",
       "      <td>infant stands walks around desk dornish traile...</td>\n",
       "      <td>None</td>\n",
       "      <td>None</td>\n",
       "      <td>None</td>\n",
       "      <td>None</td>\n",
       "      <td>None</td>\n",
       "      <td>None</td>\n",
       "      <td>None</td>\n",
       "      <td>None</td>\n",
       "      <td>None</td>\n",
       "      <td>None</td>\n",
       "      <td>None</td>\n",
       "      <td>None</td>\n",
       "      <td>None</td>\n",
       "      <td>None</td>\n",
       "      <td>None</td>\n",
       "      <td>None</td>\n",
       "      <td>None</td>\n",
       "      <td>None</td>\n",
       "      <td>None</td>\n",
       "      <td>None</td>\n",
       "    </tr>\n",
       "    <tr>\n",
       "      <th>Elaria</th>\n",
       "      <td>nym obara</td>\n",
       "      <td>prince doran weep father nothing else</td>\n",
       "      <td>hes come myrcella</td>\n",
       "      <td>nym</td>\n",
       "      <td>None</td>\n",
       "      <td>None</td>\n",
       "      <td>None</td>\n",
       "      <td>None</td>\n",
       "      <td>None</td>\n",
       "      <td>None</td>\n",
       "      <td>None</td>\n",
       "      <td>None</td>\n",
       "      <td>None</td>\n",
       "      <td>None</td>\n",
       "      <td>None</td>\n",
       "      <td>None</td>\n",
       "      <td>None</td>\n",
       "      <td>None</td>\n",
       "      <td>None</td>\n",
       "      <td>None</td>\n",
       "      <td>None</td>\n",
       "      <td>None</td>\n",
       "      <td>None</td>\n",
       "      <td>None</td>\n",
       "      <td>None</td>\n",
       "      <td>None</td>\n",
       "      <td>None</td>\n",
       "      <td>None</td>\n",
       "      <td>None</td>\n",
       "    </tr>\n",
       "    <tr>\n",
       "      <th>Selyse</th>\n",
       "      <td>given son</td>\n",
       "      <td>whose</td>\n",
       "      <td>lady</td>\n",
       "      <td>None</td>\n",
       "      <td>None</td>\n",
       "      <td>None</td>\n",
       "      <td>None</td>\n",
       "      <td>None</td>\n",
       "      <td>None</td>\n",
       "      <td>None</td>\n",
       "      <td>None</td>\n",
       "      <td>None</td>\n",
       "      <td>None</td>\n",
       "      <td>None</td>\n",
       "      <td>None</td>\n",
       "      <td>None</td>\n",
       "      <td>None</td>\n",
       "      <td>None</td>\n",
       "      <td>None</td>\n",
       "      <td>None</td>\n",
       "      <td>None</td>\n",
       "      <td>None</td>\n",
       "      <td>None</td>\n",
       "      <td>None</td>\n",
       "      <td>None</td>\n",
       "      <td>None</td>\n",
       "      <td>None</td>\n",
       "      <td>None</td>\n",
       "      <td>None</td>\n",
       "    </tr>\n",
       "    <tr>\n",
       "      <th>Pycelle</th>\n",
       "      <td>small council grows smaller smaller</td>\n",
       "      <td>None</td>\n",
       "      <td>None</td>\n",
       "      <td>None</td>\n",
       "      <td>None</td>\n",
       "      <td>None</td>\n",
       "      <td>None</td>\n",
       "      <td>None</td>\n",
       "      <td>None</td>\n",
       "      <td>None</td>\n",
       "      <td>None</td>\n",
       "      <td>None</td>\n",
       "      <td>None</td>\n",
       "      <td>None</td>\n",
       "      <td>None</td>\n",
       "      <td>None</td>\n",
       "      <td>None</td>\n",
       "      <td>None</td>\n",
       "      <td>None</td>\n",
       "      <td>None</td>\n",
       "      <td>None</td>\n",
       "      <td>None</td>\n",
       "      <td>None</td>\n",
       "      <td>None</td>\n",
       "      <td>None</td>\n",
       "      <td>None</td>\n",
       "      <td>None</td>\n",
       "      <td>None</td>\n",
       "      <td>None</td>\n",
       "    </tr>\n",
       "    <tr>\n",
       "      <th>Dario</th>\n",
       "      <td>entering</td>\n",
       "      <td>fifty hundred</td>\n",
       "      <td>think protect hizdahr zo loraq</td>\n",
       "      <td>None</td>\n",
       "      <td>None</td>\n",
       "      <td>None</td>\n",
       "      <td>None</td>\n",
       "      <td>None</td>\n",
       "      <td>None</td>\n",
       "      <td>None</td>\n",
       "      <td>None</td>\n",
       "      <td>None</td>\n",
       "      <td>None</td>\n",
       "      <td>None</td>\n",
       "      <td>None</td>\n",
       "      <td>None</td>\n",
       "      <td>None</td>\n",
       "      <td>None</td>\n",
       "      <td>None</td>\n",
       "      <td>None</td>\n",
       "      <td>None</td>\n",
       "      <td>None</td>\n",
       "      <td>None</td>\n",
       "      <td>None</td>\n",
       "      <td>None</td>\n",
       "      <td>None</td>\n",
       "      <td>None</td>\n",
       "      <td>None</td>\n",
       "      <td>None</td>\n",
       "    </tr>\n",
       "  </tbody>\n",
       "</table>\n",
       "</div>"
      ],
      "text/plain": [
       "                                          0   \\\n",
       "Stannis          lord commander nights watch   \n",
       "Elaria                             nym obara   \n",
       "Selyse                             given son   \n",
       "Pycelle  small council grows smaller smaller   \n",
       "Dario                               entering   \n",
       "\n",
       "                                            1   \\\n",
       "Stannis                                  fault   \n",
       "Elaria   prince doran weep father nothing else   \n",
       "Selyse                                   whose   \n",
       "Pycelle                                   None   \n",
       "Dario                            fifty hundred   \n",
       "\n",
       "                                     2     3             4   \\\n",
       "Stannis                            must  wont  walking away   \n",
       "Elaria                hes come myrcella   nym          None   \n",
       "Selyse                             lady  None          None   \n",
       "Pycelle                            None  None          None   \n",
       "Dario    think protect hizdahr zo loraq  None          None   \n",
       "\n",
       "                                                        5   \\\n",
       "Stannis  father used tell boredom indicates lack inner ...   \n",
       "Elaria                                                None   \n",
       "Selyse                                                None   \n",
       "Pycelle                                               None   \n",
       "Dario                                                 None   \n",
       "\n",
       "                                            6     7   \\\n",
       "Stannis  know castle black place child shireen   say   \n",
       "Elaria                                    None  None   \n",
       "Selyse                                    None  None   \n",
       "Pycelle                                   None  None   \n",
       "Dario                                     None  None   \n",
       "\n",
       "                                                        8     9     10    11  \\\n",
       "Stannis  infant stands walks around desk dornish traile...  None  None  None   \n",
       "Elaria                                                None  None  None  None   \n",
       "Selyse                                                None  None  None  None   \n",
       "Pycelle                                               None  None  None  None   \n",
       "Dario                                                 None  None  None  None   \n",
       "\n",
       "           12    13    14    15    16    17    18    19    20    21    22  \\\n",
       "Stannis  None  None  None  None  None  None  None  None  None  None  None   \n",
       "Elaria   None  None  None  None  None  None  None  None  None  None  None   \n",
       "Selyse   None  None  None  None  None  None  None  None  None  None  None   \n",
       "Pycelle  None  None  None  None  None  None  None  None  None  None  None   \n",
       "Dario    None  None  None  None  None  None  None  None  None  None  None   \n",
       "\n",
       "           23    24    25    26    27    28  \n",
       "Stannis  None  None  None  None  None  None  \n",
       "Elaria   None  None  None  None  None  None  \n",
       "Selyse   None  None  None  None  None  None  \n",
       "Pycelle  None  None  None  None  None  None  \n",
       "Dario    None  None  None  None  None  None  "
      ]
     },
     "execution_count": 91,
     "metadata": {},
     "output_type": "execute_result"
    }
   ],
   "source": [
    "episode_four.head()"
   ]
  },
  {
   "cell_type": "markdown",
   "metadata": {},
   "source": [
    "### Episode Five"
   ]
  },
  {
   "cell_type": "code",
   "execution_count": 92,
   "metadata": {
    "scrolled": true
   },
   "outputs": [],
   "source": [
    "#df_s5.script_text[4]"
   ]
  },
  {
   "cell_type": "code",
   "execution_count": 93,
   "metadata": {},
   "outputs": [
    {
     "name": "stdout",
     "output_type": "stream",
     "text": [
      "<type 'list'>\n"
     ]
    }
   ],
   "source": [
    "script_text5_05 = df_s5.script_text[4]\n",
    "print type(script_text5_05)\n",
    "\n",
    "#script_text5_05"
   ]
  },
  {
   "cell_type": "code",
   "execution_count": 94,
   "metadata": {
    "scrolled": true
   },
   "outputs": [],
   "source": [
    "script_split5 = [i.split('\\n') for i in script_text5_05]\n",
    "#script_split5"
   ]
  },
  {
   "cell_type": "code",
   "execution_count": 95,
   "metadata": {
    "collapsed": true
   },
   "outputs": [],
   "source": [
    "string_script_text5 = ' '\n",
    "\n",
    "for i in script_split5:\n",
    "    for e in i:\n",
    "        string_script_text5 = string_script_text5 + ' ' + e"
   ]
  },
  {
   "cell_type": "code",
   "execution_count": 96,
   "metadata": {},
   "outputs": [],
   "source": [
    "#string_script_text5"
   ]
  },
  {
   "cell_type": "code",
   "execution_count": 97,
   "metadata": {},
   "outputs": [],
   "source": [
    "words5 = word_tokenize(string_script_text5)\n",
    "#words5"
   ]
  },
  {
   "cell_type": "code",
   "execution_count": 98,
   "metadata": {
    "scrolled": true
   },
   "outputs": [],
   "source": [
    "sentences5 = sent_tokenize(string_script_text5)\n",
    "#sentences5"
   ]
  },
  {
   "cell_type": "code",
   "execution_count": 99,
   "metadata": {
    "collapsed": true,
    "scrolled": false
   },
   "outputs": [],
   "source": [
    "dialogue5 = []\n",
    "\n",
    "for sentence in sentences5:\n",
    "    words=sentence.split(':')[0]\n",
    "    if len(words.split())<=2:\n",
    "        if words in (names5_05):\n",
    "            dialogue5.append(sentence)"
   ]
  },
  {
   "cell_type": "code",
   "execution_count": 100,
   "metadata": {
    "scrolled": true
   },
   "outputs": [],
   "source": [
    "#dialogue5"
   ]
  },
  {
   "cell_type": "code",
   "execution_count": 101,
   "metadata": {
    "collapsed": true
   },
   "outputs": [],
   "source": [
    "import pickle\n",
    "with open('/Users/zoemarkovits/Metis/project_five_got/Dialogue_PKLs/s505.pkl', 'wb') as f:\n",
    "    pickle.dump(dialogue5, f)"
   ]
  },
  {
   "cell_type": "code",
   "execution_count": 102,
   "metadata": {
    "scrolled": true
   },
   "outputs": [],
   "source": [
    "from collections import defaultdict\n",
    "\n",
    "speakers5 = defaultdict(list)\n",
    "for sentence in dialogue5:\n",
    "    speakers5[sentence.split(':')[0]].append(sentence.split(':')[1])\n",
    "\n",
    "#speakers5"
   ]
  },
  {
   "cell_type": "code",
   "execution_count": 103,
   "metadata": {
    "scrolled": false
   },
   "outputs": [
    {
     "data": {
      "text/plain": [
       "[u'   Her last relation thousands of miles away, useless, dying.',\n",
       " u'     JON',\n",
       " u' Lord Commander.',\n",
       " u' Oh, like a hundred-year-old man slowly freezing to death.',\n",
       " u' Half the men hate you already, Lord Commander.',\n",
       " u\" That doesn't matter.\"]"
      ]
     },
     "execution_count": 103,
     "metadata": {},
     "output_type": "execute_result"
    }
   ],
   "source": [
    "speakers5['AEMON']"
   ]
  },
  {
   "cell_type": "code",
   "execution_count": 104,
   "metadata": {
    "scrolled": true
   },
   "outputs": [
    {
     "name": "stdout",
     "output_type": "stream",
     "text": [
      "(26, 30)\n"
     ]
    }
   ],
   "source": [
    "episode_five = pd.DataFrame.from_dict(speakers5, orient=\"index\")\n",
    "print episode_five.shape"
   ]
  },
  {
   "cell_type": "code",
   "execution_count": 105,
   "metadata": {
    "collapsed": true
   },
   "outputs": [],
   "source": [
    "#from numpy import nan\n",
    "#episode_five.fillna(value=str(0), inplace=True)"
   ]
  },
  {
   "cell_type": "code",
   "execution_count": 106,
   "metadata": {
    "scrolled": true
   },
   "outputs": [],
   "source": [
    "#episode_five.info()"
   ]
  },
  {
   "cell_type": "code",
   "execution_count": 107,
   "metadata": {},
   "outputs": [],
   "source": [
    "#episode_five.head()"
   ]
  },
  {
   "cell_type": "code",
   "execution_count": 108,
   "metadata": {
    "scrolled": true
   },
   "outputs": [],
   "source": [
    "test5 = episode_five[0].apply(remove_stops)\n",
    "#test5"
   ]
  },
  {
   "cell_type": "code",
   "execution_count": 109,
   "metadata": {
    "collapsed": true,
    "scrolled": false
   },
   "outputs": [],
   "source": [
    "for column in episode_five.columns:\n",
    "    for x in range(len(episode_five[column])):\n",
    "        episode_five[column][x] = remove_stops(episode_five[column][x])"
   ]
  },
  {
   "cell_type": "code",
   "execution_count": 110,
   "metadata": {},
   "outputs": [
    {
     "data": {
      "text/plain": [
       "(26, 30)"
      ]
     },
     "execution_count": 110,
     "metadata": {},
     "output_type": "execute_result"
    }
   ],
   "source": [
    "episode_five.index = episode_five.index.str.title()\n",
    "\n",
    "episode_five.shape"
   ]
  },
  {
   "cell_type": "code",
   "execution_count": 111,
   "metadata": {
    "scrolled": true
   },
   "outputs": [
    {
     "data": {
      "text/html": [
       "<div>\n",
       "<table border=\"1\" class=\"dataframe\">\n",
       "  <thead>\n",
       "    <tr style=\"text-align: right;\">\n",
       "      <th></th>\n",
       "      <th>0</th>\n",
       "      <th>1</th>\n",
       "      <th>2</th>\n",
       "      <th>3</th>\n",
       "      <th>4</th>\n",
       "      <th>5</th>\n",
       "      <th>6</th>\n",
       "      <th>7</th>\n",
       "      <th>8</th>\n",
       "      <th>9</th>\n",
       "      <th>10</th>\n",
       "      <th>11</th>\n",
       "      <th>12</th>\n",
       "      <th>13</th>\n",
       "      <th>14</th>\n",
       "      <th>15</th>\n",
       "      <th>16</th>\n",
       "      <th>17</th>\n",
       "      <th>18</th>\n",
       "      <th>19</th>\n",
       "      <th>20</th>\n",
       "      <th>21</th>\n",
       "      <th>22</th>\n",
       "      <th>23</th>\n",
       "      <th>24</th>\n",
       "      <th>25</th>\n",
       "      <th>26</th>\n",
       "      <th>27</th>\n",
       "      <th>28</th>\n",
       "      <th>29</th>\n",
       "    </tr>\n",
       "  </thead>\n",
       "  <tbody>\n",
       "    <tr>\n",
       "      <th>Stannis</th>\n",
       "      <td>nothing</td>\n",
       "      <td>youre samwell tarly</td>\n",
       "      <td>dont look like soldier</td>\n",
       "      <td></td>\n",
       "      <td>dragonglass</td>\n",
       "      <td>lady melisandre told death marches wall</td>\n",
       "      <td>seen</td>\n",
       "      <td>jon snow returns wildlings</td>\n",
       "      <td>need theyre coming us</td>\n",
       "      <td>hope know youre wildlings</td>\n",
       "      <td>None</td>\n",
       "      <td>None</td>\n",
       "      <td>None</td>\n",
       "      <td>None</td>\n",
       "      <td>None</td>\n",
       "      <td>None</td>\n",
       "      <td>None</td>\n",
       "      <td>None</td>\n",
       "      <td>None</td>\n",
       "      <td>None</td>\n",
       "      <td>None</td>\n",
       "      <td>None</td>\n",
       "      <td>None</td>\n",
       "      <td>None</td>\n",
       "      <td>None</td>\n",
       "      <td>None</td>\n",
       "      <td>None</td>\n",
       "      <td>None</td>\n",
       "      <td>None</td>\n",
       "      <td>None</td>\n",
       "    </tr>\n",
       "    <tr>\n",
       "      <th>Davos</th>\n",
       "      <td></td>\n",
       "      <td>uh grace</td>\n",
       "      <td>ill choose dozen men stay guard queen princess</td>\n",
       "      <td>tough road ahead grace</td>\n",
       "      <td>beg pardon</td>\n",
       "      <td>aye princess wont anywhere near selyse</td>\n",
       "      <td>yes queen</td>\n",
       "      <td>well</td>\n",
       "      <td>None</td>\n",
       "      <td>None</td>\n",
       "      <td>None</td>\n",
       "      <td>None</td>\n",
       "      <td>None</td>\n",
       "      <td>None</td>\n",
       "      <td>None</td>\n",
       "      <td>None</td>\n",
       "      <td>None</td>\n",
       "      <td>None</td>\n",
       "      <td>None</td>\n",
       "      <td>None</td>\n",
       "      <td>None</td>\n",
       "      <td>None</td>\n",
       "      <td>None</td>\n",
       "      <td>None</td>\n",
       "      <td>None</td>\n",
       "      <td>None</td>\n",
       "      <td>None</td>\n",
       "      <td>None</td>\n",
       "      <td>None</td>\n",
       "      <td>None</td>\n",
       "    </tr>\n",
       "    <tr>\n",
       "      <th>Gilly</th>\n",
       "      <td>world</td>\n",
       "      <td>grew books</td>\n",
       "      <td>wheres</td>\n",
       "      <td>im sorry dont know things</td>\n",
       "      <td>wash linens</td>\n",
       "      <td>like maester aemon</td>\n",
       "      <td>None</td>\n",
       "      <td>None</td>\n",
       "      <td>None</td>\n",
       "      <td>None</td>\n",
       "      <td>None</td>\n",
       "      <td>None</td>\n",
       "      <td>None</td>\n",
       "      <td>None</td>\n",
       "      <td>None</td>\n",
       "      <td>None</td>\n",
       "      <td>None</td>\n",
       "      <td>None</td>\n",
       "      <td>None</td>\n",
       "      <td>None</td>\n",
       "      <td>None</td>\n",
       "      <td>None</td>\n",
       "      <td>None</td>\n",
       "      <td>None</td>\n",
       "      <td>None</td>\n",
       "      <td>None</td>\n",
       "      <td>None</td>\n",
       "      <td>None</td>\n",
       "      <td>None</td>\n",
       "      <td>None</td>\n",
       "    </tr>\n",
       "    <tr>\n",
       "      <th>Tyrion</th>\n",
       "      <td>would make time together truly enjoyable would...</td>\n",
       "      <td>person drinks</td>\n",
       "      <td>sailed route</td>\n",
       "      <td>youre going bring daenerys souvenir ancestral ...</td>\n",
       "      <td>demons flames</td>\n",
       "      <td>oh</td>\n",
       "      <td>smoking sea</td>\n",
       "      <td>werent</td>\n",
       "      <td>suppose</td>\n",
       "      <td></td>\n",
       "      <td>mormont cut free</td>\n",
       "      <td>mormont</td>\n",
       "      <td>shakes head</td>\n",
       "      <td>itd kinder put daggers hearts done</td>\n",
       "      <td>without luck</td>\n",
       "      <td>thats best idea youve day</td>\n",
       "      <td>None</td>\n",
       "      <td>None</td>\n",
       "      <td>None</td>\n",
       "      <td>None</td>\n",
       "      <td>None</td>\n",
       "      <td>None</td>\n",
       "      <td>None</td>\n",
       "      <td>None</td>\n",
       "      <td>None</td>\n",
       "      <td>None</td>\n",
       "      <td>None</td>\n",
       "      <td>None</td>\n",
       "      <td>None</td>\n",
       "      <td>None</td>\n",
       "    </tr>\n",
       "    <tr>\n",
       "      <th>Missandei</th>\n",
       "      <td>valyrian three days</td>\n",
       "      <td>valyrian failed one</td>\n",
       "      <td>men fear death</td>\n",
       "      <td>grace think fit opinion matters</td>\n",
       "      <td>tell seen grace</td>\n",
       "      <td>None</td>\n",
       "      <td>None</td>\n",
       "      <td>None</td>\n",
       "      <td>None</td>\n",
       "      <td>None</td>\n",
       "      <td>None</td>\n",
       "      <td>None</td>\n",
       "      <td>None</td>\n",
       "      <td>None</td>\n",
       "      <td>None</td>\n",
       "      <td>None</td>\n",
       "      <td>None</td>\n",
       "      <td>None</td>\n",
       "      <td>None</td>\n",
       "      <td>None</td>\n",
       "      <td>None</td>\n",
       "      <td>None</td>\n",
       "      <td>None</td>\n",
       "      <td>None</td>\n",
       "      <td>None</td>\n",
       "      <td>None</td>\n",
       "      <td>None</td>\n",
       "      <td>None</td>\n",
       "      <td>None</td>\n",
       "      <td>None</td>\n",
       "    </tr>\n",
       "  </tbody>\n",
       "</table>\n",
       "</div>"
      ],
      "text/plain": [
       "                                                          0   \\\n",
       "Stannis                                              nothing   \n",
       "Davos                                                          \n",
       "Gilly                                                  world   \n",
       "Tyrion     would make time together truly enjoyable would...   \n",
       "Missandei                                valyrian three days   \n",
       "\n",
       "                            1   \\\n",
       "Stannis    youre samwell tarly   \n",
       "Davos                 uh grace   \n",
       "Gilly               grew books   \n",
       "Tyrion           person drinks   \n",
       "Missandei  valyrian failed one   \n",
       "\n",
       "                                                       2   \\\n",
       "Stannis                            dont look like soldier   \n",
       "Davos      ill choose dozen men stay guard queen princess   \n",
       "Gilly                                              wheres   \n",
       "Tyrion                                       sailed route   \n",
       "Missandei                                  men fear death   \n",
       "\n",
       "                                                          3                4   \\\n",
       "Stannis                                                           dragonglass   \n",
       "Davos                                 tough road ahead grace       beg pardon   \n",
       "Gilly                              im sorry dont know things      wash linens   \n",
       "Tyrion     youre going bring daenerys souvenir ancestral ...    demons flames   \n",
       "Missandei                    grace think fit opinion matters  tell seen grace   \n",
       "\n",
       "                                                5            6   \\\n",
       "Stannis    lady melisandre told death marches wall         seen   \n",
       "Davos       aye princess wont anywhere near selyse    yes queen   \n",
       "Gilly                           like maester aemon         None   \n",
       "Tyrion                                          oh  smoking sea   \n",
       "Missandei                                     None         None   \n",
       "\n",
       "                                   7                      8   \\\n",
       "Stannis    jon snow returns wildlings  need theyre coming us   \n",
       "Davos                            well                   None   \n",
       "Gilly                            None                   None   \n",
       "Tyrion                         werent                suppose   \n",
       "Missandei                        None                   None   \n",
       "\n",
       "                                  9                 10       11           12  \\\n",
       "Stannis    hope know youre wildlings              None     None         None   \n",
       "Davos                           None              None     None         None   \n",
       "Gilly                           None              None     None         None   \n",
       "Tyrion                                mormont cut free  mormont  shakes head   \n",
       "Missandei                       None              None     None         None   \n",
       "\n",
       "                                           13            14  \\\n",
       "Stannis                                  None          None   \n",
       "Davos                                    None          None   \n",
       "Gilly                                    None          None   \n",
       "Tyrion     itd kinder put daggers hearts done  without luck   \n",
       "Missandei                                None          None   \n",
       "\n",
       "                                  15    16    17    18    19    20    21  \\\n",
       "Stannis                         None  None  None  None  None  None  None   \n",
       "Davos                           None  None  None  None  None  None  None   \n",
       "Gilly                           None  None  None  None  None  None  None   \n",
       "Tyrion     thats best idea youve day  None  None  None  None  None  None   \n",
       "Missandei                       None  None  None  None  None  None  None   \n",
       "\n",
       "             22    23    24    25    26    27    28    29  \n",
       "Stannis    None  None  None  None  None  None  None  None  \n",
       "Davos      None  None  None  None  None  None  None  None  \n",
       "Gilly      None  None  None  None  None  None  None  None  \n",
       "Tyrion     None  None  None  None  None  None  None  None  \n",
       "Missandei  None  None  None  None  None  None  None  None  "
      ]
     },
     "execution_count": 111,
     "metadata": {},
     "output_type": "execute_result"
    }
   ],
   "source": [
    "episode_five.head()"
   ]
  },
  {
   "cell_type": "markdown",
   "metadata": {},
   "source": [
    "### Episode Six"
   ]
  },
  {
   "cell_type": "code",
   "execution_count": 112,
   "metadata": {
    "scrolled": true
   },
   "outputs": [],
   "source": [
    "#df_s5.script_text[5]"
   ]
  },
  {
   "cell_type": "code",
   "execution_count": 113,
   "metadata": {},
   "outputs": [
    {
     "name": "stdout",
     "output_type": "stream",
     "text": [
      "<type 'list'>\n"
     ]
    }
   ],
   "source": [
    "script_text5_06 = df_s5.script_text[5]\n",
    "print type(script_text5_06)\n",
    "\n",
    "#script_text5_06"
   ]
  },
  {
   "cell_type": "code",
   "execution_count": 114,
   "metadata": {
    "scrolled": true
   },
   "outputs": [],
   "source": [
    "script_split6 = [i.split('\\n') for i in script_text5_06]\n",
    "#script_split6"
   ]
  },
  {
   "cell_type": "code",
   "execution_count": 115,
   "metadata": {
    "collapsed": true
   },
   "outputs": [],
   "source": [
    "string_script_text6 = ' '\n",
    "\n",
    "for i in script_split6:\n",
    "    for e in i:\n",
    "        string_script_text6 = string_script_text6 + ' ' + e"
   ]
  },
  {
   "cell_type": "code",
   "execution_count": 116,
   "metadata": {},
   "outputs": [],
   "source": [
    "#string_script_text6"
   ]
  },
  {
   "cell_type": "code",
   "execution_count": 117,
   "metadata": {},
   "outputs": [],
   "source": [
    "words6 = word_tokenize(string_script_text6)\n",
    "#words6"
   ]
  },
  {
   "cell_type": "code",
   "execution_count": 118,
   "metadata": {
    "scrolled": true
   },
   "outputs": [],
   "source": [
    "sentences6 = sent_tokenize(string_script_text6)\n",
    "#sentences6"
   ]
  },
  {
   "cell_type": "code",
   "execution_count": 119,
   "metadata": {
    "collapsed": true,
    "scrolled": false
   },
   "outputs": [],
   "source": [
    "dialogue6 = []\n",
    "\n",
    "for sentence in sentences6:\n",
    "    words=sentence.split(':')[0]\n",
    "    if len(words.split())<=2:\n",
    "        if words in (names5_06):\n",
    "            dialogue6.append(sentence)"
   ]
  },
  {
   "cell_type": "code",
   "execution_count": 120,
   "metadata": {
    "scrolled": true
   },
   "outputs": [],
   "source": [
    "#dialogue6"
   ]
  },
  {
   "cell_type": "code",
   "execution_count": 121,
   "metadata": {
    "collapsed": true
   },
   "outputs": [],
   "source": [
    "import pickle\n",
    "with open('/Users/zoemarkovits/Metis/project_five_got/Dialogue_PKLs/s506.pkl', 'wb') as f:\n",
    "    pickle.dump(dialogue6, f)"
   ]
  },
  {
   "cell_type": "code",
   "execution_count": 122,
   "metadata": {
    "scrolled": true
   },
   "outputs": [],
   "source": [
    "from collections import defaultdict\n",
    "\n",
    "speakers6 = defaultdict(list)\n",
    "for sentence in dialogue6:\n",
    "    speakers6[sentence.split(':')[0]].append(sentence.split(':')[1])\n",
    "\n",
    "#speakers6"
   ]
  },
  {
   "cell_type": "code",
   "execution_count": 123,
   "metadata": {
    "scrolled": false
   },
   "outputs": [
    {
     "data": {
      "text/plain": [
       "[u' No!',\n",
       " u' When?',\n",
       " u' When do I get to play the game?',\n",
       " u' The game.',\n",
       " u' I didn\\u2019t even know I was playing.',\n",
       " u' No one.',\n",
       " u' Well who are you?',\n",
       " u' What?',\n",
       " u' Arya.',\n",
       " u' Westeros.',\n",
       " u' After he was executed I fled the capital.',\n",
       " u' I stabbed him in the gut.',\n",
       " u' A man called the Hound.',\n",
       " u' Yes.',\n",
       " u' Valar dohaeris.',\n",
       " u'          INT.']"
      ]
     },
     "execution_count": 123,
     "metadata": {},
     "output_type": "execute_result"
    }
   ],
   "source": [
    "speakers6['ARYA']"
   ]
  },
  {
   "cell_type": "code",
   "execution_count": 124,
   "metadata": {
    "scrolled": true
   },
   "outputs": [
    {
     "name": "stdout",
     "output_type": "stream",
     "text": [
      "(29, 24)\n"
     ]
    }
   ],
   "source": [
    "episode_six = pd.DataFrame.from_dict(speakers6, orient=\"index\")\n",
    "print episode_six.shape"
   ]
  },
  {
   "cell_type": "code",
   "execution_count": 125,
   "metadata": {
    "collapsed": true
   },
   "outputs": [],
   "source": [
    "#from numpy import nan\n",
    "#episode_six.fillna(value=str(0), inplace=True)"
   ]
  },
  {
   "cell_type": "code",
   "execution_count": 126,
   "metadata": {
    "scrolled": true
   },
   "outputs": [],
   "source": [
    "#episode_six.info()"
   ]
  },
  {
   "cell_type": "code",
   "execution_count": 127,
   "metadata": {},
   "outputs": [],
   "source": [
    "#episode_six.head()"
   ]
  },
  {
   "cell_type": "code",
   "execution_count": 128,
   "metadata": {
    "scrolled": true
   },
   "outputs": [],
   "source": [
    "test6 = episode_six[0].apply(remove_stops)\n",
    "#test6"
   ]
  },
  {
   "cell_type": "code",
   "execution_count": 129,
   "metadata": {
    "collapsed": true,
    "scrolled": false
   },
   "outputs": [],
   "source": [
    "for column in episode_six.columns:\n",
    "    for x in range(len(episode_six[column])):\n",
    "        episode_six[column][x] = remove_stops(episode_six[column][x])"
   ]
  },
  {
   "cell_type": "code",
   "execution_count": 130,
   "metadata": {},
   "outputs": [
    {
     "data": {
      "text/plain": [
       "(29, 24)"
      ]
     },
     "execution_count": 130,
     "metadata": {},
     "output_type": "execute_result"
    }
   ],
   "source": [
    "episode_six.index = episode_six.index.str.title()\n",
    "\n",
    "episode_six.shape"
   ]
  },
  {
   "cell_type": "code",
   "execution_count": 131,
   "metadata": {
    "scrolled": true
   },
   "outputs": [
    {
     "data": {
      "text/html": [
       "<div>\n",
       "<table border=\"1\" class=\"dataframe\">\n",
       "  <thead>\n",
       "    <tr style=\"text-align: right;\">\n",
       "      <th></th>\n",
       "      <th>0</th>\n",
       "      <th>1</th>\n",
       "      <th>2</th>\n",
       "      <th>3</th>\n",
       "      <th>4</th>\n",
       "      <th>5</th>\n",
       "      <th>6</th>\n",
       "      <th>7</th>\n",
       "      <th>8</th>\n",
       "      <th>9</th>\n",
       "      <th>10</th>\n",
       "      <th>11</th>\n",
       "      <th>12</th>\n",
       "      <th>13</th>\n",
       "      <th>14</th>\n",
       "      <th>15</th>\n",
       "      <th>16</th>\n",
       "      <th>17</th>\n",
       "      <th>18</th>\n",
       "      <th>19</th>\n",
       "      <th>20</th>\n",
       "      <th>21</th>\n",
       "      <th>22</th>\n",
       "      <th>23</th>\n",
       "    </tr>\n",
       "  </thead>\n",
       "  <tbody>\n",
       "    <tr>\n",
       "      <th>Bronn</th>\n",
       "      <td>im coming best part</td>\n",
       "      <td>jaime</td>\n",
       "      <td>got princess</td>\n",
       "      <td>explains golden hand</td>\n",
       "      <td>dont let time alone son</td>\n",
       "      <td>lets something stupid</td>\n",
       "      <td>something stupid</td>\n",
       "      <td>None</td>\n",
       "      <td>None</td>\n",
       "      <td>None</td>\n",
       "      <td>None</td>\n",
       "      <td>None</td>\n",
       "      <td>None</td>\n",
       "      <td>None</td>\n",
       "      <td>None</td>\n",
       "      <td>None</td>\n",
       "      <td>None</td>\n",
       "      <td>None</td>\n",
       "      <td>None</td>\n",
       "      <td>None</td>\n",
       "      <td>None</td>\n",
       "      <td>None</td>\n",
       "      <td>None</td>\n",
       "      <td>None</td>\n",
       "    </tr>\n",
       "    <tr>\n",
       "      <th>Jaime</th>\n",
       "      <td>trying blend</td>\n",
       "      <td>thats water gardens</td>\n",
       "      <td>like improvise</td>\n",
       "      <td>myrcella</td>\n",
       "      <td>lets speak private</td>\n",
       "      <td>excellent</td>\n",
       "      <td>go myrcella</td>\n",
       "      <td>youll fine promise bronn</td>\n",
       "      <td>None</td>\n",
       "      <td>None</td>\n",
       "      <td>None</td>\n",
       "      <td>None</td>\n",
       "      <td>None</td>\n",
       "      <td>None</td>\n",
       "      <td>None</td>\n",
       "      <td>None</td>\n",
       "      <td>None</td>\n",
       "      <td>None</td>\n",
       "      <td>None</td>\n",
       "      <td>None</td>\n",
       "      <td>None</td>\n",
       "      <td>None</td>\n",
       "      <td>None</td>\n",
       "      <td>None</td>\n",
       "    </tr>\n",
       "    <tr>\n",
       "      <th>Tyrion</th>\n",
       "      <td>youre hungry</td>\n",
       "      <td>youre awful travelling companion know</td>\n",
       "      <td>travelling together</td>\n",
       "      <td>jorah</td>\n",
       "      <td>never occurred ask</td>\n",
       "      <td>killed father</td>\n",
       "      <td>miserable mormont least father good man</td>\n",
       "      <td>asked men knew stories every one</td>\n",
       "      <td>know heard jorah stronger</td>\n",
       "      <td>leading expedition beyond wall</td>\n",
       "      <td>believe many things</td>\n",
       "      <td></td>\n",
       "      <td></td>\n",
       "      <td>doesnt mean shes going great queen</td>\n",
       "      <td>conquers world</td>\n",
       "      <td></td>\n",
       "      <td>thats justice</td>\n",
       "      <td>father burned living men amusement king</td>\n",
       "      <td>wait wait</td>\n",
       "      <td>wait wait wait wait</td>\n",
       "      <td>malko</td>\n",
       "      <td>fighting puts mereen</td>\n",
       "      <td>looks jorah</td>\n",
       "      <td>tyrion</td>\n",
       "    </tr>\n",
       "    <tr>\n",
       "      <th>Malko</th>\n",
       "      <td>galley slave</td>\n",
       "      <td>worthless</td>\n",
       "      <td>chop cock</td>\n",
       "      <td>bound volantis slavers bay</td>\n",
       "      <td></td>\n",
       "      <td>jousting</td>\n",
       "      <td>liar</td>\n",
       "      <td>None</td>\n",
       "      <td>None</td>\n",
       "      <td>None</td>\n",
       "      <td>None</td>\n",
       "      <td>None</td>\n",
       "      <td>None</td>\n",
       "      <td>None</td>\n",
       "      <td>None</td>\n",
       "      <td>None</td>\n",
       "      <td>None</td>\n",
       "      <td>None</td>\n",
       "      <td>None</td>\n",
       "      <td>None</td>\n",
       "      <td>None</td>\n",
       "      <td>None</td>\n",
       "      <td>None</td>\n",
       "      <td>None</td>\n",
       "    </tr>\n",
       "    <tr>\n",
       "      <th>Girl</th>\n",
       "      <td>hurts</td>\n",
       "      <td>None</td>\n",
       "      <td>None</td>\n",
       "      <td>None</td>\n",
       "      <td>None</td>\n",
       "      <td>None</td>\n",
       "      <td>None</td>\n",
       "      <td>None</td>\n",
       "      <td>None</td>\n",
       "      <td>None</td>\n",
       "      <td>None</td>\n",
       "      <td>None</td>\n",
       "      <td>None</td>\n",
       "      <td>None</td>\n",
       "      <td>None</td>\n",
       "      <td>None</td>\n",
       "      <td>None</td>\n",
       "      <td>None</td>\n",
       "      <td>None</td>\n",
       "      <td>None</td>\n",
       "      <td>None</td>\n",
       "      <td>None</td>\n",
       "      <td>None</td>\n",
       "      <td>None</td>\n",
       "    </tr>\n",
       "  </tbody>\n",
       "</table>\n",
       "</div>"
      ],
      "text/plain": [
       "                         0                                      1   \\\n",
       "Bronn   im coming best part                                  jaime   \n",
       "Jaime          trying blend                    thats water gardens   \n",
       "Tyrion         youre hungry  youre awful travelling companion know   \n",
       "Malko          galley slave                              worthless   \n",
       "Girl                  hurts                                   None   \n",
       "\n",
       "                         2                           3   \\\n",
       "Bronn          got princess        explains golden hand   \n",
       "Jaime        like improvise                    myrcella   \n",
       "Tyrion  travelling together                       jorah   \n",
       "Malko             chop cock  bound volantis slavers bay   \n",
       "Girl                   None                        None   \n",
       "\n",
       "                             4                      5   \\\n",
       "Bronn   dont let time alone son  lets something stupid   \n",
       "Jaime        lets speak private              excellent   \n",
       "Tyrion       never occurred ask          killed father   \n",
       "Malko                                         jousting   \n",
       "Girl                       None                   None   \n",
       "\n",
       "                                             6   \\\n",
       "Bronn                          something stupid   \n",
       "Jaime                               go myrcella   \n",
       "Tyrion  miserable mormont least father good man   \n",
       "Malko                                      liar   \n",
       "Girl                                       None   \n",
       "\n",
       "                                      7                          8   \\\n",
       "Bronn                               None                       None   \n",
       "Jaime           youll fine promise bronn                       None   \n",
       "Tyrion  asked men knew stories every one  know heard jorah stronger   \n",
       "Malko                               None                       None   \n",
       "Girl                                None                       None   \n",
       "\n",
       "                                    9                    10    11    12  \\\n",
       "Bronn                             None                 None  None  None   \n",
       "Jaime                             None                 None  None  None   \n",
       "Tyrion  leading expedition beyond wall  believe many things               \n",
       "Malko                             None                 None  None  None   \n",
       "Girl                              None                 None  None  None   \n",
       "\n",
       "                                        13              14    15  \\\n",
       "Bronn                                 None            None  None   \n",
       "Jaime                                 None            None  None   \n",
       "Tyrion  doesnt mean shes going great queen  conquers world         \n",
       "Malko                                 None            None  None   \n",
       "Girl                                  None            None  None   \n",
       "\n",
       "                   16                                       17         18  \\\n",
       "Bronn            None                                     None       None   \n",
       "Jaime            None                                     None       None   \n",
       "Tyrion  thats justice  father burned living men amusement king  wait wait   \n",
       "Malko            None                                     None       None   \n",
       "Girl             None                                     None       None   \n",
       "\n",
       "                         19     20                    21           22      23  \n",
       "Bronn                  None   None                  None         None    None  \n",
       "Jaime                  None   None                  None         None    None  \n",
       "Tyrion  wait wait wait wait  malko  fighting puts mereen  looks jorah  tyrion  \n",
       "Malko                  None   None                  None         None    None  \n",
       "Girl                   None   None                  None         None    None  "
      ]
     },
     "execution_count": 131,
     "metadata": {},
     "output_type": "execute_result"
    }
   ],
   "source": [
    "episode_six.head()"
   ]
  },
  {
   "cell_type": "markdown",
   "metadata": {},
   "source": [
    "### Episode Seven"
   ]
  },
  {
   "cell_type": "code",
   "execution_count": 132,
   "metadata": {
    "scrolled": true
   },
   "outputs": [],
   "source": [
    "#df_s5.script_text[6]"
   ]
  },
  {
   "cell_type": "code",
   "execution_count": 133,
   "metadata": {},
   "outputs": [
    {
     "name": "stdout",
     "output_type": "stream",
     "text": [
      "<type 'list'>\n"
     ]
    }
   ],
   "source": [
    "script_text5_07 = df_s5.script_text[6]\n",
    "print type(script_text5_07)\n",
    "\n",
    "#script_text5_07"
   ]
  },
  {
   "cell_type": "code",
   "execution_count": 134,
   "metadata": {
    "scrolled": true
   },
   "outputs": [],
   "source": [
    "script_split7 = [i.split('\\n') for i in script_text5_07]\n",
    "#script_split7"
   ]
  },
  {
   "cell_type": "code",
   "execution_count": 135,
   "metadata": {
    "collapsed": true
   },
   "outputs": [],
   "source": [
    "string_script_text7 = ' '\n",
    "\n",
    "for i in script_split7:\n",
    "    for e in i:\n",
    "        string_script_text7 = string_script_text7 + ' ' + e"
   ]
  },
  {
   "cell_type": "code",
   "execution_count": 136,
   "metadata": {},
   "outputs": [],
   "source": [
    "#string_script_text7"
   ]
  },
  {
   "cell_type": "code",
   "execution_count": 137,
   "metadata": {},
   "outputs": [],
   "source": [
    "words7 = word_tokenize(string_script_text7)\n",
    "#words7"
   ]
  },
  {
   "cell_type": "code",
   "execution_count": 138,
   "metadata": {
    "scrolled": true
   },
   "outputs": [],
   "source": [
    "sentences7 = sent_tokenize(string_script_text7)\n",
    "#sentences7"
   ]
  },
  {
   "cell_type": "code",
   "execution_count": 139,
   "metadata": {
    "collapsed": true,
    "scrolled": false
   },
   "outputs": [],
   "source": [
    "dialogue7 = []\n",
    "\n",
    "for sentence in sentences7:\n",
    "    words=sentence.split(':')[0]\n",
    "    if len(words.split())<=2:\n",
    "        if words in (names5_07):\n",
    "            dialogue7.append(sentence)"
   ]
  },
  {
   "cell_type": "code",
   "execution_count": 140,
   "metadata": {
    "scrolled": true
   },
   "outputs": [],
   "source": [
    "#dialogue7"
   ]
  },
  {
   "cell_type": "code",
   "execution_count": 141,
   "metadata": {
    "collapsed": true
   },
   "outputs": [],
   "source": [
    "import pickle\n",
    "with open('/Users/zoemarkovits/Metis/project_five_got/Dialogue_PKLs/s507.pkl', 'wb') as f:\n",
    "    pickle.dump(dialogue7, f)"
   ]
  },
  {
   "cell_type": "code",
   "execution_count": 142,
   "metadata": {
    "scrolled": true
   },
   "outputs": [],
   "source": [
    "from collections import defaultdict\n",
    "\n",
    "speakers7 = defaultdict(list)\n",
    "for sentence in dialogue7:\n",
    "    speakers7[sentence.split(':')[0]].append(sentence.split(':')[1])\n",
    "\n",
    "#speakers7"
   ]
  },
  {
   "cell_type": "code",
   "execution_count": 143,
   "metadata": {
    "scrolled": false
   },
   "outputs": [
    {
     "data": {
      "text/plain": [
       "[u' I\\u2019m sorry about the locale.',\n",
       " u' It felt like the safest place.',\n",
       " u' It was an establishment like no other.',\n",
       " u' The past is the past.',\n",
       " u' I promise you..    OLENNA',\n",
       " u' Cersei summoned me to King\\u2019s Landing.',\n",
       " u' A piece of info that she know that I had.']"
      ]
     },
     "execution_count": 143,
     "metadata": {},
     "output_type": "execute_result"
    }
   ],
   "source": [
    "speakers7['BAELISH']"
   ]
  },
  {
   "cell_type": "code",
   "execution_count": 144,
   "metadata": {
    "scrolled": true
   },
   "outputs": [
    {
     "name": "stdout",
     "output_type": "stream",
     "text": [
      "(36, 20)\n"
     ]
    }
   ],
   "source": [
    "episode_seven = pd.DataFrame.from_dict(speakers7, orient=\"index\")\n",
    "print episode_seven.shape"
   ]
  },
  {
   "cell_type": "code",
   "execution_count": 145,
   "metadata": {
    "collapsed": true
   },
   "outputs": [],
   "source": [
    "#from numpy import nan\n",
    "#episode_seven.fillna(value=str(0), inplace=True)"
   ]
  },
  {
   "cell_type": "code",
   "execution_count": 146,
   "metadata": {
    "scrolled": true
   },
   "outputs": [],
   "source": [
    "#episode_seven.info()"
   ]
  },
  {
   "cell_type": "code",
   "execution_count": 147,
   "metadata": {
    "scrolled": true
   },
   "outputs": [],
   "source": [
    "#episode_seven.head()"
   ]
  },
  {
   "cell_type": "code",
   "execution_count": 148,
   "metadata": {
    "scrolled": true
   },
   "outputs": [],
   "source": [
    "test7 = episode_seven[0].apply(remove_stops)\n",
    "#test7"
   ]
  },
  {
   "cell_type": "code",
   "execution_count": 149,
   "metadata": {
    "collapsed": true,
    "scrolled": false
   },
   "outputs": [],
   "source": [
    "for column in episode_seven.columns:\n",
    "    for x in range(len(episode_seven[column])):\n",
    "        episode_seven[column][x] = remove_stops(episode_seven[column][x])"
   ]
  },
  {
   "cell_type": "code",
   "execution_count": 150,
   "metadata": {},
   "outputs": [
    {
     "data": {
      "text/plain": [
       "(36, 20)"
      ]
     },
     "execution_count": 150,
     "metadata": {},
     "output_type": "execute_result"
    }
   ],
   "source": [
    "episode_seven.index = episode_seven.index.str.title()\n",
    "\n",
    "episode_seven.shape"
   ]
  },
  {
   "cell_type": "code",
   "execution_count": 152,
   "metadata": {
    "scrolled": false
   },
   "outputs": [
    {
     "data": {
      "text/html": [
       "<div>\n",
       "<table border=\"1\" class=\"dataframe\">\n",
       "  <thead>\n",
       "    <tr style=\"text-align: right;\">\n",
       "      <th></th>\n",
       "      <th>0</th>\n",
       "      <th>1</th>\n",
       "      <th>2</th>\n",
       "      <th>3</th>\n",
       "      <th>4</th>\n",
       "      <th>5</th>\n",
       "      <th>6</th>\n",
       "      <th>7</th>\n",
       "      <th>8</th>\n",
       "      <th>9</th>\n",
       "      <th>10</th>\n",
       "      <th>11</th>\n",
       "      <th>12</th>\n",
       "      <th>13</th>\n",
       "      <th>14</th>\n",
       "      <th>15</th>\n",
       "      <th>16</th>\n",
       "      <th>17</th>\n",
       "      <th>18</th>\n",
       "      <th>19</th>\n",
       "    </tr>\n",
       "  </thead>\n",
       "  <tbody>\n",
       "    <tr>\n",
       "      <th>Stannis</th>\n",
       "      <td>else</td>\n",
       "      <td>sell swords loyal nothing gold</td>\n",
       "      <td></td>\n",
       "      <td>davos</td>\n",
       "      <td>right time risk everything</td>\n",
       "      <td>dont know saw</td>\n",
       "      <td>trust</td>\n",
       "      <td>sure</td>\n",
       "      <td>dont roberts bastard</td>\n",
       "      <td>must another way</td>\n",
       "      <td>shes daughter</td>\n",
       "      <td>get</td>\n",
       "      <td>None</td>\n",
       "      <td>None</td>\n",
       "      <td>None</td>\n",
       "      <td>None</td>\n",
       "      <td>None</td>\n",
       "      <td>None</td>\n",
       "      <td>None</td>\n",
       "      <td>None</td>\n",
       "    </tr>\n",
       "    <tr>\n",
       "      <th>Davos</th>\n",
       "      <td>stannis</td>\n",
       "      <td>still hard march wintefell wont marching anywh...</td>\n",
       "      <td>isnt time head back castle black snow clears</td>\n",
       "      <td>better wait right time risk everything</td>\n",
       "      <td>None</td>\n",
       "      <td>None</td>\n",
       "      <td>None</td>\n",
       "      <td>None</td>\n",
       "      <td>None</td>\n",
       "      <td>None</td>\n",
       "      <td>None</td>\n",
       "      <td>None</td>\n",
       "      <td>None</td>\n",
       "      <td>None</td>\n",
       "      <td>None</td>\n",
       "      <td>None</td>\n",
       "      <td>None</td>\n",
       "      <td>None</td>\n",
       "      <td>None</td>\n",
       "      <td>None</td>\n",
       "    </tr>\n",
       "    <tr>\n",
       "      <th>Jorah</th>\n",
       "      <td>khaleesi please need moment time</td>\n",
       "      <td>None</td>\n",
       "      <td>None</td>\n",
       "      <td>None</td>\n",
       "      <td>None</td>\n",
       "      <td>None</td>\n",
       "      <td>None</td>\n",
       "      <td>None</td>\n",
       "      <td>None</td>\n",
       "      <td>None</td>\n",
       "      <td>None</td>\n",
       "      <td>None</td>\n",
       "      <td>None</td>\n",
       "      <td>None</td>\n",
       "      <td>None</td>\n",
       "      <td>None</td>\n",
       "      <td>None</td>\n",
       "      <td>None</td>\n",
       "      <td>None</td>\n",
       "      <td>None</td>\n",
       "    </tr>\n",
       "    <tr>\n",
       "      <th>Slave Buyer</th>\n",
       "      <td></td>\n",
       "      <td>None</td>\n",
       "      <td>None</td>\n",
       "      <td>None</td>\n",
       "      <td>None</td>\n",
       "      <td>None</td>\n",
       "      <td>None</td>\n",
       "      <td>None</td>\n",
       "      <td>None</td>\n",
       "      <td>None</td>\n",
       "      <td>None</td>\n",
       "      <td>None</td>\n",
       "      <td>None</td>\n",
       "      <td>None</td>\n",
       "      <td>None</td>\n",
       "      <td>None</td>\n",
       "      <td>None</td>\n",
       "      <td>None</td>\n",
       "      <td>None</td>\n",
       "      <td>None</td>\n",
       "    </tr>\n",
       "    <tr>\n",
       "      <th>Melisandre</th>\n",
       "      <td>saw king stared flames</td>\n",
       "      <td>know</td>\n",
       "      <td>trust lord</td>\n",
       "      <td>seen walk along battlements wintefell</td>\n",
       "      <td>sometimes sacrifices must made ensure victory</td>\n",
       "      <td>stannis</td>\n",
       "      <td>doubt still</td>\n",
       "      <td>one way</td>\n",
       "      <td>None</td>\n",
       "      <td>None</td>\n",
       "      <td>None</td>\n",
       "      <td>None</td>\n",
       "      <td>None</td>\n",
       "      <td>None</td>\n",
       "      <td>None</td>\n",
       "      <td>None</td>\n",
       "      <td>None</td>\n",
       "      <td>None</td>\n",
       "      <td>None</td>\n",
       "      <td>None</td>\n",
       "    </tr>\n",
       "  </tbody>\n",
       "</table>\n",
       "</div>"
      ],
      "text/plain": [
       "                                           0   \\\n",
       "Stannis                                  else   \n",
       "Davos                                 stannis   \n",
       "Jorah        khaleesi please need moment time   \n",
       "Slave Buyer                                     \n",
       "Melisandre             saw king stared flames   \n",
       "\n",
       "                                                            1   \\\n",
       "Stannis                         sell swords loyal nothing gold   \n",
       "Davos        still hard march wintefell wont marching anywh...   \n",
       "Jorah                                                     None   \n",
       "Slave Buyer                                               None   \n",
       "Melisandre                                                know   \n",
       "\n",
       "                                                       2   \\\n",
       "Stannis                                                     \n",
       "Davos        isnt time head back castle black snow clears   \n",
       "Jorah                                                None   \n",
       "Slave Buyer                                          None   \n",
       "Melisandre                                     trust lord   \n",
       "\n",
       "                                                 3   \\\n",
       "Stannis                                       davos   \n",
       "Davos        better wait right time risk everything   \n",
       "Jorah                                          None   \n",
       "Slave Buyer                                    None   \n",
       "Melisandre    seen walk along battlements wintefell   \n",
       "\n",
       "                                                        4              5   \\\n",
       "Stannis                         right time risk everything  dont know saw   \n",
       "Davos                                                 None           None   \n",
       "Jorah                                                 None           None   \n",
       "Slave Buyer                                           None           None   \n",
       "Melisandre   sometimes sacrifices must made ensure victory        stannis   \n",
       "\n",
       "                      6        7                     8                 9   \\\n",
       "Stannis            trust     sure  dont roberts bastard  must another way   \n",
       "Davos               None     None                  None              None   \n",
       "Jorah               None     None                  None              None   \n",
       "Slave Buyer         None     None                  None              None   \n",
       "Melisandre   doubt still  one way                  None              None   \n",
       "\n",
       "                        10    11    12    13    14    15    16    17    18  \\\n",
       "Stannis      shes daughter   get  None  None  None  None  None  None  None   \n",
       "Davos                 None  None  None  None  None  None  None  None  None   \n",
       "Jorah                 None  None  None  None  None  None  None  None  None   \n",
       "Slave Buyer           None  None  None  None  None  None  None  None  None   \n",
       "Melisandre            None  None  None  None  None  None  None  None  None   \n",
       "\n",
       "               19  \n",
       "Stannis      None  \n",
       "Davos        None  \n",
       "Jorah        None  \n",
       "Slave Buyer  None  \n",
       "Melisandre   None  "
      ]
     },
     "execution_count": 152,
     "metadata": {},
     "output_type": "execute_result"
    }
   ],
   "source": [
    "episode_seven.head()"
   ]
  },
  {
   "cell_type": "markdown",
   "metadata": {},
   "source": [
    "### Episode Eight"
   ]
  },
  {
   "cell_type": "code",
   "execution_count": 153,
   "metadata": {
    "scrolled": true
   },
   "outputs": [],
   "source": [
    "#df_s5.script_text[7]"
   ]
  },
  {
   "cell_type": "code",
   "execution_count": 154,
   "metadata": {},
   "outputs": [
    {
     "name": "stdout",
     "output_type": "stream",
     "text": [
      "<type 'list'>\n"
     ]
    }
   ],
   "source": [
    "script_text5_08 = df_s5.script_text[7]\n",
    "print type(script_text5_08)\n",
    "\n",
    "#script_text5_08"
   ]
  },
  {
   "cell_type": "code",
   "execution_count": 155,
   "metadata": {
    "scrolled": true
   },
   "outputs": [],
   "source": [
    "script_split8 = [i.split('\\n') for i in script_text5_08]\n",
    "#script_split8"
   ]
  },
  {
   "cell_type": "code",
   "execution_count": 156,
   "metadata": {
    "collapsed": true
   },
   "outputs": [],
   "source": [
    "string_script_text8 = ' '\n",
    "\n",
    "for i in script_split8:\n",
    "    for e in i:\n",
    "        string_script_text8 = string_script_text8 + ' ' + e"
   ]
  },
  {
   "cell_type": "code",
   "execution_count": 157,
   "metadata": {},
   "outputs": [],
   "source": [
    "#string_script_text8"
   ]
  },
  {
   "cell_type": "code",
   "execution_count": 158,
   "metadata": {},
   "outputs": [],
   "source": [
    "words8 = word_tokenize(string_script_text8)\n",
    "#words8"
   ]
  },
  {
   "cell_type": "code",
   "execution_count": 159,
   "metadata": {
    "scrolled": true
   },
   "outputs": [],
   "source": [
    "sentences8 = sent_tokenize(string_script_text8)\n",
    "#sentences8"
   ]
  },
  {
   "cell_type": "code",
   "execution_count": 160,
   "metadata": {
    "scrolled": false
   },
   "outputs": [
    {
     "name": "stderr",
     "output_type": "stream",
     "text": [
      "/Users/zoemarkovits/anaconda/lib/python2.7/site-packages/ipykernel_launcher.py:6: UnicodeWarning: Unicode equal comparison failed to convert both arguments to Unicode - interpreting them as being unequal\n",
      "  \n"
     ]
    }
   ],
   "source": [
    "dialogue8 = []\n",
    "\n",
    "for sentence in sentences8:\n",
    "    words=sentence.split(':')[0]\n",
    "    if len(words.split())<=2:\n",
    "        if words in (names5_08):\n",
    "            dialogue8.append(sentence)"
   ]
  },
  {
   "cell_type": "code",
   "execution_count": 161,
   "metadata": {
    "scrolled": true
   },
   "outputs": [],
   "source": [
    "#dialogue8"
   ]
  },
  {
   "cell_type": "code",
   "execution_count": 162,
   "metadata": {
    "collapsed": true
   },
   "outputs": [],
   "source": [
    "import pickle\n",
    "with open('/Users/zoemarkovits/Metis/project_five_got/Dialogue_PKLs/s508.pkl', 'wb') as f:\n",
    "    pickle.dump(dialogue8, f)"
   ]
  },
  {
   "cell_type": "code",
   "execution_count": 163,
   "metadata": {
    "scrolled": true
   },
   "outputs": [],
   "source": [
    "from collections import defaultdict\n",
    "\n",
    "speakers8 = defaultdict(list)\n",
    "for sentence in dialogue8:\n",
    "    speakers8[sentence.split(':')[0]].append(sentence.split(':')[1])\n",
    "\n",
    "#speakers8"
   ]
  },
  {
   "cell_type": "code",
   "execution_count": 164,
   "metadata": {
    "scrolled": true
   },
   "outputs": [
    {
     "data": {
      "text/plain": [
       "[u' How will she serve him?',\n",
       " u' What will she do there?',\n",
       " u' See what?',\n",
       " u'         ARYA',\n",
       " u' Best in the city.',\n",
       " u' So why would a captain make the wager in the first place?',\n",
       " u' If the captain dies, the thin man pays his family a lot of money.',\n",
       " u' The Many Faced God.',\n",
       " u' And then what?']"
      ]
     },
     "execution_count": 164,
     "metadata": {},
     "output_type": "execute_result"
    }
   ],
   "source": [
    "speakers8['ARYA']"
   ]
  },
  {
   "cell_type": "code",
   "execution_count": 165,
   "metadata": {
    "scrolled": true
   },
   "outputs": [
    {
     "name": "stdout",
     "output_type": "stream",
     "text": [
      "(27, 31)\n"
     ]
    }
   ],
   "source": [
    "episode_eight = pd.DataFrame.from_dict(speakers8, orient=\"index\")\n",
    "print episode_eight.shape"
   ]
  },
  {
   "cell_type": "code",
   "execution_count": 165,
   "metadata": {
    "collapsed": true
   },
   "outputs": [],
   "source": [
    "#from numpy import nan\n",
    "#episode_eight.fillna(value=str(0), inplace=True)"
   ]
  },
  {
   "cell_type": "code",
   "execution_count": 166,
   "metadata": {
    "scrolled": true
   },
   "outputs": [],
   "source": [
    "#episode_eight.info()"
   ]
  },
  {
   "cell_type": "code",
   "execution_count": 167,
   "metadata": {},
   "outputs": [],
   "source": [
    "#episode_eight.head()"
   ]
  },
  {
   "cell_type": "code",
   "execution_count": 168,
   "metadata": {
    "scrolled": true
   },
   "outputs": [],
   "source": [
    "test8 = episode_eight[0].apply(remove_stops)\n",
    "#test8"
   ]
  },
  {
   "cell_type": "code",
   "execution_count": 169,
   "metadata": {
    "collapsed": true,
    "scrolled": false
   },
   "outputs": [],
   "source": [
    "for column in episode_eight.columns:\n",
    "    for x in range(len(episode_eight[column])):\n",
    "        episode_eight[column][x] = remove_stops(episode_eight[column][x])"
   ]
  },
  {
   "cell_type": "code",
   "execution_count": 170,
   "metadata": {},
   "outputs": [
    {
     "data": {
      "text/plain": [
       "(27, 31)"
      ]
     },
     "execution_count": 170,
     "metadata": {},
     "output_type": "execute_result"
    }
   ],
   "source": [
    "episode_eight.index = episode_eight.index.str.title()\n",
    "\n",
    "episode_eight.shape"
   ]
  },
  {
   "cell_type": "code",
   "execution_count": 171,
   "metadata": {
    "scrolled": true
   },
   "outputs": [
    {
     "data": {
      "text/html": [
       "<div>\n",
       "<table border=\"1\" class=\"dataframe\">\n",
       "  <thead>\n",
       "    <tr style=\"text-align: right;\">\n",
       "      <th></th>\n",
       "      <th>0</th>\n",
       "      <th>1</th>\n",
       "      <th>2</th>\n",
       "      <th>3</th>\n",
       "      <th>4</th>\n",
       "      <th>5</th>\n",
       "      <th>6</th>\n",
       "      <th>7</th>\n",
       "      <th>8</th>\n",
       "      <th>9</th>\n",
       "      <th>10</th>\n",
       "      <th>11</th>\n",
       "      <th>12</th>\n",
       "      <th>13</th>\n",
       "      <th>14</th>\n",
       "      <th>15</th>\n",
       "      <th>16</th>\n",
       "      <th>17</th>\n",
       "      <th>18</th>\n",
       "      <th>19</th>\n",
       "      <th>20</th>\n",
       "      <th>21</th>\n",
       "      <th>22</th>\n",
       "      <th>23</th>\n",
       "      <th>24</th>\n",
       "      <th>25</th>\n",
       "      <th>26</th>\n",
       "      <th>27</th>\n",
       "      <th>28</th>\n",
       "      <th>29</th>\n",
       "      <th>30</th>\n",
       "    </tr>\n",
       "  </thead>\n",
       "  <tbody>\n",
       "    <tr>\n",
       "      <th>Karsi</th>\n",
       "      <td>built wall keep us</td>\n",
       "      <td>beat white walkers</td>\n",
       "      <td>old stories dragonglass</td>\n",
       "      <td>things weve seen dont believe</td>\n",
       "      <td>come</td>\n",
       "      <td></td>\n",
       "      <td>lost father uncle brothers fighting damn crows</td>\n",
       "      <td>vouch man tormund</td>\n",
       "      <td>would mine fuck em theyre dead</td>\n",
       "      <td>johnna gonna look</td>\n",
       "      <td>need get old folks boats</td>\n",
       "      <td></td>\n",
       "      <td>dont think youre gonna enforce orders</td>\n",
       "      <td>None</td>\n",
       "      <td>None</td>\n",
       "      <td>None</td>\n",
       "      <td>None</td>\n",
       "      <td>None</td>\n",
       "      <td>None</td>\n",
       "      <td>None</td>\n",
       "      <td>None</td>\n",
       "      <td>None</td>\n",
       "      <td>None</td>\n",
       "      <td>None</td>\n",
       "      <td>None</td>\n",
       "      <td>None</td>\n",
       "      <td>None</td>\n",
       "      <td>None</td>\n",
       "      <td>None</td>\n",
       "      <td>None</td>\n",
       "      <td>None</td>\n",
       "    </tr>\n",
       "    <tr>\n",
       "      <th>Brother</th>\n",
       "      <td>youll never make jon</td>\n",
       "      <td>None</td>\n",
       "      <td>None</td>\n",
       "      <td>None</td>\n",
       "      <td>None</td>\n",
       "      <td>None</td>\n",
       "      <td>None</td>\n",
       "      <td>None</td>\n",
       "      <td>None</td>\n",
       "      <td>None</td>\n",
       "      <td>None</td>\n",
       "      <td>None</td>\n",
       "      <td>None</td>\n",
       "      <td>None</td>\n",
       "      <td>None</td>\n",
       "      <td>None</td>\n",
       "      <td>None</td>\n",
       "      <td>None</td>\n",
       "      <td>None</td>\n",
       "      <td>None</td>\n",
       "      <td>None</td>\n",
       "      <td>None</td>\n",
       "      <td>None</td>\n",
       "      <td>None</td>\n",
       "      <td>None</td>\n",
       "      <td>None</td>\n",
       "      <td>None</td>\n",
       "      <td>None</td>\n",
       "      <td>None</td>\n",
       "      <td>None</td>\n",
       "      <td>None</td>\n",
       "    </tr>\n",
       "    <tr>\n",
       "      <th>Olly</th>\n",
       "      <td>olly</td>\n",
       "      <td>heard happened</td>\n",
       "      <td>figured hungry</td>\n",
       "      <td>wanted ask something</td>\n",
       "      <td>lord commander</td>\n",
       "      <td>hes going hardhome save wildlings</td>\n",
       "      <td>wasnt fight</td>\n",
       "      <td>one hes travelling one red beard led raid village</td>\n",
       "      <td>let wildings gates cut throats sleep</td>\n",
       "      <td>believe</td>\n",
       "      <td>None</td>\n",
       "      <td>None</td>\n",
       "      <td>None</td>\n",
       "      <td>None</td>\n",
       "      <td>None</td>\n",
       "      <td>None</td>\n",
       "      <td>None</td>\n",
       "      <td>None</td>\n",
       "      <td>None</td>\n",
       "      <td>None</td>\n",
       "      <td>None</td>\n",
       "      <td>None</td>\n",
       "      <td>None</td>\n",
       "      <td>None</td>\n",
       "      <td>None</td>\n",
       "      <td>None</td>\n",
       "      <td>None</td>\n",
       "      <td>None</td>\n",
       "      <td>None</td>\n",
       "      <td>None</td>\n",
       "      <td>None</td>\n",
       "    </tr>\n",
       "    <tr>\n",
       "      <th>Tyrion</th>\n",
       "      <td>tyrion</td>\n",
       "      <td>daenerys</td>\n",
       "      <td>wealth lands army name handful supporters prob...</td>\n",
       "      <td>build better world</td>\n",
       "      <td>know</td>\n",
       "      <td>whomever ser jorah started informing longer man</td>\n",
       "      <td>opportunity confess betrayals</td>\n",
       "      <td></td>\n",
       "      <td>worships</td>\n",
       "      <td>ruler kills devoted ruler inspires devotion</td>\n",
       "      <td>decided yet whether youre going killed</td>\n",
       "      <td>see would think</td>\n",
       "      <td>father</td>\n",
       "      <td>day decide execute ill tell killed father</td>\n",
       "      <td>daenerys</td>\n",
       "      <td>danerys</td>\n",
       "      <td>see right kind terrible</td>\n",
       "      <td>kind prevents people even</td>\n",
       "      <td>yes wise</td>\n",
       "      <td>yes</td>\n",
       "      <td>survive</td>\n",
       "      <td>thats one</td>\n",
       "      <td>queenly prerogative</td>\n",
       "      <td></td>\n",
       "      <td>im going murdered im going banished daenerys</td>\n",
       "      <td>advise</td>\n",
       "      <td>iron throne</td>\n",
       "      <td>im entirely joking</td>\n",
       "      <td>get back home supports</td>\n",
       "      <td>lets generous assume thats going happen</td>\n",
       "      <td>daenerys</td>\n",
       "    </tr>\n",
       "    <tr>\n",
       "      <th>Daughter</th>\n",
       "      <td>wanna go</td>\n",
       "      <td>None</td>\n",
       "      <td>None</td>\n",
       "      <td>None</td>\n",
       "      <td>None</td>\n",
       "      <td>None</td>\n",
       "      <td>None</td>\n",
       "      <td>None</td>\n",
       "      <td>None</td>\n",
       "      <td>None</td>\n",
       "      <td>None</td>\n",
       "      <td>None</td>\n",
       "      <td>None</td>\n",
       "      <td>None</td>\n",
       "      <td>None</td>\n",
       "      <td>None</td>\n",
       "      <td>None</td>\n",
       "      <td>None</td>\n",
       "      <td>None</td>\n",
       "      <td>None</td>\n",
       "      <td>None</td>\n",
       "      <td>None</td>\n",
       "      <td>None</td>\n",
       "      <td>None</td>\n",
       "      <td>None</td>\n",
       "      <td>None</td>\n",
       "      <td>None</td>\n",
       "      <td>None</td>\n",
       "      <td>None</td>\n",
       "      <td>None</td>\n",
       "      <td>None</td>\n",
       "    </tr>\n",
       "  </tbody>\n",
       "</table>\n",
       "</div>"
      ],
      "text/plain": [
       "                            0                   1   \\\n",
       "Karsi       built wall keep us  beat white walkers   \n",
       "Brother   youll never make jon                None   \n",
       "Olly                      olly      heard happened   \n",
       "Tyrion                  tyrion            daenerys   \n",
       "Daughter              wanna go                None   \n",
       "\n",
       "                                                         2   \\\n",
       "Karsi                               old stories dragonglass   \n",
       "Brother                                                None   \n",
       "Olly                                         figured hungry   \n",
       "Tyrion    wealth lands army name handful supporters prob...   \n",
       "Daughter                                               None   \n",
       "\n",
       "                                     3               4   \\\n",
       "Karsi     things weve seen dont believe            come   \n",
       "Brother                            None            None   \n",
       "Olly               wanted ask something  lord commander   \n",
       "Tyrion               build better world            know   \n",
       "Daughter                           None            None   \n",
       "\n",
       "                                                       5   \\\n",
       "Karsi                                                       \n",
       "Brother                                              None   \n",
       "Olly                    hes going hardhome save wildlings   \n",
       "Tyrion    whomever ser jorah started informing longer man   \n",
       "Daughter                                             None   \n",
       "\n",
       "                                                      6   \\\n",
       "Karsi     lost father uncle brothers fighting damn crows   \n",
       "Brother                                             None   \n",
       "Olly                                         wasnt fight   \n",
       "Tyrion                     opportunity confess betrayals   \n",
       "Daughter                                            None   \n",
       "\n",
       "                                                         7   \\\n",
       "Karsi                                     vouch man tormund   \n",
       "Brother                                                None   \n",
       "Olly      one hes travelling one red beard led raid village   \n",
       "Tyrion                                                        \n",
       "Daughter                                               None   \n",
       "\n",
       "                                            8   \\\n",
       "Karsi           would mine fuck em theyre dead   \n",
       "Brother                                   None   \n",
       "Olly      let wildings gates cut throats sleep   \n",
       "Tyrion                                worships   \n",
       "Daughter                                  None   \n",
       "\n",
       "                                                   9   \\\n",
       "Karsi                               johnna gonna look   \n",
       "Brother                                          None   \n",
       "Olly                                          believe   \n",
       "Tyrion    ruler kills devoted ruler inspires devotion   \n",
       "Daughter                                         None   \n",
       "\n",
       "                                              10               11  \\\n",
       "Karsi                   need get old folks boats                    \n",
       "Brother                                     None             None   \n",
       "Olly                                        None             None   \n",
       "Tyrion    decided yet whether youre going killed  see would think   \n",
       "Daughter                                    None             None   \n",
       "\n",
       "                                             12  \\\n",
       "Karsi     dont think youre gonna enforce orders   \n",
       "Brother                                    None   \n",
       "Olly                                       None   \n",
       "Tyrion                                   father   \n",
       "Daughter                                   None   \n",
       "\n",
       "                                                 13        14       15  \\\n",
       "Karsi                                          None      None     None   \n",
       "Brother                                        None      None     None   \n",
       "Olly                                           None      None     None   \n",
       "Tyrion    day decide execute ill tell killed father  daenerys  danerys   \n",
       "Daughter                                       None      None     None   \n",
       "\n",
       "                               16                         17        18    19  \\\n",
       "Karsi                        None                       None      None  None   \n",
       "Brother                      None                       None      None  None   \n",
       "Olly                         None                       None      None  None   \n",
       "Tyrion    see right kind terrible  kind prevents people even  yes wise   yes   \n",
       "Daughter                     None                       None      None  None   \n",
       "\n",
       "               20         21                   22    23  \\\n",
       "Karsi        None       None                 None  None   \n",
       "Brother      None       None                 None  None   \n",
       "Olly         None       None                 None  None   \n",
       "Tyrion    survive  thats one  queenly prerogative         \n",
       "Daughter     None       None                 None  None   \n",
       "\n",
       "                                                    24      25           26  \\\n",
       "Karsi                                             None    None         None   \n",
       "Brother                                           None    None         None   \n",
       "Olly                                              None    None         None   \n",
       "Tyrion    im going murdered im going banished daenerys  advise  iron throne   \n",
       "Daughter                                          None    None         None   \n",
       "\n",
       "                          27                      28  \\\n",
       "Karsi                   None                    None   \n",
       "Brother                 None                    None   \n",
       "Olly                    None                    None   \n",
       "Tyrion    im entirely joking  get back home supports   \n",
       "Daughter                None                    None   \n",
       "\n",
       "                                               29        30  \n",
       "Karsi                                        None      None  \n",
       "Brother                                      None      None  \n",
       "Olly                                         None      None  \n",
       "Tyrion    lets generous assume thats going happen  daenerys  \n",
       "Daughter                                     None      None  "
      ]
     },
     "execution_count": 171,
     "metadata": {},
     "output_type": "execute_result"
    }
   ],
   "source": [
    "episode_eight.head()"
   ]
  },
  {
   "cell_type": "markdown",
   "metadata": {},
   "source": [
    "### Episode Nine"
   ]
  },
  {
   "cell_type": "code",
   "execution_count": 172,
   "metadata": {
    "scrolled": true
   },
   "outputs": [],
   "source": [
    "#df_s5.script_text[8]"
   ]
  },
  {
   "cell_type": "code",
   "execution_count": 173,
   "metadata": {},
   "outputs": [
    {
     "name": "stdout",
     "output_type": "stream",
     "text": [
      "<type 'list'>\n"
     ]
    }
   ],
   "source": [
    "script_text5_09 = df_s5.script_text[8]\n",
    "print type(script_text5_09)\n",
    "\n",
    "#script_text5_09"
   ]
  },
  {
   "cell_type": "code",
   "execution_count": 174,
   "metadata": {
    "scrolled": true
   },
   "outputs": [],
   "source": [
    "script_split9 = [i.split('\\n') for i in script_text5_09]\n",
    "#script_split9"
   ]
  },
  {
   "cell_type": "code",
   "execution_count": 175,
   "metadata": {
    "collapsed": true
   },
   "outputs": [],
   "source": [
    "string_script_text9 = ' '\n",
    "\n",
    "for i in script_split9:\n",
    "    for e in i:\n",
    "        string_script_text9 = string_script_text9 + ' ' + e"
   ]
  },
  {
   "cell_type": "code",
   "execution_count": 176,
   "metadata": {},
   "outputs": [],
   "source": [
    "#string_script_text9"
   ]
  },
  {
   "cell_type": "code",
   "execution_count": 177,
   "metadata": {},
   "outputs": [],
   "source": [
    "words9 = word_tokenize(string_script_text9)\n",
    "#words9"
   ]
  },
  {
   "cell_type": "code",
   "execution_count": 178,
   "metadata": {
    "scrolled": true
   },
   "outputs": [],
   "source": [
    "sentences9 = sent_tokenize(string_script_text9)\n",
    "#sentences9"
   ]
  },
  {
   "cell_type": "code",
   "execution_count": 181,
   "metadata": {
    "collapsed": true,
    "scrolled": false
   },
   "outputs": [],
   "source": [
    "dialogue9 = []\n",
    "\n",
    "for sentence in sentences9:\n",
    "    words=sentence.split(':')[0]\n",
    "    if len(words.split())<=2:\n",
    "        if words in (names5_09):\n",
    "            dialogue9.append(sentence)"
   ]
  },
  {
   "cell_type": "code",
   "execution_count": 182,
   "metadata": {
    "scrolled": true
   },
   "outputs": [],
   "source": [
    "#dialogue9"
   ]
  },
  {
   "cell_type": "code",
   "execution_count": 183,
   "metadata": {},
   "outputs": [],
   "source": [
    "import pickle\n",
    "with open('/Users/zoemarkovits/Metis/project_five_got/Dialogue_PKLs/s509.pkl', 'wb') as f:\n",
    "    pickle.dump(dialogue9, f)"
   ]
  },
  {
   "cell_type": "code",
   "execution_count": 184,
   "metadata": {
    "scrolled": true
   },
   "outputs": [],
   "source": [
    "from collections import defaultdict\n",
    "\n",
    "speakers9 = defaultdict(list)\n",
    "for sentence in dialogue9:\n",
    "    speakers9[sentence.split(':')[0]].append(sentence.split(':')[1])\n",
    "\n",
    "#speakers9"
   ]
  },
  {
   "cell_type": "code",
   "execution_count": 185,
   "metadata": {
    "scrolled": true
   },
   "outputs": [
    {
     "data": {
      "text/plain": [
       "[u' Oysters, clams, and cockels!', u'  .', u' Tomorrow.']"
      ]
     },
     "execution_count": 185,
     "metadata": {},
     "output_type": "execute_result"
    }
   ],
   "source": [
    "speakers9['ARYA']"
   ]
  },
  {
   "cell_type": "code",
   "execution_count": 186,
   "metadata": {
    "scrolled": true
   },
   "outputs": [
    {
     "name": "stdout",
     "output_type": "stream",
     "text": [
      "(36, 16)\n"
     ]
    }
   ],
   "source": [
    "episode_nine = pd.DataFrame.from_dict(speakers9, orient=\"index\")\n",
    "print episode_nine.shape"
   ]
  },
  {
   "cell_type": "code",
   "execution_count": 187,
   "metadata": {
    "collapsed": true
   },
   "outputs": [],
   "source": [
    "#from numpy import nan\n",
    "#episode_nine.fillna(value=str(0), inplace=True)"
   ]
  },
  {
   "cell_type": "code",
   "execution_count": 188,
   "metadata": {
    "scrolled": true
   },
   "outputs": [],
   "source": [
    "#episode_nine.info()"
   ]
  },
  {
   "cell_type": "code",
   "execution_count": 189,
   "metadata": {},
   "outputs": [],
   "source": [
    "#episode_nine.head()"
   ]
  },
  {
   "cell_type": "code",
   "execution_count": 190,
   "metadata": {
    "scrolled": true
   },
   "outputs": [],
   "source": [
    "test9 = episode_nine[0].apply(remove_stops)\n",
    "#test9"
   ]
  },
  {
   "cell_type": "code",
   "execution_count": 192,
   "metadata": {
    "collapsed": true,
    "scrolled": false
   },
   "outputs": [],
   "source": [
    "for column in episode_nine.columns:\n",
    "    for x in range(len(episode_nine[column])):\n",
    "        episode_nine[column][x] = remove_stops(episode_nine[column][x])"
   ]
  },
  {
   "cell_type": "code",
   "execution_count": 193,
   "metadata": {},
   "outputs": [
    {
     "data": {
      "text/plain": [
       "(36, 16)"
      ]
     },
     "execution_count": 193,
     "metadata": {},
     "output_type": "execute_result"
    }
   ],
   "source": [
    "episode_nine.index = episode_nine.index.str.title()\n",
    "\n",
    "episode_nine.shape"
   ]
  },
  {
   "cell_type": "code",
   "execution_count": 194,
   "metadata": {
    "scrolled": true
   },
   "outputs": [
    {
     "data": {
      "text/html": [
       "<div>\n",
       "<table border=\"1\" class=\"dataframe\">\n",
       "  <thead>\n",
       "    <tr style=\"text-align: right;\">\n",
       "      <th></th>\n",
       "      <th>0</th>\n",
       "      <th>1</th>\n",
       "      <th>2</th>\n",
       "      <th>3</th>\n",
       "      <th>4</th>\n",
       "      <th>5</th>\n",
       "      <th>6</th>\n",
       "      <th>7</th>\n",
       "      <th>8</th>\n",
       "      <th>9</th>\n",
       "      <th>10</th>\n",
       "      <th>11</th>\n",
       "      <th>12</th>\n",
       "      <th>13</th>\n",
       "      <th>14</th>\n",
       "      <th>15</th>\n",
       "    </tr>\n",
       "  </thead>\n",
       "  <tbody>\n",
       "    <tr>\n",
       "      <th>Stannis</th>\n",
       "      <td>put last nights guards chains either fell asle...</td>\n",
       "      <td>returning castle black</td>\n",
       "      <td>find healthy horses good men guard im sending ...</td>\n",
       "      <td>yes</td>\n",
       "      <td>youre abandoning youre obeying command</td>\n",
       "      <td>jon snow refuses boy scroll boy say</td>\n",
       "      <td>family stays</td>\n",
       "      <td>whats</td>\n",
       "      <td>dance dragons</td>\n",
       "      <td>doesnt make much sense</td>\n",
       "      <td>choose rhaenyra aegon would chosen</td>\n",
       "      <td>dont even know im talking</td>\n",
       "      <td>yes</td>\n",
       "      <td>ext</td>\n",
       "      <td>melisandre</td>\n",
       "      <td>None</td>\n",
       "    </tr>\n",
       "    <tr>\n",
       "      <th>Davos</th>\n",
       "      <td>stannis</td>\n",
       "      <td>northerners know land ever</td>\n",
       "      <td>unless theres thaw cant press forward winterfe...</td>\n",
       "      <td>forgive grace never claimed expert military ma...</td>\n",
       "      <td>grace youve named hand</td>\n",
       "      <td>kings hand never abandon king especially time war</td>\n",
       "      <td>boy scroll could deliver message</td>\n",
       "      <td>grace perhaps queen princess shireen could acc...</td>\n",
       "      <td>stannis</td>\n",
       "      <td>thus ending dragonslaying career ser byron swann</td>\n",
       "      <td>like</td>\n",
       "      <td>youre welcome</td>\n",
       "      <td>course</td>\n",
       "      <td>deserve</td>\n",
       "      <td>None</td>\n",
       "      <td>None</td>\n",
       "    </tr>\n",
       "    <tr>\n",
       "      <th>Selyse</th>\n",
       "      <td>lord wants</td>\n",
       "      <td>dont act well starve us make sacrifice melisandre</td>\n",
       "      <td>daenerys</td>\n",
       "      <td>None</td>\n",
       "      <td>None</td>\n",
       "      <td>None</td>\n",
       "      <td>None</td>\n",
       "      <td>None</td>\n",
       "      <td>None</td>\n",
       "      <td>None</td>\n",
       "      <td>None</td>\n",
       "      <td>None</td>\n",
       "      <td>None</td>\n",
       "      <td>None</td>\n",
       "      <td>None</td>\n",
       "      <td>None</td>\n",
       "    </tr>\n",
       "    <tr>\n",
       "      <th>Meryn</th>\n",
       "      <td>meryn</td>\n",
       "      <td>oh im buying</td>\n",
       "      <td>old</td>\n",
       "      <td>old</td>\n",
       "      <td>want</td>\n",
       "      <td>good</td>\n",
       "      <td>ill tell done</td>\n",
       "      <td>youll fresh one tomorrow</td>\n",
       "      <td>None</td>\n",
       "      <td>None</td>\n",
       "      <td>None</td>\n",
       "      <td>None</td>\n",
       "      <td>None</td>\n",
       "      <td>None</td>\n",
       "      <td>None</td>\n",
       "      <td>None</td>\n",
       "    </tr>\n",
       "    <tr>\n",
       "      <th>Announcer</th>\n",
       "      <td>queen first contest</td>\n",
       "      <td>meereenese champion</td>\n",
       "      <td>westerosi knight</td>\n",
       "      <td>None</td>\n",
       "      <td>None</td>\n",
       "      <td>None</td>\n",
       "      <td>None</td>\n",
       "      <td>None</td>\n",
       "      <td>None</td>\n",
       "      <td>None</td>\n",
       "      <td>None</td>\n",
       "      <td>None</td>\n",
       "      <td>None</td>\n",
       "      <td>None</td>\n",
       "      <td>None</td>\n",
       "      <td>None</td>\n",
       "    </tr>\n",
       "  </tbody>\n",
       "</table>\n",
       "</div>"
      ],
      "text/plain": [
       "                                                          0   \\\n",
       "Stannis    put last nights guards chains either fell asle...   \n",
       "Davos                                                stannis   \n",
       "Selyse                                            lord wants   \n",
       "Meryn                                                  meryn   \n",
       "Announcer                                queen first contest   \n",
       "\n",
       "                                                          1   \\\n",
       "Stannis                               returning castle black   \n",
       "Davos                             northerners know land ever   \n",
       "Selyse     dont act well starve us make sacrifice melisandre   \n",
       "Meryn                                           oh im buying   \n",
       "Announcer                                meereenese champion   \n",
       "\n",
       "                                                          2   \\\n",
       "Stannis    find healthy horses good men guard im sending ...   \n",
       "Davos      unless theres thaw cant press forward winterfe...   \n",
       "Selyse                                              daenerys   \n",
       "Meryn                                                    old   \n",
       "Announcer                                   westerosi knight   \n",
       "\n",
       "                                                          3   \\\n",
       "Stannis                                                  yes   \n",
       "Davos      forgive grace never claimed expert military ma...   \n",
       "Selyse                                                  None   \n",
       "Meryn                                                    old   \n",
       "Announcer                                               None   \n",
       "\n",
       "                                               4   \\\n",
       "Stannis    youre abandoning youre obeying command   \n",
       "Davos                      grace youve named hand   \n",
       "Selyse                                       None   \n",
       "Meryn                                        want   \n",
       "Announcer                                    None   \n",
       "\n",
       "                                                          5   \\\n",
       "Stannis                  jon snow refuses boy scroll boy say   \n",
       "Davos      kings hand never abandon king especially time war   \n",
       "Selyse                                                  None   \n",
       "Meryn                                                   good   \n",
       "Announcer                                               None   \n",
       "\n",
       "                                         6   \\\n",
       "Stannis                        family stays   \n",
       "Davos      boy scroll could deliver message   \n",
       "Selyse                                 None   \n",
       "Meryn                         ill tell done   \n",
       "Announcer                              None   \n",
       "\n",
       "                                                          7              8   \\\n",
       "Stannis                                                whats  dance dragons   \n",
       "Davos      grace perhaps queen princess shireen could acc...        stannis   \n",
       "Selyse                                                  None           None   \n",
       "Meryn                               youll fresh one tomorrow           None   \n",
       "Announcer                                               None           None   \n",
       "\n",
       "                                                         9   \\\n",
       "Stannis                              doesnt make much sense   \n",
       "Davos      thus ending dragonslaying career ser byron swann   \n",
       "Selyse                                                 None   \n",
       "Meryn                                                  None   \n",
       "Announcer                                              None   \n",
       "\n",
       "                                           10                         11  \\\n",
       "Stannis    choose rhaenyra aegon would chosen  dont even know im talking   \n",
       "Davos                                    like              youre welcome   \n",
       "Selyse                                   None                       None   \n",
       "Meryn                                    None                       None   \n",
       "Announcer                                None                       None   \n",
       "\n",
       "               12       13          14    15  \n",
       "Stannis       yes      ext  melisandre  None  \n",
       "Davos      course  deserve        None  None  \n",
       "Selyse       None     None        None  None  \n",
       "Meryn        None     None        None  None  \n",
       "Announcer    None     None        None  None  "
      ]
     },
     "execution_count": 194,
     "metadata": {},
     "output_type": "execute_result"
    }
   ],
   "source": [
    "episode_nine.head()"
   ]
  },
  {
   "cell_type": "markdown",
   "metadata": {},
   "source": [
    "### Episode Ten"
   ]
  },
  {
   "cell_type": "code",
   "execution_count": 195,
   "metadata": {
    "scrolled": true
   },
   "outputs": [],
   "source": [
    "#df_s5.script_text[9]"
   ]
  },
  {
   "cell_type": "code",
   "execution_count": 196,
   "metadata": {},
   "outputs": [
    {
     "name": "stdout",
     "output_type": "stream",
     "text": [
      "<type 'list'>\n"
     ]
    }
   ],
   "source": [
    "script_text5_10 = df_s5.script_text[9]\n",
    "print type(script_text5_10)\n",
    "\n",
    "#script_text5_10"
   ]
  },
  {
   "cell_type": "code",
   "execution_count": 197,
   "metadata": {
    "scrolled": true
   },
   "outputs": [],
   "source": [
    "script_split10 = [i.split('\\n') for i in script_text5_10]\n",
    "#script_split10"
   ]
  },
  {
   "cell_type": "code",
   "execution_count": 198,
   "metadata": {
    "collapsed": true
   },
   "outputs": [],
   "source": [
    "string_script_text10 = ' '\n",
    "\n",
    "for i in script_split10:\n",
    "    for e in i:\n",
    "        string_script_text10 = string_script_text10 + ' ' + e"
   ]
  },
  {
   "cell_type": "code",
   "execution_count": 199,
   "metadata": {},
   "outputs": [],
   "source": [
    "#string_script_text10"
   ]
  },
  {
   "cell_type": "code",
   "execution_count": 200,
   "metadata": {},
   "outputs": [],
   "source": [
    "words10 = word_tokenize(string_script_text10)\n",
    "#words10"
   ]
  },
  {
   "cell_type": "code",
   "execution_count": 201,
   "metadata": {
    "scrolled": true
   },
   "outputs": [],
   "source": [
    "sentences10 = sent_tokenize(string_script_text10)\n",
    "#sentences10"
   ]
  },
  {
   "cell_type": "code",
   "execution_count": 202,
   "metadata": {
    "collapsed": true,
    "scrolled": false
   },
   "outputs": [],
   "source": [
    "dialogue10 = []\n",
    "\n",
    "for sentence in sentences10:\n",
    "    words=sentence.split(':')[0]\n",
    "    if len(words.split())<=2:\n",
    "        if words in (names5_10):\n",
    "            dialogue10.append(sentence)"
   ]
  },
  {
   "cell_type": "code",
   "execution_count": 203,
   "metadata": {
    "scrolled": true
   },
   "outputs": [],
   "source": [
    "#dialogue10"
   ]
  },
  {
   "cell_type": "code",
   "execution_count": 201,
   "metadata": {
    "collapsed": true
   },
   "outputs": [],
   "source": [
    "import pickle\n",
    "with open('/Users/zoemarkovits/Metis/project_five_got/Dialogue_PKLs/s510.pkl', 'wb') as f:\n",
    "    pickle.dump(dialogue10, f)"
   ]
  },
  {
   "cell_type": "code",
   "execution_count": 204,
   "metadata": {
    "scrolled": true
   },
   "outputs": [],
   "source": [
    "from collections import defaultdict\n",
    "\n",
    "speakers10 = defaultdict(list)\n",
    "for sentence in dialogue10:\n",
    "    speakers10[sentence.split(':')[0]].append(sentence.split(':')[1])\n",
    "\n",
    "#speakers10"
   ]
  },
  {
   "cell_type": "code",
   "execution_count": 205,
   "metadata": {
    "scrolled": false
   },
   "outputs": [
    {
     "data": {
      "text/plain": [
       "[u' You were the first person on my list, you know.',\n",
       " u' I can\\u2019t hear you.',\n",
       " u' You know who I am.',\n",
       " u' Do you know who you are?',\n",
       " u' You\\u2019re no one.',\n",
       " u' No!',\n",
       " u' He was my friend.',\n",
       " u' But if you\\u2019re\\u2026 (looks to the Jaqen who drank the potion and is seemingly dead) Who\\u2019s this?',\n",
       " u' What\\u2019s happening?!']"
      ]
     },
     "execution_count": 205,
     "metadata": {},
     "output_type": "execute_result"
    }
   ],
   "source": [
    "speakers10['ARYA']"
   ]
  },
  {
   "cell_type": "code",
   "execution_count": 206,
   "metadata": {
    "scrolled": true
   },
   "outputs": [
    {
     "name": "stdout",
     "output_type": "stream",
     "text": [
      "(38, 16)\n"
     ]
    }
   ],
   "source": [
    "episode_ten = pd.DataFrame.from_dict(speakers10, orient=\"index\")\n",
    "print episode_ten.shape"
   ]
  },
  {
   "cell_type": "code",
   "execution_count": 207,
   "metadata": {
    "collapsed": true
   },
   "outputs": [],
   "source": [
    "#from numpy import nan\n",
    "#episode_ten.fillna(value=str(0), inplace=True)"
   ]
  },
  {
   "cell_type": "code",
   "execution_count": 208,
   "metadata": {
    "scrolled": true
   },
   "outputs": [],
   "source": [
    "#episode_ten.info()"
   ]
  },
  {
   "cell_type": "code",
   "execution_count": 209,
   "metadata": {},
   "outputs": [],
   "source": [
    "#episode_ten.head()"
   ]
  },
  {
   "cell_type": "code",
   "execution_count": 210,
   "metadata": {
    "scrolled": true
   },
   "outputs": [],
   "source": [
    "test10 = episode_ten[0].apply(remove_stops)\n",
    "#test10"
   ]
  },
  {
   "cell_type": "code",
   "execution_count": 211,
   "metadata": {
    "collapsed": true,
    "scrolled": false
   },
   "outputs": [],
   "source": [
    "for column in episode_ten.columns:\n",
    "    for x in range(len(episode_ten[column])):\n",
    "        episode_ten[column][x] = remove_stops(episode_ten[column][x])"
   ]
  },
  {
   "cell_type": "code",
   "execution_count": 212,
   "metadata": {},
   "outputs": [
    {
     "data": {
      "text/plain": [
       "(38, 16)"
      ]
     },
     "execution_count": 212,
     "metadata": {},
     "output_type": "execute_result"
    }
   ],
   "source": [
    "episode_ten.index = episode_ten.index.str.title()\n",
    "\n",
    "episode_ten.shape"
   ]
  },
  {
   "cell_type": "code",
   "execution_count": 213,
   "metadata": {
    "scrolled": false
   },
   "outputs": [
    {
     "data": {
      "text/html": [
       "<div>\n",
       "<table border=\"1\" class=\"dataframe\">\n",
       "  <thead>\n",
       "    <tr style=\"text-align: right;\">\n",
       "      <th></th>\n",
       "      <th>0</th>\n",
       "      <th>1</th>\n",
       "      <th>2</th>\n",
       "      <th>3</th>\n",
       "      <th>4</th>\n",
       "      <th>5</th>\n",
       "      <th>6</th>\n",
       "      <th>7</th>\n",
       "      <th>8</th>\n",
       "      <th>9</th>\n",
       "      <th>10</th>\n",
       "      <th>11</th>\n",
       "      <th>12</th>\n",
       "      <th>13</th>\n",
       "      <th>14</th>\n",
       "      <th>15</th>\n",
       "    </tr>\n",
       "  </thead>\n",
       "  <tbody>\n",
       "    <tr>\n",
       "      <th>Stannis</th>\n",
       "      <td>ride winterfell</td>\n",
       "      <td>prepare form</td>\n",
       "      <td>tell</td>\n",
       "      <td>many</td>\n",
       "      <td>speak</td>\n",
       "      <td>int</td>\n",
       "      <td>bolton women fighting</td>\n",
       "      <td>None</td>\n",
       "      <td>None</td>\n",
       "      <td>None</td>\n",
       "      <td>None</td>\n",
       "      <td>None</td>\n",
       "      <td>None</td>\n",
       "      <td>None</td>\n",
       "      <td>None</td>\n",
       "      <td>None</td>\n",
       "    </tr>\n",
       "    <tr>\n",
       "      <th>Davos</th>\n",
       "      <td>wildlings make difference</td>\n",
       "      <td>shireen</td>\n",
       "      <td>None</td>\n",
       "      <td>None</td>\n",
       "      <td>None</td>\n",
       "      <td>None</td>\n",
       "      <td>None</td>\n",
       "      <td>None</td>\n",
       "      <td>None</td>\n",
       "      <td>None</td>\n",
       "      <td>None</td>\n",
       "      <td>None</td>\n",
       "      <td>None</td>\n",
       "      <td>None</td>\n",
       "      <td>None</td>\n",
       "      <td>None</td>\n",
       "    </tr>\n",
       "    <tr>\n",
       "      <th>Melisandre</th>\n",
       "      <td>take</td>\n",
       "      <td>None</td>\n",
       "      <td>None</td>\n",
       "      <td>None</td>\n",
       "      <td>None</td>\n",
       "      <td>None</td>\n",
       "      <td>None</td>\n",
       "      <td>None</td>\n",
       "      <td>None</td>\n",
       "      <td>None</td>\n",
       "      <td>None</td>\n",
       "      <td>None</td>\n",
       "      <td>None</td>\n",
       "      <td>None</td>\n",
       "      <td>None</td>\n",
       "      <td>None</td>\n",
       "    </tr>\n",
       "    <tr>\n",
       "      <th>Brother</th>\n",
       "      <td>watch</td>\n",
       "      <td>watch</td>\n",
       "      <td>watch</td>\n",
       "      <td>watch</td>\n",
       "      <td>None</td>\n",
       "      <td>None</td>\n",
       "      <td>None</td>\n",
       "      <td>None</td>\n",
       "      <td>None</td>\n",
       "      <td>None</td>\n",
       "      <td>None</td>\n",
       "      <td>None</td>\n",
       "      <td>None</td>\n",
       "      <td>None</td>\n",
       "      <td>None</td>\n",
       "      <td>None</td>\n",
       "    </tr>\n",
       "    <tr>\n",
       "      <th>Bronn</th>\n",
       "      <td>maybe ill come visit sometime</td>\n",
       "      <td>dont wait long</td>\n",
       "      <td>None</td>\n",
       "      <td>None</td>\n",
       "      <td>None</td>\n",
       "      <td>None</td>\n",
       "      <td>None</td>\n",
       "      <td>None</td>\n",
       "      <td>None</td>\n",
       "      <td>None</td>\n",
       "      <td>None</td>\n",
       "      <td>None</td>\n",
       "      <td>None</td>\n",
       "      <td>None</td>\n",
       "      <td>None</td>\n",
       "      <td>None</td>\n",
       "    </tr>\n",
       "  </tbody>\n",
       "</table>\n",
       "</div>"
      ],
      "text/plain": [
       "                                       0               1      2      3   \\\n",
       "Stannis                   ride winterfell    prepare form   tell   many   \n",
       "Davos           wildlings make difference         shireen   None   None   \n",
       "Melisandre                           take            None   None   None   \n",
       "Brother                             watch           watch  watch  watch   \n",
       "Bronn       maybe ill come visit sometime  dont wait long   None   None   \n",
       "\n",
       "               4     5                      6     7     8     9     10    11  \\\n",
       "Stannis     speak   int  bolton women fighting  None  None  None  None  None   \n",
       "Davos        None  None                   None  None  None  None  None  None   \n",
       "Melisandre   None  None                   None  None  None  None  None  None   \n",
       "Brother      None  None                   None  None  None  None  None  None   \n",
       "Bronn        None  None                   None  None  None  None  None  None   \n",
       "\n",
       "              12    13    14    15  \n",
       "Stannis     None  None  None  None  \n",
       "Davos       None  None  None  None  \n",
       "Melisandre  None  None  None  None  \n",
       "Brother     None  None  None  None  \n",
       "Bronn       None  None  None  None  "
      ]
     },
     "execution_count": 213,
     "metadata": {},
     "output_type": "execute_result"
    }
   ],
   "source": [
    "episode_ten.head()"
   ]
  },
  {
   "cell_type": "markdown",
   "metadata": {},
   "source": [
    "## Season Five"
   ]
  },
  {
   "cell_type": "code",
   "execution_count": 214,
   "metadata": {},
   "outputs": [
    {
     "data": {
      "text/plain": [
       "Index([u'Stannis', u'Davos', u'Kevan', u'Melisandre', u'Olly', u'Jaime',\n",
       "       u'Tyrion', u'Missandei', u'Mossador', u'Prostitute', u'Baelish',\n",
       "       u'Mance', u'Sam', u'Grand Maester Pyrcelle', u'Daario',\n",
       "       u'Kevan Lannister', u'Daenerys', u'Jon', u'Barristan', u'Hizdahr',\n",
       "       u'Melara', u'Grey Worm', u'Cersei', u'Varys', u'Alliser', u'Maggy',\n",
       "       u'White Rat', u'Margaery', u'Gilly', u'Podrick', u'Lancel', u'Sansa',\n",
       "       u'Brienne', u'Squire', u'Olyvar', u'Yohn Royce', u'Priest', u'Loras',\n",
       "       u'Royce'],\n",
       "      dtype='object')"
      ]
     },
     "execution_count": 214,
     "metadata": {},
     "output_type": "execute_result"
    }
   ],
   "source": [
    "episode_one.index"
   ]
  },
  {
   "cell_type": "code",
   "execution_count": 215,
   "metadata": {
    "scrolled": false
   },
   "outputs": [
    {
     "data": {
      "text/plain": [
       "Index([u'Stannis', u'Davos', u'Shireen', u'Meryn', u'Pycelle', u'Kevan',\n",
       "       u'Old Man', u'Brother', u'Bronn', u'Gilly', u'Jaime', u'Tyrion',\n",
       "       u'Lollys', u'Mossador', u'Baelish', u'Ellaria', u'Sam', u'Areo',\n",
       "       u'Mace Tyrell', u'Guard', u'Selyse', u'Daenerys', u'Doran', u'Aemon',\n",
       "       u'Jon', u'Barristan', u'Brothers', u'Hunters', u'Grey Worm', u'Cersei',\n",
       "       u'Varys', u'Mace', u'Janos', u'Qyburn', u'Hizdahr', u'Podrick',\n",
       "       u'Sansa', u'Brienne', u'Knight', u'Men', u'Jaqen', u'Daario',\n",
       "       u'Alliser', u'Waitress', u'Arya', u'Knight 1', u'Man'],\n",
       "      dtype='object')"
      ]
     },
     "execution_count": 215,
     "metadata": {},
     "output_type": "execute_result"
    }
   ],
   "source": [
    "episode_two.index"
   ]
  },
  {
   "cell_type": "code",
   "execution_count": 216,
   "metadata": {},
   "outputs": [
    {
     "name": "stdout",
     "output_type": "stream",
     "text": [
      "(39, 22)\n",
      "(47, 23)\n"
     ]
    }
   ],
   "source": [
    "print episode_one.shape\n",
    "print episode_two.shape"
   ]
  },
  {
   "cell_type": "code",
   "execution_count": 217,
   "metadata": {
    "collapsed": true
   },
   "outputs": [],
   "source": [
    "episode_one = episode_one.reset_index()"
   ]
  },
  {
   "cell_type": "code",
   "execution_count": 218,
   "metadata": {
    "collapsed": true
   },
   "outputs": [],
   "source": [
    "episode_one_dict = {'Stannis':'Stannis', \n",
    "                    'Davos':'Davos', \n",
    "                    'Kevan':'Kevan', \n",
    "                    'Melisandre':'Melisandre', \n",
    "                    'Olly':'Olly', \n",
    "                    'Jaime':'Jaime',\n",
    "                    'Tyrion':'Tyrion', \n",
    "                    'Missandei':'Missandei', \n",
    "                    'Mossador':'Mossador', \n",
    "                    'Prostitute':'Prostitute', \n",
    "                    'Baelish':'Baelish',\n",
    "                    'Mance':'Mance', \n",
    "                    'Sam':'Sam', \n",
    "                    'Grand Maester Pyrcelle':'Pycelle', \n",
    "                    'Daario':'Daario',\n",
    "                    'Kevan Lannister':'Kevan', \n",
    "                    'Daenerys':'Daenerys', \n",
    "                    'Jon':'Jon', \n",
    "                    'Barristan':'Barristan', \n",
    "                    'Hizdahr':'Hizdahr',\n",
    "                    'Melara':'Melara', \n",
    "                    'Grey Worm':'Grey Worm', \n",
    "                    'Cersei':'Cersei', \n",
    "                    'Varys':'Varys', \n",
    "                    'Alliser':'Alliser', \n",
    "                    'Maggy':'Maggy',\n",
    "                    'White Rat':'White Rat', \n",
    "                    'Margaery':'Margaery', \n",
    "                    'Gilly':'Gilly', \n",
    "                    'Podrick':'Podrick', \n",
    "                    'Lancel':'Lancel', \n",
    "                    'Sansa':'Sansa',\n",
    "                    'Brienne':'Brienne', \n",
    "                    'Squire':'Squire', \n",
    "                    'Olyvar':'Olyvar', \n",
    "                    'Yohn Royce':'Yohn Royce', \n",
    "                    'Priest':'Priest', \n",
    "                    'Loras':'Loras',\n",
    "                    'Royce':'Royce'}\n",
    "\n",
    "episode_one['index']=episode_one['index'].replace(episode_one_dict)"
   ]
  },
  {
   "cell_type": "code",
   "execution_count": 219,
   "metadata": {
    "collapsed": true
   },
   "outputs": [],
   "source": [
    "episode_one = episode_one.set_index('index')"
   ]
  },
  {
   "cell_type": "code",
   "execution_count": 222,
   "metadata": {},
   "outputs": [],
   "source": [
    "#episode_one.head()"
   ]
  },
  {
   "cell_type": "code",
   "execution_count": 223,
   "metadata": {},
   "outputs": [
    {
     "name": "stdout",
     "output_type": "stream",
     "text": [
      "(64, 45)\n"
     ]
    }
   ],
   "source": [
    "season_five = episode_one.join(episode_two, rsuffix=\"_two\", how='outer')\n",
    "print season_five.shape"
   ]
  },
  {
   "cell_type": "code",
   "execution_count": 224,
   "metadata": {},
   "outputs": [],
   "source": [
    "#season_five.head(65)"
   ]
  },
  {
   "cell_type": "code",
   "execution_count": 225,
   "metadata": {},
   "outputs": [
    {
     "data": {
      "text/plain": [
       "Index([      u'Aemon',     u'Alliser',        u'Areo',        u'Arya',\n",
       "           u'Baelish',   u'Barristan',     u'Brienne',       u'Bronn',\n",
       "           u'Brother',    u'Brothers',      u'Cersei',      u'Daario',\n",
       "          u'Daenerys',       u'Davos',       u'Doran',     u'Ellaria',\n",
       "             u'Gilly',   u'Grey Worm',       u'Guard',     u'Hizdahr',\n",
       "           u'Hunters',       u'Jaime',       u'Janos',       u'Jaqen',\n",
       "               u'Jon',       u'Kevan',       u'Kevan',      u'Knight',\n",
       "          u'Knight 1',      u'Lancel',      u'Lollys',       u'Loras',\n",
       "              u'Mace', u'Mace Tyrell',       u'Maggy',         u'Man',\n",
       "             u'Mance',    u'Margaery',      u'Melara',  u'Melisandre',\n",
       "               u'Men',       u'Meryn',   u'Missandei',    u'Mossador',\n",
       "           u'Old Man',        u'Olly',      u'Olyvar',     u'Podrick',\n",
       "            u'Priest',  u'Prostitute',     u'Pycelle',      u'Qyburn',\n",
       "             u'Royce',         u'Sam',       u'Sansa',      u'Selyse',\n",
       "           u'Shireen',      u'Squire',     u'Stannis',      u'Tyrion',\n",
       "             u'Varys',    u'Waitress',   u'White Rat',  u'Yohn Royce'],\n",
       "      dtype='object')"
      ]
     },
     "execution_count": 225,
     "metadata": {},
     "output_type": "execute_result"
    }
   ],
   "source": [
    "season_five.index"
   ]
  },
  {
   "cell_type": "code",
   "execution_count": 226,
   "metadata": {},
   "outputs": [
    {
     "data": {
      "text/plain": [
       "Index([u'Stannis', u'Davos', u'Meryn', u'Pycelle', u'Priestess', u'Olly',\n",
       "       u'Tyrion', u'Baelish', u'Crowd', u'Janos', u'Roose', u'Jon', u'Woman 2',\n",
       "       u'Man 1', u'Tommen', u'Man 2', u'Cersei', u'Varys', u'Waif', u'Mace',\n",
       "       u'Woman', u'Margaery', u'Qyburn', u'Ramsay', u'Man 3', u'Podrick',\n",
       "       u'Sam', u'Sansa', u'Jaqen', u'Olyvar', u'Brienne', u'Arya',\n",
       "       u'High Septon', u'Man'],\n",
       "      dtype='object')"
      ]
     },
     "execution_count": 226,
     "metadata": {},
     "output_type": "execute_result"
    }
   ],
   "source": [
    "episode_three.index"
   ]
  },
  {
   "cell_type": "code",
   "execution_count": 227,
   "metadata": {},
   "outputs": [
    {
     "data": {
      "text/plain": [
       "(34, 24)"
      ]
     },
     "execution_count": 227,
     "metadata": {},
     "output_type": "execute_result"
    }
   ],
   "source": [
    "episode_three.shape"
   ]
  },
  {
   "cell_type": "code",
   "execution_count": 228,
   "metadata": {},
   "outputs": [
    {
     "name": "stdout",
     "output_type": "stream",
     "text": [
      "(76, 69)\n"
     ]
    }
   ],
   "source": [
    "season_five = season_five.join(episode_three, rsuffix=\"_three\", how='outer')\n",
    "print season_five.shape"
   ]
  },
  {
   "cell_type": "code",
   "execution_count": 229,
   "metadata": {},
   "outputs": [],
   "source": [
    "#season_five.index"
   ]
  },
  {
   "cell_type": "code",
   "execution_count": 230,
   "metadata": {
    "scrolled": true
   },
   "outputs": [
    {
     "data": {
      "text/plain": [
       "Index([u'Stannis', u'Elaria', u'Selyse', u'Pycelle', u'Dario', u'Melisandre',\n",
       "       u'Bronn', u'Jaime', u'Tyrion', u'Missandei', u'Woman', u'Sam',\n",
       "       u'Shireen', u'Kingsguard', u'Man 3', u'Jon', u'Barristan', u'Man 1',\n",
       "       u'Tommen', u'Man 2', u'Cersei', u'Man 4', u'Mace', u'Baelish',\n",
       "       u'Daenerys', u'Margaery', u'Rider', u'Nymeria', u'Hizdahr', u'Lancel',\n",
       "       u'Obara', u'Sansa', u'Jorah', u'Militant', u'High Sparrow', u'Loras'],\n",
       "      dtype='object')"
      ]
     },
     "execution_count": 230,
     "metadata": {},
     "output_type": "execute_result"
    }
   ],
   "source": [
    "episode_four.index"
   ]
  },
  {
   "cell_type": "code",
   "execution_count": 231,
   "metadata": {
    "collapsed": true
   },
   "outputs": [],
   "source": [
    "episode_four = episode_four.reset_index()"
   ]
  },
  {
   "cell_type": "code",
   "execution_count": 232,
   "metadata": {
    "collapsed": true
   },
   "outputs": [],
   "source": [
    "episode_four_dict = {'Stannis':'Stannis', \n",
    "                     'Elaria':'Ellaria', \n",
    "                     'Selyse':'Selyse', \n",
    "                     'Pycelle':'Pycelle', \n",
    "                     'Dario':'Daario', \n",
    "                     'Melisandre':'Melisandre',\n",
    "                     'Bronn':'Bronn', \n",
    "                     'Jaime':'Jaime', \n",
    "                     'Tyrion':'Tyrion', \n",
    "                     'Missandei':'Missandei', \n",
    "                     'Woman':'Woman', \n",
    "                     'Sam':'Sam',\n",
    "                     'Shireen':'Shireen', \n",
    "                     'Kingsguard':'Kingsguard', \n",
    "                     'Man 3':'Man 3', \n",
    "                     'Jon':'Jon', \n",
    "                     'Barristan':'Barristan', \n",
    "                     'Man 1':'Man 1',\n",
    "                     'Tommen':'Tommen', \n",
    "                     'Man 2':'Man 2', \n",
    "                     'Cersei':'Cersei', \n",
    "                     'Man 4':'Man 4', \n",
    "                     'Mace':'Mace', \n",
    "                     'Baelish':'Baelish',\n",
    "                     'Daenerys':'Daenerys', \n",
    "                     'Margaery':'Margaery', \n",
    "                     'Rider':'Rider', \n",
    "                     'Nymeria':'Nymeria', \n",
    "                     'Hizdahr':'Hizdahr', \n",
    "                     'Lancel':'Lancel',\n",
    "                     'Obara':'Obara', \n",
    "                     'Sansa':'Sansa', \n",
    "                     'Jorah':'Jorah', \n",
    "                     'Militant':'Militant', \n",
    "                     'High Sparrow':'High Sparrow', \n",
    "                     'Loras':'Loras'}\n",
    "\n",
    "episode_four['index'] = episode_four['index'].replace(episode_four_dict)"
   ]
  },
  {
   "cell_type": "code",
   "execution_count": 233,
   "metadata": {
    "collapsed": true
   },
   "outputs": [],
   "source": [
    "episode_four = episode_four.set_index('index')"
   ]
  },
  {
   "cell_type": "code",
   "execution_count": 234,
   "metadata": {},
   "outputs": [
    {
     "data": {
      "text/plain": [
       "(36, 29)"
      ]
     },
     "execution_count": 234,
     "metadata": {},
     "output_type": "execute_result"
    }
   ],
   "source": [
    "episode_four.shape"
   ]
  },
  {
   "cell_type": "code",
   "execution_count": 235,
   "metadata": {},
   "outputs": [
    {
     "name": "stdout",
     "output_type": "stream",
     "text": [
      "(84, 98)\n"
     ]
    }
   ],
   "source": [
    "season_five = season_five.join(episode_four, rsuffix=\"_four\", how='outer')\n",
    "print season_five.shape"
   ]
  },
  {
   "cell_type": "code",
   "execution_count": 236,
   "metadata": {},
   "outputs": [],
   "source": [
    "#season_five.index"
   ]
  },
  {
   "cell_type": "code",
   "execution_count": 237,
   "metadata": {
    "scrolled": true
   },
   "outputs": [
    {
     "data": {
      "text/plain": [
       "Index([u'Stannis', u'Davos', u'Gilly', u'Tyrion', u'Missandei', u'Sam',\n",
       "       u'Olly', u'Shireen', u'Daenerys', u'Roose', u'Jon', u'Myranda',\n",
       "       u'Walda', u'Grey Worm', u'Theon', u'Ramsay', u'Hizdahr', u'Edd',\n",
       "       u'Sansa', u'Brienne', u'Jorah', u'Allister', u'Aemon', u'Daario',\n",
       "       u'Tormund', u'Man'],\n",
       "      dtype='object')"
      ]
     },
     "execution_count": 237,
     "metadata": {},
     "output_type": "execute_result"
    }
   ],
   "source": [
    "episode_five.index"
   ]
  },
  {
   "cell_type": "code",
   "execution_count": 238,
   "metadata": {
    "collapsed": true
   },
   "outputs": [],
   "source": [
    "episode_five = episode_five.reset_index()"
   ]
  },
  {
   "cell_type": "code",
   "execution_count": 239,
   "metadata": {
    "collapsed": true
   },
   "outputs": [],
   "source": [
    "episode_five_dict = {'Stannis':'Stannis', \n",
    "                     'Davos':'Davos', \n",
    "                     'Gilly':'Gilly', \n",
    "                     'Tyrion':'Tyrion', \n",
    "                     'Missandei':'Missandei', \n",
    "                     'Sam':'Sam',\n",
    "                     'Olly':'Olly', \n",
    "                     'Shireen':'Shireen', \n",
    "                     'Daenerys':'Daenerys', \n",
    "                     'Roose':'Roose', \n",
    "                     'Jon':'Jon', \n",
    "                     'Myranda':'Myranda',\n",
    "                     'Walda':'Walda', \n",
    "                     'Grey Worm':'Grey Worm', \n",
    "                     'Theon':'Theon', \n",
    "                     'Ramsay':'Ramsay', \n",
    "                     'Hizdahr':'Hizdahr', \n",
    "                     'Edd':'Edd',\n",
    "                     'Sansa':'Sansa', \n",
    "                     'Brienne':'Brienne', \n",
    "                     'Jorah':'Jorah', \n",
    "                     'Allister':'Alliser', \n",
    "                     'Aemon':'Aemon', \n",
    "                     'Daario':'Daario',\n",
    "                     'Tormund':'Tormund', \n",
    "                     'Man':'Man'}\n",
    "\n",
    "episode_five['index'] = episode_five['index'].replace(episode_five_dict)"
   ]
  },
  {
   "cell_type": "code",
   "execution_count": 240,
   "metadata": {
    "collapsed": true
   },
   "outputs": [],
   "source": [
    "episode_five = episode_five.set_index('index')"
   ]
  },
  {
   "cell_type": "code",
   "execution_count": 241,
   "metadata": {},
   "outputs": [
    {
     "data": {
      "text/plain": [
       "(26, 30)"
      ]
     },
     "execution_count": 241,
     "metadata": {},
     "output_type": "execute_result"
    }
   ],
   "source": [
    "episode_five.shape"
   ]
  },
  {
   "cell_type": "code",
   "execution_count": 242,
   "metadata": {},
   "outputs": [
    {
     "name": "stdout",
     "output_type": "stream",
     "text": [
      "(89, 128)\n"
     ]
    }
   ],
   "source": [
    "season_five = season_five.join(episode_five, rsuffix=\"_five\", how='outer')\n",
    "print season_five.shape    "
   ]
  },
  {
   "cell_type": "code",
   "execution_count": 243,
   "metadata": {},
   "outputs": [],
   "source": [
    "#season_five.index"
   ]
  },
  {
   "cell_type": "code",
   "execution_count": 244,
   "metadata": {
    "scrolled": true
   },
   "outputs": [
    {
     "data": {
      "text/plain": [
       "Index([u'Bronn', u'Jaime', u'Tyrion', u'Malko', u'Girl', u'Baelish',\n",
       "       u'Sparrow', u'Areo', u'Theon', u'Roose', u'Myranda', u'Slaver', u'Waif',\n",
       "       u'Sand Snakes', u'Cersei', u'Trystane', u'Margaery', u'Ramsay',\n",
       "       u'Lancel', u'Obara', u'Sansa', u'Jaqen', u'Jorah', u'Olyvar', u'Olenna',\n",
       "       u'Arya', u'Myrcella', u'Loras', u'Man'],\n",
       "      dtype='object')"
      ]
     },
     "execution_count": 244,
     "metadata": {},
     "output_type": "execute_result"
    }
   ],
   "source": [
    "episode_six.index"
   ]
  },
  {
   "cell_type": "code",
   "execution_count": 245,
   "metadata": {
    "scrolled": true
   },
   "outputs": [
    {
     "data": {
      "text/plain": [
       "(29, 24)"
      ]
     },
     "execution_count": 245,
     "metadata": {},
     "output_type": "execute_result"
    }
   ],
   "source": [
    "episode_six.shape"
   ]
  },
  {
   "cell_type": "code",
   "execution_count": 246,
   "metadata": {},
   "outputs": [
    {
     "name": "stdout",
     "output_type": "stream",
     "text": [
      "(97, 152)\n"
     ]
    }
   ],
   "source": [
    "season_five = season_five.join(episode_six, rsuffix=\"_six\", how='outer')\n",
    "print season_five.shape "
   ]
  },
  {
   "cell_type": "code",
   "execution_count": 247,
   "metadata": {},
   "outputs": [],
   "source": [
    "#season_five.index"
   ]
  },
  {
   "cell_type": "code",
   "execution_count": 248,
   "metadata": {},
   "outputs": [
    {
     "data": {
      "text/plain": [
       "Index([u'Stannis', u'Davos', u'Jorah', u'Slave Buyer', u'Melisandre', u'Bronn',\n",
       "       u'Gilly', u'Jaime', u'Tyrion', u'Malko', u'Baelish', u'Sam', u'Sparrow',\n",
       "       u'Olenna', u'Hizdahr', u'Daenerys', u'Aemon', u'Jon', u'Brothers',\n",
       "       u'Theon', u'Tommen', u'Derryk', u'Cersei', u'Buyer', u'Alliser',\n",
       "       u'Margaery', u'Ramsay', u'Tyene', u'Obara', u'Sansa', u'Brand', u'Men',\n",
       "       u'Owner', u'Daario', u'High Sparrow', u'Myrcella'],\n",
       "      dtype='object')"
      ]
     },
     "execution_count": 248,
     "metadata": {},
     "output_type": "execute_result"
    }
   ],
   "source": [
    "episode_seven.index"
   ]
  },
  {
   "cell_type": "code",
   "execution_count": 249,
   "metadata": {
    "scrolled": true
   },
   "outputs": [
    {
     "data": {
      "text/plain": [
       "(36, 20)"
      ]
     },
     "execution_count": 249,
     "metadata": {},
     "output_type": "execute_result"
    }
   ],
   "source": [
    "episode_seven.shape"
   ]
  },
  {
   "cell_type": "code",
   "execution_count": 250,
   "metadata": {},
   "outputs": [
    {
     "name": "stdout",
     "output_type": "stream",
     "text": [
      "(103, 172)\n"
     ]
    }
   ],
   "source": [
    "season_five = season_five.join(episode_seven, rsuffix=\"_seven\", how='outer')\n",
    "print season_five.shape "
   ]
  },
  {
   "cell_type": "code",
   "execution_count": 251,
   "metadata": {},
   "outputs": [],
   "source": [
    "#season_five.index"
   ]
  },
  {
   "cell_type": "code",
   "execution_count": 252,
   "metadata": {},
   "outputs": [
    {
     "data": {
      "text/plain": [
       "Index([u'Karsi', u'Brother', u'Olly', u'Tyrion', u'Daughter', u'Sam',\n",
       "       u'Master', u'Daenerys', u'Roose', u'Jon', u'Giant', u'Loboda', u'Theon',\n",
       "       u'Cersei', u'Wildling Elder', u'Qyburn', u'Ramsay', u'Gilly', u'Edd',\n",
       "       u'Sansa', u'Jaqen', u'Jorah', u'Septa', u'Thin Man', u'Tormund',\n",
       "       u'Arya', u'Man'],\n",
       "      dtype='object')"
      ]
     },
     "execution_count": 252,
     "metadata": {},
     "output_type": "execute_result"
    }
   ],
   "source": [
    "episode_eight.index"
   ]
  },
  {
   "cell_type": "code",
   "execution_count": 253,
   "metadata": {},
   "outputs": [
    {
     "data": {
      "text/plain": [
       "(27, 31)"
      ]
     },
     "execution_count": 253,
     "metadata": {},
     "output_type": "execute_result"
    }
   ],
   "source": [
    "episode_eight.shape"
   ]
  },
  {
   "cell_type": "code",
   "execution_count": 254,
   "metadata": {},
   "outputs": [
    {
     "name": "stdout",
     "output_type": "stream",
     "text": [
      "(111, 203)\n"
     ]
    }
   ],
   "source": [
    "season_five = season_five.join(episode_eight, rsuffix=\"_eight\", how='outer')\n",
    "print season_five.shape "
   ]
  },
  {
   "cell_type": "code",
   "execution_count": 255,
   "metadata": {},
   "outputs": [
    {
     "data": {
      "text/plain": [
       "(36, 16)"
      ]
     },
     "execution_count": 255,
     "metadata": {},
     "output_type": "execute_result"
    }
   ],
   "source": [
    "episode_nine.shape"
   ]
  },
  {
   "cell_type": "code",
   "execution_count": 256,
   "metadata": {},
   "outputs": [
    {
     "data": {
      "text/plain": [
       "Index([u'Stannis', u'Davos', u'Selyse', u'Meryn', u'Announcer', u'Melisandre',\n",
       "       u'Bronn', u'Tyene', u'Jaime', u'Tyrion', u'Quick', u'Strong',\n",
       "       u'Prostitute', u'Ellaria', u'Sam', u'Areo', u'Shireen', u'Daenerys',\n",
       "       u'Doran', u'Jon', u'Head', u'Mace', u'Alliser', u'Trystane', u'Nymeria',\n",
       "       u'Hizdahr', u'John', u'Jaqen', u'Jorah', u'Thin Man', u'Daario',\n",
       "       u'Banker', u'Arya', u'Head Prostitute', u'Myrcella', u'Man'],\n",
       "      dtype='object')"
      ]
     },
     "execution_count": 256,
     "metadata": {},
     "output_type": "execute_result"
    }
   ],
   "source": [
    "episode_nine.index"
   ]
  },
  {
   "cell_type": "code",
   "execution_count": 257,
   "metadata": {},
   "outputs": [
    {
     "name": "stdout",
     "output_type": "stream",
     "text": [
      "(118, 219)\n"
     ]
    }
   ],
   "source": [
    "season_five = season_five.join(episode_nine, rsuffix=\"_nine\", how='outer')\n",
    "print season_five.shape "
   ]
  },
  {
   "cell_type": "code",
   "execution_count": 258,
   "metadata": {},
   "outputs": [
    {
     "data": {
      "text/plain": [
       "(38, 16)"
      ]
     },
     "execution_count": 258,
     "metadata": {},
     "output_type": "execute_result"
    }
   ],
   "source": [
    "episode_ten.shape"
   ]
  },
  {
   "cell_type": "code",
   "execution_count": 259,
   "metadata": {},
   "outputs": [
    {
     "data": {
      "text/plain": [
       "Index([u'Stannis', u'Davos', u'Melisandre', u'Brother', u'Bronn', u'Tyene',\n",
       "       u'Soldier', u'Jaime', u'Tyrion', u'Missandei', u'Woman', u'Ellaria',\n",
       "       u'Survivor', u'Sparrow', u'Theon', u'Daenerys', u'Jon', u'Myranda',\n",
       "       u'Grey Worm', u'Waif', u'Varys', u'Cersei', u'Alliser', u'Qyburn',\n",
       "       u'Ramsay', u'Olly', u'Podrick', u'Sam', u'Sansa', u'Brienne', u'Jorah',\n",
       "       u'Septa', u'Jaqen', u'Daario', u'High Sparrow', u'Arya', u'Myrcella',\n",
       "       u'Man'],\n",
       "      dtype='object')"
      ]
     },
     "execution_count": 259,
     "metadata": {},
     "output_type": "execute_result"
    }
   ],
   "source": [
    "episode_ten.index"
   ]
  },
  {
   "cell_type": "code",
   "execution_count": 260,
   "metadata": {},
   "outputs": [
    {
     "name": "stdout",
     "output_type": "stream",
     "text": [
      "(120, 235)\n"
     ]
    }
   ],
   "source": [
    "season_five = season_five.join(episode_ten, rsuffix=\"_ten\", how='outer')\n",
    "print season_five.shape "
   ]
  },
  {
   "cell_type": "code",
   "execution_count": 261,
   "metadata": {},
   "outputs": [],
   "source": [
    "#season_five.index"
   ]
  },
  {
   "cell_type": "code",
   "execution_count": 262,
   "metadata": {
    "collapsed": true
   },
   "outputs": [],
   "source": [
    "from numpy import nan\n",
    "season_five.fillna(value=str(0), inplace=True)"
   ]
  },
  {
   "cell_type": "code",
   "execution_count": 263,
   "metadata": {
    "scrolled": true
   },
   "outputs": [],
   "source": [
    "#season_five.head(125)"
   ]
  },
  {
   "cell_type": "code",
   "execution_count": 264,
   "metadata": {
    "scrolled": true
   },
   "outputs": [
    {
     "name": "stdout",
     "output_type": "stream",
     "text": [
      "<class 'pandas.core.frame.DataFrame'>\n",
      "Index: 120 entries, Aemon to Yohn Royce\n",
      "Columns: 235 entries, 0 to 15_ten\n",
      "dtypes: object(235)\n",
      "memory usage: 221.2+ KB\n"
     ]
    }
   ],
   "source": [
    "season_five.info()"
   ]
  },
  {
   "cell_type": "code",
   "execution_count": 265,
   "metadata": {
    "collapsed": true
   },
   "outputs": [],
   "source": [
    "season_five.to_pickle('/Users/zoemarkovits/Metis/project_five_got/PKLs/season_five.pkl')"
   ]
  },
  {
   "cell_type": "markdown",
   "metadata": {
    "collapsed": true
   },
   "source": [
    "## Character Breakdown"
   ]
  },
  {
   "cell_type": "markdown",
   "metadata": {
    "collapsed": true
   },
   "source": [
    "### Arya Stark"
   ]
  },
  {
   "cell_type": "code",
   "execution_count": 266,
   "metadata": {},
   "outputs": [],
   "source": [
    "Arya = season_five.loc['Arya']\n",
    "#print Arya"
   ]
  },
  {
   "cell_type": "code",
   "execution_count": 267,
   "metadata": {},
   "outputs": [],
   "source": [
    "Arya_Text = Arya.values.tolist()\n",
    "#Arya_Text"
   ]
  },
  {
   "cell_type": "code",
   "execution_count": 268,
   "metadata": {
    "scrolled": true
   },
   "outputs": [],
   "source": [
    "Arya_Words = []\n",
    "\n",
    "for word in Arya_Text:\n",
    "    if len(word)>=1:\n",
    "        if word != '0':\n",
    "            Arya_Words.append(word)\n",
    "        \n",
    "#Arya_Words "
   ]
  },
  {
   "cell_type": "code",
   "execution_count": 269,
   "metadata": {},
   "outputs": [],
   "source": [
    "Arya_Words_String = ' '.join(Arya_Words)\n",
    "#Arya_Words_String"
   ]
  },
  {
   "cell_type": "code",
   "execution_count": 270,
   "metadata": {},
   "outputs": [
    {
     "data": {
      "text/plain": [
       "673"
      ]
     },
     "execution_count": 270,
     "metadata": {},
     "output_type": "execute_result"
    }
   ],
   "source": [
    "Arya_String_Length = len(Arya_Words_String)\n",
    "Arya_String_Length"
   ]
  },
  {
   "cell_type": "code",
   "execution_count": 271,
   "metadata": {},
   "outputs": [
    {
     "data": {
      "text/plain": [
       "Sentiment(polarity=0.07499999999999998, subjectivity=0.4395833333333333)"
      ]
     },
     "execution_count": 271,
     "metadata": {},
     "output_type": "execute_result"
    }
   ],
   "source": [
    "Arya_Sentiment = TextBlob(Arya_Words_String).sentiment\n",
    "Arya_Sentiment"
   ]
  },
  {
   "cell_type": "markdown",
   "metadata": {
    "collapsed": true
   },
   "source": [
    "### Petyr Baelish/Littlefinger"
   ]
  },
  {
   "cell_type": "code",
   "execution_count": 272,
   "metadata": {},
   "outputs": [],
   "source": [
    "Littlefinger = season_five.loc['Baelish']\n",
    "#print Littlefinger"
   ]
  },
  {
   "cell_type": "code",
   "execution_count": 273,
   "metadata": {},
   "outputs": [],
   "source": [
    "Littlefinger_Text = Littlefinger.values.tolist()\n",
    "#Littlefinger_Text"
   ]
  },
  {
   "cell_type": "code",
   "execution_count": 274,
   "metadata": {
    "scrolled": true
   },
   "outputs": [],
   "source": [
    "Littlefinger_Words = []\n",
    "\n",
    "for word in Littlefinger_Text:\n",
    "    if len(word)>=1:\n",
    "        if word != '0':\n",
    "            Littlefinger_Words.append(word)\n",
    "        \n",
    "#Littlefinger_Words "
   ]
  },
  {
   "cell_type": "code",
   "execution_count": 275,
   "metadata": {},
   "outputs": [],
   "source": [
    "Littlefinger_Words_String = ' '.join(Littlefinger_Words)\n",
    "#Littlefinger_Words_String"
   ]
  },
  {
   "cell_type": "code",
   "execution_count": 276,
   "metadata": {},
   "outputs": [
    {
     "data": {
      "text/plain": [
       "1456"
      ]
     },
     "execution_count": 276,
     "metadata": {},
     "output_type": "execute_result"
    }
   ],
   "source": [
    "Littlefinger_String_Length = len(Littlefinger_Words_String)\n",
    "Littlefinger_String_Length"
   ]
  },
  {
   "cell_type": "code",
   "execution_count": 277,
   "metadata": {
    "scrolled": true
   },
   "outputs": [
    {
     "data": {
      "text/plain": [
       "Sentiment(polarity=-0.02623753058535667, subjectivity=0.5615847920195747)"
      ]
     },
     "execution_count": 277,
     "metadata": {},
     "output_type": "execute_result"
    }
   ],
   "source": [
    "Littlefinger_Sentiment = TextBlob(Littlefinger_Words_String).sentiment\n",
    "Littlefinger_Sentiment"
   ]
  },
  {
   "cell_type": "markdown",
   "metadata": {
    "collapsed": true
   },
   "source": [
    "### Brienne of Tarth"
   ]
  },
  {
   "cell_type": "code",
   "execution_count": 278,
   "metadata": {},
   "outputs": [],
   "source": [
    "Brienne = season_five.loc['Brienne']\n",
    "#print Brienne"
   ]
  },
  {
   "cell_type": "code",
   "execution_count": 279,
   "metadata": {},
   "outputs": [],
   "source": [
    "Brienne_Text = Brienne.values.tolist()\n",
    "#Brienne_Text"
   ]
  },
  {
   "cell_type": "code",
   "execution_count": 280,
   "metadata": {
    "scrolled": true
   },
   "outputs": [],
   "source": [
    "Brienne_Words = []\n",
    "\n",
    "for word in Brienne_Text:\n",
    "    if len(word)>=1:\n",
    "        if word != '0':\n",
    "            Brienne_Words.append(word)\n",
    "        \n",
    "#Brienne_Words "
   ]
  },
  {
   "cell_type": "code",
   "execution_count": 281,
   "metadata": {},
   "outputs": [],
   "source": [
    "Brienne_Words_String = ' '.join(Brienne_Words)\n",
    "#Brienne_Words_String"
   ]
  },
  {
   "cell_type": "code",
   "execution_count": 282,
   "metadata": {},
   "outputs": [
    {
     "data": {
      "text/plain": [
       "881"
      ]
     },
     "execution_count": 282,
     "metadata": {},
     "output_type": "execute_result"
    }
   ],
   "source": [
    "Brienne_String_Length = len(Brienne_Words_String)\n",
    "Brienne_String_Length"
   ]
  },
  {
   "cell_type": "code",
   "execution_count": 283,
   "metadata": {},
   "outputs": [
    {
     "data": {
      "text/plain": [
       "Sentiment(polarity=0.07142857142857142, subjectivity=0.5507936507936508)"
      ]
     },
     "execution_count": 283,
     "metadata": {},
     "output_type": "execute_result"
    }
   ],
   "source": [
    "Brienne_Sentiment = TextBlob(Brienne_Words_String).sentiment\n",
    "Brienne_Sentiment"
   ]
  },
  {
   "cell_type": "markdown",
   "metadata": {
    "collapsed": true
   },
   "source": [
    "### Cersei Lannister"
   ]
  },
  {
   "cell_type": "code",
   "execution_count": 284,
   "metadata": {},
   "outputs": [],
   "source": [
    "Cersei = season_five.loc['Cersei']\n",
    "#print Cersei"
   ]
  },
  {
   "cell_type": "code",
   "execution_count": 285,
   "metadata": {},
   "outputs": [],
   "source": [
    "Cersei_Text = Cersei.values.tolist()\n",
    "#Cersei_Text"
   ]
  },
  {
   "cell_type": "code",
   "execution_count": 286,
   "metadata": {
    "scrolled": true
   },
   "outputs": [],
   "source": [
    "Cersei_Words = []\n",
    "\n",
    "for word in Cersei_Text:\n",
    "    if len(word)>=1:\n",
    "        if word != '0':\n",
    "            Cersei_Words.append(word)\n",
    "        \n",
    "#Cersei_Words "
   ]
  },
  {
   "cell_type": "code",
   "execution_count": 287,
   "metadata": {},
   "outputs": [],
   "source": [
    "Cersei_Words_String = ' '.join(Cersei_Words)\n",
    "#Cersei_Words_String"
   ]
  },
  {
   "cell_type": "code",
   "execution_count": 288,
   "metadata": {},
   "outputs": [
    {
     "data": {
      "text/plain": [
       "3292"
      ]
     },
     "execution_count": 288,
     "metadata": {},
     "output_type": "execute_result"
    }
   ],
   "source": [
    "Cersei_String_Length = len(Cersei_Words_String)\n",
    "Cersei_String_Length"
   ]
  },
  {
   "cell_type": "code",
   "execution_count": 289,
   "metadata": {},
   "outputs": [
    {
     "data": {
      "text/plain": [
       "Sentiment(polarity=0.033030303030303035, subjectivity=0.6062218678008151)"
      ]
     },
     "execution_count": 289,
     "metadata": {},
     "output_type": "execute_result"
    }
   ],
   "source": [
    "Cersei_Sentiment = TextBlob(Cersei_Words_String).sentiment\n",
    "Cersei_Sentiment"
   ]
  },
  {
   "cell_type": "markdown",
   "metadata": {
    "collapsed": true
   },
   "source": [
    "### Daenerys Targaryan"
   ]
  },
  {
   "cell_type": "code",
   "execution_count": 290,
   "metadata": {},
   "outputs": [],
   "source": [
    "Daenerys = season_five.loc['Daenerys']\n",
    "#print Daenerys"
   ]
  },
  {
   "cell_type": "code",
   "execution_count": 291,
   "metadata": {},
   "outputs": [],
   "source": [
    "Dany_Text = Daenerys.values.tolist()\n",
    "#Dany_Text"
   ]
  },
  {
   "cell_type": "code",
   "execution_count": 292,
   "metadata": {
    "scrolled": true
   },
   "outputs": [],
   "source": [
    "Dany_Words = []\n",
    "\n",
    "for word in Dany_Text:\n",
    "    if len(word)>=1:\n",
    "        if word != '0':\n",
    "            Dany_Words.append(word)\n",
    "        \n",
    "#Dany_Words "
   ]
  },
  {
   "cell_type": "code",
   "execution_count": 293,
   "metadata": {},
   "outputs": [],
   "source": [
    "Dany_Words_String = ' '.join(Dany_Words)\n",
    "#Dany_Words_String"
   ]
  },
  {
   "cell_type": "code",
   "execution_count": 294,
   "metadata": {},
   "outputs": [
    {
     "data": {
      "text/plain": [
       "1839"
      ]
     },
     "execution_count": 294,
     "metadata": {},
     "output_type": "execute_result"
    }
   ],
   "source": [
    "Dany_String_Length = len(Dany_Words_String)\n",
    "Dany_String_Length"
   ]
  },
  {
   "cell_type": "code",
   "execution_count": 295,
   "metadata": {},
   "outputs": [
    {
     "data": {
      "text/plain": [
       "Sentiment(polarity=0.1770833333333333, subjectivity=0.5620370370370371)"
      ]
     },
     "execution_count": 295,
     "metadata": {},
     "output_type": "execute_result"
    }
   ],
   "source": [
    "Dany_Sentiment = TextBlob(Dany_Words_String).sentiment\n",
    "Dany_Sentiment"
   ]
  },
  {
   "cell_type": "markdown",
   "metadata": {
    "collapsed": true
   },
   "source": [
    "### Davos Seaworth"
   ]
  },
  {
   "cell_type": "code",
   "execution_count": 296,
   "metadata": {},
   "outputs": [],
   "source": [
    "Davos = season_five.loc['Davos']\n",
    "#print Davos"
   ]
  },
  {
   "cell_type": "code",
   "execution_count": 297,
   "metadata": {},
   "outputs": [],
   "source": [
    "Davos_Text = Davos.values.tolist()\n",
    "#Davos_Text"
   ]
  },
  {
   "cell_type": "code",
   "execution_count": 298,
   "metadata": {
    "scrolled": true
   },
   "outputs": [],
   "source": [
    "Davos_Words = []\n",
    "\n",
    "for word in Davos_Text:\n",
    "    if len(word)>=1:\n",
    "        if word != '0':\n",
    "            Davos_Words.append(word)\n",
    "        \n",
    "#Davos_Words "
   ]
  },
  {
   "cell_type": "code",
   "execution_count": 299,
   "metadata": {},
   "outputs": [],
   "source": [
    "Davos_Words_String = ' '.join(Davos_Words)\n",
    "#Davos_Words_String"
   ]
  },
  {
   "cell_type": "code",
   "execution_count": 300,
   "metadata": {},
   "outputs": [
    {
     "data": {
      "text/plain": [
       "1005"
      ]
     },
     "execution_count": 300,
     "metadata": {},
     "output_type": "execute_result"
    }
   ],
   "source": [
    "Davos_String_Length = len(Davos_Words_String)\n",
    "Davos_String_Length"
   ]
  },
  {
   "cell_type": "code",
   "execution_count": 301,
   "metadata": {},
   "outputs": [
    {
     "data": {
      "text/plain": [
       "Sentiment(polarity=0.06774734926908842, subjectivity=0.5709533220402786)"
      ]
     },
     "execution_count": 301,
     "metadata": {},
     "output_type": "execute_result"
    }
   ],
   "source": [
    "Davos_Sentiment = TextBlob(Davos_Words_String).sentiment\n",
    "Davos_Sentiment"
   ]
  },
  {
   "cell_type": "markdown",
   "metadata": {
    "collapsed": true
   },
   "source": [
    "### Gilly"
   ]
  },
  {
   "cell_type": "code",
   "execution_count": 302,
   "metadata": {},
   "outputs": [],
   "source": [
    "Gilly = season_five.loc['Gilly']\n",
    "#print Gilly"
   ]
  },
  {
   "cell_type": "code",
   "execution_count": 303,
   "metadata": {},
   "outputs": [],
   "source": [
    "Gilly_Text = Gilly.values.tolist()\n",
    "#Gilly_Text"
   ]
  },
  {
   "cell_type": "code",
   "execution_count": 304,
   "metadata": {
    "scrolled": true
   },
   "outputs": [],
   "source": [
    "Gilly_Words = []\n",
    "\n",
    "for word in Gilly_Text:\n",
    "    if len(word)>=1:\n",
    "        if word != '0':\n",
    "            Gilly_Words.append(word)\n",
    "        \n",
    "#Gilly_Words "
   ]
  },
  {
   "cell_type": "code",
   "execution_count": 305,
   "metadata": {},
   "outputs": [],
   "source": [
    "Gilly_Words_String = ' '.join(Gilly_Words)\n",
    "#Gilly_Words_String"
   ]
  },
  {
   "cell_type": "code",
   "execution_count": 306,
   "metadata": {},
   "outputs": [
    {
     "data": {
      "text/plain": [
       "466"
      ]
     },
     "execution_count": 306,
     "metadata": {},
     "output_type": "execute_result"
    }
   ],
   "source": [
    "Gilly_String_Length = len(Gilly_Words_String)\n",
    "Gilly_String_Length"
   ]
  },
  {
   "cell_type": "code",
   "execution_count": 307,
   "metadata": {},
   "outputs": [
    {
     "data": {
      "text/plain": [
       "Sentiment(polarity=0.10357142857142856, subjectivity=0.7428571428571428)"
      ]
     },
     "execution_count": 307,
     "metadata": {},
     "output_type": "execute_result"
    }
   ],
   "source": [
    "Gilly_Sentiment = TextBlob(Gilly_Words_String).sentiment\n",
    "Gilly_Sentiment"
   ]
  },
  {
   "cell_type": "markdown",
   "metadata": {
    "collapsed": true
   },
   "source": [
    "### Jaime Lannister"
   ]
  },
  {
   "cell_type": "code",
   "execution_count": 308,
   "metadata": {},
   "outputs": [],
   "source": [
    "Jaime = season_five.loc['Jaime']\n",
    "#print Jaime"
   ]
  },
  {
   "cell_type": "code",
   "execution_count": 309,
   "metadata": {},
   "outputs": [],
   "source": [
    "Jaime_Text = Jaime.values.tolist()\n",
    "#Jaime_Text"
   ]
  },
  {
   "cell_type": "code",
   "execution_count": 310,
   "metadata": {
    "scrolled": true
   },
   "outputs": [],
   "source": [
    "Jaime_Words = []\n",
    "\n",
    "for word in Jaime_Text:\n",
    "    if len(word)>=1:\n",
    "        if word != '0':\n",
    "            Jaime_Words.append(word)\n",
    "        \n",
    "#Jaime_Words "
   ]
  },
  {
   "cell_type": "code",
   "execution_count": 311,
   "metadata": {},
   "outputs": [],
   "source": [
    "Jaime_Words_String = ' '.join(Jaime_Words)\n",
    "#Jaime_Words_String"
   ]
  },
  {
   "cell_type": "code",
   "execution_count": 312,
   "metadata": {},
   "outputs": [],
   "source": [
    "Jaime_String_Length = len(Jaime_Words_String)\n",
    "#Jaime_String_Length"
   ]
  },
  {
   "cell_type": "code",
   "execution_count": 313,
   "metadata": {},
   "outputs": [
    {
     "data": {
      "text/plain": [
       "Sentiment(polarity=0.22473118279569887, subjectivity=0.7362903225806453)"
      ]
     },
     "execution_count": 313,
     "metadata": {},
     "output_type": "execute_result"
    }
   ],
   "source": [
    "Jaime_Sentiment = TextBlob(Jaime_Words_String).sentiment\n",
    "Jaime_Sentiment"
   ]
  },
  {
   "cell_type": "markdown",
   "metadata": {
    "collapsed": true
   },
   "source": [
    "### Jon Snow"
   ]
  },
  {
   "cell_type": "code",
   "execution_count": 314,
   "metadata": {},
   "outputs": [],
   "source": [
    "Jon = season_five.loc['Jon']\n",
    "#print Jon"
   ]
  },
  {
   "cell_type": "code",
   "execution_count": 315,
   "metadata": {},
   "outputs": [],
   "source": [
    "Jon_Text = Jon.values.tolist()\n",
    "#Jon_Text"
   ]
  },
  {
   "cell_type": "code",
   "execution_count": 316,
   "metadata": {
    "scrolled": true
   },
   "outputs": [],
   "source": [
    "Jon_Words = []\n",
    "\n",
    "for word in Jon_Text:\n",
    "    if len(word)>=1:\n",
    "        if word != '0':\n",
    "            Jon_Words.append(word)\n",
    "        \n",
    "#Jon_Words "
   ]
  },
  {
   "cell_type": "code",
   "execution_count": 317,
   "metadata": {},
   "outputs": [],
   "source": [
    "Jon_Words_String = ' '.join(Jon_Words)\n",
    "#Jon_Words_String"
   ]
  },
  {
   "cell_type": "code",
   "execution_count": 318,
   "metadata": {},
   "outputs": [
    {
     "data": {
      "text/plain": [
       "2145"
      ]
     },
     "execution_count": 318,
     "metadata": {},
     "output_type": "execute_result"
    }
   ],
   "source": [
    "Jon_String_Length = len(Jon_Words_String)\n",
    "Jon_String_Length"
   ]
  },
  {
   "cell_type": "code",
   "execution_count": 319,
   "metadata": {},
   "outputs": [
    {
     "data": {
      "text/plain": [
       "Sentiment(polarity=0.10729564553093966, subjectivity=0.5183473389355743)"
      ]
     },
     "execution_count": 319,
     "metadata": {},
     "output_type": "execute_result"
    }
   ],
   "source": [
    "Jon_Sentiment = TextBlob(Jon_Words_String).sentiment\n",
    "Jon_Sentiment"
   ]
  },
  {
   "cell_type": "markdown",
   "metadata": {
    "collapsed": true
   },
   "source": [
    "### Jorah Mormont"
   ]
  },
  {
   "cell_type": "code",
   "execution_count": 320,
   "metadata": {},
   "outputs": [],
   "source": [
    "Jorah = season_five.loc['Jorah']\n",
    "#print Jorah"
   ]
  },
  {
   "cell_type": "code",
   "execution_count": 321,
   "metadata": {},
   "outputs": [],
   "source": [
    "Jorah_Text = Jorah.values.tolist()\n",
    "#Jorah_Text"
   ]
  },
  {
   "cell_type": "code",
   "execution_count": 322,
   "metadata": {
    "scrolled": true
   },
   "outputs": [],
   "source": [
    "Jorah_Words = []\n",
    "\n",
    "for word in Jorah_Text:\n",
    "    if len(word)>=1:\n",
    "        if word != '0':\n",
    "            Jorah_Words.append(word)\n",
    "        \n",
    "#Jorah_Words "
   ]
  },
  {
   "cell_type": "code",
   "execution_count": 323,
   "metadata": {},
   "outputs": [],
   "source": [
    "Jorah_Words_String = ' '.join(Jorah_Words)\n",
    "#Jorah_Words_String"
   ]
  },
  {
   "cell_type": "code",
   "execution_count": 324,
   "metadata": {},
   "outputs": [
    {
     "data": {
      "text/plain": [
       "733"
      ]
     },
     "execution_count": 324,
     "metadata": {},
     "output_type": "execute_result"
    }
   ],
   "source": [
    "Jorah_String_Length = len(Jorah_Words_String)\n",
    "Jorah_String_Length"
   ]
  },
  {
   "cell_type": "code",
   "execution_count": 325,
   "metadata": {},
   "outputs": [
    {
     "data": {
      "text/plain": [
       "Sentiment(polarity=0.11187641723356008, subjectivity=0.4519368858654572)"
      ]
     },
     "execution_count": 325,
     "metadata": {},
     "output_type": "execute_result"
    }
   ],
   "source": [
    "Jorah_Sentiment = TextBlob(Jorah_Words_String).sentiment\n",
    "Jorah_Sentiment"
   ]
  },
  {
   "cell_type": "markdown",
   "metadata": {
    "collapsed": true
   },
   "source": [
    "### Margaery Tyrell"
   ]
  },
  {
   "cell_type": "code",
   "execution_count": 326,
   "metadata": {},
   "outputs": [],
   "source": [
    "Margaery = season_five.loc['Margaery']\n",
    "#print Margaery"
   ]
  },
  {
   "cell_type": "code",
   "execution_count": 327,
   "metadata": {},
   "outputs": [],
   "source": [
    "Margaery_Text = Margaery.values.tolist()\n",
    "#Margaery_Text"
   ]
  },
  {
   "cell_type": "code",
   "execution_count": 328,
   "metadata": {
    "scrolled": true
   },
   "outputs": [],
   "source": [
    "Margaery_Words = []\n",
    "\n",
    "for word in Margaery_Text:\n",
    "    if len(word)>=1:\n",
    "        if word != '0':\n",
    "            Margaery_Words.append(word)\n",
    "        \n",
    "#Margaery_Words "
   ]
  },
  {
   "cell_type": "code",
   "execution_count": 329,
   "metadata": {},
   "outputs": [],
   "source": [
    "Margaery_Words_String = ' '.join(Margaery_Words)\n",
    "#Margaery_Words_String"
   ]
  },
  {
   "cell_type": "code",
   "execution_count": 330,
   "metadata": {},
   "outputs": [
    {
     "data": {
      "text/plain": [
       "835"
      ]
     },
     "execution_count": 330,
     "metadata": {},
     "output_type": "execute_result"
    }
   ],
   "source": [
    "Margaery_String_Length = len(Margaery_Words_String)\n",
    "Margaery_String_Length"
   ]
  },
  {
   "cell_type": "code",
   "execution_count": 331,
   "metadata": {},
   "outputs": [
    {
     "data": {
      "text/plain": [
       "Sentiment(polarity=0.18622222222222226, subjectivity=0.7137777777777778)"
      ]
     },
     "execution_count": 331,
     "metadata": {},
     "output_type": "execute_result"
    }
   ],
   "source": [
    "Margaery_Sentiment = TextBlob(Margaery_Words_String).sentiment\n",
    "Margaery_Sentiment"
   ]
  },
  {
   "cell_type": "markdown",
   "metadata": {
    "collapsed": true
   },
   "source": [
    "### Melisandre"
   ]
  },
  {
   "cell_type": "code",
   "execution_count": 332,
   "metadata": {},
   "outputs": [],
   "source": [
    "Melisandre = season_five.loc['Melisandre']\n",
    "#print Melisandre"
   ]
  },
  {
   "cell_type": "code",
   "execution_count": 333,
   "metadata": {},
   "outputs": [],
   "source": [
    "Melisandre_Text = Melisandre.values.tolist()\n",
    "#Melisandre_Text"
   ]
  },
  {
   "cell_type": "code",
   "execution_count": 334,
   "metadata": {
    "scrolled": true
   },
   "outputs": [],
   "source": [
    "Melisandre_Words = []\n",
    "\n",
    "for word in Melisandre_Text:\n",
    "    if len(word)>=1:\n",
    "        if word != '0':\n",
    "            Melisandre_Words.append(word)\n",
    "        \n",
    "#Melisandre_Words "
   ]
  },
  {
   "cell_type": "code",
   "execution_count": 335,
   "metadata": {},
   "outputs": [],
   "source": [
    "Melisandre_Words_String = ' '.join(Melisandre_Words)\n",
    "#Melisandre_Words_String"
   ]
  },
  {
   "cell_type": "code",
   "execution_count": 336,
   "metadata": {},
   "outputs": [
    {
     "data": {
      "text/plain": [
       "512"
      ]
     },
     "execution_count": 336,
     "metadata": {},
     "output_type": "execute_result"
    }
   ],
   "source": [
    "Melisandre_String_Length = len(Melisandre_Words_String)\n",
    "Melisandre_String_Length"
   ]
  },
  {
   "cell_type": "code",
   "execution_count": 337,
   "metadata": {},
   "outputs": [
    {
     "data": {
      "text/plain": [
       "Sentiment(polarity=0.11499999999999999, subjectivity=0.38166666666666665)"
      ]
     },
     "execution_count": 337,
     "metadata": {},
     "output_type": "execute_result"
    }
   ],
   "source": [
    "Melisandre_Sentiment = TextBlob(Melisandre_Words_String).sentiment\n",
    "Melisandre_Sentiment"
   ]
  },
  {
   "cell_type": "markdown",
   "metadata": {
    "collapsed": true
   },
   "source": [
    "### Missandei"
   ]
  },
  {
   "cell_type": "code",
   "execution_count": 338,
   "metadata": {},
   "outputs": [],
   "source": [
    "Missandei = season_five.loc['Missandei']\n",
    "#print Missandei"
   ]
  },
  {
   "cell_type": "code",
   "execution_count": 339,
   "metadata": {},
   "outputs": [],
   "source": [
    "Missandei_Text = Missandei.values.tolist()\n",
    "#Missandei_Text"
   ]
  },
  {
   "cell_type": "code",
   "execution_count": 340,
   "metadata": {
    "scrolled": true
   },
   "outputs": [],
   "source": [
    "Missandei_Words = []\n",
    "\n",
    "for word in Missandei_Text:\n",
    "    if len(word)>=1:\n",
    "        if word != '0':\n",
    "            Missandei_Words.append(word)\n",
    "        \n",
    "#Missandei_Words "
   ]
  },
  {
   "cell_type": "code",
   "execution_count": 341,
   "metadata": {},
   "outputs": [],
   "source": [
    "Missandei_Words_String = ' '.join(Missandei_Words)\n",
    "#Missandei_Words_String"
   ]
  },
  {
   "cell_type": "code",
   "execution_count": 342,
   "metadata": {},
   "outputs": [
    {
     "data": {
      "text/plain": [
       "203"
      ]
     },
     "execution_count": 342,
     "metadata": {},
     "output_type": "execute_result"
    }
   ],
   "source": [
    "Missandei_String_Length = len(Missandei_Words_String)\n",
    "Missandei_String_Length"
   ]
  },
  {
   "cell_type": "code",
   "execution_count": 343,
   "metadata": {},
   "outputs": [
    {
     "data": {
      "text/plain": [
       "Sentiment(polarity=0.11388888888888889, subjectivity=0.4305555555555555)"
      ]
     },
     "execution_count": 343,
     "metadata": {},
     "output_type": "execute_result"
    }
   ],
   "source": [
    "Missandei_Sentiment = TextBlob(Missandei_Words_String).sentiment\n",
    "Missandei_Sentiment"
   ]
  },
  {
   "cell_type": "markdown",
   "metadata": {
    "collapsed": true
   },
   "source": [
    "### Olenna Tyrell"
   ]
  },
  {
   "cell_type": "code",
   "execution_count": 344,
   "metadata": {},
   "outputs": [],
   "source": [
    "Olenna = season_five.loc['Olenna']\n",
    "#print Olenna"
   ]
  },
  {
   "cell_type": "code",
   "execution_count": 345,
   "metadata": {},
   "outputs": [],
   "source": [
    "Olenna_Text = Olenna.values.tolist()\n",
    "#Olenna_Text"
   ]
  },
  {
   "cell_type": "code",
   "execution_count": 346,
   "metadata": {
    "scrolled": true
   },
   "outputs": [],
   "source": [
    "Olenna_Words = []\n",
    "\n",
    "for word in Olenna_Text:\n",
    "    if len(word)>=1:\n",
    "        if word != '0':\n",
    "            Olenna_Words.append(word)\n",
    "        \n",
    "#Olenna_Words "
   ]
  },
  {
   "cell_type": "code",
   "execution_count": 347,
   "metadata": {},
   "outputs": [],
   "source": [
    "Olenna_Words_String = ' '.join(Olenna_Words)\n",
    "#Olenna_Words_String"
   ]
  },
  {
   "cell_type": "code",
   "execution_count": 348,
   "metadata": {},
   "outputs": [
    {
     "data": {
      "text/plain": [
       "620"
      ]
     },
     "execution_count": 348,
     "metadata": {},
     "output_type": "execute_result"
    }
   ],
   "source": [
    "Olenna_String_Length = len(Olenna_Words_String)\n",
    "Olenna_String_Length"
   ]
  },
  {
   "cell_type": "code",
   "execution_count": 349,
   "metadata": {},
   "outputs": [
    {
     "data": {
      "text/plain": [
       "Sentiment(polarity=-0.0033333333333333214, subjectivity=0.5816666666666667)"
      ]
     },
     "execution_count": 349,
     "metadata": {},
     "output_type": "execute_result"
    }
   ],
   "source": [
    "Olenna_Sentiment = TextBlob(Olenna_Words_String).sentiment\n",
    "Olenna_Sentiment"
   ]
  },
  {
   "cell_type": "markdown",
   "metadata": {
    "collapsed": true
   },
   "source": [
    "### Ramsay Bolton"
   ]
  },
  {
   "cell_type": "code",
   "execution_count": 350,
   "metadata": {},
   "outputs": [],
   "source": [
    "Ramsay = season_five.loc['Ramsay']\n",
    "#print Ramsay"
   ]
  },
  {
   "cell_type": "code",
   "execution_count": 351,
   "metadata": {},
   "outputs": [],
   "source": [
    "Ramsay_Text = Ramsay.values.tolist()\n",
    "#Ramsay_Text"
   ]
  },
  {
   "cell_type": "code",
   "execution_count": 352,
   "metadata": {
    "scrolled": true
   },
   "outputs": [],
   "source": [
    "Ramsay_Words = []\n",
    "\n",
    "for word in Ramsay_Text:\n",
    "    if len(word)>=1:\n",
    "        if word != '0':\n",
    "            Ramsay_Words.append(word)\n",
    "        \n",
    "#Ramsay_Words "
   ]
  },
  {
   "cell_type": "code",
   "execution_count": 353,
   "metadata": {},
   "outputs": [],
   "source": [
    "Ramsay_Words_String = ' '.join(Ramsay_Words)\n",
    "#Ramsay_Words_String"
   ]
  },
  {
   "cell_type": "code",
   "execution_count": 354,
   "metadata": {},
   "outputs": [
    {
     "data": {
      "text/plain": [
       "933"
      ]
     },
     "execution_count": 354,
     "metadata": {},
     "output_type": "execute_result"
    }
   ],
   "source": [
    "Ramsay_String_Length = len(Ramsay_Words_String)\n",
    "Ramsay_String_Length"
   ]
  },
  {
   "cell_type": "code",
   "execution_count": 355,
   "metadata": {},
   "outputs": [
    {
     "data": {
      "text/plain": [
       "Sentiment(polarity=0.08597763347763347, subjectivity=0.6397402597402596)"
      ]
     },
     "execution_count": 355,
     "metadata": {},
     "output_type": "execute_result"
    }
   ],
   "source": [
    "Ramsay_Sentiment = TextBlob(Ramsay_Words_String).sentiment\n",
    "Ramsay_Sentiment"
   ]
  },
  {
   "cell_type": "markdown",
   "metadata": {
    "collapsed": true
   },
   "source": [
    "### Samwell Tarly"
   ]
  },
  {
   "cell_type": "code",
   "execution_count": 356,
   "metadata": {},
   "outputs": [],
   "source": [
    "Sam = season_five.loc['Sam']\n",
    "#print Sam"
   ]
  },
  {
   "cell_type": "code",
   "execution_count": 357,
   "metadata": {},
   "outputs": [],
   "source": [
    "Sam_Text = Sam.values.tolist()\n",
    "#Sam_Text"
   ]
  },
  {
   "cell_type": "code",
   "execution_count": 358,
   "metadata": {
    "scrolled": true
   },
   "outputs": [],
   "source": [
    "Sam_Words = []\n",
    "\n",
    "for word in Sam_Text:\n",
    "    if len(word)>=1:\n",
    "        if word != '0':\n",
    "            Sam_Words.append(word)\n",
    "        \n",
    "#Sam_Words "
   ]
  },
  {
   "cell_type": "code",
   "execution_count": 359,
   "metadata": {},
   "outputs": [],
   "source": [
    "Sam_Words_String = ' '.join(Sam_Words)\n",
    "#Sam_Words_String"
   ]
  },
  {
   "cell_type": "code",
   "execution_count": 360,
   "metadata": {},
   "outputs": [
    {
     "data": {
      "text/plain": [
       "1130"
      ]
     },
     "execution_count": 360,
     "metadata": {},
     "output_type": "execute_result"
    }
   ],
   "source": [
    "Sam_String_Length = len(Sam_Words_String)\n",
    "Sam_String_Length"
   ]
  },
  {
   "cell_type": "code",
   "execution_count": 361,
   "metadata": {},
   "outputs": [
    {
     "data": {
      "text/plain": [
       "Sentiment(polarity=-0.04237012987012988, subjectivity=0.5159752284752285)"
      ]
     },
     "execution_count": 361,
     "metadata": {},
     "output_type": "execute_result"
    }
   ],
   "source": [
    "Sam_Sentiment = TextBlob(Sam_Words_String).sentiment\n",
    "Sam_Sentiment"
   ]
  },
  {
   "cell_type": "markdown",
   "metadata": {
    "collapsed": true
   },
   "source": [
    "### Sansa Stark"
   ]
  },
  {
   "cell_type": "code",
   "execution_count": 362,
   "metadata": {},
   "outputs": [],
   "source": [
    "Sansa = season_five.loc['Sansa']\n",
    "#print Sansa"
   ]
  },
  {
   "cell_type": "code",
   "execution_count": 363,
   "metadata": {},
   "outputs": [],
   "source": [
    "Sansa_Text = Sansa.values.tolist()\n",
    "#Sansa_Text"
   ]
  },
  {
   "cell_type": "code",
   "execution_count": 364,
   "metadata": {
    "scrolled": true
   },
   "outputs": [],
   "source": [
    "Sansa_Words = []\n",
    "\n",
    "for word in Sansa_Text:\n",
    "    if len(word)>=1:\n",
    "        if word != '0':\n",
    "            Sansa_Words.append(word)\n",
    "        \n",
    "#Sansa_Words "
   ]
  },
  {
   "cell_type": "code",
   "execution_count": 365,
   "metadata": {},
   "outputs": [],
   "source": [
    "Sansa_Words_String = ' '.join(Sansa_Words)\n",
    "#Sansa_Words_String"
   ]
  },
  {
   "cell_type": "code",
   "execution_count": 366,
   "metadata": {},
   "outputs": [
    {
     "data": {
      "text/plain": [
       "1045"
      ]
     },
     "execution_count": 366,
     "metadata": {},
     "output_type": "execute_result"
    }
   ],
   "source": [
    "Sansa_String_Length = len(Sansa_Words_String)\n",
    "Sansa_String_Length"
   ]
  },
  {
   "cell_type": "code",
   "execution_count": 367,
   "metadata": {},
   "outputs": [
    {
     "data": {
      "text/plain": [
       "Sentiment(polarity=0.2036340852130326, subjectivity=0.6176691729323309)"
      ]
     },
     "execution_count": 367,
     "metadata": {},
     "output_type": "execute_result"
    }
   ],
   "source": [
    "Sansa_Sentiment = TextBlob(Sansa_Words_String).sentiment\n",
    "Sansa_Sentiment"
   ]
  },
  {
   "cell_type": "markdown",
   "metadata": {
    "collapsed": true
   },
   "source": [
    "### Shireen Baratheon"
   ]
  },
  {
   "cell_type": "code",
   "execution_count": 368,
   "metadata": {},
   "outputs": [],
   "source": [
    "Shireen = season_five.loc['Shireen']\n",
    "#print Shireen"
   ]
  },
  {
   "cell_type": "code",
   "execution_count": 369,
   "metadata": {},
   "outputs": [],
   "source": [
    "Shireen_Text = Shireen.values.tolist()\n",
    "#Shireen_Text"
   ]
  },
  {
   "cell_type": "code",
   "execution_count": 370,
   "metadata": {
    "scrolled": true
   },
   "outputs": [],
   "source": [
    "Shireen_Words = []\n",
    "\n",
    "for word in Shireen_Text:\n",
    "    if len(word)>=1:\n",
    "        if word != '0':\n",
    "            Shireen_Words.append(word)\n",
    "        \n",
    "#Shireen_Words "
   ]
  },
  {
   "cell_type": "code",
   "execution_count": 371,
   "metadata": {},
   "outputs": [],
   "source": [
    "Shireen_Words_String = ' '.join(Shireen_Words)\n",
    "#Shireen_Words_String"
   ]
  },
  {
   "cell_type": "code",
   "execution_count": 372,
   "metadata": {},
   "outputs": [
    {
     "data": {
      "text/plain": [
       "487"
      ]
     },
     "execution_count": 372,
     "metadata": {},
     "output_type": "execute_result"
    }
   ],
   "source": [
    "Shireen_String_Length = len(Shireen_Words_String)\n",
    "Shireen_String_Length"
   ]
  },
  {
   "cell_type": "code",
   "execution_count": 373,
   "metadata": {},
   "outputs": [
    {
     "data": {
      "text/plain": [
       "Sentiment(polarity=0.4851190476190476, subjectivity=0.580952380952381)"
      ]
     },
     "execution_count": 373,
     "metadata": {},
     "output_type": "execute_result"
    }
   ],
   "source": [
    "Shireen_Sentiment = TextBlob(Shireen_Words_String).sentiment\n",
    "Shireen_Sentiment"
   ]
  },
  {
   "cell_type": "markdown",
   "metadata": {
    "collapsed": true
   },
   "source": [
    "### Stannis Baratheon¶"
   ]
  },
  {
   "cell_type": "code",
   "execution_count": 374,
   "metadata": {},
   "outputs": [],
   "source": [
    "Stannis = season_five.loc['Stannis']\n",
    "#print Stannis"
   ]
  },
  {
   "cell_type": "code",
   "execution_count": 375,
   "metadata": {},
   "outputs": [],
   "source": [
    "Stannis_Text = Stannis.values.tolist()\n",
    "#Stannis_Text"
   ]
  },
  {
   "cell_type": "code",
   "execution_count": 376,
   "metadata": {
    "scrolled": true
   },
   "outputs": [],
   "source": [
    "Stannis_Words = []\n",
    "\n",
    "for word in Stannis_Text:\n",
    "    if len(word)>=1:\n",
    "        if word != '0':\n",
    "            Stannis_Words.append(word)\n",
    "        \n",
    "#Stannis_Words "
   ]
  },
  {
   "cell_type": "code",
   "execution_count": 377,
   "metadata": {},
   "outputs": [],
   "source": [
    "Stannis_Words_String = ' '.join(Stannis_Words)\n",
    "#Stannis_Words_String"
   ]
  },
  {
   "cell_type": "code",
   "execution_count": 378,
   "metadata": {},
   "outputs": [
    {
     "data": {
      "text/plain": [
       "1437"
      ]
     },
     "execution_count": 378,
     "metadata": {},
     "output_type": "execute_result"
    }
   ],
   "source": [
    "Stannis_String_Length = len(Stannis_Words_String)\n",
    "Stannis_String_Length"
   ]
  },
  {
   "cell_type": "code",
   "execution_count": 379,
   "metadata": {},
   "outputs": [
    {
     "data": {
      "text/plain": [
       "Sentiment(polarity=0.07684498041640897, subjectivity=0.5309334845049131)"
      ]
     },
     "execution_count": 379,
     "metadata": {},
     "output_type": "execute_result"
    }
   ],
   "source": [
    "Stannis_Sentiment = TextBlob(Stannis_Words_String).sentiment\n",
    "Stannis_Sentiment"
   ]
  },
  {
   "cell_type": "markdown",
   "metadata": {
    "collapsed": true
   },
   "source": [
    "### Theon Greyjoy"
   ]
  },
  {
   "cell_type": "code",
   "execution_count": 380,
   "metadata": {},
   "outputs": [],
   "source": [
    "Theon = season_five.loc['Theon']\n",
    "#print Theon"
   ]
  },
  {
   "cell_type": "code",
   "execution_count": 381,
   "metadata": {},
   "outputs": [],
   "source": [
    "Theon_Text = Theon.values.tolist()\n",
    "#Theon_Text"
   ]
  },
  {
   "cell_type": "code",
   "execution_count": 382,
   "metadata": {
    "scrolled": true
   },
   "outputs": [],
   "source": [
    "Theon_Words = []\n",
    "\n",
    "for word in Theon_Text:\n",
    "    if len(word)>=1:\n",
    "        if word != '0':\n",
    "            Theon_Words.append(word)\n",
    "        \n",
    "#Theon_Words "
   ]
  },
  {
   "cell_type": "code",
   "execution_count": 383,
   "metadata": {},
   "outputs": [],
   "source": [
    "Theon_Words_String = ' '.join(Theon_Words)\n",
    "#Theon_Words_String"
   ]
  },
  {
   "cell_type": "code",
   "execution_count": 384,
   "metadata": {},
   "outputs": [
    {
     "data": {
      "text/plain": [
       "541"
      ]
     },
     "execution_count": 384,
     "metadata": {},
     "output_type": "execute_result"
    }
   ],
   "source": [
    "Theon_String_Length = len(Theon_Words_String)\n",
    "Theon_String_Length"
   ]
  },
  {
   "cell_type": "code",
   "execution_count": 385,
   "metadata": {},
   "outputs": [
    {
     "data": {
      "text/plain": [
       "Sentiment(polarity=-0.1, subjectivity=0.4875)"
      ]
     },
     "execution_count": 385,
     "metadata": {},
     "output_type": "execute_result"
    }
   ],
   "source": [
    "Theon_Sentiment = TextBlob(Theon_Words_String).sentiment\n",
    "Theon_Sentiment"
   ]
  },
  {
   "cell_type": "markdown",
   "metadata": {
    "collapsed": true
   },
   "source": [
    "### Tyrion Lannister"
   ]
  },
  {
   "cell_type": "code",
   "execution_count": 386,
   "metadata": {},
   "outputs": [],
   "source": [
    "Tyrion = season_five.loc['Tyrion']\n",
    "#print Tyrion"
   ]
  },
  {
   "cell_type": "code",
   "execution_count": 387,
   "metadata": {},
   "outputs": [],
   "source": [
    "Tyrion_Text = Tyrion.values.tolist()\n",
    "#Tyrion_Text"
   ]
  },
  {
   "cell_type": "code",
   "execution_count": 388,
   "metadata": {
    "scrolled": true
   },
   "outputs": [],
   "source": [
    "Tyrion_Words = []\n",
    "\n",
    "for word in Tyrion_Text:\n",
    "    if len(word)>=1:\n",
    "        if word != '0':\n",
    "            Tyrion_Words.append(word)\n",
    "        \n",
    "#Tyrion_Words "
   ]
  },
  {
   "cell_type": "code",
   "execution_count": 389,
   "metadata": {},
   "outputs": [],
   "source": [
    "Tyrion_Words_String = ' '.join(Tyrion_Words)\n",
    "#Tyrion_Words_String"
   ]
  },
  {
   "cell_type": "code",
   "execution_count": 391,
   "metadata": {},
   "outputs": [
    {
     "data": {
      "text/plain": [
       "1839"
      ]
     },
     "execution_count": 391,
     "metadata": {},
     "output_type": "execute_result"
    }
   ],
   "source": [
    "Tyrion_String_Length = len(Dany_Words_String)\n",
    "Tyrion_String_Length"
   ]
  },
  {
   "cell_type": "code",
   "execution_count": 392,
   "metadata": {},
   "outputs": [
    {
     "data": {
      "text/plain": [
       "Sentiment(polarity=0.1770833333333333, subjectivity=0.5620370370370371)"
      ]
     },
     "execution_count": 392,
     "metadata": {},
     "output_type": "execute_result"
    }
   ],
   "source": [
    "Tyrion_Sentiment = TextBlob(Dany_Words_String).sentiment\n",
    "Tyrion_Sentiment"
   ]
  },
  {
   "cell_type": "markdown",
   "metadata": {
    "collapsed": true
   },
   "source": [
    "### Varys"
   ]
  },
  {
   "cell_type": "code",
   "execution_count": 393,
   "metadata": {},
   "outputs": [],
   "source": [
    "Varys = season_five.loc['Varys']\n",
    "#print Varys"
   ]
  },
  {
   "cell_type": "code",
   "execution_count": 394,
   "metadata": {},
   "outputs": [],
   "source": [
    "Varys_Text = Varys.values.tolist()\n",
    "#Varys_Text"
   ]
  },
  {
   "cell_type": "code",
   "execution_count": 395,
   "metadata": {
    "scrolled": true
   },
   "outputs": [],
   "source": [
    "Varys_Words = []\n",
    "\n",
    "for word in Varys_Text:\n",
    "    if len(word)>=1:\n",
    "        if word != '0':\n",
    "            Varys_Words.append(word)\n",
    "        \n",
    "#Varys_Words "
   ]
  },
  {
   "cell_type": "code",
   "execution_count": 396,
   "metadata": {},
   "outputs": [],
   "source": [
    "Varys_Words_String = ' '.join(Varys_Words)\n",
    "#Varys_Words_String"
   ]
  },
  {
   "cell_type": "code",
   "execution_count": 397,
   "metadata": {},
   "outputs": [
    {
     "data": {
      "text/plain": [
       "892"
      ]
     },
     "execution_count": 397,
     "metadata": {},
     "output_type": "execute_result"
    }
   ],
   "source": [
    "Varys_String_Length = len(Varys_Words_String)\n",
    "Varys_String_Length"
   ]
  },
  {
   "cell_type": "code",
   "execution_count": 398,
   "metadata": {},
   "outputs": [
    {
     "data": {
      "text/plain": [
       "Sentiment(polarity=0.3559818968909878, subjectivity=0.5848747212383576)"
      ]
     },
     "execution_count": 398,
     "metadata": {},
     "output_type": "execute_result"
    }
   ],
   "source": [
    "Varys_Sentiment = TextBlob(Varys_Words_String).sentiment\n",
    "Varys_Sentiment"
   ]
  },
  {
   "cell_type": "code",
   "execution_count": null,
   "metadata": {
    "collapsed": true
   },
   "outputs": [],
   "source": []
  },
  {
   "cell_type": "code",
   "execution_count": null,
   "metadata": {
    "collapsed": true
   },
   "outputs": [],
   "source": []
  }
 ],
 "metadata": {
  "kernelspec": {
   "display_name": "Python 2",
   "language": "python",
   "name": "python2"
  },
  "language_info": {
   "codemirror_mode": {
    "name": "ipython",
    "version": 2
   },
   "file_extension": ".py",
   "mimetype": "text/x-python",
   "name": "python",
   "nbconvert_exporter": "python",
   "pygments_lexer": "ipython2",
   "version": "2.7.13"
  }
 },
 "nbformat": 4,
 "nbformat_minor": 2
}
