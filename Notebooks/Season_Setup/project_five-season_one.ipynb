{
 "cells": [
  {
   "cell_type": "markdown",
   "metadata": {},
   "source": [
    "# Project Five \n",
    "# Game of Thrones - Season One"
   ]
  },
  {
   "cell_type": "markdown",
   "metadata": {},
   "source": [
    "## Importing and Cleaning"
   ]
  },
  {
   "cell_type": "code",
   "execution_count": 1,
   "metadata": {},
   "outputs": [
    {
     "name": "stderr",
     "output_type": "stream",
     "text": [
      "Using Theano backend.\n"
     ]
    }
   ],
   "source": [
    "import numpy as np\n",
    "import pandas as pd\n",
    "import matplotlib.pyplot as plt\n",
    "import seaborn as sns\n",
    "import nltk\n",
    "from nltk.tag import pos_tag\n",
    "from nltk.tokenize import word_tokenize\n",
    "from nltk.tokenize import sent_tokenize\n",
    "from textblob import TextBlob\n",
    "from nltk.corpus import stopwords\n",
    "from sklearn.feature_extraction.text import TfidfVectorizer, CountVectorizer\n",
    "from sklearn.decomposition import NMF, LatentDirichletAllocation\n",
    "import gensim\n",
    "from nltk.tag import pos_tag\n",
    "import re"
   ]
  },
  {
   "cell_type": "code",
   "execution_count": 2,
   "metadata": {
    "collapsed": true
   },
   "outputs": [],
   "source": [
    "pd.set_option('display.max_columns', 125)\n",
    "pd.set_option('display.max_rows', 125)"
   ]
  },
  {
   "cell_type": "code",
   "execution_count": 3,
   "metadata": {
    "collapsed": true
   },
   "outputs": [],
   "source": [
    "df_s1 = pd.read_json('/Users/zoemarkovits/Metis/project_five_got/scrape/season_one.json')"
   ]
  },
  {
   "cell_type": "code",
   "execution_count": 4,
   "metadata": {
    "scrolled": false
   },
   "outputs": [
    {
     "data": {
      "text/html": [
       "<div>\n",
       "<table border=\"1\" class=\"dataframe\">\n",
       "  <thead>\n",
       "    <tr style=\"text-align: right;\">\n",
       "      <th></th>\n",
       "      <th>title</th>\n",
       "      <th>script_text</th>\n",
       "    </tr>\n",
       "  </thead>\n",
       "  <tbody>\n",
       "    <tr>\n",
       "      <th>0</th>\n",
       "      <td>[Winter is Coming]</td>\n",
       "      <td>[[First scene opens with three Rangers riding ...</td>\n",
       "    </tr>\n",
       "    <tr>\n",
       "      <th>1</th>\n",
       "      <td>[The Kingsroad]</td>\n",
       "      <td>[\\n, \\n, Jorah Mormont:,  You need to drink, c...</td>\n",
       "    </tr>\n",
       "    <tr>\n",
       "      <th>2</th>\n",
       "      <td>[Lord Snow]</td>\n",
       "      <td>[\\n, \\n, King’s Landing Guard:,  Welcome, Lord...</td>\n",
       "    </tr>\n",
       "    <tr>\n",
       "      <th>3</th>\n",
       "      <td>[Cripples, Bastards and Broken Things]</td>\n",
       "      <td>[\\n, \\n, Old Nan:,  The little Lord's been dre...</td>\n",
       "    </tr>\n",
       "    <tr>\n",
       "      <th>4</th>\n",
       "      <td>[The Wolf and The Lion]</td>\n",
       "      <td>[\\n, Eddard Stark:,  He'd never worn this armo...</td>\n",
       "    </tr>\n",
       "    <tr>\n",
       "      <th>5</th>\n",
       "      <td>[A Golden Crown]</td>\n",
       "      <td>[\\n, \\n, Eddard Stark:,   Your pardon, your Gr...</td>\n",
       "    </tr>\n",
       "    <tr>\n",
       "      <th>6</th>\n",
       "      <td>[You Win Or You Die]</td>\n",
       "      <td>[\\n, \\n, \\nPoor Ned Stark. Brave man, terrible...</td>\n",
       "    </tr>\n",
       "    <tr>\n",
       "      <th>7</th>\n",
       "      <td>[The Pointy End]</td>\n",
       "      <td>[King's Landing, \\n, \\n, Syrio Forel: ,  Yah! ...</td>\n",
       "    </tr>\n",
       "    <tr>\n",
       "      <th>8</th>\n",
       "      <td>[Baelor]</td>\n",
       "      <td>[\\n, Varys: ,  You've seen better days, my lor...</td>\n",
       "    </tr>\n",
       "    <tr>\n",
       "      <th>9</th>\n",
       "      <td>[Fire and Blood]</td>\n",
       "      <td>[\\n, \\n, Yoren: ,  Look at me. Look at me! Do ...</td>\n",
       "    </tr>\n",
       "  </tbody>\n",
       "</table>\n",
       "</div>"
      ],
      "text/plain": [
       "                                    title  \\\n",
       "0                      [Winter is Coming]   \n",
       "1                         [The Kingsroad]   \n",
       "2                             [Lord Snow]   \n",
       "3  [Cripples, Bastards and Broken Things]   \n",
       "4                 [The Wolf and The Lion]   \n",
       "5                        [A Golden Crown]   \n",
       "6                    [You Win Or You Die]   \n",
       "7                        [The Pointy End]   \n",
       "8                                [Baelor]   \n",
       "9                        [Fire and Blood]   \n",
       "\n",
       "                                         script_text  \n",
       "0  [[First scene opens with three Rangers riding ...  \n",
       "1  [\\n, \\n, Jorah Mormont:,  You need to drink, c...  \n",
       "2  [\\n, \\n, King’s Landing Guard:,  Welcome, Lord...  \n",
       "3  [\\n, \\n, Old Nan:,  The little Lord's been dre...  \n",
       "4  [\\n, Eddard Stark:,  He'd never worn this armo...  \n",
       "5  [\\n, \\n, Eddard Stark:,   Your pardon, your Gr...  \n",
       "6  [\\n, \\n, \\nPoor Ned Stark. Brave man, terrible...  \n",
       "7  [King's Landing, \\n, \\n, Syrio Forel: ,  Yah! ...  \n",
       "8  [\\n, Varys: ,  You've seen better days, my lor...  \n",
       "9  [\\n, \\n, Yoren: ,  Look at me. Look at me! Do ...  "
      ]
     },
     "execution_count": 4,
     "metadata": {},
     "output_type": "execute_result"
    }
   ],
   "source": [
    "df_s1[['title','script_text']]"
   ]
  },
  {
   "cell_type": "code",
   "execution_count": 5,
   "metadata": {
    "collapsed": true
   },
   "outputs": [],
   "source": [
    "df_s1['title'] = df_s1['title'].map(lambda x: str(x)[3:-2])"
   ]
  },
  {
   "cell_type": "code",
   "execution_count": 6,
   "metadata": {
    "scrolled": false
   },
   "outputs": [
    {
     "data": {
      "text/plain": [
       "0                        Winter is Coming\n",
       "1                           The Kingsroad\n",
       "2                               Lord Snow\n",
       "3    Cripples, Bastards and Broken Things\n",
       "4                   The Wolf and The Lion\n",
       "5                          A Golden Crown\n",
       "6                      You Win Or You Die\n",
       "7                          The Pointy End\n",
       "8                                  Baelor\n",
       "9                          Fire and Blood\n",
       "Name: title, dtype: object"
      ]
     },
     "execution_count": 6,
     "metadata": {},
     "output_type": "execute_result"
    }
   ],
   "source": [
    "df_s1.title"
   ]
  },
  {
   "cell_type": "code",
   "execution_count": 7,
   "metadata": {
    "collapsed": true
   },
   "outputs": [],
   "source": [
    "names1_01 = ['WAYMAR ROYCE','WILL','GARED','ROYCE','JON','SEPTA MORDANE','NED','ROBB','BRAN','JON/ROBB','CASSEL',\n",
    "             'CATELYN','THEON','JAIME','CERSEI','MAESTER LUWIN','LUWIN','ARYA','SANSA','ROBERT','TYRION','ROS',\n",
    "             'VISERYS','DAENERYS','MAID','ILLYRIO','BENJEN','JORAH','KHAL DROGO','THE HOUND']\n",
    "\n",
    "names1_02 = ['Jorah Mormont','Daenerys Targaryen','Doreah','Irri','Viserys Targaryen','Joffrey Baratheon',\n",
    "             'Tyrion Lannister','Sandor Clegane','Jaime Lannister','Myrcella Baratheon','Cersei Baratheon',\n",
    "             'Catelyn Stark','Jon Snow','Arya Stark','Eddard Stark','Robb Stark','Robert Baratheon','Benjen Stark',\n",
    "             'Maester Luwin','Assassin','Jhiqui','Theon Greyjoy','Rodrick Cassel','Mycah','Soldier 1','Soldier 2',\n",
    "             'Jory Cassel','Soldier']\n",
    "\n",
    "names1_03 = ['King’s Landing Guard','Eddard Stark','Jory Cassel','Jaime Lannister','Eddard Stark','Varys',\n",
    "             'Renly Baratheon','Petyr Baelish','Grand Maester Pycelle','Cersei Baratheon','Joffrey Baratheon',\n",
    "             'Septa Mordane','Arya Stark','Sansa Stark','Old Nan','Bran Stark','Robb Stark','Rodrick Cassel',\n",
    "             'Catelyn Stark','Guard','Alliser Thorne','Tyrion Lannister','Jeor Mormont','Grenn','Jon Snow',\n",
    "             'Pyp','Rast','Barristan Selmy','Robert Baratheon','Lancel Lannister','Daenerys Targaryen',\n",
    "             'Jorah Mormont','Viserys Targaryen','Irri','Rakharo','Benjen Stark','Yoren','Maester Aemon',\n",
    "             'Jeor Mormont','Khal Drogo','Syrio Forel','Arya Stark']\n",
    "\n",
    "names1_04 = ['Old Nan','Theon Greyjoy','Bran Stark','Tyrion Lannister','Robb Stark','Maester Luwin','Grenn',\n",
    "             'Jon Snow','Pyp','Alliser Thorne','Samwell Tarly','Jorah Mormont','Viserys Targaryen',\n",
    "             'Daenerys Targaryen','Doreah','Septa Mordane','Sansa Stark','Janos Slynt','Eddard Stark','Varys',\n",
    "             'Renly Baratheon','Petyr Baelish','Grand Maester Pycelle','Arya Stark','Jory Cassel','Hugh of the Vale',\n",
    "             'Tobho Mott','Gendry','Jaime Lannister','Robert Baratheon','Rast','Irri','Cersei Baratheon','Marillion',\n",
    "             'Catelyn Stark','Rodrick Cassel','Masha Heddle','Bronn','Yoren','Knight of House Whent',\n",
    "             'Knight of House Bracken']\n",
    "\n",
    "names1_05 = ['Eddard Stark','Barristan Selmy','Lancel Lannister','Robert Baratheon','Sansa Stark','Petyr Baelish',\n",
    "             'Renly Baratheon','Loras Tyrell','Sandor Clegane','Catelyn Stark','Marillion','Tyrion Lannister',\n",
    "             'Rodrik Cassel','Bronn','Maester Luwin','Bran Stark','Theon Greyjoy','Ros','Arya Stark','Varys',\n",
    "             'Illyrio Mopatis','Guard 1','Guard 2','Jory Cassel','Yoren','Vardis Egen','Steward',\n",
    "             'Grand Maester Pycelle','Lysa Arryn','Robin Arryn','Mord','Cersei Baratheon','Mhaegen','Jaime Lannister']\n",
    "\n",
    "names1_06 = ['Eddard Stark','Cersei Baratheon','Robert Baratheon','Irri','Daenerys Targaryen','Robb Stark',\n",
    "             'Bran Stark','Theon Greyjoy','Osha','Wildling','Wildling 2','Tyrion Lannister','Arya Stark','Syrio Forel',\n",
    "             'Jorah Mormont','Viserys Targaryen','Mord','Lysa Arryn','Robin Arryn','Catelyn Stark','Knight 1',\n",
    "             'Knight 2','Knight 3','Knight 4','Knight 5','Ser Vardis','Lancel Lannister','Renly Baratheon',\n",
    "             'Barristan Selmy','Man','Grand Maester Pycelle','Petyr Baelish','Beric Dondarrion','Mordane',\n",
    "             'Sansa Stark','Joffrey Baratheon','Ros','Khal Drogo',]\n",
    "\n",
    "names1_07 = ['Jaime Lannister','Tywin Lannister','Cersei Lannister','Ned Stark','Ros','Petyr Baelish','Theon Greyjoy',\n",
    "             'Osha','Maester Luwin','Samwell Tarly','Jon Snow','Night Watch stable boy','Renly Baratheon',\n",
    "             'Robert Baratheon','Barristan Selmy','Lord Varys','Khal Drogo','Daenerys Stormborn','Jorah Mormont',\n",
    "             'Wine Merchant','Doreah','Rakharo','Jeor Mormont','Alliser Thorne','Jaremy Rykker','Othell Yarwyck',\n",
    "             'Maester Aemon','Pypar','Tomard','Messenger','Varly','Lord Varys','Janos Slynt','King Joffrey']\n",
    "\n",
    "names1_08 = ['Syrio Forel','Steward of House Stark','Septa Mordane','Sansa Stark','Arya Stark','Meryn Trant',\n",
    "             'Sandor Clegane','Stable Boy','Lord Varys','Ned Stark','Jeor Mormont','Othell Yarwyck','Jon Snow',\n",
    "             'Samwell Tarly','Ser Alliser','Nights Watch brother','Grand Maester Pycelle','Cersei Lannister',\n",
    "             'Petyr Baelish','Robb Stark','Robb Stark','Theon Greyjoy','Catelyn Stark','Lysa Arryn','Robin Arryn',\n",
    "             'Bronn','Tyrion Lannister','Shagga','Daenarys Stormborn','Rakharo','Jorah Mormont','Dothraki Man',\n",
    "             'Mago','Qotho','Khal Drogo','Mirri Maz Duur','Greatjon Umber','Brann Stark','Rickon Stark','Osha',\n",
    "             'Hodor','Rodrik Cassel','Kevan Lannister','Tywin Lannister','Jamie Lannister','Messenger','Stark guard',\n",
    "             'Lannister scout','Barristan Selmy','King Joffrey','King’s Landing Page']\n",
    "\n",
    "names1_09 = ['Varys','Eddard Stark','Robb Stark','Theon Greyjoy','Catelyn Stark','Greatjon Umber','Everyone',\n",
    "             'Walder Frey','Stevron Frey','Ryger Rivers','Voices outside','Jeor Mormont','Jon Snow',\n",
    "             'Unidentified Night’s Watchers','Night’s Watcher #1','Night’s Watcher #2','Pyp','Grenn','All',\n",
    "             'Samwell Tarly','Maester Aemon','Daenerys Targaryen','Khal Drogo','Cohollo','Qotho','Kevan Lannister',\n",
    "             'Tywin Lannister','Tyrion Lannister','Bronn','Prostitute','Shae','Jorah Mormont','Mirri Maz Duur',\n",
    "             'Rakharo','Irri','Rodrik Cassel','Stark bannermen','Jaime Lannister','Arya Stark','King’s Landing Baker',\n",
    "             'Street Urchin','Populace','Grand Maester Pycelle','Joffrey Baratheon','Sansa Stark','Cersei Baratheon',\n",
    "             'Yoren']\n",
    "\n",
    "names1_10 = ['Yoren','Arya Stark','Bran Stark','Osha','Rickon Stark','Maester Luwin','Several Stark Bannermen',\n",
    "             'Robb Stark','Catelyn Stark','Marillion','Joffrey Baratheon','Sansa Stark','Sandor Clegane',\n",
    "             'Jonos Bracken','Galbart Glover','Greatjon Umber','Rickard Karstark','Theon Greyjoy','All','Stark Guard',\n",
    "             'Jaime Lannister','Lancel Lannister','Cersei Lannister','Tywin Lannister','Tyrion Lannister',\n",
    "             'Leo Lefford','Addam Marbrand','Kevan Lannister','Daenerys Targaryen','Jorah Mormont','Mirri Maz Duur',\n",
    "             'Samwell Tarly','Jon Snow','Shae','Sam, Pyp, and Grenn','Pyp','Grenn','Grand Maester Pycelle','Ros',\n",
    "             'Varys','Petyr Baelish','Hot Pie','Lommy Greenhands','Gendry','Jeor Mormont','Rakharo']"
   ]
  },
  {
   "cell_type": "markdown",
   "metadata": {},
   "source": [
    "### Episode One"
   ]
  },
  {
   "cell_type": "code",
   "execution_count": 8,
   "metadata": {
    "scrolled": true
   },
   "outputs": [],
   "source": [
    "#df_s1.script_text[0]"
   ]
  },
  {
   "cell_type": "code",
   "execution_count": 9,
   "metadata": {},
   "outputs": [
    {
     "name": "stdout",
     "output_type": "stream",
     "text": [
      "<type 'list'>\n"
     ]
    }
   ],
   "source": [
    "script_text1_01 = df_s1.script_text[0]\n",
    "print type(script_text1_01)\n",
    "\n",
    "#script_text1_01"
   ]
  },
  {
   "cell_type": "code",
   "execution_count": 10,
   "metadata": {
    "scrolled": true
   },
   "outputs": [],
   "source": [
    "script_split = [i.split('\\n') for i in script_text1_01]\n",
    "#script_split"
   ]
  },
  {
   "cell_type": "code",
   "execution_count": 11,
   "metadata": {
    "collapsed": true
   },
   "outputs": [],
   "source": [
    "string_script_text = ' '\n",
    "\n",
    "for i in script_split:\n",
    "    for e in i:\n",
    "        string_script_text = string_script_text + ' ' + e"
   ]
  },
  {
   "cell_type": "code",
   "execution_count": 12,
   "metadata": {},
   "outputs": [],
   "source": [
    "#string_script_text"
   ]
  },
  {
   "cell_type": "code",
   "execution_count": 13,
   "metadata": {},
   "outputs": [],
   "source": [
    "words = word_tokenize(string_script_text)\n",
    "#words"
   ]
  },
  {
   "cell_type": "code",
   "execution_count": 14,
   "metadata": {
    "scrolled": true
   },
   "outputs": [],
   "source": [
    "sentences = sent_tokenize(string_script_text)\n",
    "#sentences"
   ]
  },
  {
   "cell_type": "code",
   "execution_count": 15,
   "metadata": {
    "collapsed": true
   },
   "outputs": [],
   "source": [
    "dialogue = []\n",
    "\n",
    "for sentence in sentences:\n",
    "    if sentence.split(':')[0] in (names1_01):\n",
    "        dialogue.append(sentence)"
   ]
  },
  {
   "cell_type": "code",
   "execution_count": 16,
   "metadata": {
    "scrolled": true
   },
   "outputs": [],
   "source": [
    "#dialogue"
   ]
  },
  {
   "cell_type": "code",
   "execution_count": 17,
   "metadata": {},
   "outputs": [
    {
     "data": {
      "text/plain": [
       "list"
      ]
     },
     "execution_count": 17,
     "metadata": {},
     "output_type": "execute_result"
    }
   ],
   "source": [
    "type(dialogue)"
   ]
  },
  {
   "cell_type": "code",
   "execution_count": 18,
   "metadata": {
    "collapsed": true
   },
   "outputs": [],
   "source": [
    "import pickle\n",
    "with open('/Users/zoemarkovits/Metis/project_five_got/Dialogue_PKLs/s101.pkl', 'wb') as f:\n",
    "    pickle.dump(dialogue, f)"
   ]
  },
  {
   "cell_type": "code",
   "execution_count": 19,
   "metadata": {
    "scrolled": true
   },
   "outputs": [],
   "source": [
    "from collections import defaultdict\n",
    "\n",
    "speakers = defaultdict(list)\n",
    "for sentence in dialogue:\n",
    "    speakers[sentence.split(':')[0]].append(sentence.split(':')[1])\n",
    "\n",
    "#speakers"
   ]
  },
  {
   "cell_type": "code",
   "execution_count": 20,
   "metadata": {},
   "outputs": [
    {
     "data": {
      "text/plain": [
       "[u' Is he dead yet?',\n",
       " u' You got bigger.',\n",
       " u' Well, you\\u2019re always welcome on the wall.',\n",
       " u' Jon\\u2026    JON',\n",
       " u' The Wall isn\\u2019t going anywhere.',\n",
       " u' You don\\u2019t understand what you\\u2019d be giving up.',\n",
       " u' You might, if you knew what it meant.',\n",
       " u' You at a feast -- It\\u2019s like a bear in a trap.',\n",
       " u' Of course I did.',\n",
       " u' The two he was with are still missing.',\n",
       " u' Maybe.',\n",
       " u' Robb boy.']"
      ]
     },
     "execution_count": 20,
     "metadata": {},
     "output_type": "execute_result"
    }
   ],
   "source": [
    "speakers['BENJEN']"
   ]
  },
  {
   "cell_type": "code",
   "execution_count": 21,
   "metadata": {
    "scrolled": true
   },
   "outputs": [
    {
     "name": "stdout",
     "output_type": "stream",
     "text": [
      "(27, 33)\n"
     ]
    }
   ],
   "source": [
    "episode_one = pd.DataFrame.from_dict(speakers, orient=\"index\")\n",
    "print episode_one.shape"
   ]
  },
  {
   "cell_type": "code",
   "execution_count": 22,
   "metadata": {
    "collapsed": true
   },
   "outputs": [],
   "source": [
    "#from numpy import nan\n",
    "#episode_one.fillna(value=str(0), inplace=True)"
   ]
  },
  {
   "cell_type": "code",
   "execution_count": 23,
   "metadata": {
    "scrolled": true
   },
   "outputs": [],
   "source": [
    "#episode_one.info()"
   ]
  },
  {
   "cell_type": "code",
   "execution_count": 24,
   "metadata": {},
   "outputs": [
    {
     "data": {
      "text/html": [
       "<div>\n",
       "<table border=\"1\" class=\"dataframe\">\n",
       "  <thead>\n",
       "    <tr style=\"text-align: right;\">\n",
       "      <th></th>\n",
       "      <th>0</th>\n",
       "      <th>1</th>\n",
       "      <th>2</th>\n",
       "      <th>3</th>\n",
       "      <th>4</th>\n",
       "      <th>5</th>\n",
       "      <th>6</th>\n",
       "      <th>7</th>\n",
       "      <th>8</th>\n",
       "      <th>9</th>\n",
       "      <th>10</th>\n",
       "      <th>11</th>\n",
       "      <th>12</th>\n",
       "      <th>13</th>\n",
       "      <th>14</th>\n",
       "      <th>15</th>\n",
       "      <th>16</th>\n",
       "      <th>17</th>\n",
       "      <th>18</th>\n",
       "      <th>19</th>\n",
       "      <th>20</th>\n",
       "      <th>21</th>\n",
       "      <th>22</th>\n",
       "      <th>23</th>\n",
       "      <th>24</th>\n",
       "      <th>25</th>\n",
       "      <th>26</th>\n",
       "      <th>27</th>\n",
       "      <th>28</th>\n",
       "      <th>29</th>\n",
       "      <th>30</th>\n",
       "      <th>31</th>\n",
       "      <th>32</th>\n",
       "    </tr>\n",
       "  </thead>\n",
       "  <tbody>\n",
       "    <tr>\n",
       "      <th>KHAL DROGO</th>\n",
       "      <td>No.</td>\n",
       "      <td>No.</td>\n",
       "      <td>No.</td>\n",
       "      <td>None</td>\n",
       "      <td>None</td>\n",
       "      <td>None</td>\n",
       "      <td>None</td>\n",
       "      <td>None</td>\n",
       "      <td>None</td>\n",
       "      <td>None</td>\n",
       "      <td>None</td>\n",
       "      <td>None</td>\n",
       "      <td>None</td>\n",
       "      <td>None</td>\n",
       "      <td>None</td>\n",
       "      <td>None</td>\n",
       "      <td>None</td>\n",
       "      <td>None</td>\n",
       "      <td>None</td>\n",
       "      <td>None</td>\n",
       "      <td>None</td>\n",
       "      <td>None</td>\n",
       "      <td>None</td>\n",
       "      <td>None</td>\n",
       "      <td>None</td>\n",
       "      <td>None</td>\n",
       "      <td>None</td>\n",
       "      <td>None</td>\n",
       "      <td>None</td>\n",
       "      <td>None</td>\n",
       "      <td>None</td>\n",
       "      <td>None</td>\n",
       "      <td>None</td>\n",
       "    </tr>\n",
       "    <tr>\n",
       "      <th>NED</th>\n",
       "      <td>And which one of you was a marksman at ten?</td>\n",
       "      <td>In the name of Robert of the House Baratheon,...</td>\n",
       "      <td>King of the Andals and the First Men …    JON</td>\n",
       "      <td>Lord of the Seven Kingdoms and protector of t...</td>\n",
       "      <td>The White Walkers have been gone for thousand...</td>\n",
       "      <td>A madman sees what he sees.</td>\n",
       "      <td>There are no mountain lions in these woods.</td>\n",
       "      <td>Tough old beast.</td>\n",
       "      <td>I’m sorry, Bran.</td>\n",
       "      <td>You will train them yourselves.</td>\n",
       "      <td>Hey,, hey, hey, hey.</td>\n",
       "      <td>Guarding the North for you, Your Grace.</td>\n",
       "      <td>My queen.</td>\n",
       "      <td>Tell me about Jon Arryn.</td>\n",
       "      <td>We both did.</td>\n",
       "      <td>Aye.</td>\n",
       "      <td>I’m not worthy of the honor.</td>\n",
       "      <td>She was my sister.</td>\n",
       "      <td>The boy I beheaded.</td>\n",
       "      <td>He was talking madness.</td>\n",
       "      <td>A wildling ambush.</td>\n",
       "      <td>Your pardon.</td>\n",
       "      <td>Yes, the king has honored me with his offer.</td>\n",
       "      <td>I don’t fight in tournaments.</td>\n",
       "      <td>I don’t fight in tournaments because when I f...</td>\n",
       "      <td>I’m a Northman.</td>\n",
       "      <td>The king takes what he wants.</td>\n",
       "      <td>Send him in.</td>\n",
       "      <td>Stay.</td>\n",
       "      <td>What news?</td>\n",
       "      <td>She’s fresh widowed, Cat.</td>\n",
       "      <td>No, but I’m still better than you.</td>\n",
       "      <td>I hope I’ll serve you well.</td>\n",
       "    </tr>\n",
       "    <tr>\n",
       "      <th>TYRION</th>\n",
       "      <td>Mmh.</td>\n",
       "      <td>I did hear something about that.</td>\n",
       "      <td>And the other brother?</td>\n",
       "      <td>There’s the pretty one.</td>\n",
       "      <td>I hear he hates that nickname.</td>\n",
       "      <td>Clever girl.</td>\n",
       "      <td>The gods gave me one blessing.</td>\n",
       "      <td>Should I explain to you the meaning of a clos...</td>\n",
       "      <td>JAIME</td>\n",
       "      <td>Close the door!</td>\n",
       "      <td>Your uncle’s in the Night’s Watch.</td>\n",
       "      <td>Did I offend you?</td>\n",
       "      <td>And Lady Stark is not your mother.</td>\n",
       "      <td>All dwarves are bastards in their fathers’ eyes.</td>\n",
       "      <td>If I get through this without squirting from ...</td>\n",
       "      <td>The greatest in the land.</td>\n",
       "      <td>None</td>\n",
       "      <td>None</td>\n",
       "      <td>None</td>\n",
       "      <td>None</td>\n",
       "      <td>None</td>\n",
       "      <td>None</td>\n",
       "      <td>None</td>\n",
       "      <td>None</td>\n",
       "      <td>None</td>\n",
       "      <td>None</td>\n",
       "      <td>None</td>\n",
       "      <td>None</td>\n",
       "      <td>None</td>\n",
       "      <td>None</td>\n",
       "      <td>None</td>\n",
       "      <td>None</td>\n",
       "      <td>None</td>\n",
       "    </tr>\n",
       "    <tr>\n",
       "      <th>JAIME</th>\n",
       "      <td>As your brother, I feel it’s my duty to warn you</td>\n",
       "      <td>CERSEI</td>\n",
       "      <td>If he told the king, both our heads would be ...</td>\n",
       "      <td>That’s an honor I can do without.</td>\n",
       "      <td>Don’t get up.</td>\n",
       "      <td>I hear we might be neighbors soon.</td>\n",
       "      <td>I’m sure we’ll have a tournament to celebrate...</td>\n",
       "      <td>No?</td>\n",
       "      <td>Well said.</td>\n",
       "      <td>Are you completely mad?</td>\n",
       "      <td>It’s all right.</td>\n",
       "      <td>I heard you the first time.</td>\n",
       "      <td>Ten.</td>\n",
       "      <td>The things I do for love.</td>\n",
       "      <td>None</td>\n",
       "      <td>None</td>\n",
       "      <td>None</td>\n",
       "      <td>None</td>\n",
       "      <td>None</td>\n",
       "      <td>None</td>\n",
       "      <td>None</td>\n",
       "      <td>None</td>\n",
       "      <td>None</td>\n",
       "      <td>None</td>\n",
       "      <td>None</td>\n",
       "      <td>None</td>\n",
       "      <td>None</td>\n",
       "      <td>None</td>\n",
       "      <td>None</td>\n",
       "      <td>None</td>\n",
       "      <td>None</td>\n",
       "      <td>None</td>\n",
       "      <td>None</td>\n",
       "    </tr>\n",
       "    <tr>\n",
       "      <th>ILLYRIO</th>\n",
       "      <td>(Greets them in Dothraki.)</td>\n",
       "      <td>Come forward, my dear.</td>\n",
       "      <td>The ceremony is over.</td>\n",
       "      <td>Trust me, Your Grace.</td>\n",
       "      <td>It won’t be long now.</td>\n",
       "      <td>Soon.</td>\n",
       "      <td>I wouldn’t ask Khal Drogo.</td>\n",
       "      <td>If Khal Drogo has promised you a crown, you s...</td>\n",
       "      <td>When their omens favor war.</td>\n",
       "      <td>A Dothraki wedding without at least three dea...</td>\n",
       "      <td>Dragons’ eggs, Daenerys.</td>\n",
       "      <td>None</td>\n",
       "      <td>None</td>\n",
       "      <td>None</td>\n",
       "      <td>None</td>\n",
       "      <td>None</td>\n",
       "      <td>None</td>\n",
       "      <td>None</td>\n",
       "      <td>None</td>\n",
       "      <td>None</td>\n",
       "      <td>None</td>\n",
       "      <td>None</td>\n",
       "      <td>None</td>\n",
       "      <td>None</td>\n",
       "      <td>None</td>\n",
       "      <td>None</td>\n",
       "      <td>None</td>\n",
       "      <td>None</td>\n",
       "      <td>None</td>\n",
       "      <td>None</td>\n",
       "      <td>None</td>\n",
       "      <td>None</td>\n",
       "      <td>None</td>\n",
       "    </tr>\n",
       "  </tbody>\n",
       "</table>\n",
       "</div>"
      ],
      "text/plain": [
       "                                                           0   \\\n",
       "KHAL DROGO                                                No.   \n",
       "NED               And which one of you was a marksman at ten?   \n",
       "TYRION                                                   Mmh.   \n",
       "JAIME        As your brother, I feel it’s my duty to warn you   \n",
       "ILLYRIO                            (Greets them in Dothraki.)   \n",
       "\n",
       "                                                           1   \\\n",
       "KHAL DROGO                                                No.   \n",
       "NED          In the name of Robert of the House Baratheon,...   \n",
       "TYRION                       I did hear something about that.   \n",
       "JAIME                                                  CERSEI   \n",
       "ILLYRIO                                Come forward, my dear.   \n",
       "\n",
       "                                                           2   \\\n",
       "KHAL DROGO                                                No.   \n",
       "NED             King of the Andals and the First Men …    JON   \n",
       "TYRION                                 And the other brother?   \n",
       "JAIME        If he told the king, both our heads would be ...   \n",
       "ILLYRIO                                 The ceremony is over.   \n",
       "\n",
       "                                                           3   \\\n",
       "KHAL DROGO                                               None   \n",
       "NED          Lord of the Seven Kingdoms and protector of t...   \n",
       "TYRION                                There’s the pretty one.   \n",
       "JAIME                       That’s an honor I can do without.   \n",
       "ILLYRIO                                 Trust me, Your Grace.   \n",
       "\n",
       "                                                           4   \\\n",
       "KHAL DROGO                                               None   \n",
       "NED          The White Walkers have been gone for thousand...   \n",
       "TYRION                         I hear he hates that nickname.   \n",
       "JAIME                                           Don’t get up.   \n",
       "ILLYRIO                                 It won’t be long now.   \n",
       "\n",
       "                                             5   \\\n",
       "KHAL DROGO                                 None   \n",
       "NED                 A madman sees what he sees.   \n",
       "TYRION                             Clever girl.   \n",
       "JAIME        I hear we might be neighbors soon.   \n",
       "ILLYRIO                                   Soon.   \n",
       "\n",
       "                                                           6   \\\n",
       "KHAL DROGO                                               None   \n",
       "NED               There are no mountain lions in these woods.   \n",
       "TYRION                         The gods gave me one blessing.   \n",
       "JAIME        I’m sure we’ll have a tournament to celebrate...   \n",
       "ILLYRIO                            I wouldn’t ask Khal Drogo.   \n",
       "\n",
       "                                                           7   \\\n",
       "KHAL DROGO                                               None   \n",
       "NED                                          Tough old beast.   \n",
       "TYRION       Should I explain to you the meaning of a clos...   \n",
       "JAIME                                                     No?   \n",
       "ILLYRIO      If Khal Drogo has promised you a crown, you s...   \n",
       "\n",
       "                                      8   \\\n",
       "KHAL DROGO                          None   \n",
       "NED                     I’m sorry, Bran.   \n",
       "TYRION                             JAIME   \n",
       "JAIME                         Well said.   \n",
       "ILLYRIO      When their omens favor war.   \n",
       "\n",
       "                                                           9   \\\n",
       "KHAL DROGO                                               None   \n",
       "NED                           You will train them yourselves.   \n",
       "TYRION                                        Close the door!   \n",
       "JAIME                                 Are you completely mad?   \n",
       "ILLYRIO      A Dothraki wedding without at least three dea...   \n",
       "\n",
       "                                             10  \\\n",
       "KHAL DROGO                                 None   \n",
       "NED                        Hey,, hey, hey, hey.   \n",
       "TYRION       Your uncle’s in the Night’s Watch.   \n",
       "JAIME                           It’s all right.   \n",
       "ILLYRIO                Dragons’ eggs, Daenerys.   \n",
       "\n",
       "                                                  11  \\\n",
       "KHAL DROGO                                      None   \n",
       "NED          Guarding the North for you, Your Grace.   \n",
       "TYRION                             Did I offend you?   \n",
       "JAIME                    I heard you the first time.   \n",
       "ILLYRIO                                         None   \n",
       "\n",
       "                                             12  \\\n",
       "KHAL DROGO                                 None   \n",
       "NED                                   My queen.   \n",
       "TYRION       And Lady Stark is not your mother.   \n",
       "JAIME                                      Ten.   \n",
       "ILLYRIO                                    None   \n",
       "\n",
       "                                                           13  \\\n",
       "KHAL DROGO                                               None   \n",
       "NED                                  Tell me about Jon Arryn.   \n",
       "TYRION       All dwarves are bastards in their fathers’ eyes.   \n",
       "JAIME                               The things I do for love.   \n",
       "ILLYRIO                                                  None   \n",
       "\n",
       "                                                           14  \\\n",
       "KHAL DROGO                                               None   \n",
       "NED                                              We both did.   \n",
       "TYRION       If I get through this without squirting from ...   \n",
       "JAIME                                                    None   \n",
       "ILLYRIO                                                  None   \n",
       "\n",
       "                                    15                             16  \\\n",
       "KHAL DROGO                        None                           None   \n",
       "NED                               Aye.   I’m not worthy of the honor.   \n",
       "TYRION       The greatest in the land.                           None   \n",
       "JAIME                             None                           None   \n",
       "ILLYRIO                           None                           None   \n",
       "\n",
       "                             17                    18  \\\n",
       "KHAL DROGO                 None                  None   \n",
       "NED          She was my sister.   The boy I beheaded.   \n",
       "TYRION                     None                  None   \n",
       "JAIME                      None                  None   \n",
       "ILLYRIO                    None                  None   \n",
       "\n",
       "                                  19                   20             21  \\\n",
       "KHAL DROGO                      None                 None           None   \n",
       "NED          He was talking madness.   A wildling ambush.   Your pardon.   \n",
       "TYRION                          None                 None           None   \n",
       "JAIME                           None                 None           None   \n",
       "ILLYRIO                         None                 None           None   \n",
       "\n",
       "                                                       22  \\\n",
       "KHAL DROGO                                           None   \n",
       "NED          Yes, the king has honored me with his offer.   \n",
       "TYRION                                               None   \n",
       "JAIME                                                None   \n",
       "ILLYRIO                                              None   \n",
       "\n",
       "                                        23  \\\n",
       "KHAL DROGO                            None   \n",
       "NED          I don’t fight in tournaments.   \n",
       "TYRION                                None   \n",
       "JAIME                                 None   \n",
       "ILLYRIO                               None   \n",
       "\n",
       "                                                           24  \\\n",
       "KHAL DROGO                                               None   \n",
       "NED          I don’t fight in tournaments because when I f...   \n",
       "TYRION                                                   None   \n",
       "JAIME                                                    None   \n",
       "ILLYRIO                                                  None   \n",
       "\n",
       "                          25                              26             27  \\\n",
       "KHAL DROGO              None                            None           None   \n",
       "NED          I’m a Northman.   The king takes what he wants.   Send him in.   \n",
       "TYRION                  None                            None           None   \n",
       "JAIME                   None                            None           None   \n",
       "ILLYRIO                 None                            None           None   \n",
       "\n",
       "                28           29                          30  \\\n",
       "KHAL DROGO    None         None                        None   \n",
       "NED          Stay.   What news?   She’s fresh widowed, Cat.   \n",
       "TYRION        None         None                        None   \n",
       "JAIME         None         None                        None   \n",
       "ILLYRIO       None         None                        None   \n",
       "\n",
       "                                             31                            32  \n",
       "KHAL DROGO                                 None                          None  \n",
       "NED          No, but I’m still better than you.   I hope I’ll serve you well.  \n",
       "TYRION                                     None                          None  \n",
       "JAIME                                      None                          None  \n",
       "ILLYRIO                                    None                          None  "
      ]
     },
     "execution_count": 24,
     "metadata": {},
     "output_type": "execute_result"
    }
   ],
   "source": [
    "episode_one.head()"
   ]
  },
  {
   "cell_type": "code",
   "execution_count": 25,
   "metadata": {
    "collapsed": true
   },
   "outputs": [],
   "source": [
    "def remove_stops(sentence):\n",
    "    characters = ['?','!','.',',',':',';']\n",
    "    stoplist = stopwords.words('english') + characters\n",
    "    try: \n",
    "        new_sentence = re.sub(r'[^a-zA-Z ]','', sentence)\n",
    "        new_sentence = new_sentence.lower()\n",
    "        new_sentence = new_sentence.split()\n",
    "        new_sentence = [word for word in new_sentence if word not in stoplist]\n",
    "        new_sentence = ' '.join(new_sentence)\n",
    "        return new_sentence\n",
    "    except:\n",
    "        return sentence   "
   ]
  },
  {
   "cell_type": "code",
   "execution_count": 26,
   "metadata": {
    "scrolled": true
   },
   "outputs": [],
   "source": [
    "test = episode_one[0].apply(remove_stops)\n",
    "#test"
   ]
  },
  {
   "cell_type": "code",
   "execution_count": 27,
   "metadata": {
    "collapsed": true,
    "scrolled": false
   },
   "outputs": [],
   "source": [
    "for column in episode_one.columns:\n",
    "    for x in range(len(episode_one[column])):\n",
    "        episode_one[column][x] = remove_stops(episode_one[column][x])"
   ]
  },
  {
   "cell_type": "code",
   "execution_count": 28,
   "metadata": {
    "scrolled": true
   },
   "outputs": [],
   "source": [
    "#episode_one.info()"
   ]
  },
  {
   "cell_type": "code",
   "execution_count": 29,
   "metadata": {
    "collapsed": true
   },
   "outputs": [],
   "source": [
    "episode_one.index = episode_one.index.str.title()"
   ]
  },
  {
   "cell_type": "code",
   "execution_count": 30,
   "metadata": {},
   "outputs": [
    {
     "data": {
      "text/plain": [
       "(27, 33)"
      ]
     },
     "execution_count": 30,
     "metadata": {},
     "output_type": "execute_result"
    }
   ],
   "source": [
    "episode_one.shape"
   ]
  },
  {
   "cell_type": "code",
   "execution_count": 54,
   "metadata": {
    "scrolled": false
   },
   "outputs": [],
   "source": [
    "#episode_one.head()"
   ]
  },
  {
   "cell_type": "markdown",
   "metadata": {},
   "source": [
    "### Episode Two"
   ]
  },
  {
   "cell_type": "code",
   "execution_count": 32,
   "metadata": {
    "scrolled": true
   },
   "outputs": [],
   "source": [
    "#df_s1.script_text[1]"
   ]
  },
  {
   "cell_type": "code",
   "execution_count": 33,
   "metadata": {},
   "outputs": [
    {
     "name": "stdout",
     "output_type": "stream",
     "text": [
      "<type 'list'>\n"
     ]
    }
   ],
   "source": [
    "script_text1_02 = df_s1.script_text[1]\n",
    "print type(script_text1_02)\n",
    "\n",
    "#script_text1_02"
   ]
  },
  {
   "cell_type": "code",
   "execution_count": 34,
   "metadata": {
    "scrolled": true
   },
   "outputs": [],
   "source": [
    "script_split2 = [i.split('\\n') for i in script_text1_02]\n",
    "#script_split2"
   ]
  },
  {
   "cell_type": "code",
   "execution_count": 35,
   "metadata": {
    "collapsed": true
   },
   "outputs": [],
   "source": [
    "string_script_text2 = ' '\n",
    "\n",
    "for i in script_split2:\n",
    "    for e in i:\n",
    "        string_script_text2 = string_script_text2 + ' ' + e"
   ]
  },
  {
   "cell_type": "code",
   "execution_count": 36,
   "metadata": {},
   "outputs": [],
   "source": [
    "#string_script_text2"
   ]
  },
  {
   "cell_type": "code",
   "execution_count": 37,
   "metadata": {},
   "outputs": [],
   "source": [
    "words2 = word_tokenize(string_script_text2)\n",
    "#words2"
   ]
  },
  {
   "cell_type": "code",
   "execution_count": 38,
   "metadata": {},
   "outputs": [],
   "source": [
    "sentences2 = sent_tokenize(string_script_text2)\n",
    "#sentences2"
   ]
  },
  {
   "cell_type": "code",
   "execution_count": 39,
   "metadata": {
    "collapsed": true,
    "scrolled": false
   },
   "outputs": [],
   "source": [
    "dialogue2 = []\n",
    "\n",
    "for sentence in sentences2:\n",
    "    words=sentence.split(':')[0]\n",
    "    if len(words.split())<=2:\n",
    "        if words in (names1_02):\n",
    "            dialogue2.append(sentence)"
   ]
  },
  {
   "cell_type": "code",
   "execution_count": 40,
   "metadata": {
    "scrolled": true
   },
   "outputs": [],
   "source": [
    "#dialogue2"
   ]
  },
  {
   "cell_type": "code",
   "execution_count": 41,
   "metadata": {
    "collapsed": true
   },
   "outputs": [],
   "source": [
    "import pickle\n",
    "with open('/Users/zoemarkovits/Metis/project_five_got/Dialogue_PKLs/s102.pkl', 'wb') as f:\n",
    "    pickle.dump(dialogue2, f)"
   ]
  },
  {
   "cell_type": "code",
   "execution_count": 43,
   "metadata": {
    "scrolled": true
   },
   "outputs": [],
   "source": [
    "from collections import defaultdict\n",
    "\n",
    "speakers2 = defaultdict(list)\n",
    "for sentence in dialogue2:\n",
    "    speakers2[sentence.split(':')[0]].append(sentence.split(':')[1])\n",
    "\n",
    "#speakers2"
   ]
  },
  {
   "cell_type": "code",
   "execution_count": 44,
   "metadata": {
    "scrolled": true
   },
   "outputs": [
    {
     "data": {
      "text/plain": [
       "[u'  Watch.',\n",
       " u'   Shut up.',\n",
       " u'  I think so.',\n",
       " u'   I know which end to use.',\n",
       " u'   Sansa can keep her sewing needles.',\n",
       " u'  What are you doing here?',\n",
       " u'  Stop it!',\n",
       " u'   Nymeria!',\n",
       " u\"   You've got to go.\",\n",
       " u'   Go!',\n",
       " u'  No.',\n",
       " u\"   That's not true!\",\n",
       " u\"   That's not what happened!\",\n",
       " u'   Liar!',\n",
       " u'  Liar!',\n",
       " u'   Liar liar liar!',\n",
       " u\"  Lady wasn't there!\"]"
      ]
     },
     "execution_count": 44,
     "metadata": {},
     "output_type": "execute_result"
    }
   ],
   "source": [
    "speakers2['Arya Stark']"
   ]
  },
  {
   "cell_type": "code",
   "execution_count": 45,
   "metadata": {
    "scrolled": true
   },
   "outputs": [
    {
     "name": "stdout",
     "output_type": "stream",
     "text": [
      "(27, 30)\n"
     ]
    }
   ],
   "source": [
    "episode_two = pd.DataFrame.from_dict(speakers2, orient=\"index\")\n",
    "print episode_two.shape"
   ]
  },
  {
   "cell_type": "code",
   "execution_count": 46,
   "metadata": {
    "collapsed": true
   },
   "outputs": [],
   "source": [
    "#from numpy import nan\n",
    "#episode_two.fillna(value=str(0), inplace=True)"
   ]
  },
  {
   "cell_type": "code",
   "execution_count": 47,
   "metadata": {
    "scrolled": true
   },
   "outputs": [],
   "source": [
    "#episode_two.info()"
   ]
  },
  {
   "cell_type": "code",
   "execution_count": 48,
   "metadata": {},
   "outputs": [
    {
     "data": {
      "text/html": [
       "<div>\n",
       "<table border=\"1\" class=\"dataframe\">\n",
       "  <thead>\n",
       "    <tr style=\"text-align: right;\">\n",
       "      <th></th>\n",
       "      <th>0</th>\n",
       "      <th>1</th>\n",
       "      <th>2</th>\n",
       "      <th>3</th>\n",
       "      <th>4</th>\n",
       "      <th>5</th>\n",
       "      <th>6</th>\n",
       "      <th>7</th>\n",
       "      <th>8</th>\n",
       "      <th>9</th>\n",
       "      <th>10</th>\n",
       "      <th>11</th>\n",
       "      <th>12</th>\n",
       "      <th>13</th>\n",
       "      <th>14</th>\n",
       "      <th>15</th>\n",
       "      <th>16</th>\n",
       "      <th>17</th>\n",
       "      <th>18</th>\n",
       "      <th>19</th>\n",
       "      <th>20</th>\n",
       "      <th>21</th>\n",
       "      <th>22</th>\n",
       "      <th>23</th>\n",
       "      <th>24</th>\n",
       "      <th>25</th>\n",
       "      <th>26</th>\n",
       "      <th>27</th>\n",
       "      <th>28</th>\n",
       "      <th>29</th>\n",
       "    </tr>\n",
       "  </thead>\n",
       "  <tbody>\n",
       "    <tr>\n",
       "      <th>Joffrey Baratheon</th>\n",
       "      <td>What good will my sympathies do them?</td>\n",
       "      <td>The boy means nothing to me.</td>\n",
       "      <td>I'm telling mother!</td>\n",
       "      <td>You can't...   Tyrion Lannister</td>\n",
       "      <td>My princess can drink as much as she wants.</td>\n",
       "      <td>Your sister?</td>\n",
       "      <td>A butcher's boy who wants to be a Knight, eh?</td>\n",
       "      <td>I'm your prince, not your lord, and I said ...</td>\n",
       "      <td>And you're not a Knight.</td>\n",
       "      <td>I won't hurt him... Much.</td>\n",
       "      <td>I'll gut you, you little cunt!</td>\n",
       "      <td>Please don't.</td>\n",
       "      <td>Then go!</td>\n",
       "      <td>Yes it is!</td>\n",
       "      <td>Shut up!</td>\n",
       "      <td>None</td>\n",
       "      <td>None</td>\n",
       "      <td>None</td>\n",
       "      <td>None</td>\n",
       "      <td>None</td>\n",
       "      <td>None</td>\n",
       "      <td>None</td>\n",
       "      <td>None</td>\n",
       "      <td>None</td>\n",
       "      <td>None</td>\n",
       "      <td>None</td>\n",
       "      <td>None</td>\n",
       "      <td>None</td>\n",
       "      <td>None</td>\n",
       "      <td>None</td>\n",
       "    </tr>\n",
       "    <tr>\n",
       "      <th>Cersei Baratheon</th>\n",
       "      <td>What do you mean?</td>\n",
       "      <td>It's no mercy, letting a child linger in suc...</td>\n",
       "      <td>I still can't believe you're going.</td>\n",
       "      <td>The children don't need to hear your filth.</td>\n",
       "      <td>This is your home.</td>\n",
       "      <td>It was years ago.</td>\n",
       "      <td>How dare you speak to your King in that man...</td>\n",
       "      <td>Your girl and that butcher's boy attacked my...</td>\n",
       "      <td>Joffrey told us what happened.</td>\n",
       "      <td>She's not.</td>\n",
       "      <td>She's as wild as that animal of hers.</td>\n",
       "      <td>Joffrey will bear these scars for the rest ...</td>\n",
       "      <td>And what of the direwolf?</td>\n",
       "      <td>We have another wolf.</td>\n",
       "      <td>Where is the beast?</td>\n",
       "      <td>Ser Ilyn, do me the honor.</td>\n",
       "      <td>Is this some trick?</td>\n",
       "      <td>None</td>\n",
       "      <td>None</td>\n",
       "      <td>None</td>\n",
       "      <td>None</td>\n",
       "      <td>None</td>\n",
       "      <td>None</td>\n",
       "      <td>None</td>\n",
       "      <td>None</td>\n",
       "      <td>None</td>\n",
       "      <td>None</td>\n",
       "      <td>None</td>\n",
       "      <td>None</td>\n",
       "      <td>None</td>\n",
       "    </tr>\n",
       "    <tr>\n",
       "      <th>Robert Baratheon</th>\n",
       "      <td>What do you say, just you and me on the King...</td>\n",
       "      <td>There were wars to fight, women to marry... ...</td>\n",
       "      <td>There was that one... Oh, what was her name?</td>\n",
       "      <td>Bessie!</td>\n",
       "      <td>That's it.</td>\n",
       "      <td>Trust me, that's not the worst thing.</td>\n",
       "      <td>Soon enough that child will spread her legs ...</td>\n",
       "      <td>Oh, it's unspeakable to you?</td>\n",
       "      <td>This Khal Drogo, it's said he has 100,000 m...</td>\n",
       "      <td>There are still those in the Seven Kingdoms...</td>\n",
       "      <td>Quiet, woman.</td>\n",
       "      <td>Enough!</td>\n",
       "      <td>Now, child... Tell me what happened.</td>\n",
       "      <td>What would you have me do, whip her through ...</td>\n",
       "      <td>I'd forgot the damned wolf.</td>\n",
       "      <td>So be it.</td>\n",
       "      <td>As you will.</td>\n",
       "      <td>A direwolf's no pet.</td>\n",
       "      <td>None</td>\n",
       "      <td>None</td>\n",
       "      <td>None</td>\n",
       "      <td>None</td>\n",
       "      <td>None</td>\n",
       "      <td>None</td>\n",
       "      <td>None</td>\n",
       "      <td>None</td>\n",
       "      <td>None</td>\n",
       "      <td>None</td>\n",
       "      <td>None</td>\n",
       "      <td>None</td>\n",
       "    </tr>\n",
       "    <tr>\n",
       "      <th>Eddard Stark</th>\n",
       "      <td>I have no choice.</td>\n",
       "      <td>You can.</td>\n",
       "      <td>The next time we see each other, we'll talk ...</td>\n",
       "      <td>I've half a mind to go with you.</td>\n",
       "      <td>You should have asked me 20 years ago.</td>\n",
       "      <td>I recall a few chances.</td>\n",
       "      <td>Bessie.</td>\n",
       "      <td>Wylla.</td>\n",
       "      <td>Nor will I.   Robert Baratheon</td>\n",
       "      <td>The worst thing about your coronation...</td>\n",
       "      <td>She's little more than a child.</td>\n",
       "      <td>Tell me we're not speaking of this.</td>\n",
       "      <td>But you can't get your hands on this one, c...</td>\n",
       "      <td>Even a million Dothraki are no threat to the...</td>\n",
       "      <td>He will not cross.</td>\n",
       "      <td>Where is she?</td>\n",
       "      <td>Who took her?</td>\n",
       "      <td>Right, get back.</td>\n",
       "      <td>Back!</td>\n",
       "      <td>Are you hurt?</td>\n",
       "      <td>It's all right.</td>\n",
       "      <td>In bed asleep.</td>\n",
       "      <td>Stop it!</td>\n",
       "      <td>Stop!</td>\n",
       "      <td>Gladly, your Grace.</td>\n",
       "      <td>You can't mean it.</td>\n",
       "      <td>s this your command... your Grace?</td>\n",
       "      <td>No.</td>\n",
       "      <td>The wolf is of the north.</td>\n",
       "      <td>The butcher's boy... You rode him down?</td>\n",
       "    </tr>\n",
       "    <tr>\n",
       "      <th>Jaime Lannister</th>\n",
       "      <td>Little brother.</td>\n",
       "      <td>Tell me you're not thinking of taking the bl...</td>\n",
       "      <td>Good man.</td>\n",
       "      <td>At someone, I mean.</td>\n",
       "      <td>None</td>\n",
       "      <td>None</td>\n",
       "      <td>None</td>\n",
       "      <td>None</td>\n",
       "      <td>None</td>\n",
       "      <td>None</td>\n",
       "      <td>None</td>\n",
       "      <td>None</td>\n",
       "      <td>None</td>\n",
       "      <td>None</td>\n",
       "      <td>None</td>\n",
       "      <td>None</td>\n",
       "      <td>None</td>\n",
       "      <td>None</td>\n",
       "      <td>None</td>\n",
       "      <td>None</td>\n",
       "      <td>None</td>\n",
       "      <td>None</td>\n",
       "      <td>None</td>\n",
       "      <td>None</td>\n",
       "      <td>None</td>\n",
       "      <td>None</td>\n",
       "      <td>None</td>\n",
       "      <td>None</td>\n",
       "      <td>None</td>\n",
       "      <td>None</td>\n",
       "    </tr>\n",
       "  </tbody>\n",
       "</table>\n",
       "</div>"
      ],
      "text/plain": [
       "                                                                  0   \\\n",
       "Joffrey Baratheon              What good will my sympathies do them?   \n",
       "Cersei Baratheon                                   What do you mean?   \n",
       "Robert Baratheon     What do you say, just you and me on the King...   \n",
       "Eddard Stark                                       I have no choice.   \n",
       "Jaime Lannister                                      Little brother.   \n",
       "\n",
       "                                                                  1   \\\n",
       "Joffrey Baratheon                       The boy means nothing to me.   \n",
       "Cersei Baratheon     It's no mercy, letting a child linger in suc...   \n",
       "Robert Baratheon     There were wars to fight, women to marry... ...   \n",
       "Eddard Stark                                                You can.   \n",
       "Jaime Lannister      Tell me you're not thinking of taking the bl...   \n",
       "\n",
       "                                                                  2   \\\n",
       "Joffrey Baratheon                                I'm telling mother!   \n",
       "Cersei Baratheon                 I still can't believe you're going.   \n",
       "Robert Baratheon        There was that one... Oh, what was her name?   \n",
       "Eddard Stark         The next time we see each other, we'll talk ...   \n",
       "Jaime Lannister                                            Good man.   \n",
       "\n",
       "                                                              3   \\\n",
       "Joffrey Baratheon                You can't...   Tyrion Lannister   \n",
       "Cersei Baratheon     The children don't need to hear your filth.   \n",
       "Robert Baratheon                                         Bessie!   \n",
       "Eddard Stark                    I've half a mind to go with you.   \n",
       "Jaime Lannister                              At someone, I mean.   \n",
       "\n",
       "                                                               4   \\\n",
       "Joffrey Baratheon     My princess can drink as much as she wants.   \n",
       "Cersei Baratheon                               This is your home.   \n",
       "Robert Baratheon                                       That's it.   \n",
       "Eddard Stark               You should have asked me 20 years ago.   \n",
       "Jaime Lannister                                              None   \n",
       "\n",
       "                                                        5   \\\n",
       "Joffrey Baratheon                             Your sister?   \n",
       "Cersei Baratheon                         It was years ago.   \n",
       "Robert Baratheon     Trust me, that's not the worst thing.   \n",
       "Eddard Stark                       I recall a few chances.   \n",
       "Jaime Lannister                                       None   \n",
       "\n",
       "                                                                  6   \\\n",
       "Joffrey Baratheon      A butcher's boy who wants to be a Knight, eh?   \n",
       "Cersei Baratheon      How dare you speak to your King in that man...   \n",
       "Robert Baratheon     Soon enough that child will spread her legs ...   \n",
       "Eddard Stark                                                 Bessie.   \n",
       "Jaime Lannister                                                 None   \n",
       "\n",
       "                                                                  7   \\\n",
       "Joffrey Baratheon     I'm your prince, not your lord, and I said ...   \n",
       "Cersei Baratheon     Your girl and that butcher's boy attacked my...   \n",
       "Robert Baratheon                        Oh, it's unspeakable to you?   \n",
       "Eddard Stark                                                  Wylla.   \n",
       "Jaime Lannister                                                 None   \n",
       "\n",
       "                                                                  8   \\\n",
       "Joffrey Baratheon                           And you're not a Knight.   \n",
       "Cersei Baratheon                      Joffrey told us what happened.   \n",
       "Robert Baratheon      This Khal Drogo, it's said he has 100,000 m...   \n",
       "Eddard Stark                          Nor will I.   Robert Baratheon   \n",
       "Jaime Lannister                                                 None   \n",
       "\n",
       "                                                                  9   \\\n",
       "Joffrey Baratheon                          I won't hurt him... Much.   \n",
       "Cersei Baratheon                                          She's not.   \n",
       "Robert Baratheon      There are still those in the Seven Kingdoms...   \n",
       "Eddard Stark                The worst thing about your coronation...   \n",
       "Jaime Lannister                                                 None   \n",
       "\n",
       "                                                         10  \\\n",
       "Joffrey Baratheon            I'll gut you, you little cunt!   \n",
       "Cersei Baratheon      She's as wild as that animal of hers.   \n",
       "Robert Baratheon                              Quiet, woman.   \n",
       "Eddard Stark                She's little more than a child.   \n",
       "Jaime Lannister                                        None   \n",
       "\n",
       "                                                                  11  \\\n",
       "Joffrey Baratheon                                      Please don't.   \n",
       "Cersei Baratheon      Joffrey will bear these scars for the rest ...   \n",
       "Robert Baratheon                                             Enough!   \n",
       "Eddard Stark                     Tell me we're not speaking of this.   \n",
       "Jaime Lannister                                                 None   \n",
       "\n",
       "                                                                  12  \\\n",
       "Joffrey Baratheon                                           Then go!   \n",
       "Cersei Baratheon                           And what of the direwolf?   \n",
       "Robert Baratheon                Now, child... Tell me what happened.   \n",
       "Eddard Stark          But you can't get your hands on this one, c...   \n",
       "Jaime Lannister                                                 None   \n",
       "\n",
       "                                                                  13  \\\n",
       "Joffrey Baratheon                                         Yes it is!   \n",
       "Cersei Baratheon                               We have another wolf.   \n",
       "Robert Baratheon     What would you have me do, whip her through ...   \n",
       "Eddard Stark         Even a million Dothraki are no threat to the...   \n",
       "Jaime Lannister                                                 None   \n",
       "\n",
       "                                              14  \\\n",
       "Joffrey Baratheon                       Shut up!   \n",
       "Cersei Baratheon             Where is the beast?   \n",
       "Robert Baratheon     I'd forgot the damned wolf.   \n",
       "Eddard Stark                  He will not cross.   \n",
       "Jaime Lannister                             None   \n",
       "\n",
       "                                             15                     16  \\\n",
       "Joffrey Baratheon                          None                   None   \n",
       "Cersei Baratheon     Ser Ilyn, do me the honor.    Is this some trick?   \n",
       "Robert Baratheon                      So be it.           As you will.   \n",
       "Eddard Stark                      Where is she?          Who took her?   \n",
       "Jaime Lannister                            None                   None   \n",
       "\n",
       "                                       17       18               19  \\\n",
       "Joffrey Baratheon                    None     None             None   \n",
       "Cersei Baratheon                     None     None             None   \n",
       "Robert Baratheon     A direwolf's no pet.     None             None   \n",
       "Eddard Stark             Right, get back.    Back!    Are you hurt?   \n",
       "Jaime Lannister                      None     None             None   \n",
       "\n",
       "                                  20                21          22       23  \\\n",
       "Joffrey Baratheon               None              None        None     None   \n",
       "Cersei Baratheon                None              None        None     None   \n",
       "Robert Baratheon                None              None        None     None   \n",
       "Eddard Stark         It's all right.    In bed asleep.    Stop it!    Stop!   \n",
       "Jaime Lannister                 None              None        None     None   \n",
       "\n",
       "                                      24                    25  \\\n",
       "Joffrey Baratheon                   None                  None   \n",
       "Cersei Baratheon                    None                  None   \n",
       "Robert Baratheon                    None                  None   \n",
       "Eddard Stark         Gladly, your Grace.    You can't mean it.   \n",
       "Jaime Lannister                     None                  None   \n",
       "\n",
       "                                                     26     27  \\\n",
       "Joffrey Baratheon                                  None   None   \n",
       "Cersei Baratheon                                   None   None   \n",
       "Robert Baratheon                                   None   None   \n",
       "Eddard Stark         s this your command... your Grace?    No.   \n",
       "Jaime Lannister                                    None   None   \n",
       "\n",
       "                                             28  \\\n",
       "Joffrey Baratheon                          None   \n",
       "Cersei Baratheon                           None   \n",
       "Robert Baratheon                           None   \n",
       "Eddard Stark          The wolf is of the north.   \n",
       "Jaime Lannister                            None   \n",
       "\n",
       "                                                          29  \n",
       "Joffrey Baratheon                                       None  \n",
       "Cersei Baratheon                                        None  \n",
       "Robert Baratheon                                        None  \n",
       "Eddard Stark         The butcher's boy... You rode him down?  \n",
       "Jaime Lannister                                         None  "
      ]
     },
     "execution_count": 48,
     "metadata": {},
     "output_type": "execute_result"
    }
   ],
   "source": [
    "episode_two.head()"
   ]
  },
  {
   "cell_type": "code",
   "execution_count": 49,
   "metadata": {
    "scrolled": true
   },
   "outputs": [],
   "source": [
    "test2 = episode_two[0].apply(remove_stops)\n",
    "#test2"
   ]
  },
  {
   "cell_type": "code",
   "execution_count": 50,
   "metadata": {
    "collapsed": true,
    "scrolled": false
   },
   "outputs": [],
   "source": [
    "for column in episode_two.columns:\n",
    "    for x in range(len(episode_two[column])):\n",
    "        episode_two[column][x] = remove_stops(episode_two[column][x])"
   ]
  },
  {
   "cell_type": "code",
   "execution_count": 51,
   "metadata": {
    "scrolled": true
   },
   "outputs": [],
   "source": [
    "#episode_two.info()"
   ]
  },
  {
   "cell_type": "code",
   "execution_count": 52,
   "metadata": {},
   "outputs": [
    {
     "data": {
      "text/plain": [
       "(27, 30)"
      ]
     },
     "execution_count": 52,
     "metadata": {},
     "output_type": "execute_result"
    }
   ],
   "source": [
    "episode_two.shape"
   ]
  },
  {
   "cell_type": "code",
   "execution_count": 53,
   "metadata": {
    "scrolled": true
   },
   "outputs": [],
   "source": [
    "#episode_two.head()"
   ]
  },
  {
   "cell_type": "markdown",
   "metadata": {},
   "source": [
    "### Episode Three"
   ]
  },
  {
   "cell_type": "code",
   "execution_count": 55,
   "metadata": {
    "scrolled": true
   },
   "outputs": [],
   "source": [
    "#df_s1.script_text[2]"
   ]
  },
  {
   "cell_type": "code",
   "execution_count": 56,
   "metadata": {},
   "outputs": [
    {
     "name": "stdout",
     "output_type": "stream",
     "text": [
      "<type 'list'>\n"
     ]
    }
   ],
   "source": [
    "script_text1_03 = df_s1.script_text[2]\n",
    "print type(script_text1_03)\n",
    "\n",
    "#script_text1_03"
   ]
  },
  {
   "cell_type": "code",
   "execution_count": 57,
   "metadata": {
    "scrolled": true
   },
   "outputs": [],
   "source": [
    "script_split3 = [i.split('\\n') for i in script_text1_03]\n",
    "#script_split3"
   ]
  },
  {
   "cell_type": "code",
   "execution_count": 58,
   "metadata": {
    "collapsed": true
   },
   "outputs": [],
   "source": [
    "string_script_text3 = ' '\n",
    "\n",
    "for i in script_split3:\n",
    "    for e in i:\n",
    "        string_script_text3 = string_script_text3 + ' ' + e"
   ]
  },
  {
   "cell_type": "code",
   "execution_count": 59,
   "metadata": {},
   "outputs": [],
   "source": [
    "#string_script_text3"
   ]
  },
  {
   "cell_type": "code",
   "execution_count": 60,
   "metadata": {},
   "outputs": [],
   "source": [
    "words3 = word_tokenize(string_script_text3)\n",
    "#words3"
   ]
  },
  {
   "cell_type": "code",
   "execution_count": 61,
   "metadata": {
    "scrolled": true
   },
   "outputs": [],
   "source": [
    "sentences3 = sent_tokenize(string_script_text3)\n",
    "#sentences3"
   ]
  },
  {
   "cell_type": "code",
   "execution_count": 62,
   "metadata": {
    "scrolled": false
   },
   "outputs": [
    {
     "name": "stderr",
     "output_type": "stream",
     "text": [
      "/Users/zoemarkovits/anaconda/lib/python2.7/site-packages/ipykernel_launcher.py:6: UnicodeWarning: Unicode equal comparison failed to convert both arguments to Unicode - interpreting them as being unequal\n",
      "  \n"
     ]
    }
   ],
   "source": [
    "dialogue3 = []\n",
    "\n",
    "for sentence in sentences3:\n",
    "    words=sentence.split(':')[0]\n",
    "    if len(words.split())<=2:\n",
    "        if words in (names1_03):\n",
    "            dialogue3.append(sentence)"
   ]
  },
  {
   "cell_type": "code",
   "execution_count": 63,
   "metadata": {
    "scrolled": true
   },
   "outputs": [],
   "source": [
    "#dialogue3"
   ]
  },
  {
   "cell_type": "code",
   "execution_count": 64,
   "metadata": {
    "collapsed": true
   },
   "outputs": [],
   "source": [
    "import pickle\n",
    "with open('/Users/zoemarkovits/Metis/project_five_got/Dialogue_PKLs/s103.pkl', 'wb') as f:\n",
    "    pickle.dump(dialogue3, f)"
   ]
  },
  {
   "cell_type": "code",
   "execution_count": 65,
   "metadata": {
    "scrolled": true
   },
   "outputs": [],
   "source": [
    "from collections import defaultdict\n",
    "\n",
    "speakers3 = defaultdict(list)\n",
    "for sentence in dialogue3:\n",
    "    speakers3[sentence.split(':')[0]].append(sentence.split(':')[1])\n",
    "\n",
    "#speakers3"
   ]
  },
  {
   "cell_type": "code",
   "execution_count": 66,
   "metadata": {
    "scrolled": false
   },
   "outputs": [
    {
     "data": {
      "text/plain": [
       "[u\"   I'm practicing.\",\n",
       " u'  The Prince.',\n",
       " u'  The Hound does whatever the Prince tells him to do.',\n",
       " u\"  You're a liar.\",\n",
       " u'  Go away!',\n",
       " u'   Mine.',\n",
       " u\"  I wasn't playing.\",\n",
       " u\"   It's called Needle.\",\n",
       " u\"  Stick 'em with the pointy end.\",\n",
       " u'  I was trying to learn.',\n",
       " u'  I hate them!',\n",
       " u'  So was I!',\n",
       " u'  But how you can let her marry someone like that?',\n",
       " u'  Winter is coming.',\n",
       " u\"  I don't hate her.\",\n",
       " u'  I can keep it?',\n",
       " u'   Who are you?',\n",
       " u\"   It's too heavy.\",\n",
       " u'  What if I drop it?',\n",
       " u\"  I'm a girl.\"]"
      ]
     },
     "execution_count": 66,
     "metadata": {},
     "output_type": "execute_result"
    }
   ],
   "source": [
    "speakers3['Arya Stark']"
   ]
  },
  {
   "cell_type": "code",
   "execution_count": 67,
   "metadata": {
    "scrolled": true
   },
   "outputs": [
    {
     "name": "stdout",
     "output_type": "stream",
     "text": [
      "(37, 37)\n"
     ]
    }
   ],
   "source": [
    "episode_three = pd.DataFrame.from_dict(speakers3, orient=\"index\")\n",
    "print episode_three.shape"
   ]
  },
  {
   "cell_type": "code",
   "execution_count": 68,
   "metadata": {
    "collapsed": true
   },
   "outputs": [],
   "source": [
    "#from numpy import nan\n",
    "#episode_three.fillna(value=str(0), inplace=True)"
   ]
  },
  {
   "cell_type": "code",
   "execution_count": 69,
   "metadata": {
    "scrolled": true
   },
   "outputs": [],
   "source": [
    "#episode_three.info()"
   ]
  },
  {
   "cell_type": "code",
   "execution_count": 70,
   "metadata": {},
   "outputs": [
    {
     "data": {
      "text/html": [
       "<div>\n",
       "<table border=\"1\" class=\"dataframe\">\n",
       "  <thead>\n",
       "    <tr style=\"text-align: right;\">\n",
       "      <th></th>\n",
       "      <th>0</th>\n",
       "      <th>1</th>\n",
       "      <th>2</th>\n",
       "      <th>3</th>\n",
       "      <th>4</th>\n",
       "      <th>5</th>\n",
       "      <th>6</th>\n",
       "      <th>7</th>\n",
       "      <th>8</th>\n",
       "      <th>9</th>\n",
       "      <th>10</th>\n",
       "      <th>11</th>\n",
       "      <th>12</th>\n",
       "      <th>13</th>\n",
       "      <th>14</th>\n",
       "      <th>15</th>\n",
       "      <th>16</th>\n",
       "      <th>17</th>\n",
       "      <th>18</th>\n",
       "      <th>19</th>\n",
       "      <th>20</th>\n",
       "      <th>21</th>\n",
       "      <th>22</th>\n",
       "      <th>23</th>\n",
       "      <th>24</th>\n",
       "      <th>25</th>\n",
       "      <th>26</th>\n",
       "      <th>27</th>\n",
       "      <th>28</th>\n",
       "      <th>29</th>\n",
       "      <th>30</th>\n",
       "      <th>31</th>\n",
       "      <th>32</th>\n",
       "      <th>33</th>\n",
       "      <th>34</th>\n",
       "      <th>35</th>\n",
       "      <th>36</th>\n",
       "    </tr>\n",
       "  </thead>\n",
       "  <tbody>\n",
       "    <tr>\n",
       "      <th>Joffrey Baratheon</th>\n",
       "      <td>It's ugly.</td>\n",
       "      <td>I'm not like him.</td>\n",
       "      <td>Do I have to marry her?</td>\n",
       "      <td>I don't want to.</td>\n",
       "      <td>We allow the northerners too much power.</td>\n",
       "      <td>I'd double their taxes and command them to ...</td>\n",
       "      <td>Why should every lord command his own men?</td>\n",
       "      <td>I'd crush them.</td>\n",
       "      <td>For me.</td>\n",
       "      <td>I'm not asking.</td>\n",
       "      <td>So you agree...</td>\n",
       "      <td>None</td>\n",
       "      <td>None</td>\n",
       "      <td>None</td>\n",
       "      <td>None</td>\n",
       "      <td>None</td>\n",
       "      <td>None</td>\n",
       "      <td>None</td>\n",
       "      <td>None</td>\n",
       "      <td>None</td>\n",
       "      <td>None</td>\n",
       "      <td>None</td>\n",
       "      <td>None</td>\n",
       "      <td>None</td>\n",
       "      <td>None</td>\n",
       "      <td>None</td>\n",
       "      <td>None</td>\n",
       "      <td>None</td>\n",
       "      <td>None</td>\n",
       "      <td>None</td>\n",
       "      <td>None</td>\n",
       "      <td>None</td>\n",
       "      <td>None</td>\n",
       "      <td>None</td>\n",
       "      <td>None</td>\n",
       "      <td>None</td>\n",
       "      <td>None</td>\n",
       "    </tr>\n",
       "    <tr>\n",
       "      <th>Benjen Stark</th>\n",
       "      <td>I'm the First Ranger.</td>\n",
       "      <td>The kind I don't want to believe.</td>\n",
       "      <td>You're not going.</td>\n",
       "      <td>The Night's Watch is a joke to you, is it?</td>\n",
       "      <td>I hope we've provided you with some good st...</td>\n",
       "      <td>Call me what you like.</td>\n",
       "      <td>You know, my brother once told me that nothi...</td>\n",
       "      <td>You're right.</td>\n",
       "      <td>Enjoy the capital, brother.</td>\n",
       "      <td>None</td>\n",
       "      <td>None</td>\n",
       "      <td>None</td>\n",
       "      <td>None</td>\n",
       "      <td>None</td>\n",
       "      <td>None</td>\n",
       "      <td>None</td>\n",
       "      <td>None</td>\n",
       "      <td>None</td>\n",
       "      <td>None</td>\n",
       "      <td>None</td>\n",
       "      <td>None</td>\n",
       "      <td>None</td>\n",
       "      <td>None</td>\n",
       "      <td>None</td>\n",
       "      <td>None</td>\n",
       "      <td>None</td>\n",
       "      <td>None</td>\n",
       "      <td>None</td>\n",
       "      <td>None</td>\n",
       "      <td>None</td>\n",
       "      <td>None</td>\n",
       "      <td>None</td>\n",
       "      <td>None</td>\n",
       "      <td>None</td>\n",
       "      <td>None</td>\n",
       "      <td>None</td>\n",
       "      <td>None</td>\n",
       "    </tr>\n",
       "    <tr>\n",
       "      <th>Petyr Baelish</th>\n",
       "      <td>We are the lords of small matters here.</td>\n",
       "      <td>Mmm, how much?</td>\n",
       "      <td>I'm telling you the Crown is six million in ...</td>\n",
       "      <td>The Master of Coin finds the money.</td>\n",
       "      <td>As you will.</td>\n",
       "      <td>Cat!</td>\n",
       "      <td>No one will come looking for you here.</td>\n",
       "      <td>A dear friend told me.</td>\n",
       "      <td>Good news?</td>\n",
       "      <td>Is she?</td>\n",
       "      <td>I thought that she'd be safest in here.</td>\n",
       "      <td>Which Lord Tyrion will say was stolen from ...</td>\n",
       "      <td>I'll try to keep you alive, for her sake.</td>\n",
       "      <td>Don't tell anyone.</td>\n",
       "      <td>None</td>\n",
       "      <td>None</td>\n",
       "      <td>None</td>\n",
       "      <td>None</td>\n",
       "      <td>None</td>\n",
       "      <td>None</td>\n",
       "      <td>None</td>\n",
       "      <td>None</td>\n",
       "      <td>None</td>\n",
       "      <td>None</td>\n",
       "      <td>None</td>\n",
       "      <td>None</td>\n",
       "      <td>None</td>\n",
       "      <td>None</td>\n",
       "      <td>None</td>\n",
       "      <td>None</td>\n",
       "      <td>None</td>\n",
       "      <td>None</td>\n",
       "      <td>None</td>\n",
       "      <td>None</td>\n",
       "      <td>None</td>\n",
       "      <td>None</td>\n",
       "      <td>None</td>\n",
       "    </tr>\n",
       "    <tr>\n",
       "      <th>Cersei Baratheon</th>\n",
       "      <td>A King should have scars, you fought off a d...</td>\n",
       "      <td>That's not true.</td>\n",
       "      <td>Yes.</td>\n",
       "      <td>No, but you will.</td>\n",
       "      <td>How would you handle them?</td>\n",
       "      <td>A royal army?</td>\n",
       "      <td>And if the northerners rebel?</td>\n",
       "      <td>And these 10,000 northern troops, would they...</td>\n",
       "      <td>But you've just invaded their homeland, ask...</td>\n",
       "      <td>The North cannot be held... not by an outsider.</td>\n",
       "      <td>Everyone who isn't us is an enemy.</td>\n",
       "      <td>He's a child... 10 years old.</td>\n",
       "      <td>Nothing.</td>\n",
       "      <td>What if it comes back to him?</td>\n",
       "      <td>And my husband?</td>\n",
       "      <td>Let me go.</td>\n",
       "      <td>Let me go.</td>\n",
       "      <td>And if you find the proof?</td>\n",
       "      <td>None</td>\n",
       "      <td>None</td>\n",
       "      <td>None</td>\n",
       "      <td>None</td>\n",
       "      <td>None</td>\n",
       "      <td>None</td>\n",
       "      <td>None</td>\n",
       "      <td>None</td>\n",
       "      <td>None</td>\n",
       "      <td>None</td>\n",
       "      <td>None</td>\n",
       "      <td>None</td>\n",
       "      <td>None</td>\n",
       "      <td>None</td>\n",
       "      <td>None</td>\n",
       "      <td>None</td>\n",
       "      <td>None</td>\n",
       "      <td>None</td>\n",
       "      <td>None</td>\n",
       "    </tr>\n",
       "    <tr>\n",
       "      <th>Robert Baratheon</th>\n",
       "      <td>Who was it?</td>\n",
       "      <td>How'd you do it?</td>\n",
       "      <td>Quick one.</td>\n",
       "      <td>What do you mean it's empty?</td>\n",
       "      <td>Is that what empty means?!</td>\n",
       "      <td>None</td>\n",
       "      <td>None</td>\n",
       "      <td>None</td>\n",
       "      <td>None</td>\n",
       "      <td>None</td>\n",
       "      <td>None</td>\n",
       "      <td>None</td>\n",
       "      <td>None</td>\n",
       "      <td>None</td>\n",
       "      <td>None</td>\n",
       "      <td>None</td>\n",
       "      <td>None</td>\n",
       "      <td>None</td>\n",
       "      <td>None</td>\n",
       "      <td>None</td>\n",
       "      <td>None</td>\n",
       "      <td>None</td>\n",
       "      <td>None</td>\n",
       "      <td>None</td>\n",
       "      <td>None</td>\n",
       "      <td>None</td>\n",
       "      <td>None</td>\n",
       "      <td>None</td>\n",
       "      <td>None</td>\n",
       "      <td>None</td>\n",
       "      <td>None</td>\n",
       "      <td>None</td>\n",
       "      <td>None</td>\n",
       "      <td>None</td>\n",
       "      <td>None</td>\n",
       "      <td>None</td>\n",
       "      <td>None</td>\n",
       "    </tr>\n",
       "  </tbody>\n",
       "</table>\n",
       "</div>"
      ],
      "text/plain": [
       "                                                                  0   \\\n",
       "Joffrey Baratheon                                         It's ugly.   \n",
       "Benjen Stark                                   I'm the First Ranger.   \n",
       "Petyr Baelish                We are the lords of small matters here.   \n",
       "Cersei Baratheon     A King should have scars, you fought off a d...   \n",
       "Robert Baratheon                                         Who was it?   \n",
       "\n",
       "                                                     1   \\\n",
       "Joffrey Baratheon                     I'm not like him.   \n",
       "Benjen Stark          The kind I don't want to believe.   \n",
       "Petyr Baelish                            Mmm, how much?   \n",
       "Cersei Baratheon                       That's not true.   \n",
       "Robert Baratheon                       How'd you do it?   \n",
       "\n",
       "                                                                  2   \\\n",
       "Joffrey Baratheon                            Do I have to marry her?   \n",
       "Benjen Stark                                       You're not going.   \n",
       "Petyr Baelish        I'm telling you the Crown is six million in ...   \n",
       "Cersei Baratheon                                                Yes.   \n",
       "Robert Baratheon                                          Quick one.   \n",
       "\n",
       "                                                             3   \\\n",
       "Joffrey Baratheon                              I don't want to.   \n",
       "Benjen Stark         The Night's Watch is a joke to you, is it?   \n",
       "Petyr Baelish               The Master of Coin finds the money.   \n",
       "Cersei Baratheon                              No, but you will.   \n",
       "Robert Baratheon                   What do you mean it's empty?   \n",
       "\n",
       "                                                                  4   \\\n",
       "Joffrey Baratheon           We allow the northerners too much power.   \n",
       "Benjen Stark          I hope we've provided you with some good st...   \n",
       "Petyr Baelish                                           As you will.   \n",
       "Cersei Baratheon                          How would you handle them?   \n",
       "Robert Baratheon                          Is that what empty means?!   \n",
       "\n",
       "                                                                  5   \\\n",
       "Joffrey Baratheon     I'd double their taxes and command them to ...   \n",
       "Benjen Stark                                  Call me what you like.   \n",
       "Petyr Baelish                                                   Cat!   \n",
       "Cersei Baratheon                                       A royal army?   \n",
       "Robert Baratheon                                                None   \n",
       "\n",
       "                                                                  6   \\\n",
       "Joffrey Baratheon         Why should every lord command his own men?   \n",
       "Benjen Stark         You know, my brother once told me that nothi...   \n",
       "Petyr Baelish                 No one will come looking for you here.   \n",
       "Cersei Baratheon                       And if the northerners rebel?   \n",
       "Robert Baratheon                                                None   \n",
       "\n",
       "                                                                  7   \\\n",
       "Joffrey Baratheon                                    I'd crush them.   \n",
       "Benjen Stark                                           You're right.   \n",
       "Petyr Baelish                                 A dear friend told me.   \n",
       "Cersei Baratheon     And these 10,000 northern troops, would they...   \n",
       "Robert Baratheon                                                None   \n",
       "\n",
       "                                                                  8   \\\n",
       "Joffrey Baratheon                                            For me.   \n",
       "Benjen Stark                             Enjoy the capital, brother.   \n",
       "Petyr Baelish                                             Good news?   \n",
       "Cersei Baratheon      But you've just invaded their homeland, ask...   \n",
       "Robert Baratheon                                                None   \n",
       "\n",
       "                                                                  9   \\\n",
       "Joffrey Baratheon                                    I'm not asking.   \n",
       "Benjen Stark                                                    None   \n",
       "Petyr Baelish                                                Is she?   \n",
       "Cersei Baratheon     The North cannot be held... not by an outsider.   \n",
       "Robert Baratheon                                                None   \n",
       "\n",
       "                                                           10  \\\n",
       "Joffrey Baratheon                             So you agree...   \n",
       "Benjen Stark                                             None   \n",
       "Petyr Baelish         I thought that she'd be safest in here.   \n",
       "Cersei Baratheon           Everyone who isn't us is an enemy.   \n",
       "Robert Baratheon                                         None   \n",
       "\n",
       "                                                                  11  \\\n",
       "Joffrey Baratheon                                               None   \n",
       "Benjen Stark                                                    None   \n",
       "Petyr Baelish         Which Lord Tyrion will say was stolen from ...   \n",
       "Cersei Baratheon                       He's a child... 10 years old.   \n",
       "Robert Baratheon                                                None   \n",
       "\n",
       "                                                             12  \\\n",
       "Joffrey Baratheon                                          None   \n",
       "Benjen Stark                                               None   \n",
       "Petyr Baelish         I'll try to keep you alive, for her sake.   \n",
       "Cersei Baratheon                                       Nothing.   \n",
       "Robert Baratheon                                           None   \n",
       "\n",
       "                                                13                 14  \\\n",
       "Joffrey Baratheon                             None               None   \n",
       "Benjen Stark                                  None               None   \n",
       "Petyr Baelish                   Don't tell anyone.               None   \n",
       "Cersei Baratheon     What if it comes back to him?    And my husband?   \n",
       "Robert Baratheon                              None               None   \n",
       "\n",
       "                             15            16                            17  \\\n",
       "Joffrey Baratheon          None          None                          None   \n",
       "Benjen Stark               None          None                          None   \n",
       "Petyr Baelish              None          None                          None   \n",
       "Cersei Baratheon     Let me go.    Let me go.    And if you find the proof?   \n",
       "Robert Baratheon           None          None                          None   \n",
       "\n",
       "                     18    19    20    21    22    23    24    25    26    27  \\\n",
       "Joffrey Baratheon  None  None  None  None  None  None  None  None  None  None   \n",
       "Benjen Stark       None  None  None  None  None  None  None  None  None  None   \n",
       "Petyr Baelish      None  None  None  None  None  None  None  None  None  None   \n",
       "Cersei Baratheon   None  None  None  None  None  None  None  None  None  None   \n",
       "Robert Baratheon   None  None  None  None  None  None  None  None  None  None   \n",
       "\n",
       "                     28    29    30    31    32    33    34    35    36  \n",
       "Joffrey Baratheon  None  None  None  None  None  None  None  None  None  \n",
       "Benjen Stark       None  None  None  None  None  None  None  None  None  \n",
       "Petyr Baelish      None  None  None  None  None  None  None  None  None  \n",
       "Cersei Baratheon   None  None  None  None  None  None  None  None  None  \n",
       "Robert Baratheon   None  None  None  None  None  None  None  None  None  "
      ]
     },
     "execution_count": 70,
     "metadata": {},
     "output_type": "execute_result"
    }
   ],
   "source": [
    "episode_three.head()"
   ]
  },
  {
   "cell_type": "code",
   "execution_count": 71,
   "metadata": {
    "scrolled": true
   },
   "outputs": [],
   "source": [
    "test3 = episode_three[0].apply(remove_stops)\n",
    "#test3"
   ]
  },
  {
   "cell_type": "code",
   "execution_count": 72,
   "metadata": {
    "collapsed": true,
    "scrolled": false
   },
   "outputs": [],
   "source": [
    "for column in episode_three.columns:\n",
    "    for x in range(len(episode_three[column])):\n",
    "        episode_three[column][x] = remove_stops(episode_three[column][x])"
   ]
  },
  {
   "cell_type": "code",
   "execution_count": 73,
   "metadata": {
    "scrolled": true
   },
   "outputs": [],
   "source": [
    "#episode_three.info()"
   ]
  },
  {
   "cell_type": "code",
   "execution_count": 74,
   "metadata": {
    "scrolled": true
   },
   "outputs": [],
   "source": [
    "#episode_three.head()"
   ]
  },
  {
   "cell_type": "markdown",
   "metadata": {},
   "source": [
    "### Episode Four"
   ]
  },
  {
   "cell_type": "code",
   "execution_count": 75,
   "metadata": {
    "scrolled": true
   },
   "outputs": [],
   "source": [
    "#df_s1.script_text[3]"
   ]
  },
  {
   "cell_type": "code",
   "execution_count": 76,
   "metadata": {},
   "outputs": [
    {
     "name": "stdout",
     "output_type": "stream",
     "text": [
      "<type 'list'>\n"
     ]
    }
   ],
   "source": [
    "script_text1_04 = df_s1.script_text[3]\n",
    "print type(script_text1_04)\n",
    "\n",
    "#script_text1_04"
   ]
  },
  {
   "cell_type": "code",
   "execution_count": 77,
   "metadata": {
    "scrolled": true
   },
   "outputs": [],
   "source": [
    "script_split4 = [i.split('\\n') for i in script_text1_04]\n",
    "#script_split4"
   ]
  },
  {
   "cell_type": "code",
   "execution_count": 78,
   "metadata": {
    "collapsed": true
   },
   "outputs": [],
   "source": [
    "string_script_text4 = ' '\n",
    "\n",
    "for i in script_split4:\n",
    "    for e in i:\n",
    "        string_script_text4 = string_script_text4 + ' ' + e"
   ]
  },
  {
   "cell_type": "code",
   "execution_count": 79,
   "metadata": {},
   "outputs": [],
   "source": [
    "#string_script_text4"
   ]
  },
  {
   "cell_type": "code",
   "execution_count": 80,
   "metadata": {},
   "outputs": [],
   "source": [
    "words4 = word_tokenize(string_script_text4)\n",
    "#words4"
   ]
  },
  {
   "cell_type": "code",
   "execution_count": 81,
   "metadata": {
    "scrolled": true
   },
   "outputs": [],
   "source": [
    "sentences4 = sent_tokenize(string_script_text4)\n",
    "#sentences4"
   ]
  },
  {
   "cell_type": "code",
   "execution_count": 82,
   "metadata": {
    "collapsed": true,
    "scrolled": false
   },
   "outputs": [],
   "source": [
    "dialogue4 = []\n",
    "\n",
    "for sentence in sentences4:\n",
    "    words=sentence.split(':')[0]\n",
    "    if len(words.split())<=2:\n",
    "        if words in (names1_04):\n",
    "            dialogue4.append(sentence)"
   ]
  },
  {
   "cell_type": "code",
   "execution_count": 83,
   "metadata": {
    "scrolled": true
   },
   "outputs": [],
   "source": [
    "#dialogue4"
   ]
  },
  {
   "cell_type": "code",
   "execution_count": 84,
   "metadata": {
    "collapsed": true
   },
   "outputs": [],
   "source": [
    "import pickle\n",
    "with open('/Users/zoemarkovits/Metis/project_five_got/Dialogue_PKLs/s104.pkl', 'wb') as f:\n",
    "    pickle.dump(dialogue4, f)"
   ]
  },
  {
   "cell_type": "code",
   "execution_count": 85,
   "metadata": {
    "scrolled": true
   },
   "outputs": [],
   "source": [
    "from collections import defaultdict\n",
    "\n",
    "speakers4 = defaultdict(list)\n",
    "for sentence in dialogue4:\n",
    "    speakers4[sentence.split(':')[0]].append(sentence.split(':')[1])\n",
    "\n",
    "#speakers4"
   ]
  },
  {
   "cell_type": "code",
   "execution_count": 86,
   "metadata": {
    "scrolled": true
   },
   "outputs": [
    {
     "data": {
      "text/plain": [
       "[u'  Syrio says every hurt is a lesson and every lesson makes you better.',\n",
       " u\"  Now that Bran's awake will he come live with us?\",\n",
       " u' He wants to be a knight of the King\\u2019s Guard.',\n",
       " u'  Can I be Lord of a holdfast?',\n",
       " u'  Why do they call you Littlefinger?']"
      ]
     },
     "execution_count": 86,
     "metadata": {},
     "output_type": "execute_result"
    }
   ],
   "source": [
    "speakers4['Arya Stark']"
   ]
  },
  {
   "cell_type": "code",
   "execution_count": 87,
   "metadata": {
    "scrolled": true
   },
   "outputs": [
    {
     "name": "stdout",
     "output_type": "stream",
     "text": [
      "(36, 45)\n"
     ]
    }
   ],
   "source": [
    "episode_four = pd.DataFrame.from_dict(speakers4, orient=\"index\")\n",
    "print episode_four.shape"
   ]
  },
  {
   "cell_type": "code",
   "execution_count": 88,
   "metadata": {
    "collapsed": true
   },
   "outputs": [],
   "source": [
    "#from numpy import nan\n",
    "#episode_four.fillna(value=str(0), inplace=True)"
   ]
  },
  {
   "cell_type": "code",
   "execution_count": 89,
   "metadata": {
    "scrolled": true
   },
   "outputs": [],
   "source": [
    "#episode_four.info()"
   ]
  },
  {
   "cell_type": "code",
   "execution_count": 90,
   "metadata": {},
   "outputs": [
    {
     "data": {
      "text/html": [
       "<div>\n",
       "<table border=\"1\" class=\"dataframe\">\n",
       "  <thead>\n",
       "    <tr style=\"text-align: right;\">\n",
       "      <th></th>\n",
       "      <th>0</th>\n",
       "      <th>1</th>\n",
       "      <th>2</th>\n",
       "      <th>3</th>\n",
       "      <th>4</th>\n",
       "      <th>5</th>\n",
       "      <th>6</th>\n",
       "      <th>7</th>\n",
       "      <th>8</th>\n",
       "      <th>9</th>\n",
       "      <th>10</th>\n",
       "      <th>11</th>\n",
       "      <th>12</th>\n",
       "      <th>13</th>\n",
       "      <th>14</th>\n",
       "      <th>15</th>\n",
       "      <th>16</th>\n",
       "      <th>17</th>\n",
       "      <th>18</th>\n",
       "      <th>19</th>\n",
       "      <th>20</th>\n",
       "      <th>21</th>\n",
       "      <th>22</th>\n",
       "      <th>23</th>\n",
       "      <th>24</th>\n",
       "      <th>25</th>\n",
       "      <th>26</th>\n",
       "      <th>27</th>\n",
       "      <th>28</th>\n",
       "      <th>29</th>\n",
       "      <th>30</th>\n",
       "      <th>31</th>\n",
       "      <th>32</th>\n",
       "      <th>33</th>\n",
       "      <th>34</th>\n",
       "      <th>35</th>\n",
       "      <th>36</th>\n",
       "      <th>37</th>\n",
       "      <th>38</th>\n",
       "      <th>39</th>\n",
       "      <th>40</th>\n",
       "      <th>41</th>\n",
       "      <th>42</th>\n",
       "      <th>43</th>\n",
       "      <th>44</th>\n",
       "    </tr>\n",
       "  </thead>\n",
       "  <tbody>\n",
       "    <tr>\n",
       "      <th>Petyr Baelish</th>\n",
       "      <td>I will?</td>\n",
       "      <td>And every inn in the city is full and the wh...</td>\n",
       "      <td>He never stops.</td>\n",
       "      <td>I promised Cat that I'd help you.</td>\n",
       "      <td>A singularly bad idea.</td>\n",
       "      <td>No.</td>\n",
       "      <td>The wiser answer was no, my Lord.</td>\n",
       "      <td>I have my observers, as I said, and it's pos...</td>\n",
       "      <td>No, it's quite all right.</td>\n",
       "      <td>Ser Gregor Clegane.</td>\n",
       "      <td>Ser Hugh of the Vale.</td>\n",
       "      <td>Not what you were expecting?</td>\n",
       "      <td>None</td>\n",
       "      <td>None</td>\n",
       "      <td>None</td>\n",
       "      <td>None</td>\n",
       "      <td>None</td>\n",
       "      <td>None</td>\n",
       "      <td>None</td>\n",
       "      <td>None</td>\n",
       "      <td>None</td>\n",
       "      <td>None</td>\n",
       "      <td>None</td>\n",
       "      <td>None</td>\n",
       "      <td>None</td>\n",
       "      <td>None</td>\n",
       "      <td>None</td>\n",
       "      <td>None</td>\n",
       "      <td>None</td>\n",
       "      <td>None</td>\n",
       "      <td>None</td>\n",
       "      <td>None</td>\n",
       "      <td>None</td>\n",
       "      <td>None</td>\n",
       "      <td>None</td>\n",
       "      <td>None</td>\n",
       "      <td>None</td>\n",
       "      <td>None</td>\n",
       "      <td>None</td>\n",
       "      <td>None</td>\n",
       "      <td>None</td>\n",
       "      <td>None</td>\n",
       "      <td>None</td>\n",
       "      <td>None</td>\n",
       "      <td>None</td>\n",
       "    </tr>\n",
       "    <tr>\n",
       "      <th>Yoren</th>\n",
       "      <td>Aye, my Lord.</td>\n",
       "      <td>None</td>\n",
       "      <td>None</td>\n",
       "      <td>None</td>\n",
       "      <td>None</td>\n",
       "      <td>None</td>\n",
       "      <td>None</td>\n",
       "      <td>None</td>\n",
       "      <td>None</td>\n",
       "      <td>None</td>\n",
       "      <td>None</td>\n",
       "      <td>None</td>\n",
       "      <td>None</td>\n",
       "      <td>None</td>\n",
       "      <td>None</td>\n",
       "      <td>None</td>\n",
       "      <td>None</td>\n",
       "      <td>None</td>\n",
       "      <td>None</td>\n",
       "      <td>None</td>\n",
       "      <td>None</td>\n",
       "      <td>None</td>\n",
       "      <td>None</td>\n",
       "      <td>None</td>\n",
       "      <td>None</td>\n",
       "      <td>None</td>\n",
       "      <td>None</td>\n",
       "      <td>None</td>\n",
       "      <td>None</td>\n",
       "      <td>None</td>\n",
       "      <td>None</td>\n",
       "      <td>None</td>\n",
       "      <td>None</td>\n",
       "      <td>None</td>\n",
       "      <td>None</td>\n",
       "      <td>None</td>\n",
       "      <td>None</td>\n",
       "      <td>None</td>\n",
       "      <td>None</td>\n",
       "      <td>None</td>\n",
       "      <td>None</td>\n",
       "      <td>None</td>\n",
       "      <td>None</td>\n",
       "      <td>None</td>\n",
       "      <td>None</td>\n",
       "    </tr>\n",
       "    <tr>\n",
       "      <th>Cersei Baratheon</th>\n",
       "      <td>You're missing your tournament.</td>\n",
       "      <td>I thought we might put what happened on the ...</td>\n",
       "      <td>The only Stark who does.</td>\n",
       "      <td>I might ask the same of you.</td>\n",
       "      <td>You can't change him.</td>\n",
       "      <td>You're just a soldier, aren't you?</td>\n",
       "      <td>As was I.</td>\n",
       "      <td>None</td>\n",
       "      <td>None</td>\n",
       "      <td>None</td>\n",
       "      <td>None</td>\n",
       "      <td>None</td>\n",
       "      <td>None</td>\n",
       "      <td>None</td>\n",
       "      <td>None</td>\n",
       "      <td>None</td>\n",
       "      <td>None</td>\n",
       "      <td>None</td>\n",
       "      <td>None</td>\n",
       "      <td>None</td>\n",
       "      <td>None</td>\n",
       "      <td>None</td>\n",
       "      <td>None</td>\n",
       "      <td>None</td>\n",
       "      <td>None</td>\n",
       "      <td>None</td>\n",
       "      <td>None</td>\n",
       "      <td>None</td>\n",
       "      <td>None</td>\n",
       "      <td>None</td>\n",
       "      <td>None</td>\n",
       "      <td>None</td>\n",
       "      <td>None</td>\n",
       "      <td>None</td>\n",
       "      <td>None</td>\n",
       "      <td>None</td>\n",
       "      <td>None</td>\n",
       "      <td>None</td>\n",
       "      <td>None</td>\n",
       "      <td>None</td>\n",
       "      <td>None</td>\n",
       "      <td>None</td>\n",
       "      <td>None</td>\n",
       "      <td>None</td>\n",
       "      <td>None</td>\n",
       "    </tr>\n",
       "    <tr>\n",
       "      <th>Robert Baratheon</th>\n",
       "      <td>I'll bet you smell of blackberry jam!</td>\n",
       "      <td>I've been sitting here for days!</td>\n",
       "      <td>Yes, yes.</td>\n",
       "      <td>None</td>\n",
       "      <td>None</td>\n",
       "      <td>None</td>\n",
       "      <td>None</td>\n",
       "      <td>None</td>\n",
       "      <td>None</td>\n",
       "      <td>None</td>\n",
       "      <td>None</td>\n",
       "      <td>None</td>\n",
       "      <td>None</td>\n",
       "      <td>None</td>\n",
       "      <td>None</td>\n",
       "      <td>None</td>\n",
       "      <td>None</td>\n",
       "      <td>None</td>\n",
       "      <td>None</td>\n",
       "      <td>None</td>\n",
       "      <td>None</td>\n",
       "      <td>None</td>\n",
       "      <td>None</td>\n",
       "      <td>None</td>\n",
       "      <td>None</td>\n",
       "      <td>None</td>\n",
       "      <td>None</td>\n",
       "      <td>None</td>\n",
       "      <td>None</td>\n",
       "      <td>None</td>\n",
       "      <td>None</td>\n",
       "      <td>None</td>\n",
       "      <td>None</td>\n",
       "      <td>None</td>\n",
       "      <td>None</td>\n",
       "      <td>None</td>\n",
       "      <td>None</td>\n",
       "      <td>None</td>\n",
       "      <td>None</td>\n",
       "      <td>None</td>\n",
       "      <td>None</td>\n",
       "      <td>None</td>\n",
       "      <td>None</td>\n",
       "      <td>None</td>\n",
       "      <td>None</td>\n",
       "    </tr>\n",
       "    <tr>\n",
       "      <th>Rast</th>\n",
       "      <td>You are in love, Lord Snow.</td>\n",
       "      <td>None</td>\n",
       "      <td>None</td>\n",
       "      <td>None</td>\n",
       "      <td>None</td>\n",
       "      <td>None</td>\n",
       "      <td>None</td>\n",
       "      <td>None</td>\n",
       "      <td>None</td>\n",
       "      <td>None</td>\n",
       "      <td>None</td>\n",
       "      <td>None</td>\n",
       "      <td>None</td>\n",
       "      <td>None</td>\n",
       "      <td>None</td>\n",
       "      <td>None</td>\n",
       "      <td>None</td>\n",
       "      <td>None</td>\n",
       "      <td>None</td>\n",
       "      <td>None</td>\n",
       "      <td>None</td>\n",
       "      <td>None</td>\n",
       "      <td>None</td>\n",
       "      <td>None</td>\n",
       "      <td>None</td>\n",
       "      <td>None</td>\n",
       "      <td>None</td>\n",
       "      <td>None</td>\n",
       "      <td>None</td>\n",
       "      <td>None</td>\n",
       "      <td>None</td>\n",
       "      <td>None</td>\n",
       "      <td>None</td>\n",
       "      <td>None</td>\n",
       "      <td>None</td>\n",
       "      <td>None</td>\n",
       "      <td>None</td>\n",
       "      <td>None</td>\n",
       "      <td>None</td>\n",
       "      <td>None</td>\n",
       "      <td>None</td>\n",
       "      <td>None</td>\n",
       "      <td>None</td>\n",
       "      <td>None</td>\n",
       "      <td>None</td>\n",
       "    </tr>\n",
       "  </tbody>\n",
       "</table>\n",
       "</div>"
      ],
      "text/plain": [
       "                                                       0   \\\n",
       "Petyr Baelish                                     I will?   \n",
       "Yoren                                       Aye, my Lord.   \n",
       "Cersei Baratheon          You're missing your tournament.   \n",
       "Robert Baratheon    I'll bet you smell of blackberry jam!   \n",
       "Rast                          You are in love, Lord Snow.   \n",
       "\n",
       "                                                                 1   \\\n",
       "Petyr Baelish       And every inn in the city is full and the wh...   \n",
       "Yoren                                                          None   \n",
       "Cersei Baratheon    I thought we might put what happened on the ...   \n",
       "Robert Baratheon                   I've been sitting here for days!   \n",
       "Rast                                                           None   \n",
       "\n",
       "                                          2   \\\n",
       "Petyr Baelish                He never stops.   \n",
       "Yoren                                   None   \n",
       "Cersei Baratheon    The only Stark who does.   \n",
       "Robert Baratheon                   Yes, yes.   \n",
       "Rast                                    None   \n",
       "\n",
       "                                                   3   \\\n",
       "Petyr Baelish       I promised Cat that I'd help you.   \n",
       "Yoren                                            None   \n",
       "Cersei Baratheon         I might ask the same of you.   \n",
       "Robert Baratheon                                 None   \n",
       "Rast                                             None   \n",
       "\n",
       "                                        4   \\\n",
       "Petyr Baelish       A singularly bad idea.   \n",
       "Yoren                                 None   \n",
       "Cersei Baratheon     You can't change him.   \n",
       "Robert Baratheon                      None   \n",
       "Rast                                  None   \n",
       "\n",
       "                                                    5   \\\n",
       "Petyr Baelish                                      No.   \n",
       "Yoren                                             None   \n",
       "Cersei Baratheon    You're just a soldier, aren't you?   \n",
       "Robert Baratheon                                  None   \n",
       "Rast                                              None   \n",
       "\n",
       "                                                   6   \\\n",
       "Petyr Baelish       The wiser answer was no, my Lord.   \n",
       "Yoren                                            None   \n",
       "Cersei Baratheon                            As was I.   \n",
       "Robert Baratheon                                 None   \n",
       "Rast                                             None   \n",
       "\n",
       "                                                                 7   \\\n",
       "Petyr Baelish       I have my observers, as I said, and it's pos...   \n",
       "Yoren                                                          None   \n",
       "Cersei Baratheon                                               None   \n",
       "Robert Baratheon                                               None   \n",
       "Rast                                                           None   \n",
       "\n",
       "                                           8                      9   \\\n",
       "Petyr Baelish       No, it's quite all right.    Ser Gregor Clegane.   \n",
       "Yoren                                    None                   None   \n",
       "Cersei Baratheon                         None                   None   \n",
       "Robert Baratheon                         None                   None   \n",
       "Rast                                     None                   None   \n",
       "\n",
       "                                       10                              11  \\\n",
       "Petyr Baelish       Ser Hugh of the Vale.    Not what you were expecting?   \n",
       "Yoren                                None                            None   \n",
       "Cersei Baratheon                     None                            None   \n",
       "Robert Baratheon                     None                            None   \n",
       "Rast                                 None                            None   \n",
       "\n",
       "                    12    13    14    15    16    17    18    19    20    21  \\\n",
       "Petyr Baelish     None  None  None  None  None  None  None  None  None  None   \n",
       "Yoren             None  None  None  None  None  None  None  None  None  None   \n",
       "Cersei Baratheon  None  None  None  None  None  None  None  None  None  None   \n",
       "Robert Baratheon  None  None  None  None  None  None  None  None  None  None   \n",
       "Rast              None  None  None  None  None  None  None  None  None  None   \n",
       "\n",
       "                    22    23    24    25    26    27    28    29    30    31  \\\n",
       "Petyr Baelish     None  None  None  None  None  None  None  None  None  None   \n",
       "Yoren             None  None  None  None  None  None  None  None  None  None   \n",
       "Cersei Baratheon  None  None  None  None  None  None  None  None  None  None   \n",
       "Robert Baratheon  None  None  None  None  None  None  None  None  None  None   \n",
       "Rast              None  None  None  None  None  None  None  None  None  None   \n",
       "\n",
       "                    32    33    34    35    36    37    38    39    40    41  \\\n",
       "Petyr Baelish     None  None  None  None  None  None  None  None  None  None   \n",
       "Yoren             None  None  None  None  None  None  None  None  None  None   \n",
       "Cersei Baratheon  None  None  None  None  None  None  None  None  None  None   \n",
       "Robert Baratheon  None  None  None  None  None  None  None  None  None  None   \n",
       "Rast              None  None  None  None  None  None  None  None  None  None   \n",
       "\n",
       "                    42    43    44  \n",
       "Petyr Baelish     None  None  None  \n",
       "Yoren             None  None  None  \n",
       "Cersei Baratheon  None  None  None  \n",
       "Robert Baratheon  None  None  None  \n",
       "Rast              None  None  None  "
      ]
     },
     "execution_count": 90,
     "metadata": {},
     "output_type": "execute_result"
    }
   ],
   "source": [
    "episode_four.head()"
   ]
  },
  {
   "cell_type": "code",
   "execution_count": 91,
   "metadata": {
    "scrolled": true
   },
   "outputs": [],
   "source": [
    "test4 = episode_four[0].apply(remove_stops)\n",
    "#test4"
   ]
  },
  {
   "cell_type": "code",
   "execution_count": 92,
   "metadata": {
    "collapsed": true,
    "scrolled": false
   },
   "outputs": [],
   "source": [
    "for column in episode_four.columns:\n",
    "    for x in range(len(episode_four[column])):\n",
    "        episode_four[column][x] = remove_stops(episode_four[column][x])"
   ]
  },
  {
   "cell_type": "code",
   "execution_count": 93,
   "metadata": {
    "scrolled": true
   },
   "outputs": [],
   "source": [
    "#episode_four.head()"
   ]
  },
  {
   "cell_type": "markdown",
   "metadata": {},
   "source": [
    "### Episode Five"
   ]
  },
  {
   "cell_type": "code",
   "execution_count": 94,
   "metadata": {
    "scrolled": true
   },
   "outputs": [],
   "source": [
    "#df_s1.script_text[4]"
   ]
  },
  {
   "cell_type": "code",
   "execution_count": 95,
   "metadata": {},
   "outputs": [
    {
     "name": "stdout",
     "output_type": "stream",
     "text": [
      "<type 'list'>\n"
     ]
    }
   ],
   "source": [
    "script_text1_05 = df_s1.script_text[4]\n",
    "print type(script_text1_05)\n",
    "\n",
    "#script_text1_05"
   ]
  },
  {
   "cell_type": "code",
   "execution_count": 96,
   "metadata": {
    "scrolled": true
   },
   "outputs": [],
   "source": [
    "script_split5 = [i.split('\\n') for i in script_text1_05]\n",
    "#script_split5"
   ]
  },
  {
   "cell_type": "code",
   "execution_count": 97,
   "metadata": {
    "collapsed": true
   },
   "outputs": [],
   "source": [
    "string_script_text5 = ' '\n",
    "\n",
    "for i in script_split5:\n",
    "    for e in i:\n",
    "        string_script_text5 = string_script_text5 + ' ' + e"
   ]
  },
  {
   "cell_type": "code",
   "execution_count": 98,
   "metadata": {},
   "outputs": [],
   "source": [
    "#string_script_text5"
   ]
  },
  {
   "cell_type": "code",
   "execution_count": 99,
   "metadata": {},
   "outputs": [],
   "source": [
    "words5 = word_tokenize(string_script_text5)\n",
    "#words5"
   ]
  },
  {
   "cell_type": "code",
   "execution_count": 100,
   "metadata": {
    "scrolled": true
   },
   "outputs": [],
   "source": [
    "sentences5 = sent_tokenize(string_script_text5)\n",
    "#sentences5"
   ]
  },
  {
   "cell_type": "code",
   "execution_count": 101,
   "metadata": {
    "collapsed": true,
    "scrolled": false
   },
   "outputs": [],
   "source": [
    "dialogue5 = []\n",
    "\n",
    "for sentence in sentences5:\n",
    "    words=sentence.split(':')[0]\n",
    "    if len(words.split())<=2:\n",
    "        if words in (names1_05):\n",
    "            dialogue5.append(sentence)"
   ]
  },
  {
   "cell_type": "code",
   "execution_count": 102,
   "metadata": {
    "scrolled": true
   },
   "outputs": [],
   "source": [
    "#dialogue5"
   ]
  },
  {
   "cell_type": "code",
   "execution_count": 103,
   "metadata": {
    "collapsed": true
   },
   "outputs": [],
   "source": [
    "import pickle\n",
    "with open('/Users/zoemarkovits/Metis/project_five_got/Dialogue_PKLs/s105.pkl', 'wb') as f:\n",
    "    pickle.dump(dialogue5, f)"
   ]
  },
  {
   "cell_type": "code",
   "execution_count": 104,
   "metadata": {
    "scrolled": true
   },
   "outputs": [],
   "source": [
    "from collections import defaultdict\n",
    "\n",
    "speakers5 = defaultdict(list)\n",
    "for sentence in dialogue5:\n",
    "    speakers5[sentence.split(':')[0]].append(sentence.split(':')[1])\n",
    "\n",
    "#speakers5"
   ]
  },
  {
   "cell_type": "code",
   "execution_count": 105,
   "metadata": {
    "scrolled": false
   },
   "outputs": [
    {
     "data": {
      "text/plain": [
       "[u\"  I'm not a beggar.\",\n",
       " u'  I want to see my father.',\n",
       " u'  My father is Hand of the King!',\n",
       " u'  They said they were going to kill you.',\n",
       " u\"  I didn't see them, but I think one was fat.\",\n",
       " u\"  I'm not lying!\",\n",
       " u\"  I'm a girl!\",\n",
       " u'  How many guards does my father have?',\n",
       " u\"  You wouldn't let anyone kill him, would you?\"]"
      ]
     },
     "execution_count": 105,
     "metadata": {},
     "output_type": "execute_result"
    }
   ],
   "source": [
    "speakers5['Arya Stark']"
   ]
  },
  {
   "cell_type": "code",
   "execution_count": 106,
   "metadata": {
    "scrolled": true
   },
   "outputs": [
    {
     "name": "stdout",
     "output_type": "stream",
     "text": [
      "(32, 61)\n"
     ]
    }
   ],
   "source": [
    "episode_five = pd.DataFrame.from_dict(speakers5, orient=\"index\")\n",
    "print episode_five.shape"
   ]
  },
  {
   "cell_type": "code",
   "execution_count": 107,
   "metadata": {
    "collapsed": true
   },
   "outputs": [],
   "source": [
    "#from numpy import nan\n",
    "#episode_five.fillna(value=str(0), inplace=True)"
   ]
  },
  {
   "cell_type": "code",
   "execution_count": 108,
   "metadata": {
    "scrolled": true
   },
   "outputs": [],
   "source": [
    "#episode_five.info()"
   ]
  },
  {
   "cell_type": "code",
   "execution_count": 109,
   "metadata": {},
   "outputs": [],
   "source": [
    "#episode_five.head()"
   ]
  },
  {
   "cell_type": "code",
   "execution_count": 110,
   "metadata": {
    "scrolled": true
   },
   "outputs": [],
   "source": [
    "test5 = episode_five[0].apply(remove_stops)\n",
    "#test5"
   ]
  },
  {
   "cell_type": "code",
   "execution_count": 111,
   "metadata": {
    "collapsed": true,
    "scrolled": false
   },
   "outputs": [],
   "source": [
    "for column in episode_five.columns:\n",
    "    for x in range(len(episode_five[column])):\n",
    "        episode_five[column][x] = remove_stops(episode_five[column][x])"
   ]
  },
  {
   "cell_type": "code",
   "execution_count": 112,
   "metadata": {
    "scrolled": true
   },
   "outputs": [
    {
     "data": {
      "text/html": [
       "<div>\n",
       "<table border=\"1\" class=\"dataframe\">\n",
       "  <thead>\n",
       "    <tr style=\"text-align: right;\">\n",
       "      <th></th>\n",
       "      <th>0</th>\n",
       "      <th>1</th>\n",
       "      <th>2</th>\n",
       "      <th>3</th>\n",
       "      <th>4</th>\n",
       "      <th>5</th>\n",
       "      <th>6</th>\n",
       "      <th>7</th>\n",
       "      <th>8</th>\n",
       "      <th>9</th>\n",
       "      <th>10</th>\n",
       "      <th>11</th>\n",
       "      <th>12</th>\n",
       "      <th>13</th>\n",
       "      <th>14</th>\n",
       "      <th>15</th>\n",
       "      <th>16</th>\n",
       "      <th>17</th>\n",
       "      <th>18</th>\n",
       "      <th>19</th>\n",
       "      <th>20</th>\n",
       "      <th>21</th>\n",
       "      <th>22</th>\n",
       "      <th>23</th>\n",
       "      <th>24</th>\n",
       "      <th>25</th>\n",
       "      <th>26</th>\n",
       "      <th>27</th>\n",
       "      <th>28</th>\n",
       "      <th>29</th>\n",
       "      <th>30</th>\n",
       "      <th>31</th>\n",
       "      <th>32</th>\n",
       "      <th>33</th>\n",
       "      <th>34</th>\n",
       "      <th>35</th>\n",
       "      <th>36</th>\n",
       "      <th>37</th>\n",
       "      <th>38</th>\n",
       "      <th>39</th>\n",
       "      <th>40</th>\n",
       "      <th>41</th>\n",
       "      <th>42</th>\n",
       "      <th>43</th>\n",
       "      <th>44</th>\n",
       "      <th>45</th>\n",
       "      <th>46</th>\n",
       "      <th>47</th>\n",
       "      <th>48</th>\n",
       "      <th>49</th>\n",
       "      <th>50</th>\n",
       "      <th>51</th>\n",
       "      <th>52</th>\n",
       "      <th>53</th>\n",
       "      <th>54</th>\n",
       "      <th>55</th>\n",
       "      <th>56</th>\n",
       "      <th>57</th>\n",
       "      <th>58</th>\n",
       "      <th>59</th>\n",
       "      <th>60</th>\n",
       "    </tr>\n",
       "  </thead>\n",
       "  <tbody>\n",
       "    <tr>\n",
       "      <th>Petyr Baelish</th>\n",
       "      <td>gold dragons mountain</td>\n",
       "      <td>buy gold dragons</td>\n",
       "      <td>loras knew mare heat</td>\n",
       "      <td>honor quite bit gold</td>\n",
       "      <td>move quietly</td>\n",
       "      <td>look bit lonely today</td>\n",
       "      <td></td>\n",
       "      <td>im purveyor beauty discretion equally important</td>\n",
       "      <td>desires valid man full purse</td>\n",
       "      <td>strictly speaking thing would accordance kings...</td>\n",
       "      <td>tell</td>\n",
       "      <td>since last saw since last saw</td>\n",
       "      <td>saw eyes</td>\n",
       "      <td>council business</td>\n",
       "      <td>know something</td>\n",
       "      <td>yes</td>\n",
       "      <td>long saw escorting certain foreign dignitary c...</td>\n",
       "      <td>find position simple word king renly baratheon</td>\n",
       "      <td>small council meeting</td>\n",
       "      <td>jorah mormonts slaver traitor</td>\n",
       "      <td>find bed ugly woman best close eyes get</td>\n",
       "      <td>grace went length took leave</td>\n",
       "      <td>return winterfell</td>\n",
       "      <td>youre still come nightfall ill take see last p...</td>\n",
       "      <td>wont take hour</td>\n",
       "      <td>brothels make much better investment ship ive ...</td>\n",
       "      <td>well start</td>\n",
       "      <td>matter</td>\n",
       "      <td>kings hand</td>\n",
       "      <td>whats meaning lannister</td>\n",
       "      <td>lords</td>\n",
       "      <td>None</td>\n",
       "      <td>None</td>\n",
       "      <td>None</td>\n",
       "      <td>None</td>\n",
       "      <td>None</td>\n",
       "      <td>None</td>\n",
       "      <td>None</td>\n",
       "      <td>None</td>\n",
       "      <td>None</td>\n",
       "      <td>None</td>\n",
       "      <td>None</td>\n",
       "      <td>None</td>\n",
       "      <td>None</td>\n",
       "      <td>None</td>\n",
       "      <td>None</td>\n",
       "      <td>None</td>\n",
       "      <td>None</td>\n",
       "      <td>None</td>\n",
       "      <td>None</td>\n",
       "      <td>None</td>\n",
       "      <td>None</td>\n",
       "      <td>None</td>\n",
       "      <td>None</td>\n",
       "      <td>None</td>\n",
       "      <td>None</td>\n",
       "      <td>None</td>\n",
       "      <td>None</td>\n",
       "      <td>None</td>\n",
       "      <td>None</td>\n",
       "      <td>None</td>\n",
       "    </tr>\n",
       "    <tr>\n",
       "      <th>Cersei Baratheon</th>\n",
       "      <td>without hand everything fall pieces</td>\n",
       "      <td></td>\n",
       "      <td>dothraki dont sail</td>\n",
       "      <td>father wrong</td>\n",
       "      <td>still outnumber</td>\n",
       "      <td>five</td>\n",
       "      <td>want</td>\n",
       "      <td>marriage</td>\n",
       "      <td>every day</td>\n",
       "      <td>well seventeen years quite long time</td>\n",
       "      <td>yes tis</td>\n",
       "      <td>first saying name even private felt like breat...</td>\n",
       "      <td>harm could lyanna starks ghost either us haven...</td>\n",
       "      <td>felt something know</td>\n",
       "      <td>even lost first boy quite actually</td>\n",
       "      <td>doesnt make feel anything</td>\n",
       "      <td>None</td>\n",
       "      <td>None</td>\n",
       "      <td>None</td>\n",
       "      <td>None</td>\n",
       "      <td>None</td>\n",
       "      <td>None</td>\n",
       "      <td>None</td>\n",
       "      <td>None</td>\n",
       "      <td>None</td>\n",
       "      <td>None</td>\n",
       "      <td>None</td>\n",
       "      <td>None</td>\n",
       "      <td>None</td>\n",
       "      <td>None</td>\n",
       "      <td>None</td>\n",
       "      <td>None</td>\n",
       "      <td>None</td>\n",
       "      <td>None</td>\n",
       "      <td>None</td>\n",
       "      <td>None</td>\n",
       "      <td>None</td>\n",
       "      <td>None</td>\n",
       "      <td>None</td>\n",
       "      <td>None</td>\n",
       "      <td>None</td>\n",
       "      <td>None</td>\n",
       "      <td>None</td>\n",
       "      <td>None</td>\n",
       "      <td>None</td>\n",
       "      <td>None</td>\n",
       "      <td>None</td>\n",
       "      <td>None</td>\n",
       "      <td>None</td>\n",
       "      <td>None</td>\n",
       "      <td>None</td>\n",
       "      <td>None</td>\n",
       "      <td>None</td>\n",
       "      <td>None</td>\n",
       "      <td>None</td>\n",
       "      <td>None</td>\n",
       "      <td>None</td>\n",
       "      <td>None</td>\n",
       "      <td>None</td>\n",
       "      <td>None</td>\n",
       "      <td>None</td>\n",
       "    </tr>\n",
       "    <tr>\n",
       "      <th>Robert Baratheon</th>\n",
       "      <td>fat</td>\n",
       "      <td>oh funny</td>\n",
       "      <td></td>\n",
       "      <td>heard hand</td>\n",
       "      <td>long figures</td>\n",
       "      <td>right right</td>\n",
       "      <td></td>\n",
       "      <td>anybody</td>\n",
       "      <td>telling cowards would let win</td>\n",
       "      <td>hmm bloody idiot</td>\n",
       "      <td></td>\n",
       "      <td>stop madness name king</td>\n",
       "      <td>whore pregnant</td>\n",
       "      <td>warned would happen</td>\n",
       "      <td>honor</td>\n",
       "      <td>careful ned</td>\n",
       "      <td>hes right</td>\n",
       "      <td>nothing</td>\n",
       "      <td>dies</td>\n",
       "      <td>youre kings hand lord stark</td>\n",
       "      <td></td>\n",
       "      <td>im glad could something make happy</td>\n",
       "      <td>suppose tell give job brother jaime</td>\n",
       "      <td>dont know</td>\n",
       "      <td>neat little trick move lips fathers voice comes</td>\n",
       "      <td>lets say viserys targaryen lands forty thousan...</td>\n",
       "      <td>bigger number five one</td>\n",
       "      <td>five one</td>\n",
       "      <td>havent real fight nine years</td>\n",
       "      <td>ah sit seventeen years later holding together</td>\n",
       "      <td>long hate hold thing together</td>\n",
       "      <td>yes</td>\n",
       "      <td>youve never asked</td>\n",
       "      <td></td>\n",
       "      <td>want know horrible truth</td>\n",
       "      <td>know</td>\n",
       "      <td></td>\n",
       "      <td>None</td>\n",
       "      <td>None</td>\n",
       "      <td>None</td>\n",
       "      <td>None</td>\n",
       "      <td>None</td>\n",
       "      <td>None</td>\n",
       "      <td>None</td>\n",
       "      <td>None</td>\n",
       "      <td>None</td>\n",
       "      <td>None</td>\n",
       "      <td>None</td>\n",
       "      <td>None</td>\n",
       "      <td>None</td>\n",
       "      <td>None</td>\n",
       "      <td>None</td>\n",
       "      <td>None</td>\n",
       "      <td>None</td>\n",
       "      <td>None</td>\n",
       "      <td>None</td>\n",
       "      <td>None</td>\n",
       "      <td>None</td>\n",
       "      <td>None</td>\n",
       "      <td>None</td>\n",
       "      <td>None</td>\n",
       "    </tr>\n",
       "    <tr>\n",
       "      <th>Illyrio Mopatis</th>\n",
       "      <td>knows truth</td>\n",
       "      <td>good war</td>\n",
       "      <td>need time</td>\n",
       "      <td>never</td>\n",
       "      <td>None</td>\n",
       "      <td>None</td>\n",
       "      <td>None</td>\n",
       "      <td>None</td>\n",
       "      <td>None</td>\n",
       "      <td>None</td>\n",
       "      <td>None</td>\n",
       "      <td>None</td>\n",
       "      <td>None</td>\n",
       "      <td>None</td>\n",
       "      <td>None</td>\n",
       "      <td>None</td>\n",
       "      <td>None</td>\n",
       "      <td>None</td>\n",
       "      <td>None</td>\n",
       "      <td>None</td>\n",
       "      <td>None</td>\n",
       "      <td>None</td>\n",
       "      <td>None</td>\n",
       "      <td>None</td>\n",
       "      <td>None</td>\n",
       "      <td>None</td>\n",
       "      <td>None</td>\n",
       "      <td>None</td>\n",
       "      <td>None</td>\n",
       "      <td>None</td>\n",
       "      <td>None</td>\n",
       "      <td>None</td>\n",
       "      <td>None</td>\n",
       "      <td>None</td>\n",
       "      <td>None</td>\n",
       "      <td>None</td>\n",
       "      <td>None</td>\n",
       "      <td>None</td>\n",
       "      <td>None</td>\n",
       "      <td>None</td>\n",
       "      <td>None</td>\n",
       "      <td>None</td>\n",
       "      <td>None</td>\n",
       "      <td>None</td>\n",
       "      <td>None</td>\n",
       "      <td>None</td>\n",
       "      <td>None</td>\n",
       "      <td>None</td>\n",
       "      <td>None</td>\n",
       "      <td>None</td>\n",
       "      <td>None</td>\n",
       "      <td>None</td>\n",
       "      <td>None</td>\n",
       "      <td>None</td>\n",
       "      <td>None</td>\n",
       "      <td>None</td>\n",
       "      <td>None</td>\n",
       "      <td>None</td>\n",
       "      <td>None</td>\n",
       "      <td>None</td>\n",
       "      <td>None</td>\n",
       "    </tr>\n",
       "    <tr>\n",
       "      <th>Robin Arryn</th>\n",
       "      <td>mommy</td>\n",
       "      <td>hes little</td>\n",
       "      <td>cant hurt us</td>\n",
       "      <td>None</td>\n",
       "      <td>None</td>\n",
       "      <td>None</td>\n",
       "      <td>None</td>\n",
       "      <td>None</td>\n",
       "      <td>None</td>\n",
       "      <td>None</td>\n",
       "      <td>None</td>\n",
       "      <td>None</td>\n",
       "      <td>None</td>\n",
       "      <td>None</td>\n",
       "      <td>None</td>\n",
       "      <td>None</td>\n",
       "      <td>None</td>\n",
       "      <td>None</td>\n",
       "      <td>None</td>\n",
       "      <td>None</td>\n",
       "      <td>None</td>\n",
       "      <td>None</td>\n",
       "      <td>None</td>\n",
       "      <td>None</td>\n",
       "      <td>None</td>\n",
       "      <td>None</td>\n",
       "      <td>None</td>\n",
       "      <td>None</td>\n",
       "      <td>None</td>\n",
       "      <td>None</td>\n",
       "      <td>None</td>\n",
       "      <td>None</td>\n",
       "      <td>None</td>\n",
       "      <td>None</td>\n",
       "      <td>None</td>\n",
       "      <td>None</td>\n",
       "      <td>None</td>\n",
       "      <td>None</td>\n",
       "      <td>None</td>\n",
       "      <td>None</td>\n",
       "      <td>None</td>\n",
       "      <td>None</td>\n",
       "      <td>None</td>\n",
       "      <td>None</td>\n",
       "      <td>None</td>\n",
       "      <td>None</td>\n",
       "      <td>None</td>\n",
       "      <td>None</td>\n",
       "      <td>None</td>\n",
       "      <td>None</td>\n",
       "      <td>None</td>\n",
       "      <td>None</td>\n",
       "      <td>None</td>\n",
       "      <td>None</td>\n",
       "      <td>None</td>\n",
       "      <td>None</td>\n",
       "      <td>None</td>\n",
       "      <td>None</td>\n",
       "      <td>None</td>\n",
       "      <td>None</td>\n",
       "      <td>None</td>\n",
       "    </tr>\n",
       "  </tbody>\n",
       "</table>\n",
       "</div>"
      ],
      "text/plain": [
       "                                                   0                 1   \\\n",
       "Petyr Baelish                   gold dragons mountain  buy gold dragons   \n",
       "Cersei Baratheon  without hand everything fall pieces                     \n",
       "Robert Baratheon                                  fat          oh funny   \n",
       "Illyrio Mopatis                           knows truth          good war   \n",
       "Robin Arryn                                     mommy        hes little   \n",
       "\n",
       "                                    2                     3                4   \\\n",
       "Petyr Baelish     loras knew mare heat  honor quite bit gold     move quietly   \n",
       "Cersei Baratheon    dothraki dont sail          father wrong  still outnumber   \n",
       "Robert Baratheon                                  heard hand     long figures   \n",
       "Illyrio Mopatis              need time                 never             None   \n",
       "Robin Arryn               cant hurt us                  None             None   \n",
       "\n",
       "                                     5     6   \\\n",
       "Petyr Baelish     look bit lonely today         \n",
       "Cersei Baratheon                   five  want   \n",
       "Robert Baratheon            right right         \n",
       "Illyrio Mopatis                    None  None   \n",
       "Robin Arryn                        None  None   \n",
       "\n",
       "                                                               7   \\\n",
       "Petyr Baelish     im purveyor beauty discretion equally important   \n",
       "Cersei Baratheon                                         marriage   \n",
       "Robert Baratheon                                          anybody   \n",
       "Illyrio Mopatis                                              None   \n",
       "Robin Arryn                                                  None   \n",
       "\n",
       "                                             8   \\\n",
       "Petyr Baelish      desires valid man full purse   \n",
       "Cersei Baratheon                      every day   \n",
       "Robert Baratheon  telling cowards would let win   \n",
       "Illyrio Mopatis                            None   \n",
       "Robin Arryn                                None   \n",
       "\n",
       "                                                                 9        10  \\\n",
       "Petyr Baelish     strictly speaking thing would accordance kings...     tell   \n",
       "Cersei Baratheon               well seventeen years quite long time  yes tis   \n",
       "Robert Baratheon                                   hmm bloody idiot            \n",
       "Illyrio Mopatis                                                None     None   \n",
       "Robin Arryn                                                    None     None   \n",
       "\n",
       "                                                                 11  \\\n",
       "Petyr Baelish                         since last saw since last saw   \n",
       "Cersei Baratheon  first saying name even private felt like breat...   \n",
       "Robert Baratheon                             stop madness name king   \n",
       "Illyrio Mopatis                                                None   \n",
       "Robin Arryn                                                    None   \n",
       "\n",
       "                                                                 12  \\\n",
       "Petyr Baelish                                              saw eyes   \n",
       "Cersei Baratheon  harm could lyanna starks ghost either us haven...   \n",
       "Robert Baratheon                                     whore pregnant   \n",
       "Illyrio Mopatis                                                None   \n",
       "Robin Arryn                                                    None   \n",
       "\n",
       "                                   13                                  14  \\\n",
       "Petyr Baelish        council business                      know something   \n",
       "Cersei Baratheon  felt something know  even lost first boy quite actually   \n",
       "Robert Baratheon  warned would happen                               honor   \n",
       "Illyrio Mopatis                  None                                None   \n",
       "Robin Arryn                      None                                None   \n",
       "\n",
       "                                         15  \\\n",
       "Petyr Baelish                           yes   \n",
       "Cersei Baratheon  doesnt make feel anything   \n",
       "Robert Baratheon                careful ned   \n",
       "Illyrio Mopatis                        None   \n",
       "Robin Arryn                            None   \n",
       "\n",
       "                                                                 16  \\\n",
       "Petyr Baelish     long saw escorting certain foreign dignitary c...   \n",
       "Cersei Baratheon                                               None   \n",
       "Robert Baratheon                                          hes right   \n",
       "Illyrio Mopatis                                                None   \n",
       "Robin Arryn                                                    None   \n",
       "\n",
       "                                                              17  \\\n",
       "Petyr Baelish     find position simple word king renly baratheon   \n",
       "Cersei Baratheon                                            None   \n",
       "Robert Baratheon                                         nothing   \n",
       "Illyrio Mopatis                                             None   \n",
       "Robin Arryn                                                 None   \n",
       "\n",
       "                                     18                             19  \\\n",
       "Petyr Baelish     small council meeting  jorah mormonts slaver traitor   \n",
       "Cersei Baratheon                   None                           None   \n",
       "Robert Baratheon                   dies    youre kings hand lord stark   \n",
       "Illyrio Mopatis                    None                           None   \n",
       "Robin Arryn                        None                           None   \n",
       "\n",
       "                                                       20  \\\n",
       "Petyr Baelish     find bed ugly woman best close eyes get   \n",
       "Cersei Baratheon                                     None   \n",
       "Robert Baratheon                                            \n",
       "Illyrio Mopatis                                      None   \n",
       "Robin Arryn                                          None   \n",
       "\n",
       "                                                  21  \\\n",
       "Petyr Baelish           grace went length took leave   \n",
       "Cersei Baratheon                                None   \n",
       "Robert Baratheon  im glad could something make happy   \n",
       "Illyrio Mopatis                                 None   \n",
       "Robin Arryn                                     None   \n",
       "\n",
       "                                                   22  \\\n",
       "Petyr Baelish                       return winterfell   \n",
       "Cersei Baratheon                                 None   \n",
       "Robert Baratheon  suppose tell give job brother jaime   \n",
       "Illyrio Mopatis                                  None   \n",
       "Robin Arryn                                      None   \n",
       "\n",
       "                                                                 23  \\\n",
       "Petyr Baelish     youre still come nightfall ill take see last p...   \n",
       "Cersei Baratheon                                               None   \n",
       "Robert Baratheon                                          dont know   \n",
       "Illyrio Mopatis                                                None   \n",
       "Robin Arryn                                                    None   \n",
       "\n",
       "                                                               24  \\\n",
       "Petyr Baelish                                      wont take hour   \n",
       "Cersei Baratheon                                             None   \n",
       "Robert Baratheon  neat little trick move lips fathers voice comes   \n",
       "Illyrio Mopatis                                              None   \n",
       "Robin Arryn                                                  None   \n",
       "\n",
       "                                                                 25  \\\n",
       "Petyr Baelish     brothels make much better investment ship ive ...   \n",
       "Cersei Baratheon                                               None   \n",
       "Robert Baratheon  lets say viserys targaryen lands forty thousan...   \n",
       "Illyrio Mopatis                                                None   \n",
       "Robin Arryn                                                    None   \n",
       "\n",
       "                                      26        27  \\\n",
       "Petyr Baelish                 well start    matter   \n",
       "Cersei Baratheon                    None      None   \n",
       "Robert Baratheon  bigger number five one  five one   \n",
       "Illyrio Mopatis                     None      None   \n",
       "Robin Arryn                         None      None   \n",
       "\n",
       "                                            28  \\\n",
       "Petyr Baelish                       kings hand   \n",
       "Cersei Baratheon                          None   \n",
       "Robert Baratheon  havent real fight nine years   \n",
       "Illyrio Mopatis                           None   \n",
       "Robin Arryn                               None   \n",
       "\n",
       "                                                             29  \\\n",
       "Petyr Baelish                           whats meaning lannister   \n",
       "Cersei Baratheon                                           None   \n",
       "Robert Baratheon  ah sit seventeen years later holding together   \n",
       "Illyrio Mopatis                                            None   \n",
       "Robin Arryn                                                None   \n",
       "\n",
       "                                             30    31                 32  \\\n",
       "Petyr Baelish                             lords  None               None   \n",
       "Cersei Baratheon                           None  None               None   \n",
       "Robert Baratheon  long hate hold thing together   yes  youve never asked   \n",
       "Illyrio Mopatis                            None  None               None   \n",
       "Robin Arryn                                None  None               None   \n",
       "\n",
       "                    33                        34    35    36    37    38  \\\n",
       "Petyr Baelish     None                      None  None  None  None  None   \n",
       "Cersei Baratheon  None                      None  None  None  None  None   \n",
       "Robert Baratheon        want know horrible truth  know        None  None   \n",
       "Illyrio Mopatis   None                      None  None  None  None  None   \n",
       "Robin Arryn       None                      None  None  None  None  None   \n",
       "\n",
       "                    39    40    41    42    43    44    45    46    47    48  \\\n",
       "Petyr Baelish     None  None  None  None  None  None  None  None  None  None   \n",
       "Cersei Baratheon  None  None  None  None  None  None  None  None  None  None   \n",
       "Robert Baratheon  None  None  None  None  None  None  None  None  None  None   \n",
       "Illyrio Mopatis   None  None  None  None  None  None  None  None  None  None   \n",
       "Robin Arryn       None  None  None  None  None  None  None  None  None  None   \n",
       "\n",
       "                    49    50    51    52    53    54    55    56    57    58  \\\n",
       "Petyr Baelish     None  None  None  None  None  None  None  None  None  None   \n",
       "Cersei Baratheon  None  None  None  None  None  None  None  None  None  None   \n",
       "Robert Baratheon  None  None  None  None  None  None  None  None  None  None   \n",
       "Illyrio Mopatis   None  None  None  None  None  None  None  None  None  None   \n",
       "Robin Arryn       None  None  None  None  None  None  None  None  None  None   \n",
       "\n",
       "                    59    60  \n",
       "Petyr Baelish     None  None  \n",
       "Cersei Baratheon  None  None  \n",
       "Robert Baratheon  None  None  \n",
       "Illyrio Mopatis   None  None  \n",
       "Robin Arryn       None  None  "
      ]
     },
     "execution_count": 112,
     "metadata": {},
     "output_type": "execute_result"
    }
   ],
   "source": [
    "episode_five.head()"
   ]
  },
  {
   "cell_type": "markdown",
   "metadata": {},
   "source": [
    "### Episode Six"
   ]
  },
  {
   "cell_type": "code",
   "execution_count": 113,
   "metadata": {
    "scrolled": true
   },
   "outputs": [],
   "source": [
    "#df_s1.script_text[5]"
   ]
  },
  {
   "cell_type": "code",
   "execution_count": 114,
   "metadata": {},
   "outputs": [
    {
     "name": "stdout",
     "output_type": "stream",
     "text": [
      "<type 'list'>\n"
     ]
    }
   ],
   "source": [
    "script_text1_06 = df_s1.script_text[5]\n",
    "print type(script_text1_06)\n",
    "\n",
    "#script_text1_06"
   ]
  },
  {
   "cell_type": "code",
   "execution_count": 115,
   "metadata": {
    "scrolled": true
   },
   "outputs": [],
   "source": [
    "script_split6 = [i.split('\\n') for i in script_text1_06]\n",
    "#script_split6"
   ]
  },
  {
   "cell_type": "code",
   "execution_count": 116,
   "metadata": {
    "collapsed": true
   },
   "outputs": [],
   "source": [
    "string_script_text6 = ' '\n",
    "\n",
    "for i in script_split6:\n",
    "    for e in i:\n",
    "        string_script_text6 = string_script_text6 + ' ' + e"
   ]
  },
  {
   "cell_type": "code",
   "execution_count": 117,
   "metadata": {},
   "outputs": [],
   "source": [
    "#string_script_text6"
   ]
  },
  {
   "cell_type": "code",
   "execution_count": 118,
   "metadata": {},
   "outputs": [],
   "source": [
    "words6 = word_tokenize(string_script_text6)\n",
    "#words6"
   ]
  },
  {
   "cell_type": "code",
   "execution_count": 119,
   "metadata": {
    "scrolled": true
   },
   "outputs": [],
   "source": [
    "sentences6 = sent_tokenize(string_script_text6)\n",
    "#sentences6"
   ]
  },
  {
   "cell_type": "code",
   "execution_count": 120,
   "metadata": {
    "collapsed": true,
    "scrolled": false
   },
   "outputs": [],
   "source": [
    "dialogue6 = []\n",
    "\n",
    "for sentence in sentences6:\n",
    "    words=sentence.split(':')[0]\n",
    "    if len(words.split())<=2:\n",
    "        if words in (names1_06):\n",
    "            dialogue6.append(sentence)"
   ]
  },
  {
   "cell_type": "code",
   "execution_count": 121,
   "metadata": {
    "scrolled": true
   },
   "outputs": [],
   "source": [
    "#dialogue6"
   ]
  },
  {
   "cell_type": "code",
   "execution_count": 122,
   "metadata": {
    "collapsed": true
   },
   "outputs": [],
   "source": [
    "import pickle\n",
    "with open('/Users/zoemarkovits/Metis/project_five_got/Dialogue_PKLs/s106.pkl', 'wb') as f:\n",
    "    pickle.dump(dialogue6, f)"
   ]
  },
  {
   "cell_type": "code",
   "execution_count": 123,
   "metadata": {
    "scrolled": true
   },
   "outputs": [],
   "source": [
    "from collections import defaultdict\n",
    "\n",
    "speakers6 = defaultdict(list)\n",
    "for sentence in dialogue6:\n",
    "    speakers6[sentence.split(':')[0]].append(sentence.split(':')[1])\n",
    "\n",
    "#speakers6"
   ]
  },
  {
   "cell_type": "code",
   "execution_count": 124,
   "metadata": {
    "scrolled": false
   },
   "outputs": [
    {
     "data": {
      "text/plain": [
       "[u'  They killed Jory.',\n",
       " u'   Yes -   Syrio Forel',\n",
       " u'  I don\\u2019t like dolls and k -   Syrio Forel',\n",
       " u'   Are you dying because of your leg?',\n",
       " u'   You can\\u2019t.',\n",
       " u'   Can\\u2019t we take Syrio back with us?',\n",
       " u'  Seven hells.',\n",
       " u'  The lion\\u2019s not his sigil, idiot.',\n",
       " u'   Come on!']"
      ]
     },
     "execution_count": 124,
     "metadata": {},
     "output_type": "execute_result"
    }
   ],
   "source": [
    "speakers6['Arya Stark']"
   ]
  },
  {
   "cell_type": "code",
   "execution_count": 125,
   "metadata": {
    "scrolled": true
   },
   "outputs": [
    {
     "name": "stdout",
     "output_type": "stream",
     "text": [
      "(36, 22)\n"
     ]
    }
   ],
   "source": [
    "episode_six = pd.DataFrame.from_dict(speakers6, orient=\"index\")\n",
    "print episode_six.shape"
   ]
  },
  {
   "cell_type": "code",
   "execution_count": 126,
   "metadata": {
    "collapsed": true
   },
   "outputs": [],
   "source": [
    "#from numpy import nan\n",
    "#episode_six.fillna(value=str(0), inplace=True)"
   ]
  },
  {
   "cell_type": "code",
   "execution_count": 127,
   "metadata": {
    "scrolled": true
   },
   "outputs": [],
   "source": [
    "#episode_six.info()"
   ]
  },
  {
   "cell_type": "code",
   "execution_count": 128,
   "metadata": {},
   "outputs": [],
   "source": [
    "#episode_six.head()"
   ]
  },
  {
   "cell_type": "code",
   "execution_count": 129,
   "metadata": {
    "scrolled": true
   },
   "outputs": [],
   "source": [
    "test6 = episode_six[0].apply(remove_stops)\n",
    "#test6"
   ]
  },
  {
   "cell_type": "code",
   "execution_count": 130,
   "metadata": {
    "collapsed": true,
    "scrolled": false
   },
   "outputs": [],
   "source": [
    "for column in episode_six.columns:\n",
    "    for x in range(len(episode_six[column])):\n",
    "        episode_six[column][x] = remove_stops(episode_six[column][x])"
   ]
  },
  {
   "cell_type": "code",
   "execution_count": 131,
   "metadata": {
    "scrolled": true
   },
   "outputs": [
    {
     "data": {
      "text/html": [
       "<div>\n",
       "<table border=\"1\" class=\"dataframe\">\n",
       "  <thead>\n",
       "    <tr style=\"text-align: right;\">\n",
       "      <th></th>\n",
       "      <th>0</th>\n",
       "      <th>1</th>\n",
       "      <th>2</th>\n",
       "      <th>3</th>\n",
       "      <th>4</th>\n",
       "      <th>5</th>\n",
       "      <th>6</th>\n",
       "      <th>7</th>\n",
       "      <th>8</th>\n",
       "      <th>9</th>\n",
       "      <th>10</th>\n",
       "      <th>11</th>\n",
       "      <th>12</th>\n",
       "      <th>13</th>\n",
       "      <th>14</th>\n",
       "      <th>15</th>\n",
       "      <th>16</th>\n",
       "      <th>17</th>\n",
       "      <th>18</th>\n",
       "      <th>19</th>\n",
       "      <th>20</th>\n",
       "      <th>21</th>\n",
       "    </tr>\n",
       "  </thead>\n",
       "  <tbody>\n",
       "    <tr>\n",
       "      <th>Joffrey Baratheon</th>\n",
       "      <td>lady</td>\n",
       "      <td>youll queen one day fitting look part</td>\n",
       "      <td>youre lady</td>\n",
       "      <td>None</td>\n",
       "      <td>None</td>\n",
       "      <td>None</td>\n",
       "      <td>None</td>\n",
       "      <td>None</td>\n",
       "      <td>None</td>\n",
       "      <td>None</td>\n",
       "      <td>None</td>\n",
       "      <td>None</td>\n",
       "      <td>None</td>\n",
       "      <td>None</td>\n",
       "      <td>None</td>\n",
       "      <td>None</td>\n",
       "      <td>None</td>\n",
       "      <td>None</td>\n",
       "      <td>None</td>\n",
       "      <td>None</td>\n",
       "      <td>None</td>\n",
       "      <td>None</td>\n",
       "    </tr>\n",
       "    <tr>\n",
       "      <th>Petyr Baelish</th>\n",
       "      <td>fish</td>\n",
       "      <td>whisper sounds like someone know</td>\n",
       "      <td>ive heard called tywin lannisters mad dog im s...</td>\n",
       "      <td>bold move lord admirable</td>\n",
       "      <td>None</td>\n",
       "      <td>None</td>\n",
       "      <td>None</td>\n",
       "      <td>None</td>\n",
       "      <td>None</td>\n",
       "      <td>None</td>\n",
       "      <td>None</td>\n",
       "      <td>None</td>\n",
       "      <td>None</td>\n",
       "      <td>None</td>\n",
       "      <td>None</td>\n",
       "      <td>None</td>\n",
       "      <td>None</td>\n",
       "      <td>None</td>\n",
       "      <td>None</td>\n",
       "      <td>None</td>\n",
       "      <td>None</td>\n",
       "      <td>None</td>\n",
       "    </tr>\n",
       "    <tr>\n",
       "      <th>Cersei Baratheon</th>\n",
       "      <td>know wife done</td>\n",
       "      <td>right dare lay hands blood</td>\n",
       "      <td>lord stark returning drunk brothel men attacke...</td>\n",
       "      <td>took king</td>\n",
       "      <td>hes attacked brother abducted</td>\n",
       "      <td>shall wear like badge honor</td>\n",
       "      <td>None</td>\n",
       "      <td>None</td>\n",
       "      <td>None</td>\n",
       "      <td>None</td>\n",
       "      <td>None</td>\n",
       "      <td>None</td>\n",
       "      <td>None</td>\n",
       "      <td>None</td>\n",
       "      <td>None</td>\n",
       "      <td>None</td>\n",
       "      <td>None</td>\n",
       "      <td>None</td>\n",
       "      <td>None</td>\n",
       "      <td>None</td>\n",
       "      <td>None</td>\n",
       "      <td>None</td>\n",
       "    </tr>\n",
       "    <tr>\n",
       "      <th>Robert Baratheon</th>\n",
       "      <td>whod thought</td>\n",
       "      <td>oh shut mouths</td>\n",
       "      <td>quiet woman</td>\n",
       "      <td>hold tongue</td>\n",
       "      <td>wear silence ill honor</td>\n",
       "      <td>see</td>\n",
       "      <td>tell wife return little shit imp kings landing</td>\n",
       "      <td>im half kingdom debt bloody father</td>\n",
       "      <td>piss</td>\n",
       "      <td>killing things clears head</td>\n",
       "      <td>oh saying</td>\n",
       "      <td></td>\n",
       "      <td>enemy right open vicious like sending bloody i...</td>\n",
       "      <td>exhilarating yes</td>\n",
       "      <td>think</td>\n",
       "      <td>ever make eight barristan</td>\n",
       "      <td>laughs days</td>\n",
       "      <td>None</td>\n",
       "      <td>None</td>\n",
       "      <td>None</td>\n",
       "      <td>None</td>\n",
       "      <td>None</td>\n",
       "    </tr>\n",
       "    <tr>\n",
       "      <th>Khal Drogo</th>\n",
       "      <td>speaks dothraki motions side hut jorah mormont</td>\n",
       "      <td>king</td>\n",
       "      <td>speaks dothraki viserys targaryen</td>\n",
       "      <td>crown king</td>\n",
       "      <td>None</td>\n",
       "      <td>None</td>\n",
       "      <td>None</td>\n",
       "      <td>None</td>\n",
       "      <td>None</td>\n",
       "      <td>None</td>\n",
       "      <td>None</td>\n",
       "      <td>None</td>\n",
       "      <td>None</td>\n",
       "      <td>None</td>\n",
       "      <td>None</td>\n",
       "      <td>None</td>\n",
       "      <td>None</td>\n",
       "      <td>None</td>\n",
       "      <td>None</td>\n",
       "      <td>None</td>\n",
       "      <td>None</td>\n",
       "      <td>None</td>\n",
       "    </tr>\n",
       "  </tbody>\n",
       "</table>\n",
       "</div>"
      ],
      "text/plain": [
       "                                                               0   \\\n",
       "Joffrey Baratheon                                            lady   \n",
       "Petyr Baelish                                                fish   \n",
       "Cersei Baratheon                                   know wife done   \n",
       "Robert Baratheon                                     whod thought   \n",
       "Khal Drogo         speaks dothraki motions side hut jorah mormont   \n",
       "\n",
       "                                                      1   \\\n",
       "Joffrey Baratheon  youll queen one day fitting look part   \n",
       "Petyr Baelish           whisper sounds like someone know   \n",
       "Cersei Baratheon              right dare lay hands blood   \n",
       "Robert Baratheon                          oh shut mouths   \n",
       "Khal Drogo                                          king   \n",
       "\n",
       "                                                                  2   \\\n",
       "Joffrey Baratheon                                         youre lady   \n",
       "Petyr Baelish      ive heard called tywin lannisters mad dog im s...   \n",
       "Cersei Baratheon   lord stark returning drunk brothel men attacke...   \n",
       "Robert Baratheon                                         quiet woman   \n",
       "Khal Drogo                         speaks dothraki viserys targaryen   \n",
       "\n",
       "                                         3                              4   \\\n",
       "Joffrey Baratheon                      None                           None   \n",
       "Petyr Baelish      bold move lord admirable                           None   \n",
       "Cersei Baratheon                  took king  hes attacked brother abducted   \n",
       "Robert Baratheon                hold tongue         wear silence ill honor   \n",
       "Khal Drogo                       crown king                           None   \n",
       "\n",
       "                                            5   \\\n",
       "Joffrey Baratheon                         None   \n",
       "Petyr Baelish                             None   \n",
       "Cersei Baratheon   shall wear like badge honor   \n",
       "Robert Baratheon                           see   \n",
       "Khal Drogo                                None   \n",
       "\n",
       "                                                               6   \\\n",
       "Joffrey Baratheon                                            None   \n",
       "Petyr Baelish                                                None   \n",
       "Cersei Baratheon                                             None   \n",
       "Robert Baratheon   tell wife return little shit imp kings landing   \n",
       "Khal Drogo                                                   None   \n",
       "\n",
       "                                                   7     8   \\\n",
       "Joffrey Baratheon                                None  None   \n",
       "Petyr Baelish                                    None  None   \n",
       "Cersei Baratheon                                 None  None   \n",
       "Robert Baratheon   im half kingdom debt bloody father  piss   \n",
       "Khal Drogo                                       None  None   \n",
       "\n",
       "                                           9          10    11  \\\n",
       "Joffrey Baratheon                        None       None  None   \n",
       "Petyr Baelish                            None       None  None   \n",
       "Cersei Baratheon                         None       None  None   \n",
       "Robert Baratheon   killing things clears head  oh saying         \n",
       "Khal Drogo                               None       None  None   \n",
       "\n",
       "                                                                  12  \\\n",
       "Joffrey Baratheon                                               None   \n",
       "Petyr Baelish                                                   None   \n",
       "Cersei Baratheon                                                None   \n",
       "Robert Baratheon   enemy right open vicious like sending bloody i...   \n",
       "Khal Drogo                                                      None   \n",
       "\n",
       "                                 13     14                         15  \\\n",
       "Joffrey Baratheon              None   None                       None   \n",
       "Petyr Baelish                  None   None                       None   \n",
       "Cersei Baratheon               None   None                       None   \n",
       "Robert Baratheon   exhilarating yes  think  ever make eight barristan   \n",
       "Khal Drogo                     None   None                       None   \n",
       "\n",
       "                            16    17    18    19    20    21  \n",
       "Joffrey Baratheon         None  None  None  None  None  None  \n",
       "Petyr Baelish             None  None  None  None  None  None  \n",
       "Cersei Baratheon          None  None  None  None  None  None  \n",
       "Robert Baratheon   laughs days  None  None  None  None  None  \n",
       "Khal Drogo                None  None  None  None  None  None  "
      ]
     },
     "execution_count": 131,
     "metadata": {},
     "output_type": "execute_result"
    }
   ],
   "source": [
    "episode_six.head()"
   ]
  },
  {
   "cell_type": "markdown",
   "metadata": {},
   "source": [
    "### Episode Seven"
   ]
  },
  {
   "cell_type": "code",
   "execution_count": 132,
   "metadata": {
    "scrolled": true
   },
   "outputs": [],
   "source": [
    "#df_s1.script_text[6]"
   ]
  },
  {
   "cell_type": "code",
   "execution_count": 133,
   "metadata": {},
   "outputs": [
    {
     "name": "stdout",
     "output_type": "stream",
     "text": [
      "<type 'list'>\n"
     ]
    }
   ],
   "source": [
    "script_text1_07 = df_s1.script_text[6]\n",
    "print type(script_text1_07)\n",
    "\n",
    "#script_text1_07"
   ]
  },
  {
   "cell_type": "code",
   "execution_count": 134,
   "metadata": {
    "scrolled": true
   },
   "outputs": [],
   "source": [
    "script_split7 = [i.split('\\n') for i in script_text1_07]\n",
    "#script_split7"
   ]
  },
  {
   "cell_type": "code",
   "execution_count": 135,
   "metadata": {
    "collapsed": true
   },
   "outputs": [],
   "source": [
    "string_script_text7 = ' '\n",
    "\n",
    "for i in script_split7:\n",
    "    for e in i:\n",
    "        string_script_text7 = string_script_text7 + ' ' + e"
   ]
  },
  {
   "cell_type": "code",
   "execution_count": 136,
   "metadata": {},
   "outputs": [],
   "source": [
    "#string_script_text7"
   ]
  },
  {
   "cell_type": "code",
   "execution_count": 137,
   "metadata": {},
   "outputs": [],
   "source": [
    "words7 = word_tokenize(string_script_text7)\n",
    "#words7"
   ]
  },
  {
   "cell_type": "code",
   "execution_count": 138,
   "metadata": {
    "scrolled": true
   },
   "outputs": [],
   "source": [
    "sentences7 = sent_tokenize(string_script_text7)\n",
    "#sentences7"
   ]
  },
  {
   "cell_type": "code",
   "execution_count": 139,
   "metadata": {
    "collapsed": true,
    "scrolled": false
   },
   "outputs": [],
   "source": [
    "dialogue7 = []\n",
    "\n",
    "for sentence in sentences7:\n",
    "    words=sentence.split(':')[0]\n",
    "    if len(words.split())<=2:\n",
    "        if words in (names1_07):\n",
    "            dialogue7.append(sentence)"
   ]
  },
  {
   "cell_type": "code",
   "execution_count": 140,
   "metadata": {
    "scrolled": true
   },
   "outputs": [],
   "source": [
    "#dialogue7"
   ]
  },
  {
   "cell_type": "code",
   "execution_count": 141,
   "metadata": {
    "collapsed": true
   },
   "outputs": [],
   "source": [
    "import pickle\n",
    "with open('/Users/zoemarkovits/Metis/project_five_got/Dialogue_PKLs/s107.pkl', 'wb') as f:\n",
    "    pickle.dump(dialogue7, f)"
   ]
  },
  {
   "cell_type": "code",
   "execution_count": 142,
   "metadata": {
    "scrolled": true
   },
   "outputs": [],
   "source": [
    "from collections import defaultdict\n",
    "\n",
    "speakers7 = defaultdict(list)\n",
    "for sentence in dialogue7:\n",
    "    speakers7[sentence.split(':')[0]].append(sentence.split(':')[1])\n",
    "\n",
    "#speakers7"
   ]
  },
  {
   "cell_type": "code",
   "execution_count": 143,
   "metadata": {
    "scrolled": false
   },
   "outputs": [
    {
     "data": {
      "text/plain": [
       "[u\"   I've had worse, my lady.\",\n",
       " u'   I know the truth Jon Arryn died for.',\n",
       " u'   Has he done this before?',\n",
       " u'   Your brother Or your lover?',\n",
       " u'   My son saw you with him.',\n",
       " u'   With all my heart.',\n",
       " u\"   And they are all Jaime's.\",\n",
       " u\"   You've always hated him.\",\n",
       " u\"   When the King returns from his hunt, I'll tell him the truth.\",\n",
       " u\"   I've made many mistakes in my life, but that wasn't one of them.\",\n",
       " u'   You damned fool.',\n",
       " u'   I will.',\n",
       " u\"   I'll, I'll do everything I can to honor your memory.\",\n",
       " u'   Give him milk of the poppy.',\n",
       " u'   No man could have protected him from himself.',\n",
       " u'   His squire?',\n",
       " u'   His Grace has had a change of heart concerning Daenerys Targaryen.',\n",
       " u'   No.',\n",
       " u'   There is no other choice.',\n",
       " u'   You promised Catelyn you would help me.']"
      ]
     },
     "execution_count": 143,
     "metadata": {},
     "output_type": "execute_result"
    }
   ],
   "source": [
    "speakers7['Ned Stark']"
   ]
  },
  {
   "cell_type": "code",
   "execution_count": 144,
   "metadata": {
    "scrolled": true
   },
   "outputs": [
    {
     "name": "stdout",
     "output_type": "stream",
     "text": [
      "(21, 20)\n"
     ]
    }
   ],
   "source": [
    "episode_seven = pd.DataFrame.from_dict(speakers7, orient=\"index\")\n",
    "print episode_seven.shape"
   ]
  },
  {
   "cell_type": "code",
   "execution_count": 145,
   "metadata": {
    "collapsed": true
   },
   "outputs": [],
   "source": [
    "#from numpy import nan\n",
    "#episode_seven.fillna(value=str(0), inplace=True)"
   ]
  },
  {
   "cell_type": "code",
   "execution_count": 146,
   "metadata": {
    "scrolled": true
   },
   "outputs": [],
   "source": [
    "#episode_seven.info()"
   ]
  },
  {
   "cell_type": "code",
   "execution_count": 147,
   "metadata": {
    "scrolled": true
   },
   "outputs": [],
   "source": [
    "#episode_seven.head()"
   ]
  },
  {
   "cell_type": "code",
   "execution_count": 148,
   "metadata": {
    "scrolled": true
   },
   "outputs": [],
   "source": [
    "test7 = episode_seven[0].apply(remove_stops)\n",
    "#test7"
   ]
  },
  {
   "cell_type": "code",
   "execution_count": 149,
   "metadata": {
    "collapsed": true,
    "scrolled": false
   },
   "outputs": [],
   "source": [
    "for column in episode_seven.columns:\n",
    "    for x in range(len(episode_seven[column])):\n",
    "        episode_seven[column][x] = remove_stops(episode_seven[column][x])"
   ]
  },
  {
   "cell_type": "code",
   "execution_count": 150,
   "metadata": {
    "scrolled": false
   },
   "outputs": [
    {
     "data": {
      "text/html": [
       "<div>\n",
       "<table border=\"1\" class=\"dataframe\">\n",
       "  <thead>\n",
       "    <tr style=\"text-align: right;\">\n",
       "      <th></th>\n",
       "      <th>0</th>\n",
       "      <th>1</th>\n",
       "      <th>2</th>\n",
       "      <th>3</th>\n",
       "      <th>4</th>\n",
       "      <th>5</th>\n",
       "      <th>6</th>\n",
       "      <th>7</th>\n",
       "      <th>8</th>\n",
       "      <th>9</th>\n",
       "      <th>10</th>\n",
       "      <th>11</th>\n",
       "      <th>12</th>\n",
       "      <th>13</th>\n",
       "      <th>14</th>\n",
       "      <th>15</th>\n",
       "      <th>16</th>\n",
       "      <th>17</th>\n",
       "      <th>18</th>\n",
       "      <th>19</th>\n",
       "    </tr>\n",
       "  </thead>\n",
       "  <tbody>\n",
       "    <tr>\n",
       "      <th>Barristan Selmy</th>\n",
       "      <td>reeling wine</td>\n",
       "      <td>squire kings skin</td>\n",
       "      <td>None</td>\n",
       "      <td>None</td>\n",
       "      <td>None</td>\n",
       "      <td>None</td>\n",
       "      <td>None</td>\n",
       "      <td>None</td>\n",
       "      <td>None</td>\n",
       "      <td>None</td>\n",
       "      <td>None</td>\n",
       "      <td>None</td>\n",
       "      <td>None</td>\n",
       "      <td>None</td>\n",
       "      <td>None</td>\n",
       "      <td>None</td>\n",
       "      <td>None</td>\n",
       "      <td>None</td>\n",
       "      <td>None</td>\n",
       "      <td>None</td>\n",
       "    </tr>\n",
       "    <tr>\n",
       "      <th>Petyr Baelish</th>\n",
       "      <td></td>\n",
       "      <td>lets start shall</td>\n",
       "      <td>im saving another</td>\n",
       "      <td>stupid saying</td>\n",
       "      <td>really</td>\n",
       "      <td>many years</td>\n",
       "      <td>oh</td>\n",
       "      <td>oh everything dear</td>\n",
       "      <td>stannis war</td>\n",
       "      <td>call</td>\n",
       "      <td>look</td>\n",
       "      <td>None</td>\n",
       "      <td>None</td>\n",
       "      <td>None</td>\n",
       "      <td>None</td>\n",
       "      <td>None</td>\n",
       "      <td>None</td>\n",
       "      <td>None</td>\n",
       "      <td>None</td>\n",
       "      <td>None</td>\n",
       "    </tr>\n",
       "    <tr>\n",
       "      <th>Samwell Tarly</th>\n",
       "      <td>miss girls</td>\n",
       "      <td>one blast ranger returning two wildlings three...</td>\n",
       "      <td>None</td>\n",
       "      <td>None</td>\n",
       "      <td>None</td>\n",
       "      <td>None</td>\n",
       "      <td>None</td>\n",
       "      <td>None</td>\n",
       "      <td>None</td>\n",
       "      <td>None</td>\n",
       "      <td>None</td>\n",
       "      <td>None</td>\n",
       "      <td>None</td>\n",
       "      <td>None</td>\n",
       "      <td>None</td>\n",
       "      <td>None</td>\n",
       "      <td>None</td>\n",
       "      <td>None</td>\n",
       "      <td>None</td>\n",
       "      <td>None</td>\n",
       "    </tr>\n",
       "    <tr>\n",
       "      <th>Ned Stark</th>\n",
       "      <td>ive worse lady</td>\n",
       "      <td>know truth jon arryn died</td>\n",
       "      <td>done</td>\n",
       "      <td>brother lover</td>\n",
       "      <td>son saw</td>\n",
       "      <td>heart</td>\n",
       "      <td>jaimes</td>\n",
       "      <td>youve always hated</td>\n",
       "      <td>king returns hunt ill tell truth</td>\n",
       "      <td>ive made many mistakes life wasnt one</td>\n",
       "      <td>damned fool</td>\n",
       "      <td></td>\n",
       "      <td>ill ill everything honor memory</td>\n",
       "      <td>give milk poppy</td>\n",
       "      <td>man could protected</td>\n",
       "      <td>squire</td>\n",
       "      <td>grace change heart concerning daenerys targaryen</td>\n",
       "      <td></td>\n",
       "      <td>choice</td>\n",
       "      <td>promised catelyn would help</td>\n",
       "    </tr>\n",
       "    <tr>\n",
       "      <th>Wine Merchant</th>\n",
       "      <td>virzetha gizikhven</td>\n",
       "      <td>daenerys stormborn</td>\n",
       "      <td>lady westeros</td>\n",
       "      <td>princess</td>\n",
       "      <td></td>\n",
       "      <td>honorthe honor mine</td>\n",
       "      <td>know many homeland pray return princess</td>\n",
       "      <td>wine khaleesi</td>\n",
       "      <td>would crime drink wine rich without least givi...</td>\n",
       "      <td>princess commands</td>\n",
       "      <td>sweet isnt</td>\n",
       "      <td></td>\n",
       "      <td>None</td>\n",
       "      <td>None</td>\n",
       "      <td>None</td>\n",
       "      <td>None</td>\n",
       "      <td>None</td>\n",
       "      <td>None</td>\n",
       "      <td>None</td>\n",
       "      <td>None</td>\n",
       "    </tr>\n",
       "  </tbody>\n",
       "</table>\n",
       "</div>"
      ],
      "text/plain": [
       "                                 0   \\\n",
       "Barristan Selmy        reeling wine   \n",
       "Petyr Baelish                         \n",
       "Samwell Tarly            miss girls   \n",
       "Ned Stark            ive worse lady   \n",
       "Wine Merchant    virzetha gizikhven   \n",
       "\n",
       "                                                                1   \\\n",
       "Barristan Selmy                                  squire kings skin   \n",
       "Petyr Baelish                                     lets start shall   \n",
       "Samwell Tarly    one blast ranger returning two wildlings three...   \n",
       "Ned Stark                                know truth jon arryn died   \n",
       "Wine Merchant                                   daenerys stormborn   \n",
       "\n",
       "                                2              3        4   \\\n",
       "Barristan Selmy               None           None     None   \n",
       "Petyr Baelish    im saving another  stupid saying   really   \n",
       "Samwell Tarly                 None           None     None   \n",
       "Ned Stark                     done  brother lover  son saw   \n",
       "Wine Merchant        lady westeros       princess            \n",
       "\n",
       "                                  5                                        6   \\\n",
       "Barristan Selmy                 None                                     None   \n",
       "Petyr Baelish             many years                                       oh   \n",
       "Samwell Tarly                   None                                     None   \n",
       "Ned Stark                      heart                                   jaimes   \n",
       "Wine Merchant    honorthe honor mine  know many homeland pray return princess   \n",
       "\n",
       "                                 7   \\\n",
       "Barristan Selmy                None   \n",
       "Petyr Baelish    oh everything dear   \n",
       "Samwell Tarly                  None   \n",
       "Ned Stark        youve always hated   \n",
       "Wine Merchant         wine khaleesi   \n",
       "\n",
       "                                                                8   \\\n",
       "Barristan Selmy                                               None   \n",
       "Petyr Baelish                                          stannis war   \n",
       "Samwell Tarly                                                 None   \n",
       "Ned Stark                         king returns hunt ill tell truth   \n",
       "Wine Merchant    would crime drink wine rich without least givi...   \n",
       "\n",
       "                                                    9            10    11  \\\n",
       "Barristan Selmy                                   None         None  None   \n",
       "Petyr Baelish                                     call         look  None   \n",
       "Samwell Tarly                                     None         None  None   \n",
       "Ned Stark        ive made many mistakes life wasnt one  damned fool         \n",
       "Wine Merchant                        princess commands   sweet isnt         \n",
       "\n",
       "                                              12               13  \\\n",
       "Barristan Selmy                             None             None   \n",
       "Petyr Baelish                               None             None   \n",
       "Samwell Tarly                               None             None   \n",
       "Ned Stark        ill ill everything honor memory  give milk poppy   \n",
       "Wine Merchant                               None             None   \n",
       "\n",
       "                                  14      15  \\\n",
       "Barristan Selmy                 None    None   \n",
       "Petyr Baelish                   None    None   \n",
       "Samwell Tarly                   None    None   \n",
       "Ned Stark        man could protected  squire   \n",
       "Wine Merchant                   None    None   \n",
       "\n",
       "                                                               16    17  \\\n",
       "Barristan Selmy                                              None  None   \n",
       "Petyr Baelish                                                None  None   \n",
       "Samwell Tarly                                                None  None   \n",
       "Ned Stark        grace change heart concerning daenerys targaryen         \n",
       "Wine Merchant                                                None  None   \n",
       "\n",
       "                     18                           19  \n",
       "Barristan Selmy    None                         None  \n",
       "Petyr Baelish      None                         None  \n",
       "Samwell Tarly      None                         None  \n",
       "Ned Stark        choice  promised catelyn would help  \n",
       "Wine Merchant      None                         None  "
      ]
     },
     "execution_count": 150,
     "metadata": {},
     "output_type": "execute_result"
    }
   ],
   "source": [
    "episode_seven.head()"
   ]
  },
  {
   "cell_type": "markdown",
   "metadata": {},
   "source": [
    "### Episode Eight"
   ]
  },
  {
   "cell_type": "code",
   "execution_count": 151,
   "metadata": {
    "scrolled": true
   },
   "outputs": [],
   "source": [
    "#df_s1.script_text[7]"
   ]
  },
  {
   "cell_type": "code",
   "execution_count": 152,
   "metadata": {},
   "outputs": [
    {
     "name": "stdout",
     "output_type": "stream",
     "text": [
      "<type 'list'>\n"
     ]
    }
   ],
   "source": [
    "script_text1_08 = df_s1.script_text[7]\n",
    "print type(script_text1_08)\n",
    "\n",
    "#script_text1_08"
   ]
  },
  {
   "cell_type": "code",
   "execution_count": 153,
   "metadata": {
    "scrolled": true
   },
   "outputs": [],
   "source": [
    "script_split8 = [i.split('\\n') for i in script_text1_08]\n",
    "#script_split8"
   ]
  },
  {
   "cell_type": "code",
   "execution_count": 154,
   "metadata": {
    "collapsed": true
   },
   "outputs": [],
   "source": [
    "string_script_text8 = ' '\n",
    "\n",
    "for i in script_split8:\n",
    "    for e in i:\n",
    "        string_script_text8 = string_script_text8 + ' ' + e"
   ]
  },
  {
   "cell_type": "code",
   "execution_count": 155,
   "metadata": {},
   "outputs": [],
   "source": [
    "#string_script_text8"
   ]
  },
  {
   "cell_type": "code",
   "execution_count": 156,
   "metadata": {},
   "outputs": [],
   "source": [
    "words8 = word_tokenize(string_script_text8)\n",
    "#words8"
   ]
  },
  {
   "cell_type": "code",
   "execution_count": 157,
   "metadata": {
    "scrolled": true
   },
   "outputs": [],
   "source": [
    "sentences8 = sent_tokenize(string_script_text8)\n",
    "#sentences8"
   ]
  },
  {
   "cell_type": "code",
   "execution_count": 158,
   "metadata": {
    "scrolled": false
   },
   "outputs": [
    {
     "name": "stderr",
     "output_type": "stream",
     "text": [
      "/Users/zoemarkovits/anaconda/lib/python2.7/site-packages/ipykernel_launcher.py:6: UnicodeWarning: Unicode equal comparison failed to convert both arguments to Unicode - interpreting them as being unequal\n",
      "  \n"
     ]
    }
   ],
   "source": [
    "dialogue8 = []\n",
    "\n",
    "for sentence in sentences8:\n",
    "    words=sentence.split(':')[0]\n",
    "    if len(words.split())<=2:\n",
    "        if words in (names1_08):\n",
    "            dialogue8.append(sentence)"
   ]
  },
  {
   "cell_type": "code",
   "execution_count": 159,
   "metadata": {
    "scrolled": true
   },
   "outputs": [],
   "source": [
    "#dialogue8"
   ]
  },
  {
   "cell_type": "code",
   "execution_count": 160,
   "metadata": {
    "collapsed": true
   },
   "outputs": [],
   "source": [
    "import pickle\n",
    "with open('/Users/zoemarkovits/Metis/project_five_got/Dialogue_PKLs/s108.pkl', 'wb') as f:\n",
    "    pickle.dump(dialogue8, f)"
   ]
  },
  {
   "cell_type": "code",
   "execution_count": 161,
   "metadata": {
    "scrolled": true
   },
   "outputs": [],
   "source": [
    "from collections import defaultdict\n",
    "\n",
    "speakers8 = defaultdict(list)\n",
    "for sentence in dialogue8:\n",
    "    speakers8[sentence.split(':')[0]].append(sentence.split(':')[1])\n",
    "\n",
    "#speakers8"
   ]
  },
  {
   "cell_type": "code",
   "execution_count": 162,
   "metadata": {
    "scrolled": true
   },
   "outputs": [
    {
     "data": {
      "text/plain": [
       "[u'   You said right, but you went left.',\n",
       " u\"   Only 'cause you lied.\",\n",
       " u'   I was so.',\n",
       " u\"   My father wouldn't send you.\",\n",
       " u\"   And I don't have to go with you if I don't want.\",\n",
       " u'   Come with me.',\n",
       " u'   Not today.',\n",
       " u'   Not today.',\n",
       " u'   Needle.',\n",
       " u'   What do you want?',\n",
       " u'   Leave me be.',\n",
       " u'   Stay away!']"
      ]
     },
     "execution_count": 162,
     "metadata": {},
     "output_type": "execute_result"
    }
   ],
   "source": [
    "speakers8['Arya Stark']"
   ]
  },
  {
   "cell_type": "code",
   "execution_count": 163,
   "metadata": {
    "scrolled": true
   },
   "outputs": [
    {
     "name": "stdout",
     "output_type": "stream",
     "text": [
      "(28, 17)\n"
     ]
    }
   ],
   "source": [
    "episode_eight = pd.DataFrame.from_dict(speakers8, orient=\"index\")\n",
    "print episode_eight.shape"
   ]
  },
  {
   "cell_type": "code",
   "execution_count": 164,
   "metadata": {
    "collapsed": true
   },
   "outputs": [],
   "source": [
    "#from numpy import nan\n",
    "#episode_eight.fillna(value=str(0), inplace=True)"
   ]
  },
  {
   "cell_type": "code",
   "execution_count": 166,
   "metadata": {
    "scrolled": true
   },
   "outputs": [],
   "source": [
    "#episode_eight.info()"
   ]
  },
  {
   "cell_type": "code",
   "execution_count": 167,
   "metadata": {},
   "outputs": [],
   "source": [
    "#episode_eight.head()"
   ]
  },
  {
   "cell_type": "code",
   "execution_count": 168,
   "metadata": {
    "scrolled": true
   },
   "outputs": [],
   "source": [
    "test8 = episode_eight[0].apply(remove_stops)\n",
    "#test8"
   ]
  },
  {
   "cell_type": "code",
   "execution_count": 169,
   "metadata": {
    "collapsed": true,
    "scrolled": false
   },
   "outputs": [],
   "source": [
    "for column in episode_eight.columns:\n",
    "    for x in range(len(episode_eight[column])):\n",
    "        episode_eight[column][x] = remove_stops(episode_eight[column][x])"
   ]
  },
  {
   "cell_type": "code",
   "execution_count": 170,
   "metadata": {
    "scrolled": true
   },
   "outputs": [
    {
     "data": {
      "text/html": [
       "<div>\n",
       "<table border=\"1\" class=\"dataframe\">\n",
       "  <thead>\n",
       "    <tr style=\"text-align: right;\">\n",
       "      <th></th>\n",
       "      <th>0</th>\n",
       "      <th>1</th>\n",
       "      <th>2</th>\n",
       "      <th>3</th>\n",
       "      <th>4</th>\n",
       "      <th>5</th>\n",
       "      <th>6</th>\n",
       "      <th>7</th>\n",
       "      <th>8</th>\n",
       "      <th>9</th>\n",
       "      <th>10</th>\n",
       "      <th>11</th>\n",
       "      <th>12</th>\n",
       "      <th>13</th>\n",
       "      <th>14</th>\n",
       "      <th>15</th>\n",
       "      <th>16</th>\n",
       "    </tr>\n",
       "  </thead>\n",
       "  <tbody>\n",
       "    <tr>\n",
       "      <th>King Joffrey</th>\n",
       "      <td>let father die</td>\n",
       "      <td>come forward lady</td>\n",
       "      <td>said wasnt king</td>\n",
       "      <td>anything else</td>\n",
       "      <td>sweet words moved</td>\n",
       "      <td>None</td>\n",
       "      <td>None</td>\n",
       "      <td>None</td>\n",
       "      <td>None</td>\n",
       "      <td>None</td>\n",
       "      <td>None</td>\n",
       "      <td>None</td>\n",
       "      <td>None</td>\n",
       "      <td>None</td>\n",
       "      <td>None</td>\n",
       "      <td>None</td>\n",
       "      <td>None</td>\n",
       "    </tr>\n",
       "    <tr>\n",
       "      <th>Petyr Baelish</th>\n",
       "      <td>girl innocent grace</td>\n",
       "      <td>naked knight apparently</td>\n",
       "      <td>deny fathers crime</td>\n",
       "      <td>None</td>\n",
       "      <td>None</td>\n",
       "      <td>None</td>\n",
       "      <td>None</td>\n",
       "      <td>None</td>\n",
       "      <td>None</td>\n",
       "      <td>None</td>\n",
       "      <td>None</td>\n",
       "      <td>None</td>\n",
       "      <td>None</td>\n",
       "      <td>None</td>\n",
       "      <td>None</td>\n",
       "      <td>None</td>\n",
       "      <td>None</td>\n",
       "    </tr>\n",
       "    <tr>\n",
       "      <th>Tyrion Lannister</th>\n",
       "      <td>uncle</td>\n",
       "      <td>sorry disappoint</td>\n",
       "      <td>may present lord father tywin son tytos house ...</td>\n",
       "      <td>differences jaime</td>\n",
       "      <td>starks</td>\n",
       "      <td>sweet sister persuade king imprison dear frien...</td>\n",
       "      <td>sister rules mean</td>\n",
       "      <td>maybe</td>\n",
       "      <td>None</td>\n",
       "      <td>None</td>\n",
       "      <td>None</td>\n",
       "      <td>None</td>\n",
       "      <td>None</td>\n",
       "      <td>None</td>\n",
       "      <td>None</td>\n",
       "      <td>None</td>\n",
       "      <td>None</td>\n",
       "    </tr>\n",
       "    <tr>\n",
       "      <th>Samwell Tarly</th>\n",
       "      <td>smell</td>\n",
       "      <td>none</td>\n",
       "      <td>None</td>\n",
       "      <td>None</td>\n",
       "      <td>None</td>\n",
       "      <td>None</td>\n",
       "      <td>None</td>\n",
       "      <td>None</td>\n",
       "      <td>None</td>\n",
       "      <td>None</td>\n",
       "      <td>None</td>\n",
       "      <td>None</td>\n",
       "      <td>None</td>\n",
       "      <td>None</td>\n",
       "      <td>None</td>\n",
       "      <td>None</td>\n",
       "      <td>None</td>\n",
       "    </tr>\n",
       "    <tr>\n",
       "      <th>Sandor Clegane</th>\n",
       "      <td>think sent</td>\n",
       "      <td>None</td>\n",
       "      <td>None</td>\n",
       "      <td>None</td>\n",
       "      <td>None</td>\n",
       "      <td>None</td>\n",
       "      <td>None</td>\n",
       "      <td>None</td>\n",
       "      <td>None</td>\n",
       "      <td>None</td>\n",
       "      <td>None</td>\n",
       "      <td>None</td>\n",
       "      <td>None</td>\n",
       "      <td>None</td>\n",
       "      <td>None</td>\n",
       "      <td>None</td>\n",
       "      <td>None</td>\n",
       "    </tr>\n",
       "  </tbody>\n",
       "</table>\n",
       "</div>"
      ],
      "text/plain": [
       "                                   0                        1   \\\n",
       "King Joffrey           let father die        come forward lady   \n",
       "Petyr Baelish     girl innocent grace  naked knight apparently   \n",
       "Tyrion Lannister                uncle         sorry disappoint   \n",
       "Samwell Tarly                   smell                     none   \n",
       "Sandor Clegane             think sent                     None   \n",
       "\n",
       "                                                                 2   \\\n",
       "King Joffrey                                        said wasnt king   \n",
       "Petyr Baelish                                    deny fathers crime   \n",
       "Tyrion Lannister  may present lord father tywin son tytos house ...   \n",
       "Samwell Tarly                                                  None   \n",
       "Sandor Clegane                                                 None   \n",
       "\n",
       "                                 3                  4   \\\n",
       "King Joffrey          anything else  sweet words moved   \n",
       "Petyr Baelish                  None               None   \n",
       "Tyrion Lannister  differences jaime             starks   \n",
       "Samwell Tarly                  None               None   \n",
       "Sandor Clegane                 None               None   \n",
       "\n",
       "                                                                 5   \\\n",
       "King Joffrey                                                   None   \n",
       "Petyr Baelish                                                  None   \n",
       "Tyrion Lannister  sweet sister persuade king imprison dear frien...   \n",
       "Samwell Tarly                                                  None   \n",
       "Sandor Clegane                                                 None   \n",
       "\n",
       "                                 6      7     8     9     10    11    12  \\\n",
       "King Joffrey                   None   None  None  None  None  None  None   \n",
       "Petyr Baelish                  None   None  None  None  None  None  None   \n",
       "Tyrion Lannister  sister rules mean  maybe  None  None  None  None  None   \n",
       "Samwell Tarly                  None   None  None  None  None  None  None   \n",
       "Sandor Clegane                 None   None  None  None  None  None  None   \n",
       "\n",
       "                    13    14    15    16  \n",
       "King Joffrey      None  None  None  None  \n",
       "Petyr Baelish     None  None  None  None  \n",
       "Tyrion Lannister  None  None  None  None  \n",
       "Samwell Tarly     None  None  None  None  \n",
       "Sandor Clegane    None  None  None  None  "
      ]
     },
     "execution_count": 170,
     "metadata": {},
     "output_type": "execute_result"
    }
   ],
   "source": [
    "episode_eight.head()"
   ]
  },
  {
   "cell_type": "markdown",
   "metadata": {},
   "source": [
    "### Episode Nine"
   ]
  },
  {
   "cell_type": "code",
   "execution_count": 171,
   "metadata": {
    "scrolled": true
   },
   "outputs": [],
   "source": [
    "#df_s1.script_text[8]"
   ]
  },
  {
   "cell_type": "code",
   "execution_count": 172,
   "metadata": {},
   "outputs": [
    {
     "name": "stdout",
     "output_type": "stream",
     "text": [
      "<type 'list'>\n"
     ]
    }
   ],
   "source": [
    "script_text1_09 = df_s1.script_text[8]\n",
    "print type(script_text1_09)\n",
    "\n",
    "#script_text1_09"
   ]
  },
  {
   "cell_type": "code",
   "execution_count": 173,
   "metadata": {
    "scrolled": true
   },
   "outputs": [],
   "source": [
    "script_split9 = [i.split('\\n') for i in script_text1_09]\n",
    "#script_split9"
   ]
  },
  {
   "cell_type": "code",
   "execution_count": 174,
   "metadata": {
    "collapsed": true
   },
   "outputs": [],
   "source": [
    "string_script_text9 = ' '\n",
    "\n",
    "for i in script_split9:\n",
    "    for e in i:\n",
    "        string_script_text9 = string_script_text9 + ' ' + e"
   ]
  },
  {
   "cell_type": "code",
   "execution_count": 175,
   "metadata": {},
   "outputs": [],
   "source": [
    "#string_script_text9"
   ]
  },
  {
   "cell_type": "code",
   "execution_count": 176,
   "metadata": {},
   "outputs": [],
   "source": [
    "words9 = word_tokenize(string_script_text9)\n",
    "#words9"
   ]
  },
  {
   "cell_type": "code",
   "execution_count": 177,
   "metadata": {
    "scrolled": true
   },
   "outputs": [],
   "source": [
    "sentences9 = sent_tokenize(string_script_text9)\n",
    "#sentences9"
   ]
  },
  {
   "cell_type": "code",
   "execution_count": 178,
   "metadata": {
    "scrolled": false
   },
   "outputs": [
    {
     "name": "stderr",
     "output_type": "stream",
     "text": [
      "/Users/zoemarkovits/anaconda/lib/python2.7/site-packages/ipykernel_launcher.py:6: UnicodeWarning: Unicode equal comparison failed to convert both arguments to Unicode - interpreting them as being unequal\n",
      "  \n"
     ]
    }
   ],
   "source": [
    "dialogue9 = []\n",
    "\n",
    "for sentence in sentences9:\n",
    "    words=sentence.split(':')[0]\n",
    "    if len(words.split())<=2:\n",
    "        if words in (names1_09):\n",
    "            dialogue9.append(sentence)"
   ]
  },
  {
   "cell_type": "code",
   "execution_count": 179,
   "metadata": {
    "scrolled": true
   },
   "outputs": [],
   "source": [
    "#dialogue9"
   ]
  },
  {
   "cell_type": "code",
   "execution_count": 180,
   "metadata": {
    "collapsed": true
   },
   "outputs": [],
   "source": [
    "import pickle\n",
    "with open('/Users/zoemarkovits/Metis/project_five_got/Dialogue_PKLs/s109.pkl', 'wb') as f:\n",
    "    pickle.dump(dialogue9, f)"
   ]
  },
  {
   "cell_type": "code",
   "execution_count": 181,
   "metadata": {
    "scrolled": true
   },
   "outputs": [],
   "source": [
    "from collections import defaultdict\n",
    "\n",
    "speakers9 = defaultdict(list)\n",
    "for sentence in dialogue9:\n",
    "    speakers9[sentence.split(':')[0]].append(sentence.split(':')[1])\n",
    "\n",
    "#speakers9"
   ]
  },
  {
   "cell_type": "code",
   "execution_count": 182,
   "metadata": {
    "scrolled": false
   },
   "outputs": [
    {
     "data": {
      "text/plain": [
       "[u'   How about a nice fat pigeon?',\n",
       " u'   Do you have any stale ones from yesterday?',\n",
       " u\"   Hey, where's everyone going?\",\n",
       " u'   Who?',\n",
       " u'   Let me go.']"
      ]
     },
     "execution_count": 182,
     "metadata": {},
     "output_type": "execute_result"
    }
   ],
   "source": [
    "speakers9['Arya Stark']"
   ]
  },
  {
   "cell_type": "code",
   "execution_count": 183,
   "metadata": {
    "scrolled": true
   },
   "outputs": [
    {
     "name": "stdout",
     "output_type": "stream",
     "text": [
      "(39, 62)\n"
     ]
    }
   ],
   "source": [
    "episode_nine = pd.DataFrame.from_dict(speakers9, orient=\"index\")\n",
    "print episode_nine.shape"
   ]
  },
  {
   "cell_type": "code",
   "execution_count": 184,
   "metadata": {
    "collapsed": true
   },
   "outputs": [],
   "source": [
    "#from numpy import nan\n",
    "#episode_nine.fillna(value=str(0), inplace=True)"
   ]
  },
  {
   "cell_type": "code",
   "execution_count": 185,
   "metadata": {
    "scrolled": true
   },
   "outputs": [],
   "source": [
    "#episode_nine.info()"
   ]
  },
  {
   "cell_type": "code",
   "execution_count": 186,
   "metadata": {},
   "outputs": [],
   "source": [
    "#episode_nine.head()"
   ]
  },
  {
   "cell_type": "code",
   "execution_count": 187,
   "metadata": {
    "scrolled": true
   },
   "outputs": [],
   "source": [
    "test9 = episode_nine[0].apply(remove_stops)\n",
    "#test9"
   ]
  },
  {
   "cell_type": "code",
   "execution_count": 188,
   "metadata": {
    "collapsed": true,
    "scrolled": false
   },
   "outputs": [],
   "source": [
    "for column in episode_nine.columns:\n",
    "    for x in range(len(episode_nine[column])):\n",
    "        episode_nine[column][x] = remove_stops(episode_nine[column][x])"
   ]
  },
  {
   "cell_type": "code",
   "execution_count": 189,
   "metadata": {
    "scrolled": true
   },
   "outputs": [
    {
     "data": {
      "text/html": [
       "<div>\n",
       "<table border=\"1\" class=\"dataframe\">\n",
       "  <thead>\n",
       "    <tr style=\"text-align: right;\">\n",
       "      <th></th>\n",
       "      <th>0</th>\n",
       "      <th>1</th>\n",
       "      <th>2</th>\n",
       "      <th>3</th>\n",
       "      <th>4</th>\n",
       "      <th>5</th>\n",
       "      <th>6</th>\n",
       "      <th>7</th>\n",
       "      <th>8</th>\n",
       "      <th>9</th>\n",
       "      <th>10</th>\n",
       "      <th>11</th>\n",
       "      <th>12</th>\n",
       "      <th>13</th>\n",
       "      <th>14</th>\n",
       "      <th>15</th>\n",
       "      <th>16</th>\n",
       "      <th>17</th>\n",
       "      <th>18</th>\n",
       "      <th>19</th>\n",
       "      <th>20</th>\n",
       "      <th>21</th>\n",
       "      <th>22</th>\n",
       "      <th>23</th>\n",
       "      <th>24</th>\n",
       "      <th>25</th>\n",
       "      <th>26</th>\n",
       "      <th>27</th>\n",
       "      <th>28</th>\n",
       "      <th>29</th>\n",
       "      <th>30</th>\n",
       "      <th>31</th>\n",
       "      <th>32</th>\n",
       "      <th>33</th>\n",
       "      <th>34</th>\n",
       "      <th>35</th>\n",
       "      <th>36</th>\n",
       "      <th>37</th>\n",
       "      <th>38</th>\n",
       "      <th>39</th>\n",
       "      <th>40</th>\n",
       "      <th>41</th>\n",
       "      <th>42</th>\n",
       "      <th>43</th>\n",
       "      <th>44</th>\n",
       "      <th>45</th>\n",
       "      <th>46</th>\n",
       "      <th>47</th>\n",
       "      <th>48</th>\n",
       "      <th>49</th>\n",
       "      <th>50</th>\n",
       "      <th>51</th>\n",
       "      <th>52</th>\n",
       "      <th>53</th>\n",
       "      <th>54</th>\n",
       "      <th>55</th>\n",
       "      <th>56</th>\n",
       "      <th>57</th>\n",
       "      <th>58</th>\n",
       "      <th>59</th>\n",
       "      <th>60</th>\n",
       "      <th>61</th>\n",
       "    </tr>\n",
       "  </thead>\n",
       "  <tbody>\n",
       "    <tr>\n",
       "      <th>Joffrey Baratheon</th>\n",
       "      <td>mother wishes let lord eddard join nights watch</td>\n",
       "      <td>None</td>\n",
       "      <td>None</td>\n",
       "      <td>None</td>\n",
       "      <td>None</td>\n",
       "      <td>None</td>\n",
       "      <td>None</td>\n",
       "      <td>None</td>\n",
       "      <td>None</td>\n",
       "      <td>None</td>\n",
       "      <td>None</td>\n",
       "      <td>None</td>\n",
       "      <td>None</td>\n",
       "      <td>None</td>\n",
       "      <td>None</td>\n",
       "      <td>None</td>\n",
       "      <td>None</td>\n",
       "      <td>None</td>\n",
       "      <td>None</td>\n",
       "      <td>None</td>\n",
       "      <td>None</td>\n",
       "      <td>None</td>\n",
       "      <td>None</td>\n",
       "      <td>None</td>\n",
       "      <td>None</td>\n",
       "      <td>None</td>\n",
       "      <td>None</td>\n",
       "      <td>None</td>\n",
       "      <td>None</td>\n",
       "      <td>None</td>\n",
       "      <td>None</td>\n",
       "      <td>None</td>\n",
       "      <td>None</td>\n",
       "      <td>None</td>\n",
       "      <td>None</td>\n",
       "      <td>None</td>\n",
       "      <td>None</td>\n",
       "      <td>None</td>\n",
       "      <td>None</td>\n",
       "      <td>None</td>\n",
       "      <td>None</td>\n",
       "      <td>None</td>\n",
       "      <td>None</td>\n",
       "      <td>None</td>\n",
       "      <td>None</td>\n",
       "      <td>None</td>\n",
       "      <td>None</td>\n",
       "      <td>None</td>\n",
       "      <td>None</td>\n",
       "      <td>None</td>\n",
       "      <td>None</td>\n",
       "      <td>None</td>\n",
       "      <td>None</td>\n",
       "      <td>None</td>\n",
       "      <td>None</td>\n",
       "      <td>None</td>\n",
       "      <td>None</td>\n",
       "      <td>None</td>\n",
       "      <td>None</td>\n",
       "      <td>None</td>\n",
       "      <td>None</td>\n",
       "      <td>None</td>\n",
       "    </tr>\n",
       "    <tr>\n",
       "      <th>Populace</th>\n",
       "      <td>traitor</td>\n",
       "      <td>traitor</td>\n",
       "      <td>put</td>\n",
       "      <td>None</td>\n",
       "      <td>None</td>\n",
       "      <td>None</td>\n",
       "      <td>None</td>\n",
       "      <td>None</td>\n",
       "      <td>None</td>\n",
       "      <td>None</td>\n",
       "      <td>None</td>\n",
       "      <td>None</td>\n",
       "      <td>None</td>\n",
       "      <td>None</td>\n",
       "      <td>None</td>\n",
       "      <td>None</td>\n",
       "      <td>None</td>\n",
       "      <td>None</td>\n",
       "      <td>None</td>\n",
       "      <td>None</td>\n",
       "      <td>None</td>\n",
       "      <td>None</td>\n",
       "      <td>None</td>\n",
       "      <td>None</td>\n",
       "      <td>None</td>\n",
       "      <td>None</td>\n",
       "      <td>None</td>\n",
       "      <td>None</td>\n",
       "      <td>None</td>\n",
       "      <td>None</td>\n",
       "      <td>None</td>\n",
       "      <td>None</td>\n",
       "      <td>None</td>\n",
       "      <td>None</td>\n",
       "      <td>None</td>\n",
       "      <td>None</td>\n",
       "      <td>None</td>\n",
       "      <td>None</td>\n",
       "      <td>None</td>\n",
       "      <td>None</td>\n",
       "      <td>None</td>\n",
       "      <td>None</td>\n",
       "      <td>None</td>\n",
       "      <td>None</td>\n",
       "      <td>None</td>\n",
       "      <td>None</td>\n",
       "      <td>None</td>\n",
       "      <td>None</td>\n",
       "      <td>None</td>\n",
       "      <td>None</td>\n",
       "      <td>None</td>\n",
       "      <td>None</td>\n",
       "      <td>None</td>\n",
       "      <td>None</td>\n",
       "      <td>None</td>\n",
       "      <td>None</td>\n",
       "      <td>None</td>\n",
       "      <td>None</td>\n",
       "      <td>None</td>\n",
       "      <td>None</td>\n",
       "      <td>None</td>\n",
       "      <td>None</td>\n",
       "    </tr>\n",
       "    <tr>\n",
       "      <th>Cersei Baratheon</th>\n",
       "      <td>son madness</td>\n",
       "      <td>None</td>\n",
       "      <td>None</td>\n",
       "      <td>None</td>\n",
       "      <td>None</td>\n",
       "      <td>None</td>\n",
       "      <td>None</td>\n",
       "      <td>None</td>\n",
       "      <td>None</td>\n",
       "      <td>None</td>\n",
       "      <td>None</td>\n",
       "      <td>None</td>\n",
       "      <td>None</td>\n",
       "      <td>None</td>\n",
       "      <td>None</td>\n",
       "      <td>None</td>\n",
       "      <td>None</td>\n",
       "      <td>None</td>\n",
       "      <td>None</td>\n",
       "      <td>None</td>\n",
       "      <td>None</td>\n",
       "      <td>None</td>\n",
       "      <td>None</td>\n",
       "      <td>None</td>\n",
       "      <td>None</td>\n",
       "      <td>None</td>\n",
       "      <td>None</td>\n",
       "      <td>None</td>\n",
       "      <td>None</td>\n",
       "      <td>None</td>\n",
       "      <td>None</td>\n",
       "      <td>None</td>\n",
       "      <td>None</td>\n",
       "      <td>None</td>\n",
       "      <td>None</td>\n",
       "      <td>None</td>\n",
       "      <td>None</td>\n",
       "      <td>None</td>\n",
       "      <td>None</td>\n",
       "      <td>None</td>\n",
       "      <td>None</td>\n",
       "      <td>None</td>\n",
       "      <td>None</td>\n",
       "      <td>None</td>\n",
       "      <td>None</td>\n",
       "      <td>None</td>\n",
       "      <td>None</td>\n",
       "      <td>None</td>\n",
       "      <td>None</td>\n",
       "      <td>None</td>\n",
       "      <td>None</td>\n",
       "      <td>None</td>\n",
       "      <td>None</td>\n",
       "      <td>None</td>\n",
       "      <td>None</td>\n",
       "      <td>None</td>\n",
       "      <td>None</td>\n",
       "      <td>None</td>\n",
       "      <td>None</td>\n",
       "      <td>None</td>\n",
       "      <td>None</td>\n",
       "      <td>None</td>\n",
       "    </tr>\n",
       "    <tr>\n",
       "      <th>Khal Drogo</th>\n",
       "      <td>horse cohollo</td>\n",
       "      <td>None</td>\n",
       "      <td>None</td>\n",
       "      <td>None</td>\n",
       "      <td>None</td>\n",
       "      <td>None</td>\n",
       "      <td>None</td>\n",
       "      <td>None</td>\n",
       "      <td>None</td>\n",
       "      <td>None</td>\n",
       "      <td>None</td>\n",
       "      <td>None</td>\n",
       "      <td>None</td>\n",
       "      <td>None</td>\n",
       "      <td>None</td>\n",
       "      <td>None</td>\n",
       "      <td>None</td>\n",
       "      <td>None</td>\n",
       "      <td>None</td>\n",
       "      <td>None</td>\n",
       "      <td>None</td>\n",
       "      <td>None</td>\n",
       "      <td>None</td>\n",
       "      <td>None</td>\n",
       "      <td>None</td>\n",
       "      <td>None</td>\n",
       "      <td>None</td>\n",
       "      <td>None</td>\n",
       "      <td>None</td>\n",
       "      <td>None</td>\n",
       "      <td>None</td>\n",
       "      <td>None</td>\n",
       "      <td>None</td>\n",
       "      <td>None</td>\n",
       "      <td>None</td>\n",
       "      <td>None</td>\n",
       "      <td>None</td>\n",
       "      <td>None</td>\n",
       "      <td>None</td>\n",
       "      <td>None</td>\n",
       "      <td>None</td>\n",
       "      <td>None</td>\n",
       "      <td>None</td>\n",
       "      <td>None</td>\n",
       "      <td>None</td>\n",
       "      <td>None</td>\n",
       "      <td>None</td>\n",
       "      <td>None</td>\n",
       "      <td>None</td>\n",
       "      <td>None</td>\n",
       "      <td>None</td>\n",
       "      <td>None</td>\n",
       "      <td>None</td>\n",
       "      <td>None</td>\n",
       "      <td>None</td>\n",
       "      <td>None</td>\n",
       "      <td>None</td>\n",
       "      <td>None</td>\n",
       "      <td>None</td>\n",
       "      <td>None</td>\n",
       "      <td>None</td>\n",
       "      <td>None</td>\n",
       "    </tr>\n",
       "    <tr>\n",
       "      <th>Yoren</th>\n",
       "      <td>dont look</td>\n",
       "      <td>shut mouth</td>\n",
       "      <td>None</td>\n",
       "      <td>None</td>\n",
       "      <td>None</td>\n",
       "      <td>None</td>\n",
       "      <td>None</td>\n",
       "      <td>None</td>\n",
       "      <td>None</td>\n",
       "      <td>None</td>\n",
       "      <td>None</td>\n",
       "      <td>None</td>\n",
       "      <td>None</td>\n",
       "      <td>None</td>\n",
       "      <td>None</td>\n",
       "      <td>None</td>\n",
       "      <td>None</td>\n",
       "      <td>None</td>\n",
       "      <td>None</td>\n",
       "      <td>None</td>\n",
       "      <td>None</td>\n",
       "      <td>None</td>\n",
       "      <td>None</td>\n",
       "      <td>None</td>\n",
       "      <td>None</td>\n",
       "      <td>None</td>\n",
       "      <td>None</td>\n",
       "      <td>None</td>\n",
       "      <td>None</td>\n",
       "      <td>None</td>\n",
       "      <td>None</td>\n",
       "      <td>None</td>\n",
       "      <td>None</td>\n",
       "      <td>None</td>\n",
       "      <td>None</td>\n",
       "      <td>None</td>\n",
       "      <td>None</td>\n",
       "      <td>None</td>\n",
       "      <td>None</td>\n",
       "      <td>None</td>\n",
       "      <td>None</td>\n",
       "      <td>None</td>\n",
       "      <td>None</td>\n",
       "      <td>None</td>\n",
       "      <td>None</td>\n",
       "      <td>None</td>\n",
       "      <td>None</td>\n",
       "      <td>None</td>\n",
       "      <td>None</td>\n",
       "      <td>None</td>\n",
       "      <td>None</td>\n",
       "      <td>None</td>\n",
       "      <td>None</td>\n",
       "      <td>None</td>\n",
       "      <td>None</td>\n",
       "      <td>None</td>\n",
       "      <td>None</td>\n",
       "      <td>None</td>\n",
       "      <td>None</td>\n",
       "      <td>None</td>\n",
       "      <td>None</td>\n",
       "      <td>None</td>\n",
       "    </tr>\n",
       "  </tbody>\n",
       "</table>\n",
       "</div>"
      ],
      "text/plain": [
       "                                                                0   \\\n",
       "Joffrey Baratheon  mother wishes let lord eddard join nights watch   \n",
       "Populace                                                   traitor   \n",
       "Cersei Baratheon                                       son madness   \n",
       "Khal Drogo                                           horse cohollo   \n",
       "Yoren                                                    dont look   \n",
       "\n",
       "                           1     2     3     4     5     6     7     8     9   \\\n",
       "Joffrey Baratheon        None  None  None  None  None  None  None  None  None   \n",
       "Populace              traitor   put  None  None  None  None  None  None  None   \n",
       "Cersei Baratheon         None  None  None  None  None  None  None  None  None   \n",
       "Khal Drogo               None  None  None  None  None  None  None  None  None   \n",
       "Yoren              shut mouth  None  None  None  None  None  None  None  None   \n",
       "\n",
       "                     10    11    12    13    14    15    16    17    18    19  \\\n",
       "Joffrey Baratheon  None  None  None  None  None  None  None  None  None  None   \n",
       "Populace           None  None  None  None  None  None  None  None  None  None   \n",
       "Cersei Baratheon   None  None  None  None  None  None  None  None  None  None   \n",
       "Khal Drogo         None  None  None  None  None  None  None  None  None  None   \n",
       "Yoren              None  None  None  None  None  None  None  None  None  None   \n",
       "\n",
       "                     20    21    22    23    24    25    26    27    28    29  \\\n",
       "Joffrey Baratheon  None  None  None  None  None  None  None  None  None  None   \n",
       "Populace           None  None  None  None  None  None  None  None  None  None   \n",
       "Cersei Baratheon   None  None  None  None  None  None  None  None  None  None   \n",
       "Khal Drogo         None  None  None  None  None  None  None  None  None  None   \n",
       "Yoren              None  None  None  None  None  None  None  None  None  None   \n",
       "\n",
       "                     30    31    32    33    34    35    36    37    38    39  \\\n",
       "Joffrey Baratheon  None  None  None  None  None  None  None  None  None  None   \n",
       "Populace           None  None  None  None  None  None  None  None  None  None   \n",
       "Cersei Baratheon   None  None  None  None  None  None  None  None  None  None   \n",
       "Khal Drogo         None  None  None  None  None  None  None  None  None  None   \n",
       "Yoren              None  None  None  None  None  None  None  None  None  None   \n",
       "\n",
       "                     40    41    42    43    44    45    46    47    48    49  \\\n",
       "Joffrey Baratheon  None  None  None  None  None  None  None  None  None  None   \n",
       "Populace           None  None  None  None  None  None  None  None  None  None   \n",
       "Cersei Baratheon   None  None  None  None  None  None  None  None  None  None   \n",
       "Khal Drogo         None  None  None  None  None  None  None  None  None  None   \n",
       "Yoren              None  None  None  None  None  None  None  None  None  None   \n",
       "\n",
       "                     50    51    52    53    54    55    56    57    58    59  \\\n",
       "Joffrey Baratheon  None  None  None  None  None  None  None  None  None  None   \n",
       "Populace           None  None  None  None  None  None  None  None  None  None   \n",
       "Cersei Baratheon   None  None  None  None  None  None  None  None  None  None   \n",
       "Khal Drogo         None  None  None  None  None  None  None  None  None  None   \n",
       "Yoren              None  None  None  None  None  None  None  None  None  None   \n",
       "\n",
       "                     60    61  \n",
       "Joffrey Baratheon  None  None  \n",
       "Populace           None  None  \n",
       "Cersei Baratheon   None  None  \n",
       "Khal Drogo         None  None  \n",
       "Yoren              None  None  "
      ]
     },
     "execution_count": 189,
     "metadata": {},
     "output_type": "execute_result"
    }
   ],
   "source": [
    "episode_nine.head()"
   ]
  },
  {
   "cell_type": "markdown",
   "metadata": {},
   "source": [
    "### Episode Ten"
   ]
  },
  {
   "cell_type": "code",
   "execution_count": 190,
   "metadata": {
    "scrolled": true
   },
   "outputs": [],
   "source": [
    "#df_s1.script_text[9]"
   ]
  },
  {
   "cell_type": "code",
   "execution_count": 191,
   "metadata": {},
   "outputs": [
    {
     "name": "stdout",
     "output_type": "stream",
     "text": [
      "<type 'list'>\n"
     ]
    }
   ],
   "source": [
    "script_text1_10 = df_s1.script_text[9]\n",
    "print type(script_text1_10)\n",
    "\n",
    "#script_text1_10"
   ]
  },
  {
   "cell_type": "code",
   "execution_count": 192,
   "metadata": {
    "scrolled": true
   },
   "outputs": [],
   "source": [
    "script_split10 = [i.split('\\n') for i in script_text1_10]\n",
    "#script_split10"
   ]
  },
  {
   "cell_type": "code",
   "execution_count": 193,
   "metadata": {
    "collapsed": true
   },
   "outputs": [],
   "source": [
    "string_script_text10 = ' '\n",
    "\n",
    "for i in script_split10:\n",
    "    for e in i:\n",
    "        string_script_text10 = string_script_text10 + ' ' + e"
   ]
  },
  {
   "cell_type": "code",
   "execution_count": 194,
   "metadata": {},
   "outputs": [],
   "source": [
    "#string_script_text10"
   ]
  },
  {
   "cell_type": "code",
   "execution_count": 195,
   "metadata": {},
   "outputs": [],
   "source": [
    "words10 = word_tokenize(string_script_text10)\n",
    "#words10"
   ]
  },
  {
   "cell_type": "code",
   "execution_count": 196,
   "metadata": {
    "scrolled": true
   },
   "outputs": [],
   "source": [
    "sentences10 = sent_tokenize(string_script_text10)\n",
    "#sentences10"
   ]
  },
  {
   "cell_type": "code",
   "execution_count": 197,
   "metadata": {
    "collapsed": true,
    "scrolled": false
   },
   "outputs": [],
   "source": [
    "dialogue10 = []\n",
    "\n",
    "for sentence in sentences10:\n",
    "    words=sentence.split(':')[0]\n",
    "    if len(words.split())<=2:\n",
    "        if words in (names1_10):\n",
    "            dialogue10.append(sentence)"
   ]
  },
  {
   "cell_type": "code",
   "execution_count": 198,
   "metadata": {
    "scrolled": true
   },
   "outputs": [],
   "source": [
    "#dialogue10"
   ]
  },
  {
   "cell_type": "code",
   "execution_count": 199,
   "metadata": {
    "collapsed": true
   },
   "outputs": [],
   "source": [
    "import pickle\n",
    "with open('/Users/zoemarkovits/Metis/project_five_got/Dialogue_PKLs/s110.pkl', 'wb') as f:\n",
    "    pickle.dump(dialogue10, f)"
   ]
  },
  {
   "cell_type": "code",
   "execution_count": 200,
   "metadata": {
    "scrolled": true
   },
   "outputs": [],
   "source": [
    "from collections import defaultdict\n",
    "\n",
    "speakers10 = defaultdict(list)\n",
    "for sentence in dialogue10:\n",
    "    speakers10[sentence.split(':')[0]].append(sentence.split(':')[1])\n",
    "\n",
    "#speakers10"
   ]
  },
  {
   "cell_type": "code",
   "execution_count": 201,
   "metadata": {
    "scrolled": false
   },
   "outputs": [
    {
     "data": {
      "text/plain": [
       "[u\"   l'm not a boy!\",\n",
       " u'   Arry.',\n",
       " u'     You want it?',\n",
       " u'   lt was a gift.',\n",
       " u'   Which are you?']"
      ]
     },
     "execution_count": 201,
     "metadata": {},
     "output_type": "execute_result"
    }
   ],
   "source": [
    "speakers10['Arya Stark']"
   ]
  },
  {
   "cell_type": "code",
   "execution_count": 202,
   "metadata": {
    "scrolled": true
   },
   "outputs": [
    {
     "name": "stdout",
     "output_type": "stream",
     "text": [
      "(39, 18)\n"
     ]
    }
   ],
   "source": [
    "episode_ten = pd.DataFrame.from_dict(speakers10, orient=\"index\")\n",
    "print episode_ten.shape"
   ]
  },
  {
   "cell_type": "code",
   "execution_count": 203,
   "metadata": {
    "collapsed": true
   },
   "outputs": [],
   "source": [
    "#from numpy import nan\n",
    "#episode_ten.fillna(value=str(0), inplace=True)"
   ]
  },
  {
   "cell_type": "code",
   "execution_count": 204,
   "metadata": {
    "scrolled": true
   },
   "outputs": [],
   "source": [
    "#episode_ten.info()"
   ]
  },
  {
   "cell_type": "code",
   "execution_count": 205,
   "metadata": {},
   "outputs": [],
   "source": [
    "#episode_ten.head()"
   ]
  },
  {
   "cell_type": "code",
   "execution_count": 206,
   "metadata": {
    "scrolled": true
   },
   "outputs": [],
   "source": [
    "test10 = episode_ten[0].apply(remove_stops)\n",
    "#test10"
   ]
  },
  {
   "cell_type": "code",
   "execution_count": 207,
   "metadata": {
    "collapsed": true,
    "scrolled": false
   },
   "outputs": [],
   "source": [
    "for column in episode_ten.columns:\n",
    "    for x in range(len(episode_ten[column])):\n",
    "        episode_ten[column][x] = remove_stops(episode_ten[column][x])"
   ]
  },
  {
   "cell_type": "code",
   "execution_count": 208,
   "metadata": {
    "scrolled": false
   },
   "outputs": [
    {
     "data": {
      "text/html": [
       "<div>\n",
       "<table border=\"1\" class=\"dataframe\">\n",
       "  <thead>\n",
       "    <tr style=\"text-align: right;\">\n",
       "      <th></th>\n",
       "      <th>0</th>\n",
       "      <th>1</th>\n",
       "      <th>2</th>\n",
       "      <th>3</th>\n",
       "      <th>4</th>\n",
       "      <th>5</th>\n",
       "      <th>6</th>\n",
       "      <th>7</th>\n",
       "      <th>8</th>\n",
       "      <th>9</th>\n",
       "      <th>10</th>\n",
       "      <th>11</th>\n",
       "      <th>12</th>\n",
       "      <th>13</th>\n",
       "      <th>14</th>\n",
       "      <th>15</th>\n",
       "      <th>16</th>\n",
       "      <th>17</th>\n",
       "    </tr>\n",
       "  </thead>\n",
       "  <tbody>\n",
       "    <tr>\n",
       "      <th>Joffrey Baratheon</th>\n",
       "      <td>amusing</td>\n",
       "      <td>tell favor fingers tongue</td>\n",
       "      <td>fingers tongue</td>\n",
       "      <td>good</td>\n",
       "      <td>ser llyn better carry sentence</td>\n",
       "      <td>lm done day</td>\n",
       "      <td>look quite nice</td>\n",
       "      <td>grace</td>\n",
       "      <td>walk</td>\n",
       "      <td>soon youve blood lll put son</td>\n",
       "      <td>ones father</td>\n",
       "      <td>l</td>\n",
       "      <td>well</td>\n",
       "      <td>long pleases</td>\n",
       "      <td>obey</td>\n",
       "      <td>lords</td>\n",
       "      <td>None</td>\n",
       "      <td>None</td>\n",
       "    </tr>\n",
       "    <tr>\n",
       "      <th>Petyr Baelish</th>\n",
       "      <td>lts hard simper bow without heads</td>\n",
       "      <td>would friend found sitting</td>\n",
       "      <td>must one men city isnt man</td>\n",
       "      <td>l picture gash</td>\n",
       "      <td>must strange even years man another land despi...</td>\n",
       "      <td>carry whispering one kings ear next</td>\n",
       "      <td>useful talent lm sure youd agree</td>\n",
       "      <td>playing roles</td>\n",
       "      <td>long may reign</td>\n",
       "      <td>None</td>\n",
       "      <td>None</td>\n",
       "      <td>None</td>\n",
       "      <td>None</td>\n",
       "      <td>None</td>\n",
       "      <td>None</td>\n",
       "      <td>None</td>\n",
       "      <td>None</td>\n",
       "      <td>None</td>\n",
       "    </tr>\n",
       "    <tr>\n",
       "      <th>Lommy Greenhands</th>\n",
       "      <td>hes got sword one</td>\n",
       "      <td>maybe hes little squire</td>\n",
       "      <td>lets look</td>\n",
       "      <td>take</td>\n",
       "      <td>look</td>\n",
       "      <td>None</td>\n",
       "      <td>None</td>\n",
       "      <td>None</td>\n",
       "      <td>None</td>\n",
       "      <td>None</td>\n",
       "      <td>None</td>\n",
       "      <td>None</td>\n",
       "      <td>None</td>\n",
       "      <td>None</td>\n",
       "      <td>None</td>\n",
       "      <td>None</td>\n",
       "      <td>None</td>\n",
       "      <td>None</td>\n",
       "    </tr>\n",
       "    <tr>\n",
       "      <th>Yoren</th>\n",
       "      <td>keep mouth shut boy</td>\n",
       "      <td>youre smart boy youre trying say</td>\n",
       "      <td>youre arry hear</td>\n",
       "      <td>youve long way travel bad company</td>\n",
       "      <td>come sorry sons whores</td>\n",
       "      <td>None</td>\n",
       "      <td>None</td>\n",
       "      <td>None</td>\n",
       "      <td>None</td>\n",
       "      <td>None</td>\n",
       "      <td>None</td>\n",
       "      <td>None</td>\n",
       "      <td>None</td>\n",
       "      <td>None</td>\n",
       "      <td>None</td>\n",
       "      <td>None</td>\n",
       "      <td>None</td>\n",
       "      <td>None</td>\n",
       "    </tr>\n",
       "    <tr>\n",
       "      <th>Shae</th>\n",
       "      <td>father said couldnt take anyone kings landing</td>\n",
       "      <td>knew name</td>\n",
       "      <td>said dont bring shae kings landing</td>\n",
       "      <td>ashamed</td>\n",
       "      <td>im funny</td>\n",
       "      <td>None</td>\n",
       "      <td>None</td>\n",
       "      <td>None</td>\n",
       "      <td>None</td>\n",
       "      <td>None</td>\n",
       "      <td>None</td>\n",
       "      <td>None</td>\n",
       "      <td>None</td>\n",
       "      <td>None</td>\n",
       "      <td>None</td>\n",
       "      <td>None</td>\n",
       "      <td>None</td>\n",
       "      <td>None</td>\n",
       "    </tr>\n",
       "  </tbody>\n",
       "</table>\n",
       "</div>"
      ],
      "text/plain": [
       "                                                              0   \\\n",
       "Joffrey Baratheon                                        amusing   \n",
       "Petyr Baelish                  lts hard simper bow without heads   \n",
       "Lommy Greenhands                               hes got sword one   \n",
       "Yoren                                        keep mouth shut boy   \n",
       "Shae               father said couldnt take anyone kings landing   \n",
       "\n",
       "                                                 1   \\\n",
       "Joffrey Baratheon         tell favor fingers tongue   \n",
       "Petyr Baelish            would friend found sitting   \n",
       "Lommy Greenhands            maybe hes little squire   \n",
       "Yoren              youre smart boy youre trying say   \n",
       "Shae                                      knew name   \n",
       "\n",
       "                                                   2   \\\n",
       "Joffrey Baratheon                      fingers tongue   \n",
       "Petyr Baelish              must one men city isnt man   \n",
       "Lommy Greenhands                            lets look   \n",
       "Yoren                                 youre arry hear   \n",
       "Shae               said dont bring shae kings landing   \n",
       "\n",
       "                                                  3   \\\n",
       "Joffrey Baratheon                               good   \n",
       "Petyr Baelish                         l picture gash   \n",
       "Lommy Greenhands                                take   \n",
       "Yoren              youve long way travel bad company   \n",
       "Shae                                         ashamed   \n",
       "\n",
       "                                                                  4   \\\n",
       "Joffrey Baratheon                     ser llyn better carry sentence   \n",
       "Petyr Baelish      must strange even years man another land despi...   \n",
       "Lommy Greenhands                                                look   \n",
       "Yoren                                         come sorry sons whores   \n",
       "Shae                                                        im funny   \n",
       "\n",
       "                                                    5   \\\n",
       "Joffrey Baratheon                          lm done day   \n",
       "Petyr Baelish      carry whispering one kings ear next   \n",
       "Lommy Greenhands                                  None   \n",
       "Yoren                                             None   \n",
       "Shae                                              None   \n",
       "\n",
       "                                                 6              7   \\\n",
       "Joffrey Baratheon                   look quite nice          grace   \n",
       "Petyr Baelish      useful talent lm sure youd agree  playing roles   \n",
       "Lommy Greenhands                               None           None   \n",
       "Yoren                                          None           None   \n",
       "Shae                                           None           None   \n",
       "\n",
       "                               8                             9            10  \\\n",
       "Joffrey Baratheon            walk  soon youve blood lll put son  ones father   \n",
       "Petyr Baelish      long may reign                          None         None   \n",
       "Lommy Greenhands             None                          None         None   \n",
       "Yoren                        None                          None         None   \n",
       "Shae                         None                          None         None   \n",
       "\n",
       "                     11    12            13    14     15    16    17  \n",
       "Joffrey Baratheon     l  well  long pleases  obey  lords  None  None  \n",
       "Petyr Baelish      None  None          None  None   None  None  None  \n",
       "Lommy Greenhands   None  None          None  None   None  None  None  \n",
       "Yoren              None  None          None  None   None  None  None  \n",
       "Shae               None  None          None  None   None  None  None  "
      ]
     },
     "execution_count": 208,
     "metadata": {},
     "output_type": "execute_result"
    }
   ],
   "source": [
    "episode_ten.head()"
   ]
  },
  {
   "cell_type": "markdown",
   "metadata": {},
   "source": [
    "## Season One"
   ]
  },
  {
   "cell_type": "code",
   "execution_count": 209,
   "metadata": {
    "collapsed": true
   },
   "outputs": [],
   "source": [
    "episode_one = episode_one.reset_index()"
   ]
  },
  {
   "cell_type": "code",
   "execution_count": 210,
   "metadata": {
    "collapsed": true
   },
   "outputs": [],
   "source": [
    "episode_one_dict = {'Khal Drogo':'Khal Drogo', \n",
    "                  'Ned':'Eddard Stark', \n",
    "                  'Tyrion':'Tyrion Lannister', \n",
    "                  'Jaime':'Jaime Lannister', \n",
    "                  'Illyrio':'Illyrio', \n",
    "                  'Viserys':'Viserys Targaryen', \n",
    "                  'Robert':'Robert Baratheon', \n",
    "                  'Daenerys':'Daenerys Targaryen', \n",
    "                  'Ros':'Ros', \n",
    "                  'Septa Mordane':'Septa Mordane', \n",
    "                  'Jon':'Jon Snow', \n",
    "                  'Benjen':'Benjen Stark',\n",
    "                  'Luwin':'Maester Luwin', \n",
    "                  'Theon':'Theon Greyjoy', \n",
    "                  'Jon/Robb':'Jon/Robb', \n",
    "                  'Cersei':'Cersei Baratheon', \n",
    "                  'The Hound':'Sandor Clegane', \n",
    "                  'Sansa':'Sansa Stark',\n",
    "                  'Jorah':'Jorah Mormont', \n",
    "                  'Gared':'Gared', \n",
    "                  'Robb':'Robb Stark', \n",
    "                  'Will':'Will', \n",
    "                  'Cassel':'Rodrick Cassel', \n",
    "                  'Catelyn':'Catelyn Stark', \n",
    "                  'Arya':'Arya Stark',\n",
    "                  'Bran':'Bran Stark', \n",
    "                  'Royce':'Royce'}\n",
    "\n",
    "episode_one['index']=episode_one['index'].replace(episode_one_dict)"
   ]
  },
  {
   "cell_type": "code",
   "execution_count": 211,
   "metadata": {},
   "outputs": [
    {
     "data": {
      "text/html": [
       "<div>\n",
       "<table border=\"1\" class=\"dataframe\">\n",
       "  <thead>\n",
       "    <tr style=\"text-align: right;\">\n",
       "      <th></th>\n",
       "      <th>0</th>\n",
       "      <th>1</th>\n",
       "      <th>2</th>\n",
       "      <th>3</th>\n",
       "      <th>4</th>\n",
       "      <th>5</th>\n",
       "      <th>6</th>\n",
       "      <th>7</th>\n",
       "      <th>8</th>\n",
       "      <th>9</th>\n",
       "      <th>10</th>\n",
       "      <th>11</th>\n",
       "      <th>12</th>\n",
       "      <th>13</th>\n",
       "      <th>14</th>\n",
       "      <th>15</th>\n",
       "      <th>16</th>\n",
       "      <th>17</th>\n",
       "      <th>18</th>\n",
       "      <th>19</th>\n",
       "      <th>20</th>\n",
       "      <th>21</th>\n",
       "      <th>22</th>\n",
       "      <th>23</th>\n",
       "      <th>24</th>\n",
       "      <th>25</th>\n",
       "      <th>26</th>\n",
       "      <th>27</th>\n",
       "      <th>28</th>\n",
       "      <th>29</th>\n",
       "      <th>30</th>\n",
       "      <th>31</th>\n",
       "      <th>32</th>\n",
       "    </tr>\n",
       "    <tr>\n",
       "      <th>index</th>\n",
       "      <th></th>\n",
       "      <th></th>\n",
       "      <th></th>\n",
       "      <th></th>\n",
       "      <th></th>\n",
       "      <th></th>\n",
       "      <th></th>\n",
       "      <th></th>\n",
       "      <th></th>\n",
       "      <th></th>\n",
       "      <th></th>\n",
       "      <th></th>\n",
       "      <th></th>\n",
       "      <th></th>\n",
       "      <th></th>\n",
       "      <th></th>\n",
       "      <th></th>\n",
       "      <th></th>\n",
       "      <th></th>\n",
       "      <th></th>\n",
       "      <th></th>\n",
       "      <th></th>\n",
       "      <th></th>\n",
       "      <th></th>\n",
       "      <th></th>\n",
       "      <th></th>\n",
       "      <th></th>\n",
       "      <th></th>\n",
       "      <th></th>\n",
       "      <th></th>\n",
       "      <th></th>\n",
       "      <th></th>\n",
       "      <th></th>\n",
       "    </tr>\n",
       "  </thead>\n",
       "  <tbody>\n",
       "    <tr>\n",
       "      <th>Khal Drogo</th>\n",
       "      <td></td>\n",
       "      <td></td>\n",
       "      <td></td>\n",
       "      <td>None</td>\n",
       "      <td>None</td>\n",
       "      <td>None</td>\n",
       "      <td>None</td>\n",
       "      <td>None</td>\n",
       "      <td>None</td>\n",
       "      <td>None</td>\n",
       "      <td>None</td>\n",
       "      <td>None</td>\n",
       "      <td>None</td>\n",
       "      <td>None</td>\n",
       "      <td>None</td>\n",
       "      <td>None</td>\n",
       "      <td>None</td>\n",
       "      <td>None</td>\n",
       "      <td>None</td>\n",
       "      <td>None</td>\n",
       "      <td>None</td>\n",
       "      <td>None</td>\n",
       "      <td>None</td>\n",
       "      <td>None</td>\n",
       "      <td>None</td>\n",
       "      <td>None</td>\n",
       "      <td>None</td>\n",
       "      <td>None</td>\n",
       "      <td>None</td>\n",
       "      <td>None</td>\n",
       "      <td>None</td>\n",
       "      <td>None</td>\n",
       "      <td>None</td>\n",
       "    </tr>\n",
       "    <tr>\n",
       "      <th>Eddard Stark</th>\n",
       "      <td>one marksman ten</td>\n",
       "      <td>name robert house baratheon first name jon bran</td>\n",
       "      <td>king andals first men jon</td>\n",
       "      <td>lord seven kingdoms protector realm eddard hou...</td>\n",
       "      <td>white walkers gone thousands years</td>\n",
       "      <td>madman sees sees</td>\n",
       "      <td>mountain lions woods</td>\n",
       "      <td>tough old beast</td>\n",
       "      <td>im sorry bran</td>\n",
       "      <td>train</td>\n",
       "      <td>hey hey hey hey</td>\n",
       "      <td>guarding north grace</td>\n",
       "      <td>queen</td>\n",
       "      <td>tell jon arryn</td>\n",
       "      <td></td>\n",
       "      <td>aye</td>\n",
       "      <td>im worthy honor</td>\n",
       "      <td>sister</td>\n",
       "      <td>boy beheaded</td>\n",
       "      <td>talking madness</td>\n",
       "      <td>wildling ambush</td>\n",
       "      <td>pardon</td>\n",
       "      <td>yes king honored offer</td>\n",
       "      <td>dont fight tournaments</td>\n",
       "      <td>dont fight tournaments fight man real dont wan...</td>\n",
       "      <td>im northman</td>\n",
       "      <td>king takes wants</td>\n",
       "      <td>send</td>\n",
       "      <td>stay</td>\n",
       "      <td>news</td>\n",
       "      <td>shes fresh widowed cat</td>\n",
       "      <td>im still better</td>\n",
       "      <td>hope ill serve well</td>\n",
       "    </tr>\n",
       "    <tr>\n",
       "      <th>Tyrion Lannister</th>\n",
       "      <td>mmh</td>\n",
       "      <td>hear something</td>\n",
       "      <td>brother</td>\n",
       "      <td>theres pretty one</td>\n",
       "      <td>hear hates nickname</td>\n",
       "      <td>clever girl</td>\n",
       "      <td>gods gave one blessing</td>\n",
       "      <td>explain meaning closed door whorehouse brother</td>\n",
       "      <td>jaime</td>\n",
       "      <td>close door</td>\n",
       "      <td>uncles nights watch</td>\n",
       "      <td>offend</td>\n",
       "      <td>lady stark mother</td>\n",
       "      <td>dwarves bastards fathers eyes</td>\n",
       "      <td>get without squirting one end miracle</td>\n",
       "      <td>greatest land</td>\n",
       "      <td>None</td>\n",
       "      <td>None</td>\n",
       "      <td>None</td>\n",
       "      <td>None</td>\n",
       "      <td>None</td>\n",
       "      <td>None</td>\n",
       "      <td>None</td>\n",
       "      <td>None</td>\n",
       "      <td>None</td>\n",
       "      <td>None</td>\n",
       "      <td>None</td>\n",
       "      <td>None</td>\n",
       "      <td>None</td>\n",
       "      <td>None</td>\n",
       "      <td>None</td>\n",
       "      <td>None</td>\n",
       "      <td>None</td>\n",
       "    </tr>\n",
       "    <tr>\n",
       "      <th>Jaime Lannister</th>\n",
       "      <td>brother feel duty warn</td>\n",
       "      <td>cersei</td>\n",
       "      <td>told king heads would skewered city gates</td>\n",
       "      <td>thats honor without</td>\n",
       "      <td>dont get</td>\n",
       "      <td>hear might neighbors soon</td>\n",
       "      <td>im sure well tournament celebrate new title ac...</td>\n",
       "      <td></td>\n",
       "      <td>well said</td>\n",
       "      <td>completely mad</td>\n",
       "      <td>right</td>\n",
       "      <td>heard first time</td>\n",
       "      <td>ten</td>\n",
       "      <td>things love</td>\n",
       "      <td>None</td>\n",
       "      <td>None</td>\n",
       "      <td>None</td>\n",
       "      <td>None</td>\n",
       "      <td>None</td>\n",
       "      <td>None</td>\n",
       "      <td>None</td>\n",
       "      <td>None</td>\n",
       "      <td>None</td>\n",
       "      <td>None</td>\n",
       "      <td>None</td>\n",
       "      <td>None</td>\n",
       "      <td>None</td>\n",
       "      <td>None</td>\n",
       "      <td>None</td>\n",
       "      <td>None</td>\n",
       "      <td>None</td>\n",
       "      <td>None</td>\n",
       "      <td>None</td>\n",
       "    </tr>\n",
       "    <tr>\n",
       "      <th>Illyrio</th>\n",
       "      <td>greets dothraki</td>\n",
       "      <td>come forward dear</td>\n",
       "      <td>ceremony</td>\n",
       "      <td>trust grace</td>\n",
       "      <td>wont long</td>\n",
       "      <td>soon</td>\n",
       "      <td>wouldnt ask khal drogo</td>\n",
       "      <td>khal drogo promised crown shall</td>\n",
       "      <td>omens favor war</td>\n",
       "      <td>dothraki wedding without least three deaths co...</td>\n",
       "      <td>dragons eggs daenerys</td>\n",
       "      <td>None</td>\n",
       "      <td>None</td>\n",
       "      <td>None</td>\n",
       "      <td>None</td>\n",
       "      <td>None</td>\n",
       "      <td>None</td>\n",
       "      <td>None</td>\n",
       "      <td>None</td>\n",
       "      <td>None</td>\n",
       "      <td>None</td>\n",
       "      <td>None</td>\n",
       "      <td>None</td>\n",
       "      <td>None</td>\n",
       "      <td>None</td>\n",
       "      <td>None</td>\n",
       "      <td>None</td>\n",
       "      <td>None</td>\n",
       "      <td>None</td>\n",
       "      <td>None</td>\n",
       "      <td>None</td>\n",
       "      <td>None</td>\n",
       "      <td>None</td>\n",
       "    </tr>\n",
       "  </tbody>\n",
       "</table>\n",
       "</div>"
      ],
      "text/plain": [
       "                                      0   \\\n",
       "index                                      \n",
       "Khal Drogo                                 \n",
       "Eddard Stark            one marksman ten   \n",
       "Tyrion Lannister                     mmh   \n",
       "Jaime Lannister   brother feel duty warn   \n",
       "Illyrio                  greets dothraki   \n",
       "\n",
       "                                                               1   \\\n",
       "index                                                               \n",
       "Khal Drogo                                                          \n",
       "Eddard Stark      name robert house baratheon first name jon bran   \n",
       "Tyrion Lannister                                   hear something   \n",
       "Jaime Lannister                                            cersei   \n",
       "Illyrio                                         come forward dear   \n",
       "\n",
       "                                                         2   \\\n",
       "index                                                         \n",
       "Khal Drogo                                                    \n",
       "Eddard Stark                      king andals first men jon   \n",
       "Tyrion Lannister                                    brother   \n",
       "Jaime Lannister   told king heads would skewered city gates   \n",
       "Illyrio                                            ceremony   \n",
       "\n",
       "                                                                 3   \\\n",
       "index                                                                 \n",
       "Khal Drogo                                                     None   \n",
       "Eddard Stark      lord seven kingdoms protector realm eddard hou...   \n",
       "Tyrion Lannister                                  theres pretty one   \n",
       "Jaime Lannister                                 thats honor without   \n",
       "Illyrio                                                 trust grace   \n",
       "\n",
       "                                                  4   \\\n",
       "index                                                  \n",
       "Khal Drogo                                      None   \n",
       "Eddard Stark      white walkers gone thousands years   \n",
       "Tyrion Lannister                 hear hates nickname   \n",
       "Jaime Lannister                             dont get   \n",
       "Illyrio                                    wont long   \n",
       "\n",
       "                                         5   \\\n",
       "index                                         \n",
       "Khal Drogo                             None   \n",
       "Eddard Stark               madman sees sees   \n",
       "Tyrion Lannister                clever girl   \n",
       "Jaime Lannister   hear might neighbors soon   \n",
       "Illyrio                                soon   \n",
       "\n",
       "                                                                 6   \\\n",
       "index                                                                 \n",
       "Khal Drogo                                                     None   \n",
       "Eddard Stark                                   mountain lions woods   \n",
       "Tyrion Lannister                             gods gave one blessing   \n",
       "Jaime Lannister   im sure well tournament celebrate new title ac...   \n",
       "Illyrio                                      wouldnt ask khal drogo   \n",
       "\n",
       "                                                              7   \\\n",
       "index                                                              \n",
       "Khal Drogo                                                  None   \n",
       "Eddard Stark                                     tough old beast   \n",
       "Tyrion Lannister  explain meaning closed door whorehouse brother   \n",
       "Jaime Lannister                                                    \n",
       "Illyrio                          khal drogo promised crown shall   \n",
       "\n",
       "                               8   \\\n",
       "index                               \n",
       "Khal Drogo                   None   \n",
       "Eddard Stark        im sorry bran   \n",
       "Tyrion Lannister            jaime   \n",
       "Jaime Lannister         well said   \n",
       "Illyrio           omens favor war   \n",
       "\n",
       "                                                                 9   \\\n",
       "index                                                                 \n",
       "Khal Drogo                                                     None   \n",
       "Eddard Stark                                                  train   \n",
       "Tyrion Lannister                                         close door   \n",
       "Jaime Lannister                                      completely mad   \n",
       "Illyrio           dothraki wedding without least three deaths co...   \n",
       "\n",
       "                                     10                    11  \\\n",
       "index                                                           \n",
       "Khal Drogo                         None                  None   \n",
       "Eddard Stark            hey hey hey hey  guarding north grace   \n",
       "Tyrion Lannister    uncles nights watch                offend   \n",
       "Jaime Lannister                   right      heard first time   \n",
       "Illyrio           dragons eggs daenerys                  None   \n",
       "\n",
       "                                 12                             13  \\\n",
       "index                                                                \n",
       "Khal Drogo                     None                           None   \n",
       "Eddard Stark                  queen                 tell jon arryn   \n",
       "Tyrion Lannister  lady stark mother  dwarves bastards fathers eyes   \n",
       "Jaime Lannister                 ten                    things love   \n",
       "Illyrio                        None                           None   \n",
       "\n",
       "                                                     14             15  \\\n",
       "index                                                                    \n",
       "Khal Drogo                                         None           None   \n",
       "Eddard Stark                                                       aye   \n",
       "Tyrion Lannister  get without squirting one end miracle  greatest land   \n",
       "Jaime Lannister                                    None           None   \n",
       "Illyrio                                            None           None   \n",
       "\n",
       "                               16      17            18               19  \\\n",
       "index                                                                      \n",
       "Khal Drogo                   None    None          None             None   \n",
       "Eddard Stark      im worthy honor  sister  boy beheaded  talking madness   \n",
       "Tyrion Lannister             None    None          None             None   \n",
       "Jaime Lannister              None    None          None             None   \n",
       "Illyrio                      None    None          None             None   \n",
       "\n",
       "                               20      21                      22  \\\n",
       "index                                                               \n",
       "Khal Drogo                   None    None                    None   \n",
       "Eddard Stark      wildling ambush  pardon  yes king honored offer   \n",
       "Tyrion Lannister             None    None                    None   \n",
       "Jaime Lannister              None    None                    None   \n",
       "Illyrio                      None    None                    None   \n",
       "\n",
       "                                      23  \\\n",
       "index                                      \n",
       "Khal Drogo                          None   \n",
       "Eddard Stark      dont fight tournaments   \n",
       "Tyrion Lannister                    None   \n",
       "Jaime Lannister                     None   \n",
       "Illyrio                             None   \n",
       "\n",
       "                                                                 24  \\\n",
       "index                                                                 \n",
       "Khal Drogo                                                     None   \n",
       "Eddard Stark      dont fight tournaments fight man real dont wan...   \n",
       "Tyrion Lannister                                               None   \n",
       "Jaime Lannister                                                None   \n",
       "Illyrio                                                        None   \n",
       "\n",
       "                           25                26    27    28    29  \\\n",
       "index                                                               \n",
       "Khal Drogo               None              None  None  None  None   \n",
       "Eddard Stark      im northman  king takes wants  send  stay  news   \n",
       "Tyrion Lannister         None              None  None  None  None   \n",
       "Jaime Lannister          None              None  None  None  None   \n",
       "Illyrio                  None              None  None  None  None   \n",
       "\n",
       "                                      30               31                   32  \n",
       "index                                                                           \n",
       "Khal Drogo                          None             None                 None  \n",
       "Eddard Stark      shes fresh widowed cat  im still better  hope ill serve well  \n",
       "Tyrion Lannister                    None             None                 None  \n",
       "Jaime Lannister                     None             None                 None  \n",
       "Illyrio                             None             None                 None  "
      ]
     },
     "execution_count": 211,
     "metadata": {},
     "output_type": "execute_result"
    }
   ],
   "source": [
    "episode_one = episode_one.set_index('index')\n",
    "episode_one.head()"
   ]
  },
  {
   "cell_type": "code",
   "execution_count": 212,
   "metadata": {
    "scrolled": false
   },
   "outputs": [
    {
     "name": "stdout",
     "output_type": "stream",
     "text": [
      "(27, 33)\n",
      "(27, 30)\n"
     ]
    }
   ],
   "source": [
    "print episode_one.shape\n",
    "print episode_two.shape"
   ]
  },
  {
   "cell_type": "code",
   "execution_count": 213,
   "metadata": {},
   "outputs": [
    {
     "data": {
      "text/plain": [
       "Index([u'Joffrey Baratheon', u'Cersei Baratheon', u'Robert Baratheon',\n",
       "       u'Eddard Stark', u'Jaime Lannister', u'Jhiqui', u'Theon Greyjoy',\n",
       "       u'Mycah', u'Irri', u'Arya Stark', u'Tyrion Lannister', u'Catelyn Stark',\n",
       "       u'Soldier', u'Viserys Targaryen', u'Doreah', u'Assassin', u'Soldier 2',\n",
       "       u'Soldier 1', u'Rodrick Cassel', u'Daenerys Targaryen',\n",
       "       u'Jorah Mormont', u'Maester Luwin', u'Robb Stark',\n",
       "       u'Myrcella Baratheon', u'Jory Cassel', u'Sandor Clegane', u'Jon Snow'],\n",
       "      dtype='object')"
      ]
     },
     "execution_count": 213,
     "metadata": {},
     "output_type": "execute_result"
    }
   ],
   "source": [
    "episode_two.index"
   ]
  },
  {
   "cell_type": "code",
   "execution_count": 214,
   "metadata": {},
   "outputs": [
    {
     "name": "stdout",
     "output_type": "stream",
     "text": [
      "(38, 63)\n"
     ]
    }
   ],
   "source": [
    "season_one = episode_one.join(episode_two, rsuffix=\"_two\", how='outer')\n",
    "print season_one.shape"
   ]
  },
  {
   "cell_type": "code",
   "execution_count": 215,
   "metadata": {},
   "outputs": [],
   "source": [
    "#season_one.head()"
   ]
  },
  {
   "cell_type": "code",
   "execution_count": 216,
   "metadata": {
    "scrolled": true
   },
   "outputs": [],
   "source": [
    "#season_one.index"
   ]
  },
  {
   "cell_type": "code",
   "execution_count": 217,
   "metadata": {
    "scrolled": true
   },
   "outputs": [
    {
     "data": {
      "text/plain": [
       "(37, 37)"
      ]
     },
     "execution_count": 217,
     "metadata": {},
     "output_type": "execute_result"
    }
   ],
   "source": [
    "episode_three.shape"
   ]
  },
  {
   "cell_type": "code",
   "execution_count": 219,
   "metadata": {
    "scrolled": true
   },
   "outputs": [
    {
     "data": {
      "text/plain": [
       "Index([u'Joffrey Baratheon', u'Benjen Stark', u'Petyr Baelish',\n",
       "       u'Cersei Baratheon', u'Robert Baratheon', u'Khal Drogo', u'Rast',\n",
       "       u'Yoren', u'Maester Aemon', u'Tyrion Lannister', u'Pyp',\n",
       "       u'Eddard Stark', u'Bran Stark', u'Irri', u'Arya Stark',\n",
       "       u'Jaime Lannister', u'Septa Mordane', u'Old Nan', u'Jeor Mormont',\n",
       "       u'Alliser Thorne', u'Catelyn Stark', u'Varys', u'Viserys Targaryen',\n",
       "       u'Sansa Stark', u'Rakharo', u'Barristan Selmy', u'Rodrick Cassel',\n",
       "       u'Daenerys Targaryen', u'Lancel Lannister', u'Jorah Mormont', u'Grenn',\n",
       "       u'Guard', u'Robb Stark', u'Renly Baratheon', u'Syrio Forel',\n",
       "       u'Jory Cassel', u'Jon Snow'],\n",
       "      dtype='object')"
      ]
     },
     "execution_count": 219,
     "metadata": {},
     "output_type": "execute_result"
    }
   ],
   "source": [
    "episode_three.index"
   ]
  },
  {
   "cell_type": "code",
   "execution_count": 220,
   "metadata": {},
   "outputs": [
    {
     "data": {
      "text/plain": [
       "(54, 100)"
      ]
     },
     "execution_count": 220,
     "metadata": {},
     "output_type": "execute_result"
    }
   ],
   "source": [
    "season_one = season_one.join(episode_three, rsuffix=\"_three\", how='outer')\n",
    "season_one.shape"
   ]
  },
  {
   "cell_type": "code",
   "execution_count": 221,
   "metadata": {},
   "outputs": [],
   "source": [
    "#season_one.index"
   ]
  },
  {
   "cell_type": "code",
   "execution_count": 222,
   "metadata": {},
   "outputs": [
    {
     "data": {
      "text/plain": [
       "(36, 45)"
      ]
     },
     "execution_count": 222,
     "metadata": {},
     "output_type": "execute_result"
    }
   ],
   "source": [
    "episode_four.shape"
   ]
  },
  {
   "cell_type": "code",
   "execution_count": 223,
   "metadata": {
    "scrolled": true
   },
   "outputs": [
    {
     "data": {
      "text/plain": [
       "Index([u'Petyr Baelish', u'Yoren', u'Cersei Baratheon', u'Robert Baratheon',\n",
       "       u'Rast', u'Janos Slynt', u'Tyrion Lannister', u'Samwell Tarly', u'Pyp',\n",
       "       u'Theon Greyjoy', u'Eddard Stark', u'Bran Stark', u'Irri',\n",
       "       u'Arya Stark', u'Jaime Lannister', u'Septa Mordane', u'Tobho Mott',\n",
       "       u'Gendry', u'Marillion', u'Alliser Thorne', u'Catelyn Stark', u'Varys',\n",
       "       u'Bronn', u'Viserys Targaryen', u'Doreah', u'Sansa Stark',\n",
       "       u'Rodrick Cassel', u'Daenerys Targaryen', u'Jorah Mormont', u'Grenn',\n",
       "       u'Maester Luwin', u'Robb Stark', u'Renly Baratheon', u'Masha Heddle',\n",
       "       u'Jory Cassel', u'Jon Snow'],\n",
       "      dtype='object')"
      ]
     },
     "execution_count": 223,
     "metadata": {},
     "output_type": "execute_result"
    }
   ],
   "source": [
    "episode_four.index"
   ]
  },
  {
   "cell_type": "code",
   "execution_count": 224,
   "metadata": {},
   "outputs": [
    {
     "data": {
      "text/plain": [
       "(61, 145)"
      ]
     },
     "execution_count": 224,
     "metadata": {},
     "output_type": "execute_result"
    }
   ],
   "source": [
    "season_one = season_one.join(episode_four, rsuffix=\"_four\", how='outer')\n",
    "season_one.shape"
   ]
  },
  {
   "cell_type": "code",
   "execution_count": 225,
   "metadata": {},
   "outputs": [],
   "source": [
    "#season_one.index"
   ]
  },
  {
   "cell_type": "code",
   "execution_count": 226,
   "metadata": {
    "scrolled": true
   },
   "outputs": [
    {
     "data": {
      "text/plain": [
       "Index([u'Petyr Baelish', u'Cersei Baratheon', u'Robert Baratheon',\n",
       "       u'Illyrio Mopatis', u'Robin Arryn', u'Yoren', u'Mord',\n",
       "       u'Tyrion Lannister', u'Theon Greyjoy', u'Vardis Egen', u'Mhaegen',\n",
       "       u'Eddard Stark', u'Bran Stark', u'Lysa Arryn', u'Arya Stark',\n",
       "       u'Jaime Lannister', u'Catelyn Stark', u'Marillion', u'Bronn',\n",
       "       u'Steward', u'Rodrik Cassel', u'Varys', u'Sansa Stark',\n",
       "       u'Barristan Selmy', u'Lancel Lannister', u'Loras Tyrell',\n",
       "       u'Maester Luwin', u'Renly Baratheon', u'Guard 1', u'Guard 2', u'Ros',\n",
       "       u'Jory Cassel'],\n",
       "      dtype='object')"
      ]
     },
     "execution_count": 226,
     "metadata": {},
     "output_type": "execute_result"
    }
   ],
   "source": [
    "episode_five.index"
   ]
  },
  {
   "cell_type": "code",
   "execution_count": 227,
   "metadata": {},
   "outputs": [
    {
     "data": {
      "text/plain": [
       "(32, 61)"
      ]
     },
     "execution_count": 227,
     "metadata": {},
     "output_type": "execute_result"
    }
   ],
   "source": [
    "episode_five.shape"
   ]
  },
  {
   "cell_type": "code",
   "execution_count": 228,
   "metadata": {},
   "outputs": [
    {
     "data": {
      "text/plain": [
       "(72, 206)"
      ]
     },
     "execution_count": 228,
     "metadata": {},
     "output_type": "execute_result"
    }
   ],
   "source": [
    "season_one = season_one.join(episode_five, rsuffix=\"_five\", how='outer')\n",
    "season_one.shape"
   ]
  },
  {
   "cell_type": "code",
   "execution_count": 229,
   "metadata": {
    "scrolled": true
   },
   "outputs": [
    {
     "data": {
      "text/plain": [
       "Index([u'Joffrey Baratheon', u'Petyr Baelish', u'Cersei Baratheon',\n",
       "       u'Robert Baratheon', u'Khal Drogo', u'Robin Arryn', u'Sansa Stark',\n",
       "       u'Eddard Stark', u'Mord', u'Tyrion Lannister', u'Wildling',\n",
       "       u'Theon Greyjoy', u'Ser Vardis', u'Osha', u'Bran Stark', u'Irri',\n",
       "       u'Lysa Arryn', u'Arya Stark', u'Man', u'Mordane', u'Catelyn Stark',\n",
       "       u'Viserys Targaryen', u'Knight 5', u'Knight 4', u'Knight 3',\n",
       "       u'Knight 2', u'Knight 1', u'Barristan Selmy', u'Ros',\n",
       "       u'Daenerys Targaryen', u'Jorah Mormont', u'Beric Dondarrion',\n",
       "       u'Robb Stark', u'Renly Baratheon', u'Wildling 2', u'Syrio Forel'],\n",
       "      dtype='object')"
      ]
     },
     "execution_count": 229,
     "metadata": {},
     "output_type": "execute_result"
    }
   ],
   "source": [
    "episode_six.index"
   ]
  },
  {
   "cell_type": "code",
   "execution_count": 230,
   "metadata": {},
   "outputs": [
    {
     "data": {
      "text/plain": [
       "(36, 22)"
      ]
     },
     "execution_count": 230,
     "metadata": {},
     "output_type": "execute_result"
    }
   ],
   "source": [
    "episode_six.shape"
   ]
  },
  {
   "cell_type": "code",
   "execution_count": 231,
   "metadata": {},
   "outputs": [
    {
     "data": {
      "text/plain": [
       "(84, 228)"
      ]
     },
     "execution_count": 231,
     "metadata": {},
     "output_type": "execute_result"
    }
   ],
   "source": [
    "season_one = season_one.join(episode_six, rsuffix=\"_six\", how='outer')\n",
    "season_one.shape"
   ]
  },
  {
   "cell_type": "code",
   "execution_count": 232,
   "metadata": {
    "scrolled": false
   },
   "outputs": [
    {
     "data": {
      "text/plain": [
       "Index([u'Barristan Selmy', u'Petyr Baelish', u'Samwell Tarly', u'Ned Stark',\n",
       "       u'Wine Merchant', u'Theon Greyjoy', u'Renly Baratheon',\n",
       "       u'Tywin Lannister', u'Rakharo', u'Cersei Lannister', u'Osha',\n",
       "       u'Khal Drogo', u'Jorah Mormont', u'Maester Luwin',\n",
       "       u'Daenerys Stormborn', u'Doreah', u'Ros', u'Lord Varys',\n",
       "       u'Robert Baratheon', u'Jon Snow', u'Jaime Lannister'],\n",
       "      dtype='object')"
      ]
     },
     "execution_count": 232,
     "metadata": {},
     "output_type": "execute_result"
    }
   ],
   "source": [
    "episode_seven.index"
   ]
  },
  {
   "cell_type": "code",
   "execution_count": 233,
   "metadata": {
    "collapsed": true
   },
   "outputs": [],
   "source": [
    "episode_seven = episode_seven.reset_index()"
   ]
  },
  {
   "cell_type": "code",
   "execution_count": 234,
   "metadata": {
    "collapsed": true
   },
   "outputs": [],
   "source": [
    "episode_seven_dict = {'Barristan Selmy':'Barristan Selmy',\n",
    "                      'Petyr Baelish':'Petyr Baelish',\n",
    "                      'Samwell Tarly':'Samwell Tarly',\n",
    "                      'Ned Stark':'Eddard Stark',\n",
    "                      'Wine Merchant':'Wine Merchant',\n",
    "                      'Theon Greyjoy':'Theon Greyjoy',\n",
    "                      'Renly Baratheon':'Renly Baratheon',\n",
    "                      'Tywin Lannister':'Tywin Lannister',\n",
    "                      'Rakharo':'Rakharo',\n",
    "                      'Cersei Lannister':'Cersei Baratheon',\n",
    "                      'Osha':'Osha',\n",
    "                      'Khal Drogo':'Khal Drogo',\n",
    "                      'Jorah Mormont':'Jorah Mormont',\n",
    "                      'Maester Luwin':'Maester Luwin',\n",
    "                      'Daenerys Stormborn':'Daenerys Targaryen',\n",
    "                      'Doreah':'Doreah',\n",
    "                      'Ros':'Ros',\n",
    "                      'Lord Varys':'Varys',\n",
    "                      'Robert Baratheon':'Robert Baratheon',\n",
    "                      'Jon Snow':'Jon Snow',\n",
    "                      'Jaime Lannister':'Jaime Lannister'}\n",
    "\n",
    "episode_seven['index'] = episode_seven['index'].replace(episode_seven_dict)"
   ]
  },
  {
   "cell_type": "code",
   "execution_count": 235,
   "metadata": {},
   "outputs": [
    {
     "data": {
      "text/html": [
       "<div>\n",
       "<table border=\"1\" class=\"dataframe\">\n",
       "  <thead>\n",
       "    <tr style=\"text-align: right;\">\n",
       "      <th></th>\n",
       "      <th>0</th>\n",
       "      <th>1</th>\n",
       "      <th>2</th>\n",
       "      <th>3</th>\n",
       "      <th>4</th>\n",
       "      <th>5</th>\n",
       "      <th>6</th>\n",
       "      <th>7</th>\n",
       "      <th>8</th>\n",
       "      <th>9</th>\n",
       "      <th>10</th>\n",
       "      <th>11</th>\n",
       "      <th>12</th>\n",
       "      <th>13</th>\n",
       "      <th>14</th>\n",
       "      <th>15</th>\n",
       "      <th>16</th>\n",
       "      <th>17</th>\n",
       "      <th>18</th>\n",
       "      <th>19</th>\n",
       "    </tr>\n",
       "    <tr>\n",
       "      <th>index</th>\n",
       "      <th></th>\n",
       "      <th></th>\n",
       "      <th></th>\n",
       "      <th></th>\n",
       "      <th></th>\n",
       "      <th></th>\n",
       "      <th></th>\n",
       "      <th></th>\n",
       "      <th></th>\n",
       "      <th></th>\n",
       "      <th></th>\n",
       "      <th></th>\n",
       "      <th></th>\n",
       "      <th></th>\n",
       "      <th></th>\n",
       "      <th></th>\n",
       "      <th></th>\n",
       "      <th></th>\n",
       "      <th></th>\n",
       "      <th></th>\n",
       "    </tr>\n",
       "  </thead>\n",
       "  <tbody>\n",
       "    <tr>\n",
       "      <th>Barristan Selmy</th>\n",
       "      <td>reeling wine</td>\n",
       "      <td>squire kings skin</td>\n",
       "      <td>None</td>\n",
       "      <td>None</td>\n",
       "      <td>None</td>\n",
       "      <td>None</td>\n",
       "      <td>None</td>\n",
       "      <td>None</td>\n",
       "      <td>None</td>\n",
       "      <td>None</td>\n",
       "      <td>None</td>\n",
       "      <td>None</td>\n",
       "      <td>None</td>\n",
       "      <td>None</td>\n",
       "      <td>None</td>\n",
       "      <td>None</td>\n",
       "      <td>None</td>\n",
       "      <td>None</td>\n",
       "      <td>None</td>\n",
       "      <td>None</td>\n",
       "    </tr>\n",
       "    <tr>\n",
       "      <th>Petyr Baelish</th>\n",
       "      <td></td>\n",
       "      <td>lets start shall</td>\n",
       "      <td>im saving another</td>\n",
       "      <td>stupid saying</td>\n",
       "      <td>really</td>\n",
       "      <td>many years</td>\n",
       "      <td>oh</td>\n",
       "      <td>oh everything dear</td>\n",
       "      <td>stannis war</td>\n",
       "      <td>call</td>\n",
       "      <td>look</td>\n",
       "      <td>None</td>\n",
       "      <td>None</td>\n",
       "      <td>None</td>\n",
       "      <td>None</td>\n",
       "      <td>None</td>\n",
       "      <td>None</td>\n",
       "      <td>None</td>\n",
       "      <td>None</td>\n",
       "      <td>None</td>\n",
       "    </tr>\n",
       "    <tr>\n",
       "      <th>Samwell Tarly</th>\n",
       "      <td>miss girls</td>\n",
       "      <td>one blast ranger returning two wildlings three...</td>\n",
       "      <td>None</td>\n",
       "      <td>None</td>\n",
       "      <td>None</td>\n",
       "      <td>None</td>\n",
       "      <td>None</td>\n",
       "      <td>None</td>\n",
       "      <td>None</td>\n",
       "      <td>None</td>\n",
       "      <td>None</td>\n",
       "      <td>None</td>\n",
       "      <td>None</td>\n",
       "      <td>None</td>\n",
       "      <td>None</td>\n",
       "      <td>None</td>\n",
       "      <td>None</td>\n",
       "      <td>None</td>\n",
       "      <td>None</td>\n",
       "      <td>None</td>\n",
       "    </tr>\n",
       "    <tr>\n",
       "      <th>Eddard Stark</th>\n",
       "      <td>ive worse lady</td>\n",
       "      <td>know truth jon arryn died</td>\n",
       "      <td>done</td>\n",
       "      <td>brother lover</td>\n",
       "      <td>son saw</td>\n",
       "      <td>heart</td>\n",
       "      <td>jaimes</td>\n",
       "      <td>youve always hated</td>\n",
       "      <td>king returns hunt ill tell truth</td>\n",
       "      <td>ive made many mistakes life wasnt one</td>\n",
       "      <td>damned fool</td>\n",
       "      <td></td>\n",
       "      <td>ill ill everything honor memory</td>\n",
       "      <td>give milk poppy</td>\n",
       "      <td>man could protected</td>\n",
       "      <td>squire</td>\n",
       "      <td>grace change heart concerning daenerys targaryen</td>\n",
       "      <td></td>\n",
       "      <td>choice</td>\n",
       "      <td>promised catelyn would help</td>\n",
       "    </tr>\n",
       "    <tr>\n",
       "      <th>Wine Merchant</th>\n",
       "      <td>virzetha gizikhven</td>\n",
       "      <td>daenerys stormborn</td>\n",
       "      <td>lady westeros</td>\n",
       "      <td>princess</td>\n",
       "      <td></td>\n",
       "      <td>honorthe honor mine</td>\n",
       "      <td>know many homeland pray return princess</td>\n",
       "      <td>wine khaleesi</td>\n",
       "      <td>would crime drink wine rich without least givi...</td>\n",
       "      <td>princess commands</td>\n",
       "      <td>sweet isnt</td>\n",
       "      <td></td>\n",
       "      <td>None</td>\n",
       "      <td>None</td>\n",
       "      <td>None</td>\n",
       "      <td>None</td>\n",
       "      <td>None</td>\n",
       "      <td>None</td>\n",
       "      <td>None</td>\n",
       "      <td>None</td>\n",
       "    </tr>\n",
       "  </tbody>\n",
       "</table>\n",
       "</div>"
      ],
      "text/plain": [
       "                                 0   \\\n",
       "index                                 \n",
       "Barristan Selmy        reeling wine   \n",
       "Petyr Baelish                         \n",
       "Samwell Tarly            miss girls   \n",
       "Eddard Stark         ive worse lady   \n",
       "Wine Merchant    virzetha gizikhven   \n",
       "\n",
       "                                                                1   \\\n",
       "index                                                                \n",
       "Barristan Selmy                                  squire kings skin   \n",
       "Petyr Baelish                                     lets start shall   \n",
       "Samwell Tarly    one blast ranger returning two wildlings three...   \n",
       "Eddard Stark                             know truth jon arryn died   \n",
       "Wine Merchant                                   daenerys stormborn   \n",
       "\n",
       "                                2              3        4   \\\n",
       "index                                                        \n",
       "Barristan Selmy               None           None     None   \n",
       "Petyr Baelish    im saving another  stupid saying   really   \n",
       "Samwell Tarly                 None           None     None   \n",
       "Eddard Stark                  done  brother lover  son saw   \n",
       "Wine Merchant        lady westeros       princess            \n",
       "\n",
       "                                  5                                        6   \\\n",
       "index                                                                           \n",
       "Barristan Selmy                 None                                     None   \n",
       "Petyr Baelish             many years                                       oh   \n",
       "Samwell Tarly                   None                                     None   \n",
       "Eddard Stark                   heart                                   jaimes   \n",
       "Wine Merchant    honorthe honor mine  know many homeland pray return princess   \n",
       "\n",
       "                                 7   \\\n",
       "index                                 \n",
       "Barristan Selmy                None   \n",
       "Petyr Baelish    oh everything dear   \n",
       "Samwell Tarly                  None   \n",
       "Eddard Stark     youve always hated   \n",
       "Wine Merchant         wine khaleesi   \n",
       "\n",
       "                                                                8   \\\n",
       "index                                                                \n",
       "Barristan Selmy                                               None   \n",
       "Petyr Baelish                                          stannis war   \n",
       "Samwell Tarly                                                 None   \n",
       "Eddard Stark                      king returns hunt ill tell truth   \n",
       "Wine Merchant    would crime drink wine rich without least givi...   \n",
       "\n",
       "                                                    9            10    11  \\\n",
       "index                                                                       \n",
       "Barristan Selmy                                   None         None  None   \n",
       "Petyr Baelish                                     call         look  None   \n",
       "Samwell Tarly                                     None         None  None   \n",
       "Eddard Stark     ive made many mistakes life wasnt one  damned fool         \n",
       "Wine Merchant                        princess commands   sweet isnt         \n",
       "\n",
       "                                              12               13  \\\n",
       "index                                                               \n",
       "Barristan Selmy                             None             None   \n",
       "Petyr Baelish                               None             None   \n",
       "Samwell Tarly                               None             None   \n",
       "Eddard Stark     ill ill everything honor memory  give milk poppy   \n",
       "Wine Merchant                               None             None   \n",
       "\n",
       "                                  14      15  \\\n",
       "index                                          \n",
       "Barristan Selmy                 None    None   \n",
       "Petyr Baelish                   None    None   \n",
       "Samwell Tarly                   None    None   \n",
       "Eddard Stark     man could protected  squire   \n",
       "Wine Merchant                   None    None   \n",
       "\n",
       "                                                               16    17  \\\n",
       "index                                                                     \n",
       "Barristan Selmy                                              None  None   \n",
       "Petyr Baelish                                                None  None   \n",
       "Samwell Tarly                                                None  None   \n",
       "Eddard Stark     grace change heart concerning daenerys targaryen         \n",
       "Wine Merchant                                                None  None   \n",
       "\n",
       "                     18                           19  \n",
       "index                                                 \n",
       "Barristan Selmy    None                         None  \n",
       "Petyr Baelish      None                         None  \n",
       "Samwell Tarly      None                         None  \n",
       "Eddard Stark     choice  promised catelyn would help  \n",
       "Wine Merchant      None                         None  "
      ]
     },
     "execution_count": 235,
     "metadata": {},
     "output_type": "execute_result"
    }
   ],
   "source": [
    "episode_seven = episode_seven.set_index('index')\n",
    "episode_seven.head()"
   ]
  },
  {
   "cell_type": "code",
   "execution_count": 236,
   "metadata": {},
   "outputs": [
    {
     "data": {
      "text/plain": [
       "(21, 20)"
      ]
     },
     "execution_count": 236,
     "metadata": {},
     "output_type": "execute_result"
    }
   ],
   "source": [
    "episode_seven.shape"
   ]
  },
  {
   "cell_type": "code",
   "execution_count": 237,
   "metadata": {
    "scrolled": true
   },
   "outputs": [
    {
     "data": {
      "text/plain": [
       "(86, 248)"
      ]
     },
     "execution_count": 237,
     "metadata": {},
     "output_type": "execute_result"
    }
   ],
   "source": [
    "season_one = season_one.join(episode_seven, rsuffix=\"_seven\", how='outer')\n",
    "season_one.shape"
   ]
  },
  {
   "cell_type": "code",
   "execution_count": 238,
   "metadata": {
    "scrolled": false
   },
   "outputs": [],
   "source": [
    "#season_one.index"
   ]
  },
  {
   "cell_type": "code",
   "execution_count": 239,
   "metadata": {
    "scrolled": true
   },
   "outputs": [
    {
     "data": {
      "text/plain": [
       "Index([u'King Joffrey', u'Petyr Baelish', u'Tyrion Lannister',\n",
       "       u'Samwell Tarly', u'Sandor Clegane', u'Tywin Lannister', u'Arya Stark',\n",
       "       u'Septa Mordane', u'Othell Yarwyck', u'Jeor Mormont', u'Ned Stark',\n",
       "       u'Stark guard', u'Catelyn Stark', u'Meryn Trant', u'Ser Alliser',\n",
       "       u'Sansa Stark', u'Shagga', u'Lord Varys', u'Barristan Selmy',\n",
       "       u'Stable Boy', u'Lannister scout', u'Greatjon Umber',\n",
       "       u'Cersei Lannister', u'Robb Stark', u'Kevan Lannister', u'Syrio Forel',\n",
       "       u'Theon Greyjoy', u'Jon Snow'],\n",
       "      dtype='object')"
      ]
     },
     "execution_count": 239,
     "metadata": {},
     "output_type": "execute_result"
    }
   ],
   "source": [
    "episode_eight.index"
   ]
  },
  {
   "cell_type": "code",
   "execution_count": 240,
   "metadata": {
    "collapsed": true
   },
   "outputs": [],
   "source": [
    "episode_eight = episode_eight.reset_index()"
   ]
  },
  {
   "cell_type": "code",
   "execution_count": 241,
   "metadata": {
    "collapsed": true
   },
   "outputs": [],
   "source": [
    "episode_eight_dict = {'King Joffrey':'Joffrey Baratheon',\n",
    "                      'Petyr Baelish':'Petyr Baelish',\n",
    "                      'Tyrion Lannister':'Tyrion Lannister',\n",
    "                      'Samwell Tarly':'Samwell Tarly',\n",
    "                      'Sandor Clegane':'Sandor Clegane',\n",
    "                      'Tywin Lannister':'Tywin Lannister',\n",
    "                      'Arya Stark':'Arya Stark',\n",
    "                      'Stark guard':'Stark Guard',\n",
    "                      'Catelyn Stark':'Catelyn Stark',\n",
    "                      'Meryn Trant':'Meryn Trant',\n",
    "                      'Ser Alliser':'Alliser Thorne',\n",
    "                      'Stable Boy':'Stable Boy',\n",
    "                      'Lannister scout':'Lannister Scout',\n",
    "                      'Greatjon Umber':'Greatjon Umber',\n",
    "                      'Cersei Lannister':'Cersei Baratheon',\n",
    "                      'Robb Stark':'Robb Stark',\n",
    "                      'Kevan Lannister':'Kevan Lannister',\n",
    "                      'Syrio Forel':'Syrio Forel',\n",
    "                      'Theon Greyjoy':'Theon Greyjoy',\n",
    "                      'Jon Snow':'Jon Snow'}\n",
    "\n",
    "episode_eight['index'] = episode_eight['index'].replace(episode_eight_dict)"
   ]
  },
  {
   "cell_type": "code",
   "execution_count": 242,
   "metadata": {},
   "outputs": [
    {
     "data": {
      "text/html": [
       "<div>\n",
       "<table border=\"1\" class=\"dataframe\">\n",
       "  <thead>\n",
       "    <tr style=\"text-align: right;\">\n",
       "      <th></th>\n",
       "      <th>0</th>\n",
       "      <th>1</th>\n",
       "      <th>2</th>\n",
       "      <th>3</th>\n",
       "      <th>4</th>\n",
       "      <th>5</th>\n",
       "      <th>6</th>\n",
       "      <th>7</th>\n",
       "      <th>8</th>\n",
       "      <th>9</th>\n",
       "      <th>10</th>\n",
       "      <th>11</th>\n",
       "      <th>12</th>\n",
       "      <th>13</th>\n",
       "      <th>14</th>\n",
       "      <th>15</th>\n",
       "      <th>16</th>\n",
       "    </tr>\n",
       "    <tr>\n",
       "      <th>index</th>\n",
       "      <th></th>\n",
       "      <th></th>\n",
       "      <th></th>\n",
       "      <th></th>\n",
       "      <th></th>\n",
       "      <th></th>\n",
       "      <th></th>\n",
       "      <th></th>\n",
       "      <th></th>\n",
       "      <th></th>\n",
       "      <th></th>\n",
       "      <th></th>\n",
       "      <th></th>\n",
       "      <th></th>\n",
       "      <th></th>\n",
       "      <th></th>\n",
       "      <th></th>\n",
       "    </tr>\n",
       "  </thead>\n",
       "  <tbody>\n",
       "    <tr>\n",
       "      <th>Joffrey Baratheon</th>\n",
       "      <td>let father die</td>\n",
       "      <td>come forward lady</td>\n",
       "      <td>said wasnt king</td>\n",
       "      <td>anything else</td>\n",
       "      <td>sweet words moved</td>\n",
       "      <td>None</td>\n",
       "      <td>None</td>\n",
       "      <td>None</td>\n",
       "      <td>None</td>\n",
       "      <td>None</td>\n",
       "      <td>None</td>\n",
       "      <td>None</td>\n",
       "      <td>None</td>\n",
       "      <td>None</td>\n",
       "      <td>None</td>\n",
       "      <td>None</td>\n",
       "      <td>None</td>\n",
       "    </tr>\n",
       "    <tr>\n",
       "      <th>Petyr Baelish</th>\n",
       "      <td>girl innocent grace</td>\n",
       "      <td>naked knight apparently</td>\n",
       "      <td>deny fathers crime</td>\n",
       "      <td>None</td>\n",
       "      <td>None</td>\n",
       "      <td>None</td>\n",
       "      <td>None</td>\n",
       "      <td>None</td>\n",
       "      <td>None</td>\n",
       "      <td>None</td>\n",
       "      <td>None</td>\n",
       "      <td>None</td>\n",
       "      <td>None</td>\n",
       "      <td>None</td>\n",
       "      <td>None</td>\n",
       "      <td>None</td>\n",
       "      <td>None</td>\n",
       "    </tr>\n",
       "    <tr>\n",
       "      <th>Tyrion Lannister</th>\n",
       "      <td>uncle</td>\n",
       "      <td>sorry disappoint</td>\n",
       "      <td>may present lord father tywin son tytos house ...</td>\n",
       "      <td>differences jaime</td>\n",
       "      <td>starks</td>\n",
       "      <td>sweet sister persuade king imprison dear frien...</td>\n",
       "      <td>sister rules mean</td>\n",
       "      <td>maybe</td>\n",
       "      <td>None</td>\n",
       "      <td>None</td>\n",
       "      <td>None</td>\n",
       "      <td>None</td>\n",
       "      <td>None</td>\n",
       "      <td>None</td>\n",
       "      <td>None</td>\n",
       "      <td>None</td>\n",
       "      <td>None</td>\n",
       "    </tr>\n",
       "    <tr>\n",
       "      <th>Samwell Tarly</th>\n",
       "      <td>smell</td>\n",
       "      <td>none</td>\n",
       "      <td>None</td>\n",
       "      <td>None</td>\n",
       "      <td>None</td>\n",
       "      <td>None</td>\n",
       "      <td>None</td>\n",
       "      <td>None</td>\n",
       "      <td>None</td>\n",
       "      <td>None</td>\n",
       "      <td>None</td>\n",
       "      <td>None</td>\n",
       "      <td>None</td>\n",
       "      <td>None</td>\n",
       "      <td>None</td>\n",
       "      <td>None</td>\n",
       "      <td>None</td>\n",
       "    </tr>\n",
       "    <tr>\n",
       "      <th>Sandor Clegane</th>\n",
       "      <td>think sent</td>\n",
       "      <td>None</td>\n",
       "      <td>None</td>\n",
       "      <td>None</td>\n",
       "      <td>None</td>\n",
       "      <td>None</td>\n",
       "      <td>None</td>\n",
       "      <td>None</td>\n",
       "      <td>None</td>\n",
       "      <td>None</td>\n",
       "      <td>None</td>\n",
       "      <td>None</td>\n",
       "      <td>None</td>\n",
       "      <td>None</td>\n",
       "      <td>None</td>\n",
       "      <td>None</td>\n",
       "      <td>None</td>\n",
       "    </tr>\n",
       "  </tbody>\n",
       "</table>\n",
       "</div>"
      ],
      "text/plain": [
       "                                    0                        1   \\\n",
       "index                                                             \n",
       "Joffrey Baratheon       let father die        come forward lady   \n",
       "Petyr Baelish      girl innocent grace  naked knight apparently   \n",
       "Tyrion Lannister                 uncle         sorry disappoint   \n",
       "Samwell Tarly                    smell                     none   \n",
       "Sandor Clegane              think sent                     None   \n",
       "\n",
       "                                                                  2   \\\n",
       "index                                                                  \n",
       "Joffrey Baratheon                                    said wasnt king   \n",
       "Petyr Baelish                                     deny fathers crime   \n",
       "Tyrion Lannister   may present lord father tywin son tytos house ...   \n",
       "Samwell Tarly                                                   None   \n",
       "Sandor Clegane                                                  None   \n",
       "\n",
       "                                  3                  4   \\\n",
       "index                                                     \n",
       "Joffrey Baratheon      anything else  sweet words moved   \n",
       "Petyr Baelish                   None               None   \n",
       "Tyrion Lannister   differences jaime             starks   \n",
       "Samwell Tarly                   None               None   \n",
       "Sandor Clegane                  None               None   \n",
       "\n",
       "                                                                  5   \\\n",
       "index                                                                  \n",
       "Joffrey Baratheon                                               None   \n",
       "Petyr Baelish                                                   None   \n",
       "Tyrion Lannister   sweet sister persuade king imprison dear frien...   \n",
       "Samwell Tarly                                                   None   \n",
       "Sandor Clegane                                                  None   \n",
       "\n",
       "                                  6      7     8     9     10    11    12  \\\n",
       "index                                                                       \n",
       "Joffrey Baratheon               None   None  None  None  None  None  None   \n",
       "Petyr Baelish                   None   None  None  None  None  None  None   \n",
       "Tyrion Lannister   sister rules mean  maybe  None  None  None  None  None   \n",
       "Samwell Tarly                   None   None  None  None  None  None  None   \n",
       "Sandor Clegane                  None   None  None  None  None  None  None   \n",
       "\n",
       "                     13    14    15    16  \n",
       "index                                      \n",
       "Joffrey Baratheon  None  None  None  None  \n",
       "Petyr Baelish      None  None  None  None  \n",
       "Tyrion Lannister   None  None  None  None  \n",
       "Samwell Tarly      None  None  None  None  \n",
       "Sandor Clegane     None  None  None  None  "
      ]
     },
     "execution_count": 242,
     "metadata": {},
     "output_type": "execute_result"
    }
   ],
   "source": [
    "episode_eight = episode_eight.set_index('index')\n",
    "episode_eight.head()"
   ]
  },
  {
   "cell_type": "code",
   "execution_count": 243,
   "metadata": {
    "scrolled": true
   },
   "outputs": [
    {
     "data": {
      "text/plain": [
       "(28, 17)"
      ]
     },
     "execution_count": 243,
     "metadata": {},
     "output_type": "execute_result"
    }
   ],
   "source": [
    "episode_eight.shape"
   ]
  },
  {
   "cell_type": "code",
   "execution_count": 244,
   "metadata": {},
   "outputs": [
    {
     "data": {
      "text/plain": [
       "(86, 248)"
      ]
     },
     "execution_count": 244,
     "metadata": {},
     "output_type": "execute_result"
    }
   ],
   "source": [
    "season_one.shape"
   ]
  },
  {
   "cell_type": "code",
   "execution_count": 245,
   "metadata": {},
   "outputs": [
    {
     "data": {
      "text/plain": [
       "(96, 265)"
      ]
     },
     "execution_count": 245,
     "metadata": {},
     "output_type": "execute_result"
    }
   ],
   "source": [
    "season_one = season_one.join(episode_eight, rsuffix=\"_eight\", how='outer')\n",
    "season_one.shape"
   ]
  },
  {
   "cell_type": "code",
   "execution_count": 246,
   "metadata": {
    "scrolled": true
   },
   "outputs": [],
   "source": [
    "#season_one.index"
   ]
  },
  {
   "cell_type": "code",
   "execution_count": 247,
   "metadata": {},
   "outputs": [
    {
     "data": {
      "text/plain": [
       "(39, 62)"
      ]
     },
     "execution_count": 247,
     "metadata": {},
     "output_type": "execute_result"
    }
   ],
   "source": [
    "episode_nine.shape"
   ]
  },
  {
   "cell_type": "code",
   "execution_count": 248,
   "metadata": {},
   "outputs": [
    {
     "data": {
      "text/plain": [
       "(107, 327)"
      ]
     },
     "execution_count": 248,
     "metadata": {},
     "output_type": "execute_result"
    }
   ],
   "source": [
    "season_one = season_one.join(episode_nine, rsuffix=\"_nine\", how='outer')\n",
    "season_one.shape"
   ]
  },
  {
   "cell_type": "code",
   "execution_count": 249,
   "metadata": {},
   "outputs": [],
   "source": [
    "#season_one.index"
   ]
  },
  {
   "cell_type": "code",
   "execution_count": 250,
   "metadata": {},
   "outputs": [
    {
     "data": {
      "text/plain": [
       "Index([u'Joffrey Baratheon', u'Petyr Baelish', u'Lommy Greenhands', u'Yoren',\n",
       "       u'Shae', u'Jonos Bracken', u'Tyrion Lannister', u'Samwell Tarly',\n",
       "       u'Grenn', u'Pyp', u'Theon Greyjoy', u'Stark Guard', u'Tywin Lannister',\n",
       "       u'Jon Snow', u'Osha', u'Bran Stark', u'Rickon Stark', u'Arya Stark',\n",
       "       u'Jaime Lannister', u'Jeor Mormont', u'Gendry', u'Catelyn Stark',\n",
       "       u'Marillion', u'Varys', u'Hot Pie', u'Sansa Stark', u'Leo Lefford',\n",
       "       u'All', u'Daenerys Targaryen', u'Jorah Mormont', u'Greatjon Umber',\n",
       "       u'Cersei Lannister', u'Robb Stark', u'Rickard Karstark',\n",
       "       u'Kevan Lannister', u'Addam Marbrand', u'Ros', u'Sandor Clegane',\n",
       "       u'Galbart Glover'],\n",
       "      dtype='object')"
      ]
     },
     "execution_count": 250,
     "metadata": {},
     "output_type": "execute_result"
    }
   ],
   "source": [
    "episode_ten.index"
   ]
  },
  {
   "cell_type": "code",
   "execution_count": 251,
   "metadata": {
    "collapsed": true
   },
   "outputs": [],
   "source": [
    "episode_ten = episode_ten.reset_index()"
   ]
  },
  {
   "cell_type": "code",
   "execution_count": 252,
   "metadata": {
    "collapsed": true
   },
   "outputs": [],
   "source": [
    "episode_ten_dict = {'Joffrey Baratheon':'Joffrey Baratheon',\n",
    "                    'Petyr Baelish':'Petyr Baelish',\n",
    "                    'Lommy Greenhands':'Lommy Greenhands',\n",
    "                    'Yoren':'Yoren',\n",
    "                    'Shae':'Shae',\n",
    "                    'Jonos Bracken':'Jonos Bracken',\n",
    "                    'Tyrion Lannister':'Tyrion Lannister',\n",
    "                    'Samwell Tarly':'Samwell Tarly',\n",
    "                    'Grenn':'Grenn',\n",
    "                    'Pyp':'Pyp',\n",
    "                    'Theon Greyjoy':'Theon Greyjoy',\n",
    "                    'Stark Guard':'Stark Guard',\n",
    "                    'Tywin Lannister':'Tywin Lannister',\n",
    "                    'Jon Snow':'Jon Snow',\n",
    "                    'Osha':'Osha',\n",
    "                    'Bran Stark':'Bran Stark',\n",
    "                    'Rickon Stark':'Rickon Stark',\n",
    "                    'Arya Stark':'Arya Stark',\n",
    "                    'Jaime Lannister':'Jaime Lannister',\n",
    "                    'Jeor Mormont':'Jeor Mormont',\n",
    "                    'Gendry':'Gendry',\n",
    "                    'Catelyn Stark':'Catelyn Stark',\n",
    "                    'Marillion':'Marillion',\n",
    "                    'Varys':'Varys',\n",
    "                    'Hot Pie':'Hot Pie',\n",
    "                    'Sansa Stark':'Sansa Stark',\n",
    "                    'Leo Lefford':'Leo Lefford',\n",
    "                    'All':'All', \n",
    "                    'Daenerys Targaryen':'Daenerys Targaryen', \n",
    "                    'Jorah Mormont':'Jorah Mormont', \n",
    "                    'Greatjon Umber':'Greatjon Umber',\n",
    "                    'Cersei Lannister':'Cersei Baratheon', \n",
    "                    'Robb Stark':'Robb Stark', \n",
    "                    'Rickard Karstark':'Rickard Karstark',\n",
    "                    'Kevan Lannister':'Kevan Lannister', \n",
    "                    'Addam Marbrand':'Addam Marbrand', \n",
    "                    'Ros':'Ros', \n",
    "                    'Sandor Clegane':'Sandor Clegane',\n",
    "                    'Galbart Glover':'Galbart Glover'}\n",
    "\n",
    "episode_ten['index'] = episode_ten['index'].replace(episode_ten_dict)"
   ]
  },
  {
   "cell_type": "code",
   "execution_count": 253,
   "metadata": {
    "scrolled": true
   },
   "outputs": [
    {
     "data": {
      "text/html": [
       "<div>\n",
       "<table border=\"1\" class=\"dataframe\">\n",
       "  <thead>\n",
       "    <tr style=\"text-align: right;\">\n",
       "      <th></th>\n",
       "      <th>0</th>\n",
       "      <th>1</th>\n",
       "      <th>2</th>\n",
       "      <th>3</th>\n",
       "      <th>4</th>\n",
       "      <th>5</th>\n",
       "      <th>6</th>\n",
       "      <th>7</th>\n",
       "      <th>8</th>\n",
       "      <th>9</th>\n",
       "      <th>10</th>\n",
       "      <th>11</th>\n",
       "      <th>12</th>\n",
       "      <th>13</th>\n",
       "      <th>14</th>\n",
       "      <th>15</th>\n",
       "      <th>16</th>\n",
       "      <th>17</th>\n",
       "    </tr>\n",
       "    <tr>\n",
       "      <th>index</th>\n",
       "      <th></th>\n",
       "      <th></th>\n",
       "      <th></th>\n",
       "      <th></th>\n",
       "      <th></th>\n",
       "      <th></th>\n",
       "      <th></th>\n",
       "      <th></th>\n",
       "      <th></th>\n",
       "      <th></th>\n",
       "      <th></th>\n",
       "      <th></th>\n",
       "      <th></th>\n",
       "      <th></th>\n",
       "      <th></th>\n",
       "      <th></th>\n",
       "      <th></th>\n",
       "      <th></th>\n",
       "    </tr>\n",
       "  </thead>\n",
       "  <tbody>\n",
       "    <tr>\n",
       "      <th>Joffrey Baratheon</th>\n",
       "      <td>amusing</td>\n",
       "      <td>tell favor fingers tongue</td>\n",
       "      <td>fingers tongue</td>\n",
       "      <td>good</td>\n",
       "      <td>ser llyn better carry sentence</td>\n",
       "      <td>lm done day</td>\n",
       "      <td>look quite nice</td>\n",
       "      <td>grace</td>\n",
       "      <td>walk</td>\n",
       "      <td>soon youve blood lll put son</td>\n",
       "      <td>ones father</td>\n",
       "      <td>l</td>\n",
       "      <td>well</td>\n",
       "      <td>long pleases</td>\n",
       "      <td>obey</td>\n",
       "      <td>lords</td>\n",
       "      <td>None</td>\n",
       "      <td>None</td>\n",
       "    </tr>\n",
       "    <tr>\n",
       "      <th>Petyr Baelish</th>\n",
       "      <td>lts hard simper bow without heads</td>\n",
       "      <td>would friend found sitting</td>\n",
       "      <td>must one men city isnt man</td>\n",
       "      <td>l picture gash</td>\n",
       "      <td>must strange even years man another land despi...</td>\n",
       "      <td>carry whispering one kings ear next</td>\n",
       "      <td>useful talent lm sure youd agree</td>\n",
       "      <td>playing roles</td>\n",
       "      <td>long may reign</td>\n",
       "      <td>None</td>\n",
       "      <td>None</td>\n",
       "      <td>None</td>\n",
       "      <td>None</td>\n",
       "      <td>None</td>\n",
       "      <td>None</td>\n",
       "      <td>None</td>\n",
       "      <td>None</td>\n",
       "      <td>None</td>\n",
       "    </tr>\n",
       "    <tr>\n",
       "      <th>Lommy Greenhands</th>\n",
       "      <td>hes got sword one</td>\n",
       "      <td>maybe hes little squire</td>\n",
       "      <td>lets look</td>\n",
       "      <td>take</td>\n",
       "      <td>look</td>\n",
       "      <td>None</td>\n",
       "      <td>None</td>\n",
       "      <td>None</td>\n",
       "      <td>None</td>\n",
       "      <td>None</td>\n",
       "      <td>None</td>\n",
       "      <td>None</td>\n",
       "      <td>None</td>\n",
       "      <td>None</td>\n",
       "      <td>None</td>\n",
       "      <td>None</td>\n",
       "      <td>None</td>\n",
       "      <td>None</td>\n",
       "    </tr>\n",
       "    <tr>\n",
       "      <th>Yoren</th>\n",
       "      <td>keep mouth shut boy</td>\n",
       "      <td>youre smart boy youre trying say</td>\n",
       "      <td>youre arry hear</td>\n",
       "      <td>youve long way travel bad company</td>\n",
       "      <td>come sorry sons whores</td>\n",
       "      <td>None</td>\n",
       "      <td>None</td>\n",
       "      <td>None</td>\n",
       "      <td>None</td>\n",
       "      <td>None</td>\n",
       "      <td>None</td>\n",
       "      <td>None</td>\n",
       "      <td>None</td>\n",
       "      <td>None</td>\n",
       "      <td>None</td>\n",
       "      <td>None</td>\n",
       "      <td>None</td>\n",
       "      <td>None</td>\n",
       "    </tr>\n",
       "    <tr>\n",
       "      <th>Shae</th>\n",
       "      <td>father said couldnt take anyone kings landing</td>\n",
       "      <td>knew name</td>\n",
       "      <td>said dont bring shae kings landing</td>\n",
       "      <td>ashamed</td>\n",
       "      <td>im funny</td>\n",
       "      <td>None</td>\n",
       "      <td>None</td>\n",
       "      <td>None</td>\n",
       "      <td>None</td>\n",
       "      <td>None</td>\n",
       "      <td>None</td>\n",
       "      <td>None</td>\n",
       "      <td>None</td>\n",
       "      <td>None</td>\n",
       "      <td>None</td>\n",
       "      <td>None</td>\n",
       "      <td>None</td>\n",
       "      <td>None</td>\n",
       "    </tr>\n",
       "  </tbody>\n",
       "</table>\n",
       "</div>"
      ],
      "text/plain": [
       "                                                              0   \\\n",
       "index                                                              \n",
       "Joffrey Baratheon                                        amusing   \n",
       "Petyr Baelish                  lts hard simper bow without heads   \n",
       "Lommy Greenhands                               hes got sword one   \n",
       "Yoren                                        keep mouth shut boy   \n",
       "Shae               father said couldnt take anyone kings landing   \n",
       "\n",
       "                                                 1   \\\n",
       "index                                                 \n",
       "Joffrey Baratheon         tell favor fingers tongue   \n",
       "Petyr Baelish            would friend found sitting   \n",
       "Lommy Greenhands            maybe hes little squire   \n",
       "Yoren              youre smart boy youre trying say   \n",
       "Shae                                      knew name   \n",
       "\n",
       "                                                   2   \\\n",
       "index                                                   \n",
       "Joffrey Baratheon                      fingers tongue   \n",
       "Petyr Baelish              must one men city isnt man   \n",
       "Lommy Greenhands                            lets look   \n",
       "Yoren                                 youre arry hear   \n",
       "Shae               said dont bring shae kings landing   \n",
       "\n",
       "                                                  3   \\\n",
       "index                                                  \n",
       "Joffrey Baratheon                               good   \n",
       "Petyr Baelish                         l picture gash   \n",
       "Lommy Greenhands                                take   \n",
       "Yoren              youve long way travel bad company   \n",
       "Shae                                         ashamed   \n",
       "\n",
       "                                                                  4   \\\n",
       "index                                                                  \n",
       "Joffrey Baratheon                     ser llyn better carry sentence   \n",
       "Petyr Baelish      must strange even years man another land despi...   \n",
       "Lommy Greenhands                                                look   \n",
       "Yoren                                         come sorry sons whores   \n",
       "Shae                                                        im funny   \n",
       "\n",
       "                                                    5   \\\n",
       "index                                                    \n",
       "Joffrey Baratheon                          lm done day   \n",
       "Petyr Baelish      carry whispering one kings ear next   \n",
       "Lommy Greenhands                                  None   \n",
       "Yoren                                             None   \n",
       "Shae                                              None   \n",
       "\n",
       "                                                 6              7   \\\n",
       "index                                                                \n",
       "Joffrey Baratheon                   look quite nice          grace   \n",
       "Petyr Baelish      useful talent lm sure youd agree  playing roles   \n",
       "Lommy Greenhands                               None           None   \n",
       "Yoren                                          None           None   \n",
       "Shae                                           None           None   \n",
       "\n",
       "                               8                             9            10  \\\n",
       "index                                                                          \n",
       "Joffrey Baratheon            walk  soon youve blood lll put son  ones father   \n",
       "Petyr Baelish      long may reign                          None         None   \n",
       "Lommy Greenhands             None                          None         None   \n",
       "Yoren                        None                          None         None   \n",
       "Shae                         None                          None         None   \n",
       "\n",
       "                     11    12            13    14     15    16    17  \n",
       "index                                                                 \n",
       "Joffrey Baratheon     l  well  long pleases  obey  lords  None  None  \n",
       "Petyr Baelish      None  None          None  None   None  None  None  \n",
       "Lommy Greenhands   None  None          None  None   None  None  None  \n",
       "Yoren              None  None          None  None   None  None  None  \n",
       "Shae               None  None          None  None   None  None  None  "
      ]
     },
     "execution_count": 253,
     "metadata": {},
     "output_type": "execute_result"
    }
   ],
   "source": [
    "episode_ten = episode_ten.set_index('index')\n",
    "episode_ten.head()"
   ]
  },
  {
   "cell_type": "code",
   "execution_count": 254,
   "metadata": {},
   "outputs": [
    {
     "data": {
      "text/plain": [
       "(39, 18)"
      ]
     },
     "execution_count": 254,
     "metadata": {},
     "output_type": "execute_result"
    }
   ],
   "source": [
    "episode_ten.shape"
   ]
  },
  {
   "cell_type": "code",
   "execution_count": 255,
   "metadata": {
    "scrolled": true
   },
   "outputs": [
    {
     "data": {
      "text/plain": [
       "(115, 345)"
      ]
     },
     "execution_count": 255,
     "metadata": {},
     "output_type": "execute_result"
    }
   ],
   "source": [
    "season_one = season_one.join(episode_ten, rsuffix=\"_ten\", how='outer')\n",
    "season_one.shape"
   ]
  },
  {
   "cell_type": "code",
   "execution_count": 256,
   "metadata": {},
   "outputs": [],
   "source": [
    "#season_one.index"
   ]
  },
  {
   "cell_type": "code",
   "execution_count": 257,
   "metadata": {
    "collapsed": true
   },
   "outputs": [],
   "source": [
    "from numpy import nan\n",
    "season_one.fillna(value=str(0), inplace=True)"
   ]
  },
  {
   "cell_type": "code",
   "execution_count": 258,
   "metadata": {
    "scrolled": false
   },
   "outputs": [],
   "source": [
    "#season_one.head(115)"
   ]
  },
  {
   "cell_type": "code",
   "execution_count": 259,
   "metadata": {
    "scrolled": false
   },
   "outputs": [
    {
     "name": "stdout",
     "output_type": "stream",
     "text": [
      "<class 'pandas.core.frame.DataFrame'>\n",
      "Index: 115 entries, Arya Stark to Galbart Glover\n",
      "Columns: 345 entries, 0 to 17\n",
      "dtypes: object(345)\n",
      "memory usage: 310.9+ KB\n"
     ]
    }
   ],
   "source": [
    "season_one.info()"
   ]
  },
  {
   "cell_type": "code",
   "execution_count": 260,
   "metadata": {
    "collapsed": true
   },
   "outputs": [],
   "source": [
    "season_one.to_pickle('/Users/zoemarkovits/Metis/project_five_got/PKLs/season_one.pkl')"
   ]
  },
  {
   "cell_type": "markdown",
   "metadata": {},
   "source": [
    "## Character Breakdown"
   ]
  },
  {
   "cell_type": "markdown",
   "metadata": {},
   "source": [
    "### Arya Stark"
   ]
  },
  {
   "cell_type": "code",
   "execution_count": 261,
   "metadata": {
    "scrolled": true
   },
   "outputs": [],
   "source": [
    "Arya = season_one.loc['Arya Stark']\n",
    "#print Arya"
   ]
  },
  {
   "cell_type": "code",
   "execution_count": 262,
   "metadata": {},
   "outputs": [],
   "source": [
    "Arya_Text = Arya.values.tolist()\n",
    "#Arya_Text"
   ]
  },
  {
   "cell_type": "code",
   "execution_count": 263,
   "metadata": {
    "scrolled": true
   },
   "outputs": [],
   "source": [
    "Arya_Words = []\n",
    "\n",
    "for word in Arya_Text:\n",
    "    if len(word)>=1:\n",
    "        if word != '0':\n",
    "            Arya_Words.append(word)\n",
    "        \n",
    "#Arya_Words        "
   ]
  },
  {
   "cell_type": "code",
   "execution_count": 264,
   "metadata": {},
   "outputs": [],
   "source": [
    "Arya_Words_String = ' '.join(Arya_Words)\n",
    "#Arya_Words_String"
   ]
  },
  {
   "cell_type": "code",
   "execution_count": 265,
   "metadata": {},
   "outputs": [
    {
     "data": {
      "text/plain": [
       "1011"
      ]
     },
     "execution_count": 265,
     "metadata": {},
     "output_type": "execute_result"
    }
   ],
   "source": [
    "Arya_String_Length = len(Arya_Words_String)\n",
    "Arya_String_Length"
   ]
  },
  {
   "cell_type": "code",
   "execution_count": 266,
   "metadata": {},
   "outputs": [
    {
     "data": {
      "text/plain": [
       "Sentiment(polarity=-0.048528138528138524, subjectivity=0.49238095238095236)"
      ]
     },
     "execution_count": 266,
     "metadata": {},
     "output_type": "execute_result"
    }
   ],
   "source": [
    "Arya_Sentiment = TextBlob(Arya_Words_String).sentiment\n",
    "Arya_Sentiment"
   ]
  },
  {
   "cell_type": "markdown",
   "metadata": {},
   "source": [
    "### Catelyn Stark"
   ]
  },
  {
   "cell_type": "code",
   "execution_count": 267,
   "metadata": {
    "scrolled": true
   },
   "outputs": [],
   "source": [
    "Catelyn = season_one.loc['Catelyn Stark']\n",
    "#print Catelyn"
   ]
  },
  {
   "cell_type": "code",
   "execution_count": 268,
   "metadata": {},
   "outputs": [],
   "source": [
    "Catelyn_Text = Catelyn.values.tolist()\n",
    "#Catelyn_Text"
   ]
  },
  {
   "cell_type": "code",
   "execution_count": 269,
   "metadata": {
    "scrolled": true
   },
   "outputs": [],
   "source": [
    "Catelyn_Words = []\n",
    "\n",
    "for word in Catelyn_Text:\n",
    "    if len(word)>=1:\n",
    "        if word != '0':\n",
    "            Catelyn_Words.append(word)\n",
    "        \n",
    "#Catelyn_Words        "
   ]
  },
  {
   "cell_type": "code",
   "execution_count": 270,
   "metadata": {},
   "outputs": [],
   "source": [
    "Catelyn_Words_String = ' '.join(Catelyn_Words)\n",
    "#Catelyn_Words_String"
   ]
  },
  {
   "cell_type": "code",
   "execution_count": 271,
   "metadata": {},
   "outputs": [],
   "source": [
    "Catelyn_String_Length = len(Catelyn_Words_String)\n",
    "#Catelyn_String_Length"
   ]
  },
  {
   "cell_type": "code",
   "execution_count": 272,
   "metadata": {
    "scrolled": true
   },
   "outputs": [
    {
     "data": {
      "text/plain": [
       "Sentiment(polarity=0.08284313725490197, subjectivity=0.5116946778711486)"
      ]
     },
     "execution_count": 272,
     "metadata": {},
     "output_type": "execute_result"
    }
   ],
   "source": [
    "TextBlob(Catelyn_Words_String).sentiment"
   ]
  },
  {
   "cell_type": "markdown",
   "metadata": {},
   "source": [
    "### Cersei Lannister Baratheon"
   ]
  },
  {
   "cell_type": "code",
   "execution_count": 273,
   "metadata": {
    "scrolled": true
   },
   "outputs": [],
   "source": [
    "Cersei = season_one.loc['Cersei Baratheon']\n",
    "#print Cersei"
   ]
  },
  {
   "cell_type": "code",
   "execution_count": 274,
   "metadata": {},
   "outputs": [],
   "source": [
    "Cersei_Text = Cersei.values.tolist()\n",
    "#Cersei_Text"
   ]
  },
  {
   "cell_type": "code",
   "execution_count": 275,
   "metadata": {
    "scrolled": true
   },
   "outputs": [],
   "source": [
    "Cersei_Words = []\n",
    "\n",
    "for word in Cersei_Text:\n",
    "    if len(word)>=1:\n",
    "        if word != '0':\n",
    "            Cersei_Words.append(word)\n",
    "        \n",
    "#Cersei_Words        "
   ]
  },
  {
   "cell_type": "code",
   "execution_count": 276,
   "metadata": {},
   "outputs": [],
   "source": [
    "Cersei_Words_String = ' '.join(Cersei_Words)\n",
    "#Cersei_Words_String"
   ]
  },
  {
   "cell_type": "code",
   "execution_count": 277,
   "metadata": {},
   "outputs": [
    {
     "data": {
      "text/plain": [
       "1899"
      ]
     },
     "execution_count": 277,
     "metadata": {},
     "output_type": "execute_result"
    }
   ],
   "source": [
    "Cersei_String_Length = len(Cersei_Words_String)\n",
    "Cersei_String_Length"
   ]
  },
  {
   "cell_type": "code",
   "execution_count": 278,
   "metadata": {},
   "outputs": [
    {
     "data": {
      "text/plain": [
       "Sentiment(polarity=-0.06022727272727274, subjectivity=0.47317821067821064)"
      ]
     },
     "execution_count": 278,
     "metadata": {},
     "output_type": "execute_result"
    }
   ],
   "source": [
    "TextBlob(Cersei_Words_String).sentiment"
   ]
  },
  {
   "cell_type": "markdown",
   "metadata": {},
   "source": [
    "### Daenerys Targaryen"
   ]
  },
  {
   "cell_type": "code",
   "execution_count": 279,
   "metadata": {
    "scrolled": true
   },
   "outputs": [],
   "source": [
    "Daenerys = season_one.loc['Daenerys Targaryen']\n",
    "#print Daenerys"
   ]
  },
  {
   "cell_type": "code",
   "execution_count": 280,
   "metadata": {},
   "outputs": [],
   "source": [
    "Dany_Text = Daenerys.values.tolist()\n",
    "#Dany_Text"
   ]
  },
  {
   "cell_type": "code",
   "execution_count": 281,
   "metadata": {
    "scrolled": true
   },
   "outputs": [],
   "source": [
    "Dany_Words = []\n",
    "\n",
    "for word in Dany_Text:\n",
    "    if len(word)>=1:\n",
    "        if word != '0':\n",
    "            Dany_Words.append(word)\n",
    "        \n",
    "#Dany_Words        "
   ]
  },
  {
   "cell_type": "code",
   "execution_count": 282,
   "metadata": {},
   "outputs": [],
   "source": [
    "Dany_Words_String = ' '.join(Dany_Words)\n",
    "#Dany_Words_String"
   ]
  },
  {
   "cell_type": "code",
   "execution_count": 283,
   "metadata": {},
   "outputs": [
    {
     "data": {
      "text/plain": [
       "1388"
      ]
     },
     "execution_count": 283,
     "metadata": {},
     "output_type": "execute_result"
    }
   ],
   "source": [
    "Dany_String_Length = len(Dany_Words_String)\n",
    "Dany_String_Length"
   ]
  },
  {
   "cell_type": "code",
   "execution_count": 284,
   "metadata": {
    "scrolled": true
   },
   "outputs": [
    {
     "data": {
      "text/plain": [
       "Sentiment(polarity=0.28051948051948056, subjectivity=0.5805194805194805)"
      ]
     },
     "execution_count": 284,
     "metadata": {},
     "output_type": "execute_result"
    }
   ],
   "source": [
    "TextBlob(Dany_Words_String).sentiment"
   ]
  },
  {
   "cell_type": "markdown",
   "metadata": {},
   "source": [
    "### Eddard Stark"
   ]
  },
  {
   "cell_type": "code",
   "execution_count": 285,
   "metadata": {
    "scrolled": true
   },
   "outputs": [],
   "source": [
    "Eddard = season_one.loc['Eddard Stark']\n",
    "#print Eddard"
   ]
  },
  {
   "cell_type": "code",
   "execution_count": 286,
   "metadata": {},
   "outputs": [],
   "source": [
    "Eddard_Text = Eddard.values.tolist()\n",
    "#Eddard_Text"
   ]
  },
  {
   "cell_type": "code",
   "execution_count": 287,
   "metadata": {
    "scrolled": true
   },
   "outputs": [],
   "source": [
    "Eddard_Words = []\n",
    "\n",
    "for word in Eddard_Text:\n",
    "    if len(word)>=1:\n",
    "        if word != '0':\n",
    "            Eddard_Words.append(word)\n",
    "        \n",
    "#Eddard_Words        "
   ]
  },
  {
   "cell_type": "code",
   "execution_count": 288,
   "metadata": {},
   "outputs": [],
   "source": [
    "Eddard_Words_String = ' '.join(Eddard_Words)\n",
    "#Eddard_Words_String"
   ]
  },
  {
   "cell_type": "code",
   "execution_count": 289,
   "metadata": {},
   "outputs": [
    {
     "data": {
      "text/plain": [
       "4794"
      ]
     },
     "execution_count": 289,
     "metadata": {},
     "output_type": "execute_result"
    }
   ],
   "source": [
    "Eddard_String_Length = len(Eddard_Words_String)\n",
    "Eddard_String_Length"
   ]
  },
  {
   "cell_type": "code",
   "execution_count": 290,
   "metadata": {
    "scrolled": false
   },
   "outputs": [
    {
     "data": {
      "text/plain": [
       "Sentiment(polarity=0.07185826519159849, subjectivity=0.568094837261504)"
      ]
     },
     "execution_count": 290,
     "metadata": {},
     "output_type": "execute_result"
    }
   ],
   "source": [
    "TextBlob(Eddard_Words_String).sentiment"
   ]
  },
  {
   "cell_type": "markdown",
   "metadata": {},
   "source": [
    "### Jaime Lannister"
   ]
  },
  {
   "cell_type": "code",
   "execution_count": 291,
   "metadata": {
    "scrolled": true
   },
   "outputs": [],
   "source": [
    "Jaime = season_one.loc['Jaime Lannister']\n",
    "#print Jaime"
   ]
  },
  {
   "cell_type": "code",
   "execution_count": 292,
   "metadata": {},
   "outputs": [],
   "source": [
    "Jaime_Text = Jaime.values.tolist()\n",
    "#Jaime_Text"
   ]
  },
  {
   "cell_type": "code",
   "execution_count": 293,
   "metadata": {
    "scrolled": true
   },
   "outputs": [],
   "source": [
    "Jaime_Words = []\n",
    "\n",
    "for word in Jaime_Text:\n",
    "    if len(word)>=1:\n",
    "        if word != '0':\n",
    "            Jaime_Words.append(word)\n",
    "        \n",
    "#Jaime_Words        "
   ]
  },
  {
   "cell_type": "code",
   "execution_count": 294,
   "metadata": {},
   "outputs": [],
   "source": [
    "Jaime_Words_String = ' '.join(Jaime_Words)\n",
    "#Jaime_Words_String"
   ]
  },
  {
   "cell_type": "code",
   "execution_count": 295,
   "metadata": {},
   "outputs": [
    {
     "data": {
      "text/plain": [
       "973"
      ]
     },
     "execution_count": 295,
     "metadata": {},
     "output_type": "execute_result"
    }
   ],
   "source": [
    "Jaime_String_Length = len(Jaime_Words_String)\n",
    "Jaime_String_Length"
   ]
  },
  {
   "cell_type": "code",
   "execution_count": 296,
   "metadata": {
    "scrolled": false
   },
   "outputs": [
    {
     "data": {
      "text/plain": [
       "Sentiment(polarity=0.012112936083524324, subjectivity=0.5282767804091334)"
      ]
     },
     "execution_count": 296,
     "metadata": {},
     "output_type": "execute_result"
    }
   ],
   "source": [
    "TextBlob(Jaime_Words_String).sentiment"
   ]
  },
  {
   "cell_type": "markdown",
   "metadata": {},
   "source": [
    "### Joffrey Baratheon"
   ]
  },
  {
   "cell_type": "code",
   "execution_count": 297,
   "metadata": {
    "scrolled": true
   },
   "outputs": [],
   "source": [
    "Joffrey = season_one.loc['Joffrey Baratheon']\n",
    "#print Joffrey"
   ]
  },
  {
   "cell_type": "code",
   "execution_count": 298,
   "metadata": {},
   "outputs": [],
   "source": [
    "Joffrey_Text = Joffrey.values.tolist()\n",
    "#Joffrey_Text"
   ]
  },
  {
   "cell_type": "code",
   "execution_count": 299,
   "metadata": {
    "scrolled": true
   },
   "outputs": [],
   "source": [
    "Joffrey_Words = []\n",
    "\n",
    "for word in Joffrey_Text:\n",
    "    if len(word)>=1:\n",
    "        if word != '0':\n",
    "            Joffrey_Words.append(word)\n",
    "        \n",
    "#Joffrey_Words        "
   ]
  },
  {
   "cell_type": "code",
   "execution_count": 300,
   "metadata": {},
   "outputs": [],
   "source": [
    "Joffrey_Words_String = ' '.join(Joffrey_Words)\n",
    "#Joffrey_Words_String"
   ]
  },
  {
   "cell_type": "code",
   "execution_count": 301,
   "metadata": {},
   "outputs": [
    {
     "data": {
      "text/plain": [
       "769"
      ]
     },
     "execution_count": 301,
     "metadata": {},
     "output_type": "execute_result"
    }
   ],
   "source": [
    "Joffrey_String_Length = len(Joffrey_Words_String)\n",
    "Joffrey_String_Length"
   ]
  },
  {
   "cell_type": "code",
   "execution_count": 302,
   "metadata": {
    "scrolled": false
   },
   "outputs": [
    {
     "data": {
      "text/plain": [
       "Sentiment(polarity=0.20750000000000002, subjectivity=0.5433333333333333)"
      ]
     },
     "execution_count": 302,
     "metadata": {},
     "output_type": "execute_result"
    }
   ],
   "source": [
    "TextBlob(Joffrey_Words_String).sentiment"
   ]
  },
  {
   "cell_type": "markdown",
   "metadata": {},
   "source": [
    "### Jon Snow"
   ]
  },
  {
   "cell_type": "code",
   "execution_count": 303,
   "metadata": {
    "scrolled": true
   },
   "outputs": [],
   "source": [
    "Jon = season_one.loc['Jon Snow']\n",
    "#print Jon"
   ]
  },
  {
   "cell_type": "code",
   "execution_count": 304,
   "metadata": {},
   "outputs": [],
   "source": [
    "Jon_Text = Jon.values.tolist()\n",
    "#Jon_Text"
   ]
  },
  {
   "cell_type": "code",
   "execution_count": 305,
   "metadata": {
    "scrolled": true
   },
   "outputs": [],
   "source": [
    "Jon_Words = []\n",
    "\n",
    "for word in Jon_Text:\n",
    "    if len(word)>=1:\n",
    "        if word != '0':\n",
    "            Jon_Words.append(word)\n",
    "        \n",
    "#Jon_Words        "
   ]
  },
  {
   "cell_type": "code",
   "execution_count": 306,
   "metadata": {},
   "outputs": [],
   "source": [
    "Jon_Words_String = ' '.join(Jon_Words)\n",
    "#Jon_Words_String"
   ]
  },
  {
   "cell_type": "code",
   "execution_count": 307,
   "metadata": {},
   "outputs": [
    {
     "data": {
      "text/plain": [
       "1503"
      ]
     },
     "execution_count": 307,
     "metadata": {},
     "output_type": "execute_result"
    }
   ],
   "source": [
    "Jon_String_Length = len(Jon_Words_String)\n",
    "Jon_String_Length"
   ]
  },
  {
   "cell_type": "code",
   "execution_count": 308,
   "metadata": {
    "scrolled": true
   },
   "outputs": [
    {
     "data": {
      "text/plain": [
       "Sentiment(polarity=0.15580357142857143, subjectivity=0.49243551587301587)"
      ]
     },
     "execution_count": 308,
     "metadata": {},
     "output_type": "execute_result"
    }
   ],
   "source": [
    "TextBlob(Jon_Words_String).sentiment"
   ]
  },
  {
   "cell_type": "markdown",
   "metadata": {},
   "source": [
    "### Jorah Mormont"
   ]
  },
  {
   "cell_type": "code",
   "execution_count": 309,
   "metadata": {
    "scrolled": true
   },
   "outputs": [],
   "source": [
    "Jorah = season_one.loc['Jorah Mormont']\n",
    "#print Jorah"
   ]
  },
  {
   "cell_type": "code",
   "execution_count": 310,
   "metadata": {},
   "outputs": [],
   "source": [
    "Jorah_Text = Jorah.values.tolist()\n",
    "#Jorah_Text"
   ]
  },
  {
   "cell_type": "code",
   "execution_count": 311,
   "metadata": {
    "scrolled": true
   },
   "outputs": [],
   "source": [
    "Jorah_Words = []\n",
    "\n",
    "for word in Jorah_Text:\n",
    "    if len(word)>=1:\n",
    "        if word != '0':\n",
    "            Jorah_Words.append(word)\n",
    "        \n",
    "#Jorah_Words        "
   ]
  },
  {
   "cell_type": "code",
   "execution_count": 312,
   "metadata": {},
   "outputs": [],
   "source": [
    "Jorah_Words_String = ' '.join(Jorah_Words)\n",
    "#Jorah_Words_String"
   ]
  },
  {
   "cell_type": "code",
   "execution_count": 313,
   "metadata": {},
   "outputs": [
    {
     "data": {
      "text/plain": [
       "1576"
      ]
     },
     "execution_count": 313,
     "metadata": {},
     "output_type": "execute_result"
    }
   ],
   "source": [
    "Jorah_String_Length = len(Jorah_Words_String)\n",
    "Jorah_String_Length"
   ]
  },
  {
   "cell_type": "code",
   "execution_count": 314,
   "metadata": {
    "scrolled": false
   },
   "outputs": [
    {
     "data": {
      "text/plain": [
       "Sentiment(polarity=0.0037662337662337573, subjectivity=0.4860389610389611)"
      ]
     },
     "execution_count": 314,
     "metadata": {},
     "output_type": "execute_result"
    }
   ],
   "source": [
    "TextBlob(Jorah_Words_String).sentiment"
   ]
  },
  {
   "cell_type": "markdown",
   "metadata": {},
   "source": [
    "### Petyr Baelish/Littlefinger"
   ]
  },
  {
   "cell_type": "code",
   "execution_count": 315,
   "metadata": {
    "scrolled": true
   },
   "outputs": [],
   "source": [
    "Littlefinger = season_one.loc['Petyr Baelish']\n",
    "#print Littlefinger"
   ]
  },
  {
   "cell_type": "code",
   "execution_count": 316,
   "metadata": {},
   "outputs": [],
   "source": [
    "Littlefinger_Text = Littlefinger.values.tolist()\n",
    "#Littlefinger_Text"
   ]
  },
  {
   "cell_type": "code",
   "execution_count": 317,
   "metadata": {
    "scrolled": true
   },
   "outputs": [],
   "source": [
    "Littlefinger_Words = []\n",
    "\n",
    "for word in Littlefinger_Text:\n",
    "    if len(word)>=1:\n",
    "        if word != '0':\n",
    "            Littlefinger_Words.append(word)\n",
    "        \n",
    "#Littlefinger_Words        "
   ]
  },
  {
   "cell_type": "code",
   "execution_count": 318,
   "metadata": {},
   "outputs": [],
   "source": [
    "Littlefinger_Words_String = ' '.join(Littlefinger_Words)\n",
    "#Littlefinger_Words_String"
   ]
  },
  {
   "cell_type": "code",
   "execution_count": 319,
   "metadata": {},
   "outputs": [
    {
     "data": {
      "text/plain": [
       "1797"
      ]
     },
     "execution_count": 319,
     "metadata": {},
     "output_type": "execute_result"
    }
   ],
   "source": [
    "Littlefinger_String_Length = len(Littlefinger_Words_String)\n",
    "Littlefinger_String_Length"
   ]
  },
  {
   "cell_type": "code",
   "execution_count": 320,
   "metadata": {
    "scrolled": false
   },
   "outputs": [
    {
     "data": {
      "text/plain": [
       "Sentiment(polarity=0.03150406504065041, subjectivity=0.5189121176926055)"
      ]
     },
     "execution_count": 320,
     "metadata": {},
     "output_type": "execute_result"
    }
   ],
   "source": [
    "TextBlob(Littlefinger_Words_String).sentiment"
   ]
  },
  {
   "cell_type": "markdown",
   "metadata": {},
   "source": [
    "### Robb Stark"
   ]
  },
  {
   "cell_type": "code",
   "execution_count": 321,
   "metadata": {
    "scrolled": true
   },
   "outputs": [],
   "source": [
    "Robb = season_one.loc['Robb Stark']\n",
    "#print Robb"
   ]
  },
  {
   "cell_type": "code",
   "execution_count": 322,
   "metadata": {},
   "outputs": [],
   "source": [
    "Robb_Text = Robb.values.tolist()\n",
    "#Robb_Text"
   ]
  },
  {
   "cell_type": "code",
   "execution_count": 323,
   "metadata": {
    "scrolled": true
   },
   "outputs": [],
   "source": [
    "Robb_Words = []\n",
    "\n",
    "for word in Robb_Text:\n",
    "    if len(word)>=1:\n",
    "        if word != '0':\n",
    "            Robb_Words.append(word)\n",
    "        \n",
    "#Robb_Words        "
   ]
  },
  {
   "cell_type": "code",
   "execution_count": 324,
   "metadata": {},
   "outputs": [],
   "source": [
    "Robb_Words_String = ' '.join(Robb_Words)\n",
    "#Robb_Words_String"
   ]
  },
  {
   "cell_type": "code",
   "execution_count": 325,
   "metadata": {},
   "outputs": [],
   "source": [
    "Robb_String_Length = len(Robb_Words_String)\n",
    "#Robb_String_Length"
   ]
  },
  {
   "cell_type": "code",
   "execution_count": 326,
   "metadata": {
    "scrolled": false
   },
   "outputs": [
    {
     "data": {
      "text/plain": [
       "Sentiment(polarity=0.2159307359307359, subjectivity=0.477900432900433)"
      ]
     },
     "execution_count": 326,
     "metadata": {},
     "output_type": "execute_result"
    }
   ],
   "source": [
    "TextBlob(Robb_Words_String).sentiment"
   ]
  },
  {
   "cell_type": "markdown",
   "metadata": {},
   "source": [
    "### Samwell Tarly"
   ]
  },
  {
   "cell_type": "code",
   "execution_count": 327,
   "metadata": {
    "scrolled": true
   },
   "outputs": [],
   "source": [
    "Sam = season_one.loc['Samwell Tarly']\n",
    "#print Sam"
   ]
  },
  {
   "cell_type": "code",
   "execution_count": 328,
   "metadata": {},
   "outputs": [],
   "source": [
    "Sam_Text = Sam.values.tolist()\n",
    "#Sam_Text"
   ]
  },
  {
   "cell_type": "code",
   "execution_count": 329,
   "metadata": {
    "scrolled": true
   },
   "outputs": [],
   "source": [
    "Sam_Words = []\n",
    "\n",
    "for word in Sam_Text:\n",
    "    if len(word)>=1:\n",
    "        if word != '0':\n",
    "            Sam_Words.append(word)\n",
    "        \n",
    "#Sam_Words        "
   ]
  },
  {
   "cell_type": "code",
   "execution_count": 330,
   "metadata": {},
   "outputs": [],
   "source": [
    "Sam_Words_String = ' '.join(Sam_Words)\n",
    "#Sam_Words_String"
   ]
  },
  {
   "cell_type": "code",
   "execution_count": 331,
   "metadata": {},
   "outputs": [
    {
     "data": {
      "text/plain": [
       "477"
      ]
     },
     "execution_count": 331,
     "metadata": {},
     "output_type": "execute_result"
    }
   ],
   "source": [
    "Sam_String_Length = len(Sam_Words_String)\n",
    "Sam_String_Length"
   ]
  },
  {
   "cell_type": "code",
   "execution_count": 332,
   "metadata": {
    "scrolled": false
   },
   "outputs": [
    {
     "data": {
      "text/plain": [
       "Sentiment(polarity=0.004020146520146513, subjectivity=0.5406227106227107)"
      ]
     },
     "execution_count": 332,
     "metadata": {},
     "output_type": "execute_result"
    }
   ],
   "source": [
    "TextBlob(Sam_Words_String).sentiment"
   ]
  },
  {
   "cell_type": "markdown",
   "metadata": {},
   "source": [
    "### Sansa Stark"
   ]
  },
  {
   "cell_type": "code",
   "execution_count": 333,
   "metadata": {
    "scrolled": true
   },
   "outputs": [],
   "source": [
    "Sansa = season_one.loc['Sansa Stark']\n",
    "#print Sansa"
   ]
  },
  {
   "cell_type": "code",
   "execution_count": 334,
   "metadata": {},
   "outputs": [],
   "source": [
    "Sansa_Text = Sansa.values.tolist()\n",
    "#Sansa_Text"
   ]
  },
  {
   "cell_type": "code",
   "execution_count": 335,
   "metadata": {
    "scrolled": true
   },
   "outputs": [],
   "source": [
    "Sansa_Words = []\n",
    "\n",
    "for word in Sansa_Text:\n",
    "    if len(word)>=1:\n",
    "        if word != '0':\n",
    "            Sansa_Words.append(word)\n",
    "        \n",
    "#Sansa_Words        "
   ]
  },
  {
   "cell_type": "code",
   "execution_count": 336,
   "metadata": {},
   "outputs": [],
   "source": [
    "Sansa_Words_String = ' '.join(Sansa_Words)\n",
    "#Sansa_Words_String"
   ]
  },
  {
   "cell_type": "code",
   "execution_count": 337,
   "metadata": {},
   "outputs": [
    {
     "data": {
      "text/plain": [
       "944"
      ]
     },
     "execution_count": 337,
     "metadata": {},
     "output_type": "execute_result"
    }
   ],
   "source": [
    "Sansa_String_Length = len(Sansa_Words_String)\n",
    "Sansa_String_Length"
   ]
  },
  {
   "cell_type": "code",
   "execution_count": 338,
   "metadata": {
    "scrolled": false
   },
   "outputs": [
    {
     "data": {
      "text/plain": [
       "Sentiment(polarity=-0.285, subjectivity=0.6411111111111111)"
      ]
     },
     "execution_count": 338,
     "metadata": {},
     "output_type": "execute_result"
    }
   ],
   "source": [
    "TextBlob(Sansa_Words_String).sentiment"
   ]
  },
  {
   "cell_type": "markdown",
   "metadata": {},
   "source": [
    "### Theon Greyjoy"
   ]
  },
  {
   "cell_type": "code",
   "execution_count": 339,
   "metadata": {
    "scrolled": true
   },
   "outputs": [],
   "source": [
    "Theon = season_one.loc['Theon Greyjoy']\n",
    "#print Theon"
   ]
  },
  {
   "cell_type": "code",
   "execution_count": 340,
   "metadata": {},
   "outputs": [],
   "source": [
    "Theon_Text = Theon.values.tolist()\n",
    "#Theon_Text"
   ]
  },
  {
   "cell_type": "code",
   "execution_count": 341,
   "metadata": {
    "scrolled": true
   },
   "outputs": [],
   "source": [
    "Theon_Words = []\n",
    "\n",
    "for word in Theon_Text:\n",
    "    if len(word)>=1:\n",
    "        if word != '0':\n",
    "            Theon_Words.append(word)\n",
    "        \n",
    "#Theon_Words        "
   ]
  },
  {
   "cell_type": "code",
   "execution_count": 342,
   "metadata": {},
   "outputs": [],
   "source": [
    "Theon_Words_String = ' '.join(Theon_Words)\n",
    "#Theon_Words_String"
   ]
  },
  {
   "cell_type": "code",
   "execution_count": 343,
   "metadata": {},
   "outputs": [
    {
     "data": {
      "text/plain": [
       "1006"
      ]
     },
     "execution_count": 343,
     "metadata": {},
     "output_type": "execute_result"
    }
   ],
   "source": [
    "Theon_String_Length = len(Theon_Words_String)\n",
    "Theon_String_Length"
   ]
  },
  {
   "cell_type": "code",
   "execution_count": 344,
   "metadata": {
    "scrolled": false
   },
   "outputs": [
    {
     "data": {
      "text/plain": [
       "Sentiment(polarity=0.05272486772486774, subjectivity=0.5136507936507936)"
      ]
     },
     "execution_count": 344,
     "metadata": {},
     "output_type": "execute_result"
    }
   ],
   "source": [
    "TextBlob(Theon_Words_String).sentiment"
   ]
  },
  {
   "cell_type": "markdown",
   "metadata": {},
   "source": [
    "### Tyrion Lannister"
   ]
  },
  {
   "cell_type": "code",
   "execution_count": 345,
   "metadata": {
    "scrolled": true
   },
   "outputs": [],
   "source": [
    "Tyrion = season_one.loc['Tyrion Lannister']\n",
    "#print Tyrion"
   ]
  },
  {
   "cell_type": "code",
   "execution_count": 346,
   "metadata": {},
   "outputs": [],
   "source": [
    "Tyrion_Text = Tyrion.values.tolist()\n",
    "#Tyrion_Text"
   ]
  },
  {
   "cell_type": "code",
   "execution_count": 347,
   "metadata": {
    "scrolled": true
   },
   "outputs": [],
   "source": [
    "Tyrion_Words = []\n",
    "\n",
    "for word in Tyrion_Text:\n",
    "    if len(word)>=1:\n",
    "        if word != '0':\n",
    "            Tyrion_Words.append(word)\n",
    "        \n",
    "#Tyrion_Words        "
   ]
  },
  {
   "cell_type": "code",
   "execution_count": 348,
   "metadata": {},
   "outputs": [],
   "source": [
    "Tyrion_Words_String = ' '.join(Tyrion_Words)\n",
    "#Tyrion_Words_String"
   ]
  },
  {
   "cell_type": "code",
   "execution_count": 349,
   "metadata": {},
   "outputs": [
    {
     "data": {
      "text/plain": [
       "3173"
      ]
     },
     "execution_count": 349,
     "metadata": {},
     "output_type": "execute_result"
    }
   ],
   "source": [
    "Tyrion_String_Length = len(Tyrion_Words_String)\n",
    "Tyrion_String_Length"
   ]
  },
  {
   "cell_type": "code",
   "execution_count": 350,
   "metadata": {
    "scrolled": false
   },
   "outputs": [
    {
     "data": {
      "text/plain": [
       "Sentiment(polarity=0.1536992263056093, subjectivity=0.6116934926775351)"
      ]
     },
     "execution_count": 350,
     "metadata": {},
     "output_type": "execute_result"
    }
   ],
   "source": [
    "TextBlob(Tyrion_Words_String).sentiment"
   ]
  },
  {
   "cell_type": "markdown",
   "metadata": {},
   "source": [
    "### Tywin Lannister"
   ]
  },
  {
   "cell_type": "code",
   "execution_count": 351,
   "metadata": {
    "scrolled": true
   },
   "outputs": [],
   "source": [
    "Tywin = season_one.loc['Tywin Lannister']\n",
    "#print Tywin"
   ]
  },
  {
   "cell_type": "code",
   "execution_count": 352,
   "metadata": {},
   "outputs": [],
   "source": [
    "Tywin_Text = Tywin.values.tolist()\n",
    "#Tywin_Text"
   ]
  },
  {
   "cell_type": "code",
   "execution_count": 353,
   "metadata": {
    "scrolled": true
   },
   "outputs": [],
   "source": [
    "Tywin_Words = []\n",
    "\n",
    "for word in Tywin_Text:\n",
    "    if len(word)>=1:\n",
    "        if word != '0':\n",
    "            Tywin_Words.append(word)\n",
    "        \n",
    "#Tywin_Words        "
   ]
  },
  {
   "cell_type": "code",
   "execution_count": 354,
   "metadata": {},
   "outputs": [],
   "source": [
    "Tywin_Words_String = ' '.join(Tywin_Words)\n",
    "#Tywin_Words_String"
   ]
  },
  {
   "cell_type": "code",
   "execution_count": 355,
   "metadata": {},
   "outputs": [
    {
     "data": {
      "text/plain": [
       "693"
      ]
     },
     "execution_count": 355,
     "metadata": {},
     "output_type": "execute_result"
    }
   ],
   "source": [
    "Tywin_String_Length = len(Tywin_Words_String)\n",
    "Tywin_String_Length"
   ]
  },
  {
   "cell_type": "code",
   "execution_count": 356,
   "metadata": {
    "scrolled": false
   },
   "outputs": [
    {
     "data": {
      "text/plain": [
       "Sentiment(polarity=0.015476190476190473, subjectivity=0.5096726190476191)"
      ]
     },
     "execution_count": 356,
     "metadata": {},
     "output_type": "execute_result"
    }
   ],
   "source": [
    "TextBlob(Tywin_Words_String).sentiment"
   ]
  },
  {
   "cell_type": "markdown",
   "metadata": {},
   "source": [
    "### Varys"
   ]
  },
  {
   "cell_type": "code",
   "execution_count": 357,
   "metadata": {
    "scrolled": true
   },
   "outputs": [],
   "source": [
    "Varys = season_one.loc['Varys']\n",
    "#print Varys"
   ]
  },
  {
   "cell_type": "code",
   "execution_count": 358,
   "metadata": {},
   "outputs": [],
   "source": [
    "Varys_Text = Varys.values.tolist()\n",
    "#Varys_Text"
   ]
  },
  {
   "cell_type": "code",
   "execution_count": 359,
   "metadata": {
    "scrolled": true
   },
   "outputs": [],
   "source": [
    "Varys_Words = []\n",
    "\n",
    "for word in Varys_Text:\n",
    "    if len(word)>=1:\n",
    "        if word != '0':\n",
    "            Varys_Words.append(word)\n",
    "        \n",
    "#Varys_Words        "
   ]
  },
  {
   "cell_type": "code",
   "execution_count": 360,
   "metadata": {},
   "outputs": [],
   "source": [
    "Varys_Words_String = ' '.join(Varys_Words)\n",
    "#Varys_Words_String"
   ]
  },
  {
   "cell_type": "code",
   "execution_count": 361,
   "metadata": {},
   "outputs": [
    {
     "data": {
      "text/plain": [
       "1248"
      ]
     },
     "execution_count": 361,
     "metadata": {},
     "output_type": "execute_result"
    }
   ],
   "source": [
    "Varys_String_Length = len(Varys_Words_String)\n",
    "Varys_String_Length"
   ]
  },
  {
   "cell_type": "code",
   "execution_count": 362,
   "metadata": {
    "scrolled": false
   },
   "outputs": [
    {
     "data": {
      "text/plain": [
       "Sentiment(polarity=0.07933273622928795, subjectivity=0.6403592576006368)"
      ]
     },
     "execution_count": 362,
     "metadata": {},
     "output_type": "execute_result"
    }
   ],
   "source": [
    "TextBlob(Varys_Words_String).sentiment"
   ]
  },
  {
   "cell_type": "code",
   "execution_count": null,
   "metadata": {
    "collapsed": true
   },
   "outputs": [],
   "source": []
  }
 ],
 "metadata": {
  "kernelspec": {
   "display_name": "Python 2",
   "language": "python",
   "name": "python2"
  },
  "language_info": {
   "codemirror_mode": {
    "name": "ipython",
    "version": 2
   },
   "file_extension": ".py",
   "mimetype": "text/x-python",
   "name": "python",
   "nbconvert_exporter": "python",
   "pygments_lexer": "ipython2",
   "version": "2.7.13"
  }
 },
 "nbformat": 4,
 "nbformat_minor": 2
}
