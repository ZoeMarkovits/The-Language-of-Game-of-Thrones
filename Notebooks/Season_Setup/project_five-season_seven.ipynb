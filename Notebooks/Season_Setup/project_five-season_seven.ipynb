{
 "cells": [
  {
   "cell_type": "markdown",
   "metadata": {},
   "source": [
    "# Project Five \n",
    "# Game of Thrones - Season Seven"
   ]
  },
  {
   "cell_type": "markdown",
   "metadata": {},
   "source": [
    "## Importing and Cleaning"
   ]
  },
  {
   "cell_type": "code",
   "execution_count": 1,
   "metadata": {},
   "outputs": [
    {
     "name": "stderr",
     "output_type": "stream",
     "text": [
      "Using Theano backend.\n"
     ]
    }
   ],
   "source": [
    "import numpy as np\n",
    "import pandas as pd\n",
    "import nltk\n",
    "from nltk.tag import pos_tag\n",
    "from nltk.tokenize import word_tokenize\n",
    "from nltk.tokenize import sent_tokenize\n",
    "from textblob import TextBlob\n",
    "from nltk.corpus import stopwords\n",
    "from sklearn.feature_extraction.text import TfidfVectorizer, CountVectorizer\n",
    "from sklearn.decomposition import NMF, LatentDirichletAllocation\n",
    "import gensim\n",
    "from nltk.tag import pos_tag\n",
    "import re"
   ]
  },
  {
   "cell_type": "code",
   "execution_count": 2,
   "metadata": {
    "collapsed": true
   },
   "outputs": [],
   "source": [
    "pd.set_option('display.max_columns', 135)\n",
    "pd.set_option('display.max_rows', 135)"
   ]
  },
  {
   "cell_type": "code",
   "execution_count": 3,
   "metadata": {
    "collapsed": true
   },
   "outputs": [],
   "source": [
    "df_s7 = pd.read_json('/Users/zoemarkovits/Metis/project_five_got/scrape/season_seven.json')"
   ]
  },
  {
   "cell_type": "code",
   "execution_count": 4,
   "metadata": {
    "scrolled": false
   },
   "outputs": [
    {
     "data": {
      "text/html": [
       "<div>\n",
       "<table border=\"1\" class=\"dataframe\">\n",
       "  <thead>\n",
       "    <tr style=\"text-align: right;\">\n",
       "      <th></th>\n",
       "      <th>title</th>\n",
       "      <th>script_text</th>\n",
       "    </tr>\n",
       "  </thead>\n",
       "  <tbody>\n",
       "    <tr>\n",
       "      <th>0</th>\n",
       "      <td>[Dragonstone]</td>\n",
       "      <td>[\\n, \\nWALDER FREY: You're wonder why I brough...</td>\n",
       "    </tr>\n",
       "    <tr>\n",
       "      <th>1</th>\n",
       "      <td>[Stormborn]</td>\n",
       "      <td>[\\n, \\nTYRION: On a night like this, you came ...</td>\n",
       "    </tr>\n",
       "    <tr>\n",
       "      <th>2</th>\n",
       "      <td>[The Queen's Justice]</td>\n",
       "      <td>[\\n, \\nTYRION: The bastard of Winterfell., \\n,...</td>\n",
       "    </tr>\n",
       "    <tr>\n",
       "      <th>3</th>\n",
       "      <td>[The Spoils of War]</td>\n",
       "      <td>[\\n, \\nJAIME:  Halt that wagon!, \\n, \\nJAIME o...</td>\n",
       "    </tr>\n",
       "    <tr>\n",
       "      <th>4</th>\n",
       "      <td>[Eastwatch]</td>\n",
       "      <td>[\\n, \\nJAIME:  You could have killed me., \\n, ...</td>\n",
       "    </tr>\n",
       "    <tr>\n",
       "      <th>5</th>\n",
       "      <td>[Beyond the Wall]</td>\n",
       "      <td>[\\n, INT. DRAGONSTONE - CHAMBER OF THE PAINTED...</td>\n",
       "    </tr>\n",
       "  </tbody>\n",
       "</table>\n",
       "</div>"
      ],
      "text/plain": [
       "                   title                                        script_text\n",
       "0          [Dragonstone]  [\\n, \\nWALDER FREY: You're wonder why I brough...\n",
       "1            [Stormborn]  [\\n, \\nTYRION: On a night like this, you came ...\n",
       "2  [The Queen's Justice]  [\\n, \\nTYRION: The bastard of Winterfell., \\n,...\n",
       "3    [The Spoils of War]  [\\n, \\nJAIME:  Halt that wagon!, \\n, \\nJAIME o...\n",
       "4            [Eastwatch]  [\\n, \\nJAIME:  You could have killed me., \\n, ...\n",
       "5      [Beyond the Wall]  [\\n, INT. DRAGONSTONE - CHAMBER OF THE PAINTED..."
      ]
     },
     "execution_count": 4,
     "metadata": {},
     "output_type": "execute_result"
    }
   ],
   "source": [
    "df_s7[['title','script_text']]"
   ]
  },
  {
   "cell_type": "code",
   "execution_count": 5,
   "metadata": {
    "collapsed": true
   },
   "outputs": [],
   "source": [
    "df_s7['title'] = df_s7['title'].map(lambda x: str(x)[1:-1])"
   ]
  },
  {
   "cell_type": "code",
   "execution_count": 6,
   "metadata": {
    "scrolled": true
   },
   "outputs": [
    {
     "data": {
      "text/plain": [
       "0            u'Dragonstone'\n",
       "1              u'Stormborn'\n",
       "2    u\"The Queen's Justice\"\n",
       "3      u'The Spoils of War'\n",
       "4              u'Eastwatch'\n",
       "5        u'Beyond the Wall'\n",
       "Name: title, dtype: object"
      ]
     },
     "execution_count": 6,
     "metadata": {},
     "output_type": "execute_result"
    }
   ],
   "source": [
    "df_s7.title"
   ]
  },
  {
   "cell_type": "code",
   "execution_count": 7,
   "metadata": {
    "collapsed": true
   },
   "outputs": [],
   "source": [
    "names7_01 = ['WALDER FREY','ALL','WALDER','ARYA','EDD','MEERA','BRAN','JON','ROBETT','LYANNA','TORMUND','YOHN',\n",
    "             'SANSA','WOLKAN','JAIME','CERSEI','EURON','MARWYN','SAM','BRIENNE','PETYR','MAN','MAN #2','MAN #3',\n",
    "             'THOROS','SANDOR','BERIC','GILLY','JORAH','DAENERYS']\n",
    "\n",
    "names7_02 = ['TYRION','VARYS','DAENERYS','GREY WORM','MELISANDRE','MISSANDEI','SANSA','JON','DAVOS','CERSEI',\n",
    "             'RANDYLL','QYBURN','JAIME','DICKON','MARWYN','JORAH','SAMWELL','YARA','ELLARIA','OLENNA','ELLIA',\n",
    "             'MAN #1','MAN #2','HOT PIE','ARYA','WOLKAN','YOHN ROYCE','ROBETT GLOVER','LYANNA MORMONT','BAELISH',\n",
    "             'NYMERIA','OBARA','TYENE','THEON','EURON']\n",
    "\n",
    "names7_03 = ['TYRION','JON','DAVOS','MISSANDEI','VARYS','MELISANDRE','DAENERYS','CAPTAIN','THEON','EURON','CERSEI',\n",
    "             'JAIME','QYBURN','MESSENGER','TYCHO','SANSA','WOLKAN','YOHN','BAELISH','GUARD','BRAN','MARWYN',\n",
    "             'JORAH','SAMWELL','GREY WORM','OLENNA']\n",
    "\n",
    "names7_04 = ['JAIME','BRONN','RANDYLL','DICKON','TYCHO','CERSEI','BAELISH','BRAN','MEERA','MAN 1','ARYA','MAN 2',\n",
    "             'SANSA','PODRICK','BRIENNE','MISSANDEI','DAENERYS','JON','TYRION','DAVOS','THEON']\n",
    "\n",
    "names7_05 = ['JAIME','BRONN','DAENERYS','RANDYLL','TYRION','DICKON','QYBURN','CERSEI','JON','GUARD','JORAH','BRAN',\n",
    "             'MAESTER 1','MARWYN','SAMWELL','MAESTER 2','VARYS','DAVOS','ROBETT','YOHN','SANSA','ARYA','GENDRY',\n",
    "             'GUARD 1','GUARD 2','GILLY','SAM','WOLKAN','BAELISH','TORMUND','BERIC','THOROS','SANDOR']\n",
    "\n",
    "names7_06 = ['JON','GENDRY','TORMUND','BERIC','THOROS','SANDOR','JORAH','BENJEN','BRIENNE','BAELISH','ARYA',\n",
    "             'SANSA','DAENERYS','TYRION']\n",
    "\n",
    "names7_07 = []"
   ]
  },
  {
   "cell_type": "markdown",
   "metadata": {},
   "source": [
    "### Episode One"
   ]
  },
  {
   "cell_type": "code",
   "execution_count": 8,
   "metadata": {
    "scrolled": true
   },
   "outputs": [],
   "source": [
    "#df_s7.script_text[0]"
   ]
  },
  {
   "cell_type": "code",
   "execution_count": 9,
   "metadata": {},
   "outputs": [
    {
     "name": "stdout",
     "output_type": "stream",
     "text": [
      "<type 'list'>\n"
     ]
    }
   ],
   "source": [
    "script_text7_01 = df_s7.script_text[0]\n",
    "print type(script_text7_01)\n",
    "\n",
    "#script_text7_01"
   ]
  },
  {
   "cell_type": "code",
   "execution_count": 10,
   "metadata": {
    "scrolled": true
   },
   "outputs": [],
   "source": [
    "script_split = [i.split('\\n') for i in script_text7_01]\n",
    "#script_split"
   ]
  },
  {
   "cell_type": "code",
   "execution_count": 11,
   "metadata": {
    "collapsed": true
   },
   "outputs": [],
   "source": [
    "string_script_text = ' '\n",
    "\n",
    "for i in script_split:\n",
    "    for e in i:\n",
    "        string_script_text = string_script_text + ' ' + e"
   ]
  },
  {
   "cell_type": "code",
   "execution_count": 12,
   "metadata": {},
   "outputs": [],
   "source": [
    "#string_script_text"
   ]
  },
  {
   "cell_type": "code",
   "execution_count": 13,
   "metadata": {},
   "outputs": [],
   "source": [
    "words = word_tokenize(string_script_text)\n",
    "#words"
   ]
  },
  {
   "cell_type": "code",
   "execution_count": 14,
   "metadata": {
    "scrolled": true
   },
   "outputs": [],
   "source": [
    "sentences = sent_tokenize(string_script_text)\n",
    "#sentences"
   ]
  },
  {
   "cell_type": "code",
   "execution_count": 15,
   "metadata": {
    "collapsed": true
   },
   "outputs": [],
   "source": [
    "dialogue = []\n",
    "\n",
    "for sentence in sentences:\n",
    "    if sentence.split(':')[0] in (names7_01):\n",
    "        dialogue.append(sentence)"
   ]
  },
  {
   "cell_type": "code",
   "execution_count": 16,
   "metadata": {
    "scrolled": true
   },
   "outputs": [],
   "source": [
    "#dialogue"
   ]
  },
  {
   "cell_type": "code",
   "execution_count": 17,
   "metadata": {
    "collapsed": true
   },
   "outputs": [],
   "source": [
    "import pickle\n",
    "with open('/Users/zoemarkovits/Metis/project_five_got/Dialogue_PKLs/s701.pkl', 'wb') as f:\n",
    "    pickle.dump(dialogue, f)"
   ]
  },
  {
   "cell_type": "code",
   "execution_count": 18,
   "metadata": {
    "scrolled": true
   },
   "outputs": [],
   "source": [
    "from collections import defaultdict\n",
    "\n",
    "speakers = defaultdict(list)\n",
    "for sentence in dialogue:\n",
    "    speakers[sentence.split(':')[0]].append(sentence.split(':')[1])\n",
    "\n",
    "#speakers"
   ]
  },
  {
   "cell_type": "code",
   "execution_count": 19,
   "metadata": {},
   "outputs": [
    {
     "data": {
      "text/plain": [
       "[u' When people ask you what happened here, tell them the North remembers.',\n",
       " u\" That's a pretty song.\",\n",
       " u\" I don't want to steal your food.\",\n",
       " u\" King's Landing.\",\n",
       " u' Not so bad, is it?',\n",
       " u' What are you doing in the Riverlands?',\n",
       " u\" Oh, no, I couldn't.\",\n",
       " u\" You're a long way from home.\",\n",
       " u' Boy or girl?',\n",
       " u' Why?',\n",
       " u\" It's really good.\",\n",
       " u\" I'm going to kill the queen.\"]"
      ]
     },
     "execution_count": 19,
     "metadata": {},
     "output_type": "execute_result"
    }
   ],
   "source": [
    "speakers['ARYA']"
   ]
  },
  {
   "cell_type": "code",
   "execution_count": 20,
   "metadata": {
    "scrolled": true
   },
   "outputs": [
    {
     "name": "stdout",
     "output_type": "stream",
     "text": [
      "(30, 30)\n"
     ]
    }
   ],
   "source": [
    "episode_one = pd.DataFrame.from_dict(speakers, orient=\"index\")\n",
    "print episode_one.shape"
   ]
  },
  {
   "cell_type": "code",
   "execution_count": 21,
   "metadata": {
    "collapsed": true
   },
   "outputs": [],
   "source": [
    "#from numpy import nan\n",
    "#episode_one.fillna(value=str(0), inplace=True)"
   ]
  },
  {
   "cell_type": "code",
   "execution_count": 22,
   "metadata": {
    "scrolled": true
   },
   "outputs": [],
   "source": [
    "#episode_one.info()"
   ]
  },
  {
   "cell_type": "code",
   "execution_count": 23,
   "metadata": {},
   "outputs": [],
   "source": [
    "#episode_one.head()"
   ]
  },
  {
   "cell_type": "code",
   "execution_count": 24,
   "metadata": {
    "collapsed": true
   },
   "outputs": [],
   "source": [
    "def remove_stops(sentence):\n",
    "    characters = ['?','!','.',',',':',';']\n",
    "    stoplist = stopwords.words('english') + characters\n",
    "    try: \n",
    "        new_sentence = re.sub(r'[^a-zA-Z ]','', sentence)\n",
    "        new_sentence = new_sentence.lower()\n",
    "        new_sentence = new_sentence.split()\n",
    "        new_sentence = [word for word in new_sentence if word not in stoplist]\n",
    "        new_sentence = ' '.join(new_sentence)\n",
    "        return new_sentence\n",
    "    except:\n",
    "        return sentence   "
   ]
  },
  {
   "cell_type": "code",
   "execution_count": 25,
   "metadata": {
    "scrolled": true
   },
   "outputs": [],
   "source": [
    "test = episode_one[0].apply(remove_stops)\n",
    "#test"
   ]
  },
  {
   "cell_type": "code",
   "execution_count": 26,
   "metadata": {
    "collapsed": true,
    "scrolled": false
   },
   "outputs": [],
   "source": [
    "for column in episode_one.columns:\n",
    "    for x in range(len(episode_one[column])):\n",
    "        episode_one[column][x] = remove_stops(episode_one[column][x])"
   ]
  },
  {
   "cell_type": "code",
   "execution_count": 27,
   "metadata": {
    "collapsed": true
   },
   "outputs": [],
   "source": [
    "episode_one.index = episode_one.index.str.title()"
   ]
  },
  {
   "cell_type": "code",
   "execution_count": 28,
   "metadata": {
    "scrolled": false
   },
   "outputs": [
    {
     "data": {
      "text/html": [
       "<div>\n",
       "<table border=\"1\" class=\"dataframe\">\n",
       "  <thead>\n",
       "    <tr style=\"text-align: right;\">\n",
       "      <th></th>\n",
       "      <th>0</th>\n",
       "      <th>1</th>\n",
       "      <th>2</th>\n",
       "      <th>3</th>\n",
       "      <th>4</th>\n",
       "      <th>5</th>\n",
       "      <th>6</th>\n",
       "      <th>7</th>\n",
       "      <th>8</th>\n",
       "      <th>9</th>\n",
       "      <th>10</th>\n",
       "      <th>11</th>\n",
       "      <th>12</th>\n",
       "      <th>13</th>\n",
       "      <th>14</th>\n",
       "      <th>15</th>\n",
       "      <th>16</th>\n",
       "      <th>17</th>\n",
       "      <th>18</th>\n",
       "      <th>19</th>\n",
       "      <th>20</th>\n",
       "      <th>21</th>\n",
       "      <th>22</th>\n",
       "      <th>23</th>\n",
       "      <th>24</th>\n",
       "      <th>25</th>\n",
       "      <th>26</th>\n",
       "      <th>27</th>\n",
       "      <th>28</th>\n",
       "      <th>29</th>\n",
       "    </tr>\n",
       "  </thead>\n",
       "  <tbody>\n",
       "    <tr>\n",
       "      <th>Yohn</th>\n",
       "      <td>umbers karstarks betrayed north</td>\n",
       "      <td>None</td>\n",
       "      <td>None</td>\n",
       "      <td>None</td>\n",
       "      <td>None</td>\n",
       "      <td>None</td>\n",
       "      <td>None</td>\n",
       "      <td>None</td>\n",
       "      <td>None</td>\n",
       "      <td>None</td>\n",
       "      <td>None</td>\n",
       "      <td>None</td>\n",
       "      <td>None</td>\n",
       "      <td>None</td>\n",
       "      <td>None</td>\n",
       "      <td>None</td>\n",
       "      <td>None</td>\n",
       "      <td>None</td>\n",
       "      <td>None</td>\n",
       "      <td>None</td>\n",
       "      <td>None</td>\n",
       "      <td>None</td>\n",
       "      <td>None</td>\n",
       "      <td>None</td>\n",
       "      <td>None</td>\n",
       "      <td>None</td>\n",
       "      <td>None</td>\n",
       "      <td>None</td>\n",
       "      <td>None</td>\n",
       "      <td>None</td>\n",
       "    </tr>\n",
       "    <tr>\n",
       "      <th>Gilly</th>\n",
       "      <td>really sleep sam</td>\n",
       "      <td>legends long night</td>\n",
       "      <td></td>\n",
       "      <td>thats dragonglass</td>\n",
       "      <td>None</td>\n",
       "      <td>None</td>\n",
       "      <td>None</td>\n",
       "      <td>None</td>\n",
       "      <td>None</td>\n",
       "      <td>None</td>\n",
       "      <td>None</td>\n",
       "      <td>None</td>\n",
       "      <td>None</td>\n",
       "      <td>None</td>\n",
       "      <td>None</td>\n",
       "      <td>None</td>\n",
       "      <td>None</td>\n",
       "      <td>None</td>\n",
       "      <td>None</td>\n",
       "      <td>None</td>\n",
       "      <td>None</td>\n",
       "      <td>None</td>\n",
       "      <td>None</td>\n",
       "      <td>None</td>\n",
       "      <td>None</td>\n",
       "      <td>None</td>\n",
       "      <td>None</td>\n",
       "      <td>None</td>\n",
       "      <td>None</td>\n",
       "      <td>None</td>\n",
       "    </tr>\n",
       "    <tr>\n",
       "      <th>Jaime</th>\n",
       "      <td></td>\n",
       "      <td>knew</td>\n",
       "      <td>angry</td>\n",
       "      <td></td>\n",
       "      <td>dragonstone</td>\n",
       "      <td>deepwater ports ships</td>\n",
       "      <td>winter</td>\n",
       "      <td>think daenerys win</td>\n",
       "      <td>three kingdoms best</td>\n",
       "      <td>dynasty</td>\n",
       "      <td>never talked tommen</td>\n",
       "      <td>baby boy killed</td>\n",
       "      <td>cersei jaime</td>\n",
       "      <td>couldnt</td>\n",
       "      <td>well looks like</td>\n",
       "      <td>better allies</td>\n",
       "      <td>theyre good anything</td>\n",
       "      <td>oh come</td>\n",
       "      <td>youre rightful monarch though</td>\n",
       "      <td>greyjoys rebelled agains throne right monarchs...</td>\n",
       "      <td>people cutting kin</td>\n",
       "      <td>enjoyed killing greyjoys</td>\n",
       "      <td>None</td>\n",
       "      <td>None</td>\n",
       "      <td>None</td>\n",
       "      <td>None</td>\n",
       "      <td>None</td>\n",
       "      <td>None</td>\n",
       "      <td>None</td>\n",
       "      <td>None</td>\n",
       "    </tr>\n",
       "    <tr>\n",
       "      <th>Euron</th>\n",
       "      <td>nothing compares treason suffered hands family...</td>\n",
       "      <td>remember well</td>\n",
       "      <td>place getting crowded</td>\n",
       "      <td>good thing</td>\n",
       "      <td>youre humble</td>\n",
       "      <td>ever since little boy wanted grow mary beautif...</td>\n",
       "      <td></td>\n",
       "      <td>try</td>\n",
       "      <td>dont expect trust outright</td>\n",
       "      <td>None</td>\n",
       "      <td>None</td>\n",
       "      <td>None</td>\n",
       "      <td>None</td>\n",
       "      <td>None</td>\n",
       "      <td>None</td>\n",
       "      <td>None</td>\n",
       "      <td>None</td>\n",
       "      <td>None</td>\n",
       "      <td>None</td>\n",
       "      <td>None</td>\n",
       "      <td>None</td>\n",
       "      <td>None</td>\n",
       "      <td>None</td>\n",
       "      <td>None</td>\n",
       "      <td>None</td>\n",
       "      <td>None</td>\n",
       "      <td>None</td>\n",
       "      <td>None</td>\n",
       "      <td>None</td>\n",
       "      <td>None</td>\n",
       "    </tr>\n",
       "    <tr>\n",
       "      <th>Sam</th>\n",
       "      <td>archmaester wondering marwyn</td>\n",
       "      <td>um</td>\n",
       "      <td>wondering considered proposition</td>\n",
       "      <td>asked light ive seen north could access restri...</td>\n",
       "      <td></td>\n",
       "      <td>archmaester respect ive seen themthe army dead</td>\n",
       "      <td>sources restricted area</td>\n",
       "      <td>believe</td>\n",
       "      <td>makes person south twins</td>\n",
       "      <td>dead dont</td>\n",
       "      <td>targaryens used dragonglass decorate weapons w...</td>\n",
       "      <td>map dragonstone</td>\n",
       "      <td>mountain</td>\n",
       "      <td></td>\n",
       "      <td>havent heard anything</td>\n",
       "      <td>None</td>\n",
       "      <td>None</td>\n",
       "      <td>None</td>\n",
       "      <td>None</td>\n",
       "      <td>None</td>\n",
       "      <td>None</td>\n",
       "      <td>None</td>\n",
       "      <td>None</td>\n",
       "      <td>None</td>\n",
       "      <td>None</td>\n",
       "      <td>None</td>\n",
       "      <td>None</td>\n",
       "      <td>None</td>\n",
       "      <td>None</td>\n",
       "      <td>None</td>\n",
       "    </tr>\n",
       "  </tbody>\n",
       "</table>\n",
       "</div>"
      ],
      "text/plain": [
       "                                                      0                   1   \\\n",
       "Yohn                     umbers karstarks betrayed north                None   \n",
       "Gilly                                   really sleep sam  legends long night   \n",
       "Jaime                                                                   knew   \n",
       "Euron  nothing compares treason suffered hands family...       remember well   \n",
       "Sam                         archmaester wondering marwyn                  um   \n",
       "\n",
       "                                     2   \\\n",
       "Yohn                               None   \n",
       "Gilly                                     \n",
       "Jaime                             angry   \n",
       "Euron             place getting crowded   \n",
       "Sam    wondering considered proposition   \n",
       "\n",
       "                                                      3             4   \\\n",
       "Yohn                                                None          None   \n",
       "Gilly                                  thats dragonglass          None   \n",
       "Jaime                                                      dragonstone   \n",
       "Euron                                         good thing  youre humble   \n",
       "Sam    asked light ive seen north could access restri...                 \n",
       "\n",
       "                                                      5   \\\n",
       "Yohn                                                None   \n",
       "Gilly                                               None   \n",
       "Jaime                              deepwater ports ships   \n",
       "Euron  ever since little boy wanted grow mary beautif...   \n",
       "Sam       archmaester respect ive seen themthe army dead   \n",
       "\n",
       "                            6                   7   \\\n",
       "Yohn                      None                None   \n",
       "Gilly                     None                None   \n",
       "Jaime                   winter  think daenerys win   \n",
       "Euron                                          try   \n",
       "Sam    sources restricted area             believe   \n",
       "\n",
       "                               8          9   \\\n",
       "Yohn                         None       None   \n",
       "Gilly                        None       None   \n",
       "Jaime         three kingdoms best    dynasty   \n",
       "Euron  dont expect trust outright       None   \n",
       "Sam      makes person south twins  dead dont   \n",
       "\n",
       "                                                      10               11  \\\n",
       "Yohn                                                None             None   \n",
       "Gilly                                               None             None   \n",
       "Jaime                                never talked tommen  baby boy killed   \n",
       "Euron                                               None             None   \n",
       "Sam    targaryens used dragonglass decorate weapons w...  map dragonstone   \n",
       "\n",
       "                 12       13                     14             15  \\\n",
       "Yohn           None     None                   None           None   \n",
       "Gilly          None     None                   None           None   \n",
       "Jaime  cersei jaime  couldnt        well looks like  better allies   \n",
       "Euron          None     None                   None           None   \n",
       "Sam        mountain           havent heard anything           None   \n",
       "\n",
       "                         16       17                             18  \\\n",
       "Yohn                   None     None                           None   \n",
       "Gilly                  None     None                           None   \n",
       "Jaime  theyre good anything  oh come  youre rightful monarch though   \n",
       "Euron                  None     None                           None   \n",
       "Sam                    None     None                           None   \n",
       "\n",
       "                                                      19                  20  \\\n",
       "Yohn                                                None                None   \n",
       "Gilly                                               None                None   \n",
       "Jaime  greyjoys rebelled agains throne right monarchs...  people cutting kin   \n",
       "Euron                                               None                None   \n",
       "Sam                                                 None                None   \n",
       "\n",
       "                             21    22    23    24    25    26    27    28  \\\n",
       "Yohn                       None  None  None  None  None  None  None  None   \n",
       "Gilly                      None  None  None  None  None  None  None  None   \n",
       "Jaime  enjoyed killing greyjoys  None  None  None  None  None  None  None   \n",
       "Euron                      None  None  None  None  None  None  None  None   \n",
       "Sam                        None  None  None  None  None  None  None  None   \n",
       "\n",
       "         29  \n",
       "Yohn   None  \n",
       "Gilly  None  \n",
       "Jaime  None  \n",
       "Euron  None  \n",
       "Sam    None  "
      ]
     },
     "execution_count": 28,
     "metadata": {},
     "output_type": "execute_result"
    }
   ],
   "source": [
    "episode_one.head()"
   ]
  },
  {
   "cell_type": "markdown",
   "metadata": {},
   "source": [
    "### Episode Two"
   ]
  },
  {
   "cell_type": "code",
   "execution_count": 29,
   "metadata": {
    "scrolled": true
   },
   "outputs": [],
   "source": [
    "#df_s7.script_text[1]"
   ]
  },
  {
   "cell_type": "code",
   "execution_count": 30,
   "metadata": {},
   "outputs": [
    {
     "name": "stdout",
     "output_type": "stream",
     "text": [
      "<type 'list'>\n"
     ]
    }
   ],
   "source": [
    "script_text7_02 = df_s7.script_text[1]\n",
    "print type(script_text7_02)\n",
    "\n",
    "#script_text7_02"
   ]
  },
  {
   "cell_type": "code",
   "execution_count": 31,
   "metadata": {
    "scrolled": true
   },
   "outputs": [],
   "source": [
    "script_split2 = [i.split('\\n') for i in script_text7_02]\n",
    "#script_split2"
   ]
  },
  {
   "cell_type": "code",
   "execution_count": 32,
   "metadata": {
    "collapsed": true
   },
   "outputs": [],
   "source": [
    "string_script_text2 = ' '\n",
    "\n",
    "for i in script_split2:\n",
    "    for e in i:\n",
    "        string_script_text2 = string_script_text2 + ' ' + e"
   ]
  },
  {
   "cell_type": "code",
   "execution_count": 33,
   "metadata": {},
   "outputs": [],
   "source": [
    "#string_script_text2"
   ]
  },
  {
   "cell_type": "code",
   "execution_count": 34,
   "metadata": {},
   "outputs": [],
   "source": [
    "words2 = word_tokenize(string_script_text2)\n",
    "#words2"
   ]
  },
  {
   "cell_type": "code",
   "execution_count": 35,
   "metadata": {},
   "outputs": [],
   "source": [
    "sentences2 = sent_tokenize(string_script_text2)\n",
    "#sentences2"
   ]
  },
  {
   "cell_type": "code",
   "execution_count": 36,
   "metadata": {
    "collapsed": true,
    "scrolled": false
   },
   "outputs": [],
   "source": [
    "dialogue2 = []\n",
    "\n",
    "for sentence in sentences2:\n",
    "    words=sentence.split(':')[0]\n",
    "    if len(words.split())<=2:\n",
    "        if words in (names7_02):\n",
    "            dialogue2.append(sentence)"
   ]
  },
  {
   "cell_type": "code",
   "execution_count": 37,
   "metadata": {
    "scrolled": true
   },
   "outputs": [],
   "source": [
    "#dialogue2"
   ]
  },
  {
   "cell_type": "code",
   "execution_count": 38,
   "metadata": {
    "collapsed": true
   },
   "outputs": [],
   "source": [
    "import pickle\n",
    "with open('/Users/zoemarkovits/Metis/project_five_got/Dialogue_PKLs/s702.pkl', 'wb') as f:\n",
    "    pickle.dump(dialogue2, f)"
   ]
  },
  {
   "cell_type": "code",
   "execution_count": 39,
   "metadata": {
    "scrolled": true
   },
   "outputs": [],
   "source": [
    "from collections import defaultdict\n",
    "\n",
    "speakers2 = defaultdict(list)\n",
    "for sentence in dialogue2:\n",
    "    speakers2[sentence.split(':')[0]].append(sentence.split(':')[1])\n",
    "\n",
    "#speakers2"
   ]
  },
  {
   "cell_type": "code",
   "execution_count": 40,
   "metadata": {
    "scrolled": false
   },
   "outputs": [
    {
     "data": {
      "text/plain": [
       "[u\" We won't stay on Dragonstone for long.\",\n",
       " u' Conquering Westeros would be easy for you.',\n",
       " u' We can take the Seven Kingdoms without turning it into a slaughterhouse.',\n",
       " u' Your Grace, when I was ready to drink myself into a small coffin, Lord Varys told me about a queen in the east who--    DAENERYS (to VARYS)',\n",
       " u' Lord Varys has proven himself a loyal servant.',\n",
       " u\"  Doesn't really roll off the tongue, does it?\",\n",
       " u'  Jon Snow?',\n",
       " u\"  I traveled with him to the Wall when he joined the Night's Watch.\",\n",
       " u\"  I can't speak to prophecies or visions in the flames, but I like Jon Snow and I trusted him, and I am an excellent judge of character.\",\n",
       " u'  If he does rule the north, he would make a valuable ally.',\n",
       " u'  If we turn the dragons loose, tens of thousands will die in the firestorms.',\n",
       " u'    I know how you wage war.',\n",
       " u\"  But we won't use Dothraki and Unsullied.\",\n",
       " u'  Cersei will try to rally the lords of Westeros by appealing to their loyalty, their love for their country.',\n",
       " u'  You are.',\n",
       " u\"  Lady Greyjoy will escort you home to Sunspear and her Iron Fleet will ferry the Dornish army back up to King's Landing.\",\n",
       " u'  The Dornish will lay siege to the capital alongside the Tyrell army.',\n",
       " u'  The unsullied will have another objective.']"
      ]
     },
     "execution_count": 40,
     "metadata": {},
     "output_type": "execute_result"
    }
   ],
   "source": [
    "speakers2['TYRION']"
   ]
  },
  {
   "cell_type": "code",
   "execution_count": 41,
   "metadata": {
    "scrolled": true
   },
   "outputs": [
    {
     "name": "stdout",
     "output_type": "stream",
     "text": [
      "(35, 37)\n"
     ]
    }
   ],
   "source": [
    "episode_two = pd.DataFrame.from_dict(speakers2, orient=\"index\")\n",
    "print episode_two.shape"
   ]
  },
  {
   "cell_type": "code",
   "execution_count": 42,
   "metadata": {
    "collapsed": true
   },
   "outputs": [],
   "source": [
    "#from numpy import nan\n",
    "#episode_two.fillna(value=str(0), inplace=True)"
   ]
  },
  {
   "cell_type": "code",
   "execution_count": 43,
   "metadata": {},
   "outputs": [],
   "source": [
    "#episode_two.head()"
   ]
  },
  {
   "cell_type": "code",
   "execution_count": 44,
   "metadata": {
    "scrolled": true
   },
   "outputs": [],
   "source": [
    "test2 = episode_two[0].apply(remove_stops)\n",
    "#test2"
   ]
  },
  {
   "cell_type": "code",
   "execution_count": 45,
   "metadata": {
    "collapsed": true,
    "scrolled": false
   },
   "outputs": [],
   "source": [
    "for column in episode_two.columns:\n",
    "    for x in range(len(episode_two[column])):\n",
    "        episode_two[column][x] = remove_stops(episode_two[column][x])"
   ]
  },
  {
   "cell_type": "code",
   "execution_count": 46,
   "metadata": {
    "collapsed": true
   },
   "outputs": [],
   "source": [
    "episode_two.index = episode_two.index.str.title()"
   ]
  },
  {
   "cell_type": "code",
   "execution_count": 47,
   "metadata": {
    "scrolled": true
   },
   "outputs": [
    {
     "data": {
      "text/html": [
       "<div>\n",
       "<table border=\"1\" class=\"dataframe\">\n",
       "  <thead>\n",
       "    <tr style=\"text-align: right;\">\n",
       "      <th></th>\n",
       "      <th>0</th>\n",
       "      <th>1</th>\n",
       "      <th>2</th>\n",
       "      <th>3</th>\n",
       "      <th>4</th>\n",
       "      <th>5</th>\n",
       "      <th>6</th>\n",
       "      <th>7</th>\n",
       "      <th>8</th>\n",
       "      <th>9</th>\n",
       "      <th>10</th>\n",
       "      <th>11</th>\n",
       "      <th>12</th>\n",
       "      <th>13</th>\n",
       "      <th>14</th>\n",
       "      <th>15</th>\n",
       "      <th>16</th>\n",
       "      <th>17</th>\n",
       "      <th>18</th>\n",
       "      <th>19</th>\n",
       "      <th>20</th>\n",
       "      <th>21</th>\n",
       "      <th>22</th>\n",
       "      <th>23</th>\n",
       "      <th>24</th>\n",
       "      <th>25</th>\n",
       "      <th>26</th>\n",
       "      <th>27</th>\n",
       "      <th>28</th>\n",
       "      <th>29</th>\n",
       "      <th>30</th>\n",
       "      <th>31</th>\n",
       "      <th>32</th>\n",
       "      <th>33</th>\n",
       "      <th>34</th>\n",
       "      <th>35</th>\n",
       "      <th>36</th>\n",
       "    </tr>\n",
       "  </thead>\n",
       "  <tbody>\n",
       "    <tr>\n",
       "      <th>Davos</th>\n",
       "      <td>sounds like charmer</td>\n",
       "      <td>fire kills whites told</td>\n",
       "      <td>dangerous</td>\n",
       "      <td>army dead makes passed wall enough men fight</td>\n",
       "      <td>None</td>\n",
       "      <td>None</td>\n",
       "      <td>None</td>\n",
       "      <td>None</td>\n",
       "      <td>None</td>\n",
       "      <td>None</td>\n",
       "      <td>None</td>\n",
       "      <td>None</td>\n",
       "      <td>None</td>\n",
       "      <td>None</td>\n",
       "      <td>None</td>\n",
       "      <td>None</td>\n",
       "      <td>None</td>\n",
       "      <td>None</td>\n",
       "      <td>None</td>\n",
       "      <td>None</td>\n",
       "      <td>None</td>\n",
       "      <td>None</td>\n",
       "      <td>None</td>\n",
       "      <td>None</td>\n",
       "      <td>None</td>\n",
       "      <td>None</td>\n",
       "      <td>None</td>\n",
       "      <td>None</td>\n",
       "      <td>None</td>\n",
       "      <td>None</td>\n",
       "      <td>None</td>\n",
       "      <td>None</td>\n",
       "      <td>None</td>\n",
       "      <td>None</td>\n",
       "      <td>None</td>\n",
       "      <td>None</td>\n",
       "      <td>None</td>\n",
       "    </tr>\n",
       "    <tr>\n",
       "      <th>Melisandre</th>\n",
       "      <td>called melisandre</td>\n",
       "      <td>didnt</td>\n",
       "      <td>long night coming</td>\n",
       "      <td>prophecies dangerous things</td>\n",
       "      <td>lord commander nights watch allowed wildlings ...</td>\n",
       "      <td>summon jon snow</td>\n",
       "      <td>None</td>\n",
       "      <td>None</td>\n",
       "      <td>None</td>\n",
       "      <td>None</td>\n",
       "      <td>None</td>\n",
       "      <td>None</td>\n",
       "      <td>None</td>\n",
       "      <td>None</td>\n",
       "      <td>None</td>\n",
       "      <td>None</td>\n",
       "      <td>None</td>\n",
       "      <td>None</td>\n",
       "      <td>None</td>\n",
       "      <td>None</td>\n",
       "      <td>None</td>\n",
       "      <td>None</td>\n",
       "      <td>None</td>\n",
       "      <td>None</td>\n",
       "      <td>None</td>\n",
       "      <td>None</td>\n",
       "      <td>None</td>\n",
       "      <td>None</td>\n",
       "      <td>None</td>\n",
       "      <td>None</td>\n",
       "      <td>None</td>\n",
       "      <td>None</td>\n",
       "      <td>None</td>\n",
       "      <td>None</td>\n",
       "      <td>None</td>\n",
       "      <td>None</td>\n",
       "      <td>None</td>\n",
       "    </tr>\n",
       "    <tr>\n",
       "      <th>Dickon</th>\n",
       "      <td>ser jaime</td>\n",
       "      <td>dickon</td>\n",
       "      <td>None</td>\n",
       "      <td>None</td>\n",
       "      <td>None</td>\n",
       "      <td>None</td>\n",
       "      <td>None</td>\n",
       "      <td>None</td>\n",
       "      <td>None</td>\n",
       "      <td>None</td>\n",
       "      <td>None</td>\n",
       "      <td>None</td>\n",
       "      <td>None</td>\n",
       "      <td>None</td>\n",
       "      <td>None</td>\n",
       "      <td>None</td>\n",
       "      <td>None</td>\n",
       "      <td>None</td>\n",
       "      <td>None</td>\n",
       "      <td>None</td>\n",
       "      <td>None</td>\n",
       "      <td>None</td>\n",
       "      <td>None</td>\n",
       "      <td>None</td>\n",
       "      <td>None</td>\n",
       "      <td>None</td>\n",
       "      <td>None</td>\n",
       "      <td>None</td>\n",
       "      <td>None</td>\n",
       "      <td>None</td>\n",
       "      <td>None</td>\n",
       "      <td>None</td>\n",
       "      <td>None</td>\n",
       "      <td>None</td>\n",
       "      <td>None</td>\n",
       "      <td>None</td>\n",
       "      <td>None</td>\n",
       "    </tr>\n",
       "    <tr>\n",
       "      <th>Tyene</th>\n",
       "      <td>momma want cersei</td>\n",
       "      <td>father got careless</td>\n",
       "      <td>maybe ill kill take kings landing wont share</td>\n",
       "      <td>None</td>\n",
       "      <td>None</td>\n",
       "      <td>None</td>\n",
       "      <td>None</td>\n",
       "      <td>None</td>\n",
       "      <td>None</td>\n",
       "      <td>None</td>\n",
       "      <td>None</td>\n",
       "      <td>None</td>\n",
       "      <td>None</td>\n",
       "      <td>None</td>\n",
       "      <td>None</td>\n",
       "      <td>None</td>\n",
       "      <td>None</td>\n",
       "      <td>None</td>\n",
       "      <td>None</td>\n",
       "      <td>None</td>\n",
       "      <td>None</td>\n",
       "      <td>None</td>\n",
       "      <td>None</td>\n",
       "      <td>None</td>\n",
       "      <td>None</td>\n",
       "      <td>None</td>\n",
       "      <td>None</td>\n",
       "      <td>None</td>\n",
       "      <td>None</td>\n",
       "      <td>None</td>\n",
       "      <td>None</td>\n",
       "      <td>None</td>\n",
       "      <td>None</td>\n",
       "      <td>None</td>\n",
       "      <td>None</td>\n",
       "      <td>None</td>\n",
       "      <td>None</td>\n",
       "    </tr>\n",
       "    <tr>\n",
       "      <th>Jaime</th>\n",
       "      <td>lord tarley</td>\n",
       "      <td>rickon isnt</td>\n",
       "      <td>thats</td>\n",
       "      <td>thank coming</td>\n",
       "      <td>ride hornhill today</td>\n",
       "      <td>side fighting</td>\n",
       "      <td>want ranking general wars come</td>\n",
       "      <td>swore oath crown well lord tarley</td>\n",
       "      <td>great woman</td>\n",
       "      <td>war queen need new warden south</td>\n",
       "      <td>None</td>\n",
       "      <td>None</td>\n",
       "      <td>None</td>\n",
       "      <td>None</td>\n",
       "      <td>None</td>\n",
       "      <td>None</td>\n",
       "      <td>None</td>\n",
       "      <td>None</td>\n",
       "      <td>None</td>\n",
       "      <td>None</td>\n",
       "      <td>None</td>\n",
       "      <td>None</td>\n",
       "      <td>None</td>\n",
       "      <td>None</td>\n",
       "      <td>None</td>\n",
       "      <td>None</td>\n",
       "      <td>None</td>\n",
       "      <td>None</td>\n",
       "      <td>None</td>\n",
       "      <td>None</td>\n",
       "      <td>None</td>\n",
       "      <td>None</td>\n",
       "      <td>None</td>\n",
       "      <td>None</td>\n",
       "      <td>None</td>\n",
       "      <td>None</td>\n",
       "      <td>None</td>\n",
       "    </tr>\n",
       "  </tbody>\n",
       "</table>\n",
       "</div>"
      ],
      "text/plain": [
       "                             0                       1   \\\n",
       "Davos       sounds like charmer  fire kills whites told   \n",
       "Melisandre    called melisandre                   didnt   \n",
       "Dickon                ser jaime                  dickon   \n",
       "Tyene         momma want cersei     father got careless   \n",
       "Jaime               lord tarley             rickon isnt   \n",
       "\n",
       "                                                      2   \\\n",
       "Davos                                          dangerous   \n",
       "Melisandre                             long night coming   \n",
       "Dickon                                              None   \n",
       "Tyene       maybe ill kill take kings landing wont share   \n",
       "Jaime                                              thats   \n",
       "\n",
       "                                                      3   \\\n",
       "Davos       army dead makes passed wall enough men fight   \n",
       "Melisandre                   prophecies dangerous things   \n",
       "Dickon                                              None   \n",
       "Tyene                                               None   \n",
       "Jaime                                       thank coming   \n",
       "\n",
       "                                                           4   \\\n",
       "Davos                                                    None   \n",
       "Melisandre  lord commander nights watch allowed wildlings ...   \n",
       "Dickon                                                   None   \n",
       "Tyene                                                    None   \n",
       "Jaime                                     ride hornhill today   \n",
       "\n",
       "                         5                               6   \\\n",
       "Davos                  None                            None   \n",
       "Melisandre  summon jon snow                            None   \n",
       "Dickon                 None                            None   \n",
       "Tyene                  None                            None   \n",
       "Jaime         side fighting  want ranking general wars come   \n",
       "\n",
       "                                           7            8   \\\n",
       "Davos                                    None         None   \n",
       "Melisandre                               None         None   \n",
       "Dickon                                   None         None   \n",
       "Tyene                                    None         None   \n",
       "Jaime       swore oath crown well lord tarley  great woman   \n",
       "\n",
       "                                         9     10    11    12    13    14  \\\n",
       "Davos                                  None  None  None  None  None  None   \n",
       "Melisandre                             None  None  None  None  None  None   \n",
       "Dickon                                 None  None  None  None  None  None   \n",
       "Tyene                                  None  None  None  None  None  None   \n",
       "Jaime       war queen need new warden south  None  None  None  None  None   \n",
       "\n",
       "              15    16    17    18    19    20    21    22    23    24    25  \\\n",
       "Davos       None  None  None  None  None  None  None  None  None  None  None   \n",
       "Melisandre  None  None  None  None  None  None  None  None  None  None  None   \n",
       "Dickon      None  None  None  None  None  None  None  None  None  None  None   \n",
       "Tyene       None  None  None  None  None  None  None  None  None  None  None   \n",
       "Jaime       None  None  None  None  None  None  None  None  None  None  None   \n",
       "\n",
       "              26    27    28    29    30    31    32    33    34    35    36  \n",
       "Davos       None  None  None  None  None  None  None  None  None  None  None  \n",
       "Melisandre  None  None  None  None  None  None  None  None  None  None  None  \n",
       "Dickon      None  None  None  None  None  None  None  None  None  None  None  \n",
       "Tyene       None  None  None  None  None  None  None  None  None  None  None  \n",
       "Jaime       None  None  None  None  None  None  None  None  None  None  None  "
      ]
     },
     "execution_count": 47,
     "metadata": {},
     "output_type": "execute_result"
    }
   ],
   "source": [
    "episode_two.head()"
   ]
  },
  {
   "cell_type": "markdown",
   "metadata": {},
   "source": [
    "### Episode Three"
   ]
  },
  {
   "cell_type": "code",
   "execution_count": 48,
   "metadata": {
    "scrolled": true
   },
   "outputs": [],
   "source": [
    "#df_s7.script_text[2]"
   ]
  },
  {
   "cell_type": "code",
   "execution_count": 49,
   "metadata": {},
   "outputs": [
    {
     "name": "stdout",
     "output_type": "stream",
     "text": [
      "<type 'list'>\n"
     ]
    }
   ],
   "source": [
    "script_text7_03 = df_s7.script_text[2]\n",
    "print type(script_text7_03)\n",
    "\n",
    "#script_text7_03"
   ]
  },
  {
   "cell_type": "code",
   "execution_count": 50,
   "metadata": {
    "scrolled": true
   },
   "outputs": [],
   "source": [
    "script_split3 = [i.split('\\n') for i in script_text7_03]\n",
    "#script_split3"
   ]
  },
  {
   "cell_type": "code",
   "execution_count": 51,
   "metadata": {
    "collapsed": true
   },
   "outputs": [],
   "source": [
    "string_script_text3 = ' '\n",
    "\n",
    "for i in script_split3:\n",
    "    for e in i:\n",
    "        string_script_text3 = string_script_text3 + ' ' + e"
   ]
  },
  {
   "cell_type": "code",
   "execution_count": 52,
   "metadata": {},
   "outputs": [],
   "source": [
    "#string_script_text3"
   ]
  },
  {
   "cell_type": "code",
   "execution_count": 53,
   "metadata": {},
   "outputs": [],
   "source": [
    "words3 = word_tokenize(string_script_text3)\n",
    "#words3"
   ]
  },
  {
   "cell_type": "code",
   "execution_count": 54,
   "metadata": {
    "scrolled": true
   },
   "outputs": [],
   "source": [
    "sentences3 = sent_tokenize(string_script_text3)\n",
    "#sentences3"
   ]
  },
  {
   "cell_type": "code",
   "execution_count": 55,
   "metadata": {
    "collapsed": true,
    "scrolled": false
   },
   "outputs": [],
   "source": [
    "dialogue3 = []\n",
    "\n",
    "for sentence in sentences3:\n",
    "    words=sentence.split(':')[0]\n",
    "    if len(words.split())<=2:\n",
    "        if words in (names7_03):\n",
    "            dialogue3.append(sentence)"
   ]
  },
  {
   "cell_type": "code",
   "execution_count": 56,
   "metadata": {
    "scrolled": true
   },
   "outputs": [],
   "source": [
    "#dialogue3"
   ]
  },
  {
   "cell_type": "code",
   "execution_count": 57,
   "metadata": {
    "collapsed": true
   },
   "outputs": [],
   "source": [
    "import pickle\n",
    "with open('/Users/zoemarkovits/Metis/project_five_got/Dialogue_PKLs/s703.pkl', 'wb') as f:\n",
    "    pickle.dump(dialogue3, f)"
   ]
  },
  {
   "cell_type": "code",
   "execution_count": 58,
   "metadata": {
    "scrolled": true
   },
   "outputs": [],
   "source": [
    "from collections import defaultdict\n",
    "\n",
    "speakers3 = defaultdict(list)\n",
    "for sentence in dialogue3:\n",
    "    speakers3[sentence.split(':')[0]].append(sentence.split(':')[1])\n",
    "\n",
    "#speakers3"
   ]
  },
  {
   "cell_type": "code",
   "execution_count": 59,
   "metadata": {
    "scrolled": false
   },
   "outputs": [
    {
     "data": {
      "text/plain": [
       "[u'  Hello, Sansa.',\n",
       " u'  Yes.',\n",
       " u'  I can never be the Lord of Winterfell.',\n",
       " u\"  It's difficult to explain.\",\n",
       " u'  It means I can see everything.',\n",
       " u'  The three-eyed raven taught me.',\n",
       " u\"  I told you it's difficult to explain.\",\n",
       " u\"  I'll stay a bit longer.\"]"
      ]
     },
     "execution_count": 59,
     "metadata": {},
     "output_type": "execute_result"
    }
   ],
   "source": [
    "speakers3['BRAN']"
   ]
  },
  {
   "cell_type": "code",
   "execution_count": 60,
   "metadata": {
    "scrolled": true
   },
   "outputs": [
    {
     "name": "stdout",
     "output_type": "stream",
     "text": [
      "(26, 50)\n"
     ]
    }
   ],
   "source": [
    "episode_three = pd.DataFrame.from_dict(speakers3, orient=\"index\")\n",
    "print episode_three.shape"
   ]
  },
  {
   "cell_type": "code",
   "execution_count": 61,
   "metadata": {
    "collapsed": true
   },
   "outputs": [],
   "source": [
    "#from numpy import nan\n",
    "#episode_three.fillna(value=str(0), inplace=True)"
   ]
  },
  {
   "cell_type": "code",
   "execution_count": 62,
   "metadata": {},
   "outputs": [],
   "source": [
    "#episode_three.head()"
   ]
  },
  {
   "cell_type": "code",
   "execution_count": 63,
   "metadata": {
    "scrolled": true
   },
   "outputs": [],
   "source": [
    "test3 = episode_three[0].apply(remove_stops)\n",
    "#test3"
   ]
  },
  {
   "cell_type": "code",
   "execution_count": 64,
   "metadata": {
    "collapsed": true,
    "scrolled": false
   },
   "outputs": [],
   "source": [
    "for column in episode_three.columns:\n",
    "    for x in range(len(episode_three[column])):\n",
    "        episode_three[column][x] = remove_stops(episode_three[column][x])"
   ]
  },
  {
   "cell_type": "code",
   "execution_count": 65,
   "metadata": {
    "collapsed": true
   },
   "outputs": [],
   "source": [
    "episode_three.index = episode_three.index.str.title()"
   ]
  },
  {
   "cell_type": "code",
   "execution_count": 66,
   "metadata": {
    "scrolled": true
   },
   "outputs": [
    {
     "data": {
      "text/html": [
       "<div>\n",
       "<table border=\"1\" class=\"dataframe\">\n",
       "  <thead>\n",
       "    <tr style=\"text-align: right;\">\n",
       "      <th></th>\n",
       "      <th>0</th>\n",
       "      <th>1</th>\n",
       "      <th>2</th>\n",
       "      <th>3</th>\n",
       "      <th>4</th>\n",
       "      <th>5</th>\n",
       "      <th>6</th>\n",
       "      <th>7</th>\n",
       "      <th>8</th>\n",
       "      <th>9</th>\n",
       "      <th>10</th>\n",
       "      <th>11</th>\n",
       "      <th>12</th>\n",
       "      <th>13</th>\n",
       "      <th>14</th>\n",
       "      <th>15</th>\n",
       "      <th>16</th>\n",
       "      <th>17</th>\n",
       "      <th>18</th>\n",
       "      <th>19</th>\n",
       "      <th>20</th>\n",
       "      <th>21</th>\n",
       "      <th>22</th>\n",
       "      <th>23</th>\n",
       "      <th>24</th>\n",
       "      <th>25</th>\n",
       "      <th>26</th>\n",
       "      <th>27</th>\n",
       "      <th>28</th>\n",
       "      <th>29</th>\n",
       "      <th>30</th>\n",
       "      <th>31</th>\n",
       "      <th>32</th>\n",
       "      <th>33</th>\n",
       "      <th>34</th>\n",
       "      <th>35</th>\n",
       "      <th>36</th>\n",
       "      <th>37</th>\n",
       "      <th>38</th>\n",
       "      <th>39</th>\n",
       "      <th>40</th>\n",
       "      <th>41</th>\n",
       "      <th>42</th>\n",
       "      <th>43</th>\n",
       "      <th>44</th>\n",
       "      <th>45</th>\n",
       "      <th>46</th>\n",
       "      <th>47</th>\n",
       "      <th>48</th>\n",
       "      <th>49</th>\n",
       "    </tr>\n",
       "  </thead>\n",
       "  <tbody>\n",
       "    <tr>\n",
       "      <th>Davos</th>\n",
       "      <td>davos seaworth</td>\n",
       "      <td>unluckily</td>\n",
       "      <td></td>\n",
       "      <td>ah</td>\n",
       "      <td>place changed</td>\n",
       "      <td>jon snow</td>\n",
       "      <td>hes king north</td>\n",
       "      <td>apologies</td>\n",
       "      <td>wasnt grace</td>\n",
       "      <td>defeat cersei</td>\n",
       "      <td>dont believe</td>\n",
       "      <td>destiny brough daenerys targaryen back shores ...</td>\n",
       "      <td>things dont believe faced things</td>\n",
       "      <td>None</td>\n",
       "      <td>None</td>\n",
       "      <td>None</td>\n",
       "      <td>None</td>\n",
       "      <td>None</td>\n",
       "      <td>None</td>\n",
       "      <td>None</td>\n",
       "      <td>None</td>\n",
       "      <td>None</td>\n",
       "      <td>None</td>\n",
       "      <td>None</td>\n",
       "      <td>None</td>\n",
       "      <td>None</td>\n",
       "      <td>None</td>\n",
       "      <td>None</td>\n",
       "      <td>None</td>\n",
       "      <td>None</td>\n",
       "      <td>None</td>\n",
       "      <td>None</td>\n",
       "      <td>None</td>\n",
       "      <td>None</td>\n",
       "      <td>None</td>\n",
       "      <td>None</td>\n",
       "      <td>None</td>\n",
       "      <td>None</td>\n",
       "      <td>None</td>\n",
       "      <td>None</td>\n",
       "      <td>None</td>\n",
       "      <td>None</td>\n",
       "      <td>None</td>\n",
       "      <td>None</td>\n",
       "      <td>None</td>\n",
       "      <td>None</td>\n",
       "      <td>None</td>\n",
       "      <td>None</td>\n",
       "      <td>None</td>\n",
       "      <td>None</td>\n",
       "    </tr>\n",
       "    <tr>\n",
       "      <th>Yohn</th>\n",
       "      <td>current occupants castle enough food year perhaps</td>\n",
       "      <td>wise lady</td>\n",
       "      <td>lady</td>\n",
       "      <td>indeed</td>\n",
       "      <td>isnt leather</td>\n",
       "      <td>None</td>\n",
       "      <td>None</td>\n",
       "      <td>None</td>\n",
       "      <td>None</td>\n",
       "      <td>None</td>\n",
       "      <td>None</td>\n",
       "      <td>None</td>\n",
       "      <td>None</td>\n",
       "      <td>None</td>\n",
       "      <td>None</td>\n",
       "      <td>None</td>\n",
       "      <td>None</td>\n",
       "      <td>None</td>\n",
       "      <td>None</td>\n",
       "      <td>None</td>\n",
       "      <td>None</td>\n",
       "      <td>None</td>\n",
       "      <td>None</td>\n",
       "      <td>None</td>\n",
       "      <td>None</td>\n",
       "      <td>None</td>\n",
       "      <td>None</td>\n",
       "      <td>None</td>\n",
       "      <td>None</td>\n",
       "      <td>None</td>\n",
       "      <td>None</td>\n",
       "      <td>None</td>\n",
       "      <td>None</td>\n",
       "      <td>None</td>\n",
       "      <td>None</td>\n",
       "      <td>None</td>\n",
       "      <td>None</td>\n",
       "      <td>None</td>\n",
       "      <td>None</td>\n",
       "      <td>None</td>\n",
       "      <td>None</td>\n",
       "      <td>None</td>\n",
       "      <td>None</td>\n",
       "      <td>None</td>\n",
       "      <td>None</td>\n",
       "      <td>None</td>\n",
       "      <td>None</td>\n",
       "      <td>None</td>\n",
       "      <td>None</td>\n",
       "      <td>None</td>\n",
       "    </tr>\n",
       "    <tr>\n",
       "      <th>Melisandre</th>\n",
       "      <td>ive done part</td>\n",
       "      <td>time whispering ears kings come end</td>\n",
       "      <td>neither us common folk anymore</td>\n",
       "      <td>mistakes made</td>\n",
       "      <td>volantis</td>\n",
       "      <td>return dear spider</td>\n",
       "      <td>None</td>\n",
       "      <td>None</td>\n",
       "      <td>None</td>\n",
       "      <td>None</td>\n",
       "      <td>None</td>\n",
       "      <td>None</td>\n",
       "      <td>None</td>\n",
       "      <td>None</td>\n",
       "      <td>None</td>\n",
       "      <td>None</td>\n",
       "      <td>None</td>\n",
       "      <td>None</td>\n",
       "      <td>None</td>\n",
       "      <td>None</td>\n",
       "      <td>None</td>\n",
       "      <td>None</td>\n",
       "      <td>None</td>\n",
       "      <td>None</td>\n",
       "      <td>None</td>\n",
       "      <td>None</td>\n",
       "      <td>None</td>\n",
       "      <td>None</td>\n",
       "      <td>None</td>\n",
       "      <td>None</td>\n",
       "      <td>None</td>\n",
       "      <td>None</td>\n",
       "      <td>None</td>\n",
       "      <td>None</td>\n",
       "      <td>None</td>\n",
       "      <td>None</td>\n",
       "      <td>None</td>\n",
       "      <td>None</td>\n",
       "      <td>None</td>\n",
       "      <td>None</td>\n",
       "      <td>None</td>\n",
       "      <td>None</td>\n",
       "      <td>None</td>\n",
       "      <td>None</td>\n",
       "      <td>None</td>\n",
       "      <td>None</td>\n",
       "      <td>None</td>\n",
       "      <td>None</td>\n",
       "      <td>None</td>\n",
       "      <td>None</td>\n",
       "    </tr>\n",
       "    <tr>\n",
       "      <th>Jaime</th>\n",
       "      <td>mob spat sister long ago turn us theyll cheer ...</td>\n",
       "      <td>advice</td>\n",
       "      <td>dont</td>\n",
       "      <td></td>\n",
       "      <td></td>\n",
       "      <td>suppose well expected</td>\n",
       "      <td>truth casterly rock isnt worth much anymore</td>\n",
       "      <td></td>\n",
       "      <td>robb stark whispering wood</td>\n",
       "      <td>father always said slow learner</td>\n",
       "      <td>widows wail</td>\n",
       "      <td>sure</td>\n",
       "      <td>possibly</td>\n",
       "      <td>yes</td>\n",
       "      <td>think done</td>\n",
       "      <td>cersei several ideas</td>\n",
       "      <td></td>\n",
       "      <td>None</td>\n",
       "      <td>None</td>\n",
       "      <td>None</td>\n",
       "      <td>None</td>\n",
       "      <td>None</td>\n",
       "      <td>None</td>\n",
       "      <td>None</td>\n",
       "      <td>None</td>\n",
       "      <td>None</td>\n",
       "      <td>None</td>\n",
       "      <td>None</td>\n",
       "      <td>None</td>\n",
       "      <td>None</td>\n",
       "      <td>None</td>\n",
       "      <td>None</td>\n",
       "      <td>None</td>\n",
       "      <td>None</td>\n",
       "      <td>None</td>\n",
       "      <td>None</td>\n",
       "      <td>None</td>\n",
       "      <td>None</td>\n",
       "      <td>None</td>\n",
       "      <td>None</td>\n",
       "      <td>None</td>\n",
       "      <td>None</td>\n",
       "      <td>None</td>\n",
       "      <td>None</td>\n",
       "      <td>None</td>\n",
       "      <td>None</td>\n",
       "      <td>None</td>\n",
       "      <td>None</td>\n",
       "      <td>None</td>\n",
       "      <td>None</td>\n",
       "    </tr>\n",
       "    <tr>\n",
       "      <th>Messenger</th>\n",
       "      <td>forgive grace</td>\n",
       "      <td>grace</td>\n",
       "      <td>None</td>\n",
       "      <td>None</td>\n",
       "      <td>None</td>\n",
       "      <td>None</td>\n",
       "      <td>None</td>\n",
       "      <td>None</td>\n",
       "      <td>None</td>\n",
       "      <td>None</td>\n",
       "      <td>None</td>\n",
       "      <td>None</td>\n",
       "      <td>None</td>\n",
       "      <td>None</td>\n",
       "      <td>None</td>\n",
       "      <td>None</td>\n",
       "      <td>None</td>\n",
       "      <td>None</td>\n",
       "      <td>None</td>\n",
       "      <td>None</td>\n",
       "      <td>None</td>\n",
       "      <td>None</td>\n",
       "      <td>None</td>\n",
       "      <td>None</td>\n",
       "      <td>None</td>\n",
       "      <td>None</td>\n",
       "      <td>None</td>\n",
       "      <td>None</td>\n",
       "      <td>None</td>\n",
       "      <td>None</td>\n",
       "      <td>None</td>\n",
       "      <td>None</td>\n",
       "      <td>None</td>\n",
       "      <td>None</td>\n",
       "      <td>None</td>\n",
       "      <td>None</td>\n",
       "      <td>None</td>\n",
       "      <td>None</td>\n",
       "      <td>None</td>\n",
       "      <td>None</td>\n",
       "      <td>None</td>\n",
       "      <td>None</td>\n",
       "      <td>None</td>\n",
       "      <td>None</td>\n",
       "      <td>None</td>\n",
       "      <td>None</td>\n",
       "      <td>None</td>\n",
       "      <td>None</td>\n",
       "      <td>None</td>\n",
       "      <td>None</td>\n",
       "    </tr>\n",
       "  </tbody>\n",
       "</table>\n",
       "</div>"
      ],
      "text/plain": [
       "                                                           0   \\\n",
       "Davos                                          davos seaworth   \n",
       "Yohn        current occupants castle enough food year perhaps   \n",
       "Melisandre                                      ive done part   \n",
       "Jaime       mob spat sister long ago turn us theyll cheer ...   \n",
       "Messenger                                       forgive grace   \n",
       "\n",
       "                                             1   \\\n",
       "Davos                                 unluckily   \n",
       "Yohn                                  wise lady   \n",
       "Melisandre  time whispering ears kings come end   \n",
       "Jaime                                    advice   \n",
       "Messenger                                 grace   \n",
       "\n",
       "                                        2              3              4   \\\n",
       "Davos                                                  ah  place changed   \n",
       "Yohn                                  lady         indeed   isnt leather   \n",
       "Melisandre  neither us common folk anymore  mistakes made       volantis   \n",
       "Jaime                                 dont                                 \n",
       "Messenger                             None           None           None   \n",
       "\n",
       "                               5   \\\n",
       "Davos                    jon snow   \n",
       "Yohn                         None   \n",
       "Melisandre     return dear spider   \n",
       "Jaime       suppose well expected   \n",
       "Messenger                    None   \n",
       "\n",
       "                                                     6          7   \\\n",
       "Davos                                    hes king north  apologies   \n",
       "Yohn                                               None       None   \n",
       "Melisandre                                         None       None   \n",
       "Jaime       truth casterly rock isnt worth much anymore              \n",
       "Messenger                                          None       None   \n",
       "\n",
       "                                    8                                9   \\\n",
       "Davos                      wasnt grace                    defeat cersei   \n",
       "Yohn                              None                             None   \n",
       "Melisandre                        None                             None   \n",
       "Jaime       robb stark whispering wood  father always said slow learner   \n",
       "Messenger                         None                             None   \n",
       "\n",
       "                      10                                                 11  \\\n",
       "Davos       dont believe  destiny brough daenerys targaryen back shores ...   \n",
       "Yohn                None                                               None   \n",
       "Melisandre          None                                               None   \n",
       "Jaime        widows wail                                               sure   \n",
       "Messenger           None                                               None   \n",
       "\n",
       "                                          12    13          14  \\\n",
       "Davos       things dont believe faced things  None        None   \n",
       "Yohn                                    None  None        None   \n",
       "Melisandre                              None  None        None   \n",
       "Jaime                               possibly   yes  think done   \n",
       "Messenger                               None  None        None   \n",
       "\n",
       "                              15    16    17    18    19    20    21    22  \\\n",
       "Davos                       None  None  None  None  None  None  None  None   \n",
       "Yohn                        None  None  None  None  None  None  None  None   \n",
       "Melisandre                  None  None  None  None  None  None  None  None   \n",
       "Jaime       cersei several ideas        None  None  None  None  None  None   \n",
       "Messenger                   None  None  None  None  None  None  None  None   \n",
       "\n",
       "              23    24    25    26    27    28    29    30    31    32    33  \\\n",
       "Davos       None  None  None  None  None  None  None  None  None  None  None   \n",
       "Yohn        None  None  None  None  None  None  None  None  None  None  None   \n",
       "Melisandre  None  None  None  None  None  None  None  None  None  None  None   \n",
       "Jaime       None  None  None  None  None  None  None  None  None  None  None   \n",
       "Messenger   None  None  None  None  None  None  None  None  None  None  None   \n",
       "\n",
       "              34    35    36    37    38    39    40    41    42    43    44  \\\n",
       "Davos       None  None  None  None  None  None  None  None  None  None  None   \n",
       "Yohn        None  None  None  None  None  None  None  None  None  None  None   \n",
       "Melisandre  None  None  None  None  None  None  None  None  None  None  None   \n",
       "Jaime       None  None  None  None  None  None  None  None  None  None  None   \n",
       "Messenger   None  None  None  None  None  None  None  None  None  None  None   \n",
       "\n",
       "              45    46    47    48    49  \n",
       "Davos       None  None  None  None  None  \n",
       "Yohn        None  None  None  None  None  \n",
       "Melisandre  None  None  None  None  None  \n",
       "Jaime       None  None  None  None  None  \n",
       "Messenger   None  None  None  None  None  "
      ]
     },
     "execution_count": 66,
     "metadata": {},
     "output_type": "execute_result"
    }
   ],
   "source": [
    "episode_three.head()"
   ]
  },
  {
   "cell_type": "markdown",
   "metadata": {},
   "source": [
    "### Episode Four"
   ]
  },
  {
   "cell_type": "code",
   "execution_count": 67,
   "metadata": {
    "scrolled": true
   },
   "outputs": [],
   "source": [
    "#df_s7.script_text[3]"
   ]
  },
  {
   "cell_type": "code",
   "execution_count": 68,
   "metadata": {},
   "outputs": [
    {
     "name": "stdout",
     "output_type": "stream",
     "text": [
      "<type 'list'>\n"
     ]
    }
   ],
   "source": [
    "script_text7_04 = df_s7.script_text[3]\n",
    "print type(script_text7_04)\n",
    "\n",
    "#script_text7_04"
   ]
  },
  {
   "cell_type": "code",
   "execution_count": 69,
   "metadata": {
    "scrolled": true
   },
   "outputs": [],
   "source": [
    "script_split4 = [i.split('\\n') for i in script_text7_04]\n",
    "#script_split4"
   ]
  },
  {
   "cell_type": "code",
   "execution_count": 70,
   "metadata": {
    "collapsed": true
   },
   "outputs": [],
   "source": [
    "string_script_text4 = ' '\n",
    "\n",
    "for i in script_split4:\n",
    "    for e in i:\n",
    "        string_script_text4 = string_script_text4 + ' ' + e"
   ]
  },
  {
   "cell_type": "code",
   "execution_count": 71,
   "metadata": {},
   "outputs": [],
   "source": [
    "#string_script_text4"
   ]
  },
  {
   "cell_type": "code",
   "execution_count": 72,
   "metadata": {},
   "outputs": [],
   "source": [
    "words4 = word_tokenize(string_script_text4)\n",
    "#words4"
   ]
  },
  {
   "cell_type": "code",
   "execution_count": 73,
   "metadata": {
    "scrolled": true
   },
   "outputs": [],
   "source": [
    "sentences4 = sent_tokenize(string_script_text4)\n",
    "#sentences4"
   ]
  },
  {
   "cell_type": "code",
   "execution_count": 74,
   "metadata": {
    "collapsed": true,
    "scrolled": false
   },
   "outputs": [],
   "source": [
    "dialogue4 = []\n",
    "\n",
    "for sentence in sentences4:\n",
    "    words=sentence.split(':')[0]\n",
    "    if len(words.split())<=2:\n",
    "        if words in (names7_04):\n",
    "            dialogue4.append(sentence)"
   ]
  },
  {
   "cell_type": "code",
   "execution_count": 75,
   "metadata": {
    "scrolled": true
   },
   "outputs": [],
   "source": [
    "#dialogue4"
   ]
  },
  {
   "cell_type": "code",
   "execution_count": 76,
   "metadata": {
    "collapsed": true
   },
   "outputs": [],
   "source": [
    "import pickle\n",
    "with open('/Users/zoemarkovits/Metis/project_five_got/Dialogue_PKLs/s704.pkl', 'wb') as f:\n",
    "    pickle.dump(dialogue4, f)"
   ]
  },
  {
   "cell_type": "code",
   "execution_count": 77,
   "metadata": {
    "scrolled": true
   },
   "outputs": [],
   "source": [
    "from collections import defaultdict\n",
    "\n",
    "speakers4 = defaultdict(list)\n",
    "for sentence in dialogue4:\n",
    "    speakers4[sentence.split(':')[0]].append(sentence.split(':')[1])\n",
    "\n",
    "#speakers4"
   ]
  },
  {
   "cell_type": "code",
   "execution_count": 78,
   "metadata": {
    "scrolled": false
   },
   "outputs": [
    {
     "data": {
      "text/plain": [
       "[u'  In there.',\n",
       " u\"  I'm Arya Stark.\",\n",
       " u'  Send for Maester Llewyn or Ser Rodrick.',\n",
       " u'  Go ask Jon Snow then, the King in the North.',\n",
       " u'  If Jon Snow is gone who is in charge of Winterfell?',\n",
       " u'  Which Lady Stark?',\n",
       " u'  Tell Sansa her sister is home.',\n",
       " u\"  I'm getting into this castle one way or another.\",\n",
       " u'  Do I have to call you Lady Stark now?',\n",
       " u\"  I didn't run.\",\n",
       " u'  It suits you, Lady Stark.',\n",
       " u\"  That doesn't look like him.\",\n",
       " u\"  We're not.\",\n",
       " u'  They say you killed Joffrey.',\n",
       " u'  Me too.',\n",
       " u\"  Of people I'm going to kill.\",\n",
       " u\"  It's a long story.\",\n",
       " u\"  Mine neither, but our stories aren't over yet.\",\n",
       " u'  You saw me?',\n",
       " u'  So did I.    SANSA',\n",
       " u'  Most of them are dead already.',\n",
       " u'  Where did you get this?',\n",
       " u\"  Littlefinger, he's here?\",\n",
       " u'  Why would a cutthroat have a Valyrian steel dagger?',\n",
       " u'  Are you sure?',\n",
       " u\"  He didn't beat the hound.\",\n",
       " u\"  You swore to serve both of my mother's daughters, didn't you?\",\n",
       " u\"  I won't cut you.\",\n",
       " u'  No one.']"
      ]
     },
     "execution_count": 78,
     "metadata": {},
     "output_type": "execute_result"
    }
   ],
   "source": [
    "speakers4['ARYA']"
   ]
  },
  {
   "cell_type": "code",
   "execution_count": 79,
   "metadata": {
    "scrolled": true
   },
   "outputs": [
    {
     "name": "stdout",
     "output_type": "stream",
     "text": [
      "(21, 32)\n"
     ]
    }
   ],
   "source": [
    "episode_four = pd.DataFrame.from_dict(speakers4, orient=\"index\")\n",
    "print episode_four.shape"
   ]
  },
  {
   "cell_type": "code",
   "execution_count": 80,
   "metadata": {
    "collapsed": true
   },
   "outputs": [],
   "source": [
    "#from numpy import nan\n",
    "#episode_four.fillna(value=str(0), inplace=True)"
   ]
  },
  {
   "cell_type": "code",
   "execution_count": 81,
   "metadata": {},
   "outputs": [],
   "source": [
    "#episode_four.head()"
   ]
  },
  {
   "cell_type": "code",
   "execution_count": 82,
   "metadata": {
    "scrolled": true
   },
   "outputs": [],
   "source": [
    "test4 = episode_four[0].apply(remove_stops)\n",
    "#test4"
   ]
  },
  {
   "cell_type": "code",
   "execution_count": 83,
   "metadata": {
    "collapsed": true,
    "scrolled": false
   },
   "outputs": [],
   "source": [
    "for column in episode_four.columns:\n",
    "    for x in range(len(episode_four[column])):\n",
    "        episode_four[column][x] = remove_stops(episode_four[column][x])"
   ]
  },
  {
   "cell_type": "code",
   "execution_count": 84,
   "metadata": {
    "collapsed": true
   },
   "outputs": [],
   "source": [
    "episode_four.index = episode_four.index.str.title()"
   ]
  },
  {
   "cell_type": "code",
   "execution_count": 85,
   "metadata": {
    "scrolled": true
   },
   "outputs": [
    {
     "data": {
      "text/html": [
       "<div>\n",
       "<table border=\"1\" class=\"dataframe\">\n",
       "  <thead>\n",
       "    <tr style=\"text-align: right;\">\n",
       "      <th></th>\n",
       "      <th>0</th>\n",
       "      <th>1</th>\n",
       "      <th>2</th>\n",
       "      <th>3</th>\n",
       "      <th>4</th>\n",
       "      <th>5</th>\n",
       "      <th>6</th>\n",
       "      <th>7</th>\n",
       "      <th>8</th>\n",
       "      <th>9</th>\n",
       "      <th>10</th>\n",
       "      <th>11</th>\n",
       "      <th>12</th>\n",
       "      <th>13</th>\n",
       "      <th>14</th>\n",
       "      <th>15</th>\n",
       "      <th>16</th>\n",
       "      <th>17</th>\n",
       "      <th>18</th>\n",
       "      <th>19</th>\n",
       "      <th>20</th>\n",
       "      <th>21</th>\n",
       "      <th>22</th>\n",
       "      <th>23</th>\n",
       "      <th>24</th>\n",
       "      <th>25</th>\n",
       "      <th>26</th>\n",
       "      <th>27</th>\n",
       "      <th>28</th>\n",
       "      <th>29</th>\n",
       "      <th>30</th>\n",
       "      <th>31</th>\n",
       "    </tr>\n",
       "  </thead>\n",
       "  <tbody>\n",
       "    <tr>\n",
       "      <th>Randyll</th>\n",
       "      <td>granaries emptied loaded wagons lord</td>\n",
       "      <td>lord</td>\n",
       "      <td>gold safely gates kings landing</td>\n",
       "      <td>need get last wagons blackwater rush nightfall</td>\n",
       "      <td>permission flogging stragglers marked effect m...</td>\n",
       "      <td>come lads</td>\n",
       "      <td>spears armed</td>\n",
       "      <td>None</td>\n",
       "      <td>None</td>\n",
       "      <td>None</td>\n",
       "      <td>None</td>\n",
       "      <td>None</td>\n",
       "      <td>None</td>\n",
       "      <td>None</td>\n",
       "      <td>None</td>\n",
       "      <td>None</td>\n",
       "      <td>None</td>\n",
       "      <td>None</td>\n",
       "      <td>None</td>\n",
       "      <td>None</td>\n",
       "      <td>None</td>\n",
       "      <td>None</td>\n",
       "      <td>None</td>\n",
       "      <td>None</td>\n",
       "      <td>None</td>\n",
       "      <td>None</td>\n",
       "      <td>None</td>\n",
       "      <td>None</td>\n",
       "      <td>None</td>\n",
       "      <td>None</td>\n",
       "      <td>None</td>\n",
       "      <td>None</td>\n",
       "    </tr>\n",
       "    <tr>\n",
       "      <th>Davos</th>\n",
       "      <td>youll want discuss amongst</td>\n",
       "      <td>think</td>\n",
       "      <td>good heart</td>\n",
       "      <td>fewer</td>\n",
       "      <td>speaking good hearts missandei naarth</td>\n",
       "      <td>king snow isnt</td>\n",
       "      <td>custom different naarth</td>\n",
       "      <td>sounds liberating</td>\n",
       "      <td>may slave girl come advise daenerys targaryen</td>\n",
       "      <td>good</td>\n",
       "      <td>heard uncle attacked fleet</td>\n",
       "      <td>sister</td>\n",
       "      <td>None</td>\n",
       "      <td>None</td>\n",
       "      <td>None</td>\n",
       "      <td>None</td>\n",
       "      <td>None</td>\n",
       "      <td>None</td>\n",
       "      <td>None</td>\n",
       "      <td>None</td>\n",
       "      <td>None</td>\n",
       "      <td>None</td>\n",
       "      <td>None</td>\n",
       "      <td>None</td>\n",
       "      <td>None</td>\n",
       "      <td>None</td>\n",
       "      <td>None</td>\n",
       "      <td>None</td>\n",
       "      <td>None</td>\n",
       "      <td>None</td>\n",
       "      <td>None</td>\n",
       "      <td>None</td>\n",
       "    </tr>\n",
       "    <tr>\n",
       "      <th>Baelish</th>\n",
       "      <td></td>\n",
       "      <td>last man wielded meant cut throat mother fought</td>\n",
       "      <td>dagger one took life would stopped dagger hear...</td>\n",
       "      <td></td>\n",
       "      <td>go make way home find chaos world imagine bran...</td>\n",
       "      <td>im sorry disturbed lord stark</td>\n",
       "      <td>None</td>\n",
       "      <td>None</td>\n",
       "      <td>None</td>\n",
       "      <td>None</td>\n",
       "      <td>None</td>\n",
       "      <td>None</td>\n",
       "      <td>None</td>\n",
       "      <td>None</td>\n",
       "      <td>None</td>\n",
       "      <td>None</td>\n",
       "      <td>None</td>\n",
       "      <td>None</td>\n",
       "      <td>None</td>\n",
       "      <td>None</td>\n",
       "      <td>None</td>\n",
       "      <td>None</td>\n",
       "      <td>None</td>\n",
       "      <td>None</td>\n",
       "      <td>None</td>\n",
       "      <td>None</td>\n",
       "      <td>None</td>\n",
       "      <td>None</td>\n",
       "      <td>None</td>\n",
       "      <td>None</td>\n",
       "      <td>None</td>\n",
       "      <td>None</td>\n",
       "    </tr>\n",
       "    <tr>\n",
       "      <th>Tyrion</th>\n",
       "      <td>took casterly rock</td>\n",
       "      <td>still largest army</td>\n",
       "      <td>call grey worm unsullied back</td>\n",
       "      <td>ive underestimated enemies daenerys</td>\n",
       "      <td>weve discussed</td>\n",
       "      <td>smart one</td>\n",
       "      <td>flee idiot</td>\n",
       "      <td>fucking idiot</td>\n",
       "      <td>None</td>\n",
       "      <td>None</td>\n",
       "      <td>None</td>\n",
       "      <td>None</td>\n",
       "      <td>None</td>\n",
       "      <td>None</td>\n",
       "      <td>None</td>\n",
       "      <td>None</td>\n",
       "      <td>None</td>\n",
       "      <td>None</td>\n",
       "      <td>None</td>\n",
       "      <td>None</td>\n",
       "      <td>None</td>\n",
       "      <td>None</td>\n",
       "      <td>None</td>\n",
       "      <td>None</td>\n",
       "      <td>None</td>\n",
       "      <td>None</td>\n",
       "      <td>None</td>\n",
       "      <td>None</td>\n",
       "      <td>None</td>\n",
       "      <td>None</td>\n",
       "      <td>None</td>\n",
       "      <td>None</td>\n",
       "    </tr>\n",
       "    <tr>\n",
       "      <th>Bronn</th>\n",
       "      <td>biggest prize world</td>\n",
       "      <td>high septon</td>\n",
       "      <td>still question prize</td>\n",
       "      <td>castle</td>\n",
       "      <td>one</td>\n",
       "      <td>beg differ</td>\n",
       "      <td>oh youre fucking glum eh</td>\n",
       "      <td>right</td>\n",
       "      <td>yes im sure queen cerseis reign quiet peaceful</td>\n",
       "      <td>like</td>\n",
       "      <td>im much shoveling weight</td>\n",
       "      <td>come</td>\n",
       "      <td>men shit die</td>\n",
       "      <td>listen</td>\n",
       "      <td>line</td>\n",
       "      <td>get back kings landing</td>\n",
       "      <td>youre commander damned infantryman</td>\n",
       "      <td>go get</td>\n",
       "      <td></td>\n",
       "      <td>come fucker</td>\n",
       "      <td>None</td>\n",
       "      <td>None</td>\n",
       "      <td>None</td>\n",
       "      <td>None</td>\n",
       "      <td>None</td>\n",
       "      <td>None</td>\n",
       "      <td>None</td>\n",
       "      <td>None</td>\n",
       "      <td>None</td>\n",
       "      <td>None</td>\n",
       "      <td>None</td>\n",
       "      <td>None</td>\n",
       "    </tr>\n",
       "  </tbody>\n",
       "</table>\n",
       "</div>"
      ],
      "text/plain": [
       "                                           0   \\\n",
       "Randyll  granaries emptied loaded wagons lord   \n",
       "Davos              youll want discuss amongst   \n",
       "Baelish                                         \n",
       "Tyrion                     took casterly rock   \n",
       "Bronn                     biggest prize world   \n",
       "\n",
       "                                                      1   \\\n",
       "Randyll                                             lord   \n",
       "Davos                                              think   \n",
       "Baelish  last man wielded meant cut throat mother fought   \n",
       "Tyrion                                still largest army   \n",
       "Bronn                                        high septon   \n",
       "\n",
       "                                                        2   \\\n",
       "Randyll                    gold safely gates kings landing   \n",
       "Davos                                           good heart   \n",
       "Baelish  dagger one took life would stopped dagger hear...   \n",
       "Tyrion                       call grey worm unsullied back   \n",
       "Bronn                                 still question prize   \n",
       "\n",
       "                                                     3   \\\n",
       "Randyll  need get last wagons blackwater rush nightfall   \n",
       "Davos                                             fewer   \n",
       "Baelish                                                   \n",
       "Tyrion              ive underestimated enemies daenerys   \n",
       "Bronn                                            castle   \n",
       "\n",
       "                                                        4   \\\n",
       "Randyll  permission flogging stragglers marked effect m...   \n",
       "Davos                speaking good hearts missandei naarth   \n",
       "Baelish  go make way home find chaos world imagine bran...   \n",
       "Tyrion                                      weve discussed   \n",
       "Bronn                                                  one   \n",
       "\n",
       "                                    5                         6   \\\n",
       "Randyll                      come lads              spears armed   \n",
       "Davos                   king snow isnt   custom different naarth   \n",
       "Baelish  im sorry disturbed lord stark                      None   \n",
       "Tyrion                       smart one                flee idiot   \n",
       "Bronn                       beg differ  oh youre fucking glum eh   \n",
       "\n",
       "                        7                                               8   \\\n",
       "Randyll               None                                            None   \n",
       "Davos    sounds liberating   may slave girl come advise daenerys targaryen   \n",
       "Baelish               None                                            None   \n",
       "Tyrion       fucking idiot                                            None   \n",
       "Bronn                right  yes im sure queen cerseis reign quiet peaceful   \n",
       "\n",
       "           9                           10      11            12      13    14  \\\n",
       "Randyll  None                        None    None          None    None  None   \n",
       "Davos    good  heard uncle attacked fleet  sister          None    None  None   \n",
       "Baelish  None                        None    None          None    None  None   \n",
       "Tyrion   None                        None    None          None    None  None   \n",
       "Bronn    like    im much shoveling weight    come  men shit die  listen  line   \n",
       "\n",
       "                             15                                  16      17  \\\n",
       "Randyll                    None                                None    None   \n",
       "Davos                      None                                None    None   \n",
       "Baelish                    None                                None    None   \n",
       "Tyrion                     None                                None    None   \n",
       "Bronn    get back kings landing  youre commander damned infantryman  go get   \n",
       "\n",
       "           18           19    20    21    22    23    24    25    26    27  \\\n",
       "Randyll  None         None  None  None  None  None  None  None  None  None   \n",
       "Davos    None         None  None  None  None  None  None  None  None  None   \n",
       "Baelish  None         None  None  None  None  None  None  None  None  None   \n",
       "Tyrion   None         None  None  None  None  None  None  None  None  None   \n",
       "Bronn          come fucker  None  None  None  None  None  None  None  None   \n",
       "\n",
       "           28    29    30    31  \n",
       "Randyll  None  None  None  None  \n",
       "Davos    None  None  None  None  \n",
       "Baelish  None  None  None  None  \n",
       "Tyrion   None  None  None  None  \n",
       "Bronn    None  None  None  None  "
      ]
     },
     "execution_count": 85,
     "metadata": {},
     "output_type": "execute_result"
    }
   ],
   "source": [
    "episode_four.head()"
   ]
  },
  {
   "cell_type": "markdown",
   "metadata": {},
   "source": [
    "### Episode Five"
   ]
  },
  {
   "cell_type": "code",
   "execution_count": 86,
   "metadata": {
    "scrolled": true
   },
   "outputs": [],
   "source": [
    "#df_s7.script_text[4]"
   ]
  },
  {
   "cell_type": "code",
   "execution_count": 87,
   "metadata": {},
   "outputs": [
    {
     "name": "stdout",
     "output_type": "stream",
     "text": [
      "<type 'list'>\n"
     ]
    }
   ],
   "source": [
    "script_text7_05 = df_s7.script_text[4]\n",
    "print type(script_text7_05)\n",
    "\n",
    "#script_text7_05"
   ]
  },
  {
   "cell_type": "code",
   "execution_count": 88,
   "metadata": {
    "scrolled": true
   },
   "outputs": [],
   "source": [
    "script_split5 = [i.split('\\n') for i in script_text7_05]\n",
    "#script_split5"
   ]
  },
  {
   "cell_type": "code",
   "execution_count": 89,
   "metadata": {
    "collapsed": true
   },
   "outputs": [],
   "source": [
    "string_script_text5 = ' '\n",
    "\n",
    "for i in script_split5:\n",
    "    for e in i:\n",
    "        string_script_text5 = string_script_text5 + ' ' + e"
   ]
  },
  {
   "cell_type": "code",
   "execution_count": 90,
   "metadata": {},
   "outputs": [],
   "source": [
    "#string_script_text5"
   ]
  },
  {
   "cell_type": "code",
   "execution_count": 91,
   "metadata": {},
   "outputs": [],
   "source": [
    "words5 = word_tokenize(string_script_text5)\n",
    "#words5"
   ]
  },
  {
   "cell_type": "code",
   "execution_count": 92,
   "metadata": {
    "scrolled": true
   },
   "outputs": [],
   "source": [
    "sentences5 = sent_tokenize(string_script_text5)\n",
    "#sentences5"
   ]
  },
  {
   "cell_type": "code",
   "execution_count": 93,
   "metadata": {
    "collapsed": true,
    "scrolled": false
   },
   "outputs": [],
   "source": [
    "dialogue5 = []\n",
    "\n",
    "for sentence in sentences5:\n",
    "    words=sentence.split(':')[0]\n",
    "    if len(words.split())<=2:\n",
    "        if words in (names7_05):\n",
    "            dialogue5.append(sentence)"
   ]
  },
  {
   "cell_type": "code",
   "execution_count": 94,
   "metadata": {
    "scrolled": true
   },
   "outputs": [],
   "source": [
    "#dialogue5"
   ]
  },
  {
   "cell_type": "code",
   "execution_count": 95,
   "metadata": {
    "collapsed": true
   },
   "outputs": [],
   "source": [
    "import pickle\n",
    "with open('/Users/zoemarkovits/Metis/project_five_got/Dialogue_PKLs/s705.pkl', 'wb') as f:\n",
    "    pickle.dump(dialogue5, f)"
   ]
  },
  {
   "cell_type": "code",
   "execution_count": 96,
   "metadata": {
    "scrolled": true
   },
   "outputs": [],
   "source": [
    "from collections import defaultdict\n",
    "\n",
    "speakers5 = defaultdict(list)\n",
    "for sentence in dialogue5:\n",
    "    speakers5[sentence.split(':')[0]].append(sentence.split(':')[1])\n",
    "\n",
    "#speakers5"
   ]
  },
  {
   "cell_type": "code",
   "execution_count": 97,
   "metadata": {
    "scrolled": false
   },
   "outputs": [
    {
     "data": {
      "text/plain": [
       "[u\"  Weren't you worried about the Goldcloaks?\",\n",
       " u'  Here I am arming Lannisters.',\n",
       " u'  You came to get me.',\n",
       " u\"  Don't you think I've been thinking about it every swing of the hammer... how happy I am making weapons for the family that killed my father?\",\n",
       " u\"  I've been getting ready.\",\n",
       " u\"  I don't know much about swinging swords, but this --    GENDRY removes a giant war hammer from the wall.\",\n",
       " u'  -- this I know.',\n",
       " u'  Who should I say I am?',\n",
       " u'  That they are.',\n",
       " u'  I understand.',\n",
       " u\"  You don't have to worry.\",\n",
       " u'  Understood.',\n",
       " u\"  It's Gendry, Your Grace.\",\n",
       " u'  Our fathers trusted each other.',\n",
       " u'  I met yours in my shop.',\n",
       " u'  All I ever knew was they fought together and won.',\n",
       " u\"  No, but I'm a fighter.\",\n",
       " u'  I prefer a hammer.',\n",
       " u\"  Don't trust them.\",\n",
       " u\"  They're the Brotherhood.\",\n",
       " u'  How can we be?']"
      ]
     },
     "execution_count": 97,
     "metadata": {},
     "output_type": "execute_result"
    }
   ],
   "source": [
    "speakers5['GENDRY']"
   ]
  },
  {
   "cell_type": "code",
   "execution_count": 98,
   "metadata": {
    "scrolled": true
   },
   "outputs": [
    {
     "name": "stdout",
     "output_type": "stream",
     "text": [
      "(32, 44)\n"
     ]
    }
   ],
   "source": [
    "episode_five = pd.DataFrame.from_dict(speakers5, orient=\"index\")\n",
    "print episode_five.shape"
   ]
  },
  {
   "cell_type": "code",
   "execution_count": 99,
   "metadata": {
    "collapsed": true
   },
   "outputs": [],
   "source": [
    "#from numpy import nan\n",
    "#episode_five.fillna(value=str(0), inplace=True)"
   ]
  },
  {
   "cell_type": "code",
   "execution_count": 100,
   "metadata": {},
   "outputs": [],
   "source": [
    "#episode_five.head()"
   ]
  },
  {
   "cell_type": "code",
   "execution_count": 101,
   "metadata": {
    "scrolled": true
   },
   "outputs": [],
   "source": [
    "test5 = episode_five[0].apply(remove_stops)\n",
    "#test5"
   ]
  },
  {
   "cell_type": "code",
   "execution_count": 102,
   "metadata": {
    "collapsed": true,
    "scrolled": false
   },
   "outputs": [],
   "source": [
    "for column in episode_five.columns:\n",
    "    for x in range(len(episode_five[column])):\n",
    "        episode_five[column][x] = remove_stops(episode_five[column][x])"
   ]
  },
  {
   "cell_type": "code",
   "execution_count": 103,
   "metadata": {
    "collapsed": true
   },
   "outputs": [],
   "source": [
    "episode_five.index = episode_five.index.str.title()"
   ]
  },
  {
   "cell_type": "code",
   "execution_count": 104,
   "metadata": {
    "scrolled": true
   },
   "outputs": [
    {
     "data": {
      "text/html": [
       "<div>\n",
       "<table border=\"1\" class=\"dataframe\">\n",
       "  <thead>\n",
       "    <tr style=\"text-align: right;\">\n",
       "      <th></th>\n",
       "      <th>0</th>\n",
       "      <th>1</th>\n",
       "      <th>2</th>\n",
       "      <th>3</th>\n",
       "      <th>4</th>\n",
       "      <th>5</th>\n",
       "      <th>6</th>\n",
       "      <th>7</th>\n",
       "      <th>8</th>\n",
       "      <th>9</th>\n",
       "      <th>10</th>\n",
       "      <th>11</th>\n",
       "      <th>12</th>\n",
       "      <th>13</th>\n",
       "      <th>14</th>\n",
       "      <th>15</th>\n",
       "      <th>16</th>\n",
       "      <th>17</th>\n",
       "      <th>18</th>\n",
       "      <th>19</th>\n",
       "      <th>20</th>\n",
       "      <th>21</th>\n",
       "      <th>22</th>\n",
       "      <th>23</th>\n",
       "      <th>24</th>\n",
       "      <th>25</th>\n",
       "      <th>26</th>\n",
       "      <th>27</th>\n",
       "      <th>28</th>\n",
       "      <th>29</th>\n",
       "      <th>30</th>\n",
       "      <th>31</th>\n",
       "      <th>32</th>\n",
       "      <th>33</th>\n",
       "      <th>34</th>\n",
       "      <th>35</th>\n",
       "      <th>36</th>\n",
       "      <th>37</th>\n",
       "      <th>38</th>\n",
       "      <th>39</th>\n",
       "      <th>40</th>\n",
       "      <th>41</th>\n",
       "      <th>42</th>\n",
       "      <th>43</th>\n",
       "    </tr>\n",
       "  </thead>\n",
       "  <tbody>\n",
       "    <tr>\n",
       "      <th>Davos</th>\n",
       "      <td>smuggle goldcloaks recognize im warning im fig...</td>\n",
       "      <td>wont follow ser jorah</td>\n",
       "      <td>cant lead raid beyond wall</td>\n",
       "      <td>last time killed son wildfire</td>\n",
       "      <td>theres path left hugs cliff</td>\n",
       "      <td>ive got business flea bottom</td>\n",
       "      <td>fucked</td>\n",
       "      <td>wasnt sure id find</td>\n",
       "      <td>thought might still rowing</td>\n",
       "      <td>looked shops taverns brothels</td>\n",
       "      <td>havent years</td>\n",
       "      <td>anybody give trouble</td>\n",
       "      <td>dont sure</td>\n",
       "      <td>think need understand gendry</td>\n",
       "      <td>know youre heading</td>\n",
       "      <td>might want bring one swords</td>\n",
       "      <td>keep fathers name</td>\n",
       "      <td>told clovis dont get soon someone going guard</td>\n",
       "      <td>weapons friends</td>\n",
       "      <td></td>\n",
       "      <td>still five gold dragons</td>\n",
       "      <td></td>\n",
       "      <td>cant say pleasure business</td>\n",
       "      <td>gold</td>\n",
       "      <td>come look</td>\n",
       "      <td>fermented crab</td>\n",
       "      <td>fermented crab</td>\n",
       "      <td>id hurry favorite establishment youll put whol...</td>\n",
       "      <td>really wouldnt try anymore see first bite hits</td>\n",
       "      <td>perhaps theres arrangement</td>\n",
       "      <td>gendry</td>\n",
       "      <td>leaving today</td>\n",
       "      <td>doesnt need thinking harboring bastard dead king</td>\n",
       "      <td>youre clovis smith whos come pay respects head...</td>\n",
       "      <td>begging pardon grace</td>\n",
       "      <td>yet</td>\n",
       "      <td>meant keep</td>\n",
       "      <td>dont fool</td>\n",
       "      <td>handle</td>\n",
       "      <td>father used say better coward minute dead rest...</td>\n",
       "      <td>yeah</td>\n",
       "      <td>ive failing job late</td>\n",
       "      <td>ill staying behind</td>\n",
       "      <td>reasons arent reasons</td>\n",
       "    </tr>\n",
       "    <tr>\n",
       "      <th>Yohn</th>\n",
       "      <td>knights vale came lady stark</td>\n",
       "      <td>None</td>\n",
       "      <td>None</td>\n",
       "      <td>None</td>\n",
       "      <td>None</td>\n",
       "      <td>None</td>\n",
       "      <td>None</td>\n",
       "      <td>None</td>\n",
       "      <td>None</td>\n",
       "      <td>None</td>\n",
       "      <td>None</td>\n",
       "      <td>None</td>\n",
       "      <td>None</td>\n",
       "      <td>None</td>\n",
       "      <td>None</td>\n",
       "      <td>None</td>\n",
       "      <td>None</td>\n",
       "      <td>None</td>\n",
       "      <td>None</td>\n",
       "      <td>None</td>\n",
       "      <td>None</td>\n",
       "      <td>None</td>\n",
       "      <td>None</td>\n",
       "      <td>None</td>\n",
       "      <td>None</td>\n",
       "      <td>None</td>\n",
       "      <td>None</td>\n",
       "      <td>None</td>\n",
       "      <td>None</td>\n",
       "      <td>None</td>\n",
       "      <td>None</td>\n",
       "      <td>None</td>\n",
       "      <td>None</td>\n",
       "      <td>None</td>\n",
       "      <td>None</td>\n",
       "      <td>None</td>\n",
       "      <td>None</td>\n",
       "      <td>None</td>\n",
       "      <td>None</td>\n",
       "      <td>None</td>\n",
       "      <td>None</td>\n",
       "      <td>None</td>\n",
       "      <td>None</td>\n",
       "      <td>None</td>\n",
       "    </tr>\n",
       "    <tr>\n",
       "      <th>Dickon</th>\n",
       "      <td>kill</td>\n",
       "      <td>im dickon tarley son randyll tarley</td>\n",
       "      <td></td>\n",
       "      <td>None</td>\n",
       "      <td>None</td>\n",
       "      <td>None</td>\n",
       "      <td>None</td>\n",
       "      <td>None</td>\n",
       "      <td>None</td>\n",
       "      <td>None</td>\n",
       "      <td>None</td>\n",
       "      <td>None</td>\n",
       "      <td>None</td>\n",
       "      <td>None</td>\n",
       "      <td>None</td>\n",
       "      <td>None</td>\n",
       "      <td>None</td>\n",
       "      <td>None</td>\n",
       "      <td>None</td>\n",
       "      <td>None</td>\n",
       "      <td>None</td>\n",
       "      <td>None</td>\n",
       "      <td>None</td>\n",
       "      <td>None</td>\n",
       "      <td>None</td>\n",
       "      <td>None</td>\n",
       "      <td>None</td>\n",
       "      <td>None</td>\n",
       "      <td>None</td>\n",
       "      <td>None</td>\n",
       "      <td>None</td>\n",
       "      <td>None</td>\n",
       "      <td>None</td>\n",
       "      <td>None</td>\n",
       "      <td>None</td>\n",
       "      <td>None</td>\n",
       "      <td>None</td>\n",
       "      <td>None</td>\n",
       "      <td>None</td>\n",
       "      <td>None</td>\n",
       "      <td>None</td>\n",
       "      <td>None</td>\n",
       "      <td>None</td>\n",
       "      <td>None</td>\n",
       "    </tr>\n",
       "    <tr>\n",
       "      <th>Gilly</th>\n",
       "      <td>know many steps citadel</td>\n",
       "      <td></td>\n",
       "      <td>guess many windows great sept baelor</td>\n",
       "      <td>thats true</td>\n",
       "      <td>meynard says issued anullment prince rhaegar r...</td>\n",
       "      <td>steps</td>\n",
       "      <td>sure want</td>\n",
       "      <td>None</td>\n",
       "      <td>None</td>\n",
       "      <td>None</td>\n",
       "      <td>None</td>\n",
       "      <td>None</td>\n",
       "      <td>None</td>\n",
       "      <td>None</td>\n",
       "      <td>None</td>\n",
       "      <td>None</td>\n",
       "      <td>None</td>\n",
       "      <td>None</td>\n",
       "      <td>None</td>\n",
       "      <td>None</td>\n",
       "      <td>None</td>\n",
       "      <td>None</td>\n",
       "      <td>None</td>\n",
       "      <td>None</td>\n",
       "      <td>None</td>\n",
       "      <td>None</td>\n",
       "      <td>None</td>\n",
       "      <td>None</td>\n",
       "      <td>None</td>\n",
       "      <td>None</td>\n",
       "      <td>None</td>\n",
       "      <td>None</td>\n",
       "      <td>None</td>\n",
       "      <td>None</td>\n",
       "      <td>None</td>\n",
       "      <td>None</td>\n",
       "      <td>None</td>\n",
       "      <td>None</td>\n",
       "      <td>None</td>\n",
       "      <td>None</td>\n",
       "      <td>None</td>\n",
       "      <td>None</td>\n",
       "      <td>None</td>\n",
       "      <td>None</td>\n",
       "    </tr>\n",
       "    <tr>\n",
       "      <th>Jaime</th>\n",
       "      <td>ending war killing</td>\n",
       "      <td>one</td>\n",
       "      <td>dont mean fucked</td>\n",
       "      <td>tell cersei</td>\n",
       "      <td>havent done full counting</td>\n",
       "      <td>saw dothraki fight</td>\n",
       "      <td>didnt</td>\n",
       "      <td>im talking father</td>\n",
       "      <td></td>\n",
       "      <td>olenna would rather seen granddaughter married...</td>\n",
       "      <td>shes dead like son grandchildren whole house</td>\n",
       "      <td>dont time</td>\n",
       "      <td>seem recall giving bit trouble well</td>\n",
       "      <td></td>\n",
       "      <td>today might day kill accident</td>\n",
       "      <td>dont talk father</td>\n",
       "      <td>want cersei bend knee ask</td>\n",
       "      <td>qyburn</td>\n",
       "      <td>met tyrion</td>\n",
       "      <td>daenerys wants meet</td>\n",
       "      <td>discuss armistice</td>\n",
       "      <td>army dead men marching seven kingdoms</td>\n",
       "      <td>tyrion</td>\n",
       "      <td>let happen</td>\n",
       "      <td>say father</td>\n",
       "      <td>people wont like</td>\n",
       "      <td>lion doesnt concern opinions sheep</td>\n",
       "      <td>None</td>\n",
       "      <td>None</td>\n",
       "      <td>None</td>\n",
       "      <td>None</td>\n",
       "      <td>None</td>\n",
       "      <td>None</td>\n",
       "      <td>None</td>\n",
       "      <td>None</td>\n",
       "      <td>None</td>\n",
       "      <td>None</td>\n",
       "      <td>None</td>\n",
       "      <td>None</td>\n",
       "      <td>None</td>\n",
       "      <td>None</td>\n",
       "      <td>None</td>\n",
       "      <td>None</td>\n",
       "      <td>None</td>\n",
       "    </tr>\n",
       "  </tbody>\n",
       "</table>\n",
       "</div>"
      ],
      "text/plain": [
       "                                                       0   \\\n",
       "Davos   smuggle goldcloaks recognize im warning im fig...   \n",
       "Yohn                         knights vale came lady stark   \n",
       "Dickon                                               kill   \n",
       "Gilly                             know many steps citadel   \n",
       "Jaime                                  ending war killing   \n",
       "\n",
       "                                         1   \\\n",
       "Davos                 wont follow ser jorah   \n",
       "Yohn                                   None   \n",
       "Dickon  im dickon tarley son randyll tarley   \n",
       "Gilly                                         \n",
       "Jaime                                   one   \n",
       "\n",
       "                                          2                              3   \\\n",
       "Davos             cant lead raid beyond wall  last time killed son wildfire   \n",
       "Yohn                                    None                           None   \n",
       "Dickon                                                                 None   \n",
       "Gilly   guess many windows great sept baelor                     thats true   \n",
       "Jaime                       dont mean fucked                    tell cersei   \n",
       "\n",
       "                                                       4   \\\n",
       "Davos                         theres path left hugs cliff   \n",
       "Yohn                                                 None   \n",
       "Dickon                                               None   \n",
       "Gilly   meynard says issued anullment prince rhaegar r...   \n",
       "Jaime                           havent done full counting   \n",
       "\n",
       "                                  5          6                   7   \\\n",
       "Davos   ive got business flea bottom     fucked  wasnt sure id find   \n",
       "Yohn                            None       None                None   \n",
       "Dickon                          None       None                None   \n",
       "Gilly                          steps  sure want                None   \n",
       "Jaime             saw dothraki fight      didnt   im talking father   \n",
       "\n",
       "                                8   \\\n",
       "Davos   thought might still rowing   \n",
       "Yohn                          None   \n",
       "Dickon                        None   \n",
       "Gilly                         None   \n",
       "Jaime                                \n",
       "\n",
       "                                                       9   \\\n",
       "Davos                       looked shops taverns brothels   \n",
       "Yohn                                                 None   \n",
       "Dickon                                               None   \n",
       "Gilly                                                None   \n",
       "Jaime   olenna would rather seen granddaughter married...   \n",
       "\n",
       "                                                  10                    11  \\\n",
       "Davos                                   havent years  anybody give trouble   \n",
       "Yohn                                            None                  None   \n",
       "Dickon                                          None                  None   \n",
       "Gilly                                           None                  None   \n",
       "Jaime   shes dead like son grandchildren whole house             dont time   \n",
       "\n",
       "                                         12                            13  \\\n",
       "Davos                             dont sure  think need understand gendry   \n",
       "Yohn                                   None                          None   \n",
       "Dickon                                 None                          None   \n",
       "Gilly                                  None                          None   \n",
       "Jaime   seem recall giving bit trouble well                                 \n",
       "\n",
       "                                   14                           15  \\\n",
       "Davos              know youre heading  might want bring one swords   \n",
       "Yohn                             None                         None   \n",
       "Dickon                           None                         None   \n",
       "Gilly                            None                         None   \n",
       "Jaime   today might day kill accident             dont talk father   \n",
       "\n",
       "                               16  \\\n",
       "Davos           keep fathers name   \n",
       "Yohn                         None   \n",
       "Dickon                       None   \n",
       "Gilly                        None   \n",
       "Jaime   want cersei bend knee ask   \n",
       "\n",
       "                                                   17               18  \\\n",
       "Davos   told clovis dont get soon someone going guard  weapons friends   \n",
       "Yohn                                             None             None   \n",
       "Dickon                                           None             None   \n",
       "Gilly                                            None             None   \n",
       "Jaime                                          qyburn       met tyrion   \n",
       "\n",
       "                         19                       20  \\\n",
       "Davos                        still five gold dragons   \n",
       "Yohn                   None                     None   \n",
       "Dickon                 None                     None   \n",
       "Gilly                  None                     None   \n",
       "Jaime   daenerys wants meet        discuss armistice   \n",
       "\n",
       "                                           21                          22  \\\n",
       "Davos                                          cant say pleasure business   \n",
       "Yohn                                     None                        None   \n",
       "Dickon                                   None                        None   \n",
       "Gilly                                    None                        None   \n",
       "Jaime   army dead men marching seven kingdoms                      tyrion   \n",
       "\n",
       "                23          24                25  \\\n",
       "Davos         gold   come look    fermented crab   \n",
       "Yohn          None        None              None   \n",
       "Dickon        None        None              None   \n",
       "Gilly         None        None              None   \n",
       "Jaime   let happen  say father  people wont like   \n",
       "\n",
       "                                        26  \\\n",
       "Davos                       fermented crab   \n",
       "Yohn                                  None   \n",
       "Dickon                                None   \n",
       "Gilly                                 None   \n",
       "Jaime   lion doesnt concern opinions sheep   \n",
       "\n",
       "                                                       27  \\\n",
       "Davos   id hurry favorite establishment youll put whol...   \n",
       "Yohn                                                 None   \n",
       "Dickon                                               None   \n",
       "Gilly                                                None   \n",
       "Jaime                                                None   \n",
       "\n",
       "                                                    28  \\\n",
       "Davos   really wouldnt try anymore see first bite hits   \n",
       "Yohn                                              None   \n",
       "Dickon                                            None   \n",
       "Gilly                                             None   \n",
       "Jaime                                             None   \n",
       "\n",
       "                                29      30             31  \\\n",
       "Davos   perhaps theres arrangement  gendry  leaving today   \n",
       "Yohn                          None    None           None   \n",
       "Dickon                        None    None           None   \n",
       "Gilly                         None    None           None   \n",
       "Jaime                         None    None           None   \n",
       "\n",
       "                                                      32  \\\n",
       "Davos   doesnt need thinking harboring bastard dead king   \n",
       "Yohn                                                None   \n",
       "Dickon                                              None   \n",
       "Gilly                                               None   \n",
       "Jaime                                               None   \n",
       "\n",
       "                                                       33  \\\n",
       "Davos   youre clovis smith whos come pay respects head...   \n",
       "Yohn                                                 None   \n",
       "Dickon                                               None   \n",
       "Gilly                                                None   \n",
       "Jaime                                                None   \n",
       "\n",
       "                          34    35          36         37      38  \\\n",
       "Davos   begging pardon grace   yet  meant keep  dont fool  handle   \n",
       "Yohn                    None  None        None       None    None   \n",
       "Dickon                  None  None        None       None    None   \n",
       "Gilly                   None  None        None       None    None   \n",
       "Jaime                   None  None        None       None    None   \n",
       "\n",
       "                                                       39    40  \\\n",
       "Davos   father used say better coward minute dead rest...  yeah   \n",
       "Yohn                                                 None  None   \n",
       "Dickon                                               None  None   \n",
       "Gilly                                                None  None   \n",
       "Jaime                                                None  None   \n",
       "\n",
       "                          41                  42                     43  \n",
       "Davos   ive failing job late  ill staying behind  reasons arent reasons  \n",
       "Yohn                    None                None                   None  \n",
       "Dickon                  None                None                   None  \n",
       "Gilly                   None                None                   None  \n",
       "Jaime                   None                None                   None  "
      ]
     },
     "execution_count": 104,
     "metadata": {},
     "output_type": "execute_result"
    }
   ],
   "source": [
    "episode_five.head()"
   ]
  },
  {
   "cell_type": "markdown",
   "metadata": {},
   "source": [
    "### Episode Six"
   ]
  },
  {
   "cell_type": "code",
   "execution_count": 105,
   "metadata": {
    "scrolled": true
   },
   "outputs": [],
   "source": [
    "#df_s7.script_text[5]"
   ]
  },
  {
   "cell_type": "code",
   "execution_count": 106,
   "metadata": {},
   "outputs": [
    {
     "name": "stdout",
     "output_type": "stream",
     "text": [
      "<type 'list'>\n"
     ]
    }
   ],
   "source": [
    "script_text7_06 = df_s7.script_text[5]\n",
    "print type(script_text7_06)\n",
    "\n",
    "#script_text7_06"
   ]
  },
  {
   "cell_type": "code",
   "execution_count": 107,
   "metadata": {
    "scrolled": true
   },
   "outputs": [],
   "source": [
    "script_split6 = [i.split('\\n') for i in script_text7_06]\n",
    "#script_split6"
   ]
  },
  {
   "cell_type": "code",
   "execution_count": 108,
   "metadata": {
    "collapsed": true
   },
   "outputs": [],
   "source": [
    "string_script_text6 = ' '\n",
    "\n",
    "for i in script_split6:\n",
    "    for e in i:\n",
    "        string_script_text6 = string_script_text6 + ' ' + e"
   ]
  },
  {
   "cell_type": "code",
   "execution_count": 109,
   "metadata": {},
   "outputs": [],
   "source": [
    "#string_script_text6"
   ]
  },
  {
   "cell_type": "code",
   "execution_count": 110,
   "metadata": {},
   "outputs": [],
   "source": [
    "words6 = word_tokenize(string_script_text6)\n",
    "#words6"
   ]
  },
  {
   "cell_type": "code",
   "execution_count": 111,
   "metadata": {
    "scrolled": true
   },
   "outputs": [],
   "source": [
    "sentences6 = sent_tokenize(string_script_text6)\n",
    "#sentences6"
   ]
  },
  {
   "cell_type": "code",
   "execution_count": 112,
   "metadata": {
    "collapsed": true,
    "scrolled": false
   },
   "outputs": [],
   "source": [
    "dialogue6 = []\n",
    "\n",
    "for sentence in sentences6:\n",
    "    words=sentence.split(':')[0]\n",
    "    if len(words.split())<=2:\n",
    "        if words in (names7_06):\n",
    "            dialogue6.append(sentence)"
   ]
  },
  {
   "cell_type": "code",
   "execution_count": 113,
   "metadata": {
    "scrolled": true
   },
   "outputs": [],
   "source": [
    "#dialogue6"
   ]
  },
  {
   "cell_type": "code",
   "execution_count": 114,
   "metadata": {
    "collapsed": true
   },
   "outputs": [],
   "source": [
    "import pickle\n",
    "with open('/Users/zoemarkovits/Metis/project_five_got/Dialogue_PKLs/s706.pkl', 'wb') as f:\n",
    "    pickle.dump(dialogue6, f)"
   ]
  },
  {
   "cell_type": "code",
   "execution_count": 115,
   "metadata": {
    "scrolled": true
   },
   "outputs": [],
   "source": [
    "from collections import defaultdict\n",
    "\n",
    "speakers6 = defaultdict(list)\n",
    "for sentence in dialogue6:\n",
    "    speakers6[sentence.split(':')[0]].append(sentence.split(':')[1])\n",
    "\n",
    "#speakers6"
   ]
  },
  {
   "cell_type": "code",
   "execution_count": 116,
   "metadata": {
    "scrolled": false
   },
   "outputs": [
    {
     "data": {
      "text/plain": [
       "[u'  Father used to watch us from up here.',\n",
       " u'  One time the boys were shooting arrows with Ser Rodrick.',\n",
       " u\"  I looked up and he's standing right here smiling down at me.\",\n",
       " u\"  That's your pretty handwriting.\",\n",
       " u'  \"Father has been charged with treason.',\n",
       " u'  Did they.',\n",
       " u'  So was I.  I would have let them kill me before I betrayed my family.',\n",
       " u'  And you were stupid enough to believe them.',\n",
       " u\"  I was there standing in the crowd near Baelor's statue.\",\n",
       " u'  I wanted to.',\n",
       " u\"  I didn't betray him.\",\n",
       " u'  I was training.',\n",
       " u\"  Oh, I don't know about that.\",\n",
       " u\"  I guess we'll never know.\",\n",
       " u\"  I don't know yet.\",\n",
       " u\"  You're scared, aren't you?\",\n",
       " u'  Sometimes fear makes them do unfortunate things.',\n",
       " u\" Not what you're looking for?\",\n",
       " u\" They're not here now.\",\n",
       " u' My faces.',\n",
       " u' In Braavos, while I was training to be a Faceless Man.',\n",
       " u' Back in Braavos, before I got my first face, there was a game I used to play.',\n",
       " u' How do you feel about Jon being king?',\n",
       " u' ou want to do the asking?',\n",
       " u' We both wanted to be other people when we were younger.']"
      ]
     },
     "execution_count": 116,
     "metadata": {},
     "output_type": "execute_result"
    }
   ],
   "source": [
    "speakers6['ARYA']"
   ]
  },
  {
   "cell_type": "code",
   "execution_count": 117,
   "metadata": {
    "scrolled": true
   },
   "outputs": [
    {
     "name": "stdout",
     "output_type": "stream",
     "text": [
      "(14, 41)\n"
     ]
    }
   ],
   "source": [
    "episode_six = pd.DataFrame.from_dict(speakers6, orient=\"index\")\n",
    "print episode_six.shape"
   ]
  },
  {
   "cell_type": "code",
   "execution_count": 118,
   "metadata": {
    "collapsed": true
   },
   "outputs": [],
   "source": [
    "#from numpy import nan\n",
    "#episode_six.fillna(value=str(0), inplace=True)"
   ]
  },
  {
   "cell_type": "code",
   "execution_count": 119,
   "metadata": {},
   "outputs": [],
   "source": [
    "#episode_six.head()"
   ]
  },
  {
   "cell_type": "code",
   "execution_count": 120,
   "metadata": {
    "scrolled": true
   },
   "outputs": [],
   "source": [
    "test6 = episode_six[0].apply(remove_stops)\n",
    "#test6"
   ]
  },
  {
   "cell_type": "code",
   "execution_count": 121,
   "metadata": {
    "collapsed": true,
    "scrolled": false
   },
   "outputs": [],
   "source": [
    "for column in episode_six.columns:\n",
    "    for x in range(len(episode_six[column])):\n",
    "        episode_six[column][x] = remove_stops(episode_six[column][x])"
   ]
  },
  {
   "cell_type": "code",
   "execution_count": 122,
   "metadata": {
    "collapsed": true
   },
   "outputs": [],
   "source": [
    "episode_six.index = episode_six.index.str.title()"
   ]
  },
  {
   "cell_type": "code",
   "execution_count": 123,
   "metadata": {
    "scrolled": true
   },
   "outputs": [
    {
     "data": {
      "text/html": [
       "<div>\n",
       "<table border=\"1\" class=\"dataframe\">\n",
       "  <thead>\n",
       "    <tr style=\"text-align: right;\">\n",
       "      <th></th>\n",
       "      <th>0</th>\n",
       "      <th>1</th>\n",
       "      <th>2</th>\n",
       "      <th>3</th>\n",
       "      <th>4</th>\n",
       "      <th>5</th>\n",
       "      <th>6</th>\n",
       "      <th>7</th>\n",
       "      <th>8</th>\n",
       "      <th>9</th>\n",
       "      <th>10</th>\n",
       "      <th>11</th>\n",
       "      <th>12</th>\n",
       "      <th>13</th>\n",
       "      <th>14</th>\n",
       "      <th>15</th>\n",
       "      <th>16</th>\n",
       "      <th>17</th>\n",
       "      <th>18</th>\n",
       "      <th>19</th>\n",
       "      <th>20</th>\n",
       "      <th>21</th>\n",
       "      <th>22</th>\n",
       "      <th>23</th>\n",
       "      <th>24</th>\n",
       "      <th>25</th>\n",
       "      <th>26</th>\n",
       "      <th>27</th>\n",
       "      <th>28</th>\n",
       "      <th>29</th>\n",
       "      <th>30</th>\n",
       "      <th>31</th>\n",
       "      <th>32</th>\n",
       "      <th>33</th>\n",
       "      <th>34</th>\n",
       "      <th>35</th>\n",
       "      <th>36</th>\n",
       "      <th>37</th>\n",
       "      <th>38</th>\n",
       "      <th>39</th>\n",
       "      <th>40</th>\n",
       "    </tr>\n",
       "  </thead>\n",
       "  <tbody>\n",
       "    <tr>\n",
       "      <th>Benjen</th>\n",
       "      <td>ride pass</td>\n",
       "      <td>theres time</td>\n",
       "      <td>None</td>\n",
       "      <td>None</td>\n",
       "      <td>None</td>\n",
       "      <td>None</td>\n",
       "      <td>None</td>\n",
       "      <td>None</td>\n",
       "      <td>None</td>\n",
       "      <td>None</td>\n",
       "      <td>None</td>\n",
       "      <td>None</td>\n",
       "      <td>None</td>\n",
       "      <td>None</td>\n",
       "      <td>None</td>\n",
       "      <td>None</td>\n",
       "      <td>None</td>\n",
       "      <td>None</td>\n",
       "      <td>None</td>\n",
       "      <td>None</td>\n",
       "      <td>None</td>\n",
       "      <td>None</td>\n",
       "      <td>None</td>\n",
       "      <td>None</td>\n",
       "      <td>None</td>\n",
       "      <td>None</td>\n",
       "      <td>None</td>\n",
       "      <td>None</td>\n",
       "      <td>None</td>\n",
       "      <td>None</td>\n",
       "      <td>None</td>\n",
       "      <td>None</td>\n",
       "      <td>None</td>\n",
       "      <td>None</td>\n",
       "      <td>None</td>\n",
       "      <td>None</td>\n",
       "      <td>None</td>\n",
       "      <td>None</td>\n",
       "      <td>None</td>\n",
       "      <td>None</td>\n",
       "      <td>None</td>\n",
       "    </tr>\n",
       "    <tr>\n",
       "      <th>Sansa</th>\n",
       "      <td>remember</td>\n",
       "      <td></td>\n",
       "      <td>forced</td>\n",
       "      <td>dont know like</td>\n",
       "      <td>told way save father</td>\n",
       "      <td></td>\n",
       "      <td></td>\n",
       "      <td>didnt</td>\n",
       "      <td>knees thanking</td>\n",
       "      <td>training</td>\n",
       "      <td>never would survived survived</td>\n",
       "      <td>letter</td>\n",
       "      <td>show</td>\n",
       "      <td>arya arya</td>\n",
       "      <td>know happy cersei would saw us fighting</td>\n",
       "      <td>youre angry</td>\n",
       "      <td>get</td>\n",
       "      <td>asking twenty thousand men fight us worst wint...</td>\n",
       "      <td>loyalty jon</td>\n",
       "      <td>yes turned backs jon time retake winterfell na...</td>\n",
       "      <td>would thought going betray jon</td>\n",
       "      <td>dont know thinks</td>\n",
       "      <td>baelish</td>\n",
       "      <td>would jorah</td>\n",
       "      <td>invitation kings landing</td>\n",
       "      <td>represent interests gathering see</td>\n",
       "      <td>set foot kings landing cersei lannister queen</td>\n",
       "      <td>ser jaime</td>\n",
       "      <td>many guards would happily imprison behead whet...</td>\n",
       "      <td>hundreds men winterfell loyal</td>\n",
       "      <td></td>\n",
       "      <td>get</td>\n",
       "      <td>mean</td>\n",
       "      <td>dont want play</td>\n",
       "      <td>faces</td>\n",
       "      <td>tell</td>\n",
       "      <td>None</td>\n",
       "      <td>None</td>\n",
       "      <td>None</td>\n",
       "      <td>None</td>\n",
       "      <td>None</td>\n",
       "    </tr>\n",
       "    <tr>\n",
       "      <th>Gendry</th>\n",
       "      <td>never seen snow</td>\n",
       "      <td>sold witch</td>\n",
       "      <td>wanted one</td>\n",
       "      <td>put leeches</td>\n",
       "      <td>yes</td>\n",
       "      <td>wanted kill</td>\n",
       "      <td>im whinging</td>\n",
       "      <td>bears blue eyes</td>\n",
       "      <td>im leaving</td>\n",
       "      <td>raven need send raven</td>\n",
       "      <td>None</td>\n",
       "      <td>None</td>\n",
       "      <td>None</td>\n",
       "      <td>None</td>\n",
       "      <td>None</td>\n",
       "      <td>None</td>\n",
       "      <td>None</td>\n",
       "      <td>None</td>\n",
       "      <td>None</td>\n",
       "      <td>None</td>\n",
       "      <td>None</td>\n",
       "      <td>None</td>\n",
       "      <td>None</td>\n",
       "      <td>None</td>\n",
       "      <td>None</td>\n",
       "      <td>None</td>\n",
       "      <td>None</td>\n",
       "      <td>None</td>\n",
       "      <td>None</td>\n",
       "      <td>None</td>\n",
       "      <td>None</td>\n",
       "      <td>None</td>\n",
       "      <td>None</td>\n",
       "      <td>None</td>\n",
       "      <td>None</td>\n",
       "      <td>None</td>\n",
       "      <td>None</td>\n",
       "      <td>None</td>\n",
       "      <td>None</td>\n",
       "      <td>None</td>\n",
       "      <td>None</td>\n",
       "    </tr>\n",
       "    <tr>\n",
       "      <th>Brienne</th>\n",
       "      <td>lady lady winterfell</td>\n",
       "      <td>invited</td>\n",
       "      <td>safe</td>\n",
       "      <td>im worried</td>\n",
       "      <td>trust loyalty</td>\n",
       "      <td>lady swore oath protect sister</td>\n",
       "      <td>yes lady</td>\n",
       "      <td>None</td>\n",
       "      <td>None</td>\n",
       "      <td>None</td>\n",
       "      <td>None</td>\n",
       "      <td>None</td>\n",
       "      <td>None</td>\n",
       "      <td>None</td>\n",
       "      <td>None</td>\n",
       "      <td>None</td>\n",
       "      <td>None</td>\n",
       "      <td>None</td>\n",
       "      <td>None</td>\n",
       "      <td>None</td>\n",
       "      <td>None</td>\n",
       "      <td>None</td>\n",
       "      <td>None</td>\n",
       "      <td>None</td>\n",
       "      <td>None</td>\n",
       "      <td>None</td>\n",
       "      <td>None</td>\n",
       "      <td>None</td>\n",
       "      <td>None</td>\n",
       "      <td>None</td>\n",
       "      <td>None</td>\n",
       "      <td>None</td>\n",
       "      <td>None</td>\n",
       "      <td>None</td>\n",
       "      <td>None</td>\n",
       "      <td>None</td>\n",
       "      <td>None</td>\n",
       "      <td>None</td>\n",
       "      <td>None</td>\n",
       "      <td>None</td>\n",
       "      <td>None</td>\n",
       "    </tr>\n",
       "    <tr>\n",
       "      <th>Baelish</th>\n",
       "      <td>dont know</td>\n",
       "      <td>question loyalty</td>\n",
       "      <td>youre lady winterfell</td>\n",
       "      <td>aryas like</td>\n",
       "      <td>thinks</td>\n",
       "      <td>perhaps lady brienne could help</td>\n",
       "      <td>None</td>\n",
       "      <td>None</td>\n",
       "      <td>None</td>\n",
       "      <td>None</td>\n",
       "      <td>None</td>\n",
       "      <td>None</td>\n",
       "      <td>None</td>\n",
       "      <td>None</td>\n",
       "      <td>None</td>\n",
       "      <td>None</td>\n",
       "      <td>None</td>\n",
       "      <td>None</td>\n",
       "      <td>None</td>\n",
       "      <td>None</td>\n",
       "      <td>None</td>\n",
       "      <td>None</td>\n",
       "      <td>None</td>\n",
       "      <td>None</td>\n",
       "      <td>None</td>\n",
       "      <td>None</td>\n",
       "      <td>None</td>\n",
       "      <td>None</td>\n",
       "      <td>None</td>\n",
       "      <td>None</td>\n",
       "      <td>None</td>\n",
       "      <td>None</td>\n",
       "      <td>None</td>\n",
       "      <td>None</td>\n",
       "      <td>None</td>\n",
       "      <td>None</td>\n",
       "      <td>None</td>\n",
       "      <td>None</td>\n",
       "      <td>None</td>\n",
       "      <td>None</td>\n",
       "      <td>None</td>\n",
       "    </tr>\n",
       "  </tbody>\n",
       "</table>\n",
       "</div>"
      ],
      "text/plain": [
       "                           0                 1                      2   \\\n",
       "Benjen              ride pass       theres time                   None   \n",
       "Sansa                remember                                   forced   \n",
       "Gendry        never seen snow        sold witch             wanted one   \n",
       "Brienne  lady lady winterfell           invited                   safe   \n",
       "Baelish             dont know  question loyalty  youre lady winterfell   \n",
       "\n",
       "                     3                     4   \\\n",
       "Benjen             None                  None   \n",
       "Sansa    dont know like  told way save father   \n",
       "Gendry      put leeches                   yes   \n",
       "Brienne      im worried         trust loyalty   \n",
       "Baelish      aryas like                thinks   \n",
       "\n",
       "                                      5            6                7   \\\n",
       "Benjen                              None         None             None   \n",
       "Sansa                                                            didnt   \n",
       "Gendry                       wanted kill  im whinging  bears blue eyes   \n",
       "Brienne   lady swore oath protect sister     yes lady             None   \n",
       "Baelish  perhaps lady brienne could help         None             None   \n",
       "\n",
       "                     8                      9                              10  \\\n",
       "Benjen             None                   None                           None   \n",
       "Sansa    knees thanking               training  never would survived survived   \n",
       "Gendry       im leaving  raven need send raven                           None   \n",
       "Brienne            None                   None                           None   \n",
       "Baelish            None                   None                           None   \n",
       "\n",
       "             11    12         13                                       14  \\\n",
       "Benjen     None  None       None                                     None   \n",
       "Sansa    letter  show  arya arya  know happy cersei would saw us fighting   \n",
       "Gendry     None  None       None                                     None   \n",
       "Brienne    None  None       None                                     None   \n",
       "Baelish    None  None       None                                     None   \n",
       "\n",
       "                  15    16                                                 17  \\\n",
       "Benjen          None  None                                               None   \n",
       "Sansa    youre angry   get  asking twenty thousand men fight us worst wint...   \n",
       "Gendry          None  None                                               None   \n",
       "Brienne         None  None                                               None   \n",
       "Baelish         None  None                                               None   \n",
       "\n",
       "                  18                                                 19  \\\n",
       "Benjen          None                                               None   \n",
       "Sansa    loyalty jon  yes turned backs jon time retake winterfell na...   \n",
       "Gendry          None                                               None   \n",
       "Brienne         None                                               None   \n",
       "Baelish         None                                               None   \n",
       "\n",
       "                                     20                21       22  \\\n",
       "Benjen                             None              None     None   \n",
       "Sansa    would thought going betray jon  dont know thinks  baelish   \n",
       "Gendry                             None              None     None   \n",
       "Brienne                            None              None     None   \n",
       "Baelish                            None              None     None   \n",
       "\n",
       "                  23                        24  \\\n",
       "Benjen          None                      None   \n",
       "Sansa    would jorah  invitation kings landing   \n",
       "Gendry          None                      None   \n",
       "Brienne         None                      None   \n",
       "Baelish         None                      None   \n",
       "\n",
       "                                        25  \\\n",
       "Benjen                                None   \n",
       "Sansa    represent interests gathering see   \n",
       "Gendry                                None   \n",
       "Brienne                               None   \n",
       "Baelish                               None   \n",
       "\n",
       "                                                    26         27  \\\n",
       "Benjen                                            None       None   \n",
       "Sansa    set foot kings landing cersei lannister queen  ser jaime   \n",
       "Gendry                                            None       None   \n",
       "Brienne                                           None       None   \n",
       "Baelish                                           None       None   \n",
       "\n",
       "                                                        28  \\\n",
       "Benjen                                                None   \n",
       "Sansa    many guards would happily imprison behead whet...   \n",
       "Gendry                                                None   \n",
       "Brienne                                               None   \n",
       "Baelish                                               None   \n",
       "\n",
       "                                    29    30    31    32              33  \\\n",
       "Benjen                            None  None  None  None            None   \n",
       "Sansa    hundreds men winterfell loyal         get  mean  dont want play   \n",
       "Gendry                            None  None  None  None            None   \n",
       "Brienne                           None  None  None  None            None   \n",
       "Baelish                           None  None  None  None            None   \n",
       "\n",
       "            34    35    36    37    38    39    40  \n",
       "Benjen    None  None  None  None  None  None  None  \n",
       "Sansa    faces  tell  None  None  None  None  None  \n",
       "Gendry    None  None  None  None  None  None  None  \n",
       "Brienne   None  None  None  None  None  None  None  \n",
       "Baelish   None  None  None  None  None  None  None  "
      ]
     },
     "execution_count": 123,
     "metadata": {},
     "output_type": "execute_result"
    }
   ],
   "source": [
    "episode_six.head()"
   ]
  },
  {
   "cell_type": "markdown",
   "metadata": {},
   "source": [
    "## Season Seven"
   ]
  },
  {
   "cell_type": "code",
   "execution_count": 124,
   "metadata": {
    "scrolled": false
   },
   "outputs": [
    {
     "data": {
      "text/plain": [
       "Index([u'Yohn', u'Gilly', u'Jaime', u'Euron', u'Sam', u'Walder Frey', u'Meera',\n",
       "       u'Daenerys', u'Marwyn', u'Jon', u'Thoros', u'Cersei', u'Beric',\n",
       "       u'Walder', u'Petyr', u'Robett', u'Lyanna', u'All', u'Edd', u'Sansa',\n",
       "       u'Brienne', u'Man #2', u'Wolkan', u'Jorah', u'Man #3', u'Sandor',\n",
       "       u'Tormund', u'Arya', u'Bran', u'Man'],\n",
       "      dtype='object')"
      ]
     },
     "execution_count": 124,
     "metadata": {},
     "output_type": "execute_result"
    }
   ],
   "source": [
    "episode_one.index"
   ]
  },
  {
   "cell_type": "code",
   "execution_count": 125,
   "metadata": {
    "collapsed": true
   },
   "outputs": [],
   "source": [
    "episode_one = episode_one.reset_index()"
   ]
  },
  {
   "cell_type": "code",
   "execution_count": 126,
   "metadata": {
    "collapsed": true
   },
   "outputs": [],
   "source": [
    "episode_one_dict = {'Yohn':'Yohn Royce',\n",
    "                    'Gilly':'Gilly',\n",
    "                    'Jaime':'Jaime',\n",
    "                    'Euron':'Euron',\n",
    "                    'Sam':'Sam',\n",
    "                    'Walder Frey':'Walder Frey',\n",
    "                    'Meera':'Meera',\n",
    "                    'Marwyn':'Marwyn',\n",
    "                    'Jon':'Jon',\n",
    "                    'Thoros':'Thoros',\n",
    "                    'Cersei':'Cersei',\n",
    "                    'Beric':'Beric',\n",
    "                    'Walder':'Walder Frey',\n",
    "                    'Petyr':'Baelish',\n",
    "                    'Robett':'Robett Glover',\n",
    "                    'Lyanna':'Lyanna Mormont',\n",
    "                    'All':'All',\n",
    "                    'Edd':'Edd',\n",
    "                    'Sansa':'Sansa',\n",
    "                    'Brienne':'Brienne',\n",
    "                    'Man #2':'Man #2',\n",
    "                    'Wolkan':'Wolkan',\n",
    "                    'Jorah':'Jorah',\n",
    "                    'Man #3':'Man #3',\n",
    "                    'Sandor':'Sandor',\n",
    "                    'Tormund':'Tormund', \n",
    "                    'Arya':'Arya', \n",
    "                    'Bran':'Bran',\n",
    "                    'Man':'Man'}\n",
    "\n",
    "episode_one['index'] = episode_one['index'].replace(episode_one_dict)"
   ]
  },
  {
   "cell_type": "code",
   "execution_count": 127,
   "metadata": {
    "collapsed": true
   },
   "outputs": [],
   "source": [
    "episode_one = episode_one.set_index('index')"
   ]
  },
  {
   "cell_type": "code",
   "execution_count": 128,
   "metadata": {
    "scrolled": true
   },
   "outputs": [
    {
     "data": {
      "text/plain": [
       "Index([u'Davos', u'Melisandre', u'Dickon', u'Tyene', u'Jaime', u'Hot Pie',\n",
       "       u'Ellia', u'Tyrion', u'Euron', u'Missandei', u'Yara', u'Baelish',\n",
       "       u'Ellaria', u'Robett Glover', u'Olenna', u'Samwell', u'Daenerys',\n",
       "       u'Marwyn', u'Jon', u'Theon', u'Lyanna Mormont', u'Grey Worm', u'Cersei',\n",
       "       u'Varys', u'Qyburn', u'Nymeria', u'Randyll', u'Obara', u'Sansa',\n",
       "       u'Man #2', u'Man #1', u'Jorah', u'Yohn Royce', u'Arya', u'Wolkan'],\n",
       "      dtype='object')"
      ]
     },
     "execution_count": 128,
     "metadata": {},
     "output_type": "execute_result"
    }
   ],
   "source": [
    "episode_two.index"
   ]
  },
  {
   "cell_type": "code",
   "execution_count": 129,
   "metadata": {
    "collapsed": true
   },
   "outputs": [],
   "source": [
    "episode_two = episode_two.reset_index()"
   ]
  },
  {
   "cell_type": "code",
   "execution_count": 130,
   "metadata": {
    "collapsed": true
   },
   "outputs": [],
   "source": [
    "episode_two_dict = {'Davos':'Davos', \n",
    "                    'Melisandre':'Melisandre', \n",
    "                    'Dickon':'Dickon', \n",
    "                    'Tyene':'Tyene',\n",
    "                    'Yohn Royce':'Yohn Royce',\n",
    "                    'Jaime':'Jaime',\n",
    "                    'Hot Pie':'Hot Pie',\n",
    "                    'Ellia':'Ellaria',\n",
    "                    'Tyrion':'Tyrion',\n",
    "                    'Olenna':'Olenna',\n",
    "                    'Euron':'Euron',\n",
    "                    'Missandei':'Missandei',\n",
    "                    'Yara':'Yara',\n",
    "                    'Ellaria':'Ellaria',\n",
    "                    'Samwell':'Sam',\n",
    "                    'Daenerys':'Daenerys',\n",
    "                    'Marwyn':'Marwyn',\n",
    "                    'Jon':'Jon',\n",
    "                    'Theon':'Theon',\n",
    "                    'Cersei':'Cersei',\n",
    "                    'Varys':'Varys',\n",
    "                    'Qyburn':'Qyburn',\n",
    "                    'Nymeria':'Nymeria', \n",
    "                    'Randyll':'Randyll', \n",
    "                    'Obara':'Obara',\n",
    "                    'Baelish':'Baelish',\n",
    "                    'Robett Glover':'Robett Glover',\n",
    "                    'Lyanna Mormont':'Lyanna Mormont',\n",
    "                    'Grey Worm':'Grey Worm',\n",
    "                    'Sansa':'Sansa',\n",
    "                    'Man #2':'Man #2',\n",
    "                    'Wolkan':'Wolkan',\n",
    "                    'Jorah':'Jorah',\n",
    "                    'Man #1':'Man #1', \n",
    "                    'Arya':'Arya'}\n",
    "\n",
    "episode_two['index'] = episode_two['index'].replace(episode_two_dict)"
   ]
  },
  {
   "cell_type": "code",
   "execution_count": 131,
   "metadata": {
    "collapsed": true
   },
   "outputs": [],
   "source": [
    "episode_two = episode_two.set_index('index')"
   ]
  },
  {
   "cell_type": "code",
   "execution_count": 132,
   "metadata": {},
   "outputs": [
    {
     "name": "stdout",
     "output_type": "stream",
     "text": [
      "(30, 30)\n",
      "(35, 37)\n"
     ]
    }
   ],
   "source": [
    "print episode_one.shape\n",
    "print episode_two.shape"
   ]
  },
  {
   "cell_type": "code",
   "execution_count": 133,
   "metadata": {},
   "outputs": [
    {
     "name": "stdout",
     "output_type": "stream",
     "text": [
      "(49, 67)\n"
     ]
    }
   ],
   "source": [
    "season_seven = episode_one.join(episode_two, rsuffix=\"_two\", how='outer')\n",
    "print season_seven.shape"
   ]
  },
  {
   "cell_type": "code",
   "execution_count": 134,
   "metadata": {},
   "outputs": [],
   "source": [
    "#season_seven.index"
   ]
  },
  {
   "cell_type": "code",
   "execution_count": 135,
   "metadata": {
    "scrolled": true
   },
   "outputs": [
    {
     "data": {
      "text/plain": [
       "Index([u'Davos', u'Yohn', u'Melisandre', u'Jaime', u'Messenger', u'Tyrion',\n",
       "       u'Euron', u'Missandei', u'Baelish', u'Olenna', u'Samwell', u'Guard',\n",
       "       u'Daenerys', u'Marwyn', u'Jon', u'Theon', u'Grey Worm', u'Cersei',\n",
       "       u'Varys', u'Qyburn', u'Sansa', u'Wolkan', u'Jorah', u'Tycho',\n",
       "       u'Captain', u'Bran'],\n",
       "      dtype='object')"
      ]
     },
     "execution_count": 135,
     "metadata": {},
     "output_type": "execute_result"
    }
   ],
   "source": [
    "episode_three.index"
   ]
  },
  {
   "cell_type": "code",
   "execution_count": 136,
   "metadata": {
    "collapsed": true
   },
   "outputs": [],
   "source": [
    "episode_three = episode_three.reset_index()"
   ]
  },
  {
   "cell_type": "code",
   "execution_count": 137,
   "metadata": {
    "collapsed": true
   },
   "outputs": [],
   "source": [
    "episode_three_dict = {'Davos':'Davos', \n",
    "                    'Melisandre':'Melisandre',\n",
    "                    'Yohn':'Yohn Royce',\n",
    "                    'Jaime':'Jaime',\n",
    "                    'Messenger':'Messenger',\n",
    "                    'Tyrion':'Tyrion',\n",
    "                    'Olenna':'Olenna',\n",
    "                    'Euron':'Euron',\n",
    "                    'Missandei':'Missandei',\n",
    "                    'Samwell':'Sam',\n",
    "                    'Guard':'Guard',\n",
    "                    'Daenerys':'Daenerys',\n",
    "                    'Marwyn':'Marwyn',\n",
    "                    'Jon':'Jon',\n",
    "                    'Theon':'Theon',\n",
    "                    'Cersei':'Cersei',\n",
    "                    'Varys':'Varys',\n",
    "                    'Qyburn':'Qyburn',\n",
    "                    'Baelish':'Baelish',\n",
    "                    'Grey Worm':'Grey Worm',\n",
    "                    'Sansa':'Sansa',\n",
    "                    'Wolkan':'Wolkan',\n",
    "                    'Jorah':'Jorah', \n",
    "                    'Arya':'Arya',\n",
    "                    'Tycho':'Tycho',\n",
    "                    'Bran':'Bran'}\n",
    "\n",
    "episode_three['index'] = episode_three['index'].replace(episode_three_dict)"
   ]
  },
  {
   "cell_type": "code",
   "execution_count": 138,
   "metadata": {
    "collapsed": true
   },
   "outputs": [],
   "source": [
    "episode_three = episode_three.set_index('index')"
   ]
  },
  {
   "cell_type": "code",
   "execution_count": 139,
   "metadata": {},
   "outputs": [
    {
     "data": {
      "text/plain": [
       "(26, 50)"
      ]
     },
     "execution_count": 139,
     "metadata": {},
     "output_type": "execute_result"
    }
   ],
   "source": [
    "episode_three.shape"
   ]
  },
  {
   "cell_type": "code",
   "execution_count": 140,
   "metadata": {},
   "outputs": [
    {
     "name": "stdout",
     "output_type": "stream",
     "text": [
      "(53, 117)\n"
     ]
    }
   ],
   "source": [
    "season_seven = season_seven.join(episode_three, rsuffix=\"_three\", how='outer')\n",
    "print season_seven.shape"
   ]
  },
  {
   "cell_type": "code",
   "execution_count": 141,
   "metadata": {
    "scrolled": true
   },
   "outputs": [],
   "source": [
    "#season_seven.index"
   ]
  },
  {
   "cell_type": "code",
   "execution_count": 142,
   "metadata": {
    "scrolled": true
   },
   "outputs": [
    {
     "data": {
      "text/plain": [
       "Index([u'Randyll', u'Davos', u'Baelish', u'Tyrion', u'Bronn', u'Sansa',\n",
       "       u'Man 1', u'Man 2', u'Cersei', u'Tycho', u'Brienne', u'Jaime',\n",
       "       u'Dickon', u'Podrick', u'Daenerys', u'Theon', u'Arya', u'Missandei',\n",
       "       u'Bran', u'Jon', u'Meera'],\n",
       "      dtype='object')"
      ]
     },
     "execution_count": 142,
     "metadata": {},
     "output_type": "execute_result"
    }
   ],
   "source": [
    "episode_four.index"
   ]
  },
  {
   "cell_type": "code",
   "execution_count": 143,
   "metadata": {},
   "outputs": [
    {
     "data": {
      "text/plain": [
       "(21, 32)"
      ]
     },
     "execution_count": 143,
     "metadata": {},
     "output_type": "execute_result"
    }
   ],
   "source": [
    "episode_four.shape"
   ]
  },
  {
   "cell_type": "code",
   "execution_count": 144,
   "metadata": {},
   "outputs": [
    {
     "name": "stdout",
     "output_type": "stream",
     "text": [
      "(57, 149)\n"
     ]
    }
   ],
   "source": [
    "season_seven = season_seven.join(episode_four, rsuffix=\"_four\", how='outer')\n",
    "print season_seven.shape"
   ]
  },
  {
   "cell_type": "code",
   "execution_count": 145,
   "metadata": {},
   "outputs": [],
   "source": [
    "#season_seven.index"
   ]
  },
  {
   "cell_type": "code",
   "execution_count": 146,
   "metadata": {},
   "outputs": [
    {
     "data": {
      "text/plain": [
       "Index([u'Davos', u'Yohn', u'Dickon', u'Gilly', u'Jaime', u'Tyrion', u'Baelish',\n",
       "       u'Sam', u'Gendry', u'Samwell', u'Guard', u'Daenerys', u'Guard 2',\n",
       "       u'Marwyn', u'Jon', u'Thoros', u'Beric', u'Maester 2', u'Maester 1',\n",
       "       u'Cersei', u'Varys', u'Bronn', u'Guard 1', u'Robett', u'Qyburn',\n",
       "       u'Randyll', u'Sansa', u'Wolkan', u'Jorah', u'Tormund', u'Arya',\n",
       "       u'Bran'],\n",
       "      dtype='object')"
      ]
     },
     "execution_count": 146,
     "metadata": {},
     "output_type": "execute_result"
    }
   ],
   "source": [
    "episode_five.index"
   ]
  },
  {
   "cell_type": "code",
   "execution_count": 147,
   "metadata": {
    "collapsed": true
   },
   "outputs": [],
   "source": [
    "episode_five = episode_five.reset_index()"
   ]
  },
  {
   "cell_type": "code",
   "execution_count": 148,
   "metadata": {
    "collapsed": true
   },
   "outputs": [],
   "source": [
    "episode_five_dict = {'Davos':'Davos',\n",
    "                     'Yohn':'Yohn Royce', \n",
    "                     'Dickon':'Dickon', \n",
    "                     'Gilly':'Gilly', \n",
    "                     'Jaime':'Jaime', \n",
    "                     'Tyrion':'Tyrion', \n",
    "                     'Baelish':'Baelish',\n",
    "                     'Sam':'Sam', \n",
    "                     'Gendry':'Gendry', \n",
    "                     'Samwell':'Samwell', \n",
    "                     'Guard':'Guard', \n",
    "                     'Daenerys':'Daenerys', \n",
    "                     'Guard 2':'Guard 2',\n",
    "                     'Marwyn':'Marwyn', \n",
    "                     'Jon':'Jon', \n",
    "                     'Thoros':'Thoros', \n",
    "                     'Beric':'Beric', \n",
    "                     'Maester 2':'Maester 2', \n",
    "                     'Maester 1':'Maester 1',\n",
    "                     'Cersei':'Cersei', \n",
    "                     'Varys':'Varys', \n",
    "                     'Bronn':'Bronn', \n",
    "                     'Guard 1':'Guard 1', \n",
    "                     'Robett':'Robett Glover', \n",
    "                     'Qyburn':'Qyburn',\n",
    "                     'Randyll':'Randyll', \n",
    "                     'Sansa':'Sansa', \n",
    "                     'Wolkan':'Wolkan', \n",
    "                     'Jorah':'Jorah', \n",
    "                     'Tormund':'Tormund', \n",
    "                     'Arya':'Arya',\n",
    "                     'Bran':'Bran'}\n",
    "\n",
    "episode_five['index'] = episode_five['index'].replace(episode_five_dict)"
   ]
  },
  {
   "cell_type": "code",
   "execution_count": 149,
   "metadata": {
    "collapsed": true
   },
   "outputs": [],
   "source": [
    "episode_five = episode_five.set_index('index')"
   ]
  },
  {
   "cell_type": "code",
   "execution_count": 150,
   "metadata": {},
   "outputs": [
    {
     "data": {
      "text/plain": [
       "(32, 44)"
      ]
     },
     "execution_count": 150,
     "metadata": {},
     "output_type": "execute_result"
    }
   ],
   "source": [
    "episode_five.shape"
   ]
  },
  {
   "cell_type": "code",
   "execution_count": 151,
   "metadata": {},
   "outputs": [
    {
     "name": "stdout",
     "output_type": "stream",
     "text": [
      "(63, 193)\n"
     ]
    }
   ],
   "source": [
    "season_seven = season_seven.join(episode_five, rsuffix=\"_five\", how='outer')\n",
    "print season_seven.shape    "
   ]
  },
  {
   "cell_type": "code",
   "execution_count": 152,
   "metadata": {},
   "outputs": [],
   "source": [
    "#season_seven.index"
   ]
  },
  {
   "cell_type": "code",
   "execution_count": 153,
   "metadata": {},
   "outputs": [
    {
     "data": {
      "text/plain": [
       "Index([u'Benjen', u'Sansa', u'Gendry', u'Brienne', u'Baelish', u'Jorah',\n",
       "       u'Beric', u'Sandor', u'Tormund', u'Tyrion', u'Daenerys', u'Arya',\n",
       "       u'Jon', u'Thoros'],\n",
       "      dtype='object')"
      ]
     },
     "execution_count": 153,
     "metadata": {},
     "output_type": "execute_result"
    }
   ],
   "source": [
    "episode_six.index"
   ]
  },
  {
   "cell_type": "code",
   "execution_count": 154,
   "metadata": {},
   "outputs": [
    {
     "data": {
      "text/plain": [
       "(14, 41)"
      ]
     },
     "execution_count": 154,
     "metadata": {},
     "output_type": "execute_result"
    }
   ],
   "source": [
    "episode_six.shape"
   ]
  },
  {
   "cell_type": "code",
   "execution_count": 155,
   "metadata": {},
   "outputs": [
    {
     "name": "stdout",
     "output_type": "stream",
     "text": [
      "(64, 234)\n"
     ]
    }
   ],
   "source": [
    "season_seven = season_seven.join(episode_six, rsuffix=\"_six\", how='outer')\n",
    "print season_seven.shape    "
   ]
  },
  {
   "cell_type": "code",
   "execution_count": 156,
   "metadata": {},
   "outputs": [],
   "source": [
    "#season_seven.index"
   ]
  },
  {
   "cell_type": "code",
   "execution_count": 157,
   "metadata": {
    "collapsed": true
   },
   "outputs": [],
   "source": [
    "from numpy import nan\n",
    "season_seven.fillna(value=str(0), inplace=True)"
   ]
  },
  {
   "cell_type": "code",
   "execution_count": 158,
   "metadata": {},
   "outputs": [],
   "source": [
    "#season_seven.head(65)"
   ]
  },
  {
   "cell_type": "code",
   "execution_count": 159,
   "metadata": {
    "scrolled": true
   },
   "outputs": [
    {
     "name": "stdout",
     "output_type": "stream",
     "text": [
      "<class 'pandas.core.frame.DataFrame'>\n",
      "Index: 64 entries, All to Yohn Royce\n",
      "Columns: 234 entries, 0 to 40\n",
      "dtypes: object(234)\n",
      "memory usage: 117.5+ KB\n"
     ]
    }
   ],
   "source": [
    "season_seven.info()"
   ]
  },
  {
   "cell_type": "code",
   "execution_count": 160,
   "metadata": {
    "collapsed": true
   },
   "outputs": [],
   "source": [
    "season_seven.to_pickle('/Users/zoemarkovits/Metis/project_five_got/PKLs/season_seven.pkl')"
   ]
  },
  {
   "cell_type": "markdown",
   "metadata": {
    "collapsed": true
   },
   "source": [
    "## Character Breakdown"
   ]
  },
  {
   "cell_type": "markdown",
   "metadata": {
    "collapsed": true
   },
   "source": [
    "### Arya Stark"
   ]
  },
  {
   "cell_type": "code",
   "execution_count": 161,
   "metadata": {},
   "outputs": [],
   "source": [
    "Arya = season_seven.loc['Arya']\n",
    "#print Arya"
   ]
  },
  {
   "cell_type": "code",
   "execution_count": 162,
   "metadata": {},
   "outputs": [],
   "source": [
    "Arya_Text = Arya.values.tolist()\n",
    "#Arya_Text"
   ]
  },
  {
   "cell_type": "code",
   "execution_count": 163,
   "metadata": {
    "scrolled": true
   },
   "outputs": [],
   "source": [
    "Arya_Words = []\n",
    "\n",
    "for word in Arya_Text:\n",
    "    if len(word)>=1:\n",
    "        if word != '0':\n",
    "            Arya_Words.append(word)\n",
    "        \n",
    "#Arya_Words "
   ]
  },
  {
   "cell_type": "code",
   "execution_count": 164,
   "metadata": {},
   "outputs": [],
   "source": [
    "Arya_Words_String = ' '.join(Arya_Words)\n",
    "#Arya_Words_String"
   ]
  },
  {
   "cell_type": "code",
   "execution_count": 165,
   "metadata": {},
   "outputs": [
    {
     "data": {
      "text/plain": [
       "1571"
      ]
     },
     "execution_count": 165,
     "metadata": {},
     "output_type": "execute_result"
    }
   ],
   "source": [
    "Arya_String_Length = len(Arya_Words_String)\n",
    "Arya_String_Length"
   ]
  },
  {
   "cell_type": "code",
   "execution_count": 166,
   "metadata": {},
   "outputs": [
    {
     "data": {
      "text/plain": [
       "Sentiment(polarity=0.02489795918367348, subjectivity=0.5426757369614511)"
      ]
     },
     "execution_count": 166,
     "metadata": {},
     "output_type": "execute_result"
    }
   ],
   "source": [
    "Arya_Sentiment = TextBlob(Arya_Words_String).sentiment\n",
    "Arya_Sentiment"
   ]
  },
  {
   "cell_type": "markdown",
   "metadata": {
    "collapsed": true
   },
   "source": [
    "### Brienne of Tarth"
   ]
  },
  {
   "cell_type": "code",
   "execution_count": 167,
   "metadata": {},
   "outputs": [],
   "source": [
    "Brienne = season_seven.loc['Brienne']\n",
    "#print Brienne"
   ]
  },
  {
   "cell_type": "code",
   "execution_count": 169,
   "metadata": {},
   "outputs": [],
   "source": [
    "Brienne_Text = Brienne.values.tolist()\n",
    "#Brienne_Text"
   ]
  },
  {
   "cell_type": "code",
   "execution_count": 170,
   "metadata": {},
   "outputs": [],
   "source": [
    "Brienne_Words = []\n",
    "\n",
    "for word in Brienne_Text:\n",
    "    if len(word)>=1:\n",
    "        if word != '0':\n",
    "            Brienne_Words.append(word)\n",
    "        \n",
    "#Brienne_Words "
   ]
  },
  {
   "cell_type": "code",
   "execution_count": 171,
   "metadata": {},
   "outputs": [],
   "source": [
    "Brienne_Words_String = ' '.join(Brienne_Words)\n",
    "#Brienne_Words_String"
   ]
  },
  {
   "cell_type": "code",
   "execution_count": 172,
   "metadata": {},
   "outputs": [
    {
     "data": {
      "text/plain": [
       "302"
      ]
     },
     "execution_count": 172,
     "metadata": {},
     "output_type": "execute_result"
    }
   ],
   "source": [
    "Brienne_String_Length = len(Brienne_Words_String)\n",
    "Brienne_String_Length"
   ]
  },
  {
   "cell_type": "code",
   "execution_count": 173,
   "metadata": {},
   "outputs": [
    {
     "data": {
      "text/plain": [
       "Sentiment(polarity=0.16, subjectivity=0.52)"
      ]
     },
     "execution_count": 173,
     "metadata": {},
     "output_type": "execute_result"
    }
   ],
   "source": [
    "Brienne_Sentiment = TextBlob(Brienne_Words_String).sentiment\n",
    "Brienne_Sentiment"
   ]
  },
  {
   "cell_type": "markdown",
   "metadata": {
    "collapsed": true
   },
   "source": [
    "### Cersei Lannister"
   ]
  },
  {
   "cell_type": "code",
   "execution_count": 174,
   "metadata": {},
   "outputs": [],
   "source": [
    "Cersei = season_seven.loc['Cersei']\n",
    "#print Cersei"
   ]
  },
  {
   "cell_type": "code",
   "execution_count": 175,
   "metadata": {},
   "outputs": [],
   "source": [
    "Cersei_Text = Cersei.values.tolist()\n",
    "#Cersei_Text"
   ]
  },
  {
   "cell_type": "code",
   "execution_count": 176,
   "metadata": {
    "scrolled": true
   },
   "outputs": [],
   "source": [
    "Cersei_Words = []\n",
    "\n",
    "for word in Cersei_Text:\n",
    "    if len(word)>=1:\n",
    "        if word != '0':\n",
    "            Cersei_Words.append(word)\n",
    "        \n",
    "#Cersei_Words "
   ]
  },
  {
   "cell_type": "code",
   "execution_count": 177,
   "metadata": {},
   "outputs": [],
   "source": [
    "Cersei_Words_String = ' '.join(Cersei_Words)\n",
    "#Cersei_Words_String"
   ]
  },
  {
   "cell_type": "code",
   "execution_count": 178,
   "metadata": {},
   "outputs": [
    {
     "data": {
      "text/plain": [
       "2089"
      ]
     },
     "execution_count": 178,
     "metadata": {},
     "output_type": "execute_result"
    }
   ],
   "source": [
    "Cersei_String_Length = len(Cersei_Words_String)\n",
    "Cersei_String_Length"
   ]
  },
  {
   "cell_type": "code",
   "execution_count": 179,
   "metadata": {},
   "outputs": [
    {
     "data": {
      "text/plain": [
       "Sentiment(polarity=0.2639994414187963, subjectivity=0.591339663920309)"
      ]
     },
     "execution_count": 179,
     "metadata": {},
     "output_type": "execute_result"
    }
   ],
   "source": [
    "Cersei_Sentiment = TextBlob(Cersei_Words_String).sentiment\n",
    "Cersei_Sentiment"
   ]
  },
  {
   "cell_type": "markdown",
   "metadata": {
    "collapsed": true
   },
   "source": [
    "### Daenerys Targaryen"
   ]
  },
  {
   "cell_type": "code",
   "execution_count": 180,
   "metadata": {},
   "outputs": [],
   "source": [
    "Daenerys = season_seven.loc['Daenerys']\n",
    "#print Daenerys"
   ]
  },
  {
   "cell_type": "code",
   "execution_count": 181,
   "metadata": {},
   "outputs": [],
   "source": [
    "Dany_Text = Daenerys.values.tolist()\n",
    "#Dany_Text"
   ]
  },
  {
   "cell_type": "code",
   "execution_count": 182,
   "metadata": {
    "scrolled": true
   },
   "outputs": [],
   "source": [
    "Dany_Words = []\n",
    "\n",
    "for word in Dany_Text:\n",
    "    if len(word)>=1:\n",
    "        if word != '0':\n",
    "            Dany_Words.append(word)\n",
    "        \n",
    "#Dany_Words "
   ]
  },
  {
   "cell_type": "code",
   "execution_count": 184,
   "metadata": {},
   "outputs": [],
   "source": [
    "Dany_Words_String = ' '.join(Dany_Words)\n",
    "#Dany_Words_String"
   ]
  },
  {
   "cell_type": "code",
   "execution_count": 185,
   "metadata": {},
   "outputs": [
    {
     "data": {
      "text/plain": [
       "3507"
      ]
     },
     "execution_count": 185,
     "metadata": {},
     "output_type": "execute_result"
    }
   ],
   "source": [
    "Dany_String_Length = len(Dany_Words_String)\n",
    "Dany_String_Length"
   ]
  },
  {
   "cell_type": "code",
   "execution_count": 186,
   "metadata": {},
   "outputs": [
    {
     "data": {
      "text/plain": [
       "Sentiment(polarity=0.17328869047619053, subjectivity=0.5563461061507936)"
      ]
     },
     "execution_count": 186,
     "metadata": {},
     "output_type": "execute_result"
    }
   ],
   "source": [
    "Dany_Sentiment = TextBlob(Dany_Words_String).sentiment\n",
    "Dany_Sentiment"
   ]
  },
  {
   "cell_type": "markdown",
   "metadata": {
    "collapsed": true
   },
   "source": [
    "### Davos"
   ]
  },
  {
   "cell_type": "code",
   "execution_count": 187,
   "metadata": {},
   "outputs": [],
   "source": [
    "Davos = season_seven.loc['Davos']\n",
    "#print Davos"
   ]
  },
  {
   "cell_type": "code",
   "execution_count": 189,
   "metadata": {},
   "outputs": [],
   "source": [
    "Davos_Text = Davos.values.tolist()\n",
    "#Davos_Text"
   ]
  },
  {
   "cell_type": "code",
   "execution_count": 190,
   "metadata": {
    "scrolled": true
   },
   "outputs": [],
   "source": [
    "Davos_Words = []\n",
    "\n",
    "for word in Davos_Text:\n",
    "    if len(word)>=1:\n",
    "        if word != '0':\n",
    "            Davos_Words.append(word)\n",
    "        \n",
    "#Davos_Words "
   ]
  },
  {
   "cell_type": "code",
   "execution_count": 191,
   "metadata": {},
   "outputs": [],
   "source": [
    "Davos_Words_String = ' '.join(Davos_Words)\n",
    "#Davos_Words_String"
   ]
  },
  {
   "cell_type": "code",
   "execution_count": 192,
   "metadata": {},
   "outputs": [
    {
     "data": {
      "text/plain": [
       "1562"
      ]
     },
     "execution_count": 192,
     "metadata": {},
     "output_type": "execute_result"
    }
   ],
   "source": [
    "Davos_String_Length = len(Davos_Words_String)\n",
    "Davos_String_Length"
   ]
  },
  {
   "cell_type": "code",
   "execution_count": 193,
   "metadata": {},
   "outputs": [
    {
     "data": {
      "text/plain": [
       "Sentiment(polarity=0.053999999999999986, subjectivity=0.4991111111111111)"
      ]
     },
     "execution_count": 193,
     "metadata": {},
     "output_type": "execute_result"
    }
   ],
   "source": [
    "Davos_Sentiment = TextBlob(Davos_Words_String).sentiment\n",
    "Davos_Sentiment"
   ]
  },
  {
   "cell_type": "markdown",
   "metadata": {
    "collapsed": true
   },
   "source": [
    "### Gilly"
   ]
  },
  {
   "cell_type": "code",
   "execution_count": 194,
   "metadata": {},
   "outputs": [],
   "source": [
    "Gilly = season_seven.loc['Gilly']\n",
    "#print Gilly"
   ]
  },
  {
   "cell_type": "code",
   "execution_count": 195,
   "metadata": {},
   "outputs": [],
   "source": [
    "Gilly_Text = Gilly.values.tolist()\n",
    "#Gilly_Text"
   ]
  },
  {
   "cell_type": "code",
   "execution_count": 196,
   "metadata": {},
   "outputs": [],
   "source": [
    "Gilly_Words = []\n",
    "\n",
    "for word in Gilly_Text:\n",
    "    if len(word)>=1:\n",
    "        if word != '0':\n",
    "            Gilly_Words.append(word)\n",
    "        \n",
    "#Gilly_Words "
   ]
  },
  {
   "cell_type": "code",
   "execution_count": 198,
   "metadata": {},
   "outputs": [],
   "source": [
    "Gilly_Words_String = ' '.join(Gilly_Words)\n",
    "#Gilly_Words_String"
   ]
  },
  {
   "cell_type": "code",
   "execution_count": 199,
   "metadata": {},
   "outputs": [
    {
     "data": {
      "text/plain": [
       "236"
      ]
     },
     "execution_count": 199,
     "metadata": {},
     "output_type": "execute_result"
    }
   ],
   "source": [
    "Gilly_String_Length = len(Gilly_Words_String)\n",
    "Gilly_String_Length"
   ]
  },
  {
   "cell_type": "code",
   "execution_count": 200,
   "metadata": {},
   "outputs": [
    {
     "data": {
      "text/plain": [
       "Sentiment(polarity=0.3, subjectivity=0.5736111111111111)"
      ]
     },
     "execution_count": 200,
     "metadata": {},
     "output_type": "execute_result"
    }
   ],
   "source": [
    "Gilly_Sentiment = TextBlob(Gilly_Words_String).sentiment\n",
    "Gilly_Sentiment"
   ]
  },
  {
   "cell_type": "markdown",
   "metadata": {
    "collapsed": true
   },
   "source": [
    "### Jaime Lannister"
   ]
  },
  {
   "cell_type": "code",
   "execution_count": 201,
   "metadata": {},
   "outputs": [],
   "source": [
    "Jaime = season_seven.loc['Jaime']\n",
    "#print Jaime"
   ]
  },
  {
   "cell_type": "code",
   "execution_count": 202,
   "metadata": {},
   "outputs": [],
   "source": [
    "Jaime_Text = Jaime.values.tolist()\n",
    "#Jaime_Text"
   ]
  },
  {
   "cell_type": "code",
   "execution_count": 203,
   "metadata": {
    "scrolled": true
   },
   "outputs": [],
   "source": [
    "Jaime_Words = []\n",
    "\n",
    "for word in Jaime_Text:\n",
    "    if len(word)>=1:\n",
    "        if word != '0':\n",
    "            Jaime_Words.append(word)\n",
    "        \n",
    "#Jaime_Words "
   ]
  },
  {
   "cell_type": "code",
   "execution_count": 204,
   "metadata": {},
   "outputs": [],
   "source": [
    "Jaime_Words_String = ' '.join(Jaime_Words)\n",
    "#Jaime_Words_String"
   ]
  },
  {
   "cell_type": "code",
   "execution_count": 205,
   "metadata": {},
   "outputs": [
    {
     "data": {
      "text/plain": [
       "1953"
      ]
     },
     "execution_count": 205,
     "metadata": {},
     "output_type": "execute_result"
    }
   ],
   "source": [
    "Jaime_String_Length = len(Jaime_Words_String)\n",
    "Jaime_String_Length"
   ]
  },
  {
   "cell_type": "code",
   "execution_count": 206,
   "metadata": {},
   "outputs": [
    {
     "data": {
      "text/plain": [
       "Sentiment(polarity=0.11179684445988791, subjectivity=0.5034611463415811)"
      ]
     },
     "execution_count": 206,
     "metadata": {},
     "output_type": "execute_result"
    }
   ],
   "source": [
    "Jaime_Sentiment = TextBlob(Jaime_Words_String).sentiment\n",
    "Jaime_Sentiment"
   ]
  },
  {
   "cell_type": "markdown",
   "metadata": {
    "collapsed": true
   },
   "source": [
    "### Jon Snow"
   ]
  },
  {
   "cell_type": "code",
   "execution_count": 207,
   "metadata": {},
   "outputs": [],
   "source": [
    "Jon = season_seven.loc['Jon']\n",
    "#print Jon"
   ]
  },
  {
   "cell_type": "code",
   "execution_count": 208,
   "metadata": {},
   "outputs": [],
   "source": [
    "Jon_Text = Jon.values.tolist()\n",
    "#Jon_Text"
   ]
  },
  {
   "cell_type": "code",
   "execution_count": 209,
   "metadata": {
    "scrolled": true
   },
   "outputs": [],
   "source": [
    "Jon_Words = []\n",
    "\n",
    "for word in Jon_Text:\n",
    "    if len(word)>=1:\n",
    "        if word != '0':\n",
    "            Jon_Words.append(word)\n",
    "        \n",
    "#Jon_Words "
   ]
  },
  {
   "cell_type": "code",
   "execution_count": 210,
   "metadata": {},
   "outputs": [],
   "source": [
    "Jon_Words_String = ' '.join(Jon_Words)\n",
    "#Jon_Words_String"
   ]
  },
  {
   "cell_type": "code",
   "execution_count": 211,
   "metadata": {},
   "outputs": [
    {
     "data": {
      "text/plain": [
       "3899"
      ]
     },
     "execution_count": 211,
     "metadata": {},
     "output_type": "execute_result"
    }
   ],
   "source": [
    "Jon_String_Length = len(Jon_Words_String)\n",
    "Jon_String_Length"
   ]
  },
  {
   "cell_type": "code",
   "execution_count": 212,
   "metadata": {},
   "outputs": [
    {
     "data": {
      "text/plain": [
       "Sentiment(polarity=0.07213478611783697, subjectivity=0.473547215496368)"
      ]
     },
     "execution_count": 212,
     "metadata": {},
     "output_type": "execute_result"
    }
   ],
   "source": [
    "Jon_Sentiment = TextBlob(Jon_Words_String).sentiment\n",
    "Jon_Sentiment"
   ]
  },
  {
   "cell_type": "markdown",
   "metadata": {
    "collapsed": true
   },
   "source": [
    "### Jorah Mormont"
   ]
  },
  {
   "cell_type": "code",
   "execution_count": 213,
   "metadata": {},
   "outputs": [],
   "source": [
    "Jorah = season_seven.loc['Jorah']\n",
    "#print Jorah"
   ]
  },
  {
   "cell_type": "code",
   "execution_count": 214,
   "metadata": {},
   "outputs": [],
   "source": [
    "Jorah_Text = Jorah.values.tolist()\n",
    "#Jorah_Text"
   ]
  },
  {
   "cell_type": "code",
   "execution_count": 215,
   "metadata": {},
   "outputs": [],
   "source": [
    "Jorah_Words = []\n",
    "\n",
    "for word in Jorah_Text:\n",
    "    if len(word)>=1:\n",
    "        if word != '0':\n",
    "            Jorah_Words.append(word)\n",
    "        \n",
    "#Jorah_Words "
   ]
  },
  {
   "cell_type": "code",
   "execution_count": 216,
   "metadata": {},
   "outputs": [],
   "source": [
    "Jorah_Words_String = ' '.join(Jorah_Words)\n",
    "#Jorah_Words_String"
   ]
  },
  {
   "cell_type": "code",
   "execution_count": 217,
   "metadata": {},
   "outputs": [
    {
     "data": {
      "text/plain": [
       "609"
      ]
     },
     "execution_count": 217,
     "metadata": {},
     "output_type": "execute_result"
    }
   ],
   "source": [
    "Jorah_String_Length = len(Jorah_Words_String)\n",
    "Jorah_String_Length"
   ]
  },
  {
   "cell_type": "code",
   "execution_count": 218,
   "metadata": {},
   "outputs": [
    {
     "data": {
      "text/plain": [
       "Sentiment(polarity=-0.03358843537414965, subjectivity=0.41284013605442166)"
      ]
     },
     "execution_count": 218,
     "metadata": {},
     "output_type": "execute_result"
    }
   ],
   "source": [
    "Jorah_Sentiment = TextBlob(Jorah_Words_String).sentiment\n",
    "Jorah_Sentiment"
   ]
  },
  {
   "cell_type": "markdown",
   "metadata": {
    "collapsed": true
   },
   "source": [
    "### Petyr Baelish/Littlefinger"
   ]
  },
  {
   "cell_type": "code",
   "execution_count": 219,
   "metadata": {
    "collapsed": true
   },
   "outputs": [],
   "source": [
    "Baelish = season_seven.loc['Baelish']"
   ]
  },
  {
   "cell_type": "code",
   "execution_count": 220,
   "metadata": {
    "collapsed": true
   },
   "outputs": [],
   "source": [
    "Baelish_Text = Baelish.values.tolist()"
   ]
  },
  {
   "cell_type": "code",
   "execution_count": 221,
   "metadata": {},
   "outputs": [],
   "source": [
    "Baelish_Words = []\n",
    "\n",
    "for word in Baelish_Text:\n",
    "    if len(word)>=1:\n",
    "        if word != '0':\n",
    "            Baelish_Words.append(word)           \n",
    "            \n",
    "#Baelish_Words "
   ]
  },
  {
   "cell_type": "code",
   "execution_count": 222,
   "metadata": {},
   "outputs": [],
   "source": [
    "Baelish_Words_String = ' '.join(Baelish_Words)\n",
    "#Baelish_Words_String"
   ]
  },
  {
   "cell_type": "code",
   "execution_count": 223,
   "metadata": {},
   "outputs": [
    {
     "data": {
      "text/plain": [
       "533"
      ]
     },
     "execution_count": 223,
     "metadata": {},
     "output_type": "execute_result"
    }
   ],
   "source": [
    "Baelish_String_Length = len(Baelish_Words_String)\n",
    "Baelish_String_Length"
   ]
  },
  {
   "cell_type": "code",
   "execution_count": 224,
   "metadata": {},
   "outputs": [
    {
     "data": {
      "text/plain": [
       "Sentiment(polarity=0.12077922077922079, subjectivity=0.6427128427128428)"
      ]
     },
     "execution_count": 224,
     "metadata": {},
     "output_type": "execute_result"
    }
   ],
   "source": [
    "Baelish_Sentiment = TextBlob(Baelish_Words_String).sentiment\n",
    "Baelish_Sentiment"
   ]
  },
  {
   "cell_type": "markdown",
   "metadata": {
    "collapsed": true
   },
   "source": [
    "### Melisandre"
   ]
  },
  {
   "cell_type": "code",
   "execution_count": 225,
   "metadata": {},
   "outputs": [],
   "source": [
    "Melisandre = season_seven.loc['Melisandre']\n",
    "#print Melisandre"
   ]
  },
  {
   "cell_type": "code",
   "execution_count": 226,
   "metadata": {},
   "outputs": [],
   "source": [
    "Melisandre_Text = Melisandre.values.tolist()\n",
    "#Melisandre_Text"
   ]
  },
  {
   "cell_type": "code",
   "execution_count": 227,
   "metadata": {},
   "outputs": [],
   "source": [
    "Melisandre_Words = []\n",
    "\n",
    "for word in Melisandre_Text:\n",
    "    if len(word)>=1:\n",
    "        if word != '0':\n",
    "            Melisandre_Words.append(word)\n",
    "        \n",
    "#Melisandre_Words "
   ]
  },
  {
   "cell_type": "code",
   "execution_count": 228,
   "metadata": {},
   "outputs": [],
   "source": [
    "Melisandre_Words_String = ' '.join(Melisandre_Words)\n",
    "#Melisandre_Words_String"
   ]
  },
  {
   "cell_type": "code",
   "execution_count": 229,
   "metadata": {},
   "outputs": [
    {
     "data": {
      "text/plain": [
       "286"
      ]
     },
     "execution_count": 229,
     "metadata": {},
     "output_type": "execute_result"
    }
   ],
   "source": [
    "Melisandre_String_Length = len(Melisandre_Words_String)\n",
    "Melisandre_String_Length"
   ]
  },
  {
   "cell_type": "code",
   "execution_count": 230,
   "metadata": {},
   "outputs": [
    {
     "data": {
      "text/plain": [
       "Sentiment(polarity=-0.03749999999999999, subjectivity=0.6375)"
      ]
     },
     "execution_count": 230,
     "metadata": {},
     "output_type": "execute_result"
    }
   ],
   "source": [
    "Melisandre_Sentiment = TextBlob(Melisandre_Words_String).sentiment\n",
    "Melisandre_Sentiment"
   ]
  },
  {
   "cell_type": "markdown",
   "metadata": {
    "collapsed": true
   },
   "source": [
    "### Missandei"
   ]
  },
  {
   "cell_type": "code",
   "execution_count": 231,
   "metadata": {},
   "outputs": [],
   "source": [
    "Missandei = season_seven.loc['Missandei']\n",
    "#print Missandei"
   ]
  },
  {
   "cell_type": "code",
   "execution_count": 232,
   "metadata": {},
   "outputs": [
    {
     "data": {
      "text/plain": [
       "pandas.core.series.Series"
      ]
     },
     "execution_count": 232,
     "metadata": {},
     "output_type": "execute_result"
    }
   ],
   "source": [
    "type(Missandei)"
   ]
  },
  {
   "cell_type": "code",
   "execution_count": 233,
   "metadata": {},
   "outputs": [],
   "source": [
    "Missandei_Text = Missandei.values.tolist()\n",
    "#Missandei_Text"
   ]
  },
  {
   "cell_type": "code",
   "execution_count": 234,
   "metadata": {},
   "outputs": [],
   "source": [
    "Missandei_Words = []\n",
    "\n",
    "for word in Missandei_Text:\n",
    "    if len(word)>=1:\n",
    "        if word != '0':\n",
    "            Missandei_Words.append(word)\n",
    "        \n",
    "#Missandei_Words "
   ]
  },
  {
   "cell_type": "code",
   "execution_count": 235,
   "metadata": {},
   "outputs": [],
   "source": [
    "Missandei_Words_String = ' '.join(Missandei_Words)\n",
    "#Missandei_Words_String"
   ]
  },
  {
   "cell_type": "code",
   "execution_count": 236,
   "metadata": {},
   "outputs": [
    {
     "data": {
      "text/plain": [
       "444"
      ]
     },
     "execution_count": 236,
     "metadata": {},
     "output_type": "execute_result"
    }
   ],
   "source": [
    "Missandei_String_Length = len(Missandei_Words_String)\n",
    "Missandei_String_Length"
   ]
  },
  {
   "cell_type": "code",
   "execution_count": 237,
   "metadata": {},
   "outputs": [
    {
     "data": {
      "text/plain": [
       "Sentiment(polarity=0.4428571428571429, subjectivity=0.6476190476190476)"
      ]
     },
     "execution_count": 237,
     "metadata": {},
     "output_type": "execute_result"
    }
   ],
   "source": [
    "Missandei_Sentiment = TextBlob(Missandei_Words_String).sentiment\n",
    "Missandei_Sentiment"
   ]
  },
  {
   "cell_type": "markdown",
   "metadata": {
    "collapsed": true
   },
   "source": [
    "### Olenna Tyrell"
   ]
  },
  {
   "cell_type": "code",
   "execution_count": 238,
   "metadata": {
    "collapsed": true,
    "scrolled": true
   },
   "outputs": [],
   "source": [
    "Olenna = season_seven.loc['Olenna']"
   ]
  },
  {
   "cell_type": "code",
   "execution_count": 239,
   "metadata": {
    "collapsed": true
   },
   "outputs": [],
   "source": [
    "Olenna_Text = Olenna.values.tolist()"
   ]
  },
  {
   "cell_type": "code",
   "execution_count": 240,
   "metadata": {
    "scrolled": true
   },
   "outputs": [],
   "source": [
    "Olenna_Words = []\n",
    "\n",
    "for word in Olenna_Text:\n",
    "    if len(word)>=1:\n",
    "        if word != '0':\n",
    "            Olenna_Words.append(word)           \n",
    "            \n",
    "#Olenna_Words "
   ]
  },
  {
   "cell_type": "code",
   "execution_count": 241,
   "metadata": {},
   "outputs": [],
   "source": [
    "Olenna_Words_String = ' '.join(Olenna_Words)\n",
    "#Olenna_Words_String"
   ]
  },
  {
   "cell_type": "code",
   "execution_count": 242,
   "metadata": {},
   "outputs": [
    {
     "data": {
      "text/plain": [
       "388"
      ]
     },
     "execution_count": 242,
     "metadata": {},
     "output_type": "execute_result"
    }
   ],
   "source": [
    "Olenna_String_Length = len(Olenna_Words_String)\n",
    "Olenna_String_Length"
   ]
  },
  {
   "cell_type": "code",
   "execution_count": 243,
   "metadata": {},
   "outputs": [
    {
     "data": {
      "text/plain": [
       "Sentiment(polarity=0.196969696969697, subjectivity=0.5787878787878789)"
      ]
     },
     "execution_count": 243,
     "metadata": {},
     "output_type": "execute_result"
    }
   ],
   "source": [
    "Olenna_Sentiment = TextBlob(Olenna_Words_String).sentiment\n",
    "Olenna_Sentiment"
   ]
  },
  {
   "cell_type": "markdown",
   "metadata": {
    "collapsed": true
   },
   "source": [
    "### Samwell Tarly"
   ]
  },
  {
   "cell_type": "code",
   "execution_count": 244,
   "metadata": {
    "collapsed": true,
    "scrolled": true
   },
   "outputs": [],
   "source": [
    "Sam1 = season_seven.loc['Samwell']\n",
    "Sam2 = season_seven.loc['Sam']"
   ]
  },
  {
   "cell_type": "code",
   "execution_count": 245,
   "metadata": {
    "collapsed": true
   },
   "outputs": [],
   "source": [
    "Sam_Text1 = Sam1.values.tolist()\n",
    "Sam_Text2 = Sam2.values.tolist()"
   ]
  },
  {
   "cell_type": "code",
   "execution_count": 246,
   "metadata": {
    "scrolled": true
   },
   "outputs": [],
   "source": [
    "Sam_Words = []\n",
    "\n",
    "for word in Sam_Text1:\n",
    "    if len(word)>=1:\n",
    "        if word != '0':\n",
    "            Sam_Words.append(word)\n",
    "\n",
    "for word in Sam_Text2:\n",
    "    if len(word)>=1:\n",
    "        if word != '0':\n",
    "            Sam_Words.append(word)            \n",
    "            \n",
    "#Sam_Words  "
   ]
  },
  {
   "cell_type": "code",
   "execution_count": 247,
   "metadata": {},
   "outputs": [],
   "source": [
    "Sam_Words_String = ' '.join(Sam_Words)\n",
    "#Sam_Words_String"
   ]
  },
  {
   "cell_type": "code",
   "execution_count": 248,
   "metadata": {},
   "outputs": [
    {
     "data": {
      "text/plain": [
       "1190"
      ]
     },
     "execution_count": 248,
     "metadata": {},
     "output_type": "execute_result"
    }
   ],
   "source": [
    "Sam_String_Length = len(Sam_Words_String)\n",
    "Sam_String_Length"
   ]
  },
  {
   "cell_type": "code",
   "execution_count": 249,
   "metadata": {},
   "outputs": [
    {
     "data": {
      "text/plain": [
       "Sentiment(polarity=-0.054761904761904776, subjectivity=0.5732142857142856)"
      ]
     },
     "execution_count": 249,
     "metadata": {},
     "output_type": "execute_result"
    }
   ],
   "source": [
    "Sam_Sentiment = TextBlob(Sam_Words_String).sentiment\n",
    "Sam_Sentiment"
   ]
  },
  {
   "cell_type": "markdown",
   "metadata": {
    "collapsed": true
   },
   "source": [
    "### Sansa Stark"
   ]
  },
  {
   "cell_type": "code",
   "execution_count": 250,
   "metadata": {},
   "outputs": [],
   "source": [
    "Sansa = season_seven.loc['Sansa']\n",
    "#print Sansa"
   ]
  },
  {
   "cell_type": "code",
   "execution_count": 251,
   "metadata": {},
   "outputs": [],
   "source": [
    "Sansa_Text = Sansa.values.tolist()\n",
    "#Sansa_Text"
   ]
  },
  {
   "cell_type": "code",
   "execution_count": 252,
   "metadata": {
    "scrolled": true
   },
   "outputs": [],
   "source": [
    "Sansa_Words = []\n",
    "\n",
    "for word in Sansa_Text:\n",
    "    if len(word)>=1:\n",
    "        if word != '0':\n",
    "            Sansa_Words.append(word)\n",
    "        \n",
    "#Sansa_Words "
   ]
  },
  {
   "cell_type": "code",
   "execution_count": 253,
   "metadata": {},
   "outputs": [],
   "source": [
    "Sansa_Words_String = ' '.join(Sansa_Words)\n",
    "#Sansa_Words_String"
   ]
  },
  {
   "cell_type": "code",
   "execution_count": 254,
   "metadata": {},
   "outputs": [
    {
     "data": {
      "text/plain": [
       "2204"
      ]
     },
     "execution_count": 254,
     "metadata": {},
     "output_type": "execute_result"
    }
   ],
   "source": [
    "Sansa_String_Length = len(Sansa_Words_String)\n",
    "Sansa_String_Length"
   ]
  },
  {
   "cell_type": "code",
   "execution_count": 255,
   "metadata": {},
   "outputs": [
    {
     "data": {
      "text/plain": [
       "Sentiment(polarity=-0.054665379665379675, subjectivity=0.6052445302445303)"
      ]
     },
     "execution_count": 255,
     "metadata": {},
     "output_type": "execute_result"
    }
   ],
   "source": [
    "Sansa_Sentiment = TextBlob(Sansa_Words_String).sentiment\n",
    "Sansa_Sentiment"
   ]
  },
  {
   "cell_type": "markdown",
   "metadata": {
    "collapsed": true
   },
   "source": [
    "### Theon Greyjoy"
   ]
  },
  {
   "cell_type": "code",
   "execution_count": 256,
   "metadata": {},
   "outputs": [],
   "source": [
    "Theon = season_seven.loc['Theon']\n",
    "#print Theon"
   ]
  },
  {
   "cell_type": "code",
   "execution_count": 257,
   "metadata": {},
   "outputs": [],
   "source": [
    "Theon_Text = Theon.values.tolist()\n",
    "#Theon_Text"
   ]
  },
  {
   "cell_type": "code",
   "execution_count": 258,
   "metadata": {
    "scrolled": true
   },
   "outputs": [],
   "source": [
    "Theon_Words = []\n",
    "\n",
    "for word in Theon_Text:\n",
    "    if len(word)>=1:\n",
    "        if word != '0':\n",
    "            Theon_Words.append(word)\n",
    "        \n",
    "#Theon_Words "
   ]
  },
  {
   "cell_type": "code",
   "execution_count": 259,
   "metadata": {},
   "outputs": [],
   "source": [
    "Theon_Words_String = ' '.join(Theon_Words)\n",
    "#Theon_Words_String"
   ]
  },
  {
   "cell_type": "code",
   "execution_count": 260,
   "metadata": {},
   "outputs": [
    {
     "data": {
      "text/plain": [
       "71"
      ]
     },
     "execution_count": 260,
     "metadata": {},
     "output_type": "execute_result"
    }
   ],
   "source": [
    "Theon_String_Length = len(Theon_Words_String)\n",
    "Theon_String_Length"
   ]
  },
  {
   "cell_type": "code",
   "execution_count": 261,
   "metadata": {},
   "outputs": [
    {
     "data": {
      "text/plain": [
       "Sentiment(polarity=0.35119047619047616, subjectivity=0.5178571428571428)"
      ]
     },
     "execution_count": 261,
     "metadata": {},
     "output_type": "execute_result"
    }
   ],
   "source": [
    "Theon_Sentiment = TextBlob(Theon_Words_String).sentiment\n",
    "Theon_Sentiment"
   ]
  },
  {
   "cell_type": "markdown",
   "metadata": {
    "collapsed": true
   },
   "source": [
    "### Tyrion Lannister"
   ]
  },
  {
   "cell_type": "code",
   "execution_count": 262,
   "metadata": {},
   "outputs": [],
   "source": [
    "Tyrion = season_seven.loc['Tyrion']\n",
    "#print Tyrion"
   ]
  },
  {
   "cell_type": "code",
   "execution_count": 263,
   "metadata": {},
   "outputs": [],
   "source": [
    "Tyrion_Text = Tyrion.values.tolist()\n",
    "#Tyrion_Text"
   ]
  },
  {
   "cell_type": "code",
   "execution_count": 264,
   "metadata": {
    "scrolled": true
   },
   "outputs": [],
   "source": [
    "Tyrion_Words = []\n",
    "\n",
    "for word in Tyrion_Text:\n",
    "    if len(word)>=1:\n",
    "        if word != '0':\n",
    "            Tyrion_Words.append(word)\n",
    "        \n",
    "#Tyrion_Words "
   ]
  },
  {
   "cell_type": "code",
   "execution_count": 265,
   "metadata": {
    "scrolled": true
   },
   "outputs": [],
   "source": [
    "Tyrion_Words_String = ' '.join(Tyrion_Words)\n",
    "#Tyrion_Words_String"
   ]
  },
  {
   "cell_type": "code",
   "execution_count": 266,
   "metadata": {},
   "outputs": [
    {
     "data": {
      "text/plain": [
       "4013"
      ]
     },
     "execution_count": 266,
     "metadata": {},
     "output_type": "execute_result"
    }
   ],
   "source": [
    "Tyrion_String_Length = len(Tyrion_Words_String)\n",
    "Tyrion_String_Length"
   ]
  },
  {
   "cell_type": "code",
   "execution_count": 267,
   "metadata": {},
   "outputs": [
    {
     "data": {
      "text/plain": [
       "Sentiment(polarity=0.11740798417269005, subjectivity=0.5029361161714102)"
      ]
     },
     "execution_count": 267,
     "metadata": {},
     "output_type": "execute_result"
    }
   ],
   "source": [
    "Tyrion_Sentiment = TextBlob(Tyrion_Words_String).sentiment\n",
    "Tyrion_Sentiment"
   ]
  },
  {
   "cell_type": "markdown",
   "metadata": {
    "collapsed": true
   },
   "source": [
    "### Varys"
   ]
  },
  {
   "cell_type": "code",
   "execution_count": 268,
   "metadata": {},
   "outputs": [],
   "source": [
    "Varys = season_seven.loc['Varys']\n",
    "#print Varys"
   ]
  },
  {
   "cell_type": "code",
   "execution_count": 269,
   "metadata": {},
   "outputs": [],
   "source": [
    "Varys_Text = Varys.values.tolist()\n",
    "#Varys_Text"
   ]
  },
  {
   "cell_type": "code",
   "execution_count": 270,
   "metadata": {},
   "outputs": [],
   "source": [
    "Varys_Words = []\n",
    "\n",
    "for word in Varys_Text:\n",
    "    if len(word)>=1:\n",
    "        if word != '0':\n",
    "            Varys_Words.append(word)\n",
    "        \n",
    "#Varys_Words "
   ]
  },
  {
   "cell_type": "code",
   "execution_count": 271,
   "metadata": {},
   "outputs": [],
   "source": [
    "Varys_Words_String = ' '.join(Varys_Words)\n",
    "#Varys_Words_String"
   ]
  },
  {
   "cell_type": "code",
   "execution_count": 272,
   "metadata": {},
   "outputs": [
    {
     "data": {
      "text/plain": [
       "944"
      ]
     },
     "execution_count": 272,
     "metadata": {},
     "output_type": "execute_result"
    }
   ],
   "source": [
    "Varys_String_Length = len(Varys_Words_String)\n",
    "Varys_String_Length"
   ]
  },
  {
   "cell_type": "code",
   "execution_count": 273,
   "metadata": {},
   "outputs": [
    {
     "data": {
      "text/plain": [
       "Sentiment(polarity=0.23273809523809524, subjectivity=0.5442460317460318)"
      ]
     },
     "execution_count": 273,
     "metadata": {},
     "output_type": "execute_result"
    }
   ],
   "source": [
    "Varys_Sentiment = TextBlob(Varys_Words_String).sentiment\n",
    "Varys_Sentiment"
   ]
  },
  {
   "cell_type": "markdown",
   "metadata": {
    "collapsed": true
   },
   "source": [
    "### Yara Greyjoy"
   ]
  },
  {
   "cell_type": "code",
   "execution_count": 274,
   "metadata": {},
   "outputs": [],
   "source": [
    "Yara = season_seven.loc['Yara']\n",
    "#print Yara"
   ]
  },
  {
   "cell_type": "code",
   "execution_count": 275,
   "metadata": {},
   "outputs": [],
   "source": [
    "Yara_Text = Yara.values.tolist()\n",
    "#Yara_Text"
   ]
  },
  {
   "cell_type": "code",
   "execution_count": 276,
   "metadata": {
    "scrolled": true
   },
   "outputs": [],
   "source": [
    "Yara_Words = []\n",
    "\n",
    "for word in Yara_Text:\n",
    "    if len(word)>=1:\n",
    "        if word != '0':\n",
    "            Yara_Words.append(word)\n",
    "        \n",
    "#Yara_Words "
   ]
  },
  {
   "cell_type": "code",
   "execution_count": 277,
   "metadata": {},
   "outputs": [],
   "source": [
    "Yara_Words_String = ' '.join(Yara_Words)\n",
    "#Yara_Words_String"
   ]
  },
  {
   "cell_type": "code",
   "execution_count": 278,
   "metadata": {},
   "outputs": [
    {
     "data": {
      "text/plain": [
       "125"
      ]
     },
     "execution_count": 278,
     "metadata": {},
     "output_type": "execute_result"
    }
   ],
   "source": [
    "Yara_String_Length = len(Yara_Words_String)\n",
    "Yara_String_Length"
   ]
  },
  {
   "cell_type": "code",
   "execution_count": 279,
   "metadata": {},
   "outputs": [
    {
     "data": {
      "text/plain": [
       "Sentiment(polarity=0.0, subjectivity=0.0)"
      ]
     },
     "execution_count": 279,
     "metadata": {},
     "output_type": "execute_result"
    }
   ],
   "source": [
    "Yara_Sentiment = TextBlob(Yara_Words_String).sentiment\n",
    "Yara_Sentiment"
   ]
  },
  {
   "cell_type": "code",
   "execution_count": null,
   "metadata": {
    "collapsed": true
   },
   "outputs": [],
   "source": []
  }
 ],
 "metadata": {
  "kernelspec": {
   "display_name": "Python 2",
   "language": "python",
   "name": "python2"
  },
  "language_info": {
   "codemirror_mode": {
    "name": "ipython",
    "version": 2
   },
   "file_extension": ".py",
   "mimetype": "text/x-python",
   "name": "python",
   "nbconvert_exporter": "python",
   "pygments_lexer": "ipython2",
   "version": "2.7.13"
  }
 },
 "nbformat": 4,
 "nbformat_minor": 2
}
