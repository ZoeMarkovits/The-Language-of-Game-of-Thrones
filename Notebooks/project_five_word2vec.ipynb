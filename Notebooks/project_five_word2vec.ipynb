{
 "cells": [
  {
   "cell_type": "markdown",
   "metadata": {},
   "source": [
    "# Project Five\n",
    "# Game of Thrones - Word 2 Vec"
   ]
  },
  {
   "cell_type": "code",
   "execution_count": 1,
   "metadata": {},
   "outputs": [
    {
     "name": "stderr",
     "output_type": "stream",
     "text": [
      "Using Theano backend.\n"
     ]
    }
   ],
   "source": [
    "import numpy as np\n",
    "import pandas as pd\n",
    "import nltk\n",
    "from nltk.tag import pos_tag\n",
    "from nltk.tokenize import word_tokenize\n",
    "from nltk.tokenize import sent_tokenize\n",
    "from textblob import TextBlob\n",
    "from nltk.corpus import stopwords\n",
    "import spacy\n",
    "from nltk import Tree\n",
    "from nltk.grammar import DependencyGrammar\n",
    "from nltk.parse import DependencyGraph\n",
    "from nltk.parse import ProjectiveDependencyParser\n",
    "from nltk.parse import NonprojectiveDependencyParser\n",
    "from sklearn.feature_extraction.text import TfidfVectorizer, CountVectorizer\n",
    "import gensim\n",
    "from gensim.models import Word2Vec\n",
    "from nltk.tag import pos_tag\n",
    "import re\n",
    "import sys  \n",
    "reload(sys)  \n",
    "sys.setdefaultencoding('utf8')\n",
    "import matplotlib.pyplot as plt\n",
    "import seaborn as sns\n",
    "% matplotlib inline"
   ]
  },
  {
   "cell_type": "markdown",
   "metadata": {},
   "source": [
    "## Importing and Cleaning Dialogue Lists"
   ]
  },
  {
   "cell_type": "code",
   "execution_count": 2,
   "metadata": {
    "collapsed": true
   },
   "outputs": [],
   "source": [
    "import pickle\n",
    "\n",
    "with open('/Users/zoemarkovits/Metis/project_five_got/Dialogue_PKLs/s101.pkl', 'rb') as f:\n",
    "    dialogue101 = pickle.load(f)\n",
    "    \n",
    "with open('/Users/zoemarkovits/Metis/project_five_got/Dialogue_PKLs/s102.pkl', 'rb') as f:\n",
    "    dialogue102 = pickle.load(f)\n",
    "    \n",
    "with open('/Users/zoemarkovits/Metis/project_five_got/Dialogue_PKLs/s103.pkl', 'rb') as f:\n",
    "    dialogue103 = pickle.load(f)    \n",
    "    \n",
    "with open('/Users/zoemarkovits/Metis/project_five_got/Dialogue_PKLs/s104.pkl', 'rb') as f:\n",
    "    dialogue104 = pickle.load(f)   \n",
    "    \n",
    "with open('/Users/zoemarkovits/Metis/project_five_got/Dialogue_PKLs/s105.pkl', 'rb') as f:\n",
    "    dialogue105 = pickle.load(f)    \n",
    "    \n",
    "with open('/Users/zoemarkovits/Metis/project_five_got/Dialogue_PKLs/s106.pkl', 'rb') as f:\n",
    "    dialogue106 = pickle.load(f)   \n",
    "    \n",
    "with open('/Users/zoemarkovits/Metis/project_five_got/Dialogue_PKLs/s107.pkl', 'rb') as f:\n",
    "    dialogue107 = pickle.load(f)    \n",
    "    \n",
    "with open('/Users/zoemarkovits/Metis/project_five_got/Dialogue_PKLs/s108.pkl', 'rb') as f:\n",
    "    dialogue108 = pickle.load(f)    \n",
    "    \n",
    "with open('/Users/zoemarkovits/Metis/project_five_got/Dialogue_PKLs/s109.pkl', 'rb') as f:\n",
    "    dialogue109 = pickle.load(f) \n",
    "    \n",
    "with open('/Users/zoemarkovits/Metis/project_five_got/Dialogue_PKLs/s110.pkl', 'rb') as f:\n",
    "    dialogue110 = pickle.load(f) \n",
    "    \n",
    "with open('/Users/zoemarkovits/Metis/project_five_got/Dialogue_PKLs/s501.pkl', 'rb') as f:\n",
    "    dialogue501 = pickle.load(f)     \n",
    "    \n",
    "with open('/Users/zoemarkovits/Metis/project_five_got/Dialogue_PKLs/s502.pkl', 'rb') as f:\n",
    "    dialogue502 = pickle.load(f)      \n",
    "    \n",
    "with open('/Users/zoemarkovits/Metis/project_five_got/Dialogue_PKLs/s503.pkl', 'rb') as f:\n",
    "    dialogue503 = pickle.load(f)      \n",
    "    \n",
    "with open('/Users/zoemarkovits/Metis/project_five_got/Dialogue_PKLs/s504.pkl', 'rb') as f:\n",
    "    dialogue504 = pickle.load(f)      \n",
    "    \n",
    "with open('/Users/zoemarkovits/Metis/project_five_got/Dialogue_PKLs/s505.pkl', 'rb') as f:\n",
    "    dialogue505 = pickle.load(f)   \n",
    "    \n",
    "with open('/Users/zoemarkovits/Metis/project_five_got/Dialogue_PKLs/s506.pkl', 'rb') as f:\n",
    "    dialogue506 = pickle.load(f)      \n",
    "    \n",
    "with open('/Users/zoemarkovits/Metis/project_five_got/Dialogue_PKLs/s507.pkl', 'rb') as f:\n",
    "    dialogue507 = pickle.load(f)   \n",
    "    \n",
    "with open('/Users/zoemarkovits/Metis/project_five_got/Dialogue_PKLs/s508.pkl', 'rb') as f:\n",
    "    dialogue508 = pickle.load(f)      \n",
    "    \n",
    "with open('/Users/zoemarkovits/Metis/project_five_got/Dialogue_PKLs/s509.pkl', 'rb') as f:\n",
    "    dialogue509 = pickle.load(f)      \n",
    "    \n",
    "with open('/Users/zoemarkovits/Metis/project_five_got/Dialogue_PKLs/s510.pkl', 'rb') as f:\n",
    "    dialogue510 = pickle.load(f)      \n",
    "    \n",
    "with open('/Users/zoemarkovits/Metis/project_five_got/Dialogue_PKLs/s601.pkl', 'rb') as f:\n",
    "    dialogue601 = pickle.load(f)     \n",
    "    \n",
    "with open('/Users/zoemarkovits/Metis/project_five_got/Dialogue_PKLs/s602.pkl', 'rb') as f:\n",
    "    dialogue602 = pickle.load(f)      \n",
    "    \n",
    "with open('/Users/zoemarkovits/Metis/project_five_got/Dialogue_PKLs/s603.pkl', 'rb') as f:\n",
    "    dialogue603 = pickle.load(f)      \n",
    "    \n",
    "with open('/Users/zoemarkovits/Metis/project_five_got/Dialogue_PKLs/s604.pkl', 'rb') as f:\n",
    "    dialogue604 = pickle.load(f)      \n",
    "    \n",
    "with open('/Users/zoemarkovits/Metis/project_five_got/Dialogue_PKLs/s605.pkl', 'rb') as f:\n",
    "    dialogue605 = pickle.load(f)   \n",
    "    \n",
    "with open('/Users/zoemarkovits/Metis/project_five_got/Dialogue_PKLs/s606.pkl', 'rb') as f:\n",
    "    dialogue606 = pickle.load(f)      \n",
    "    \n",
    "with open('/Users/zoemarkovits/Metis/project_five_got/Dialogue_PKLs/s607.pkl', 'rb') as f:\n",
    "    dialogue607 = pickle.load(f)   \n",
    "    \n",
    "with open('/Users/zoemarkovits/Metis/project_five_got/Dialogue_PKLs/s608.pkl', 'rb') as f:\n",
    "    dialogue608 = pickle.load(f)      \n",
    "    \n",
    "with open('/Users/zoemarkovits/Metis/project_five_got/Dialogue_PKLs/s609.pkl', 'rb') as f:\n",
    "    dialogue609 = pickle.load(f)      \n",
    "    \n",
    "with open('/Users/zoemarkovits/Metis/project_five_got/Dialogue_PKLs/s610.pkl', 'rb') as f:\n",
    "    dialogue610 = pickle.load(f)      \n",
    "    \n",
    "with open('/Users/zoemarkovits/Metis/project_five_got/Dialogue_PKLs/s701.pkl', 'rb') as f:\n",
    "    dialogue701 = pickle.load(f)     \n",
    "    \n",
    "with open('/Users/zoemarkovits/Metis/project_five_got/Dialogue_PKLs/s702.pkl', 'rb') as f:\n",
    "    dialogue702 = pickle.load(f)      \n",
    "    \n",
    "with open('/Users/zoemarkovits/Metis/project_five_got/Dialogue_PKLs/s703.pkl', 'rb') as f:\n",
    "    dialogue703 = pickle.load(f)      \n",
    "    \n",
    "with open('/Users/zoemarkovits/Metis/project_five_got/Dialogue_PKLs/s704.pkl', 'rb') as f:\n",
    "    dialogue704 = pickle.load(f)      \n",
    "    \n",
    "with open('/Users/zoemarkovits/Metis/project_five_got/Dialogue_PKLs/s705.pkl', 'rb') as f:\n",
    "    dialogue705 = pickle.load(f)   \n",
    "    \n",
    "with open('/Users/zoemarkovits/Metis/project_five_got/Dialogue_PKLs/s706.pkl', 'rb') as f:\n",
    "    dialogue706 = pickle.load(f)     "
   ]
  },
  {
   "cell_type": "code",
   "execution_count": 3,
   "metadata": {
    "collapsed": true
   },
   "outputs": [],
   "source": [
    "season_one = (dialogue101 + dialogue102 + dialogue103 + dialogue104 + dialogue105 + dialogue106 + dialogue107\n",
    "    + dialogue108 + dialogue109 + dialogue110)\n",
    "\n",
    "season_five = (dialogue501 + dialogue502 + dialogue503 + dialogue504 + dialogue505 + dialogue506 + dialogue507\n",
    "    + dialogue508 + dialogue509 + dialogue510)\n",
    "\n",
    "season_six = (dialogue601 + dialogue602 + dialogue603 + dialogue604 + dialogue605 + dialogue606 + dialogue607 \n",
    "    + dialogue608 + dialogue609 + dialogue610)\n",
    "\n",
    "season_seven = (dialogue701 + dialogue702 + dialogue703 + dialogue704 + dialogue705 + dialogue706)"
   ]
  },
  {
   "cell_type": "code",
   "execution_count": 4,
   "metadata": {
    "collapsed": true
   },
   "outputs": [],
   "source": [
    "corpus = (dialogue101 + dialogue102 + dialogue103 + dialogue104 + dialogue105 + dialogue106 + dialogue107\n",
    "    + dialogue108 + dialogue109 + dialogue110 + dialogue501 + dialogue502 + dialogue503 + dialogue504 + dialogue505\n",
    "    + dialogue506 + dialogue507 + dialogue508 + dialogue509 + dialogue510 + dialogue601 + dialogue602 + dialogue603\n",
    "    + dialogue604 + dialogue605 + dialogue606 + dialogue607 + dialogue608 + dialogue609 + dialogue610 + dialogue701\n",
    "    + dialogue702 + dialogue703 + dialogue704 + dialogue705 + dialogue706)"
   ]
  },
  {
   "cell_type": "code",
   "execution_count": 5,
   "metadata": {
    "collapsed": true
   },
   "outputs": [],
   "source": [
    "episodeS201 = open('/Users/zoemarkovits/Metis/project_five_got/s01_s05_subs/s02/2x01TheNorthRemembers.txt', 'r')\n",
    "dialogue201 = episodeS201.readlines()\n",
    "\n",
    "episodeS202 = open('/Users/zoemarkovits/Metis/project_five_got/s01_s05_subs/s02/2x02TheNightLands.txt', 'r')\n",
    "dialogue202 = episodeS202.readlines()\n",
    "\n",
    "episodeS203 = open('/Users/zoemarkovits/Metis/project_five_got/s01_s05_subs/s02/2x03WhatisDeadMayNeverDie.txt', 'r')\n",
    "dialogue203 = episodeS203.readlines()\n",
    "\n",
    "episodeS204 = open('/Users/zoemarkovits/Metis/project_five_got/s01_s05_subs/s02/2x04GardenofBones.txt', 'r')\n",
    "dialogue204 = episodeS204.readlines()\n",
    "\n",
    "episodeS205 = open('/Users/zoemarkovits/Metis/project_five_got/s01_s05_subs/s02/2x05TheGhostofHarrenhal.txt', 'r')\n",
    "dialogue205 = episodeS205.readlines()\n",
    "\n",
    "episodeS206 = open('/Users/zoemarkovits/Metis/project_five_got/s01_s05_subs/s02/2x06TheOldGodsandtheNew.txt', 'r')\n",
    "dialogue206 = episodeS206.readlines()\n",
    "\n",
    "episodeS207 = open('/Users/zoemarkovits/Metis/project_five_got/s01_s05_subs/s02/2x07AManWithoutHonor.txt', 'r')\n",
    "dialogue207 = episodeS207.readlines()\n",
    "\n",
    "episodeS208 = open('/Users/zoemarkovits/Metis/project_five_got/s01_s05_subs/s02/2x08ThePrinceofWinterfell.txt', 'r')\n",
    "dialogue208 = episodeS208.readlines()\n",
    "\n",
    "episodeS209 = open('/Users/zoemarkovits/Metis/project_five_got/s01_s05_subs/s02/2x09Blackwater.txt', 'r')\n",
    "dialogue209 = episodeS209.readlines()\n",
    "\n",
    "episodeS210 = open('/Users/zoemarkovits/Metis/project_five_got/s01_s05_subs/s02/2x10ValarMorghulis.txt', 'r')\n",
    "dialogue210 = episodeS210.readlines()\n",
    "\n",
    "episodeS301 = open('/Users/zoemarkovits/Metis/project_five_got/s01_s05_subs/s03/3x01ValarDohaeris.txt', 'r')\n",
    "dialogue301 = episodeS301.readlines()\n",
    "\n",
    "episodeS302 = open('/Users/zoemarkovits/Metis/project_five_got/s01_s05_subs/s03/3x02DarkWingsDarkWords.txt', 'r')\n",
    "dialogue302 = episodeS302.readlines()\n",
    "\n",
    "episodeS303 = open('/Users/zoemarkovits/Metis/project_five_got/s01_s05_subs/s03/3x03WalkofPunishment.txt', 'r')\n",
    "dialogue303 = episodeS303.readlines()\n",
    "\n",
    "episodeS304 = open('/Users/zoemarkovits/Metis/project_five_got/s01_s05_subs/s03/3x04AndNowHisWatchisEnded.txt', 'r')\n",
    "dialogue304 = episodeS304.readlines()\n",
    "\n",
    "episodeS305 = open('/Users/zoemarkovits/Metis/project_five_got/s01_s05_subs/s03/3x05KissedbyFire.txt', 'r')\n",
    "dialogue305 = episodeS305.readlines()\n",
    "\n",
    "episodeS306 = open('/Users/zoemarkovits/Metis/project_five_got/s01_s05_subs/s03/3x06TheClimb.txt', 'r')\n",
    "dialogue306 = episodeS306.readlines()\n",
    "\n",
    "episodeS307 = open('/Users/zoemarkovits/Metis/project_five_got/s01_s05_subs/s03/3x07TheBearandtheMaidenFair.txt', 'r')\n",
    "dialogue307 = episodeS307.readlines()\n",
    "\n",
    "episodeS308 = open('/Users/zoemarkovits/Metis/project_five_got/s01_s05_subs/s03/3x08SecondSons.txt', 'r')\n",
    "dialogue308 = episodeS308.readlines()\n",
    "\n",
    "episodeS309 = open('/Users/zoemarkovits/Metis/project_five_got/s01_s05_subs/s03/3x09TheRainsofCastamere.txt', 'r')\n",
    "dialogue309 = episodeS309.readlines()\n",
    "\n",
    "episodeS310 = open('/Users/zoemarkovits/Metis/project_five_got/s01_s05_subs/s03/3x10Mhysa.txt', 'r')\n",
    "dialogue310 = episodeS310.readlines()\n",
    "\n",
    "episodeS401 = open('/Users/zoemarkovits/Metis/project_five_got/s01_s05_subs/s04/4x01TwoSwords.txt', 'r')\n",
    "dialogue401 = episodeS401.readlines()\n",
    "\n",
    "episodeS402 = open('/Users/zoemarkovits/Metis/project_five_got/s01_s05_subs/s04/4x02TheLionandtheRose.txt', 'r')\n",
    "dialogue402 = episodeS402.readlines()\n",
    "\n",
    "episodeS403 = open('/Users/zoemarkovits/Metis/project_five_got/s01_s05_subs/s04/4x03BreakerofChains.txt', 'r')\n",
    "dialogue403 = episodeS403.readlines()\n",
    "\n",
    "episodeS404 = open('/Users/zoemarkovits/Metis/project_five_got/s01_s05_subs/s04/4x04Oathkeeper.txt', 'r')\n",
    "dialogue404 = episodeS404.readlines()\n",
    "\n",
    "episodeS405 = open('/Users/zoemarkovits/Metis/project_five_got/s01_s05_subs/s04/4x05FirstofHisName.txt', 'r')\n",
    "dialogue405 = episodeS405.readlines()\n",
    "\n",
    "episodeS406 = open('/Users/zoemarkovits/Metis/project_five_got/s01_s05_subs/s04/4x06TheLawsofGodsandMen.txt', 'r')\n",
    "dialogue406 = episodeS406.readlines()\n",
    "\n",
    "episodeS407 = open('/Users/zoemarkovits/Metis/project_five_got/s01_s05_subs/s04/4x07Mockingbird.txt', 'r')\n",
    "dialogue407 = episodeS407.readlines()\n",
    "\n",
    "episodeS408 = open('/Users/zoemarkovits/Metis/project_five_got/s01_s05_subs/s04/4x08TheMountainandtheViper.txt', 'r')\n",
    "dialogue408 = episodeS408.readlines()\n",
    "\n",
    "episodeS409 = open('/Users/zoemarkovits/Metis/project_five_got/s01_s05_subs/s04/4x09TheWatchersontheWall.txt', 'r')\n",
    "dialogue409 = episodeS409.readlines()\n",
    "\n",
    "episodeS410 = open('/Users/zoemarkovits/Metis/project_five_got/s01_s05_subs/s04/4x10TheChildren.txt', 'r')\n",
    "dialogue410 = episodeS410.readlines()"
   ]
  },
  {
   "cell_type": "code",
   "execution_count": 6,
   "metadata": {
    "collapsed": true
   },
   "outputs": [],
   "source": [
    "dialogue201 = ''.join([i for i in dialogue201 if not i.isdigit()])\n",
    "dialogue202 = ''.join([i for i in dialogue202 if not i.isdigit()])\n",
    "dialogue203 = ''.join([i for i in dialogue203 if not i.isdigit()])\n",
    "dialogue204 = ''.join([i for i in dialogue204 if not i.isdigit()])\n",
    "dialogue205 = ''.join([i for i in dialogue205 if not i.isdigit()])\n",
    "dialogue206 = ''.join([i for i in dialogue206 if not i.isdigit()])\n",
    "dialogue207 = ''.join([i for i in dialogue207 if not i.isdigit()])\n",
    "dialogue208 = ''.join([i for i in dialogue208 if not i.isdigit()])\n",
    "dialogue209 = ''.join([i for i in dialogue209 if not i.isdigit()])\n",
    "dialogue210 = ''.join([i for i in dialogue210 if not i.isdigit()])"
   ]
  },
  {
   "cell_type": "code",
   "execution_count": 7,
   "metadata": {
    "collapsed": true
   },
   "outputs": [],
   "source": [
    "dialogue301 = ''.join([i for i in dialogue301 if not i.isdigit()])\n",
    "dialogue302 = ''.join([i for i in dialogue302 if not i.isdigit()])\n",
    "dialogue303 = ''.join([i for i in dialogue303 if not i.isdigit()])\n",
    "dialogue304 = ''.join([i for i in dialogue304 if not i.isdigit()])\n",
    "dialogue305 = ''.join([i for i in dialogue305 if not i.isdigit()])\n",
    "dialogue306 = ''.join([i for i in dialogue306 if not i.isdigit()])\n",
    "dialogue307 = ''.join([i for i in dialogue307 if not i.isdigit()])\n",
    "dialogue308 = ''.join([i for i in dialogue308 if not i.isdigit()])\n",
    "dialogue309 = ''.join([i for i in dialogue309 if not i.isdigit()])\n",
    "dialogue310 = ''.join([i for i in dialogue310 if not i.isdigit()])"
   ]
  },
  {
   "cell_type": "code",
   "execution_count": 8,
   "metadata": {
    "collapsed": true
   },
   "outputs": [],
   "source": [
    "dialogue401 = ''.join([i for i in dialogue401 if not i.isdigit()])\n",
    "dialogue402 = ''.join([i for i in dialogue402 if not i.isdigit()])\n",
    "dialogue403 = ''.join([i for i in dialogue403 if not i.isdigit()])\n",
    "dialogue404 = ''.join([i for i in dialogue404 if not i.isdigit()])\n",
    "dialogue405 = ''.join([i for i in dialogue405 if not i.isdigit()])\n",
    "dialogue406 = ''.join([i for i in dialogue406 if not i.isdigit()])\n",
    "dialogue407 = ''.join([i for i in dialogue407 if not i.isdigit()])\n",
    "dialogue408 = ''.join([i for i in dialogue408 if not i.isdigit()])\n",
    "dialogue409 = ''.join([i for i in dialogue409 if not i.isdigit()])\n",
    "dialogue410 = ''.join([i for i in dialogue410 if not i.isdigit()])"
   ]
  },
  {
   "cell_type": "code",
   "execution_count": 9,
   "metadata": {
    "collapsed": true
   },
   "outputs": [],
   "source": [
    "dialogue201 = dialogue201.replace('\\r\\n\\r\\n','').replace('\\r\\n\\r\\n\\r\\n','').replace('\\r\\n','')\\\n",
    ".replace('--> ::','').replace('::','').replace('-','').replace('<i>','').replace('</i>','')\\\n",
    ".replace('\\xef\\xbb\\xbf','').replace('<font color=\"#ffff\" size=>www.tvsubtitles.net</font>','')\\\n",
    ".replace('== sync, corrected by <font color=\"#ff\">elderman</font> ==','').replace('>','').replace('::','')\\\n",
    ".replace('\\n,  ,\\n<font color=\"#ffff\" size=www.tvsubtitles.net</font\\n','')\\\n",
    ".replace('== sync, corrected by <font color=\"#ff\"elderman</font ==,  ,Download Movie Subtitles Searcher from\\\n",
    "www.OpenSubtitles.org,  ,<font color=\"#ffff\" size=www.tvsubtitles.net</font,  ,Out, all of you.,','')\n",
    "\n",
    "dialogue202 = dialogue202.replace('\\r\\n\\r\\n','').replace('\\r\\n\\r\\n\\r\\n','').replace('\\r\\n','')\\\n",
    ".replace('--> ::','').replace('::','').replace('-','').replace('<i>','').replace('</i>','')\\\n",
    ".replace('\\xef\\xbb\\xbf','').replace('<font color=\"#ffff\" size=>www.tvsubtitles.net</font>','')\\\n",
    ".replace('== sync, corrected by <font color=\"#ff\">elderman</font> ==','')\\\n",
    ".replace('<font color=#FF>\\xe2\\x99\\xaa Game of Thrones x \\xe2\\x99\\xaa</font><font color=#FFFF>\\\n",
    "The Night Lands</font>Original Air Date on April , , ,, ,\\xe2\\x99\\xaa','').replace('>','').replace('::','')\\\n",
    ".replace('\\n,  ,\\n<font color=\"#ffff\" size=www.tvsubtitles.net</font\\n','')\\\n",
    ".replace('== sync, corrected by <font color=\"#ff\"elderman</font ==,  ,Download Movie Subtitles Searcher from\\\n",
    "www.OpenSubtitles.org,  ,<font color=\"#ffff\" size=www.tvsubtitles.net</font,  ,Out, all of you.,','')\n",
    "\n",
    "dialogue203 = dialogue203.replace('\\r\\n\\r\\n','').replace('\\r\\n\\r\\n\\r\\n','').replace('\\r\\n','')\\\n",
    ".replace('--> ::','').replace('::','').replace('-','').replace('<i>','').replace('</i>','')\\\n",
    ".replace('>','')\\\n",
    ".replace('\\xef\\xbb\\xbf','').replace('<font color=\"#ffff\" size=>www.tvsubtitles.net</font>','')\\\n",
    ".replace('== sync, corrected by <font color=\"#ff\">elderman</font> ==','')\\\n",
    ".replace('What Is Dead May Never Die</font>Original Air Date on April , \\\n",
    "<font color=#FFFF>visit tvshowslatest.blogspot.com to download</font>, ,\\\n",
    "<font color=#FFFF>visit tvshowslatest.blogspot.com to download</font>, ,\\xe2\\x99\\xaa','')\\\n",
    ".replace('<font color=#FF>\\xe2\\x99\\xaa Game of Thrones x \\xe2\\x99\\xaa</font><font color=#FFFF>\\\n",
    "What Is Dead May Never Die</font>Original Air Date on April , <font color=#FFFF>visit tvshowslatest.\\\n",
    "blogspot.com to download</font>, > ,<font color=#FFFF>visit tvshowslatest.blogspot.com to download</font>\\\n",
    ", > ,\\xe2\\x99\\xaa, >','').replace('>','').replace('::','')\\\n",
    ".replace('\\n,  ,\\n<font color=\"#ffff\" size=www.tvsubtitles.net</font\\n','')\\\n",
    ".replace('== sync, corrected by <font color=\"#ff\"elderman</font ==,  ,Download Movie Subtitles Searcher from\\\n",
    "www.OpenSubtitles.org,  ,<font color=\"#ffff\" size=www.tvsubtitles.net</font,  ,Out, all of you.,','')\n",
    "\n",
    "dialogue204 = dialogue204.replace('\\r\\n\\r\\n','').replace('\\r\\n\\r\\n\\r\\n','').replace('\\r\\n','')\\\n",
    ".replace('--> ::','').replace('::','').replace('-','').replace('<i>','').replace('</i>','')\\\n",
    ".replace('>','')\\\n",
    ".replace('\\xef\\xbb\\xbf','').replace('<font color=\"#ffff\" size=>www.tvsubtitles.net</font>','')\\\n",
    ".replace('== sync, corrected by <font color=\"#ff\">elderman</font> ==','')\\\n",
    ".replace('<font color=#FF>\\xe2\\x99\\xaa Game of Thrones x \\xe2\\x99\\xaa</font><font color=#FFFF>Garden of Bones\\\n",
    "</font>Original Air Date on April , , ,, ,\\xe2\\x99\\xaa','')\\\n",
    ".replace('<font color=#FF\\xe2\\x99\\xaa Game of Thrones x \\xe2\\x99\\xaa</font<font color=#FFFFGarden of Bones\\\n",
    "</fontOriginal Air Date on April , ,  ,,  ,\\xe2\\x99\\xaa','').replace('>','').replace('::','')\\\n",
    ".replace('\\n,  ,\\n<font color=\"#ffff\" size=www.tvsubtitles.net</font\\n','')\\\n",
    ".replace('== sync, corrected by <font color=\"#ff\"elderman</font ==,  ,Download Movie Subtitles Searcher from\\\n",
    "www.OpenSubtitles.org,  ,<font color=\"#ffff\" size=www.tvsubtitles.net</font,  ,Out, all of you.,','')\n",
    "\n",
    "dialogue205 = dialogue205.replace('\\r\\n\\r\\n','').replace('\\r\\n\\r\\n\\r\\n','').replace('\\r\\n','')\\\n",
    ".replace('--> ::','').replace('::','').replace('-','').replace('<i>','').replace('</i>','')\\\n",
    ".replace('>','')\\\n",
    ".replace('\\xef\\xbb\\xbf','').replace('<font color=\"#ffff\" size=>www.tvsubtitles.net</font>','')\\\n",
    ".replace('== sync, corrected by <font color=\"#ff\">elderman</font> ==','')\\\n",
    ".replace('<font color=#FF>\\xe2\\x99\\xaa Game of Thrones x \\xe2\\x99\\xaa</font><font color=#FFFF>\\\n",
    "The Ghost of Harrenhal</font>Original Air Date on April , , ,, ,\\xe2\\x99\\xaa,', '')\\\n",
    ".replace('<font color=#FF\\xe2\\x99\\xaa Game of Thrones x \\xe2\\x99\\xaa</font<font color=#FFFF\\\n",
    "The Ghost of Harrenhal</fontOriginal Air Date on April , ,  ,,  ,\\xe2\\x99\\xaa','').replace('>','').replace('::','')\\\n",
    ".replace('\\n,  ,\\n<font color=\"#ffff\" size=www.tvsubtitles.net</font\\n','')\\\n",
    ".replace('== sync, corrected by <font color=\"#ff\"elderman</font ==,  ,Download Movie Subtitles Searcher from\\\n",
    "www.OpenSubtitles.org,  ,<font color=\"#ffff\" size=www.tvsubtitles.net</font,  ,Out, all of you.,','')\n",
    "\n",
    "dialogue206 = dialogue206.replace('\\r\\n\\r\\n','').replace('\\r\\n\\r\\n\\r\\n','').replace('\\r\\n','')\\\n",
    ".replace('--> ::','').replace('::','').replace('-','').replace('<i>','').replace('</i>','')\\\n",
    ".replace('\\xef\\xbb\\xbf','').replace('<font color=\"#ffff\" size=>www.tvsubtitles.net</font>','')\\\n",
    ".replace('>','')\\\n",
    ".replace('== sync, corrected by <font color=\"#ff\">elderman</font> ==','')\\\n",
    ".replace('<font color=#FF>\\xe2\\x99\\xaa Game of Thrones x \\xe2\\x99\\xaa</font> <font color=#FFFF>\\\n",
    "The Old Gods andthe New</font> Original Air Date on May , , ,~[ Synced by <font color=\"#FF\">\\\n",
    "Bo\\xc5\\xbe\\xc3\\xad \\xc4\\x8e\\xc3\\xa1bel</font> ]~, ,\\xe2\\x99\\xaa, ,Subtitles downloaded fromwww.OpenSubtitles.org','')\\\n",
    ".replace('<font color=#FF\\xe2\\x99\\xaa Game of Thrones x \\xe2\\x99\\xaa</font <font color=#FFFF\\\n",
    "The Old Gods andthe New</font Original Air Date on May , ,  ,~[ Synced by <font color=\"#FF\"\\\n",
    "Bo\\xc5\\xbe\\xc3\\xad \\xc4\\x8e\\xc3\\xa1bel</font ]~,  ,\\xe2\\x99\\xaa,  ,Subtitles downloaded fromwww.OpenSubtitles.org','')\\\n",
    ".replace('::','').replace('\\n,  ,\\n<font color=\"#ffff\" size=www.tvsubtitles.net</font\\n','')\\\n",
    ".replace('== sync, corrected by <font color=\"#ff\"elderman</font ==,  ,Download Movie Subtitles Searcher from\\\n",
    "www.OpenSubtitles.org,  ,<font color=\"#ffff\" size=www.tvsubtitles.net</font,  ,Out, all of you.,','')\n",
    "\n",
    "dialogue207 = dialogue207.replace('\\r\\n\\r\\n','').replace('\\r\\n\\r\\n\\r\\n','').replace('\\r\\n','')\\\n",
    ".replace('--> ::','').replace('::','').replace('-','').replace('<i>','').replace('</i>','')\\\n",
    ".replace('\\xef\\xbb\\xbf','').replace('<font color=\"#ffff\" size=>www.tvsubtitles.net</font>','')\\\n",
    ".replace('== sync, corrected by <font color=\"#ff\">elderman</font> ==','')\\\n",
    ".replace('<font color=#FF>\\xe2\\x99\\xaa Game of Thrones x \\xe2\\x99\\xaa</font> <font color=#FFFF>\\\n",
    "A Man WithoutHonor</font> Original Air Date on May , , ,~[ Synced by <font color=\"#FF\">\\\n",
    "Bo\\xc5\\xbe\\xc3\\xad \\xc4\\x8e\\xc3\\xa1bel</font> ]~, ,\\xe2\\x99\\xaa','')\\\n",
    ".replace('~[ Synced by <font color=\"#FF\">Bo\\xc5\\xbe\\xc3\\xad \\xc4\\x8e\\xc3\\xa1bel</font> ]~','')\\\n",
    ".replace('<font color=#FF Game of Thrones x </font <font color=#FFFFA Man WithoutHonor\\\n",
    "</font Original Air Date on May','').replace('>','').replace('::','')\\\n",
    ".replace('\\n,  ,\\n<font color=\"#ffff\" size=www.tvsubtitles.net</font\\n','')\\\n",
    ".replace('== sync, corrected by <font color=\"#ff\"elderman</font ==,  ,Download Movie Subtitles Searcher from\\\n",
    "www.OpenSubtitles.org,  ,<font color=\"#ffff\" size=www.tvsubtitles.net</font,  ,Out, all of you.,','')\n",
    "\n",
    "dialogue208 = dialogue208.replace('\\r\\n\\r\\n','').replace('\\r\\n\\r\\n\\r\\n','').replace('\\r\\n','')\\\n",
    ".replace('--> ::','').replace('::','').replace('-','').replace('<i>','').replace('</i>','')\\\n",
    ".replace('\\xef\\xbb\\xbf','').replace('<font color=\"#ffff\" size=>www.tvsubtitles.net</font>','')\\\n",
    ".replace('== sync, corrected by <font color=\"#ff\">elderman</font> ==','')\\\n",
    ".replace('<font color=#FF Game of Thrones x </font <font color=#FFFFThe Prince ofWinterfell\\\n",
    "</font Original Air Date on May','').replace('>','').replace('::','')\\\n",
    ".replace('\\n,  ,\\n<font color=\"#ffff\" size=www.tvsubtitles.net</font\\n','')\\\n",
    ".replace('== sync, corrected by <font color=\"#ff\"elderman</font ==,  ,Download Movie Subtitles Searcher from\\\n",
    "www.OpenSubtitles.org,  ,<font color=\"#ffff\" size=www.tvsubtitles.net</font,  ,Out, all of you.,','')\n",
    "\n",
    "dialogue209 = dialogue209.replace('\\r\\n\\r\\n','').replace('\\r\\n\\r\\n\\r\\n','').replace('\\r\\n','')\\\n",
    ".replace('--> ::','').replace('::','').replace('-','').replace('<i>','').replace('</i>','')\\\n",
    ".replace('\\xef\\xbb\\xbf','').replace('<font color=\"#ffff\" size=>www.tvsubtitles.net</font>','')\\\n",
    ".replace('== sync, corrected by <font color=\"#ff\">elderman</font> ==','')\\\n",
    ".replace('\\x7f\\x7f','').replace('>','').replace('::','')\\\n",
    ".replace('\\n,  ,\\n<font color=\"#ffff\" size=www.tvsubtitles.net</font\\n','')\\\n",
    ".replace('== sync, corrected by <font color=\"#ff\"elderman</font ==,  ,Download Movie Subtitles Searcher from\\\n",
    "www.OpenSubtitles.org,  ,<font color=\"#ffff\" size=www.tvsubtitles.net</font,  ,Out, all of you.,','')\n",
    "\n",
    "dialogue210 = dialogue210.replace('\\r\\n\\r\\n','').replace('\\r\\n\\r\\n\\r\\n','').replace('\\r\\n','')\\\n",
    ".replace('--> ::','').replace('::','').replace('-','').replace('<i>','').replace('</i>','')\\\n",
    ".replace('\\xef\\xbb\\xbf','').replace('<font color=\"#ffff\" size=>www.tvsubtitles.net</font>','')\\\n",
    ".replace('== sync, corrected by <font color=\"#ff\">elderman</font> ==','')\\\n",
    ".replace('<font color=#FF\\xc2\\x81\\xc2\\xac Game of Thrones x \\xc2\\x81\\xc2\\xac</font<font color=#FFFF\\\n",
    "Valar Morghulis</fontOriginal Air Date on June , ,  ,,  ,\\xc2\\x81\\xc2\\xac','').replace('>','').replace('::','')\\\n",
    ".replace('\\n,  ,\\n<font color=\"#ffff\" size=www.tvsubtitles.net</font\\n','')\\\n",
    ".replace('== sync, corrected by <font color=\"#ff\"elderman</font ==,  ,Download Movie Subtitles Searcher from\\\n",
    "www.OpenSubtitles.org,  ,<font color=\"#ffff\" size=www.tvsubtitles.net</font,  ,Out, all of you.,','')"
   ]
  },
  {
   "cell_type": "code",
   "execution_count": 10,
   "metadata": {
    "collapsed": true
   },
   "outputs": [],
   "source": [
    "dialogue301 = dialogue301.replace('\\r\\n\\r\\n','').replace('\\r\\n\\r\\n\\r\\n','').replace('\\r\\n','').replace('_','')\\\n",
    ".replace('--> ::','').replace('::','').replace('-','').replace('<i>','').replace('</i>','').replace('>','')\\\n",
    ".replace('<font color=\"#ecbd\"Sync & corrections by honeybunny</font<font color=\"#ecbd\"www.addiced.com</font','')\\\n",
    ".replace('<font color=\"#ffff\" size=www.tvsubtitles.net</font','').replace('::','')\\\n",
    ".replace('\\n,  ,\\n<font color=\"#ffff\" size=www.tvsubtitles.net</font\\n','')\\\n",
    ".replace('== sync, corrected by <font color=\"#ff\"elderman</font ==,  ,Download Movie Subtitles Searcher from\\\n",
    "www.OpenSubtitles.org,  ,<font color=\"#ffff\" size=www.tvsubtitles.net</font,  ,Out, all of you.,','')\n",
    "\n",
    "dialogue302 = dialogue302.replace('\\r\\n\\r\\n','').replace('\\r\\n\\r\\n\\r\\n','').replace('\\r\\n','').replace('_','')\\\n",
    ".replace('--> ::','').replace('::','').replace('-','').replace('<i>','').replace('</i>','').replace('>','')\\\n",
    ".replace('\\xef\\xbb\\xbf','').replace('<font color=\"#ecbd\"Sync & corrections by honeybunny</font\\\n",
    "<font color=\"#ecbd\"www.addiced.com</font','').replace('\\xe2\\x99\\xaa','')\\\n",
    ".replace(', ,, ,<font color=\"#ffff\" size=www.tvsubtitles.net</font','').replace('::','')\\\n",
    ".replace('\\n,  ,\\n<font color=\"#ffff\" size=www.tvsubtitles.net</font\\n','')\\\n",
    ".replace('== sync, corrected by <font color=\"#ff\"elderman</font ==,  ,Download Movie Subtitles Searcher from\\\n",
    "www.OpenSubtitles.org,  ,<font color=\"#ffff\" size=www.tvsubtitles.net</font,  ,Out, all of you.,','')\n",
    "\n",
    "dialogue303 = dialogue303.replace('\\r\\n\\r\\n','').replace('\\r\\n\\r\\n\\r\\n','').replace('\\r\\n','').replace('_','')\\\n",
    ".replace('--> ::','').replace('::','').replace('-','').replace('<i>','').replace('</i>','').replace('>','')\\\n",
    ".replace('\\xef\\xbb\\xbf, ,','').replace('<font color=\"#ecbd\"Sync & corrections by honeybunny</font\\\n",
    "<font color=\"#ecbd\"www.addiced.com</font, ,If I may, nephew,, ,','').replace('\\xe2\\x99\\xaa','')\\\n",
    ".replace(' , ,<font color=\"#ffff\" size=www.tvsubtitles.net</font','')\\\n",
    ".replace('<font color=\"#ecbd\"Sync & corrections by honeybunny</font<font color=\"#ecbd\"www.addiced.com</font, , ','')\\\n",
    ".replace('::','').replace('\\n,  ,\\n<font color=\"#ffff\" size=www.tvsubtitles.net</font\\n','')\\\n",
    ".replace('== sync, corrected by <font color=\"#ff\"elderman</font ==,  ,Download Movie Subtitles Searcher from\\\n",
    "www.OpenSubtitles.org,  ,<font color=\"#ffff\" size=www.tvsubtitles.net</font,  ,Out, all of you.,','')\n",
    "\n",
    "dialogue304 = dialogue304.replace('\\r\\n\\r\\n','').replace('\\r\\n\\r\\n\\r\\n','').replace('\\r\\n','').replace('_','')\\\n",
    ".replace('--> ::','').replace('::','').replace('-','').replace('<i>','').replace('</i>','').replace('>','')\\\n",
    ".replace('\\xef\\xbb\\xbf, ,','').replace('<font color=\"#ecbd\"Sync & corrections by honeybunny</font\\\n",
    "<font color=\"#ecbd\"www.addiced.com</font, ,If I may, nephew,, ,','').replace('\\xe2\\x99\\xaa','')\\\n",
    ".replace('Sync & corrections by honeybunnywww.addiced.com','').replace(', ,, ,','')\\\n",
    ".replace('<font color=\"#ffff\" size=www.tvsubtitles.net</font','').replace('::','')\\\n",
    ".replace('\\n,  ,\\n<font color=\"#ffff\" size=www.tvsubtitles.net</font\\n','')\\\n",
    ".replace('== sync, corrected by <font color=\"#ff\"elderman</font ==,  ,Download Movie Subtitles Searcher from\\\n",
    "www.OpenSubtitles.org,  ,<font color=\"#ffff\" size=www.tvsubtitles.net</font,  ,Out, all of you.,','')\n",
    "\n",
    "dialogue305 = dialogue305.replace('\\r\\n\\r\\n','').replace('\\r\\n\\r\\n\\r\\n','').replace('\\r\\n','').replace('_','')\\\n",
    ".replace('--> ::','').replace('::','').replace('-','').replace('<i>','').replace('</i>','').replace('>','')\\\n",
    ".replace('\\xef\\xbb\\xbf, ,','').replace('<font color=#FF\\xe2\\x99\\xaa Game of Thrones x \\xe2\\x99\\xaa</font\\\n",
    "<font color=#FFFFKissed by Fire</fontOriginal Air Date on April , , ,\\xe2\\x99\\xaa','').replace('\\xe2\\x99\\xaa','')\\\n",
    ".replace('<font color=\"#ffff\" size=www.tvsubtitles.net</font','').replace('::','')\\\n",
    ".replace('\\n,  ,\\n<font color=\"#ffff\" size=www.tvsubtitles.net</font\\n','')\\\n",
    ".replace('== sync, corrected by <font color=\"#ff\"elderman</font ==,  ,Download Movie Subtitles Searcher from\\\n",
    "www.OpenSubtitles.org,  ,<font color=\"#ffff\" size=www.tvsubtitles.net</font,  ,Out, all of you.,','')\n",
    "\n",
    "dialogue306 = dialogue306.replace('\\r\\n\\r\\n','').replace('\\r\\n\\r\\n\\r\\n','').replace('\\r\\n','').replace('_','')\\\n",
    ".replace('--> ::','').replace('::','').replace('-','').replace('<i>','').replace('</i>','').replace('>','')\\\n",
    ".replace('\\xef\\xbb\\xbf, ,','').replace(', ,<font color=\"#ffff\" size=www.tvsubtitles.net</font','')\\\n",
    ".replace('\\xe2\\x99\\xaa','').replace('::','').replace('\\n,  ,\\n<font color=\"#ffff\" size=www.tvsubtitles.net</font\\n','')\\\n",
    ".replace('== sync, corrected by <font color=\"#ff\"elderman</font ==,  ,Download Movie Subtitles Searcher from\\\n",
    "www.OpenSubtitles.org,  ,<font color=\"#ffff\" size=www.tvsubtitles.net</font,  ,Out, all of you.,','')\n",
    "\n",
    "dialogue307 = dialogue307.replace('\\r\\n\\r\\n','').replace('\\r\\n\\r\\n\\r\\n','').replace('\\r\\n','').replace('_','')\\\n",
    ".replace('--> ::','').replace('::','').replace('-','').replace('<i>','').replace('</i>','').replace('>','')\\\n",
    ".replace('\\xef\\xbb\\xbf, ,','').replace(', ,<font color=\"#ffff\" size=www.tvsubtitles.net</font','').replace(',, ,, ,,','')\\\n",
    ".replace('\\xe2\\x99\\xaa','').replace(', ,<font color=\"#ecbd\"Sync & corrections by honeybunny</font\\\n",
    "<font color=\"#ecbd\"www.addiced.com</font','').replace('::','')\\\n",
    ".replace('\\n,  ,\\n<font color=\"#ffff\" size=www.tvsubtitles.net</font\\n','')\\\n",
    ".replace('== sync, corrected by <font color=\"#ff\"elderman</font ==,  ,Download Movie Subtitles Searcher from\\\n",
    "www.OpenSubtitles.org,  ,<font color=\"#ffff\" size=www.tvsubtitles.net</font,  ,Out, all of you.,','')\n",
    "\n",
    "dialogue308 = dialogue308.replace('\\r\\n\\r\\n','').replace('\\r\\n\\r\\n\\r\\n','').replace('\\r\\n','').replace('_','')\\\n",
    ".replace('--> ::','').replace('::','').replace('-','').replace('<i>','').replace('</i>','').replace('>','')\\\n",
    ".replace('\\xef\\xbb\\xbf, ,','').replace(', ,<font color=\"#ffff\" size=www.tvsubtitles.net</font','')\\\n",
    ".replace('<font color=\"#ecbd\"Sync & corrections by honeybunny</font<font color=\"#ecbd\"www.addiced.com</font','')\\\n",
    ".replace('::','').replace('\\n,  ,\\n<font color=\"#ffff\" size=www.tvsubtitles.net</font\\n','')\\\n",
    ".replace('== sync, corrected by <font color=\"#ff\"elderman</font ==,  ,Download Movie Subtitles Searcher from\\\n",
    "www.OpenSubtitles.org,  ,<font color=\"#ffff\" size=www.tvsubtitles.net</font,  ,Out, all of you.,','')\n",
    "\n",
    "dialogue309 = dialogue309.replace('\\r\\n\\r\\n','').replace('\\r\\n\\r\\n\\r\\n','').replace('\\r\\n','').replace('_','')\\\n",
    ".replace('--> ::','').replace('::','').replace('-','').replace('<i>','').replace('</i>','').replace('>','')\\\n",
    ".replace('\\xef\\xbb\\xbf, ,','').replace(', ,<font color=\"#ffff\" size=www.tvsubtitles.net</font','').replace(',, ,, ,,','')\\\n",
    ".replace('<font color=\"#ecbd\"Sync & corrections by honeybunny</font<font color=\"#ecbd\"www.addiced.com</font','')\\\n",
    ".replace('::','').replace('\\n,  ,\\n<font color=\"#ffff\" size=www.tvsubtitles.net</font\\n','')\\\n",
    ".replace('== sync, corrected by <font color=\"#ff\"elderman</font ==,  ,Download Movie Subtitles Searcher from\\\n",
    "www.OpenSubtitles.org,  ,<font color=\"#ffff\" size=www.tvsubtitles.net</font,  ,Out, all of you.,','')\n",
    "\n",
    "dialogue310 = dialogue310.replace('\\r\\n\\r\\n','').replace('\\r\\n\\r\\n\\r\\n','').replace('\\r\\n','').replace('_','')\\\n",
    ".replace('--> ::','').replace('::','').replace('-','').replace('<i>','').replace('</i>','').replace('>','')\\\n",
    ".replace('\\xef\\xbb\\xbf, ,','').replace(', ,<font color=\"#ffff\" size=www.tvsubtitles.net</font','').replace(',, ,, ,,','')\\\n",
    ".replace('<font color=\"#ecbd\"Sync & corrections by honeybunny</font<font color=\"#ecbd\"www.addiced.com</font','')\\\n",
    ".replace(',,','').replace('::','').replace('\\n,  ,\\n<font color=\"#ffff\" size=www.tvsubtitles.net</font\\n','')\\\n",
    ".replace('== sync, corrected by <font color=\"#ff\"elderman</font ==,  ,Download Movie Subtitles Searcher from\\\n",
    "www.OpenSubtitles.org,  ,<font color=\"#ffff\" size=www.tvsubtitles.net</font,  ,Out, all of you.,','')"
   ]
  },
  {
   "cell_type": "code",
   "execution_count": 11,
   "metadata": {
    "collapsed": true
   },
   "outputs": [],
   "source": [
    "dialogue401 = dialogue401.replace('\\r\\n\\r\\n','').replace('\\r\\n\\r\\n\\r\\n','').replace('\\r\\n','').replace('_','')\\\n",
    ".replace('--> ::','').replace('::','').replace('-','').replace('<i>','').replace('</i>','').replace('>','')\\\n",
    ".replace('<font color=\"#ecbd\"Sync & corrections by honeybunny</font<font color=\"#ecbd\"www.addiced.com</font','')\\\n",
    ".replace('<font color=\"#ffff\" size=www.tvsubtitles.net</font','').replace('\\xef\\xbb\\xbf','')\\\n",
    ".replace('\\xe2\\x99\\xaa','').replace('\\n\\n','').replace('::','')\\\n",
    ".replace('\\n,  ,\\n<font color=\"#ffff\" size=www.tvsubtitles.net</font\\n','')\\\n",
    ".replace('== sync, corrected by <font color=\"#ff\"elderman</font ==,  ,Download Movie Subtitles Searcher from\\\n",
    "www.OpenSubtitles.org,  ,<font color=\"#ffff\" size=www.tvsubtitles.net</font,  ,Out, all of you.,','')\n",
    "\n",
    "dialogue402 = dialogue402.replace('\\r\\n\\r\\n','').replace('\\r\\n\\r\\n\\r\\n','').replace('\\r\\n','').replace('_','')\\\n",
    ".replace('--> ::','').replace('::','').replace('-','').replace('<i>','').replace('</i>','').replace('>','')\\\n",
    ".replace('\\xef\\xbb\\xbf','').replace('<font color=\"#ecbd\"Sync & corrections by honeybunny</font\\\n",
    "<font color=\"#ecbd\"www.addiced.com</font','').replace('\\xe2\\x99\\xaa','')\\\n",
    ".replace(', ,, ,<font color=\"#ffff\" size=www.tvsubtitles.net</font','').replace('\\xe2\\x80\\x94','')\\\n",
    ".replace('\\xe2\\x80\\x93huh','').replace('\\xe2\\x80\\x93','').replace('\\xc2\\xbb','').replace('\\xc2\\xab','')\\\n",
    ".replace('<font color=\"#ffff\" size=www.tvsubtitles.net</font','')\\\n",
    ".replace('<bhoneybunny</b<b=O=</b<bwww.addiced.com','').replace('::','')\\\n",
    ".replace('\\n,  ,\\n<font color=\"#ffff\" size=www.tvsubtitles.net</font\\n','')\\\n",
    ".replace('== sync, corrected by <font color=\"#ff\"elderman</font ==,  ,Download Movie Subtitles Searcher from\\\n",
    "www.OpenSubtitles.org,  ,<font color=\"#ffff\" size=www.tvsubtitles.net</font,  ,Out, all of you.,','')\n",
    "\n",
    "dialogue403 = dialogue403.replace('\\r\\n\\r\\n','').replace('\\r\\n\\r\\n\\r\\n','').replace('\\r\\n','').replace('_','')\\\n",
    ".replace('--> ::','').replace('::','').replace('-','').replace('<i>','').replace('</i>','').replace('>','')\\\n",
    ".replace('\\xef\\xbb\\xbf, ,','').replace('<font color=\"#ecbd\"Sync & corrections by honeybunny</font\\\n",
    "<font color=\"#ecbd\"www.addiced.com</font, ,If I may, nephew,, ,','').replace('\\xe2\\x99\\xaa','')\\\n",
    ".replace(' , ,<font color=\"#ffff\" size=www.tvsubtitles.net</font','')\\\n",
    ".replace('<font color=\"#ecbd\"Sync & corrections by honeybunny</font<font color=\"#ecbd\"www.addiced.com</font, , ','')\\\n",
    ".replace(',  ,( whinnies ),  ,( cheering ),  ,( whinnies ),  ,( city crowd shouting ),  ,( shouting )\\\n",
    ",  ,,  ,,  ,,  ,,  ,,  ,,  ,,  ,,  ,,  ,,  ,,  ,,  ,,  ,,  ,,  ,,  ,,  ,,  ,,  ,,  ,,  ,,  ,,  ,,  ,,  ,\\\n",
    "( people screaming ),  ,<font color=\"#ecbd\"Sync & corrections by honeybunny</font<font color=\"#ecbd\"www.addiced.com\\\n",
    "</font,  ,Repair and Synchronization byEasy Subtitles Synchronizer ...,  ,<font color=\"#ffff\" \\\n",
    "size=www.tvsubtitles.net</font','').replace('::','')\\\n",
    ".replace('\\n,  ,\\n<font color=\"#ffff\" size=www.tvsubtitles.net</font\\n','')\\\n",
    ".replace('== sync, corrected by <font color=\"#ff\"elderman</font ==,  ,Download Movie Subtitles Searcher from\\\n",
    "www.OpenSubtitles.org,  ,<font color=\"#ffff\" size=www.tvsubtitles.net</font,  ,Out, all of you.,','')\n",
    "\n",
    "dialogue404 = dialogue404.replace('\\r\\n\\r\\n','').replace('\\r\\n\\r\\n\\r\\n','').replace('\\r\\n','').replace('_','')\\\n",
    ".replace('--> ::','').replace('::','').replace('-','').replace('<i>','').replace('</i>','').replace('>','')\\\n",
    ".replace('\\xef\\xbb\\xbf, ,','').replace('<font color=\"#ecbd\"Sync & corrections by honeybunny</font\\\n",
    "<font color=\"#ecbd\"www.addiced.com</font, ,If I may, nephew,, ,','').replace('\\xe2\\x99\\xaa','')\\\n",
    ".replace('Sync & corrections by honeybunnywww.addiced.com','').replace(', ,, ,','')\\\n",
    ".replace('<font color=\"#ffff\" size=www.tvsubtitles.net</font','').replace('\\n,  ,\\n\\n','').replace('::','')\\\n",
    ".replace('\\n,  ,\\n<font color=\"#ffff\" size=www.tvsubtitles.net</font\\n','')\\\n",
    ".replace('== sync, corrected by <font color=\"#ff\"elderman</font ==,  ,Download Movie Subtitles Searcher from\\\n",
    "www.OpenSubtitles.org,  ,<font color=\"#ffff\" size=www.tvsubtitles.net</font,  ,Out, all of you.,','')\n",
    "\n",
    "dialogue405 = dialogue405.replace('\\r\\n\\r\\n','').replace('\\r\\n\\r\\n\\r\\n','').replace('\\r\\n','').replace('_','')\\\n",
    ".replace('--> ::','').replace('::','').replace('-','').replace('<i>','').replace('</i>','').replace('>','')\\\n",
    ".replace('\\xef\\xbb\\xbf, ,','').replace('<font color=#FF\\xe2\\x99\\xaa Game of Thrones x \\xe2\\x99\\xaa</font\\\n",
    "<font color=#FFFFKissed by Fire</fontOriginal Air Date on April , , ,\\xe2\\x99\\xaa','').replace('\\xe2\\x99\\xaa','')\\\n",
    ".replace('<font color=\"#ffff\" size=www.tvsubtitles.net</font','').replace(',,,','').replace('\\n,  ,\\n\\n','')\\\n",
    ".replace('::','').replace('\\n,  ,\\n<font color=\"#ffff\" size=www.tvsubtitles.net</font\\n','')\\\n",
    ".replace('== sync, corrected by <font color=\"#ff\"elderman</font ==,  ,Download Movie Subtitles Searcher from\\\n",
    "www.OpenSubtitles.org,  ,<font color=\"#ffff\" size=www.tvsubtitles.net</font,  ,Out, all of you.,','')\n",
    "\n",
    "dialogue406 = dialogue406.replace('\\r\\n\\r\\n','').replace('\\r\\n\\r\\n\\r\\n','').replace('\\r\\n','').replace('_','')\\\n",
    ".replace('--> ::','').replace('::','').replace('-','').replace('<i>','').replace('</i>','').replace('>','')\\\n",
    ".replace('\\xef\\xbb\\xbf, ,','').replace(', ,<font color=\"#ffff\" size=www.tvsubtitles.net</font','')\\\n",
    ".replace('\\xe2\\x99\\xaa','').replace(',  ,<font color=\"#ecbd\"Sync & corrections by honeybunny\\\n",
    "</font\\n,  ,\\n<font color=\"#ffff\" size=www.tvsubtitles.net</font\\n','').replace('::','')\\\n",
    ".replace('\\n,  ,\\n<font color=\"#ffff\" size=www.tvsubtitles.net</font\\n','')\\\n",
    ".replace('== sync, corrected by <font color=\"#ff\"elderman</font ==,  ,Download Movie Subtitles Searcher from\\\n",
    "www.OpenSubtitles.org,  ,<font color=\"#ffff\" size=www.tvsubtitles.net</font,  ,Out, all of you.,','')\n",
    "\n",
    "dialogue407 = dialogue407.replace('\\r\\n\\r\\n','').replace('\\r\\n\\r\\n\\r\\n','').replace('\\r\\n','').replace('_','')\\\n",
    ".replace('--> ::','').replace('::','').replace('-','').replace('<i>','').replace('</i>','').replace('>','')\\\n",
    ".replace('\\xef\\xbb\\xbf, ,','').replace(', ,<font color=\"#ffff\" size=www.tvsubtitles.net</font','').replace(',, ,, ,,','')\\\n",
    ".replace('\\xe2\\x99\\xaa','').replace(', ,<font color=\"#ecbd\"Sync & corrections by honeybunny</font\\\n",
    "<font color=\"#ecbd\"www.addiced.com</font','').replace('\\n,  ,\\n<font color=\"#ffff\" size=www.tvsubtitles.net</font\\n','')\\\n",
    ".replace('::','').replace('\\n,  ,\\n<font color=\"#ffff\" size=www.tvsubtitles.net</font\\n','')\\\n",
    ".replace('== sync, corrected by <font color=\"#ff\"elderman</font ==,  ,Download Movie Subtitles Searcher from\\\n",
    "www.OpenSubtitles.org,  ,<font color=\"#ffff\" size=www.tvsubtitles.net</font,  ,Out, all of you.,','')\n",
    "\n",
    "dialogue408 = dialogue408.replace('\\r\\n\\r\\n','').replace('\\r\\n\\r\\n\\r\\n','').replace('\\r\\n','').replace('_','')\\\n",
    ".replace('--> ::','').replace('::','').replace('-','').replace('<i>','').replace('</i>','').replace('>','')\\\n",
    ".replace('\\xef\\xbb\\xbf, ,','').replace(', ,<font color=\"#ffff\" size=www.tvsubtitles.net</font','')\\\n",
    ".replace('<font color=\"#ecbd\"Sync & corrections by honeybunny</font<font color=\"#ecbd\"www.addiced.com</font','')\\\n",
    ".replace('\\n,  ,\\n<font color=\"#ffff\" size=www.tvsubtitles.net</font\\n','').replace('::','')\\\n",
    ".replace('\\n,  ,\\n<font color=\"#ffff\" size=www.tvsubtitles.net</font\\n','')\\\n",
    ".replace('== sync, corrected by <font color=\"#ff\"elderman</font ==,  ,Download Movie Subtitles Searcher from\\\n",
    "www.OpenSubtitles.org,  ,<font color=\"#ffff\" size=www.tvsubtitles.net</font,  ,Out, all of you.,','')\n",
    "\n",
    "dialogue409 = dialogue409.replace('\\r\\n\\r\\n','').replace('\\r\\n\\r\\n\\r\\n','').replace('\\r\\n','').replace('_','')\\\n",
    ".replace('--> ::','').replace('::','').replace('-','').replace('<i>','').replace('</i>','').replace('>','')\\\n",
    ".replace('\\xef\\xbb\\xbf, ,','').replace(', ,<font color=\"#ffff\" size=www.tvsubtitles.net</font','').replace(',, ,, ,,','')\\\n",
    ".replace('<font color=\"#ecbd\"Sync & corrections by honeybunny</font<font color=\"#ecbd\"www.addiced.com</font','')\\\n",
    ".replace(',  ,<font color=\"#ecbd\"Original sub by honeybunny</font<font color=\"#ecbd\"www.addiced.com</font,  ,<font color=\"#ffff\" size=www.tvsubtitles.net</font','')\\\n",
    ".replace('::','').replace('\\n,  ,\\n<font color=\"#ffff\" size=www.tvsubtitles.net</font\\n','')\\\n",
    ".replace('== sync, corrected by <font color=\"#ff\"elderman</font ==,  ,Download Movie Subtitles Searcher from\\\n",
    "www.OpenSubtitles.org,  ,<font color=\"#ffff\" size=www.tvsubtitles.net</font,  ,Out, all of you.,','')\n",
    "\n",
    "dialogue410 = dialogue410.replace('\\r\\n\\r\\n','').replace('\\r\\n\\r\\n\\r\\n','').replace('\\r\\n','').replace('_','')\\\n",
    ".replace('--> ::','').replace('::','').replace('-','').replace('<i>','').replace('</i>','').replace('>','')\\\n",
    ".replace('\\xef\\xbb\\xbf, ,','').replace(', ,<font color=\"#ffff\" size=www.tvsubtitles.net</font','').replace(',, ,, ,,','')\\\n",
    ".replace('<font color=\"#ecbd\"Sync & corrections by honeybunny</font<font color=\"#ecbd\"www.addiced.com</font','')\\\n",
    ".replace(',,','').replace('\\xef\\xbb\\xbf,  ,','').replace('\\n,  ,\\n<font color=\"#ffff\" size=www.tvsubtitles.net</font\\n','')\\\n",
    ".replace('::','').replace('\\n,  ,\\n<font color=\"#ffff\" size=www.tvsubtitles.net</font\\n','')\\\n",
    ".replace('== sync, corrected by <font color=\"#ff\"elderman</font ==,  ,Download Movie Subtitles Searcher from\\\n",
    "www.OpenSubtitles.org,  ,<font color=\"#ffff\" size=www.tvsubtitles.net</font,  ,Out, all of you.,','')"
   ]
  },
  {
   "cell_type": "code",
   "execution_count": 12,
   "metadata": {
    "collapsed": true
   },
   "outputs": [],
   "source": [
    "corpus2 = (dialogue201 + dialogue202 + dialogue203 + dialogue204 + dialogue205 + dialogue206 + dialogue207 \n",
    "           + dialogue208 + dialogue209 + dialogue210 + dialogue301 + dialogue302 + dialogue303 + dialogue304\n",
    "           + dialogue305 + dialogue306 + dialogue307 + dialogue308 + dialogue309 + dialogue310 + dialogue401\n",
    "           + dialogue402 + dialogue403 + dialogue404 + dialogue405 + dialogue406 + dialogue407 + dialogue408\n",
    "           + dialogue409 + dialogue410)\n",
    "\n",
    "corpus2 = ''.join([i for i in corpus2 if not i.isdigit()])\n",
    "corpus2 = corpus2.replace('::','')"
   ]
  },
  {
   "cell_type": "code",
   "execution_count": 13,
   "metadata": {},
   "outputs": [],
   "source": [
    "#corpus2"
   ]
  },
  {
   "cell_type": "code",
   "execution_count": 14,
   "metadata": {
    "collapsed": true
   },
   "outputs": [],
   "source": [
    "corpus2 = sent_tokenize(corpus2)"
   ]
  },
  {
   "cell_type": "code",
   "execution_count": 15,
   "metadata": {},
   "outputs": [
    {
     "data": {
      "text/plain": [
       "[\"Well struck.Well struck, Dog.Did you like that?It was well struck, Your Grace.I already said it was well struck.Yes, Your Grace.Ser Dontos the Red of House Hollard.Ser Dontos the Red of House Hollard!Here I am.Sorry, Your Grace.My deepest apologies.Are you drunk?No.Uh, no.No, Your Grace.I had two cups of wine.Two cups?That's not much at all.Please, have another cup.Are you sure, Your Grace?Have two.Have as much as you like.I would be honored, Your Grace.Ser Meryn, help Ser Dontos celebrate my name day.See that he drinks his fill.You can't.What did you say?Did you say I can't?I only meant it would be bad luck to kill a man on your name day.What kind of stupid peasant's superstition...Take him away.I'll have him killed tomorrow, the fool.He is.A fool you're so clever to see it.He'll make a much better fool than a knight.He doesn't deserve the mercy of a quick death.Did you hear My Lady, Ser Dontos?From this day, you'll be my new fool.Thank you, Your Grace.And you, My Lady, thank you.We looked for you on the battlefield.You were nowhere to be found.I've been here, ruling the kingdoms.What a fine job you've done.Look at you.More beautiful than ever.And you!\",\n",
       " \"You you're going to be bigger than the hound, but much better looking.This one doesn't like me.Can't imagine why.We heard you were dead.I'm glad you're not dead.Me, too, dear.Death is so boring, especially now with so much excitement in the world.My Lady, I'm sorry for your loss.Her loss?Her father was a confessed traitor.But still her father.Surely having so recently lost your own beloved father you can sympathize.My father was a traitor.My mother and brother are traitors, too.I am loyal to my beloved Joffrey.Of course you are.Well, enjoy your name day, Your Grace.Wish I could stay and celebrate, but there is work to be done.What work?Why are you here?The raven arrived from the Citadel this morning, Your Grace.The conclave has met, considered reports from Maesters all over the Seven Kingdoms, done at last.The longest summer in living memory.The peasants say, a long summer meansIf it lasts any longer, we'll have fewer peasants.The city's drowning in refugees, Your Grace, fleeing the war.We have nowhere to house them.And with winter coming, it'll only get worse.You command the City Watch, do you not, Lord Slynt?And are you not a Lord at my command?I owe my title and lands to your generosity, Your Grace.Then do your job.\",\n",
       " \"Shut the gates to the peasants.They belong in the field, not our capital.Yes, Your Grace.Don't get up.More ravishing than ever, big sister.War agrees with you.Forgive the interruption.\",\n",
       " \"Carry on.What are you doing here?Ah, it's been a remarkable journey.I pissed off the edge of the Wall,I fought with the hill tribes so many adventures,so much to bethankful for.What are you doing here?This is the small council.Yes.\",\n",
       " 'well I, do believe,the Hand of the King,is welcome at allsmall council meetings.Our fatheris Hand of the King.Yes, but in his absence...to serve as Handin his stead while he fights.Out!',\n",
       " \"All of you out!I would like to knowhow you tricked father into this.If I were capableof tricking father,I'd be emperorof the world by now.You brought thison yourself.,  ,I've done nothing.,  ,Quite rightyou did nothing,  ,when your son calledfor Ned Stark's head.,  ,Now the entire Northhas risen up against us.,  , I tried to stop it.\",\n",
       " 'Did you?',\n",
       " 'You failed.,  ,That bit of theater will hauntour family for a generation.,  , Robb Stark is a child.',\n",
       " \"Who's won every battle he's fought.,  ,Do you understandwe're losing the war?,  , What do you know about warfare?\",\n",
       " 'Nothing.,  ,But I know people.,  ,And I know that our enemies hateeach other,  ,almost as muchas they hate us.,  , Joffrey is King.',\n",
       " \"Joffrey is King.,  ,You are hereto advise him.,  ,I'm only hereto advise him.,  ,And if the King listensto what I say,,  ,the King might just gethis Uncle Jaime back.,  ,How?,  ,You love your children.,  ,It's your oneredeeming quality.,  ,That and your cheekbones.,  ,The Starks lovetheir children as well.,  , And we have two of them.\",\n",
       " 'One.,  , One?',\n",
       " \"Arya, little animal she disappeared.,  ,Disappeared?What, in a puff of smoke?,  ,We had three Starksto trade.,  ,You chopped one's head offand let another escape.,  ,Father will be furious.,  ,It must be odd for you...,  ,to be the disappointing child.,  ,My Lord, may the Old Godswatch over your brother,  ,and all our northern sons.,  ,The walls of my Holdfastwill not stand the winter.,  ,The stones were last mortaredin the time of King Aerys,,  ,and I'm afraidthe masons today,  ,are not fit to carrytheir fathers' hammers.,  ,When I was a boy,I remember seeing them,  ,put up a new towerat Torrhen's Square in a summer.,  ,Men worked back then.,  ,Today, my Holdfastlooks like it was built,  ,by drunk children.,  ,At night you can hear the windhowling through the gaps.,  ,And the Godsforbid it rains.,  ,Why, I might as well sleepbeneath a waterfall.,  ,Maintenance of a Holdfast,  ,generally fallsto the lord of that Holdfast.,  ,Generally, yes,,  ,but I've sentall the young men off,  ,to fightRobb Stark's war.,  ,King Robb.And it's not his war.,  ,He didn't choose it.,  ,Maybe not, My Lord,,  ,but he called in his Bannersand took the men.,  ,Joffrey killed my father,,  ,your liege lord.,  ,Do you rememberyour vows, Ser?,  ,Of course I remember!,  ,We can spare four masonsfor a week, My Lord.,  ,Will that be sufficientto repair your walls?,  ,I I believe it will.,  ,We didn't want him hereall day, did we?,  ,I didn't like the wayhe was talking about Robb.,  ,Nor did I.,  ,But listening to peopleyou'd rather not listen to,  ,is one of your responsibilitiesas Lord of Winterfell.,  ,Lord Portan.,  ,My Lord, may the Old Godswatch over your brother,  ,and all our northern sons.,  ,Boil this for an hourand drink the tea.,  ,Makes all your paingo away.,  ,Don't have any pain.,  ,Lucky for you.,  ,That way.,  ,You've been havingthose dreams again.,  ,I don't dream.,  ,Everyone dreams.,  ,I don't.,  ,Heard some of the mentalking about the comet.,  ,They say it's an omen.,  ,They say it means Robb will wina great victory in the South.,  ,Did they?,  ,I heard some other foolssay it's Lannister Red.,  ,Means the Lannisters will ruleall Seven Kingdoms before long.,  ,Heard a stableboy sayit's the color of blood,  ,to mark the deathof your father.,  ,The starsdon't fall for men.,  ,The red comet meansone thing, boy,  ,dragons.,  ,The dragons are all dead.,  ,They've been deadfor centuries.,  ,Mmm.,  ,Mmm.\",\n",
       " \"Mmm.,  ,What did your brother sayabout them, Khaleesi?,  ,He said they ate meat.,  ,He didn't tell youwhat kind of meat?,  ,My brother didn't knowanything about dragons.,  ,He didn't know anythingabout anything.,  ,Eh.,  ,She was Drogo'sfirst gift to me.,  ,I remember.,  ,I promisedto protect them.,  ,Promised them their enemieswould die screaming.,  ,How do I makestarvation scream?,  ,A trick I never learned,I'm afraid.,  ,Does it ever end?,  ,This is farther eastthan I've ever been.,  ,But, yes, Khaleesi,,  ,everything ends,even the red waste.,  ,And you're surethere's no other way?,  ,If we go south to the landof the Lazarheen,,  ,the Lamb Men will kill usand take your dragons.,  ,If we go westto the Dothraki Sea,,  ,the firstKhalasar we meet,  ,will kill usand take your dragons.,  ,No one will takemy dragons.,  ,They are too weak to fight,,  ,as are your people.,  ,You must betheir strength.,  ,As you are mine.,  ,Rakharo...,  ,You never have.,  ,This is bad time to start.,  ,Having a rough time of it?,  ,Nothing's killed me yet.,  , Your ass killed the sledge.\",\n",
       " \"You offered me a ride.,  ,I just wanted you to shut up aboutyour damn blisters.,  ,I was born in a placelike this.,  ,Later, I fellon hard times.,  ,Are those girls?,  ,Craster's daughters.,  ,I haven't seen a girlin six months.,  ,I'd keep on not seeing themif I were you.,  ,What, he don't like people messingwith his daughters?,  ,He don't like peoplemessing with his wives.,  ,He marrieshis daughters,,  ,and they give himmore daughters.,  ,And on and on it goes.,  , That's foul.\",\n",
       " \"It's beyond foul.,  ,All the other wildlings for ahundred leagues have disappeared.,  ,Craster's still here.,  ,He must be doingsomething right.,  ,What happensto the boys?,  , Hmm?\",\n",
       " \"He marries his daughters.,  ,What does he dowith his sons?,  ,He said he plannedto stop here,  ,on his wayto the Frostfangs.,  ,People makeall sorts of plans.,  ,I haven't seen Benjen Starkin three years.,  ,Haven't missed him.,  ,Always treated melike scum.,  ,Haven't had any good winefor a long time.,  ,You Southerners make good wine,I'll give you that.,  ,We're not Southerners.,  ,Who's this little girl?,  ,You're prettierthan half my daughters.,  ,You got a nice wet twatbetween your legs?,  ,What's your name?,  , Jon Snow.\",\n",
       " \"Snow, eh?,  ,Listen to me, bastard.,  ,All you lot from south of the Wall,you're Southerners.,  ,But now you're in the North,the real North.,  ,The lad meant no harm.,  ,I catch that pretty little bastardtalking to my daughters,  ,No one will talk to your daughters,you have my word.,  ,Now, sit downand shut your mouth.,  ,You bring any of thatgood wine with you?,  ,We did.,  ,We passed throughsix villages on the way here.,  ,All six were abandoned.,  ,Where have allthe wildlings gone?,  ,I could tell you,but I'm thirsty.,  ,There's a barrel ofDornish wine on the sledge.,  , Bring it in here.\",\n",
       " \"Yes, commander.,  ,You want to knowwhere they've all gone?,  ,North... to join upwith Mance Rayder...,  ,Your old friend.,  ,He's no friend of mine.,  ,He broke his vows,betrayed his brothers.,  ,Oh, aye.,  ,But once he wasjust a poor black crow.,  ,And now he'sKingBeyondtheWall.,  ,He's been callinghimself that for years.,  ,What's he king of?A frozen lake somewhere?,  ,That's a goodlooking axe.,  ,Fresh forged?,  ,Give it here.,  ,You'll have another onemade at Castle Black.,  ,Here.,  ,Oh, that's somelovely steel.,  ,You want to knowwhat Mance Rayder is doing?,  ,Gathering an army.,  ,What I hear,he's already got more men,  ,than any of yoursouthern kings.,  ,And where does he planmarching this army?,  ,When you'reall the way north,,  ,there's onlyone direction to go.,  ,These are bad times to beliving alone in the wild.,  ,The cold windsare rising.,  ,Let them come.My roots are sunk deep.,  ,Wife...,  ,tell the Lord Crowhow content we are.,  ,This is our place.,  ,Our husband keeps us safe.,  ,Better to live freethan die a slave.,  ,Don't it make youjealous, old man,,  ,to see me withall these young wives,  ,and you with no oneto warm your bed?,  ,We chose different paths.,  ,Oh, aye, and you chose the pathwith no one but boys on it.,  ,You'll be wanting to sleepbeneath my roof, I suppose,,  ,and eat me out of pigs.,  ,A roof would be welcome.,  ,It's been hard riding.,  ,We've brought our own foodand good steel for you.,  ,Any man lays a handon one of my wives,,  ,he loses the hand.,  ,And I see this onestaring too long,,  ,I might just gougehis eyes out.,  ,Your roof, your rules.,  ,Who am I?\",\n",
       " '!,  , Who am I?!',\n",
       " 'Lord commander.,  , And who are you?',\n",
       " \"Jon Snow.,  ,Who are you?,  ,Your steward.,  ,You want to leadone day?,  ,Then learnhow to follow.,  ,Lord of Light, come to usin our darkness.,  ,We offer youthese false Gods.,  ,Take them and castyour light upon us...,  ,For the night is darkand full of terrors.,  ,For the night is darkand full of terrors.,  ,After the long summer,,  ,darkness will fall heavyon the world.,  ,The stars will bleed.,  ,We need to stop her.,  ,The cold breath of winterwill freeze the seas...,  ,Not now.,  ,...And the dead shall risein the North.,  ,All you men were namedin the Light of the Seven!,  ,Is this how you treatthe Gods of your fathers?,  ,Are you so eager to spiton your ancestors?,  ,You smell of fear,  ,fear and pissand old bones.,  ,Do you want to stop me?,  ,Stop me.,  ,In the ancient books,it's written,  ,that a warrior will drawa burning sword from the fire.,  ,And that sword shall beLightbringer.,  ,Stannis Baratheon,,  ,warrior of light,,  ,your sword awaits you.,  ,Lord, cast yourlight upon us!,  ,For the night is darkand full of terrors.,  ,For the night is darkand full of terror.,  ,This woman will lead himinto a war he cannot win.,  ,Stannis is our king.,  ,We followwhere he leads,,  , even if we don't like the path.\",\n",
       " 'King.,  ,Since that boarkilled his brother,,  ,every lord wantsa coronation.,  ,I don\\'t serve the others.I serve Stannis.,  ,As do I,but loyal service,  ,means tellinghard truths.,  ,He\\'s surroundedby fools and fanatics,,  ,but he trusts you, Davos.,  ,If you tell himthe truth...,  ,What\\'s the truth?,  ,\"And I declare uponthe honor of my house,  ,that my belovedbrother Robert\",  ,he wasn\\'tmy beloved brother.,  ,I didn\\'t love him.He didn\\'t love me.,  ,A harmless courtesy,Your Grace.,  ,A lie.Take it out.,  ,\"...that my brother Robertleft no trueborn heirs,,  ,the boy Joffrey,the boy Tommen,,  ,and the girl Myrcellabeing born of incest,  ,between Cersei Lannister andher brother Jaime Lannister.,  , By right of birth\" Jaime Lannister, the Kingslayer.,  ,Call him what he is.,  ,\"...And her brotherJaime Lannister,,  ,the Kingslayer.,  ,By right of birth and blood,i do this day lay claim\",  ,Make it Ser Jaime Lannister,the Kingslayer.,  ,Whatever else he is,the man\\'s still a knight.,  ,\"Ser Jaime Lannister,the Kingslayer.,  ,By right of birthand blood,,  ,I do this day lay claimto the Iron Throne of Westeros.,  ,Let all true mendeclare their loyalty.',\n",
       " '\",  ,When Eddard Stark learnedthe truth, he told only me.,  ,I\\'ll not makethe same mistake.,  ,Send copies of that letterto every corner of the Realm,,  ,from the Arborto the Wall.,  ,The time has cometo choose.,  ,Let no man claim ignoranceas an excuse.,  ,Your Grace,the Lannistersare the true enemy.,  ,If, for the time being, you couldmake peace with your brother,  ,I\\'ll not make peace with Renlywhile he calls himself King.,  ,Well, many have alreadydeclared for him,  ,Mace Tyrell,Randyll Tarly.,  ,Stannis does not need to begthis lord or that lord for support.,  ,The Lord of Lightstands behind him.,  ,And how many ships hasthe Lord of Light got in his fleet?,  , He has no need for ships.',\n",
       " 'I\\'m sure he doesn\\'t,,  ,but we do if we\\'regoing to war.,  ,If not Renly, Your Grace,join forces with Robb Stark.,  ,Who would stealthe northern half of my kingdom.,  ,I\\'ve always served thievesaccording to their desserts,,  ,as you well know,Ser Davos.,  ,Joffrey, Renly, Robb Stark,they\\'re all thieves.,  ,They\\'ll bend the kneeor I\\'ll destroy them.,  ,I owe youan apology, my King.,  ,My duty is to serve.,  ,You have chosen the new Godover the Old Gods.,  ,May the Lord of Lightwatch over us all.,  ,Shall we drink together?,  ,Don\\'t.,  ,A cup of wine to honorthe one true God.,  ,The night is dark and fullof terrors, old man,,  ,but the fireburns them all away.,  ,Your Grace.,  ,King in the North.,  ,I keep expecting youto leave me,  ,in one castle or anotherfor safekeeping,,  ,but you drag me alongfrom camp to camp.,  ,Have you grownfond of me, Stark?,  ,Is that it?,  ,I\\'ve never seen youwith a girl.,  ,If I left you withone of my bannermen,,  ,your father would knowwithin a fortnight,  ,and my bannerman would receivea raven with a message:,  ,\"Release my son and you\\'ll be richbeyond your dreams.,  ,Refuse and your housewill be destroyed, root and stem.',\n",
       " '\",  ,You don\\'t trustthe loyalty,  ,of the men followingyou into battle?,  ,Oh, I trust themwith my life,,  ,just not with yours.,  ,Smart boy.,  ,What\\'s wrong?,  ,Don\\'t likebeing called \"boy\"?,  ,Insulted?,  ,You insult yourself,Kingslayer.,  ,You\\'ve been defeated by a boy.,  ,You\\'re held captiveby a boy.,  ,Perhaps you\\'ll bekilled by a boy.,  ,Stannis Baratheonsent ravens,  ,to all the high lordsof Westeros.,  ,King Joffrey Baratheonis neither a true king,  ,nor a true Baratheon.,  ,He\\'s your bastard son.,  ,If that\\'s true,Stannis is the rightful king.,  ,How convenient for him.,  ,My father learnedthe truth.,  ,That\\'s whyyou had him executed.,  ,I was your prisonerwhen Ned Stark lost his head.,  ,Your son killed him,  ,so the world wouldn\\'tlearn who fathered him.,  ,And you you pushedmy brother from a window,  ,because he saw youwith the queen.,  ,You have proof?,  ,Or do you want to trade gossiplike a couple of fishwives?,  ,I\\'m sending one of your cousinsdown to King\\'s Landing,  ,with my peace terms.,  ,You think my father\\'s goingto negotiate with you?,  ,You don\\'t know himvery well.,  ,No, but he\\'s startingto know me.,  ,Three victoriesdon\\'t make you a conqueror.,  ,It\\'s better thanthree defeats.,  ,This city stinks...,  ,Like dead bodies.,  ,A bit corpsey, yes.,  ,And shit.,  ,I thought you wantedto come here.,  ,I love it.,  ,You love the smellof dead bodies and shit?,  ,And cum and garlicand rum.,  ,You can smell cumfrom the balcony?,  ,I love the stink.I love the noise.,  ,Cities make mewant to fuck.,  ,And so did the country.,  ,This is where I belong.,  ,Yes, well, you needto be careful.,  ,No one can knowyou\\'re here.,  ,No one will know.,  ,You can\\'t trust anyonein King\\'s Landing.,  ,They\\'re all liarsgood liars, bad liars,,  ,one or two great liars.,  ,What about you?,  ,Me?',\n",
       " \"I'm not from here.I'm a slave to the truth.,  ,Truth?,  ,You are the biggestlittle liar I have ever met.,  ,Why do you thinkI am so little?,  ,I'm being crushed beneath theweight of all that truth.,  ,Oh!,  ,Ned Stark actuallyslept on this.,  ,As if the poor mandidn't suffer enough.,  ,One of the many changeswe'll have to make around here.,  , Lord Baelish.\",\n",
       " \"Your Grace.,  ,I wonder if I mightask you for a favor.,  ,Of course,Your Grace.,  ,Ned Stark's youngestdaughter Arya,  ,we can't seemto locate her.,  ,If she's escapedthe capital,,  ,Winterfell seemsthe logical destination.,  ,And yet my friends in the Northreport no sign of her.,  ,Curious.,  ,If we choose to negotiatewith the Starks,,  ,the girl has some value.Whoever finds her,  ,well, you know what they say aboutLannisters and debts.,  ,Well, you could askVarys where she is.,  ,He'll havean answer for you.,  ,Whether you believe it...,  ,Myself, I have always hada hard time trusting eunuchs.,  ,Who knows what they want?,  ,A mockingbird.,  ,You created yourown Sigil, didn't you?,  ,Yes.,  ,Appropriate...for a selfmade man,  ,with so manysongs to sing.,  ,I'm glad you like it.,  ,Some people arefortunate enough,  ,to be born intothe right family.,  ,Others have to findtheir own way.,  ,I heard a song once,  ,about a boyof modest means,  ,who found his way into thehome of a very prominent family.,  ,He lovedthe eldest daughter.,  ,Sadly, she had eyesfor another.,  ,When boys and girlslive in the same home,,  ,awkward situationscan arise.,  ,Sometimes, I've heard,even brothers and sisters,  ,developcertain affections.,  ,And when these affectionsbecome common knowledge,,  ,well, that is an awkwardsituation indeed,,  ,especiallyin a prominent family.,  ,But prominent familiesoften forget a simple truth,,  ,I've found.,  ,And which truth is that?,  ,Knowledge is power.,  ,Seize him.,  ,Cut his throat.,  ,Stop.\",\n",
       " \"Wait.,  ,I've changed my mind.Let him go.,  ,Step back three paces.,  ,Turn around.,  ,Close your eyes.,  ,Power is power.,  ,Do see if you cantake some time away from,  ,your coins and your whores,  ,to locatethe Stark girl for me.,  ,I would very muchappreciate it.,  ,You're Ser Alton Lannister?,  ,I am, Your Grace.,  ,I offer your cousins peaceif they meet my terms.,  ,First, your familymust release my sisters.,  ,Second, my father's bonesmust be returned to us,  ,so he may rest besidehis brother and sister,  ,in the cryptsbeneath Winterfell.,  ,And the remains of all thosewho died in his service,  ,must also be returned.,  ,Their families can honorthem with proper funerals.,  , An honorable request, Your Grace.\",\n",
       " 'Third...,  ,Joffrey and the Queen Regentmust renounce all claim,  ,to dominion of the North.,  ,From this timetill the end of time,,  ,we are a freeand independent kingdom.,  ,The King in the North.,  ,King in the North.,  ,Neither Joffreynor any of his men,  ,shall set footin our lands again.,  ,If he disregardsthis command,,  ,he shall sufferthe same fate as my father,,  ,only I don\\'t need a servantto do my beheading for me.,  ,These are Your Grace,these are,  ,these are my terms.,  ,If the Queen Regent and her sonmeet them, I\\'ll give them peace.,  ,If not...,  ,I will litter the southwith Lannister dead.,  ,King Joffrey is a Baratheon,Your Grace.,  ,Oh, is he?,  ,You\\'ll ride at daybreak,Ser Alton.,  ,That will be allfor tonight.,  ,A word, Your Grace?,  ,You don\\'t have to call me\"Your Grace\" when no one\\'s around.,  ,It\\'s not so badonce you get used to it.,  ,I\\'m glad someone\\'sgotten used to it.,  ,The Lannisters are going to rejectyour terms, you know?,  ,Of course they are.,  ,We can fight themin the fields as long as you like,,  ,but we won\\'t beat them until youtake King\\'s Landing.,  ,And we can\\'t takeKing\\'s Landing without ships.,  ,My father has ships and menwho know how to sail them.,  ,Men who foughtmy father.,  ,Men who fought King Robertto free themselves,  ,from the yoke of the South,just like you\\'re doing now.,  ,I\\'m his only living son.,  ,He\\'ll listen to me.I know he will.,  ,I\\'m not a Stark.I know that.,  ,But your father raised meto be an honorable man.,  ,We can avenge himtogether.,  ,You don\\'t wantBalon Greyjoy for an ally.,  ,I need his ships.They say he has .,  ,They say a million ratslive in the sewers of King\\'s Landing.,  ,Shall we rally themto fight for us?,  ,I understand you don\\'ttrust Lord Greyjoy.,  ,I don\\'t trust Lord Greyjoy becausehe is not trustworthy.,  ,Your father had to go to warto end his rebellion.,  ,Yes.',\n",
       " \"And now I'm the onerebelling against the throne.,  ,Before me, it was father.,  ,You married one rebeland mothered another.,  ,I mothered more thanjust rebels,,  ,a fact you seemto have forgotten.,  ,If I trade the Kingslayerfor two girls,,  ,my bannermen will string me upby my feet.,  ,You want to leave Sansain the Queen's hands?,  ,And Arya,  ,I haven't hearda word about Arya.,  ,What are we fighting forif not for them?,  ,It's more complicatedthan that!,  ,You know it is.,  ,It's time for meto go home.,  ,I haven't seen Branor Rickon in months.,  ,You can't goto Winterfell.,  ,I beg your pardon?,  ,I'll send Rodrikto watch over the boys,  ,because tomorrowyou'll ride south to the Stormlands.,  ,Why in the nameof all the Gods,  ,because I need you to negotiatewith Renly Baratheon.,  ,He's ralliedan army of ,.,  ,You know him.You know his family.,  ,I haven't seen Renly Baratheonsince he was a boy.,  ,You have a hundredother lords,  ,Which of these lordsdo I trust more than you?,  ,If Renly sides with us,,  ,we'll outnumber themtwo to one.,  ,When they feel the jaws beginningto shut, they'll sue for peace.,  ,We'll get the girls back.,  ,Then we'll allgo home... for good.,  ,I will ride at first light.,  ,We will all be togetheragain soon, I promise.,  ,You've done so well.,  ,Your fatherwould be...\",\n",
       " 'proud.,  , Give Lord Renly my regards.',\n",
       " \"King Renly.,  ,There's a kingin every corner now.,  ,What is all this?,  ,Returning this roomto its proper appearance.,  ,Say what you will about the Targaryensthey were conquerors.,  ,That is a seatfor a conqueror.,  ,It needs a room to match it,not vines and flowers.,  ,We can't find Arya Stark.,  ,With luck, she's deadin a ditch somewhere.,  ,Perhaps.\",\n",
       " \"But if not,we need her.,  ,They'll never give Jaime backto us for Sansa alone.,  ,I think they might.They're weak.,  ,They put too much valueon their women.,  ,We need to set our armiesto the task of finding her.,  ,Send out as many menas we can.,  ,I'm sure if you askedgrandfather,  ,The King does not ask;He commands.,  ,And my grandfather'sstupidity in the field of battle,  ,is the reason Robb Stark hasUncle Jaime in the first place.,  ,His life is in danger.,  ,We're at war.,  ,All our livesare in danger.,  ,I heard a disgusting lieabout Uncle Jaime.,  ,And you.,  ,Our enemieswill say anything,  ,to weaken your claimto the throne.,  ,It's not a claim.The throne is mine.,  ,Of course it is.,  ,No one believesthis foul gossip.,  ,Someone believes it.,  ,Father hadother children?,  ,Besides me and Tommenand Myrcella?,  ,What are you asking?,  ,I'm asking if he fuckedother women,  ,when he grew tiredof you.,  ,How many bastardsdoes he have running,  ,What you just didis punishable by death.,  ,You will neverdo it again.,  ,Never.,  ,That will be all,Mother.,  ,No, no, no, no.,  ,Do you have any ideahow ridiculous you sound?,  ,Ease into it.,  ,Slowly, with passion.,  ,Oh, yeah.,  ,Go wash yourselves.Put some clothes on.,  ,Both of youare working tonight.,  ,We do thingsdifferently here, Daisy.,  ,This isn't some fivecopperbawdy house in Hayseed Hall.,  , Haystack Hall.\",\n",
       " \"Wherever you're from.,  ,Our establishmentdoesn't cater,  ,to ploughmenand goat herders.,  ,Lord Olsen.,  ,Taste iseverything here.,  ,Littlefinger'sa fancy man.,  ,Don't call himLittlefinger.,  ,He doesn't like it.,  ,Lord Baelish.,  ,She pretends she doesn'tspeak the common tongue,  ,so that peoplewill think she's exotic.,  ,She grew up just down the roadin flea bottom.,  ,She's beautiful.,  ,She's a dumb slut, really,but a lid for every pot.,  ,Lord Commander.,  ,Good to see you...Again.,  ,You do realizethis establishment,  ,is owned byLord Petyr Baelish,,  ,the King'sMaster of Coin...,  ,Coin which goesin many pockets.,  , Orders.\",\n",
       " \"Whose orders?,  ,Someone who doesn't carewhat Littlefinger thinks.,  ,No, you can't.No!\",\n",
       " 'Please!,  ,No!',\n",
       " 'Not my Barra!,  , Please.',\n",
       " 'Please.',\n",
       " 'Enough.',\n",
       " 'Get it done.,  , Kill the bastard.',\n",
       " 'No, no!,  , Please.',\n",
       " \"Give it here.,  ,No, please.,  ,Spread out.Search every house.,  ,Every room.Look in every room.,  ,People shouting ),  ,Gendry!His name is Gendry.,  ,Where isthe bastard?,  ,The Night's Watch!Please, stop!,  ,Where?,  ,They took him up the Kingsroad,heading north.,  , How will we know him?\",\n",
       " \"He's got a bull's head helmet.,  , He made it himself.\",\n",
       " 'Find him.,  ,== sync, corrected by <font color=\"#ff\"elderman</font ==,  ,<font color=\"#ffff\" size=www.tvsubtitles.net</font,  ,Boy.,  ,Lovely boy.,  ,What do you want?,  ,A man has a thirst.,  ,A man does not drinkfor a day and a night.,  ,A boy couldmake a friend.,  ,I have friends.,  ,Give us beerbefore I skin you.,  ,A man does not choosehis companions.,  ,These two, they haveno courtesy.,  ,A man must askforgiveness.,  ,You\\'re called Arry?,  ,This man has the honorto be Jaqen H\\'ghar,,  ,once of the free city of,  ,Beer, you little shit.,  ,Get us beer!,  ,You should haveasked nicely.,  ,Aah!,  ,Come closerand I\\'ll shove that stick,  ,up your bungholeand fuck you bloody.,  ,A boy has more couragethan sense.,  ,Come here!,  ,Yoren said none of uswere to go near those three.,  , Come here!',\n",
       " \"They don't scare me.,  ,Hmm?Then you're stupid.,  ,They scare me.,  ,What are Gold Cloaks doing sofar from King's Landing?,  , What are you doing?\",\n",
       " \"They're looking for me.,  ,You in command here?,  ,You're a long wayfrom home.,  ,I asked you a question.,  ,Aye, you did.,  ,You askedwithout manners,  ,and I chose not to answer.,  ,I have a royal warrant,  ,for one of these gutter ratsyou're transporting.,  ,Well, the thing is...,  ,These gutter rats belongto the Night's Watch.,  ,Now, that puts them beyond thereach of Kings and Queens.,  ,Does it?,  ,It's a funny thing,  ,people worry so muchabout their throats,  ,that they forgetabout what's down low.,  ,Now I sharpened this bladebefore breakfast.,  ,I could shave a spider's arseif I wanted to,  ,or I could nickthis artery in your leg.,  ,And once it's nicked,there's no one around here,  ,who knowshow to unnick it.,  ,We'll just keep that.,  ,Good steel is alwaysneeded on the Wall.,  ,Seems you havea choice,  ,you can die here at this crossroadsa long way from home,,  ,or you can go back to your cityand tell your Masters,  ,you didn't findwhat you were looking for.,  ,We're lookingfor a boy named Gendry.,  ,He carriesa bull's head helmet.,  ,Anyone turning him overwill earn the King's reward.,  ,We'll be backwith more men,  ,and I'll be taking your headhome along with that bastard boy.,  , ( Distant seagulls,  ,My Lord.,  ,You make me waita long time,,  ,but your friendkeeps me company.,  ,We were just speakingof your bravery,  ,in the victory againstthe Stark auxiliary forces.,  ,It was quite a battle.,  ,I heard you suffereda terrible head wound.,  ,The northernersare such fearsome warriors.,  ,And I tell himthe story of how we meet.,  ,To find so lovelya creature,  ,working in yourfather's kitchens,  ,it almost beggars belief.,  ,Strange things do happen.,  ,You should tasteher fish pie.,  ,I don't think Lord Varyslikes fish pie.,  , How can you tell?\",\n",
       " \"I can always tell.,  ,Men like Lord Varysand I can't let,  ,our disadvantagesget the best of us.,  ,We'll make a fishermanof him yet.,  ,I am gladyour new friend,  ,was able to accompany youto the capital.,  ,Friends are suchan important part of life.,  ,Unfortunate that your fatherdidn't want her to come.,  ,But rest easy, My Lord.,  ,I am very goodat keeping secrets,  ,for my good friends.,  ,Your discretionis legendary...,  ,where your friendsare concerned.,  ,How unspeakable of meto go on and on,  ,when all you wantto do is rest.,  ,I will leave you.,  ,Welcome to King's Landing,my dear.,  ,This city is made brighterby your presence.,  ,We have a council meeting,My Lord.,  ,I don't like threats.,  , Who threatened you?\",\n",
       " 'I\\'m not Ned Stark.,  ,I understand the waythis game is played.,  ,Ned Starkwas a man of honor.,  ,And I am not.,  ,Threaten me again and I\\'ll haveyou thrown into the sea.,  ,You might be disappointedin the results.,  ,Storms come and go,,  ,the big fish eatthe little fish,,  ,and I keep on paddling.,  ,Come, My Lord.,  ,We shouldn\\'t keepthe queen waiting.,  ,\"From this timeuntil the end of time,,  ,we are not partof your realm,,  ,but a free and independentkingdom of the North.',\n",
       " '\",  ,He has more spirit thanhis father, I\\'ll give him that.,  ,You\\'ve perfected the artof tearing up papers.,  ,We can give him his father\\'s bonesback at least,  ,as a gestureof good faith.,  ,You\\'ll give the Starksour reply, cousin?,  ,I will, Your Grace.,  ,Did you see my brother,  ,when you werethe Starks\\' guest?,  ,I did.,  ,They have not brokenhis spirit, Your Grace.,  ,If you speak with him,,  ,tell him he\\'s notbeen forgotten.,  , I will, Your Grace.',\n",
       " 'Safe travels, cousin.,  ,You have a deft handwith diplomacy.,  , If that\\'s everything... A a raven flew in this morning,  ,from Castle Black.,  ,Trouble withthe wildlings.,  ,That\\'s why they\\'recalled \"wildlings.',\n",
       " '\",  ,Somewhat less wildthese days.,  ,Seems they\\'ve stoppedkilling each other,  ,and started followingthis KingBeyondtheWall.,  ,Another king?How many is that now, five?,  ,I\\'ve lost count.,  ,The Lord Commander asks that wesend more men to man the Wall.,  ,Perhaps he\\'s forgottenwe\\'re fighting a war.,  ,We have no men to spare.,  ,\"The cold windsare rising,  ,and the dead risewith them.',\n",
       " '\",  ,The northerners area superstitious people.,  ,According to the Commander,one of these dead men,  ,attacked himin his chambers.,  ,Mormont doesn\\'t lie.,  ,How do you killa dead man?,  ,Apparently you burn him.,  ,One trip to the Walland you come back,  ,believing in grumpkinsand snarks.,  ,I don\\'t knowwhat I believe,,  ,but here\\'sa fact for you,  ,the Night\\'s Watchis the only thing,  ,that separates us fromwhat lies beyond the Wall.,  ,I have every confidencethat the brave men,  ,of the Night\\'s Watchwill protect us all.,  ,And I said,,  ,\"if the Gods wanted usto have dignity,,  ,they wouldn\\'t make usfart when we died.',\n",
       " '\",  ,We fart when we die?,  ,My blessed mother,  ,I was holding her handwhen she left this world.,  ,She farted so hard,the whole bed shook.,  ,Seems a bit greedy for one manto have so many wives.,  ,Wouldn\\'t two or threebe enough for him?,  ,We were havinga serious discussion.,  ,Would you look at that?,  ,Nothing like the sightof a woman walking away.,  ,I prefer watching themcome towards me.,  ,I\\'m surethat\\'s nice, too.,  ,Yeah, well, there wasa milkmaid named Violet,  ,on the next farm overfrom where I grew up.,  ,We were wrestling togetherfrom the time we were six years old.,  ,And then we got olderand the wrestling, uh...,  ,Changed.,  ,You were with her?,  ,How many times?,  ,Well, as many timesas I could.,  ,I wish I grew upon a farm.,  ,We need more potatoes.,  ,Get another sackfrom the sledge.,  ,Get the turnips, too.,  ,No.',\n",
       " 'Ghost, no.,  ,No!,  ,Ghost, away.Shoo, shoo!,  ,You all right?,  , Did he frighten you?',\n",
       " \"You you shouldn't touch me.,  ,Oh.\",\n",
       " \"Oh, right.,  ,I'm sorry.,  ,I just wanted to make sureyou weren't hurt.,  ,You're very brave.,  ,What are you doing?,  ,This is Gilly.,  ,She's one of Craster's...daughters.,  ,Hello, Gilly.What are you doing?,  ,Sam saidyou could help.,  ,I'm sorry, but Sam knowswe're not supposed,  ,She's pregnant.,  ,Have to take herwith us when we leave.,  ,What?,  , What would thatI know it sounds a bit mad.,  ,No, it doesn't sound a bit mad,it's impossible.,  , The Lord Commander ordered us to We are sworn to protect.,  , Sam, we can't take please, ser, please.,  ,I can still runif I have to.,  , It's just not possible.\",\n",
       " \"I'm going to have a baby.,  ,If it's a boy...,  ,If it's a boy, what?,  ,You want us to riskour lives for you,  ,and you won't eventell us why?,  , Why'd you do that?\",\n",
       " 'Do what?',\n",
       " 'Ask her a question?,  , You were cruel.',\n",
       " \"Cruel?,  ,Sam, are you in such a hurryto lose a hand?,  , I didn't touch her.\",\n",
       " \"No, you just want to steal her.,  ,What do you thinkCraster cuts off for that?,  ,I can't steal her.,  ,She's a person,not a goat.,  ,We're heading deeper and deeperinto wildling territory.,  ,We can't take a girl with us.Mormont wouldn't have it.,  ,And even if he would,what would we do with her?,  ,Who's going todeliver a baby, you?,  ,I could try.,  ,What?I've read about it.,  ,A bit.,  ,I'm sorry, Sam.,  ,We can't help her.,  ,Khaleesi.,  , You don't need to see this.\",\n",
       " 'He is blood of my blood.,  , Who did this?',\n",
       " \"Khal Pono, perhaps.,  ,Khal Jhaqo.,  ,They don't like the idea of a womanleading a Khalasar.,  ,They will like it far lesswhen I am done with them.,  ,Is it as you remember,My Lord?,  ,It looks smaller.,  ,Everything looks biggerwhen you're a child.,  ,I remembermy father's cabin,  ,felt like a palacewhen I was little.,  ,Now look at it.,  ,They'll be waitingfor me on the docks.,  ,Who will?,  ,Anyone who matters.,  ,This is a big day for them.,  ,They haven't had much to getexcited about since I left.,  ,It's a hard place,the Iron Islands.,  ,Always has been.,  ,It's cold and it's wet.,  ,Oh, I lovethe cold and wet.,  ,They say hard placesbreed hard men.,  ,And hard menrule the world.,  ,Then you'll be kingbefore long.,  ,Try smiling withyour lips closed.,  ,Better.,  ,My father doesn't trustyou Iron islanders.,  ,I don't blame him.,  ,He says that you're allreavers and rapers,  ,and that no matterhow many women you have,,  ,you'll never be sat uh!,  ,Quit talking about your father.,  ,But he's rightabout us.,  ,Our wives from the Iron Islands,they're for breeding.,  ,That's not enough for us.,  ,That's whywe take salt wives,  ,the women we capture.,  ,Capture me.,  ,Take me with youwhen you go ashore.,  , Make me your salt wife.\",\n",
       " \"Your place is on this ship.,  ,Not after you leave.,  ,Father will punish me.,  ,He'll call me a whore.,  ,I haven't paid you.,  ,Oh, yeah.,  , I paid good money...,  ,I'm not going to stand for this.,  ,I barely touched her.,  ,Now, you charge twice as muchas every other brothel,  ,and this iswhat I get crying.,  ,One moment, my friend.A moment.,  ,Please acceptmy sincerest apologies.,  ,Aremca will takegood care of you.,  , I'm sorry, My Lord.\",\n",
       " \"Shh, shh.,  ,Did he hurt you?,  ,No, My Lord.,  ,It's Mhaegen.,  ,Who?,  ,She works for you.,  ,She's the onethe Gold Cloaks,,  , they killed her baby.\",\n",
       " \"Ah, yes.,  ,That was...,  ,poorly handled.,  ,Sometimes thosewith the most power,  ,have the least grace.,  ,I can't stopthinking about it.,  ,I can't sleep.,  ,That poor little baby.,  ,You know, you remind meof another girl,,  ,a lovely thingI once acquired,  ,from a Lysenepleasure house,  ,beautiful, like yourself,,  ,and intelligent,like yourself.,  ,But she wasn't happy.,  ,She cried often.,  ,I asked her why,but we didn't have,  ,the kind of rapportthat you and I have.,  ,Yes, it was quite sad.,  ,Girls from the Lysenepleasure houses are expensive,,  ,extremely expensive.,  ,And this one wasn'tmaking me any money.,  ,I hate bad investments.,  ,Really, I I do.,  ,They haunt me.,  ,I had no ideahow to make her happy,,  ,no idea howto mitigate my losses.,  ,A very wealthy patron,he offered me,  ,a tremendousamount of money,  ,to let him transformthis lovely, sad girl.,  ,To use herin ways that...,  ,Would never occurto most men.,  ,And you know whatoccurs to most men.,  ,I would not say he succeeded inmaking her happy,,  ,but my losses weredefinitely mitigated.,  ,Take tonight offto mourn Mhaegen's child.,  ,I'll see you tomorrow.,  ,And you'll be happy?,  ,That makes me happy.,  ,More wine?,  , Damn it, boy!\",\n",
       " 'Apologies, My Lord.,  ,Leave us, Podrick.',\n",
       " \"I believe weknow how to pour our own wine.,  ,That's your new squire?,  ,I could've found youa proper lad.,  ,Myself, I preferthe improper ones.,  ,Mm, that's a good red.Dornish?,  ,You know your wines,My Lord.,  ,That I do.,  ,A fine dinner, My Lord.,  ,Call me Tyrion, please.,  ,I'm sure you're gettingused to fine dinners,,  ,now that you're a lord.,  ,Maybe I'll hirethis cook of yours.,  ,Wars have beenstarted for less.,  ,I heard there was some trouble inLittlefinger's brothel the other night.,  ,Mm, nasty business.,  , Had to be done.\",\n",
       " \"Yes, of course.,  ,The City Watchmust keep the peace,,  ,only I hadn't realizedpeace depended on killing babies.,  , Orders are orders.\",\n",
       " \"Quite right.,  ,Especiallythe queen's orders.,  ,I never said they werethe queen's orders.,  ,No, but who else would want tomurder King Robert's bastards?,  ,She's always beena jealous woman.,  ,You know your sisterbetter than I do.,  ,You've heard the awful rumorsabout my brother and sister?,  ,I don't listen to filth.,  ,That's good of you,but you have heard them.,  ,I suppose people who do believethat filth consider Robert's bastards,  ,to be better claimants to the thronethan Cersei's children.,  ,Joffrey is my king.The rest doesn't interest me.,  ,I appreciateyour loyalty.,  ,Tell me, when your menslaughtered Ned Stark's men,  ,in the throne room,did you give the order?,  ,I did.,  ,And I would again.,  ,The man was a traitor.,  ,He tried to buymy loyalty.,  ,The fool.,  ,He had no ideayou were already bought.,  ,Are you drunk?,  ,I'll not have my honorquestioned by an Imp!,  ,I'm not questioningYour Honor, Lord Janos.,  ,I'm denying its existence.,  ,If you think I'll stand hereand take this from you, dwarf,  ,Dwarf?\",\n",
       " \"Mm, you shouldhave stopped at Imp.,  ,And, yes, you will stand hereand take it from me,,  ,unless you'd like to take itfrom my friend here.,  ,I intend to serveas Hand of the King,  ,until my fatherreturns from the war.,  ,And seeing as you betrayedthe last Hand of the King,,  ,well, I just wouldn'tfeel safe with you lurking about.,  ,What are you t,  ,my friends at courtwill not allow this!,  , The queen herself has granted The queen regent.,  ,And you're a fool to believeshe is your friend.,  ,We shall hear what Joffreyhas to say about this.,  ,No, we shan't.,  ,There's a ship leavingfor EastwatchbytheSea tonight.,  ,From there I'm afraid it's rathera long walk to Castle Black.,  ,I hope you enjoy the Wall.,  ,I found itsurprisingly beautiful...,  ,In a brutal, horriblyuncomfortable sort of way.,  ,The lads will escort you.,  ,The streets aren't safeat night, My Lord.,  ,These men areunder my command!,  ,I command you to arrestthis cutthroat.,  ,His name is Bronn,  ,and he is the newcommander of the City Watch.,  ,Boys.,  ,I have friends at court,,  ,powerful friends!,  ,The king himselfmade me a lord!,  ,To the new Commander.,  ,If I told you to murderan infant girl, say,,  ,still at hermother's breast,,  ,would you do itwithout question?,  ,Without question?\",\n",
       " 'No.,  ,I\\'d ask, \"how much?',\n",
       " '\",  ,If they come back,I say we yield.,  ,Gendry\\'s the onethey want.,  ,Don\\'t want to get caughtin the middle of a battle.,  ,I ain\\'t afraidof no battles.,  ,If you got within a mile of a battle,you\\'d fill your pants.,  ,I\\'ve seenlots of battles.,  , I saw Liar.,  ,I saw a mankill another man,  ,just outside a tavernin Flea Bottom.,  ,Stabbed himright in the neck.,  ,Two men fightingisn\\'t a battle.,  , They had armor on.',\n",
       " \"So?,  ,So, if they've got armor on,it's a battle.,  ,No, it isn't.,  ,What does a dyer's apprenticeknow about battles anyway?,  ,Gendry's an armorer'sapprentice.,  ,Hot pie, tell Gendrywhat makes a fight into a battle.,  ,It's, um, whenthey've got armor on.,  ,Who told you that?,  ,A knight.,  ,How'd you knowhe was a knight?,  ,Well, it was 'causehe got armor on.,  ,You don't have to be a knightto have armor.,  ,Any idiotcan buy armor.,  ,How do you know?,  ,'Cause I sold armor.,  ,What do the Gold Cloakswant with you?,  , No idea.\",\n",
       " \"You're a liar.,  ,You know, you shouldn't insultpeople that are bigger than you.,  ,Then I wouldn't getto insult anyone.,  ,I don't carewhat any of them want.,  ,No good's ever comeof their questions.,  ,No good's ever come?,  ,Who asked questionsbefore?,  ,How can someone so small be sucha huge pain in my ass?,  ,Who asked questions?,  ,The Hand of the King.,  ,Hands of the King.,  ,Lord Arryn came firsta few weeks before he died,,  ,and then Lord Stark camea few weeks before he died.,  ,Lord Stark?,  ,See?\",\n",
       " \"Asking mequestions is bad luck.,  ,You'll probablybe dead soon.,  , What did they ask about?\",\n",
       " \"My mom.,  , Who's your mom?\",\n",
       " \"Just my mom,  ,worked in a tavern,died when I was little.,  ,And who was your father?,  ,Could've been one of thosegoldhatted bastards, for all I know.,  ,What about you anyway?,  ,You thoughtthey were after you.,  ,Why?,  ,Did you kill someone or is itjust because you're a girl?,  , I'm not a girl.\",\n",
       " \"Yes, you are.,  ,Do you think I'm as stupidas the rest of them?,  ,Stupider.,  ,The Night's Watch doesn't take girls,everyone knows that.,  ,Yeah, that's true,but you're still a girl.,  ,I am not!,  ,Yeah?\",\n",
       " \"Well, pull your cock outand take a piss, then.,  ,I don't needto take a piss.,  ,Lommy and hot piecan't know.,  ,No one can know.,  ,Well, they won't,not from me.,  ,My name's not Arry.,  ,It's Arya...of House Stark.,  ,Yoren is taking me hometo Winterfell.,  ,He was your fatherthe Hand, the traitor.,  ,He was never a traitor.,  ,Joffrey is a liar.,  ,So you're a highborn, then.You're a lady.,  ,No.\",\n",
       " 'I mean, yes.,  ,My mother was a ladyand my sister,  ,Yeah, but you werea lord\\'s daughter,  ,and you livedin a castle and you,  ,look, all that about cocks,I should never have said,  ,and I\\'ve been pissingin front of you and everything.,  ,I I should becalling you \"My Lady.',\n",
       " '\",  , Do not call me \"My Lady.\"',\n",
       " \"As My Lady commands.,  ,Well, that was unladylike.,  ,Oh!,  ,What's she carrying?,  ,Myrish oranges,,  ,wine from the Arbor...,  ,And the heir to Pykeand the Iron Islands.,  ,The only living sonof Balon Greyjoy.,  ,Me.,  ,I don't like wine.,  ,Woman's drink.,  ,I need to get to Pyke.,  ,I'll find you a horse.,  ,I'm heading that way.I can take you there.,  ,I bet you can.,  ,Have you beenat sea long?,  ,Or were there just no womenwhere you came from?,  , None like you.\",\n",
       " \"You don't know what I'm like.,  ,Maybe you don't knowwhat you're like.,  ,Maybe you needsomeone to teach you.,  ,Do you know who I am?,  ,You think I offer free ridesto every man in jewelry,,  ,Lord Greyjoy?,  ,Have my things sent upto the castle.,  ,You should give methe reins.,  ,I'm a better riderthan you.,  ,I've been on horsebackfor the past nine years.,  ,Nine years?,  ,Do you still knowyour way around a ship?,  ,Have these handsever touched a rope?,  ,Don't you worryabout my hands.,  ,The sea is in my blood.,  ,Your blood will be in the seaif I don't watch where I'm going.,  ,I have a proposalfor my father,,  ,one that willmake him king again,,  ,and me after him.,  ,You may get to stayin a castle tonight if you're lucky.,  ,Is that an offerfrom my future king?,  ,An order fromyour future king.,  ,You can tell your grandchildrenabout this night.,  ,I don't imagine it will bea story fit for children.,  ,Father.,  ,Nine years, is it?,  ,They tooka frightened boy.,  ,What havethey given back?,  ,A man.,  , Your blood and your heir.\",\n",
       " \"We shall see.,  ,Stark had youlonger than I did.,  ,Lord Stark is gone.,  ,And how do you feelabout that?,  ,What's done is done.,  ,I've brought youa proposal from Robb Stark.,  ,Who gave youthose clothes?,  ,Was it Ned Stark's pleasureto make you his daughter?,  ,If my clothes offend you,I will change them.,  ,You will.,  ,That bauble'round your neck,  ,did you pay the iron pricefor it or the gold?,  ,I asked a question.,  ,Did you pull it from the neckof a corpse you made,  ,or did you buy itto match your fine clothes?,  ,Iron or gold?,  ,Gold.,  ,I'll not have my sondressed as a whore.,  ,My fears have come true,  ,the Starkshave made you theirs.,  , My blood is salt and iron.\",\n",
       " 'Yet the Stark boy sends you to me,  ,like a trained ravenclutching his message.,  ,The offer he makesis one I proposed.,  , He heeds your counsel?',\n",
       " \"I've lived with him,,  ,hunted with him,fought at his side.,  ,He thinks of meas a brother.,  ,No, not here,not in my hearing.,  ,You will notname him brother,,  ,this son of the man who putyour true brothers to the sword.,  ,Or have you forgottenyour own blood?,  ,I forget nothing.,  ,I remember my brothers.,  ,And I rememberwhen my father was a king.,  ,I see.,  ,I destroy Robb Stark'senemies for him,  ,and he will make meking of the Iron Islands once again.,  , I will lead the attack myself.\",\n",
       " \"Oh, you will?,  ,I'm your son,your only living heir.,  ,Who else?,  ,I told you to wait outside.,  ,How did you getpast the guards?,  ,Anything with a cockis easy to fool.,  ,My dear.,  ,Yara?,  ,So good to see you,brother.,  ,This is a homecoming I'll tellmy grandchildren about.,  ,She can't lead an attack!,  , And why not?\",\n",
       " \"You're a woman!,  , You're the one in skirts.\",\n",
       " \"This isn't Winterfell, boy.,  ,Your sister took over commandof your eldest brother's ship,  ,after your new fatherkilled him.,  ,What's dead may never die.,  ,The only nights she's spentoff these islands,  ,have been spenton the sea.,  ,She's commanded men.,  ,She's killed men.,  ,She knows who she is.,  ,No man gives mea crown.,  ,I pay the iron price.,  ,I will take my crown,,  ,for that is who I am.,  ,That is whowe have always been.,  ,You won't stand a chance againstthe Lannisters on your own.,  ,Who said anythingabout the Lannisters?,  ,You'll have your gold,  ,when we take the treasuryat King's Landing.,  ,All these kingsfighting for the throne,,  ,and this Stannishas the smallest army.,  ,Why would I bet on the manwith the worst chance?,  ,Because you'rea smart gambler.,  ,Stannis has provedhimself in war twice.,  ,His baby brother has never set footon a battlefield.,  ,Neither hasthe false King Joffrey.,  ,And yet they bothhave larger armies.,  ,Stannis has justbegun the fight.,  ,His Bannermenwill rally to his cause.,  ,There's no manin the Seven Kingdoms,  ,more honorablethan Stannis Baratheon,  ,or more worthyof loyalty.,  ,What is the worldcoming to,  ,when smugglers must vouchfor the honor of kings?,  , Mind your words, pirate.\",\n",
       " \"Matthos.,  ,You think I'm insulted?,  ,I am a pirate.I'm an excellent pirate.,  ,I don't sailfor promises.,  ,Of course you do.,  ,Every time you leave harbor,you're leaving on a promise,  ,a promise thatsomewhere on the sea,,  ,somebody's got some goldand you can take it from him.,  , That's a promise that always comes true.\",\n",
       " 'As is mine.,  ,You\\'re not a young man,Salladhor.,  ,And correct meif I\\'m wrong,  ,most piratesdon\\'t grow old.,  ,Only the clever ones.,  ,You want to spendyour last few years on the sea,  ,stealing fromPentoshi cheesemongers,  ,and Meereenesesilk merchants?,  ,Then go.They\\'re out there waiting for you.,  ,That\\'s easy.,  ,What I\\'m offering youis hard.,  ,Come with me and plunderthe greatest city in Westeros.,  ,You\\'ll be the richest manin Lys and the most famous.,  ,They\\'ll be singing songs about youas long as men have voices to sing.,  ,\"Salladhor Saan\"is a good name for songs.,  , It is.',\n",
       " 'One thing I want the queen.,  , The queen?',\n",
       " \"Cersei I want her.,  ,I'll sail with your fleet,all  of my ships.,  ,And if we don't drown at the bottomof Blackwater Bay,,  ,I will fuck this blonde queenand I'll fuck her well.,  ,This warisn't about you.,  ,We're not attacking King's Landingso that you can rape the queen.,  ,I'm not going to rape her.I'm going to fuck her.,  ,As if she wouldjust let you.,  ,You don't knowhow persuasive I am.,  ,I've never triedto fuck you.,  ,Stannis is the rightful kingand the Lord of Light,,  ,the one true God,  ,I've been all overthe world, my boy,,  ,and everywhere I go,people tell me about the true Gods.,  ,They all thinkthey found the right one.,  ,The one true Godis what's between a woman's legs,,  ,and better yet,a queen's legs.,  ,I never thought you'd havea true believer for a son.,  ,Eh, he's young yet.,  ,I promise you the gold.I promise you the glory.,  ,I cannot promise youthe queen.,  ,You believeyour king can win?,  ,He is the one true king.,  ,You Westerosiare funny people.,  ,A man chops off your fingersand you fall in love with him.,  ,I'll sail with you,Davos Seaworth.,  ,You're the most honestsmuggler I ever met.,  ,Make me rich.,  ,Get me to the gatesof King's Landing and I will.,  ,When will the kinghave us sail?,  ,As soon as his Godwills it.,  ,He's my God, too,and yours,,  ,but you aretoo blind to see.,  , Let me teach you how to read.\",\n",
       " \"Oh, you and your mother.,  ,It won't take long.You already know the letters.,  ,The holy books are much morepersuasive than I can be.,  ,I wish I hada God, truly.,  ,I'm not mocking you, but I've seenmen pray to every God there is,  ,pray for wind, pray for rain,pray for home.,  , None of it works.\",\n",
       " \"But you always came home.,  , I wasn't praying.\",\n",
       " 'No, but I was.,  ,Every nightthat you were at sea,,  ,I lit a candleand I prayed for you.,  ,You want meto have a God?,  ,Fine.',\n",
       " \"King Stannisis my God.,  ,He raised me upand blessed me with his trust.,  ,He gave you a futureI could never have imagined.,  ,You know how to read.You'll be a knight someday.,  ,You think a fire Godcommanded all that?,  ,It was Stannis,only Stannis.,  ,Stannis is my king,but he's only a man.,  ,Don't tell him that.,  ,Lord Janos Slynt wascommander of the City Watch.,  ,You had no rightto exile him.,  ,I have every right.I am the King's Hand.,  ,You're serving as the King's Handtill father gets here.,  ,I am Queen Regent.,  ,Listen to me,Queen Regent.,  ,You're losing the people.,  , Do you hear me?\",\n",
       " 'The people.,  ,You think I care?,  ,You mightfind it difficult,  ,to rule over millionswho want you dead.,  ,Half the city will starvewhen winter comes.,  ,The other half will plotto overthrow you.,  ,And your goldplated thugsjust gave them,  ,their rallying cry,  ,\"The Queenslaughters babies.',\n",
       " '\",  ,You don\\'t even havethe decency to deny it.,  ,It wasn\\'t you who gavethe order, was it?,  ,Joffrey didn\\'teven tell you.,  ,Did he tell you?,  ,I imagine thatwould be even worse.,  ,He did what neededto be done.,  ,You want to be Hand of the King?You want to rule?,  ,This is what ruling islying on a bed of weeds,,  ,ripping them outby the root, one by one,,  ,before they strangle youin your sleep.,  ,I\\'m no king, but I think there\\'s moreto ruling than that.,  ,I don\\'t carewhat you think!,  ,You\\'ve nevertaken it seriously.,  ,You haven\\'t,Jaime hasn\\'t.,  ,It\\'s all fallen on me.,  ,As has Jaime repeatedly,according to Stannis Baratheon.,  ,You\\'re funny.,  ,You\\'ve alwaysbeen funny...,  ,But none of your jokeswill ever match,  ,the first one, will they?,  ,You remember?,  ,Back when you rippedmy mother open,  ,on your way out of herand she bled to death?,  ,She was my mother, too.,  ,Mother gone...,  ,For the sake of you.,  ,There\\'s no bigger jokein the world than that.,  , Your Grace.',\n",
       " \"Your Grace.,  ,How did you farewith your pirate?,  ,Salladhor Saan will joinour fleet  ships.,  ,His men knowhow to fight.,  ,In my experience, piratesprefer fighting unarmed men.,  ,It does seemthe wiser choice.,  ,There won't bea choice this time.,  ,Do you trust him?,  ,Salladhor Saanis an old friend.,  ,I've known him  years.,  ,I've never trusted him,,  ,but once he gets the smell of gold,he never stops.,  ,Well, if he does his job,he'll have his share.,  ,Leave us.,  ,At once, Your Grace.,  ,The Lord of Light shinesthrough you, young warrior.,  ,Come.,  ,What did you say to him?,  ,I told him death by fireis the purest death.,  , Why?\",\n",
       " 'Because it is true.,  ,You\\'re troubled, my king.,  ,Yeah.,  ,These armies are toysfor the Lord of Light.,  ,Tell your lordto burn them, then.,  ,I tell him nothing.,  ,I pray for his commandsand I obey.,  ,My little brother has ,men according to the scouts,,  ,men whose allegiancerightly belongs to me.,  ,You must have faith.,  ,Faith?,  ,In a real war, the sidewith the greater number wins,  ,nine times out of .,  ,Then we must bethe th.,  ,I cannot defeatmy brother in the field.,  ,And I can\\'t take King\\'s Landingwithout the men he\\'s stolen.,  ,I have seen the pathto victory in the flames.,  ,But first, you must give yourselfto the Lord of Light.,  ,I\\'ve said the words,damn you.,  ,I burnt the idols.,  ,You must giveall of yourself.,  ,I have a wife.,  ,I took a vow.,  ,She\\'s sickly, weak...,  ,Shut away in a tower.,  ,She disgusts you.,  ,And she\\'s givenyou nothing,  ,no sons,only stillborns,,  ,only death.,  ,I will give youa son, my king.,  ,A son?,  ,== sync, corrected by <font color=\"#ff\"elderman</font ==,  ,Download Movie Subtitles Searcher from www.OpenSubtitles.org,  ,<font color=\"#ffff\" size=www.tvsubtitles.net</font,  ,Out, all of you.,  ,Bastard\\'s been meddlingwhere he shouldn\\'t!,  ,I want you and your men,  ,gone.,  ,And you will makethis right.,  ,( Spits ),  ,Wait outside.,  , Lord Commander.',\n",
       " 'Now!,  , Lord Commander.',\n",
       " \"Leave us.,  ,What did you do?,  ,I followed him.,  ,He took the babyinto the woods, the newborn.,  ,What business is thatof yours?,  ,No, you don't understand.,  ,He's killing them,all the boys.,  ,You know.,  ,The wildlings servecrueler Gods than you or I.,  ,Those boysare Craster's offerings.,  ,Offerings?,  ,He's murdering his own children.He's a monster.,  ,Aye, many a time that monsterhas been the difference,  ,between life and deathfor our Rangers.,  ,Your Uncle among them.,  ,We have other warsto fight out there.,  ,Like it or not,we need men like Craster.,  ,I...,  ,I saw it.,  ,I saw...,  ,Something takethat child.,  ,Yeah.,  ,Whatever it was,,  ,I daresayyou'll see it again.,  ,Now ready my horse.,  ,We leave at dawn.,  ,Don't lose it again.,  , ( Men shouting ) ( Birds squawking ),  ,( Horse whinnies ),  ,Gilly.,  ,You're leaving.,  ,I I wantedto give you something.,  ,It belongedto my mother.,  , I can't take it.\",\n",
       " \"Please.,  ,I want you to.,  ,My mother used itfor sewing.,  ,She'd let me sit with herin her chamber while she sewed,  ,and I'd read to her.,  ,My father put a stopto it when he found out.,  ,It's the only thingI have of hers.,  ,She gave it to mebefore I left for the Wall.,  ,You,  ,you shouldn'tgive it away.,  ,I'm not giving it away.,  ,I'm giving it to you.,  ,Keep it safe for me.,  ,Till I come back.,  ,( Goats bleating ),  ,( Wolf panting ),  ,Hodor.,  ,Hodor.,  ,Rouse Bran, will you?It's time for his lessons.,  ,( Gasps ),  ,( Breathing heavily ),  ,Bran:Every night it's the same.,  ,I'm walking,  ,and running, but...,  ,I'm notI'm not me.,  ,I'm runningthrough the Godswood,,  ,sniffing the dirt,,  ,tasting blood in my mouth whenI've made a fresh kill,,  ,howling.,  ,Old Nan used totell me stories,  ,about magical peoplewho could live,  ,inside stags,birds, wolves.,  ,That's exactlywhat they are, Bran,  , stories.\",\n",
       " \"So she was lying?,  , They don't exist?\",\n",
       " \"Well, they may have done.,  ,But they're gonefrom the world,  ,along with much else.,  ,These are dreams, Bran,,  ,nothing more.,  ,No, my dreamsare different.,  ,Mine are true.,  ,I dreamt of my father dying.,  ,And Rickon hadthe same dream.,  ,What about all the dreamsyou had that didn't come true?,  ,Hmm?,  ,( Clears throat ),  ,Right.,  ,This link is madeof Valyrian steel.,  ,Only one Maester in wears it on his chain.,  ,It signifies that I havestudied the higher mysteries.,  ,And all who study these mysteriestry their hand at spells.,  ,I was no different.,  ,I was young.,  ,And what boy doesn't secretlywish for hidden powers,  ,to lift him out of hisdull life into a special one?,  ,But in the end,for all my efforts,,  ,I got no more out of itthan , boys before me.,  ,( Chuckles )Come on.,  ,All right.,  ,Maybe magic once wasa mighty force in the world.,  ,But not anymore.,  ,The Dragons are gone.,  ,The Giants are dead.,  ,And the Childrenof the Forest forgotten.,  ,( Men shouting, cheering ),  ,( Grunting ),  ,Loras!Highgarden!,  , ( Grunts ) Get him!,  ,( Gasps ),  ,( Grunts ),  ,Crowd:Oh!,  ,Yield!I yield.,  ,Well fought.Approach.,  ,Rise.Remove your helm.,  ,( Crowd murmuring ),  ,You are all your fatherpromised and more, My Lady.,  ,I've seen Ser Lorasbested once or twice,,  ,but never quitein that fashion.,  ,Now, now, my love.\",\n",
       " \"My brotherfought valiantly for you.,  ,That he did, my Queen.,  ,But there can only beone champion.,  ,Brienne of Tarth,,  ,you may ask anythingof me you desire.,  ,If it is within my power,it is yours.,  ,Your Grace,,  ,I ask the honor of a placein your Kingsguard.,  , ( Crowd murmuring ) What?,  ,I will be one of your seven,pledge my life to yours,,  ,and keep you safefrom all harm.,  ,Done.,  ,Rise, Brienneof the Kingsguard.,  ,Your Grace, I have the honor tobring you Lady Catelyn Stark,,  ,sent as an envoy by her son Robb,Lord of Winterfell.,  ,Lord of Winterfelland King in the North.,  ,Lady Catelyn.I'm pleased to see you.,  ,May I present my wifeMargaery of House Tyrell?,  ,You are very welcomehere, Lady Stark.,  ,I'm so sorryfor your loss.,  ,You are most kind.,  ,My Lady,,  ,I swear to you I will seethe Lannisters answer,  ,for your husband's murder.,  ,When I take King's Landing,,  ,I'll bring youJoffrey's head.,  ,( Cheering ),  ,It will be enough to know thatjustice was done, My Lord.,  ,Brienne:Your Grace.,  ,And you should kneelwhen you approach the King.,  ,There's no need for that.Lady Stark is an honored guest.,  ,Has your son marched againstTywin Lannister yet?,  ,I do not sit onmy son's war councils.,  ,And if I did, I would not share hisstrategies with you.,  ,If Robb Stark wants a pact with us,he should come himself,,  ,not hide behindhis mother's skirts.,  ,My son is fighting a war,,  ,not playing at one.,  ,( Men grumbling ),  ,( Chuckles ),  ,Don't worry, My Lady.,  ,Our war is just beginning.,  ,( Men shouting ),  , Your Grace.\",\n",
       " \"Gerard.,  , How's your foot?\",\n",
       " \"Better, Your Grace.,  ,They don't knowtheir own size is all.,  ,Good man.,  ,I have , menat my command.,  ,All the might of the Stormlandsand the Reach.,  ,And all of them young and boldlike your Knight of Flowers?,  ,It's a game to you,isn't it?,  , I pity them.\",\n",
       " \"Why?,  ,Because it won't last.,  ,Because they are the Knights of summerand winter is coming.,  ,Brienne, escortLady Catelyn to her tent.,  , She's tired from her journey.\",\n",
       " 'At once, Your Grace.,  , Shall I return after?',\n",
       " \"That won't be necessary.,  ,I would pray awhile.Alone.,  ,If you'll follow me,My Lady.,  ,You fought bravely today,Lady Brienne.,  ,I fought for my King.,  ,Soon I'll fight for himon the battlefield.,  ,Die for himif I must.,  ,And, if it please you,Brienne's enough.,  ,I'm no lady.,  ,What are you doing here?,  ,I live here.,  , Are you angry with me, brother?\",\n",
       " \"You lying bitch.,  ,It's not my faultyou didn't recognize me.,  ,Recognize you?How could I?,  ,The last time I saw you...,  ,You looked likea fat little boy.,  ,You were a fatlittle boy, too,,  ,but I recognized you.,  ,Why didn't you tell me?,  ,I wanted to seewho you were first.,  ,( Laughs )And I did.,  ,The plans are made.It's time you heard them.,  , Father.\",\n",
       " \"Father.,  ,The wolf puphas gone south,  ,with the entirety of the northernarmy at his back.,  ,While he's tangling withthe lion in the Westerlands,,  ,the north is ripefor the taking.,  ,The Ironborn will reave andpillage as it was in the old days,  ,all along the northern coast.,  ,We'll spread our dominionacross the green lands,,  ,securing the Neckand everything above.,  ,Every stronghold will yieldto us one by one.,  ,Winterfell may defy usfor a year, but what of it?,  ,The rest shall be ours,  ,forest, field and hall.,  ,Yara, my daughter,you'll take  longships,  ,to attack Deepwood Motte.,  ,I've always wanteda castle.,  ,And what's my rolein all this?,  ,You'll take a ship to raid thefishing villages on the Stoney Shore.,  ,A ship?,  ,You give her and I get one?,  ,The sea bitch.\",\n",
       " 'We thoughtshe\\'d be perfect for you.,  ,I\\'m to fight fishermen?,  ,Be carefulof their nets.,  ,Father, I fought with Robb Stark.I know his men.,  ,He won\\'t give upthe North so easily.,  ,They won\\'t even know we\\'rethere until it\\'s too late.,  ,What do youknow of it, woman?,  ,I\\'m a proven warrior.,  ,Your brothers were warriors,both of them dead,  ,at the hands of thoseyou seem so eager to protect.,  ,I\\'m not protecting anyone.,  ,I just wonderif it\\'s not wiser to wait.,  ,Why risk going against the Northif they would be our allies?,  ,Rise up against themand they could destroy us.,  ,But if we pledgefealty to them,,  ,they\\'ll give usCasterly Rock.,  ,What are our words?,  ,Our words?,  , \"We do not sow.\"',\n",
       " '\"We do not sow.',\n",
       " '\",  ,We are Ironborn.,  ,We\\'re not subjects.We\\'re not slaves.,  ,We do not plow the fieldsor toil in the mine.,  ,We take what is ours.,  ,Your time with the wolveshas made you weak.,  ,You act as ifI volunteered to go.,  ,You gave me away,if you remember.,  ,The day you bent the kneeto Robert Baratheon.,  ,After he crushed you.,  ,Did you takewhat was yours then?,  ,You gave me away!,  ,Your boy!,  ,Your last boy!,  ,You gave me away like I was some dogyou didn\\'t want anymore.,  ,And now you curse mebecause I\\'ve come home.,  ,You\\'d have our father bowdown to your other family?,  ,I have no other family.,  ,Don\\'t you?,  ,Make your choice, Theon,and do it quickly.,  ,Our ships sailwith or without you.,  ,You won\\'t let meleave this room.,  , You won\\'t let me Shh, shh, keep your voice down.,  ,Why?',\n",
       " \"You think your fathercan hear me?,  ,He's  miles away!,  ,( Sighs ),  ,I don't intend for youto stay here.,  ,I might be able to bring you intothe castle kitchens.,  ,Again, only temporary.,  ,Every man who hastasted my cooking,  ,has told me whata good whore I am.,  ,But you wouldn'tbe a cook.,  ,You'd poseas a scullion.,  ,Scullion?What is a scullion?,  ,Kitchen wench.,  , A kitchen wench?\",\n",
       " \"Yes, but,  ,Cleaning pots?,  ,Is that how my lionwants to see me?,  ,Your lion wantsto see you alive.,  ,We've come toa dangerous place.,  ,My sister wants to hurt me.,  ,She'll look for anyweakness she can find.,  ,She can't know about you.,  ,I'm the weakness?,  ,It's a compliment,My Lady.,  ,How is being a weaknessa compliment?,  ,Language can bea bit tricky here.,  ,Oh, I'm too stupidto understand.,  ,The stupid foreign girl.,  ,I am nota kitchen wench.,  ,When will Joffreyand Sansa be married?,  ,Soon, darling,when the war is over.,  ,Mother says I'll havea new gown for the ceremony,  ,and another for the feast.,  ,But yours will be ivorysince you're the bride.,  ,The Princessjust spoke to you.,  ,Pardon, Your Grace.,  ,I'm sure your dress willbe beautiful, Myrcella.,  ,I'm counting the daysuntil the fighting is done,  ,and I can pledge my love tothe King in sight of the Gods.,  ,Is Joffrey going to killSansa's brother?,  ,He might.,  ,Would you like that?,  ,No.I don't think so.,  ,Even if he does,Sansa will do her duty.,  ,Won't you, little dove?,  , ( Knocking ) ( Gasps ) Come in.,  ,( Door opens ),  ,Who are you?,  ,I'm Shae, My Lady.Your new handmaiden.,  ,I didn't know I neededa new handmaiden.,  , You're not from here.\",\n",
       " \"No.,  ,What are you doing?,  ,Waiting for youto tell me what to do.,  ,I shouldn't have to tellyou to do things.,  ,You should just do them.,  ,What things?,  ,Change my linens,wash my clothing,,  ,scrub the floor, empty my chamber pot,brush my hair.,  , No.\",\n",
       " 'You said to brush,  ,Not now.,  ,Your chamber potis empty.,  ,Clean the table.,  ,Have you ever beena handmaiden before?,  , Yes.',\n",
       " 'For whom?,  , Lady Zuriff.',\n",
       " \"Lady Zuriff?,  ,Lady Zuriff.,  ,There is no Lady Zuriffin this city.,  ,She wasn't inthis city.,  ,Well, I don't know howthey did things in that city,,  ,but in this city,handmaidens wait on ladies,,  ,not the other way around.,  ,And I don't have timeto answer , questions,  ,and teach youhow to do your job.,  ,Do you want me to leave?,  ,Just brush my hair.,  ,Oh, thank the Gods.,  ,I haven't hada proper shit in six days.,  ,I've encountered thisproblem before, My Lord.,  ,The stresses of poweroften have this,  ,insalubrious effect.,  ,Two dropswith water daily.,  ,Right.\",\n",
       " \"I'm so gratefulto have a man,  ,of your vast knowledgeand wisdom on my side.,  , Please.\",\n",
       " 'Thank you, My Lord.,  ,I can trust you,Pycelle, can I not?,  ,Why, yes, of course,My Lord.,  ,These are perilous times.,  ,And the crown must forgenew alliances.,  ,And these alliances must oftenbe sealed in matrimony.,  ,Matrimony, huh?,  ,Yes.,  ,I\\'m trusting the councilwith these plans,,  ,but the queen mustn\\'t know.,  ,We can\\'t have hermeddling in affairs,  ,that could determinethe future of the realm.,  ,There\\'s too much at stake.,  ,Oh, yes, yes.Indeed, yes.,  ,I shall be silentas the grave.,  ,I\\'m brokering an alliancewith House Martell of Dorne.,  ,Princess Myrcella will wedtheir youngest son,  ,when she comes of age,ensuring their loyalty,  ,and their armyshould we need it.,  ,Myrcella sent awayto Dorne?,  ,But remember,the queen mustn\\'t know.,  ,Ooh, \"the queenmustn\\'t know.',\n",
       " '\",  ,I love conversationsthat begin this way.,  ,I plan to marryPrincess Myrcella off,  ,to Theon Greyjoy.,  ,Theon Greyjoy?,  ,Forgive me, My Lord,?,  ,He grew up a wardof Winterfell.,  ,He fightsfor Robb Stark.,  ,Precisely.',\n",
       " \"Theon's fatherloathes the Starks,  ,and will convince the boyto come to our side.,  ,Greyjoy can destroythe northern army from within,  ,and we can havehis father's ships.,  ,But remember,you must tell no one.,  ,Tell no one what?,  ,I plan to wed Princess Myrcella toRobin Arryn of the Vale.,  ,Lysa is not fond of me.,  ,But perhaps the promiseof a royal match,  ,will convince herto let bygones be bygones.,  ,She imprisoned you.,  ,She triedto execute you.,  ,And you offerher son a princess?,  ,For men in our position,holding grudges can be,  ,an encumbrance,don't you think?,  ,And I suppose you want meto broker this agreement?,  ,Who better?,  ,Yes, I could singthis song to Lysa,,  ,if I cared to.,  ,What's in itfor me?,  ,The gratitude ofthe people of Westeros,  ,for helping to endthis war,,  ,the adoration of the King forbringing the Vale back into the fold...,  ,and Harrenhal.,  ,Harrenhal is cursed.,  ,Never took youfor a superstitious man.,  ,By all means,tear it down and rebuild.,  ,You'll be ableto afford it.,  ,I plan to make youLord of the Riverlands.,  ,With a single stroke,you'd make me one of the,  ,greatest lords in the realm.,  ,You served my family wellin the matter of the succession.,  ,So did Janos Slynt, and hewas given Harrenhal, too.,  ,Until you snatched it away.,  ,I need you todeliver Lysa Arryn.,  ,I didn't needJanos Slynt.,  ,It's settled, then?,  ,Good.,  ,Oh, and remember,  ,the queen mustn't know.,  ,( Breathing heavily ),  ,That must hurt.,  ,( Groans ),  ,What?,  ,What is it?,  ,( Scoffs ),  ,A member of the Kingsguard?,  ,As if I wasn't humiliatedenough already.,  ,( Sighs ),  ,Brienne is a verycapable warrior.,  ,And she's devoted to me.,  ,You're jealous.,  ,Jealous?,  ,Of Brienne the beauty?,  ,Don't make me laugh.,  , I'll make it up to you.\",\n",
       " \"No, Your Grace.,  ,Not tonight.,  ,There's another Tyrellwho requires your attention.,  ,You didn't winmy father's support,  ,or his armyon charm alone.,  ,Your vassals are startingto snigger behind your back.,  ,Brides aren't usually virginstwo weeks after their wedding night.,  ,And Margaery's a virgin?,  ,Officially.,  ,Shall I bring herto you?,  ,I should warn you,,  ,I've had quitea bit of wine.,  ,As is your right.You are a King.,  ,You lookvery beautiful.,  ,Thank you,Your Grace.,  , It's a lovely gown.\",\n",
       " \"You think so?,  ,I can't decidehow I like it better.,  ,This way...,  ,or this way.,  ,You certainly don't need it.,  ,Although...,  ,some say thatbeauty most desired,  ,is the beauty concealed.,  ,Must be the wine.,  ,Here, let me.,  ,( Shudders ),  ,I'm sorry.,  ,Do you want my brotherto come in and help?,  , What?\",\n",
       " \"He could get you started.,  ,I know he wouldn't mind.,  ,Or I can turn over and youcan pretend I'm him.,  ,I don't know whatyou're talking about.,  ,There's no needfor us to play games.,  ,Save your lies for court.You're going to need a lot of them.,  ,Your enemiesaren't happy about us.,  ,They want to tearus apart.,  ,And the best wayto stop them,  ,is to put your baby,  ,in my belly.,  ,We can try again later.,  ,You decide howyou want to do it,  ,with me,with me and Loras.,  ,However else you like.,  ,Whatever you need to do.,  ,You are a King.,  ,Cersei:You monster.,  ,Myrcella is my only daughter.,  ,Do you really think I'll let yousell her like a common whore?,  ,Myrcella's a Princess.,  ,Some would sayshe was born for this.,  ,I will not let youship her off to Dorne,  ,as I was shipped offto Robert Baratheon.,  ,Dorne is the safest placeor her.,  ,Are you mad?The Martells loathe us.,  ,That's why we needto seduce them.,  ,We're going to needtheir support in the war,  ,your son started.,  , She'll be a hostage.\",\n",
       " \"A guest.,  ,You won't get awaywith this.,  ,You think the piece of paper fathergave you keeps you safe.,  ,Ned Stark had a pieceof paper, too.,  , It's done, Cersei.\",\n",
       " 'No.,  , You cannot stop it.',\n",
       " \"No!,  ,Just how safe do you thinkMyrcella is if this city falls?,  ,Do you want to see her raped,butchered like the Targaryen children?,  ,Make no mistake.,  ,They'll mount her pretty little headon a spike right beside yours.,  ,Get out!Get out!,  ,Theon ofthe House Greyjoy,,  ,you would this day consecrateyour faith to the drowned God?,  , I would.\",\n",
       " \"Kneel.,  ,Let Theon,your servant,,  ,be born again fromthe sea as you were.,  ,Bless him with salt.,  ,Bless him with stone.,  ,Bless him with steel.,  ,What is deadmay never die.,  ,What is deadmay never die...,  ,But rises againharder and stronger.,  ,Stand.,  ,( Dog barking ),  ,( Footsteps approaching ),  ,I don't appreciate beingmade a fool of, dwarf.,  ,If Myrcella marriesthe Martell boy,,  ,she can't very wellmarry Robin Arryn, can she?,  ,No, afraid not.Sorry about that.,  ,And Harrenhal,  ,I suppose that'soff the table as well.,  ,Yes, I fear so.Sorry about that, too.,  ,Leave me out of yournext deception.,  ,Oh, that's a shame.,  ,You were to be the centerpiece ofmy next deception.,  ,My brother Jaime rotsin a Northern stockade.,  ,I would see him released.,  ,That's where you come in.,  ,Robb Stark will neverrelease the Kingslayer.,  ,No, he won't.But his mother might.,  ,How would you like to seeyour beloved Cat again?,  ,( Footsteps approaching ),  , Find him?\",\n",
       " \"Oh, aye.,  ,And he has company.,  ,Filthy old stoat.Almost hate to interrupt.,  , No, you don't.\",\n",
       " \"No, I don't.,  , ( Door bursts ) ( Gasps ),  ,What is the meaningof this?,  ,No, please, please.,  ,You disappoint me,Grand Maester.,  ,I am your loyal servant.,  ,So loyal that you toldthe Queen about my plans,  ,to send Myrcella to Dorne.,  ,No!\",\n",
       " \"Never!,  ,It's a falsehood.I swear it.,  ,It wasn't me.,  ,Ah, Varys.,  ,It was Varysthe spider.,  ,See, I told Varys that I was givingthe Princess to the Greyjoys.,  ,I told Littlefinger that I plannedto wed her to Robin Arryn.,  ,I told no one that I wasoffering her to the Dornish.,  ,No one but you.,  ,The eunuch hasspies everywhere.,  ,Cut off his manhoodand feed it to the goats.,  , No, no, no.\",\n",
       " 'There are no goats, halfman.,  ,Well, make do.,  ,( Whimpering ),  ,How long have youbeen spying for my sister?,  ,All I did, I didfor House Lannister.,  ,Always.',\n",
       " \"Your lord father,ask him.,  ,I've always beenhis servant,  ,since the daysof the Mad King.,  , I don't like his beard.\",\n",
       " 'What?,  ,What?Oh, no.',\n",
       " 'No.,  ,( Whimpering ),  ,How many hands have youbetrayed, Pycelle?,  ,Eddard Stark?Jon Arryn?,  ,Lord Arryn,he knew.,  ,( Stammering ) He knew the truthabout the queen.,  ,And, well,he planned to act,,  ,to tell King Robert.,  ,So you poisoned him?,  ,No.',\n",
       " 'Never.,  ,But you let him die,made sure he succumbed.,  ,LannisterI always served Lannister.,  ,Get him out of my sight.Throw him in one of the black cells.,  ,Oh, no.',\n",
       " \"No, no, no.No, please.,  ,Don't!You can't do this to me!,  ,For your trouble.,  ,( Pycelle shouting ),  ,You'll be pleased to knowour mutual friend,  ,is doing quite wellin Lady Sansa's service.,  ,Good.One of my better ideas.,  ,And it seemsthe Grand Maester,  ,has found his wayinto a black cell.,  ,Well played,My Lord Hand.,  ,But should I be worried?,  ,Janos Slynt,Pycelle,  ,the small councilgrows smaller every day.,  ,The council has a reputationfor serving past Hands poorly.,  ,I don't mean to followNed Stark to the grave.,  ,Power is a curious thing,My Lord.,  ,Are you fond of riddles?,  ,Why, am I aboutto hear one?,  ,Three great mensit in a room.,  ,A king, a priestand a rich man.,  ,Between them standsa common Sellsword.,  ,Each great man bids theSellsword kill the other two.,  ,Who lives, who dies?,  ,Depends on the Sellsword.,  ,Does it?He has neither crown,  ,nor gold nor favorwith the Gods.,  ,He has a sword,the power of life and death.,  ,But if it's swordsmenwho rule,,  ,why do we pretendKings hold all the power?,  ,When Ned Starklost his head,,  ,who was truly responsible?,  ,Joffrey?The executioner?,  ,Or something else?,  ,I've decidedI don't like riddles.,  ,Power resides wheremen believe it resides.,  ,It's a trick,,  ,a shadow on the wall.,  ,And a very small man,  ,can cast a very large shadow.,  ,( Crickets chirping ),  ,( Horse whinnies ),  ,( Snoring ),  ,( Door opens ),  ,You should be sleeping.,  ,Tomorrow's a long march.,  , miles if itdon't piss on us.,  ,I can't sleep.,  ,I don't like the taste.,  ,( Chuckles ),  ,Well...,  ,You don't drink itfor the flavor, to be honest.,  ,What?,  ,How do you sleep?,  ,Same as most men,I think.,  ,But you've seen things,,  ,horrible things.,  ,Aye.,  ,I've seen somepretty things, too,,  ,but not nearly so many.,  ,How do you sleepwhen you,  ,when you have thosethings in your head?,  ,You didn't see that.,  ,I made damn sure.,  ,I close my eyesand I see them up there.,  ,All of them,  ,standing there,  ,Joffrey,,  ,the Queen,,  ,and,  ,and my sister.,  ,You know, we've got somethingin common, me and you.,  ,You know that?,  ,I must have been,  ,a couple of yearsolder than you.,  ,I saw my brother stabbedthrough the heart,  ,right on our doorstep.,  ,He weren't much of a villainwhat skewered him.,  ,Willem, the lad's name was.,  ,He ran off beforeanyone could spit.,  ,And I just stood there,,  ,watching my brother die.,  ,But here's the funny part.,  ,I can't picturemy brother's face anymore.,  ,But Willem,  ,oh, he wasa nicelooking boy.,  ,He had good white teeth,,  ,blue eyes,,  ,one of those dimpled chinsall the girls like.,  ,I would think about himwhen I was working,,  ,when I was drinking,when I was having a shit.,  ,It got to the point,  ,where I would say his nameevery night before I went to bed.,  ,Willem.\",\n",
       " \"Willem.,  ,Willem.,  ,A prayer almost.,  ,Well, one day...,  ,Willem came ridingback into town.,  ,I buried an ax so deepinto Willem's skull,,  ,they had to buryhim with it.,  ,Willem's horsegot me to the Wall,  ,and I've been wearingblack ever since.,  ,Well...,  ,that'll help you sleep, eh?,  ,( Horn sounds ),  ,( Men shouting ),  ,Ho!,  ,Get up, you lazysons of whores!,  ,Arm yourselves.,  , Gendry: Get up.\",\n",
       " \"Arya: Get up.,  ,Keep out of sight,both of you.,  , No, I'm not afraid.\",\n",
       " \"I can fight.,  ,Keep out of sight.,  ,If things go wrong,you run.,  ,Do you hear me?,  ,You run along Northand don't look back.,  ,Hey, there's menout there,  ,who want to fuckyour corpses.,  ,Outside, now!,  ,Man:Come on, move, move!,  ,( Horse whinnies ),  ,Gold Cloaks!,  ,( Shouting ),  ,Everyone out!,  ,( Shouting ),  ,Hey, you!Open the damn cage!,  ,Where's the bastard, Crow?,  ,Got more than a few bastards here.Who's asking?,  ,Ser Amory Lorch, sworn Bannermanto Lord Tywin Lannister.,  ,These men from the capitalrequested our assistance.,  ,Drop your weaponsin the name of the King.,  ,Now, which Kingwould that be?,  ,This is your last chance.,  ,In the nameof King Joffrey,,  ,drop your weapons.,  ,( Spits )I don't think I will.,  ,So be it.,  ,( Grunts ),  ,I always hated crossbows.Take too long to load.,  ,( Groans ),  ,( Gurgles ),  ,Jaqen: Boy, come here.Boy!,  , Sweet boy, help us.\",\n",
       " \"Come back here!,  ,Help us, boy!,  ,( Shouting ),  ,A man can fight!Free us!,  ,Quick, give it to me.,  ,Give me the ax.Give me that.,  ,Soldier:Put 'em on the wagon!,  ,There's more here.Come on.,  ,( Grunts ),  ,( Chuckles ),  ,What do we have here?,  ,No!,  ,That's a finelittle blade.,  ,Maybe I'll pickmy teeth with it.,  ,I yield!I yield!,  ,Amory:Round up any survivors.,  ,We'll take them backto Harrenhal.,  ,You heard him.You're coming with us.,  ,I yield!,  ,( Whimpering ),  ,Help!,  ,Help me!,  ,Something wrongwith your leg, boy?,  ,Look at it.,  ,Can you walk?,  ,No.You got to carry me.,  ,All right.,  ,( Coughing ),  ,Carry him, he says.\",\n",
       " '( Laughs ),  ,We\\'re looking fora bastard named Gendry.,  ,Give him up,  ,or I\\'ll starttaking eyeballs.,  ,You want Gendry?,  ,You already got him.,  ,He loved that helmet.,  ,( Theme music playing ),  ,== sync, corrected by <font color=\"#ff\"elderman</font ==,  ,<font color=\"#ffff\" size=www.tvsubtitles.net</font,  ,It\\'s got to be the Mountain.He\\'s the biggest.,  , He\\'s the strongest.',\n",
       " \"Bulls are bigger than lions.,  ,Doesn't mean I'd picka bull in a fight.,  ,If the bull had fangsand claws, I would.,  ,Right, the Mountainor our man Jaime.,  , If he ever gets out.\",\n",
       " \"( Thunderclap ),  ,Loras Tyrell?,  ,Loras Tyrell.He's prettier than the queen.,  ,I don't care about pretty.,  ,He's better with a swordthan any of them.,  ,How good could he be?,  ,He's been stabbingRenly Baratheon for years,,  , and Renly ain't dead.\",\n",
       " \"( Laughs ),  ,( Horse whinnies ),  ,The horses seema little spooked to you?,  ,They're horses.,  ,They get spookedby their own shadows.,  , Shh.\",\n",
       " '( Horse snorting ),  ,Do you hear that?,  ,No.,  ,There\\'s somethingout there.,  ,( Neighing ),  , ( Farts ) ( Gasps ),  , ( Laughing ) Oh.,  ,Oh, you\\'re a rightlittle prick.,  ,You should seeyour face.,  ,I swear youpissed yourself.,  ,\"Oh, who goes there?Ahh!',\n",
       " '\",  , ( Laughs ) There is something out there.,  , Yeah, don\\'t even try me.',\n",
       " '( Horse neighs ),  , Rennick.',\n",
       " \"Do you think I'm an idiot?,  , Rennick!\",\n",
       " '( Screams ),  , ( Rennick screaming ) ( Horses neighing ),  , Man: King in the North!',\n",
       " 'Men: The King in the North!,  , ( Water running ) ( Man groans ),  ,( Flies buzzing ),  ,( Man # screaming ),  ,( Horse neighing ),  ,( Man # shouting ),  ,Bolton: Five Lannisters deadfor every one of ours.,  ,They\\'re dead.Take everything they\\'ve got.,  ,Bolton: We\\'ve nowhere to keepall these prisoners.,  ,Barely enough foodto feed our own.,  ,We\\'re not executingprisoners, Lord Bolton.,  ,Of course, Your Grace.,  ,The officerswill be useful.,  ,Some of them may be privyto Tywin Lannister\\'s plans.,  ,I doubt it.,  ,Bolton: Well, we\\'ll learnsoon enough.,  ,In my family we say,\"A naked man has few secrets.,  ,A flayed man none.',\n",
       " '\",  ,My father outlawedflaying in the North.,  , We\\'re not in the North.',\n",
       " \"We're not torturing them.,  ,The high road's very pretty,,  ,but you'll have a hard timemarching your army down it.,  ,The Lannisters holdprisoners of their own.,  ,I won't give them an excuseto abuse my sisters.,  ,Man:No, no, don't!\",\n",
       " \"Don't!,  , Woman: Shh, shh.\",\n",
       " 'Please!,  , Shh.',\n",
       " \"( Flies buzzing ),  ,The rot's set in.,  ,No, don't!No, don't!,  , Shh.\",\n",
       " \"Please, don't!,  ,It'll get better.It doesn't even hurt.,  ,The rot will spread.If we don't take the foot now,  ,No, you can't!,  ,Ser!\",\n",
       " \"Please, Ser.,  , I can't lose You'll die if she does it.,  ,I don't want to bea cripple, please.,  ,Surely one of our men needs yourattention more than this cub.,  ,Your men are notmy men, My Lord.,  ,Put this in your mouth and lie down.You don't want to watch.,  , No!\",\n",
       " \"You can't!\",\n",
       " \"Bite on it.,  ,It's better than bitingyour own tongue, believe me.,  ,( Muffled screaming ),  ,( Sawing ),  , What's your name?\",\n",
       " 'Talisa.,  ,Your last name?,  ,You want to know what sidemy family fights on?,  ,You know my family name.You have me at a disadvantage.,  ,That boy lost his footon your orders.,  ,They killed my father.,  , That boy did?',\n",
       " \"The family he fights for.,  ,Do you think he's friendswith King Joffrey?,  ,He's a fisherman's sonthat grew up near Lannisport.,  ,He probably never held a spear,  ,before they shoved one in hishands a few months ago.,  ,I have no hatredfor the lad.,  ,( Sighs ),  ,That should helphis foot grow back.,  ,You'd have us surrender,end all this bloodshed.,  ,I understand.The country would be at peace,  ,and life would be justunder the righteous hand,  ,of good King Joffrey.,  , You're going to kill Joffrey?\",\n",
       " 'If the Gods give me strength.,  , And then what?',\n",
       " \"I don't know.,  ,We'll go backto Winterfell.,  ,I have no desire to siton the Iron Throne.,  ,So who will?,  ,I don't know.,  ,You're fightingto overthrow a king,,  ,and yet you have no planfor what comes after?,  ,First we haveto win the war.,  ,You never told mewhere you're from.,  , Volantis.\",\n",
       " \"Volantis?,  ,You're far from home.,  ,The boy was luckyyou were here.,  ,He was unluckythat you were.,  ,You're here to answer for yourbrother's latest treasons.,  ,Your Grace,,  ,whatever my traitor brotherhas done, I had no part.,  ,You know that.I beg you,  ,Ser Lancel, tell herof this outrage.,  ,Lancel:Using some vile sorcery,,  ,your brother fell on Stafford Lannisterwith an army of wolves.,  ,( Crowd murmuring ),  ,Thousands of good menwere butchered.,  ,After the slaughter,the northmen feasted on,  ,the flesh of the slain.,  ,( Crowd gasping, murmuring ),  ,Killing you would sendyour brother a message.,  ,( Crying ),  ,But my mother insistson keeping you alive.,  ,Stand.,  ,So we'll have to sendyour brother,  ,a message some other way.,  ,Meryn.,  ,Leave her face.,  ,I like her pretty.,  , ( Blow lands ) ( Sansa gasps ),  ,( Groans ),  ,Meryn, My Ladyis overdressed.,  ,Unburden her.,  ,If you want Robb Starkto hear us,,  ,we're going to haveto speak louder.,  ,( Sobbing ),  ,Tyrion: What is the meaningof this?,  ,What kind of knightbeats a helpless girl?,  ,The kind who serveshis king, Imp.,  ,Careful, now.\",\n",
       " \"We don't want,  ,to get blood all over yourpretty white cloak.,  ,Tyrion: Someone get the girl somethingto cover herself with.,  ,She is to be your queen.,  ,Have you no regardfor her honor?,  , Joffrey: I'm punishing her.\",\n",
       " \"Tyrion: For what crimes?,  ,She did not fight herbrother's battle, you halfwit.,  ,You can't talk to me like that.The king can do as he likes!,  ,The Mad Kingdid as he liked.,  ,Has your Uncle Jaime ever toldyou what happened to him?,  ,No one threatens His Gracein the presence of the Kingsguard.,  ,I'm not threateningthe King, Ser.,  ,I am educating my nephew.,  ,Bronn, the next timeSer Meryn speaks, kill him.,  ,That was a threat.See the difference?,  ,( Crowd whispering ),  ,Tyrion: I apologize formy nephew's behavior.,  ,( Crowd murmuring ),  ,Tell me the truth.,  ,Do you want an endto this engagement?,  ,I am loyal to King Joffrey,my one true love.,  ,Lady Stark, you maysurvive us yet.,  ,The little king'sbacked up.,  ,Clogged from ballsto brains.,  ,You think dipping his wickwill cure what ails him?,  ,There's no curefor being a cunt.,  ,But the boy's at that age.,  ,And he's got nothing to do allday but pick wings off flies.,  ,Couldn't hurt to getsome of the poison out.,  ,What are youdoing here, dog?,  ,Your uncle leftyour nameday present,  ,and asked me to seethat you got it.,  ,And?,  ,What is it?,  ,Look inside,Your Grace.,  ,Your Grace.,  , Happy nameday, Your Grace.\",\n",
       " \"My nameday has passed.,  ,We won't tellif you won't.,  ,No.,  ,Her.,  ,Touch her.,  ,( Women giggle ),  ,( Breathing heavily ),  ,Could you hit her?,  ,( Laughs ),  ,My uncle sent you?,  ,Yes, Your Grace.,  ,He chose us himself.,  ,Hmm.,  , ( Slapping ) ( Laughing ),  ,Use this.,  ,Harder.,  ,( Whimpers ),  ,I said harder.,  ,He'd want me to gethis money's worth.,  ,( Crying ),  ,( Screaming ),  ,( Whimpering, crying ),  ,Your Grace, too much painwill spoil the pleasure.,  ,( Woman whimpering )Please, please,,  ,please, Your Grace.,  ,Your Grace,if your uncle finds out,  ,Oh, I want himto find out.,  ,You will bring her to hischambers when you're finished,  ,and show himwhat you've done.,  ,Or the same thingwill happen to you.,  ,Begin.,  , ( Thuds ) ( Screams ),  ,Harder!,  ,( Horse whinnies ),  ,Well, if it isn'tmy favorite whoremonger.,  ,Pray I haven't keptyou waiting long.,  ,Your Grace.,  ,Now you do the Lannisters'bidding, is that it?,  ,Tell me, was my brother'sbody even cold,  ,before you securedyour newest patron?,  ,I'm a practical man.,  ,Just not a loyal one.,  ,And who would you haveme be loyal to?,  ,Your brother's corpse?,  ,( Chuckles ),  ,I don't like you,Lord Baelish.,  ,I don't like your face.,  ,I don't like the words that comeoozing out of your mouth.,  ,I don't want you in my tentone minute more than necessary.,  ,So tell me,why are you here?,  ,Renly:You can trust Brienne.,  ,Her loyalty comeswithout charge.,  ,You still have many friendsat court, Your Grace,,  ,many who believeNed Stark erred,  ,by not supportingyour claim.,  ,Now I understand.,  ,You know I havethe numbers.,  ,You know I'm marchingon King's Landing.,  ,When I take the throne,you hope to retain your position.,  ,And your head.,  ,I would give priorityto my head.,  ,I understand thatyou don't like me,,  ,and while thatsaddens me greatly,,  ,I did not come here todayseeking your affection.,  ,When you marchon King's Landing,,  ,you may find yourself facinga protracted siege or...,  ,open gates.,  ,Your Grace.,  ,Lord Baelish.,  ,All of these tentslook the same to me.,  , Would you be so kind It would be my pleasure.,  ,It took me weeks to learnway around the camp.,  ,Twice I walked in on officersin stages of undress.,  ,And the moment I learnwhich tent is mine,,  ,we're on the move again.,  ,Your tent?,  ,Not our tent?,  ,The King snores, perhaps?,  ,Or simply preferssolitude?,  ,Pressures of command,no doubt.,  ,Four kings vyingfor the throne.,  ,I am not tutoredin warfare,,  ,but basic arithmetic favors theside with the greater numbers.,  ,If war were arithmetic,,  ,the mathematicianswould rule the world.,  ,But I did notice your brotherentering His Grace's tent the just now.,  ,The place of a Kingsguardis by the King's side.,  ,And on the nightof the your wedding,,  ,who was bythe King's side then?,  ,You seem quite interestedin our marriage.,  ,Your marriageis quite interesting...,  ,Not only to me,but to the realm.,  ,The marriage of a wealthy girlalways breeds interest,,  ,if nothing else.,  ,You've never married,have you?,  ,I've been unluckyin my affections, sadly.,  ,That is sad.,  ,Though perhapsit's for the best.,  ,The whole notion of marriageseems to confuse you,,  ,so allow me to explain.,  ,My husband is my King,and my King is my husband.,  ,Here is your tent,Lord Baelish.\",\n",
       " 'Good night.,  ,( Hoofbeats ),  ,( Horse whinnies ),  ,( Speaking Dothraki ),  ,What do you knowof this place?,  ,Only that the desertaround their walls,  ,is calledthe Garden of Nes.,  ,Every time the Qartheenshut their gates on a traveler,,  ,the garden grows.,  , ( Man coughing ) ( Man # groans ),  , Man #: Go on!',\n",
       " \"Man #: You, keep moving!,  ,( Woman crying ),  , ( Screams ) Man: Bring her about!,  ,What kind of firemelts stone?,  ,Dragon fire.,  ,There's dragons here?,  ,No, all the dragonsare dead.,  ,What's that smell?,  ,Dead people.,  ,Move.,  ,Man:Please, please, no, no!,  ,( Screaming ),  ,( Screaming ),  ,( Sobbing )No.,  ,( Screaming ),  ,( Screaming stops ),  ,( Chains rattle ),  ,( Heavy thud ),  ,Woman:He's dead.,  ,He was my son.,  ,My sisterwas three days ago.,  ,My husband,the day before that.,  ,They take someoneevery day?,  ,Does anyone live?,  ,( Thunder rumbling ),  ,Arya:Joffrey.,  ,Cersei.,  ,Ilyn Payne.,  ,The Hound.,  ,Joffrey.,  ,Cersei.,  ,Ilyn Payne.,  ,The Hound.,  ,Joffrey.\",\n",
       " 'Cersei.,  ,Ilyn Payne.The Hound.,  ,How dare you?,  ,You may have heardfalse reports.,  , You betrayed Ned.',\n",
       " 'Betrayed?,  ,I wanted him to serveas Protector of the Realm.,  ,I begged himto seize the moment.,  ,I trusted you.My husband trusted you.,  ,And you repaid our faithwith treachery.,  , No, My Lady.',\n",
       " \"Get out!,  ,Cat, I've,  ,I've loved yousince I was a boy.,  ,It seems to me that fatehas given us this chance,  ,Have you lost your mind?Get out!,  ,Do you want to seeyour girls again?,  ,Sansa, more beautifulthan ever.,  ,And Arya,just as wild as ever.,  ,You have Arya, too?,  ,Both girls are healthyand safe...,  ,for now.,  ,But you know the Queenand you know Joffrey.,  ,I fear fortheir longevity,  ,if they remainin the capital.,  ,( Knife clinks ),  ,What do you want?,  ,The Lannisters will trade yourdaughters for the Kingslayer.,  ,Of course they will.,  ,Jaime Lannisterfor two girls?,  ,Robb will never agreeto those terms.,  ,I'm not bringingthese terms to him.,  ,I'm bringing themto you.,  ,You think I'd keepsecrets from my son?,  ,Robb has surprised them allwith his skills in battle,,  ,but he's not a mother.,  ,Consider it, Cat.,  ,You may not getanother chance.,  , I've brought you a gift.\",\n",
       " \"I don't want your gifts.,  ,A token of TyrionLannister's goodwill.,  ,He wants you to understandthat this exchange of prisoners,  ,is offered in good faith.,  ,Good faith?,  ,What's this?,  ,Your husband wasan honorable man.,  ,He should rest beside his familyin the crypts beneath Winterfell.,  , You may not believe Get out.,  ,( Groans ),  , ( Men shouting ) Man: Get up, you dogs!,  ,( Wood banging ),  ,That's him,the one who picks.,  ,The Mountain.,  ,What are you doing?,  ,He told me he staresat him every day.,  ,That's why hedoesn't get picked.,  ,You.,  ,Man:Move, boy!,  ,Move!,  ,( Liquid trickling ),  ,Tickler: Is there gold and silverin the village?,  , I don't know.\",\n",
       " \"Gems?,  ,I didn't see any.,  , Where is the Brotherhood?\",\n",
       " \"I don't know.,  ,( Rats squeaking ),  ,( Squeaking ),  , Tickler: Where is the Brotherhood?\",\n",
       " \"I don't know.\",\n",
       " 'Please.,  , Where is the Brotherhood?',\n",
       " \"I don't know.,  , ( Rat squeaking ) ( Whimpering ),  ,Which of the villagersaided them?,  , I don't know.\",\n",
       " 'Who?,  ,I,  , Who?',\n",
       " 'I never saw.,  , Who?',\n",
       " 'I never saw.,  ,Please.',\n",
       " \"Please, stop.Please, it's starting to,  , Who?\",\n",
       " \"I didn't see anyone help him.,  , ( Rat shrieking ) Take it off!\",\n",
       " 'Take it off!,  , Who helped him?',\n",
       " 'Ganes the butcher,  , and his son.',\n",
       " \"That's better.,  , You've been very helpful.\",\n",
       " 'No, stop, please!,  ,What are you doing?Please, stop!,  ,Please, stop!No!',\n",
       " 'No!,  ,I told you everything!No!,  , No!',\n",
       " '( Screaming ) ( Rat clattering ),  ,Joffrey.,  ,Cersei.,  ,Ilyn Payne.The Hound.,  ,Woman: Please, Polliver.Some food.,  ,Just a crust of bread.,  ,( Woman crying ),  ,Polliver.,  ,The Mountain.,  ,Lady Stark, I had not thoughtto find you in the Stormlands.,  ,I had not thoughtto be here, Lord Stannis.,  , Can that truly be you?',\n",
       " \"Who else might it be?,  ,When I saw your standard,I couldn't be sure.,  , Whose banner is that?\",\n",
       " \"My own.,  ,I suppose if we usedthe same one,,  ,the battle would beterribly confusing.,  ,Why is your stagon fire?,  ,The King has takenfor his sigil,  ,the fiery heartof the Lord of Light.,  ,Ah, you must be this firepriestess we hear so much about.,  ,Mm, brother,,  ,now I understand why youfound religion in your old age.,  ,Watch yourself, Renly.,  ,Renly:No, no, I'm relieved.,  ,I never really believedyou're a fanatic.,  ,Charmless, rigid,a bore, yes,,  ,but not a godly man.,  ,You should kneelhe's the Lord's chosen,,  ,born amidst saltand smoke.,  ,Born amidst saltand smoke?,  ,Is he a ham?,  ,Stannis: That's twiceI've warned you.,  ,Listen to yourselves.,  ,If you were sons of mine, Iwould knock your heads together,  ,and lock you in a bedchamberuntil you remembered,  ,that you were brothers.,  ,It is strange to find youbeside my brother, Lady Stark.,  ,Your husband was a supporterof my claim.,  ,Lord Eddard's integritycost him his head.,  ,And you sit beside this pretenderand chastise me.,  ,We share a common enemy.,  ,The Iron Throneis mine by right.,  ,All those that deny thatare my foes.,  ,The whole realm denies it,from Dorne to the Wall.,  ,Old men deny itwith their death rattle,  ,and unborn children deny itin their mother's wombs.,  ,No one wants youfor their King.,  ,You never wantedany friends, brother.,  ,But a man without friendsis a man without power.,  ,For the sake of the motherwho bore us,,  ,I will give you this one nightto reconsider.,  ,Strike your banners,,  ,come to me before dawn,,  ,and I will grant youyour old seat in the council.,  ,I'll even name youmy heir,  ,until a sonis born to me.,  ,Otherwise I shalldestroy you.,  ,Look acrossthose fields, brother.,  ,Can you seeall those banners?,  ,You think a few boltsof cloth will make you King?,  ,No.,  ,The men holding those boltsof cloth will make me King.,  ,We shall see, Renly.,  ,Come the dawn,we shall see.,  ,Look to your sins,Lord Renly.,  ,The night is darkand full of terrors.,  ,Would you believeI loved him once?,  ,I thought we were welcome.,  ,If you heard a Dothraki hordewas approaching your city,,  ,you might do the same,Khaleesi.,  ,Horde?,  ,My name is Daenerys,  ,Daenerys Stormbornof the House Targaryen.,  ,You know me, My Lord?,  ,Only by reputation,Khaleesi.,  ,And I'm no lord,merely a humble merchant.,  ,They call youthe Mother of Dragons.,  ,And what shouldI call you?,  ,Oh, my name is quite long,  ,and quite impossiblefor foreigners to pronounce.,  ,I am simply a traderof spices.,  ,But we are the Thirteen,,  ,charged with the governanceand protection of Qarth,,  ,the greatest citythat ever was or will be.,  ,The beauty ofQuarth is legendary,  ,Qarth.,  ,Qarth.,  ,Might we seethe dragons?,  ,My friend,,  ,we have travelledvery far.,  ,We have no food,no water.,  ,Once I see my people fed,I would be honored,  ,Forgive me,Mother of Dragons,,  ,but no man alive has seena living dragon.,  ,Some of my moreskeptical friends,  ,refuse to believeyour children,  ,even exist.,  ,All we ask is the chanceto see for ourselves.,  ,I am not a liar.,  ,Oh, I don't think you are.,  ,But as I've nevermet you before,,  ,my opinion on the matteris of limited value.,  ,Where I come from,,  ,guests are treatedwith respect,,  ,not insultedat the gates.,  ,Then perhaps you shouldreturn to where you come from.,  ,We wish you well.,  ,What are you doing?,  ,You promisedto receive me.,  ,We have received you.,  ,Here we are,and here you are.,  ,If you do not let us in,all of us will die.,  ,Which we shalldeeply regret.,  ,But Qarth did not become,  ,the greatest city thatever was or will be,  ,by letting Dothraki savagesthrough its gates.,  ,Khaleesi, pleasebe careful.,  ,Thirteen!,  ,When my dragons are grown,,  ,we will take backwhat was stolen from me,  ,and destroy thosewho have wronged me.,  ,We will lay wasteto armies,  ,and burn citiesto the ground.,  ,Turn us away and we willburn you first.,  ,Ah.,  ,You are a trueTargaryen.,  ,Only, as you saida moment ago,,  ,Retreating in fearfrom a little girl,  ,is unbecomingof the greatest city,  ,that ever wasor will be.,  ,The discussion is over,Xaro Xhoan Daxos.,  ,The Thirteen have spoken.,  ,I am one of the Thirteen,  ,and I am still speaking.,  ,The girl threatens to burnour city to the ground,  ,and you would invite her infor a cup of wine?,  ,She is the Motherof Dragons.,  ,Do you expect her to watchher people starve,  ,without breathing fire?,  ,I believe we can allowa few Dothraki,  ,through our gateswithout dooming our city.,  ,After all, here I am,,  ,a savage fromthe Summer Isles,,  ,and Qarth still stands.,  ,Our decision is final.,  ,Very well.,  ,I invoke Soumai.,  ,I will vouch for her,her people,,  ,and her dragonsin accordance with the law.,  ,Be it on your head.,  ,Welcome to Qarth,My Lady.,  ,Mountain:You.,  ,Tickler: Is there gold or silverin the village?,  , I'm not from the village.\",\n",
       " \"Where is the Brotherhood?,  ,I don't knowwhat that is.,  ,( Squeaking ),  ,( Horses neigh ),  ,Man: You two, take Lord Lannister'sthings to his quarters.,  ,What's this?,  ,We weren't expecting youtill tomorrow, Lord Tywin.,  ,( Chuckles )Evidently not.,  ,Why are these prisonersnot in their cells?,  ,Mountain: Cells are overflowing,My Lord.,  ,Polliver:This lot won't be here long.,  ,Don't needno permanent place.,  ,After we interrogate 'em,we usually just...,  ,Are we so wellmannedthat we can afford to discard,  ,able young bodiesand skilled laborers?,  ,You,do you have a trade?,  ,Gendry:Smith, My Lord.,  ,What are you looking at?Kneel!,  ,Kneel or I'll carveyour lungs out, boy.,  ,He'll do no such thing.,  ,This one's a girl,you idiot,,  ,dressed as a boy.,  , Why?\",\n",
       " \"Safer to travel, My Lord.,  ,Smart.,  ,More than I can sayfor this lot.,  ,Get these prisonersto work.,  ,Bring the girl.,  ,I need a newcupbearer.,  ,Mountain:My Lord.,  ,( Knocking on door ),  ,Your visitsare too few, cousin.,  ,Her Grace,the Queen Regent,,  ,commands you to releaseGrand Maester Pycelle.,  , Here's your warrant.\",\n",
       " \"So it is.,  ,Will you takea cup with me?,  ,I find that mulled winehelps me sleep.,  ,I am hereat Her Grace's behest,,  ,not to drinkwith you, Imp.,  ,If my sister wasso concerned for Pycelle,,  ,I would have thoughtshe'd come herself.,  ,Instead she sends you.,  ,What am I to makeof that?,  ,I don't carewhat you make of it,,  ,so long as you releaseyour prisoner immediately.,  ,And you've received theseinstructions directly from Cersei?,  ,As I said several times.,  ,And you've waited this longto deliver the information?,  ,When the Queen Regentgives me a command, I carry,  ,it out without delay.,  ,Cersei must havegreat trust in you,,  ,allowing youinto her chamber,  ,during the hourof the wolf.,  ,The Queen Regent has a greatmany responsibilities.,  ,She often worksfrom dusk till dawn.,  ,She must be very gladto have you helping her,  ,from dusk till dawn.,  ,Ah, lavender oil.,  ,She always loved lavender oil,even as a girl.,  ,I am a knight!,  ,An anointed knight, yes.,  ,Tell me, did Cerseihave you knighted,  ,before or after she tookyou into her bed?,  ,What?Nothing to say?,  ,No more warningsfor me, Ser?,  ,You will withdrawthese filthy accusations.,  ,Have you ever givenany thought,  ,to what King Joffreywill have to say,  ,when he finds out you'vebeen bedding his mother?,  ,It's not my fault!,  ,Did she take youagainst your will?,  ,Can you not defendyourself, knight?,  ,Your own father, Lord Tywin,when I was named the King's squire,,  ,he told me to obey herin everything.,  ,Did he tell youto fuck her, too?,  ,I only meantI did as I was bid.,  ,Hated everymoment of it,,  ,is that what you'llhave me believe?,  ,A high place in court,a knighthood,,  ,my sister's legs spreadingopen for you at night.,  ,Oh, yes, it musthave been terrible.,  ,Wait here.\",\n",
       " 'His Grace will wantto hear this.,  ,Mercy!Mercy, My Lord!',\n",
       " \"I beg you.,  ,Save it for Joffrey.He loves a good grovel.,  ,My Lord, it wasyour sister's bidding,  ,the Queen.,  ,I'll leave the cityat once, I swear.,  , No, I think not.\",\n",
       " \"My Lord?,  ,You heard me.,  ,My father told youto obey my sister.,  ,Obey her.,  ,Stay close to her side.Keep her trust.,  ,Pleasure herwhenever she requires.,  ,No one ever need know,  ,as long as you keepfaith with me.,  ,I want to knowwhat Cersei is doing,,  ,where she goes,who she sees,,  ,what they talk ofeverything.,  ,And you will tell me.,  ,Yes, My Lord, I will.,  ,I swear it,as you command.,  ,Oh, rise, rise.,  ,Let us drink toour understanding.,  ,Oh, you don't havea cup.\",\n",
       " 'Oh, well.,  ,Smile, cousin.',\n",
       " \"My sisteris a beautiful woman.,  ,And it's all forthe good of the realm.,  ,Go back and tell herthat I beg her forgiveness,,  ,that I want no moreconflict between us,  ,and that henceforth,  ,I shall do nothingwithout her consent.,  ,But her demands.,  ,Oh, I'll give her Pycelle.,  , You will?\",\n",
       " \"Yes, I'll release him in the morning.,  ,Cersei can keep himas a pet if she wants,,  ,but I will not have himon the council.,  ,I could swear that I had notharmed a single hair on his head,,  ,but that would not,strictly speaking, be true.,  ,( Wood creaking ),  ,( Waves crashing ),  ,Man: Stay withinone table length.,  ,Your Grace.,  ,Do your knucklebonesbring you luck?,  ,Well, life's been good since youhacked them off, Your Grace.,  ,And it's four lessfingernails to clean.,  , Fewer.\",\n",
       " \"Pardon?,  ,Four fewerfingernails to clean.,  ,Never understoodwhy you had to wear them.,  ,It reminds me of where Icome from and where I am now.,  ,It reminds meof your justice.,  ,It was an honestpunishment,  ,and you were goodwith the cleaver.,  ,You were a heroand a smuggler.,  ,A good act does notwash out the bad,,  ,nor a bad the good.,  ,A lesson I've triedto teach my son.,  , Does he listen?\",\n",
       " \"To me?,  ,Gods, no.,  ,But if your red woman told himto leap from the crow's nest,  ,She has a name.,  ,I trust you've not forgottenyour smuggler's tricks.,  ,I've lived withinthe law for ,  ,I want you to bea smuggler this time.,  ,Any shore, any night.,  ,What am I bringingashore?,  ,The red woman.,  ,No one must knowwhat you do,  ,and we'll not speakof this again.,  ,I am true to Your Graceand always will be,,  ,but surely there areother ways, cleaner ways.,  ,Cleaner waysdon't win wars.,  ,Are you afraid,onion knight?,  ,Someone once told me,  ,the night is dark andfull of terrors.,  ,You've carried moreunpleasant cargo in your time.,  ,Are you a good man,Ser Davos Seaworth?,  ,I'd say my partsare mixed, My Lady,  ,good and bad.,  ,If half an onionis black with rot,,  ,it's a rotten onion.,  ,A man is goodor he is evil.,  , And which are you?\",\n",
       " \"Oh, good.,  ,I'm a knight myselfof sorts,,  ,a champion of lightand life.,  ,Well, that must bevery nice for you.,  , Do you love your wife?\",\n",
       " \"I do.,  ,Yet you have knownother women.,  ,Don't talk about my wife.,  ,I'm not.\",\n",
       " 'I\\'m talking aboutother women.,  ,Like me, Ser Davos.,  ,You want me.,  ,You want to seewhat\\'s beneath this robe.,  ,And you will.,  ,Strange thatthis Lord of Light,  ,asks you to workin the shadows.,  ,Shadows cannot livein the dark, Ser Davos.,  ,They are servantsof light,,  ,the children of fire.,  ,And the brighter the flame,the darker they are.,  ,These weren\\'t here before.They\\'ve barred the passage.,  ,( Chuckles ),  ,They can\\'t barour passage.,  ,Gods protect us.,  ,There\\'s only one God,Ser Davos,,  ,and he only protectsthose who serve him.,  ,( Gasps ),  ,( Laughs, gasps ),  ,( Moaning ),  ,( Moans ),  ,( Screaming ),  ,( Shrieking ),  ,( Shrieking ),  ,( Growls ),  ,( Theme music playing ),  ,== sync, corrected by <font color=\"#ff\"elderman</font ==,  ,<font color=\"#ffff\" size=www.tvsubtitles.net</font You swear it?',\n",
       " \"By the mother.,  ,My son has no interestin the Iron Throne.,  ,Then I see no reasonfor hostility between us.,  ,Your son can go on callinghimself King in the North,,  ,the Starks will have dominion overall lands north of Moat Cailin,,  ,provided he swears mean oath of fealty.,  ,And the wordingof this oath?,  ,The same Ned Stark sworeto Robert  years ago.,  ,Cat, their friendship heldthe kingdoms together.,  ,And in returnfor my son's loyalty?,  ,In the morning I'll destroymy brother's army.,  ,When that's done,,  ,Baratheon and Starkwill fight,  ,their common enemytogether,,  ,as they have donemany times before.,  ,Our two houseshave always been close,,  ,which is why I am begging youto reconsider this battle.,  ,Negotiate a peacewith your brother.,  ,Negotiate with Stannis?,  ,You heard him out there.,  ,I'd have better luckdebating the wind.,  ,Please bring my termsto your son.,  ,I believe we arenatural allies.,  ,I hope he feelsthe same.,  ,Together we could endthis war in a fortnight.,  ,No!,  , No.\",\n",
       " \"Follow me!,  , You'll die for this.\",\n",
       " \"No, wait, it wasn't her!,  , You'll.\",\n",
       " \"No, wa,  ,We've got to leave.,  ,They'll hang youfor this.,  , Inside the King's tent, go!\",\n",
       " \"Now!,  ,I won't leave him.,  ,You can't avenge himif you're dead.,  ,Over there, go!,  ,Not that way.,  ,We need to go home.,  , Loras.\",\n",
       " \"My Lord, My Lady.,  ,Get out.,  ,Stannis will be herein an hour.,  ,When he arrives, Renly'sbannermen will flock to him.,  ,Your former companionswill fight for the privilege,  ,of selling youto their new king.,  ,And you want thatprivilege for yourself.,  ,You will note that I amstanding here talking to you,,  , not Stannis.\",\n",
       " 'There\\'s no time for this.,  ,Ride back toHighgarden, sister.,  ,I\\'m not runningfrom Stannis.,  ,Brienne of Tarthmurdered Renly.,  ,I don\\'t believe that.You don\\'t believe that.,  ,Who gained the mostfrom our king\\'s death?,  ,Stannis.,  ,I will put a swordthrough his righteous face.,  ,You can\\'t stay here.,  ,He would have beena true king,,  ,a good king.,  ,Tell me, Ser Loras,,  ,what do you desiremost in this world?,  ,Revenge.,  ,I have always found that tobe the purest of motivations,,  ,but you won\\'t have a chance toput your sword through Stannis,,  ,not today.,  ,You\\'ll be cut to pieces beforehe sets foot on solid ground.,  ,If it is justicethat you want,,  ,be smart about it.,  ,You can\\'t avenge himfrom the grave.,  ,Bring the horses.,  ,Please.,  ,He was very handsome.,  ,He was, Your Grace.,  ,\"Your Grace.',\n",
       " '\",  ,Calling yourself kingdoesn\\'t make you one.,  ,And if Renly wasn\\'t a king,I wasn\\'t a queen.,  ,Do you want to be a queen?,  ,No.,  ,I want to be the queen.,  ,Killed?By whom?,  ,Accounts differ.,  ,Most seem to implicateCatelyn Stark in some way.,  ,Really?Who\\'d have thought?,  ,Some say it was oneof his own Kingsguard,,  ,while still others say it wasStannis himself who did it,  ,after negotiationswent sour.,  ,Whomever did it,I say well done.,  ,It\\'s not what Varys says.,  ,He says Renly\\'s army isflocking to support Stannis,,  ,which would give Stannis superiorityover us on both land and sea.,  ,Littlefinger says we canoutspend him three to one.,  ,And I say father raised you tohave too much respect for money.,  ,Stannis Baratheonis coming for us,,  ,sooner rather than later.,  ,Aren\\'t there other thingsyou should be doing,,  ,like sealing my daughter in a crateso you can ship her away?,  ,She\\'ll be safer in Dorne.,  ,Yes, I know how concernedyou are for her safety.,  ,It so happens that I am.,  ,Myrcella is a sweet,innocent girl,  ,and I don\\'t blame herat all for you.,  ,So clever.,  ,Aren\\'t youalways so clever,  ,with your schemesand your plots?,  ,Schemes and plotsare the same thing.,  ,They are goingto attack us.,  ,We need to be ready.,  ,No need to concernyourself over it.,  ,The King is taking personalcharge of siege preparations.,  ,May I ask specificallywhat the King has in mind?,  ,You may specificallyor you may ask vaguely.,  ,The answer will bethe same.,  ,It\\'s importantthat we talk about this.,  ,It\\'s the King\\'sroyal prerogative,  ,to withhold sensitive informationfrom his councilors.,  ,It\\'s wildfire.,  ,Wildfire?,  ,You wouldn\\'t lie to me,would you, cousin?,  , No.',\n",
       " \"That's a lie right there.,  ,It is not a lie.Why would I lie?,  ,Tell me,,  ,if the vile allegations,  ,against my brotherand sister are true,,  ,do you think it willmake Jaime more likely,  ,to kill you or less likely?,  ,When I tell himyou're fucking her, I mean.,  ,I'm telling you the truth.,  ,The smart moneywould be on more likely.,  ,She's making wildfire.,  ,But then perhaps his own unnaturalurges will give him sympathy for yours.,  ,The alchemists' guildis being commissioned.,  ,I suppose there's onlyone way to find out.,  ,They have thousands of potsalready stored in their vaults.,  ,They are planning to launchthem from the city walls,  ,into Stannis's shipsand armies.,  ,Please.,  ,When did shetell you this?,  ,I heard her talkingwith the Pyromancer.,  ,And the other nightafter I left her,,  ,she went to meet him.,  , I swear to you.\",\n",
       " 'Swear to me on what?,  , On my life.',\n",
       " \"But I don't care about your life.,  ,In the Light of the Seven,,  ,by all that isholy and right,,  ,I, Lancel Lannister,do solemnly vow,  ,All right, all right.Enough.,  ,Even torturingyou is boring.,  ,Just get out.,  ,Oh, Lancel,tell my friend Bronn,  ,to please kill you if anythingshould happen to me.,  ,Please kill me if anythingshould happen to Lord Tyrion.,  ,It will be my pleasure.,  , Your Grace.\",\n",
       " \"What is it?,  ,Your Grace.,  ,I'm sorry aboutyour brother, Your Grace.,  ,I wanted to let you knowthat people grieve for him.,  ,Your Grace.,  , Fools love a fool.\",\n",
       " \"Your Grace.,  ,I grieve for him as wellfor the boy he was,,  ,not the manhe grew to be.,  ,I need to speak to you aboutwhat I saw in that cave.,  ,I thought I made it clearto you there'd be no need to,  ,speak to me on this matter.,  ,Your Grace, I,  ,I've never known you toneed to hear a thing twice.,  ,And I've never known youto hide from the truth.,  ,You've come to lectureme on truth?,  ,I've come to tell youthat what I saw,  ,All my brother's bannermenhave come to my side.,  ,Except the Tyrells,who fled like cowards.,  ,They won't be ableto resist us now.,  ,Soon I shall be sittingon the Iron Throne.,  ,Nothing is worthwhat this will cost you,,  , not even the Iron I'll hear no more about it.,  ,Take a company of men,secure the perimeter.,  ,When do we sailfor King's Landing?,  ,As soon as I'veconsolidated my troops.,  ,We'll make short workof the Lannisters' fleet.,  ,Once Blackwater Bayis cleared,,  ,we'll deliver our troops to theirdoorstep and take the city.,  ,And will you bringLady Melisandre with you?,  ,That's not your concern.,  ,If you take King's Landing with herby your side, the victory will be hers.,  ,I never thought I'd have reason todoubt your loyalty.\",\n",
       " \"Was I wrong?,  ,Loyal service meanstelling hard truths.,  ,Oh, truth again.,  ,All right,what's the truth?,  ,The hard truth?,  ,She's a foreigner,  ,preaching herforeign religion.,  ,Some believe she whispers ordersin your ear and you obey.,  ,What do you believe?,  ,You won those bannermenfrom Renly.,  ,Don't lose them to her.,  ,We set out for King's Landingwithout Lady Melisandre.,  ,And you lead the fleetinto Blackwater Bay.,  ,Your Grace, I'm honored,but my time on the sea,  ,was spent evading ships,not attacking them.,  ,The other lordswon't be happy.,  ,Most of those lords shouldconsider themselves lucky,  ,I don't hang themfor treason.,  ,Hard truths cutboth ways, Ser Davos.,  ,I've got it!I've got it!,  ,So it's that one thereat the top, on the right.,  ,Buy my fruit, My Lord.Fresh fruit.,  ,Stannis has more infantry,,  ,more ships, more horses.,  ,What do we have?,  ,There's that mind of yoursyou keep going on about.,  ,Well, I've never actually beenable to kill people with it.,  ,Good thing.I'd be out of a job.,  ,What about your father?,  ,He hasn't senta raven in weeks.,  ,He's very busy.,  ,Being repeatedly humiliated byRobb Stark is timeconsuming.,  ,We won't be able to holdthe city against Stannis,,  ,not the way Joffrey'splanning on holding it.,  ,Corruption, yes.,  ,We are swollen,bloated, foul.,  ,Brother fornicates with sisterin the bed of Kings,  ,and we're surprised when thefruit of their incest is rotten?,  ,Yes, a rotten king.,  ,It's hard to arguewith his assessment.,  ,Not after what he didto your birthday present.,  ,The King is a lost cause.,  ,It's the rest of usI'm worried about now.,  ,A dancing king, prancingdown his bloodstained halls,  ,to the tune of a twisteddemon monkey.,  ,You have to admirehis imagination.,  , He's talking about you.\",\n",
       " \"What?,  ,Demon monkey?,  ,People think you're pullingthe King's strings.,  ,They blame youfor the city's ills.,  ,Blame me?I'm trying to save them.,  ,You don't needto convince me.,  ,Demon monkey.,  ,( Seagulls screeching,  ,Yeah, come on.,  ,You're the crewof the sea bitch?,  ,I'm your commander.Welcome.,  ,Stop.,  ,Stop!,  ,Your Captain commandsyou to stop.,  ,Where are weheading, Captain?,  ,The Stony Shoreto raid their villages.,  ,There'll be spoilsin it for you, and women,,  ,if you do your jobs well.,  ,And who decides if we'vedone our jobs well?,  ,I do.,  ,Your Captain.,  ,I have been reavingand raping,  ,since before you leftBalon's balls, Captain.,  ,Don't reckon I've got much usefor your ideas on how to do it.,  ,Don't reckon I've gotmuch use for a captain at all.,  ,I'm thinking I can do the jobof captain real well myself.,  ,All I need is a ship.,  ,You wouldn't knowwhere I could find myself,  ,a ship now, would you?,  ,You could do that,,  ,take the ship,head out on your own.,  ,And I will hunt you down,drag you back here in chains,,  ,and hang you for a traitor.,  ,Stop.\",\n",
       " 'We yield.,  ,Congratulationson your first command.,  ,Thank you.',\n",
       " \"Kind of youto come see me off.,  ,Oh, I'm not herefor you.,  ,I was just on my wayto Red Harbor.,  ,I've got  ships.\",\n",
       " \"There'snowhere to put them here.,  , Too narrow.\",\n",
       " \"You'd better get out there.,  ,Wouldn't want themto set sail without you.,  ,That would never happen.,  ,My crew would wait on deckfor a year if I asked them to.,  ,This lot, though...,  ,Enjoy the Stony Shore.,  ,Come on,I'll take you out.,  ,Who are you?,  ,Dagmer, your first mate.,  ,Why aren't you withthe rest of them?,  ,Or did they send you to row meout and dump me halfway in the sea?,  ,That would be goodfor a laugh.,  ,They're not gonna respect youuntil you prove yourself.,  ,And how am I supposedto prove myself by pillaging,  ,pisspoor fishing villages?,  ,You're not.,  ,And yet that's the taskmy father has given me,  ,to prove thatI'm a true Iron Islander.,  ,They're all Iron Islanders.,  ,Do they do as they're toldor do they do as they like?,  ,The Stony Shore's not farfrom Torrhen's Square.,  ,The seat of the Houseof Tallhart,  ,a more impressive prize thana few fishermen's daughters.,  ,What, you don't thinkwe could take it?,  ,No, we could.,  ,We could never hold itfor more than a few days.,  ,As soon as Winterfell got word thatwe'd taken Torrhen's Square,,  ,the Starks would sendtheir men to take it back.,  ,And then,  ,take me to my ship.,  ,The Starks haveoverextended their lines.,  ,Now that summer's over,they'll have a hard time,  ,keeping their menand horses fed.,  ,The Starks understand winterbetter than we ever will.,  ,The cold won't beat them.,  ,Our spies report growingdiscontent among the northern lords.,  ,They want to return home,  ,and gather the harvestbefore the crops turn.,  ,And I'm sure if those same spiessnuck into our own encampments,,  ,they would report growing discontentamongst the southern lords.,  ,This is war;No one's content.,  ,We've underestimatedthe Stark boy for too long.,  ,He has a good mind for warfare,his men worship him.,  ,And as long as he keepswinning battles,,  ,they'll keep believinghe is King in the North.,  ,You've been waitingfor him to fail.,  ,He is not going to fail,,  ,not without our help.,  ,So how do we stop him?,  ,We've worked throughthe night, My Lord.,  ,Perhaps we'd profitfrom some sleep.,  ,As I thinkyou would, Reginald.,  ,And becauseyou're my cousin,,  ,I might even let youwake from that sleep.,  ,Go, I'm sure your wifemust miss you.,  ,My wife's in Lannisport.,  ,Well, then you'dbetter start riding.,  ,Go before I change my mindand send her your head.,  ,If your namewasn't Lannister,,  ,you'd be scrubbing out potsin the cook's tent.\",\n",
       " \"Go!,  ,Not wine, water.,  ,We'll be herefor some time.,  ,Girl.,  ,Where are you from?,  ,Maidenpool, My Lord.,  ,And who are the Lordsof Maidenpool?,  , Remind me.\",\n",
       " \"House Mooton, My Lord.,  ,And what is their Sigil?,  ,A red salmon.,  ,I think a Maidenpool girlwould remember that.,  ,You're a northerner,aren't you?,  ,Good.\",\n",
       " \"One more time,where are you from?,  ,Barrowton, My Lord.House Dustin.,  ,Two crossed longaxesbeneath a black crown.,  ,And what do they sayof Robb Stark in the North?,  ,They call himthe young wolf.,  ,And?,  ,They say he rides into battle onthe back of a giant Direwolf.,  ,They say he can turn intoa wolf himself when he wants.,  ,They say he can't be killed.,  ,And do you believe them?,  ,No, My Lord.,  ,Anyone can be killed.,  ,Fetch that water.,  ,A girl says nothing.,  ,A girl keepsher mouth closed.,  ,No one hears,,  ,and friends may talkin secret, yes?,  ,A boy becomes a girl.,  ,I was always a girl.,  ,And I was always aware.,  ,But the girlkeeps secrets.,  ,It is not for a manto spoil them.,  ,You're one of them now.,  ,I should have let you burn.,  ,And you fetch waterfor one of them now.,  ,Why is this right for youand wrong for me?,  ,I didn't have a choice.,  ,You did.I did.,  ,And here we are.,  ,A man pays his debts.,  ,A man owes three.,  ,Three what?,  ,The Red God takeswhat is his, lovely girl.,  ,And only deathmay pay for life.,  ,You saved meand the two I was with.,  ,You stole three deathsfrom the Red God.,  ,We have to give them back.,  ,Speak three names,  ,and the manwill do the rest.,  ,Three livesI will give you,  ,no more, no less,and we're done.,  ,I can name anyone,  ,and you'll kill him?,  ,A man has said.,  ,The one whotortures everyone.,  ,A man needs a name.,  ,I don't know his name.,  ,They call himthe Tickler.,  ,That is enough.,  ,Go now, girl.Your master is thirsty.,  ,He's not here yet.,  ,He'd have seen us,blown the horn.,  ,When will he come?,  ,The Halfhand does thingsin his own time.,  ,My uncle told mestories about him.,  ,Most of them are true.,  ,I heard the Halfhand spent halfof last winter beyond the wall.,  ,The whole winter.,  ,He was north of the Skirling Passwhen the snows came.,  ,Had to wait for the thaw.,  ,So it is possible for someoneto survive out here on their own.,  ,Well, possiblefor the Halfhand.,  ,Beautiful, isn't it?,  ,Gilly would love it here.,  ,There's nothing more sickeningthan a man in love.,  ,About time you did something.,  ,At least you'll keep warm.,  ,The fistof the First Men.,  ,Think of how oldthis place is,  ,before the Targaryensdefeated the Hendals,,  ,before the Andals tookWesteros from the First Men.,  ,Before I die, please,stop talking.,  ,Thousands and thousandsof years ago,,  ,the First Men stood herewhere we're standing,  ,all through the long night.,  ,What do you think theywere like, the First Men?,  ,Stupid.,  ,Smart people don't findthemselves in places like this.,  ,I thinkthey were afraid.,  ,I think they came hereto get away from something.,  ,And I don't thinkit worked.,  ,Wildlings?,  ,One blast is for rangers returning.,  ,Wildlings is two blasts.,  ,So you got to standthere waiting,,  ,wondering.,  ,One blast for friends,,  ,two for foes.,  ,And threefor White Walkers.,  ,It's been , years,,  ,but that's the only timethey blow the horn three times.,  ,But if it's been , years,how do you know?,  , Well...\",\n",
       " 'I read it in a book.,  ,Look.,  ,It\\'s Qhorin Halfhand.,  ,Aye, we\\'ll liveanother day.,  ,Hurrah.,  ,Take care, My Lord.,  ,I remember readingan old sailor\\'s proverb,  ,\"piss on wildfireand your cock burns off.',\n",
       " '\",  ,Oh, I have not conductedthis experiment.,  ,It could well be true.,  ,The substanceburns so hot,,  ,it melts wood,stone, even steel,,  ,and, of course, flesh.,  ,The substance burns so hot,it melts flesh like tallow.,  ,After the dragons died,wildfire was the key,  ,to the Targaryen power.,  ,My companion takes issue.,  ,If I could tell youhow many crazy old men,  ,I\\'ve seen pushing cartsaround army camps,  ,making grand claims aboutjars full of pig shit...,  , No offense meant.',\n",
       " \"Our order does not deal in pig shit.,  ,The substanceis fire given form.,  ,And we have been perfecting itsince the days of Maegor.,  ,To do what?,  ,The jars are put in catapultsand flung at the enemy.,  ,How much do you have?,  ,If you could get real soldiersto man the catapults,,  ,then maybe you'd hityour target one time in ,,  ,but all the real soldiers are inthe Riverlands with your father.,  ,My Lord, this manis insulting.,  ,I don't know if you'veever seen a battle, old man,,  ,but things can geta bit messy.,  ,'Cause when we're flingingthings at Stannis,,  ,he's flinging themright back at us.,  ,Men die, men shitthemselves, men run,,  ,which meanspots falling,,  ,which means fireinside the walls,,  ,which means the poor cuntstrying to defend the city,  ,end up burning it down.,  ,My friend remainsunconvinced.,  ,He would not dareinsult my order,  ,whilst Aerys Targaryenlived.,  ,Well, he's notliving anymore.,  ,And all his pots of wildfiredidn't help him, did they?,  ,Men win wars,not magic tricks.,  ,We have been workingtirelessly day and night,  ,ever since your royal sistercommanded us to do so.,  ,Our present count stands,  ,at ,,,  ,enough to burn StannisBaratheon's fleet,  ,and armies both.,  ,This is a shit idea.,  ,I'm afraid I have to concurwith my advisor, wisdom Hallyne.,  ,The contents of this roomcould lay King's Landing low.,  ,You won't be making wildfirefor my sister any longer.,  ,You'll be making itfor me.,  ,Dracarys.,  ,Dracarys.,  ,He'll be able to feedhimself from now on.,  ,Let him sleep, Doreah.,  ,Yes, Khaleesi.,  ,He loves you.,  ,Thank you, my friend.,  ,Did you see the dressXaro had made for you?,  ,They say he's thewealthiest man in Qarth.,  ,It is known.,  ,And if Qarth is the wealthiestcity in Essos,  ,The last time a rich mangave me a dress,,  ,he was selling meto Khal Drogo.,  ,Xaro is our host,but we know nothing about him.,  ,Men like to talkabout other men,  ,when they're happy.,  ,You would look likea real princess in Xaro's,  ,She's not a princess.She's a Khaleesi.,  ,You should wear it,Khaleesi.,  ,You are their guest.,  ,It would be rude not to.,  ,And you must visitthe night market.,  ,The Qartheen night market is likeno night market you've ever seen.,  ,It sounds wonderful.,  ,The Meereens thinkthey have a night market.,  ,I will take youthere myself.,  ,Please excuse mefor a moment.,  ,What are they doing?,  ,Malakko says the statueis too heavy to carry.,  ,Kovarro says thatMalakko is an idiot.,  ,They can pry out the gems,the rest is pure gold.,  ,Very soft.\",\n",
       " \"He can chop offas much as we can carry.,  ,My brother used to say the onlything the Dothraki knew how to do,  ,was steal thingsbetter men have built.,  ,It's not the only thing.,  ,They're quite goodat killing the better men.,  ,That's not the kind of queenI'm going to be.,  ,Mother of Dragons.,  ,On behalf of the warlocksof Qarth,,  ,I welcome you.,  ,A demonstration?,  ,Take this gem.Look at it.,  ,Into its depths.,  ,So many facets.,  ,Look closely enough and youcan see yourself in them.,  ,Often more than once.,  ,Should you grow tired ofXaro's baubles and trinkets,,  ,it would be an honor to host youat the House of the Undying.,  ,You're always welcome,,  ,Mother of Dragons.,  ,My apologies.,  ,Pyat Pree is oneof the Thirteen.,  ,It was customary for meto extend him an invitation.,  ,Customs dieslow deaths in Qarth.,  ,What is the Houseof the Undying?,  ,It is where the warlocks goto squint at dusty books,  ,and drink shadeof the evening.,  ,It turns their lips blueand their minds soft,  ,so soft,they actually believe,  ,their parlor tricksare magic.,  ,You watch over her.,  ,Do I know you?,  ,I know you.,  ,Jorah Mormontof Bear Island.,  ,Who are you?,  ,I'm no one.,  ,But she isthe Mother of Dragons.,  ,She needs true protectorsnow more than ever.,  ,They shall comeday and night,  ,to see the wonder borninto the world again.,  ,And when they see,they shall lust,,  ,for dragons are firemade flesh.,  ,And fire is power.,  ,It looked like Stannis.,  ,To me it justlooked like...,  ,A shadow inthe shape of a man.,  ,In the shapeof Stannis.,  ,We should reachmy son's camp tomorrow.,  ,Will you stay therelong, My Lady?,  ,Only long enough to tellRobb what I have seen.,  ,After that, I will leavefor Winterfell.,  ,My two youngest need me.,  ,I've been away from themfor far too long.,  ,I never knew my mother.,  ,I'm sorry.,  ,My own mother diedon the birthing bed,  ,when I was very young.,  ,It's a bloody business.,  ,What comes afteris even harder.,  ,Once you're safely backamongst your own people,,  ,will you give me leaveto go, My Lady?,  ,You mean to kill Stannis.,  ,I swore a vow.,  ,But Stannis hasa great army around him.,  ,His own guards are swornto keep him safe.,  ,I'm as goodas any of them.,  ,I should never have fled.,  ,Renly's deathwas no fault of yours.,  ,You served him bravely.,  ,I only held himthat once,  ,as he was dying.,  ,He's gone, Brienne.,  ,You serve nothing and no oneby following him into the earth.,  ,Renly's enemies areRobb's enemies as well.,  ,I do not knowyour son, My Lady...,  ,but I could serve youif you would have me.,  ,You have courage.,  ,Not battle courage, perhaps,,  ,but, I don't know,,  ,a woman's kind of courage.,  ,And I think thatwhen the time comes,,  ,you will not hold me back.,  ,Promise me that youwill not hold me back,  ,from Stannis.,  ,When the time comes,I will not hold you back.,  ,Then I am yours,My Lady.,  ,I will shield your back,  ,and give my life for yoursif it comes to that.,  ,I swear it by the Old Godsand the new.,  ,I vow that you shall alwayshave a place in my home,  ,and at my table,  ,and that I shall askno service of you,  ,that mightbring you dishonor.,  ,I swear it by the Old Godsand the new.,  ,And it's notjust thieves, My Lord.,  ,There's wolvesin them hills now,,  ,more than I've ever seen.,  ,They come down in the nightand they kill my sheep.,  ,My three sons is away fightingfor your brother, My Lord.,  ,They'll fight,keep fighting,  ,till they're toldto go home.,  ,I have no one to manmy flock now.\",\n",
       " \"Only me.,  ,I can't keep watchall day and all night.,  ,We can send two orphan boysfrom Winterstown home with you,  ,to help watch overyour flock,  ,if you can give themroom and board.,  ,My wife always prayedfor more children.,  ,We'll look after them.Thank you, My Lord.,  ,And may the Godsbless you and yours.,  ,Stop it.,  ,If that's everyone, I'm goingto go for a ride before dark.,  , Good.\",\n",
       " \"Hodor.,  , Hodor.Bran Lord Stark.,  ,Torrhen's Squareis under siege.,  ,Torrhen's Square is barely leagues from here.,  ,How can the Lannistersstrike so far north?,  ,Might be a raiding partyled by the Mountain.,  ,Might be Sellswordspaid by Tywin Lannister.,  ,We have to help them.,  ,Most of the fighting menare away with Robb,,  ,but I can gather decent men.,  ,Do you need so many?,  ,If we can't protectour own bannermen,,  ,why shouldthey protect us?,  ,Go, Ser Rodrik.Take the men you need.,  ,Won't take long, My Lord.,  ,Southerners don'tdo well up here.,  ,So, what does it mean?,  ,Ask your Maester Luwin.,  ,He's the one studyingbooks all the time.,  ,I did ask him.\",\n",
       " \"He'd neverheard of a threeeyed raven.,  , Must not mean anything, then You're lying.,  ,You might be a little lord,but don't you call me a liar.,  , You know what it means.\",\n",
       " \"I never said I didn't.,  ,You didn't give mean honest answer.,  ,That's not the sameas being a liar.,  ,Well, it's not far off.,  ,So, you've been dreamingof a threeeyed raven again?,  ,In the Godswood,you told me you didn't dream.,  ,Now who's a liar?,  ,What did you seein your dream?,  ,Something bad?,  ,Tell me, boy.,  ,I dreamt that the seacame to Winterfell.,  ,I saw waves crashingagainst the gates,  ,and the water cameflowing over the walls...,  ,flooded the castle.,  ,Drowned menwere floating here,  ,in the yard.,  ,Ser Rodrikwas one of them.,  ,The sea is hundredsof miles away.,  ,I know.,  ,It's just a stupid dream.,  ,I've got to get thesepotatoes to the kitchen.,  ,Otherwise they'll put mein chains again.,  ,Osha.,  ,The threeeyed raven,,  ,what do they say about it,  ,north of the wall?,  ,They say all sorts of crazythings north of the wall.,  , There.\",\n",
       " \"Where?,  ,On that Mountain.,  ,I don't see very well.,  ,A fire.,  ,There's a fire.,  ,The people sitting around it havebetter eyes than yours or mine.,  ,When they see us coming,that fire becomes a signal.,  ,Gives Mance Rayder plenty of time.to throw a party in our honor.,  ,How many wildlingshave joined him?,  ,From what we can tell,all of them.,  ,Mance has gathered them alllike deer against the wolves.,  ,They're almost readyto make their move.,  ,Where?,  ,Somewhere safe.,  ,Somewhere south.,  ,Can't just marchinto their midst.,  ,And we can't wait for themhere with nothing but a pile,  ,of stones to protect us.,  ,You saying we shouldfall back to the Wall?,  ,Mance was one of us once.,  ,Now he's one of them.,  ,He's gonna teach themour way of doing things.,  ,They'll hit us in force.,  ,And they won't run awaywhen we hit back.,  ,They're gonna be moreorganized than before,,  ,more disciplined,  ,more like us.,  ,So we need to bemore like them,,  ,do things their way.,  ,Sneak in, kill Mance,,  ,and scatter themto the winds,  ,before they can marchon the Wall.,  ,And to do that...,  ,We need to get ridof those lookouts.,  ,It's not a jobfor  men.,  ,I need to move fastand silent.,  ,Harker, Stonesnake,Borba.,  ,Lord Commander, I'd liketo join Lord Qhorin.,  ,I've been calledlots of things,,  ,but that might bemy first Lord Qhorin.,  ,You're a steward,Snow, not a ranger.,  ,I've foughtand killed a Wight.,  ,How many rangerscan say that?,  ,He's the one?,  ,Aye.You killed a Wight.,  ,You also let an old man,  ,beat you bloodyand take your sword.,  ,Craster?,  ,In the boy's defense,that's a tough old goat.,  ,I could take up Jon's dutieswhile he's gone, My Lord.,  ,It would be no trouble.,  ,Well, I hope you makea better ranger,  ,than you do a steward.,  ,Go on.,  ,So, tell me,,  ,how long has your manservantbeen in love with you?,  ,He's not my manservantand he's not in love with me.,  ,He's my advisor,,  ,my friend.,  ,Unlikely.,  ,I can almost always tellwhat a man wants.,  ,And what aboutwhat a woman wants?,  ,Much more complicated.,  ,You, for example,,  ,what do you want?,  ,To cross the Narrow Seaand take back the Iron Throne.,  ,Why?,  ,Because I promisedmy Khalasar I'd protect them,  ,and find them a safe home.,  ,You want to conquerthe Seven Kingdoms?,  ,I want them becausethey're mine by right.,  ,The Iron Throne is mineand I will take it.,  ,Ah, a conqueror.,  ,And how did you getall of this?,  , Did someone give it to you?\",\n",
       " \"No.,  ,I come from nothing.,  ,I hit the dockslike a piece of cargo,,  ,except someone normallycares what happens to cargo.,  ,So you wanted more thanyou had and you took it.,  ,You're a conqueror, too.you're just less ambitious.,  ,Mmm.,  ,What do you want,Xaro Zhoan Daxos?,  ,At the gates of the city,you bled for me.,  ,Why?,  ,I will show you why.,  ,The door and the vaultis made of Valyrian stone.,  ,The hardest steeldoes not make a mark.,  ,I offered the greatestlocksmiths in Qarth,  ,their weight in goldif they could break into it.,  ,I made the same offerto the greatest thieves.,  ,They all went homeemptyhanded.,  ,The only thing thatcan open this door,  ,is this key.,  ,And behind the door?,  ,And it can all be mine?,  ,All?,  ,Let us say half.,  ,More than enough to buyhorses, ships, armies,  ,enough to go home.,  ,All I have to do?,  ,Is marry me.,  ,That was a romantic proposal.,  ,I've already marriedonce for love,,  ,but the Godsstole her from me.,  ,I come from nothing.,  ,My mother and fathernever owned a pair of shoes.,  ,But marry me and I willgive you the Seven Kingdoms,  ,and our children will bePrinces and Princesses.,  ,See?,  ,I have more ambitionthan you thought.,  ,The time is right,Daenerys Targaryen,,  ,first of your name.,  ,Robert Baratheonis dead.,  ,If you cross the seawith an army you bought,  ,The Seven Kingdoms areat war with one another.,  ,Four false kingsdestroying the country.,  ,To win Westeros, you needsupport from Westeros.,  ,The usurper is dead.,  ,The Starks fightthe Lannisters,,  ,and Baratheonsfight each other.,  ,According toyour new friend,  ,who earned your trustby cutting his hand?,  ,The time to strike is now.\",\n",
       " \"We needto find ships and an army,  ,or we'll spend the restof our lives rotting away,  ,at the edge of the world.,  ,Rich men do not become richby giving more than they get.,  ,They'll give you ships and soldiersand they'll own you forever.,  ,Moving carefully is the hard way,but it's the right way.,  ,And if I'd listenedto that advice,  ,outside the gates of Qarth,we'd all be dead by now.,  ,I know the opportunity before youseems like the last you'll ever have,,  ,but you must,  ,Do not speak to melike I'm a child.,  , I only want What do you want?,  ,Tell me.,  ,To see youon the Iron Throne.,  , Why?\",\n",
       " \"You have a good claim.,  ,A title.A birthright.,  ,But you have somethingmore than that.,  ,You may cover it up and deny it,but you have a gentle heart.,  ,You would not onlybe respected and feared,,  ,you would be loved.,  ,Someone who can ruleand should rule.,  ,Centuries come and gowithout a person like that,  ,coming into the world.,  ,There are timeswhen I look at you,  ,and still can'tbelieve you're real.,  ,So what would youhave me do as my advisor?,  ,Make your own way.,  ,Find your own ship.You only need one.,  ,The allies we needare in Westeros, not Qarth.,  ,And how do I getthe ship?,  ,I'll find it for you.,  ,A sound shipwith a good captain.,  ,I look forwardto meeting him.,  ,Khaleesi.,  ,You should standsideface.,  ,Sideface?,  ,Sideways.,  , Why?\",\n",
       " \"Smaller target.,  ,Am I fighting someone?,  ,You're practicingfor a fight.,  ,You should practice right.,  ,Guards!,  , Help.\",\n",
       " 'Did you see anything?,  ,Go up there.',\n",
       " 'Go and see wherehe fell from.,  ,Go up the back.,  ,That is strange.,  ,Move away.,  ,Stand back.He\\'s dead.,  ,== sync, corrected by <font color=\"#ff\"elderman</font ==,  ,<font color=\"#ffff\" size=www.tvsubtitles.net</fontI\\'ve taken your castle.,  , Theon?',\n",
       " \"It's Prince Theon now.,  ,Get up.\",\n",
       " \"You have to get dressed.,  ,I've taken Winterfell.,  ,I took it.\",\n",
       " \"I'm occupying it.,  ,I sent men over the wallswith grappling claws and ropes.,  , Why?\",\n",
       " 'To take the castle.,  , You went with Robb.',\n",
       " \"And he sent me back to Pyke.,  ,I'm a Greyjoy.\",\n",
       " \"I can't fightfor Robb and my father both.,  , Where's Hodor?\",\n",
       " \"I don't know.,  ,Find the Halfwit.,  ,My men are bringing your peopletogether in the courtyard.,  ,Why?,  ,So you and I cango down and tell them,  , how you've yielded Winterfell to me.\",\n",
       " \"I won't.,  ,Yes, you will.,  ,I won't.\",\n",
       " \"I'll never yield.,  ,We'll fight youand throw you out.,  ,The castle is mine,,  ,but these peopleare still yours.,  ,You'll yield to keep them safe,,  ,to keep them alive.,  ,That's what a goodlord would do.,  ,Think carefully aboutwhat you want to say.,  ,Theon.,  ,Did you hate us the whole time?,  ,I've yieldedWinterfell to Theon.,  ,Louder.,  ,Say Prince Theon.,  ,I've yielded Winterfellto Prince Theon.,  ,You all know me.,  ,Aye, we know you fora steaming sack of shit.,  ,Farlen, you be silent.,  ,Listen to yourlittle Lord, Farlen.,  ,He has more sense than you do.,  ,All of you should doas he commands.,  ,My father has donned theancient crown of salt and rock,  ,and declared himselfKing of the Iron Islands.,  ,He claims the North as wellby right of conquest.,  ,You are all his subjects.,  ,Bugger that.\",\n",
       " \"I serve the Starks.,  ,If you think you canhold the North with this...,  ,Shut up!,  ,If you serve me as loyallyas you served Ned Stark,,  ,I will be as good to youas he ever was.,  ,Betray me, and you willwish you hadn't.,  ,Maester Luwin,send a raven to Pyke,  ,informing my fatherof my victory here,  ,and one to Deepwood Motteto my sister.,  ,Inform her that she'sto bring  men to Winterfell.,  ,You are a Maester of the Citadel,  ,sworn to serve the lordof Winterfell, are you not?,  ,I am.,  ,I am the Lord of Winterfell,  ,as Bran just informed you.,  ,Send the ravens.,  ,My Lord.,  ,My Lord Greyjoy.,  ,I see you've finally learnedhow to address your betters.,  ,What do you want?,  ,I was brought here a captive.,  ,You were here the dayI was taken.,  ,I'm the one who took you.What of it?,  ,Let me serve you.,  ,Serve me how?,  ,I need fighters,not kitchen sluts.,  ,It was Robb Stark whoput me in the kitchens.,  ,Put a spear in my hand again.,  ,So you can bury it in my neck?,  ,Do you take me for a fool?,  ,Get up.,  ,Step aside.,  ,Why?,  ,It's your dream, Little Lord.,  ,The ocean has cometo swallow this place.,  ,I ain't letting it drown me.,  ,And in a few days' time...Greyjoy!,  ,What have they done to him?,  ,We caught this one on this wayback from Torrhen's Square.,  ,Took out two of oursbefore I got his sword.,  ,Ser Rodrik, it grieves me thatwe meet as foes.,  ,It grieves me you've less honorthan a back alley whore.,  ,You were raised hereunder this roof.,  , These people are your people.\",\n",
       " \"They are not my people.,  ,King Robb thought of youas a brother.,  ,My brothers are dead.,  ,They died fightingStark men, men like you.,  ,Aye, they died fightinga war your father started.,  ,Lord Stark raised youamong his own sons.,  ,Among them, but not one of them.,  ,I was his hostagetaken from my home.,  ,If he were alive to see this...,  ,He's not.\",\n",
       " \"He's dead.,  ,The Seven Kingdoms are at war.,  ,And Winterfell is mine.,  ,I should have puta sword in your belly,  ,instead of in your hand.,  ,You've served this Housefaithfully, old man.,  ,But keep talking and I'll...,  ,Take him to the cells.Lock him up...,  ,My prince,,  ,you cannot let that stand.He must pay.,  ,I'll lock him in a celluntil he rots...,  ,No, he has to paythe iron price.,  ,They'll never respectyou while he lives.,  ,Ser Rodrik,,  ,I sentence you to death.,  ,No!\",\n",
       " \"You said no harmwould come to them if I yielded.,  ,The old man couldn'tkeep his mouth shut.,  ,I urge you not to makea hasty decision.,  ,He disrespected mein front of my men.,  ,That was his decision, not mine.,  ,He is worth moreto you alive than dead.,  ,The Starks will pay.,  ,Please, Theon,,  ,think what you do.,  ,You'll address meas Prince Theon,  ,or you'll be next.,  ,Come.,  ,No!,  , No!\",\n",
       " \"Theon!,  ,Please!,  ,Ser Rodrik!,  ,He who passes the sentenceshould swing the sword.,  , I'm begging you!\",\n",
       " 'Coward.,  ,Stop!',\n",
       " \"Stop right now!,  ,You don't give commands anymore,Little Lord.,  , Please, stop this.\",\n",
       " 'Please stop him.',\n",
       " \"Hush now, child.,  ,I'm off to see your father.,  ,You said no harm would come!,  ,You said no harm would come.Theon, please.,  ,Any last words, old man?,  ,Gods help you, Theon Greyjoy.,  ,Now you are truly lost.,  ,Theon, please, don't.,  , Do something.\",\n",
       " \"I'll do anything.\",\n",
       " \"Please!,  ,No, please, stop it!,  ,Ghost, stay with us.,  ,Ghost!,  ,There goes your pet.,  ,He's not a pet.,  ,You're right, he's not.,  ,You can't tame a wild thing.,  ,You can't trust a wild thing.,  , Ghost is different.\",\n",
       " \"So you think.,  ,Wild creatureshave their own rules,,  ,their own reasons.,  ,And you'll never know them.,  ,Now the wildlingswe're looking for,  ,sleep during the dayand hunt at night.,  ,I thought you saidyou couldn't know wild things.,  ,I said you can't.,  ,They find a nice caveto hide in while the sun's up,  ,and do their killingwhen it's dark.,  , We could do the same.\",\n",
       " \"No, we couldn't.,  ,This is their country.,  ,They know where to walk,where not to walk.,  ,I've lost good menwho fell into a crevasse,  ,they didn't seetill they were in it.,  ,My father always saidI'm of the North.,  , I wasn't joking.\",\n",
       " \"Look around, boy.,  ,This look like home to you?,  ,You start thinkingyou know this place, it'll kill you.,  ,You understand me?,  ,No, you don't.,  ,We're at war.,  ,We've always been at war.,  ,It's never going to end 'causewe're not fighting an enemy.,  ,We're fighting the Northand it's not going anywhere.,  ,The Watch has givenyou a great gift.,  ,You only have one thingto give in return...,  ,Your life.,  ,I'll gladly give my life.,  ,I don't want youto be glad about it.,  ,I want you to curse and fight,  ,until your heart's done pumping.,  ,And know this, boy...,  ,Your death will be a giftfor them south of the Wall.,  ,They'll never knowwhat you've done.,  ,They'll never know how you died.,  ,They won't evenknow your damn name,,  ,but they'll be alive becausesome nameless bastard,  ,north of the Wallgave his life for theirs.,  ,Now, do you understand me?,  ,I do.,  ,You're even dumberthan you look.,  ,It's just words, boy,,  ,to keep us a littlewarmer in the night,,  ,make us feel likewe've got a purpose.,  ,Come on.,  ,We've got to find thesegoat fuckers before night falls,  ,and they find us.,  , Can you read?\",\n",
       " 'My Lord?,  ,Can you read?,  ,This letter detailingour infantry movements,  ,was meant for Lord Damonof House Marbrand.,  ,It was sent to Lord Marlynof House Dormand.,  ,My apologies, My Lord.I must have...,  ,Girl, fetch me the \"History of theGreater and the Lesser Houses.',\n",
       " '\",  ,It\\'s the one on the...,  ,My cupbearer can readbetter than you.,  ,To whom does House Dormandowe allegiance?,  ,My Lord, I...,  ,To the Starks of Winterfell!,  ,Who have , men and my son!,  ,I judged you might begood for something more,  ,than brutalizing peasants.,  ,I see I overestimated you.,  ,If you ever put my son\\'slife at risk again, I\\'ll...,  ,Leave us.,  ,Put the book away, girl.,  ,Maybe you should devise our nextbattle plan while you\\'re about it.,  , Lord Petyr Baelish.',\n",
       " 'Hmmm.,  ,Give us the room.,  ,Clear all this.,  , Lord Tywin.',\n",
       " 'Baelish.,  , Wine?',\n",
       " \"Thank you.,  ,What news from the capital?,  ,I travelled here directlyfrom Renly Baratheon's camp.,  ,Ah, the late king Renly.,  ,Rather a short reign.,  ,Murdered by a woman, I hear.,  ,So they say.,  ,There has been talkof other forces at work,,  ,dark forces.,  ,Here.,  ,Men love to blame demons,  ,when their grand plans unravel.,  ,It is my beliefthat a moment of chaos,  ,affords opportunitieslost soon after.,  ,You say that as if you werethe first man alive to think it.,  ,Yes, a crisis is an opportunity.,  ,What other brilliant insightshave you brought me today?,  ,After the Lannistersand the Starks,,  ,the Tyrells commandthe largest host.,  ,Their lands are the mostfertile in the Seven Kingdoms,,  , feeding horses and soldiers.\",\n",
       " 'Yes, yes, yes.,  ,The Tyrells have not yet declaredfor any of the surviving kings.,  ,Loras wants revenge.',\n",
       " \"He blamesStannis for Renly's death.,  ,And Margaery...,  ,Wants to be queen.,  ,Yes, she does.,  ,House Tyrell rebelledagainst the Iron Throne,,  , against my grandson.\",\n",
       " \"They did.,  ,And perhaps that treasonshould be punished,  ,one day,,  ,after Stannis and Robb Starkare defeated.,  ,More wine for Lord Baelish.,  ,If you will allow me to representyour family's interests,,  ,I believe that an advantageousagreement...,  ,The Tyrell host hasreturned to Highgarden?,  ,They have.,  ,Pardon, My Lord.,  ,It's only wine.,  ,You would ride there yourself?,  ,Tonight, with your leave.,  ,I'll have an answerby nightfall.,  ,That'll be all, girl.,  ,What else?,  ,On your son Tyrion's directive,,  ,I met with Catelyn Stark.,  ,Why?,  ,He had an interestingproposal for her,  , concerning her daughters.\",\n",
       " 'Hmm.,  , A girl.',\n",
       " \"A wildling.,  ,We could question her.,  ,You could.,  ,She won't answer.,  ,I've known a wildling to bite offhis tongue instead of talking.,  , What's your name?\",\n",
       " \"Ygritte.,  ,She was reaching for this axewhen you got to her.,  ,Give her half a chance,she'll bury it in your face.,  ,I gave you my name.,  ,I'm Jon Snow.,  ,You ought to burnthem you killed.,  ,We'd need a big fire for that.,  ,Tell me, Ygritte,,  ,why do you want usto build a big fire?,  ,Are there some morefriends in the area?,  ,Burn them or maybe you'llneed those swords again.,  ,Our boy here's alreadykilled one dead man.,  ,He can do it again if he has to.,  ,What waits beyond the pass?,  , The Free Folk.\",\n",
       " \"How many?,  ,Hundreds and thousands.,  ,More than you'veever seen, Crow.,  ,Why come to the mountains?,  ,What's in the frostfangsyour king could want?,  ,Do you mean to marchon the Wall?,  ,Do you know who I am, girl?,  ,Qhorin Halfhand.,  ,Tell me true.,  ,If your people captured me,,  ,would they take me prisoner?,  ,They'd take your headoff your shoulders,  ,if they was feeling kind.,  ,If not, they'd kill you slow.,  ,We have no food for her.,  ,Can't spare a man to watch her.,  ,Can't let her go.\",\n",
       " \"She'll bringMance Rayder's army down on us.,  ,It needs to be done.,  , Want me to do it?\",\n",
       " \"No.,  ,No, I'll do it.,  ,Come, brothers.,  ,We'll leave him to it.,  ,We'll meet you at the top.,  ,Don't take too long.,  ,We're deep in their country now.,  ,You never killeda woman before, did you?,  ,You don't need to do it.,  ,Mance would take you.I know he would.,  ,There's secret ways.,  ,The Crows would never catch us.,  ,I'm as much a Crow as they are.,  ,Will you burn me...,  ,after?,  ,Can't.,  ,Someone might see the smoke.,  ,Strike hard and true,,  ,Jon Snow,,  ,or I'll come back and haunt you.,  ,That's cold.,  ,Go on.,  ,Be quick about it.,  ,Do it.,  ,Bastard, do it!,  ,You can't do it.We both know it.,  ,The sun's going down, Jon Snow.,  ,And your friendsare nowhere close.,  ,I'll find them.,  ,Call for the go on.,  ,Call loudly.,  ,May the Seven guidethe princess on her journey.,  ,May the mother give her health.,  ,May the crone give her wisdom.,  ,May the warriorgive her courage.,  ,One day I pray you love someone.,  ,I pray you love her so much,,  ,when you close your eyes,you see her face.,  ,I want that for you.,  ,I want you to know whatit's like to love someone,,  ,to truly love someone,,  ,before I take her from you.,  ,You sound like a little cat mewlingfor his mother.,  ,Princes don't cry.,  , I saw you cry.\",\n",
       " 'Did you say something, My Lady?,  ,My little brother criedwhen I left Winterfell.,  ,So?,  ,It seems a normal thing.,  ,Is your little brother a prince?,  ,No.,  ,Not really relevant,then, is it?,  ,Come, dog.,  ,Hail, Joffrey!,  ,Hail to the king.,  ,Seven blessings on you,Your Grace.,  ,Murderer!',\n",
       " \"Bastard!,  ,All hail the king.,  ,He's no king.\",\n",
       " \"He's a bastard!,  ,Please, Your Grace,we're hungry.,  , Freak!\",\n",
       " 'Get the prince back to the keep now.,  ,Yes, My Lord.',\n",
       " 'Come, quickly.,  ,Please, Your Grace,give us some food!,  ,Bread, Your Grace, please!,  ,Who threw that?,  ,I want the man who threw that.,  ,Find who did thatand bring him to me!,  , Hold on!',\n",
       " 'Hold them back!,  ,Just kill them!',\n",
       " 'Kill them all!,  , Move.',\n",
       " 'Move!',\n",
       " \"Pull back!,  ,Tear him to pieces!,  ,What are you doing?I want these people executed!,  ,And they want the same for you.,  ,Where's Sansa?,  ,Through the door!,  ,Come on!,  ,Protect the king!,  , Get back!\",\n",
       " 'Fall back!,  , Move!',\n",
       " 'To the gates!,  , Come in!',\n",
       " 'Come in!',\n",
       " 'Keep him safe!,  ,Motherfucker!,  , Watch out.',\n",
       " 'Hold them back.',\n",
       " \"Come on.,  ,Hey!,  ,Traitors!,  ,I'll have all their heads.,  ,Oh, you blind, bloody fool.,  ,You can't insult me.,  ,We've had vicious kingsand we've had idiot kings,,  ,but I don't know ifwe've ever been cursed with,  ,a vicious idiot for a king.,  , You can't...\",\n",
       " \"I can, I am.,  ,They attacked me!,  ,They threw a cow pie at you,so you decided to kill them all?,  ,They're starving, you fool.,  ,All because of a waryou started.,  ,You're talking to a king!,  ,And now I've struck a king.,  ,Did my hand fall from my wrist?,  ,Where is the Stark girl?,  ,Let them have her.,  ,If she dies, you'll neverget your Uncle Jaime back.,  ,You owe him quite a bit,you know.,  ,Where are you going?,  ,You ever been fucked, little girl?,  ,Come here.,  ,Take some men and go and findthe Stark girl.,  ,I take my orders from the king.,  ,This way!,  ,Please!,  ,No, no.,  ,Please!,  ,You're all right now,little bird.,  ,You're all right.,  , We'll get you.\",\n",
       " \"We'll get you.\",\n",
       " \"This way.,  ,Are you hurt, My Lady?,  ,The little bird's bleeding.,  ,Someone take her backto her cage,,  ,see to that cut.,  ,Well done, Clegane.,  ,I didn't do it for you.,  ,He shouldn't make me wait.,  ,The Spice King is the secondwealthiest man in Qarth.,  ,He makes everyone wait.,  ,Of course, you could haveavoided this embarrassment,  ,if you marriedthe wealthiest man in Qarth.,  ,I already have a husband.,  ,Khal Drogo is gone, Khaleesi.,  ,You are far too youngto be a widow forever,  ,and far too beautiful.,  ,And you are far too smart,  ,to think that I willsuccumb to flattery.,  ,I have travelledvery far in my life,  ,and met many women,,  ,but none that areimmune to flattery.,  , The Mother of Dragons!\",\n",
       " 'Ah.,  ,Here he comes.,  ,Forgive me.',\n",
       " \"I had terribledreams last night.,  ,Terrible dreams.,  ,I could not sleepuntil the sun was shining,  ,and the birds were singing.,  ,Look what a beauty you are,  ,now the Red Wastehas been washed off you.,  ,I am sorry aboutall that unpleasantness.,  ,The silver hairof a true Targaryen.,  ,Xaro Xhoan Daxos,she is far too lovely,  ,for a glorifieddockworker like yourself.,  ,Very true, and yet they saythat your grandfather,,  ,who sold pepperoff the back of a wagon,,  ,married a lady far lovelierand higher born than himself.,  ,Every lady alive was lovelier,  ,and higher bornthan my grandfather.,  ,Ahem.,  ,Did my servants not offer yousomething to eat, to drink?,  ,I'll have them floggedin the square.,  ,Thank you, My Lord.You are a gracious host,,  ,but there is no servant alivethat can bring me what I want.,  ,Oh, she has a talentfor drama, this one.,  ,So, my little princess,what is it you want?,  ,My birthright...,  ,The Seven Kingdoms of Westeros.,  ,I fear I'm no better thana servant in this regard.,  ,I cannot give youwhat I do not have.,  ,I'm not asking youfor the Kingdoms.,  ,I'm asking you for ships.,  ,I need to cross the Narrow Sea.,  ,I need my ships as well.,  ,I use them, you see,,  ,to bring spices fromone port to another.,  ,Whatever you grant menow will be repaid,  ,three times over whenI retake the Iron Throne.,  ,Retake?,  ,Did you once siton the Iron Throne?,  ,My father sat therebefore he was murdered.,  ,But if you did notsit on it yourself,,  ,would it not be correctto say take the Iron Throne?,  ,I didn't come hereto argue grammar.,  ,Of course not.You came to take my ships.,  ,So let me explain my position,,  ,little princess.,  ,Unlike you, I do nothave exalted ancestors.,  ,I make my living by trade.,  ,And I judge every tradeon its merits.,  ,You ask for ships.,  ,You say I shall berepaid triple.,  ,I do not doubt your honestyor your intentions.,  ,But before you repay your debts,,  ,you must seizethe Seven Kingdoms.,  , Do you have an army?\",\n",
       " \"Not yet.,  ,You do not have an army.,  ,Do you have powerfulallies in Westeros?,  ,There are many therethat support my claim.,  ,When were you there last?,  ,I left when I was a baby.,  ,So, in truth,you have no allies.,  ,The people will riseto fight for their rightful.,  ,Queen when I return.,  ,Ah.,  ,Forgive me, little princess,,  ,but I cannot make an investmentbased on wishes and dreams.,  ,Now if you'll pardon me.,  ,Do you know Illyrio Mopatis,Magister of Pentos?,  ,Yes, we've met.\",\n",
       " \"A shrewd man.,  ,For my wedding he gave methree petrified dragon eggs.,  ,He believed...The world believed...,  ,That the ageshad turned them to stone.,  ,How many centuries has it beensince dragons roamed the skies?,  ,But I dreamt thatif I carried those eggs,  ,into a great fire,they would hatch.,  ,When I stepped into the fire,my own people thought I was mad.,  ,But when the fire burned out,,  ,I was unhurt,,  ,the Mother of Dragons.,  ,Do you understand?,  ,I'm no ordinary woman.,  ,My dreams come true.,  ,I admire your passion.,  ,But in business, I trustin logic, not passion.,  ,I'm sorry, little princess.,  ,I am not your little princess.,  ,I am Daenerys Stormbornof the blood of old Valyria,  ,and I will take what is mine.,  ,With fire and blood,I will take it.,  ,Yes, My Lady,but not with my ships.,  ,Who taught you to read?,  ,My father, My Lord.,  ,Hmm.,  ,I taught my son Jaime to read.,  ,The Maester came to me one day,,  ,told me he wasn't learning.,  ,He couldn't make senseof the letters.,  ,He reversed them in his head.,  ,The Maester said he'd heardtell of this affliction,  ,and that we simplymust accept it.,  ,Ha!,  ,After that, I sat Jaime down,  ,for four hours every dayuntil he learned.,  ,He hated me for it, for a time.,  ,For a long time,,  ,but he learned.,  ,Where is your father?Is he alive?,  ,Who was he?,  ,A stonemason.,  ,A stonemason who could read?,  , Hmm.\",\n",
       " \"He taught himself.,  ,Quite a man.,  ,What killed him?,  ,Loyalty.,  ,You're a sharplittle thing, aren't you?,  ,Did...,  ,Forgive me, My Lord.I shouldn't ask questions.,  ,No...,  ,But you've already begun.,  ,Did you knowyour father, My Lord?,  ,I did.,  ,I grew up with him.,  ,I watched him grow old.,  ,He loved us.,  ,He was a good man,,  ,but a weak man,,  ,a weak man who nearly destroyedour House and name.,  ,I'm cold.,  ,I'll fetch more woodfor the fire, My Lord.,  ,Mmm.,  ,Where are you going, girl?,  ,The armory, My Lord.,  ,Why?,  ,Lord Tywin sent me.,  ,What might this be?,  ,Lord Tywin gave it to me.,  ,What for?,  ,To take to the armory.,  ,Why would he do that?,  ,Let's go and ask him.,  ,Move!,  ,Get out of the way!,  ,Amory Lorch.,  ,A girl has named a second name.,  ,A man will do what must be done.,  ,Now!,  ,A girl cannot tell a man whenexactly he must do a thing.,  ,A man cannot make a thinghappen before its time.,  ,But he's going to tell Tywin.He's getting away.,  ,It has to be now.,  ,Guard!,  , Your Grace.\",\n",
       " 'Your Grace.,  ,My honor, Your Grace.,  ,Your Grace.,  , Your Grace.',\n",
       " 'Quent.,  ,Lady Talisa.,  ,Your Grace.,  ,I\\'m not sure I\\'m a lady.,  ,Westerosi customs are stilla bit foreign to me.,  ,It\\'s hard to keepall the rules straight.,  ,But if I remember my lessons,,  ,a woman of noble birthis always called a lady,  ,unless she\\'s a queenor a princess.,  ,I could find someone who knows.,  ,Why are you so sureI\\'m of noble birth?,  ,Because it\\'s obvious.,  ,What if I told you my fathersold lace on the long bridge,  ,and my mother, my brother, and I livedwith him above our shop?,  ,I\\'d call you a liar.,  ,Not very noble to accusea lady of dishonesty.,  ,I always thoughtI was a brilliant liar.,  ,Better at amputations,I\\'m afraid.,  ,Quite a pretty spot.,  ,Will we be here long?,  ,I couldn\\'t really discusstroop movements with you.,  ,I\\'m not a spy.,  ,Of course a spywould deny being a spy.,  ,You\\'re right.You\\'ve found me out.,  ,I\\'m writing a letterto the Lannisters.,  ,\"The young wolf is on the move.',\n",
       " '\",  ,Perhaps you\\'d join me...,  ,If you\\'ve got time,of course, for, well...,  ,Robb.,  ,Mother.,  ,Mother, this is Lady Talisa.,  ,She\\'s been helpingwith the wounded.,  ,She\\'s been very...',\n",
       " 'helpful.,  ,Lady Talisa.,  ,Lady Stark.,  ,Lady Talisa...?,  , Maegyr.',\n",
       " 'Maegyr?,  ,Forgive me,I do not know this name.,  ,An uncommon name here.An old name in Volantis.,  ,Excuse me, My Lady.',\n",
       " \"Your Grace.,  ,I've missed you.,  ,Yes, you lookpositively forlorn.,  ,You surprised me, that's all.,  ,I didn't thinkI'd see you today.,  ,I wish that you were freeto follow your heart.,  ,I know.,  ,You have inherited yourfather's responsibilities.,  ,I'm afraid they come at a cost.,  , I know.\",\n",
       " \"You are promised to another...,  ,A debt that must be paid.,  , I haven't forgotten.\",\n",
       " 'Your Grace.,  ,My Lady.',\n",
       " \"News from Winterfell.,  ,Your brothers desert you?,  ,I can tell you which way to go.,  ,We'll stop here.,  ,Too dark to goany farther today.,  ,Here?\",\n",
       " \"There's no shelter here.,  ,There's no shelter anywhere.,  ,There is if you knowwhere to look.,  ,The cold could kill us both.,  , If you light a fire... No fire.,  , But a fire is... No fire.,  ,Have it your way.,  ,We'll stay warmerif we stay close.,  ,Bet you freeze to deathbefore I do.,  ,Bet your life.,  ,Think they're outlooking for you?,  , Yes.\",\n",
       " \"Think they'll find you?,  ,Yes.,  ,You're brave.,  ,Stupid,,  ,but brave.,  ,We start again at first light.Get some sleep.,  ,Stop moving.,  ,I'm just tryingto get comfortable.,  ,Stop it!,  , You're still moving.\",\n",
       " \"Was I?,  ,I didn't notice that time.,  ,This cannot be true.,  ,We've had ravensfrom White Harbor,,  ,Barrowton and the Dreadfort.,  ,I'm afraid it is true.,  ,Why?\",\n",
       " 'Why would Theon...,  ,Because the Greyjoysare treasonous whores.,  , My brothers?',\n",
       " \"We've heard nothing of them.,  ,But Rodrik Cassel is dead.,  ,I told you,never trust a Greyjoy!,  ,I must go North at once.,  ,There's still a warto win, Your Grace.,  ,How can I call myself kingif I can't hold my own castle?,  ,How can I ask mento follow me if I can't...,  ,You are a king.,  ,And that means you don't haveto do everything yourself.,  ,Let me go and talk to Theon.,  ,There will be no talk.He will die for this.,  ,Theon holds the castlewith a skeleton crew.,  ,Let me send word tomy bastard at the Dreadfort.,  ,He can raise a few hundred men andretake Winterfell before the new moon.,  ,We have the Lannisterson the run.,  ,If you march all the way back northnow, you'll lose what you gained.,  ,My boy would be honored tobring you Prince Theon's head.,  ,Tell your son Bran and Rickon'ssafety is paramount.,  ,And Theon...\",\n",
       " \"I want himbrought to me alive.,  ,I want to look himin the eye and ask him why.,  ,And then I'll takehis head myself.,  ,Why on earth would I trust the wordof a lying little savage like you?,  ,I'm no liar.,  ,All wildlingsare liars and savages,  ,with no loyaltyto anything or anyone.,  ,I done what I hadto do to stay alive.,  ,I hate the Starksas well as you do.,  ,Let me serve you, My Lord.,  ,How?\",\n",
       " \"And don't tell meto put a spear in your hand.,  ,There are other waysto serve, My Lord.,  ,I'm a prince now,and you'd do well...,  ,There are other waysto serve, my prince.,  ,Like what?,  ,We know things, the Free people.,  ,You know things?,  ,Like what?,  ,How to eat dirt?,  ,Other things.,  ,Savage things.,  ,Wait outside.,  ,I always wonderedwhat you had under there.,  ,It comes at a price.,  ,I'm not killing you.That's your price.,  ,I already had that.,  ,What do you want, then,,  ,other than your miserable life?,  ,What all free people want...,  ,My freedom.,  ,Well, you shall have it, then.,  ,But only if you serve me well.,  , Ow.\",\n",
       " \"Shh.,  , It's not deep.\",\n",
       " 'I thought they were going to kill me.,  ,They thought so, too.,  ,He hated me, the man who hit me.,  ,I saw it in his eyes.',\n",
       " 'Hated me.,  ,He never met me before,,  ,but he wanted to hurt me.,  , Of course he did.',\n",
       " 'Why?',\n",
       " \"Why would a stranger...,  ,You are everythinghe will never have.,  ,Your horse eats betterthan his children.,  ,It doesn't matter now.He's dead.,  ,I would have given thembread if I had it.,  ,I hate the Kingmore than any of them.,  ,Don't say these things.,  ,If the wrong people hear you...,  ,But you're not the wrong people.,  ,Don't trust anybody.,  ,Life is safer that way.,  ,And where are you going?,  ,I have something for youfrom Prince Theon.,  , What?\",\n",
       " \"Me.,  ,He says I'm to make the rounds.,  ,And keep you warm.,  ,The Spice King refuses mebecause I'm a bad investment.,  ,The Silk King won't support me,  ,because of his business withthe Lannisters.,  ,Why offend his best customer?,  ,And the Copper Kingoffers me a single ship,  ,on the condition that I liewith him for a night.,  ,Does he think I willwhore myself for a boat?,  ,When I came to this city,I had nothing.,  ,Truly nothing.,  ,I slept by the docks.,  ,And when I could find workloading the ships, I would eat.,  ,If not, I dreamed of food.,  ,Today I am the richestman in Qarth.,  ,Do you think the pathfrom poverty to wealth,  ,is always pure and honorable?,  ,I have donemany things, Khaleesi,,  ,that a righteous manwould condemn.,  ,And here I am, with no regrets.,  ,Bar the gates.\",\n",
       " 'Ring the bells.,  ,Slowly, Khaleesi.,  ,Where are they?,  ,Where are my dragons?',\n",
       " '!,  ,== sync, corrected by <font color=\"#ff\"elderman</font ==.,  ,<font color=\"#ffff\" size=www.tvsubtitles.net</font,  ,A cripple?,  ,You let a cripple escape?,  ,The boy can\\'t walk,,  ,but somehow he slipped past you?,  ,The giant must have took him.,  ,The giant?,  ,Hodor?,  ,Oh, well,that\\'s all right, then.,  ,You let a halfwitescape with a cripple.,  ,And Rickon, too?',\n",
       " \"The little one?,  ,Gone along withthe wildling woman,,  ,the one you were fucking.,  ,( Grunting ),  ,( Man groaning ),  ,( Panting ),  ,Right, get the horsesand the hounds.,  , ( Dogs barking ) Come on, find the scent.,  ,Come on, where they going?,  ,Halt!,  ,Enjoying your first hunt?,  ,So far, hunting seems very similarto riding, My Lord.,  ,With hunting,there's blood at the end.,  ,They're little boys.,  ,I was a little boywhen I was torn away from,  ,my home and brought here.,  ,So I kept my word.,  ,I never ran away.,  ,If I find them soon enough,I won't hurt them.,  ,Well, I'll hurt them,but I won't kill them.,  ,Those boys are of far more valueto you alive than dead.,  ,They have no valueto me missing.,  ,Robb will have sent a forceto retake Winterfell by now.,  ,Robb's in the Riverlands.My sister's in Deepwood Motte.,  ,She'll get herelong before they do.,  ,And Ned Stark alwayssaid  men could hold.,  ,Winterfell against ,.,  , ( Dogs barking ) Man: We have a scent!,  ,The hounds have the scent.,  ,Come, Maester,don't look so grim.,  ,It's all just a game.,  ,Osha: We should havetook more food.,  ,We couldn't riskgoing to the kitchens.,  ,Those people all love you.,  ,They would have givenyou whatever you needed.,  ,And if Theon found out,he'd hang them.,  , The boy can't survive on walnuts.\",\n",
       " \"I'm fine.,  ,We've been walkingsince before sunrise.,  , Even Hodor will tire.\",\n",
       " 'Hodor.,  , Even you, sweet giant.',\n",
       " \"( Chuckles ) Hodor.,  ,( Children shouting ),  ,Wait, I know that farm.,  ,I sent those twoWinterfell orphans there.,  ,Jack and Billy.,  ,They'll give us some food.,  ,We can't risk it.,  ,If Theon tracks us here,he'll torture them,  ,until he finds out where we are.,  ,Billy climbs a treebetter than anyone.,  ,You've never seen meclimb a tree, little man.,  ,They'll be after us with hounds.,  ,We got a good start on them,,  ,but we can't outrunhounds forever.,  ,Did you pull a knifeon me in the night?,  ,What's the matter?,  ,Can't be the first timeyou pressed your bone,  ,against a woman's ass.,  ,Let's move.,  ,Oh, it is the first time.,  ,How old are you, boy?,  ,I'm a man of the Night's Watch.,  ,You're a boy who'snever been with a girl.,  ,Don't your stones start to hurt,  ,if your bone never gets...,  ,Don't call them that.,  ,What, stones?,  ,Or bone?,  ,Neither.,  ,Both.,  ,Move!,  ,Ygritte: I heard they getall swollen,  ,and bruised if youdon't use them.,  ,Of course, maybe that'sjust what the lads say,  ,when they want mefeeling sorry for them.,  ,As if I'd feel sorry for them.,  ,Are there no girl crows?,  ,There are no womenof the Night's Watch, no.,  ,So the lads just do itwith each other?,  ,No.,  , Never?\",\n",
       " 'Never.,  ,We swore an oath.,  ,You have sheep at the Wall?,  ,With your hands, then?,  ,No wonderyou\\'re all so miserable.,  ,Would you please shut up?,  ,( Mocking )Would you please shut up?,  ,You think you\\'rebetter than me, crow.,  , I\\'m a free woman... You\\'re a free woman?,  ,I might be your prisoner,but I\\'m a free woman.,  ,If you\\'re my prisoner,you\\'re not a free woman.,  ,That\\'s what \"prisoner\" means.,  ,And you think you\\'re free?,  ,You swore some stupid oath,  ,and now you can nevertouch a girl.,  ,It was my choiceto say the words.,  , So you don\\'t like girls?',\n",
       " \"Of course I like girls.,  ,But you chosenever to touch them.,  ,That's the price you pay if you wantto be a man of the Night's Watch.,  ,So instead of gettingnaked with a girl,,  ,you'd preferto invade our lands...,  ,Invade your lands?,  ,Wildlings raidour lands all the time.,  ,Some of them tried to kill mylittle brother, a crippled boy!,  ,They're not your lands!,  ,We've been here the whole time.,  ,You lot came alongand just put up a big wall,  ,and said it was yours.,  ,My father was Ned Stark.,  ,I have the bloodof the First Men.,  ,My ancestors lived here,same as yours.,  ,So why are you fighting us?,  ,Go on.,  ,Now I want youto tell me what happened.,  , Guard: Come on, this way.\",\n",
       " '( Man screaming ),  ,Come on, speak up.',\n",
       " \"Speak up.,  ,( Sniffs ),  ,Wolfsbane...,  ,A rare substance.,  ,This is no common assassin.,  ,We hanged  men last night.,  ,I don't care if you hanged .,  ,A man tried to kill me.,  ,I want his nameand I want his head.,  ,Mountain: We think it wasan infiltrator,  ,from the BrotherhoodWithout Banners.,  ,Pretentious namefor a band of outlaws.,  ,We can't allow rebelsbehind our lines,  ,to harass us with impunity.,  ,We look like foolsand they look like heroes.,  ,That's how kings fall.,  ,I want them dead, every one.,  ,Killing them isn't the problem.,  ,It's finding them.,  ,Have you gone soft, Clegane?,  ,I always thought you hada talent for violence.,  ,Burn the villages,burn the farms.,  ,Let them know what it meansto choose the wrong side.,  ,Mmm.,  ,Is that mutton?,  ,Yes, My Lord.,  ,Don't like mutton.,  ,I'll bring something else.,  ,Leave it.,  , Are you hungry?\",\n",
       " \"No.,  ,Of course you are.,  ,Eat.,  ,I'll eat in the kitchen later.,  ,It's bad mannersto refuse a Lord's offer.,  ,Sit.,  ,Eat.,  ,You're small for your age.,  ,I suppose you've beenunderfed your whole life.,  ,I eat a lot.,  , I just don't grow.\",\n",
       " 'Hmm.,  ,This will be my last war,,  ,win or lose.,  ,Have you ever lost before?,  ,Do you think I\\'d be in my positionif I had lost a war?,  ,But this is the oneI\\'ll be remembered for.,  ,The \"War of Five Kings\"they\\'re calling it.,  ,My legacy will be determinedin the coming months.,  ,Do you know what legacy means?,  ,It\\'s what you pass downto your children,  ,and your children\\'s children.,  ,It\\'s what remains of youwhen you\\'re gone.,  ,Harren the Black thought this castlewould be his legacy.,  ,The greatest fortressever built...,  ,The tallest towers,the strongest walls.,  ,The Great Hall had  hearths.,  ,.',\n",
       " 'Can you imagine?,  ,Look at it now...,  ,A blasted ruin.,  ,Do you know what happened?,  ,Dragons?,  ,Yes, dragons happened.,  ,Harrenhal was built to withstandan attack from the land.,  ,A million men could have marchedon these walls,  ,and a million menwould have been repelled.,  ,But an attack from the airwith dragon fire...',\n",
       " \"mm.,  ,Harren and all his sonsroasted alive within these walls.,  ,Aegon Targaryenchanged the rules.,  ,That's why every child alivestill knows his name,  , years after his death.,  ,Aegon and his sisters.,  ,Mm?,  ,It wasn't just Aegonriding his dragon.,  ,It was Rhaenys and Visenya, too.,  ,Correct.,  ,A student of history, are you?,  ,Rhaenys rode Meraxes.,  ,Visenya rode Vhagar.,  ,I'm sure I knew thatwhen I was a boy.,  ,Visenya Targaryenwas a great warrior.,  ,She had a Valyrian steel swordshe called Dark Sister.,  ,Hmm.,  ,She's a heroineof yours, I take it?,  ,Aren't most girlsmore interested,  ,in the pretty maidensfrom the songs?,  ,Jonquil with the flowersin her hair?,  , Most girls are idiots.\",\n",
       " 'Ha!,  ,You remind me of my daughter.,  ,Where did you learnall this stuff,  ,about Visenya and herValyrian Steel sword?,  ,From my father.,  ,He was a wellread stonemason.,  ,Can\\'t say I\\'ve ever meta literate stonemason.,  ,Have you met manystonemasons, My Lord?,  ,Careful now, girl.,  ,I enjoy you, but be careful.,  ,Take that back to the kitchen.,  ,Eat what you want.,  ,And, girl.,  ,M\\'lord.,  ,Lowborn girls say \"M\\'lord,\",  ,not \"My Lord.',\n",
       " '\",  ,If you\\'re goingto pose as a commoner,,  ,you should do it properly.,  ,My mother served Lady Dustin,  ,for many years, My Lord.,  ,She taught me how to speakproper...',\n",
       " \"properly.,  ,You're too smartfor your own good.,  , Has anyone told you that?\",\n",
       " 'Yes.,  ,Go on.,  ,I beg pardon, Ser.,  ,I should have come to you after,  ,to thank you for saving me.,  , You were so brave.',\n",
       " \"Brave?,  ,A dog doesn't need courageto chase off rats.,  ,Does it give you joyto scare people?,  ,No.\",\n",
       " 'It gives me joyto kill people.,  ,Spare me.',\n",
       " \"You can't tell me.,  ,Lord Eddard Stark of Winterfellnever killed a man.,  ,It was his duty.He never liked it.,  ,Is that what he told you?,  ,He lied.,  ,Killing is the sweetestthing there is.,  ,Why are you always so hateful?,  ,You'll be gladof the hateful things I do,  ,someday when you're queenand I'm all that stands,  ,between youand your beloved king.,  ,I've demanded a meetingof the Thirteen.,  ,One of them did thisor knows who did.,  ,You are one of the Thirteen.,  ,If I wanted your dragons,I would have taken them.,  , They mean nothing to me on their own.\",\n",
       " \"Nothing?,  ,They're more valuablethan anything in the world.,  ,Shall we look inside my vault and seewhat selling your dragons,  ,would buy meI cannot buy already?,  ,We will get them back.,  ,There is no we,,  ,so why would you help meget them back?,  ,I took you under my protection,  ,in front of the rulersof my city.,  ,A man is what otherssay he is and no more.,  ,If they say thatXaro Xhoan Daxos is a liar,,  ,my word is worth nothing.,  ,I cannot let this thinghappen to you under my roof.,  ,But it did happenunder your roof.,  ,Khaleesi, many timesin my life I have been...,  ,I don't care where you've been.,  ,You think we're savages becausewe don't live in stone castles.,  ,We can't make steel as goodas yours, it's true, but...,  ,We're free.,  ,If someone tried to tell uswe couldn't lie down,  ,as man and woman,,  ,we'd shove a spear up his ass.,  ,We don't go servingsome shit king,  ,who's only kingbecause his father was.,  ,No.\",\n",
       " \"No, you serve Mance Rayder,,  ,the KingBeyondtheWall.,  ,We chose Mance Rayderto lead us.,  ,He was a crow, same as you,,  ,but he wanted to be free.,  ,You could be free, too.,  ,You don't need to liveyour whole life,  ,taking commands from old men.,  ,Wake up when you wantto wake up.,  ,I could show you the streamsto fish, the woods to hunt.,  ,Build yourself a cabin and finda woman to lie with in the night.,  ,You're a pretty lad.,  ,The girls would claw each other'seyes out to get naked with you.,  ,Walk.,  ,I could teach you how to do it.,  ,I know how to do it.,  ,You know nothing, Jon Snow.,  ,( Chatter ),  ,And what did she say?,  ,She admired your spirit,Your Grace.,  ,And what then?,  ,She, uh...,  ,If every manwere held accountable,  ,for the actionsof every distant relative,,  ,Ser Alton, we'd all hang.,  ,She tore the paperin half, Your Grace.,  ,You've acted with honor.,  ,I thank you for it.,  ,Lord Karstark, see thatSer Alton's pen is clean.,  ,And give him a hot supper.,  ,Ser Alton's penis occupied, Your Grace.,  ,The prisonersfrom the Yellow Fork.,  ,Too many prisoners.,  ,Is there room for Ser Alton?,  ,Does he need to lie down?,  ,Have the menbuild him a new pen.,  ,Put him in withthe Kingslayer for now.,  ,Have your boy watch over them.,  ,Torrhen.,  ,That will be all.,  ,Your Grace.,  ,A minute of your time?,  ,I've been treatingyour wounded men.,  ,And my enemiesas some of my bannermen,  ,are fond of mentioning.,  ,They're not my enemies.,  ,That's what I tell my bannermen.,  ,I've already run through thesupplies I brought with me.,  ,Some are easily replaced...,  ,Egg yolks, turpentine,oil of roses.,  ,But some are not.,  ,I need silk for stitching.,  ,I need fennel rootfor those with fever, willow bark.,  ,Mostly I need milk of the poppy.,  ,You saw what it was liketo amputate a foot without any.,  ,I assume there will bemore loss of limb before,  ,this war is over.,  , If you need help finding these...\",\n",
       " \"I know where to find them.,  ,I'm sorry, I shouldn'tinterrupt you.,  ,Continue, My Lady.,  ,You're riding to the Cragto negotiate a surrender?,  ,Yes.,  ,The Crag will have a Maesterand he will have what I need.,  ,I expect he will.,  ,If I could write a list...,  ,Come with me to the Crag.,  ,I don't think that will be...,  ,Let the Maestershow you his stores.,  ,I want the wounded mento be treated well...,  ,All the wounded men.,  ,( Dog barking ),  ,Woman:Children, come inside, quick.,  ,Hurry up!,  , ( Dog barking ) Man: Can't find anything, Ser.,  , They've lost the scent.\",\n",
       " 'Try again.,  ,We\\'ve circledthis farmhouse twice.,  ,There\\'s no sign of them.,  ,We could start the search freshin the morning, My Lord.,  ,I\\'m looking at spendingthe rest of life,  ,being treated like a fool anda eunuch by my own people.,  ,Ask yourself, \"Is there anythingI wouldn\\'t do\",  ,to stop that from happening?',\n",
       " '\",  ,The hounds will findthe scent again.,  ,I\\'ll beat them until they do.,  ,I\\'ll whip every man here,  ,until I haveboth those boys in hand.,  ,And once I\\'ve got them,the pampered little shits...,  ,It\\'s better to becruel than weak.,  ,Prince Theon.,  , Where are they?',\n",
       " \"Who, m'lord?,  ,The Stark boys.\",\n",
       " \"Where are they?,  ,I don't know.\",\n",
       " \"I seen no one.,  ,Oh!,  ,Think harder.,  ,I swear, m'lord, I don't know.,  ,My Lord, over here.,  ,I think I've foundwhat we're looking for.,  ,Send the old man home.,  ,Go back to Winterfell.,  ,Take him back.,  ,Theon, don't do this.,  ,( Birds chirping ),  ,You came back.,  ,As soon as I heard.,  ,Do you know anything?,  , Irri is dead.\",\n",
       " \"I know.,  , She was a good... She's dead.,  ,She died alone.,  ,She died for meand I couldn't protect her.,  ,Doreah?,  ,We can't find her.,  ,She must be dead, too.,  ,I led my peopleout of the Red Waste,  ,and into the slaughterhouse.,  ,I should have been here.,  ,You went to find me a ship.,  ,My place is by your side.,  ,I shouldn't have left youalone with these people.,  ,These people?,  ,They are not to be trusted.,  ,And who is to be trusted?,  ,Who are my people?,  ,The Targaryens?,  ,I only knew one... My brother,,  ,and he would have let, men rape me,  ,if it had got him the crown.,  ,The Dothraki?,  ,Most of them turned on methe day that Khal Drogo,  ,fell from his horse.,  ,Your people are in Westeros.,  ,The people in Westerosdon't know I'm alive.,  , They will soon enough.\",\n",
       " 'And then what?,  ,They\\'ll pray for my return?,  ,They\\'ll wave dragon bannersand shout my name?,  ,That\\'s what my brother believedand he was a fool.,  ,You are not your brother.,  ,Trust me, Khaleesi.,  ,There it is...,  ,\"trust me.',\n",
       " '\",  ,And it\\'s you I should trust,Ser Jorah?,  ,Only you?,  ,I don\\'t need trust any longer.,  ,I don\\'t want it and I don\\'t haveroom for it.,  ,You are too young to be so...,  ,And you are too familiar.,  ,Forgive me, Khaleesi.,  ,No one can survivein this world without help.,  ,No one.,  ,Let me help you, please.,  ,Tell me how.,  ,Find my dragons.,  ,Ygritte: How long till we getback to your crows?,  ,We\\'re close.,  ,What, a day?',\n",
       " \"A halfday?,  ,You don't know, do you?,  , Do you even know where they are?\",\n",
       " 'We\\'re close.,  ,What do you think they\\'ll saywhen they hear about you and me?,  ,Nothing happenedbetween you and me.,  ,\"I swear it,old master king crow, Ser,\",  ,we were only closetogether for warmth.,  ,And then I felt it,,  ,right up againstme backside like a club.,  ,I can show you the bruiseon me tailbone.,  ,And before I knewwhat was where, his... his...,  ,Well, it was all out in the open,all angry as you like.,  ,And I didn\\'t want to want it,but, oh, I did!,  ,And he spread me legsand...',\n",
       " 'ruined.,  ,The shame of it.,  ,Now I can never marrya perfumed lord.,  ,\"What will me poorsavage father say?',\n",
       " '\",  ,Turn back around.,  ,\"And I thought that we were done,but he said,,  ,( deep voice )\\'Turn back around.',\n",
       " '\\'\",  ,( normal voice )I\\'ll tell you what, Jon Snow,,  ,since it\\'s going to beyour word against mine,,  ,and since you can\\'t talkabout it without blushing,,  ,we may as well just.,  ,What, right here in the muck?,  ,I\\'ll keep you warm enough.,  ,Are you that afraid of it?,  ,That\\'s enough.,  ,Oh, it\\'s nice,  ,and wet and warm.,  ,Enough,  ,it don\\'t have teeth.,  ,All right!,  ,All right.,  ,Gods, you\\'re dull.,  ,( Grunting ),  ,( Sword rings ),  ,( Ygritte whistles ),  ,Should have took mewhile you had the chance.,  ,( Sansa crying ),  ,( Sansa crying ) No, no!,  , ( Screams ) ( Laughs ),  ,( Screams ),  ,No.',\n",
       " \"Oh, no.,  ,( Whimpering ),  ,It's all right.\",\n",
       " \"Give me that.,  ,If the queen sees I can haveJoffrey's children now...,  ,Help me flip it over.,  , Where are you going?\",\n",
       " \"To tell her Grace.,  ,You'll say nothing to anyone.,  ,Do you understand?,  ,Your mother might haveprepared you.,  ,You flowered, my dear.\",\n",
       " \"No more.,  ,My mother told me, but Ithought it would be different.,  ,In what way?,  ,I thought it would be less...,  ,Less messy.,  ,Wait until you bear the child.,  ,You're a woman now.,  ,Do you have any ideawhat that means?,  ,I'm fit to bear childrenfor the king?,  ,A prospect thatonce delighted you...,  ,Bringing little princesand princesses into the world,,  ,the greatest honor for a queen.,  ,Joffrey has alwaysbeen difficult.,  ,Even his birth,I labored a day and a half,  ,to bring him into this world.,  ,You cannot imagine the pain.,  ,I screamed so loudly, I was sure,  ,Robert would hear mein the Kingswood.,  ,His Grace was not with you?,  ,Robert was hunting.,  ,That was his custom.,  ,Whenever my time was near,,  ,my royal husbandwould flee to the trees,  ,with his huntsmenand his hounds.,  ,And when he returned,he would present me,  ,with some peltsor a stag's head,,  ,and I would present himwith a baby.,  ,Not that I wantedhim there, mind you.,  ,I had Grand Maester Pycelle,an army of midwives,,  ,and I had my brother.,  ,When they told Jaime he wasn'tallowed in the birthing room,,  ,he smiled and askedwhich one of them,  ,proposed to keep him out.,  ,Joffrey will show youno such devotion.,  ,You may never love the king,,  ,but you will love his children.,  ,I love his Gracewith all my heart.,  ,That's so very touching to hear.,  ,Permit me to sharesome womanly wisdom with you,  ,on this very special day.,  ,The more people you love,the weaker you are.,  ,You'll do things for them thatyou know you shouldn't do.,  ,You'll act the fool to make themhappy, to keep them safe.,  ,Love no one but your children.,  ,On that front,a mother has no choice.,  ,But... shouldn'tI love Joffrey, Your Grace?,  ,You can try,,  ,little dove.,  ,( Chatter ),  ,Who did you sayyour mother was again?,  ,Cinda Lannister.,  ,Is she the fat one?,  ,Well, perhaps she's gottena little larger than she...,  ,No, no.\",\n",
       " \"There's only onefat Lannister.,  ,If she was your mother,you'd know it.,  ,I...\",\n",
       " \"I squiredfor you once, you know?,  ,When?,  ,The tournament the dayof Willem Frey's wedding.,  ,I went to Willem Frey's wedding?,  ,You did.,  ,Your squire had gottenso drunk the night before that he...,  ,He threw up on his horse,  ,on the wayto the tourney grounds.,  , What was his name?\",\n",
       " 'Bryan.,  ,( Laughs ) Poor lad.,  ,That was my brother\\'s doing,I seem to recall.,  ,I remember you.,  ,You had never squiredfor anyone before.,  ,That\\'s right.I ran up and volunteered.,  ,\"Let me, My Lord.',\n",
       " 'Let me.',\n",
       " '\",  ,My father was furious,,  ,afraid I\\'d embarrass our family,  ,in front of the family.,  ,You didn\\'t, though.,  , You really remember?',\n",
       " \"Mm.,  ,You knew when you were neededand when to go away.,  ,It's a rare talent.,  ,Most of my squires,they mean well,,  ,but young men with big jobs,they tend to overdo them.,  ,Well, when I thinkback to that day...,  ,( hisses ),  ,You were saying?,  ,I...,  ,Never mind.\",\n",
       " \"It's embarrassing.,  ,More embarrassingthan being chained to a post,  ,covered in your own shit?,  ,I remember everythingabout that day...,  ,Your helmet, your horse,,  ,the rake line in the dirtalong the list,,  ,where the sun was in the sky,  ,when you knockedBalon Swann from his horse,,  ,and the dent in your shieldwhen you handed it back to me.,  ,I'll remember it alluntil I die.,  ,That was the best dayof my life.,  ,And I remember being on the fieldafter it was over.,  ,All the competitors were done.,  ,I was the last one out there.,  ,And I couldn't leave.,  ,I couldn't bring myselfto go and sit with my family,  ,at a table so faron the edge of the feast,  ,you could barelyeven see the bride.,  ,And I couldn't bear to tell themwhat it had been like squiring for you,  ,when I knew that they couldnever have the faintest idea,  ,what I was talking about.,  ,I understand completely.,  ,How could you?,  ,Ssorry, I...\",\n",
       " \"I didn'tmean to doubt you.,  , It's just that I...\",\n",
       " \"I was  once.,  ,I also had to replace someone'ssquire on short notice.,  ,Which knight was it?,  ,Barristan Selmy.,  ,The fight againstthe Kingswood outlaws.,  ,Before your time.,  ,What was he like?,  ,( Sighs ),  ,He was,  ,a painter,,  ,a painter who only used red.,  ,I couldn't imagine beingable to fight like that,,  ,not back then.,  ,And to help him do that,to be a part of something,  ,that perfect...,  ,I don't need to explainhow that felt, not to you.,  ,It's hard to put into words.,  ,It's like stepping into a dream,  ,you've been dreamingfor as long as you can remember,  ,and finding out that the dream,  ,is more real than your life.,  ,Leaving that battlefield was,  ,like being dragged offto prison.,  , Did you squire for him again?\",\n",
       " \"No.,  ,I didn't have your gift.,  ,He couldn't take a stepwithout stepping on me.,  ,I was awful,a complete liability...,  ,until one of the outlaws,  ,decided to take ona yearold squire.,  ,It's a good thing I am who I am.,  ,( Chuckles ) I'd have been uselessat anything else.,  ,I'm not wellsuitedfor imprisonment.,  ,Shocking, I know.,  ,Some men are.,  ,Ned Stark...\",\n",
       " 'I imagine he made,  ,an excellent prisonerright up until the end.,  ,But me, though...My life has left me,  ,uniquely unfit for constraint.,  ,Have you thought about...?,  ,Of course.,  , Every day.',\n",
       " \"And?,  ,Good prisoners breedgood jailers, apparently.,  ,The Starks are very careful.,  ,But there is a way, I think.,  ,It wasn't possible until now.,  ,What is it?,  , It's actually quite simple.\",\n",
       " \"Well, let me help you.,  ,You'll only haveto do one thing.,  ,Tell me.,  ,You'll have to die.,  ,( Crunching ),  ,( Choking ),  ,( Bone breaks ),  ,( Bird screeching ),  ,Jorah the Andal.,  ,This man must sailpast old Valyria.,  ,All who travel too close tothe Doom must have protection.,  ,I didn't come here for lessons.,  ,No, you came for the dragons.,  ,You have them?,  ,Where are they?,  ,Draw your sword.,  ,See what your steel is worth.,  ,You want to pleasethe Mother of Dragons.,  ,You love her.,  ,Where are the dragons?,  ,Will you betray her again,Jorah the Andal?,  ,Will you betray her again?,  ,Never.,  ,The thief you seek,  ,is with her now.,  ,Spice King: I did not leavethe comfort of my home,  ,to come to yoursand be called a thief.,  ,No one is calling you a thief.,  ,Who is she to accuse us?,  ,Please, they're my children.,  , I'm begging you.\",\n",
       " \"Begging us?,  ,It wasn't very long agoyou were threatening us.,  ,Without me,the dragons will die.,  ,It will be for the best.,  ,Your dragonswill bring the world,  ,nothing but deathand misery, my dear.,  ,If I knew where they were,I would not tell you.,  ,Pyat Pree:You are cruel, my friend.,  ,The mother of dragonsis in the right.,  ,She must be reunitedwith her babies.,  , I will help you, Khaleesi.\",\n",
       " 'How?,  ,I will take youto the House of the Undying,  ,where I have put them.,  ,You have my dragons?,  ,When I learned you werecoming to our city,,  ,I made an arrangementwith the King of Qarth.,  ,( Laughter ),  ,He procured them for me.,  , But there is no King of Qarth.',\n",
       " 'Xaro: There is now.,  ,That was the other halfof the arrangement.,  ,You would keep your gatesand your minds closed,  ,to everythingoutside your walls,,  ,but Qarth cannot remainthe greatest city that ever was,  ,if it refuses to change.,  ,I will open Qarth to the world,  ,as I have forced itto open itself to me.,  ,Your ambition is an inspiration.,  ,But like all upstarts,you overreach.,  ,Three dragons the size of cats,  ,and an alliance with a charlatan,  ,do not make you a king.,  ,An upstart and a charlatan?,  ,Empires have been built by less.,  ,Those on the marginsoften come to control the center,,  ,and those in the centermake room for them,,  ,willingly or otherwise.,  ,The Mother of Dragonswill be with her babies.,  ,She will give them her love,  ,and they will thriveby her side...,  ,forever.,  ,A mother should bewith her children.,  ,Where will you run to,Daenerys Stormborn?,  ,Your dragons wait for youin the House of the Undying.,  ,Come see them.,  , Lady Stark!',\n",
       " \"No farther.,  ,Keep your hands off me, woman.,  ,Don't enter withoutan invitation, man.,  ,Forgive me.\",\n",
       " 'Lady Stark.,  , Catelyn: What is it?',\n",
       " 'They caught the Kingslayer.,  ,( Men shouting ),  , Kill the fucking Kingslayer!',\n",
       " \"Hang him!,  ,( Men shouting ),  ,You'll die today.,  ,Justice for the Karstark.,  ,Gut him!,  ,Get back!\",\n",
       " 'I want his head!,  ,Any man who standsbetween a father,  ,and his vengeanceasks for death.,  ,Lord Karstark,,  ,this man is our prisoner.,  ,This monster killed my son.,  ,And crippled mine.,  ,He will answer for his crimes,,  ,I promise you, but not here.,  ,I will have his head.And if you try and stop me...,  ,You will strike me down?,  ,Have you forgotten me, Ser?,  ,I am the widow of yourliege Lord Eddark Stark.,  ,I am the mother of your king!,  , And where is our king now?',\n",
       " \"You know very well.,  ,He has gone to the Cragto accept the surrender.,  ,Aye, gone to the Crag,but not to negotiate.,  ,He brought thatforeign bitch with him.,  ,How dare you?,  ,Threatening My Ladyis an act of treason.,  ,Treason?,  ,How can it be treasonto kill Lannisters?,  ,I understandyour grief, My Lord...,  ,Better than mostI understand it...,  ,But in the name of my son,the King in the North,,  ,stand down.,  ,When your son returns,,  ,I will demandthis murderer's head.,  ,Wise men do notmake demands of kings.,  ,Fathers who love their sons do.,  ,I will have his head.,  ,Thank you for fightingon my behalf, Lady Stark.,  ,I would have cometo your defense, but...,  ,Take him to the stockades.,  ,Bind him with every chainyou can find!,  ,You've become a real shewolfin your later years.,  ,There's not much fishleft in you.,  ,And gag him!,  ,Since when do you lightyour own candles?,  ,Since I decided thatI can't stand to look,  ,at any of my handmaidensfor another instant.,  ,How many times can youread one raven scroll?,  ,Stannis Baratheon's fleethas been spotted sailing north,  ,past Tarth...\",\n",
       " 'ships.,  , More than we have.',\n",
       " 'Yes, that\\'s more than we have.,  ,He\\'ll be at our gateswithin five days,,  ,four if he has the wind.,  ,We have strong, high walls.,  ,We\\'ll rain firedown on them from above.,  ,\"Rain fire on them from above.',\n",
       " '\",  ,You\\'re quoting father,aren\\'t you?,  ,Why not?,  ,He has a good mindfor strategy, doesn\\'t he?,  ,We call it tactics,not strategy.,  ,But, yes, he does havea good mind for it.,  ,The best mind, some would say.,  ,Sadly, he\\'s not here.,  ,It\\'s just you, me, and Joffrey,,  ,the Lord of the Seven Kingdoms,  ,and protector of the realm.,  ,I\\'m sure you\\'ll makea point eventually.,  ,He needs to startacting like a king.,  ,This war you startedis coming to our doorstep.,  ,And if the entire citywants Joffrey dead...,  ,I\\'m not the one givingthe boy whores to abuse.,  ,I thought the girlsmight help him.,  , Did you?',\n",
       " \"I was wrong.,  ,If we can't control him...,  ,Do you think I haven't tried?,  ,He doesn't listen to me.,  ,It's hard to puta leash on a dog,  ,once you've puta crown on its head.,  ,I always hopedhe'd be like Jaime.,  ,He looks like him...,  ,in a certain light.,  ,The boy is moreRobert than Jaime.,  ,Robert was a drunken fool,but he didn't enjoy cruelty.,  ,Sometimes I wonder...,  ,What?,  ,If this is the price,  ,for what we've done,for our sins.,  ,Sins?,  ,The Targaryens...,  ,Wed brother and sisterfor hundreds of years,,  ,I know.,  ,That's what Jaime and I would say toeach other in our moments of doubt.,  ,It's what I told Ned Stark when hewas stupid enough to confront me.,  ,Half the Targaryenswent mad, didn't they?,  ,What's the saying?,  ,Every time a Targaryen is born,the Gods flip a coin.,  ,You've beaten the odds.,  ,Tommen and Myrcellaare good, decent children,,  ,both of them.,  ,( Crying ),  , Why wait?\",\n",
       " \"We're sworn to the king.,  , There's not a king.\",\n",
       " \"That's treason.,  ,So is saving Lannisters, yeah?,  , Back off, you.\",\n",
       " \"No, I won't.,  ,Your son returnsat dawn, My Lady?,  ,So they say.,  ,Brienne: The Kingslayerwon't last the night.,  ,The more they drink,the angrier they'll get.,  ,And when the Karstarksdraw their swords...,  ,who wants to diedefending a Lannister?,  ,Come.,  ,I need to be alone with him.,  , My Lady, our orders...\",\n",
       " \"Your orders, which I just gave you,,  ,are to leave me alone with him.,  ,Come to say goodbye, Lady Stark?,  ,I believe it's my last nightin this world.,  ,Is that a woman?,  ,Do you hear them out there?,  ,They want your head.,  ,Well, old Lord Karstarkdoesn't seem to like me.,  ,You strangled his sonwith your chains.,  ,Oh, oh.,  ,Was he the one on guard duty?,  ,( Sighs ),  ,He was in my way.,  ,Any Knight would havedone the same.,  ,You are no Knight.,  ,You have forsakenevery vow you ever took.,  ,So many vows.,  ,They make you swear and swear.,  ,Defend the king, obey the king,,  ,obey your father,,  ,protect the innocent,defend the weak.,  ,But what if your fatherdespises the king?,  ,What if the kingmassacres the innocent?,  ,It's too much.,  ,No matter what you do,you're forsaking one vow or another.,  ,Where did you find this beast?,  ,She is a truer Knightthan you will ever be,,  ,Kingslayer.,  ,Kingslayer.,  ,What a king he was.,  ,Here's to Aerys Targaryen,the second of his name,,  ,Lord of the Seven Kingdoms,Protector of the realm,,  ,and to the swordI shoved in his back.,  ,You are a man without honor.,  ,Do you know,  ,I've never been withany woman but Cersei?,  ,So in my own way,,  ,I have more honorthan poor old dead Ned.,  ,What was the name of thatbastard so in he fathered?,  , Brienne.\",\n",
       " \"No, that wasn't it.,  ,Snow, a bastard from the North.,  ,Now, when...\",\n",
       " \"When good old Ned,  ,came home withsome whore's baby,,  ,did you pretend to love it?,  ,No.\",\n",
       " 'You\\'re not very goodat pretending.,  ,You\\'re an honest woman.,  ,You hated that boy, didn\\'t you?,  ,How could you not hate him?,  ,The walking, talking reminder,  ,that the honorableLord Eddark Stark,  ,fucked another woman.,  ,Your sword.,  ,I told you what would happen.,  ,All of you...,  ,I told you what would happenif you served me loyally...,  ,and what would happenif you did not.,  ,What are you doing?What have you done?,  ,If there\\'s any who still questionwhether your new lord,  ,means what he says...,  ,Here is the answerto your question.,  ,( Crowd gasps, murmurs ),  ,No!,  ,( Theme music playing ),  ,~[ Synced by <font color=\"#FF\"Bo\\xc5\\xbe\\xc3\\xad \\xc4\\x8e\\xc3\\xa1bel</font ]~,  ,<font color=\"#ffff\" size=www.tvsubtitles.net</font,  , Man: Rider approaching!',\n",
       " \"Man \\xe2\\x99\\xaa: Open the gate!,  ,( Creaking ),  ,( Horses neighing ),  , Why, it's the Prince of Winterfell.\",\n",
       " \"( Men laugh ),  , Envy isn't attractive.\",\n",
       " \"What envy?,  ,You should be proudof your brother's achievement.,  ,I took the great castleof Winterfell with  men.,  ,You're a great warrior.,  ,I saw the bodiesabove your gates.,  ,Which one gave youthe tougher fight,,  ,the cripple or the sixyearold?,  ,( Men laugh ),  ,I treated the Starkboys with honor,  ,and they repaid mewith treachery.,  ,You treated them with honorby butchering them?,  ,Before I had to kill them,I treated them...,  ,You seized their home,as is your right.,  , We're Ironborn; We take what we need.\",\n",
       " \"Exactly.,  ,Then you made them prisoners intheir home and they ran away.,  ,Is that treachery?,  ,I'd call it bravery.,  ,They made me a promise...,  ,Your little boy prisonersmade you a promise,  ,and you got madwhen they broke it?,  ,Are you the dumbest cunt alive?,  , Don't call me a... A cunt.,  ,A dumb cunt who killedthe only two Starks in Winterfell.,  ,You know how valuablethose boys were?,  ,If I hadn't killed them, theNortherners would think me weak.,  ,You are weak.\",\n",
       " \"And you're stupid.,  ,I'm warning you.,  ,Go on, then,,  ,warn me.,  ,You haven't brought enough men.,  ,How am I supposed to defendWinterfell with just this lot?,  ,You're not.\",\n",
       " \"I've come to bringyou home.,  , Father wants a word.\",\n",
       " \"Is this a joke?,  ,Winterfell is the heartof the North.,  ,Aye, it is, hundreds of milesfrom the sea.,  ,We're islanders, baby brother.,  ,Had you forgotten that?,  ,Our power comes from our ships.,  ,And now that you'vedecorated your walls,  ,with the bodiesof the Stark boys,,  ,every man in the Northwants to see you hanged.,  ,When Robb Stark finds out...,  ,He won't find out.We've killed all the ravens.,  ,We have all the horses.,  ,I've taken Winterfell.,  ,And I will keep Winterfell.,  ,Leave us.,  ,Theon, you're my blood.,  ,We both loved our mother.,  ,We both endured our father.,  ,Come home with me.Don't die here alone.,  ,I don't intend to die.,  ,You were a terrible baby,do you know that?,  ,Bawling all the time,never sleeping.,  ,And one night you justwouldn't shut up,,  ,screaming like a dying pig.,  ,I walked over to your crib,I looked down at you.,  ,I wanted to strangle you.,  ,And you looked up at meand you stopped screaming.,  ,You smiled at me.,  ,Don't die so far from the sea.,  ,I've brought youa present, Lord of Bones.,  ,I already got one crow.Don't need two.,  ,Mance will wantto question this one.,  ,Knows all about where the crowsare and what they're planning.,  ,The Halfhand knows more.This one is just a little boy.,  ,Gut him.,  ,He could have killed mehalf a dozen times.,  ,And now he wishes he did.Gut him.,  ,He's a bastard of Winterfell,Ned Stark's son.,  ,Mance will want him.,  ,What does Mance wantwith a dead man's bastard?,  ,I don't know.,  ,I think he'll wantto decide for himself.,  ,He runs, I'll chophis balls off.,  ,He runs, I'll do it meself.,  ,We're even now, Jon Snow.,  ,I couldn't do it.,  ,I had the sword at her neck,I just couldn't...,  , I know.\",\n",
       " \"The others?,  ,When you didn't come back,we went looking for you.,  ,We found your tracksfast enough.,  ,But they found usbefore we found you.,  ,They died because of me.,  ,See that it wasn't for nothing.,  ,All right, up, lad.,  ,Come on, on your feet, now.,  ,Move it.,  ,( Birds calling,water burbling ),  ,Is she beautiful?,  ,I've never met her.,  ,What's her name?,  ,Frey, I suppose.,  ,I don't know her first name.,  ,I'm sure you'll be very happy.,  ,( Both laugh ),  ,And you're marryingher for a bridge?,  , An important bridge.\",\n",
       " 'Ah.,  ,It was beforethey killed my father.,  ,I still thought I could march southand rescue him in time,,  ,but only if I crossedthat bridge.,  ,When I speak to peoplefrom the North,,  ,they all loved your father.,  ,He was the best man I ever met.,  ,I know children always thinkthat about their fathers, but...,  ,Children do not always think thatabout their fathers,,  ,believe me.,  ,He once told me that beinga Lord is like being a father,,  ,except you havethousands of children,  ,and you worry about all of them.,  ,The farmers plowingthe fields are yours to protect.,  ,The charwomen scrubbing the floors,yours to protect.,  ,The soldiersyou order into battle.,  ,He told me he wokewith fear in the morning,  ,and went to bedwith fear in the night.,  ,I didn\\'t believe him.,  ,I asked him,,  ,\"how can a man be braveif he\\'s afraid?',\n",
       " '\",  ,\"That is the only timea man can be brave,\" he told me.,  ,I wish I could have met him.,  ,He would have liked you.,  ,Most Lords worry moreabout their gold,  ,and their glory than the charwomenscrubbing their floors.,  ,He didn\\'t care muchabout gold or glory.,  ,And you?,  ,You think I\\'m fighting this war sothey\\'ll sing songs about me?,  ,I want to go home.,  ,I want the menfollowing me to go home.,  ,Then why don\\'t you?,  ,Because we\\'ll never be safe untilthe Lannisters are defeated.,  ,And because I believein justice.,  ,Chopping offJoffrey\\'s head, you mean.,  ,That would be a start.,  ,( Horse neighs,hoofbeats approaching ),  ,Your Grace, Milady.,  ,The Kingslayer,he escaped in the night.,  ,How?,  ,How?',\n",
       " \"!,  ,Tell me this isn't true.,  ,Why?,  , For the girls.\",\n",
       " 'You betrayed me.,  , Robb...',\n",
       " \"No!,  ,You knew I would not allow it,  ,and you did it anyway.,  ,Bran and Rickonare captives in Winterfell.,  ,Sansa and Arya are captivesin King's Landing.,  ,I have five children,and only one of them is free.,  ,I lost one son fightingby your son's side.,  ,I lost anotherto the Kingslayer,,  ,strangled with a chain.,  ,You commit treason,  ,because your childrenare prisoners?,  ,I would carve out my heart,  ,and offer it to the fatherif he would let my sons,  ,wake from their gravesand step into a prison cell.,  ,I grieve for your sons, My Lord.,  ,I don't want your grief.I want my vengeance.,  ,And you stole it from me.,  ,Killing Jaime Lannister,  ,would not buy lifefor your children,,  ,but returning himto King's Landing,  ,may buy life for mine.,  ,Jaime Lannister has playedyou for a fool.,  ,You've weakened our position.,  ,You've brought discordinto our camp.,  ,And you did it allbehind my back.,  ,Make sure she's guardedday and night.,  ,Robb.,  ,How many men did we sendin pursuit of the Kingslayer?,  ,, Your Grace.,  ,Send another with our fastest horses.,  ,Robb.,  ,( Neighing ),  ,Whoa, oof!,  ,( Groans ),  ,Damn.,  ,You're much uglier in daylight.,  ,What's your name?,  ,I'm Jaime Lannisterof Casterly Rock,,  ,son of Tywin.,  ,A captive Knight has a rightto know his captor's identity.,  ,Brienne of Tarth.,  ,Tarth, Tarth, Tarth.,  ,Crescent moons and starbursts.,  ,Lord... Selwyn Tarth,,  ,your father.,  ,Do you have any brothersand sisters, My Lady?,  ,It's a long wayto King's Landing.,  ,Might as well getto know one another.,  ,Have you known many men?,  ,I suppose not.,  ,Women?,  ,Horses?\",\n",
       " \"Ah!,  ,I didn't mean to giveoffense, My Lady.,  ,Forgive me.,  ,Your crimes are pastforgiveness, Kingslayer.,  ,Why do you hate me so much?,  , Have I ever harmed you?\",\n",
       " \"You've harmed others...,  ,Those you were sworn to protect,,  ,the weak, the innocent.,  ,Has anyone ever told you you'reas boring as you are ugly?,  ,You will notprovoke me to anger.,  ,I already have.\",\n",
       " \"Look at you.,  ,You're readyto chop my head off.,  ,Do you think you could?,  ,Do you think you couldbeat me in a fair fight?,  ,I've never seen you fight.,  ,The answer is no.,  ,There are three menin the kingdoms who might,  ,have a chance against me.,  ,You're not one of them.,  ,All my life men like youhave sneered at me.,  ,And all my life I've been knockingmen like you into the dust.,  ,If you're so confident,unlock my chains.,  ,Let's see what happens.,  ,Do you take me for an idiot?\",\n",
       " \"In.,  ,I took you for a fighter,,  ,a man... pardon...Woman of honor.,  ,Was I wrong?,  ,You're afraid.,  ,Maybe one daywe'll find out, Kingslayer.,  ,Kevan: King's Landingwill fall an hour,  ,after Stannis lands his force.,  ,It's not too late forKing Joffrey and Cersei,  ,and the courtto ride west to safety.,  ,Surrender the Iron Throne?,  ,Better than seeing their headsmounted on the city gates.,  ,Stannis will execute them all.,  ,No, a king who runswill not be king for long.,  ,He's a Lannister.He'll stand and fight.,  ,Stannis, two daysfrom the capital,  ,and the wolf at my doorstep.,  ,The scouts assure us Robb Starkremains north of Ashemark.,  ,Ha!\",\n",
       " \"The last timethe scouts assured us,  ,of Stark's movement,he lured us into a trap.,  ,Which is why my sonis his prisoner.,  ,Too close to Casterly Rock.,  ,He sent a splinter force,  ,to recapture Winterfell.,  ,The Greyjoys havedone us a great favor.,  ,Stark won't risk marchingon Casterly Rock,  ,until he's at full force.,  ,He's a boy and he'snever lost a battle.,  ,He'll risk anything at any time,  ,because he doesn't knowenough to be afraid.,  ,We'll ride at nightfall.,  ,I want a full night's march beforehe knows we're on the move.,  ,Clegane, you'll maintaina garrison here at Harrenhal.,  ,Track down this brotherhoodand destroy them.,  ,The girl has provenherself a good servant.,  ,She'll stay on with you.,  ,See that he doesn't getdrunk in the evenings.,  ,He's poor companywhen he's sober,,  ,but he's better at his work.,  ,You've got somequestions to answer.,  ,Man: Who killed Ser Amory?,  , Man \\xe2\\x99\\xaa: I don't know!\",\n",
       " 'Give me the name.,  , Man \\xe2\\x99\\xaa: Please!',\n",
       " \"Man \\xe2\\x99\\xaa: Take this one out for the crows.,  ,Man \\xe2\\x99\\xaa:I told you, I don't know.,  ,Please.,  ,Look, it's Yoren's little cunt.,  ,Used to be a boy,now it's a girl.,  , ( Man laughs ) Where's Jaqen?,  ,Don't care.,  ,Where's your stick now, bitch?,  ,I promised to fuck you with it.,  ,Guard: Come on, time to killsome wolves.,  ,( Men shouting ),  ,You need sour cherriesto make it right.,  ,And the secret is you drythe stones, and then you,  ,break them with a mallet.,  ,That's where the real flavor is.,  ,You crush 'em up real fine.,  ,And then when you're finished,you sprinkle them over the piecrust.,  , Where's Jaqen?\",\n",
       " \"How would I know?,  ,I need him now.,  ,Lord Tywin's marching tonight.,  , You need him?\",\n",
       " \"He's helping me.,  , Hot Pie: I saw him.\",\n",
       " 'Where?,  , Where?!',\n",
       " 'Ow!,  ,Where?,  ,They went riding outthe gates a few hours ago.,  ,On patrol.',\n",
       " \"Let go of my ears.,  ,( Horses neighing,men shouting ),  ,What do you wantwith him anyway?,  ,( Men shouting ),  ,( Wind howling ),  ,Qhorin: Mance is gonnamarch on the Wall.,  ,When he does, one brotherinside his army,  ,will be worth ,fighting against it.,  , They'll never trust me.\",\n",
       " 'They might...,  , If you do what needs to be done.',\n",
       " \"What?,  ,How does it feel knowingthose men all died,  ,so you could skip through thesnow with your little savage girl?,  ,I didn't.,  ,I should have known better,trusting a traitor's bastard.,  ,He's not yours to kill, crow.,  ,Do you have to do that here?,  ,I like to keep me hands clean.,  ,Yes, but do youhave to do it here?,  ,You should start wearingthe gold cloak.,  ,I don't want to weara gold cloak.,  ,You're commanderof the City Watch.,  ,You shouldn't be dressedlike a common sellsword.,  ,A cloak slows you downin a fight,,  ,makes it hard to move quietly.,  ,And the gold catches the light,,  ,so you're nice and easyto spot at night.,  ,Well, you're not sneakingthrough alleyways any longer.,  ,You're supposed to stand out.,  ,We had a deal, and wearinga gold cloak wasn't part of it.,  ,Fine, fine.,  ,No gold cloak.,  , What?\",\n",
       " 'What?,  ,What?',\n",
       " 'What?Why are you staring at me?,  ,( Scoffs ) You don\\'t want mecleaning me nails.,  ,You don\\'t want melooking your way.,  ,Why am I here?,  ,To help me plan the defenseof King\\'s Landing.,  ,( Laughs ),  ,Stannis will be here any day.,  ,( Sighs ),  ,And one of theseexplains how to beat him?,  ,\"An History of the GreatSieges of Westeros\",  ,by Archmaester \"Shevelathin.',\n",
       " '\",  ,\"Shevelatesh.',\n",
       " '\",  ,\"Chevalteesh.',\n",
       " '\",  ,I\\'d swap all your booksfor a few good archers.,  ,My Lord Hand, Commander.,  ,I must compliment you,  ,on the Gold Cloaks\\' performancethese last few weeks.,  ,Did you know there has beena marked drop in thievery?,  ,I did not know.,  ,And how did you accomplishthis marked drop in thievery?,  ,Me and the lads rounded upall the known thieves.,  ,For questioning?,  ,Uh, no.,  ,It\\'s just the unknown thieveswe need to worry about now.,  , We talked about this.',\n",
       " 'Aye, we talked about it.,  ,Have you ever beenin a city under siege?,  ,Maybe this part\\'snot in your books.,  ,See, it\\'s not the fightingthat kills most people.,  ,It\\'s the starving.Food\\'s worth more than gold.,  ,Noble ladies sell their diamondsfor a sack of potatoes.,  ,Things get bad enough,,  ,the poor starteating each other.,  ,The thieves, they love a siege.,  ,Soon as the gates are sealed,they steal all the food.,  ,By the time it\\'s all over,they\\'re the richest men in town.,  ,Given the circumstances,My Lord,,  ,I believe extreme measuresare warranted.,  ,Ah.,  ,\"The Great Sieges of Westeros.',\n",
       " '\",  ,Thrilling subject.,  ,Shame Archmaester Ch\\'vyalthanwasn\\'t a better writer.,  ,Stannis knows King\\'s Landing.,  ,He knows where the wallsare strongest,  ,and he knows which gatesare weakest.,  ,The mud gate.,  ,A good ram will batter itdown in minutes,  ,and it\\'s only  yardsfrom the water.,  ,That\\'s where he\\'ll land.,  ,And if Stannis doesattack the mud gate,,  ,what is our plan?,  ,We could throw books at his men.,  ,We don\\'t have that many books.,  ,We don\\'t havethat many men, either.,  ,What do we have?,  ,Pig shit.,  ,( Wind howling ),  ,( Chatter ),  ,( Panting ),  ,I\\'m not cut outfor this sort of work.,  ,I always imagined meselfdoing something much worse.,  ,We\\'re digging latrine pitsat the end of the world.,  ,I can\\'t imagineanything much worse.,  ,Dolorous Edd:You lack imagination.,  ,Sam: Where do you thinkJon is right now?,  ,He went off with the Halfhand.He didn\\'t come back.,  ,A betting manwould go with dead.,  ,He\\'s not dead.,  ,No, Jon\\'s a great fighter.,  ,Well, he\\'s better than me,  ,and a lot better than you.,  ,He\\'s got a Valyrian steel sword.,  ,So did his father.,  ,And Qhorin Halfhandis the greatest ranger alive.,  ,Great rangers neverget old is the problem.,  ,Shit ones neither.,  ,It\\'s them in the middlethat last a long time.,  ,( Clangs ),  ,What in seven hells is that?,  ,The First Men made these marks.,  ,Help me with it.,  ,( Straining ),  ,Look.,  ,If you find somethingyou\\'re not supposed to,,  ,best thing to do is pretendyou\\'ve never seen it.,  ,That\\'s a Night\\'s Watch cloak.,  ,It\\'s been here a long time.,  ,Oh, must be Dragonglass.,  ,Grenn: Dragonglass?,  ,The Maesters call it Obsidian.,  ,Why would a brotherhide it here?,  ,I expect it\\'s \\'causehe wanted somebody to find it.,  ,Mind where you\\'re going.,  ,I\\'m sorry.',\n",
       " \"I'll...,  , Where were you?\",\n",
       " \"A man has patrol duty.,  ,Tywin Lannister was right here,  ,and now he's gone.,  ,A girl owes one more name.,  ,The Red God demands it.Give the man a name.,  ,How long afterI give you the name,  ,does it take youto kill someone?,  ,A minute, an hour, a month.,  ,Death is certain,the time is not.,  ,He's taking his armyto attack my brother.,  ,I need him dead right now.,  ,This a man cannot do.,  ,You promised you'd help me.,  ,Help was not promised,lovely girl.,  ,Only death.There must be others.,  ,Give a name, any name.,  ,And you'll kill them?,  ,Anybody?,  ,By the seven New Godsand the Old Gods beyond counting,,  ,I swear it.,  ,All right.,  ,Jaqen H'ghar.,  ,A girl gives a man his own name?,  , That's right.\",\n",
       " 'Gods are not mocked.,  , This is no joking thing.',\n",
       " \"I'm not joking.,  ,A man can go kill himself.,  , Unname me.\",\n",
       " \"No.,  ,Please?,  ,I'll unname you.,  ,Thank you.,  ,If you help meand my friends escape.,  ,This would requiremore than one life.,  , This is not part of our bargain.\",\n",
       " \"Fine, Jaqen H'ghar.,  ,A girl lacks honor.,  ,If I do this thing,a girl must obey.,  ,A girl will obey.,  ,A girl and her friends will walkthrough the gate at midnight.,  ,Thank you, Podrick.,  ,Odd little boy.,  ,I have a certain sympathyfor odd little boys.,  ,You and Varys both.,  ,Excellent lamprey pie.,  ,Were you slaving awayin the kitchen all day?,  ,I hear Joffreyplans on fighting.,  ,An inspiration for the troops.,  ,The young kingin his shining armor,  ,fighting to defend the capitalagainst the wicked old rebel.,  ,He's only a boy.,  ,Younger boys are offfighting his war.,  ,He's not ready.,  ,What is he, ?,  , Remember Jaime at ?\",\n",
       " \"Better than you.,  ,Some men have a giftfor this sort of thing,,  ,some don't.,  ,His place is noton the battlefield.,  ,It's not on the throne, either,,  ,sadly for all of us.,  ,Do you think I'm an idiot?,  ,No, I'd say you possessabove average intelligence.,  ,You shipped offmy only daughter.,  ,And now you want to send myeldest son to the battlefield to die.,  ,He'll have his Kingsguardprotecting him.,  ,He has the finest armorgold can buy.,  ,He needs to be out there.,  ,The men will fight morefiercely seeing their king,  ,fighting beside them,  ,instead of hiding behindhis mother's skirts.,  ,Any dessert?,  ,Do you know whyVarys is so dangerous?,  ,Because he has thousandsof spies in his employ.,  ,Because he knows everythingwe do before we do it.,  ,Because he doesn't have a cock.,  ,Neither do you.,  ,Perhaps I'm dangerous, too.,  ,You, on the other hand,,  ,are as big a foolas every other man.,  ,That little wormbetween your legs,  ,does half your thinking.,  , It's not that little.\",\n",
       " \"( Laughs ),  ,Why are you smiling?,  ,Because I'm happy.,  ,And why are you happy?,  ,Because I haveyour little whore.,  ,I thought you preferred blondes.,  ,Such a droll little fellow.,  ,Tell me, have youmarried this one yet?,  ,No?,  ,Oh, good.Father will be so pleased.,  ,Why do you care who I fuck?,  ,Because a Lannisteralways pays her debts.,  ,You stole my only daughter,,  ,you plot to have Joffrey killed.,  ,This is madness.Stannis will be here in days.,  , You need me.\",\n",
       " \"For what?,  ,Your skill in battle?,  ,Pretty thing, your whore.,  ,Lovely body.,  ,The bruises will heal in time.,  ,Where did you find her?,  ,Varys isn't the only onewho hears whispers.,  ,Really, a Lannisterlion necklace?,  ,You need to hide your secret whoresmore carefully.,  ,You've forgotten the mostimportant thing about whores.,  ,Oh?,  ,Well, you're the expert.,  ,Tell me.,  ,You don't buy them;You only rent them.,  ,You're usually a better liar,baby brother.,  ,This one you like.,  ,You like her very much.,  ,Could it be love?,  ,Don't worry, she'll be treatedgently enough...,  ,unless Joffrey is hurt.,  ,And then every woundhe suffers she'll suffer, too.,  ,And if he dies,,  ,there isn't a man alivewho could devise,  ,a more painful deathfor your little cunt.,  ,And how do I know youhaven't killed her already?,  ,Would you like to see her?,  ,I thought you might.,  ,Ser Mandon, bring inmy brother's whore.,  ,I'm sorry they hurt you.,  ,You must be brave.,  ,I promise I will free you.,  ,Don't forget me.,  ,Never.,  ,( Door opens, closes ),  ,I will hurt you for this.,  ,A day will come when youthink you're safe and happy,  ,and your joy will turnto ashes in your mouth.,  ,And you will knowthe debt is paid.,  ,Get out.,  ,Shae!,  ,I've been waiting all night.,  ,What is wrong?,  ,You're beautiful.,  ,Then why do you look sad?,  ,We have to be more careful.,  ,Don't be afraid.I can take care of myself.,  ,There are peoplewho want to hurt me.,  ,I know.\",\n",
       " \"I won't let them.,  ,I'll cut off their faces.I will.,  ,I would kill for you.Do you know that?,  ,I expect I'll have tobefore this is over.,  ,You're mine.,  ,I'm yours.,  ,Promise me.,  ,I'm yours, and you are mine.,  ,Robb: Still no word?,  ,We've sent a dozen ravens.,  ,None have returned.,  ,My bastard is onlya few days from Winterfell.,  , Once he captures the castle... Theon has my brothers.,  , If we storm the castle...\",\n",
       " \"He wouldn't dare hurt the boys.,  ,They're his only hope of escapingthe North with his head.,  ,Send word to your son.,  ,Any Ironborn who surrender,  ,will be allowed to returnsafely to their homes.,  ,A touch of mercy is a virtue,Your Grace.\",\n",
       " \"Too much...,  ,Any ironborn with the exceptionof Theon Greyjoy.,  ,He betrayed our cause.,  ,He betrayed me.,  ,And we will hunt him downno matter where he runs.,  ,I expect his countrymenwill turn on him the minute,  ,they hear the offer.,  ,Your pardon, My Lord.Your Grace.,  ,My Lady.,  ,How are you?,  ,How am I?,  ,I've had to arrest my mother.,  ,The Lannisters have my sisters.,  ,The man I consideredmy closest friend,  ,has seized my homeand my brothers.,  ,I'm fighting a war and I don't knowif I should march south or north.,  ,I'm sorry.It was a stupid question.,  , I'm sorry.\",\n",
       " \"No.,  ,Forgive me.,  ,You're being kind.I have no right.,  ,You have every right.,  ,You're a king.,  ,That's not the kindof king I want to be.,  ,What kind do you want to be?,  ,I don't know.\",\n",
       " \"The good kind.,  ,Most kings grew up as princes.,  ,They spend their whole livespreparing for the crown.,  ,I was raised to beLord of Winterfell.,  ,I was raised to bea proper little lady,,  ,to play the harpand dance the latest steps,  ,and recite Valyrian poetry.,  ,I'd like to hear youplay the harp.,  ,No.\",\n",
       " \"No, you would not.,  ,( Laughs ),  ,How did you go fromreciting Valyrian poetry,  ,to sawing off men's feet?,  ,When I was ,,  ,my mother and fatherwent to a wedding.,  ,Weddings in Volantislast for days, you know.,  ,And they left mewith my little brother.,  ,The second afternoonthey were gone,  ,was the hottest dayin the threeyear summer.,  ,We couldn't bear to be inside,so we ran down to the Rhoyne.,  ,Every child in Volantiswas in the Rhoyne that day.,  ,The rich, the poor,we were all there,,  ,naked, screaming, racingto the little islands.,  ,Drummers were playingfor coppers on the east bank.,  ,I was treading water,,  ,talking to a friend,  ,when I realizedI hadn't seen my brother.,  ,I called his name.,  ,Then I startedscreaming his name.,  ,And then I saw him,  ,floating facedown.,  ,My heart just...\",\n",
       " \"stopped.,  ,I was...,  ,I dragged him from the water.,  ,My friend helped me, I think.,  ,I don't even remember.,  ,He was so little.,  ,Then we pulled himonto the riverbank...,  ,and I screamed at him,  ,and I shook him,  ,and he was dead.,  ,Just dead.,  ,A man ran over.,  ,He had a fishtattoo on his face.,  ,In Volantis the slaveshave tattoos,  ,so you know what they arewithout having to talk to them.,  ,And this man workedon a fishing boat.,  ,And he pushed me out of the way.,  ,You have to understand,,  ,for a slave to pusha highborn girl...,  ,That's death for the man,a terrible death.,  ,But he pushed me out of the way,  ,and he started pressingon my brother's chest,  ,again and again and again,  ,until my brother spat out,  ,half of the Rhoyne,  ,and cried out.,  ,And the man cradled his headand told him to be calm.,  ,I decided two things that day.,  ,I would not waste my years,  ,planning dances and masqueradeswith the other noble ladies.,  ,And when I came of age...,  ,I would never livein a slave city again.,  ,( Sighs ) I'm sorry, Your Grace.,  ,You told me of your problemsand I've blathered on.,  ,I don't want to marrythe Frey girl.,  ,I don't want you to marry her.,  ,But you needed that bridge.,  ,I hope it's a verybeautiful bridge.,  ,( Laughs ),  ,Hot Pie: The sour cherries was allcrushed up and ready.,  ,Gendry: Shut up.,  ,Probably in the piecrust by now.,  ,In the oven, the nice warm oven.,  ,Shut up.\",\n",
       " 'What did you bring?,  ,The cheese could be better.,  ,I did get some nice sausages.,  ,What did he want usto do about those guards?,  ,He didn\\'t say.,  ,He just said,\"walk through the gates.',\n",
       " '\",  ,Gendry: What about the guards?,  ,He didn\\'t say anythingabout the guards.,  ,What, he left that bit out?,  ,It\\'s a pretty important part,don\\'t you think?,  , We have to trust him.',\n",
       " 'Trust him?,  ,You trusted him to fight with usand you set him free,  , and he ran.',\n",
       " \"I want to go back to the kitchens.,  ,Shut up.Stay here if you're afraid.,  ,Hot Pie: Arry, don't.,  ,Away!\",\n",
       " \"Reset!,  ,If the wind holds, we'll reachKing's Landing in a day.,  ,Will it hold?,  ,Can't make promisesfor the wind, Your Grace.,  ,Man: Again, pull!,  ,I admire you, Ser Davos.,  ,I thank you, Your Grace.Pleased to hear it.,  ,Some highborn foolscall you Onion Knight,  ,and think they insult you.,  ,So you take the onionfor your sigil,,  ,sew it on your coat,fly the onion flag.,  ,My son wishes me to change it.,  ,Three mermen with tridents,something like that.,  ,I understand why the olderfamilies look down at me.,  ,Do you?\",\n",
       " 'Why?,  , My father was a crabber.',\n",
       " \"And?,  ,Well, sons of Lords don't like tobreak bread with sons of crabbers.,  ,Our hands stink.,  ,And where were those Lordswhen Storm's End starved?,  ,Many fought bravelyfor your brother.,  ,Many fought for the Mad King.,  ,You defend these menwho insult you behind your back.,  ,Some are happyto do it to my face.,  ,We were forgotten.,  ,Robert and Ned Stark...They were the heroes,,  ,the glorious rebels marchingfrom battle to battle,,  ,liberating towns fromthe yoke of the Mad King,  ,while I held Storm's Endwith  men.,  , No one has forgotten, Your Grace.\",\n",
       " 'No?',\n",
       " \"Robert did.,  ,He gave Storm's Endto Renly after the war.,  ,Renly never foughta day in his life.,  , He was only a boy.\",\n",
       " \"Then why'd he give him Storm's End?,  ,First we ate the horses.,  ,We weren't riding anyway,not with the castle surrounded.,  ,We couldn't feed them,so fine, the horses.,  ,Then the cats.\",\n",
       " 'Never liked cats.,  ,So fine.',\n",
       " 'I do like dogs.,  ,Good animals.',\n",
       " 'Loyal.,  ,But we ate them.',\n",
       " \"Then the rats.,  ,The night beforeyou slipped through,,  ,I thought my wife was dying.,  ,She couldn't speak anymore,she was so frail.,  ,And then you made itthrough the lines.,  ,Slipped right through in your littleblack sailboat with your onions.,  ,And potatoes.Some salted beef, I believe.,  ,Every man in Storm's Endwanted to kiss you that night.,  ,I was relieved they did not.,  ,Robert told me to holdStorm's End, so I held it.,  ,Then he told mehe was giving it to Renly,,  ,so I gave it up.,  ,Insult or no, I gave it up,  ,because Robert was my older brotherand he was the king,  ,and I've always done my duty.,  ,But now I'm the rightful king byevery law of Westeros.,  ,And when I sit the Iron Throne,you'll be my Hand.,  ,Your Grace...,  ,I pray I serve you well.,  ,I expect you'll be the first crabber'sson to wear the badge.,  ,You're the master of whisperers.,  ,You're supposedto know everything.,  ,No man can be in allrooms at all times.,  ,I have many little birdsin the North, My Lord,,  ,but I haven't heard their songs,  ,since Theon Greyjoycaptured Winterfell.,  ,The Stark forces are distracted.,  ,Now is the time to strike.,  ,To strike?,  ,My dear nephew,you do see these men,  ,preparing the walls for siege?,  ,You do understandStannis Baratheon sails this way?,  ,If my Uncle Stannis lands onthe shores of King's Landing,,  ,I'll ride out to greet him.,  ,A brave choice, Your Grace.,  ,I'm sure your menwill line up behind you.,  ,They say Stannis never smiles.,  ,I'll give him a red smile,  ,from ear to ear.,  ,Imagine Stannis's terror.,  ,I am trying.,  ,You're an intelligent man.,  ,I'd like to thinkI'm an intelligent man.,  ,Oh, no one disputesthat, My Lord,,  ,not even the multitudeswho despise you.,  ,I wish we could converseas two honest, intelligent men.,  ,I wish we could, too.,  ,What do you want?,  ,Tell me.,  ,If we're going to play,,  ,you'll have to start.,  ,My brother was the youngestKingsguard in history.,  ,My sister became queenat the age of .,  ,When I reached manhood,,  ,my father put mein charge of all the drains,  ,and cisterns in Casterly Rock.,  ,A most highborn plumber.,  ,The water never flowed better.,  ,And all the shitfound its way to the sea.,  ,I never expectedto have any real power.,  ,So when my fathernamed me acting Hand...,  ,You're quite goodat being Hand, you know?,  ,Jon Arryn and Ned Starkwere good men,,  ,honorable men,,  ,but they disdained the gameand those who played.,  , You enjoy the game.\",\n",
       " \"I do.,  ,Last thing I expected.,  ,And you play it well.,  ,I'd like to keep playing it.,  ,If Stannis breachesthe gates, the game is over.,  ,They say he burnshis enemies alive,  ,to honor the Lord of Light.,  ,The Lord of Lightwants his enemies burned,,  ,the Drowned Godwants them drowned.,  ,Why are all the Godssuch vicious cunts?,  ,Where is the Godof tits and wine?,  ,In the Summer Isles,,  ,they worship a fertilitygoddess with  teats.,  ,We should sail thereimmediately.,  ,This morning I heard a song,  ,all the way from Qarthbeyond the Red Waste.,  ,Daenerys Targaryen lives.,  ,A girl at the edge of the worldis the least of our problems.,  ,She has three dragons.,  ,But even if whatthey say is true,,  ,it'll be years beforethey are fully grown.,  ,And then there will benowhere to hide.,  ,One game at a time, my friend.,  ,( Men shouting ),  ,Jorah: Careful, Khaleesi.,  ,Xaro owns this cityand the warlocks have ,,  ,eyes watching for you.,  ,I found one...,  ,A ship with a good captain.,  ,She leaves for Astapor tomorrow.,  , Astapor?\",\n",
       " \"We cannot stay here.,  ,They have my dragons.,  ,A mother does not fleewithout her children.,  ,They're not your children.,  ,I know they call youthe Mother of Dragons,  ,and I know you love them, but youdidn't grow them in your womb.,  ,They didn't suckle at your breast.They are dragons, Khaleesi.,  ,And if we stayin Qarth, we'll die.,  ,You should sail to Astapor.I'm sure you'll be safe there.,  ,You know I would die for you.,  ,I will never abandon you.,  ,I'm sworn to protect you,to serve.,  ,Then serve me.,  ,If my dragons are inthe House of the Undying,,  ,then take me there.,  ,That's what the warlock wants.,  ,He told you so himself.,  ,If you enter that place,you will never leave again.,  , His magic is strong.\",\n",
       " 'And what of my magic?,  ,You saw me step into the fire.,  ,You watched the witch burn.What did the flames do to me?,  ,Do you remember?,  ,Until my last breathI will remember.,  ,After I have forgottenmy mother\\'s face.,  ,They are my children.,  ,And they are the onlychildren I will ever have.,  ,Take me to them.,  ,We should bury them.,  ,I\\'d leave \\'em upa few more days.,  ,Sends a message.,  ,If they haven\\'t gotthe damn message yet,,  ,a few more days won\\'t help.,  ,As you say.,  ,But it don\\'t hurt to let\\'em rot a while longer.,  ,What\\'s this?,  ,Gold for the farmer.,  ,For his trouble.,  ,His troubles are done.,  ,He\\'s feeding the crops now.,  ,His wife, too.,  ,You want to keep a mansilent, you silence him.,  ,Got as far as the farmand then doubled back.,  ,Walked through the streamto throw off the hounds.,  ,Hoped this would be thelast place they\\'d think to look.,  ,You\\'re right...,  ,so far.,  ,Who was that out there,  ,hung up the gates?,  ,Must have beenthe farmer\\'s boys.,  ,He killed them and burned them,  ,and passed them offas the little lords?,  ,Shh, shh, shh.,  ,They mustn\\'t know.,  ,Bran would blame himself.,  ,Osha: They\\'ll neverhear it from me.,  ,The little ladshave suffered enough.,  ,( Theme music playing ),  ,~[ Synced by <font color=\"#FF\"Bo\\xc5\\xbe\\xc3\\xad \\xc4\\x8e\\xc3\\xa1bel</font ]~,  ,<font color=\"#ffff\" size=www.tvsubtitles.net</font,  ,The tide\\'s against us.,  ,But we have the wind.,  ,Should blow us straight to the gate.,  , You\\'re coming home.',\n",
       " \"It hasn't been home for  years.,  ,I spent most of my lifedodging the royal fleet.,  ,And now I'm sailing right at them.,  ,This is the royal fleet.\",\n",
       " \"You're not asmuggler anymore, but the high captain.,  ,Of course there are several royal fleetsat the moment.,  ,Not after tonight.,  ,When the sun rises, Stannis will sit onthe Iron Throne and you'll be his Hand.,  , Gods be good.\",\n",
       " 'God.,  ,Father, there is only oneand he watches over us.,  , But not over them?',\n",
       " \"Over all of us.,  ,The people of King's Landing did notchoose the false king Joffrey Baratheon.,  ,They will be glad to seehis head on a spike.,  ,Well, first we have to put it there.,  ,Our ships outnumber theirs  to .,  ,Our army outnumber theirs  to .,  ,Those walls have never been breached.,  ,And the men guarding the walls,when they see you,,  ,they don't see a liberator.,  ,They see a strangercome to set their city on fire.,  ,I have faith in the Lord of Light.I have faith in our cause.,  ,And in my captain.,  , Are you afraid, my lion?,  ,If the city falls, Stannis will burnevery Lannister he can find.,  ,Of course I'm afraid.,  ,I won't let them hurt you.,  ,I'm a Lannister.,  ,I don't have a choice in all this.,  ,But it's not your war.,  ,It is now.,  ,You can't fuck your wayout of everything.,  ,I have so far.,  ,Do you remember what you saidwhen you met me in your tent?,  ,That I should make love to you likeit was your last day on this Earth.,  ,As you know, Your Grace, it is not onlythe sworn duty of a maester,  ,to carry out the wishesof the house he serves,,  ,but also to offer guidance,  ,and counsel in times of war.,  ,Your words are alwayswise and measured.,  , If you could...\",\n",
       " \"If anything,,  ,a maester's duties become more urgent,  ,in times of war and turmoil.,  ,I rememberback in the days of King...,  ,You brought me something?,  ,Essence of nightshade is as dangerous,  ,as it is efficacious.,  ,A single drop in a cup of wine,  ,suffices to soothe ragged nerves.,  ,Three drops will bring on a deepand dreamless sleep.,  ,  drops, however...\",\n",
       " \"I know what  drops will bring.,  , Your Grace, if I may ask... You may not.,  ,You must have a lot of work to do.,  ,I'm sure many brave menwill need your wisdom soon.,  ,Yes.\",\n",
       " \"A siege is very...,  ,Be careful on the stairs, grand maester.There are so many.,  ,And so he spoke,  ,that lord of castamere,  ,but now the rains,  ,weep o'er his halls,  ,with no one there to hear,  ,Yes, now the rains,  ,weep o'er his halls,  ,and not a soul to hear.,  ,To the boys!,  ,Lannisters!,  ,Where'd you learn the Lannister song?,  ,Drunk Lannisters.,  , You've got a pretty voice.\",\n",
       " \"Thank you very much.,  ,And I like your nose.,  ,How many times you break it?,  ,Well, now let's see.,  ,First time I was five.,  ,Me mom smacked mewith an iron poker.,  ,It wasn't me she was aiming at.,  ,She was trying for me little brother.Now he was a real pest.,  ,Second time I was nine.,  ,Got in a scrap with a few older boys.,  ,They won.,  ,Third time...,  ,You don't want to knowabout the third time.,  ,Poor nose.,  ,Don't feel sorry for him.,  ,He'll be halfway up your assbefore the night's through.,  ,Welcome, friends.,  ,This round's on me.,  ,I don't think he likes me.,  ,You think you're a hard man?,  ,I know it.,  ,It's warm in here.,  ,We've got beautiful womenand good brown ale.,  ,Plenty for everyone.,  ,And all you want,  ,is to put one of usin the cold ground,  ,with no women to keep us company.,  ,There's women in the ground.,  ,I put some there myself.So have you.,  ,You like fucking and drinking,  ,and singing.,  ,But killing...,  ,Killing's the thing you love.,  ,You're just like me.,  ,Only smaller.,  ,And quicker.,  ,Your Lord Imp is gonna miss you.,  ,I expect he will someday.,  ,One more drink before the war?,  ,Shall we?,  ,I've always hated the bells.They ring for horror...,  ,A dead king, a city under siege.,  , A wedding.\",\n",
       " 'Exactly.,  ,Podrick, is that it?,  ,\"Is that it?',\n",
       " '\"Nice touch.,  ,As if you don\\'t knowthe name of every boy in town.,  ,I\\'m not entirely surewhat you\\'re suggesting.,  ,I\\'m entirely sure you\\'re entirely surewhat I\\'m suggesting.,  ,Do you trust him?,  ,Oddly enough, I do.,  ,Good.,  ,The map you asked for.,  ,There must be  miles of tunnelsbeneath the city.,  ,Closer to .,  ,The Targaryens built this cityto withstand a siege,  ,and to provide escape if necessary.,  ,I\\'m not escaping.,  ,I\\'m the captain of the ship.If the ship goes down, I go with her.,  ,That is good to hear.,  ,Though I\\'m sure many captainssay the same while their ship is afloat.,  , You look well suited for battle.',\n",
       " \"Well, I'm not.,  ,For all our sakes,I hope you are wrong.,  ,My little birds tell methat Stannis Baratheon,  ,has taken upwith a red priestess from Asshai.,  ,What of it?,  ,You don't believein the old powers, my Lord?,  ,Blood spells, curses, shapeshifting.What do you think?,  ,I think you believe in what you see,  ,and in what thoseyou trust have seen.,  ,You probably don't entirely trust me.,  ,Don't take it personally.I don't entirely trust myself.,  ,And yet I have seen things,  ,and heard things...things you have not,,  ,things I wish I had not.,  ,I don't believeI've ever told you how I was cut.,  ,No, I don't believe you have.,  ,One day I will.,  ,The dark arts have providedLord Stannis with his armies,  ,and paved his path to our door.,  ,For a man in a service to such powersto sit on the Iron Throne,,  ,I can think of nothing worse.,  ,And tonight, I believe,  ,you are the only manwho can stop him.,  ,They're welcoming the new King.,  ,I've never known bellsto mean surrender.,  ,They want to play music with us?Let's play.\",\n",
       " 'Drums.,  ,Drums!,  , Remember, wait till...',\n",
       " 'The ships are in the bay.,  , They must be far enough in...',\n",
       " 'I know what \"in\" means.,  , Do you know how to use that?',\n",
       " \"I chopped wood once.,  ,No, I watched my brotherchopping wood.,  ,I saw you kill a man with a shield.You'll be unstoppable with an axe.,  , Don't get killed.\",\n",
       " 'Nor you, my friend.,  , Are we friends now?',\n",
       " \"Of course we are.,  ,Just because I pay youdoesn't diminish our friendship.,  ,Enhances it, really.,  ,Oh, enhances.Fancy word for a sellsword.,  ,Been spending time with fancy folks.,  ,Lady Sansa and Sheila.,  ,Shae.,  ,Shae, yes.,  ,Surely my sister has asked you to jointhe other ladies in Maegor's holdfast.,  ,She has, my Lord, but King Joffreysent for me to see him off.,  ,He's been a great romantic,my nephew.,  ,Sansa, come here.,  ,I will pray for your safe return,my Lord.,  ,Will you?,  ,Just as I pray for the King's.,  ,Stay safe, my Lady.,  ,And you, my lion.,  ,Your King rides forth to battle.,  ,You should see him off with a kiss.,  ,My new blade.,  ,Hearteater I've named it.,  ,Kiss it.,  ,You'll kiss it again when I returnand taste my Uncle's blood.,  ,Will you slay him yourself?,  ,If Stannis is fool enoughto come near me.,  ,So you'll be outside the gatesfighting in the vanguard?,  ,A King doesn't discuss battle planswith stupid girls.,  ,I'm sorry, Your Grace.You're right, I'm stupid.,  ,Of course you'll be in the vanguard.,  ,My brother Robb always goeswhere the fighting is thickest.,  , And he is only a pretender.\",\n",
       " \"Your brother's turn will come.,  ,Then you can lick his bloodoff hearteater, too.,  ,Some of those boyswill never come back.,  ,Joffrey will.,  ,The worst ones always live.,  ,Come, my Lady.,  ,Where's our fleet?,  ,On the way.,  ,Why isn't it here now?They're coming.,  ,Hound, tell the Hand that his Kinghas asked him a question.,  ,The King has asked you a question.,  ,Ser lancel, tell the Hound to tell theKing that the Hand is extremely busy.,  ,The Hand of the King would like meto tell you to tell the King...,  ,If I tell the hound to cut you in half,he'll do it without a second thought.,  ,That would make me the quarterman.It doesn't have the same ring to it.,  ,Cut me in halfand I won't be able to give the signal.,  ,No signal, no plan.No plan and Stannis Baratheon,  ,sacks this city,takes the Iron Throne,,  ,puts your pinched littlehead atop a gate somewhere.,  ,It might be quite amusing, exceptthat my head would be up there, too.,  ,I've never much liked my head,but I don't want to see it removed yet.,  ,Where are their ships?,  ,It is wise to attack at night.We took them by surprise.,  ,Lord Varys knows what you hadfor breakfast three days ago.,  ,There are no surprises here.,  ,There is dissention in their ranks,maybe their sailors have mutinied.,  ,Maybe.,  ,I don't know why she wants me here.,  ,She's always saying how stupid I am.She hates me.,  ,Maybe she hates youless than she hates everyone else.,  ,I doubt it.,  ,Maybe she's jealous of you.,  ,Why would she be jealous?,  ,I was wonderingwhere our little dove had flown.,  ,You look pale, child.,  ,Is your red flower still blooming?,  ,Fitting, isn't it?,  ,The men will bleed out thereand you will bleed in here.,  ,Pour Lady Sansa some wine.,  , I'm not thirsty.\",\n",
       " \"So?,  ,I didn't offer you water.,  ,What's he doing here?,  ,Ser Ilyn?,  ,He's here to defend us.,  ,When the axes smash down those doors,you may be glad to have him.,  , But we have guards to defend us.\",\n",
       " \"Guards we have paid.,  ,Should the city fall, they'll bethe first ones out of the doors.,  ,The lads caught a groom and two maidstrying to sneak away,  ,with a stolen horseand some gold cups.,  ,The battle's first traitors.,  ,Have ser ilyn see to them.,  ,Put their heads on spikesoutside the stables as a warning.,  ,The only way to keep the small folkloyal is to make certain they fear you,  ,more than they do the enemy.Remember that,,  ,if you ever hope to become a queen.,  ,You said he was here to protect us.,  ,He is.,  ,Traitors are a danger to us all.,  ,More wine.,  ,There they are.,  , Archers to their marks.\",\n",
       " \"Archers, to your marks!,  ,Nock your arrows!,  ,Hold fast.,  ,What are you doing?We need to attack them.,  ,Hold fast.,  ,There's only one ship.Where are the rest of them?,  ,Where are the rest of them?\",\n",
       " '!,  ,Only one ship.,  ,Archers, stand to!,  ,Man the below!,  , Nock!',\n",
       " 'Nock and set!,  ,Draw!,  ,Hold.,  ,No one on board.,  ,Wildfire.,  ,Steer clear!Steer clear!,  ,Matthos, get down!,  ,Prepare to land.,  ,The dwarfhas played his little trick.,  , The wildfire...',\n",
       " \"He can only play it once.,  ,We're too far from the gates.,  ,The fire, their archers...,  ,Hundreds will die.,  ,Thousands.,  ,Come with me and take this city!,  ,Sansa, come here, little dove.,  ,My Queen.,  ,What are you doing?,  ,Praying.,  ,You're perfect, aren't you?Praying.,  ,What are you praying for?,  ,For the Gods to have mercy on us all.,  ,On all of us?,  ,Even me?,  ,Of course, Your Grace.,  ,Even Joffrey?,  , Joffrey is my...\",\n",
       " \"Shut up, you little fool.,  ,Praying to the Godsto have mercy on us all.,  ,The Gods have no mercy.That's why they're gods.,  ,My father told me thatwhen he caught me praying.,  ,My mother just died, you see.,  ,I didn't really understand the conceptof death, the finality of it.,  ,I thought that if I prayedvery, very hard,,  ,the Gods would return mymother to me.I was four.,  ,Your father doesn'tbelieve in the Gods?,  ,He doesn't like them very much.,  ,One for her.,  ,Here.,  ,Sit.,  ,Drink.,  ,Not like that.\",\n",
       " \"Drink, girl.,  ,I should have been born a man.,  ,I'd rather face , swordsthan be shut up inside,  ,with this flock of frightened hens.,  ,They are your guests underyour protection.\",\n",
       " \"You asked them here.,  ,It was expected of me,,  ,as it will be of you if youever become Joffrey's Queen.,  ,If my wretched brothershould somehow prevail,,  ,these hens will return to their cocks,  ,and crow of how my courageinspired them, lifted their spirits.,  ,And if the city should fall?,  ,You'd like that, wouldn't you?,  ,The red keep should hold for a time,,  ,long enough for me to go to the wallsand yield to Lord Stannis in person.,  ,If it were anyone elseoutside those gates,,  ,I might have hoped for a private audience.But this is Stannis Baratheon.,  ,I'd have a better chanceof seducing his horse.,  ,Have I shocked you, little dove?,  ,Tears aren't a woman's only weapon.,  ,The best one's between your legs.,  ,Learn how to use it.Drink.,  ,Do you have any notion of what happenswhen a city is sacked?,  ,No, you wouldn't, would you?,  ,If the city falls, these fine women,  ,should be in for a bit of a rape.,  ,Half of them will have bastards,  ,in their bellies come the morning.,  ,You'll be gladof your red flower then.,  ,When a man's blood is up,,  ,anything with tits looks good.,  ,A precious thing like you will look,  ,very, very good.,  ,A slice of cakejust waiting to be eaten.,  ,He's a serious man...Stannis Baratheon.,  ,They're coming ashore.,  ,Rain fire on them.,  ,Archers!,  ,There are too many.,  ,Form a welcome party for any Baratheontroop that manages to touch solid ground.,  ,Pod,,  ,run to the king's gate,bring any men guarding it here now.,  ,Stannis is sending us fresh meat.,  ,You, too.,  ,Any of these flamingfucking arrows come near me,,  ,i'll strangle you with your own guts.,  ,The mud gate, go now!,  ,First and second squads, to the gate!To the mud gate!,  ,Any man dies with a clean sword,,  ,I'll rape his fucking corpse.,  ,When we were young, Jaime and I,we looked so much alike.,  ,Even our fathercouldn't tell us apart.,  ,I could never understandwhy they treated us differently.,  ,Jaime was taught to fightwith sword and lance and mace,,  ,and I was taught to smile,  ,and sing and please.,  ,He was heir to casterly rock,  ,and I was sold to some stranger like ahorse to be ridden whenever he desired.,  ,You were Robert's Queen.,  ,And you will be joffrey's.Enjoy.,  ,I don't think I know this one.,  ,Pretty.,  ,That's the worst curtsyI've ever seen.,  ,Here, it's not difficult.I mastered it when I was four.,  ,Straighten your back and bend.,  ,Better.You learn fast.,  ,How long have you beenin Lady Sansa's service?,  ,A few weeks.,  ,When did you leave Lorath?,  ,I had a Lorathi handmaiden once.,  ,But she was a nobleman's daughter.,  ,You're not.,  ,When did you come to Westeros?,  , years ago, Your Grace.,  ,From Lorathi commonerto the Red Keep,  ,in  years, all withoutlearning how to curtsy.,  ,I imagine that'sa very interesting story.,  ,What's your name?,  ,Shae, Your Grace.,  ,Tell us a story, Shae.,  ,When I was , I...,  ,What news?,  ,The Imp has set the river afire.,  ,Hundreds of ships are burning,maybe more.,  ,Stannis's fleet destroyed, but...,  ,But his troopshave landed outside the city walls.,  ,Where is Joffrey?,  ,On the battlements with Lord Tyrion.,  ,Bring him back inside at once.,  , But, Your Grace...\",\n",
       " \"What?,  ,The King's presenceis good for morale.,  , Bring him back to his chambers now.\",\n",
       " 'Not here?,  ,With the women and children?Do you want him to be mocked?,  , No, but I...',\n",
       " \"Now!,  ,When I told youabout ser Ilyn earlier, I lied.,  ,Do you want to hear the truth?,  ,You want to know whyhe's really here?,  ,He's here for us.,  ,Stannis may take the city,he may take the throne,,  ,but he will not take us alive.,  ,Get the ladders up!,  ,Faster, you bastards!Faster!,  ,Come on, kill the scum!,  ,Someone bring me a drink.,  ,Fuck the water.Bring me wine.,  ,Can I get you some iced milkand a nice bowl of raspberries, too?,  ,Eat shit, dwarf.,  ,You're on the wrong side of the wall.,  ,I lost half my men.,  ,The Blackwater's on fire.,  ,Dog, I command youto go back out there and fight.,  ,You're kingsguard, Clegane.,  ,You must beat them backor they're going to take this city.,  ,Your King's city.,  ,Fuck the kingsguard.,  ,Fuck the city.,  ,Fuck the King.,  ,The queen has sent meto bring you back to the Red Keep.,  ,If you won't defend your own city,why should they?,  , What would you have me do?\",\n",
       " \"Lead.,  ,Get down there and lead your peopleagainst the invaders.,  ,What did my mother say exactly?Did she have urgent business with me?,  ,She did not say, Your Grace.,  ,Ser Boros, ser Mandon,,  ,stay with my Uncle and representthe king on the field of battle.,  ,Where is the King?,  , Why isn't he with us?\",\n",
       " \"Who are we fighting for?,  ,Who leads us?,  ,I'll lead the attack.,  ,I'll lead!,  ,What are you talking about?,  ,My helmet.,  ,You will bear the King's banner.Men, form up.,  ,They say I'm half a man.,  ,But what does that makethe lot of you?,  ,The only way out is through the gates.And they're at the gates.,  ,There's another way out.I'm going to show you.,  ,We'll come out behind themand fuck them in their asses.,  ,Don't fight for your Kingand don't fight for his Kingdoms.,  ,Don't fight for honor.Don't fight for glory.,  ,Don't fight for riches,because you won't get any.,  ,This is your cityStannis means to sack.,  ,That's your gate he's ramming.,  ,If he gets in,it will be your houses he burns,,  ,your gold he steals,,  ,your women he will rape.,  ,Those are brave menknocking at our door.,  ,Let's go kill them.,  ,The battle is lost, Your Grace.,  ,Stannis's troops are at the gates.,  ,When the gold cloaks sawthe king leaving, they lost all heart.,  ,Where is my son?,  ,I want to escort himback to the battle.,  ,Why do I care what you want?,  , Bring me.\",\n",
       " \"Now listen to me.,  ,Don't be afraid.,  ,The queen has raised the drawbridge.This is the safest place we can be.,  ,Joffrey's not hurt.He's fighting bravely.,  ,His knights have rallied behind him.They will save the city.,  ,Shall we sing a hymn?,  ,Gentle mother,  ,font of mercy,  ,save our sons from war, we pray,  ,gentle...,  ,You must go.,  ,Run to your chamber.,  ,And bar your door.Stannis won't hurt you.,  ,This one will.,  ,Come with me.,  ,I need to say goodbye to someone.,  ,The Queen said they'd rape everyone.,  ,No one is raping me.,  ,Go.\",\n",
       " \"Run.,  ,The lady is starting to panic.,  ,What are you doing here?,  ,Not here for long.,  ,I'm going.,  ,Where?,  ,Someplace that isn't burning.,  ,North, might be.,  ,Could be.,  ,What about the King?,  ,He can die just fine on his own.,  ,I can take you with me.,  ,Take you to Winterfell.,  ,I'll keep you safe.,  ,Do you want to go home?,  ,I'll be safe here.,  ,Stannis won't hurt me.,  ,Look at me.,  ,Stannis is a killer.,  ,The lannisters are killers.,  ,Your father was a killer.,  ,Your brother is a killer.,  ,Your sons will be killers someday.,  ,The world is built by killers.,  ,So you'd better get usedto looking at them.,  ,You won't hurt me.,  ,No, little bird, I won't hurt you.,  ,Come on, you bastards!Get up those ladders!,  ,Attack!,  ,Roll it over!,  ,Halfman!\",\n",
       " \"Halfman!,  ,Fuck me.,  ,Be calm, my sweet.,  ,They're still fighting.,  ,No one's going to hurt you.,  ,I'll tell you a story.,  ,You know the one about the mother lionand her little cub?,  , They lived in the woods.\",\n",
       " 'The Kingswood?,  ,Yes, my love.,  ,In the Kingswoodthere lived a mother and her cub.,  ,She loved him very much.,  ,But there were other thingsthat lived in the woods.',\n",
       " 'Evil things.,  ,Like what?,  ,Like stags.,  ,Stags aren\\'t evil.,  ,They only eat grass.,  ,And wolves.,  ,My lord.,  ,He could hear themhowling in the night.,  ,The little cub was frightened.,  ,His mother said,,  ,\"You are a lion, my son.You mustn\\'t be afraid.,  ,\"For one dayall the beasts will bow to you.,  ,\"You will be king.,  ,\"All the stags will bow.All the wolves will bow.,  ,\"The bears in the northand the foxes of the south,,  ,\"all the birds in the skyand the beasts in the sea...,  ,\"they will all come to you,little lion...,  ,\"To rest a crown upon your head.',\n",
       " '\",  ,And the cub said,,  ,\"Will I be strong and fiercelike my father?',\n",
       " '\",  ,\"Yes,\" said his mother.,  ,\"You will be strong and fiercejust like your father.',\n",
       " '\",  ,I will keep you safe,,  ,my love.,  ,I promise you.,  ,Back to the boats!,  ,Stand and fight!,  ,Stand and fight, damn you!,  ,Father.,  ,The battle is over.We have won.,  ,\"And who are you,\"the proud lord said,  ,\"that I must bow so low?,  ,Only a cat of a different coat,  ,that\\'s all the truth I know,  ,in a coat of gold or a coat of red,  ,a lion still has claws,  ,and mine are long and sharp, my lord,  ,as long and sharp as yours\",  ,and so he spoke, and so he spoke,  ,that lord of Castamere,  ,but now the rains weep o\\'ver his hall,  ,with no one there to hear,  ,yes, now the rains weep o\\'er his hall,  ,and not a soul to hear.,  ,lafabrique.fbk (at) gmail.com,  ,<font color=\"#ffff\" size=www.tvsubtitles.net</fontPod.,  ,Pod!,  ,Find Bronn or Varys.,  ,Tell them I am herewith Maester Pycelle.,  ,Tell them I amvery much alive.,  ,Yes, My Lord.,  ,Would you likesomething for the pain?,  ,What happened?,  ,The murderer and traitorStannis Baratheon,  ,suffered a stunning defeatat the hands of your father.,  ,Where am I?,  ,These are your new chambers.,  ,A little cramped,perhaps,,  ,but you don\\'t needmuch room, do you?,  ,You are no longerHand of the King.,  ,Oh.,  ,For your trouble.,  ,I, Joffrey of the HouseBaratheon, first of my name,,  ,the rightful Kingof the Andals,  ,and the First Men,,  ,Lord of the SevenKingdoms,  ,and protectorof the Realm,,  ,do hereby proclaimmy grandfather,  ,Tywin Lannisterthe savior of the city,  ,and the Hand of the King.,  ,Thank you, Your Grace.,  ,Lord Petyr Baelish,step forward.,  ,For your good serviceand ingenuity,  ,in uniting the Housesof Lannister and Tyrell,,  ,I declare that you shall be grantedthe castle of Harrenhal...,  ,With all its attendantlands and incomes,  ,to be held by your sonsand grandsons,  ,from this day untilthe end of time.,  ,You honor mebeyond words, Your Grace.,  ,I shall have to acquiresome sons and grandsons.,  ,Ser Loras Tyrell.,  ,Your House has cometo our aid.,  ,The whole realmis in your debt,,  ,none more so than I.,  ,If your family would askanything of me, ask it,  ,and it shall be yours.,  ,Your Grace,,  ,my sister Margaery,,  ,her husband was takenfrom us before...,  ,She remains innocent.,  ,I would ask you tofind it in your heart,  ,to do us the great honorof joining our Houses.,  ,Is this what you want,Lady Margaery?,  ,With all my heart,Your Grace.,  ,I have come to loveyou from afar.,  ,Tales of yourcourage and wisdom,  ,have never beenfar from my ears.,  ,And those tales have takenroot deep inside of me.,  ,Well, I too have heard talesof your beauty and grace,,  ,but the tales,  ,do not do you justice,My Lady.,  ,It would be an honorto return your love,,  ,but I am promisedto another.,  ,A King must keephis word.,  ,Your Grace, in the judgmentof your small council,,  ,it would be neitherproper nor wise,  ,for you to wed the daughterof a man beheaded for treason,,  ,a girl whose brotheris in open rebellion,  ,against the throneas we speak.,  ,For the goodof the realm,,  ,your councilorsbeg you...,  ,to set Sansa Stark aside.,  , Margaery!',\n",
       " \"We want Margaery!,  ,I would like to heedyour wishes,  ,and the wishesof my people,,  ,but I tooka holy vow.,  ,Your Grace,,  ,the Gods do indeedhold betrothal solemn,,  ,but your father,blessed be his memory,,  ,made this pactbefore the Starks,  ,revealed their falseness.,  ,I have consultedwith the High Septon,  ,and he assures me that theircrimes against the realm,  ,free you from any promiseyou have made to them,  ,in the sightof the Gods.,  ,The Gods are good.,  ,I am freeto heed my heart.,  ,Ser Loras, I will gladlywed your sweet sister.,  ,You will be my Queen,  ,and I will love youfrom this day,  ,until my last day.,  ,My Lady.,  ,My sincerest condolences.,  ,They're rightI'm not good enough for him.,  ,You shouldn't say that.,  ,You'll be good enoughfor many things.,  ,He'll still enjoybeating you.,  ,And now thatyou're a woman,,  ,he'll be able to enjoy youin other ways as well.,  ,But if he's notmarrying me,  ,He'll let you go home?,  ,Joffrey's not the sort of boywho gives away his toys.,  ,You have a tender heart,,  ,just like your motherdid at your age.,  ,I can see so muchof her in you.,  ,She was likea sister to me.,  ,For her sake,,  ,I'll help get you home.,  ,King's Landingis my home now.,  ,Look around you.,  ,We're all liars here.,  ,And every one of usis better than you.,  ,Come in.,  ,Make yourselfcomfortable.,  ,That doesn't lookvery comfortable.,  ,Here, watch me.,  ,No need for that,my dear.,  ,You sure?,  ,Most men likewhat they see.,  ,I'm not likemost men.,  ,That's what most men say.,  ,If you don't wantwhat most men want,,  ,then you'd better tell mewhat you'd like me to do.,  ,I would like you to tell meif working for Lord Baelish,  ,has been all you'dhoped it would be.,  ,Have we met?,  ,You wouldn'tremember me if we had?,  ,I meet a lot of men.,  ,And I think youremember all of them.,  ,I think your true talentsare wasted on them.,  ,You're very kind,My Lord.,  ,Allow me to returnthe favor.,  ,You're afraid.,  ,Why?Nothing dangerous down there.,  ,I know who you are.,  ,And, unlike yourcurrent employer,,  ,I protect thosewho work for me.,  ,I don't abuse themto satisfy royal whims,  ,or force themto abuse each other.,  ,How do you knowabout that?,  ,I thought you saidyou knew who I was.,  ,What can I do for you,Lord Varys?,  ,Littlefinger looks at you,  ,and sees a collectionof profitable holes.,  ,I see a potentialpartner.,  , I'm afraid of him.\",\n",
       " \"Oh, you should be.,  ,He's a dangerous man.,  ,But everyone hastheir weaknesses.,  ,Your current employerhides his very well,,  ,but not as wellas he thinks.,  ,You're a virgin,I take it?,  ,Walk.,  ,Childhood must havebeen awful for you.,  ,Were you a foot tallerthan all the boys?,  ,They laughed at you,called you names?,  ,Some boyslike a challenge.,  ,One or two must havetried to get inside big Brienne.,  , One or two tried.\",\n",
       " \"Ah.,  ,But you fought them off.,  ,But maybe you wished oneof them could overpower you,,  ,fling you down,tear off your clothes.,  ,But none of themwere strong enough.,  , I'm strong enough.\",\n",
       " \"Not interested.,  ,Of course you are.,  ,You'd love to know what itfeels like to be a woman.,  ,Ah.\",\n",
       " '\"They laywith lions.',\n",
       " '\",  ,Tavern girls, I\\'d say.,  ,Probably servedmy father\\'s soldiers.,  ,Maybe one of themgave up a kiss and a feel.,  ,That\\'s howthey earned this.,  ,The glorious work of thenorthern freedom fighters.,  ,Must make you proudto serve the Starks.,  ,I don\\'t serve the Starks.I serve Lady Catelyn.,  ,Tell yourself that tonightwhen they swing in your dreams.,  , What are you doing?',\n",
       " \"Burying them.,  ,We shouldn't stay here.We should get back on the river.,  ,I think these womenwould understand if,  ,I don't carewhat you think.,  ,I didn't leave it here.,  ,Untie me now.,  ,I gave it to you to cutthe rope, and now I don't,  ,have me dagger no more.,  ,So unless it got stuck in your asson its way to your cunt,,  ,it stands to reasonthat it's gone whoa!,  ,What's your business here?,  ,Traveling a prisoner.,  ,You're a woman.A woman!,  ,Well, fuck me!,  ,If you've quitefinished up,  ,All right,we'll be going.,  ,Whoa, whoa.,  ,Who do you fight for?,  ,The Starks.,  ,What did he do?,  ,Apparently eating is now a crime.Who knew?,  ,No, stealing is a crime.,  ,But it's not a crime to starve.That's justice for you.,  , Where are you taking him?\",\n",
       " \"To Riverrun.,  ,Why Riverrun?,  ,Steal from the Tullys,it's their dungeons you rot in.,  , Why not kill him?\",\n",
       " \"For stealing a pig?,  ,I don't give the orders.,  ,He must be importantto someone.,  ,Sending him with you?How important could he be?,  ,All right,have it your way,,  ,m'lady.,  , Do I know you?\",\n",
       " 'Have you been to Ashemark?,  , No.',\n",
       " \"Then you don't know me.,  ,Do you ever go to the rivermarket at Salt Rock?,  , Is it near Ashemark?\",\n",
       " \"No.,  ,I've never been there.,  ,What do you thinkof these beauties?,  ,I hope you gave themquick deaths.,  ,Two of them we did, yeah.,  ,Wait.,  ,I do know you.,  ,That's Jaime Lannister.,  ,I wish someone had told me.,  ,I wouldn't have hadto steal that pig.,  ,If this is the Kingslayer,I think I'd know about it.,  ,How do you know whatthe Kingslayer looks like?,  ,I was at Whispering Wood.I saw him.,  ,They dragged him out of the woodsand threw him down before the King.,  ,He's not the Kingslayer.Sorry to disappoint you.,  ,If he was, I'd onlybe traveling his head.,  ,I have a questionfor you both.,  ,And I want you to answer itat the same time.,  ,I count to three,you both answer.,  ,What's his name?,  ,One.,  ,Two.\",\n",
       " \"Three.,  ,Two quick deaths.,  ,Those were Stark men.,  ,I don't serve the Starks.,  ,I serve Lady Catelyn.,  ,I told her I'd take youto King's Landing,,  ,and that's whatI'm going to do.,  ,Stay.,  ,Walder Frey is a dangerousman to cross.,  ,I know that.,  ,And you meanto do it anyway?,  ,I love her.,  ,I know that seemsimportant to you.,  ,It is important to me.,  ,Your father didn't loveme when we married.,  ,He hardly knew meor I him.,  ,Love didn't justhappen to us.,  ,We built it slowlyover the years,,  ,stone by stone,,  ,for you, for yourbrothers and sisters,,  ,for all of us.,  ,It's not as exciting assecret passion in the woods,,  ,but it is stronger.,  ,It lasts longer.,  ,And that is whatwould be in store for me,  ,with one ofWalder Frey's daughters,,  , what you and father had?\",\n",
       " \"Why not?,  ,Because she's not beautiful?,  ,Because she's not exoticand exciting?,  ,Now you're arguing just to arguebecause you arranged it.,  ,And you agreed to it.,  ,You gave him your word.,  ,Treat your oaths recklessly andyour people will do the same.,  ,If your father livedhis life for one thing,  ,My father is dead.,  ,And the only parentI have left has no right,  ,to call anyone reckless.,  ,You said you sawmy victory in the flames.,  ,I did.,  , I still see it.\",\n",
       " 'The flames lied.,  ,And I\\'m no betterthan a savage,  ,trusting in a Fire God.,  ,I fought for your Godin Blackwater Bay.,  ,I led my men to the gatesof the Seventh Hell,  ,as their brothers burnedalive, and for what?,  ,Attacked from behind byTywin Lannister and the Tyrells.,  ,If you see so much in your flames,why didn\\'t you warn me?,  ,The Lord of Lightonly allows me glimpses.,  ,You claimed to speakfor a God.,  ,Will you quit the war justbecause you\\'ve lost a battle?,  ,You talk about waras if you understand it.,  ,I\\'ve been fightingfar longer than you.,  ,Have you?Show me how you fight.,  ,Show me.,  ,Where\\'s your God now?,  ,Will he save you?,  ,Where is your God?,  ,Inside you.,  ,I murdered my brother.,  ,We murdered him.,  ,Share the weightwith me.,  ,He wasn\\'t your brother.,  ,This warhas just begun.,  ,It will last for years.,  ,Thousands will dieat your command.,  ,You will betraythe men serving you.,  ,You will betrayyour family.,  ,You will betray everythingyou once held dear.,  ,And it will allbe worth it,  ,because you arethe Son of Fire.,  ,You are the Warriorof Light.,  ,You will sweep asidethis pretender and that one.,  ,You will be King.,  ,You promisethese things, but...,  ,you don\\'t know.,  ,None of us know.,  ,Let me show you.,  ,Look into the fire,my King.,  ,Look.,  ,I see fire.,  ,Keep looking.,  ,Do you see?,  ,Do you see, my King?,  ,Yes.,  ,I will kill that man.,  ,I don\\'t care how many arrowsthey feather me with,,  ,how many spearsthey run through me,,  ,I will kill that hornblowingcunt before I fall.,  ,They want you to knowyou\\'re surrounded.,  ,I know I\\'m surrounded.,  ,I know that because I stoodon the battlements,  ,and saw I was surrounded.,  ,They don\\'t wantyou to sleep.,  ,They want to sapyour spirit before,  ,Thank you, wise bald man.,  ,Thank you for explainingsiege tactics to me.,  ,No word from my father?,  ,No.,  ,Send more ravens.,  ,You killedall the ravens.,  ,The first timeI saw Winterfell...,  ,The first timeI saw Winterfell,,  ,it looked like somethingthat had been here for,  ,thousands of years,  ,and would be herefor thousands of years,  ,after I was dead.,  ,I saw itand I thought,,  ,\"of course Ned Starkcrushed our rebellion,  ,and killed my brothers.,  ,We never stood a chance againsta man who lives here.',\n",
       " '\",  ,Lord Stark went out of his wayto make it your home.,  ,Yes, my captors wereso very kind to me.,  ,You lovereminding me of that.,  ,Everyone in thisfrozen pile of shit,  ,has always lovedreminding me of that.,  ,You know what it\\'s liketo be told how lucky you are,  ,to be someone\\'s prisoner?,  ,To be told how muchyou owe them?,  ,And then to go back hometo your real father...,  ,I will kill that man.,  ,I swear it tothe Drowned God,,  ,the Old Gods,the New Gods,,  ,to every fucking Godin every fucking heaven,,  ,I will kill that man.,  ,Theon, listen to me.,  ,I serve Winterfell.,  ,Now Winterfell is yours.,  ,I\\'m bound by oathto serve you.,  ,And what\\'s your counsel,trusted friend?,  ,Run.,  , Northmen waitoutside the walls.,  ,You have  men.,  ,You can\\'t win.,  ,Wait for nightfalland run.,  ,There\\'s nowhere to run.,  ,I\\'d never make it backto the Iron Islands.,  ,And even if I did,even if by some miracle,  ,I slipped through the linesand made it home,,  ,I\\'d be a coward.,  ,The Greyjoy who ran.,  ,The shame of the family.,  ,Don\\'t go home.,  ,Join the Night\\'s Watch.,  ,Once a manhas taken the Black...,  ,he\\'s beyond reachof the law.,  ,All his past crimesare forgiven.,  ,I won\\'t make itto the Wall.,  ,I won\\'t make it  feetpast the Winterfell gates.,  ,There are ways.,  ,Hidden passageways builtso the Lords of Winterfell,  ,could escape.,  ,The road will be dangerous.,  ,But with a little luck...,  ,the Night\\'s Watch is an ancient,honorable order.,  ,You\\'ll haveopportunities there.,  ,The opportunity for Jon Snowto cut my throat in my sleep.,  ,The opportunity to makeamends for what you\\'ve done.,  ,I\\'ve done a lot,haven\\'t I?,  ,Things I neverimagined myself doing.,  ,I\\'ve known you many years,Theon Greyjoy.,  ,You\\'re not the manyou\\'re pretending to be.,  ,Not yet.,  ,You may be right.,  ,But I\\'ve gone too farto pretend to be anything else.,  ,You hear that?,  ,That\\'s the mating callof the Northmen.,  ,They want to fuck us.,  ,Well, I haven\\'t hada good fuck in weeks.,  ,I\\'m ready for one.,  ,They say every Ironborn man isworth a dozen from the mainland.,  ,Aye!,  , You think they\\'re right?',\n",
       " 'Aye.,  ,We die today, brothers.,  ,We die bleedingfrom  wounds,  ,with arrows in our necksand spears in our guts,,  ,but our war cries will echothrough eternity.,  ,They will sing aboutthe battle of Winterfell,  ,until the Iron Islands haveslipped beneath the waves.,  ,Every man, woman, and childwill know who we were,  ,and how long we stood.,  ,Aggar and Gelmarr;,  ,Wex and Urzen;,  ,Stygg and Black Lorren,  ,Ironborn warriorswill cry out our names,  ,as they leap onto the shoresof Seagard and Faircastle.,  ,Aye!,  , Mothers will name their sons for us.',\n",
       " 'Aye!,  ,Girls will think of uswith their lovers inside them.,  ,Aye!,  ,And whoever killsthat fucking hornblower,  ,will stand in bronzeabove the shores of Pyke!,  ,Aye!,  , What is dead may never die!',\n",
       " \"What is dead may never die!,  ,Ah!,  ,Thought he'd never shut up.,  ,It was a good speech.,  ,Didn't want to interrupt.,  ,What is this?,  ,What are you doing?,  ,Let's go home.,  ,Come on.,  ,Why should I believe you?,  ,Why would I lieabout it?,  ,To create strife betweenmy sister and me.,  ,Where before there wasnothing but love.,  ,Ser Mandon Moore tried to killyou on your sister's orders.,  ,If it weren't for yourSquire's bravery,,  ,you'd be a dead man.,  , Pod.\",\n",
       " \"Yes, My Lord?,  ,Would it beexcessive of me,  ,to ask you to savemy life twice in a week?,  ,No, My Lord.,  ,You're a good lad.,  ,Get Bronn, tell him I wantfour of his most loyal,  ,Gold Cloaks outsidemy door at all times.,  ,I'm afraid your friendhas been relieved,  ,of his commandof the City Watch.,  ,The Gold Cloaks are now firmlyin the hands of your father,  ,or your sister.,  ,It variesfrom cloak to cloak.,  , Then my hill tribesmen.\",\n",
       " \"Have gone home.,  ,Your father paid themquite handsomely.,  ,I'm afraid we won'tbe seeing each other,  ,for some time, My Lord.,  ,Don't want to swim too closeto a drowning man?,  ,And I thoughtwe were friends.,  ,We are.,  ,Podrick, would you mind?,  ,There are many who knowthat without you,  ,this city facedcertain defeat.,  ,The King won't giveyou any honors,,  ,the historieswon't mention you,,  ,but we will not forget.,  ,Come along now, Podrick.,  ,My love.,  ,It was good of youto come.,  ,Good of me?,  ,Of course I come.,  , I want to see you.\",\n",
       " \"Believe me, you don't.,  ,Have you looked?,  ,I will be the first.,  ,Well?,  ,You are a mess.,  ,I'm a monsteras well as a dwarf.,  ,You should chargeme double.,  ,You think I'm herefor money?,  ,That was the arrangementwe made.,  ,I pay youand you lie to me.,  ,Aw, I'm a poorlittle rich man,  ,and nobody loves me,so I make jokes all the time,  ,and pay them to laugh.,  ,Fuck your money.,  ,Let's leave.,  , Leave?\",\n",
       " \"Leave King's Landing.,  ,They tried to kill you.They will try again.,  ,Going into wars,fighting soldiers,  ,you're terrible at this.,  ,Let's take a boat to Pentosand never come back.,  ,You don't belong here.,  ,What would we doin Pentos?,  ,Eat, drink,,  ,fuck, live.,  ,I want to go with you.,  ,So do it.,  ,Your father, your sister,all these bad people,,  ,they can't stop you.,  ,Forget about them.Come with me.,  ,I can't.,  ,I do belong here.,  ,These bad people,  ,are what I'm good at.,  ,Outtalking them,outthinking them.,  ,It's what I am.,  ,And I like it.,  ,I like it more thananything I've ever done.,  ,Are you going to leave?,  ,You have a shit memory.,  ,I am yoursand you are mine.,  ,In the sightof the Seven,,  ,I hereby sealthese two souls,,  ,binding them as onefor eternity.,  ,Look upon one anotherand say the words.,  ,Father, smith,,  ,warrior, mother,,  ,maiden, crone,stranger...,  , I am hers and she is mine...\",\n",
       " \"I am his and he is mine...,  ,from this dayuntil the end of my days.,  ,Is this a riddle?,  ,Khaleesi!,  ,Khaleesi!,  ,Khaleesi!,  ,Are you trying to frighten mewith magic tricks?,  ,You want me?Here I am.,  ,Are you afraidof a little girl?,  ,How did he find us?,  ,What are you doing here?,  ,Waiting for you.,  ,How did you knowwe'd come this way?,  ,After all the thingsyou have seen,,  ,this is your question?,  ,How did youkill those guards?,  ,Was it hard?,  ,No harder than taking a new nameif you know the way.,  ,Show me how.\",\n",
       " 'I wantto be able to do it, too.,  ,If you would learn,you must come with me.,  ,Where?,  ,Far and away acrossthe Narrow Sea to Braavos.,  ,My dancing masterwas from Braavos.,  ,To be a dancing masteris a special thing,,  ,but to be a faceless man,  ,that is somethingelse entirely.,  ,A girl has many nameson her lips,  ,Joffrey, Cersei,Tywin Lannister,,  ,Ilyn Payne, the Hound.,  ,Names to offer upto the Red God.,  ,She could offer them allone by one.,  ,I want to.,  ,But I can\\'t.,  ,I need to findmy brother and mother.,  ,And my sister.,  ,I need to findher, too.,  ,Then we must part.,  ,A man has duties as well.,  ,Here.,  ,What is it?,  ,A coin of great value.,  ,Could it buy a horse?,  ,It is not meantfor the buying of horses.,  ,Then what good is it?,  ,If the day comes whenyou must find me again,,  ,just give that cointo any man from Braavos,  ,and say these words to him,,  ,\"Valar Morghulis.',\n",
       " '\",  ,Valar Morghulis.,  ,Please don\\'t go, Jaqen.,  ,Jaqen is dead.,  ,Say it again.Valar Morghulis.,  ,Valar Morghulis.,  ,Good.,  ,Farewell, Arya Stark.,  ,Osha, what are you doing?,  ,Tell us what medicineto get from your chambers.,  , We\\'ll make you better.',\n",
       " \"I feel just fine.,  ,They burned it down.They burned everything.,  ,Not everything.Not you.,  ,But they may come back.You have to go.,  ,Put on yourwarmest clothes.,  ,Pack as much food as youcan carry and go north.,  ,North's the wrong way.,  ,Their mother and brotherare south.,  ,We don't know where.,  ,There are too many enemiesin the South.,  ,Go to the Wallto Jon.,  ,He'll look after you and let yourmother know you're safe.,  ,I don't want to leave you.,  ,No more than I wantto leave you.,  ,I pulled youinto the world.,  ,Both of you.,  ,I've seen both your facesalmost every day since.,  ,And for that, I considermyself very, very lucky.,  ,Go now with Hodor.,  ,Go on.,  ,I'll be right here.,  ,Hodor.,  ,Osha.,  ,You must protect them.,  ,You're the only onewho can.,  ,You may have to protectthem against your own kind.,  ,I've got no great lovefor my own kind.,  ,I'll get you milkof the poppy.,  ,Tell me where to find it.,  ,I don't wantmilk of the poppy.,  ,Do it quickly.,  ,Until the sunrises in the west,  ,and sets in the east,,  ,until the rivers run dry,  ,and the mountains blowin the wind like leaves.,  ,They miss their mother.,  ,They want to be with you.,  ,Do you wantto be with them?,  ,You will be.,  ,When your dragonswere born,,  ,our magicwas born again.,  ,It is strongestin their presence.,  ,And they are strongestin yours.,  ,You will be with them,,  ,through winter, summer,,  ,and winter again.,  ,Across a thousandthousand seasons,  ,you will be with them.,  ,And we will be with youuntil time comes to an end.,  ,Welcome home,Daenerys Stormborn.,  ,This is not my home.,  ,My home is across the sea,  ,where my peopleare waiting for me.,  ,They will be waitinga long time.,  ,Dracarys.,  ,We should be thereby sundown.,  ,Won't be a funnight for you.,  ,Mance knows howto make crows sing.,  ,If you know what to say,you might just make it,  ,through the night.,  ,Not talking'snot the way to go.,  ,Careful with that.,  ,You might cut yourself.,  ,Never swung a swordbefore, have you?,  ,You look like a babywith a rattle.,  ,Enough of that!,  , Stop!\",\n",
       " \"Why, traitor?,  ,So you can give Mance Rayderan invitation to Castle Black?,  ,Let 'em fight.,  ,That's it?That's what you can do?,  ,You little shit.,  ,Your traitor fatherteach you that?,  ,Or was it your whore mother?,  ,We are the Watcherson the Wall.,  ,You can tell Mance,  ,that's the man who killedQhorin Halfhand.,  , Burn the body.\",\n",
       " \"Aye.,  ,You don't want this onecoming back for you.,  ,Come along, Jon Snow.,  ,Time to meetthe KingBeyondTheWall.,  ,What the?,  ,Khaleesi, please.,  ,He said you'd neverleave Qarth alive.,  ,Come.,  ,Nothing.,  ,Thank you,Xaro Xhoan Daxos.,  ,Thank you for teachingme this lesson.,  ,I am King of Qarth.,  ,I can help you now,truly help you.,  ,We can takethe Iron Throne.,  , I'll bring you , ships.\",\n",
       " 'Please, Khaleesi, I beg you.,  ,All that you have dreamedis within your reach!,  ,I beg you, please!,  , Khaleesi.',\n",
       " 'Please!',\n",
       " \"Please!,  , Khaleesi!,  ,It's all a lie.,  ,Looks real enough to me.,  ,Real enoughto buy a ship?,  ,Aye, a small ship.,  ,I thought we were comingnorth to fight wildlings.,  ,Is this goat?,  ,It's moose.,  ,People shouldn'tlive anywhere,  ,you need to burn shitto keep warm.,  ,Well, you see a tree,let me know.,  ,If you step backand think about it,,  ,the thing about Gillythat's so interesting is,  , Just bloody kill me.\",\n",
       " \"No, truly.,  ,The thing about her thatI find so interesting is that,  ,after all thatCraster's done to her,,  ,she's still got hope thatlife might get better.,  ,The thing about Gillythat you find so interesting,  ,is that she saidsix words to you.,  ,And the thing about youthat I find so interesting,  ,is absolutely nothing.,  ,It's Jonand the Halfhand.,  ,They're back.,  ,Two blasts is wildlings.,  ,You're not fighting them alone.Come on.,  ,Three blasts?,  ,Run!,  ,Wait!\",\n",
       " 'Wait for me!,  ,Grenn!,  ,Edd!,  ,== sync, corrected by <font color=\"#ff\"elderman</font ==,  ,\\xc3\\x8f\\xc3\\x82\\xc3\\x94\\xc3\\x98\\xc3\\x97\\xc3\\xae\\xc3\\x90\\xc3\\x82\\xc3\\x83\\xc3\\x80\\xc2\\xbe\\xc3\\xa7\\xc3\\x97\\xc3\\x96\\xc3\\x84\\xc2\\xbb\\xc2\\xa3\\xc2\\xac\\xc2\\xbe\\xc2\\xb4\\xc3\\x87\\xc3\\xab\\xc2\\xb7\\xc3\\x83\\xc3\\x8e\\xc3\\x8a\\xc2\\xa3\\xc2\\xba\\xc3\\x8c\\xc3\\xac\\xc3\\x8c\\xc3\\xac\\xc3\\x97\\xc3\\x96\\xc3\\x84\\xc2\\xbb http://sub.ttfree.org,  ,<font color=\"#ffff\" size=www.tvsubtitles.net</fontBrother?,  ,( snow crunching ),  ,( Ghost snarling ),  ,Did you send the ravens?,  ,Tarly, look at me.,  ,Did you send the ravens?,  ,That was your job.,  ,Your only job.,  ,We need to getback to the Wall.,  ,It\\'s a long march.,  ,We know what\\'s out there,,  ,but we have to make it,have to warn them,  ,or before winter\\'s done,,  ,everyone you\\'ve ever known,  ,will be dead.,  ,<font color=\"#ecbd\"Sync & corrections by honeybunny</font<font color=\"#ecbd\"www.addiced.com</font,  ,( wind blowing ),  ,( people talking indistinctly ),  ,First time you\\'ve seena giant, Jon Snow?,  ,Well, don\\'t stare too long.They\\'re shy.,  ,When they stop being shy,they get angry.,  ,And when they\\'re angry,,  ,I\\'ve seen them pound a manstraight into the ground,  ,like a hammer on a nail.,  ,( growling ),  , Man: Crow!',\n",
       " 'Boy: Crow!,  , Girl: Look over there!',\n",
       " 'Man #: Crow!,  ,Girl: Crow!',\n",
       " \"Look over here!Look!,  ,Woman:Ah, look, crow coming!,  ,Boy:Crow!,  ,Ygritte: You're wearingthe wrong color.,  ,Mance was a ranger.,  ,In your hearts, all youcrows want to fly free.,  ,When I'm free,will I be free to go?,  , Crow!\",\n",
       " 'Crow!,  ,Sure, you will.,  , Oh!',\n",
       " \"( laughter ),  ,And I'll be free to kill you.,  ,Got no respect, this lot.,  ,Got no fathers to slap 'emwhen they're foul.,  ,What happened to their fathers?,  ,Some of them were killedby crows like you.,  ,Don't look so grim, Jon Snow.,  ,If Mance Rayder likes you,you'll live another day.,  ,And if he don't...,  ,I smell a crow.,  ,We killed his friends.,  ,Thought you'd wantto question this one.,  ,What do we wantwith a baby crow?,  ,This baby killedQhorin Halfhand.,  ,He wants to be one of us.,  ,That halfhanded cuntkilled friends of mine.,  ,Friends twice your size.,  ,My father told me big men falljust as quick as little ones,  ,if you put a swordthrough their hearts.,  ,Plenty of little men,  ,tried to put their swordsthrough my heart.,  ,And there's plentyof little skeletons,  ,buried in the woods.,  , What's your name, boy?\",\n",
       " 'Jon Snow.,  ,Your Grace.,  ,( laughter ),  , Your Grace?',\n",
       " \"( laughter ),  ,Did you hear that?,  ,From now on, you'd betterkneel every time I fart.,  ,( laughs ) Stand, boy.,  ,We don't kneel for anyonebeyond the Wall.,  ,So, you're Ned Stark's bastard.,  ,Thank you for the gift,Lord of Bones.,  ,You can leave us.,  ,The girl likes you.,  ,You like her back, Snow?,  ,That why you want to join us?,  ,Bearded warrior:Don't panic, boy.,  ,This isn't the damnedNight's Watch,  ,where we make youswear off girls.,  ,This chicken eater you thoughtwas king is Tormund Giantsbane.,  ,Can't believe this pup,  ,killed the Halfhand.,  ,He was our enemy,  ,and I'm glad he's dead.,  ,He was my brother once.,  ,Back when he had a whole hand.,  ,What were you doing with him?,  ,The Lord Commander sent meto the Halfhand for seasoning.,  ,Why?,  ,He wants me to lead one day.,  ,But here you are, a traitor,  ,kneeling beforethe KingbeyondtheWall.,  ,If I'm a traitor,then you are, too.,  ,Why do you wantto join us, Jon Snow?,  ,I want to be free.,  ,No, I don't think so.,  ,I think what you wantmost of all,  ,is to be a hero.,  ,I'll ask youone last time,  ,why do you want to join us?,  ,We stopped at Craster'sKeep on the way north.,  ,I saw...,  ,You saw what?,  ,I saw Craster takehis own baby boy,  ,and leave it in the woods.,  ,I saw what took it.,  ,You're telling meyou saw one of them?,  ,And why would that make youdesert your brothers?,  ,Because when I toldthe Lord Commander,,  ,he already knew.,  ,Thousands of years ago,the First Men,  ,battled the White Walkersand defeated them.,  ,I want to fight for the sidethat fights for the living.,  ,Did I come to the right place?,  ,We'll need to find youa new cloak.,  ,( children chattering ),  ,What if you took offthat bit there?,  ,Don't you want to leavesomething to the imagination?,  ,Trouble is, I've neverhad much imagination.,  ,I want you to take it off.,  ,( tsks ),  ,Mouth.,  ,( door opens, closes ),  ,Podrick: Ser Bronn.\",\n",
       " \"Ser Bronn.,  ,I didn't hear that.,  , Apologies, ser.\",\n",
       " \"Bronn: Back away.,  ,Keep backing away till you'reoutside this establishment.,  , Then back away some more.\",\n",
       " 'Lord Tyrion sent me.,  ,I will murder you, boy.,  ,He said it was a matterof life and death.,  ,( knocking ),  , Pod?',\n",
       " \"Cersei: It's your sister.,  ,The queen.,  ,What are they doing here?,  ,Protecting me, I assume.Will you let me in?,  ,No, I don't think so.,  ,If I wanted to kill you,do you think,  ,I'd let a wooden door stop me?,  ,They stay outside.,  ,I'm not afraid of you,little brother.,  , Why are you here?\",\n",
       " \"I wanted to see your face.,  ,They said you'd lost your nose, butit's not as gruesome as all that.,  ,The man who cut melost more than his nose.,  ,I should hope so.,  ,The rebels came for Joffrey'shead, they lost their own.,  ,Thanks to Father.,  ,Thanks to Father.,  ,Of course, it wasn't a rebelwho tried to kill me.,  ,No?\",\n",
       " \"Curious.,  ,Bit of a comedownfrom chamber of the Hand.,  ,But then I don't supposeyou need much room.,  ,Grand Maester Pycellemade the same joke.,  ,You must be proud to be as funny asa man whose balls brush his knees.,  ,You're meeting Father today?,  ,How do you know that?,  ,Because I have hundredsof spies in my employ.,  ,The Master of Whisperersowes me a favor or two.,  ,Father told me.What do you want from him?,  ,What do I want from him?He's my father.,  ,Do I need to want something?,  ,I'm sure he loves me dearly,,  ,as any father loves his child,,  ,his baby boy.,  ,Yet he hasn't cometo visit once,  ,since arrivingin King's Landing.,  ,I lay here,my face split in half,,  ,but Father never came.,  ,You're going to make me cry.,  ,Why do you carewhat I want from him?,  ,Because you've slandered meto Father before.,  ,Slandered?When?,  ,You told him I had my guards,  ,beat that servant girlat Casterly Rock.,  ,You did haveyour guards beat her.,  ,A girl of nine, I believe.,  ,I was nine, too.,  ,She lost an eye,if I remember correctly.,  ,If I remember correctly,,  ,she never stolea necklace again.,  ,It's not slander if it's true.,  ,And what's this truthyou plan on telling him today?,  ,Why are you so nervous,  ,about what I'm goingto say to Father?,  ,Because you're a liar.,  ,I expect you'll tell liesabout me, about Joffrey.,  ,Any lies in particular?,  ,You're a clever man,,  ,but you're not half as cleveras you think you are.,  ,Still makes memore clever than you.,  ,( door opens ),  ,Oh, look at these twoshining warriors.,  ,Ser Taryn Mant and...,  ,Ser Whosit of Whocares.,  ,Ser Meryn Trant.,  ,Ser Bronn of the Blackwater.,  , You're no knight.\",\n",
       " \"Pod.,  ,Ser Bronn of the Blackwater,  ,was anointedby the king himself.,  ,You're an upjumpedcutthroat,,  ,nothing more.,  ,That's exactly who I am.,  ,And you're a grubin fancy armor,  ,who's better at beating littlegirls than fighting men.,  ,Now, I have an appointmentwith Lord Tyrion.,  ,You put your hand on that door,,  ,you lose the hand.,  ,As much as I appreciate a walkin the sunshine, your lordship,,  ,I am wonderingwhy you sent for me.,  ,A number of peoplein this city want to kill me.,  ,You're here to protect me.,  ,I've been doing thatfor a while now.,  ,Do you grow boredprotecting me?,  ,I grow poor protecting you.,  ,Poor?Poor?,  ,Under my patronageyou've become a knight,,  ,you've served as Commanderof the City Watch.,  , Briefly.\",\n",
       " \"I'm sure you filled your pockets.,  ,And now my pockets are empty.,  ,You've given me a tastefor the finer things.,  ,And if you want meto carry on protecting you,,  ,you'll need to pay more.,  , I thought we were friends.\",\n",
       " \"We are.,  ,But I'm a sellsword.I sell my sword.,  ,I don't loan it outto friends as a favor.,  , How much?\",\n",
       " 'Double.,  , Double?',\n",
       " \"I'm a knight now.,  ,Knights are worth double.,  ,I don't even know how muchI'm paying you now.,  ,Which means you can afford it.,  , ( breathing heavily ) ( waves lapping ),  ,( seabirds calling ),  ,Here.\",\n",
       " \"Here!,  ,Help me!,  ,( horn blowing ),  ,Who are you?,  ,I was in the battleat Blackwater.,  ,I was a captain and a knight.,  ,Aye, ser,and serving which king?,  ,The one true kingof Westeros,  ,Stannis Baratheon.,  ,I thought you were dead.,  ,Everyone thought you were dead.,  ,And your son?,  ,He may have swamashore as you did.,  ,No, the wildfire took him.I saw it.,  ,I'm so sorry, my friend.,  ,I, too, have lost a son.,  ,There is nothing worsein this world.,  ,But, Davos, you werea good father.,  ,If I was a good father,he'd still be here.,  ,Stannis lives?,  ,He licks his woundsat Dragonstone.,  ,Will you take me there?,  ,There is nothing for meat Dragonstone.,  ,This war is not over.,  ,Not for you, maybe.,  ,But for Salladhor Saan,the war is over.,  ,We're both swornto King Stannis.,  ,I am sworn to no man.,  ,I promised you  ships and youpromised me riches and glory.,  ,I delivered the ships.,  ,Stannis never gives up.Never.,  , Now he will regroup He's a broken man.,  ,His fleet lies at the bottomof Blackwater Bay.,  ,They say he sees no one,  ,not his generals,not even his wife.,  ,Only the Red Woman,  ,whispering in his ear,,  ,telling him whatshe sees in the flames,  ,and burning men alive.,  ,What?,  ,They built a great firewhen Stannis returned.,  ,All those who spokeagainst her she called,  ,servants of darkness.,  ,They say she sangto them as they burned.,  ,I'm a pirate.,  ,You're a smuggler.,  ,Servants of darkness.,  ,I'm thinking Dragonstone is agood place for us to avoid.,  ,Take me back there, please.,  ,You cannot turnStannis against her.,  ,Maybe not, but I couldcarve her heart out.,  ,You could try.,  ,If you fail,they will burn you.,  ,If you succeed,they'll burn you.,  ,And you've onlyjust come back to life.,  ,Stay alive a littlelonger, my friend.,  ,You call me friend.\",\n",
       " \"You drankwith me on my wedding day.,  ,And you drank with meon four of my wedding days,,  ,but I don't ask you for favors.,  ,I have to stop her.,  ,Please, do this for me.,  ,When you are dead,,  ,I will gather your bonesin a little sack,  ,and let your widowwear them around her neck.,  ,We should set the siege lines, yards from Harrenhal.,  ,There won't be a siege.\",\n",
       " \"TheMountain can't defend a ruin.,  ,I imagine the Mountainwill defend,  ,whatever Tywin Lannistertells him to defend.,  ,The Lannisters have beenrunning from us since Oxcross.,  ,I'd love a fight.The men would love a fight.,  ,I don't thinkwe're going to get one.,  ,( flies buzzing ),  , Northmenslaughtered like sheep.,  ,The debt will berepaid, my friend.,  ,For them and for your sons.,  ,Will it?,  ,They rot in the ground,  ,while their killer runs free.,  ,The Kingslayer won'tremain free for long.,  ,My best hunters are after him.,  , Robb: A Mallister?\",\n",
       " \"Ser Jeremy.,  ,My father's bannerman.,  ,Find her a chamberthat will serve as a cell.,  ,Talisa:She's your mother.,  ,She freed Jaime Lannister.,  ,The Lannisters robbedthem of their sons,  ,and she robbed themof their justice.,  ,( coughing ),  ,Water.,  ,Water.,  ,This needs to becleaned and closed.,  ,What's your name, friend?,  ,Qyburn.,  ,You're lucky to be alive.,  ,Lucky?,  ,( birds cawing ),  ,( sighs ),  ,The badge looks good on you.,  ,Almost as goodas it looked on me.,  ,Are you enjoyingyour new position?,  ,Am I enjoying it?,  ,I was very happyas Hand of the King.,  ,( chuckles ) Yes.,  ,I heard how happy you were.,  ,( blows ),  ,You brought a whoreinto my bed.,  ,It wasn't your bed at the time.,  ,I sent you hereto advise the king.,  ,I gave you real powerand authority.,  ,You chose to spend your days,  ,as you always have,,  ,bedding harlots,  ,and drinking with thieves.,  ,Occasionally I drankwith the harlots.,  ,What do you want, Tyrion?,  ,Why does everyone assumeI want something?,  ,Can't I simply visitwith my beloved father?,  ,My beloved father who,  ,somehow forgot to visithis wounded son,  ,after he fellon the battlefield.,  ,Maester Pycelle assured meyour wounds were not fatal.,  ,I organizedthe defense of this city,  ,while you held courtin the ruins of Harrenhal.,  ,I led the foray when theenemies were at the gate,  ,while your grandson, the king,,  ,quivered in fearbehind the walls.,  ,I bled in the mudfor our family.,  ,And as my reward,,  ,I was trundled offto some dark little cell.,  ,But what do I want?,  ,A little bloody gratitudewould be a start.,  ,Jugglers and singersrequire applause.,  ,You are a Lannister.,  ,Do you think I demandeda garland of roses,  ,every time I suffereda wound on a battlefield?,  ,Hmm?,  ,Now, I have seven kingdomsto look after,  ,and three of themare in open rebellion.,  ,So tell me what you want.,  ,I want what is mine by right.,  ,Jaime is your eldest son,heir to your lands and titles.,  ,But he is a Kingsguard, forbiddenfrom marriage or inheritance.,  ,The day Jaime put onthe white cloak,,  ,he gave up his claimto Casterly Rock.,  ,I am your son and lawful heir.,  ,You want Casterly Rock?,  ,It is mine by right.,  ,( sighs ),  ,We'll find you accommodations,  ,more suited to your name,  ,and as a rewardfor your accomplishments,  ,during the battleof Blackwater Bay.,  ,And when the time is right,you will be given a position,  ,fit for your talents,  ,so that you canserve your family,  ,and protect our legacy.,  ,And if you serve faithfully,,  ,you will be rewardedwith a suitable wife.,  ,And I would let myselfbe consumed by maggots,  ,before mocking the family name,  ,and making youheir to Casterly Rock.,  , Why?\",\n",
       " \"Why?,  ,You ask that?,  ,You, who killed your motherto come into the world?,  ,You are an illmade,spiteful little creature,  ,full of envy, lust,and low cunning.,  ,Men's laws give youthe right to bear my name,  ,and display my colors since Icannot prove that you are not mine.,  ,And to teach me humility,the gods have condemned me,  ,to watch you waddle aboutwearing that proud lion,  ,that was my father's sigiland his father's before him.,  ,But neither gods nor men,  ,will ever compel meto let you turn Casterly Rock,  ,into your whorehouse.,  ,Go, now.,  ,Speak no more of your rightsto Casterly Rock.,  ,Go.,  ,Oh, one more thing.,  ,The next whore I catchin your bed I'll hang.,  ,Sansa: Dorne.It's going to Dorne.,  , Shae: Why Dorne?\",\n",
       " \"It's carrying silk,  ,and it's supposed to bringback wine in exchange.,  ,But it's not coming back.,  ,The captain's tiredof risking his life,  ,so King's Landinglords and ladies,  ,can get drunk on betterwine than they deserve.,  ,He's going to stay in Dorne.,  ,Wait out the winter whereit's beautiful and warm.,  ,I met some people in Dorne whoweren't so beautiful and warm.,  ,Don't ruin the game.,  ,I told you,I don't want to play.,  ,What about that one there?,  ,That one?,  ,It's going to Volantis.,  ,Why?,  ,Because when I goton a ship in Volantis,,  ,it looked like that one.,  ,That's not how the game works.,  ,You're not supposed to justblurt out the right answer.,  ,You've got to invent a story,  ,about where the shipis going and why.,  ,Why should I make up a storywhen I know the truth?,  ,Because the truth,  ,is always eitherterrible or boring.,  ,Lovely day for it.,  ,Watching the ships.,  ,Lord Baelish.,  ,Might I speak with Lady Sansa,  ,alone for a moment?,  ,I saw your mother not long ago.,  ,She's very eager to see you.,  ,And your sister.,  ,Arya's alive?,  ,You said you'd take me home.,  ,You said King's Landingwas your home.,  ,You are the propertyof the crown.,  ,Stealing you would be treason.,  ,If you were to telljust one person,  , I won't tell anyone.\",\n",
       " \"How do I know?,  ,Because I'm a terrible liar.,  ,You said so yourself.,  ,Please, Lord Baelish.\",\n",
       " \"Tell me what to do.Tell me when.,  ,I'm waiting for wordon an assignment,  ,that will take me far awayfrom the capital.,  ,When I set sail,,  ,I might be ableto take you with me.,  ,But you'll need to be ready toleave on a moment's notice.,  ,You're her handmaiden?,  ,Yes.And you're his...?,  ,I help manage his affairs.,  , He's an important person.\",\n",
       " \"So is she.,  ,I grew up in the shadowof her father's castle.,  ,The day she was born,they rang the bells,  ,from sunrise till sunset.,  ,We've both donerather well, you and I.,  ,Yes.,  ,Given where we started.,  ,And where is that?,  ,It's not easy for girls like us,  ,to dig our way out.,  ,Ros:Watch out for her.,  ,I always do.,  ,Watch out for her with him.,  ,( dragon screeching ),  ,( screeches ),  ,( screeches ),  ,( screeching ),  ,They're growing fast.,  ,Not fast enough.,  ,I can't wait that long.,  ,I need an army.,  ,( dragon screeching ),  ,We'll be in Astaporby nightfall.,  ,Some say the Unsullied are thegreatest soldiers in the world.,  ,The greatest slavesoldiersin the world.,  ,The distinction meansa good deal to some people.,  ,Do those peoplehave any better ideas,  ,about how to put youon the Iron Throne?,  ,It's too beautifula day to argue.,  ,( man vomiting ),  ,You're right.,  ,Another lovely dayon the high seas.,  ,Daenerys:Don't mock them.,  ,They're the first Dothrakiwho have ever been on a ship.,  ,They followed meacross the poison water.,  ,If they'll do it, others will.,  ,And with a truekhalasar,  ,The Dothraki follow strengthabove all, khaleesi.,  ,You'll have a true khalasarwhen you prove yourself strong.,  ,And not before.,  ,( seabirds calling ),  ,Your Grace.,  ,I heard you were dead.,  ,Not yet.,  ,I had hoped to speakto you alone, Your Grace.,  ,We are alone.,  ,Your Grace, you arethe rightful king.,  ,Not only by blood.,  ,You're an honorable man,a just man.,  ,And there is stilla war to fight.,  ,I am fighting.,  ,By burning prisoners alive?,  ,How would you punishthe infidels, Ser Davos?,  ,I do not judge peoplefor the gods they worship.,  ,If I did, I'd havethrown you in the sea,  ,before you ever set footon Dragonstone.,  , I'm not your enemy.\",\n",
       " \"You are my enemy.,  ,Was it me you foughton Blackwater Bay?,  ,Did I set your ships ablaze?,  ,I wasn't there when the wildfirekilled our men by the thousands.,  ,I could have saved those men.,  ,You would have taken the city,,  ,Stannis would now situpon his rightful throne,,  ,and you would stand beside him.,  ,But I wasn't there,  ,because you convincedyour king to leave me behind.,  ,Do you hear them screaming?,  ,All those burning menin the water,  ,crying for their mothers,,  ,for their gods for help?,  ,Until the momentthe Blackwater swallowed them.,  ,( gasps ),  ,Don't despair, Ser Davos.,  ,What I told your son is true.,  ,Death by fire,  ,is the purest death.,  ,( growls ),  ,This woman is evil!,  ,She's the mother of demons.,  ,Take him to the dungeonand lock him in a cell.,  , Your Grace!\",\n",
       " \"Come on.,  ,You've chosenthe darkness, Ser Davos.,  , She will destroy us all!\",\n",
       " 'I will pray for you.,  ,Davos:Your Grace!,  ,( door closes ),  ,( guards shouting ),  ,Guard:Halt.',\n",
       " 'Down.,  ,Guard #:Halt.',\n",
       " \"Down.,  ,Why have we stopped?,  ,It's Lady Margaery, Your Grace.,  ,Joffrey: What is she doing?Who gave her permission?,  ,Maid: My lady.\",\n",
       " \"We shouldhave guards, my lady.,  ,Why?,  ,Pardon me.,  ,Stop, my lady.You'll ruin your dress.,  ,I have others.,  ,Would you like to speakwith her, Your Grace?,  ,No.,  ,He was a soldier.,  ,He went to fight on the walls,  ,when the ships cameinto Blackwater Bay.,  ,He never came back.,  ,And your mother?,  ,She died when she had me.,  ,Bad men wantedto come into this city,  ,and do terrible things,but your father stopped them.,  ,Whenever you lookat this knight,,  ,I want you to rememberyour father.,  ,He wasn't a knight.,  ,He was just a soldier.,  ,And what do knightsswear to do?,  ,Protect the weakand uphold the good.,  ,Your father did that.Be proud of him.,  ,Was your father a soldier, too?,  ,You should be proud, too.,  ,Under King Joffrey'sleadership,,  ,your fathers saved the city.,  ,They saved us all.,  ,From now on, we're goingto take care of you.,  ,All of you.,  ,( children laughing ),  ,Come to me for whateveryou need to feed them,,  ,clothe them, or house them.,  ,Directly to me.,  ,( doors open ),  , Your Grace.\",\n",
       " \"Your Grace.,  ,Please, sit.Sit.,  ,I do apologize, my lady.,  ,Small council meetings.,  ,At what pointdoes it become treason,  ,to waste the king's time?,  ,( laughs ),  ,That's a lovely gown, my lady.,  ,Yes, it suits you perfectly.,  ,I imagine you mightbe rather cold.,  ,The climate is a bit more forgivingback in Highgarden, Your Grace.,  ,Shall I have them bringyou a shawl, my lady?,  ,I am touched by yourconcern, Your Grace.,  ,Luckily for us Tyrells,our blood runs quite warm.,  , Doesn't it, Loras?\",\n",
       " \"Yes.,  ,Loras, isn't the queen'sgown magnificent?,  ,The fabric, the embroidery,the metalwork.,  ,I've never seenanything like it.,  ,You might find a bitof armor quite useful,  ,once you become queen.Perhaps before.,  ,Joffrey tells me you stoppedyour carriage at Flea Bottom,  ,on your way back fromthe sept this morning.,  ,Yes.\",\n",
       " 'I paid a visitto an orphanage,  ,the High Septon told me about.,  ,Margaery does a great deal of workwith the poor back in Highgarden.,  ,The lowest among us are no different fromthe highest if you give them a chance,  ,and approach themwith an open heart.,  ,Cersei: An open heart is whatyou\\'ll get in Flea Bottom,  ,if you\\'re not careful, my dear.,  ,Not long ago, we wereattacked by a mob there.,  ,We had a full complementof guards that didn\\'t stop them.,  ,The king barely escapedwith his life.,  ,My mother\\'s always hada penchant for drama.,  ,Facts become less and lessimportant to her,  ,as she grows older.,  ,Our lives were nevertruly in danger.,  ,You\\'re right, of course.,  ,But you are your father\\'s son.,  ,We can\\'t all havea king\\'s bravery.,  ,Hunger turns men into beasts.,  ,I\\'m glad House Tyrell has beenable to help in this regard.,  ,They tell me  wagons arrivedaily now from the Reach.,  ,Wheat, barley, apples.We\\'ve had a blessed harvest.,  ,And, of course, it\\'s ourduty to assist the capital,  ,in time of need.,  ,Well, as Ser Loras said,,  ,Lady Margaery has donethis sort of...,  ,charitable work before.,  ,I\\'m sure she knowswhat she\\'s doing.,  ,I\\'m sure she does.,  ,( speaking Valyrian ),  ,The Unsullied have stood herefor a day and a night,  ,with no food or water.,  ,( speaking Valyrian ),  ,They will standuntil they drop.,  ,( speaking Valyrian ),  ,Such is their obedience.,  ,They may suit my needs.,  ,Tell me of their training.,  ,,  ,,  ,,  ,,  ,,  ,,  ,They begin theirtraining at five.,  ,Every day they drillfrom dawn to dusk,  ,until they have masteredthe shortsword,,  ,the shield,and the three spears.,  ,Only one boy in four survivesthis rigorous training.,  ,( speaking Valyrian ),  ,Missandei: Their disciplineand loyalty are absolute.,  ,They fear nothing.,  ,Even the bravest menfear death.,  ,,  ,,  ,,  ,,  ,( continues in Valyrian ),  ,Missandei: My master saysthe Unsullied are not men.,  ,Death means nothing to them.,  ,,  ,,  ,He begs you attend to thiscarefully, Your Grace.,  ,( speaking Valyrian ),  ,Tell the good masterthere is no need.,  ,,  ,,  ,,  ,Missandei: My master points outthat men don\\'t need nipples.,  ,,  ,,  ,( speaking Valyrian ),  ,To win his shield,,  ,an Unsullied must go to theslave marts with a silver mark,,  ,find a newborn and kill itbefore its mother\\'s eyes.,  ,This way, my master says,we make certain,  ,there is no weaknessleft in them.,  ,You take a babefrom its mother\\'s arms,,  ,kill it as she watches, and payfor her pain with a silver coin?,  ,( speaking Valyrian ),  ,,  ,,  ,,  ,( continues in Valyrian ),  ,My master would like you toknow that the silver is paid,  ,to the baby\\'s owner,not the mother.,  ,How many do you have to sell?,  ,( Missandei speaking Valyrian ),  ,,.,  ,,  ,Master Kraznys asksthat you please hurry.,  ,Many other buyersare interested.,  ,, dead babies.,  ,The Unsulliedare a means to an end.,  ,Once I own them,these men,  ,They\\'re not men.Not anymore.,  ,Once I own an army ofslaves, what will I be?,  ,Do you think these slaveswill have better lives,  ,serving Kraznys and menlike him or serving you?,  ,You\\'ll be fair to them.,  ,You won\\'t mutilate themto make a point.,  ,You won\\'t order themto murder babies.,  ,You\\'ll see they\\'re properlyfed and sheltered.,  ,A great injusticehas been done to them.,  ,Closing your eyeswill not undo it.,  ,( grunts ),  ,( chittering ),  ,( hisses ),  ,The warlocks.,  ,I owe you my life, ser.,  ,The honor is mine,,  ,my queen.,  ,You know this man?,  ,I know him,  ,as one of the greatest fightersthe Seven Kingdoms has ever seen,  ,and as the Lord Commander,  ,of Robert Baratheon\\'sKingsguard.,  ,King Robert is dead.,  ,I have been searchingfor you, Daenerys Stormborn,,  ,to ask your forgiveness.,  ,I was sworn to protectyour family.,  ,I failed them.,  ,I am Barristan Selmy,,  ,Kingsguard to your father.,  ,Allow me to joinyour Queensguard,  ,and I will not fail you again.,  ,<font color=\"#ecbd\"Sync & corrections by honeybunny</font<font color=\"#ecbd\"www.addiced.com</font,  ,<font color=\"#ffff\" size=www.tvsubtitles.net</fontDon\\'t think too much, Bran.,  ,Relax your bow arm.,  , ( caws ) ( laughing ),  ,Ned: And which one of youwas a marksman at ?,  ,Father?,  ,( raven caws ),  ,You can\\'t kill it, you know.,  ,Why not?,  ,Because the raven is you.,  ,( raven caws ),  ,( gasps ),  ,Hodor.,  ,It\\'s all right, Hodor.,  ,( sighs )Hodor.,  ,Osha: Were you inside thewolf again, little lord?,  ,No, it wasthe threeeyed raven.,  ,He\\'s back.,  ,I tried to kill it,but I couldn\\'t.,  , There was a boy.',\n",
       " \"I don't want to hear about it.,  , But you asked.\",\n",
       " \"We've got plenty of worries.,  ,We don't need to pourblack magic on top of them.,  ,I didn't askfor black magic dreams.,  ,I know you didn't, little lord.,  ,( birds screeching ),  ,We need to move.,  ,We don't knowwho might be after us.,  ,No one even knows we're alive.,  ,And who told you that?,  ,The threeeyed raventell you?,  , No.\",\n",
       " \"Some good he is, then.,  ,I don't know what other peopleknow and what they don't.,  ,I only know the Wallis a long way off.,  ,My mother always told me,  ,you Westerosi were a grim lot.,  ,Grim, bearded,,  ,stinking barbarians,  ,that would rowacross the Narrow Sea,  ,and steal us from our beds.,  ,Did you ever thinkyou'd marry one?,  ,I never thoughtI'd marry anyone at all.,  ,Never?,  ,Not until I metthe king of the grim,,  ,bearded, stinking barbarians.,  ,( door opens ),  ,Pardon me, Your Grace.,  , My queen.\",\n",
       " \"Lord Bolton.,  ,Let me guess which oneis the good news.,  ,Word from Riverrun,  ,and Winterfell.,  ,( crying )I hadn't seen him in years.,  ,I don't even know how many.,  ,We'll travelto the funeral together.,  ,Lord Bolton will garrison here,  ,until we return.,  ,Will I be wearing manacleswhen I lay my father to rest?,  ,Something else?,  ,By the time Bolton'sbastard got to Winterfell,,  ,the ironborn were gone.,  ,They massacred everyone andput the castle to the torch.,  ,And Bran and Rickonhave not been found.,  ,They may have escaped.,  ,Or Theon may have taken them backto the Iron Islands as hostages.,  ,Have you received any demands?,  ,.,  ,Have you heard anythingfrom Theon at all?,  ,( gasps ),  ,( shivering ),  ,Where am I?,  ,Who are you?,  ,What do you want?,  ,I want to do this.,  ,( screaming ),  ,Do you know how longit's going to take us,  ,to get to King's Landing walkingthrough fields and forests?,  ,Yes.,  ,( sheep bleating ),  ,So how shall we pass the time?,  ,By putting one footin front of the other.,  ,It's going to bea very dull walk.,  ,I'm here to take youto King's Landing,  ,and bring back Lady Stark'sdaughters in exchange.,  ,Dull is fine.,  ,You know, it doesn't matterhow loyal a servant you are,,  ,no one enjoys the companyof a humorless mute.,  ,Trust me on this.,  ,People have been serving mesince I was born.,  ,You think Lady Stark is goingto want a giant towheaded plank,  ,following her aroundfor the rest of her life?,  ,A week's journey with you and she'llorder you to fall on your sword.,  ,If Lady Stark is unhappywith any aspect of my service,,  ,I'm sure she'll let me know.,  ,She's an honest woman.,  ,All the good it's done her.,  ,( moans ),  ,How did you come intoLady Stark's service?,  ,There's somethingwe can talk about.,  ,Not your concern, Kingslayer.,  ,It had to be recently.,  ,You weren't with herat Winterfell.,  ,How would you know?,  ,Because I visited Winterfell.,  ,I would have noticedyour dour head,  ,smacking into the archways.,  ,Move.,  , Were you pledged to Stannis?\",\n",
       " \"Gods, no.,  ,Ah, Renly.,  ,Really?,  ,He wasn't fitto rule over anything,  ,more important thana course meal.,  , Shut your mouth.\",\n",
       " \"Why?,  ,I lived with him at court sincehe was a boy, don't forget.,  ,Could hardly escapethe little tulip.,  ,Skipping down the corridorsin his embroidered silks.,  ,I knew him far better than you.,  ,I knew him as well as anyone.,  ,As a member of his Kingsguard,,  ,he trusted me with everything.,  ,He would have beena wonderful king.,  ,Sounds like youquite fancied him.,  ,I did not fancy him.,  ,Oh, gods, you did.,  ,Did you ever tell him?,  ,No, of course not.,  ,You weren't Renly'stype, I'm afraid.,  ,He preferred curlyhairedlittle girls like Loras Tyrell.,  ,You're far too muchman for him.,  ,I'm not interestedin foul rumors.,  ,Unless they're about me.,  ,It's all true about Renly.,  ,His proclivities were theworst kept secret at court.,  ,It's a shame the throneisn't made out of cocks.,  , They'd have never got him off it.\",\n",
       " \"Shut your mouth!,  ,I don't blame him.,  ,And I don't blame you, either.,  ,We don't get to choosewho we love.,  ,( horse snorts ),  , Where are you headed, then?\",\n",
       " 'Jaime: South.,  , You?',\n",
       " \"Riverrun.,  ,Staying offthe kingsroad, are you?,  ,They get you no matterwhere you go.,  , You can't win.\",\n",
       " \"No, you really can't.,  ,Looks like you'resafe enough, though.,  ,Meaning no offense,my lady, but...,  ,( laughs ) I wouldn'ttangle with you.,  ,( laughs ),  , Seven blessings to you.\",\n",
       " \"And you.,  ,Jaime:He knows who I am.,  , He doesn't.\",\n",
       " \"Maybe you're right.,  ,But what if you're not?What if he tells someone?,  ,We're not doing it.,  ,He's an innocent man.,  ,More innocent thanLady Stark's daughters?,  ,Make it tighter here.,  ,That's better.,  ,It makes you look very strong.,  ,No flowers.,  ,I said no flowers.,  ,All these are wrong.Bring others.,  ,Yes, Your Grace.,  ,Bloody flowers.,  ,On the king.,  ,Looks like a Tyrell rose.,  ,Give it to Margaeryfor her wedding gown.,  ,Should be morethan enough fabric.,  ,Tell me what you think of her.,  ,Who?,  ,Margaery.,  ,She's an ideal match.,  ,With the Tyrells beside us,,  ,we'll crush the Northerners.,  ,Hang their lords,burn their strongholds,,  ,sow their fields with salt,,  ,and no one will think ofrebelling for another century.,  ,It is a good match, butwhat do you think of her?,  ,She's beautifuland intelligent.,  ,Yes, she is.,  ,Her concern with the wellbeing ofthe common people is interesting.,  ,Not to me.,  ,( chuckles ),  ,I only meant that to go out ofyour way to endanger yourself,  ,This is becomingone of the most boring,  ,conversations I've ever had.,  ,Margaery Tyrell dotes onfilthy urchins for a reason.,  ,She dresses likea harlot for a reason.,  ,She married a traitorand known degenerate,  ,like Renly Baratheonfor a reason.,  ,She married Renly Baratheonbecause she was told to.,  ,That's whatintelligent women do,  ,what they're told.,  , You need to ask yourself I don't need to do anything.,  ,( sighs ),  ,Better.,  ,Much better.,  ,I still don't believe it.,  ,He didn't.He didn't want anything.,  ,He just takes an interestbecause he loved my mother.,  ,Men only want one thingfrom a pretty girl.,  ,Littlefinger's notin love with me.,  ,Love is not the thing he wants.,  ,He's too old.,  ,They never see it that way.,  ,He didn't ask youto do something for him?,  ,Spy on someone or...?,  ,No.,  ,If he does ask you for anything,  ,or try anything,  ,or touch you,I want you to tell me.,  ,Why?What will you do?,  ,I will make him stop.,  ,( knocks ),  ,Guard:Ser Loras Tyrell, my lady.,  ,Send him in.,  ,Lady Sansa.,  ,Ser Loras.,  ,My sister Margaeryinvites you to take,  ,the air with herand our grandmother,  ,the Lady Olenna in the gardens.,  ,May I escort you to them?,  ,I believe you grow more beautifulevery day, Lady Sansa.,  ,You are too kind, Ser Loras.,  ,You probably don't rememberthe first time we met.,  ,At the Hand's tourney,you gave me your favor.,  ,A rose, a red rose.,  ,Of course I did.,  ,Margaery:It's more your color.,  , You take it.\",\n",
       " \"Thank you.,  ,You're such a dear.,  ,I'll take my leave.,  ,Lady Sansa.,  ,Thank you, Ser Loras.,  ,Come.,  ,Lady Sansa, it is my honor,  ,to present my grandmother...,  ,the Lady Olennaof House Tyrell.,  ,Kiss me, child.,  ,It's so good of you to visit me,  ,and my foolish flock of hens.,  ,We're very sorryfor your losses.,  ,And I was sorry when I heard ofLord Renly's death, Lady Margaery.,  , He was very gallant.\",\n",
       " 'Gallant, yes.,  ,And charming and very clean.,  ,He knew how to dress and smile,  ,and somehow this gave him thenotion he was fit to be king.,  ,Renly was braveand gentle, Grandmother.,  ,Father liked himand so did Loras.,  ,Loras is young and very good,  ,at knocking menoff horses with a stick.,  ,That does not make him wise.,  ,As to yourfathead father,  ,Grandmother!',\n",
       " \"What willSansa think of us?,  ,She might think we havesome wits about us.,  ,One of us, at any rate.,  ,It was treason.I warned them.,  ,Robert has two sons andRenly has an older brother.,  ,How could he possiblyhave any claim,  ,to that ugly iron chair?,  ,We should have stayed well outof all this if you ask me.,  ,But once the cow's been milked,,  ,there's no squirtingthe cream back up her udders.,  ,So here we areto see things through.,  ,What do you say to that, Sansa?,  ,Shall we have some lemon cakes?,  ,Lemon cake's my favorite.,  ,So we've been told.,  ,Are you going to bring the food ordo you mean to starve us to death?,  ,Here, Sansa,,  ,come sit with me.,  ,I'm much less boringthan these others.,  ,Do you know my son?,  ,The Lord of Highgarden?,  ,I haven't had the pleasure.,  ,No great pleasure, believe me.,  ,A ponderous oaf.,  ,His father was an oaf as well.,  ,My husband,the late Lord Luthor.,  ,He managed to ride offa cliff whilst hawking.,  ,They say he was lookingup at the sky,  ,and paying no mind to wherehis horse was taking him.,  ,And now my sonis doing the same,,  ,only this time he's ridinga lion instead of a horse.,  ,Now...,  ,I want you to tell me the truth,  ,about this royal boy,this Joffrey.,  ,I...\",\n",
       " \"I...,  ,You, you.,  ,Who else would know better?,  ,We've heardsome troubling tales.,  ,Is there any truth to them?,  ,Has this boy mistreated you?,  ,Has he ripped out your tongue?,  ,Joff King Joffrey,,  ,he His Graceis very fair,  ,and handsomeand as brave as a lion.,  ,Yes, all Lannisters are lions.,  ,And when a Tyrell farts,it smells like a rose.,  ,But how kind is he?How clever?,  ,Has he a good heart,a gentle hand?,  ,I'm to be his wife.,  ,I only want to knowwhat that means.,  ,( footsteps approaching ),  ,Bring me some cheese.,  ,The cheese will be servedafter the cakes, my lady.,  ,The cheese will be servedwhen I want it served.,  ,And I want it served now.,  ,Are you frightened, child?,  ,No need for that.,  ,We're only women here.,  ,Tell us the truth.No harm will come to you.,  ,My father alwaystold the truth.,  ,Yes, he had that reputation.,  ,And they named him traitorand took his head.,  ,Joffrey.,  ,Joffrey did that.,  ,He promised he would be mercifuland he cut my father's head off.,  ,And he said that was mercy.,  ,Then he took me up on thewalls and made me look at it.,  ,Go on.,  ,I I can't.I never meant,  ,my father was a traitor.,  ,My brother as well.I have traitor's blood.,  ,Please don't make mesay anymore.,  ,She's terrified, Grandmother.,  , Just look at her.\",\n",
       " \"Speak freely, child.,  ,We would never betray yourconfidence, I swear it.,  ,He's a monster.,  ,Ah.,  ,That's a pity.,  ,Please, don't stop the wedding.,  ,Have no fear.The Lord Oaf of Highgarden,  ,is determined thatMargaery shall be queen.,  ,Even so, we thank youfor the truth.,  ,Ah, here comes my cheese.,  ,( panting ),  ,Karstark:We're at war.,  ,This march is a distraction.,  ,My grandfather's funeralis not a distraction.,  , Are we riding to battle at Riverrun?\",\n",
       " \"No.,  ,Then it's a distraction.,  ,My Uncle Edmure has hisforces garrisoned there.,  ,We need his men.,  ,Unless he's been breeding them,,  ,he don't have enoughto make a difference.,  ,Have you lost faithin our cause?,  ,If it's revenge,I still got faith in it.,  ,If you no longerbelieve,  ,I can believetill it snows in Dorne.,  ,Don't change the factthat we've got half the men.,  ,You don't think we can win?,  ,May I speak my mind,Your Grace?,  ,Have you not been speakingyour mind, Lord Karstark?,  ,I think you lost this war,  ,the day you married her.,  ,( horse whinnies ),  ,Whoa, whoa.,  ,Your Grace.,  ,You're afraid of her.,  , And she knows it.\",\n",
       " \"I'm not afraid of her.,  ,( snorting ),  ,May I help you, Lady Stark?,  ,No.,  ,I'm sorry,I shouldn't have,  ,You can't help because a mother,  ,makes one for herchildren to protect them.,  ,Only a mother can make them.,  ,You've made them before?,  ,Twice.,  ,Did they work?,  ,After a fashion.,  ,I prayed for my son Branto survive his fall.,  ,Many years before that,,  ,one of the boys came downwith the pox.,  ,Maester Luwin said if he made itthrough the night, he'd live.,  ,But it would bea very long night.,  ,So I sat with himall through the darkness.,  ,Listened to his raggedlittle breaths,,  ,his coughing, his whimpering.,  ,Which boy?,  ,Jon Snow.,  ,When my husband broughtthat baby home from the war,,  ,I couldn't bear to look at him.,  ,I didn't wantto see those brown,  ,stranger's eyesstaring up at me.,  ,So I prayed to the gods,take him away.,  ,Make him die.,  ,He got the pox.,  ,And I knew I was the worstwoman who ever lived.,  ,A murderer.,  ,I'd condemned this poor,innocent child,  ,to a horrible death,  ,all because I wasjealous of his mother.,  ,A woman he didn't even know.,  ,So I prayed to all seven gods,,  ,let the boy live.,  ,Let him live,  ,and I'll love him.,  ,I'll be a mother to him.,  ,I'll beg my husbandto give him a true name,,  ,to call him Starkand be done with it,,  ,to make him one of us.,  ,And he lived.,  ,And he lived.,  ,And I couldn't keep my promise.,  ,And everythingthat's happened since then...,  ,all this horrorthat's come to my family...,  ,it's all because I couldn'tlove a motherless child.,  ,Was it hard for youto kill the Halfhand?,  ,Yes.,  ,You liked him?,  ,I like you, but ifyou're playing us false,,  ,it won't be hardfor me to kill you.,  ,I've got wildlingblood in my veins.,  , These are my people.\",\n",
       " \"I understand.,  ,Well, how could you understand?,  ,You want to protectyour people.,  ,Do you know what it takesto unite  clans,,  ,half of whom wantto massacre the other half,  ,for one insult or another?,  ,They speak seven differentlanguages in my army.,  ,The Thenns hate the Hornfoots.,  ,The Hornfoots hatethe iceriver clans.,  ,Everyone hates the cave people.,  ,So you know how I gotmoon worshippers,  ,and cannibals and giants,  ,to march togetherin the same army?,  ,No.,  ,I told them we wereall going to die,  ,if we don't get south.,  ,Because that's the truth.,  ,Shouldn't be long now.,  ,( screeching ),  ,What's wrong with him?,  ,Mance:He's a warg.,  ,He can enter the mind ofanimals, see through their eyes.,  ,He's scouting for us.,  ,What, you've never met a warg?,  ,( screeching ),  ,Mance:Orell.,  ,( shivers ),  ,Where were you this time?,  ,The Fist of the First Men.,  ,What did you see?,  ,( chuckles ),  ,Dead crows.,  ,( men coughing ),  ,Rast:What's the matter, Piggy?,  ,You crying 'cause you're cold?,  ,There's  brotherskilled by dead men,  ,and you're still here,  ,whimpering.,  ,That seem fair to you?,  ,I seen 'em tornto pieces fighting,  ,while you was off somewherehiding in a hole.,  ,Why don't you lie downand rest for a while, eh?,  ,You know you want to.,  ,Hey.,  ,Get up, Sam.,  , No.\",\n",
       " \"Get up.,  ,I can't.,  ,If you stop, you'll die.,  ,'Course if you don't stop,you'll probably die, too.,  , You don't care.\",\n",
       " \"'Course we care.,  ,You left me.,  ,When the white walkers came,you left me.,  ,Aye, we left you.,  ,You're fat and you're slow.,  ,We didn't want to die.,  ,( Sam sobbing ),  ,Help me get him up.,  ,Looks like that piggyis done for.,  , Help us get him up.\",\n",
       " \"He's slowing us down.,  ,Just get him up!,  ,Why?\",\n",
       " \"So the restof us can die?,  ,We'll move faster without him.,  ,What is this?Get up, Tarly.,  , Is he all right?\",\n",
       " \"Aye, I think so.,  ,If he can't, we may aswell just go without him.,  ,That's enough.,  ,Tarly,,  ,I forbid you to die.,  ,Do you hear me?,  , Why should the rest of us Rast...,  ,you're responsible for him.,  ,What am I supposed to do?,  ,Make sure he gets back alive.,  ,If he doesn't, you don't.,  ,Move on!,  ,I'm not dying for you, Piggy.,  ,You hear me?,  , ( branch snaps ) ( wolf growling ),  ,Where's Rickon and Hodor?,  ,Looking for food.,  ,( growling ),  ,What's out there?,  ,( growling ),  ,( growling ),  ,Osha:Not another step, boy.,  ,Unless you want to drownin your own blood.,  ,I'm unarmed.,  ,That was poor planning.,  ,My sister carries the weapons.,  ,I'm better with them.,  ,Drop the spear.,  ,Drop it.,  ,If you kill me,,  ,that wolf will tearyou to bits.,  ,( growling ),  ,You must be Summer.,  ,( sniffing ),  ,I'm Jojen Reed.,  ,This is my sister Meera.,  ,We've come a long wayto find you, Brandon.,  ,And we have much farther to go.,  ,Gendry: I'm justtrying to understand.,  ,Arya: Would you pleaseshut up about it?,  ,Jaqen H'ghar offeredyou three kills.,  , I'm not listening.\",\n",
       " 'But just explain it to me.,  ,He offered to killany three people you wanted.,  ,Dead.',\n",
       " 'All you had to dowas give him the names.,  ,Anyone.',\n",
       " 'You could havepicked King Joffrey.,  , Shut up.',\n",
       " 'You could have picked Tywin Lannister.,  ,Jaqen got us out of Harrenhal,,  ,so why are you complaining?,  ,But you could haveended the war.,  , Where are we going?',\n",
       " \"North.,  ,If we were going north,,  ,we should have come to theRed Fork River by now.,  ,Maybe we already passed it.,  ,It's  feet wide.,  ,How could we have passed it?,  ,If we hit the Red Fork,,  ,we can follow it westto Riverrun.,  ,My mother grew up there.,  ,My grandfather's a lord.He'll protect us.,  ,( man singing ),  ,Could be a minstrel.,  ,Shut up.,  , A lionstill has claws... ,  ,Hot Pie: A minstrel'sgot gold sometimes.,  ,We could jump him,tie him up, steal his gold,,  , and buy some food.\",\n",
       " \"Shh.,  , And so he spoke,and so he spoke ,  , That Lord of Castamere ,  , But now the rains ,  , Weep o'er his hall ,  , With no one thereto hear.\",\n",
       " \",  ,( gasps ),  ,Singer: What's lurkingbehind that wall?,  ,A lion?A wolf?,  ,Archer: Just a dirtylittle cub, I think.,  , Singer: Loose a few more shafts.\",\n",
       " \"Don't.,  ,Put the sword down, girl.,  ,You go on down the road.,  ,Just keep on singingso we know where you are.,  ,Leave us beand I won't kill you.,  ,( laughing ),  ,Generous.,  ,You're a dangerous person.,  ,I like dangerous people.,  ,Why are your friends so shy?,  ,What friends?,  ,The fat one to your leftand the lad beside him.,  ,Three young ones on the run,  ,carryingcastleforged swords.,  ,You escape from Harrenhal?,  , Arya: Who are you?\",\n",
       " \"Thoros of Myr.,  ,And the fellow herewith the bow is Anguy.,  ,No, who do you fight for?,  ,The Brotherhoodwithout Banners.,  ,Now come along.,  ,I want to hear how two boys,  ,and a very dangerous girlescaped Harrenhal.,  ,I'm not going with them.The Brotherhood?,  ,That's who the Mountainand them lot were looking for.,  ,They'll bring us backand put rats in us.,  ,You've got nothingto fear from us, son.,  ,The lords of Westeroswant to burn the countryside.,  ,We're trying to save it.,  ,Now come on.,  ,We'll talk some moreover brown bread and stew.,  ,And then you can goon your way.,  ,Here's the thing, fat boy.,  ,When I'm done talking,,  ,that arrow's falling downon your fat head.,  ,So I advise you move,because I'm done talking.,  ,( men laughing ),  ,Half the country's starvingand look at this one.,  ,Maybe he's the reasonhalf the country's starving.,  ,My lion.,  ,We've spoken of this.,  ,You cannot come here.,  ,But you said I should cometo you with any problems.,  ,Did anyone see you?,  , No.\",\n",
       " \"You sure?,  ,My father does notmake idle threats.,  ,Having you killed would bethe high point of his week.,  ,You have to beabsolutely certain.,  ,All right.,  ,What is this problem?,  ,I'm worried about Sansa.,  ,When she spokewith Lord Baelish,,  ,his friend warned me about him.,  ,Baelish doesn't have friends.,  ,I don't know her name.,  , Oh, Ros?\",\n",
       " 'The redhead?',\n",
       " \"How do you know her?,  ,I try to knowas many people as I can.,  ,You never knowwhich one you'll need.,  ,She's a whore.,  ,Yes, well, we shouldn't bejudgmental about these things.,  , You fucked her.\",\n",
       " \"Oh, please.,  ,All right, yes,I fucked her once.,  ,Twice.,  ,But since I met you, my lady,,  ,I've been with no one else.,  ,And was she good?Did you like her?,  ,Not as muchas I like you, obviously,,  ,or she'd be the onetorturing me right now.,  ,What did she sayabout Littlefinger?,  ,That Sansa shouldn't trust him.,  ,Is there an idiotin any village,  ,who trusts Littlefinger?,  ,We have to protect her.,  ,We can't.,  ,Now that the Lannistershave discarded her,,  ,Sansa will have many suitors.,  ,A great beautywith a very old name.,  ,A great beauty?Oh, a great beauty?,  ,Yes, she is, objectively, very.,  ,Her faceis quite pleasing,  ,to other men and to women,,  ,people in general.,  ,But not to me, of course.,  ,I only have eyes for you.,  ,You pervert.You want her?,  , This child?\",\n",
       " \"I don't even want to talk about her.,  , But you are.\",\n",
       " 'Only because you\\'re making me.,  ,( chuckles ) I didn\\'t forceyou to open your mouth,  ,and make words come out.,  ,This is cruel and unfair.Cruelly unfair.,  ,\"Oh, the cruelty.,  ,Shae is so cruel to me.',\n",
       " '\",  ,Hmm, yes.,  ,Now do you think I\\'m cruel?,  ,Only if you stop.,  ,But you mustn\\'tcome here again.,  ,Do you hear me?,  ,You\\'ve come toa dangerous place,  ,full of dangerous people.,  ,Dangerous people.',\n",
       " \"( moans ),  , ( knocks ) Guard: Lady Tyrell, my king.,  ,Send her in.,  ,You wanted to see me,Your Grace?,  ,I'm leaving on a hunting trip.,  ,I just wanted to make sure,  ,you had everythingyou need before I left.,  ,That's very thoughtful,Your Grace.,  ,I have everything I could want.,  ,Good.\",\n",
       " \"Good.,  ,How are you finding lifein the capital?,  ,It must be quite a changeafter Renly's camp.,  ,A welcome one.,  ,A military encampmentis no place for a lady.,  ,And the bedside of a traitor?,  ,Is that a place for a lady?,  ,Your Grace,,  ,I tried to do my dutyas a wife, that is all.,  ,What was your duty to thistraitor as you saw it?,  ,The duty of any wifeto any husband,  ,to provide him with children.,  ,You failed to do this.,  , Why?\",\n",
       " \"I,  ,I would not speak illof the dead, Your Grace.,  ,You think one oughtto speak kindly,  ,of a traitor merely because he'shad a sword put through his heart?,  ,No.,  ,I do beg your pardon.,  ,The subtleties of politicsare often lost on me.,  ,Renly...,  ,I don't believehe was interested,  ,in the company of women.,  ,What makes you say this?,  ,Whenever I wantedto make a child with him,,  ,he,  ,he had so many excuses,,  ,so many latenightwar councils.,  ,He never wanted to try.,  ,Except one evening,,  ,after he'd had far toomuch wine to drink,,  ,he suggested something,  ,something that soundedvery painful,  ,and couldn't possiblyresult in children.,  ,Maybe the fault was with me.,  ,No, he was a known...,  ,degenerate.,  ,It's such a relief to hearyou say so, Your Grace.,  ,Mmm.,  ,I've consideredmaking his perversion,  ,punishable by death.,  ,As is your right.,  ,You must do whateveryou need to do.,  ,You are the king.,  ,Yes.,  ,I am.,  ,Do you like it?,  ,I just had it made.,  ,Probably one of the finestweapons in the Seven Kingdoms.,  ,It's beautiful.,  ,Will you show me how it works?,  ,It's a new design.,  ,Much easier to load.There's no crank.,  ,You use this leverto draw the string.,  ,The bolt goes here.,  ,And then you just aim...,  ,and...,  ,( laughs ),  ,Would you take mehunting sometime?,  ,Forgive me, Your Grace.,  ,I know a huntis no place for a woman.,  ,It's not unheard of.,  ,My father would neverlet me before,  ,You no longer belong to him.,  ,Do you want to hold it?,  ,May I?Please.,  ,I imagine it must beso exciting,  ,to squeeze your finger here,  ,and watch somethingdie over there.,  ,Could you do it?,  ,Could you...,  ,kill something?,  ,I don't know, Your Grace.Do you think I could?,  ,Yes.,  ,Would you like to watch me?,  ,Yes.,  ,( screams )Stop!\",\n",
       " 'Stop!,  , Tell us the truth.',\n",
       " \"About what?,  ,( screams ) I don'tknow what you want.,  ,I want the truth.,  ,What truth?,  ,Why'd you take Winterfell?,  ,I took it toI took it,  , Who gave the orders?\",\n",
       " 'No one.,  , I took it on my own.',\n",
       " \"Why?,  ,To take the Northwhile it was vulnerable.,  ,What were you goingto do once you took it?,  ,Hold it.Rule it.,  ,Good.That's very good.,  ,( screams ),  ,Why did you do that?I told you.,  ,Why did you take Winterfell?,  ,I took it to bring gloryto my house and my father.,  ,Wait.Wait, wait, wait.,  ,I took it becauseI hated the Starks.,  ,I hated themfor holding me prisoner.,  ,I wanted to hurt them.,  ,What are you doing?,  ,Please.,  ,( screaming ),  ,I'll tell you anything.,  ,Just take it off.,  ,Please.Please, just take it off.,  ,( door closes ),  , Your sister sent me.\",\n",
       " \"Yara?,  ,( whimpers ),  ,I'll come for you tonightwhen the castle sleeps.,  ,No, don't go.Please, please.,  ,No, please don't leave me.,  ,Please, please.,  ,Please, please don't go!,  ,( sobbing ) Please.\",\n",
       " \"Please.Don't leave me.,  ,Please don't go.,  ,Rickon, stay with us.,  ,It's all right.The wolves will protect him.,  ,You can get inside his head,,  ,see through his eyes.,  ,Only when I'm asleep.,  ,That's how it begins untilyou learn to control it.,  ,You're a warg.,  ,It's not just wolves.,  ,Sometimes in my dreamsthere's a,  , A threeeyed raven?\",\n",
       " \"You've seen it?,  ,We saw him together.You haven't forgotten?,  ,Does it have anythingto do with warging?,  ,No, the ravenis something different,,  ,something deeper.,  ,The raven brings the sight.,  ,Seeing thingsthat haven't happened yet?,  ,Or things that happenedlong before you were born,  ,or things that are happening rightnow thousands of miles away.,  ,What's he telling him?,  ,Why don't you ask?,  ,Isn't he ashamed, your brother,,  ,needing you to protect him?,  ,Where's the shame in that?,  ,Any boy his age who needshis sister to protect him,  ,is gonna find himselfneeding lots of protecting.,  ,Some peoplewill always need help.,  ,That doesn't meanthey're not worth helping.,  ,When my father died,I dreamt it.,  ,You didn't dream it.You saw it.,  ,So did I.,  ,You have the sight, too?,  ,When I told my fatherabout your father...,  ,for the first timein my life, I saw him cry.,  ,Your father is Howland Reed?,  ,Yeah.,  ,He saved my father's lifeduring the rebellion.,  ,Your father told youabout the rebellion?,  ,Mine never did.,  ,But I saw that, too.,  ,What else have you seen?,  ,Only one thingthat matters,  ,you.,  ,( men laughing ),  ,Thoros: I never likedthe skinny ones.,  ,Like drinking from a puddle.,  ,Not that I'm averseto drinking from a puddle,  ,every now and again,you understand.,  ,I don't drink ale.,  ,There's no story so gooda drink won't make it better.,  , Yeah!\",\n",
       " \"You see?,  ,They've all suffered throughmy bouts of sobriety.,  ,It's very tediousfor all concerned.,  ,Now, how didthree children,  ,We're not children.,  ,How did three young personssuch as yourselves,,  ,untrained in the art of war,,  ,escape from Harrenhal?,  ,Gendry's a smith.,  ,He was apprenticedin the armory.,  ,A smith, eh?Where'd you train?,  ,King's Landing.Tobho Mott's shop.,  ,That criminal.He charges twice as much,  ,as every other armorerin the city.,  ,That's becausehe's twice as good.,  ,Aha!\",\n",
       " 'A smithand a salesman.,  ,Gendry stole us weapons.,  ,Ah, fought your wayout of Harrenhal, I see.,  ,He knows how to use asword and so do I.,  ,( men laugh ),  ,My brothers taught me.,  ,( men laugh ),  ,Men:Ooh!,  ,( men cheer ),  , To your brothers!',\n",
       " \"( cheering ),  ,You can finishyour meals before you go.,  ,It may be awhilebefore you see another.,  , You'll free us?\",\n",
       " 'I gave you my word.,  ,But before you go,,  ,allow me to raisea cup to your,  , Hey, hey.',\n",
       " '( men cheering ),  ,Now that is an uncommonlylarge person.,  ,How does one manage to subdue,  ,such an uncommonlylarge person?,  ,One waits for him to drinkuntil he passes out.,  ,Poor man.You have my sympathy.,  ,Aha, not a man at all.,  , A Hound!',\n",
       " '( men howl and bark ),  ,So good to seeyou again, Clegane.,  ,Thoros?,  ,The fuck you doing here?,  ,Drinking and talking too much.,  , Same as ever.',\n",
       " '( men laugh ),  , A pretty prize, lads.',\n",
       " \"Men: Yeah!,  ,Girl.,  ,What in seven hells,  ,are you doingwith the Stark bitch?,  ,Jaime:It's a tough decision,  ,take the bridgeand risk being seen,  ,or cross the great water.,  , Silence, Kingslayer.\",\n",
       " \"Anyone can see us on the bridge,,  ,but cross by waterand the current could take us,  ,or I could escapedown the river.,  ,Good luck.,  ,It's wonderful to watch youwrestle with these dilemmas.,  ,Which will she choose?,  ,Gambler at heart.,  ,Wouldn't have guessed.,  ,Be quick about it.,  ,( Jaime groans ),  , I need to rest.\",\n",
       " 'Get up.,  ,I have these, you know, on yourfeet when you walk too far.,  , What do you call them?',\n",
       " 'Get up now.,  ,Corns.',\n",
       " \"I neverused to get corns.,  ,Of course I usedto ride everywhere,,  ,not march aroundlike a common foot soldier,  ,wearing the same shit bootsfor over a year.,  ,This heel is ruined.There's no way,  ,( grunts ),  ,( chuckles ),  ,I never understood why some knightsfelt the need to carry two swords.,  ,( sighs ),  ,Ooh.,  ,You move well...,  ,for a great beast of a woman.,  ,You shouldn't grimacebefore you lunge.,  ,It gives away the game.,  ,Bit of a quandary for you.,  ,If you kill me,you fail Lady Stark.,  ,But if you don't kill me,,  ,I'm going to kill you.,  ,You're good.,  ,Graceless, but good.,  ,See?\",\n",
       " \"If you werewilling to hurt me,,  ,you might have had me there.,  ,( grunting ),  ,( grunts ),  ,( panting ),  ,( groans, coughs ),  ,( Jaime breathing heavily ),  ,( horse neighs ),  ,Looks like your woman'sgetting the better of you,,  ,if you can call that a woman.,  ,We enjoy a good fight.,  ,Gets our juices flowing.,  ,The Flayed Man of House Bolton.,  ,A bit gruesome for my taste.,  , You sure he's the one?\",\n",
       " 'That\\'s him, all right.,  ,I saw him fight at the tourney,  ,for Ser Willem Frey\\'s wedding.,  ,Give the man his silver.,  ,Let us go and my father willpay you whatever you want.,  ,Enough to buy me a new head?,  ,If the King in the Northhears I had the Kingslayer,  ,and let him go,he\\'ll be taking it right off.,  ,I\\'d rather he takes yours.,  ,<font color=\"#ecbd\"Sync & corrections by honeybunny</font<font color=\"#ecbd\"www.addiced.com</font,  ,<font color=\"#ffff\" size=www.tvsubtitles.net</font\\xef\\xbb\\xbfIf I may, nephew,,  ,I encountered a situationwith one of my lieutenants,  ,at the Stone Millwhich may have some bearing,  ,Why don\\'t you shut your mouthabout that damned mill?,  ,And don\\'t call him \"nephew.',\n",
       " '\"He is your king.,  ,Robb knowsI meant him no disr,  ,You\\'re lucky I\\'m not your king.,  ,I wouldn\\'t let you waveyour blunders around,  ,like a victory flag.,  ,My blunder sent Tywin\\'s mad dog,  ,scurrying back to Casterly Rock withhis tail between his legs.,  ,I think King Robb understandswe\\'re not gonna win this war,  ,if he\\'s the only onewinning any battles.,  ,No, there\\'s glory enoughto go around.,  ,It\\'s not about glory.,  ,Your instructions were to waitfor him to come to you.,  ,I seized an opportunity.,  ,What value was the mill?,  ,The Mountain was garrisonedacross the river from it.,  ,Is he there now?,  ,Of course not.We took the fight to him.,  ,He could not withstand us.,  ,I wanted to drawthe Mountain into the west,,  ,into our country wherewe could surround him and kill him.,  ,I wanted him to chase us,,  ,which he would have donebecause he is a mad dog,  ,without a strategic thoughtin his head.,  ,I could have that headon a spike by now.,  ,Instead, I have a mill.,  ,We took hostages.,  ,Willem Lannister.Martyn Lannister.,  ,Willem and Martyn Lannisterare  years old.,  ,Martyn is , I believe.,  ,Tywin Lannister has my sisters.,  ,Have I sued for peace?,  ,No.,  ,Do you thinkhe\\'ll sue for peace,  ,because we have his father\\'s,  ,brother\\'sgreatgrandsons?,  ,No.,  ,How many men did you lose?,  ,.,  ,But for every man we lost,the Lannisters,  ,We need our men morethan Tywin needs his!,  ,I\\'m sorry.,  , I didn\\'t know.',\n",
       " \"You would have.,  ,Right here today at this gatheringif you had been patient.,  ,We seem to be runningshort of patience here.,  ,You know who isn't?,  ,Tywin Lannister.,  ,Intimate.Lovely table.,  ,Better chairs than the oldsmall council chamber.,  ,Conveniently closeto your own quarters.\",\n",
       " 'I like it.,  ,What news of Jaime?,  ,, unwashed Northerners,  ,have known abouthis escape for weeks.,  ,Collectively, you controlmore spies and informants,  ,than the restof the world combined.,  ,Do you mean to tell methat none of you,  ,has any notion of where he is?,  , We are trying, my lord.',\n",
       " \"Try harder.,  ,What do we have, then?,  ,Robb Stark and most of hisbannermen are in Riverrun,  ,for the funeral of his grandfatherLord Hoster Tully.,  ,In Stark's absence,Roose Bolton holds Harrenhal,,  ,which would seem to makehim Lord of Harrenhal,,  , in practice if not in name.\",\n",
       " 'Well, let him have it.,  ,The name suits our purposes,  ,far more than thatuseless pile of rubble.,  ,The Lord of Harrenhal will make aworthy suitor for the widow Arryn.,  ,For which I am extremelygrateful to you, my lord.,  ,Lady Arryn and I have knowneach other since we were children.,  ,She has always been...,  ,positively predisposedtoward me.,  ,A successful courtshipwould make Lord Baelish,  ,acting Lord of the Vale.,  ,Titles do seem to breed titles.,  ,You\\'ll leave for the Eyrieas soon as possible,  ,and bring Lysa Arryninto the fold.,  ,Then the young wolf can addhis own aunt to the list,  ,of people who havetaken up arms against him.,  ,Far be it from meto hinder true love,,  ,but Lord Baelish\\'s absencewould present certain problems.,  ,The royal wedding may end up,  ,being the most expensiveevent in living memory.,  ,Summer has ended,hard days lie ahead.,  ,Not a good time to leave thecrown\\'s finances unattended.,  ,Fully agreed.,  ,Which is why I\\'m naming younew Master of Coin.,  ,Master of Coin?,  ,It would appear to be a positionthat best suits your talents.,  ,I\\'m quite goodat spending money,,  ,but a lifetimeof outrageous wealth,  ,hasn\\'t taught me muchabout managing it.,  ,I have no doubt you willprove equal to this challenge.,  ,Hear, hear.,  , He lifted herhigh in the air ,  , He sniffed and roaredand smelled her there ,  , She kicked and wailed,a maid so fair ,  , But he licked the honeyfrom her hair ,  , From there to here,from here to there ,  , All black and brownand covered with hair ,  , He smelled that girlin the summer air ,  , The bear, the bearand the maiden fair... ,  ,I hope you\\'re pleased.,  ,If you had armed me,they never would have taken us.,  ,You were armedwhen we were taken.,  ,I was in chains if you recall.,  ,Our little match wouldhave ended quite quick,  ,if my hands weren\\'t bound.,  ,All my life I\\'ve beenhearing, \"Jaime Lannister,,  ,what a brilliant swordsman.',\n",
       " '\",  ,You were slowerthan I expected.,  ,And more predictable.,  ,I\\'ve been sittingin a muddy pen,  ,wrapped in chainsfor the past year.,  ,And I\\'m a woman.I was still beating you.,  ,You were not beating me.,  ,Maybe you were as goodas people said...,  ,once.,  ,Or maybe people just loveto overpraise a famous name.,  ,When we make camp tonight,you\\'ll be raped.,  ,More than once.,  ,None of these fellows haveever been with a noblewoman.,  ,You\\'d be wise not to resist.,  , Would I?',\n",
       " \"They'll knock your teeth out.,  ,You think I careabout my teeth?,  ,No, I don't think youcare about your teeth.,  ,If you fight them,they will kill you.,  ,Do you understand?,  ,I'm the prisonerof value, not you.,  ,Let them have what they want.What does it matter?,  , What does it matter?\",\n",
       " \"Close your eyes.,  ,Pretend they're Renly.,  ,If you were a woman,you wouldn't resist?,  ,You'd let themdo what they wanted?,  ,If I was a woman,I'd make them kill me.,  ,But I'm not, thank the gods.,  ,If I had a proper forge,I could make it good as new.,  ,Doesn't have to look pretty.,  ,It just has to keepthe arrows out of my heart.,  ,Why are you helping him?,  ,He takes us prisonerand now he's our friend?,  ,You're not our prisoner,little lady.,  , What am I?\",\n",
       " \"Our guest.,  ,No one's put any chains on you.,  ,So I can walk away, then?,  ,These woods aren't safefor Ned Stark's daughter.,  ,You're lucky we found you.,  ,You think you're good withthat bow, you little twat?,  ,Better than anyoneyou've ever met.,  ,A coward's weapon.,  ,I like to fight up close.,  ,I like to see a man's facewhen I put the steel in him.,  ,Why?So you can kiss him?,  ,You remember the last timeyou were here?,  ,Looks like every othershit inn on the road.,  ,Now, apologies,but you're one ugly fucker,  ,and I'd rather notsee you no more.,  ,Watch your head.,  ,Off we go.,  ,Walk up!,  ,What are you doing?We're about to leave.,  ,I'm staying.,  ,You're what?,  ,I baked some brown breadfor the innkeep,  ,and she saidshe never had better.,  ,Told Thoros she's keeping meas a payment,  ,for all the free mealsshe's given him.,  ,Anyway, it's not methe Brotherhood wants.,  ,My brother ain't no king.,  ,I'm not a Stark of Winterhell.,  ,Winterfell.,  , You sure?\",\n",
       " 'I\\'m sure.,  ,Well, I made you something.,  ,What is it?,  ,It\\'s a wolf.,  ,Yes, it is.,  ,That\\'s the tail?,  ,Yeah.,  ,Well, be safe.,  ,Yeah, you, too.,  ,Don\\'t get stabbed.,  ,You don\\'t...,  ,burn your fingers.,  ,Goodbye, Hot Pie.,  ,Goodbye, Arry.,  ,Up you go, little lady.,  ,Hey, Hot Pie.,  ,It\\'s really good.,  ,A person couldalmost be forgiven,  ,for forgetting we\\'re at war.,  ,It often comforts me to thinkthat even in war\\'s darkest days,,  ,in most places in the world,  ,absolutely nothingis happening.,  ,I\\'ve missed you, Uncle.,  ,Father missed you, too,,  ,from the day you left.,  ,Maybe he never said itin so many words,  ,Maybe?,  ,Your fatherwas a stubborn old ox.,  ,I was surprised when he died.,  ,Didn\\'t think deathhad the patience.,  ,I\\'m glad you were with him.,  ,I wish to the gods I had been.,  ,Did you make peace in the end?,  ,After  years of fighting,,  ,I don\\'t think he rememberedwhat started it.,  ,He asked me to stopcalling myself Blackfish.,  ,He said it was an old joke,  ,and it was never funnyto begin with.,  ,I told him people had beencalling me Blackfish,  ,for so long, they don\\'tremember my real name.,  ,Every time he would leavefor the capital,  ,or fight in a campaign,,  ,I\\'d see him off.,  ,\"Wait for me,little Cat,\" he\\'d say.,  ,\"Wait for me,  ,and I\\'ll come backto you.',\n",
       " '\",  ,And I would sit at this window,  ,every day when the suncame up, waiting.,  ,I wonder,  ,how many timesdid Bran or Rickon,  ,stare across the moorsof Winterfell,  ,waiting for me to return.,  ,I will never see them again.,  ,You mustn\\'t think it.,  ,We don\\'t know the truth.,  ,They could be in hiding.,  ,Robb believes they\\'re alive.,  ,And he must go on believing.,  ,He\\'s got to remain strongif he\\'s to prevail.,  ,And you must remainstrong for him.,  ,You\\'re Robb Stark\\'s wife.,  ,Hold still.,  ,Is it truewhat they say about him?,  ,I don\\'t know.What do they say about him?,  ,That he can turninto a wolf at night.,  ,True.,  ,And he eats the fleshof his enemies.,  ,True.,  ,You\\'re a Lannister, aren\\'t you?,  ,Martyn Lannister.,  ,Martyn Lannister.,  ,You\\'ve nothing to fear.,  ,My husbanddoesn\\'t eat children.,  ,Unless it\\'s a full moon.,  ,It\\'s not a full moontonight, is it?,  ,See?,  ,Nothing to fear.,  ,Always the artists.,  ,It\\'s only horses.,  ,No men.,  ,You said there was dead crows.,  ,There was.,  ,How many men were here?,  ,About .,  ,And you knowwhat those men are now?,  ,We\\'re all the same to themmeat for their army.,  ,Do you think anyone got away?,  ,It\\'s not impossible.,  ,You don\\'t go farbetting against Mormont.,  ,But dead or alive,,  ,he took a big gamblecoming north.,  ,And he lost.,  ,His best fighting men are dead.,  ,And whether he\\'s Lord Commanderof the Night\\'s Watch,  ,or a blueeyed corpse,,  ,he\\'s a long way from home.,  ,Tormund.,  ,Climb the Wall.,  ,Take Orell and  good men.,  ,And take this one.,  ,He knows Castle Black\\'sdefenses better than any of us.,  ,And if he\\'s useful, good.If not...,  ,throw him off the Wall.,  ,See if crows can fly.,  ,We\\'re finally going to war,old friend?,  ,Hide near Castle Black.,  ,When I give the signal,hit them in the night.,  ,They\\'ve got a big old wallto hide behind,,  ,but it only guards one side.,  , We\\'ll meet again.',\n",
       " 'Aye.,  , If you do your job.',\n",
       " \"Ah.,  ,How will we see your signal?,  ,Send your eagle abovethe Wall every night.,  ,When it's time, I'm goingto light the biggest fire,  ,the North has ever seen.,  ,Ghost?,  ,What have we here?Frozen crows?,  ,We've come a long way.,  ,Smaller flockthan you went north with.,  ,We can talk inside.,  ,Oh, can we?,  ,They need some water.,  ,Tether it and I'll be inside.,  ,Keep your eyeswhere they belong.,  ,They're not for you.,  ,Bet you feed that pigbetter than you feed us.,  ,Aye, pig's got value to me.,  ,You should all be kissingmy feet for letting you in.,  ,I'd have turned you all awayif I wasn't a godly man.,  ,You are a godly man?,  ,I am.I got no fear of what's out there.,  ,When the white cold comes,,  ,your swords and cloaksand bloody fires won't help you.,  ,The only ones left will bethose who are right with the gods.,  ,The real gods.,  ,Go tell her she canbite down on a rag,  ,or she can bite downon my fist.,  ,Women.,  ,That sow right there gave birth,  ,to a litter of eight.,  ,Barely a grunt.,  ,And she's almost as fatas this one here.,  ,Now why don't you dine on him?,  ,Carve off what you needas you go.,  ,Well, look at him.He's a walking feast.,  ,Here we are.,  ,Sharpen these for me, would ya?,  ,I see the head.Push.,  ,That's it.,  ,You're nearly there.,  ,One more push should do it.,  ,What is it?What is it?,  ,Keep quiet.,  ,If you can't ride,we don't stand a chance.,  ,I can ride.,  ,You're sure?,  ,Ride east.Follow the rising sun.,  ,Your sister's waiting for you.,  ,I'll make you a Lordof the Iron Islands for this.,  ,We're not in the Iron Islands.,  , Go.\",\n",
       " 'Come on.,  ,Come on.Come on.,  ,Come on.',\n",
       " \"Come on.,  ,Come on back.,  ,You refuse to tell mewhere you're going?,  ,I don't know yet.The fires will show me.,  , How long will you be gone?\",\n",
       " \"I don't know.,  ,You're abandoning me.,  ,I will never abandon you.,  ,You are the Son of Fire.,  , I am sworn to serve you.\",\n",
       " \"Then serve me.,  ,When I return,you will understand.,  ,My enemies thinkthey've destroyed me.,  ,They're laughing at me,  ,the way Renly laughed at me.,  ,I want Joffrey dead.,  ,I want Robb Stark dead.,  ,Make me another son.,  ,I cannot.,  ,Why?,  ,You don't have the strength.It would kill you.,  ,I'm not so easily killed.Men have been trying for years.,  ,I want you.,  ,Your fires burn low, my king.,  ,There is another way.A better way.,  ,You told me your magicrequires a king's blood.,  , Yes.\",\n",
       " \"I'm the one true king.,  ,You are.,  ,But there are otherswith your blood in their veins.,  ,You will siton the Iron Throne,,  ,but first there mustbe sacrifices.,  ,The Lord of Light demands it.,  ,The Walk of Punishmentis a warning, Your Grace.,  , To whom?\",\n",
       " 'To any slave who contemplates doing,  ,whatever these slaves did.,  ,Give me your water.,  ,Khaleesi, this manhas been sentenced to death.,  ,Here, drink.,  ,Leave this place, Your Grace.,  ,Leave tonight, I beg you.,  ,And what is sheto do for soldiers?,  ,We can find sellswordsin Pentos and Myr.,  ,Is it \"we\" already,Ser Barristan?,  ,If you want to sit on the throne yourancestors built, you must win it.,  ,That will mean blood on yourhands before the thing is done.,  ,The blood of my enemies,not the blood of innocents.,  ,How many wars have youfought in, Ser Barristan?,  , Three.',\n",
       " \"Have you ever seen a war,  ,where innocents didn't dieby the thousands?,  ,I was in King's Landingafter the sack, khaleesi.,  ,You know what I saw?Butchery.,  ,Babies, children, old men.,  ,More women rapedthan you can count.,  ,There's a beast in every man,  ,and it stirs when you puta sword in his hand.,  ,But the Unsullied are not men.,  ,They do not rape.,  ,They do not put cities to the swordunless they're ordered to do so.,  ,If you buy them, the only men they'llkill are those you want dead.,  ,Do you disagree, Ser Barristan?,  ,When your brother Rhaegar ledhis army into battle at the Trident,,  ,men died for himbecause they believed in him,,  ,because they loved him,,  ,not because they'd been boughtat a slaver's auction.,  ,I fought beside the last dragonon that day, Your Grace.,  ,I bled beside him.,  ,Rhaegar fought valiantly,Rhaegar fought nobly,,  ,and Rhaegar died.,  ,Did you know him well,Ser Barristan?,  ,I did, Your Grace.Finest man I ever met.,  ,I wish I had known him.,  ,But he was not the last dragon.,  ,All?,  ,Did this one's earsmishear, Your Grace?,  ,They did not.I want to buy them all.,  ,,  ,,  ,,  ,,  ,There are , Unsulliedin Astapor.,  ,Is this what you mean by all?,  ,Yes.\",\n",
       " \",.,  ,And the onesstill in training as well.,  ,,  ,,  ,Master Greizhen says theycannot sell halftrained boys.,  ,If they failon the battlefield,,  ,they will bring shameupon all of Astapor.,  ,I will have them allor take none.,  ,Many will fall in battle.,  ,I'll need the boys to pickup the swords they drop.,  ,,  ,Master Kraznys saysyou cannot afford this.,  ,,  ,Your ship will buy you Unsullied.,  ,Because Master Kraznys is generous.,  ,The gold you have leftis worth .,  ,But good Master Kraznyswill give you .,  ,The Dothrakiyou have with you,  ,,  ,The Dothraki you have are notworth what they cost to feed,,  ,but Master Kraznys will giveyou three Unsullied,  ,for all of them.,  ,,  ,Master Kraznys askshow you propose to pay,  ,for the remaining, Unsullied.,  ,I have dragons.I'll give you one.,  ,You will win the thronewith dragons, not slaves, Your Grace.,  ,Khaleesi, please.,  ,Three dragons.,  , One.\",\n",
       " 'Two.,  ,One.,  ,They want the biggest one.,  , Done.',\n",
       " \"Done.,  ,I'll take you as well, now.,  ,You'll be MasterKraznys' gift to me.,  ,A token of a bargainwell struck.,  ,,  ,,  ,Khaleesi, a dragon is worthmore than any army.,  ,Aegon Targaryen proved that.,  ,You're both here to advise me.,  ,I value your advice,but if you ever question me,  ,in front of strangers again,,  ,you'll be advisingsomeone else.,  ,Is that understood?,  ,Do you have a name?,  ,This one's nameis Missandei, Your Grace.,  ,Do you have a family?A mother and a father,  ,you'd return toif you had the choice?,  ,No, Your Grace.No family living.,  ,You belong to me now.It is your duty to tell me the truth.,  ,Yes, Your Grace.Lying is a great offense.,  ,Many of those on the Walk of Punishmentwere taken there for less.,  ,I offered water to one of the slavesdying on the Walk of Punishment.,  ,Do you know what he said to me?\",\n",
       " '\"Let me die.',\n",
       " '\",  ,There are no mastersin the grave, Your Grace.,  ,Is it true whatMaster Kraznys told me,  ,about the Unsullied?About their obedience?,  ,All questions have beentaken from them.,  ,They obey, that is all.,  ,Once they are yours,they are yours.,  ,They will fall on their swordsif you command it.,  ,And what about you?You know that I\\'m taking you to war.,  ,You may go hungry.You may fall sick.,  ,You may be killed.,  ,Valar morghulis.,  ,Yes, all men must die.,  ,But we are not men.,  ,A surprising place to keepthe royal ledgers.,  ,I\\'m surprised you\\'re surprised.,  ,This is the safest placein the city.,  ,Not for bastards.,  ,That\\'s all of them, my lord.,  ,Thank you, my dear.Pod.,  ,Pod.Take them outside.,  , I\\'ll be there in a moment.',\n",
       " \"Yes, my lord.,  ,I hear you owe that boya significant debt.,  ,Only my life.,  ,Not all that significant,I'm afraid.,  ,You should have him knighted.,  ,If only the Master of Coinhad such power.,  ,If only.,  ,I owe you a significant debt.,  ,Our redheaded friend.,  ,You secured her releasewhen the queen detained her.,  ,Oh, that.,  ,Of course.A simple misunderstanding.,  ,Apparently, Her Grace believed,  ,that you two had some sortof special relationship.,  ,We don't.I did fuck her once.,  , I know.\",\n",
       " \"But we don't.,  ,I know.,  ,But how would the queenget that idea?,  ,Why don't you ask her?,  ,Any advice for meon my new position?,  ,Keep a low profile.,  ,If I had a gold dragon,  ,for every time I heardthat joke, I'd be richer than you are.,  ,Well, you are richer than I am.,  ,Good point.,  ,They're only numbers.Numbers on paper.,  ,Once you understand that,it's easy to make them behave.,  ,Trivial even.,  ,You want a real challenge?,  ,Try whores.,  ,I've tried quite a few.,  ,Well, lots of work to do.,  ,Enjoy the Eyrie.,  ,Come on, I'm here later.,  ,Come on.,  ,Tonight, then.,  ,Looks like dull reading.,  ,You think all readingis dull reading.,  ,It's an opinion I share withsome of the finest men I know.,  ,The secret history of the SevenKingdoms is written in these pages.,  ,Unless Lord Twatbeardmade up a bunch of numbers,  ,to hide what he's really up to.,  ,Unless he made it all up, yes.,  , Podrick, do keep up.\",\n",
       " 'Yes, my lord.,  , Podrick.',\n",
       " \"Yes, my lord?,  ,After a long consultationwith my colleague Ser Bronn,,  ,I finally founda suitable reward,  ,for the services you'veprovided over and above,  ,what might beconsidered reasonable.,  ,Tell me, Pod,,  ,have you ever beenwith a woman?,  , No, my lord.\",\n",
       " 'Wonderful.,  ,Genna specializesin firsttimers.,  ,She\\'s not bad withsecondtimers, either.,  ,Uh, my lord...,  ,A fair enough repaymentfor putting your spear,  ,through my wouldbe killer\\'s face,wouldn\\'t you say?,  ,Now, as it happens,,  ,Marei...,  ,is quite the spearhandler herself.,  ,She\\'s here to thank youfor staying by my side,  ,as the battle ragedall around me.,  ,He\\'s handsome.,  ,You didn\\'t tell mehe was handsome.,  ,Kayla is famousfrom here to Volantis,  ,in certain circles.,  ,One of four women in the world,  ,who can perform a properMeereenese Knot.,  ,My lord, I don\\'t even...,  ,She\\'s here to thank you,  ,for being a thoroughlyrespectful fellow,  ,who\\'s never once failedto address me as \"my lord.',\n",
       " '\",  ,Be back in time for my supper.,  ,Pace yourself, lad.,  ,For years I\\'ve heardthat Littlefinger,  ,is a magician.,  ,Whenever the crown needs money,he rubs his hands together,  ,and, poof, mountains of gold.,  ,Let me guess.He\\'s not a magician.,  ,No.,  , He\\'s stealing it?',\n",
       " \"Worse, he's borrowing it.,  ,What's wrong with that?,  ,We can't afford to pay it back,that's what's wrong with it.,  ,The crown owes millionsto my father.,  ,Seeing as it's his grandson'sass on the throne,,  ,I imagine he'll forgivethat debt.,  ,Forgive a debt, my father?,  ,For a man of the world,you're strangely naive.,  ,I've never borrowedmoney before.,  ,I'm not clear on the rules.,  ,Well...,  ,Ahem!,  ,The basic principle is,  ,I lend you money,,  ,and after an agreed uponperiod of time,,  ,you return it with interest.,  ,And what if I don't?,  ,Well, you have to.,  ,But what if I don't?,  ,This is whyI don't lend you money.,  ,Anyway, it's not my fatherI'm worried about.,  ,It's the Iron Bank of Braavos.,  ,We owe them tens of millions.,  ,If we fail to repay these loans,the bank will fund our enemies.,  ,One way or another,they always get their gold back.,  ,Ah, the returnof the conquering hero.,  ,Does he have a littlejaunt in his step?,  ,The lad's practically skipping.,  ,You were gone a long time.,  ,I trust you gotyour money's worth.,  ,Or should I saymy money's worth?,  ,Oh, it was a gift, Podrick.,  ,This is more thanI give you in a year.,  ,He's a squire.You don't pay him.,  ,Oh, then it's much morethan I give you in a year.,  ,They wouldn't take it, my lord.,  ,Maybe they're tryingto curry some favor,  ,with the new Master of Coin.,  ,Have you ever known a whoreto turn down gold?,  ,They were happy enoughto take it when I gave it to them.,  ,What did you tell them?,  ,I didn't tell them anything.,  , What did you do to them?\",\n",
       " \"Lots of things.,  ,And they seemedto like these things?,  ,Yes, my lord.,  ,Of coursethey seemed to like it.,  ,They're paidto seem to like it.,  ,Only they weren't paid.,  ,What are you saying?These ladies enjoyed him so much,,  ,they gave himthe time for free?,  ,Is that what you're telling us?,  ,Sit down, Podrick.,  ,We're going to need details.,  ,Copious details.,  ,Come on!Come on!,  ,Come on!,  ,Come on.,  ,Ha!\",\n",
       " 'Ha!,  ,You know how we dealwith runaways here, do you?,  ,Take off his pants.,  ,No!',\n",
       " \"No!,  ,No, no, no!,  ,I'm gonna fuck youinto the dirt.,  ,No, please!No, no, no!,  ,No, don't!,  ,No, please!,  ,No!\",\n",
       " \"No!,  ,You little bastard.,  ,Come, my lord.,  ,You're a long way from homeand winter is coming.,  ,I'll take the big bitch first.,  ,When she's good and wet,you lot can finish her off.,  ,My lord, I am Brienne of Tarth.,  ,Lady Catelyn Stark commanded me,  ,to deliver Ser Jaimeto King's Landing.,  ,Catelyn Stark'sa treasonous cunt.,  ,Orders were to takethe Kingslayer alive.,  ,Nobody said shit about you.,  ,You're only making it worse.,  ,Take her over therewhere it's dark.,  ,I'd like a little privacy.,  ,Come on!,  ,You know who she is, don't you?,  ,A big dumb bitchfrom who cares where.,  ,Never been witha woman that big.,  ,She's Brienne of Tarth.,  ,Her fatheris Lord Selwyn Tarth.,  ,Heard of Tarth?,  ,I'm gonna cut your throat!,  ,They call it the Sapphire Isle.Do you know why?,  ,Every sapphire in Westeros,  ,was mined on Tarth.,  ,Sapphires are gemstones.,  , The blue ones.\",\n",
       " \"I know what they are.,  ,Lord Selwyn would payhis daughter's weight,  ,in sapphiresif she's returned to him.,  ,But only if she's alive,,  ,her honor unbesmirched.,  ,Bring her back here.,  ,Yes, my lord.,  , Get up.\",\n",
       " 'Come on.,  ,Come on, on your feet.,  ,Unbesmirched.,  ,Not defiled.,  ,Fancy word for a fancy man.,  ,I hated to read as a child,,  ,but my father forced meto study the books every morning,  ,before I could practicewith sword or horse.,  ,Two hours every day holed up inthe maester\\'s chambers.,  ,I learned a lot of fancy words.,  ,I bet you did.,  ,Your father,,  ,he\\'d pay your weightin gold to get you back?,  ,You\\'ll be a rich mantill the end of your days.,  ,And your sons will be rich men,  ,and their sons after them.,  ,Lands, titles,  ,you\\'ll have them all.,  ,The North can\\'t win this war.,  ,You\\'re a smart man.You understand that.,  ,We have the numbers.We have the gold.,  ,Aye, you have both.,  ,Fighting bravelyfor a losing cause,  ,is admirable.,  ,Fighting for a winning cause,  ,is far more rewarding.,  ,Hard to argue with that.,  ,Now that we\\'re speakingtogether man to man,,  ,I wonder if you needto keep me chained to this tree.,  ,I\\'m not asking to be freedfrom my constraints,,  ,but if I could sleeplying down,,  ,my back would thank you for it.,  ,I\\'m not as young,  ,and resilient as I was once.,  ,None of us are.,  ,Unchain Ser Jaimefrom the tree.,  ,Come on, men.,  ,Suppose you\\'ll be wantingsomething to eat.,  ,I\\'m famished, actually.,  ,I think we\\'ve got a sparepartridge on the fire.,  ,Well, I do like partridge.,  ,Bring the bird over hereand the carving knife.,  ,Will this workas a table, my lord?,  ,Oh, yes.Yes, this will do nic,  ,ah!,  ,On the stump.,  ,You think you\\'rethe smartest man there is.,  ,That everyone alivehas to bow and scrape,  ,and lick your boots.,  , My father And if you get in any trouble,,  ,all you\\'ve got to dois say \"my father\",  ,and that\\'s it,all your troubles are gone.,  , Don\\'t.',\n",
       " 'Have you got something to say?,  ,Careful.',\n",
       " 'You don\\'t want to saythe wrong thing.,  ,You\\'re nothingwithout your daddy,,  ,and your daddy ain\\'t here.,  ,Never forget that.,  ,Here, this shouldhelp you remember.,  ,<font color=\"#ecbd\"Sync & corrections by honeybunny</font<font color=\"#ecbd\"www.addiced.com</font,  , All black and brownand covered with hair ,  , Three boys, a goat,and a dancing bear ,  , They danced and spunright to the fair ,  , How sweet she was,so pure and fair ,  , The maid with honeyup in her hair ,  , He smelled her allin the summer air ,  , The maid with honeyup in her hair ,  , From there to here,from here to there ,  , All black and brownand covered in hair ,  , He smelled that girlin the summer air ,  ,  The bear, the bear   The maiden fair ,  , Oh, I\\'m a maidand I\\'m pure and fair ,  , I\\'ll never dancewith a hairy bear ,  , I called a knight,but you\\'re a bear ,  , All black and brownand covered in hair ,  , From there to here,from here to there ,  , All black and brownand covered in hair ,  , He smelled that girlin the summer air ,  ,  The bear, the bear   The maiden fair.',\n",
       " ',  ,<font color=\"#ffff\" size=www.tvsubtitles.net</font,  ,How many of those fingers,  ,do you think we couldshove up his ass?,  ,Depends if he\\'shad any practice.,  ,Is that the sort of thing you andyour sister go in for, Kingslayer?,  ,She loosened you up for us?,  ,He\\'s going to fall.,  ,He\\'s going to fall off his horse.Someone help him.,  ,Water.,  ,Water.,  ,Please, water.,  ,Wawater.,  ,Water, please.,  ,Please.',\n",
       " \"Please.,  ,If I die,you won't be getting,  ,Oh, enough.,  ,Here.,  ,Can't say that I've ever seen aman drink horse piss that fast.,  ,Stop!,  ,Far enough.,  ,Do that againand I'll take your other hand.,  ,Come on, you.,  ,Oh, Lord Tyrion.Come in, come in.,  ,I hope we might speak.,  ,In confidence.,  ,Oh, always in confidence.,  ,About the eventsof the Blackwater.,  ,Perhaps this is the wrong time?,  ,Oh, no.It's a wonderful time.,  ,I thought oneof your little birds,  ,might have knowledge ofmy sister's intentions to,  ,End your life?,  ,I didn't inheritLittlefinger's spies,  ,along with his position,I'm afraid.,  ,Which is why I'm coming to you.,  , I need proof.\",\n",
       " 'Proof?,  , Will there be a trial?',\n",
       " \"I need to know.,  ,I have no proof, only whispers.,  ,Before all this nastiness,,  ,I was going to tell youthe story of how I was cut.,  ,Do you want to hear it still?,  ,I don't know.Do I?,  ,As a boy, I travelledwith a troupe of actors,  ,through the Free Cities.,  ,One day in Myr,,  ,a certain manmade my master an offer,  ,too tempting to refuse.,  ,I feared the man meantto use me as I'd heard,  ,some men used small boys.,  ,But what he wantedwas far worse.,  ,He gave me a potion,  ,that made me powerlessto move or speak,,  ,yet did nothingto dull my senses.,  ,With a hooked bladehe sliced me,,  ,root and stem,chanting all the while.,  ,He burned my partsin a brazier.,  ,The flames turned blue,  ,and I heard a voiceanswer his call.,  ,I still dream of that night.,  ,Not of the sorcerer,,  ,not of his blade.,  ,I dream of the voicefrom the flames.,  ,Was it a god?A demon?,  ,A conjuror's trick?,  ,I don't know.,  ,But the sorcerer calledand a voice answered.,  ,And ever since that day,,  ,I have hated magic andall those who practice it.,  ,But you can seewhy I was eager to aid,  ,in your fight againstStannis and his Red Priestess.,  ,A symbolic revenge of sorts.,  ,Yes, ahem.\",\n",
       " \"I feel theneed for actual revenge,  ,against the actual person,  ,who tried to have me killed.,  ,Which will require a degreeof influence, which,  ,You do not possess,  ,at the moment.,  ,But influence is largely,  ,a matter of patience,I have found.,  ,Once I had servedthe sorcerer's purpose,,  ,he threw me outof his house to die.,  ,I resolved to live,  ,to spite him.,  ,I begged.,  ,I sold what partsof my body remained to me.,  ,I became an excellent thief,  ,and soon learned that thecontents of a man's letters,  ,are more valuable than thecontents of his purse.,  ,Step by step,,  ,one distasteful taskafter another,,  ,I made my wayfrom the slums of Myr,  ,to the small council chamber.,  ,Influence grows like a weed.,  ,I tended mine patiently,  ,until its tendrilsreached from the Red Keep,  ,all the way acrossto the far side of the world,  ,where I managed to wrapthem around something,  ,very special.,  ,The sorcerer.,  ,Hello, my old friend.,  ,It's been a long time.,  ,I have no doubtthe revenge you want,  ,will be yours in time...,  ,if you have the stomach for it.,  ,When people talk aboutthe Night's Watch,,  ,they never mentionthe shoveling.,  ,Or the shit.,  ,They tell you about honor,pardoning crimes,,  ,and protecting the realm,,  ,but shovelingreally is most of it.,  ,And getting attackedor killed or worse.,  ,And that.\",\n",
       " \"But when you're notgetting attacked or killed,,  ,usually you're shoveling.,  ,Oh, look.,  ,More shit.,  ,I was startingto wonder what to do,  ,with the rest of my day.,  ,We need to get out of here.,  ,When the Lord Commandersays we go, we go.,  ,The Lord Commander told us to goto the Fist of the First Men.,  , How'd that turn out for us?\",\n",
       " \"He had no way of knowing.,  ,We do now.,  ,We know what's out there.,  ,Craster's been out heresurviving.,  ,So he's your new protector now?,  ,Our good friend Craster?,  ,We're like the sonshe never had.,  ,Mormont isn'tgonna save you.,  ,This lummox hereisn't gonna save you.,  ,When the walkers come calling,,  ,Craster will serve us uplike so many pigs.,  ,If we want to live...,  ,we'll have to look outfor ourselves.,  ,Shh, shh, shh.,  , You woke him.\",\n",
       " \"I'm sorry.,  , He's beautiful.\",\n",
       " \"Shh!,  ,He's beautiful.,  ,Does he have a name?,  , No.\",\n",
       " 'Are you going to give him one?,  ,Why?,  ,Here.,  , Gilly.',\n",
       " \"You said to hold it for youuntil you came back.,  , You're back.\",\n",
       " \"I wanted you to have it.,  ,I don't wantyour stupid thimble.,  ,I want to savemy baby's life.Can you do that?,  ,Can you?,  ,I don't have time for you.,  ,I don't have timefor anyone but him,  ,because he doesn'thave much time.,  ,You have to go after him.,  ,How?,  ,You know how.,  ,Brandon.,  , Mother.\",\n",
       " 'How many times have I told you?,  , No climbing.',\n",
       " \"Mother, I need to find it.,  , It's here.\",\n",
       " \"It's calling me.\",\n",
       " 'I want you to promise me.,  ,No more climbing.Promise me.,  ,Promise me!Promise me!,  , Mother!',\n",
       " 'Mother!',\n",
       " 'Promise me!',\n",
       " \"Promise me, Bran!,  ,Promise me!,  ,Is he very large?,  ,No larger than usual,apparently.,  , And yet they said that he was Extraordinary.,  ,The most extraordinary manthey've ever had.,  ,And they've had a lot of men.,  ,We're talking aboutthe same Podrick?,  ,The quiet boyin Lord Tyrion's service?,  ,Seems a bit simple?,  ,What did he do to them?,  ,I don't know, my lord.,  ,The girls are usuallyquite descriptive.,  ,So what did they say?,  ,They said it was hardto describe.,  ,Huh.,  ,Prodigies appearin the oddest of places.,  ,And what did Littlefinger sayabout this loss of income?,  ,He was too preoccupiedto notice.,  ,He's leavingfor the Eyrie soon.,  ,I'm helping him preparefor his journey.,  ,Ah, yes, to pursuehis enduring love,  ,of the Lady Arryn and thetitle that comes with her.,  ,Sad, really.,  ,Is that all it takes,  ,to make our friend loseinterest in poor Sansa Stark?,  ,He hasn't spoken to hersince the last time,,  ,as far as I know.,  ,But I don't thinkhe's lost interest.,  ,What makes you say so?,  , His shipboard inventory.\",\n",
       " 'Ah.,  ,You can read.,  ,Rare for a womanin your profession.,  , Former profession.',\n",
       " \"Of course.,  ,I'm missing something obviousyou're about to point out?,  ,Two featherbeds.,  ,He's bringing twofeatherbeds for the cabin.,  ,Who is important enoughto Littlefinger,  ,to merit a featherbedbesides Littlefinger?,  ,Could he be bringingone of his girls?,  ,He's not interestedin them, my lord.,  ,How do you know?,  ,Because I'm one of his girls.,  ,Prodigies in odd places indeed.,  ,Rhaenyra Targaryenwas murdered by her brother,,  ,or rather his dragon.,  ,It ate herwhile her son watched.,  ,What's left of her is buried inthe crypts right down there.,  ,The ceremony is traditionallyheld in the main sanctum,,  ,which seats  comfortably.,  ,There appears to be agood deal of room elsewhere,  ,on the premisesfor everyone else.,  ,There aren't more than people of any importance.,  ,No, the rest are thereto look adoringly,  ,upon the  to remind them,  ,how superior they must beto have the best seats.,  ,Over there in that urn,,  ,the ashes of Aerion Targaryen.,  ,Aerion Brightflamethey called him.,  ,He thought drinking wildfirewould turn him into a dragon.,  ,He was wrong.,  ,And, of course,there's the Mad King,,  ,killed by my uncle.,  ,Would you like to see where thelast Targaryens are buried?,  ,Are you sure Lady Margaery doesn'tfind all this a bit macabre?,  ,Oh, no, it's quiteall right, Your Grace.,  ,I'd love to seetheir tombs, really.,  ,It's like taking a walkthrough history.,  , The tomb's just up here.\",\n",
       " 'This is so exciting.,  ,You were marriedhere, Your Grace?,  , Yes.',\n",
       " \"Must seem like only yesterday.,  ,Seems like a lifetime ago.,  ,Your husband, was heburied here as well?,  ,No, he wanted his remainsreturned to Storm's End.,  , Such a tragedy.\",\n",
       " \"A fairly predictable tragedy.,  ,Hunting and drinking don't mix.,  ,I should say not.,  ,My son's a hunter.It helps him forget,  ,he's never been withina mile of a real battle.,  ,I seem to recall he laidsiege to Storm's End,  ,for the better part of a year.,  ,All he laid siege to,  ,was the banquet tablein the command tent.,  ,I told him to stay outof Robert's rebellion.,  ,He had no businessfighting an actual warrior.,  ,We mothers do what we can,  ,to keep our sonsfrom the grave.,  ,But they do seemto yearn for it.,  ,We shower them with good sense,,  ,and it slides right offlike rain off a wing.,  ,And yet the worldbelongs to them.,  ,A ridiculousarrangement, to my mind.,  ,The gods have seen fitto make it so.,  ,My father didn'twant them here.,  ,He was going to havetheir bodies burned,  ,and thrown in the Blackwater,,  ,but the High Septonconvinced him otherwise.,  ,I'm glad he did.,  ,I'm sorry, Your Grace.,  ,I know they did terriblethings at the end,,  ,but their ancestors built this.,  ,Sometimes severity,  ,is the price we payfor greatness.,  ,I couldn't agree more.,  ,Shall we go and see them?,  ,If you give them your love,,  ,they will return ita thousandfold.,  ,I've spoken with them.,  ,I know how they feel about you.,  ,You led the defenseof King's Landing.,  ,They adore you.,  ,Open the doors.,  ,Joffrey.,  ,Wait.,  , Lady Margaery!\",\n",
       " 'Lady Margaery!,  ,Bless you, Lady Margaery!,  , Lady Margaery!',\n",
       " 'Lady Margaery!,  , Margaery!',\n",
       " 'Long live Lady Margaery!,  ,King Joffrey!,  ,King Joffrey!King Joffrey!,  ,King Joffrey!,  ,Gods bless King Joffrey!,  ,How far is itto Deepwood Motte?,  ,Not far, my lord.,  ,Your sister is waitingfor you there.,  , She sent you to save me?',\n",
       " 'Yes.,  ,I served them, the menwho were torturing you.,  ,I did what they told me andwaited for the right moment.,  ,Why would you riskyour life for me?,  ,I grew up onSaltcliffe, my lord.,  ,I was only a boywhen they took you away.,  ,My father brought me and mybrothers up to the bluffs,  ,so we could watch the shipthat carried you off.,  ,I remember the look on myfather\\'s face when he told us,,  ,\"That\\'s Balon Greyjoy\\'slast living son.',\n",
       " '\",  ,And those are the wordsI heard over and over again,  ,when I saw whatthey were doing to you.,  ,Those men,,  ,they said my father knewwhat they were doing to me.,  ,Did he?,  ,I I don\\'t know,my lord.,  ,They they nevertold me much.,  ,My sister\\'s menare loyal to her.,  ,We don\\'t needto hide from them.,  ,Not all thoseare your sister\\'s men.,  ,Some of them are loyalto your father.,  ,What is it?,  ,I was just thinkinghow jealous I was,  ,when my father told Yarato take this place.,  ,What did he tell you to do?,  ,Raid fishing villages.,  ,He didn\\'t trust me.,  ,Thought I was a Stark.,  ,Ha.',\n",
       " 'I could neverbe a Stark.,  ,Robb Stark alwaysreminded me of that.,  , He lorded it over you?',\n",
       " \"Didn't have to.,  ,All he had to do was be.,  ,Be who he was born to be.,  ,His life fit himbetter than his clothes.,  ,How could someone like thatever be a brother to me?,  ,He's the King in the North.,  ,And me...,  ,my father gave me a choice,  ,and I made it.,  ,I could never be a Stark.,  ,But ironborn,,  ,that's what I was born to be.,  ,I paid the iron pricefor Winterfell.,  ,I murdered those boys.,  ,The Stark boys?,  ,Never found them.,  ,Just some poor orphansliving with a farmer.,  ,I let Dagmer slit their throats,  ,and I let himburn the bodies...,  ,so I could keep Winterfell...,  ,and make my father proud.,  ,Maybe it's not too late.,  ,It is.,  ,My real father lost his headat King's Landing.,  ,I made a choice...,  ,and I chose wrong.,  ,And now I've burnedeverything down.,  ,Not everything, my lord.,  ,She's up here.,  , Yara.\",\n",
       " \"Shh.,  ,Wait.,  ,I brought him back.He killed the others.,  ,What?No, I didn't.,  ,You can't!,  ,No, please stop!,  ,No!,  ,Put him back where he belongs.,  ,Eat.,  ,What are you doing?,  ,I'm dying.,  ,You can't die.,  ,You need to live,  ,to take revenge.,  ,I don't care about revenge.,  ,You coward.,  ,A little misfortuneand you're giving up.,  ,Misfor,  ,misfortune?,  ,You lost your hand.,  ,My sword hand.I was that hand.,  ,You have a taste,  ,one taste of the real world,  ,where people have importantthings taken from them,  ,and you whine and cry and quit.,  ,You sound like a bloody woman.,  ,I know what you did for me.,  ,You told them Tarthwas full of sapphires.,  ,It's called the Sapphire Isle,  ,because of the blueof its water.,  ,You knew that.,  ,Why did you help me?,  ,You wanted to speak to me?,  ,Yes, about Jaime.,  ,What about him?,  ,I wanted to make sure,  ,we're doing everythingwe can to get him back.,  ,When Catelyn Starktook Tyrion prisoner...,  ,what did I do in response?,  , You started a war.\",\n",
       " \"And if I would start a war,  ,for that lecherouslittle stump,,  ,what do you think I am doingfor my oldest son and heir?,  ,Whatever you can.,  ,Whatever I can.,  , You're still here.\",\n",
       " 'Yes.,  ,Why?,  ,Did it ever occur to you,  ,that I might be the onewho deserves your confidence,  ,and your trust, not your sons?,  ,Not Jaime or Tyrion, but me.,  ,Years and yearsof lectures on family,  ,and legacy,  ,the same lecture, really,,  ,just with tiny,tedious variations,  ,did it ever occur to youthat your daughter,  ,might be the only one listening to them?Living by them?,  ,That she might have the mostto contribute to your legacy,  ,that you love so much morethan your actual children?,  ,All right.Contribute.,  ,The Tyrells are a problem.,  ,The Tyrells helped usdefeat Stannis Baratheon.,  ,The Tyrells saved your life,your children\\'s lives.,  ,Margaery has her clawsin Joffrey.,  ,She knows howto manipulate him.,  ,Good.,  ,I wish you knewhow to manipulate him.,  ,I don\\'t distrust youbecause you\\'re a woman.,  ,I distrust you because you\\'re notas smart as you think you are.,  ,You\\'ve allowed that boyto ride roughshod over you,  ,and everyone else in this city.,  ,Perhaps...,  ,you should try stopping himfrom doing what he likes.,  ,I will.,  ,Do you like it, Nana?,  ,Another golden rose.How original.,  ,I eat from platesstamped with roses.,  ,I sleep in sheetsembroidered with roses.,  ,I have a golden rosepainted on my chamber pot,,  ,as if that makes itsmell any better.,  ,Roses are boring, dear.,  ,\"Growing strong.',\n",
       " '\",  ,Ha!',\n",
       " 'The dullest wordsof any house.,  ,\"Winter is coming!',\n",
       " '\",  ,Now that\\'s memorable.,  ,\"We do not sow.\"Strong.',\n",
       " \"Strong.,  ,Those are housesyou watch out for.,  ,Direwolves and krakens,fierce beasts.,  ,But a golden rosegrowing strong,  ,ha, that strikes fearin the heart.,  ,Look, little loves.,  ,A spider in the garden.,  ,Run along now.,  ,Grow strong.,  ,My lady.,  ,I wanted to personallywelcome you to King's Landing.,  ,The city has been madebrighter by your presence.,  ,The city is made brighterby my presence?,  ,Is that your usual line,Lord Varys?,  ,Are you here to seduce me?,  ,A little obvious, perhaps.,  ,Oh, no, please.,  ,Seduce away.It's been so long.,  ,Though I rather thinkit's all for naught.,  ,What happens when the nonexistentbumps against the decrepit?,  ,A question forthe philosophers.,  ,But you've come mincingall this way for something.,  , So?\",\n",
       " \"Might I sit?,  ,No.,  ,Come, I've heardyou're such a clever man.,  ,I'm curious whyyou've sought me out.,  ,You've taken an interestin Sansa Stark.,  ,Have I?,  ,Because I spoke to heronce in this garden,  ,and one of your little spiescame running to tell you?,  ,Why shouldn't I takean interest?,  , She's an interesting girl.\",\n",
       " \"Is she?,  ,No, not particularly.,  ,But she's hadan interesting childhood.,  ,She has, sadly.,  ,Well, forgive me for wastingyour time, then.,  ,I thought we shared certainhopes for her wellbeing.,  ,Come, come.,  ,You surrender rather easily.,  ,Walk with me.,  ,I know the walls have ears,,  ,but apparentlythe shrubbery does, too.,  ,I choose my allies carefully,  ,and my enemiesmore carefully still.,  ,Which is Sansa Stark?,  ,Neither.A babe in the woods.,  , I admired her father.\",\n",
       " 'Yes.,  ,Ned Stark had many admirers,,  ,and how many stepped forward,  ,when the executionercame for his head?,  ,I could not help Lord Stark.,  , Perhaps I can help his daughter.',\n",
       " \"How?,  ,You're not the only one whohas taken an interest in her.,  ,That's hardly surprising.,  ,She's a beautiful girlwith a famous name.,  ,Indeed.\",\n",
       " \"She'd make a lovelymatch for the right suitor.,  ,It almost feels as if you'reabout to arrive at the point.,  ,Littlefinger is not longfor the capital.,  ,A confidant of mine has told me,  ,that when he goes,Sansa Stark goes with him.,  ,And why have you cometo me with this matter?,  ,Littlefinger was born with nolands, no wealth, no armies.,  ,He has acquired the first two.,  ,How long beforehe has the army?,  ,Perhaps you'll laugh,,  ,but I know him better than most,  ,and this is the truth.,  ,Littlefinger is one of the mostdangerous men in Westeros.,  ,If Robb Stark falls,,  ,Sansa Stark is the keyto the North.,  ,And if Littlefinger marries her,he'll have the key in his pocket.,  ,Which seems such a shame.,  ,Why should a manwith such a low reputation,  ,steal away such a lovely bride?,  ,You must despise him.,  ,You're working so hardto undermine him.,  ,Actually, I rather enjoy him.,  ,But he would seethis country burn,  ,if he could beking of the ashes.,  ,You are a clever man,Lord Varys.,  ,You are too kind.,  ,I believe I havea possible solution.,  ,One doesn't needto be clever for that.,  ,It's all rather obvious,isn't it?,  ,Ahem.,  ,I didn't mean to disturb you.,  ,You haven't.,  ,We'd like some privacy, please.,  ,If you wouldn't mindwaiting back inside the keep.,  ,Or if you'd be kind enoughto give me your names,,  ,I'll ask the kingto speak with you himself.,  ,What did you pray for?,  , I can't tell you.\",\n",
       " \"Why not?,  ,I'll tell you what I prayedfor in the sept this morning.,  ,Let's see, for my family'shealth and happiness,,  ,for an end to the war,for a short winter.,  ,Boring and traditional,I'm afraid.,  , And you?\",\n",
       " \"I'm sorry, I just can't.,  ,My cousin Alanna,  ,was the most beautifulgirl I'd ever seen.,  ,When I was , I wasall elbows and knees,  ,and Alanna looked like agoddess sent to torture me.,  ,Pigface, she called me.,  ,Pigface?That's ridiculous.,  ,I think it had somethingto do with my nose.,  ,Whenever she passed mein the halls, she'd oink.,  ,So I prayed that she'd catcha horrible skin disease.,  ,A week after that, she camedown with porridge plague.,  , Porridge plague?\",\n",
       " \"You don't have it in the North?,  ,Your skin startsto look like boiled oats,  ,and eventually your face slidesoff and you die in agony.,  ,But that's awful.,  ,You're,  ,I believed you!,  ,Porridge plague.I'm an idiot.,  ,Don't say that.No, you're not.,  ,So what happened to Alanna?,  ,Oh, she grew up to bethe most beautiful woman,  ,and married a handsome lordand they have darling children,  ,and live in a castleby the sea.,  ,It's all terribly frustrating.,  ,I'm sure she's jealousof you now.,  ,You'll be marriedhere in the capital,  ,and she'll have to come watch andpretend to be happy that you're queen.,  ,I want us to be friends,good friends.,  ,That would make me very happy.,  ,You must see Highgarden.,  ,You'd love it there.I know you would.,  ,We have a great masquerade thenight of the harvest moon.,  ,You should see the costumes.,  ,People work on them for months.,  ,I I don't thinkthe queen,  ,would let me leaveKing's Landing.,  ,The Queen Regent, you mean.,  ,Once I marry Joffrey,I'll be queen.,  ,And if you wereto marry Loras...,  ,Oh, your place would be atHighgarden, wouldn't it?,  ,We would be sisters, you and I.,  ,Would you like that?,  ,His name was Bannen.,  ,He was a good man,,  ,a good ranger.,  ,He came to us from,  ,where did he come from?,  ,Down White Harbor way.,  ,He came to usfrom White Harbor.,  ,Never failed in his duty.,  ,He kept his vowsthe best he could.,  ,He rode far, fought fiercely.,  ,We shall never seehis like again.,  ,And now hiswatch has ended.,  ,And now his watch has ended.,  ,Didn't think a broke footcould kill a man.,  ,It wasn't his footthat killed him.,  ,That bastard Crasterstarved him to death.,  ,Craster's gothis daughters to feed.,  ,You on his side?,  ,We can't just show upand steal all his food.,  ,We're brothers of theNight's Watch, not thieves.,  ,The day we leave,,  ,Craster will tapa barrel of our wine,  ,and sit down to a feastof ham and potatoes,  ,and laugh at us,  ,starving in the snow.,  ,He's a bloody wildlingis all he is.,  ,Never knew Bannencould smell so good.,  ,You have one son,don't you, Mormont?,  ,I had my th.,  ,You ever meet a manwith  sons?,  ,And more daughtersthan I can count.,  , I'm glad for you.\",\n",
       " \"Are you now?,  ,Me, I'll be glad when youand yours have gone.,  ,As soon as our woundedare strong enough.,  ,Ah.,  ,They're as strongas they're gonna get.,  ,Them that's dying,,  ,why don't you cut theirthroats and be done with it?,  ,Hmm?,  ,Or leave themif you've not the stomach,  ,and I'll sort them myself.,  ,Whose throat yougonna cut, old man?,  ,Wait outside.,  ,It's cold outside andthere's nothing to eat.,  ,My wives gave you bread.,  ,There's sawdust in the bread.,  ,You don't like it,,  ,you go out thereand eat the snow.,  ,I'd rather eat whatyou've got hidden away.,  ,I told you to wait outside.,  ,He's sitting theredrinking our wine,,  ,eating his fill while we die.,  ,I gave you crows enough.,  ,I've got to feed my women!,  ,So you admit you've gota hidden larder, then?,  ,How else'd you make itthrough winter?,  ,Enough!Out!,  ,I am a godly man.,  ,You're a stingy bastard!,  ,Bastard?,  ,Out with you, you little thief.,  ,And you!And you!,  ,Go sleep in the coldon empty bellies.,  ,I'll chop the handsoff the next man,  ,who calls me bastard.,  ,You are a bastard.,  ,A daughterfucking,wildling bastard.,  ,The gods willcurse us for this.,  , By all the laws There are no laws beyond the Wall.,  ,Now show us wherehe hides the food,  ,or you'll getthe same as he did.,  ,Unhand her.,  ,I shall have your head for this.,  , Quickly.\",\n",
       " 'Quickly.',\n",
       " \"What's happening?,  , I'm not going out there.\",\n",
       " 'No, we have to go.',\n",
       " \"Now!,  ,Follow me.I know the best way.,  ,Come on.,  ,Run fast, Piggy,,  ,and sleep well!,  ,I'll be cutting your throatone of these nights.,  ,Can I takethis hood off yet?,  ,I do apologize, little lady,,  ,but it's better for you if youdon't see where we're going.,  ,Whoa, whoa, whoa, whoa.,  ,Halt!,  , What is it?\",\n",
       " \"Blackstrap rum.,  ,Ugh!,  ,Not easy findingmolasses in wartime.,  ,I'd have some.,  ,Let's go home.,  ,What is this place?,  ,Somewhere neither wolvesnor lions come prowling.,  ,You look likea bunch of swineherds.,  ,Some of uswere swineherds.,  ,And some of us tannersand masons.,  ,That was before.,  ,You're still swineherds,  ,and tanners and masons.,  ,You think carrying a crookedspear makes you a soldier?,  ,No.,  ,Fighting in a warmakes you a soldier.,  ,Beric Dondarrion?,  ,You've seen better days.,  ,And I won't see them again.,  ,Stark deserters.,  ,Baratheon deserters.,  ,You lot aren'tfighting in a war.,  ,You're running from it.,  ,Last I heard, you wereKing Joffrey's guard dog.,  ,But here you are, miles from home.,  ,Which of us is running?,  ,Untie these ropesand we'll find out.,  ,What are you doingleading a mob of peasants?,  ,Ned Stark ordered meto execute your brother,  ,in King Robert's name.,  ,Ned Stark is dead.,  ,King Robert is dead.,  ,My brother's alive.,  ,You're fighting for ghosts.,  ,That's what we are,  ,ghosts waiting for youin the dark.,  ,You can't see us,,  ,but we see you.,  ,No matter whose cloakyou wear,  ,Lannister, Stark,Baratheon,  ,you prey on the weak,,  ,the Brotherhood withoutBanners will hunt you down.,  ,You found god?Is that it?,  ,Aye.I've been reborn,  ,in the lightof the one true god.,  ,As have we all.,  ,As would any man who's seenthe things we've seen.,  ,If you mean to murder me, thenbloody well get on with it.,  ,You'll die soon enough, dog.,  ,But it won't be murder,only justice.,  ,And a kinderfate than you deserve.,  ,Lions you call yourselves.,  ,At the Mummer's Ford, girlsof seven years were raped,  ,and babes still on the breast,  ,were cut in two whiletheir mothers watched.,  ,I wasn't at the Mummer's Ford.,  ,Dump your dead childrenat some other door.,  ,House Clegane was builtupon dead children.,  ,I saw them lay Prince Aegonand Princess Rhaenys,  ,before the Iron Throne.,  ,Do you take me for my brother?,  ,Is being born Clegane a crime?,  , Murder is a crime.\",\n",
       " \"I never touched the Targaryen babes.,  ,I never saw them,never smelled them,,  ,never heard them bawling.,  ,You want to cut my throat,get on with it!,  ,But don't call me murderer,  ,and pretend that you're not.,  ,You murdered Mycah.,  ,The butcher's boy.,  ,My friend.,  ,He was  years old.He was unarmed.,  ,And you rode him down.,  ,You slung him over your horselike he was some deer.,  ,Aye, he was a bleeder.,  ,You don't denykilling this boy?,  ,I was Joffrey's sworn shield.,  , The boy attacked the prince.\",\n",
       " \"That's a lie!,  ,I hit Joffrey.Mycah just ran away.,  ,Then I should have killed you.,  ,Not my placeto question princes.,  ,You stand accused of murder.,  ,But no one here knowsthe truth of the charge,,  ,so it is not for usto judge you.,  ,Only the Lord of Lightmay do that now.,  ,I sentence youto trial by combat.,  ,So, who will it be?,  ,Should we find outif your fire god,  ,really loves you, priest?,  ,Or you, archer?\",\n",
       " 'What are youworth with a sword in your hand?,  ,Or is the little girlthe bravest one here?,  ,Aye.,  ,She might be.,  ,But it\\'s me you\\'ll fight.,  ,The master saysthey are untested.,  ,He says you would be wiseto blood them early.,  ,There are many small citiesbetween here and there,,  ,cities ripe for sacking.,  ,Should you take captives,,  ,the masters will buy the healthyones and for a good price.,  ,And who knows?,  ,In  years, some ofthe boys you send them,  ,may be Unsullied in their turn.,  ,Thus all shall prosper.,  ,Is it done, then?They belong to me?,  ,It is done.,  ,,  ,You hold the whip.,  ,,  ,,  ,,  ,,  ,,  ,,  ,,  ,,  ,,  ,,  ,,  ,,  ,,  ,,  ,,  ,,  ,,  ,,  ,Dracarys.,  ,Sync & corrections by honeybunnywww.addiced.com,  ,<font color=\"#ffff\" size=www.tvsubtitles.net</font\\xef\\xbb\\xbfLord, cast your lightupon us.,  ,Lord of Light, defend us.,  ,Show us the truth.,  ,Strike this man downif he is guilty.,  ,Give strength to his swordif he is true.,  ,Lord of Light,give us wisdom.,  ,For the night is dark,  ,and full of terrors.,  ,For the night is darkand full of terrors.,  ,Get back.,  ,Guilty.',\n",
       " 'Guilty.',\n",
       " 'Guilty.,  ,Guilty.',\n",
       " 'Guilty.Guilty.,  ,Guilty.Guilty.',\n",
       " 'Guilty.,  ,Guilty.',\n",
       " \"Guilty.Guilty.,  ,Kill him!,  ,Lord, cast your lightupon this man, your servant.,  ,Bring him backfrom death and darkness.,  ,His flame has beenextinguished.,  ,Restore it.,  ,For the night is darkand full of terrors.,  , Lord, cast... Arya, don't!,  ,Bring him backfrom death and darkness...,  ,No!,  ,Let go of me!Let me go!,  ,Looks like their god likes memore than your butcher's boy.,  ,Burn in hell!,  ,He will.,  ,But not today.,  ,Orell says there are crowspatrolling on the Wall.,  ,Tell me what you know.,  ,There are fourto a patrol,  ,two builders to checkfor structural damage,,  ,two rangers to watchfor enemies.,  ,How often do thesepatrols go out?,  ,It varies.,  ,If I knew where on the Wall wewere heading, I could tell you.,  ,You'd like to know that.,  ,There are  castlesguarding the Wall.,  ,How many are manned?,  ,Three.,  ,You sure of that?,  ,Which three?,  ,Castle Black.,  ,Aye, Castle Black.,  ,Everyone knowsCastle Black.,  ,Which others?,  ,EastwatchbytheSea,  ,and the Shadow Tower.,  ,How many men remainin Castle Black?,  , ,.\",\n",
       " \"Liar.,  ,What happens to your eagleafter I kill you?,  ,Does he drift away like akite with his strings cut,  ,or does he just flopdead to the ground?,  ,He's no crow.,  ,Just 'cause you want him insideyou don't make him one of us.,  ,I'm not afraid of you.,  ,I like you, boy.,  ,But if you lie to me,,  ,I'll pull your guts outthrough your throat.,  ,, men.,  ,We'll find out soon enough.,  ,I don't need youto protect me.,  ,Of course you do.,  ,Who stopped Rattleshirtwhen he was about to cut your throat?,  ,Who vouched for youwith Mance?,  ,It seemsyou owe me a debt.,  , Give it back.\",\n",
       " \"Well, I stole it.,  ,It's mine.If you want it, come steal it back.,  ,Ygritte!,  ,Ygritte!,  ,Ygritte!Seven hells.,  ,Ygritte!,  ,Is Orell right?,  ,Are you still a crow?,  ,It's time youproved yourself.,  ,Ygritte.,  ,You swore some vows.,  ,I want you to break 'em.,  ,I want you to see me.,  ,All of me.,  ,We shouldn't.,  ,We should.,  ,Why are youstill dressed?,  ,You know nothing,Jon Sno,  ,That thing you did,  ,with your mouth,  ,is that what lordsdo to their ladies in the South?,  ,I don't know.,  ,I just wanted to kissyou there is all.,  ,Hmm.,  ,You seemed to like it.,  ,Aye, I liked it some.,  ,Who taught you that?,  ,There's been no one else.Only you.,  ,A maid.,  ,You were a maid.,  ,I was a manof the Night's Watch.,  ,How about you?Were you a maid?,  ,What do you think?,  , Who was he?\",\n",
       " \"Just a boy.,  ,He came tradingwith his brothers.,  ,He had red hair like me.Kissed by fire.,  ,But...,  ,he was weak.,  ,Not like you.,  ,That was the first one.,  ,Then there wasthis Thenn boy.,  ,Spoke no Common, but gods,he was built like a mammoth.,  ,Yeah, thanks.I think I've heard enough.,  ,We'd best get back.,  ,Tormund,  ,I'm not donewith you yet.,  ,How long's it beensince you had a bath?,  ,Let's not go back.,  ,Let's stay herea while longer.,  ,I don't ever wantto leave this cave, Jon Snow.,  ,Not ever.,  ,I want my gold.,  ,It says it clearlyright there on that note,  ,you'll be repaid in fullwhen the war is over.,  ,Piss on that!You're nothing but thieves.,  ,We're outlaws.Outlaws steal.,  ,You're luckywe didn't kill you.,  ,Come try it, archer.,  ,I'll shove those arrowsup your ass.,  ,You can't let him go.He's a murderer.\",\n",
       " \"He's guilty.,  , Not in the eyes of god.\",\n",
       " \"You can't!,  ,Enough!\",\n",
       " \"The judgmentisn't ours to make.,  ,Go in peace,Sandor Clegane.,  ,The Lord of Lightisn't done with you yet.,  ,Riders coming through!,  ,The Kingslayer.,  ,Down!,  ,On your knees.,  ,Lord Bolton, I give youthe Kingslayer.,  ,Pick him up, Locke.,  ,You've lost a hand.,  ,No, my lord,he has it here.,  , Take this away.\",\n",
       " \"Send it to his father?,  ,You'll hold your tongueunless you want to lose it.,  ,Cut her free.Apologies, my lady.,  ,You're undermy protection now.,  ,Thank you, my lord.,  ,Find suitable roomsfor our guests.,  ,We'll speak later.,  ,Lord Bolton.,  ,Is there wordfrom the capital?,  ,You haven't heard?,  ,Stannis Baratheon laid siegeto King's Landing.,  ,Sailed into Blackwater Bay.,  ,Stormed the gateswith thousands of men.,  ,And your sister...,  ,How can I put this?,  ,Your sister...,  ,is alive and well.,  ,Your father's forcesprevailed.,  ,Ser Jaime isn't well.,  ,Take him to Qyburn.,  , Will I die?\",\n",
       " \"No.,  ,The corruptionhas spread.,  ,I fear it mustbe cut away.,  ,The safest course would beto take the whole arm off.,  ,Then you'll die.,  ,You're no maester.,  ,Where's your chain?,  ,The Citadelstripped me of it.,  ,They found someof my experiments,  ,too bold.,  ,I can leave your upper arm,make the cut at your elbow.,  ,I don't need my right handto kill you.,  ,I can take awaythe rotting flesh,  ,and try and burn outthe corruption,  , with boiling wine.\",\n",
       " \"Mmm.,  ,With any luck,that will suffice.,  ,You'll needmilk of the poppy.,  , No milk of the poppy.\",\n",
       " \"There will be pain.,  , I'll scream.\",\n",
       " \"Quite a bit of pain.,  ,I'll scream loudly.,  ,Lord Baelish.,  ,Your Grace.,  ,I wonder if I mightask you for a favor.,  ,Of course, Your Grace.,  ,I have reason to believethat House Tyrell,  ,do not hold the crown'sbest interests at heart.,  ,I see.\",\n",
       " \"And have you shared thesesuspicions with Lord Tywin?,  ,My father's a practical man.He appreciates facts.,  ,Myself, I oftenfind them a hindrance.,  ,And he appreciates thosewho aid his family, as you well know.,  ,He's almost as generousto those who help us,  ,as he is unpleasanttowards those who don't.,  ,You have a good workingrelationship with the Tyrells.,  ,I thought you might look into itbefore you leave the capital.,  , I shall do my best.\",\n",
       " \"Thank you.,  ,And your best will prove better thanwhen I asked you to locate Arya Stark?,  ,I assure youthat it will.,  ,Gods, boy, that's enough.We're not in a tavern.,  , Pardon, my lady.\",\n",
       " \"No need to speak.,  ,Are there any figs?Fetch some.,  ,I always take figsmidafternoon.,  ,They help move the bowels.,  ,To what do I owethis summons?,  ,Thank you for seeing me,my lady.,  ,I had hoped we might discussa few financial matters.,  ,I climbed all those steps to discussfinancial matters?,  ,It's the royal wedding.,  ,I'm told you had a handin planning it.,  ,Naturally.,  ,It's shaping up to bea very involved affair.,  ,The word extravaganthas been used.,  ,What goodis the word extravagant,  ,if it can't be usedto describe a royal wedding?,  , I understand that.\",\n",
       " \"Good.,  ,But, as Master of Coin,it falls upon me,  ,to calculate the costfor the crown.,  ,As of now,it's a huge expense.,  ,And?,  ,And we're at war,Lady Olenna.,  ,Oh, I'd nearlyforgotten.,  ,Yes, and maintainingsupply lines,  ,I can't thinkhow it slipped my mind.,  ,What is it,, infantrymen,  ,the Tyrell familyhas supplied?,  ,, mounted lances.,  ,, in support.,  ,Provisions so this citymight survive the winter.,  ,A million bushelsof wheat.,  ,Half a million bushels eachof barley, oats, and rye.,  ,, head of cattle.,  ,, sheep.,  ,You don't have to lecture meabout wartime expenses.,  ,I'm quite familiarwith them.,  ,And we are so gratefulfor your contributions,  ,which are necessaryfor the preservation of the realm.,  ,As is a royal wedding.,  ,The people are hungryfor more than just food.,  ,They crave distractions.,  ,And if we don't provide them,they'll create their own.,  ,And their distractionsare likely to end,  ,with us being tornto pieces.,  ,A royal weddingis much safer.,  , Wouldn't you say?\",\n",
       " \"I would.,  ,And traditionallypaid for,  ,by the royal family.,  ,I was told you weredrunk, impertinent,,  ,and thoroughly debauched.,  ,You can imaginemy disappointment,  ,at finding nothingbut a browbeaten bookkeeper.,  ,Where did you gofor them, Volantis?,  , My lady Oh, very well.,  ,I won't have it saidthat House Tyrell,  ,refuses to playits part.,  ,We'll pay for halfthe expenses,  ,and the celebrationswill go on as planned.,  , Is that sufficient?\",\n",
       " 'Quite sufficient.',\n",
       " \"Thank you.,  ,Very good, then.That's settled.\",\n",
       " \"Good day.,  ,Give me that.,  ,What are you doing?,  ,Just mendingLord Beric's armor.,  ,Why?,  ,I'm going to stay onand smith for the Brotherhood.,  ,Have you lost your mind?,  ,When the Lannisters find this place,you think they'll spare the smiths?,  ,They'll cave your head inwith your own helmet.,  ,The Lannisters wanted to kill me longbefore I joined the Brotherhood.,  ,You don't have to do this.,  ,I want to.,  ,They need good men.,  ,Robb needs good men, too.We're leaving tomorrow.,  , And then you What?\",\n",
       " 'Serve him?,  ,I\\'ve served menmy entire life.,  ,I served Master Mottat King\\'s Landing,  ,and he sold meto the Watch.,  ,I served Lord Tywinat Harrenhal,,  ,wondering every dayif I\\'d get tortured or killed.,  ,I\\'m done serving.,  ,You just said you wereserving Lord Beric.,  ,He may be their leader,but they chose him.,  ,These men are brothers.They\\'re a family.,  ,I\\'ve never had a family.,  ,I can be your family.,  ,You wouldn\\'t bemy family.,  ,You\\'d be \"my lady.',\n",
       " '\",  ,Willem.,  ,Willem!,  , Is this a rescue?',\n",
       " 'Lannister filth!',\n",
       " \"Take him!,  ,Please, I didn't do anything.I'm just a squire.,  ,Please,  ,Bring them in.,  ,Is that all of them?,  ,It took five of you to murdertwo unarmed squires?,  ,Not murder,Your Grace.,  ,Vengeance.,  ,Vengeance?,  ,Those boys didn'tkill your sons.,  ,I saw Harrion dieon the battlefield and Torrhen,  ,Was strangledby the Kingslayer.,  , They were his kin.\",\n",
       " \"They were boys!,  ,Look at them.,  ,Tell your motherto look at them.,  ,She killed themas much as I.,  ,My mother had nothingto do with this.,  ,This was your treason.,  ,It's treasonto free your enemies.,  ,In war, you killyour enemies.,  ,Did your fathernot teach you that, boy?,  ,Leave him.,  ,Aye.,  ,Leave me to the king.,  ,He wants to give mea scolding before he sets me free.,  ,That's how he dealswith treason.,  ,Our King in the North.,  ,Or should I call him,  ,the King Who Lostthe North?,  ,Escort Lord Karstarkto the dungeon.,  ,Hang the rest.,  ,Mercy, sire!I didn't kill anyone.,  ,I only watchedfor the guards.,  ,This one was onlythe watcher.,  ,Hang him last so he can watchthe others die.,  ,Please!\",\n",
       " \"Please, no.They made me do it!,  ,They made me!They made me!,  ,Word of thiscan't leave Riverrun.,  ,They were TywinLannister's nephews.,  ,The Lannisterspay their debts.,  ,They never stoptalking about it.,  ,Would you make me a liaras well as a murderer?,  ,It wouldn't be lying.,  ,We will bury themand remain silent,  ,until the war is done.,  ,I'm not fightingfor justice,  ,if I don't serve justiceto murderers in my ranks,,  ,no matter how highborn.,  ,He has to die.,  ,The Karstarksare Northmen.,  ,They won't forgivethe killing of their lord.,  ,Your mother's right.,  ,If you do this, the Karstarks willabandon you.,  ,You tended to their wounds.,  ,You brought them supper.Now they're dead.,  ,And more boys will keep dyinguntil this war is over.,  ,You need Karstark mento end it.,  ,Spare his life.Keep him as a hostage.,  ,A hostage.,  ,Tell the Karstarksthat as long as they remain loyal,,  ,he will not be harmed.,  ,The blood of the First Menflows through my veins,  ,as much as yours, boy.,  ,I fought the Mad Kingfor your father.,  ,I fought Joffreyfor you.,  ,We are kin,  ,Stark and Karstark.,  ,That didn't stop youfrom betraying me.,  ,And it won't save you now.,  ,I don't want itto save me.,  ,I want it to haunt youto the end of your days.,  ,Kneel, my lord.,  ,Rickard Karstark,,  ,Lord of Karhold,,  ,here in sight of gods and men,I sentence you to die.,  ,Would you speaka final word?,  ,Kill meand be cursed.,  ,You are no king of mine.,  ,Joffrey.,  ,Cersei.,  ,Ilyn Payne.,  ,Ser Meryn.,  ,The Hound.,  ,What are yougoing to do with me?,  ,At first lightwe'll ride for Riverrun.,  ,Your brother's there now.,  ,He'll make a contributionto our cause,  ,and you can go home.,  ,I'm a hostageand you're selling me.,  ,Don't think of itthat way.,  , But it is that way.\",\n",
       " \"It is.,  , And it isn't.\",\n",
       " \"More is than isn't.,  ,Beric admired your fathera great deal, you know.,  ,He wanted to refuseyour ransom altogether.,  , So why don't you?\",\n",
       " \"We need the gold.,  ,Do I frighten you, child?,  ,No.,  ,You're angry with me.,  ,And I don't blame you.,  ,But letting him gowas the right thing.,  ,I have more reason than mostto want him hanged.,  , I thought he killed you.\",\n",
       " \"He did.,  ,But how...?,  ,Thoros...,  ,how many timeshave you brought me back?,  ,It's the Lord of Lightbrings you back.,  ,I'm just the lucky drunkwho says the words.,  , How many times?\",\n",
       " \"Five, I think.,  ,No, this makes six.,  ,Six.,  ,There was the first timethe Mountain.,  ,Show her.,  ,Lance right throughthe chest.,  ,Then I was stabbedin the belly.,  ,Then it was an arrowin the back.,  ,And that axe in the side.,  ,Then the Lannisters caught meand executed me for treason.,  ,Was it a hangingor a dagger in the eye?,  ,Both.Fuckers couldn't decide.,  ,And the Hound makes six.,  ,Second time I've beenkilled by a Clegane.,  ,You'd think you'd learn.,  ,It's not gettingany easier, you know.,  ,I know.,  ,Every time I come back,,  ,I'm a bit less.,  ,Pieces of youget chipped away.,  ,Could you bring backa man without a head?,  ,Not six times.Just once.,  ,I don't think it worksthat way, child.,  ,He was a good man,Ned Stark.,  ,He's at rest now,somewhere.,  ,I would never wishmy life upon him.,  ,I would.,  ,You're alive.,  ,Lord, cast your lightupon me.,  ,Protect mein the darkness.,  ,Burn away my sins.,  ,Help me serve you.,  ,Use me as you will.,  ,For the night is dark,  ,and full of terrors.,  ,I have prayed day and nightfor you to come to me.,  ,My lady.,  ,I meant to come sooner.,  , The battle I know of your troubles, my king.,  ,The Lady Melisandrehas told me everything.,  ,Yes, of course.,  ,You mustn't despair.Your claim is true.,  , You will be victorious.\",\n",
       " \"I believed that once.,  ,You arethe one god's champion,  ,and the finest manI've ever known.,  ,Selyse.,  ,I've broken a sacred vow.,  ,I've sinned.,  , No.\",\n",
       " \"I've wronged you.,  , I have shamed you.\",\n",
       " \"You're doing god's work.,  ,You don't understand.,  ,The Red Woman,  ,the Lady Melisandre,  ,I know, Stannis.,  ,The Lady Melisandrehas told me everything.,  ,No act done in serviceof the Lord of Light,  ,can ever be a sin.,  ,When she told me,,  ,I wept with joy.,  ,Oh, my sweet boys.,  ,Petyr, Tommard,,  ,Edric.,  ,I thank godevery day,  ,for bringingMelisandre to us.,  ,She gave you a son.,  ,I gave you...,  , nothing.\",\n",
       " \"That's not true.,  ,So you've cometo see her as well?,  ,There is no need.,  ,You must keep awayfrom such distractions.,  ,She's my daughter.,  ,I want to see her.,  ,You are a king.,  ,You don't needmy permission.,  , Under the sea ,  , I know, I know ,  , Oh, oh, oh ,  , The birds have scales ,  , And the fish take wing ,  , I know, I know ,  , Oh, oh, oh... ,  ,Shireen.,  ,Father!,  ,You've grownsince I last saw you.,  ,Mother said you foughtin a battle.,  ,Did you win?,  ,No.,  ,Did the Onion Knightcome back with you?,  ,He did.,  ,He fought bravely.,  ,He hasn't cometo visit me.,  ,He said he'd bring me back apresent from the capital.,  ,He won't be visiting, child.,  ,Why not?He's my friend.,  ,Look.,  ,He made this for me.,  ,But don't tell MotherI have it.,  ,It's a secret.,  ,Mother doesn't likethe Onion Knight.,  ,Ser Davosis a traitor.,  ,He's rotting in a dungeoncell for his crime.,  ,Best forget him.,  ,Not so hard.You'll scrub the skin off.,  ,What are youdoing here?,  ,I need a bath.,  ,Help me outof these rags.,  ,Now get out.,  ,There's another tub.,  ,This one suits me fine.,  ,Don't worry.I'm not interested.,  ,If I faint, pull me out.,  ,I don't intend to be the first Lannisterto die in a bathtub.,  ,Why should I carehow you die?,  ,You swore a solemn vow,remember?,  ,You're supposed to get me toKing's Landing in one piece.,  ,Not going so well, is it?,  ,No wonder Renly diedwith you guarding him.,  ,That was unworthy.Forgive me.,  ,You protected mebetter than most,  , Don't you mock me.\",\n",
       " 'I\\'m apologizing.,  ,I\\'m sick of fighting.,  ,Let\\'s call a truce.,  ,You need trustto have a truce.,  ,I trust you.,  ,There it is.There\\'s the look.,  ,I\\'ve seen it for  years,  ,on face after face.,  ,You all despise me.,  ,Kingslayer.,  ,Oathbreaker.,  ,A man without honor.,  ,You\\'ve heard of wildfire?,  ,Of course.,  ,The Mad Kingwas obsessed with it.,  ,He loved to watchpeople burn,,  ,the way their skinblackened and blistered,  ,and meltedoff their bones.,  ,He burned lordshe didn\\'t like.,  ,He burned Handswho disobeyed him.,  ,He burned anyonewho was against him.,  ,Before long, half the countrywas against him.,  ,Aerys saw traitorseverywhere.,  ,So he had his pyromancerplace caches of wildfire,  ,all over the city,  ,beneath the Septof Baelor,  ,and the slumsof Flea Bottom.,  ,Under houses,stables, taverns.,  ,Even beneaththe Red Keep itself.,  ,Finally,,  ,the dayof reckoning came.,  ,Robert Baratheonmarched on the capital,  ,after his victoryat the Trident.,  ,But my fatherarrived first,  ,with the whole Lannisterarmy at his back,,  ,promising to defend the cityagainst the rebels.,  ,I knew my fatherbetter than that.,  ,He\\'s never been oneto pick the losing side.,  ,I told the Mad Kingas much.,  ,I urged himto surrender peacefully.,  ,But the king didn\\'tlisten to me.,  ,He didn\\'t listen to Varyswho tried to warn him.,  ,But he did listento Grand Maester Pycelle,,  ,that grey, sunken cunt.,  ,\"You can trustthe Lannisters,\" he said.,  ,\"The Lannistershave always been,  ,true friendsof the crown.',\n",
       " '\",  ,So we opened the gates,  ,and my fathersacked the city.,  ,Once again,I came to the king,,  ,begging him to surrender.,  ,He told me to...,  ,bring himmy father\\'s head.,  ,Then he...,  ,turned to his pyromancer.,  ,\"Burn them all,\"he said.,  ,\"Burn themin their homes.,  ,Burn themin their beds.',\n",
       " '\",  ,Tell me,if your precious Renly,  ,commanded you to killyour own father,  ,and stand by whilethousands of men,,  ,women, and childrenburned alive,,  ,would you have done it?,  ,Would you havekept your oath then?,  ,First, I killedthe pyromancer.,  ,And then when the kingturned to flee,,  ,I drove my swordinto his back.,  ,\"Burn them all,\"he kept saying.,  ,\"Burn them all.',\n",
       " '\",  ,I don\\'t thinkhe expected to die.,  ,He he meant to...,  ,burn with the rest of us,  ,and rise again,,  ,reborn as a dragon,  ,to turn his enemiesto ash.,  ,I slit his throat to make surethat didn\\'t happen.,  ,That\\'s where Ned Starkfound me.,  ,If this is true...,  ,why didn\\'t you tell anyone?,  ,Why didn\\'t you tellLord Stark?,  ,Stark?,  ,You think,  ,the honorable Ned Stark,  ,wanted to hear my side?,  ,He judged me guilty,  ,the momenthe set eyes on me.,  ,By what rightdoes the wolf,  ,judge the lion?,  , By what right?',\n",
       " 'Help!',\n",
       " \"Help!,  ,The Kingslayer!,  ,Jaime.,  ,My name is Jaime.,  ,Onion Knight.,  ,Ser Onion Knight.,  ,Princess?Gods, what are you doing here?,  , Shh, you'll wake Bert.\",\n",
       " \"Bert?,  ,He's the fat one.He's on guard duty tonight.,  ,He likes to drink wineand sleep a lot.,  ,Go back to your room.You're not supposed to be here.,  , If your father knew He said you were a traitor.,  ,Are you?,  ,I am, child.,  ,I disobeyed my king,your father,,  ,and now I'm payingthe price.,  ,I don't care.You're my friend.,  ,You must get boreddown here.,  ,I brought yousomething to read.,  ,It's about Aegonand his dragons.,  ,Aegon used to live here.Did you know that?,  , And the Targaryens built this castle.\",\n",
       " 'Aye.,  , So they did.',\n",
       " \"You can hide the book under your cloak.,  ,It's a good one.I'll bring you more.,  ,Thank you, my lady.I'm sure it's a fine book,,  ,but it's wasted on me.,  ,Take it.I have more.,  ,My lady, I can't readthe words.,  ,You can't?,  ,I'll teach you.\",\n",
       " \"I'll come whenBert's on duty and teach you.,  , No.\",\n",
       " 'No.',\n",
       " 'No.',\n",
       " \"It's easy.\",\n",
       " \"It'll be fun.,  , Go.\",\n",
       " \"We can't.\",\n",
       " 'Why not?,  ,What will they do,lock us in cells?,  ,I wouldn\\'t knowwhere to start.,  ,At the beginning.,  ,This word is Aegon.,  ,When you see A, E, and Gtogether like that,,  ,it sounds like egg.,  ,And the titleof the whole book,  ,is \"An Historyof Aegon the Conqueror,  ,and His Conquestof Westeros.',\n",
       " '\",  ,It was a bitchof a siege.,  ,Mm, you were firstthrough the breach at Pyke?,  ,The second.Thoros of Myr went in alone,,  ,waving thatflaming sword of his.,  ,Thoros of Myr.Bloody madman.,  ,Robert knighted youafter the battle?,  ,Proudest momentof my life.,  ,One knee in the dust,the king\\'s sword on my shoulder,,  ,listening to the words.,  ,\"In the name of the Warrior,I charge you to be brave.',\n",
       " '\",  ,All I could think ofwas how badly I had to piss.,  ,In full plate metalfor  hours.,  ,Never occurred to metill the fighting was over.,  ,I was very nearly the first manknighted to piss on the king\\'s boots.,  ,Robert would havelaughed.,  ,He was a good man,a great warrior.,  ,And a terrible king.,  ,I burned away my yearsfighting for terrible kings.,  , You swore an oath.',\n",
       " \"Yes.,  ,And a man of honorkeeps his vows,,  ,even if he's servinga drunk or a lunatic.,  ,Just once in my lifebefore it's over,,  ,I want to know what it's liketo serve with pride,,  ,to fight for someoneI believe in.,  ,Do you believe in her?,  ,With all my heart.,  ,These are the ones?,  ,Yes, khaleesi.The officers.,  ,All Unsullied boysare given new names,  ,when they are cut,  ,Grey Worm, Red Flea,Black Rat.,  ,Names that remind themwhat they are,  ,vermin.,  ,King Robertwanted her dead.,  ,Of coursehe wanted her dead.,  ,She's a Targaryen.The last Targaryen.,  ,I suppose no one on the smallcouncil could speak sense to him.,  , I didn't sit on the small council.\",\n",
       " \"No?,  ,Doesn't the Lord Commanderof the Kingsguard traditionally,  ,Traditionally, yes,but I killed a dozen,  ,of Robert's friendsduring his rebellion.,  ,He didn't want adviceon how to govern,  ,from a man who had foughtfor the Mad King.,  ,Can't sayI minded much.,  ,I always hatedthe politics.,  ,Yeah, I imagineI would, too.,  ,Hours spent jabberingabout backstabbings,  , and betrayals the world over.\",\n",
       " \"Mmhmm.,  ,Still, she'll haveto wade through that muck,  ,if she wants to rulethe Seven Kingdoms.,  ,She'll have good menaround her to advise her,,  ,men with experience.,  ,Which men do youhave in mind?,  ,Forgive me, Ser Jorah,for what I'm about to say,,  ,but your reputation in Westeroshas suffered over the years.,  ,It suffered for a reason.,  ,I sold men into slavery.,  ,I don't knowif your presence by her side,  ,will help our causewhen we go home.,  ,Our cause?,  ,Forgive me, Ser Barristan,but I was busy,  ,defending the khaleesi againstKing Robert's assassins,  ,while you were stillbowing to the man.,  ,We both want her to rule.Am I wrong?,  ,You only joined usa few days ago.,  ,I can't speakto your intentions.,  ,If we're trulyher loyal servants,,  ,we will do whateverneeds to be done,,  ,no matter the cost,no matter our pride.,  ,You're notLord Commander here.,  ,You're just another exile.,  ,And I take my ordersfrom the queen.,  , Come to bed.\",\n",
       " \"You were right.,  ,The Karstarks are gone.,  ,Almost half our forces.,  ,Tywin Lannister knows what heneeds to do to make us unravel.,  ,Nothing.,  ,Only wait.,  ,Don't let him.,  ,What can I do?,  ,Attack King's Landing?,  ,There's nothinghe'd like better.,  ,He'd crush usin a day.,  ,We could ride north.,  ,Take your land backfrom the Greyjoys.,  , Wait out the winter.\",\n",
       " \"Winter could last five years.,  ,Once my bannermenare home again,,  ,sitting by the fire,surrounded by their families,,  ,warm and safe,they'll never ride south again.,  ,When I gatheredmy lords together,,  ,we had a purpose,a mission.,  ,Now we're like a bandof bickering children.,  ,Give them a new purpose.,  ,What?,  ,Oh, I don't know.,  ,I don't even knowwhere Winterfell is.,  ,Here.,  ,And we're here.King's Landing,  ,What is it?,  ,I can't force themto meet us in the field,  ,and I can't attack themwhere they're strongest,,  ,but I can attack themwhere they're not.,  ,And Casterly Rockcan't run away.,  ,I'm going to taketheir home away from them.,  ,Can you do it?,  ,I need men to replace the Karstarkswho marched home.,  ,There is only one personin this kingdom,  ,with that kind of army who hasn'talready sided with the Lannisters.,  ,The man whose daughterI was supposed to marry,  ,Walder Frey.,  ,He's sucha splendid fighter.,  ,Do you have any ideawhen we might...,  ,I'll plant the seedas soon as Joffrey and I are married.,  ,It should grow quickly.,  ,Joffrey won't let me leave.,  ,He's got too many reasonsto keep me here.,  ,And only oneto let you go.,  ,Because it willplease me.,  ,Squire!,  ,Well fought, ser.,  ,That was no fight.I don't know you.,  ,Olyver,if it please you.,  ,I should like to see you spar witha proper partner, ser.,  ,How did you know?,  ,Know what?,  ,That I wanted to.,  ,My lord...,  ,I'll have you knowI'm to be married soon,  ,and even my intendedhasn't the slightest notion.,  ,They rarely do,in my experience.,  ,You have a good dealof experience, do you?,  ,With the husbands.,  ,That didn't take long.,  ,Well, it took long enough.,  ,It seems our Knight of Flowersis engaged to be wed.,  ,Is he?,  ,And...,  ,who's the lucky girl?,  ,She may not be the grandestship in the world,  ,or the fastest,,  ,but she's mine.,  ,I've always wanted a ship.,  ,Now I want a dozen.,  , Strange, isn't it?\",\n",
       " \"What is?,  ,It doesn't matterwhat we want,,  ,once we get it,,  ,then we wantsomething else.,  ,Your hair is different.,  ,Is it?,  ,Lady Margaerywears it that way.,  ,Many ladieswear it this way.,  ,I have good news.,  ,I'll be leavingthe city soon.,  ,You still want meto come with you?,  ,It's not a questionof what I want.,  ,It's what you want.,  ,You want to go home,don't you?,  ,Of course.More than anything.,  ,But maybe it wouldbe better to wait.,  ,I've been thinkinghow dangerous it would be.,  ,Not just for me,but for you.,  ,You've been so kind.,  ,I'd feel terrible if anythinghappened to you.,  ,I can't tell youhow touched I am,  ,by your concernfor my welfare.,  ,I hope you know thatI'm your friend, Sansa.,  ,Your true friend.,  ,I do, Lord Baelish.,  , Petyr.\",\n",
       " \"Petyr.,  ,If you wish to stay,,  ,then of courseyou will stay.,  ,We'll speak againwhen I return.,  ,You're late.,  ,What's she doing here?,  ,Our businessconcerns her, too.,  ,Sit.,  ,You'll be pleased to learn,  ,that after one conversationwith Olenna Tyrell,,  ,I've saved the crown,  ,hundreds of thousandson this wedding.,  ,Never mind that now.,  ,We have somethingimportant to discuss.,  ,I'm Master of Coin.Saving money is important.,  ,Stop that.,  ,You're making meuncomfortable.,  ,Your sister has learned thatyour new friends the Tyrells,  ,are plotting to marrySansa Stark to Ser Loras.,  ,Very well.,  ,She's a lovely girl.,  ,Missing some of Loras'favorite bits,,  ,but I'm surethey'll make do.,  , Your jokes are not appreciated.\",\n",
       " \"It wasn't my best, but,  ,I bring them into the royal foldand this is how they repay me,,  ,by trying to steal the key tothe North out from under me.,  ,Sansa is the keyto the North?,  ,I seem to remembershe has an older brother.,  ,The Karstarkshave marched home.,  ,The young wolf has lost half his army.His days are numbered.,  ,Theon Greyjoy murderedboth his brothers.,  ,That makes Sansa Starkthe heir to Winterfell.,  ,And I am not aboutto hand her over to the Tyrells.,  ,The Tyrell army is helpingus to win this war.,  ,Do you really thinkit's wise to refuse them?,  ,There's nothing to refuse.This is a plot.,  ,Plots are notpublic knowledge.,  ,And the Tyrellswon't carry this one out,  ,until afterJoffrey's wedding.,  ,We need to act firstand kill this union in its crib.,  ,And how do we do that?,  ,We find Sansa Starka different husband.,  , Wonderful.\",\n",
       " \"Yes, it is.,  ,You can't mean it.,  ,I can and I do.,  ,Joffrey has made thispoor girl's life miserable,  ,since the day he tookher father's head.,  ,Now she's finally free ofhim and you give her to me?,  ,That's cruel even for you.,  ,Do you intendon mistreating her?,  ,The girl's happinessis not my concern,,  , nor should it be yours.\",\n",
       " \"She's a child!,  ,She's flowered, I assure you.She and I have discussed it at length.,  ,There, you see?\",\n",
       " \"You will wed her,bed her, and put a child in her.,  , Surely you're capable of that.\",\n",
       " \"And if I refuse?,  ,You wanted to be rewardedfor your valor in battle.,  ,Sansa Stark is a finer reward thanyou could ever dare hope for.,  ,And it is past timeyou were wed.,  ,I was wed.,  ,Or don't you remember?,  ,Only too well.,  ,You should be thankingthe gods for this.,  ,This is morethan you deserve.,  ,Tyrion will do as he's bid.,  ,As will you.,  ,What do you mean?,  ,You'll marry Ser Loras.,  , I will not.\",\n",
       " \"The boy is heir to Highgarden.,  ,Tyrion will secure the North,you will secure the Reach.,  , No, I won't do it.\",\n",
       " \"Yes, you will.,  ,You're still fertile.You need to marry again and breed.,  ,I am Queen Regent,not some broodmare.,  ,You're my daughter!,  ,You will do as I command,  ,and you will marryLoras Tyrell,  ,and put an endto the disgusting rumors,  ,about youonce and for all.,  ,Father, don't make medo it again, please.,  ,Not another word.,  ,My children.,  ,You've disgraced the Lannistername for far too long.,  , It's always summer ,  , Under the sea ,  , I know, I know ,  , Oh, oh, oh ,  , The birds have scales ,  , And the fish take wing ,  , I know, I know ,  , Oh, oh, oh ,  , The rain is dry ,  , And snow falls up ,  , I know, I know ,  , Oh, oh, oh ,  , The stones crack open ,  , The water burns ,  , The shadows cometo dance ,  , My lord ,  , The shadows come ,  , To play ,  , The shadowscome to dance ,  , My lord ,  , The shadows come ,  , To stay.\",\n",
       " ',  ,<font color=\"#ffff\" size=www.tvsubtitles.net</font\\xef\\xbb\\xbfYou\\'ve got too muchwood in there.,  ,But the more wood,the bigger the fire.,  ,It needs to breathe.,  ,Take off that big log.,  ,Huh.You know your fires.,  ,Someone built your firesfor you growing up?,  ,It doesn\\'t get so colddown in the Reach.,  ,And there wereservants, of course.,  ,I knew you were highborn.,  ,Oh, I found somethingat the Fist of the First Men.,  ,Buried treasure.,  ,Thousands of years old.,  ,I think.,  ,What does it do?,  ,I\\'m not surethat it does anything.,  ,It\\'s beautiful, though,isn\\'t it?,  , How much longer?',\n",
       " \"Not so far.,  ,A few more days.,  ,Is the Wallas big as they say?,  ,Bigger.,  ,So big you can't even seethe top sometimes.,  ,It's hidden in clouds.,  ,You're playing with me.,  ,I'm not.It's  feet high,,  ,all made of ice.,  ,On a warm dayyou can see it weeping.,  ,Castle Blackis nice enough.,  ,They keep a fire burningin the long hall,  ,day and night.,  ,And Hobb makesvenison stew,  ,with onions.,  ,Very tasty.,  ,Sometimes, one ofthe brothers will sing.,  ,Dareon sings best.,  , Do you sing?\",\n",
       " \"No.,  ,No, no, no.Not very well.,  ,Sing me a song.,  ,Oh, all right.,  ,Let's see.,  ,Oh...\",\n",
       " \"ahem.,  , The father's faceis stern and strong ,  , He sits and judgesright from wrong ,  , He weighs our lives,the short and long ,  , And lovesthe little children ,  , The mother givesthe gift of life ,  , And watches overevery wife ,  , Her gentle smileends all strife ,  , And she lovesher little children.\",\n",
       " \",  ,That's not howyou skin a rabbit.,  ,I know howto skin a rabbit.,  ,Not by the looks of it.,  ,You grow upnorth of the Wall,,  ,you learn the properway to handle game.,  ,I didn't see any gamebefore I got here.,  ,If I had a bow, I could have shota dozen rabbits.,  ,Well, I madethis bow myself.,  ,Guess you don't learnhow to do that north of the Wall.,  ,You learn how to useyour fists, though.,  ,Oh, you're gonna punchthe rabbits to death?,  ,I had someone else in mind.,  ,Well, someone elseis sitting right here.,  ,You're both very goodat skinning rabbits.,  ,Some of us are justa little better.,  ,Well, some of us would saythank you when someone else,  ,hunts down theirbreakfast for them.,  ,Or don't they teach you to say thank you north of the Wall?,  ,You've got a big mouth, girl,and too many teeth.,  , Stop it!\",\n",
       " \"Hodor.,  ,You've been fighting since you met.Just stop it.,  ,Lady Reed here's gota stick so far up her ass,,  ,it's a wonder her feettouch the ground.,  ,You've been nastyto her every day.,  ,Of course she's nasty back.,  ,Me?\",\n",
       " \"It's my fault?,  ,First time I met her,she put a knife to my throat.,  ,First time I met you,you held a knife at me.,  ,We can't fight each other.,  ,We'll never make itto the Wall.,  ,I want you bothto make peace.,  ,Your way of skinning rabbitsis quicker than mine.,  , I said so, didn't I?\",\n",
       " \"Osha!,  ,You're a goodlittle hunter.,  ,Thank you.,  ,See?,  ,Not so hard, is it?Thank you.,  ,Don't push me.,  ,Shh.,  ,I'm right here with you.,  ,What's happening?,  ,I'm right here with you.,  ,What's wrong with him?,  ,The visionstake their toll.,  ,He's having one now?,  ,I saw Jon Snow.,  ,You saw him?,  ,At Castle Black?,  ,He was on the wrong sideof the Wall...,  ,surrounded by enemies.,  ,Used to be you couldn'tfind a tree within a mile of the Wall.,  ,Crows would come outevery morning with axes.,  ,Your flock gets smallerevery year.,  ,You ever climbed it before?,  ,No.,  ,But Tormund's done ithalf a hundred times.,  ,You're afraid.,  , Aren't you?\",\n",
       " 'Aye.,  ,It\\'s a long way upand a long way down.,  ,But I\\'ve waitedmy whole life,  ,to see the worldfrom up there.,  ,Here, sit down.I brought a pair for you.,  ,They\\'re too big for you,but they\\'re good.,  ,You kill someonefor them?,  ,Nah.,  ,I didn\\'t kill him,,  ,but I bet his ballsare still bruised.,  ,He wasn\\'t good to methe way you\\'re good to me.,  ,He didn\\'t do that thingyou do with your tongue.,  ,Can we not talkabout that here?,  ,\"Can we not talkabout that here?,  ,I\\'m Jon Snow.,  ,I\\'ve killed dead menand Qhorin Halfhand,,  ,but I\\'m scaredof naked girls.',\n",
       " '\",  ,Did I seem scaredthe other day?,  ,You were tremblinglike a leaf.,  ,Only in the beginning.,  ,Only in the beginning.,  ,You\\'re a proper lover,Jon Snow.,  ,And don\\'t worry.,  ,Your secret\\'s safewith me.,  ,What secret?,  ,Do you think I\\'m as dumbas all those girls,  ,in silk dressesyou knew growing up?,  ,You\\'re loyaland you\\'re brave.,  ,You didn\\'t stopbeing a crow,  ,the day you walkedinto Mance Rayder\\'s tent.,  ,But I\\'m your woman now,Jon Snow.,  ,You\\'re going to be loyalto your woman.,  ,The Night\\'s Watchdon\\'t care if you live or die.,  ,Mance Rayder don\\'t careif I live or die.,  ,We\\'re just soldiersin their armies,  ,and there\\'s plenty moreto carry on if we go down.,  ,It\\'s you and me,  ,that mattersto me and you.,  ,Don\\'t ever betray me.,  ,I won\\'t.,  ,\\'Cause I\\'ll cutyour pretty cock right off,  ,and wear it\\'round my neck.,  ,Sink your metal deep,  ,and make sure it holdsbefore taking your next step.,  ,And if you fall,,  ,don\\'t scream.,  ,You don\\'t want that to be thelast thing she remembers.,  ,Joffrey.,  ,Cersei.,  ,Ilyn Payne.,  ,You\\'re good.,  ,You\\'re not as goodas you think you are.,  ,Face, tits, balls,  ,I hit \\'em rightwhere I wanted to.,  ,Aye, but you tookyour sweet time of it.,  ,You won\\'t be fightingstraw men, little lady.,  ,Show me your position.,  ,Keep your elbow high.,  ,You want your backdoing the hard labor.,  ,You\\'re holding.,  ,Never hold.,  , What?',\n",
       " \"Your muscles tense up when you hold.,  ,Pull the string backto the center of your chin,  ,and release.,  ,Never hold.,  ,But I have to aim.,  ,Never aim.,  ,Never aim?,  ,Your eye knows whereit wants the arrow to go.,  ,Trust your eye.,  ,There's someone out there.,  ,That's about far enough.,  ,We come as friends.,  ,Beggingyour pardon, m'lady,,  ,but we'll bethe judge of that.,  ,Valar morghulis.,  ,Valar dohaeris.,  ,My friends heredon't speak High Valyrian.,  ,Why are you here,my lady?,  ,Forgive my manners.,  ,I don't see many ladiesthese days.,  ,Lucky for the ladies.,  ,How many times hasthe Lord brought him back?,  ,Six.,  ,I've always beena terrible priest.,  ,Drank too much rum.,  ,Fucked all the whoresin King's Landing.,  ,It's a terriblething to say,,  ,but by the time I cameto Westeros, I didn't believe in our Lord.,  ,I decided that He,that all the gods,,  ,were stories we toldthe children to make them behave.,  ,So I wore the robes and every nowand then I'd recite the prayers,,  ,but it was just for show.,  ,A spectaclefor the locals.,  ,Until the Mountain drove a lancethrough this one's heart.,  ,I knelt besidehis cold body,  ,and said the old words.,  ,Not because I believedin them, but...,  ,he was my friend,  ,and he was dead.,  ,And they werethe only words I knew.,  ,And for the first timein my life, the Lord replied.,  ,Beric's eyes opened,  ,and I knew the truth.,  ,Our godis the one true god.,  ,And all menmust serve Him.,  ,You've beento the other side.,  ,The other side?,  ,There is no other side.,  ,I have beento the darkness, my lady.,  ,He sent you to usfor a reason.,  ,You have someoneHe needs.,  ,Bodkin point.,  ,Penetrates plateat  yards.,  ,Can you make 'em?,  ,Yeah, nothing trickyabout it.,  ,Just need decent steel.,  ,I'll get you the steel.,  ,Come on.,  ,I don't like that woman.,  ,That's 'causeyou're a girl.,  ,What does that haveto do with anything?,  ,Forgive me, lad.,  ,What are you doing?Let go of him.,  , Tell them to stop.\",\n",
       " \"Come on.,  ,He wants to be one of you.,  ,He wants to join the Brotherhood.Stop them!,  ,We servethe Lord of Light,  ,and the Lord of Lightneeds this boy.,  ,Did the Lord of Lighttell you that or did she?,  ,You're not doing thisfor your god.,  ,You're doing it for gold.,  ,We're doing itfor both, girl.,  ,We can't defend the peoplewithout weapons,  ,and horses and food.,  ,And we can't get weaponsand horses and food without gold.,  ,You told methis was a Brotherhood.,  ,You told meI could be one of you.,  ,You are morethan they can ever be.,  ,They're just foot soldiersin the great war.,  ,You will make kingsrise and fall.,  ,You're a witch.You're going to hurt him.,  ,I see a darkness in you.,  ,And in that darkness,eyes staring back at me,  ,brown eyes,,  ,blue eyes,green eyes.,  ,Eyes you'll shut forever.,  ,We will meet again.,  ,You staring at my ass,Jon Snow?,  ,You all right?,  ,Just seeing if you cantake a hit, lad.,  ,Sorry.Were you sleeping?,  ,Wa,  ,Wa?\",\n",
       " \"Wa?,  ,Water?,  ,You want some water.,  ,I wish I hadsome for you.,  ,So let's play a game.,  ,Which body partdo you need the least?,  , Please.\",\n",
       " \"Please is not a body part.,  ,I'll tell you everything,please.,  ,But you've alreadytold me everything.,  ,Remember?,  ,Your daddywas mean to you.,  ,The Starks didn'tappreciate you.,  ,One good bit, though.,  ,The Stark boys,,  ,they're still alive.,  ,Wouldn't that bea hunt to remember?,  ,You failed, but I'm a betterhunter than you.,  ,Now...,  ,how aboutyour little finger?,  ,You don't use thatfor much, do you?,  ,No?\",\n",
       " \"Good.Let's start with that.,  ,You've been wonderingwhy you're here.,  ,Haven't you?,  ,Where you are.,  ,Who I am.,  ,Why I'm doingthis to you.,  ,So guess.,  ,If you guess right,,  ,I'll tell you.,  ,By the old godsand the new, I swear it.,  ,You win the game,  ,if you canfigure out who I am,  ,and whyI'm torturing you,  ,and I win the game if you begme to cut off your finger.,  ,If I win,you'll let me go?,  ,If you think this hasa happy ending,,  ,you haven't beenpaying attention.,  ,Please.,  ,You say please againand you'll wish you hadn't.,  ,You first.,  ,Where are we?,  , The North.\",\n",
       " \"Too vague.,  ,Deepwood Motte.,  ,Terrible guess.,  ,Now, where?,  ,Last Hearth.,  ,Do I look likea fucking Umber to you?,  ,Karhold!,  ,Karhold?,  ,How did you know that?,  ,Did you see any bannersflying when we came in?,  ,No.,  ,It was just a guess.,  ,Very good, Lord Theon.,  ,And who am I?,  ,Torrhen Karstark.,  ,He's dead.,  ,Strangled bythe Kingslayer.,  ,He was your brother.,  ,Your fatheris Lord Rickard Karstark.,  , You swore to tell me if I You're right.,  ,Lord Rickard Karstarkis Robb Stark's bannerman.,  ,I betrayed Robb.,  ,That's why you'retorturing me.,  ,Yes.,  ,You win.,  ,Of course, you forgotto ask one question.,  ,You forgot to askif I'm a liar.,  ,I'm afraid I am.,  ,Everything I told youis a lie.,  ,This isn't happeningto you for a reason.,  ,Well, one reasonI enjoy it.,  ,Please, cut it off!Cut it off!\",\n",
       " \"Cut it off!,  ,I win.,  ,Thank you for ridinghere so quickly.,  ,I know travelisn't easy in these times.,  ,The roads are crawlingwith cutthroats and bandits.,  ,But when the Kingof the North summons us, we come.,  ,Our father hasinstructed us to tell you,  ,that his alliancewith the North can continue,  ,if his terms are met.,  ,Lord Frey requiresa formal apology,  ,for your violationof your sacred oath,  ,to marry oneof his daughters.,  ,Of course.\",\n",
       " \"He deserves as much.I was in the wrong.,  ,As restitutionfor this betrayal,,  ,he demands Harrenhaland all its attendant lands.,  , I don't think that's We are fighting for the North.,  ,Harrenhal is notin the North.,  ,It is hisonce the war is over,  ,and we have no furtherstrategic need for it.,  ,And there'ssomething else.,  ,We will do whatever we canto give Lord Frey what he needs.,  ,Not what, whom.,  ,What?,  ,No.,  ,Our father requiresLord Edmure to wed,  ,one of his daughtersRoslin.,  ,How old is she?,  ,.,  ,Could I see her first?,  ,You want to counther teeth?,  ,We depart for the Twinsin the morning.,  ,We need an answerbefore we leave,  ,and a wedding not morethan a fortnight thereafter,  ,or this allianceis at an end.,  ,Your father does realizewe're in the middle of a war?,  ,Father is old.,  ,It will puthis heart at peace,  ,if he could see her wedto a good husband.,  ,And his recent experiencehas made him wary,  ,of long engagements.,  ,He has every right to be.,  ,Please excuse uswhile we discuss it.,  ,Why should I let that oldferret choose my bride for me?,  ,At the very least, I should beoffered the same choice you were.,  ,I'm his liege lord.,  ,He's a proud manand we've wounded him.,  ,I didn't wound him.,  ,My answer is no.,  ,Listen to me,  ,and listen very carefully.You,  ,The laws of gods and menare very clear.,  ,No man can compelanother man to marry.,  ,The laws of my fistare about to compel your teeth.,  ,It's all right.You heard him.,  ,If you refuse, our alliance withthe Freys is dead.,  ,He's wanted me for oneof his daughters since I was .,  ,He's not gonna stopwanting it now.,  ,When I say no,he will come back,  ,and offer me a daughterof my choosing.,  ,You're willing to riskour freedom,  ,and our lives for a chanceat a prettier wife?,  ,I have a war to fight.,  ,We can't win itwithout them.,  ,I have no time to haggle.,  ,You said you wanted to makeamends for the Stone Mill.,  ,You recall thatheroic engagement?,  ,I had somethingless permanent in mind.,  ,I've won every battle,,  ,but I'm losing this war.,  ,If we don't do thisand do it now,,  ,we're lost.,  ,I'll marry her.,  ,You're payingfor my sins, Uncle.,  ,It's not fair or right.,  ,I'll remember it.,  ,I see my men havefinally found you,  ,something appropriateto wear.,  ,Yes.\",\n",
       " \"Most kind of them.,  ,You're a Starkbannerman, Lord Bolton.,  ,I am acting onLady Stark's orders,  ,to return Jaime Lannisterto King's Landing.,  ,When King Robb left Harrenhal,his mother was his prisoner.,  ,If she wasn't his mother,,  ,he'd have hanged herfor treason.,  ,I should send youback to Robb Stark.,  ,You should.,  ,But instead,you're sitting here,  ,watching me fail at dinner.,  ,Why might that be?,  ,Wars cost money.,  ,Many people would paya great deal for you.,  ,We both knowwho would pay the most.,  ,Or make you pay the most,  ,if he found outyou had captured me,  ,and sent me back up northfor a summary execution.,  ,You're right.,  ,Perhaps the safest thing to do is tokill you both and burn your bodies.,  ,It would be,,  ,if you honestly believed my fatherwould never find out about it.,  ,King Robb is keepingyour father quite busy.,  ,He doesn't have timefor anything else.,  ,He'll make time for you.,  ,As soon as you'rewell enough to travel,,  ,I will allow youto go to King's Landing,  ,as restitution for the mistakesmy soldiers made.,  ,And you will swear to tellyour father the truth,,  ,that I had nothingto do with your maiming.,  , Shall we drink on it?\",\n",
       " \"I don't partake.,  ,You do understand how suspiciousthat is to ordinary people?,  ,Very well.,  ,My lady,,  ,may our journey continuewithout further incident.,  ,Oh, she won't begoing with you.,  ,I am charged withbringing Ser Jaime to,  ,You are chargedwith abetting treason.,  ,I'm afraid I must insist.,  ,You're in no placeto insist on anything.,  ,I would have hopedyou'd learned your lesson,  ,about overplayingyour position.,  , Impossible.\",\n",
       " \"Why?,  ,My grandson is the prideof Highgarden.,  ,The most desirable bachelorin all seven kingdoms.,  , Your daughter Is rich,,  ,the most beautiful womanin all seven kingdoms...,  ,and the motherof the king.,  ,Old.,  ,Old?,  ,Old.,  ,I'm something of an experton the subject.,  ,Her change will beupon her before long.,  ,I'll spare you the detailsof what will happen then.,  ,You men may have a stomachfor bloodshed and slaughter,,  ,but this is anothermatter entirely.,  ,The years punish us as well,I promise you that.,  ,My stomach remainsquite strong, however.,  ,The only thingthat might turn it,  ,are details of your grandson'snocturnal activities.,  , Do you deny them?\",\n",
       " \"Oh, not at all.,  ,A sword swallowerthrough and through.,  ,And a boywith his affliction,  ,should be gratefulfor the opportunity,  ,to marry the most beautifulwoman in the kingdoms,  ,and remove the stainfrom his name.,  ,Did you grow upwith boy cousins, Lord Tywin?,  ,Sons of your father'sbannermen,,  ,squires, stable boys?,  ,Of course.,  ,And you never...,  ,No.,  ,Not once?,  ,Not in any way?,  ,Never.,  ,I congratulate youupon your restraint.,  ,But it's a natural thing,two boys having a go,  ,at each otherbeneath the sheets.,  ,Perhaps Highgardenhas a high tolerance,  ,for unnatural behavior.,  ,I wouldn't say that.,  ,True, we don't tieourselves in knots,  ,over a discreetbit of buggery, but...,  ,brothers and sisters,  ,where I come from,that stain,  ,would be very difficultto wash out.,  ,I will not breathefurther life,  ,into a malicious lieby discussing it.,  ,Lie or not,,  ,you must admit many peoplefind it quite convincing.,  ,Convincing enoughto put swords in their hands,  ,and send them offto kill Lannisters,  ,and Tyrells thanks toour new affiliation.,  ,I don't carewhat people believe.,  ,And neither do you.,  ,As an authority on myself,I must disagree.,  ,Now, if the rumors aboutmy children were true,,  ,then Joffreyis no king at all,  ,and House Tyrell is throwing itsprized flower into the dirt.,  ,And if Cersei is too oldto give Loras children,,  ,we're throwing anotherprized flower into the dirt.,  ,It is a chancewe simply cannot take.,  ,The uncertaintymakes you uncomfortable.,  ,All right.,  ,I'll remove it for you.,  ,If you refuse to marryLoras to Cersei,,  ,I will name himto the Kingsguard.,  ,I'm sure you're familiarwith the Kingsguard vows.,  ,He will never marry.,  , He will never have children.\",\n",
       " \"Oh...,  ,The Tyrell namewill fade.,  ,And Highgarden will goto the children,  ,of Joffreyand Margaery.,  ,You would haveyour grandson protected,  ,by someonewho disgusts you?,  ,I would have my grandsonprotected by a skilled warrior,  ,who takes his vowsseriously.,  ,So, shall I draw upthe order?,  ,Or do you consentto this marriage?,  ,It's a rare enough thing,  ,a man who lives upto his reputation.,  ,No!,  ,We've gotta cut them loose!,  ,No!,  ,Take my hand!,  ,That's a wonderful pin.,  ,Oh, it's moreof a brooch, really.,  ,Though I suppose a broochis a sort of pin, so...,  ,I'm very happy about...,  ,Uh, yes.,  ,II am as well.,  ,I feel likeI'm in a dream.,  ,Yes, me, too.Definitely.,  ,I've dreamed of a large weddingsince I was quite young.,  ,The guests,,  ,the food,the tournaments.,  ,And the bride,of course.,  ,The most beautiful bridein the world,  ,in a beautifulgown of gold,  ,and green brocadewith fringed sleeves.,  ,Have you ever beento Highgarden, my lady?,  ,No.\",\n",
       " 'I had neverleft Winterfell,  ,before I cameto King\\'s Landing.,  ,But it sounds wonderful.,  ,I can\\'t wait to see it.,  ,And to leave this place.,  ,It\\'s terrible,isn\\'t it?,  ,The most terribleplace there is.,  ,I don\\'t supposethere\\'s anything we can do about this.,  ,We can have themboth killed.,  ,It\\'s hard to saywhich of the four of us,  ,is getting the worstof this arrangement.,  ,Probably Sansa.,  ,Though Loraswill certainly come to know,  ,a deep and singular misery.,  ,Father doesn\\'tdiscriminate.,  ,We\\'re all being shippedoff to hell together.,  ,On a boat you built.,  ,The Tyrells were plottingto undermine our family.,  ,I did what I didto protect our family.,  ,I\\'m your family.,  ,A member of your family,  ,who has actively contributedto that family\\'s survival.,  ,Whether or notyou or Father,  ,or anyone elsewants to admit it.,  ,I do admit it.,  ,If it weren\\'t for your trickwith the wildfire,,  ,Stannis would have sacked thecity before Father got here.,  ,Our heads would still berotting on the city gate.,  ,Trying to have me killed is anodd way of saying thank you.,  ,There are two peoplein King\\'s Landing,  ,who can give an orderto a Kingsguard.,  ,Did you or did you notorder Ser Mandon,  ,to kill me during the Battleof the Blackwater?,  ,The impulse I understand.,  ,He hates mebecause I\\'m the only one,  ,who tells himwhat he really is.,  ,So, fair enough.He wants me dead.,  ,But his stupidity?,  ,He could have had me poisonedand no one would have known.,  ,But the kingorders a Kingsguard,  ,to murderthe Hand of the King,  ,in full viewof his own army.,  ,The boy\\'s an idiot.,  ,What do youwant me to say?,  ,I want you to tell me if my lifeis still in danger.,  ,Probably.,  ,But not from Joffrey.,  ,He won\\'t do anythingnow Father\\'s here.,  ,Seven kingdomsunited in fear,  ,of Tywin Lannister.,  ,Not the Tyrells.,  ,Soon they won\\'t needto be afraid of him.,  ,Joffrey will belongto Margaery,,  ,the littledoeeyed whore.,  ,And so will his childrenand their children.,  ,History will be takenfrom our hands.,  ,You may escape,at least.,  ,Once Jaime gets back,,  ,Ser Loras may come downwith a terrible case,  ,of sword through bowels.,  ,When Jaime gets back, yes.,  ,But when do we thinkthat\\'s going to be?,  ,He\\'s out there somewhere.,  ,Jaime or not,I\\'m truly fucked.,  ,Who\\'s going to tell her?,  ,Do you thinkpeople will like it?,  ,I don\\'t think theywill even notice it.,  ,You\\'re right.It\\'s not my wedding.,  ,Anyway, from whatI can tell,,  ,the dressmakers in Highgardenwill be far superior,  ,to the onesin King\\'s Landing.,  ,They\\'d never make me anythingas dull as this for my wedding.,  ,Loras likes greenand gold brocade.,  ,I\\'m sure he does.,  ,Will they let meinvite my family?,  ,They haven\\'t askedmy opinion.,  ,But do you thinkthey will?,  ,No.,  ,Lady Sansa,Lord Tyrion to see you.,  , Should I I beg your pardon, my lady.,  ,Good afternoon,Lord Tyrion.,  ,I was just trying on a gownfor King Joffrey\\'s wedding.,  ,Yes, it should bequite a wedding.,  ,I need to speakwith you, Lady Sansa.,  ,Of course.,  ,Alone, if I may.,  ,Why do you needto speak to her alone?,  ,Shae.,  ,Please excuse her,Lord Tyrion.,  ,She\\'s not from here.,  ,But I trust her,,  ,even thoughshe tells me not to.,  ,Sometimes we thinkwe want to hear something,  ,and it\\'s only afterwardswhen it\\'s too late,  ,that we realizewe wished we\\'d heard it,  ,under entirelydifferent circumstances.,  ,It\\'s all right, really.,  ,How to begin?,  ,It\\'s this,  ,this this is awkward.,  ,, blades,  ,taken from the handsof Aegon\\'s fallen enemies,,  ,forged in the fiery breathof Balerion the Dread.,  ,There aren\\'t, blades.,  ,There aren\\'t even .,  ,I\\'ve counted.,  ,Ha, I\\'m sure you have.,  ,Ugly old thing.,  ,Yet it hasa certain appeal.,  ,The Lysa Arrynof chairs.,  ,Shame you had to settlefor your second choice.,  ,Early days, my friend.,  ,It is flattering,really...,  ,you feeling such dread,  ,at the prospect of megetting what I want.,  ,Thwarting you has neverbeen my primary ambition,,  ,I promise you.,  ,Although who doesn\\'t like to seetheir friends fail now and then?,  ,You\\'re so right.,  ,For instance,,  ,when I thwartedyour plan,  ,to give Sansa Starkto the Tyrells.,  ,If I\\'m goingto be honest,,  ,I did feelan unmistakable sense,  ,of enjoyment there.,  ,But your confidant,,  ,the one who fed you informationabout my plans,,  ,the one you sworeto protect...,  ,you didn\\'t bring herany enjoyment.,  ,And she didn\\'t bring meany enjoyment.,  ,She was a badinvestment on my part.,  ,Luckily, I have a friend,  ,who wanted to trysomething new.,  ,Something daring.,  ,And he was so gratefulto me for providing,  ,this fresh experience.,  ,I did what I didfor the good of the realm.,  ,The realm?,  ,Do you knowwhat the realm is?,  ,It\\'s the thousand bladesof Aegon\\'s enemies.,  ,A story we agree to telleach other over and over,  ,till we forgetthat it\\'s a lie.,  ,But what do we have leftonce we abandon the lie?,  ,Chaos.,  ,A gaping pit waitingto swallow us all.,  ,Chaos isn\\'t a pit.,  ,Chaos is a ladder.,  ,Many who tryto climb it fail,  ,and never getto try again.,  ,The fall breaks them.,  ,And some are givena chance to climb,,  ,but they refuse.,  ,They cling to the realm,  ,or the gods,  ,or love.,  ,Illusions.,  ,Only the ladder is real.,  ,The climb is all there is.,  ,<font color=\"#ffff\" size=www.tvsubtitles.net</font\\xef\\xbb\\xbfHow far are we?,  ,About a week, I think.,  ,You think?You don\\'t know?,  ,When we went to CastleBlack, we took the kingsroad.,  ,You and your roads.,  ,Is that how you lotdo your fighting?,  ,You march down the road bangingdrums and waving banners?,  ,Most of the time, yes.,  ,How do the men holdingthe banners fight?,  ,They don\\'t, really.,  ,It\\'s a great honorto carry your house sigil.,  ,And the drummers isthat a great honor, too?,  ,Usually it\\'s the young boysbanging the drums.,  ,So what good are they?,  , They help the men march.',\n",
       " \"How?,  ,Well, it'sit's the rhythm.,  ,Oh, you mean right foot,left foot,,  ,right foot,left foot, right foot?,  ,You need help remembering that?,  ,When Mance gives the signaland we hit Castle Black,,  ,we won't be banging on drumsto let them know we're coming.,  ,No.,  ,No, you're just gonnalight the biggest fire,  ,the North has ever seen tolet them know you're coming.,  ,You know nothing, Jon Snow.,  ,She's right, you don't.,  ,I know you cut meloose on the Wall.,  ,Cut her loose, too.,  ,Do you see hersulking about it?,  ,That's because she understandsthe way things are.,  ,And are you gonnashare it with me?,  ,The deep wisdom you foundinside the head of a bird?,  ,People work togetherwhen it suits them.,  ,They're loyalwhen it suits them.,  ,They love each otherwhen it suits them.,  ,And they kill each otherwhen it suits them.,  ,She knows that, you don't.,  ,Which is why you'llnever hold onto her.,  ,That rain will cost usanother day.,  ,Frey will wait.He knows we're coming.,  ,Lord Walder is pricklyby nature.,  ,Prickly?That what you call it?,  ,Might be the leastpleasant man I've ever met.,  , Yes, and that is why I've seen wet shits,  ,I liked betterthan Walder Frey.,  ,Apologies, Your Grace.,  ,Spent too many years aroundlancers and pikemen.,  ,I've spent the last twoyears nursing wounded men,,  ,watching them bleed and die.,  ,I'm not afraid of wet shits.,  ,Lord Frey will takethis delay as a slight.,  ,He can take it as he likes.,  ,He's gettingthe wedding he wanted.,  ,He's getting a wedding.,  ,It was a king he wanted.,  ,Edmure is the bestmatch a Frey has had,  ,in the history of their house.,  ,We should all get some sleep.,  ,If you don't putsome clothes on,,  ,I can't promiseI won't attack you again.,  ,Attack.\",\n",
       " 'Attack.,  ,Who are you writing?,  ,My mother.,  , Is that Valyrian?',\n",
       " 'Gaaa.,  ,Gaaa?,  ,Say hello for me.,  ,Rytsas.,  ,\"Ritsas.',\n",
       " '\",  ,That was close enough.,  ,Does she knowher daughter\\'s a queen?,  ,Not yet.,  ,That will bea surprise, I expect.,  ,Many surprises for her.,  ,How am I supposedto sit here planning a war,  ,when you\\'re over therelooking like that?,  ,Will you come with meone day to Volantis?,  ,When all this is over?,  ,I will.,  ,I promise.,  ,I know she\\'d love to meet you.,  ,And her grandchild.,  ,What, now?,  ,Are you certain?,  ,Are you angry with me?,  ,Angry?,  ,You\\'re my queen.,  ,And I have your little princeor princess inside me.,  ,Maybe one of each.,  ,Don\\'t get greedy.,  ,Can you leave the warfor one night?,  ,I love you.,  ,Do you hear me?,  ,I love you.,  ,Most men fuck like dogs.,  ,No grace, no skill.,  ,A few dozen thrusts and done.,  ,You need to be patient.Give her time.,  ,Your cock shouldn\\'t go near her,  ,till she\\'s slickas a baby seal.,  ,And then you go inside,,  ,but slowly.,  ,Don\\'t jam it in likeyou\\'re spearing a pig.,  ,Come on!,  ,Hey, come on.,  ,You think heloves you, is that it?,  ,What did he tell you?',\n",
       " \"He'sgonna make you his lady,  ,and live with youin some castle?,  ,No, he didn't tell me anything.,  ,He barely talks.,  ,I've seen you twowhispering in the night,,  ,giggling like a pair of girls.,  ,What, you're jealous?,  ,Of course I'm jealous.,  ,You should bewith one of your own.,  ,And you're one of my own?,  ,I've never hearda kind word from your mouth.,  ,You would if you were mine.,  ,I'd tell youthat you're beautiful,  ,and fierce and wild.,  ,I'd be good to you.,  ,You love him?,  ,'Cause he's pretty?Is that it?,  ,You like his pretty hairand his pretty eyes?,  , You think pretty is gonna make you happy?\",\n",
       " \"Don't touch me.,  ,You won't love him so much whenyou find out what he really is.,  ,Growing up at Winterfell, allI ever wanted was to escape,,  ,to come here to the capital.,  ,See the southern knightsand their painted armor,  ,and King's Landingafter dark,  ,all the candles burningin all those windows.,  ,I'm stupid.,  ,A stupid little girl,  ,with stupid dreamswho never learns.,  ,Come on.,  ,Come walk with me.,  ,I remember the first timeI saw you in the throne room.,  ,I'd never seen anyonewho looked so unhappy.,  ,I want very much for youto be happy, Sansa,,  ,and so does my grandmother.,  ,You would have beenhappy at Highgarden.,  ,But women in our position,  ,must make the bestof our circumstances.,  ,How do I make the bestof my circumstances?,  ,I have to marry him.,  , Has Lord Tyrion mistreated you?\",\n",
       " \"No.,  ,Has he been kind to you?,  ,He's tried.,  ,You don't want him, though.,  ,He's a Lannister.,  ,Far from the worstLannister, wouldn't you say?,  ,I'm sorry.,  ,Here I am complaining to you...,  ,My son will be king.,  ,Sons learn from their mothers.,  ,I plan to teach minea great deal.,  ,And your son,if I'm not mistaken,,  ,your son might bethe Lord of Casterly Rock,  ,and the North someday.,  ,What?,  ,My son...,  ,with him.,  ,I'll have to,  ,we'll have to,  ,If it's the painyou're worried about,  ,I'm not afraid of the pain.,  ,Not after whatJoffrey's done to me.,  ,What is it, then?,  ,He's rather goodlookingeven with the scar.,  ,Especially with the scar.,  ,He's a dwarf.,  ,And Loras,  ,Loras.,  ,Some women like tall men.,  ,Some like short men.,  ,Some like hairy men.Some like bald men.,  ,Gentle men, rough men,ugly men, pretty men,,  ,pretty girls.,  ,Most women don't know what theylike until they've tried it.,  ,And, sadly, so many of usget to try so little,  ,before we're old and gray.,  ,Tyrion may surprise you.,  ,From what I've heard,he's quite experienced.,  ,And that's a good thing?,  ,It can be.,  ,We're very complicated,you know.,  ,Pleasing us takes practice.,  ,How do you know all this?,  ,Did your mother teach you?,  ,Yes, sweet girl.My mother taught me.,  ,She's a child.,  ,She's a foottaller than you.,  ,A tall child.,  ,What's the youngestyou've ever had?,  ,Not that young.,  ,How much older?,  ,Older.,  ,You're a lord, she's a lady.,  ,And a beauty at that.,  ,I don't see the problem.,  ,Shae isn't going to like it.,  ,Shae is a whore.,  ,Are you gonnamarry her?\",\n",
       " \"Eh?,  ,How did marrying a whore workout for you the first time?,  ,I should never havetold you about that.,  ,You want Shae, keep her.Wed one and bed the other.,  ,All you have to do is geta son in the Stark girl.,  ,He'll be Lordof Winterfell one day.,  ,You can rule the Northin his name.,  ,You'll have two women and awhole kingdom of your own.,  ,Two women to despise me,  ,and a whole kingdomto join them.,  ,You waste time tryingto get people to love you,,  ,you'll end up the mostpopular dead man in town.,  ,You want to fuckthat Stark girl.,  ,You just don't wantto admit it.,  ,I don't pay you to putevil notions in my head.,  ,The ones already theredon't need company.,  ,You pay me to kill peoplewho bother you.,  ,Evil notions come free.,  ,Your Grace.,  ,Grandfather.,  ,You wanted to speak to me?,  ,Yes.,  ,I'd like a report on themeetings of my small council.,  ,You're welcometo attend the meetings,  ,of your small council,Your Grace.,  ,Any or all of them.,  ,I've been very busy.,  ,Many important mattersrequire a king's attention.,  ,Of course.,  ,You've been holdingthe council meetings,  ,in the Tower of the Hand insteadof the small council chamber.,  ,I have, yes.,  ,May I ask why?,  ,The Tower of the Handis where I work.,  ,To walk from thereto here would take time,,  ,time I could otherwisespend productively.,  ,So if I wanted to attenda council meeting,,  ,I would now have to climb all thestairs in the Tower of the Hand?,  ,We could arrangeto have you carried.,  ,Tell me aboutthe Targaryen girl,  ,in the east and her dragons.,  ,Where did you hear about this?,  ,Is it true?,  ,Apparently so.,  ,Don't you think we oughtto do something about it?,  ,When I was Hand of the King,  ,under your father'spredecessor,,  ,the skulls of allthe Targaryen dragons,  ,were kept in this room.,  ,The skull of the last of them,  ,was right here.,  ,It was the size of an apple.,  ,And the biggestwas the size of a carriage.,  ,Yes, and the creatureto whom it belonged,  ,died  years ago.,  ,Curiosities on the farside of the world,  ,are no threat to us.,  ,But how do we know thesedragons are just curiosities,  ,and not the beasts that broughtthe whole world to heel?,  ,Because we have been toldas much by the many experts,  ,who serve the realmby counseling the king,  ,on matters aboutwhich he knows nothing.,  ,But I haven't been counseled.,  ,You are being counseledat this very moment.,  ,I should be consultedabout such things.,  ,From now on, I will see to it,  ,that you areappropriately consulted,  ,on important matters,  ,whenever necessary.,  ,Your Grace.,  ,Yunkai.,  ,The Yellow City.,  ,The Yunkish trainbed slaves, not soldiers.,  ,We can defeat them.,  ,On the field, with ease.,  ,But they won'tmeet us on the field.,  ,They have provisions,patience, and strong walls.,  ,If they're wise, they'llhide behind those walls,  ,and chip away at us,man by man.,  ,I don't want half my army killedbefore I've crossed the Narrow Sea.,  ,We don't need Yunkai, khaleesi.,  ,Taking this city will not bringyou any closer to Westeros,  ,or the Iron Throne.,  ,How many slavesare there in Yunkai?,  ,,, if not more.,  ,Then we have ,reasons to take the city.,  ,,  ,,  ,,  ,Now comes the nobleRazdal mo Eraz,  ,of that ancientand honorable house,,  ,master of menand speaker to savages,,  ,to offer terms of peace.,  ,Noble lord, you arein the presence,  ,of Daenerys Stormbornof House Targaryen,,  ,Queen of the Andalsand the First Men,,  ,Khaleesiof the Great Grass Sea,,  ,Breaker of Chains,and Mother of Dragons.,  ,You may approach.Sit.,  ,Will the noble lordtake refreshment?,  ,Ancient and glorious is Yunkai.,  ,Our empire was old,  ,before dragons stirredin old Valyria.,  ,Many an army has brokenagainst our walls.,  ,You shall find no easyconquest here, khaleesi.,  ,Good.My Unsullied need practice.,  ,I was told to blood them early.,  ,If blood is your desire,blood shall flow.,  ,But why?,  ,'Tis true you have committedsavageries in Astapor.,  ,But the Yunkai are a forgivingand generous people.,  ,The wise masters of Yunkaihave sent a gift,  ,for the silver queen.,  ,There is far more than this awaitingyou on the deck of your ship.,  , My ship?\",\n",
       " 'Yes, khaleesi.,  ,As I said,we are a generous people.,  ,You shall have as manyships as you require.,  ,And what do you ask in return?,  ,All we ask is thatyou make use of these ships.,  ,Sail them back to Westeroswhere you belong,  ,and leave us to conductour affairs in peace.,  ,I have a gift for you as well.,  , Your life.',\n",
       " \"My life?,  ,And the livesof your wise masters.,  ,But I also wantsomething in return.,  ,You will releaseevery slave in Yunkai.,  ,Every man, woman, and childshall be given as much food,,  ,clothing, and propertyas they can carry,  ,as payment for theiryears of servitude.,  ,Reject this gift,,  ,and I shall show you no mercy.,  ,You are mad.,  ,We are not Astapor or Qarth.,  ,We are Yunkai and we havepowerful friends.,  ,Friends who would take greatpleasure in destroying you.,  ,Those who survive,we shall enslave once more.,  ,Perhaps we'll makea slave of you as well.,  ,You swore me safe conduct.,  ,I did, but my dragonsmade no promises.,  ,And you threatenedtheir mother.,  ,Take the gold.,  ,My gold.\",\n",
       " \"You gaveit to me, remember?,  ,And I shall put it to good use.,  ,You'd be wise to do thesame with my gift to you.,  ,Now get out.,  ,The Yunkish are a proud people.,  ,They will not bend.,  ,And what happens to thingsthat don't bend?,  ,He said he hadpowerful friends.,  ,Who was he talking about?,  ,I don't know.,  ,Find out.,  ,Chains?,  ,Solid gold from the minesoutside Lannisport.,  ,Smithed in Casterly Rock.,  ,Golden chains.,  ,You could buya ship with these.,  , Do I need a ship?\",\n",
       " 'What?,  , Am I going somewhere?',\n",
       " \"Of course you're not going anywhere.,  ,So, am I invitedto your wedding?,  ,I didn't ask for this marriage.,  , I didn't want it.\",\n",
       " \"No?,  ,She's a beautiful girl.You said so yourself.,  ,That doesn't mean that,  ,this is duty, not desire.,  ,Is that what you will tellyourself when you fuck her?,  ,I don't have a choice.My father,  ,Does not rule the world.,  ,We can still goacross the Narrow Sea.,  ,What would I do there?,  ,Juggle?,  ,I am a Lannisterof Casterly Rock.,  ,And I'm Shae the funny whore.,  ,My feelings for youhave not changed.,  ,I will marry Sansa Starkand do my duty by her.,  ,While I empty her chamber pot,  ,and lick your cockwhen you're bored?,  ,I swear to youit will not be like that.,  ,No?What will it be like?,  ,I will buy you a good homesomewhere in the city.,  ,You will have fine clothes,,  ,guards to keepyou safe, servants.,  ,Any children we might have,  ,will be well provided for.,  ,Children?You think I want children,  ,who can never see their father?,  ,Who would be killedin their sleep,  ,if their grandfatherfound out about them?,  ,Listen.,  ,Listen to me, my lady.,  , I'm not your lady.\",\n",
       " \"You are.,  ,You'll always be my lady.,  ,I'm your whore.,  ,And when you are tiredof fucking me,,  ,I will be nothing.,  , What happened?\",\n",
       " \"Wildfire.,  ,I should have been here.,  ,After all the runningand fighting,,  ,here I am,back where I started.,  ,Do you miss it?,  , King's Landing?\",\n",
       " \"Your father's house.,  ,Never had a father.Never wanted one.,  ,Haven't you ever wonderedwhere your strength came from?,  ,Your talent for fighting?,  ,I'm lowborn.,  ,As low as can be.My mother was a tavern wench.,  ,Mine was a slave.,  ,So was I.,  ,Bought and sold,,  ,scourged and branded,,  ,until the Lord of Lightreached down,,  ,took me in his handand raised me up.,  ,I was born in Flea Bottom.,  ,Your blood is noble.,  ,Are you saying my father,,  ,he was some lord or...,  ,There.,  ,Your father's house.,  ,I'm just a bastard.,  ,The bastard of Robertof the House Baratheon,,  ,First of His Name,King of the Andals,  ,and the First Men.,  ,Why do you thinkthe gold cloaks wanted you?,  ,There is powerin a king's blood.,  ,Come sit by the fire, child.,  ,Not talking, eh?,  ,That's a first.,  ,I don't talk to traitors.,  ,I didn't likegiving up the boy.,  ,But you did.,  ,You took the goldand you gave him up.,  ,The Red Godis the one true god.,  ,You've seen his power.,  ,When he commands, we obey.,  ,He's not my one true god.,  ,No?Who's yours?,  ,Death.,  ,Spotted a Lannisterraiding party.,  , How many?\",\n",
       " 'No more than .,  , How far?',\n",
       " \"Less than a day's ride south.,  ,What do you say, boys?Time for a lion hunt?,  ,Yeah!,  ,But what about Riverrun?,  ,It's not south.It's west of here.,  ,It will still be west of heretwo days from now.,  , You swore.\",\n",
       " 'To take you home, and I will.,  ,But we need to do this first.,  ,Why?',\n",
       " \"So you cansteal their gold?,  ,I swear to you,this isn't,  ,I don't care what you swearbecause you're a liar.,  ,You lied to Gendry,you lied to me.,  ,You'll lie to anyone.\",\n",
       " \"I hopethe Lannisters kill you all.,  ,One day you'll understand,but now,  , Anguy, bring her back.\",\n",
       " \"Come back, girl!,  ,Kick all you like, wolf girl.,  ,Won't do you no good.,  ,I thought you were gone.,  ,Tomorrow.,  ,Have they told you whatthey plan to do with me?,  ,Lord Bolton's travelingtomorrow as well.,  ,He's going to the Twinsfor Edmure Tully's wedding.,  ,You're to remain here.,  ,With Locke?,  ,I owe you a debt.,  ,When Catelyn Starkreleased you,,  ,we both made a promise to her.,  ,Now it's your promise.,  ,You gave your word.,  ,Keep it,  ,and consider the debt paid.,  ,I will return the Starkgirls to their mother.,  ,I swear it.,  ,Goodbye, Ser Jaime.,  ,Here.Let me.,  ,It will take time.,  ,Qyburn hopes your fatherwill force the Citadel,  ,to give him back his chain.,  ,My father will makehim Grand Maester,  ,if he grows me a new hand.,  ,You will give my regardsto Lord Tywin, I trust?,  ,Tell Robb Stark I'm sorry Icouldn't make his uncle's wedding.,  ,The Lannisters sendtheir regards.,  ,Safe journey, Kingslayer.,  ,Nothing to say?,  ,I liked you better before.,  ,I don't remember choppingyour balls off, too.,  ,And don't you worryabout your friend.,  ,We'll take good care of her.,  ,Shh.,  ,Gentle, my lord.,  ,Gentle.,  ,Shh shh shh.,  ,Myranda knows what she's doing.,  ,Let her.,  ,She trained as a septa, only...,  ,she had other urges.,  ,So did the septons,only they lied about it.,  ,Where is he?,  ,Who, my lord?,  ,There's no one herebut you, me, and Violet.,  ,Please.,  ,Don't you want us to see it?,  ,Oh, come on.Let us see it.,  ,Everybody talks about it.,  ,He sent you.,  ,Who sent us?,  ,We sent ourselves,Lord Greyjoy.,  ,We heard so much about it.,  , Please.\",\n",
       " \"Oh!,  ,There it is.,  ,Oh.,  ,Do you think we're ugly?,  ,He thinks we're ugly.,  ,Well, he's beenthrough so much.,  ,Look at his poor face.,  ,Help me.,  ,If he comes back...,  ,We need to make himfeel better.,  ,And how can we makehim feel better?,  ,I have an idea.,  ,Oh, she's shy.,  ,You know how they are,these religious girls.,  ,Maybe he doesn'tknow how we are.,  ,Oh.,  ,I felt something.,  ,Oh, Lord Greyjoy.,  , As good as they say?\",\n",
       " \"Mmm.,  ,And why should youget all the fun?,  ,What?You like her better?,  ,Plenty there for both of us.,  ,I was here first.,  ,I'm sorry.I'm sorry.,  ,Terrible timing.,  ,But I was getting jealous.,  ,Well?,  ,Should we see this cockeveryone's always going on about?,  ,Everyone knows you love girls.,  ,I bet you always thoughtthey loved you back.,  ,Your famous cock must bevery precious to you.,  ,Would you say it'syour most precious part?,  ,Please.,  ,No.,  ,No!Mercy, please!,  ,Please, mercy!Mercy!,  ,This is mercy.,  ,I'm not killing you.,  ,Just making a few alterations.,  ,No!\",\n",
       " 'No!',\n",
       " 'No!,  ,Please, no!',\n",
       " 'No!,  ,No!',\n",
       " 'No, please!Please!,  ,You\\'re gonna scare it off.,  ,I\\'m not gonna scare it.I\\'m gonna kill it.,  ,It\\'s too far away.,  ,Is that a palace?,  ,It\\'s a windmill.,  ,Windmill.,  ,Who built it?Some king?,  ,Just the menwho used to live here.,  ,They must havebeen great builders,,  ,stacking stones so high.,  ,Winterfell has towersthree times that size.,  ,\"I\\'m Jon Snowand I\\'m from Winterfell.,  ,My daddy was a fancy lord,  ,and I lived in a towerthat touched the clouds.',\n",
       " '\",  ,If you\\'re impressedby a windmill,,  ,you\\'d be swooning if you sawthe Great Keep at Winterfell.,  ,What\\'s swooning?,  ,Fainting.,  ,What\\'s fainting?,  ,When a girl sees bloodand collapses.,  ,Why would a girlsee blood and collapse?,  ,Well...,  ,not all girls are like you.,  ,Well, girls seemore blood than boys.,  ,Or do you like girlswho swoon, Jon Snow?,  ,Oh, a spider!,  ,Save me, Jon Snow.,  ,My dress is madeof the purest silk,  ,from Tralalalaleeday.,  ,I\\'d like to see youin a silk dress.,  ,Would you?,  ,So I could tear it off you.,  ,Well, you ripmy pretty silk dress,,  ,I\\'ll blacken your eye.,  ,Maybe one day I\\'ll takeyou to Winterfell.,  ,Or maybe one dayI\\'ll take you there.,  ,After we\\'ve takenour land back.,  ,Ygritte.,  ,You won\\'t win.,  ,I know your people are brave,no one denies that.,  , You know nothing Six times in the last thousand years,,  ,a KingbeyondtheWallhas attacked the kingdoms.,  , Six times they failed.',\n",
       " \"And how do you know that?,  ,Every boy in the Northknows it.,  ,We grow up learning it.,  ,Where the battles were fought,,  ,the names of the heroes,who died where.,  ,Six times you've invaded,  ,and six times you've failed.,  ,The seventh will be the same.,  , Mance is different.\",\n",
       " \"You don't have the discipline.,  ,You don't have the training.Your army is no army.,  ,You don't knowhow to fight together.,  , You don't know that.\",\n",
       " \"I do.,  ,I know it.,  ,If you attack the Wall,you'll die.,  ,All of you.,  ,All of us.,  ,You're mine,  ,as I'm yours.,  ,And if we die, we die.,  ,But first we'll live.,  ,Yes, first we'll live.,  ,What's he going on about?,  ,And how come he alwaysgets to sit and chat,  ,while we do all the work?,  ,Hodor.,  , That's where we are.\",\n",
       " \"What are you telling him?,  , It's all right, Osha.\",\n",
       " \"It's not all right.,  ,You think I can'thear you every day?,  ,Filling his headwith black magic.,  ,Talking about visions andthreeeyed ravens and worse.,  , Leave him alone.\",\n",
       " \"He can speak for himself.,  ,I don't fill his headwith anything.,  ,So what do you talk about?,  ,What's happening to himand what that means.,  ,Go on, then.Tell us what it means.,  ,It's not like that.,  ,I wish I couldtell him all the answers.,  ,It would be much easier.,  ,I don't want youtalking to him anymore.,  ,Until we get to your brotherat Castle Black.,  , We're not going to Castle Black.\",\n",
       " \"What did you say?,  ,I told you already.Jon Snow isn't there.,  ,Bran needs to findthe raven beyond the Wall.,  ,Oh, no.I'm not going back there.,  ,Your brother is at Castle Black.That's where we're going.,  ,Look at me.,  ,The raven's been coming to me,  ,ever since I fellfrom that tower.,  ,He wants me to find him.,  ,I don't have my legs anymore.,  ,This is what I have now.,  ,You have a family.,  ,You need to go backto Castle Black,  ,so you can get back tothem where you belong.,  ,What if I belong in the North?,  ,What if I fell fromthat tower for a reason?,  ,Is that what he's telling you?,  ,That it's all for a reason?,  ,All these bad things happened becausethe gods got big plans for you?,  ,I wish it were true,little lord.,  ,But the gods wouldn't spare a raven'scold shit for you or me or anyone.,  ,You don't understand.You don't know.,  ,You don't know.None of you know.,  ,None of you have been up there.,  ,I had a man once.,  ,A good man.,  ,Bruni, his name was.,  ,I was his and he was mine.,  ,But one night Bruni disappears.,  ,People said he left me,,  ,but I knew him.,  ,He'd never leave me.Not for long.,  ,I knew he'd come back.,  ,And he did.,  ,He came in throughthe back of the hut.,  ,Only it wasn't Bruni.,  ,Not really.,  ,His skin was pale,  ,like a dead man's.,  ,His eyes bluer than clear sky.,  ,He came at me,,  ,grabbed me by the neck,  ,and squeezed so hard,  ,I could feel the lifeslipping out of me.,  ,I don't knowhow I got the knife.,  ,When I did, I stuck it,  ,deep into his heart.,  ,And he hardly seemed to notice.,  ,I had to burn our hut downwith him inside.,  ,I didn't ask the godswhat it meant.,  ,I didn't need to.I already knew.,  ,It meant the Northwas no place for men to be.,  ,Not anymore.,  ,I promised your maesterI'd get you to Castle Black,  ,and no further.,  ,How is thepain, my lord?,  ,What's the purposeof an arm with no hand?,  ,Well, we've stymiedthe corruption.,  ,Yes, we've stymiedthe corruption.,  ,You're a learned man.,  ,All the good it's done me.,  ,You did wellsewing up this mess.,  ,You're far betterat this sort of work,  ,than Grand Maester Pycelle.,  ,Faint praise, my lord.,  ,So why did the Citadeltake your chain?,  ,Did you fondleone boy too many?,  ,No, my lord.That's not my weakness.,  ,What is?,  ,Curiosity.,  ,The only way to treat diseaseis to understand disease.,  ,And the only wayto understand it,  ,is to study the afflicted.,  ,You performed experimentson living men.,  , On dying men.\",\n",
       " \"With their permission?,  ,My studieshave given me insight,  ,that has saved many lives.,  ,Dying paupers, I assume.,  ,Men with no familiesto complain.,  ,You found them moaningin the poorhouse,  ,and had them cartedback to your garret,  ,and opened up their belliesto see what was inside.,  ,How many men haveyou killed, my lord?,  ,I don't know.,  ,?\",\n",
       " \"?,  ,Countless.,  ,Countless hasa nice ring to it.,  ,And how many liveshave you saved?,  ,Half a million.,  ,The populationof King's Landing.,  ,You were in chargeof the ravens at Harrenhal.,  ,Did you did you get a bird offto Brienne's father in Tarth?,  ,A bird flew offand a bird flew back.,  ,Lord Selwyn Tarth,  ,offered  gold dragons forhis daughter's safe return.,  , A fair offer.\",\n",
       " 'A fair offer.',\n",
       " \"Locke won't take it.,  ,Why not?,  ,He's convinced Lord Tarth,  ,owns all the sapphiremines in Westeros.,  ,He feels he's being cheated.,  ,They'd be fools to kill her.,  ,These men have beenat war a long time.,  ,Most of themwill be dead by winter.,  ,She'll be theirentertainment tonight.,  ,Beyond tonight,,  ,I don't thinkthey care very much.,  ,We have to return to Harrenhal.,  ,Why?,  ,I've left something behind.,  ,Absolutely not.,  ,I've got ordersfrom Lord Bolton.,  ,And what are those orders?,  ,To deliver you to yourfather at King's Landing.,  ,You think you'll get a reward.,  ,I serve Lord Bolton.,  ,Any appreciationyour father,  ,You thinkyou're getting a reward.,  ,Let me explainsomething to you.,  ,When my father sees me,the first thing,  ,he's going to askis what happened to my hand.,  ,And I'm going to tell himthis man chopped it off.,  , I had nothing Or I could tell him this man saved my life.,  ,We return to Harrenhal now.,  ,Whoa.,  , Eyes open, lads.\",\n",
       " 'Be quiet.,  , The bear, the bearand the maiden fair ,  , From there to here,from here to there ,  , All black and brownand covered in hair ,  , He smelled that girlin the summer air ,  , The bear, the bear,and the maiden fair!',\n",
       " \",  ,Don't spare her.,  ,Don't spare her!,  ,Well, this is one shamefulfucking performance.,  ,Stop running and fight.,  ,A wooden sword?,  , I thought you'd gone.\",\n",
       " \"You gave her a wooden sword.,  ,We've only got one bear.,  ,I'll pay her bloody ransom.,  ,Gold, sapphires,whatever you want.,  ,Just get her out of there.,  ,All you lords and ladies,  ,still think that the onlything that matters is gold.,  ,This makes me happierthan all your gold ever could.,  ,And that makes me happierthan all her sapphires.,  ,So go buy yourselfa golden hand,  ,and fuck yourself with it.,  ,Ah!,  , Get behind me.\",\n",
       " 'I will not.,  ,What the fuck are youdoing to my bear?,  ,Lord Bolton charged mewith bringing him back,  ,to King\\'s Landing aliveand that\\'s what I aim to do.,  ,Pull her up.,  ,Hold my legs.,  ,Pull him up!,  ,The bitch stays.,  ,We\\'re taking herto King\\'s Landing.,  ,Unless you kill me.,  ,She belongs to me.,  ,Lord Bolton\\'s orders.,  ,What do you think is moreimportant to Lord Bolton?,  ,Getting his pet rat a reward,  ,or ensuring Tywin Lannistergets his son back alive?,  ,Well, we must be on our way.,  ,Sorry about the sapphires.,  ,<font color=\"#ecbd\"Sync & corrections by honeybunny</font<font color=\"#ecbd\"www.addiced.com</font,  ,<font color=\"#ffff\" size=www.tvsubtitles.net</fontI\\'ll give you one try, girl.,  ,Kill me and you\\'re free.,  ,But if I live,I\\'ll break both your hands.,  ,Go on, hit me.,  ,Hit me hard.,  ,Sulk all you want.,  ,The truth is, you\\'re lucky.,  ,You don\\'t want to bealone out here, girl.,  ,Someone worse than mewould find you.,  ,There\\'s no one worse than you.,  ,Ha, you never knew my brother.,  ,He once killed a manfor snoring.,  ,There\\'s plenty worse than me.,  ,There\\'s men who liketo beat little girls,,  ,men who like to rape them.,  ,I saved your sisterfrom some of them.,  ,You\\'re lying.,  ,Ask her, if youever see her again.,  ,Ask her who came back for her,  ,when the mobhad her on her back.,  ,They would havetaken her every which way,  ,and left her therewith her throat cut open.,  ,Is that the Blackwater?,  ,The Blackwater?,  ,Where do you thinkI\\'m taking you?,  ,Back to King\\'s Landingto Joffrey and the queen.,  ,Fuck Joffrey.Fuck the queen.,  ,That\\'s the Red Fork.,  ,I\\'m taking you to the Twins.,  ,But why?,  ,Because your motherand brother will be there,  ,and they\\'ll pay me for you.,  ,Why would they be at the Twins?,  ,Those outlaws youlove so much never told you?,  ,The whole countrysideis yapping about it.,  ,Your uncle is marryingone of the Frey girls.,  ,So quit tryingto bash my skull in,  ,and we might just make it therein time for the wedding.,  ,Men who fight for gold haveneither honor nor loyalty.,  ,They cannot be trusted.,  ,They can be trusted tokill you if they\\'re well paid.,  ,The Yunkishare paying them well.,  ,You know these men?,  ,Only by the broken swordson their banners.,  ,They\\'re called the Second Sons.,  ,A company led bya Braavosi named Mero,,  ,\"The Titan\\'s Bastard.',\n",
       " '\",  ,Is he more titan or bastard?,  ,He\\'s a dangerous man, khaleesi.,  ,They all are.,  ,How many?,  ,,, Your Grace.,  ,Armored and mounted.,  ,Enough to make a difference?,  ,It\\'s hard to collectwages from a corpse.,  ,I\\'m sure the sellswords preferto fight for the winning side.,  ,I imagine you\\'re right.,  ,I\\'d like to talk to the Titan\\'sBastard about winning.,  ,He may not agree to meet.,  ,He will.,  ,A man who fights for gold can\\'tafford to lose to a girl.,  ,Your Grace, allow me to present,  ,the captainsof the Second Sons,  ,Mero of Braavos,,  ,Prendahl na Ghezn,,  ,and...,  ,Daario Naharis.,  ,You are the Mother of Dragons?,  ,I swear I fucked you oncein a pleasure house in Lys.,  , Mind your tongue.',\n",
       " \"Why?,  ,I didn't mind hers.,  ,She licked my asslike she was born to do it.,  ,You, slave girl, bring wine.,  ,We have no slaves here.,  ,You'll all be slavesafter the battle,  ,unless I save you.,  ,Take your clothes off andcome and sit on Mero's lap,  ,and I may give youmy Second Sons.,  ,Give me your Second Sonsand I may not have you gelded.,  ,Ser Barristan, how many menfight for the Second Sons?,  ,Under ,, Your Grace.,  ,We have more, don't we?,  ,, Unsullied.,  ,I'm only a young girl,new to the ways of war,,  ,but perhaps a seasonedcaptain like yourself,  ,can explain to me how youpropose to defeat us.,  ,I hope the old man is better witha sword than he is with a lie.,  ,You have , Unsullied.,  ,You're very youngto be a captain.,  ,He's not a captain.He's a lieutenant.,  ,Even if your numbers are right,,  ,you must admit the oddsdon't favor your side.,  ,The Second Sons have facedworse odds and won.,  ,The Second Sons havefaced worse odds and run.,  ,Or you could fight for me.,  ,We've taken the slavers' gold.,  ,We fight for Yunkai.,  ,I would payyou as much and more.\",\n",
       " \",  ,Our contract is our bond.,  ,If we break our bond,,  ,no one will hirethe Second Sons again.,  ,Ride with me and you'llnever need another contract.,  ,You'll have gold and castlesand lordships of your choosing,  ,when I take backthe Seven Kingdoms.,  ,You have no ships.You have no siege weapons.,  ,You have no cavalry.,  ,A fortnight ago, I had no army.,  ,A year ago, I had no dragons.,  ,You have two days to decide.,  ,Show me your cunt.\",\n",
       " \"I want to seeif it's worth fighting for.,  ,,  ,,  ,You seem to beenjoying my wine.,  ,Perhaps you'd likea flagon to help you ponder.,  ,Only a flagon?,  ,And what are my brothersin arms to drink?,  , A barrel, then.\",\n",
       " 'Good.,  ,The Titan\\'s Bastarddoes not drink alone.,  ,In the Second Sons,we share everything.,  ,After the battle,maybe we\\'ll all share you.,  ,I\\'ll come looking for youwhen this is over.,  ,Ser Barristan,,  ,if it comes to battle,kill that one first.,  ,Gladly, Your Grace.,  ,Half Robert, half lowborn.,  ,Show the boy to his chambers.,  ,Have the maids draw him a bath andfind him some decent clothes.,  ,I\\'ll come visit you soon.,  ,What do you meanto do with him?,  ,You know what I meanto do with him.,  ,Then why bathe himand dress him in fine clothes?,  ,If it needs to be done, do it.Don\\'t torture the boy.,  ,Have you ever slaughtereda lamb, my king?,  ,No.,  ,If the lamb sees the knife,,  ,she panics.,  ,Her panic seeps into her meat,,  ,darkens it, fouls the flavor.,  ,You\\'ve slaughtered many lambs?,  ,And none have seen the blade.,  ,\"And tho and thowg...,  ,Vvvisenya...,  ,Targaryen...,  ,rod rode,  ,Vhagar,  ,Vhag\",  ,Fuck me.,  ,\"Visenya Targaryen,  ,rode Vhagar,,  ,the smallest of the dragons,,  ,though still...,  ,large enog,  ,enough enough,  ,to swallowa horse whole.',\n",
       " '\",  ,Your Grace.,  ,They feeding you enough?,  ,Two meals a day.,  ,Cold for breakfast,hot for supper.,  ,I cannot complain.,  ,You don\\'t belongin a place like this.,  ,Well, it\\'s sad to say,but I\\'ve seen worse.,  ,Yeah.,  ,I\\'m sorry about your son.,  ,Didn\\'t get the chanceto tell you before.,  ,Good lad.Loyal lad.,  ,Melisandre\\'s returned.,  ,I didn\\'t know she\\'d been gone.,  ,Came back with a bastard boy.,  ,Robert\\'s bastard boy.,  ,Why?,  ,She says there\\'s powerin king\\'s blood.,  ,She\\'s going to kill him.,  ,Sacrifice him.,  ,Forgive me, Your Grace,I\\'m not a learned man,,  ,but is there a differencebetween kill and sacrifice?,  ,The boy is your nephew.,  ,What of it?We\\'re at war.,  ,Why should I spare the sonof some tavern slut,  ,Robert beddedone drunken night?,  ,Because he hasyour blood in his veins.,  ,So did Renly.,  ,Renly wronged you.,  ,Renly declared himself king whenthe throne belonged to you.,  ,He raised an army,stole your bannermen.,  ,This boy has done you no harm.,  , He\\'s an innocent.',\n",
       " 'How many boys live in Westeros?,  ,How many girls?',\n",
       " 'How many men?How many women?,  ,The darkness will devourthem all, she says.,  ,The night that never ends.,  ,Unless I triumph.,  ,I never asked for this.,  ,No more than I askedto be king.,  ,We do not choose our destiny,,  ,but we must do our duty, no?,  ,Great or small,we must do our duty.,  ,What\\'s one bastard boyagainst a kingdom?,  ,Your Grace,,  ,why did you cometo see me today?,  ,I came to free you.,  ,If you swear never to raise yourhand to the Lady Melisandre again.,  ,I swear it.,  ,I can\\'t swear neverto speak against her.,  ,You have little regardfor your own life.,  ,Quite little, Your Grace.,  ,Verging on none.,  ,You could have freed meyesterday or tomorrow,,  ,but you came to me now beforethis boy is put to the knife,  ,because you knewI\\'d counsel restraint.,  ,You came to hear me say itbecause you believe it yourself.,  ,You\\'re not a manwho slaughters innocents,  ,for gain or glory.,  ,When my son was fivehe said to me,,  ,\"I don\\'t everwant to die.',\n",
       " '\",  ,I wanted to say to him, \"You won\\'t, child.You won\\'t ever.',\n",
       " '\",  ,I hated the idea of him lyingawake in the dark, afraid.,  ,I think mothers and fathersmade up the gods,  ,because they wanted their childrento sleep through the night.,  ,I saw a vision in the flames.,  ,A great battle in the snow.,  ,I saw it.,  ,And you saw whatevershe gave birth to.,  ,I never believed,but when you see the truth,,  ,when it\\'s right therein front of you,  ,as real as these iron bars,,  ,how can you denyher god is real?,  ,Little dragon bitch.She talks too much.,  ,You talk too much.,  ,She won\\'t talk so muchwhen she\\'s choking on my cock.,  ,, Unsullied standbetween her and your cock.,  ,My cock will find a way.,  ,Tell him.',\n",
       " \"Is there any placethat my cock can't reach?,  ,She'll tell me whateveryou pay her to tell me.,  ,Daario Naharis, the whorewho doesn't like whores.,  ,I like them very much.I just refuse to pay them.,  ,And I'm no whore, my friend.,  ,She sells her sheathand you sell your blade.,  , What's the difference?\",\n",
       " \"I fight for beauty.,  ,For beauty?,  ,We fight for gold.,  ,The gods gave men two gifts toentertain ourselves before we die,  ,the thrill of fucking a womanwho wants to be fucked,  ,and the thrill of killinga man who wants to kill you.,  ,You'll die young.,  ,What do we doabout the dragon girl?,  ,We can't beat , Unsulliedon the battlefield.,  ,There won't be a battle.\",\n",
       " \"And we don'thave to deal with her eunuchs.,  ,We only have to deal with her.,  , She's well guarded.\",\n",
       " 'Tonight\\'s a new moon.,  ,One of us slips into her camp pasther Unsullied and her knights.,  ,Which one of us?,  ,Close your eyes, love.,  ,Three coins.,  ,A coin from Meereen,,  ,a coin from Volantis,,  ,and a coin from Braavos.,  ,The Braavosi does the deed.,  ,One for each of us, darling.,  ,No peeking.,  ,Do you hear me?,  ,Follow my voice.I\\'m right here.,  ,You have something for me?,  ,Valar morghulis.,  ,Lady Sansa.,  ,You look very handsome,my lord.,  ,Oh, yes.,  ,The husband of your dreams.,  ,But you do look glorious.,  ,Perhaps we could havea moment alone.,  ,Do you mind?,  ,Podrick, could you escortLady Stark\\'s handmaiden?,  ,My lady,,  ,I want you to know,  ,I didn\\'t ask for this.,  ,I hope I will notdisappoint you, my lord.,  ,No, don\\'t.,  ,You don\\'t have to speak to meas a prisoner anymore.,  ,You won\\'t be a prisonerafter today.,  ,You\\'ll be my wife.,  ,I suppose that\\'s adifferent kind of prison.,  ,I just wanted to say,  ,I\\'m just tryingto say very badly,  ,I just,  ,just want to sayI know how you feel.,  ,I doubt thatvery much, my lord.,  ,You\\'re right.,  ,I have no idea how you feel.,  ,And you have no ideahow I feel.,  ,But I promise youone thing, my lady.,  ,I won\\'t ever hurt you.,  ,Do you drink wine?,  ,When I have to.,  ,Well, today you have to.,  ,You look radiant, Your Grace.,  ,Radiant?Why radiant?,  ,It\\'s the wordthat came to mind.,  ,We\\'re going to be sisters soon.,  ,We should be friends.,  ,You\\'re a musical girl,aren\\'t you?,  ,I imagine you havea lovely voice.,  ,A better dancer than asinger, I\\'m afraid.,  ,Ah, but you know the song\"The Rains of Castamere\"?,  ,Of course.',\n",
       " 'They play itso often here at court.,  ,So you know the storyof House Reyne of Castamere?,  ,Not as well as you, I\\'m sure.,  ,House Reynewas a powerful family.,  ,Very wealthy.,  ,The second wealthiestin Westeros.,  ,Aren\\'t the Tyrells the secondwealthiest family in Westeros now?,  ,Of course, ambitiousclimbers don\\'t want to stop,  ,on the second highest rung.,  ,If only you could takethat final step,,  ,you\\'d see furtherthan all the rest.,  ,You\\'d be alone with nothingbut blue sky above you.,  ,So Lord Reyne built a castle,  ,as grand as Casterly Rock.,  ,He gave his wife diamonds,  ,larger than anymy mother ever wore.,  ,And finally one day,,  ,he rebelled against my father.,  ,Do you know whereHouse Reyne is now?,  ,Gone.,  ,Gone.,  ,A gentle word.,  ,Why not say slaughtered?,  ,Every man, woman, and child,  ,put to the sword.,  ,I remember seeingtheir bodies hanging,  ,high above the gatesof Casterly Rock.,  ,My father let them rotup there all summer.,  ,It was a long summer.,  ,\"And now the rainsweep o\\'er their halls,,  ,and not a soul to hear.',\n",
       " '\",  ,If you evercall me sister again,,  ,I\\'ll have you strangledin your sleep.,  ,What are you doing?,  ,Your father\\'s gone.,  ,As the father of the realm,,  ,it is my duty to give youaway to your husband.,  ,You may now cloak the bride,  ,and bring herunder your protection.,  ,Could you...,  ,Thank you.,  ,Your Grace, Your Grace,,  ,my lords, my ladies,,  ,we stand here in the sightof gods and men,  ,to witness the unionof man and wife.,  ,One flesh, one heart, one soul,,  ,now and forever.,  ,Have you ever seen one like it?,  ,I\\'ve never seen anythinglike any of this.,  ,Not in my life.,  ,It\\'s shocking, isn\\'t it,,  ,the first timeyou encounter real wealth?,  ,When I was your age, I livedon one bowl of stew a day.,  ,And stew is a kind word for it.,  ,In Flea Bottom we calledthem bowls of brown.,  ,We\\'d pretend that the meatin them was chicken.,  ,We knew it wasn\\'t chicken.,  ,Here, taste this.,  ,You think I\\'m tryingto poison you?,  ,That\\'s good.,  ,That\\'s really good.,  ,Where do you think it\\'s from?,  ,I couldn\\'t even guess.,  ,Doesn\\'t matter, does it?,  ,It\\'s the real thingor it\\'s not.,  ,You only need a tongueto tell the difference.,  ,Go on, have some more.,  ,You still don\\'t trust it.,  ,You think this is all a mistake,  ,and that you\\'ll have to paysomehow for every bite you take.,  ,That thought hadcrossed my mind, yeah.,  ,There are no mistakes.,  ,Not for us.,  ,I\\'m a mistake.,  ,I\\'m only here becausemy father grabbed my mother,  ,instead of the girlnext to her in the tavern.,  ,Your father chose your mother becausethe Lord of Light willed it.,  ,He willed it so youcould be here right now,  ,with a power inside you,  ,you can\\'t even beginto understand.,  ,And He brought me hereto draw it from you,  ,and birth it into the world.,  ,We\\'re both a part of His plan.,  ,He wants this for us.,  ,No, He demands this of us.,  ,I don\\'t understand.This,  ,this doesn\\'t seemvery religious.,  ,According to whom?,  ,The Silent Sisters?,  ,With their stern looks,,  ,muzzled mouths,and driedup cunts?,  ,What have their godsdone for you?,  ,Hmm?,  ,When you pray to them,,  ,what\\'s their answer?,  ,A god is real or he\\'s not.,  ,You only need eyes to see.,  ,Death is comingfor everyone and everything.,  ,A darkness that willswallow the dawn.,  ,And we can stop it, you and I.,  ,Let me show youwhat you have inside you.,  ,Come fight death with me.,  ,What are you doing?,  ,You have to trust me.,  ,What?,  ,Get it away.,  ,Get it off me.,  ,Don\\'t fight, don\\'t fight.They won\\'t take much.,  ,Why are you doing this?,  ,I told you there\\'s powerin the blood of kings.,  ,And you have so much blood.,  ,No.',\n",
       " \"No, no, no, no!,  ,Not there.Not there!,  ,You can blame Ser Davos.,  ,He didn't believe inthe power of king's blood.,  ,He wanted a demonstration.,  ,Please.Please, Your Grace.,  ,My lord!,  ,The usurper Robb Stark.,  ,The usurper Balon Greyjoy.,  ,The usurper Joffrey Baratheon.,  ,So their sonwill be your nephew.,  ,After you're wedto Cersei, of course.,  ,And you will bethe king's stepfather,  ,and brotherinlaw.,  ,When you marry the king,,  ,Joffrey's mother willbecome his sisterinlaw,  ,and your sonwill be Loras' nephew?,  ,Grandson?I'm not sure.,  ,But your brother will becomeyour fatherinlaw.,  ,That much is beyond dispute.,  ,Will you pardon me, my lord?,  ,Of course.\",\n",
       " \"Of course.En enjoy.,  ,Perhaps you could talkto your bridetobe instead.,  ,I've got a lifetime for that.,  ,Stay.,  ,You seem rather drunk.,  ,Rather less than I plan to be.,  ,Isn't it a man's duty to bedrunk at his own wedding?,  ,This isn't about your wedding.,  ,Renly Baratheon had a wedding.,  ,Your wife needs a child,,  ,a Lannister child,as soon as possible.,  , And?\",\n",
       " \"If you're going to give her one,,  ,you need to perform.,  ,What did you once call me?,  ,A drunken littlelustfilled beast.,  , More than once.\",\n",
       " \"There you have it.,  ,Nothing to worry about.,  ,Drinking and lust,,  ,no man can match mein these things.,  ,I am the god of tits and wine.,  ,I shall builda shrine to myself,  ,at the next brothel I visit.,  ,You can drink, you can joke,,  ,you can engagein juvenile attempts,  ,to make your fatheruncomfortable,,  ,but you will do your duty.,  ,Well...,  ,My father once told me,  ,Nobody cares whatyour father once told you.,  ,Congratulations, my lady.,  ,Thank you, Your Grace.,  ,Well, you've done it.You've married a Lannister.,  ,Soon you'll havea Lannister baby.,  ,It's a dream come truefor you, isn't it?,  ,What a glorious day.,  ,Yes, Your Grace.,  ,I suppose it doesn'treally matter,  ,which Lannisterputs the baby into you.,  ,Maybe I'll pay youa visit tonight,  ,after my uncle passes out.,  ,How'd you like that?,  ,You wouldn't?,  ,That's all right.\",\n",
       " \"Ser Meryn andSer Boros will hold you down.,  ,Time for the bedding ceremony.,  ,There will beno bedding ceremony.,  ,Where's your respectfor tradition, Uncle?,  ,Come, everyone.,  ,Pick her up and carry herto her wedding bed.,  ,Get rid of her gown.\",\n",
       " \"She won'tbe needing it any longer.,  ,Ladies, attend to my uncle.He's not heavy.,  ,There will beno bedding ceremony.,  ,There will be if I command it.,  ,Then you'll be fuckingyour own bride,  ,with a wooden cock.,  ,What did you say?,  ,What did you say?\",\n",
       " \"!,  ,I believe we can dispensewith the bedding, Your Grace.,  ,I'm sure Tyrion did not meanto threaten the king.,  ,A bad joke, Your Grace.,  ,Made out of envyof your own royal manhood.,  ,Mine is so small.,  ,My poor wife won'teven know I'm there.,  ,Your uncle is clearlyquite drunk, Your Grace.,  ,I am.,  ,Guilty.,  ,But,  ,but it is my wedding night.,  ,My tiny drunk cockand I have a job to do.,  ,Come, wife.,  ,I vomited on a girl once,  ,in the middle of the act.,  ,Not proud of it.,  ,But I think honestyis important,  ,between a man and wife,don't you agree?,  ,Come, I'll tell youall about it.,  ,Put you in the mood.,  ,Is that wise, my lord?,  ,Tyrion, Sansa.,  ,My name is Tyrion.,  ,Is that wise, Tyrion?,  ,Nothing was ever wiser.,  ,Astoundingly long.,  ,What?,  ,Neck.,  ,You have one.,  ,How old are you exactly?,  ,.,  ,Well, talk won'tmake you any older.,  ,My lord father has commanded me,  ,to consummate this marriage.,  ,Stop.,  ,I can't.,  ,I could, I won't.,  ,But your father,  ,If my father wantssomeone to get fucked,,  ,I know where he can start.,  ,I won't share your bed.,  ,Not until you want me to.,  ,What if I never want you to?,  ,And so my watch begins.,  ,?,  ,Yes, Your Grace.,  ,How can anyonespeak  languages?,  ,It only took Your Grace a year tolearn Dothraki reasonably well.,  ,Yes, well, it waseither learn Dothraki,  ,or grunt at my husbandand hope,  ,what do you meanreasonably well?,  ,Dothraki is difficultfor the mouth to master.,  ,So guttural and harsh.,  ,,  ,,  ,Athjahakar.,  ,Athjahaka.,  ,Athjahakar.,  ,Athjahakar.,  ,Well, I supposeI'm a bit out of practice.,  ,Your High Valyrianis very good, Your Grace.,  ,The gods could not devisea more perfect tongue.,  ,It is the only properlanguage for poetry.,  ,No screaming or she dies.,  ,What do you want?,  ,You.,  ,Let her go.,  ,Don't scream, lovely girl.,  ,You were sent here to kill me?,  ,So why haven't you?,  ,I don't want to.,  ,What do your captainshave to say about that?,  ,You should ask them.,  ,Why?,  ,We had philosophicaldifferences.,  , Over what?\",\n",
       " \"Your beauty.,  ,It meant more to methan it did to them.,  ,You're a strange man.,  ,I'm the simplest manyou'll ever meet.,  ,I only do what I want to do.,  ,And this is supposedto impress me?,  ,Yes.,  ,Why would I trust a manwho murders his comrades?,  ,They ordered me to murder you.,  ,I told them I preferred not to.,  ,They told me I had no choice.,  ,I told themI am Daario Naharis.,  ,I always have a choice.,  ,They drew their swords,  ,and I drew mine.,  ,Will you fight for me?,  ,Swear to me.,  ,The Second Sons are yoursand so is Daario Naharis.,  ,My sword is yours,my life is yours,,  ,my heart is yours.,  ,You really ought to knock.,  ,I brought your breakfast.,  ,It's getting dark.,  ,We could stay herefor the night.,  ,How hard can it beto build a fire?,  ,It doesn't matter.,  ,Come under the furs.We can keep each other warm.,  ,He winked at me before.,  , I doubt it.\",\n",
       " \"I saw him wink at me.,  ,He blinked.,  ,I suppose it's a ratherphilosophical difference,  ,between a wink and a blink.,  ,A what?,  ,Well, I mean,there's no real difference.,  ,A wink is on purpose.,  ,You thought of a name yet?,  ,It would be easier to referto him if he had a name.,  ,Sometimes do you talk fancyon purpose to confuse me?,  ,What?\",\n",
       " \"No.,  ,This is just the way I talk.,  ,I'll build that fire.,  ,Don't you thinkhe should have a name?,  ,I don't know many boys' names.,  ,Let's see,,  ,there's Duncan,,  ,Kevan, Jon...,  ,Guymon,,  ,Feldan, Tristifer.,  ,Craster.,  ,Uh, yes.,  ,Maybe that's not,  ,Mormont.,  ,That's a lovely idea,,  ,but Mormont's a last name.,  ,Why is it a last name?,  ,Well, it's a family name.,  ,For instance,I'm Samwell Tarly.,  ,Samwell is my birth name,  ,and Tarly is my family name.,  ,You see?\",\n",
       " \"So my fatheris also a Tarly.,  ,His name is Samwell Tarly, too?,  ,No, Randyll Tarly.,  ,Randyll is a handsome name.,  ,Please don't name him Randyll.,  ,Is your father cruel like mine?,  ,Different manner of cruel.,  ,Not Randyll, then.,  ,Don't.,  ,Don't go out there.,  ,I'll be back.,  ,I just want to look.,  ,Go inside.,  ,Go back inside.I'll,  ,It's come for the baby.,  ,Stay back!,  ,You stay back!,  ,No, you can'thave him!\",\n",
       " 'No!,  ,No!,  ,<font color=\"#ecbd\"Sync & corrections by honeybunny</font<font color=\"#ecbd\"www.addiced.com</font,  ,<font color=\"#ffff\" size=www.tvsubtitles.net</fontAre you sure about this?,  ,No.,  ,It\\'s dangerous.,  ,If we take Tywin\\'scastle from him,,  ,the lords of Westeros willrealize he\\'s not invincible.,  ,Take his home,,  ,take his gold, take his power.,  ,Why are you telling me?,  ,You begged me not to send Theon,  ,to negotiate with his fatherand I ignored your advice.,  ,Now Winterfell is burntto the ground,,  ,the North is overrunwith ironborn,,  ,and Bran and Rickon are gone.,  ,So Casterly Rock...,  ,I\\'m asking your advice.,  ,We have enough men?,  ,If Walder Frey cooperates.,  ,If Walder Frey cooperates.,  ,If reinforcements arrivefrom King\\'s Landing,  ,before we take the castle...,  ,we\\'ll be caught betweenTywin\\'s army and the sea.,  ,We\\'ll lose the war and diethe way Father died.,  ,Or worse.,  ,Show them how it feelsto lose what they love.,  ,My honored guests...,  ,be welcome within my walls,  ,and at my table.,  ,I extend to you my hospitality,  ,and protectionin the light of the Seven.,  ,We thank you for yourhospitality, my lord.,  ,I have come to makemy apologies, my lord,,  ,and to beg your forgiveness.,  ,Don\\'t beg my forgiveness,Your Grace.,  ,It wasn\\'t me you spurned.It was my girls.,  ,One of them was supposedto be queen.,  ,Now none of them are.,  ,This is Arwyen my daughter.,  ,My daughter Walda,my daughter Derwa,,  ,my daughter Waldra.,  ,My eldest granddaughters,  ,Ginia and Neila.,  ,Serra and Sarra,granddaughters, twins.,  ,You could have had either.,  ,Could have had bothfor all I care.,  ,My granddaughter Marianne.,  ,My granddaughter Freya.,  ,My granddaughter...,  ,Wertha.,  ,Waldra.,  ,Waldina.,  , I\\'m Merry.',\n",
       " \"Fine.,  ,And here's my youngestdaughter Shirei,,  ,though she hasn't bled yet.,  ,Clearly you don't havethe patience for all that.,  ,My ladies.,  ,All men should keep theirword, kings most of all.,  ,I was pledged to marry oneof you and I broke that vow.,  ,The fault is not with you.,  ,Any man would be luckyto have any one of you.,  ,I did what I didnot to slight you,,  ,but because I loved another.,  ,I know these wordscannot set right,  ,the wrong I have doneto you and your house.,  ,I beg your forgiveness,  ,and pledge to doall I can to make amends,  ,so the Freys of the Crossingand the Starks of Winterfell,  ,may once again be friends.,  ,Very good.,  ,There she is.,  ,Come closer.,  ,Let me have a look at you.,  ,Still can't see you.,  ,Old eyes.,  ,Love.,  ,That's what the Starksof Winterfell call it, eh?,  ,Very honorable.,  ,I call it a pretty face.,  ,Mmm, very pretty.,  ,Prettier than this lot,that's for sure.,  ,Very shapely as well.,  ,Oh, you try to hide herunder that dress.,  ,If you wanted to hide her,,  ,you shouldn't have brought herhere in the first place.,  ,I can always see,  ,what's going onbeneath a dress.,  ,Been at this a long time.,  ,I bet when you takethat dress off,,  ,everything staysright where it is.,  ,Doesn't drop an inch.,  ,Your king says he betrayedme for love.,  ,I say he betrayed mefor firm tits,  ,and a tight fit.,  ,And I can respect that.,  ,When I was your age,I'd have broken  oaths,  ,to get into thatwithout a second thought.,  ,Well, I've enough roomin the hall for you lot.,  ,We'll set up tents outside,  ,with food and alefor the rest of your men.,  ,Thank you, my lord.,  ,Well, let's get ready.,  ,The wine will flow red,  ,and the music will play loud,  ,and we'll putthis mess behind us.,  ,Where?,  ,There.,  ,There.It's a back gate.,  ,My men use it when theyvisit Yunkai's bed slaves.,  ,Your men, but not you?,  ,I have nointerest in slaves.,  ,A man cannot make loveto property.,  ,This is wherewe enter the city.,  ,Very few guards.They know me.,  ,They let me inside,  ,We're not gonna sneakan army through a back gate.,  ,I kill the guards.I take your two best men,  ,and lead them through the backstreets, which I know well,,  ,and open the front gates.,  ,Then comes the army.,  ,Once the walls are breached,the city will fall in hours.,  ,Or perhaps you'll lead GreyWorm and me to the slaughter,,  ,cutting the head off our army.,  ,The masters of Yunkaiwill pay you your fee,  ,and you won't haveto split it three ways,  ,'cause you've alreadyslaughtered your partners.,  ,You havea very suspicious mind.,  ,In my experience, only dishonestpeople think this way.,  ,You command the Unsullied.,  ,What do you think?,  ,,  ,,  ,,  ,You leave tonight.,  ,Very good.,  ,We'll prepare.,  ,Ser Jorah.,  ,You can use an extra sword.,  ,You're the Queensguard,Ser Barristan.,  ,Your place is by the queen.,  ,If we are trulyher loyal servants,,  ,we'll do whateverneeds to be done,  ,no matter the cost,no matter our pride.,  ,We're west of Castle Black,,  ,but the Nightfort'sclosest to us.,  ,It was the firstcastle on the Wall.,  ,The Watch abandoned it duringthe reign of King Jaehaerys I.,  ,Too big.Impossible to maintain.,  ,Other than Castle Black itself,,  ,the Nightfort'sthe perfect castle for us.,  ,It's got a secret sally port,,  ,the Black Gate,as old as the Wall itself.,  ,No one's used itin centuries most likely.,  ,It leads through the Wall,  ,right down into the Nightfort,,  ,if one knows how to find it,,  ,which, it justso happens, I do.,  ,How do you know all that?,  ,I read about itin a very old book.,  ,You know all that,  ,from staring at marks on paper?,  ,Yes.,  ,You're like a wizard.,  ,Our father used to tell us,  ,that no wildling ever lookedupon the Wall and lived.,  ,Here we are.,  ,Alive.,  ,Remember what happensto children who run.,  ,I'm your fatherand I'll do the talking.,  ,The roads have goneright to hell, haven't they?,  ,Cracked three spokesthis morning.,  , Need a hand?\",\n",
       " \"Need about eight hands.,  ,Oh!,  ,Got to get thissalt pork to the Twins,  ,in time for the wedding.,  ,Many thanks.,  ,Don't!,  ,Don't kill him.,  ,Dead rats don't squeak.,  ,You're so dangerous,aren't you?,  ,Saying scary thingsto little girls.,  ,Killing little boysand old people.,  ,A real hard man you are.,  ,More than anyone you know.,  ,You're wrong.I know a killer.,  , A real killer.\",\n",
       " \"That so?,  ,You'd be like a kitten to him.,  ,He'd kill youwith his little finger.,  ,That him?,  , No.\",\n",
       " \"Good.,  ,Don't kill him.,  ,Please.,  ,Please don't.,  ,You're very kind.,  ,Someday it'll get you killed.,  ,Where are we?,  ,The Gift, I think.,  ,Brandon the Buildergave all this land,  ,south of the Wallto the Night's Watch,  ,for their sustenanceand support.,  ,Maester Luwin taught me that.,  ,Doesn't seem to be supportinganyone at the moment.,  ,It's good landand there's no war up here.,  ,Why leave?,  ,Wildlings.,  ,Sorry.,  ,But they come overthe Wall and raid,,  ,steal, carry off women.,  ,Old Nan said they turnyour skull into a cup,  ,and make you drinkyour own blood from it.,  ,That's what Old Nan said.,  ,There's a storm coming.,  ,I don't see any,  ,It's as good a placeto shelter as any.,  ,We can drink some bloodwhile we wait.,  ,I don't need much.,  ,Only one old manand eight good horses.,  ,What's one old mandoing with eight horses?,  ,He breeds them for the Watch.,  ,How's he keep folksfrom stealing them?,  ,The Watch protects him.,  ,Not today they don't.,  ,He's selling horses,he's got some gold in there.,  , And proper steel.\",\n",
       " \"Let's carve him up.,  ,We just take the horses and go.,  ,The old man's no threat.,  ,I keep telling you.,  ,He's an old man.,  ,A spear through the heart'sa better way to die,  ,than coughing up your last withno one but your horses to hear.,  ,The Watch might send a few menlooking for a horse thief.,  ,They'll send a lot moreto hunt down murderers.,  ,I hope so.,  ,Killing crowsin their castle is tough.,  ,Killing them out herein the open,,  ,that's what we do.,  ,Spread out.,  ,Surround the hut and move in.,  ,Ygritte!,  ,Clear the barn!,  ,No one's going to believe you're ahog farmer if you eat them all.,  ,Best part of the animal.,  ,Don't worry.They're still there.,  ,I know they're still there.,  ,You check every five minutes,  ,like you're afraidthey're gonna move.,  ,I'm not afraid.,  ,Of course you are.,  ,You're almost there,  ,and you're afraidyou won't make it.,  ,The closer you get,the worse the fear gets.,  ,No point in trying to hidebehind that face.,  ,I know fear when I see it.,  ,Seen it a lot.,  ,I knew fearwhen I saw it in you.,  ,You're afraid of fire.,  ,When Beric's swordwent up in flames,,  ,you looked likea scared little girl.,  ,And I know why, too.,  ,I heard whatyour brother did to you.,  ,Pressed your face to the fire,  ,like you're a nicejuicy mutton chop.,  ,That give you some ideas?,  ,Might do.,  ,Go ahead, then.,  ,You might get away.,  ,Might even make itthere on your own.,  ,They're just over the river.,  ,The closest you'vebeen to family,  ,since Ilyn Paynesnipped your daddy's neck.,  ,Someday I'm gonna puta sword through your eye,  ,and out the back of your skull.,  ,How are we goingto get past the Wall?,  ,My uncle saidit's  feet high.,  ,How did you get past it?,  ,Got in a boat and rowedpast the Bay of Seals.,  ,It would take us two monthsto get to the Bay of Seals.,  ,Some climb straight up the ice.,  ,Even Hodor's not strong enough toclimb the Wall with me on his back.,  ,Hodor.,  , castles guard the Wall.,  , Only three are still manned.\",\n",
       " \"Hodor!,  ,One of those abandoned fortresseswill give us a way through.,  ,My uncle said the gates weresealed with ice and stone,  ,when the castles were deserted.,  ,Well, we'll haveto open them up again.,  , Whoa, whoa, whoa!\",\n",
       " \"There's a rider out there.,  ,Just one?,  , There's more.\",\n",
       " 'Hodor!,  ,Shh.',\n",
       " \"Shh.,  , It's just thunder, sweet giant.\",\n",
       " 'Hodor.,  ,I yield.,  , I yield.',\n",
       " \"Wildlings.,  ,Where's Shaggydog and Summer?,  ,Hunting.,  ,Hodor!,  , Shh, quiet, Hodor.\",\n",
       " 'Hodor!,  ,Make him shut up.If they hear us...,  , Hush, Hodor.',\n",
       " 'No no more Hodoring.',\n",
       " 'Hodor!,  , Hodor!',\n",
       " 'Hodor, calm down.,  , You need to keep quiet.',\n",
       " \"They're gonna hear us.,  ,Hodor, be quiet.,  , Ah!\",\n",
       " 'Hodor!',\n",
       " 'Hodor, calm down.,  , Hodor!',\n",
       " 'Hodor!',\n",
       " \"Hodor, be quiet!,  ,What did you do?,  ,Nothing.,  ,I don't know.,  ,What's that?,  ,That's a horse dying.,  ,Bring them over here.,  ,That was the last of them.The rest are dead.,  ,I heard shouting up there.,  ,Thunder.,  ,I know the differencebetween shouting and thunder.,  ,Maybe it's ghosts.,  ,That won't help you, grandpa.,  ,Where you riding?,  ,Doesn't matter now, does it?,  ,No, it doesn't matter now.,  ,Cut his throat or he'lltell the crows we're here.,  ,You understand.,  ,Let me stand at least.,  ,Let me gowith a bit of dignity.,  ,Make the crow kill him.,  ,You're one of us now.Prove it.,  ,The wolves are out there.,  ,I can't do it by choice.,  ,I don't know how.It happens in my dreams.,  ,You're a warg, Bran.,  ,It's in your blood.,  ,I can't.,  ,You just did with him.,  ,A wolf is nothingcompared to that.,  ,She looks sharp.,  ,Do it.,  ,Do it.,  ,I told you.He's still one of them.,  ,Go on, boy.,  ,Go on!,  ,He's a crow.,  ,He'll always be a crow.,  ,And here's his crow wifeguarding him.,  ,He'll stab us in the backfirst chance he gets.,  ,Kill him.,  , He's one of them.\",\n",
       " \"No!,  ,Do you hear me?,  ,You're not gonna diefor one of them.,  ,Do it.,  ,They'll find us if you don't.,  ,You were right the whole time.,  ,Hyah!,  ,When you hear asongbird's whistle, you come.,  ,I'm a great whistler.The greatest in the land.,  ,Daario Naharis.,  ,That one was quick.,  , There may be others.\",\n",
       " \"I doubt it.,  ,The Yunkish prefer to let theirslaves do their fighting for them.,  ,That's what you calla few guards?,  ,Come on!What do you got, huh?,  ,Lord Edmure...,  ,I hope I'm nota disappointment to you.,  ,You're a delightto me, my lady.,  ,You may now cloak the bride,  ,and bring her underyour protection.,  ,In the sight of the Seven,,  ,I hereby seal these two souls,,  ,binding them as onefor eternity.,  ,Look upon each otherand say the words.,  ,Father, Smith,,  ,Warrior, Mother,,  ,Maiden, Crone, Stranger...,  , I am hers...\",\n",
       " 'I am his...,  , and she is mine... and he is mine...,  ,...from this dayuntil the end of my days.,  , Is that safe?',\n",
       " \"They're long gone.,  ,You were right.,  ,I can get inside Summer'smind whenever I want.,  ,Of course you can.,  ,North of the Wallthere are wildlings,  ,who can controlall sorts of animals.,  ,But you did a lotmore than that.,  ,You got inside Hodor's mind.,  ,They can't do thatnorth of the Wall?,  ,No one can do that...,  ,anywhere.,  ,When I was lookingthrough Summer's eyes,,  , I saw Jon.\",\n",
       " \"Where?,  ,He was with the wildlings.,  ,They tried to kill him,but he got away.,  ,He'll be heading backto Castle Black, then.,  ,That's where we should go.,  ,For all we know, CastleBlack's already under attack.,  , If this many wildlings got through I already told you.,  ,I'm not goingnorth of the Wall.,  ,Everything Jojentold me is true.,  ,You saw what I did to Hodor.,  ,I have to findthe threeeyed raven.,  ,Listen to me, little lord.,  ,Don't worry.,  ,I'm not asking youto come with me.,  ,It won't be safe for Rickon.,  ,Me?I'm coming with you.,  ,No.,  ,You and Osha and Shaggydoghead for the Last Hearth.,  ,The Umbers are our bannermen.They'll protect you.,  ,I'm coming with you.,  ,I'm your brother.,  ,I have to protect you.,  ,Right now I haveto protect you.,  ,Robb's at war and I'mgoing beyond the Wall.,  ,If something happens to us,,  ,you're the heir to Winterfell.,  ,Would you know howto find the Last Hearth?,  ,You southerners build your bigcastles and you never move.,  ,You're easy to find.,  ,We're not southerners.,  ,And I don't want to leave you.,  ,Shh, shh.Come here, little soldier.,  ,You and me, we're gonnahave some adventures.,  ,You don't have to doany of this.,  ,Your family took me in,  ,and was good to me whenthey had no cause to be.,  ,Shh.,  ,We'll be fine, you and me.,  ,The Umbers are great warriors.,  ,Even I heardabout them growing up.,  ,They'll teach youhow to swing a sword.,  ,I know how to swing a sword.,  ,You're leaving now?\",\n",
       " \"It'sthe middle of the night.,  ,I learned to walk in darkness.,  ,Say your goodbyes,little man.,  ,Keep this one safe.,  ,He means the world to me.,  ,We've been waiting a long time.,  ,Haven't we?,  ,I don't know, you tell me.,  ,How long does it taketo sack a city?,  ,It was just as you said.,  ,They did not believeuntil it was too late.,  ,Their slave soldiers,  ,threw down their spearsand surrendered.,  ,And Daario Naharis?,  ,The city is yours, my queen.,  ,They're good, aren't they?,  ,They ought to bebecause they cost enough.,  ,Look at the crowd there.,  ,He complainedabout this marriage,  ,the entire ride from Riverrun,,  ,and now look at him.,  ,The godslove to reward a fool.,  , Uncle.\",\n",
       " \"What?,  ,He's my nephew.I love him.,  ,And he's a damned fool.,  ,Don't you drink, Lord Bolton?,  ,Never do, my lady.Dulls the senses.,  ,That's the point.,  ,Didn't you marryone of these Frey girls?,  ,Aye.,  ,Lord Walder let me chooseany of his granddaughters,  ,and promised me the girl'sweight in silver as a dowry.,  ,So I have a fat young bride.,  ,I hope she makes youvery happy.,  ,Well, she's made me very rich.,  ,Pardon, my lord, my lady.,  ,I need to finda tree to piss on.,  ,My mother's alonewith Roose Bolton.,  ,I should rescue her.,  ,Your mother is lessin need of rescue,  ,than any woman I've ever met.,  ,Be kind.,  ,She's finally startingto like you.,  ,And I like her.,  ,But if she had her way,I would be back in Volantis,  ,playing my harp and youwould be sitting over there,  ,eating blackberriesout of Roslin Frey's hand.,  ,Perhaps I've madea terrible mistake.,  ,Striking your kingis an act of treason.,  ,No, don't.,  ,Don't insult them.,  ,Your Grace.,  ,The septon has prayedhis prayers,,  ,some words were said,,  ,and Lord Edmure,  ,has wrapped my daughterin a cloak.,  ,But they are not yetman and wife.,  ,A sword needs a sheath.,  ,And a wedding needs a bedding.,  ,What does my sire say?,  ,To bed!\",\n",
       " 'To bed!',\n",
       " 'To bed!,  ,If you think the timeis right, Lord Walder,,  ,by all means, let us bed them.,  ,To bed!',\n",
       " 'To bed!',\n",
       " \"To bed!,  ,Go on!,  ,Oh!Careful now, ladies.,  ,Once you set that monster free,,  ,there's no caging him again.,  ,To bed!\",\n",
       " 'To bed!',\n",
       " 'To bed!,  ,Poor girl.,  ,Every bride suffers the same.,  ,I\\'m sure you enduredyours with grace.,  ,Oh, Ned forbade it.,  ,He said it wouldn\\'t be right if he brokea man\\'s jaw on our wedding night.,  ,That is a very strange custom.,  ,I suppose it does seem strange,  ,from a foreigner\\'s perspective.,  ,It seems normal to you?,  ,It\\'s a tradition.,  ,Without the bedding ceremony,there\\'s no real proof,  ,the lord and ladyconsummated their marriage.,  ,But there are other waysof providing proof.,  ,Boy or girl?,  ,I don\\'t know.,  ,But if it\\'s a boy, I knowwhat we should name him.,  ,Oh, do you?,  ,It seems to me the father shouldhave some say in his son\\'s naming.,  ,Eddard.,  ,Don\\'t you want to teachlittle Ned Stark,  ,how to ride horses?,  ,I do.,  ,Go on, line \\'em up!,  ,Whoa, whoa, whoa, whoa.,  ,Where are you going?,  ,Got salt pork for the feast.,  ,The feast is over.,  ,Doesn\\'t soundlike it\\'s over.,  ,If I tell youit\\'s over, it\\'s over.,  ,Turn this cart aroundand get the hell out of here.,  ,Got pig\\'s feet, too.,  ,Are you soft in the head?,  ,Turn this cart around.,  ,Your Grace.,  ,I feel I\\'ve been remiss,  ,in my duties.,  ,I\\'ve given you meatand wine and music,,  ,but I haven\\'t shown you,  ,the hospitality you deserve.,  ,My king has married,  ,and I owe my new queena wedding gift.,  ,Robb!,  ,You ready tohead home to Winterfell, right?,  ,Feast over yet, is it?,  ,Aye, it\\'s over.,  ,Follow him.,  ,Aim!,  ,It\\'s too late.,  ,The King in the North arises.,  ,Lord Walder!,  ,Lord Walder, enough!,  ,Let it end!,  ,Please.,  ,He is my son.,  ,My first son.,  ,Let him go and I swearthat we will forget this.,  ,I swear it bythe old gods and new.,  ,We will take no vengeance.,  ,You already swore me one oathright here in my castle.,  ,You swore by all the gods yourson would marry my daughter!,  ,Take me for ahostage, but let Robb go.,  ,Robb, get up.,  ,Get up and walk out.,  ,Please!,  ,Please!,  ,And why would Ilet him do that?,  ,On my honor as a Tully,,  ,on my honor as a Stark,,  ,let him go,  ,or I will cutyour wife\\'s throat.,  ,I\\'ll find another.,  ,Mother.,  ,The Lannisters sendtheir regards.,  ,<font color=\"#ecbd\"Sync & corrections by honeybunny</font<font color=\"#ecbd\"www.addiced.com</font,  ,<font color=\"#ffff\" size=www.tvsubtitles.net</font\\xef\\xbb\\xbfYah!',\n",
       " 'Yah!,  , Go, move out!',\n",
       " \"The King in the North!,  ,The King in the North!,  ,The King in the North!The King in the North!,  ,The King in the North!The King in the North!,  ,Here comesthe King in the North!,  ,Here comes the Kingin the North!,  ,The King in the North!The King in the North!,  ,Here comes...,  ,Hmm.,  ,Ser Eldrick Sarsfieldand Lord Desmond Crakehall.,  ,Ser Eldrick Sarsfieldand Lord Desmond Crakehall.,  ,What are you doing?,  ,I have a list.,  ,A list of peopleyou mean to kill?,  ,For laughing at me?,  ,Do I look likeJoffrey to you?,  ,No, death seemsa bit extreme.,  ,Fear of death,on the other hand...,  ,You should learnto ignore them.,  ,My lady, people havebeen laughing at me,  ,far longer than they'vebeen laughing at you.,  ,I'm the Halfman,,  ,the Demon Monkey,the Imp.,  ,You're a Lannister.,  ,I am the disgraced daughterof the traitor Ned Stark.,  ,The disgraced daughterand the Demon Monkey.,  ,We're perfect for each other.,  ,So how shouldwe punish them?,  ,Who?\",\n",
       " 'Whom?,  ,Ser Eldrick Sarsfieldand Lord Desmond Crakehall.,  ,Ah.,  ,I could speak to Lord Varysand learn their perversions.,  ,Anyone named DesmondCrakehall must be a pervert.,  ,I hear thatyou\\'re a pervert.,  ,I am the Imp.,  ,I have certain standardsto maintain.,  ,We could sheep shiftLord Desmond\\'s bed.,  ,You cut a little holein his mattress,  ,and you stuffsheep dung inside.,  ,Then you sew up the holeand make his bed again.,  ,His room will stink, but he won\\'tknow where it\\'s coming from.,  ,Lady Sansa!,  ,My sister used to do thatwhen she was angry with me.,  ,And she was alwaysangry with me.,  ,Why sheep shift?,  ,That\\'s the vulgar wordfor dung.,  ,My lady...,  ,Well, you asked me.,  ,Oh!,  ,That\\'s him!,  ,My lord, my lady.,  ,Your father has calleda meeting of the small council.,  ,Killed a fewpuppies today?,  ,Show him.,  ,Come on, show him.,  ,Oh, apologies, my lord.,  ,Old fingers.,  ,\"Roslin caughta fine fat trout.,  ,Her brothers gave hera pair of wolf pelts for her wedding.,  ,Signed Walder Frey.',\n",
       " '\",  ,Is that bad poetry,  ,or is it supposedto mean something?,  ,Robb Stark is dead.,  ,And his bitch mother.,  ,Write back to Lord Frey.,  ,Thank him for his serviceand command him,  ,to send Robb Stark\\'s head.,  ,I\\'m going to serve it to Sansaat my wedding feast.,  ,Your Grace, Lady Sansais your aunt by marriage.,  ,A joke.Joffrey did not mean it.,  ,Yes, I did.,  ,I\\'m going to have it servedto Sansa at my wedding feast.,  ,No.,  ,She is no longeryours to torment.,  ,Everyone is mineto torment.,  ,You\\'d do well to remember that,you little monster.,  ,Oh, I\\'m a monster.,  ,Perhaps you should speakto me more softly, then.,  ,Monsters are dangerous,  ,and just now kingsare dying like flies.,  ,I could haveyour tongue out,  ,for saying that.,  ,Let him make his threats.,  ,Hmm?',\n",
       " 'He\\'s a bitterlittle man.,  ,Lord Tyrion shouldapologize immediately.,  ,Unacceptable,disrespectful,,  ,and in very bad taste.,  ,I am the king!,  ,I will punish you.,  ,Any man who must say,\"I am the king\",  ,is no true king.,  ,I\\'ll make sureyou understand that,  ,when I\\'ve wonyour war for you.,  ,My father wonthe real war.,  ,He killed Prince Rhaegar.He took the crown,  ,while you hidunder Casterly Rock!,  ,The king is tired.,  ,See him to his chambers.,  , Come along.',\n",
       " \"I'm not tired.,  ,We have so muchto celebrate.,  ,A wedding to plan.You must rest.,  ,Grand Maester, perhapssome essence of nightshade,  ,to help him sleep.,  ,I'm not tired!,  ,Come.,  ,Not you.,  ,You just sent the mostpowerful man in Westeros,  ,to bed without his supper.,  ,You're a fool if you believe he'sthe most powerful man in Westeros.,  ,A treasonous statement.Joffrey is king.,  ,You really think a crowngives you power?,  ,No.,  ,I think armiesgive you power.,  , Mmhmm.\",\n",
       " 'Robb Stark had one,,  ,never lost a battle,,  ,and you defeated himall the same.,  , Mmhmm.',\n",
       " 'Oh, I know.,  ,Walder Freygets all the credit.,  ,Or the blame,I suppose,,  ,depending onyour allegiance.,  ,Walder Freyis many things,,  ,but a brave man?,  ,No.,  ,He never would haverisked such an action,  ,if he didn\\'t havecertain assurances.,  ,Which he got from me.,  ,Do you disapprove?,  ,I\\'m all for cheating.This is war.,  ,But to slaughter themat a wedding...,  ,Explain to mewhy it is more noble,  ,to kill , menin battle,  ,than a dozen at dinner.,  ,So that\\'s why you did it?,  ,To save lives?,  ,To end the war.To protect the family.,  ,Do you want to write a songfor the dead Starks?,  ,Go ahead, write one.,  ,I\\'m in this worlda little while longer,  ,to defend the Lannisters,to defend my blood.,  ,The northernerswill never forget.,  ,Good.,  ,Let them rememberwhat happens,  ,when they marchon the south.,  ,All the Stark menare dead.,  ,Winterfell is a ruin.,  ,Roose Bolton will be namedWarden of the North,  ,until your son by Sansacomes of age.,  ,I believe you still have somework to do on that score.,  ,Do you think she\\'ll openher legs for me,  ,after I tell her how we murderedher mother and brother?,  ,One way or another,you will get that girl pregnant.,  ,I will not rape her.,  ,Shall I explain to you in oneeasy lesson how the world works?,  ,Use small words.I\\'m not as bright as you.,  ,The house that puts familyfirst will always defeat,  ,the house that putsthe whims and wishes,  ,of its sonsand daughters first.,  ,A good man doeseverything in his power,  ,to betterhis family\\'s position,  ,regardless of his ownselfish desires.,  ,Does that amuse you?,  ,No, it\\'s a verygood lesson.,  ,Only it\\'s easy for you topreach utter devotion to family,  ,when you\\'re makingall the decisions.,  ,Easy for me, is it?,  ,When have you ever done somethingthat wasn\\'t in your interest,  ,but solely for the benefitof the family?,  ,The daythat you were born.,  ,I wanted to carry youinto the sea,  ,and let the waveswash you away.,  ,Instead, I let you live.,  ,And I brought you upas my son.,  ,Because you\\'re a Lannister.,  ,Sansa.,  ,It\\'s empty.,  ,Let\\'s finda place to sleep.,  ,Hodor.,  ,Hodor.,  ,Don\\'t, Hodor.,  ,Maybe we shouldn\\'tstay here.,  ,You\\'d ratherbe out there?,  ,There are a lot of storiesabout this place.,  ,Horrible stories.,  ,I always quite likedthe horrible stories.,  ,So did I.,  ,Once.,  ,You ever heardabout the Rat Cook?,  ,No.Who\\'s he?,  ,Just a cookin the Night\\'s Watch.,  ,He was angry at the kingfor something,,  ,I don\\'t remember.,  ,When the king was visitingthe Nightfort,,  ,the cook killedthe king\\'s son,,  ,cooked himinto a big pie,  ,with onions, carrots,mushrooms and bacon.,  ,That night he servedthe pie to the king.,  ,He liked the tasteof his son so much,,  ,he asked fora second slice.,  ,The gods turned the cookinto a giant white rat,  ,who could only eathis own young.,  ,He\\'s been roamingthe Nightfort ever since,,  ,devouring his own babies.,  ,But no matterwhat he does,,  ,he\\'s always hungry.,  ,If the gods turnedevery killer,  ,into a giant white rat,  ,It wasn\\'t for murderthe gods cursed the Rat Cook,  ,or for servingthe king\\'s son in a pie.,  ,He killed a guestbeneath his roof.,  ,That\\'s somethingthe gods can\\'t forgive.,  ,\"The late Walder Frey,\"old Tully called me,  ,because I didn\\'t get my men tothe Trident in time for battle.,  ,He thought he was witty.,  ,Look at us now, Tully.,  ,You\\'re dead,your daughter\\'s dead,,  ,your grandson\\'s dead,,  ,your son spent his weddingnight in a dungeon,  ,and I\\'m Lordof Riverrun.,  ,The Blackfish escaped.,  ,An old man on the run,  ,with no allies.,  ,I have Tywin Lannisterbacking me.,  , Who does he have?',\n",
       " \"As you say.,  ,They all laughed at me,,  ,all those high lords.,  ,They all thoughtthey were better than me.,  ,Ned Stark,Hoster Tully.,  ,People sniggerwhen I marry a young girl,,  ,but who said a word when Jon Arrynmarried the little Tully bitch?,  ,You'll be needinga new young girl.,  ,Yeah.,  ,Got thatto look forward to.,  ,And you,,  ,the Wardenof the North.,  ,No more Starksto bow and scrape to.,  ,Must have been torture,  ,following that stupid boyall over the country.,  ,He ignored my adviceat every turn.,  ,If he'd been a trifleless arrogant...,  ,Calling himselfthe Young Wolf.,  ,How's that for pomposity?,  ,Well, here's tothe Young Wolf!,  ,Forever young.,  ,Will you move to Winterfellnow that the war's over?,  ,At some point perhaps.,  ,But Winterfell's in ruins.,  ,Yeah.,  ,What happened up there?,  ,I heard the Greyjoy boyseized the place.,  ,I heard he killedall the ravens.,  ,And after that, nothing.,  ,I sent my bastard Ramsayto root him out.,  ,Robb Stark offeredamnesty for the ironborn,  ,if they gave us Theon.,  ,Oh.\",\n",
       " \"And?,  ,Ramsay deliveredthe terms.,  ,The ironborn turned on Theonas we knew they would.,  ,They handed him overtrussed and hooded.,  ,But Ramsay well...,  ,Ramsay has his own wayof doing things.,  ,Well, the girlsweren't lying.,  ,You hada goodsized cock.,  ,What?,  ,No.,  ,Pork sausage.,  ,You think I'm somesort of savage?,  ,People talk aboutphantom limbs.,  ,An amputee might have an itchwhere his foot used to be.,  ,So I've always wondered...,  ,do eunuchshave a phantom cock?,  ,Next time you thinkabout naked girls,,  ,would you feel an itch?,  ,Sorry.,  ,I shouldn't make jokes.,  ,My mother taught me notto throw stones at cripples.,  ,But my father taught meto aim for their head.,  ,Kill me.,  ,Sorry, what?,  ,Kill me.,  ,A little louder.,  ,Kill me!,  ,You're no goodto me dead.,  ,We need you.,  ,You don't look likea Theon Greyjoy anymore.,  ,That's a namefor a lord.,  ,But you're not a lord,,  ,are you?,  ,You're just meat.,  ,Stinking meat.,  ,You reek.,  ,Reek!,  ,That's a good namefor you.,  ,What's your name?,  ,Theon Greyjoy.,  ,What's your name?,  ,Th,  ,Theon Greyjoy.,  ,Please.,  ,What is your name?\",\n",
       " \"!,  ,Reek.,  ,My name is...,  ,Reek.,  ,Hodor.,  , Don't kill me!\",\n",
       " 'Who are you?,  , Sam!',\n",
       " 'Sam!',\n",
       " 'Who are you?',\n",
       " \"!,  ,Gilly.Don't hurt us.,  ,Where are you going?,  ,To Castle Black.\",\n",
       " \"I'm a brotherof the Night's Watch.,  , My brother, he's in the Night's Shush.,  , Who's your brother?\",\n",
       " 'Doesn\\'t matter.,  ,You\\'re Jon\\'s brother.,  ,The one who fellfrom the window.,  ,No, I\\'m not.,  ,I\\'ve been around Ghost enough toknow a direwolf when I see one.,  ,And I\\'ve heardall about Hodor.,  ,Hodor.,  ,I\\'d be deadif it wasn\\'t for Jon.,  ,If you\\'re his brother,you\\'re my brother, too.,  ,And anything I can doto help you, I will.,  ,Take us northof the Wall.,  ,What?,  ,Why in the worldwould you want to go,  ,I don\\'t want to.I have to.,  ,How did you getthrough the Wall?,  ,Does the well lead to an underground river?Is that how you came here?,  ,Come with us.,  ,There are steps carved intothe south side of the Wall.,  ,Hodor can carry youto the top.,  ,We\\'ll walk straightto Castle Black.,  ,Come with us.There\\'s nothing north but death.,  ,If Jon is alive,,  ,then Castle Black\\'swhere he\\'ll be.,  ,It\\'s the safest placefor you.,  ,There\\'s nowhere safe any longer.You know that.,  ,What I knowis what I saw.,  ,And if you saw it, too,you\\'d run the other way.,  ,You saw the white walkersand the army of the dead.,  ,How do you knowall that?,  ,The Night\\'s Watchcan\\'t stop them.,  ,The kings of Westeros and alltheir armies can\\'t stop them.,  ,But you\\'re goingto stop them?,  ,Please, Sam.,  ,I have to go north.,  ,I have to.,  ,\"Balon Greyjoy,Lord of the Iron Islands,  ,and invader of the North.,  ,I give youuntil the full moon,  ,to order all ironborn scumout of the North,  ,and back to thoseshitstained rocks,  ,you call a home.,  ,On the first nightof the full moon,,  ,I will hunt downevery islander,  ,still in our landsand flay them living,  ,the way I flayedthe  ironborn scum,  ,I found at Winterfell.,  ,In the box you\\'ll finda special gift,  ,Theon\\'s favorite toy.,  ,He cried when I took itaway from him.,  ,Leave the North nowor more boxes will follow,  ,with more Theon.,  ,Signed Ramsay Snow,,  ,naturalborn sonof Roose Bolton,,  ,Lord of the Dreadfortand Warden of the North.',\n",
       " '\",  ,Get thatout of my sight.,  ,Theon disobeyedmy orders.,  ,The boy is a fool.,  ,He cannot furtherthe Greyjoy line.,  ,I will not give upthe lands I have seized,,  ,the strongholdsI have taken.,  ,Get this away from me.,  ,He\\'s your son.,  ,Son?,  ,He\\'s nota man anymore.,  ,He\\'s your son.,  ,He\\'s my brother.,  ,He\\'s a Greyjoy.,  ,Watch yourself.,  ,I\\'ve mademy decision.,  ,And I\\'ve made mine.,  ,I\\'m going to pick thefastest ship in our fleet.,  ,I\\'m going to choosethe  best killers on the Iron Islands.,  ,Get those ropes!,  ,I\\'m going to sailup the Narrow Sea,  ,all the wayto the Weeping Water.,  ,I\\'m going to marchon the Dreadfort.,  ,I\\'m going to findmy little brother,  ,and I\\'m goingto bring him home.,  ,What is it?,  ,Dragonglass.,  ,We found themat the Fist.,  ,Someone buried thema long time ago.,  ,Someone wanted usto find them.,  ,Why?What are they for?,  ,Killing white walkers.,  ,How do you know that?,  ,The walker camefor my baby.,  ,And Sam...,  ,But no one\\'s killed a whitewalker in thousands of years.,  ,Well, I suppose someonehad to be the first.,  ,Take it, Hodor.,  ,And the archer.,  ,I got lucky,  ,with one of them.,  ,There are more.,  ,Many more.,  ,And for every one of them,,  ,the dead men,,  ,more than youcould count.,  ,I wish you\\'d comewith us.,  ,I wish I could.,  ,I really do.,  ,How are you keeping?,  ,Great.,  ,Never better.,  ,It was justa bit of blood.,  ,I should have known.,  ,Every time a highbornasks my name, it\\'s trouble.,  ,We\\'re not really peopleto you, are we?,  ,Just a million different waysto get what you want.,  , I\\'m not a highborn.',\n",
       " \"She called you Ser.,  ,I heard it.,  ,A recent stateof affairs.,  ,I was born in Flea Bottomjust like you.,  ,Sure, you were.,  ,You're my friend.You're here to help.,  ,I lived belowthe Street of Flour.,  ,How far below?,  ,How close to theRed Keep were you?,  ,The shit that pouredfrom their privy pipes,  ,flowed down the sideof Aegon's Hill,  ,along Tanner's Row and rightin front of my front door,  , on Gin Alley.\",\n",
       " \"Gin Alley.,  ,The Street of Steel,,  ,with your armor and your knights?Pfft.,  ,You lived in the fancypart of town.,  ,And here we are now.,  ,Two boys from Flea Bottomin the castle of a king.,  ,Yeah, we've comea long way.,  ,We're allthe same, really.,  ,She went to great painsto point that out to me.,  ,If you mistrustfancy people so much,,  ,why were you in such ahurry to trust her?,  ,You're me.,  ,Never been with a woman.,  ,Never talkedto a woman, really.,  ,And then shecomes at you,  ,big words, no clothes.,  ,What would you have done?,  ,She does know her way around aman's head, I'll give her that.,  ,So how'd youbecome a lord?,  ,Oh, that's a long story.,  ,Better not, then.I'm a bit busy.,  ,Many years agoI helped King Stannis,  ,out of a difficultsituation.,  ,He rewarded mewith a lordship.,  ,And this.,  ,You see?,  ,Highborns.,  ,I didn't wantto be a lord.,  ,I nearly didn't accept.,  ,Why did you?,  ,I did it for my son.,  ,I didn't want him to stepover a river of shit,  ,every time he steppedthrough his front door.,  ,I wanted him to havea better life.,  ,Does he?,  ,He's dead.,  ,How'd he die?,  ,Following me.,  ,When did you cometo this strange country?,  ,When I was .,  ,You were only a child.,  ,I stopped being a childwhen I was nine.,  ,My mothermade sure of that.,  ,You've beena good influence,  ,on our mutual friend,you know.,  ,He used to drinkfrom sundown to sunup,,  ,visit three brothelsa night,,  ,gamble awayhis father's money.,  ,Now it's justthe drinking.,  ,And nowI'm his wife's servant.,  ,I brush her hairand clip her nails,  ,and emptyher chamber pot.,  ,She is a sweetyoung thing.,  ,None of thisis her fault.,  ,I love that girl.I would kill for her.,  ,Do you think thatmakes it easier for me?,  ,No, I expect not.,  ,She's young and she'sbeautiful and highborn.,  ,We break breadwith them,,  ,but that doesn'tmake us family.,  ,We've learnedtheir language,,  ,but we'll never betheir countrymen.,  ,If you let yourself believe,  ,that a foreign girlwith no name,  ,could spend her life withthe son of Tywin Lannister,  , I have a name.\",\n",
       " 'You have one name.,  ,As do I.,  ,Here only the familyname matters.,  ,What do you wantfrom me, Lord Varys?,  ,Diamonds.,  ,I\\'d tell you to bewarecarrying so much wealth,,  ,but you know howto protect yourself.,  ,Get on oneof those ships.,  ,Sail to Pentosor Lys or Myr.,  ,You can buy a housewith these diamonds,,  ,a very large house.,  ,Hire servants.,  ,Start a new life,,  ,a good life,far from here.,  ,The mysteriousforeign beauty.,  ,You\\'ll have suitorslining up.,  ,Why do youwant me to leave?,  ,Tyrion Lannister is oneof the few people alive,  ,who could make this countrya better place.,  ,He has the mind for it,he has the will,,  ,he has the rightlast name.,  ,And you,  ,you are a complication.,  ,I know you love him.,  ,And I know it\\'s true love notbought by gold and silver.,  ,I\\'m not asking youto leave him for money.,  ,I\\'m asking you to leave,  ,because your presencein the capital,  ,endangers him.,  ,This will neverbe your home, my lady.,  ,Find a true homesomewhere far from here...,  ,while there\\'s still time.,  ,Lord Varys.,  ,If he wants me to leave,he can tell me himself.,  ,Keep up.,  ,I don\\'t thinkI can, my lord.,  ,It\\'s not easybeing drunk all the time.,  ,Everyone would do itif it were easy.,  ,Leave.,  ,So, enjoyingmarried life?,  ,An unhappy wife is a winemerchant\\'s best friend.,  ,She doesn\\'tdeserve this.,  ,Deserve?,  ,Be careful with that.,  ,Start trying to work outwho deserves what,  ,and before long you\\'ll spendthe rest of your days,  ,weeping for each and everyperson in the world.,  ,There\\'s nothing worsethan a lateblooming philosopher.,  ,Will you be facingyour marriage to Ser Loras,  ,with the samephilosophical spirit?,  ,I won\\'t be marryingSer Loras.,  ,I seem to remembersaying something similar,  ,about my own marriage.,  ,You\\'re not me.,  ,You want to make thingsbetter for Sansa?,  ,Give her a child.,  ,So you can tell Fatherit was you,  ,who finallytalked me into it?,  ,So she can havesome happiness in her life.,  ,You have children.,  ,How happy wouldyou say you are?,  ,Not very.,  ,But if it weren\\'tfor my children,,  ,I\\'d have thrown myself from thehighest window in the Red Keep.,  ,They\\'re the reasonI\\'m alive.,  ,Even Joffrey?,  ,Even Joffrey.,  ,He was all I had once.,  ,Before Myrcella was born.,  ,I used to spend hours,  ,looking at him.,  ,His wisps of hair.,  ,His tiny littlehands and feet.,  ,He was sucha jolly little fellow.,  ,You always hear the terribleones were terrible babies.,  ,\"We should have known.Even then we should have known.',\n",
       " '\",  ,It\\'s nonsense.,  ,Whenever he was with me,he was happy.,  ,And no one can take thataway from me,,  ,not even Joffrey,  ,how it feelsto have someone.,  ,Someone of your own.,  ,How longdoes it go on?,  ,Until we\\'ve dealtwith all our enemies.,  ,Every time we dealwith an enemy,,  ,we create two more.,  ,Then I suppose it will goon for quite a long time.,  ,I\\'m telling you,that\\'s what she did.,  ,Sounded likea cow in heat.,  , Aye, not for long.',\n",
       " \"That's right.,  ,Black Waldershut her up right quick.,  ,None of the Starks had much tosay about the end of that meal.,  ,I'll tell you what,though.,  ,The hardest thing was getting thatwolf's head to stay on the body.,  , You sewed it on?\",\n",
       " 'I did.,  ,I bet there were , menclaiming they were the one.,  ,It was me.,  ,And Malcolmand Talbott.,  ,Well, the thing was so heavy,it fell off the first time.,  ,Took the skinright with it.,  ,What we ended up having to dowas hook the needle,  ,right underthe collarbone.,  ,Give it a nicefirm mooring and,  ,What do you want?,  , Mind if I keep warm?',\n",
       " 'Fuck off.,  ,But I\\'m hungry.,  ,Does fuck off mean somethingdifferent where you\\'re from?,  ,I\\'ve got money.,  ,What kind of coinis that?,  ,It\\'s worth a lot.,  ,Sorry.,  ,Little shit.,  ,Fool!,  ,Where did youget the knife?,  ,From you.,  ,Is that the first manyou\\'ve killed?,  ,The first man.,  ,Next time you\\'re goingto do something like that,,  ,tell me first.,  ,Valar morghulis.,  ,Ygritte, you knowI didn\\'t have a choice.,  ,You always knew who I was,,  ,what I am.,  ,I have to go home now.,  ,I know you won\\'t hurt me.,  ,You know nothing,Jon Snow.,  ,I do know some things.,  ,I know I love you.,  ,I know you love me.,  ,But I haveto go home now.,  ,I know howthis must look.,  , What I meant was I swear to you, my lord,  ,I\\'m not a lord, my dear.,  ,Not for many, many years.,  ,Every man who joinsthe Night\\'s Watch,  ,renouncesall former titles.,  ,Among other things.,  ,What is your name?,  ,Gilly.,  ,Ah, for the gillyflower.,  ,Lovely.,  ,Yes, my,  ,Maester.,  ,Master.,  ,Maester.,  ,And the child?,  ,She hasn\\'t chosena name yet.,  ,His name is Sam.,  ,Tarly...,  ,do you rememberthe oath you swore,  ,when you joinedthis order?,  ,He\\'s not my child,Maester Aemon.,  ,She\\'s oneof Craster\\'s wives.,  ,I remember every wordof the oath.,  ,Night gathersand my watch begins.,  ,I am the shield that guardsthe realms of men.,  ,The realms of men.,  ,That means heras well as us.,  ,We didn\\'t build miles of ice walls,  , feet highto keep out men.,  ,The night is gathering,Maester Aemon.,  ,I\\'ve seen it.,  ,It\\'s comingfor all of us.,  ,Gilly, you and your son,  ,will be our guestsfor the time being.,  ,We certainly cannotsend you back,  ,beyond the Wall.,  ,Thank you...,  ,Maester.,  ,I can cook and cleanand I can,  ,Good.,  ,Samwell, fetch a quilland inkwell.,  ,I hope your penmanship isbetter than your swordplay.,  ,Miles better.,  ,We had  ravensat last count.,  ,Make surethey\\'re all fed.,  ,Every one of themflies tonight.,  ,\"To His Grace,  ,King Stannis Baratheon.,  ,Invaded invinvit invited,  ,to the name daycelebration,  ,for Rylene Florent,  ,on the first nigit\",  ,Night.,  ,\"First nightof the full moon.',\n",
       " '\",  ,Why is therea G in night?,  ,I don\\'t know.There just is.,  ,Well, your father\\'snot going to go to that.,  ,My books are betterthan these boring scrolls.,  ,You could read aboutBalerion the Dread.,  ,They say you can still see his skullin the dungeons beneath the Red Keep.,  ,I\\'d like to seethat someday.,  ,I\\'ve been trying to stay out ofthose dungeons my whole life.,  ,\"His fangs were as longas bastard swords.',\n",
       " '\",  ,Aye, old Balerion\\'sdefinitely better,  ,than anything your cousinRylene\\'s got on offer.,  ,But now that I\\'m yourfather\\'s Hand again,,  ,I have to keephim informed.,  ,The king does not havetime for this drudgery.,  ,\"To all the lordsand knobble men of Westeros.',\n",
       " '\",  , Noblemen.',\n",
       " '\"Noblemen of Westeros,,  ,the Nigthe Night\\'s Watch...,  ,implores...\",  ,What is it?,  ,Why are theyringing the bells?,  ,Are we being attacked?,  ,Stay here.,  ,Bar the door.,  ,The usurperRobb Stark is dead.,  ,Betrayed by his bannerman.,  ,And you take credit because youdropped a leech into the fire?,  ,I take no credit.,  ,I have faith and my faithhas been rewarded.,  ,Your Grace, the worldhas got so far bent.,  ,I\\'ve seen thingscrawl out of nightmares,,  ,but my eyes were open.,  ,I don\\'t know if Robb Stark diedbecause of the Red Woman\\'s sorcery,  ,or because at warmen die all the time,,  ,but I do know that unitingthe Seven Kingdoms,  ,with blood magic is wrong.,  ,It is evil.,  ,And you are notan evil man.,  ,Do you know who had this tablecarved and painted, Ser Davos?,  ,Aegon Targaryen.,  ,And do you know how AegonTargaryen conquered Westeros?,  ,On the back of his dragonBalerion the Dread.,  ,He had a smaller fleetthan the kings he faced,  ,and a smaller army,but he had three dragons.,  ,Dragons are magic,Ser Davos.,  ,My enemies have mademy kingdom bleed.,  ,I will not forget that.,  ,I will not forgive that.,  ,I will punish themwith any arms,  ,at my disposal.,  ,You do not needto burn the boy.,  ,If what you say is true,,  ,a drop of his bloodkilled Robb Stark,  ,And our king is stillno closer to the Iron Throne.,  ,A great gift requiresa great sacrifice.,  ,His name is Gendry.,  ,He\\'s a good lad.,  ,A poor ladfrom Flea Bottom,  ,who happensto be your nephew.,  ,What is the life of one bastardboy against a kingdom?,  ,Everything.,  ,The boy must die.,  , What are you doing?',\n",
       " \"You're leaving.,  ,Is this some kindof trick?,  ,Yes, but not on you.,  ,Aim for that star.Don't stop.,  ,There's bread and water.Go slow with it.,  ,If you finish it off,,  ,no matter howthirsty you get,,  ,don't drink seawater.,  ,I know notto drink seawater.,  ,Row for a full day and nightand you'll reach Rook's Rest.,  ,You'll want to stop there.Don't.\",\n",
       " \"She'll find you.,  ,Where should I go?,  ,You must keep the coaston your left side,  ,until you reachKing's Landing.,  ,The gold cloaksare looking for me.,  ,They were lookingfor me for  years.,  , Do they know your face?\",\n",
       " \"No.,  ,I'd worry moreabout the Red Woman.,  ,The other way.,  ,You ever beenin a boat before?,  ,No.,  ,You know how to swim?,  ,No.,  ,Don't fall out.,  ,Go on.,  ,Why are you doing this?,  ,Because it's right.,  ,And becauseI'm a slow learner.,  ,When you get to Flea Bottom,have a bowl of brown for me.,  ,Horse approaching!,  ,Halt!\",\n",
       " 'Halt!,  ,Jon!',\n",
       " \"Jon!,  ,Jon, it's us.,  ,I don't thinkhe can see us.,  ,Pyp?,  ,Sam?,  ,Hush, now.You're home.,  ,Carry him inside.Gently.,  ,Out of the way.,  ,Step aside,country boy.,  ,People working here.,  ,Cersei.,  ,You don't deny it?,  ,No.,  ,I let him go.,  ,Your mercysaved the boy's life.,  ,You feel goodabout that?,  ,Aye, I do.,  ,You saved one innocent.,  ,How many tens of thousandshave you doomed?,  ,There has gotto be another way.,  ,What other way?\",\n",
       " \"!,  ,Tell us aboutthis other way.,  ,I don't know,Your Grace.,  ,I can't see the futurein the fire.,  ,Very well,Ser Davos Seaworth.,  ,I, Stannisof the House Baratheon,,  ,First of My Name, Rightful Kingof the Andals and the First Men,,  , sentence you to die.\",\n",
       " \"I understand.,  ,But since you haven't yetunnamed me Hand of the King,,  ,it is my dutyto advise you against it.,  , You're gonna need me.\",\n",
       " \"Take him away.,  ,Why am I gonna need you?,  ,My king.,  ,It's from Maester Aemonof the Night's Watch.,  ,Their Lord Commanderis dead.,  ,Took a ranging party northand never made it back.,  ,One lad did, though.,  ,What he sawbeyond the Wall,  ,it's comingfor all of us.,  ,When did youlearn to read?,  ,Matthos taught mebefore he died,  ,so I could beof better service to you.,  ,This War of Five Kingsmeans nothing.,  ,The true war liesto the north, my king.,  ,Death marches on the Wall.,  ,Only you can stop him.,  ,You can't stop him alone.,  ,You need someone to rebuildyour army for you,,  ,someone to convince this lordand that lord to fight for you,,  ,to bring sellswordsand pirates to your side.,  ,I've made my decision.,  ,He's right.You need him.,  ,He has a part to playin the war to come.,  ,You see, Ser Davos?,  ,You've been savedby that fire god you like to mock.,  ,You're in his army now.,  ,They will come,Your Grace.,  ,When they're ready.,  ,Perhaps they didn'twant to be conquered.,  ,You didn't conquer them.,  ,You liberated them.,  ,People learn to lovetheir chains.,  ,No.,  , Mhysa!\",\n",
       " 'Mhysa!,  ,Mhysa!',\n",
       " 'Mhysa!,  ,Mhysa!',\n",
       " 'Mhysa!',\n",
       " 'Mhysa!,  ,What does it mean?,  ,It is old Ghiscari,khaleesi.,  ,It means \"mother.',\n",
       " '\",  ,It\\'s all right.,  ,These peoplewon\\'t hurt me.,  ,Mhysa!',\n",
       " 'Mhysa!,  ,Mhysa.,  ,Mhysa!',\n",
       " 'Mhysa!',\n",
       " 'Mhysa!,  ,== sync, corrected by <font color=\"#ff\"elderman</font ==,  ,<font color=\"#ffff\" size=www.tvsubtitles.net</font,  , Magnificent.',\n",
       " \"Mmhmm.,  ,Looks freshforged.,  ,It is.,  ,No one's made a Valyriansteel sword,  ,since the Doom of Valyria.,  ,There are three living smiths,  ,who know how to reworkValyrian steel.,  ,The finest of themwas in Volantis.,  ,Came here to King's Landingat my invitation.,  ,Where did you getthis much Valyrian steel?,  ,From someone who no longerhad need of it.,  ,You've wanted one of thesein the family for a long time.,  , And now we have two.\",\n",
       " \"Two?,  ,The original weaponwas absurdly large.,  ,Plenty of steel for two swords.,  ,Well, thank you.It's glorious.,  ,You'll have to trainyour left hand.,  ,Any decent swordsmanknows how to use both hands.,  ,You'll never be as good.,  ,No.,  ,But as long as I'm betterthan everyone else,,  ,I suppose it doesn't matter.,  ,You can't serve in theKingsguard with one hand.,  ,Where's that written?I can and I will.,  ,The Kingsguard oathis for life.,  ,The war is over.The king is safe.,  ,The king is never safe.,  ,How many people in this city alonewould love to see his head on a pike?,  ,Other knights protected theking while you were a prisoner.,  ,They will continueto do so when you go home.,  , Home?\",\n",
       " \"You'll return to Casterly Rock,  ,and rule in my stead.,  ,You are the Lordof Casterly Rock.,  ,I am the King's Hand.My place is here.,  ,I don't expect to seethe Rock again before I die.,  ,You know what they call me?,  ,Kingslayer.Oathbreaker.,  ,Man without honor.,  ,Now you want me to breakanother sacred vow.,  ,You won't be breaking anything.,  ,There is a precedent to relievea Kingsguard of his duties.,  ,The king will exercisethat prerogative.,  , No.\",\n",
       " \"No?,  ,No.,  ,I don't believeI asked you a question.,  , There's my answer.\",\n",
       " \"If you think your bloody honor comes before...,  ,My bloody honoris beyond repair,,  ,but my answer is still no.I don't want Casterly Rock.,  ,I don't want a wife.I don't want children.,  ,What do you want?,  ,Supper would be nice.,  ,For  yearsI've tried to teach you.,  ,If you haven't learned by now,you never will.,  ,Go.,  ,If serving as a glorifiedbodyguard,  ,is the sum of your ambition,go serve.,  ,I suppose you wantthe sword back.,  ,Keep it.,  ,A onehanded man with no familyneeds all the help he can get.,  ,How many Dornishmendoes it take to fuck a goat?,  ,Please don't.,  ,Seems to me the smart place,  ,to meet travelersis in a tavern.,  ,That way, one party is late,,  ,the other party can drinksome ale inside.,  ,This is the Prince of Dornewe're waiting for,,  ,not one of yoursellsword friends.,  ,If he's so damned important, howcome they sent you to meet him?,  ,There's bad blood betweenthe Martells of Dorne,  ,and the Lannisters of Casterly Rock.Has been for years.,  ,And just in casethe Martells of Dorne,  ,are looking to spillsome Lannister blood,,  , it may as well be yours, eh?\",\n",
       " 'No need for cynicism.,  , I happen to be an accomplished diplomat.',\n",
       " \"Oh.,  ,Ah, here we are.,  ,Can you read the sigils?,  ,Yellow balls?,  ,Wild lemons on a purple field,,  ,House Dalt of Lemonwood.,  ,A vulture grasping a baby inits talons, House Blackmont.,  ,A crowned skull,the Manwoodys of Kingsgrave.,  ,Boy knows his Dornish Houses.,  ,I need a sigil.,  ,And House Martell, a redsun pierced by a spear?,  ,I don't see it, my lord.,  ,Well met, my lords.\",\n",
       " \"His Grace KingJoffrey welcomes you in his name.,  ,My lord father, the King's Hand,sends his greetings as well.,  ,I am Tyrion Lannisterof Casterly Rock,,  ,Master of Coin.,  ,Forgive me.\",\n",
       " \"I don't seePrince Doran in your company.,  ,The prince's health forceshim to remain at Sunspear.,  ,He sends his brotherPrince Oberyn,  ,to attend the royalwedding in his stead.,  ,Yes, the king will be delightedto enjoy the company,  ,of a warrior as renowned as PrinceOberyn at his wedding feast.,  ,Will he?,  ,And where is Prince Oberyn?,  ,Arrived before dawn.,  ,Not a man for welcome parties,,  ,our prince.,  ,Very well.\",\n",
       " \"My lords, thesefine men from the City Watch,  ,will escort you to yourquarters in the Red Keep.,  ,You must be wearyafter such a long journey.,  ,Some accomplisheddiplomacy that was.,  ,Now where?,  ,We must find Prince Oberyn before hekills somebody or several somebodies.,  ,How do you plan on finding a singleDornishman in a city this big?,  ,You're famous for fuckinghalf of Westeros.,  ,You just arrived at the capitalafter two weeks of bad roads,,  ,where would you go?,  ,I'd probably go to sleep,but I'm getting old.,  ,Look at this one.,  ,How lovely is she?,  ,Beautiful.,  ,But pale.,  ,They like them palein the capital.,  ,Shows they don'twork the fields.,  ,Do I frighten you?,  ,You like?,  ,Timid.Timid bores me.,  ,You're a bit of mischief,aren't you?,  ,I think she likes you.,  ,She has good taste.,  ,You're not timid, are you?,  ,Not timid.,  ,Do you like women?,  ,When they looklike her, my lord.,  ,This one will do nicely.,  ,Very good, my lady.,  ,Oh, I'm not a lady.,  ,A term of courtesyin this establishment.,  ,A lie anywhere.,  ,Why not use the right words?,  ,I'm a bastard.,  ,She is a whore.And you're what?,  ,A procurer.,  ,Any of the others?,  ,The two girls can leave.,  ,You stay.,  ,I'm afraid I'm notan offer, my lord.,  ,Everyone who works forLittlefinger is an offer.,  ,Take off your clothes.We'll be here a while.,  , My lord.\",\n",
       " ...]"
      ]
     },
     "execution_count": 15,
     "metadata": {},
     "output_type": "execute_result"
    }
   ],
   "source": [
    "corpus2"
   ]
  },
  {
   "cell_type": "code",
   "execution_count": 16,
   "metadata": {
    "collapsed": true
   },
   "outputs": [],
   "source": [
    "total_corpus = corpus + corpus2"
   ]
  },
  {
   "cell_type": "code",
   "execution_count": 17,
   "metadata": {},
   "outputs": [
    {
     "data": {
      "text/plain": [
       "list"
      ]
     },
     "execution_count": 17,
     "metadata": {},
     "output_type": "execute_result"
    }
   ],
   "source": [
    "type(total_corpus)"
   ]
  },
  {
   "cell_type": "code",
   "execution_count": 18,
   "metadata": {
    "scrolled": true
   },
   "outputs": [
    {
     "data": {
      "text/plain": [
       "10014"
      ]
     },
     "execution_count": 18,
     "metadata": {},
     "output_type": "execute_result"
    }
   ],
   "source": [
    "len(total_corpus)"
   ]
  },
  {
   "cell_type": "markdown",
   "metadata": {},
   "source": [
    "## Word2Vec and Cosine Similarity"
   ]
  },
  {
   "cell_type": "markdown",
   "metadata": {},
   "source": [
    "### Character Corpora"
   ]
  },
  {
   "cell_type": "code",
   "execution_count": 19,
   "metadata": {
    "collapsed": true
   },
   "outputs": [],
   "source": [
    "#corpus"
   ]
  },
  {
   "cell_type": "code",
   "execution_count": 20,
   "metadata": {
    "collapsed": true
   },
   "outputs": [],
   "source": [
    "from collections import defaultdict\n",
    "\n",
    "characters = defaultdict(list)\n",
    "for sentence in corpus:\n",
    "    characters[sentence.split(':')[0]].append(sentence.split(':')[1])\n",
    "\n",
    "#characters"
   ]
  },
  {
   "cell_type": "code",
   "execution_count": 21,
   "metadata": {
    "collapsed": true
   },
   "outputs": [],
   "source": [
    "S1_Names = ['Arya Stark', 'Cersei Baratheon', 'Daenerys Targaryen', 'Sansa Stark', 'Jaime Lannister', 'Jon Snow', 'Tyrion Lannister']\n",
    "\n",
    "S5_Names = ['ARYA', 'CERSEI', 'DAENERYS', 'SANSA', 'JAIME', 'JON', 'TYRION']\n",
    "\n",
    "S6_Names = ['ARYA', 'CERSEI', 'DAENERYS', 'SANSA', 'JAIME', 'JON SNOW', 'TYRION']\n",
    "\n",
    "S7_Names = ['ARYA', 'CERSEI', 'DAENERYS', 'SANSA', 'JAIME', 'JON', 'TYRION']"
   ]
  },
  {
   "cell_type": "code",
   "execution_count": 22,
   "metadata": {
    "collapsed": true
   },
   "outputs": [],
   "source": [
    "from collections import defaultdict\n",
    "\n",
    "season_one_text = defaultdict(list)\n",
    "for sentence in season_one:\n",
    "    if sentence.split(':')[0] in (S1_Names):\n",
    "        season_one_text[sentence.split(':')[0]].append(sentence.split(':')[1])\n",
    "\n",
    "season_five_text = defaultdict(list)\n",
    "for sentence in season_five:\n",
    "    if sentence.split(':')[0] in (S5_Names):\n",
    "        season_five_text[sentence.split(':')[0]].append(sentence.split(':')[1])\n",
    "\n",
    "season_six_text = defaultdict(list)\n",
    "for sentence in season_six:\n",
    "    if sentence.split(':')[0] in (S6_Names):\n",
    "        season_six_text[sentence.split(':')[0]].append(sentence.split(':')[1])\n",
    "\n",
    "season_seven_text = defaultdict(list)\n",
    "for sentence in season_seven:\n",
    "    if sentence.split(':')[0] in (S7_Names):\n",
    "        season_seven_text[sentence.split(':')[0]].append(sentence.split(':')[1])"
   ]
  },
  {
   "cell_type": "code",
   "execution_count": 23,
   "metadata": {
    "collapsed": true
   },
   "outputs": [],
   "source": [
    "#Arya\n",
    "AryaS1 = season_one_text['Arya Stark']\n",
    "AryaS5 = season_five_text['ARYA']\n",
    "AryaS6 = season_six_text['ARYA']\n",
    "AryaS7 = season_seven_text['ARYA']"
   ]
  },
  {
   "cell_type": "code",
   "execution_count": 24,
   "metadata": {
    "collapsed": true
   },
   "outputs": [],
   "source": [
    "#Cersei\n",
    "CerseiS1 = season_one_text['Cersei Baratheon']\n",
    "CerseiS5 = season_five_text['CERSEI']\n",
    "CerseiS6 = season_six_text['CERSEI']\n",
    "CerseiS7 = season_seven_text['CERSEI']"
   ]
  },
  {
   "cell_type": "code",
   "execution_count": 25,
   "metadata": {
    "collapsed": true
   },
   "outputs": [],
   "source": [
    "#Daenerys\n",
    "DaenerysS1 = season_one_text['Daenerys Targaryen']\n",
    "DaenerysS5 = season_five_text['DAENERYS']\n",
    "DaenerysS6 = season_six_text['DAENERYS']\n",
    "DaenerysS7 = season_seven_text['DAENERYS']"
   ]
  },
  {
   "cell_type": "code",
   "execution_count": 26,
   "metadata": {
    "collapsed": true
   },
   "outputs": [],
   "source": [
    "#Sansa\n",
    "SansaS1 = season_one_text['Sansa Stark']\n",
    "SansaS5 = season_five_text['SANSA']\n",
    "SansaS6 = season_six_text['SANSA']\n",
    "SansaS7 = season_seven_text['SANSA']"
   ]
  },
  {
   "cell_type": "code",
   "execution_count": 27,
   "metadata": {
    "collapsed": true
   },
   "outputs": [],
   "source": [
    "#Jaime\n",
    "JaimeS1 = season_one_text['Jaime Lannister']\n",
    "JaimeS5 = season_five_text['JAIME']\n",
    "JaimeS6 = season_six_text['JAIME']\n",
    "JaimeS7 = season_seven_text['JAIME']"
   ]
  },
  {
   "cell_type": "code",
   "execution_count": 28,
   "metadata": {
    "collapsed": true
   },
   "outputs": [],
   "source": [
    "#Jon\n",
    "JonS1 = season_one_text['Jon Snow']\n",
    "JonS5 = season_five_text['JON']\n",
    "JonS6 = season_six_text['JON SNOW']\n",
    "JonS7 = season_seven_text['JON']"
   ]
  },
  {
   "cell_type": "code",
   "execution_count": 29,
   "metadata": {
    "collapsed": true
   },
   "outputs": [],
   "source": [
    "#Tyrion\n",
    "TyrionS1 = season_one_text['Tyrion Lannister']\n",
    "TyrionS5 = season_five_text['TYRION']\n",
    "TyrionS6 = season_six_text['TYRION']\n",
    "TyrionS7 = season_seven_text['TYRION']"
   ]
  },
  {
   "cell_type": "code",
   "execution_count": 30,
   "metadata": {
    "collapsed": true,
    "scrolled": true
   },
   "outputs": [],
   "source": [
    "season_one_dialogue = pd.DataFrame.from_dict(season_one_text, orient=\"index\")\n",
    "season_five_dialogue = pd.DataFrame.from_dict(season_five_text, orient=\"index\")\n",
    "season_six_dialogue = pd.DataFrame.from_dict(season_six_text, orient=\"index\")\n",
    "season_seven_dialogue = pd.DataFrame.from_dict(season_seven_text, orient=\"index\")"
   ]
  },
  {
   "cell_type": "code",
   "execution_count": 31,
   "metadata": {
    "collapsed": true
   },
   "outputs": [],
   "source": [
    "season_one_dict = {'Daenerys Targaryen':'DAENERYS', 'Cersei Baratheon':'CERSEI', 'Arya Stark':'ARYA',\n",
    "       'Tyrion Lannister':'TYRION', 'Sansa Stark':'SANSA', 'Jon Snow':'JON', 'Jaime Lannister':'JAIME'}\n",
    "\n",
    "season_six_dict ={'SANSA':'SANSA', 'CERSEI':'CERSEI', 'JAIME':'JAIME', 'TYRION':'TYRION', 'DAENERYS':'DAENERYS', \n",
    "       'ARYA':'ARYA', 'JON SNOW':'JON'}"
   ]
  },
  {
   "cell_type": "code",
   "execution_count": 32,
   "metadata": {
    "collapsed": true,
    "scrolled": true
   },
   "outputs": [],
   "source": [
    "season_one_dialogue = season_one_dialogue.reset_index()\n",
    "season_six_dialogue = season_six_dialogue.reset_index()"
   ]
  },
  {
   "cell_type": "code",
   "execution_count": 33,
   "metadata": {
    "collapsed": true
   },
   "outputs": [],
   "source": [
    "season_one_dialogue['index'] = season_one_dialogue['index'].replace(season_one_dict)\n",
    "season_six_dialogue['index'] = season_six_dialogue['index'].replace(season_six_dict)"
   ]
  },
  {
   "cell_type": "code",
   "execution_count": 34,
   "metadata": {
    "collapsed": true
   },
   "outputs": [],
   "source": [
    "season_one_dialogue = season_one_dialogue.set_index('index')\n",
    "season_six_dialogue = season_six_dialogue.set_index('index')"
   ]
  },
  {
   "cell_type": "code",
   "execution_count": 35,
   "metadata": {
    "collapsed": true
   },
   "outputs": [],
   "source": [
    "season_one_dialogue.fillna(value=str(0), inplace=True)\n",
    "season_five_dialogue.fillna(value=str(0), inplace=True)\n",
    "season_six_dialogue.fillna(value=str(0), inplace=True)\n",
    "season_seven_dialogue.fillna(value=str(0), inplace=True)"
   ]
  },
  {
   "cell_type": "code",
   "execution_count": 36,
   "metadata": {
    "scrolled": true
   },
   "outputs": [
    {
     "data": {
      "text/html": [
       "<div>\n",
       "<table border=\"1\" class=\"dataframe\">\n",
       "  <thead>\n",
       "    <tr style=\"text-align: right;\">\n",
       "      <th></th>\n",
       "      <th>0</th>\n",
       "      <th>1</th>\n",
       "      <th>2</th>\n",
       "      <th>3</th>\n",
       "      <th>4</th>\n",
       "      <th>5</th>\n",
       "      <th>6</th>\n",
       "      <th>7</th>\n",
       "      <th>8</th>\n",
       "      <th>9</th>\n",
       "      <th>...</th>\n",
       "      <th>160</th>\n",
       "      <th>161</th>\n",
       "      <th>162</th>\n",
       "      <th>163</th>\n",
       "      <th>164</th>\n",
       "      <th>165</th>\n",
       "      <th>166</th>\n",
       "      <th>167</th>\n",
       "      <th>168</th>\n",
       "      <th>169</th>\n",
       "    </tr>\n",
       "    <tr>\n",
       "      <th>index</th>\n",
       "      <th></th>\n",
       "      <th></th>\n",
       "      <th></th>\n",
       "      <th></th>\n",
       "      <th></th>\n",
       "      <th></th>\n",
       "      <th></th>\n",
       "      <th></th>\n",
       "      <th></th>\n",
       "      <th></th>\n",
       "      <th></th>\n",
       "      <th></th>\n",
       "      <th></th>\n",
       "      <th></th>\n",
       "      <th></th>\n",
       "      <th></th>\n",
       "      <th></th>\n",
       "      <th></th>\n",
       "      <th></th>\n",
       "      <th></th>\n",
       "      <th></th>\n",
       "    </tr>\n",
       "  </thead>\n",
       "  <tbody>\n",
       "    <tr>\n",
       "      <th>DAENERYS</th>\n",
       "      <td>Isn't there anything else?</td>\n",
       "      <td>Everywhere?</td>\n",
       "      <td>The moon?</td>\n",
       "      <td>Leave me with her.</td>\n",
       "      <td>How old were you?</td>\n",
       "      <td>Nine?!</td>\n",
       "      <td>Can you teach me how to make the Khal happy?</td>\n",
       "      <td>Will it take three years?</td>\n",
       "      <td>Finish a man?</td>\n",
       "      <td>Well, she sounds like an interesting woman.</td>\n",
       "      <td>...</td>\n",
       "      <td>0</td>\n",
       "      <td>0</td>\n",
       "      <td>0</td>\n",
       "      <td>0</td>\n",
       "      <td>0</td>\n",
       "      <td>0</td>\n",
       "      <td>0</td>\n",
       "      <td>0</td>\n",
       "      <td>0</td>\n",
       "      <td>0</td>\n",
       "    </tr>\n",
       "    <tr>\n",
       "      <th>CERSEI</th>\n",
       "      <td>What do you mean?</td>\n",
       "      <td>It's no mercy, letting a child linger in suc...</td>\n",
       "      <td>I still can't believe you're going.</td>\n",
       "      <td>The children don't need to hear your filth.</td>\n",
       "      <td>This is your home.</td>\n",
       "      <td>It was years ago.</td>\n",
       "      <td>How dare you speak to your King in that man...</td>\n",
       "      <td>Your girl and that butcher's boy attacked my...</td>\n",
       "      <td>Joffrey told us what happened.</td>\n",
       "      <td>She's not.</td>\n",
       "      <td>...</td>\n",
       "      <td>0</td>\n",
       "      <td>0</td>\n",
       "      <td>0</td>\n",
       "      <td>0</td>\n",
       "      <td>0</td>\n",
       "      <td>0</td>\n",
       "      <td>0</td>\n",
       "      <td>0</td>\n",
       "      <td>0</td>\n",
       "      <td>0</td>\n",
       "    </tr>\n",
       "    <tr>\n",
       "      <th>ARYA</th>\n",
       "      <td>Watch.</td>\n",
       "      <td>Shut up.</td>\n",
       "      <td>I think so.</td>\n",
       "      <td>I know which end to use.</td>\n",
       "      <td>Sansa can keep her sewing needles.</td>\n",
       "      <td>What are you doing here?</td>\n",
       "      <td>Stop it!</td>\n",
       "      <td>Nymeria!</td>\n",
       "      <td>You've got to go.</td>\n",
       "      <td>Go!</td>\n",
       "      <td>...</td>\n",
       "      <td>0</td>\n",
       "      <td>0</td>\n",
       "      <td>0</td>\n",
       "      <td>0</td>\n",
       "      <td>0</td>\n",
       "      <td>0</td>\n",
       "      <td>0</td>\n",
       "      <td>0</td>\n",
       "      <td>0</td>\n",
       "      <td>0</td>\n",
       "    </tr>\n",
       "    <tr>\n",
       "      <th>TYRION</th>\n",
       "      <td>Before you go, you will call on Lord and Lad...</td>\n",
       "      <td>None.</td>\n",
       "      <td>One word and I'll hit you again.</td>\n",
       "      <td>Go!</td>\n",
       "      <td>Bread.</td>\n",
       "      <td>Beloved siblings.</td>\n",
       "      <td>Apparently not.</td>\n",
       "      <td>The Maester says the boy may live.</td>\n",
       "      <td>Only the gods know for certain.</td>\n",
       "      <td>Where's your sense of wonder?</td>\n",
       "      <td>...</td>\n",
       "      <td>And where are they?</td>\n",
       "      <td>The Stark boy appears to be less green than...</td>\n",
       "      <td>There's your peace.</td>\n",
       "      <td>Half wrong.</td>\n",
       "      <td>And do what?</td>\n",
       "      <td>So it would seem.</td>\n",
       "      <td>No, he said l couldn't take   with me to Ki...</td>\n",
       "      <td>What?</td>\n",
       "      <td>l believe he used the word \"whore\".</td>\n",
       "      <td>My father's probably the most powerful man ...</td>\n",
       "    </tr>\n",
       "    <tr>\n",
       "      <th>SANSA</th>\n",
       "      <td>Practicing for what?</td>\n",
       "      <td>The Hound killed your friend.</td>\n",
       "      <td>You're an idiot.</td>\n",
       "      <td>I haven't played with dolls since I was eight.</td>\n",
       "      <td>What if I only have girls?</td>\n",
       "      <td>Jeyne Poole's mother had five children, all ...</td>\n",
       "      <td>But what if?</td>\n",
       "      <td>And everyone would hate me.</td>\n",
       "      <td>Joffrey does.</td>\n",
       "      <td>Aegon the Conqueror.</td>\n",
       "      <td>...</td>\n",
       "      <td>0</td>\n",
       "      <td>0</td>\n",
       "      <td>0</td>\n",
       "      <td>0</td>\n",
       "      <td>0</td>\n",
       "      <td>0</td>\n",
       "      <td>0</td>\n",
       "      <td>0</td>\n",
       "      <td>0</td>\n",
       "      <td>0</td>\n",
       "    </tr>\n",
       "    <tr>\n",
       "      <th>JON</th>\n",
       "      <td>I already have one.</td>\n",
       "      <td>Of course I have.</td>\n",
       "      <td>It's good you've got help.</td>\n",
       "      <td>Impressive.</td>\n",
       "      <td>You'll have to work at it every day.</td>\n",
       "      <td>First lesson</td>\n",
       "      <td>I'm going to miss you...</td>\n",
       "      <td>I wish I could be here when you wake up.</td>\n",
       "      <td>Why do you read so much?</td>\n",
       "      <td>Is this a trick?</td>\n",
       "      <td>...</td>\n",
       "      <td>0</td>\n",
       "      <td>0</td>\n",
       "      <td>0</td>\n",
       "      <td>0</td>\n",
       "      <td>0</td>\n",
       "      <td>0</td>\n",
       "      <td>0</td>\n",
       "      <td>0</td>\n",
       "      <td>0</td>\n",
       "      <td>0</td>\n",
       "    </tr>\n",
       "    <tr>\n",
       "      <th>JAIME</th>\n",
       "      <td>Little brother.</td>\n",
       "      <td>Tell me you're not thinking of taking the bl...</td>\n",
       "      <td>Good man.</td>\n",
       "      <td>At someone, I mean.</td>\n",
       "      <td>Sturdy old thing.</td>\n",
       "      <td>I know.</td>\n",
       "      <td>Calm down.</td>\n",
       "      <td>I was thinking of us.</td>\n",
       "      <td>Then what are you raving about?</td>\n",
       "      <td>I'll go to war with him if I have to.</td>\n",
       "      <td>...</td>\n",
       "      <td>0</td>\n",
       "      <td>0</td>\n",
       "      <td>0</td>\n",
       "      <td>0</td>\n",
       "      <td>0</td>\n",
       "      <td>0</td>\n",
       "      <td>0</td>\n",
       "      <td>0</td>\n",
       "      <td>0</td>\n",
       "      <td>0</td>\n",
       "    </tr>\n",
       "  </tbody>\n",
       "</table>\n",
       "<p>7 rows × 170 columns</p>\n",
       "</div>"
      ],
      "text/plain": [
       "                                                        0    \\\n",
       "index                                                         \n",
       "DAENERYS                         Isn't there anything else?   \n",
       "CERSEI                                    What do you mean?   \n",
       "ARYA                                                 Watch.   \n",
       "TYRION      Before you go, you will call on Lord and Lad...   \n",
       "SANSA                                  Practicing for what?   \n",
       "JON                                     I already have one.   \n",
       "JAIME                                       Little brother.   \n",
       "\n",
       "                                                        1    \\\n",
       "index                                                         \n",
       "DAENERYS                                        Everywhere?   \n",
       "CERSEI      It's no mercy, letting a child linger in suc...   \n",
       "ARYA                                               Shut up.   \n",
       "TYRION                                                None.   \n",
       "SANSA                         The Hound killed your friend.   \n",
       "JON                                       Of course I have.   \n",
       "JAIME       Tell me you're not thinking of taking the bl...   \n",
       "\n",
       "                                            2    \\\n",
       "index                                             \n",
       "DAENERYS                              The moon?   \n",
       "CERSEI      I still can't believe you're going.   \n",
       "ARYA                                I think so.   \n",
       "TYRION         One word and I'll hit you again.   \n",
       "SANSA                          You're an idiot.   \n",
       "JON                  It's good you've got help.   \n",
       "JAIME                                 Good man.   \n",
       "\n",
       "                                                       3    \\\n",
       "index                                                        \n",
       "DAENERYS                                Leave me with her.   \n",
       "CERSEI         The children don't need to hear your filth.   \n",
       "ARYA                              I know which end to use.   \n",
       "TYRION                                                 Go!   \n",
       "SANSA       I haven't played with dolls since I was eight.   \n",
       "JON                                            Impressive.   \n",
       "JAIME                                  At someone, I mean.   \n",
       "\n",
       "                                              4    \\\n",
       "index                                               \n",
       "DAENERYS                        How old were you?   \n",
       "CERSEI                         This is your home.   \n",
       "ARYA           Sansa can keep her sewing needles.   \n",
       "TYRION                                     Bread.   \n",
       "SANSA                  What if I only have girls?   \n",
       "JON          You'll have to work at it every day.   \n",
       "JAIME                           Sturdy old thing.   \n",
       "\n",
       "                                                        5    \\\n",
       "index                                                         \n",
       "DAENERYS                                             Nine?!   \n",
       "CERSEI                                    It was years ago.   \n",
       "ARYA                               What are you doing here?   \n",
       "TYRION                                    Beloved siblings.   \n",
       "SANSA       Jeyne Poole's mother had five children, all ...   \n",
       "JON                                            First lesson   \n",
       "JAIME                                               I know.   \n",
       "\n",
       "                                                        6    \\\n",
       "index                                                         \n",
       "DAENERYS       Can you teach me how to make the Khal happy?   \n",
       "CERSEI       How dare you speak to your King in that man...   \n",
       "ARYA                                               Stop it!   \n",
       "TYRION                                      Apparently not.   \n",
       "SANSA                                          But what if?   \n",
       "JON                                I'm going to miss you...   \n",
       "JAIME                                            Calm down.   \n",
       "\n",
       "                                                        7    \\\n",
       "index                                                         \n",
       "DAENERYS                          Will it take three years?   \n",
       "CERSEI      Your girl and that butcher's boy attacked my...   \n",
       "ARYA                                               Nymeria!   \n",
       "TYRION                   The Maester says the boy may live.   \n",
       "SANSA                           And everyone would hate me.   \n",
       "JON                I wish I could be here when you wake up.   \n",
       "JAIME                                 I was thinking of us.   \n",
       "\n",
       "                                        8    \\\n",
       "index                                         \n",
       "DAENERYS                      Finish a man?   \n",
       "CERSEI       Joffrey told us what happened.   \n",
       "ARYA                      You've got to go.   \n",
       "TYRION      Only the gods know for certain.   \n",
       "SANSA                         Joffrey does.   \n",
       "JON                Why do you read so much?   \n",
       "JAIME       Then what are you raving about?   \n",
       "\n",
       "                                                     9    \\\n",
       "index                                                      \n",
       "DAENERYS     Well, she sounds like an interesting woman.   \n",
       "CERSEI                                        She's not.   \n",
       "ARYA                                                 Go!   \n",
       "TYRION                     Where's your sense of wonder?   \n",
       "SANSA                               Aegon the Conqueror.   \n",
       "JON                                     Is this a trick?   \n",
       "JAIME              I'll go to war with him if I have to.   \n",
       "\n",
       "                                ...                          \\\n",
       "index                           ...                           \n",
       "DAENERYS                        ...                           \n",
       "CERSEI                          ...                           \n",
       "ARYA                            ...                           \n",
       "TYRION                          ...                           \n",
       "SANSA                           ...                           \n",
       "JON                             ...                           \n",
       "JAIME                           ...                           \n",
       "\n",
       "                             160  \\\n",
       "index                              \n",
       "DAENERYS                       0   \n",
       "CERSEI                         0   \n",
       "ARYA                           0   \n",
       "TYRION       And where are they?   \n",
       "SANSA                          0   \n",
       "JON                            0   \n",
       "JAIME                          0   \n",
       "\n",
       "                                                        161  \\\n",
       "index                                                         \n",
       "DAENERYS                                                  0   \n",
       "CERSEI                                                    0   \n",
       "ARYA                                                      0   \n",
       "TYRION       The Stark boy appears to be less green than...   \n",
       "SANSA                                                     0   \n",
       "JON                                                       0   \n",
       "JAIME                                                     0   \n",
       "\n",
       "                             162             163              164  \\\n",
       "index                                                               \n",
       "DAENERYS                       0               0                0   \n",
       "CERSEI                         0               0                0   \n",
       "ARYA                           0               0                0   \n",
       "TYRION       There's your peace.     Half wrong.     And do what?   \n",
       "SANSA                          0               0                0   \n",
       "JON                            0               0                0   \n",
       "JAIME                          0               0                0   \n",
       "\n",
       "                           165  \\\n",
       "index                            \n",
       "DAENERYS                     0   \n",
       "CERSEI                       0   \n",
       "ARYA                         0   \n",
       "TYRION       So it would seem.   \n",
       "SANSA                        0   \n",
       "JON                          0   \n",
       "JAIME                        0   \n",
       "\n",
       "                                                        166       167  \\\n",
       "index                                                                   \n",
       "DAENERYS                                                  0         0   \n",
       "CERSEI                                                    0         0   \n",
       "ARYA                                                      0         0   \n",
       "TYRION       No, he said l couldn't take   with me to Ki...     What?   \n",
       "SANSA                                                     0         0   \n",
       "JON                                                       0         0   \n",
       "JAIME                                                     0         0   \n",
       "\n",
       "                                             168  \\\n",
       "index                                              \n",
       "DAENERYS                                       0   \n",
       "CERSEI                                         0   \n",
       "ARYA                                           0   \n",
       "TYRION       l believe he used the word \"whore\".   \n",
       "SANSA                                          0   \n",
       "JON                                            0   \n",
       "JAIME                                          0   \n",
       "\n",
       "                                                        169  \n",
       "index                                                        \n",
       "DAENERYS                                                  0  \n",
       "CERSEI                                                    0  \n",
       "ARYA                                                      0  \n",
       "TYRION       My father's probably the most powerful man ...  \n",
       "SANSA                                                     0  \n",
       "JON                                                       0  \n",
       "JAIME                                                     0  \n",
       "\n",
       "[7 rows x 170 columns]"
      ]
     },
     "execution_count": 36,
     "metadata": {},
     "output_type": "execute_result"
    }
   ],
   "source": [
    "season_one_dialogue.head(7)"
   ]
  },
  {
   "cell_type": "code",
   "execution_count": 37,
   "metadata": {
    "scrolled": true
   },
   "outputs": [
    {
     "data": {
      "text/html": [
       "<div>\n",
       "<table border=\"1\" class=\"dataframe\">\n",
       "  <thead>\n",
       "    <tr style=\"text-align: right;\">\n",
       "      <th></th>\n",
       "      <th>0</th>\n",
       "      <th>1</th>\n",
       "      <th>2</th>\n",
       "      <th>3</th>\n",
       "      <th>4</th>\n",
       "      <th>5</th>\n",
       "      <th>6</th>\n",
       "      <th>7</th>\n",
       "      <th>8</th>\n",
       "      <th>9</th>\n",
       "      <th>...</th>\n",
       "      <th>144</th>\n",
       "      <th>145</th>\n",
       "      <th>146</th>\n",
       "      <th>147</th>\n",
       "      <th>148</th>\n",
       "      <th>149</th>\n",
       "      <th>150</th>\n",
       "      <th>151</th>\n",
       "      <th>152</th>\n",
       "      <th>153</th>\n",
       "    </tr>\n",
       "  </thead>\n",
       "  <tbody>\n",
       "    <tr>\n",
       "      <th>SANSA</th>\n",
       "      <td>But we’re heading west.</td>\n",
       "      <td>If he wanted to betray us, he already would h...</td>\n",
       "      <td>No.</td>\n",
       "      <td>So where are we going?</td>\n",
       "      <td>Before we left, a maester gave you a raven sc...</td>\n",
       "      <td>My mother used to say, \"dark wings, dark words\".</td>\n",
       "      <td>So it was good news.?</td>\n",
       "      <td>I thought you still mourn the death of my bel...</td>\n",
       "      <td>I'll have some.</td>\n",
       "      <td>I don't see what all the fuss is about.</td>\n",
       "      <td>...</td>\n",
       "      <td>0</td>\n",
       "      <td>0</td>\n",
       "      <td>0</td>\n",
       "      <td>0</td>\n",
       "      <td>0</td>\n",
       "      <td>0</td>\n",
       "      <td>0</td>\n",
       "      <td>0</td>\n",
       "      <td>0</td>\n",
       "      <td>0</td>\n",
       "    </tr>\n",
       "    <tr>\n",
       "      <th>CERSEI</th>\n",
       "      <td>Why not?</td>\n",
       "      <td>You don’t need to be afraid of my father.</td>\n",
       "      <td>Yes.</td>\n",
       "      <td>Of course we should.</td>\n",
       "      <td>They said that you were terrifying.</td>\n",
       "      <td>I know you’re a witch and you can see the fut...</td>\n",
       "      <td>Tell me my future or I’ll have your two bor...</td>\n",
       "      <td>But I will be queen?</td>\n",
       "      <td>They will keep waiting.</td>\n",
       "      <td>They?</td>\n",
       "      <td>...</td>\n",
       "      <td>I do.</td>\n",
       "      <td>A lie.</td>\n",
       "      <td>Trial?</td>\n",
       "      <td>I bow to the wisdom of your High Holiness.</td>\n",
       "      <td>Thank you.</td>\n",
       "      <td>I will, I will.</td>\n",
       "      <td>Am I free to go?</td>\n",
       "      <td>My atonement?</td>\n",
       "      <td>0</td>\n",
       "      <td>0</td>\n",
       "    </tr>\n",
       "    <tr>\n",
       "      <th>JAIME</th>\n",
       "      <td>They’re waiting a night to make sure he’s r...</td>\n",
       "      <td>It’s a threat.</td>\n",
       "      <td>No note.</td>\n",
       "      <td>Softer.</td>\n",
       "      <td>Not so loud.</td>\n",
       "      <td>The world can't know knows she’s   daughter.</td>\n",
       "      <td>If I was the father to any of my children, th...</td>\n",
       "      <td>I’ll make things better.</td>\n",
       "      <td>I’m going to Dorne.</td>\n",
       "      <td>I’m not going to ask him anything.</td>\n",
       "      <td>...</td>\n",
       "      <td>0</td>\n",
       "      <td>0</td>\n",
       "      <td>0</td>\n",
       "      <td>0</td>\n",
       "      <td>0</td>\n",
       "      <td>0</td>\n",
       "      <td>0</td>\n",
       "      <td>0</td>\n",
       "      <td>0</td>\n",
       "      <td>0</td>\n",
       "    </tr>\n",
       "    <tr>\n",
       "      <th>TYRION</th>\n",
       "      <td>I still don’t see why I had to stay in this f...</td>\n",
       "      <td>Do you know what it’s like to stuff your shit...</td>\n",
       "      <td>Pentos?</td>\n",
       "      <td>Much better.</td>\n",
       "      <td>I don’t think I am anymore.</td>\n",
       "      <td>In a box.</td>\n",
       "      <td>CUT TO</td>\n",
       "      <td>Eunuch, the spider, the master of whisperers.</td>\n",
       "      <td>Not for a coward.</td>\n",
       "      <td>You never told me why you set me free.</td>\n",
       "      <td>...</td>\n",
       "      <td>Don’t blame me for your crimes, Mormont.</td>\n",
       "      <td>Fine, fine, I suppose he can join us.</td>\n",
       "      <td>Pardon me?</td>\n",
       "      <td>Not precisely, but I have other skills that’d...</td>\n",
       "      <td>I have fought.</td>\n",
       "      <td>Middling.</td>\n",
       "      <td>And drink.</td>\n",
       "      <td>I suppose there’s no point in asking how you ...</td>\n",
       "      <td>Well, she didn’t execute me, so that’s a prom...</td>\n",
       "      <td>If only I knew someone with a vast network of...</td>\n",
       "    </tr>\n",
       "    <tr>\n",
       "      <th>DAENERYS</th>\n",
       "      <td>They’ve never killed before.</td>\n",
       "      <td>I didn’t conquer them.</td>\n",
       "      <td>Then they will have to learn to see things di...</td>\n",
       "      <td>I want him buried with honor.</td>\n",
       "      <td>Angry snakes lash out.</td>\n",
       "      <td>Good.</td>\n",
       "      <td>Concessions?</td>\n",
       "      <td>I’m not a politician.</td>\n",
       "      <td>I don’t expect the Wise Masters to be happy.</td>\n",
       "      <td>The fighting pits?</td>\n",
       "      <td>...</td>\n",
       "      <td>0</td>\n",
       "      <td>0</td>\n",
       "      <td>0</td>\n",
       "      <td>0</td>\n",
       "      <td>0</td>\n",
       "      <td>0</td>\n",
       "      <td>0</td>\n",
       "      <td>0</td>\n",
       "      <td>0</td>\n",
       "      <td>0</td>\n",
       "    </tr>\n",
       "    <tr>\n",
       "      <th>ARYA</th>\n",
       "      <td>He's just a statue.</td>\n",
       "      <td>Thank you for bringing me.</td>\n",
       "      <td>Valar dohaeris.</td>\n",
       "      <td>Hello.</td>\n",
       "      <td>Jaqen H’ghar gave me this.</td>\n",
       "      <td>Please.</td>\n",
       "      <td>But wait!</td>\n",
       "      <td>You said there was no Jaqen H'ghar here.</td>\n",
       "      <td>Well who are you then?</td>\n",
       "      <td>I've been sweeping this floor for days.</td>\n",
       "      <td>...</td>\n",
       "      <td>0</td>\n",
       "      <td>0</td>\n",
       "      <td>0</td>\n",
       "      <td>0</td>\n",
       "      <td>0</td>\n",
       "      <td>0</td>\n",
       "      <td>0</td>\n",
       "      <td>0</td>\n",
       "      <td>0</td>\n",
       "      <td>0</td>\n",
       "    </tr>\n",
       "    <tr>\n",
       "      <th>JON</th>\n",
       "      <td>If it wasn’t heavy it wouldn’t stop a sword, ...</td>\n",
       "      <td>Come.</td>\n",
       "      <td>Good, good, pivot!</td>\n",
       "      <td>Roose Bolton.</td>\n",
       "      <td>I want a great many things, your grace.</td>\n",
       "      <td>They’re good men.</td>\n",
       "      <td>It’s where she belonged.</td>\n",
       "      <td>They were born on the wrong side of the wall.</td>\n",
       "      <td>The men of the Night’s Watch are sworn to pla...</td>\n",
       "      <td>Your grace, you want the wildlings to march i...</td>\n",
       "      <td>...</td>\n",
       "      <td>0</td>\n",
       "      <td>0</td>\n",
       "      <td>0</td>\n",
       "      <td>0</td>\n",
       "      <td>0</td>\n",
       "      <td>0</td>\n",
       "      <td>0</td>\n",
       "      <td>0</td>\n",
       "      <td>0</td>\n",
       "      <td>0</td>\n",
       "    </tr>\n",
       "  </tbody>\n",
       "</table>\n",
       "<p>7 rows × 154 columns</p>\n",
       "</div>"
      ],
      "text/plain": [
       "                                                        0    \\\n",
       "SANSA                               But we’re heading west.   \n",
       "CERSEI                                             Why not?   \n",
       "JAIME        They’re waiting a night to make sure he’s r...   \n",
       "TYRION     I still don’t see why I had to stay in this f...   \n",
       "DAENERYS                       They’ve never killed before.   \n",
       "ARYA                                    He's just a statue.   \n",
       "JON        If it wasn’t heavy it wouldn’t stop a sword, ...   \n",
       "\n",
       "                                                        1    \\\n",
       "SANSA      If he wanted to betray us, he already would h...   \n",
       "CERSEI            You don’t need to be afraid of my father.   \n",
       "JAIME                                        It’s a threat.   \n",
       "TYRION     Do you know what it’s like to stuff your shit...   \n",
       "DAENERYS                             I didn’t conquer them.   \n",
       "ARYA                             Thank you for bringing me.   \n",
       "JON                                                   Come.   \n",
       "\n",
       "                                                        2    \\\n",
       "SANSA                                                   No.   \n",
       "CERSEI                                                 Yes.   \n",
       "JAIME                                              No note.   \n",
       "TYRION                                              Pentos?   \n",
       "DAENERYS   Then they will have to learn to see things di...   \n",
       "ARYA                                        Valar dohaeris.   \n",
       "JON                                      Good, good, pivot!   \n",
       "\n",
       "                                     3    \\\n",
       "SANSA             So where are we going?   \n",
       "CERSEI              Of course we should.   \n",
       "JAIME                            Softer.   \n",
       "TYRION                      Much better.   \n",
       "DAENERYS   I want him buried with honor.   \n",
       "ARYA                              Hello.   \n",
       "JON                        Roose Bolton.   \n",
       "\n",
       "                                                        4    \\\n",
       "SANSA      Before we left, a maester gave you a raven sc...   \n",
       "CERSEI                  They said that you were terrifying.   \n",
       "JAIME                                          Not so loud.   \n",
       "TYRION                          I don’t think I am anymore.   \n",
       "DAENERYS                             Angry snakes lash out.   \n",
       "ARYA                             Jaqen H’ghar gave me this.   \n",
       "JON                 I want a great many things, your grace.   \n",
       "\n",
       "                                                        5    \\\n",
       "SANSA      My mother used to say, \"dark wings, dark words\".   \n",
       "CERSEI     I know you’re a witch and you can see the fut...   \n",
       "JAIME          The world can't know knows she’s   daughter.   \n",
       "TYRION                                            In a box.   \n",
       "DAENERYS                                              Good.   \n",
       "ARYA                                                Please.   \n",
       "JON                                       They’re good men.   \n",
       "\n",
       "                                                        6    \\\n",
       "SANSA                                 So it was good news.?   \n",
       "CERSEI       Tell me my future or I’ll have your two bor...   \n",
       "JAIME      If I was the father to any of my children, th...   \n",
       "TYRION                                               CUT TO   \n",
       "DAENERYS                                       Concessions?   \n",
       "ARYA                                              But wait!   \n",
       "JON                                It’s where she belonged.   \n",
       "\n",
       "                                                        7    \\\n",
       "SANSA      I thought you still mourn the death of my bel...   \n",
       "CERSEI                                 But I will be queen?   \n",
       "JAIME                              I’ll make things better.   \n",
       "TYRION        Eunuch, the spider, the master of whisperers.   \n",
       "DAENERYS                              I’m not a politician.   \n",
       "ARYA               You said there was no Jaqen H'ghar here.   \n",
       "JON           They were born on the wrong side of the wall.   \n",
       "\n",
       "                                                        8    \\\n",
       "SANSA                                       I'll have some.   \n",
       "CERSEI                              They will keep waiting.   \n",
       "JAIME                                   I’m going to Dorne.   \n",
       "TYRION                                    Not for a coward.   \n",
       "DAENERYS       I don’t expect the Wise Masters to be happy.   \n",
       "ARYA                                 Well who are you then?   \n",
       "JON        The men of the Night’s Watch are sworn to pla...   \n",
       "\n",
       "                                                        9    \\\n",
       "SANSA               I don't see what all the fuss is about.   \n",
       "CERSEI                                                They?   \n",
       "JAIME                    I’m not going to ask him anything.   \n",
       "TYRION               You never told me why you set me free.   \n",
       "DAENERYS                                 The fighting pits?   \n",
       "ARYA                I've been sweeping this floor for days.   \n",
       "JON        Your grace, you want the wildlings to march i...   \n",
       "\n",
       "                                ...                          \\\n",
       "SANSA                           ...                           \n",
       "CERSEI                          ...                           \n",
       "JAIME                           ...                           \n",
       "TYRION                          ...                           \n",
       "DAENERYS                        ...                           \n",
       "ARYA                            ...                           \n",
       "JON                             ...                           \n",
       "\n",
       "                                                144  \\\n",
       "SANSA                                             0   \n",
       "CERSEI                                        I do.   \n",
       "JAIME                                             0   \n",
       "TYRION     Don’t blame me for your crimes, Mormont.   \n",
       "DAENERYS                                          0   \n",
       "ARYA                                              0   \n",
       "JON                                               0   \n",
       "\n",
       "                                             145          146  \\\n",
       "SANSA                                          0            0   \n",
       "CERSEI                                    A lie.       Trial?   \n",
       "JAIME                                          0            0   \n",
       "TYRION     Fine, fine, I suppose he can join us.   Pardon me?   \n",
       "DAENERYS                                       0            0   \n",
       "ARYA                                           0            0   \n",
       "JON                                            0            0   \n",
       "\n",
       "                                                        147              148  \\\n",
       "SANSA                                                     0                0   \n",
       "CERSEI           I bow to the wisdom of your High Holiness.       Thank you.   \n",
       "JAIME                                                     0                0   \n",
       "TYRION     Not precisely, but I have other skills that’d...   I have fought.   \n",
       "DAENERYS                                                  0                0   \n",
       "ARYA                                                      0                0   \n",
       "JON                                                       0                0   \n",
       "\n",
       "                       149                150  \\\n",
       "SANSA                    0                  0   \n",
       "CERSEI     I will, I will.   Am I free to go?   \n",
       "JAIME                    0                  0   \n",
       "TYRION           Middling.         And drink.   \n",
       "DAENERYS                 0                  0   \n",
       "ARYA                     0                  0   \n",
       "JON                      0                  0   \n",
       "\n",
       "                                                        151  \\\n",
       "SANSA                                                     0   \n",
       "CERSEI                                        My atonement?   \n",
       "JAIME                                                     0   \n",
       "TYRION     I suppose there’s no point in asking how you ...   \n",
       "DAENERYS                                                  0   \n",
       "ARYA                                                      0   \n",
       "JON                                                       0   \n",
       "\n",
       "                                                        152  \\\n",
       "SANSA                                                     0   \n",
       "CERSEI                                                    0   \n",
       "JAIME                                                     0   \n",
       "TYRION     Well, she didn’t execute me, so that’s a prom...   \n",
       "DAENERYS                                                  0   \n",
       "ARYA                                                      0   \n",
       "JON                                                       0   \n",
       "\n",
       "                                                        153  \n",
       "SANSA                                                     0  \n",
       "CERSEI                                                    0  \n",
       "JAIME                                                     0  \n",
       "TYRION     If only I knew someone with a vast network of...  \n",
       "DAENERYS                                                  0  \n",
       "ARYA                                                      0  \n",
       "JON                                                       0  \n",
       "\n",
       "[7 rows x 154 columns]"
      ]
     },
     "execution_count": 37,
     "metadata": {},
     "output_type": "execute_result"
    }
   ],
   "source": [
    "season_five_dialogue.head(7)"
   ]
  },
  {
   "cell_type": "code",
   "execution_count": 38,
   "metadata": {
    "scrolled": true
   },
   "outputs": [
    {
     "data": {
      "text/html": [
       "<div>\n",
       "<table border=\"1\" class=\"dataframe\">\n",
       "  <thead>\n",
       "    <tr style=\"text-align: right;\">\n",
       "      <th></th>\n",
       "      <th>0</th>\n",
       "      <th>1</th>\n",
       "      <th>2</th>\n",
       "      <th>3</th>\n",
       "      <th>4</th>\n",
       "      <th>5</th>\n",
       "      <th>6</th>\n",
       "      <th>7</th>\n",
       "      <th>8</th>\n",
       "      <th>9</th>\n",
       "      <th>...</th>\n",
       "      <th>78</th>\n",
       "      <th>79</th>\n",
       "      <th>80</th>\n",
       "      <th>81</th>\n",
       "      <th>82</th>\n",
       "      <th>83</th>\n",
       "      <th>84</th>\n",
       "      <th>85</th>\n",
       "      <th>86</th>\n",
       "      <th>87</th>\n",
       "    </tr>\n",
       "    <tr>\n",
       "      <th>index</th>\n",
       "      <th></th>\n",
       "      <th></th>\n",
       "      <th></th>\n",
       "      <th></th>\n",
       "      <th></th>\n",
       "      <th></th>\n",
       "      <th></th>\n",
       "      <th></th>\n",
       "      <th></th>\n",
       "      <th></th>\n",
       "      <th></th>\n",
       "      <th></th>\n",
       "      <th></th>\n",
       "      <th></th>\n",
       "      <th></th>\n",
       "      <th></th>\n",
       "      <th></th>\n",
       "      <th></th>\n",
       "      <th></th>\n",
       "      <th></th>\n",
       "      <th></th>\n",
       "    </tr>\n",
       "  </thead>\n",
       "  <tbody>\n",
       "    <tr>\n",
       "      <th>SANSA</th>\n",
       "      <td>Where will you go?</td>\n",
       "      <td>Mmm    JON SNOW</td>\n",
       "      <td>I spent a lot of time thinking about what as ...</td>\n",
       "      <td>We’ll take it back from them    JON SNOW</td>\n",
       "      <td>That’s all right.</td>\n",
       "      <td>Go on.</td>\n",
       "      <td>\"You will watch as my soldiers take turns rap...</td>\n",
       "      <td>His father's dead.</td>\n",
       "      <td>Yes, we do.</td>\n",
       "      <td>I heard him say 5,000 once when he was talkin...</td>\n",
       "      <td>...</td>\n",
       "      <td>I was wrong.</td>\n",
       "      <td>It’s a pretty picture.</td>\n",
       "      <td>You’ve declared for other houses before, Lord...</td>\n",
       "      <td>0</td>\n",
       "      <td>0</td>\n",
       "      <td>0</td>\n",
       "      <td>0</td>\n",
       "      <td>0</td>\n",
       "      <td>0</td>\n",
       "      <td>0</td>\n",
       "    </tr>\n",
       "    <tr>\n",
       "      <th>CERSEI</th>\n",
       "      <td>I think about locking Myrcella in a crypt   ...</td>\n",
       "      <td>Not yet    JAIME</td>\n",
       "      <td>What are you doing here?</td>\n",
       "      <td>Since I’ve missed the past several Small Couc...</td>\n",
       "      <td>As have we all, unfortunately.</td>\n",
       "      <td>Look at me.</td>\n",
       "      <td>It’s all right.</td>\n",
       "      <td>Whether I like her or not is completely unimp...</td>\n",
       "      <td>You’ve spoken with him?</td>\n",
       "      <td>You once spoke of your respect for our father...</td>\n",
       "      <td>...</td>\n",
       "      <td>0</td>\n",
       "      <td>0</td>\n",
       "      <td>0</td>\n",
       "      <td>0</td>\n",
       "      <td>0</td>\n",
       "      <td>0</td>\n",
       "      <td>0</td>\n",
       "      <td>0</td>\n",
       "      <td>0</td>\n",
       "      <td>0</td>\n",
       "    </tr>\n",
       "    <tr>\n",
       "      <th>JAIME</th>\n",
       "      <td>Mother    CERSEI</td>\n",
       "      <td>We all fail sometimes    TOMMEN</td>\n",
       "      <td>Go and see your mother and ask her to forgive...</td>\n",
       "      <td>I broke a sacred oath and stabbed my king in ...</td>\n",
       "      <td>Oh, the gods won’t mind  They’ve spilled more...</td>\n",
       "      <td>The same women who murdered Myrcella have ove...</td>\n",
       "      <td>Cersei is the mother of the king.</td>\n",
       "      <td>You’ll take no action at all.</td>\n",
       "      <td>My lord.</td>\n",
       "      <td>Sorry to interrupt.</td>\n",
       "      <td>...</td>\n",
       "      <td>Not my type.</td>\n",
       "      <td>Ladies, have you met Ser Bronn of the Blackwa...</td>\n",
       "      <td>There you go.</td>\n",
       "      <td>I’m sure he would be.</td>\n",
       "      <td>Have you done much fighting yourself, Lord Frey?</td>\n",
       "      <td>No, but back in your day.</td>\n",
       "      <td>Yes, you’re a great conqueror.</td>\n",
       "      <td>They don’t fear the Freys, though.</td>\n",
       "      <td>Come on.</td>\n",
       "      <td>0</td>\n",
       "    </tr>\n",
       "    <tr>\n",
       "      <th>TYRION</th>\n",
       "      <td>We’re never going to fix what’s wrong with th...</td>\n",
       "      <td>Hard to know  Our queen is not as popular in ...</td>\n",
       "      <td>Very possibly  Daenerys Targaryen took away t...</td>\n",
       "      <td>It’s a problem        TYRION</td>\n",
       "      <td>Dragons do not do well in captivity    MISSANDEI</td>\n",
       "      <td>That’s what I do  I drink and I know things  ...</td>\n",
       "      <td>They will  It’s time they had their supper   ...</td>\n",
       "      <td>Me  Just now  All right, no conversations  Le...</td>\n",
       "      <td>Possibly    MISSANDEI</td>\n",
       "      <td>It’s a conversation        TYRION</td>\n",
       "      <td>...</td>\n",
       "      <td>The Seven Kingdoms.</td>\n",
       "      <td>What if everyone starts demanding their indep...</td>\n",
       "      <td>I know it was hard for you.</td>\n",
       "      <td>No, I suppose not.</td>\n",
       "      <td>All right, how about the fact that this is ac...</td>\n",
       "      <td>Good.</td>\n",
       "      <td>He wasn’t the first to love you and he won’t ...</td>\n",
       "      <td>For what it’s worth, I’ve been a cynic for as...</td>\n",
       "      <td>I believe in you.</td>\n",
       "      <td>It’s yours.</td>\n",
       "    </tr>\n",
       "    <tr>\n",
       "      <th>DAENERYS</th>\n",
       "      <td>I will not lie with you  And I will bear no c...</td>\n",
       "      <td>Mm-hmm    LHAZAREEN WOMAN</td>\n",
       "      <td>They do  Would you like to see them one day?</td>\n",
       "      <td>Don’t you want to know what I think?</td>\n",
       "      <td>No.</td>\n",
       "      <td>I know where I am.</td>\n",
       "      <td>This is where Drogo promised to take his khal...</td>\n",
       "      <td>And here, now, what great matters do the Grea...</td>\n",
       "      <td>You’re not going to serve.</td>\n",
       "      <td>Is there a cure?</td>\n",
       "      <td>...</td>\n",
       "      <td>0</td>\n",
       "      <td>0</td>\n",
       "      <td>0</td>\n",
       "      <td>0</td>\n",
       "      <td>0</td>\n",
       "      <td>0</td>\n",
       "      <td>0</td>\n",
       "      <td>0</td>\n",
       "      <td>0</td>\n",
       "      <td>0</td>\n",
       "    </tr>\n",
       "    <tr>\n",
       "      <th>ARYA</th>\n",
       "      <td>No one    WAIF</td>\n",
       "      <td>No one    JAQEN</td>\n",
       "      <td>No one     EXT.</td>\n",
       "      <td>Who was the first?</td>\n",
       "      <td>Where did they go?</td>\n",
       "      <td>A girl has no desires.</td>\n",
       "      <td>Who?</td>\n",
       "      <td>If a girl could use one of the faces from the...</td>\n",
       "      <td>She’s a good actress.</td>\n",
       "      <td>Seems like a decent woman.</td>\n",
       "      <td>...</td>\n",
       "      <td>0</td>\n",
       "      <td>0</td>\n",
       "      <td>0</td>\n",
       "      <td>0</td>\n",
       "      <td>0</td>\n",
       "      <td>0</td>\n",
       "      <td>0</td>\n",
       "      <td>0</td>\n",
       "      <td>0</td>\n",
       "      <td>0</td>\n",
       "    </tr>\n",
       "    <tr>\n",
       "      <th>JON</th>\n",
       "      <td>They stabbed me  Olly...he put a knife in my ...</td>\n",
       "      <td>I think so  Hold off on burning my body for n...</td>\n",
       "      <td>Wear it  Burn it  Whatever you want  You have...</td>\n",
       "      <td>South    DOLOROUS EDD</td>\n",
       "      <td>Get warm        DOLOROUS EDD</td>\n",
       "      <td>I did everything I could  You know that    DO...</td>\n",
       "      <td>With the peas and onions?</td>\n",
       "      <td>There’s nothing to forgive    SANSA</td>\n",
       "      <td>Where will we go?</td>\n",
       "      <td>I can’t stay here, not after what happened   ...</td>\n",
       "      <td>...</td>\n",
       "      <td>0</td>\n",
       "      <td>0</td>\n",
       "      <td>0</td>\n",
       "      <td>0</td>\n",
       "      <td>0</td>\n",
       "      <td>0</td>\n",
       "      <td>0</td>\n",
       "      <td>0</td>\n",
       "      <td>0</td>\n",
       "      <td>0</td>\n",
       "    </tr>\n",
       "  </tbody>\n",
       "</table>\n",
       "<p>7 rows × 88 columns</p>\n",
       "</div>"
      ],
      "text/plain": [
       "                                                         0   \\\n",
       "index                                                         \n",
       "SANSA                                    Where will you go?   \n",
       "CERSEI      I think about locking Myrcella in a crypt   ...   \n",
       "JAIME                                      Mother    CERSEI   \n",
       "TYRION     We’re never going to fix what’s wrong with th...   \n",
       "DAENERYS   I will not lie with you  And I will bear no c...   \n",
       "ARYA                                         No one    WAIF   \n",
       "JON        They stabbed me  Olly...he put a knife in my ...   \n",
       "\n",
       "                                                         1   \\\n",
       "index                                                         \n",
       "SANSA                                       Mmm    JON SNOW   \n",
       "CERSEI                                     Not yet    JAIME   \n",
       "JAIME                       We all fail sometimes    TOMMEN   \n",
       "TYRION     Hard to know  Our queen is not as popular in ...   \n",
       "DAENERYS                          Mm-hmm    LHAZAREEN WOMAN   \n",
       "ARYA                                        No one    JAQEN   \n",
       "JON        I think so  Hold off on burning my body for n...   \n",
       "\n",
       "                                                         2   \\\n",
       "index                                                         \n",
       "SANSA      I spent a lot of time thinking about what as ...   \n",
       "CERSEI                             What are you doing here?   \n",
       "JAIME      Go and see your mother and ask her to forgive...   \n",
       "TYRION     Very possibly  Daenerys Targaryen took away t...   \n",
       "DAENERYS       They do  Would you like to see them one day?   \n",
       "ARYA                                        No one     EXT.   \n",
       "JON        Wear it  Burn it  Whatever you want  You have...   \n",
       "\n",
       "                                                         3   \\\n",
       "index                                                         \n",
       "SANSA              We’ll take it back from them    JON SNOW   \n",
       "CERSEI     Since I’ve missed the past several Small Couc...   \n",
       "JAIME      I broke a sacred oath and stabbed my king in ...   \n",
       "TYRION                         It’s a problem        TYRION   \n",
       "DAENERYS               Don’t you want to know what I think?   \n",
       "ARYA                                     Who was the first?   \n",
       "JON                                   South    DOLOROUS EDD   \n",
       "\n",
       "                                                         4   \\\n",
       "index                                                         \n",
       "SANSA                                     That’s all right.   \n",
       "CERSEI                       As have we all, unfortunately.   \n",
       "JAIME      Oh, the gods won’t mind  They’ve spilled more...   \n",
       "TYRION     Dragons do not do well in captivity    MISSANDEI   \n",
       "DAENERYS                                                No.   \n",
       "ARYA                                     Where did they go?   \n",
       "JON                            Get warm        DOLOROUS EDD   \n",
       "\n",
       "                                                         5   \\\n",
       "index                                                         \n",
       "SANSA                                                Go on.   \n",
       "CERSEI                                          Look at me.   \n",
       "JAIME      The same women who murdered Myrcella have ove...   \n",
       "TYRION     That’s what I do  I drink and I know things  ...   \n",
       "DAENERYS                                 I know where I am.   \n",
       "ARYA                                 A girl has no desires.   \n",
       "JON        I did everything I could  You know that    DO...   \n",
       "\n",
       "                                                         6   \\\n",
       "index                                                         \n",
       "SANSA      \"You will watch as my soldiers take turns rap...   \n",
       "CERSEI                                      It’s all right.   \n",
       "JAIME                     Cersei is the mother of the king.   \n",
       "TYRION     They will  It’s time they had their supper   ...   \n",
       "DAENERYS   This is where Drogo promised to take his khal...   \n",
       "ARYA                                                   Who?   \n",
       "JON                               With the peas and onions?   \n",
       "\n",
       "                                                         7   \\\n",
       "index                                                         \n",
       "SANSA                                    His father's dead.   \n",
       "CERSEI     Whether I like her or not is completely unimp...   \n",
       "JAIME                         You’ll take no action at all.   \n",
       "TYRION     Me  Just now  All right, no conversations  Le...   \n",
       "DAENERYS   And here, now, what great matters do the Grea...   \n",
       "ARYA       If a girl could use one of the faces from the...   \n",
       "JON                     There’s nothing to forgive    SANSA   \n",
       "\n",
       "                                   8   \\\n",
       "index                                   \n",
       "SANSA                     Yes, we do.   \n",
       "CERSEI        You’ve spoken with him?   \n",
       "JAIME                        My lord.   \n",
       "TYRION          Possibly    MISSANDEI   \n",
       "DAENERYS   You’re not going to serve.   \n",
       "ARYA            She’s a good actress.   \n",
       "JON                 Where will we go?   \n",
       "\n",
       "                                                         9       ...       \\\n",
       "index                                                            ...        \n",
       "SANSA      I heard him say 5,000 once when he was talkin...      ...        \n",
       "CERSEI     You once spoke of your respect for our father...      ...        \n",
       "JAIME                                   Sorry to interrupt.      ...        \n",
       "TYRION                    It’s a conversation        TYRION      ...        \n",
       "DAENERYS                                   Is there a cure?      ...        \n",
       "ARYA                             Seems like a decent woman.      ...        \n",
       "JON        I can’t stay here, not after what happened   ...      ...        \n",
       "\n",
       "                            78  \\\n",
       "index                            \n",
       "SANSA             I was wrong.   \n",
       "CERSEI                       0   \n",
       "JAIME             Not my type.   \n",
       "TYRION     The Seven Kingdoms.   \n",
       "DAENERYS                     0   \n",
       "ARYA                         0   \n",
       "JON                          0   \n",
       "\n",
       "                                                         79  \\\n",
       "index                                                         \n",
       "SANSA                                It’s a pretty picture.   \n",
       "CERSEI                                                    0   \n",
       "JAIME      Ladies, have you met Ser Bronn of the Blackwa...   \n",
       "TYRION     What if everyone starts demanding their indep...   \n",
       "DAENERYS                                                  0   \n",
       "ARYA                                                      0   \n",
       "JON                                                       0   \n",
       "\n",
       "                                                         80  \\\n",
       "index                                                         \n",
       "SANSA      You’ve declared for other houses before, Lord...   \n",
       "CERSEI                                                    0   \n",
       "JAIME                                         There you go.   \n",
       "TYRION                          I know it was hard for you.   \n",
       "DAENERYS                                                  0   \n",
       "ARYA                                                      0   \n",
       "JON                                                       0   \n",
       "\n",
       "                              81  \\\n",
       "index                              \n",
       "SANSA                          0   \n",
       "CERSEI                         0   \n",
       "JAIME      I’m sure he would be.   \n",
       "TYRION        No, I suppose not.   \n",
       "DAENERYS                       0   \n",
       "ARYA                           0   \n",
       "JON                            0   \n",
       "\n",
       "                                                         82  \\\n",
       "index                                                         \n",
       "SANSA                                                     0   \n",
       "CERSEI                                                    0   \n",
       "JAIME      Have you done much fighting yourself, Lord Frey?   \n",
       "TYRION     All right, how about the fact that this is ac...   \n",
       "DAENERYS                                                  0   \n",
       "ARYA                                                      0   \n",
       "JON                                                       0   \n",
       "\n",
       "                                  83  \\\n",
       "index                                  \n",
       "SANSA                              0   \n",
       "CERSEI                             0   \n",
       "JAIME      No, but back in your day.   \n",
       "TYRION                         Good.   \n",
       "DAENERYS                           0   \n",
       "ARYA                               0   \n",
       "JON                                0   \n",
       "\n",
       "                                                         84  \\\n",
       "index                                                         \n",
       "SANSA                                                     0   \n",
       "CERSEI                                                    0   \n",
       "JAIME                        Yes, you’re a great conqueror.   \n",
       "TYRION     He wasn’t the first to love you and he won’t ...   \n",
       "DAENERYS                                                  0   \n",
       "ARYA                                                      0   \n",
       "JON                                                       0   \n",
       "\n",
       "                                                         85  \\\n",
       "index                                                         \n",
       "SANSA                                                     0   \n",
       "CERSEI                                                    0   \n",
       "JAIME                    They don’t fear the Freys, though.   \n",
       "TYRION     For what it’s worth, I’ve been a cynic for as...   \n",
       "DAENERYS                                                  0   \n",
       "ARYA                                                      0   \n",
       "JON                                                       0   \n",
       "\n",
       "                          86            87  \n",
       "index                                       \n",
       "SANSA                      0             0  \n",
       "CERSEI                     0             0  \n",
       "JAIME               Come on.             0  \n",
       "TYRION     I believe in you.   It’s yours.  \n",
       "DAENERYS                   0             0  \n",
       "ARYA                       0             0  \n",
       "JON                        0             0  \n",
       "\n",
       "[7 rows x 88 columns]"
      ]
     },
     "execution_count": 38,
     "metadata": {},
     "output_type": "execute_result"
    }
   ],
   "source": [
    "season_six_dialogue.head(7)"
   ]
  },
  {
   "cell_type": "code",
   "execution_count": 39,
   "metadata": {
    "scrolled": true
   },
   "outputs": [
    {
     "data": {
      "text/html": [
       "<div>\n",
       "<table border=\"1\" class=\"dataframe\">\n",
       "  <thead>\n",
       "    <tr style=\"text-align: right;\">\n",
       "      <th></th>\n",
       "      <th>0</th>\n",
       "      <th>1</th>\n",
       "      <th>2</th>\n",
       "      <th>3</th>\n",
       "      <th>4</th>\n",
       "      <th>5</th>\n",
       "      <th>6</th>\n",
       "      <th>7</th>\n",
       "      <th>8</th>\n",
       "      <th>9</th>\n",
       "      <th>...</th>\n",
       "      <th>183</th>\n",
       "      <th>184</th>\n",
       "      <th>185</th>\n",
       "      <th>186</th>\n",
       "      <th>187</th>\n",
       "      <th>188</th>\n",
       "      <th>189</th>\n",
       "      <th>190</th>\n",
       "      <th>191</th>\n",
       "      <th>192</th>\n",
       "    </tr>\n",
       "  </thead>\n",
       "  <tbody>\n",
       "    <tr>\n",
       "      <th>SANSA</th>\n",
       "      <td>The castles committed no crimes.</td>\n",
       "      <td>And then they broke faith.</td>\n",
       "      <td>So there's no punishment for treason and no r...</td>\n",
       "      <td>They died fighting for Ramsay.</td>\n",
       "      <td>Will you start wearing a crown?</td>\n",
       "      <td>So I can't question your decisions anymore?</td>\n",
       "      <td>You're as far from Joffrey as anyone I've eve...</td>\n",
       "      <td>You're good at this, you know.</td>\n",
       "      <td>At ruling.</td>\n",
       "      <td>You are.</td>\n",
       "      <td>...</td>\n",
       "      <td>0</td>\n",
       "      <td>0</td>\n",
       "      <td>0</td>\n",
       "      <td>0</td>\n",
       "      <td>0</td>\n",
       "      <td>0</td>\n",
       "      <td>0</td>\n",
       "      <td>0</td>\n",
       "      <td>0</td>\n",
       "      <td>0</td>\n",
       "    </tr>\n",
       "    <tr>\n",
       "      <th>CERSEI</th>\n",
       "      <td>Its what we've been waiting for our whole lives.</td>\n",
       "      <td>It's ours now, we just have to take it.</td>\n",
       "      <td>You've been quiet since you came home.</td>\n",
       "      <td>Are you afraid of me?</td>\n",
       "      <td>Daenerys Targaryen has chosen Tyrion to be he...</td>\n",
       "      <td>Enemies to the east.</td>\n",
       "      <td>Enemies to the south--Ellaria Sand and her br...</td>\n",
       "      <td>Enemies to the west--Olenna, the old cunt.</td>\n",
       "      <td>Enemies to the north.</td>\n",
       "      <td>Will the Tyrell bannermen stand alongside a D...</td>\n",
       "      <td>...</td>\n",
       "      <td>0</td>\n",
       "      <td>0</td>\n",
       "      <td>0</td>\n",
       "      <td>0</td>\n",
       "      <td>0</td>\n",
       "      <td>0</td>\n",
       "      <td>0</td>\n",
       "      <td>0</td>\n",
       "      <td>0</td>\n",
       "      <td>0</td>\n",
       "    </tr>\n",
       "    <tr>\n",
       "      <th>JAIME</th>\n",
       "      <td>What is this?</td>\n",
       "      <td>He knew it.</td>\n",
       "      <td>No, not angry.</td>\n",
       "      <td>Should I be?</td>\n",
       "      <td>Dragonstone.</td>\n",
       "      <td>They have deep-water ports for the ships.</td>\n",
       "      <td>Winter is here.</td>\n",
       "      <td>If they think Daenerys will win.</td>\n",
       "      <td>Three kingdoms, at best.</td>\n",
       "      <td>A dynasty for whom?</td>\n",
       "      <td>...</td>\n",
       "      <td>0</td>\n",
       "      <td>0</td>\n",
       "      <td>0</td>\n",
       "      <td>0</td>\n",
       "      <td>0</td>\n",
       "      <td>0</td>\n",
       "      <td>0</td>\n",
       "      <td>0</td>\n",
       "      <td>0</td>\n",
       "      <td>0</td>\n",
       "    </tr>\n",
       "    <tr>\n",
       "      <th>TYRION</th>\n",
       "      <td>We won't stay on Dragonstone for long.</td>\n",
       "      <td>Conquering Westeros would be easy for you.</td>\n",
       "      <td>We can take the Seven Kingdoms without turnin...</td>\n",
       "      <td>Your Grace, when I was ready to drink myself ...</td>\n",
       "      <td>Lord Varys has proven himself a loyal servant.</td>\n",
       "      <td>Doesn't really roll off the tongue, does it?</td>\n",
       "      <td>Jon Snow?</td>\n",
       "      <td>I traveled with him to the Wall when he join...</td>\n",
       "      <td>I can't speak to prophecies or visions in th...</td>\n",
       "      <td>If he does rule the north, he would make a v...</td>\n",
       "      <td>...</td>\n",
       "      <td>0</td>\n",
       "      <td>0</td>\n",
       "      <td>0</td>\n",
       "      <td>0</td>\n",
       "      <td>0</td>\n",
       "      <td>0</td>\n",
       "      <td>0</td>\n",
       "      <td>0</td>\n",
       "      <td>0</td>\n",
       "      <td>0</td>\n",
       "    </tr>\n",
       "    <tr>\n",
       "      <th>DAENERYS</th>\n",
       "      <td>Shall we begin?</td>\n",
       "      <td>I wish I could remember it.</td>\n",
       "      <td>I always thought this would be a homecoming.</td>\n",
       "      <td>Good.</td>\n",
       "      <td>Not so many lions.</td>\n",
       "      <td>People used to tell my brother that sort of t...</td>\n",
       "      <td>If Viserys had three dragons and an army at h...</td>\n",
       "      <td>No.</td>\n",
       "      <td>I never properly thanked you for that.</td>\n",
       "      <td>You served my father, didn't you, Lord Varys?</td>\n",
       "      <td>...</td>\n",
       "      <td>0</td>\n",
       "      <td>0</td>\n",
       "      <td>0</td>\n",
       "      <td>0</td>\n",
       "      <td>0</td>\n",
       "      <td>0</td>\n",
       "      <td>0</td>\n",
       "      <td>0</td>\n",
       "      <td>0</td>\n",
       "      <td>0</td>\n",
       "    </tr>\n",
       "    <tr>\n",
       "      <th>ARYA</th>\n",
       "      <td>When people ask you what happened here, tell ...</td>\n",
       "      <td>That's a pretty song.</td>\n",
       "      <td>I don't want to steal your food.</td>\n",
       "      <td>King's Landing.</td>\n",
       "      <td>Not so bad, is it?</td>\n",
       "      <td>What are you doing in the Riverlands?</td>\n",
       "      <td>Oh, no, I couldn't.</td>\n",
       "      <td>You're a long way from home.</td>\n",
       "      <td>Boy or girl?</td>\n",
       "      <td>Why?</td>\n",
       "      <td>...</td>\n",
       "      <td>0</td>\n",
       "      <td>0</td>\n",
       "      <td>0</td>\n",
       "      <td>0</td>\n",
       "      <td>0</td>\n",
       "      <td>0</td>\n",
       "      <td>0</td>\n",
       "      <td>0</td>\n",
       "      <td>0</td>\n",
       "      <td>0</td>\n",
       "    </tr>\n",
       "    <tr>\n",
       "      <th>JON</th>\n",
       "      <td>I want every northern maester to scour their ...</td>\n",
       "      <td>Not just the boys.</td>\n",
       "      <td>We can't defend the North if only half the po...</td>\n",
       "      <td>While we're preparing for attack, we need to ...</td>\n",
       "      <td>But if we're going to survive this winter tog...</td>\n",
       "      <td>Last time we saw the Night King was at Hardhome.</td>\n",
       "      <td>If they breach the wall, the first two castle...</td>\n",
       "      <td>The Umbers and the Karstarks have fought besi...</td>\n",
       "      <td>I'm not going to strip these families of thei...</td>\n",
       "      <td>The punishment for treason is death.</td>\n",
       "      <td>...</td>\n",
       "      <td>You don't understand.</td>\n",
       "      <td>Fall back!</td>\n",
       "      <td>Go!</td>\n",
       "      <td>Uncle Benjen.</td>\n",
       "      <td>Come with me.</td>\n",
       "      <td>I'm sorry.</td>\n",
       "      <td>Thank you, Dany.</td>\n",
       "      <td>All right.</td>\n",
       "      <td>They'll all come to see you for what you are.</td>\n",
       "      <td>You do.</td>\n",
       "    </tr>\n",
       "  </tbody>\n",
       "</table>\n",
       "<p>7 rows × 193 columns</p>\n",
       "</div>"
      ],
      "text/plain": [
       "                                                        0    \\\n",
       "SANSA                      The castles committed no crimes.   \n",
       "CERSEI     Its what we've been waiting for our whole lives.   \n",
       "JAIME                                         What is this?   \n",
       "TYRION               We won't stay on Dragonstone for long.   \n",
       "DAENERYS                                    Shall we begin?   \n",
       "ARYA       When people ask you what happened here, tell ...   \n",
       "JON        I want every northern maester to scour their ...   \n",
       "\n",
       "                                                  1    \\\n",
       "SANSA                      And then they broke faith.   \n",
       "CERSEI        It's ours now, we just have to take it.   \n",
       "JAIME                                     He knew it.   \n",
       "TYRION     Conquering Westeros would be easy for you.   \n",
       "DAENERYS                  I wish I could remember it.   \n",
       "ARYA                            That's a pretty song.   \n",
       "JON                                Not just the boys.   \n",
       "\n",
       "                                                        2    \\\n",
       "SANSA      So there's no punishment for treason and no r...   \n",
       "CERSEI               You've been quiet since you came home.   \n",
       "JAIME                                        No, not angry.   \n",
       "TYRION     We can take the Seven Kingdoms without turnin...   \n",
       "DAENERYS       I always thought this would be a homecoming.   \n",
       "ARYA                       I don't want to steal your food.   \n",
       "JON        We can't defend the North if only half the po...   \n",
       "\n",
       "                                                        3    \\\n",
       "SANSA                        They died fighting for Ramsay.   \n",
       "CERSEI                                Are you afraid of me?   \n",
       "JAIME                                          Should I be?   \n",
       "TYRION     Your Grace, when I was ready to drink myself ...   \n",
       "DAENERYS                                              Good.   \n",
       "ARYA                                        King's Landing.   \n",
       "JON        While we're preparing for attack, we need to ...   \n",
       "\n",
       "                                                        4    \\\n",
       "SANSA                       Will you start wearing a crown?   \n",
       "CERSEI     Daenerys Targaryen has chosen Tyrion to be he...   \n",
       "JAIME                                          Dragonstone.   \n",
       "TYRION       Lord Varys has proven himself a loyal servant.   \n",
       "DAENERYS                                 Not so many lions.   \n",
       "ARYA                                     Not so bad, is it?   \n",
       "JON        But if we're going to survive this winter tog...   \n",
       "\n",
       "                                                        5    \\\n",
       "SANSA           So I can't question your decisions anymore?   \n",
       "CERSEI                                 Enemies to the east.   \n",
       "JAIME             They have deep-water ports for the ships.   \n",
       "TYRION         Doesn't really roll off the tongue, does it?   \n",
       "DAENERYS   People used to tell my brother that sort of t...   \n",
       "ARYA                  What are you doing in the Riverlands?   \n",
       "JON        Last time we saw the Night King was at Hardhome.   \n",
       "\n",
       "                                                        6    \\\n",
       "SANSA      You're as far from Joffrey as anyone I've eve...   \n",
       "CERSEI     Enemies to the south--Ellaria Sand and her br...   \n",
       "JAIME                                       Winter is here.   \n",
       "TYRION                                            Jon Snow?   \n",
       "DAENERYS   If Viserys had three dragons and an army at h...   \n",
       "ARYA                                    Oh, no, I couldn't.   \n",
       "JON        If they breach the wall, the first two castle...   \n",
       "\n",
       "                                                        7    \\\n",
       "SANSA                        You're good at this, you know.   \n",
       "CERSEI           Enemies to the west--Olenna, the old cunt.   \n",
       "JAIME                      If they think Daenerys will win.   \n",
       "TYRION      I traveled with him to the Wall when he join...   \n",
       "DAENERYS                                                No.   \n",
       "ARYA                           You're a long way from home.   \n",
       "JON        The Umbers and the Karstarks have fought besi...   \n",
       "\n",
       "                                                        8    \\\n",
       "SANSA                                            At ruling.   \n",
       "CERSEI                                Enemies to the north.   \n",
       "JAIME                              Three kingdoms, at best.   \n",
       "TYRION      I can't speak to prophecies or visions in th...   \n",
       "DAENERYS             I never properly thanked you for that.   \n",
       "ARYA                                           Boy or girl?   \n",
       "JON        I'm not going to strip these families of thei...   \n",
       "\n",
       "                                                        9      ...     \\\n",
       "SANSA                                              You are.    ...      \n",
       "CERSEI     Will the Tyrell bannermen stand alongside a D...    ...      \n",
       "JAIME                                   A dynasty for whom?    ...      \n",
       "TYRION      If he does rule the north, he would make a v...    ...      \n",
       "DAENERYS      You served my father, didn't you, Lord Varys?    ...      \n",
       "ARYA                                                   Why?    ...      \n",
       "JON                    The punishment for treason is death.    ...      \n",
       "\n",
       "                             183          184   185             186  \\\n",
       "SANSA                          0            0     0               0   \n",
       "CERSEI                         0            0     0               0   \n",
       "JAIME                          0            0     0               0   \n",
       "TYRION                         0            0     0               0   \n",
       "DAENERYS                       0            0     0               0   \n",
       "ARYA                           0            0     0               0   \n",
       "JON        You don't understand.   Fall back!   Go!   Uncle Benjen.   \n",
       "\n",
       "                     187          188                189          190  \\\n",
       "SANSA                  0            0                  0            0   \n",
       "CERSEI                 0            0                  0            0   \n",
       "JAIME                  0            0                  0            0   \n",
       "TYRION                 0            0                  0            0   \n",
       "DAENERYS               0            0                  0            0   \n",
       "ARYA                   0            0                  0            0   \n",
       "JON        Come with me.   I'm sorry.   Thank you, Dany.   All right.   \n",
       "\n",
       "                                                     191       192  \n",
       "SANSA                                                  0         0  \n",
       "CERSEI                                                 0         0  \n",
       "JAIME                                                  0         0  \n",
       "TYRION                                                 0         0  \n",
       "DAENERYS                                               0         0  \n",
       "ARYA                                                   0         0  \n",
       "JON        They'll all come to see you for what you are.   You do.  \n",
       "\n",
       "[7 rows x 193 columns]"
      ]
     },
     "execution_count": 39,
     "metadata": {},
     "output_type": "execute_result"
    }
   ],
   "source": [
    "season_seven_dialogue.head(7)"
   ]
  },
  {
   "cell_type": "markdown",
   "metadata": {},
   "source": [
    "### Modeling"
   ]
  },
  {
   "cell_type": "markdown",
   "metadata": {},
   "source": [
    "#### Arya"
   ]
  },
  {
   "cell_type": "code",
   "execution_count": 40,
   "metadata": {
    "collapsed": true
   },
   "outputs": [],
   "source": [
    "stoplist = stopwords.words('english')\n",
    "\n",
    "arya1 = [[word for word in document.lower().split() if word not in stoplist]\n",
    "         for document in AryaS1]\n",
    "\n",
    "arya2 = [[word for word in document.lower().split() if word not in stoplist]\n",
    "         for document in AryaS5]\n",
    "\n",
    "arya3 = [[word for word in document.lower().split() if word not in stoplist]\n",
    "         for document in AryaS6]\n",
    "\n",
    "arya4 = [[word for word in document.lower().split() if word not in stoplist]\n",
    "         for document in AryaS7]"
   ]
  },
  {
   "cell_type": "code",
   "execution_count": 41,
   "metadata": {
    "collapsed": true
   },
   "outputs": [],
   "source": [
    "import gensim  \n",
    "arya1 = gensim.models.Word2Vec(arya1, size=100, window=5, min_count=1, workers=2,sg=1)\n",
    "\n",
    "arya2 = gensim.models.Word2Vec(arya2, size=100, window=5, min_count=1, workers=2,sg=1)\n",
    "\n",
    "arya3 = gensim.models.Word2Vec(arya3, size=100, window=5, min_count=1, workers=2,sg=1)\n",
    "\n",
    "arya4 = gensim.models.Word2Vec(arya4, size=100, window=5, min_count=1, workers=2,sg=1)"
   ]
  },
  {
   "cell_type": "code",
   "execution_count": 42,
   "metadata": {
    "scrolled": true
   },
   "outputs": [
    {
     "data": {
      "text/plain": [
       "[(u'no.', <gensim.models.keyedvectors.Vocab at 0x115b5a0d0>),\n",
       " (u'liar', <gensim.models.keyedvectors.Vocab at 0x115b5a110>),\n",
       " (u\"don't\", <gensim.models.keyedvectors.Vocab at 0x115b5a150>),\n",
       " (u'better.', <gensim.models.keyedvectors.Vocab at 0x115b5a190>),\n",
       " (u'fat.', <gensim.models.keyedvectors.Vocab at 0x115b5a1d0>),\n",
       " (u'kill', <gensim.models.keyedvectors.Vocab at 0x115b5a210>),\n",
       " (u'go', <gensim.models.keyedvectors.Vocab at 0x115b5a250>),\n",
       " (u'yes', <gensim.models.keyedvectors.Vocab at 0x115b5a290>),\n",
       " (u'going?', <gensim.models.keyedvectors.Vocab at 0x115b5a2d0>),\n",
       " (u'hate', <gensim.models.keyedvectors.Vocab at 0x115b5a310>)]"
      ]
     },
     "execution_count": 42,
     "metadata": {},
     "output_type": "execute_result"
    }
   ],
   "source": [
    "list(arya1.wv.vocab.items())[:10]"
   ]
  },
  {
   "cell_type": "code",
   "execution_count": 43,
   "metadata": {},
   "outputs": [
    {
     "data": {
      "text/plain": [
       "[(u'(after', <gensim.models.keyedvectors.Vocab at 0x115b66b50>),\n",
       " (u'executed', <gensim.models.keyedvectors.Vocab at 0x115b66b90>),\n",
       " (u'am.', <gensim.models.keyedvectors.Vocab at 0x115b66a50>),\n",
       " (u'please.', <gensim.models.keyedvectors.Vocab at 0x115b66a90>),\n",
       " (u'no!', <gensim.models.keyedvectors.Vocab at 0x115b66ad0>),\n",
       " (u'one.', <gensim.models.keyedvectors.Vocab at 0x115b66dd0>),\n",
       " (u'tomorrow.', <gensim.models.keyedvectors.Vocab at 0x115b66e10>),\n",
       " (u'h\\u2019ghar', <gensim.models.keyedvectors.Vocab at 0x115b66e50>),\n",
       " (u'captain', <gensim.models.keyedvectors.Vocab at 0x115b66e90>),\n",
       " (u'find', <gensim.models.keyedvectors.Vocab at 0x115b66bd0>)]"
      ]
     },
     "execution_count": 43,
     "metadata": {},
     "output_type": "execute_result"
    }
   ],
   "source": [
    "list(arya2.wv.vocab.items())[:10]"
   ]
  },
  {
   "cell_type": "code",
   "execution_count": 44,
   "metadata": {},
   "outputs": [
    {
     "data": {
      "text/plain": [
       "[(u'no.', <gensim.models.keyedvectors.Vocab at 0x115b74b50>),\n",
       " (u'mercy.', <gensim.models.keyedvectors.Vocab at 0x115b74a10>),\n",
       " (u'want', <gensim.models.keyedvectors.Vocab at 0x115b74a50>),\n",
       " (u'safe.', <gensim.models.keyedvectors.Vocab at 0x115b74a90>),\n",
       " (u'jaqen', <gensim.models.keyedvectors.Vocab at 0x115b74dd0>),\n",
       " (u'holes', <gensim.models.keyedvectors.Vocab at 0x115dfc950>),\n",
       " (u'queen', <gensim.models.keyedvectors.Vocab at 0x115b74e50>),\n",
       " (u'one.', <gensim.models.keyedvectors.Vocab at 0x115b74bd0>),\n",
       " (u'one', <gensim.models.keyedvectors.Vocab at 0x115b74c10>),\n",
       " (u'see', <gensim.models.keyedvectors.Vocab at 0x115b74c50>)]"
      ]
     },
     "execution_count": 44,
     "metadata": {},
     "output_type": "execute_result"
    }
   ],
   "source": [
    "list(arya3.wv.vocab.items())[:10]"
   ]
  },
  {
   "cell_type": "code",
   "execution_count": 45,
   "metadata": {
    "scrolled": true
   },
   "outputs": [
    {
     "data": {
      "text/plain": [
       "[(u'no,', <gensim.models.keyedvectors.Vocab at 0x115dfcdd0>),\n",
       " (u'pie.', <gensim.models.keyedvectors.Vocab at 0x115dfce10>),\n",
       " (u\"don't\", <gensim.models.keyedvectors.Vocab at 0x115dfccd0>),\n",
       " (u'queen', <gensim.models.keyedvectors.Vocab at 0x115dfcd50>),\n",
       " (u'one.', <gensim.models.keyedvectors.Vocab at 0x115dfce50>),\n",
       " (u\"king's\", <gensim.models.keyedvectors.Vocab at 0x115e0ce90>),\n",
       " (u'riverlands?', <gensim.models.keyedvectors.Vocab at 0x115dfced0>),\n",
       " (u'thanks', <gensim.models.keyedvectors.Vocab at 0x115dfcf10>),\n",
       " (u'go', <gensim.models.keyedvectors.Vocab at 0x115dfcf90>),\n",
       " (u'smiling', <gensim.models.keyedvectors.Vocab at 0x115dfcfd0>)]"
      ]
     },
     "execution_count": 45,
     "metadata": {},
     "output_type": "execute_result"
    }
   ],
   "source": [
    "list(arya4.wv.vocab.items())[:10]"
   ]
  },
  {
   "cell_type": "markdown",
   "metadata": {},
   "source": [
    "#### Cersei"
   ]
  },
  {
   "cell_type": "code",
   "execution_count": 46,
   "metadata": {
    "collapsed": true
   },
   "outputs": [],
   "source": [
    "stoplist = stopwords.words('english')\n",
    "\n",
    "cersei1 = [[word for word in document.lower().split() if word not in stoplist]\n",
    "         for document in CerseiS1]\n",
    "\n",
    "cersei2 = [[word for word in document.lower().split() if word not in stoplist]\n",
    "         for document in CerseiS5]\n",
    "\n",
    "cersei3 = [[word for word in document.lower().split() if word not in stoplist]\n",
    "         for document in CerseiS6]\n",
    "\n",
    "cersei4 = [[word for word in document.lower().split() if word not in stoplist]\n",
    "         for document in CerseiS7]"
   ]
  },
  {
   "cell_type": "code",
   "execution_count": 47,
   "metadata": {
    "collapsed": true
   },
   "outputs": [],
   "source": [
    "import gensim  \n",
    "cersei1 = gensim.models.Word2Vec(cersei1, size=100, window=5, min_count=1, workers=2,sg=1)\n",
    "\n",
    "cersei2 = gensim.models.Word2Vec(cersei2, size=100, window=5, min_count=1, workers=2,sg=1)\n",
    "\n",
    "cersei3 = gensim.models.Word2Vec(cersei3, size=100, window=5, min_count=1, workers=2,sg=1)\n",
    "\n",
    "cersei4 = gensim.models.Word2Vec(cersei4, size=100, window=5, min_count=1, workers=2,sg=1)"
   ]
  },
  {
   "cell_type": "code",
   "execution_count": 48,
   "metadata": {
    "scrolled": true
   },
   "outputs": [
    {
     "data": {
      "text/plain": [
       "[(u'no,', <gensim.models.keyedvectors.Vocab at 0x115cdd150>),\n",
       " (u'saying', <gensim.models.keyedvectors.Vocab at 0x115cdd390>),\n",
       " (u'troops,', <gensim.models.keyedvectors.Vocab at 0x115e128d0>),\n",
       " (u'enemy.', <gensim.models.keyedvectors.Vocab at 0x115e12750>),\n",
       " (u\"don't\", <gensim.models.keyedvectors.Vocab at 0x115e12890>),\n",
       " (u'hand,', <gensim.models.keyedvectors.Vocab at 0x115e12850>),\n",
       " (u'going.', <gensim.models.keyedvectors.Vocab at 0x115e12790>),\n",
       " (u'mean?', <gensim.models.keyedvectors.Vocab at 0x115e12b10>),\n",
       " (u'son,', <gensim.models.keyedvectors.Vocab at 0x115e12b50>),\n",
       " (u'no.', <gensim.models.keyedvectors.Vocab at 0x115e12b90>)]"
      ]
     },
     "execution_count": 48,
     "metadata": {},
     "output_type": "execute_result"
    }
   ],
   "source": [
    "list(cersei1.wv.vocab.items())[:10]"
   ]
  },
  {
   "cell_type": "code",
   "execution_count": 49,
   "metadata": {},
   "outputs": [
    {
     "data": {
      "text/plain": [
       "[(u'(scoffs)', <gensim.models.keyedvectors.Vocab at 0x115e26b10>),\n",
       " (u'remains--', <gensim.models.keyedvectors.Vocab at 0x115e26b50>),\n",
       " (u'better.', <gensim.models.keyedvectors.Vocab at 0x115e26a10>),\n",
       " (u'son,', <gensim.models.keyedvectors.Vocab at 0x115e26a50>),\n",
       " (u'son.', <gensim.models.keyedvectors.Vocab at 0x115e26a90>),\n",
       " (u'lannister', <gensim.models.keyedvectors.Vocab at 0x115e26d90>),\n",
       " (u'go', <gensim.models.keyedvectors.Vocab at 0x115e26dd0>),\n",
       " (u'pardon.', <gensim.models.keyedvectors.Vocab at 0x115e26e10>),\n",
       " (u'show', <gensim.models.keyedvectors.Vocab at 0x115e3a990>),\n",
       " (u'father', <gensim.models.keyedvectors.Vocab at 0x115e26b90>)]"
      ]
     },
     "execution_count": 49,
     "metadata": {},
     "output_type": "execute_result"
    }
   ],
   "source": [
    "list(cersei2.wv.vocab.items())[:10]"
   ]
  },
  {
   "cell_type": "code",
   "execution_count": 50,
   "metadata": {},
   "outputs": [
    {
     "data": {
      "text/plain": [
       "[(u'sparrow', <gensim.models.keyedvectors.Vocab at 0x115e89650>),\n",
       " (u'gods', <gensim.models.keyedvectors.Vocab at 0x115e89690>),\n",
       " (u'seizing', <gensim.models.keyedvectors.Vocab at 0x115e89550>),\n",
       " (u'forsaken', <gensim.models.keyedvectors.Vocab at 0x115e89590>),\n",
       " (u'son.', <gensim.models.keyedvectors.Vocab at 0x115e895d0>),\n",
       " (u'unfortunately.', <gensim.models.keyedvectors.Vocab at 0x115e898d0>),\n",
       " (u'still', <gensim.models.keyedvectors.Vocab at 0x115e89910>),\n",
       " (u'hate', <gensim.models.keyedvectors.Vocab at 0x115e89950>),\n",
       " (u'yet', <gensim.models.keyedvectors.Vocab at 0x115e89990>),\n",
       " (u'died.', <gensim.models.keyedvectors.Vocab at 0x115e896d0>)]"
      ]
     },
     "execution_count": 50,
     "metadata": {},
     "output_type": "execute_result"
    }
   ],
   "source": [
    "list(cersei3.wv.vocab.items())[:10]"
   ]
  },
  {
   "cell_type": "code",
   "execution_count": 51,
   "metadata": {
    "scrolled": true
   },
   "outputs": [
    {
     "data": {
      "text/plain": [
       "[(u'no,', <gensim.models.keyedvectors.Vocab at 0x115e94d10>),\n",
       " (u'saying', <gensim.models.keyedvectors.Vocab at 0x115e94d50>),\n",
       " (u'remember', <gensim.models.keyedvectors.Vocab at 0x115eabf10>),\n",
       " (u'gold', <gensim.models.keyedvectors.Vocab at 0x115e94c10>),\n",
       " (u'money', <gensim.models.keyedvectors.Vocab at 0x115e94c50>),\n",
       " (u'hand.', <gensim.models.keyedvectors.Vocab at 0x115e94c90>),\n",
       " (u'queen', <gensim.models.keyedvectors.Vocab at 0x115e94f90>),\n",
       " (u'one.', <gensim.models.keyedvectors.Vocab at 0x115e94fd0>),\n",
       " (u'dynasty', <gensim.models.keyedvectors.Vocab at 0x115e94d90>),\n",
       " (u\"daughter's\", <gensim.models.keyedvectors.Vocab at 0x115e94dd0>)]"
      ]
     },
     "execution_count": 51,
     "metadata": {},
     "output_type": "execute_result"
    }
   ],
   "source": [
    "list(cersei4.wv.vocab.items())[:10]"
   ]
  },
  {
   "cell_type": "markdown",
   "metadata": {},
   "source": [
    "#### Daenerys"
   ]
  },
  {
   "cell_type": "code",
   "execution_count": 52,
   "metadata": {
    "collapsed": true
   },
   "outputs": [],
   "source": [
    "stoplist = stopwords.words('english')\n",
    "\n",
    "daenerys1 = [[word for word in document.lower().split() if word not in stoplist]\n",
    "         for document in DaenerysS1]\n",
    "\n",
    "daenerys2 = [[word for word in document.lower().split() if word not in stoplist]\n",
    "         for document in DaenerysS5]\n",
    "\n",
    "daenerys3 = [[word for word in document.lower().split() if word not in stoplist]\n",
    "         for document in DaenerysS6]\n",
    "\n",
    "daenerys4 = [[word for word in document.lower().split() if word not in stoplist]\n",
    "         for document in DaenerysS7]"
   ]
  },
  {
   "cell_type": "code",
   "execution_count": 53,
   "metadata": {
    "collapsed": true
   },
   "outputs": [],
   "source": [
    "import gensim  \n",
    "daenerys1 = gensim.models.Word2Vec(daenerys1, size=100, window=5, min_count=1, workers=2,sg=1)\n",
    "\n",
    "daenerys2 = gensim.models.Word2Vec(daenerys2, size=100, window=5, min_count=1, workers=2,sg=1)\n",
    "\n",
    "daenerys3 = gensim.models.Word2Vec(daenerys3, size=100, window=5, min_count=1, workers=2,sg=1)\n",
    "\n",
    "daenerys4 = gensim.models.Word2Vec(daenerys4, size=100, window=5, min_count=1, workers=2,sg=1)"
   ]
  },
  {
   "cell_type": "code",
   "execution_count": 54,
   "metadata": {
    "scrolled": true
   },
   "outputs": [
    {
     "data": {
      "text/plain": [
       "[(u'no,', <gensim.models.keyedvectors.Vocab at 0x115eb03d0>),\n",
       " (u'no.', <gensim.models.keyedvectors.Vocab at 0x115eb04d0>),\n",
       " (u'kingdoms?', <gensim.models.keyedvectors.Vocab at 0x115eb0550>),\n",
       " (u\"don't\", <gensim.models.keyedvectors.Vocab at 0x115eb0510>),\n",
       " (u'dothraki,', <gensim.models.keyedvectors.Vocab at 0x115eb0450>),\n",
       " (u'no!', <gensim.models.keyedvectors.Vocab at 0x115eb0790>),\n",
       " (u'bring', <gensim.models.keyedvectors.Vocab at 0x115eb07d0>),\n",
       " (u\"won't\", <gensim.models.keyedvectors.Vocab at 0x115eb0810>),\n",
       " (u'happy?', <gensim.models.keyedvectors.Vocab at 0x115eb0850>),\n",
       " (u'tonight,', <gensim.models.keyedvectors.Vocab at 0x115d42c10>)]"
      ]
     },
     "execution_count": 54,
     "metadata": {},
     "output_type": "execute_result"
    }
   ],
   "source": [
    "list(daenerys1.wv.vocab.items())[:10]"
   ]
  },
  {
   "cell_type": "code",
   "execution_count": 55,
   "metadata": {},
   "outputs": [
    {
     "data": {
      "text/plain": [
       "[(u'son', <gensim.models.keyedvectors.Vocab at 0x115d53590>),\n",
       " (u'hizdahr', <gensim.models.keyedvectors.Vocab at 0x115d48290>),\n",
       " (u'no.', <gensim.models.keyedvectors.Vocab at 0x115d482d0>),\n",
       " (u'executed', <gensim.models.keyedvectors.Vocab at 0x115d48190>),\n",
       " (u'rhaegar', <gensim.models.keyedvectors.Vocab at 0x115d481d0>),\n",
       " (u'happy.', <gensim.models.keyedvectors.Vocab at 0x115d48210>),\n",
       " (u'money', <gensim.models.keyedvectors.Vocab at 0x115d48510>),\n",
       " (u'queen', <gensim.models.keyedvectors.Vocab at 0x115d486d0>),\n",
       " (u'innocent?', <gensim.models.keyedvectors.Vocab at 0x115d48590>),\n",
       " (u'course', <gensim.models.keyedvectors.Vocab at 0x115d4d3d0>)]"
      ]
     },
     "execution_count": 55,
     "metadata": {},
     "output_type": "execute_result"
    }
   ],
   "source": [
    "list(daenerys2.wv.vocab.items())[:10]"
   ]
  },
  {
   "cell_type": "code",
   "execution_count": 56,
   "metadata": {},
   "outputs": [
    {
     "data": {
      "text/plain": [
       "[(u'no.', <gensim.models.keyedvectors.Vocab at 0x115d5e490>),\n",
       " (u'kingdoms?', <gensim.models.keyedvectors.Vocab at 0x115d5e4d0>),\n",
       " (u'imagine.', <gensim.models.keyedvectors.Vocab at 0x115d5e390>),\n",
       " (u'am.', <gensim.models.keyedvectors.Vocab at 0x115d5e3d0>),\n",
       " (u'naharis.', <gensim.models.keyedvectors.Vocab at 0x115d5e410>),\n",
       " (u'queen', <gensim.models.keyedvectors.Vocab at 0x115d5e710>),\n",
       " (u'shouldn\\u2019t', <gensim.models.keyedvectors.Vocab at 0x115d5e750>),\n",
       " (u'bring', <gensim.models.keyedvectors.Vocab at 0x115d5e790>),\n",
       " (u'kill', <gensim.models.keyedvectors.Vocab at 0x115d5e7d0>),\n",
       " (u'kingdoms.', <gensim.models.keyedvectors.Vocab at 0x115d5e510>)]"
      ]
     },
     "execution_count": 56,
     "metadata": {},
     "output_type": "execute_result"
    }
   ],
   "source": [
    "list(daenerys3.wv.vocab.items())[:10]"
   ]
  },
  {
   "cell_type": "code",
   "execution_count": 57,
   "metadata": {
    "scrolled": true
   },
   "outputs": [
    {
     "data": {
      "text/plain": [
       "[(u'pardon', <gensim.models.keyedvectors.Vocab at 0x115d6e410>),\n",
       " (u'better.', <gensim.models.keyedvectors.Vocab at 0x115d6e310>),\n",
       " (u'lannister', <gensim.models.keyedvectors.Vocab at 0x115d6e350>),\n",
       " (u'grateful', <gensim.models.keyedvectors.Vocab at 0x115d6e390>),\n",
       " (u'north.', <gensim.models.keyedvectors.Vocab at 0x115d6e690>),\n",
       " (u'father', <gensim.models.keyedvectors.Vocab at 0x115d6e6d0>),\n",
       " (u'finally', <gensim.models.keyedvectors.Vocab at 0x115d6e710>),\n",
       " (u'lord', <gensim.models.keyedvectors.Vocab at 0x115d6e750>),\n",
       " (u'dorne', <gensim.models.keyedvectors.Vocab at 0x115d6e490>),\n",
       " (u'sent', <gensim.models.keyedvectors.Vocab at 0x115d6e4d0>)]"
      ]
     },
     "execution_count": 57,
     "metadata": {},
     "output_type": "execute_result"
    }
   ],
   "source": [
    "list(daenerys4.wv.vocab.items())[:10]"
   ]
  },
  {
   "cell_type": "markdown",
   "metadata": {},
   "source": [
    "#### Sansa"
   ]
  },
  {
   "cell_type": "code",
   "execution_count": 58,
   "metadata": {
    "collapsed": true
   },
   "outputs": [],
   "source": [
    "stoplist = stopwords.words('english')\n",
    "\n",
    "sansa1 = [[word for word in document.lower().split() if word not in stoplist]\n",
    "         for document in SansaS1]\n",
    "\n",
    "sansa2 = [[word for word in document.lower().split() if word not in stoplist]\n",
    "         for document in SansaS5]\n",
    "\n",
    "sansa3 = [[word for word in document.lower().split() if word not in stoplist]\n",
    "         for document in SansaS6]\n",
    "\n",
    "sansa4 = [[word for word in document.lower().split() if word not in stoplist]\n",
    "         for document in SansaS7]"
   ]
  },
  {
   "cell_type": "code",
   "execution_count": 59,
   "metadata": {
    "collapsed": true
   },
   "outputs": [],
   "source": [
    "import gensim  \n",
    "sansa1 = gensim.models.Word2Vec(sansa1, size=100, window=5, min_count=1, workers=2,sg=1)\n",
    "\n",
    "sansa2 = gensim.models.Word2Vec(sansa2, size=100, window=5, min_count=1, workers=2,sg=1)\n",
    "\n",
    "sansa3 = gensim.models.Word2Vec(sansa3, size=100, window=5, min_count=1, workers=2,sg=1)\n",
    "\n",
    "sansa4 = gensim.models.Word2Vec(sansa4, size=100, window=5, min_count=1, workers=2,sg=1)"
   ]
  },
  {
   "cell_type": "code",
   "execution_count": 60,
   "metadata": {
    "scrolled": true
   },
   "outputs": [
    {
     "data": {
      "text/plain": [
       "[(u'no,', <gensim.models.keyedvectors.Vocab at 0x115bd6610>),\n",
       " (u'no.', <gensim.models.keyedvectors.Vocab at 0x115bd6710>),\n",
       " (u'ever.', <gensim.models.keyedvectors.Vocab at 0x115bd6790>),\n",
       " (u\"don't\", <gensim.models.keyedvectors.Vocab at 0x115bd6750>),\n",
       " (u'eddard', <gensim.models.keyedvectors.Vocab at 0x115bd6690>),\n",
       " (u'cruel.', <gensim.models.keyedvectors.Vocab at 0x115bd66d0>),\n",
       " (u'shouldn\\u2019t', <gensim.models.keyedvectors.Vocab at 0x115bd6a10>),\n",
       " (u'lannister', <gensim.models.keyedvectors.Vocab at 0x115bd6a50>),\n",
       " (u\"won't\", <gensim.models.keyedvectors.Vocab at 0x115bd69d0>),\n",
       " (u'go', <gensim.models.keyedvectors.Vocab at 0x115bd6a90>)]"
      ]
     },
     "execution_count": 60,
     "metadata": {},
     "output_type": "execute_result"
    }
   ],
   "source": [
    "list(sansa1.wv.vocab.items())[:10]"
   ]
  },
  {
   "cell_type": "code",
   "execution_count": 61,
   "metadata": {},
   "outputs": [
    {
     "data": {
      "text/plain": [
       "[(u'no,', <gensim.models.keyedvectors.Vocab at 0x115be4b10>),\n",
       " (u'no.', <gensim.models.keyedvectors.Vocab at 0x115be4b50>),\n",
       " (u'help', <gensim.models.keyedvectors.Vocab at 0x115be4b90>),\n",
       " (u'myranda.', <gensim.models.keyedvectors.Vocab at 0x115be4a50>),\n",
       " (u\"don't\", <gensim.models.keyedvectors.Vocab at 0x115be4a90>),\n",
       " (u'news.?', <gensim.models.keyedvectors.Vocab at 0x115be4ad0>),\n",
       " (u\"won't\", <gensim.models.keyedvectors.Vocab at 0x115be4dd0>),\n",
       " (u'boltons', <gensim.models.keyedvectors.Vocab at 0x115be4e10>),\n",
       " (u'still', <gensim.models.keyedvectors.Vocab at 0x115bea6d0>),\n",
       " (u'death', <gensim.models.keyedvectors.Vocab at 0x115be4e90>)]"
      ]
     },
     "execution_count": 61,
     "metadata": {},
     "output_type": "execute_result"
    }
   ],
   "source": [
    "list(sansa2.wv.vocab.items())[:10]"
   ]
  },
  {
   "cell_type": "code",
   "execution_count": 62,
   "metadata": {},
   "outputs": [
    {
     "data": {
      "text/plain": [
       "[(u'no,', <gensim.models.keyedvectors.Vocab at 0x115bf4710>),\n",
       " (u'haven\\u2019t', <gensim.models.keyedvectors.Vocab at 0x115bf4750>),\n",
       " (u'army.', <gensim.models.keyedvectors.Vocab at 0x115bf4610>),\n",
       " (u'enemy,', <gensim.models.keyedvectors.Vocab at 0x115bf4650>),\n",
       " (u'please.', <gensim.models.keyedvectors.Vocab at 0x115bf4850>),\n",
       " (u'father\\u2019s', <gensim.models.keyedvectors.Vocab at 0x115bf4a10>),\n",
       " (u'risk', <gensim.models.keyedvectors.Vocab at 0x105413990>),\n",
       " (u'conversation,', <gensim.models.keyedvectors.Vocab at 0x115bf4a50>),\n",
       " (u'wrong.', <gensim.models.keyedvectors.Vocab at 0x1054192d0>),\n",
       " (u'go', <gensim.models.keyedvectors.Vocab at 0x115bf47d0>)]"
      ]
     },
     "execution_count": 62,
     "metadata": {},
     "output_type": "execute_result"
    }
   ],
   "source": [
    "list(sansa3.wv.vocab.items())[:10]"
   ]
  },
  {
   "cell_type": "code",
   "execution_count": 63,
   "metadata": {
    "scrolled": true
   },
   "outputs": [
    {
     "data": {
      "text/plain": [
       "[(u'no,', <gensim.models.keyedvectors.Vocab at 0x1054194d0>),\n",
       " (u'represent', <gensim.models.keyedvectors.Vocab at 0x10541ec50>),\n",
       " (u'stores', <gensim.models.keyedvectors.Vocab at 0x105419410>),\n",
       " (u'am,', <gensim.models.keyedvectors.Vocab at 0x105419810>),\n",
       " (u\"don't\", <gensim.models.keyedvectors.Vocab at 0x105419750>),\n",
       " (u'true', <gensim.models.keyedvectors.Vocab at 0x105429910>),\n",
       " (u'word,', <gensim.models.keyedvectors.Vocab at 0x105419790>),\n",
       " (u'mean?', <gensim.models.keyedvectors.Vocab at 0x1054197d0>),\n",
       " (u'list?', <gensim.models.keyedvectors.Vocab at 0x1054249d0>),\n",
       " (u'son.', <gensim.models.keyedvectors.Vocab at 0x105419590>)]"
      ]
     },
     "execution_count": 63,
     "metadata": {},
     "output_type": "execute_result"
    }
   ],
   "source": [
    "list(sansa4.wv.vocab.items())[:10]"
   ]
  },
  {
   "cell_type": "markdown",
   "metadata": {},
   "source": [
    "#### Jaime"
   ]
  },
  {
   "cell_type": "code",
   "execution_count": 64,
   "metadata": {
    "collapsed": true
   },
   "outputs": [],
   "source": [
    "stoplist = stopwords.words('english')\n",
    "\n",
    "jaime1 = [[word for word in document.lower().split() if word not in stoplist]\n",
    "         for document in JaimeS1]\n",
    "\n",
    "jaime2 = [[word for word in document.lower().split() if word not in stoplist]\n",
    "         for document in JaimeS5]\n",
    "\n",
    "jaime3 = [[word for word in document.lower().split() if word not in stoplist]\n",
    "         for document in JaimeS6]\n",
    "\n",
    "jaime4 = [[word for word in document.lower().split() if word not in stoplist]\n",
    "         for document in JaimeS7]"
   ]
  },
  {
   "cell_type": "code",
   "execution_count": 65,
   "metadata": {
    "collapsed": true
   },
   "outputs": [],
   "source": [
    "import gensim  \n",
    "jaime1 = gensim.models.Word2Vec(jaime1, size=100, window=5, min_count=1, workers=2,sg=1)\n",
    "\n",
    "jaime2 = gensim.models.Word2Vec(jaime2, size=100, window=5, min_count=1, workers=2,sg=1)\n",
    "\n",
    "jaime3 = gensim.models.Word2Vec(jaime3, size=100, window=5, min_count=1, workers=2,sg=1)\n",
    "\n",
    "jaime4 = gensim.models.Word2Vec(jaime4, size=100, window=5, min_count=1, workers=2,sg=1)"
   ]
  },
  {
   "cell_type": "code",
   "execution_count": 66,
   "metadata": {
    "scrolled": false
   },
   "outputs": [
    {
     "data": {
      "text/plain": [
       "[(u'opinions', <gensim.models.keyedvectors.Vocab at 0x115d91250>),\n",
       " (u'afraid.', <gensim.models.keyedvectors.Vocab at 0x105434490>),\n",
       " (u\"don't\", <gensim.models.keyedvectors.Vocab at 0x1054343d0>),\n",
       " (u'gods', <gensim.models.keyedvectors.Vocab at 0x1054344d0>),\n",
       " (u'whores.', <gensim.models.keyedvectors.Vocab at 0x105434510>),\n",
       " (u'course', <gensim.models.keyedvectors.Vocab at 0x105434550>),\n",
       " (u'lannister', <gensim.models.keyedvectors.Vocab at 0x105434450>),\n",
       " (u'down.', <gensim.models.keyedvectors.Vocab at 0x105434410>),\n",
       " (u'go', <gensim.models.keyedvectors.Vocab at 0x105434810>),\n",
       " (u'mean.', <gensim.models.keyedvectors.Vocab at 0x105434850>)]"
      ]
     },
     "execution_count": 66,
     "metadata": {},
     "output_type": "execute_result"
    }
   ],
   "source": [
    "list(jaime1.wv.vocab.items())[:10]"
   ]
  },
  {
   "cell_type": "code",
   "execution_count": 67,
   "metadata": {},
   "outputs": [
    {
     "data": {
      "text/plain": [
       "[(u'stones', <gensim.models.keyedvectors.Vocab at 0x105444510>),\n",
       " (u'no.', <gensim.models.keyedvectors.Vocab at 0x105444550>),\n",
       " (u'happy,', <gensim.models.keyedvectors.Vocab at 0x105444410>),\n",
       " (u'help', <gensim.models.keyedvectors.Vocab at 0x105444450>),\n",
       " (u\"don't\", <gensim.models.keyedvectors.Vocab at 0x105444490>),\n",
       " (u'agreed', <gensim.models.keyedvectors.Vocab at 0x105444790>),\n",
       " (u'better.', <gensim.models.keyedvectors.Vocab at 0x1054447d0>),\n",
       " (u'one,', <gensim.models.keyedvectors.Vocab at 0x105444810>),\n",
       " (u'soon', <gensim.models.keyedvectors.Vocab at 0x105444850>),\n",
       " (u'trystane', <gensim.models.keyedvectors.Vocab at 0x1054445d0>)]"
      ]
     },
     "execution_count": 67,
     "metadata": {},
     "output_type": "execute_result"
    }
   ],
   "source": [
    "list(jaime2.wv.vocab.items())[:10]"
   ]
  },
  {
   "cell_type": "code",
   "execution_count": 68,
   "metadata": {},
   "outputs": [
    {
     "data": {
      "text/plain": [
       "[(u'no,', <gensim.models.keyedvectors.Vocab at 0x1054559d0>),\n",
       " (u'son!', <gensim.models.keyedvectors.Vocab at 0x105455a10>),\n",
       " (u'walking', <gensim.models.keyedvectors.Vocab at 0x1054558d0>),\n",
       " (u'riverlands.', <gensim.models.keyedvectors.Vocab at 0x105455950>),\n",
       " (u'gold', <gensim.models.keyedvectors.Vocab at 0x105455c50>),\n",
       " (u'impression', <gensim.models.keyedvectors.Vocab at 0x105455910>),\n",
       " (u'gods', <gensim.models.keyedvectors.Vocab at 0x105455cd0>),\n",
       " (u'anyone\\u2019s', <gensim.models.keyedvectors.Vocab at 0x105455d10>),\n",
       " (u'word.', <gensim.models.keyedvectors.Vocab at 0x105455a50>),\n",
       " (u'army.', <gensim.models.keyedvectors.Vocab at 0x105455a90>)]"
      ]
     },
     "execution_count": 68,
     "metadata": {},
     "output_type": "execute_result"
    }
   ],
   "source": [
    "list(jaime3.wv.vocab.items())[:10]"
   ]
  },
  {
   "cell_type": "code",
   "execution_count": 69,
   "metadata": {
    "scrolled": true
   },
   "outputs": [
    {
     "data": {
      "text/plain": [
       "[(u'no,', <gensim.models.keyedvectors.Vocab at 0x10546bf90>),\n",
       " (u'opinions', <gensim.models.keyedvectors.Vocab at 0x10546bfd0>),\n",
       " (u'no.', <gensim.models.keyedvectors.Vocab at 0x105470050>),\n",
       " (u'spat', <gensim.models.keyedvectors.Vocab at 0x10547bf10>),\n",
       " (u'help', <gensim.models.keyedvectors.Vocab at 0x105470090>),\n",
       " (u'gold', <gensim.models.keyedvectors.Vocab at 0x1054700d0>),\n",
       " (u\"don't\", <gensim.models.keyedvectors.Vocab at 0x105470310>),\n",
       " (u'money', <gensim.models.keyedvectors.Vocab at 0x105470350>),\n",
       " (u'hand.', <gensim.models.keyedvectors.Vocab at 0x105470390>),\n",
       " (u'queen', <gensim.models.keyedvectors.Vocab at 0x1054703d0>)]"
      ]
     },
     "execution_count": 69,
     "metadata": {},
     "output_type": "execute_result"
    }
   ],
   "source": [
    "list(jaime4.wv.vocab.items())[:10]"
   ]
  },
  {
   "cell_type": "markdown",
   "metadata": {},
   "source": [
    "#### Jon"
   ]
  },
  {
   "cell_type": "code",
   "execution_count": 70,
   "metadata": {
    "collapsed": true
   },
   "outputs": [],
   "source": [
    "stoplist = stopwords.words('english')\n",
    "\n",
    "jon1 = [[word for word in document.lower().split() if word not in stoplist]\n",
    "         for document in JonS1]\n",
    "\n",
    "jon2 = [[word for word in document.lower().split() if word not in stoplist]\n",
    "         for document in JonS5]\n",
    "\n",
    "jon3 = [[word for word in document.lower().split() if word not in stoplist]\n",
    "         for document in JonS6]\n",
    "\n",
    "jon4 = [[word for word in document.lower().split() if word not in stoplist]\n",
    "         for document in JonS7]"
   ]
  },
  {
   "cell_type": "code",
   "execution_count": 71,
   "metadata": {
    "collapsed": true
   },
   "outputs": [],
   "source": [
    "import gensim  \n",
    "jon1 = gensim.models.Word2Vec(jon1, size=100, window=5, min_count=1, workers=2,sg=1)\n",
    "\n",
    "jon2 = gensim.models.Word2Vec(jon2, size=100, window=5, min_count=1, workers=2,sg=1)\n",
    "\n",
    "jon3 = gensim.models.Word2Vec(jon3, size=100, window=5, min_count=1, workers=2,sg=1)\n",
    "\n",
    "jon4 = gensim.models.Word2Vec(jon4, size=100, window=5, min_count=1, workers=2,sg=1)"
   ]
  },
  {
   "cell_type": "code",
   "execution_count": 72,
   "metadata": {
    "scrolled": true
   },
   "outputs": [
    {
     "data": {
      "text/plain": [
       "[(u'no.', <gensim.models.keyedvectors.Vocab at 0x115cd67d0>),\n",
       " (u'belong', <gensim.models.keyedvectors.Vocab at 0x10549f990>),\n",
       " (u'landing', <gensim.models.keyedvectors.Vocab at 0x10549fb90>),\n",
       " (u\"don't\", <gensim.models.keyedvectors.Vocab at 0x10548c2d0>),\n",
       " (u'better.', <gensim.models.keyedvectors.Vocab at 0x115cd69d0>),\n",
       " (u'one.', <gensim.models.keyedvectors.Vocab at 0x115cd6d50>),\n",
       " (u'fires.', <gensim.models.keyedvectors.Vocab at 0x10549f8d0>),\n",
       " (u'course', <gensim.models.keyedvectors.Vocab at 0x10548c090>),\n",
       " (u'lannister', <gensim.models.keyedvectors.Vocab at 0x10548c0d0>),\n",
       " (u'kill', <gensim.models.keyedvectors.Vocab at 0x10548c110>)]"
      ]
     },
     "execution_count": 72,
     "metadata": {},
     "output_type": "execute_result"
    }
   ],
   "source": [
    "list(jon1.wv.vocab.items())[:10]"
   ]
  },
  {
   "cell_type": "code",
   "execution_count": 73,
   "metadata": {},
   "outputs": [
    {
     "data": {
      "text/plain": [
       "[(u'no.', <gensim.models.keyedvectors.Vocab at 0x105444390>),\n",
       " (u'wasn\\u2019t', <gensim.models.keyedvectors.Vocab at 0x1054bb6d0>),\n",
       " (u'enemy.', <gensim.models.keyedvectors.Vocab at 0x1054a5150>),\n",
       " (u'forget', <gensim.models.keyedvectors.Vocab at 0x1054a5510>),\n",
       " (u'burn', <gensim.models.keyedvectors.Vocab at 0x1054b00d0>),\n",
       " (u\"don't\", <gensim.models.keyedvectors.Vocab at 0x1054a51d0>),\n",
       " (u'word.', <gensim.models.keyedvectors.Vocab at 0x1054a5410>),\n",
       " (u'army.', <gensim.models.keyedvectors.Vocab at 0x1054a5450>),\n",
       " (u'making', <gensim.models.keyedvectors.Vocab at 0x1054b5a90>),\n",
       " (u'wall.', <gensim.models.keyedvectors.Vocab at 0x1054a5490>)]"
      ]
     },
     "execution_count": 73,
     "metadata": {},
     "output_type": "execute_result"
    }
   ],
   "source": [
    "list(jon2.wv.vocab.items())[:10]"
   ]
  },
  {
   "cell_type": "code",
   "execution_count": 74,
   "metadata": {},
   "outputs": [
    {
     "data": {
      "text/plain": [
       "[(u'no.', <gensim.models.keyedvectors.Vocab at 0x1054bbe50>),\n",
       " (u'edd', <gensim.models.keyedvectors.Vocab at 0x1054bbd50>),\n",
       " (u'-', <gensim.models.keyedvectors.Vocab at 0x105595b90>),\n",
       " (u'manderly-', <gensim.models.keyedvectors.Vocab at 0x1054bbdd0>),\n",
       " (u'shouldn\\u2019t', <gensim.models.keyedvectors.Vocab at 0x1054bbed0>),\n",
       " (u'course', <gensim.models.keyedvectors.Vocab at 0x1054bbf10>),\n",
       " (u'robett', <gensim.models.keyedvectors.Vocab at 0x1054bbf50>),\n",
       " (u'boltons', <gensim.models.keyedvectors.Vocab at 0x1054bbf90>),\n",
       " (u'still', <gensim.models.keyedvectors.Vocab at 0x1054bbfd0>),\n",
       " (u'bit', <gensim.models.keyedvectors.Vocab at 0x1054c1110>)]"
      ]
     },
     "execution_count": 74,
     "metadata": {},
     "output_type": "execute_result"
    }
   ],
   "source": [
    "list(jon3.wv.vocab.items())[:10]"
   ]
  },
  {
   "cell_type": "code",
   "execution_count": 75,
   "metadata": {
    "scrolled": true
   },
   "outputs": [
    {
     "data": {
      "text/plain": [
       "[(u'liar', <gensim.models.keyedvectors.Vocab at 0x10559b4d0>),\n",
       " (u'son.', <gensim.models.keyedvectors.Vocab at 0x10559b510>),\n",
       " (u'lannister', <gensim.models.keyedvectors.Vocab at 0x10559b3d0>),\n",
       " (u'go', <gensim.models.keyedvectors.Vocab at 0x10559bc50>),\n",
       " (u'decisions', <gensim.models.keyedvectors.Vocab at 0x10559b450>),\n",
       " (u'children', <gensim.models.keyedvectors.Vocab at 0x10559b750>),\n",
       " (u'marching', <gensim.models.keyedvectors.Vocab at 0x10559b790>),\n",
       " (u'grace.', <gensim.models.keyedvectors.Vocab at 0x10559b7d0>),\n",
       " (u'whose', <gensim.models.keyedvectors.Vocab at 0x10559b810>),\n",
       " (u'grace,', <gensim.models.keyedvectors.Vocab at 0x10559b550>)]"
      ]
     },
     "execution_count": 75,
     "metadata": {},
     "output_type": "execute_result"
    }
   ],
   "source": [
    "list(jon4.wv.vocab.items())[:10]"
   ]
  },
  {
   "cell_type": "markdown",
   "metadata": {},
   "source": [
    "#### Tyrion"
   ]
  },
  {
   "cell_type": "code",
   "execution_count": 76,
   "metadata": {
    "collapsed": true
   },
   "outputs": [],
   "source": [
    "stoplist = stopwords.words('english')\n",
    "\n",
    "tyrion1 = [[word for word in document.lower().split() if word not in stoplist]\n",
    "         for document in TyrionS1]\n",
    "\n",
    "tyrion2 = [[word for word in document.lower().split() if word not in stoplist]\n",
    "         for document in TyrionS5]\n",
    "\n",
    "tyrion3 = [[word for word in document.lower().split() if word not in stoplist]\n",
    "         for document in TyrionS6]\n",
    "\n",
    "tyrion4 = [[word for word in document.lower().split() if word not in stoplist]\n",
    "         for document in TyrionS7]"
   ]
  },
  {
   "cell_type": "code",
   "execution_count": 77,
   "metadata": {
    "collapsed": true
   },
   "outputs": [],
   "source": [
    "import gensim  \n",
    "tyrion1 = gensim.models.Word2Vec(tyrion1, size=100, window=5, min_count=1, workers=2,sg=1)\n",
    "\n",
    "tyrion2 = gensim.models.Word2Vec(tyrion2, size=100, window=5, min_count=1, workers=2,sg=1)\n",
    "\n",
    "tyrion3 = gensim.models.Word2Vec(tyrion3, size=100, window=5, min_count=1, workers=2,sg=1)\n",
    "\n",
    "tyrion4 = gensim.models.Word2Vec(tyrion4, size=100, window=5, min_count=1, workers=2,sg=1)"
   ]
  },
  {
   "cell_type": "code",
   "execution_count": 78,
   "metadata": {
    "scrolled": true
   },
   "outputs": [
    {
     "data": {
      "text/plain": [
       "[(u'rules,', <gensim.models.keyedvectors.Vocab at 0x1055c19d0>),\n",
       " (u'lannister', <gensim.models.keyedvectors.Vocab at 0x1055c1a10>),\n",
       " (u'sleep', <gensim.models.keyedvectors.Vocab at 0x1055c1c50>),\n",
       " (u'continue.', <gensim.models.keyedvectors.Vocab at 0x1055c1c90>),\n",
       " (u'go', <gensim.models.keyedvectors.Vocab at 0x1055c1cd0>),\n",
       " (u'father', <gensim.models.keyedvectors.Vocab at 0x1055c1d10>),\n",
       " (u'young', <gensim.models.keyedvectors.Vocab at 0x1055c1a50>),\n",
       " (u'send', <gensim.models.keyedvectors.Vocab at 0x1055c1a90>),\n",
       " (u'really?', <gensim.models.keyedvectors.Vocab at 0x1055c1ad0>),\n",
       " (u'lord', <gensim.models.keyedvectors.Vocab at 0x1055c1b10>)]"
      ]
     },
     "execution_count": 78,
     "metadata": {},
     "output_type": "execute_result"
    }
   ],
   "source": [
    "list(tyrion1.wv.vocab.items())[:10]"
   ]
  },
  {
   "cell_type": "code",
   "execution_count": 79,
   "metadata": {},
   "outputs": [
    {
     "data": {
      "text/plain": [
       "[(u'managed', <gensim.models.keyedvectors.Vocab at 0x115cdd190>),\n",
       " (u'pardon', <gensim.models.keyedvectors.Vocab at 0x10565e610>),\n",
       " (u'better.', <gensim.models.keyedvectors.Vocab at 0x10565e650>),\n",
       " (u'enjoyable', <gensim.models.keyedvectors.Vocab at 0x10565e690>),\n",
       " (u'sleep', <gensim.models.keyedvectors.Vocab at 0x10565e5d0>),\n",
       " (u'devoted', <gensim.models.keyedvectors.Vocab at 0x10565ee10>),\n",
       " (u'liar.', <gensim.models.keyedvectors.Vocab at 0x10565e910>),\n",
       " (u'father', <gensim.models.keyedvectors.Vocab at 0x10565e950>),\n",
       " (u'daario', <gensim.models.keyedvectors.Vocab at 0x10565e990>),\n",
       " (u'asking', <gensim.models.keyedvectors.Vocab at 0x10565e6d0>)]"
      ]
     },
     "execution_count": 79,
     "metadata": {},
     "output_type": "execute_result"
    }
   ],
   "source": [
    "list(tyrion2.wv.vocab.items())[:10]"
   ]
  },
  {
   "cell_type": "code",
   "execution_count": 80,
   "metadata": {},
   "outputs": [
    {
     "data": {
      "text/plain": [
       "[(u'no,', <gensim.models.keyedvectors.Vocab at 0x11604f750>),\n",
       " (u'happy.', <gensim.models.keyedvectors.Vocab at 0x11604f650>),\n",
       " (u'queen', <gensim.models.keyedvectors.Vocab at 0x11604f690>),\n",
       " (u'soon', <gensim.models.keyedvectors.Vocab at 0x11604f6d0>),\n",
       " (u'valuable', <gensim.models.keyedvectors.Vocab at 0x11604f9d0>),\n",
       " (u'years', <gensim.models.keyedvectors.Vocab at 0x11604fa10>),\n",
       " (u'top', <gensim.models.keyedvectors.Vocab at 0x11605ab10>),\n",
       " (u'kingdoms.', <gensim.models.keyedvectors.Vocab at 0x1160547d0>),\n",
       " (u'grateful', <gensim.models.keyedvectors.Vocab at 0x1160548d0>),\n",
       " (u'unsullied', <gensim.models.keyedvectors.Vocab at 0x11604f810>)]"
      ]
     },
     "execution_count": 80,
     "metadata": {},
     "output_type": "execute_result"
    }
   ],
   "source": [
    "list(tyrion3.wv.vocab.items())[:10]"
   ]
  },
  {
   "cell_type": "code",
   "execution_count": 81,
   "metadata": {
    "scrolled": true
   },
   "outputs": [
    {
     "data": {
      "text/plain": [
       "[(u'almost.', <gensim.models.keyedvectors.Vocab at 0x116065890>),\n",
       " (u'son.', <gensim.models.keyedvectors.Vocab at 0x1160658d0>),\n",
       " (u'lannister', <gensim.models.keyedvectors.Vocab at 0x116065790>),\n",
       " (u'go', <gensim.models.keyedvectors.Vocab at 0x1160657d0>),\n",
       " (u'children', <gensim.models.keyedvectors.Vocab at 0x116065810>),\n",
       " (u'grace.', <gensim.models.keyedvectors.Vocab at 0x116065b10>),\n",
       " (u'grace,', <gensim.models.keyedvectors.Vocab at 0x116065b50>),\n",
       " (u'north,', <gensim.models.keyedvectors.Vocab at 0x116065b90>),\n",
       " (u'father', <gensim.models.keyedvectors.Vocab at 0x116065bd0>),\n",
       " (u'lord', <gensim.models.keyedvectors.Vocab at 0x116065910>)]"
      ]
     },
     "execution_count": 81,
     "metadata": {},
     "output_type": "execute_result"
    }
   ],
   "source": [
    "list(tyrion4.wv.vocab.items())[:10]"
   ]
  },
  {
   "cell_type": "markdown",
   "metadata": {},
   "source": [
    "#### Total Corpus"
   ]
  },
  {
   "cell_type": "code",
   "execution_count": 82,
   "metadata": {
    "collapsed": true
   },
   "outputs": [],
   "source": [
    "stoplist = stopwords.words('english')\n",
    "\n",
    "\n",
    "texts = [[word for word in document.lower().split() if word not in stoplist]\n",
    "         for document in total_corpus]"
   ]
  },
  {
   "cell_type": "code",
   "execution_count": 83,
   "metadata": {
    "collapsed": true
   },
   "outputs": [],
   "source": [
    "import gensim  \n",
    "model = gensim.models.Word2Vec(texts, size=100, window=5, min_count=1, workers=2,sg=1)"
   ]
  },
  {
   "cell_type": "code",
   "execution_count": 84,
   "metadata": {
    "scrolled": true
   },
   "outputs": [
    {
     "data": {
      "text/plain": [
       "[(u'sees.', <gensim.models.keyedvectors.Vocab at 0x117af2490>),\n",
       " ('bornto', <gensim.models.keyedvectors.Vocab at 0x115b66a10>),\n",
       " ('ready!,', <gensim.models.keyedvectors.Vocab at 0x105794090>),\n",
       " ('theirdoorstep', <gensim.models.keyedvectors.Vocab at 0x1160b7d90>),\n",
       " ('melost', <gensim.models.keyedvectors.Vocab at 0x1160b7d50>),\n",
       " (u'h\\u2019ghar', <gensim.models.keyedvectors.Vocab at 0x1160b7e10>),\n",
       " (u'spiders', <gensim.models.keyedvectors.Vocab at 0x1160b7e50>),\n",
       " (u'hanging', <gensim.models.keyedvectors.Vocab at 0x1160b7e90>),\n",
       " (',robb!,', <gensim.models.keyedvectors.Vocab at 0x1160b7ed0>),\n",
       " ('dayuntil', <gensim.models.keyedvectors.Vocab at 0x1160b7f10>)]"
      ]
     },
     "execution_count": 84,
     "metadata": {},
     "output_type": "execute_result"
    }
   ],
   "source": [
    "list(model.wv.vocab.items())[:10]"
   ]
  },
  {
   "cell_type": "code",
   "execution_count": 85,
   "metadata": {
    "scrolled": false
   },
   "outputs": [
    {
     "data": {
      "text/plain": [
       "[(u'private', 0.996113657951355),\n",
       " (u'queen.', 0.9960533976554871),\n",
       " (u'stole', 0.996001124382019),\n",
       " (u\"isn't\", 0.9959782361984253),\n",
       " (\",why'd\", 0.9959666132926941),\n",
       " (u'returning', 0.9959161281585693),\n",
       " (u'become', 0.9958999156951904),\n",
       " (u'question', 0.9958998560905457),\n",
       " (u'quiet', 0.9958972334861755),\n",
       " (\",didn't\", 0.9958885312080383)]"
      ]
     },
     "execution_count": 85,
     "metadata": {},
     "output_type": "execute_result"
    }
   ],
   "source": [
    "model.most_similar('courage')"
   ]
  },
  {
   "cell_type": "code",
   "execution_count": 86,
   "metadata": {
    "scrolled": true
   },
   "outputs": [
    {
     "data": {
      "text/plain": [
       "array([ 0.04717519, -0.03119551,  0.02442005,  0.00777989,  0.00406856,\n",
       "       -0.06691944, -0.03083595,  0.02775444, -0.01136919,  0.03125951,\n",
       "       -0.03983942, -0.00776064, -0.04207493, -0.00956317, -0.00923268,\n",
       "        0.00410547,  0.04388079,  0.02742498,  0.05498126,  0.06614024,\n",
       "        0.04414977,  0.03185279,  0.01389922, -0.02897243,  0.00666934,\n",
       "       -0.00911895,  0.02825241, -0.0043989 ,  0.04062116, -0.03256823,\n",
       "       -0.07488595,  0.01339085, -0.00369336,  0.02035966,  0.0439152 ,\n",
       "        0.01145012,  0.02697892, -0.03330018,  0.05423438, -0.00136536,\n",
       "       -0.0424293 , -0.00291945, -0.06727634, -0.01055853,  0.02747743,\n",
       "        0.01047697, -0.01618695, -0.02595112, -0.0294794 ,  0.00065255,\n",
       "        0.00301254,  0.00353001, -0.0346874 ,  0.02815947,  0.0004313 ,\n",
       "        0.02272086,  0.03138674, -0.02301913, -0.01228283, -0.01889712,\n",
       "        0.03709336, -0.04896267,  0.01033699, -0.0467526 ,  0.0024709 ,\n",
       "        0.01338385,  0.02472792,  0.00039048, -0.02522388, -0.00096505,\n",
       "       -0.02154516,  0.02956566,  0.00509084,  0.01738202, -0.03381702,\n",
       "        0.01947684, -0.02632956,  0.0376457 ,  0.05199225, -0.07193795,\n",
       "        0.06532183, -0.05393821,  0.03626543, -0.0105283 ,  0.00547961,\n",
       "       -0.0377482 , -0.00147997, -0.01597225,  0.02324093, -0.01215912,\n",
       "        0.03056434,  0.02375481, -0.0418888 , -0.04181167, -0.01520138,\n",
       "       -0.00298068, -0.02209195,  0.00594187,  0.02040504,  0.00972952], dtype=float32)"
      ]
     },
     "execution_count": 86,
     "metadata": {},
     "output_type": "execute_result"
    }
   ],
   "source": [
    "model['courage']"
   ]
  },
  {
   "cell_type": "code",
   "execution_count": 87,
   "metadata": {},
   "outputs": [
    {
     "data": {
      "text/plain": [
       "0.95827509818914614"
      ]
     },
     "execution_count": 87,
     "metadata": {},
     "output_type": "execute_result"
    }
   ],
   "source": [
    "model.wv.similarity('courage','arya')"
   ]
  },
  {
   "cell_type": "code",
   "execution_count": 88,
   "metadata": {
    "scrolled": true
   },
   "outputs": [
    {
     "data": {
      "text/plain": [
       "0.97016783829696629"
      ]
     },
     "execution_count": 88,
     "metadata": {},
     "output_type": "execute_result"
    }
   ],
   "source": [
    "model.wv.similarity('courage','cersei')"
   ]
  },
  {
   "cell_type": "code",
   "execution_count": 89,
   "metadata": {},
   "outputs": [
    {
     "data": {
      "text/plain": [
       "0.96023252512425716"
      ]
     },
     "execution_count": 89,
     "metadata": {},
     "output_type": "execute_result"
    }
   ],
   "source": [
    "model.wv.similarity('courage','daenerys')"
   ]
  },
  {
   "cell_type": "code",
   "execution_count": 90,
   "metadata": {
    "scrolled": true
   },
   "outputs": [
    {
     "data": {
      "text/plain": [
       "0.94951593083571662"
      ]
     },
     "execution_count": 90,
     "metadata": {},
     "output_type": "execute_result"
    }
   ],
   "source": [
    "model.wv.similarity('courage','sansa')"
   ]
  },
  {
   "cell_type": "code",
   "execution_count": 91,
   "metadata": {},
   "outputs": [
    {
     "data": {
      "text/plain": [
       "0.94861206622538807"
      ]
     },
     "execution_count": 91,
     "metadata": {},
     "output_type": "execute_result"
    }
   ],
   "source": [
    "model.wv.similarity('courage','jaime')"
   ]
  },
  {
   "cell_type": "code",
   "execution_count": 92,
   "metadata": {},
   "outputs": [
    {
     "data": {
      "text/plain": [
       "0.75583865024078012"
      ]
     },
     "execution_count": 92,
     "metadata": {},
     "output_type": "execute_result"
    }
   ],
   "source": [
    "model.wv.similarity('courage','jon')"
   ]
  },
  {
   "cell_type": "code",
   "execution_count": 93,
   "metadata": {},
   "outputs": [
    {
     "data": {
      "text/plain": [
       "0.83604188528375256"
      ]
     },
     "execution_count": 93,
     "metadata": {},
     "output_type": "execute_result"
    }
   ],
   "source": [
    "model.wv.similarity('courage','tyrion')"
   ]
  },
  {
   "cell_type": "code",
   "execution_count": 94,
   "metadata": {
    "scrolled": false
   },
   "outputs": [
    {
     "data": {
      "text/plain": [
       "[(u'plans', 0.9993449449539185),\n",
       " (u'prayed', 0.9993412494659424),\n",
       " (u'worst', 0.9993066787719727),\n",
       " (',every', 0.9993014335632324),\n",
       " (u'head', 0.9992992281913757),\n",
       " (u'pardon,', 0.9992868900299072),\n",
       " (u'us?', 0.9992673397064209),\n",
       " (u'are,', 0.999259352684021),\n",
       " (',perhaps', 0.9992592930793762),\n",
       " (u'seeing', 0.9992568492889404)]"
      ]
     },
     "execution_count": 94,
     "metadata": {},
     "output_type": "execute_result"
    }
   ],
   "source": [
    "model.most_similar('strength')"
   ]
  },
  {
   "cell_type": "code",
   "execution_count": 95,
   "metadata": {
    "scrolled": true
   },
   "outputs": [
    {
     "data": {
      "text/plain": [
       "array([ 0.15571101, -0.08832995,  0.06006934,  0.02158364,  0.02729529,\n",
       "       -0.20063874, -0.09864214,  0.06704388, -0.03076858,  0.08670184,\n",
       "       -0.10574941, -0.02897735, -0.12574054, -0.04108226, -0.02618588,\n",
       "        0.01216917,  0.13778685,  0.07971497,  0.1659029 ,  0.19069842,\n",
       "        0.14009933,  0.10048086,  0.05959508, -0.09597681,  0.02638988,\n",
       "       -0.02146099,  0.0683135 , -0.01953625,  0.10920408, -0.09120236,\n",
       "       -0.22762993,  0.01865721,  0.00386488,  0.05147383,  0.13457844,\n",
       "        0.02966716,  0.06793181, -0.109898  ,  0.16788289, -0.00310485,\n",
       "       -0.12597202, -0.01027053, -0.19562477, -0.01678685,  0.06856705,\n",
       "        0.01999146, -0.05136586, -0.07127484, -0.09142348,  0.002163  ,\n",
       "       -0.00790956,  0.00052685, -0.08048715,  0.08976641, -0.01028572,\n",
       "        0.06398556,  0.08534566, -0.07008726, -0.03041576, -0.04338099,\n",
       "        0.09952757, -0.13683055,  0.04161701, -0.12524605,  0.01851744,\n",
       "        0.04181789,  0.05925423,  0.01648947, -0.07026107, -0.00616072,\n",
       "       -0.06350324,  0.08101716,  0.01050812,  0.05707099, -0.10738079,\n",
       "        0.06288867, -0.08176108,  0.10637847,  0.14653233, -0.22148061,\n",
       "        0.1810312 , -0.14893794,  0.09612115, -0.03462217,  0.00925496,\n",
       "       -0.12300186, -0.00290437, -0.02858389,  0.0694455 , -0.04567836,\n",
       "        0.08172452,  0.07473192, -0.12778306, -0.13575754, -0.03339429,\n",
       "       -0.01863054, -0.08312513,  0.01396656,  0.06285952,  0.01383175], dtype=float32)"
      ]
     },
     "execution_count": 95,
     "metadata": {},
     "output_type": "execute_result"
    }
   ],
   "source": [
    "model['strength']"
   ]
  },
  {
   "cell_type": "code",
   "execution_count": 96,
   "metadata": {},
   "outputs": [
    {
     "data": {
      "text/plain": [
       "0.96368470393939343"
      ]
     },
     "execution_count": 96,
     "metadata": {},
     "output_type": "execute_result"
    }
   ],
   "source": [
    "model.wv.similarity('strength','arya')"
   ]
  },
  {
   "cell_type": "code",
   "execution_count": 97,
   "metadata": {},
   "outputs": [
    {
     "data": {
      "text/plain": [
       "0.97281932509832747"
      ]
     },
     "execution_count": 97,
     "metadata": {},
     "output_type": "execute_result"
    }
   ],
   "source": [
    "model.wv.similarity('strength','cersei')"
   ]
  },
  {
   "cell_type": "code",
   "execution_count": 98,
   "metadata": {},
   "outputs": [
    {
     "data": {
      "text/plain": [
       "0.96343540337621159"
      ]
     },
     "execution_count": 98,
     "metadata": {},
     "output_type": "execute_result"
    }
   ],
   "source": [
    "model.wv.similarity('strength','daenerys')"
   ]
  },
  {
   "cell_type": "code",
   "execution_count": 99,
   "metadata": {},
   "outputs": [
    {
     "data": {
      "text/plain": [
       "0.95662298188647921"
      ]
     },
     "execution_count": 99,
     "metadata": {},
     "output_type": "execute_result"
    }
   ],
   "source": [
    "model.wv.similarity('strength','sansa')"
   ]
  },
  {
   "cell_type": "code",
   "execution_count": 100,
   "metadata": {},
   "outputs": [
    {
     "data": {
      "text/plain": [
       "0.95112150939225448"
      ]
     },
     "execution_count": 100,
     "metadata": {},
     "output_type": "execute_result"
    }
   ],
   "source": [
    "model.wv.similarity('strength','jaime')"
   ]
  },
  {
   "cell_type": "code",
   "execution_count": 101,
   "metadata": {},
   "outputs": [
    {
     "data": {
      "text/plain": [
       "0.76335622497896816"
      ]
     },
     "execution_count": 101,
     "metadata": {},
     "output_type": "execute_result"
    }
   ],
   "source": [
    "model.wv.similarity('strength','jon')"
   ]
  },
  {
   "cell_type": "code",
   "execution_count": 102,
   "metadata": {
    "scrolled": true
   },
   "outputs": [
    {
     "data": {
      "text/plain": [
       "0.83777073166402294"
      ]
     },
     "execution_count": 102,
     "metadata": {},
     "output_type": "execute_result"
    }
   ],
   "source": [
    "model.wv.similarity('strength','tyrion')"
   ]
  },
  {
   "cell_type": "code",
   "execution_count": 103,
   "metadata": {
    "scrolled": false
   },
   "outputs": [
    {
     "data": {
      "text/plain": [
       "[('girls.,', 0.9997787475585938),\n",
       " (',stannis', 0.9997227191925049),\n",
       " (u'tyrell,', 0.999722421169281),\n",
       " ('joffrey.,', 0.9997201561927795),\n",
       " ('there?,', 0.9997034668922424),\n",
       " ('he?,', 0.9996890425682068),\n",
       " (u'married', 0.9996849894523621),\n",
       " (u'damn', 0.9996832609176636),\n",
       " (u'lovely', 0.9996737241744995),\n",
       " (u'love,', 0.9996737241744995)]"
      ]
     },
     "execution_count": 103,
     "metadata": {},
     "output_type": "execute_result"
    }
   ],
   "source": [
    "model.most_similar('lead')"
   ]
  },
  {
   "cell_type": "code",
   "execution_count": 104,
   "metadata": {
    "scrolled": true
   },
   "outputs": [
    {
     "data": {
      "text/plain": [
       "array([ 0.31333569, -0.1823279 ,  0.12918979,  0.03242125,  0.06702238,\n",
       "       -0.42241248, -0.21741198,  0.14359754, -0.0521263 ,  0.18077995,\n",
       "       -0.21756519, -0.07892907, -0.25746825, -0.07070871, -0.06479736,\n",
       "       -0.00224258,  0.28907737,  0.17120743,  0.36257669,  0.40789887,\n",
       "        0.28791672,  0.20880772,  0.11363281, -0.19305201,  0.0410265 ,\n",
       "       -0.04006712,  0.15801716, -0.04243111,  0.24334882, -0.19067863,\n",
       "       -0.48454639,  0.06411621,  0.01232175,  0.11561128,  0.28322864,\n",
       "        0.07083502,  0.14232138, -0.21810301,  0.34387112, -0.01589886,\n",
       "       -0.25843054, -0.0180366 , -0.41161117, -0.02836459,  0.14541821,\n",
       "        0.04267865, -0.11007828, -0.15167117, -0.18742351,  0.00090825,\n",
       "       -0.00861843,  0.0067592 , -0.1715285 ,  0.18812785, -0.00721892,\n",
       "        0.13902873,  0.19003345, -0.13093063, -0.06862164, -0.09578209,\n",
       "        0.21321207, -0.29149362,  0.06556106, -0.25902706,  0.02924758,\n",
       "        0.09421655,  0.12076925,  0.02829526, -0.14818858, -0.01834265,\n",
       "       -0.1456618 ,  0.17698896,  0.00753719,  0.13299713, -0.21426082,\n",
       "        0.13367501, -0.17463087,  0.21499227,  0.30193636, -0.4579604 ,\n",
       "        0.37825078, -0.31243265,  0.20982206, -0.07786187,  0.02709435,\n",
       "       -0.26603574,  0.01145563, -0.07715192,  0.1405028 , -0.08992629,\n",
       "        0.18516906,  0.1682696 , -0.26777312, -0.28645527, -0.06568919,\n",
       "       -0.03273419, -0.15704012,  0.02358176,  0.12777984,  0.03195149], dtype=float32)"
      ]
     },
     "execution_count": 104,
     "metadata": {},
     "output_type": "execute_result"
    }
   ],
   "source": [
    "model['lead']"
   ]
  },
  {
   "cell_type": "code",
   "execution_count": 105,
   "metadata": {},
   "outputs": [
    {
     "data": {
      "text/plain": [
       "0.96325041589006666"
      ]
     },
     "execution_count": 105,
     "metadata": {},
     "output_type": "execute_result"
    }
   ],
   "source": [
    "model.wv.similarity('lead','arya')"
   ]
  },
  {
   "cell_type": "code",
   "execution_count": 106,
   "metadata": {},
   "outputs": [
    {
     "data": {
      "text/plain": [
       "0.97248107244449189"
      ]
     },
     "execution_count": 106,
     "metadata": {},
     "output_type": "execute_result"
    }
   ],
   "source": [
    "model.wv.similarity('lead','cersei')"
   ]
  },
  {
   "cell_type": "code",
   "execution_count": 107,
   "metadata": {},
   "outputs": [
    {
     "data": {
      "text/plain": [
       "0.9629957201337408"
      ]
     },
     "execution_count": 107,
     "metadata": {},
     "output_type": "execute_result"
    }
   ],
   "source": [
    "model.wv.similarity('lead','daenerys')"
   ]
  },
  {
   "cell_type": "code",
   "execution_count": 108,
   "metadata": {},
   "outputs": [
    {
     "data": {
      "text/plain": [
       "0.95753204660227054"
      ]
     },
     "execution_count": 108,
     "metadata": {},
     "output_type": "execute_result"
    }
   ],
   "source": [
    "model.wv.similarity('lead','sansa')"
   ]
  },
  {
   "cell_type": "code",
   "execution_count": 109,
   "metadata": {},
   "outputs": [
    {
     "data": {
      "text/plain": [
       "0.95279159642760425"
      ]
     },
     "execution_count": 109,
     "metadata": {},
     "output_type": "execute_result"
    }
   ],
   "source": [
    "model.wv.similarity('lead','jaime')"
   ]
  },
  {
   "cell_type": "code",
   "execution_count": 110,
   "metadata": {},
   "outputs": [
    {
     "data": {
      "text/plain": [
       "0.76327670156476124"
      ]
     },
     "execution_count": 110,
     "metadata": {},
     "output_type": "execute_result"
    }
   ],
   "source": [
    "model.wv.similarity('lead','jon')"
   ]
  },
  {
   "cell_type": "code",
   "execution_count": 111,
   "metadata": {
    "scrolled": true
   },
   "outputs": [
    {
     "data": {
      "text/plain": [
       "0.83871124518253182"
      ]
     },
     "execution_count": 111,
     "metadata": {},
     "output_type": "execute_result"
    }
   ],
   "source": [
    "model.wv.similarity('lead','tyrion')"
   ]
  },
  {
   "cell_type": "code",
   "execution_count": 112,
   "metadata": {
    "scrolled": false
   },
   "outputs": [
    {
     "data": {
      "text/plain": [
       "[(u'secret', 0.999719500541687),\n",
       " (',will', 0.9997056126594543),\n",
       " (u'worry', 0.9997056126594543),\n",
       " (',shall', 0.999700129032135),\n",
       " (u'again,', 0.9996973872184753),\n",
       " (u'weeks', 0.9996947646141052),\n",
       " (',until', 0.9996945858001709),\n",
       " (u'eyes', 0.9996908903121948),\n",
       " (u'moment', 0.9996898174285889),\n",
       " (',many', 0.9996850490570068)]"
      ]
     },
     "execution_count": 112,
     "metadata": {},
     "output_type": "execute_result"
    }
   ],
   "source": [
    "model.most_similar('power')"
   ]
  },
  {
   "cell_type": "code",
   "execution_count": 113,
   "metadata": {
    "scrolled": true
   },
   "outputs": [
    {
     "data": {
      "text/plain": [
       "array([ 0.25859809, -0.14295445,  0.10747848,  0.02875304,  0.03792647,\n",
       "       -0.33761358, -0.17273036,  0.12020008, -0.05334748,  0.14667949,\n",
       "       -0.18657124, -0.05154399, -0.20783021, -0.06297861, -0.0573769 ,\n",
       "        0.01493477,  0.22887498,  0.13906625,  0.28021941,  0.32845101,\n",
       "        0.23323338,  0.16536492,  0.09890571, -0.14982611,  0.0418513 ,\n",
       "       -0.03607185,  0.12224761, -0.03330538,  0.19361109, -0.16302975,\n",
       "       -0.39237735,  0.04341085,  0.00195607,  0.08827225,  0.22663397,\n",
       "        0.0609627 ,  0.10759217, -0.1786278 ,  0.27949464, -0.00912497,\n",
       "       -0.2149184 , -0.02058221, -0.32632676, -0.02727622,  0.11309744,\n",
       "        0.03418857, -0.09330218, -0.12752052, -0.14211854,  0.00574828,\n",
       "       -0.00454017,  0.00493106, -0.14127961,  0.15052193, -0.01524278,\n",
       "        0.10658891,  0.15280725, -0.11039613, -0.06019974, -0.07882963,\n",
       "        0.17025757, -0.23430341,  0.06379132, -0.21588631,  0.03122623,\n",
       "        0.06794175,  0.09770108,  0.02629731, -0.11479334, -0.01417721,\n",
       "       -0.1141029 ,  0.14364713,  0.0125729 ,  0.10481922, -0.16410817,\n",
       "        0.10064434, -0.13797909,  0.17334834,  0.2434788 , -0.37218863,\n",
       "        0.29739264, -0.25322503,  0.1682592 , -0.06165779,  0.02544705,\n",
       "       -0.2097722 ,  0.00474569, -0.06601267,  0.11850409, -0.07493   ,\n",
       "        0.14167553,  0.12943941, -0.22416265, -0.23193727, -0.04829361,\n",
       "       -0.02603944, -0.13061285,  0.01889631,  0.10104311,  0.02707973], dtype=float32)"
      ]
     },
     "execution_count": 113,
     "metadata": {},
     "output_type": "execute_result"
    }
   ],
   "source": [
    "model['power']"
   ]
  },
  {
   "cell_type": "code",
   "execution_count": 114,
   "metadata": {
    "scrolled": true
   },
   "outputs": [
    {
     "data": {
      "text/plain": [
       "0.9626979780007594"
      ]
     },
     "execution_count": 114,
     "metadata": {},
     "output_type": "execute_result"
    }
   ],
   "source": [
    "model.wv.similarity('power','arya')"
   ]
  },
  {
   "cell_type": "code",
   "execution_count": 115,
   "metadata": {},
   "outputs": [
    {
     "data": {
      "text/plain": [
       "0.97422003131710988"
      ]
     },
     "execution_count": 115,
     "metadata": {},
     "output_type": "execute_result"
    }
   ],
   "source": [
    "model.wv.similarity('power','cersei')"
   ]
  },
  {
   "cell_type": "code",
   "execution_count": 116,
   "metadata": {},
   "outputs": [
    {
     "data": {
      "text/plain": [
       "0.96484912886641072"
      ]
     },
     "execution_count": 116,
     "metadata": {},
     "output_type": "execute_result"
    }
   ],
   "source": [
    "model.wv.similarity('power','daenerys')"
   ]
  },
  {
   "cell_type": "code",
   "execution_count": 117,
   "metadata": {},
   "outputs": [
    {
     "data": {
      "text/plain": [
       "0.95466215853851444"
      ]
     },
     "execution_count": 117,
     "metadata": {},
     "output_type": "execute_result"
    }
   ],
   "source": [
    "model.wv.similarity('power','sansa')"
   ]
  },
  {
   "cell_type": "code",
   "execution_count": 118,
   "metadata": {},
   "outputs": [
    {
     "data": {
      "text/plain": [
       "0.95303923824053394"
      ]
     },
     "execution_count": 118,
     "metadata": {},
     "output_type": "execute_result"
    }
   ],
   "source": [
    "model.wv.similarity('power','jaime')"
   ]
  },
  {
   "cell_type": "code",
   "execution_count": 119,
   "metadata": {},
   "outputs": [
    {
     "data": {
      "text/plain": [
       "0.76106070835326789"
      ]
     },
     "execution_count": 119,
     "metadata": {},
     "output_type": "execute_result"
    }
   ],
   "source": [
    "model.wv.similarity('power','jon')"
   ]
  },
  {
   "cell_type": "code",
   "execution_count": 120,
   "metadata": {
    "scrolled": true
   },
   "outputs": [
    {
     "data": {
      "text/plain": [
       "0.84085653916185055"
      ]
     },
     "execution_count": 120,
     "metadata": {},
     "output_type": "execute_result"
    }
   ],
   "source": [
    "model.wv.similarity('power','tyrion')"
   ]
  },
  {
   "cell_type": "code",
   "execution_count": 121,
   "metadata": {
    "scrolled": false
   },
   "outputs": [
    {
     "data": {
      "text/plain": [
       "[(u'million', 0.9973714351654053),\n",
       " (\"woman's\", 0.9973120093345642),\n",
       " ('joffrey,,', 0.9972841143608093),\n",
       " (u'party', 0.9972343444824219),\n",
       " (',stand', 0.997228741645813),\n",
       " (',her', 0.9971796274185181),\n",
       " (u'across', 0.9971500635147095),\n",
       " ('fromthe', 0.9971442222595215),\n",
       " (',pull', 0.9970983266830444),\n",
       " (u'murdering', 0.9970980882644653)]"
      ]
     },
     "execution_count": 121,
     "metadata": {},
     "output_type": "execute_result"
    }
   ],
   "source": [
    "model.most_similar('action')"
   ]
  },
  {
   "cell_type": "code",
   "execution_count": 122,
   "metadata": {
    "scrolled": true
   },
   "outputs": [
    {
     "data": {
      "text/plain": [
       "array([  6.87895417e-02,  -3.35327238e-02,   2.29625683e-02,\n",
       "         6.80234004e-03,   1.61111820e-02,  -8.18024874e-02,\n",
       "        -4.53775153e-02,   3.23169343e-02,  -1.44854672e-02,\n",
       "         3.22123729e-02,  -4.06933539e-02,  -1.56074110e-02,\n",
       "        -5.22147939e-02,  -1.13973366e-02,  -1.35832382e-02,\n",
       "         5.49701927e-03,   5.97719848e-02,   3.81069295e-02,\n",
       "         7.20948279e-02,   8.49500075e-02,   6.20060228e-02,\n",
       "         3.72852795e-02,   2.12860610e-02,  -4.23604026e-02,\n",
       "         1.49912946e-02,  -5.77646820e-03,   3.61013599e-02,\n",
       "        -9.83064063e-03,   4.50326130e-02,  -3.53133231e-02,\n",
       "        -1.03588395e-01,   1.11665446e-02,   2.23311759e-03,\n",
       "         2.40370277e-02,   6.11599050e-02,   9.97162051e-03,\n",
       "         2.48556379e-02,  -4.72884849e-02,   6.84290826e-02,\n",
       "        -3.33840074e-03,  -5.68988658e-02,  -1.87950698e-03,\n",
       "        -8.21726248e-02,  -5.20783663e-03,   3.32921520e-02,\n",
       "         7.85252545e-03,  -1.93350557e-02,  -2.80672293e-02,\n",
       "        -4.34940495e-02,   5.31568564e-03,  -1.21043622e-03,\n",
       "         7.25870632e-05,  -3.83098237e-02,   3.65924053e-02,\n",
       "        -1.89838652e-03,   2.88384650e-02,   3.40595506e-02,\n",
       "        -3.22914347e-02,  -1.30046150e-02,  -1.71989631e-02,\n",
       "         4.55064662e-02,  -5.95759228e-02,   1.89708881e-02,\n",
       "        -4.99634370e-02,   3.55267874e-03,   1.23796593e-02,\n",
       "         2.36920714e-02,   5.87380305e-03,  -2.64436323e-02,\n",
       "        -5.28283091e-03,  -2.82984469e-02,   3.93327251e-02,\n",
       "         2.45548552e-03,   2.11504921e-02,  -4.62464802e-02,\n",
       "         2.45158877e-02,  -2.90679988e-02,   3.85207608e-02,\n",
       "         5.84287271e-02,  -9.32760388e-02,   7.68836737e-02,\n",
       "        -6.20135255e-02,   4.88230065e-02,  -1.84242539e-02,\n",
       "         7.14179501e-03,  -4.95974347e-02,   1.46314513e-03,\n",
       "        -1.47162033e-02,   3.40129025e-02,  -1.83539726e-02,\n",
       "         3.60391289e-02,   2.93306336e-02,  -5.28132617e-02,\n",
       "        -6.16725311e-02,  -1.60073470e-02,  -3.84419481e-03,\n",
       "        -3.60135175e-02,   4.43698466e-03,   3.12114153e-02,\n",
       "         1.00634946e-02], dtype=float32)"
      ]
     },
     "execution_count": 122,
     "metadata": {},
     "output_type": "execute_result"
    }
   ],
   "source": [
    "model['action']"
   ]
  },
  {
   "cell_type": "code",
   "execution_count": 123,
   "metadata": {},
   "outputs": [
    {
     "data": {
      "text/plain": [
       "0.96670919980591774"
      ]
     },
     "execution_count": 123,
     "metadata": {},
     "output_type": "execute_result"
    }
   ],
   "source": [
    "model.wv.similarity('action','arya')"
   ]
  },
  {
   "cell_type": "code",
   "execution_count": 124,
   "metadata": {},
   "outputs": [
    {
     "data": {
      "text/plain": [
       "0.97110172560403751"
      ]
     },
     "execution_count": 124,
     "metadata": {},
     "output_type": "execute_result"
    }
   ],
   "source": [
    "model.wv.similarity('action','cersei')"
   ]
  },
  {
   "cell_type": "code",
   "execution_count": 125,
   "metadata": {},
   "outputs": [
    {
     "data": {
      "text/plain": [
       "0.96053027715518779"
      ]
     },
     "execution_count": 125,
     "metadata": {},
     "output_type": "execute_result"
    }
   ],
   "source": [
    "model.wv.similarity('action','daenerys')"
   ]
  },
  {
   "cell_type": "code",
   "execution_count": 126,
   "metadata": {},
   "outputs": [
    {
     "data": {
      "text/plain": [
       "0.95999079934803389"
      ]
     },
     "execution_count": 126,
     "metadata": {},
     "output_type": "execute_result"
    }
   ],
   "source": [
    "model.wv.similarity('action','sansa')"
   ]
  },
  {
   "cell_type": "code",
   "execution_count": 127,
   "metadata": {},
   "outputs": [
    {
     "data": {
      "text/plain": [
       "0.95055601933513112"
      ]
     },
     "execution_count": 127,
     "metadata": {},
     "output_type": "execute_result"
    }
   ],
   "source": [
    "model.wv.similarity('action','jaime')"
   ]
  },
  {
   "cell_type": "code",
   "execution_count": 128,
   "metadata": {},
   "outputs": [
    {
     "data": {
      "text/plain": [
       "0.75128222153194857"
      ]
     },
     "execution_count": 128,
     "metadata": {},
     "output_type": "execute_result"
    }
   ],
   "source": [
    "model.wv.similarity('action','jon')"
   ]
  },
  {
   "cell_type": "code",
   "execution_count": 129,
   "metadata": {
    "scrolled": true
   },
   "outputs": [
    {
     "data": {
      "text/plain": [
       "0.83806800253295255"
      ]
     },
     "execution_count": 129,
     "metadata": {},
     "output_type": "execute_result"
    }
   ],
   "source": [
    "model.wv.similarity('action','tyrion')"
   ]
  },
  {
   "cell_type": "code",
   "execution_count": 130,
   "metadata": {
    "scrolled": false
   },
   "outputs": [
    {
     "data": {
      "text/plain": [
       "[(u'samwell:', 0.999539852142334),\n",
       " (u'belong', 0.9995346069335938),\n",
       " ('whore.,', 0.999530553817749),\n",
       " ('before.,', 0.9995297193527222),\n",
       " ('us?,', 0.9995262622833252),\n",
       " (u'probably', 0.9995203018188477),\n",
       " (\",let's\", 0.9995197057723999),\n",
       " (',right', 0.9995174407958984),\n",
       " (u'that,', 0.9995139837265015),\n",
       " ('out.,', 0.9995139241218567)]"
      ]
     },
     "execution_count": 130,
     "metadata": {},
     "output_type": "execute_result"
    }
   ],
   "source": [
    "model.most_similar('force')"
   ]
  },
  {
   "cell_type": "code",
   "execution_count": 131,
   "metadata": {
    "scrolled": true
   },
   "outputs": [
    {
     "data": {
      "text/plain": [
       "array([ 0.21820275, -0.11252273,  0.08379684,  0.02949907,  0.02092722,\n",
       "       -0.268502  , -0.14636017,  0.098989  , -0.05098286,  0.11914505,\n",
       "       -0.14430581, -0.05182108, -0.15792821, -0.05424528, -0.03787521,\n",
       "        0.01531959,  0.17686617,  0.11423894,  0.22771394,  0.26252729,\n",
       "        0.18609363,  0.13278022,  0.07752088, -0.12703672,  0.02448726,\n",
       "       -0.02427724,  0.0894203 , -0.02404324,  0.15371758, -0.14038739,\n",
       "       -0.30836481,  0.03236795, -0.00563828,  0.06624942,  0.18712626,\n",
       "        0.04297293,  0.0916276 , -0.13880074,  0.22652015, -0.00686751,\n",
       "       -0.17417279, -0.01751141, -0.26226526, -0.02413341,  0.09193545,\n",
       "        0.02756948, -0.08429481, -0.10276214, -0.11237497, -0.00320339,\n",
       "       -0.00073941, -0.00113283, -0.11970595,  0.10852601, -0.01987275,\n",
       "        0.08445546,  0.1202612 , -0.09571037, -0.04123716, -0.04912273,\n",
       "        0.13963212, -0.19084586,  0.05636332, -0.17588331,  0.0291951 ,\n",
       "        0.05347718,  0.08478194,  0.02314699, -0.09035742, -0.0107745 ,\n",
       "       -0.09749275,  0.11807851,  0.00936718,  0.08945162, -0.1352838 ,\n",
       "        0.0792002 , -0.11636847,  0.14933132,  0.20452926, -0.29702654,\n",
       "        0.24573337, -0.20155826,  0.13614854, -0.04612731,  0.01945242,\n",
       "       -0.18142031,  0.00656126, -0.04406602,  0.09532925, -0.06470382,\n",
       "        0.10863058,  0.10476011, -0.17792642, -0.18484247, -0.04814911,\n",
       "       -0.01949569, -0.10632738,  0.01293642,  0.07729474,  0.02102217], dtype=float32)"
      ]
     },
     "execution_count": 131,
     "metadata": {},
     "output_type": "execute_result"
    }
   ],
   "source": [
    "model['force']"
   ]
  },
  {
   "cell_type": "code",
   "execution_count": 132,
   "metadata": {
    "scrolled": true
   },
   "outputs": [
    {
     "data": {
      "text/plain": [
       "0.96178686187107787"
      ]
     },
     "execution_count": 132,
     "metadata": {},
     "output_type": "execute_result"
    }
   ],
   "source": [
    "model.wv.similarity('force','arya')"
   ]
  },
  {
   "cell_type": "code",
   "execution_count": 133,
   "metadata": {},
   "outputs": [
    {
     "data": {
      "text/plain": [
       "0.97282287400558609"
      ]
     },
     "execution_count": 133,
     "metadata": {},
     "output_type": "execute_result"
    }
   ],
   "source": [
    "model.wv.similarity('force','cersei')"
   ]
  },
  {
   "cell_type": "code",
   "execution_count": 134,
   "metadata": {},
   "outputs": [
    {
     "data": {
      "text/plain": [
       "0.96433298797290412"
      ]
     },
     "execution_count": 134,
     "metadata": {},
     "output_type": "execute_result"
    }
   ],
   "source": [
    "model.wv.similarity('force','daenerys')"
   ]
  },
  {
   "cell_type": "code",
   "execution_count": 135,
   "metadata": {},
   "outputs": [
    {
     "data": {
      "text/plain": [
       "0.95135894992565961"
      ]
     },
     "execution_count": 135,
     "metadata": {},
     "output_type": "execute_result"
    }
   ],
   "source": [
    "model.wv.similarity('force','sansa')"
   ]
  },
  {
   "cell_type": "code",
   "execution_count": 136,
   "metadata": {},
   "outputs": [
    {
     "data": {
      "text/plain": [
       "0.94784095144551506"
      ]
     },
     "execution_count": 136,
     "metadata": {},
     "output_type": "execute_result"
    }
   ],
   "source": [
    "model.wv.similarity('force','jaime')"
   ]
  },
  {
   "cell_type": "code",
   "execution_count": 137,
   "metadata": {},
   "outputs": [
    {
     "data": {
      "text/plain": [
       "0.7708784294198685"
      ]
     },
     "execution_count": 137,
     "metadata": {},
     "output_type": "execute_result"
    }
   ],
   "source": [
    "model.wv.similarity('force','jon')"
   ]
  },
  {
   "cell_type": "code",
   "execution_count": 138,
   "metadata": {
    "scrolled": true
   },
   "outputs": [
    {
     "data": {
      "text/plain": [
       "0.83365510684411237"
      ]
     },
     "execution_count": 138,
     "metadata": {},
     "output_type": "execute_result"
    }
   ],
   "source": [
    "model.wv.similarity('force','tyrion')"
   ]
  },
  {
   "cell_type": "code",
   "execution_count": 139,
   "metadata": {
    "scrolled": false
   },
   "outputs": [
    {
     "data": {
      "text/plain": [
       "[(u'worried', 0.9993656277656555),\n",
       " (u'dorne', 0.9993574023246765),\n",
       " (u'worth', 0.9993484020233154),\n",
       " (',shall', 0.9993369579315186),\n",
       " ('times.,', 0.9993284344673157),\n",
       " (u'eyes', 0.9993277192115784),\n",
       " ('forever.,', 0.9993143677711487),\n",
       " (u'qyburn:', 0.9993070363998413),\n",
       " (u'brothel', 0.9993013739585876),\n",
       " (u'married', 0.9992989897727966)]"
      ]
     },
     "execution_count": 139,
     "metadata": {},
     "output_type": "execute_result"
    }
   ],
   "source": [
    "model.most_similar('tough')"
   ]
  },
  {
   "cell_type": "code",
   "execution_count": 140,
   "metadata": {
    "scrolled": true
   },
   "outputs": [
    {
     "data": {
      "text/plain": [
       "array([  1.64707437e-01,  -8.98431167e-02,   6.50214776e-02,\n",
       "         2.20415033e-02,   2.73219869e-02,  -2.15287611e-01,\n",
       "        -1.07558198e-01,   7.77025968e-02,  -3.08108311e-02,\n",
       "         9.07851458e-02,  -1.17028899e-01,  -3.87925506e-02,\n",
       "        -1.29189953e-01,  -3.23959850e-02,  -3.68421599e-02,\n",
       "         2.61881534e-04,   1.44545466e-01,   9.01063830e-02,\n",
       "         1.77261204e-01,   2.00453594e-01,   1.45652011e-01,\n",
       "         9.96345580e-02,   5.83764836e-02,  -9.42030400e-02,\n",
       "         1.88802481e-02,  -2.40378194e-02,   8.21067914e-02,\n",
       "        -1.78040992e-02,   1.16458468e-01,  -9.90629718e-02,\n",
       "        -2.43155211e-01,   2.10060813e-02,  -2.06774264e-03,\n",
       "         5.38408943e-02,   1.34773776e-01,   3.96854840e-02,\n",
       "         7.40785152e-02,  -1.13539696e-01,   1.69850573e-01,\n",
       "         1.74764206e-03,  -1.29270718e-01,  -1.17550530e-02,\n",
       "        -1.99253410e-01,  -1.88859180e-02,   6.58432767e-02,\n",
       "         2.96297651e-02,  -5.52576035e-02,  -7.02093020e-02,\n",
       "        -8.84578004e-02,   4.64106724e-03,  -4.91023529e-05,\n",
       "         4.15605353e-03,  -9.18286070e-02,   9.42815021e-02,\n",
       "        -1.06963264e-02,   6.83430508e-02,   9.15079415e-02,\n",
       "        -6.47920594e-02,  -3.76347564e-02,  -5.18377908e-02,\n",
       "         1.02387488e-01,  -1.45883337e-01,   3.89544927e-02,\n",
       "        -1.28313914e-01,   2.08332576e-02,   4.07021977e-02,\n",
       "         6.69751987e-02,   1.75364092e-02,  -7.52108321e-02,\n",
       "        -1.28122410e-02,  -7.89109394e-02,   9.41517428e-02,\n",
       "         9.36351193e-04,   6.05062880e-02,  -1.07893586e-01,\n",
       "         6.58703893e-02,  -8.86667892e-02,   1.09213151e-01,\n",
       "         1.54588446e-01,  -2.34751150e-01,   1.89526260e-01,\n",
       "        -1.53683126e-01,   1.01682194e-01,  -3.80770527e-02,\n",
       "         1.67754125e-02,  -1.35043710e-01,   8.07798933e-03,\n",
       "        -4.17798534e-02,   7.36915618e-02,  -4.90539297e-02,\n",
       "         9.00022611e-02,   8.24269503e-02,  -1.41568944e-01,\n",
       "        -1.46275595e-01,  -2.54554246e-02,  -1.36804217e-02,\n",
       "        -7.90859163e-02,   1.23318490e-02,   5.98121695e-02,\n",
       "         1.82688441e-02], dtype=float32)"
      ]
     },
     "execution_count": 140,
     "metadata": {},
     "output_type": "execute_result"
    }
   ],
   "source": [
    "model['tough']"
   ]
  },
  {
   "cell_type": "code",
   "execution_count": 141,
   "metadata": {},
   "outputs": [
    {
     "data": {
      "text/plain": [
       "0.96105664716031325"
      ]
     },
     "execution_count": 141,
     "metadata": {},
     "output_type": "execute_result"
    }
   ],
   "source": [
    "model.wv.similarity('tough','arya')"
   ]
  },
  {
   "cell_type": "code",
   "execution_count": 142,
   "metadata": {},
   "outputs": [
    {
     "data": {
      "text/plain": [
       "0.97460776100753521"
      ]
     },
     "execution_count": 142,
     "metadata": {},
     "output_type": "execute_result"
    }
   ],
   "source": [
    "model.wv.similarity('tough','cersei')"
   ]
  },
  {
   "cell_type": "code",
   "execution_count": 143,
   "metadata": {},
   "outputs": [
    {
     "data": {
      "text/plain": [
       "0.96393134801391966"
      ]
     },
     "execution_count": 143,
     "metadata": {},
     "output_type": "execute_result"
    }
   ],
   "source": [
    "model.wv.similarity('tough','daenerys')"
   ]
  },
  {
   "cell_type": "code",
   "execution_count": 144,
   "metadata": {},
   "outputs": [
    {
     "data": {
      "text/plain": [
       "0.95329303478861704"
      ]
     },
     "execution_count": 144,
     "metadata": {},
     "output_type": "execute_result"
    }
   ],
   "source": [
    "model.wv.similarity('tough','sansa')"
   ]
  },
  {
   "cell_type": "code",
   "execution_count": 145,
   "metadata": {},
   "outputs": [
    {
     "data": {
      "text/plain": [
       "0.9525859730797368"
      ]
     },
     "execution_count": 145,
     "metadata": {},
     "output_type": "execute_result"
    }
   ],
   "source": [
    "model.wv.similarity('tough','jaime')"
   ]
  },
  {
   "cell_type": "code",
   "execution_count": 146,
   "metadata": {},
   "outputs": [
    {
     "data": {
      "text/plain": [
       "0.76193862323809525"
      ]
     },
     "execution_count": 146,
     "metadata": {},
     "output_type": "execute_result"
    }
   ],
   "source": [
    "model.wv.similarity('tough','jon')"
   ]
  },
  {
   "cell_type": "code",
   "execution_count": 147,
   "metadata": {
    "scrolled": true
   },
   "outputs": [
    {
     "data": {
      "text/plain": [
       "0.83999349857631056"
      ]
     },
     "execution_count": 147,
     "metadata": {},
     "output_type": "execute_result"
    }
   ],
   "source": [
    "model.wv.similarity('tough','tyrion')"
   ]
  },
  {
   "cell_type": "code",
   "execution_count": 148,
   "metadata": {
    "scrolled": false
   },
   "outputs": [
    {
     "data": {
      "text/plain": [
       "[(u'knight', 0.9997386932373047),\n",
       " (u'enemies', 0.9997144937515259),\n",
       " (u'sees', 0.9996932744979858),\n",
       " (',about', 0.9996756315231323),\n",
       " (u'stupid', 0.9996718764305115),\n",
       " (u'ones', 0.9996697902679443),\n",
       " (u'family,', 0.9996691942214966),\n",
       " (u'also', 0.9996658563613892),\n",
       " (u'alone', 0.9996640682220459),\n",
       " (',until', 0.9996564984321594)]"
      ]
     },
     "execution_count": 148,
     "metadata": {},
     "output_type": "execute_result"
    }
   ],
   "source": [
    "model.most_similar('command')"
   ]
  },
  {
   "cell_type": "code",
   "execution_count": 149,
   "metadata": {
    "scrolled": true
   },
   "outputs": [
    {
     "data": {
      "text/plain": [
       "array([ 0.33361888, -0.18456097,  0.13723662,  0.04568562,  0.0528888 ,\n",
       "       -0.43176833, -0.23104215,  0.15494633, -0.05556479,  0.18017492,\n",
       "       -0.22954734, -0.06552084, -0.26864716, -0.08444916, -0.06897365,\n",
       "        0.02400049,  0.28691232,  0.18096507,  0.35332122,  0.41423666,\n",
       "        0.29772514,  0.21115734,  0.12476551, -0.20627457,  0.05486516,\n",
       "       -0.04880275,  0.15881084, -0.04061431,  0.24600899, -0.20466897,\n",
       "       -0.497495  ,  0.04915139, -0.00640312,  0.09924198,  0.29316729,\n",
       "        0.07550415,  0.1385843 , -0.22198561,  0.36000142,  0.00376199,\n",
       "       -0.27331766, -0.01892789, -0.4104999 , -0.04428067,  0.14724417,\n",
       "        0.04519389, -0.11888632, -0.15630791, -0.19232243, -0.00072458,\n",
       "       -0.00894006,  0.00645099, -0.17698105,  0.18359262, -0.02536169,\n",
       "        0.13944486,  0.19084838, -0.15595111, -0.08706887, -0.08401818,\n",
       "        0.2206317 , -0.30213806,  0.08299336, -0.27539951,  0.0411518 ,\n",
       "        0.0790611 ,  0.13097727,  0.04053749, -0.15247545, -0.01305306,\n",
       "       -0.14644669,  0.17710176,  0.02129177,  0.12416809, -0.21652454,\n",
       "        0.13589293, -0.1705557 ,  0.21433395,  0.31317532, -0.46994513,\n",
       "        0.38475007, -0.31891325,  0.22100943, -0.07125302,  0.03479258,\n",
       "       -0.27036607,  0.00408293, -0.07516423,  0.14362277, -0.10351658,\n",
       "        0.1784676 ,  0.16053006, -0.28257549, -0.2952725 , -0.06159366,\n",
       "       -0.04024286, -0.17420051,  0.01863004,  0.13961446,  0.02666727], dtype=float32)"
      ]
     },
     "execution_count": 149,
     "metadata": {},
     "output_type": "execute_result"
    }
   ],
   "source": [
    "model['command']"
   ]
  },
  {
   "cell_type": "code",
   "execution_count": 150,
   "metadata": {
    "scrolled": true
   },
   "outputs": [
    {
     "data": {
      "text/plain": [
       "0.96543006049792868"
      ]
     },
     "execution_count": 150,
     "metadata": {},
     "output_type": "execute_result"
    }
   ],
   "source": [
    "model.wv.similarity('command','arya')"
   ]
  },
  {
   "cell_type": "code",
   "execution_count": 151,
   "metadata": {},
   "outputs": [
    {
     "data": {
      "text/plain": [
       "0.97520028046232166"
      ]
     },
     "execution_count": 151,
     "metadata": {},
     "output_type": "execute_result"
    }
   ],
   "source": [
    "model.wv.similarity('command','cersei')"
   ]
  },
  {
   "cell_type": "code",
   "execution_count": 152,
   "metadata": {},
   "outputs": [
    {
     "data": {
      "text/plain": [
       "0.96485695573965591"
      ]
     },
     "execution_count": 152,
     "metadata": {},
     "output_type": "execute_result"
    }
   ],
   "source": [
    "model.wv.similarity('command','daenerys')"
   ]
  },
  {
   "cell_type": "code",
   "execution_count": 153,
   "metadata": {},
   "outputs": [
    {
     "data": {
      "text/plain": [
       "0.95711739336884938"
      ]
     },
     "execution_count": 153,
     "metadata": {},
     "output_type": "execute_result"
    }
   ],
   "source": [
    "model.wv.similarity('command','sansa')"
   ]
  },
  {
   "cell_type": "code",
   "execution_count": 154,
   "metadata": {},
   "outputs": [
    {
     "data": {
      "text/plain": [
       "0.95216860318631957"
      ]
     },
     "execution_count": 154,
     "metadata": {},
     "output_type": "execute_result"
    }
   ],
   "source": [
    "model.wv.similarity('command','jaime')"
   ]
  },
  {
   "cell_type": "code",
   "execution_count": 155,
   "metadata": {},
   "outputs": [
    {
     "data": {
      "text/plain": [
       "0.75862561072456902"
      ]
     },
     "execution_count": 155,
     "metadata": {},
     "output_type": "execute_result"
    }
   ],
   "source": [
    "model.wv.similarity('command','jon')"
   ]
  },
  {
   "cell_type": "code",
   "execution_count": 156,
   "metadata": {
    "scrolled": true
   },
   "outputs": [
    {
     "data": {
      "text/plain": [
       "0.83974997599779444"
      ]
     },
     "execution_count": 156,
     "metadata": {},
     "output_type": "execute_result"
    }
   ],
   "source": [
    "model.wv.similarity('command','tyrion')"
   ]
  },
  {
   "cell_type": "markdown",
   "metadata": {},
   "source": [
    "### Using Word2Vec Model for Entire Seasons Dialogue"
   ]
  },
  {
   "cell_type": "code",
   "execution_count": 157,
   "metadata": {
    "scrolled": true
   },
   "outputs": [
    {
     "data": {
      "text/html": [
       "<div>\n",
       "<table border=\"1\" class=\"dataframe\">\n",
       "  <thead>\n",
       "    <tr style=\"text-align: right;\">\n",
       "      <th></th>\n",
       "      <th>0</th>\n",
       "      <th>1</th>\n",
       "      <th>2</th>\n",
       "      <th>3</th>\n",
       "      <th>4</th>\n",
       "      <th>5</th>\n",
       "      <th>6</th>\n",
       "      <th>7</th>\n",
       "      <th>8</th>\n",
       "      <th>9</th>\n",
       "      <th>...</th>\n",
       "      <th>160</th>\n",
       "      <th>161</th>\n",
       "      <th>162</th>\n",
       "      <th>163</th>\n",
       "      <th>164</th>\n",
       "      <th>165</th>\n",
       "      <th>166</th>\n",
       "      <th>167</th>\n",
       "      <th>168</th>\n",
       "      <th>169</th>\n",
       "    </tr>\n",
       "    <tr>\n",
       "      <th>index</th>\n",
       "      <th></th>\n",
       "      <th></th>\n",
       "      <th></th>\n",
       "      <th></th>\n",
       "      <th></th>\n",
       "      <th></th>\n",
       "      <th></th>\n",
       "      <th></th>\n",
       "      <th></th>\n",
       "      <th></th>\n",
       "      <th></th>\n",
       "      <th></th>\n",
       "      <th></th>\n",
       "      <th></th>\n",
       "      <th></th>\n",
       "      <th></th>\n",
       "      <th></th>\n",
       "      <th></th>\n",
       "      <th></th>\n",
       "      <th></th>\n",
       "      <th></th>\n",
       "    </tr>\n",
       "  </thead>\n",
       "  <tbody>\n",
       "    <tr>\n",
       "      <th>DAENERYS</th>\n",
       "      <td>Isn't there anything else?</td>\n",
       "      <td>Everywhere?</td>\n",
       "      <td>The moon?</td>\n",
       "      <td>Leave me with her.</td>\n",
       "      <td>How old were you?</td>\n",
       "      <td>Nine?!</td>\n",
       "      <td>Can you teach me how to make the Khal happy?</td>\n",
       "      <td>Will it take three years?</td>\n",
       "      <td>Finish a man?</td>\n",
       "      <td>Well, she sounds like an interesting woman.</td>\n",
       "      <td>...</td>\n",
       "      <td>0</td>\n",
       "      <td>0</td>\n",
       "      <td>0</td>\n",
       "      <td>0</td>\n",
       "      <td>0</td>\n",
       "      <td>0</td>\n",
       "      <td>0</td>\n",
       "      <td>0</td>\n",
       "      <td>0</td>\n",
       "      <td>0</td>\n",
       "    </tr>\n",
       "    <tr>\n",
       "      <th>CERSEI</th>\n",
       "      <td>What do you mean?</td>\n",
       "      <td>It's no mercy, letting a child linger in suc...</td>\n",
       "      <td>I still can't believe you're going.</td>\n",
       "      <td>The children don't need to hear your filth.</td>\n",
       "      <td>This is your home.</td>\n",
       "      <td>It was years ago.</td>\n",
       "      <td>How dare you speak to your King in that man...</td>\n",
       "      <td>Your girl and that butcher's boy attacked my...</td>\n",
       "      <td>Joffrey told us what happened.</td>\n",
       "      <td>She's not.</td>\n",
       "      <td>...</td>\n",
       "      <td>0</td>\n",
       "      <td>0</td>\n",
       "      <td>0</td>\n",
       "      <td>0</td>\n",
       "      <td>0</td>\n",
       "      <td>0</td>\n",
       "      <td>0</td>\n",
       "      <td>0</td>\n",
       "      <td>0</td>\n",
       "      <td>0</td>\n",
       "    </tr>\n",
       "    <tr>\n",
       "      <th>ARYA</th>\n",
       "      <td>Watch.</td>\n",
       "      <td>Shut up.</td>\n",
       "      <td>I think so.</td>\n",
       "      <td>I know which end to use.</td>\n",
       "      <td>Sansa can keep her sewing needles.</td>\n",
       "      <td>What are you doing here?</td>\n",
       "      <td>Stop it!</td>\n",
       "      <td>Nymeria!</td>\n",
       "      <td>You've got to go.</td>\n",
       "      <td>Go!</td>\n",
       "      <td>...</td>\n",
       "      <td>0</td>\n",
       "      <td>0</td>\n",
       "      <td>0</td>\n",
       "      <td>0</td>\n",
       "      <td>0</td>\n",
       "      <td>0</td>\n",
       "      <td>0</td>\n",
       "      <td>0</td>\n",
       "      <td>0</td>\n",
       "      <td>0</td>\n",
       "    </tr>\n",
       "    <tr>\n",
       "      <th>TYRION</th>\n",
       "      <td>Before you go, you will call on Lord and Lad...</td>\n",
       "      <td>None.</td>\n",
       "      <td>One word and I'll hit you again.</td>\n",
       "      <td>Go!</td>\n",
       "      <td>Bread.</td>\n",
       "      <td>Beloved siblings.</td>\n",
       "      <td>Apparently not.</td>\n",
       "      <td>The Maester says the boy may live.</td>\n",
       "      <td>Only the gods know for certain.</td>\n",
       "      <td>Where's your sense of wonder?</td>\n",
       "      <td>...</td>\n",
       "      <td>And where are they?</td>\n",
       "      <td>The Stark boy appears to be less green than...</td>\n",
       "      <td>There's your peace.</td>\n",
       "      <td>Half wrong.</td>\n",
       "      <td>And do what?</td>\n",
       "      <td>So it would seem.</td>\n",
       "      <td>No, he said l couldn't take   with me to Ki...</td>\n",
       "      <td>What?</td>\n",
       "      <td>l believe he used the word \"whore\".</td>\n",
       "      <td>My father's probably the most powerful man ...</td>\n",
       "    </tr>\n",
       "    <tr>\n",
       "      <th>SANSA</th>\n",
       "      <td>Practicing for what?</td>\n",
       "      <td>The Hound killed your friend.</td>\n",
       "      <td>You're an idiot.</td>\n",
       "      <td>I haven't played with dolls since I was eight.</td>\n",
       "      <td>What if I only have girls?</td>\n",
       "      <td>Jeyne Poole's mother had five children, all ...</td>\n",
       "      <td>But what if?</td>\n",
       "      <td>And everyone would hate me.</td>\n",
       "      <td>Joffrey does.</td>\n",
       "      <td>Aegon the Conqueror.</td>\n",
       "      <td>...</td>\n",
       "      <td>0</td>\n",
       "      <td>0</td>\n",
       "      <td>0</td>\n",
       "      <td>0</td>\n",
       "      <td>0</td>\n",
       "      <td>0</td>\n",
       "      <td>0</td>\n",
       "      <td>0</td>\n",
       "      <td>0</td>\n",
       "      <td>0</td>\n",
       "    </tr>\n",
       "  </tbody>\n",
       "</table>\n",
       "<p>5 rows × 170 columns</p>\n",
       "</div>"
      ],
      "text/plain": [
       "                                                        0    \\\n",
       "index                                                         \n",
       "DAENERYS                         Isn't there anything else?   \n",
       "CERSEI                                    What do you mean?   \n",
       "ARYA                                                 Watch.   \n",
       "TYRION      Before you go, you will call on Lord and Lad...   \n",
       "SANSA                                  Practicing for what?   \n",
       "\n",
       "                                                        1    \\\n",
       "index                                                         \n",
       "DAENERYS                                        Everywhere?   \n",
       "CERSEI      It's no mercy, letting a child linger in suc...   \n",
       "ARYA                                               Shut up.   \n",
       "TYRION                                                None.   \n",
       "SANSA                         The Hound killed your friend.   \n",
       "\n",
       "                                            2    \\\n",
       "index                                             \n",
       "DAENERYS                              The moon?   \n",
       "CERSEI      I still can't believe you're going.   \n",
       "ARYA                                I think so.   \n",
       "TYRION         One word and I'll hit you again.   \n",
       "SANSA                          You're an idiot.   \n",
       "\n",
       "                                                       3    \\\n",
       "index                                                        \n",
       "DAENERYS                                Leave me with her.   \n",
       "CERSEI         The children don't need to hear your filth.   \n",
       "ARYA                              I know which end to use.   \n",
       "TYRION                                                 Go!   \n",
       "SANSA       I haven't played with dolls since I was eight.   \n",
       "\n",
       "                                            4    \\\n",
       "index                                             \n",
       "DAENERYS                      How old were you?   \n",
       "CERSEI                       This is your home.   \n",
       "ARYA         Sansa can keep her sewing needles.   \n",
       "TYRION                                   Bread.   \n",
       "SANSA                What if I only have girls?   \n",
       "\n",
       "                                                        5    \\\n",
       "index                                                         \n",
       "DAENERYS                                             Nine?!   \n",
       "CERSEI                                    It was years ago.   \n",
       "ARYA                               What are you doing here?   \n",
       "TYRION                                    Beloved siblings.   \n",
       "SANSA       Jeyne Poole's mother had five children, all ...   \n",
       "\n",
       "                                                        6    \\\n",
       "index                                                         \n",
       "DAENERYS       Can you teach me how to make the Khal happy?   \n",
       "CERSEI       How dare you speak to your King in that man...   \n",
       "ARYA                                               Stop it!   \n",
       "TYRION                                      Apparently not.   \n",
       "SANSA                                          But what if?   \n",
       "\n",
       "                                                        7    \\\n",
       "index                                                         \n",
       "DAENERYS                          Will it take three years?   \n",
       "CERSEI      Your girl and that butcher's boy attacked my...   \n",
       "ARYA                                               Nymeria!   \n",
       "TYRION                   The Maester says the boy may live.   \n",
       "SANSA                           And everyone would hate me.   \n",
       "\n",
       "                                        8    \\\n",
       "index                                         \n",
       "DAENERYS                      Finish a man?   \n",
       "CERSEI       Joffrey told us what happened.   \n",
       "ARYA                      You've got to go.   \n",
       "TYRION      Only the gods know for certain.   \n",
       "SANSA                         Joffrey does.   \n",
       "\n",
       "                                                     9    \\\n",
       "index                                                      \n",
       "DAENERYS     Well, she sounds like an interesting woman.   \n",
       "CERSEI                                        She's not.   \n",
       "ARYA                                                 Go!   \n",
       "TYRION                     Where's your sense of wonder?   \n",
       "SANSA                               Aegon the Conqueror.   \n",
       "\n",
       "                                ...                          \\\n",
       "index                           ...                           \n",
       "DAENERYS                        ...                           \n",
       "CERSEI                          ...                           \n",
       "ARYA                            ...                           \n",
       "TYRION                          ...                           \n",
       "SANSA                           ...                           \n",
       "\n",
       "                             160  \\\n",
       "index                              \n",
       "DAENERYS                       0   \n",
       "CERSEI                         0   \n",
       "ARYA                           0   \n",
       "TYRION       And where are they?   \n",
       "SANSA                          0   \n",
       "\n",
       "                                                        161  \\\n",
       "index                                                         \n",
       "DAENERYS                                                  0   \n",
       "CERSEI                                                    0   \n",
       "ARYA                                                      0   \n",
       "TYRION       The Stark boy appears to be less green than...   \n",
       "SANSA                                                     0   \n",
       "\n",
       "                             162             163              164  \\\n",
       "index                                                               \n",
       "DAENERYS                       0               0                0   \n",
       "CERSEI                         0               0                0   \n",
       "ARYA                           0               0                0   \n",
       "TYRION       There's your peace.     Half wrong.     And do what?   \n",
       "SANSA                          0               0                0   \n",
       "\n",
       "                           165  \\\n",
       "index                            \n",
       "DAENERYS                     0   \n",
       "CERSEI                       0   \n",
       "ARYA                         0   \n",
       "TYRION       So it would seem.   \n",
       "SANSA                        0   \n",
       "\n",
       "                                                        166       167  \\\n",
       "index                                                                   \n",
       "DAENERYS                                                  0         0   \n",
       "CERSEI                                                    0         0   \n",
       "ARYA                                                      0         0   \n",
       "TYRION       No, he said l couldn't take   with me to Ki...     What?   \n",
       "SANSA                                                     0         0   \n",
       "\n",
       "                                             168  \\\n",
       "index                                              \n",
       "DAENERYS                                       0   \n",
       "CERSEI                                         0   \n",
       "ARYA                                           0   \n",
       "TYRION       l believe he used the word \"whore\".   \n",
       "SANSA                                          0   \n",
       "\n",
       "                                                        169  \n",
       "index                                                        \n",
       "DAENERYS                                                  0  \n",
       "CERSEI                                                    0  \n",
       "ARYA                                                      0  \n",
       "TYRION       My father's probably the most powerful man ...  \n",
       "SANSA                                                     0  \n",
       "\n",
       "[5 rows x 170 columns]"
      ]
     },
     "execution_count": 157,
     "metadata": {},
     "output_type": "execute_result"
    }
   ],
   "source": [
    "season_one_dialogue.head()"
   ]
  },
  {
   "cell_type": "code",
   "execution_count": 158,
   "metadata": {
    "collapsed": true
   },
   "outputs": [],
   "source": [
    "season_one_dialogue.columns = range(len(season_one_dialogue.columns))\n",
    "season_one_model = pd.DataFrame()\n",
    "\n",
    "season_five_dialogue.columns = range(len(season_five_dialogue.columns))\n",
    "season_five_model = pd.DataFrame()\n",
    "\n",
    "season_six_dialogue.columns = range(len(season_six_dialogue.columns))\n",
    "season_six_model = pd.DataFrame()\n",
    "\n",
    "season_seven_dialogue.columns = range(len(season_seven_dialogue.columns))\n",
    "season_seven_model = pd.DataFrame()"
   ]
  },
  {
   "cell_type": "code",
   "execution_count": 159,
   "metadata": {},
   "outputs": [
    {
     "ename": "TypeError",
     "evalue": "'int' object is not iterable",
     "output_type": "error",
     "traceback": [
      "\u001b[0;31m---------------------------------------------------------------------------\u001b[0m",
      "\u001b[0;31mTypeError\u001b[0m                                 Traceback (most recent call last)",
      "\u001b[0;32m<ipython-input-159-965a1165fd6d>\u001b[0m in \u001b[0;36m<module>\u001b[0;34m()\u001b[0m\n\u001b[1;32m      1\u001b[0m \u001b[0;32mfor\u001b[0m \u001b[0mi\u001b[0m \u001b[0;32min\u001b[0m \u001b[0mrange\u001b[0m\u001b[0;34m(\u001b[0m\u001b[0mlen\u001b[0m\u001b[0;34m(\u001b[0m\u001b[0mseason_one_dialogue\u001b[0m\u001b[0;34m.\u001b[0m\u001b[0mcolumns\u001b[0m\u001b[0;34m)\u001b[0m\u001b[0;34m)\u001b[0m\u001b[0;34m:\u001b[0m\u001b[0;34m\u001b[0m\u001b[0m\n\u001b[0;32m----> 2\u001b[0;31m     \u001b[0mseason_one_model\u001b[0m\u001b[0;34m[\u001b[0m\u001b[0;34m'model'\u001b[0m \u001b[0;34m+\u001b[0m \u001b[0mstr\u001b[0m\u001b[0;34m(\u001b[0m\u001b[0mi\u001b[0m\u001b[0;34m)\u001b[0m \u001b[0;34m]\u001b[0m \u001b[0;34m=\u001b[0m \u001b[0mseason_one_dialogue\u001b[0m\u001b[0;34m[\u001b[0m\u001b[0mi\u001b[0m\u001b[0;34m]\u001b[0m\u001b[0;34m.\u001b[0m\u001b[0mapply\u001b[0m\u001b[0;34m(\u001b[0m\u001b[0mmodel\u001b[0m\u001b[0;34m.\u001b[0m\u001b[0mwv\u001b[0m\u001b[0;34m.\u001b[0m\u001b[0msimilarity\u001b[0m\u001b[0;34m(\u001b[0m\u001b[0;34m'command'\u001b[0m\u001b[0;34m,\u001b[0m\u001b[0mi\u001b[0m\u001b[0;34m)\u001b[0m\u001b[0;34m)\u001b[0m\u001b[0;34m\u001b[0m\u001b[0m\n\u001b[0m\u001b[1;32m      3\u001b[0m \u001b[0;34m\u001b[0m\u001b[0m\n\u001b[1;32m      4\u001b[0m \u001b[0mseason_one_model\u001b[0m\u001b[0;34m.\u001b[0m\u001b[0mhead\u001b[0m\u001b[0;34m(\u001b[0m\u001b[0;34m)\u001b[0m\u001b[0;34m\u001b[0m\u001b[0m\n",
      "\u001b[0;32m/Users/zoemarkovits/anaconda/lib/python2.7/site-packages/gensim/models/keyedvectors.pyc\u001b[0m in \u001b[0;36msimilarity\u001b[0;34m(self, w1, w2)\u001b[0m\n\u001b[1;32m    607\u001b[0m \u001b[0;34m\u001b[0m\u001b[0m\n\u001b[1;32m    608\u001b[0m         \"\"\"\n\u001b[0;32m--> 609\u001b[0;31m         \u001b[0;32mreturn\u001b[0m \u001b[0mdot\u001b[0m\u001b[0;34m(\u001b[0m\u001b[0mmatutils\u001b[0m\u001b[0;34m.\u001b[0m\u001b[0munitvec\u001b[0m\u001b[0;34m(\u001b[0m\u001b[0mself\u001b[0m\u001b[0;34m[\u001b[0m\u001b[0mw1\u001b[0m\u001b[0;34m]\u001b[0m\u001b[0;34m)\u001b[0m\u001b[0;34m,\u001b[0m \u001b[0mmatutils\u001b[0m\u001b[0;34m.\u001b[0m\u001b[0munitvec\u001b[0m\u001b[0;34m(\u001b[0m\u001b[0mself\u001b[0m\u001b[0;34m[\u001b[0m\u001b[0mw2\u001b[0m\u001b[0;34m]\u001b[0m\u001b[0;34m)\u001b[0m\u001b[0;34m)\u001b[0m\u001b[0;34m\u001b[0m\u001b[0m\n\u001b[0m\u001b[1;32m    610\u001b[0m \u001b[0;34m\u001b[0m\u001b[0m\n\u001b[1;32m    611\u001b[0m     \u001b[0;32mdef\u001b[0m \u001b[0mn_similarity\u001b[0m\u001b[0;34m(\u001b[0m\u001b[0mself\u001b[0m\u001b[0;34m,\u001b[0m \u001b[0mws1\u001b[0m\u001b[0;34m,\u001b[0m \u001b[0mws2\u001b[0m\u001b[0;34m)\u001b[0m\u001b[0;34m:\u001b[0m\u001b[0;34m\u001b[0m\u001b[0m\n",
      "\u001b[0;32m/Users/zoemarkovits/anaconda/lib/python2.7/site-packages/gensim/models/keyedvectors.pyc\u001b[0m in \u001b[0;36m__getitem__\u001b[0;34m(self, words)\u001b[0m\n\u001b[1;32m    589\u001b[0m             \u001b[0;32mreturn\u001b[0m \u001b[0mself\u001b[0m\u001b[0;34m.\u001b[0m\u001b[0mword_vec\u001b[0m\u001b[0;34m(\u001b[0m\u001b[0mwords\u001b[0m\u001b[0;34m)\u001b[0m\u001b[0;34m\u001b[0m\u001b[0m\n\u001b[1;32m    590\u001b[0m \u001b[0;34m\u001b[0m\u001b[0m\n\u001b[0;32m--> 591\u001b[0;31m         \u001b[0;32mreturn\u001b[0m \u001b[0mvstack\u001b[0m\u001b[0;34m(\u001b[0m\u001b[0;34m[\u001b[0m\u001b[0mself\u001b[0m\u001b[0;34m.\u001b[0m\u001b[0mword_vec\u001b[0m\u001b[0;34m(\u001b[0m\u001b[0mword\u001b[0m\u001b[0;34m)\u001b[0m \u001b[0;32mfor\u001b[0m \u001b[0mword\u001b[0m \u001b[0;32min\u001b[0m \u001b[0mwords\u001b[0m\u001b[0;34m]\u001b[0m\u001b[0;34m)\u001b[0m\u001b[0;34m\u001b[0m\u001b[0m\n\u001b[0m\u001b[1;32m    592\u001b[0m \u001b[0;34m\u001b[0m\u001b[0m\n\u001b[1;32m    593\u001b[0m     \u001b[0;32mdef\u001b[0m \u001b[0m__contains__\u001b[0m\u001b[0;34m(\u001b[0m\u001b[0mself\u001b[0m\u001b[0;34m,\u001b[0m \u001b[0mword\u001b[0m\u001b[0;34m)\u001b[0m\u001b[0;34m:\u001b[0m\u001b[0;34m\u001b[0m\u001b[0m\n",
      "\u001b[0;31mTypeError\u001b[0m: 'int' object is not iterable"
     ]
    }
   ],
   "source": [
    "for i in range(len(season_one_dialogue.columns)):\n",
    "    season_one_model['model' + str(i) ] = season_one_dialogue[i].apply(model.wv.similarity('command',i))\n",
    "    \n",
    "season_one_model.head()    "
   ]
  },
  {
   "cell_type": "code",
   "execution_count": null,
   "metadata": {
    "collapsed": true
   },
   "outputs": [],
   "source": []
  },
  {
   "cell_type": "code",
   "execution_count": null,
   "metadata": {
    "collapsed": true
   },
   "outputs": [],
   "source": []
  },
  {
   "cell_type": "code",
   "execution_count": null,
   "metadata": {
    "collapsed": true
   },
   "outputs": [],
   "source": []
  },
  {
   "cell_type": "code",
   "execution_count": null,
   "metadata": {
    "collapsed": true
   },
   "outputs": [],
   "source": []
  },
  {
   "cell_type": "code",
   "execution_count": null,
   "metadata": {
    "collapsed": true
   },
   "outputs": [],
   "source": []
  },
  {
   "cell_type": "markdown",
   "metadata": {
    "collapsed": true
   },
   "source": [
    "## Dependency Parsing"
   ]
  },
  {
   "cell_type": "code",
   "execution_count": 160,
   "metadata": {
    "collapsed": true
   },
   "outputs": [],
   "source": [
    "String_AryaS1 = ' '.join(AryaS1)\n",
    "String_AryaS5 = ' '.join(AryaS5)\n",
    "String_AryaS6 = ' '.join(AryaS6)\n",
    "String_AryaS7 = ' '.join(AryaS7)\n",
    "\n",
    "String_CerseiS1 = ' '.join(CerseiS1)\n",
    "String_CerseiS5 = ' '.join(CerseiS5)\n",
    "String_CerseiS6 = ' '.join(CerseiS6)\n",
    "String_CerseiS7 = ' '.join(CerseiS7)\n",
    "\n",
    "String_DaenerysS1 = ' '.join(DaenerysS1)\n",
    "String_DaenerysS5 = ' '.join(DaenerysS5)\n",
    "String_DaenerysS6 = ' '.join(DaenerysS6)\n",
    "String_DaenerysS7 = ' '.join(DaenerysS7)\n",
    "\n",
    "String_SansaS1 = ' '.join(SansaS1)\n",
    "String_SansaS5 = ' '.join(SansaS5)\n",
    "String_SansaS6 = ' '.join(SansaS6)\n",
    "String_SansaS7 = ' '.join(SansaS7)\n",
    "\n",
    "String_JaimeS1 = ' '.join(JaimeS1)\n",
    "String_JaimeS5 = ' '.join(JaimeS5)\n",
    "String_JaimeS6 = ' '.join(JaimeS6)\n",
    "String_JaimeS7 = ' '.join(JaimeS7)\n",
    "\n",
    "String_JonS1 = ' '.join(JonS1)\n",
    "String_JonS5 = ' '.join(JonS5)\n",
    "String_JonS6 = ' '.join(JonS6)\n",
    "String_JonS7 = ' '.join(JonS7)\n",
    "\n",
    "String_TyrionS1 = ' '.join(TyrionS1)\n",
    "String_TyrionS5 = ' '.join(TyrionS5)\n",
    "String_TyrionS6 = ' '.join(TyrionS6)\n",
    "String_TyrionS7 = ' '.join(TyrionS7)"
   ]
  },
  {
   "cell_type": "code",
   "execution_count": 161,
   "metadata": {
    "scrolled": true
   },
   "outputs": [
    {
     "data": {
      "text/plain": [
       "u\"  Watch.    Shut up.   I think so.    I know which end to use.    Sansa can keep her sewing needles.   What are you doing here?   Stop it!    Nymeria!    You've got to go.    Go!   No.    That's not true!    That's not what happened!    Liar!   Liar!    Liar liar liar!   Lady wasn't there!    I'm practicing.   The Prince.   The Hound does whatever the Prince tells him to do.   You're a liar.   Go away!    Mine.   I wasn't playing.    It's called Needle.   Stick 'em with the pointy end.   I was trying to learn.   I hate them!   So was I!   But how you can let her marry someone like that?   Winter is coming.   I don't hate her.   I can keep it?    Who are you?    It's too heavy.   What if I drop it?   I'm a girl.   Syrio says every hurt is a lesson and every lesson makes you better.   Now that Bran's awake will he come live with us?  He wants to be a knight of the King\\u2019s Guard.   Can I be Lord of a holdfast?   Why do they call you Littlefinger?   I'm not a beggar.   I want to see my father.   My father is Hand of the King!   They said they were going to kill you.   I didn't see them, but I think one was fat.   I'm not lying!   I'm a girl!   How many guards does my father have?   You wouldn't let anyone kill him, would you?   They killed Jory.    Yes -   Syrio Forel   I don\\u2019t like dolls and k -   Syrio Forel    Are you dying because of your leg?    You can\\u2019t.    Can\\u2019t we take Syrio back with us?   Seven hells.   The lion\\u2019s not his sigil, idiot.    Come on!    You said right, but you went left.    Only 'cause you lied.    I was so.    My father wouldn't send you.    And I don't have to go with you if I don't want.    Come with me.    Not today.    Not today.    Needle.    What do you want?    Leave me be.    Stay away!    How about a nice fat pigeon?    Do you have any stale ones from yesterday?    Hey, where's everyone going?    Who?    Let me go.    l'm not a boy!    Arry.      You want it?    lt was a gift.    Which are you?\""
      ]
     },
     "execution_count": 161,
     "metadata": {},
     "output_type": "execute_result"
    }
   ],
   "source": [
    "String_AryaS1"
   ]
  },
  {
   "cell_type": "code",
   "execution_count": 189,
   "metadata": {
    "collapsed": true
   },
   "outputs": [],
   "source": [
    "import spacy\n",
    "nlp = spacy.load('en_core_web_sm')"
   ]
  },
  {
   "cell_type": "code",
   "execution_count": 185,
   "metadata": {
    "collapsed": true
   },
   "outputs": [],
   "source": [
    "NLP_AryaS1 = nlp(String_AryaS1)\n",
    "NLP_AryaS5 = nlp(String_AryaS5)\n",
    "NLP_AryaS6 = nlp(String_AryaS6)\n",
    "NLP_AryaS7 = nlp(String_AryaS7)\n",
    "\n",
    "NLP_CerseiS1 = nlp(String_CerseiS1)\n",
    "NLP_CerseiS5 = nlp(String_CerseiS5)\n",
    "NLP_CerseiS6 = nlp(String_CerseiS6)\n",
    "NLP_CerseiS7 = nlp(String_CerseiS7)\n",
    "\n",
    "NLP_DaenerysS1 = nlp(String_DaenerysS1)\n",
    "NLP_DaenerysS5 = nlp(String_DaenerysS5)\n",
    "NLP_DaenerysS6 = nlp(String_DaenerysS6)\n",
    "NLP_DaenerysS7 = nlp(String_DaenerysS7)\n",
    "\n",
    "NLP_SansaS1 = nlp(String_SansaS1)\n",
    "NLP_SansaS5 = nlp(String_SansaS5)\n",
    "NLP_SansaS6 = nlp(String_SansaS6)\n",
    "NLP_SansaS7 = nlp(String_SansaS7)\n",
    "\n",
    "NLP_JaimeS1 = nlp(String_JaimeS1)\n",
    "NLP_JaimeS5 = nlp(String_JaimeS5)\n",
    "NLP_JaimeS6 = nlp(String_JaimeS6)\n",
    "NLP_JaimeS7 = nlp(String_JaimeS7)\n",
    "\n",
    "NLP_JonS1 = nlp(String_JonS1)\n",
    "NLP_JonS5 = nlp(String_JonS5)\n",
    "NLP_JonS6 = nlp(String_JonS6)\n",
    "NLP_JonS7 = nlp(String_JonS7)\n",
    "\n",
    "NLP_TyrionS1 = nlp(String_TyrionS1)\n",
    "NLP_TyrionS5 = nlp(String_TyrionS5)\n",
    "NLP_TyrionS6 = nlp(String_TyrionS6)\n",
    "NLP_TyrionS7 = nlp(String_TyrionS7)"
   ]
  },
  {
   "cell_type": "code",
   "execution_count": 186,
   "metadata": {
    "scrolled": true
   },
   "outputs": [
    {
     "data": {
      "text/plain": [
       "spacy.tokens.doc.Doc"
      ]
     },
     "execution_count": 186,
     "metadata": {},
     "output_type": "execute_result"
    }
   ],
   "source": [
    "type(NLP_AryaS1)"
   ]
  },
  {
   "cell_type": "code",
   "execution_count": 187,
   "metadata": {},
   "outputs": [
    {
     "data": {
      "text/plain": [
       "  Watch.    Shut up.   I think so.    I know which end to use.    Sansa can keep her sewing needles.   What are you doing here?   Stop it!    Nymeria!    You've got to go.    Go!   No.    That's not true!    That's not what happened!    Liar!   Liar!    Liar liar liar!   Lady wasn't there!    I'm practicing.   The Prince.   The Hound does whatever the Prince tells him to do.   You're a liar.   Go away!    Mine.   I wasn't playing.    It's called Needle.   Stick 'em with the pointy end.   I was trying to learn.   I hate them!   So was I!   But how you can let her marry someone like that?   Winter is coming.   I don't hate her.   I can keep it?    Who are you?    It's too heavy.   What if I drop it?   I'm a girl.   Syrio says every hurt is a lesson and every lesson makes you better.   Now that Bran's awake will he come live with us?  He wants to be a knight of the King’s Guard.   Can I be Lord of a holdfast?   Why do they call you Littlefinger?   I'm not a beggar.   I want to see my father.   My father is Hand of the King!   They said they were going to kill you.   I didn't see them, but I think one was fat.   I'm not lying!   I'm a girl!   How many guards does my father have?   You wouldn't let anyone kill him, would you?   They killed Jory.    Yes -   Syrio Forel   I don’t like dolls and k -   Syrio Forel    Are you dying because of your leg?    You can’t.    Can’t we take Syrio back with us?   Seven hells.   The lion’s not his sigil, idiot.    Come on!    You said right, but you went left.    Only 'cause you lied.    I was so.    My father wouldn't send you.    And I don't have to go with you if I don't want.    Come with me.    Not today.    Not today.    Needle.    What do you want?    Leave me be.    Stay away!    How about a nice fat pigeon?    Do you have any stale ones from yesterday?    Hey, where's everyone going?    Who?    Let me go.    l'm not a boy!    Arry.      You want it?    lt was a gift.    Which are you?"
      ]
     },
     "execution_count": 187,
     "metadata": {},
     "output_type": "execute_result"
    }
   ],
   "source": [
    "NLP_AryaS1"
   ]
  },
  {
   "cell_type": "code",
   "execution_count": 191,
   "metadata": {
    "collapsed": true
   },
   "outputs": [],
   "source": [
    "for word in NLP_AryaS1:\n",
    "    print word.tag_ \n",
    "    print word.pos_"
   ]
  },
  {
   "cell_type": "code",
   "execution_count": null,
   "metadata": {},
   "outputs": [],
   "source": []
  },
  {
   "cell_type": "code",
   "execution_count": null,
   "metadata": {
    "collapsed": true
   },
   "outputs": [],
   "source": []
  },
  {
   "cell_type": "code",
   "execution_count": null,
   "metadata": {
    "collapsed": true
   },
   "outputs": [],
   "source": []
  },
  {
   "cell_type": "code",
   "execution_count": null,
   "metadata": {
    "collapsed": true
   },
   "outputs": [],
   "source": []
  },
  {
   "cell_type": "code",
   "execution_count": null,
   "metadata": {
    "collapsed": true
   },
   "outputs": [],
   "source": []
  },
  {
   "cell_type": "code",
   "execution_count": null,
   "metadata": {
    "collapsed": true
   },
   "outputs": [],
   "source": []
  },
  {
   "cell_type": "code",
   "execution_count": null,
   "metadata": {
    "collapsed": true
   },
   "outputs": [],
   "source": []
  },
  {
   "cell_type": "code",
   "execution_count": null,
   "metadata": {
    "collapsed": true
   },
   "outputs": [],
   "source": []
  },
  {
   "cell_type": "markdown",
   "metadata": {},
   "source": [
    "## Speaker Predictions"
   ]
  },
  {
   "cell_type": "code",
   "execution_count": 166,
   "metadata": {
    "collapsed": true
   },
   "outputs": [],
   "source": [
    "String_Arya_Total = (String_AryaS1 + String_AryaS5 + String_AryaS6 + String_AryaS7)\n",
    "String_Cersei_Total = (String_CerseiS1 + String_CerseiS5 + String_CerseiS6 + String_CerseiS7)\n",
    "String_Daenerys_Total = (String_DaenerysS1 + String_DaenerysS5 + String_DaenerysS6 + String_DaenerysS7)\n",
    "String_Sansa_Total = (String_SansaS1 + String_SansaS5 + String_SansaS6 + String_SansaS7)\n",
    "String_Jaime_Total = (String_JaimeS1 + String_JaimeS5 + String_JaimeS6 + String_JaimeS7)\n",
    "String_Jon_Total = (String_JonS1 + String_JonS5 + String_JaimeS6 + String_JonS7)\n",
    "String_Tyrion_Total = (String_TyrionS1 + String_TyrionS5 + String_TyrionS6 + String_TyrionS7)"
   ]
  },
  {
   "cell_type": "code",
   "execution_count": 167,
   "metadata": {
    "collapsed": true
   },
   "outputs": [],
   "source": [
    "Main_Characters_Text = (String_Arya_Total + String_Cersei_Total + String_Daenerys_Total + String_Sansa_Total +\n",
    "                       String_Jaime_Total + String_Jon_Total + String_Tyrion_Total)"
   ]
  },
  {
   "cell_type": "code",
   "execution_count": 168,
   "metadata": {
    "scrolled": true
   },
   "outputs": [],
   "source": [
    "Main_Characters_Text = ''.join([i for i in Main_Characters_Text if not i.isdigit()])"
   ]
  },
  {
   "cell_type": "code",
   "execution_count": 169,
   "metadata": {},
   "outputs": [
    {
     "ename": "ValueError",
     "evalue": "Iterable over raw text documents expected, string object received.",
     "output_type": "error",
     "traceback": [
      "\u001b[0;31m---------------------------------------------------------------------------\u001b[0m",
      "\u001b[0;31mValueError\u001b[0m                                Traceback (most recent call last)",
      "\u001b[0;32m<ipython-input-169-4a3bd9d3b77d>\u001b[0m in \u001b[0;36m<module>\u001b[0;34m()\u001b[0m\n\u001b[1;32m      4\u001b[0m \u001b[0;34m\u001b[0m\u001b[0m\n\u001b[1;32m      5\u001b[0m \u001b[0mvectorizer\u001b[0m \u001b[0;34m=\u001b[0m \u001b[0mTfidfVectorizer\u001b[0m\u001b[0;34m(\u001b[0m\u001b[0mstop_words\u001b[0m\u001b[0;34m=\u001b[0m\u001b[0;34m\"english\"\u001b[0m\u001b[0;34m,\u001b[0m \u001b[0mngram_range\u001b[0m\u001b[0;34m=\u001b[0m\u001b[0;34m(\u001b[0m\u001b[0;36m1\u001b[0m\u001b[0;34m,\u001b[0m\u001b[0;36m2\u001b[0m\u001b[0;34m)\u001b[0m\u001b[0;34m)\u001b[0m\u001b[0;34m\u001b[0m\u001b[0m\n\u001b[0;32m----> 6\u001b[0;31m \u001b[0mdoc_vectors\u001b[0m \u001b[0;34m=\u001b[0m \u001b[0mvectorizer\u001b[0m\u001b[0;34m.\u001b[0m\u001b[0mfit_transform\u001b[0m\u001b[0;34m(\u001b[0m\u001b[0mMain_Characters_Text\u001b[0m\u001b[0;34m)\u001b[0m\u001b[0;34m\u001b[0m\u001b[0m\n\u001b[0m\u001b[1;32m      7\u001b[0m \u001b[0;34m\u001b[0m\u001b[0m\n\u001b[1;32m      8\u001b[0m classes = np.array(['Arya']*50 + ['Cersei']*50 + ['Daenerys']*50 + ['Sansa']*50 + ['Jaime']*50 \n",
      "\u001b[0;32m/Users/zoemarkovits/anaconda/lib/python2.7/site-packages/sklearn/feature_extraction/text.pyc\u001b[0m in \u001b[0;36mfit_transform\u001b[0;34m(self, raw_documents, y)\u001b[0m\n\u001b[1;32m   1350\u001b[0m             \u001b[0mTf\u001b[0m\u001b[0;34m-\u001b[0m\u001b[0midf\u001b[0m\u001b[0;34m-\u001b[0m\u001b[0mweighted\u001b[0m \u001b[0mdocument\u001b[0m\u001b[0;34m-\u001b[0m\u001b[0mterm\u001b[0m \u001b[0mmatrix\u001b[0m\u001b[0;34m.\u001b[0m\u001b[0;34m\u001b[0m\u001b[0m\n\u001b[1;32m   1351\u001b[0m         \"\"\"\n\u001b[0;32m-> 1352\u001b[0;31m         \u001b[0mX\u001b[0m \u001b[0;34m=\u001b[0m \u001b[0msuper\u001b[0m\u001b[0;34m(\u001b[0m\u001b[0mTfidfVectorizer\u001b[0m\u001b[0;34m,\u001b[0m \u001b[0mself\u001b[0m\u001b[0;34m)\u001b[0m\u001b[0;34m.\u001b[0m\u001b[0mfit_transform\u001b[0m\u001b[0;34m(\u001b[0m\u001b[0mraw_documents\u001b[0m\u001b[0;34m)\u001b[0m\u001b[0;34m\u001b[0m\u001b[0m\n\u001b[0m\u001b[1;32m   1353\u001b[0m         \u001b[0mself\u001b[0m\u001b[0;34m.\u001b[0m\u001b[0m_tfidf\u001b[0m\u001b[0;34m.\u001b[0m\u001b[0mfit\u001b[0m\u001b[0;34m(\u001b[0m\u001b[0mX\u001b[0m\u001b[0;34m)\u001b[0m\u001b[0;34m\u001b[0m\u001b[0m\n\u001b[1;32m   1354\u001b[0m         \u001b[0;31m# X is already a transformed view of raw_documents so\u001b[0m\u001b[0;34m\u001b[0m\u001b[0;34m\u001b[0m\u001b[0m\n",
      "\u001b[0;32m/Users/zoemarkovits/anaconda/lib/python2.7/site-packages/sklearn/feature_extraction/text.pyc\u001b[0m in \u001b[0;36mfit_transform\u001b[0;34m(self, raw_documents, y)\u001b[0m\n\u001b[1;32m    828\u001b[0m         \u001b[0;32mif\u001b[0m \u001b[0misinstance\u001b[0m\u001b[0;34m(\u001b[0m\u001b[0mraw_documents\u001b[0m\u001b[0;34m,\u001b[0m \u001b[0msix\u001b[0m\u001b[0;34m.\u001b[0m\u001b[0mstring_types\u001b[0m\u001b[0;34m)\u001b[0m\u001b[0;34m:\u001b[0m\u001b[0;34m\u001b[0m\u001b[0m\n\u001b[1;32m    829\u001b[0m             raise ValueError(\n\u001b[0;32m--> 830\u001b[0;31m                 \u001b[0;34m\"Iterable over raw text documents expected, \"\u001b[0m\u001b[0;34m\u001b[0m\u001b[0m\n\u001b[0m\u001b[1;32m    831\u001b[0m                 \"string object received.\")\n\u001b[1;32m    832\u001b[0m \u001b[0;34m\u001b[0m\u001b[0m\n",
      "\u001b[0;31mValueError\u001b[0m: Iterable over raw text documents expected, string object received."
     ]
    }
   ],
   "source": [
    "import numpy as np\n",
    "from sklearn.feature_extraction.text import TfidfVectorizer\n",
    "from sklearn.naive_bayes import MultinomialNB\n",
    "\n",
    "vectorizer = TfidfVectorizer(stop_words=\"english\", ngram_range=(1,2))\n",
    "doc_vectors = vectorizer.fit_transform(Main_Characters_Text)\n",
    "\n",
    "classes = np.array(['Arya']*50 + ['Cersei']*50 + ['Daenerys']*50 + ['Sansa']*50 + ['Jaime']*50 \n",
    "                   + ['Jon']*50 + ['Tyrion']*50)\n",
    "\n",
    "model = MultinomialNB().fit(doc_vectors, classes)"
   ]
  },
  {
   "cell_type": "code",
   "execution_count": null,
   "metadata": {
    "collapsed": true
   },
   "outputs": [],
   "source": []
  },
  {
   "cell_type": "code",
   "execution_count": null,
   "metadata": {
    "collapsed": true
   },
   "outputs": [],
   "source": []
  },
  {
   "cell_type": "code",
   "execution_count": null,
   "metadata": {
    "collapsed": true
   },
   "outputs": [],
   "source": []
  },
  {
   "cell_type": "code",
   "execution_count": null,
   "metadata": {
    "collapsed": true
   },
   "outputs": [],
   "source": []
  },
  {
   "cell_type": "code",
   "execution_count": null,
   "metadata": {
    "collapsed": true
   },
   "outputs": [],
   "source": []
  },
  {
   "cell_type": "code",
   "execution_count": null,
   "metadata": {
    "collapsed": true
   },
   "outputs": [],
   "source": []
  }
 ],
 "metadata": {
  "kernelspec": {
   "display_name": "Python 2",
   "language": "python",
   "name": "python2"
  },
  "language_info": {
   "codemirror_mode": {
    "name": "ipython",
    "version": 2
   },
   "file_extension": ".py",
   "mimetype": "text/x-python",
   "name": "python",
   "nbconvert_exporter": "python",
   "pygments_lexer": "ipython2",
   "version": "2.7.13"
  }
 },
 "nbformat": 4,
 "nbformat_minor": 2
}
